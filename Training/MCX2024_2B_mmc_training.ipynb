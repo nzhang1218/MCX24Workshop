{
  "cells": [
    {
      "cell_type": "markdown",
      "metadata": {
        "id": "view-in-github",
        "colab_type": "text"
      },
      "source": [
        "<a href=\"https://colab.research.google.com/github/COTILab/MCX24Workshop/blob/master/Training/MCX2024_2B_mmc_training.ipynb\" target=\"_parent\"><img src=\"https://colab.research.google.com/assets/colab-badge.svg\" alt=\"Open In Colab\"/></a>"
      ]
    },
    {
      "cell_type": "markdown",
      "source": [
        "![Workshop Logo](https://mcx.space/wiki/upload/mcx24_logo.png)\n",
        "# MCX Training Workshop 2024 - Day 2, Session 2A\n",
        "\n",
        "## Session 2A: MMCLAB Training"
      ],
      "metadata": {
        "id": "_g0kle7KqoeA"
      }
    },
    {
      "cell_type": "markdown",
      "source": [
        "> **Training Goals**: <font color='green'>In this unit, we teach users basic workflows of creating mesh-based Monte Carlo (mmc) simulations in MATLAB/Octave environment. We will cover mesh generation, mesh-retessellation, plotting of output data in multi-layered and complex domains.</font>\n"
      ],
      "metadata": {
        "id": "eD2_8MHdGJV2"
      }
    },
    {
      "cell_type": "markdown",
      "source": [
        "# <font color='orange'> **Introduction**\n",
        "\n",
        "MMC, or mesh-based Monte Carlo, is the result of [a series of productive research](https://mcx.space/wiki/index.cgi?Citation#MMC) since its initial proposal by our group [in 2010](https://www.osapublishing.org/boe/abstract.cfm?uri=boe-1-1-165).\n",
        "\n",
        "A key feature of the solver is its improved accuracy and efficiency in modelling curved surfaces.\n",
        "<div>\n",
        "<img src=\"https://drive.google.com/uc?export=view&id=1bYCMs_hTu5wjrWZgA8Df-2k4ySY3SXGJ\" width=\"600\"/>\n",
        "</div>\n",
        "\n",
        "This is relevant for tissues such as brain:\n",
        "<div>\n",
        "<img src=\"https://drive.google.com/uc?export=view&id=1ocENfEbO1zAuWDyGxs621dkOAWryhY4C\" width=\"800\"/>\n",
        "</div>\n"
      ],
      "metadata": {
        "id": "_TCQTmX132BY"
      }
    },
    {
      "cell_type": "markdown",
      "source": [
        "# <font color='orange'>Step 0: Setting up MCX and Octave environments within Google Colab</font>\n",
        "\n",
        "> **You must rerun all cells in Step 0 in appearance order when you start a new session, or after reconnect to a runtime**\n",
        "\n",
        "To run interactive Octave sessions inside a Google Colab Jupyter Notebook environment, we need to install the following dependencies\n",
        "- GNU Octave via `sudo apt-get install octave`\n",
        "- Oct2py Python module via `pip install oct2py`, and\n",
        "- enable Oct2py in Jupyter Notebook via \"magic command\" `%load_ext oct2py.ipython`\n",
        "\n",
        "<font color='green'>If you run this on Google Colab, please go to menu **Edit\\Notebook Settings\\Hardware accelerator**, and verify if it has already selected \"GPU\"; if not, please select the T4 GPU.</font>\n",
        "\n",
        "**Please note**: MCX/MCXLAB is GPU-accelerated. This notebook by default requests an NVIDIA GPU. Howevever, when you click on the run-button for the below section, your browser may fail to allocate a GPU runtime and ask you if you want to continue with a non-GPU runtime. If you choose to proceed without GPU support, you will have to run the [section immediately following the next section](#mcx_setup_opencl) to install OpenCL-based MCXLAB (called mcxlabcl) and utilize the CPU to run the rest of the tutorials. The OpenCL version of MCXLAB will work for all examples, but will be substentially slower to run (this tutorial also reduces the photon numbers accordingly to lower the runtime)."
      ],
      "metadata": {
        "id": "4BDNjVvZM7qK"
      }
    },
    {
      "cell_type": "code",
      "execution_count": null,
      "metadata": {
        "id": "bbO3hKIadvYn",
        "cellView": "form"
      },
      "outputs": [],
      "source": [
        "#@title <font color='orange'>Init 1: Initial setup of environment for running MCXLAB (run the below section once)</font>\n",
        "\n",
        "# install octave and oct2py\n",
        "! apt-get update && apt-get install octave jq libpocl2 pocl-opencl-icd libnvidia-compute-535   # install octave (a free matlab clone), jq and OpenCL runtimes\n",
        "! python3 -m pip install oct2py jdata bjdata matplotlib   # install oct2py, jdata, bjdata and matplotlib Python modules\n",
        "\n",
        "# add octave support to colab notebook\n",
        "%load_ext oct2py.ipython\n",
        "\n",
        "# download and unzip MCXStudio\n",
        "! rm -rf MCXStudio*\n",
        "! curl https://mcx.space/nightly/release/MCX24/MCXStudio-linux-x86_64-nightlybuild.zip -O MCXStudio-linux-x86_64-nightlybuild.zip # download MCX suite\n",
        "! unzip -o MCXStudio-linux-x86_64-nightlybuild.zip && rm -rf MCXStudio-linux-x86_64-nightlybuild.zip # unzip MCX suite\n",
        "\n",
        "# add executable to the shell's paths\n",
        "! cp -a \"$PWD/MCXStudio/MCXSuite/mcx/bin/mcx\" \"/usr/local/bin\"\n",
        "! cp -a \"$PWD/MCXStudio/MCXSuite/mcxcl/bin/mcxcl\" \"/usr/local/bin\"\n",
        "! cp -a \"$PWD/MCXStudio/MCXSuite/mmc/bin/mmc\" \"/usr/local/bin\"\n",
        "! cp -a \"$PWD/MCXStudio/MATLAB/zmat/octave/gnu-linux-x86_64/zipmat.mex\" \"$PWD/MCXStudio/MATLAB/zmat/\"\n",
        "\n",
        "# if a GPU runtime can not be allocated, run this section to setup OpenCL and MCXLAB-CL\n",
        "! [[ ! -f `which nvidia-smi` ]] && mv \"/usr/local/bin/mcxcl\" \"/usr/local/bin/mcx\"\n",
        "! mcx -L"
      ]
    },
    {
      "cell_type": "markdown",
      "source": [
        "### <font color='orange'>Init 2: Only need to run this once at the beginning</font>"
      ],
      "metadata": {
        "id": "3FuiSDH_w6Dh"
      }
    },
    {
      "cell_type": "code",
      "source": [
        "%%octave\n",
        "addpath([pwd filesep 'MCXStudio/MATLAB/mcxlab']);                 % add path to mcxlab\n",
        "addpath([pwd filesep 'MCXStudio/MCXSuite/mcx' filesep 'utils']);  % add path to mcx helper functions\n",
        "addpath([pwd filesep 'MCXStudio/MATLAB/mmclab']);                 % add path to mmclab\n",
        "addpath([pwd filesep 'MCXStudio/MCXSuite/mmc' filesep 'matlab']); % add path to mmc helper functions\n",
        "addpath([pwd filesep 'MCXStudio/MATLAB/iso2mesh']);               % add path to iso2mesh/jsonlab\n",
        "addpath([pwd filesep 'MCXStudio/MATLAB/brain2mesh']);             % add path to brain2mesh\n",
        "addpath([pwd filesep 'MCXStudio/MATLAB/zmat']);                   % add path to zmat for data compression\n",
        "addpath([pwd filesep 'MCXStudio/MATLAB/redbird-m/matlab']);       % add path to redbird-m\n",
        "addpath([pwd filesep 'MCXStudio/MATLAB/hyperspectral_demo']);     % add path to hyperspectral_demo for exec 4\n",
        "\n",
        "struct_levels_to_print(0);\n",
        "print_struct_array_contents(0);\n",
        "\n",
        "if(system('which nvidia-smi'))                   % if this runtime does not have NVIDIA GPU support\n",
        "    addpath([pwd filesep 'MCXStudio/MATLAB/mcxlabcl']);    % add path to mcxlabcl\n",
        "    USE_MCXCL=1;                                 % set USE_MCXCL flag in the base workspace\n",
        "end"
      ],
      "metadata": {
        "id": "sQov6LtveG93"
      },
      "execution_count": null,
      "outputs": []
    },
    {
      "cell_type": "markdown",
      "source": [
        "### <font color='orange'>Init 3: Verify your environments</font>\n",
        "\n",
        "---"
      ],
      "metadata": {
        "id": "oPiJ3kcF4MK2"
      }
    },
    {
      "cell_type": "code",
      "source": [
        "%%octave\n",
        "\n",
        "which mcx\n",
        "which s2m\n",
        "which zipmat\n",
        "\n",
        "mmclab('gpuinfo')     % use this command to list supported CPU or GPU in octave\n",
        "unix('mcx -L')        % use -L flag to list GPU in the command line"
      ],
      "metadata": {
        "id": "LnrnJOcJsQzW"
      },
      "execution_count": null,
      "outputs": []
    },
    {
      "cell_type": "markdown",
      "source": [
        "#  <font color='orange'> **Forward simulation in a layered slab**\n",
        "\n",
        "## **Key objectives of the section:**\n",
        "\n",
        "*   Meshing of simple layered domain\n",
        "*   Key MMC inputs\n",
        "*   Plotting MMC fluence and flux\n",
        "*   MMC advantages and limitations\n",
        "\n",
        "\n",
        "\n"
      ],
      "metadata": {
        "id": "Ws1_waT11r5U"
      }
    },
    {
      "cell_type": "markdown",
      "source": [
        "## **Mesh introduction/refresher**\n",
        "\n",
        "###**What is a mesh?**\n",
        "A mesh is a set of points in 3D space (**nodes**) and a series of relationships that attach them to one another.\n",
        "\n",
        "- In MMC, the smallest units of our meshes are **tetrahedrons**, which we call **elements (elem)**.\n",
        "    - Each tetrahedron elem has four **nodes**, one for each corner\n",
        "\n",
        "- We can also describe a mesh using just its boundary surfaces, this is called a surface mesh.\n",
        "    - surface meshes use triangular **faces** instead of tetrahedron\n",
        "    \n",
        "    ---\n",
        "Above: left - a hemisphere solid mesh, right - a hemisphere surface mesh"
      ],
      "metadata": {
        "id": "FAVp0Qp8Dd1X"
      }
    },
    {
      "cell_type": "markdown",
      "source": [
        "To create and modify meshes, we use the Iso2Mesh library.\n",
        "\n",
        "Several basic functions can be used to create an initial tetrahedral mesh, including:\n",
        "\n",
        "- meshgrid5\n",
        "- meshgrid6\n",
        "- meshabox\n",
        "- latticegrid\n",
        "- meshasphere\n",
        "- meshacylinder\n",
        "\n",
        "Documentation of the library can be found here: https://iso2mesh.sourceforge.net/cgi-bin/index.cgi/.\n",
        "\n",
        "\n"
      ],
      "metadata": {
        "id": "pihZcY4FWJ2r"
      }
    },
    {
      "cell_type": "markdown",
      "source": [
        "## **Explaining mesh variables**:\n",
        "\n",
        "A solid mesh can be created with two matrix variables:\n",
        "\n",
        " - The **node** variable stores all the coordinates of the points in the mesh\n",
        "    - it is always a three column matrix\n",
        "\n",
        " - The **elem** variable stores the index of all the nodes making up a tetrahedron in each row.\n",
        "    - it is usually a 4 column matrix (another column may be used to track materials)\n",
        "\n",
        "---\n",
        "One of the simplest meshes you can create is a cube or rectangular prism using the **meshgrid6** function. This function slices a rectangular prism into 6 equally sized tetrahedrons.\n",
        "\n",
        "The code below shows a a mesh created with this function and the variables that describe it.\n"
      ],
      "metadata": {
        "id": "DZnN0RfSZthb"
      }
    },
    {
      "cell_type": "code",
      "source": [
        "#@title **Creating a simple lattice**\n",
        "%%octave\n",
        "\n",
        "x_coordinates = [0, 110];\n",
        "y_coordinates = [0, 70];\n",
        "z_coordinates = [0, 80];\n",
        "[node, elem] = meshgrid6(x_coordinates, y_coordinates, z_coordinates);\n",
        "figure;\n",
        "caxis([0,10000]);\n",
        "plotmesh(node, elem);\n",
        "\n",
        "disp('The node values are:')\n",
        "disp(node);\n",
        "disp('Each row displays the coordinates of a node')\n",
        "disp('-----------------------------------------------------------')\n",
        "disp('The element values are:')\n",
        "disp(elem);\n",
        "disp('Each row displays the four IDs of nodes making up a tetrahedron')"
      ],
      "metadata": {
        "id": "F2s_1VB9aPZR",
        "cellView": "form"
      },
      "execution_count": null,
      "outputs": []
    },
    {
      "cell_type": "code",
      "source": [
        "#@title **Setting properties of a simple lattice**\n",
        "%%octave\n",
        "disp('We can add a column to elements for optical properties:')\n",
        "disp('Below, each tetrahedron is given its own material ID')\n",
        "disp('------------------------------------------------------------')\n",
        "disp('The element values are:')\n",
        "elem_with_mat = [elem, [1:size(elem,1)]'];\n",
        "disp(elem_with_mat);\n",
        "\n",
        "figure;\n",
        "plotmesh(node, elem_with_mat);\n",
        "colormap('jet');\n",
        "figure;\n",
        "plotmesh(node, elem_with_mat);\n",
        "view(-45,-45)\n",
        "\n",
        "cb = colorbar;\n",
        "colormap('jet');\n",
        "ylabel(cb,'Material ID','FontSize',30,'Rotation',270);"
      ],
      "metadata": {
        "id": "6FTEldW4uiNg",
        "cellView": "form"
      },
      "execution_count": null,
      "outputs": []
    },
    {
      "cell_type": "markdown",
      "source": [
        "##**Creating a 5-layered slab**\n",
        "\n",
        "The meshgrid6 function is useful but as we can see, it does not allow us to create **multiple property-labelled regions** easily.\n",
        "\n",
        "The **latticegrid** function allows us to create a **multi-layered slab** in two steps:\n",
        "\n",
        "\n"
      ],
      "metadata": {
        "id": "Rk-mthG1wNyO"
      }
    },
    {
      "cell_type": "markdown",
      "source": [
        "1. Specify dimensions for surface mesh"
      ],
      "metadata": {
        "id": "fXBZFYINyXDX"
      }
    },
    {
      "cell_type": "code",
      "source": [
        "%%octave\n",
        "\n",
        "% thickness of each layer in mm\n",
        "Thickness=[7.25,4.00,2.73,3.29,4.23];\n",
        "\n",
        "% prepare simulation mesh (a five layered slab of 50mm x 50mm x 50mm):\n",
        "% prepares a surface-only mesh:\n",
        "x_bounds = [0 50];\n",
        "y_bounds = [0 50];\n",
        "z_layer_heights = [0 Thickness(1,1) sum(Thickness(1,1:2)) sum(Thickness(1,1:3)) sum(Thickness(1,1:4)) 50];\n",
        "[nodes,faces]=latticegrid(x_bounds, y_bounds, z_layer_heights);\n"
      ],
      "metadata": {
        "id": "gdZN01Ekxnhg"
      },
      "execution_count": null,
      "outputs": []
    },
    {
      "cell_type": "markdown",
      "source": [
        "2. Convert the surface mesh to a solid mesh"
      ],
      "metadata": {
        "id": "LwK7sZoVyv08"
      }
    },
    {
      "cell_type": "code",
      "source": [
        "%%capture\n",
        "%%octave\n",
        "% prepares interior tetrahedrons for that mesh:\n",
        "% max_volume is very important and determines our mesh density\n",
        "% dramatically impacts performance:\n",
        "max_volume = 1000;\n",
        "\n",
        "[nodes,elems]=surf2mesh(nodes,faces,[],[],1,max_volume,[1 1 4;1 1 9;1 1 12;1 1 14.5;1 1 25]);\n"
      ],
      "metadata": {
        "id": "XHNLNcW6oDbx",
        "collapsed": true
      },
      "execution_count": null,
      "outputs": []
    },
    {
      "cell_type": "markdown",
      "source": [
        "Display key info and plot the mesh:"
      ],
      "metadata": {
        "id": "okNAiwyczfWL"
      }
    },
    {
      "cell_type": "code",
      "source": [
        "%%octave\n",
        "% display the size of the mesh\n",
        "disp('Size of the node matrix (rows) (columns):');\n",
        "disp(size(nodes));\n",
        "disp('Size of the element matrix (rows) (columns):');\n",
        "disp(size(elems));\n",
        "\n",
        "% plot the tetrahedral mesh to verify it is correct:\n",
        "plotmesh(nodes, elems);\n",
        "cb = colorbar;\n",
        "colormap('jet');\n",
        "ylabel(cb,'Material ID','FontSize',30,'Rotation',270);\n"
      ],
      "metadata": {
        "id": "oD0D-MIpzj2N"
      },
      "execution_count": null,
      "outputs": []
    },
    {
      "cell_type": "markdown",
      "source": [
        "## **Preparing MMC inputs**\n",
        "\n",
        "For the MMC simulation, we have to create a config struct.\n",
        "This struct can be named anything and will contain a series of settings and simulation parameters as fields.\n",
        "\n",
        "The bare essential fields are:\n",
        "- a mesh with nodes and elements\n",
        "- a list of properties for all element IDs\n",
        "- a source position and direction\n",
        "- Time gates and steps (in seconds)\n",
        "- number of photons"
      ],
      "metadata": {
        "id": "hQpSakylDoM0"
      }
    },
    {
      "cell_type": "markdown",
      "source": [
        "Delete any existing config variable:"
      ],
      "metadata": {
        "id": "pV8gAk9l1qR2"
      }
    },
    {
      "cell_type": "code",
      "source": [
        "%%octave\n",
        "clear cfg_mmc"
      ],
      "metadata": {
        "id": "b-qX40Nq1nrL"
      },
      "execution_count": null,
      "outputs": []
    },
    {
      "cell_type": "markdown",
      "source": [
        "Set the mesh for the simulation:"
      ],
      "metadata": {
        "id": "udYdBeY01Z2U"
      }
    },
    {
      "cell_type": "code",
      "source": [
        "%%octave\n",
        "% set the config values to the mesh variables\n",
        "cfg_mmc.node=nodes;\n",
        "cfg_mmc.elem=elems;\n"
      ],
      "metadata": {
        "id": "EmMrhCiPjf82"
      },
      "execution_count": null,
      "outputs": []
    },
    {
      "cell_type": "markdown",
      "source": [
        "Set the medium properties for background (air) and all 5 layers"
      ],
      "metadata": {
        "id": "mIDe9VBvOFow"
      }
    },
    {
      "cell_type": "code",
      "source": [
        "%%octave\n",
        "% set the medium properties:\n",
        "% labeling, row 1-air,2-scalp,3-skull,4-csf,5-gray matter,6-white matter\n",
        "cfg_mmc.prop=[0,0,1,1;\n",
        "              0.019, 7.8, 0.95, 1.37;\n",
        "              0.019, 7.8, 0.95, 1.37;\n",
        "              0.004, 0.009, 0.95, 1.37;\n",
        "              0.02, 9.0, 0.95, 1.37;\n",
        "              0.08, 10.9, 0.95, 1.37];\n"
      ],
      "metadata": {
        "id": "D9njHCUPOFFG"
      },
      "execution_count": null,
      "outputs": []
    },
    {
      "cell_type": "markdown",
      "source": [
        "Set the number of photons:\n",
        "(More = slower but less noisy results)"
      ],
      "metadata": {
        "id": "OdGz2_vz1zEK"
      }
    },
    {
      "cell_type": "code",
      "source": [
        "%%octave\n",
        "% set the number of photons\n",
        "number_of_photons=100000 # @param {type:\"slider\", min:0, max:100000, step:100}\n",
        "cfg_mmc.nphoton=number_of_photons;"
      ],
      "metadata": {
        "id": "GKyBeNPO1kYy"
      },
      "execution_count": null,
      "outputs": []
    },
    {
      "cell_type": "markdown",
      "source": [
        "Set the source position and direction:"
      ],
      "metadata": {
        "id": "NSp9Q4tE2Clt"
      }
    },
    {
      "cell_type": "code",
      "source": [
        "%%octave\n",
        "% set the source position and direction:\n",
        "cfg_mmc.srcpos=[25, 25, 0];\n",
        "cfg_mmc.srcdir=[0, 0, 1];\n"
      ],
      "metadata": {
        "id": "Wfe4Gpxh2Bmt"
      },
      "execution_count": null,
      "outputs": []
    },
    {
      "cell_type": "markdown",
      "source": [
        "Set the time gates and time steps:"
      ],
      "metadata": {
        "id": "rgw83rRx2UOW"
      }
    },
    {
      "cell_type": "code",
      "source": [
        "%%octave\n",
        "% set the time bounds of the simulation in seconds:\n",
        "cfg_mmc.tstart=0;\n",
        "cfg_mmc.tend=5e-9;\n",
        "cfg_mmc.tstep=5e-9;\n",
        "\n",
        "% while we're at it, set the output to fluence,\n",
        "% which is flux integrated by the time step\n",
        "cfg_mmc.outputtype='fluence';"
      ],
      "metadata": {
        "id": "M2RlGSFQ2MYy"
      },
      "execution_count": null,
      "outputs": []
    },
    {
      "cell_type": "markdown",
      "source": [
        "Choose a method for storing fluence:"
      ],
      "metadata": {
        "id": "_JvKKxiNQZvI"
      }
    },
    {
      "cell_type": "code",
      "source": [
        "%%octave\n",
        "MMC_method = \"grid\" # @param [\"elem\", \"grid\"]\n",
        "cfg_mmc.method = MMC_method;"
      ],
      "metadata": {
        "id": "MK9Nr-3JYcF2"
      },
      "execution_count": null,
      "outputs": []
    },
    {
      "cell_type": "code",
      "source": [
        "%%octave\n",
        "%Set the MMC random seed\n",
        "seed = 2433243 # @param\n",
        "cfg_mmc.seed = seed;"
      ],
      "metadata": {
        "id": "lufqMzBz_Zsf"
      },
      "execution_count": null,
      "outputs": []
    },
    {
      "cell_type": "markdown",
      "source": [
        "##**Run MMC simulation**"
      ],
      "metadata": {
        "id": "n9Q0YIwrQuqp"
      }
    },
    {
      "cell_type": "markdown",
      "source": [
        "Quick final plot of our source and domain to make sure it's set up right"
      ],
      "metadata": {
        "id": "EYQw2DugQ8aT"
      }
    },
    {
      "cell_type": "code",
      "source": [
        "%%octave\n",
        "% we can plot the source position and direction\n",
        "% to verify it is in the location on the mesh:\n",
        "figure;\n",
        "hold on;\n",
        "plotmesh(nodes, elems);\n",
        "scatter3(cfg_mmc.srcpos(1), cfg_mmc.srcpos(2), cfg_mmc.srcpos(3), 500, 'MarkerFaceColor', 'r');\n",
        "quiver3(cfg_mmc.srcpos(1), cfg_mmc.srcpos(2), cfg_mmc.srcpos(3),\n",
        "        cfg_mmc.srcdir(1), cfg_mmc.srcdir(2), cfg_mmc.srcdir(3), 'MaxHeadSize', 44, 'Color', 'r', 'MarkerFaceColor', 'r');\n",
        "view(-45,-45)"
      ],
      "metadata": {
        "id": "QomxT8Qm2b0d"
      },
      "execution_count": null,
      "outputs": []
    },
    {
      "cell_type": "markdown",
      "source": [
        "Run the simulation"
      ],
      "metadata": {
        "id": "Jo5GGwDoRmht"
      }
    },
    {
      "cell_type": "code",
      "source": [
        "%%octave\n",
        "\n",
        "% this sets up a progress bar and timer\n",
        "cfg_mmc.debuglevel='TP';\n",
        "\n",
        "% picks which gpu to run on, by setting ones or zeros.\n",
        "% if you had three GPUs and you wanted to use all three, you would do:\n",
        "% cfg_mmc.gpuid='111';\n",
        "% if you had three GPUs and wanted to use the last two, you would do:\n",
        "% cfg_mmc.gpuid='011';\n",
        "\n",
        "% we currently only have one GPU:\n",
        "cfg_mmc.gpuid='1';\n",
        "\n",
        "fluence = mmclab(cfg_mmc);"
      ],
      "metadata": {
        "id": "GsrGpfOeN6GQ"
      },
      "execution_count": null,
      "outputs": []
    },
    {
      "cell_type": "markdown",
      "source": [
        "## **MMC outputs and plotting**\n",
        "\n",
        "MMC has two output types for fluence:\n",
        "\n",
        "---\n",
        "\n",
        "<div>\n",
        "<img src=\"https://drive.google.com/uc?export=view&id=1nAMUSKVxMhcTbQ7ngN5iLk4jnBCbX84p\" width=\"700\"/>\n",
        "</div>\n",
        "\n",
        "---\n",
        "\n",
        "<div>\n",
        "<img src=\"https://drive.google.com/uc?export=view&id=1M1GHzWuY7-DKhRMgmrEBfID3lO9hM8vS\" width=\"700\"/>\n",
        "</div>\n",
        "\n",
        "<div>\n",
        "<img src=\"https://drive.google.com/uc?export=view&id=1yDFZAhZJYPOX2cXnxZLKAKfE939Lcwx8\" width=\"700\"/>\n",
        "</div>\n",
        "\n",
        "---\n",
        "\n",
        "\n",
        "Grid based simulations tend to be more efficient, but they may lack precision if you are interested in fine features on surfaces (by default the grid is made of 1mm^3 cubes)\n",
        "\n"
      ],
      "metadata": {
        "id": "vY4R1DqhEGlf"
      }
    },
    {
      "cell_type": "markdown",
      "source": [
        "Create a 2D set of coordinates for plotting:"
      ],
      "metadata": {
        "id": "PC-6RXy6BL27"
      }
    },
    {
      "cell_type": "code",
      "source": [
        "%%octave\n",
        "% distance along the x-axis for the plane containing\n",
        "% source and detectors\n",
        "cross_section_srcdist = 25;\n",
        "\n",
        "% define a plane using cross section srcplane:\n",
        "cutting_plane = [cross_section_srcdist 0 0;cross_section_srcdist 1 0;cross_section_srcdist 0 1];\n",
        "\n",
        "% vector of y-coorinates for the cross section\n",
        "% note that our slab is 50mm wide\n",
        "% if we want to plot fluence values at the center of each 1mm cube,\n",
        "% we would start at 0.5 and go to 49.5 with 50 steps\n",
        "cubesize = 1; % cube of 1mm x 1mm x 1mm\n",
        "\n",
        "y_vals = linspace(0+cubesize/2, 50-cubesize/2, 50);\n",
        "\n",
        "% vector of z-coordinates for the cross section\n",
        "% same as y-coordinates but the height of the slab is 50mm\n",
        "z_vals = linspace(0+cubesize/2, 50-cubesize/2, 50);\n",
        "\n",
        "% make a grid of coordinates for all fluence values in the cross section\n",
        "[yy,zz]=meshgrid(y_vals,z_vals);"
      ],
      "metadata": {
        "id": "kEDQFCkoBVQv"
      },
      "execution_count": null,
      "outputs": []
    },
    {
      "cell_type": "markdown",
      "source": [
        "Obtain fluence values for a crosssection of the mesh, interpolate them to the grid"
      ],
      "metadata": {
        "id": "2BcHrGMQBjz8"
      }
    },
    {
      "cell_type": "code",
      "source": [
        "%%octave\n",
        "if(strcmp(cfg_mmc.method, 'elem'))\n",
        "    % qmeshcut gets the intersections of all mesh edges and a plane\n",
        "    % as a set of coordinate points and a set of interpolated values\n",
        "    [cutpos,cutvalue,~]=qmeshcut(cfg_mmc.elem(:,1:4),cfg_mmc.node,fluence.data,cutting_plane);\n",
        "\n",
        "    plottable_fluence_data=griddata(cutpos(:,2),cutpos(:,3),cutvalue,yy,zz);\n",
        "end\n",
        "\n",
        "if(strcmp(cfg_mmc.method, 'grid'))\n",
        "    % plot a slice of the output grid nearest to the source plane\n",
        "    % squeeze gets rid of a one-value dimension to the matrix\n",
        "        plottable_fluence_data = squeeze(fluence.data(25, 1:50, 1:50));\n",
        "        plottable_fluence_data = rot90(plottable_fluence_data, -1);\n",
        "end\n",
        "\n",
        "% we take the absolute value because arbitrarily small fluence\n",
        "% may be recorded as negative values\n",
        "[yy_plot,zz_plot]=meshgrid(1:(50),1:(50));\n",
        "contourf(yy_plot,zz_plot,log10(abs(plottable_fluence_data)),'linewidth',5,'linestyle','-','DisplayName','Diffusion');\n",
        "axis equal;\n",
        "title('Fluence of a 5-layered slab')\n",
        "\n"
      ],
      "metadata": {
        "id": "-MXVrkCv87B-"
      },
      "execution_count": null,
      "outputs": []
    },
    {
      "cell_type": "markdown",
      "source": [
        "**Why use MMC over MCX?**\n",
        "\n",
        "As we saw in this section, MMC can be used to define and simulate layers with intermediate thicknesses with differences on the order of hundredths of a milimeter.\n",
        "\n",
        "In the next section we will use MMC to simulate light travelling through a head model with curved boundaries."
      ],
      "metadata": {
        "id": "7gTaEW0gUx7D"
      }
    },
    {
      "cell_type": "markdown",
      "source": [
        "#<font color='orange'>**Forward simulation in a brain atlas**\n",
        "\n",
        "## **Key objectives of the section:**\n",
        "\n",
        "*   Loading a pre-made mesh\n",
        "*   Meshing and adding an inclusion\n",
        "*   Plotting cross sections of a complex mesh"
      ],
      "metadata": {
        "id": "2oRatwVcV242"
      }
    },
    {
      "cell_type": "markdown",
      "source": [
        "###**Prepare configuration**"
      ],
      "metadata": {
        "id": "-r8W9zP6pumo"
      }
    },
    {
      "cell_type": "markdown",
      "source": [
        "Clear all previously created variables"
      ],
      "metadata": {
        "id": "d4u84_a6WGJG"
      }
    },
    {
      "cell_type": "code",
      "source": [
        "%%octave\n",
        "clear;"
      ],
      "metadata": {
        "id": "DaTgs86gWDOx"
      },
      "execution_count": null,
      "outputs": []
    },
    {
      "cell_type": "markdown",
      "source": [
        "Load the atlas mesh"
      ],
      "metadata": {
        "id": "wkfa2hMqW5Nm"
      }
    },
    {
      "cell_type": "code",
      "source": [
        "%%octave\n",
        "load('MCXStudio/MATLAB/mmclab/example/head_atlas.mat');\n",
        "node = double(node);\n",
        "elem = double(elem);\n",
        "property_IDs = double(prop);\n",
        "cfg.node=node;\n",
        "cfg.elem=elem;\n",
        "\n",
        "% set the IDs for the properties of every element\n",
        "cfg.elem(:,5)=property_IDs;"
      ],
      "metadata": {
        "id": "fBIygUNSW8T9"
      },
      "execution_count": null,
      "outputs": []
    },
    {
      "cell_type": "markdown",
      "source": [
        "Set the optical properties (absorption coefficient (1/mm), scattering coefficient (1/mm), anisotrophy, refractive index)"
      ],
      "metadata": {
        "id": "phV5h9eai-45"
      }
    },
    {
      "cell_type": "code",
      "source": [
        "%%octave\n",
        "%% prepare cfg for MMCLAB simulation\n",
        "\n",
        "% medium labels: row 0-ambient air,\n",
        "%                row 1-air cavities,\n",
        "%                row 2-scalp,\n",
        "%                row 3-skull,\n",
        "%                row 4-csf,\n",
        "%                row 5-gray matter,\n",
        "%                row 6-white matter\n",
        "\n",
        "cfg.prop=[0,0,1,1;\n",
        "          0,0,1,1;\n",
        "          0.019 7.8 0.89 1.37;\n",
        "          0.019 7.8 0.89 1.37;\n",
        "          0.004 0.009 0.89 1.37;\n",
        "          0.02 9.0 0.89 1.37;\n",
        "          0.08 40.9 0.84 1.37];"
      ],
      "metadata": {
        "id": "kobh1tQOiqCi"
      },
      "execution_count": null,
      "outputs": []
    },
    {
      "cell_type": "markdown",
      "source": [
        "Choose how to store and output fluence (on a 3D grid or on nodes):"
      ],
      "metadata": {
        "id": "32ksf2rUpVjh"
      }
    },
    {
      "cell_type": "code",
      "source": [
        "%%octave\n",
        "% store all output fluence as a 3D voxel grid\n",
        "cfg.method='grid'; %DMMC mode"
      ],
      "metadata": {
        "id": "eY2Qtw89pF78"
      },
      "execution_count": null,
      "outputs": []
    },
    {
      "cell_type": "markdown",
      "source": [
        "Choose how many photons to simulate:"
      ],
      "metadata": {
        "id": "Nf0lP0grpdKd"
      }
    },
    {
      "cell_type": "code",
      "source": [
        "\n",
        "%%octave\n",
        "cfg.nphoton=1e5; %takes ~240s on Intel i7-8700K(12 threads)"
      ],
      "metadata": {
        "id": "6NqJT6MOorlc"
      },
      "execution_count": null,
      "outputs": []
    },
    {
      "cell_type": "markdown",
      "source": [
        "Set up the source:"
      ],
      "metadata": {
        "id": "7qvm2bt4picV"
      }
    },
    {
      "cell_type": "code",
      "source": [
        "%%octave\n",
        "% light source\n",
        "cfg.srctype='pencil';\n",
        "cfg.srcdir=[-0.5086,-0.1822,-0.8415]; %inward-pointing source\n",
        "cfg.srcpos=[133.5370,90.1988,200.0700]; %pencil beam source placed at EEG 10-5 landmark:\"C4h\"\n",
        "    cfg.srcpos=cfg.srcpos+0.001*cfg.srcdir; %ensure source is inside the mesh\n"
      ],
      "metadata": {
        "id": "kqM8qbGjozW-"
      },
      "execution_count": null,
      "outputs": []
    },
    {
      "cell_type": "markdown",
      "source": [
        "Set up detectors:"
      ],
      "metadata": {
        "id": "nh_C-TdUpkyE"
      }
    },
    {
      "cell_type": "code",
      "source": [
        "%%octave\n",
        "cfg.detpos = [140, 90.5, 194, 1.5;\n",
        "              150, 90.5, 182, 1.5]; % detector position\n"
      ],
      "metadata": {
        "id": "-JPBwFM8o05Y"
      },
      "execution_count": null,
      "outputs": []
    },
    {
      "cell_type": "markdown",
      "source": [
        "Set up time windows:"
      ],
      "metadata": {
        "id": "v2euliE0qJ2b"
      }
    },
    {
      "cell_type": "code",
      "source": [
        "%%octave\n",
        "% time windows\n",
        "cfg.tstart=0;\n",
        "cfg.tend=5e-9;\n",
        "cfg.tstep=5e-10;"
      ],
      "metadata": {
        "id": "XE33Z9uvo3In"
      },
      "execution_count": null,
      "outputs": []
    },
    {
      "cell_type": "markdown",
      "source": [
        "###**Run Atlas-based Simulation**"
      ],
      "metadata": {
        "id": "xqJRszhCp6tk"
      }
    },
    {
      "cell_type": "code",
      "source": [
        "%%octave\n",
        "% allow calculations of reflection\n",
        "cfg.isreflect=1;\n",
        "% show a progress bar and timer\n",
        "cfg.debuglevel='TP';\n",
        "%% run mmc simulation\n",
        "[flux, detected_photons]=mmclab(cfg);"
      ],
      "metadata": {
        "id": "oVQaH6hwpRuN"
      },
      "execution_count": null,
      "outputs": []
    },
    {
      "cell_type": "markdown",
      "source": [
        "### **Plot fluence cross section**"
      ],
      "metadata": {
        "id": "exXdhv6yqBrL"
      }
    },
    {
      "cell_type": "code",
      "source": [
        "%%octave\n",
        "%% post-simulation data processing and visualization\n",
        "\n",
        "% convert flux output to fluence\n",
        "fluences = flux.data*cfg.tstep;\n",
        "%sum the fluence over all time gates\n",
        "fluences=sum(fluences,4);\n",
        "\n",
        "% coronal plane selected for fluence plot\n",
        "y_plane=90.5;\n",
        "\n",
        "% account for spatial offset between the coordinate origins of the output grid and the mesh\n",
        "starting_corner_of_domain=min(cfg.node); %starting location of the output grid\n",
        "DMMC_voxel_origin=starting_corner_of_domain+0.5; %centroid of the 1st cube of the output grid\n",
        "\n",
        "output_grid_dimensions=size(fluences);\n",
        "\n",
        "% get the plane in the y-direction closest to the coordinates we want a cross section of\n",
        "nearest_grid_plane = ceil(y_plane-starting_corner_of_domain(1,2));\n",
        "CWfluence_DMMC=fluences(:,nearest_grid_plane,:);\n",
        "% get rid of extra dimensions to the cross section matrix\n",
        "CWfluence_DMMC=squeeze(CWfluence_DMMC);\n",
        "\n",
        "% get meshgrid variables to describe coordinates of the cross section for plotting\n",
        "[xx,zz]=meshgrid(DMMC_voxel_origin(1,1):(DMMC_voxel_origin(1,1)+output_grid_dimensions(1,1)-1),DMMC_voxel_origin(1,3):(DMMC_voxel_origin(1,3)+output_grid_dimensions(1,3)-1));\n"
      ],
      "metadata": {
        "id": "Q2TX1uNoLvoT"
      },
      "execution_count": null,
      "outputs": []
    },
    {
      "cell_type": "markdown",
      "source": [
        "Plot the fluence cross section:"
      ],
      "metadata": {
        "id": "ZuEFKnLXlSfK"
      }
    },
    {
      "cell_type": "code",
      "source": [
        "%%octave\n",
        "\n",
        "% this secion takes the fluence values for a cross section and plots them as a contour plot\n",
        "clines=-20:0.5:0;\n",
        "contourf(xx,zz,log10(abs(CWfluence_DMMC')),clines,'linestyle','--','linewidth',1.5,'DisplayName','DMMC');\n",
        "hold on;axis equal;\n",
        "colorbar('EastOutside');\n",
        "\n",
        "%------------------------------------------------------------------------------\n",
        "                         This section just plots the tissue boundaries\n",
        "%------------------------------------------------------------------------------\n",
        "plane=[0 y_plane 0; 0 y_plane 1; 1 y_plane 0];\n",
        "label=unique(prop);\n",
        "face=[];\n",
        "for i=1:2:size(label,1)\n",
        "    newface=volface(cfg.elem(prop==label(i),1:4));\n",
        "    face=[face;newface];\n",
        "end\n",
        "[cutpos,cutvalue,cutedges]=qmeshcut(face(:,1:3),node,node(:,1),plane);\n",
        "[cutpos,cutedges]=removedupnodes(cutpos,cutedges);\n",
        "cutloop=extractloops(cutedges);\n",
        "[nanidx]=find(isnan(cutloop));\n",
        "\n",
        "for i=1:size(nanidx,2)\n",
        "    if(i==9)\n",
        "        continue;\n",
        "    end\n",
        "    if(i==1)\n",
        "        plot(cutpos(cutloop(1:(nanidx(i)-1)),1),cutpos(cutloop(1:(nanidx(i)-1)),3),'linestyle','--','color','k','LineWidth',1.25,'HandleVisibility','off');\n",
        "    elseif(i==2)\n",
        "        plot(cutpos(cutloop((nanidx(i-1)+1):(nanidx(i)-1)),1),cutpos(cutloop((nanidx(i-1)+1):(nanidx(i)-1)),3),'linestyle','--','color','k','LineWidth',1.25,'HandleVisibility','off');\n",
        "    else\n",
        "        plot(cutpos(cutloop((nanidx(i-1)+1):(nanidx(i)-1)),1),cutpos(cutloop((nanidx(i-1)+1):(nanidx(i)-1)),3),'linestyle','--','color','k','LineWidth',1.25,'HandleVisibility','off');\n",
        "    end\n",
        "end\n",
        "%------------------------------------------------------------------------------\n",
        "            This section plots the source and detector positions\n",
        "%------------------------------------------------------------------------------\n",
        "plot(cfg.srcpos(1,1),cfg.srcpos(1,3),'o','MarkerEdgeColor','r','MarkerFaceColor','r','MarkerSize',10,'DisplayName','source');\n",
        "plot(cfg.detpos(1,1),cfg.detpos(1,3),'o','MarkerEdgeColor','b','MarkerFaceColor','b','MarkerSize',10,'DisplayName','detector');\n",
        "plot(cfg.detpos(2,1),cfg.detpos(2,3),'o','MarkerEdgeColor','b','MarkerFaceColor','b','MarkerSize',10,'DisplayName','detector');\n",
        "set(gca,'ylim', [160 225]);ylabel('z [mm]');\n",
        "set(gca,'xlim', [80 165]);xlabel('x [mm]');"
      ],
      "metadata": {
        "id": "Pz5xCiP7lU6Z"
      },
      "execution_count": null,
      "outputs": []
    },
    {
      "cell_type": "markdown",
      "source": [
        "## **Add a spherical inclusion to the atlas mesh:**"
      ],
      "metadata": {
        "id": "FQ0UN99ogW2L"
      }
    },
    {
      "cell_type": "code",
      "source": [
        "meshasphere()"
      ],
      "metadata": {
        "id": "uOOsOT2CgWWm"
      },
      "execution_count": null,
      "outputs": []
    },
    {
      "cell_type": "markdown",
      "source": [
        "#<font color='orange'> **Simulation with a Pattern Source:**"
      ],
      "metadata": {
        "id": "DCXUkHhRmELb"
      }
    },
    {
      "cell_type": "markdown",
      "source": [
        "Produce slab mesh with property IDs"
      ],
      "metadata": {
        "id": "BfqjCF8etNd4"
      }
    },
    {
      "cell_type": "code",
      "source": [
        "clear cfg;\n",
        "clear all;\n",
        "\n",
        "%% 2-layer mesh model\n",
        "\n",
        "layercount=3;\n",
        "\n",
        "if(layercount==2)\n",
        "    [node,face,c0]=latticegrid([0 60],[0 60],[0 25 30]);\n",
        "    c0(:,4)=[2;1];   % maximum element size for bottom (label 1) and top (label 2) layers\n",
        "\n",
        "    % simulate the optical properties of skull and gray-matter of a human brain model\n",
        "    % see http://mcx.sourceforge.net/cgi-bin/index.cgi?MMC/Colin27AtlasMesh\n",
        "    cfg.prop=[0 0 1 1;0.02 9.0, 0.89 1.37;0.019 7.8 0.89 1.37];\n",
        "else\n",
        "    [node,face,c0]=latticegrid([0 60],[0 60],[0 20 25 30]); % if you like a 3-layer model\n",
        "    c0(:,4)=[2;2;1];\n",
        "    cfg.prop=[0 0 1 1;0.02 9.0, 0.89 1.37;0.004 0.009, 0.89 1.37;0.019 7.8 0.89 1.37];\n",
        "end\n",
        "[cfg.node,cfg.elem]=surf2mesh(node,face,[],[],1,[],c0);\n",
        "\n",
        "cfg.elemprop=cfg.elem(:,5);\n",
        "cfg.elem=cfg.elem(:,1:4);\n",
        "\n",
        "figure;\n",
        "subplot(121);\n",
        "plotmesh(cfg.node,cfg.elem);"
      ],
      "metadata": {
        "id": "F6c9uiAItK46"
      },
      "execution_count": null,
      "outputs": []
    },
    {
      "cell_type": "markdown",
      "source": [
        "Set up pattern source"
      ],
      "metadata": {
        "id": "IItnO_EDubv_"
      }
    },
    {
      "cell_type": "code",
      "source": [
        "\n",
        "%%octave\n",
        "\n",
        "%% add source and retessellate mesh\n",
        "\n",
        "cfg.srctype='fourier';      % define an SFDI source\n",
        "cfg.srcpos=[10 10 35];      % one corner of the illumination area\n",
        "kx=3;                       % wave number in the x-dir\n",
        "ky=0;                       % wave number in the x-dir\n",
        "xphase=pi/3;                % phase offset in the x-dir, must < 2pi\n",
        "yphase=0;                   % phase offset in the x-dir, must < 2pi\n",
        "cfg.srcparam1=[40 0 0 kx+xphase/(2*pi)];   % kx is k-number in x direction\n",
        "cfg.srcparam2=[0 40 0 ky+yphase/(2*pi)];\n",
        "cfg.srcdir=[0 0 -1];\n",
        "\n",
        "%% line 24-31 could possibly be deleted and replaced by built-in one-step command\n",
        "srcdef=struct('srctype',cfg.srctype,'srcpos',cfg.srcpos,'srcdir',cfg.srcdir,...\n",
        "    'srcparam1',cfg.srcparam1,'srcparam2',cfg.srcparam2);\n",
        "\n",
        "[cfg.node,cfg.elem] = mmcaddsrc(cfg.node,[cfg.elem cfg.elemprop],...\n",
        "    mmcsrcdomain(srcdef,[min(cfg.node);max(cfg.node)]));"
      ],
      "metadata": {
        "id": "jiT3Buv2uXtV"
      },
      "execution_count": null,
      "outputs": []
    },
    {
      "cell_type": "markdown",
      "source": [
        "Set up other config settings and run simulation"
      ],
      "metadata": {
        "id": "-NbIfyVlukst"
      }
    },
    {
      "cell_type": "code",
      "source": [
        "\n",
        "%%octave\n",
        "\n",
        "cfg.elemprop=cfg.elem(:,5);\n",
        "cfg.elem=cfg.elem(:,1:4);\n",
        "\n",
        "%% other simulation information\n",
        "\n",
        "cfg.nphoton=3e2;\n",
        "cfg.seed=1648335518;\n",
        "\n",
        "cfg.tstart=0;\n",
        "cfg.tend=5e-9;\n",
        "cfg.tstep=1e-10;\n",
        "\n",
        "cfg.debuglevel='TP';\n",
        "cfg.isreflect=1;\n",
        "cfg.detpos=[30 30 0 2]; % detector position\n",
        "cfg.method='elem';\n",
        "\n",
        "%% mmc simulation\n",
        "\n",
        "layer=mmclab(cfg);\n",
        "%cube=mmclab(cfg,'sse'); % this is faster\n",
        "layer=layer.data;\n",
        "layercw=sum(layer,2);"
      ],
      "metadata": {
        "id": "uuaxR7sBtuWw"
      },
      "execution_count": null,
      "outputs": []
    },
    {
      "cell_type": "markdown",
      "source": [
        "Plot widefield results"
      ],
      "metadata": {
        "id": "fm8iN7brtysq"
      }
    },
    {
      "cell_type": "code",
      "source": [
        "%%octave\n",
        "\n",
        "% plot simulated photon profiles\n",
        "\n",
        "hold on;\n",
        "%qmeshcut(cfg.elem(cfg.elemprop>0,1:4),cfg.node,log10(layercw),'y=30','linestyle','none'); view(3)\n",
        "%qmeshcut(cfg.elem(cfg.elemprop>0,1:4),cfg.node,log10(layercw),'z=27','linestyle','none');\n",
        "%if(layercount~=2)\n",
        "%    qmeshcut(cfg.elem(cfg.elemprop>0,1:4),cfg.node,log10(layercw),'z=22','linestyle','none');\n",
        "%end\n",
        "box on;\n",
        "axis equal\n",
        "view(-56, 22);"
      ],
      "metadata": {
        "id": "MaWtMZUaonJd"
      },
      "execution_count": null,
      "outputs": []
    }
  ],
  "metadata": {
    "colab": {
      "provenance": [],
      "collapsed_sections": [
        "_g0kle7KqoeA",
        "Ws1_waT11r5U",
        "FAVp0Qp8Dd1X",
        "Rk-mthG1wNyO",
        "hQpSakylDoM0",
        "n9Q0YIwrQuqp",
        "vY4R1DqhEGlf",
        "-r8W9zP6pumo",
        "DCXUkHhRmELb"
      ],
      "gpuType": "T4",
      "include_colab_link": true
    },
    "kernelspec": {
      "display_name": "Python 3",
      "name": "python3"
    },
    "language_info": {
      "name": "python"
    },
    "accelerator": "GPU"
  },
  "nbformat": 4,
  "nbformat_minor": 0
}