{
  "cells": [
    {
      "cell_type": "markdown",
      "metadata": {
        "id": "view-in-github",
        "colab_type": "text"
      },
      "source": [
        "<a href=\"https://colab.research.google.com/github/COTILab/MCX24Workshop/blob/master/Training/MCX2024_2B_mmc_training.ipynb\" target=\"_parent\"><img src=\"https://colab.research.google.com/assets/colab-badge.svg\" alt=\"Open In Colab\"/></a>"
      ]
    },
    {
      "cell_type": "markdown",
      "source": [
        "![Workshop Logo](https://mcx.space/wiki/upload/mcx24_logo.png)\n",
        "# MCX Training Workshop 2024 - Day 2, Session 2A\n",
        "\n",
        "## Session 2A: MMCLAB Training"
      ],
      "metadata": {
        "id": "_g0kle7KqoeA"
      }
    },
    {
      "cell_type": "markdown",
      "source": [
        "> **Training Goals**: <font color='green'>In this unit, we teach users basic workflows of creating mesh-based Monte Carlo (mmc) simulations in MATLAB/Octave environment. We will cover mesh generation, mesh-retessellation, plotting of output data in multi-layered and complex domains.</font>\n"
      ],
      "metadata": {
        "id": "eD2_8MHdGJV2"
      }
    },
    {
      "cell_type": "markdown",
      "source": [
        "# <font color='orange'> **Introduction**\n",
        "\n",
        "MMC, or mesh-based Monte Carlo, is the result of [a series of productive research](https://mcx.space/wiki/index.cgi?Citation#MMC) since its initial proposal by our group [in 2010](https://www.osapublishing.org/boe/abstract.cfm?uri=boe-1-1-165).\n",
        "\n",
        "A key feature of the solver is its improved accuracy and efficiency in modelling curved surfaces.\n",
        "<div>\n",
        "<img src=\"https://drive.google.com/uc?export=view&id=1bYCMs_hTu5wjrWZgA8Df-2k4ySY3SXGJ\" width=\"600\"/>\n",
        "</div>\n",
        "\n",
        "This is relevant for tissues such as brain:\n",
        "<div>\n",
        "<img src=\"https://drive.google.com/uc?export=view&id=1ocENfEbO1zAuWDyGxs621dkOAWryhY4C\" width=\"800\"/>\n",
        "</div>\n"
      ],
      "metadata": {
        "id": "_TCQTmX132BY"
      }
    },
    {
      "cell_type": "markdown",
      "source": [
        "# <font color='orange'>Step 0: Setting up MCX and Octave environments within Google Colab</font>\n",
        "\n",
        "> **You must rerun all cells in Step 0 in appearance order when you start a new session, or after reconnect to a runtime**\n",
        "\n",
        "To run interactive Octave sessions inside a Google Colab Jupyter Notebook environment, we need to install the following dependencies\n",
        "- GNU Octave via `sudo apt-get install octave`\n",
        "- Oct2py Python module via `pip install oct2py`, and\n",
        "- enable Oct2py in Jupyter Notebook via \"magic command\" `%load_ext oct2py.ipython`\n",
        "\n",
        "<font color='green'>If you run this on Google Colab, please go to menu **Edit\\Notebook Settings\\Hardware accelerator**, and verify if it has already selected \"GPU\"; if not, please select the T4 GPU.</font>\n",
        "\n",
        "**Please note**: MCX/MCXLAB is GPU-accelerated. This notebook by default requests an NVIDIA GPU. Howevever, when you click on the run-button for the below section, your browser may fail to allocate a GPU runtime and ask you if you want to continue with a non-GPU runtime. If you choose to proceed without GPU support, you will have to run the [section immediately following the next section](#mcx_setup_opencl) to install OpenCL-based MCXLAB (called mcxlabcl) and utilize the CPU to run the rest of the tutorials. The OpenCL version of MCXLAB will work for all examples, but will be substentially slower to run (this tutorial also reduces the photon numbers accordingly to lower the runtime)."
      ],
      "metadata": {
        "id": "4BDNjVvZM7qK"
      }
    },
    {
      "cell_type": "code",
      "execution_count": 20,
      "metadata": {
        "id": "bbO3hKIadvYn",
        "cellView": "form",
        "colab": {
          "base_uri": "https://localhost:8080/"
        },
        "outputId": "071927de-4aaf-4be3-ed0c-f947977aff9b"
      },
      "outputs": [
        {
          "output_type": "stream",
          "name": "stdout",
          "text": [
            "Hit:1 https://developer.download.nvidia.com/compute/cuda/repos/ubuntu2204/x86_64  InRelease\n",
            "Hit:2 https://cloud.r-project.org/bin/linux/ubuntu jammy-cran40/ InRelease\n",
            "Hit:3 http://security.ubuntu.com/ubuntu jammy-security InRelease\n",
            "Hit:4 http://archive.ubuntu.com/ubuntu jammy InRelease\n",
            "Hit:5 http://archive.ubuntu.com/ubuntu jammy-updates InRelease\n",
            "Hit:6 https://ppa.launchpadcontent.net/c2d4u.team/c2d4u4.0+/ubuntu jammy InRelease\n",
            "Hit:7 http://archive.ubuntu.com/ubuntu jammy-backports InRelease\n",
            "Hit:8 https://ppa.launchpadcontent.net/deadsnakes/ppa/ubuntu jammy InRelease\n",
            "Hit:9 https://ppa.launchpadcontent.net/graphics-drivers/ppa/ubuntu jammy InRelease\n",
            "Hit:10 https://ppa.launchpadcontent.net/ubuntugis/ppa/ubuntu jammy InRelease\n",
            "Reading package lists... Done\n",
            "Reading package lists... Done\n",
            "Building dependency tree... Done\n",
            "Reading state information... Done\n",
            "jq is already the newest version (1.6-2.1ubuntu3).\n",
            "libpocl2 is already the newest version (1.8-3).\n",
            "octave is already the newest version (6.4.0-2).\n",
            "pocl-opencl-icd is already the newest version (1.8-3).\n",
            "libnvidia-compute-535 is already the newest version (535.183.01-0ubuntu1).\n",
            "0 upgraded, 0 newly installed, 0 to remove and 46 not upgraded.\n",
            "Requirement already satisfied: oct2py in /usr/local/lib/python3.10/dist-packages (5.7.0)\n",
            "Requirement already satisfied: jdata in /usr/local/lib/python3.10/dist-packages (0.6.0)\n",
            "Requirement already satisfied: bjdata in /usr/local/lib/python3.10/dist-packages (0.4.1)\n",
            "Requirement already satisfied: matplotlib in /usr/local/lib/python3.10/dist-packages (3.7.1)\n",
            "Requirement already satisfied: numpy>=1.12 in /usr/local/lib/python3.10/dist-packages (from oct2py) (1.25.2)\n",
            "Requirement already satisfied: octave-kernel>=0.34.0 in /usr/local/lib/python3.10/dist-packages (from oct2py) (0.36.0)\n",
            "Requirement already satisfied: scipy>=0.17 in /usr/local/lib/python3.10/dist-packages (from oct2py) (1.11.4)\n",
            "Requirement already satisfied: contourpy>=1.0.1 in /usr/local/lib/python3.10/dist-packages (from matplotlib) (1.2.1)\n",
            "Requirement already satisfied: cycler>=0.10 in /usr/local/lib/python3.10/dist-packages (from matplotlib) (0.12.1)\n",
            "Requirement already satisfied: fonttools>=4.22.0 in /usr/local/lib/python3.10/dist-packages (from matplotlib) (4.53.0)\n",
            "Requirement already satisfied: kiwisolver>=1.0.1 in /usr/local/lib/python3.10/dist-packages (from matplotlib) (1.4.5)\n",
            "Requirement already satisfied: packaging>=20.0 in /usr/local/lib/python3.10/dist-packages (from matplotlib) (24.1)\n",
            "Requirement already satisfied: pillow>=6.2.0 in /usr/local/lib/python3.10/dist-packages (from matplotlib) (9.4.0)\n",
            "Requirement already satisfied: pyparsing>=2.3.1 in /usr/local/lib/python3.10/dist-packages (from matplotlib) (3.1.2)\n",
            "Requirement already satisfied: python-dateutil>=2.7 in /usr/local/lib/python3.10/dist-packages (from matplotlib) (2.8.2)\n",
            "Requirement already satisfied: ipykernel in /usr/local/lib/python3.10/dist-packages (from octave-kernel>=0.34.0->oct2py) (5.5.6)\n",
            "Requirement already satisfied: jupyter-client>=4.3.0 in /usr/local/lib/python3.10/dist-packages (from octave-kernel>=0.34.0->oct2py) (6.1.12)\n",
            "Requirement already satisfied: metakernel>=0.24.0 in /usr/local/lib/python3.10/dist-packages (from octave-kernel>=0.34.0->oct2py) (0.30.2)\n",
            "Requirement already satisfied: six>=1.5 in /usr/local/lib/python3.10/dist-packages (from python-dateutil>=2.7->matplotlib) (1.16.0)\n",
            "Requirement already satisfied: traitlets in /usr/local/lib/python3.10/dist-packages (from jupyter-client>=4.3.0->octave-kernel>=0.34.0->oct2py) (5.7.1)\n",
            "Requirement already satisfied: jupyter-core>=4.6.0 in /usr/local/lib/python3.10/dist-packages (from jupyter-client>=4.3.0->octave-kernel>=0.34.0->oct2py) (5.7.2)\n",
            "Requirement already satisfied: pyzmq>=13 in /usr/local/lib/python3.10/dist-packages (from jupyter-client>=4.3.0->octave-kernel>=0.34.0->oct2py) (24.0.1)\n",
            "Requirement already satisfied: tornado>=4.1 in /usr/local/lib/python3.10/dist-packages (from jupyter-client>=4.3.0->octave-kernel>=0.34.0->oct2py) (6.3.3)\n",
            "Requirement already satisfied: jedi>=0.18 in /usr/local/lib/python3.10/dist-packages (from metakernel>=0.24.0->octave-kernel>=0.34.0->oct2py) (0.19.1)\n",
            "Requirement already satisfied: pexpect>=4.8 in /usr/local/lib/python3.10/dist-packages (from metakernel>=0.24.0->octave-kernel>=0.34.0->oct2py) (4.9.0)\n",
            "Requirement already satisfied: ipython-genutils in /usr/local/lib/python3.10/dist-packages (from ipykernel->octave-kernel>=0.34.0->oct2py) (0.2.0)\n",
            "Requirement already satisfied: ipython>=5.0.0 in /usr/local/lib/python3.10/dist-packages (from ipykernel->octave-kernel>=0.34.0->oct2py) (7.34.0)\n",
            "Requirement already satisfied: setuptools>=18.5 in /usr/local/lib/python3.10/dist-packages (from ipython>=5.0.0->ipykernel->octave-kernel>=0.34.0->oct2py) (67.7.2)\n",
            "Requirement already satisfied: decorator in /usr/local/lib/python3.10/dist-packages (from ipython>=5.0.0->ipykernel->octave-kernel>=0.34.0->oct2py) (4.4.2)\n",
            "Requirement already satisfied: pickleshare in /usr/local/lib/python3.10/dist-packages (from ipython>=5.0.0->ipykernel->octave-kernel>=0.34.0->oct2py) (0.7.5)\n",
            "Requirement already satisfied: prompt-toolkit!=3.0.0,!=3.0.1,<3.1.0,>=2.0.0 in /usr/local/lib/python3.10/dist-packages (from ipython>=5.0.0->ipykernel->octave-kernel>=0.34.0->oct2py) (3.0.47)\n",
            "Requirement already satisfied: pygments in /usr/local/lib/python3.10/dist-packages (from ipython>=5.0.0->ipykernel->octave-kernel>=0.34.0->oct2py) (2.16.1)\n",
            "Requirement already satisfied: backcall in /usr/local/lib/python3.10/dist-packages (from ipython>=5.0.0->ipykernel->octave-kernel>=0.34.0->oct2py) (0.2.0)\n",
            "Requirement already satisfied: matplotlib-inline in /usr/local/lib/python3.10/dist-packages (from ipython>=5.0.0->ipykernel->octave-kernel>=0.34.0->oct2py) (0.1.7)\n",
            "Requirement already satisfied: parso<0.9.0,>=0.8.3 in /usr/local/lib/python3.10/dist-packages (from jedi>=0.18->metakernel>=0.24.0->octave-kernel>=0.34.0->oct2py) (0.8.4)\n",
            "Requirement already satisfied: platformdirs>=2.5 in /usr/local/lib/python3.10/dist-packages (from jupyter-core>=4.6.0->jupyter-client>=4.3.0->octave-kernel>=0.34.0->oct2py) (4.2.2)\n",
            "Requirement already satisfied: ptyprocess>=0.5 in /usr/local/lib/python3.10/dist-packages (from pexpect>=4.8->metakernel>=0.24.0->octave-kernel>=0.34.0->oct2py) (0.7.0)\n",
            "Requirement already satisfied: wcwidth in /usr/local/lib/python3.10/dist-packages (from prompt-toolkit!=3.0.0,!=3.0.1,<3.1.0,>=2.0.0->ipython>=5.0.0->ipykernel->octave-kernel>=0.34.0->oct2py) (0.2.13)\n",
            "The oct2py.ipython extension is already loaded. To reload it, use:\n",
            "  %reload_ext oct2py.ipython\n",
            "  % Total    % Received % Xferd  Average Speed   Time    Time     Time  Current\n",
            "                                 Dload  Upload   Total   Spent    Left  Speed\n",
            "100 53.9M  100 53.9M    0     0  9988k      0  0:00:05  0:00:05 --:--:-- 13.3M\n",
            "curl: (6) Could not resolve host: MCXStudio-linux-x86_64-nightlybuild.zip\n",
            "Archive:  MCXStudio-linux-x86_64-nightlybuild.zip\n",
            "   creating: MCXStudio/\n",
            "   creating: MCXStudio/MCXSuite/\n",
            "   creating: MCXStudio/MCXSuite/mcx/\n",
            "  inflating: MCXStudio/MCXSuite/mcx/TODO.txt  \n",
            "   creating: MCXStudio/MCXSuite/mcx/pmcx/\n",
            "   creating: MCXStudio/MCXSuite/mcx/pmcx/pmcx/\n",
            "  inflating: MCXStudio/MCXSuite/mcx/pmcx/pmcx/utils.py  \n",
            "  inflating: MCXStudio/MCXSuite/mcx/pmcx/pmcx/bench.py  \n",
            "  inflating: MCXStudio/MCXSuite/mcx/pmcx/pmcx/__init__.py  \n",
            "  inflating: MCXStudio/MCXSuite/mcx/pmcx/setup.py  \n",
            "   creating: MCXStudio/MCXSuite/mcx/pmcx/test/\n",
            "  inflating: MCXStudio/MCXSuite/mcx/pmcx/test/test.py  \n",
            "   creating: MCXStudio/MCXSuite/mcx/pmcx/tutorials/\n",
            "  inflating: MCXStudio/MCXSuite/mcx/pmcx/tutorials/pmcx_demo.py  \n",
            "  inflating: MCXStudio/MCXSuite/mcx/pmcx/tutorials/pmcx_getting_started.ipynb  \n",
            "  inflating: MCXStudio/MCXSuite/mcx/pmcx/Makefile  \n",
            "  inflating: MCXStudio/MCXSuite/mcx/pmcx/README.md  \n",
            "   creating: MCXStudio/MCXSuite/mcx/speedcontest/\n",
            "  inflating: MCXStudio/MCXSuite/mcx/speedcontest/mcxcontest  \n",
            "   creating: MCXStudio/MCXSuite/mcx/manpage/\n",
            "  inflating: MCXStudio/MCXSuite/mcx/manpage/mcx.1  \n",
            "  inflating: MCXStudio/MCXSuite/mcx/manpage/mcxstudio.1  \n",
            "  inflating: MCXStudio/MCXSuite/mcx/manpage/mcxshow.1  \n",
            "  inflating: MCXStudio/MCXSuite/mcx/manpage/mcxviewer.1  \n",
            "  inflating: MCXStudio/MCXSuite/mcx/manpage/photon.1  \n",
            "  inflating: MCXStudio/MCXSuite/mcx/manpage/mcxcontest.1  \n",
            "   creating: MCXStudio/MCXSuite/mcx/bin/\n",
            "  inflating: MCXStudio/MCXSuite/mcx/bin/mcx  \n",
            "  inflating: MCXStudio/MCXSuite/mcx/bin/mcxshow  \n",
            "  inflating: MCXStudio/MCXSuite/mcx/bin/mcxviewer  \n",
            "  inflating: MCXStudio/MCXSuite/mcx/.miss_hit  \n",
            "  inflating: MCXStudio/MCXSuite/mcx/LICENSE.txt  \n",
            "  inflating: MCXStudio/MCXSuite/mcx/AUTHORS.txt  \n",
            "   creating: MCXStudio/MCXSuite/mcx/script/\n",
            "  inflating: MCXStudio/MCXSuite/mcx/script/photon  \n",
            "  inflating: MCXStudio/MCXSuite/mcx/NOTICE.txt  \n",
            "   creating: MCXStudio/MCXSuite/mcx/example/\n",
            "   creating: MCXStudio/MCXSuite/mcx/example/rngcycle/\n",
            "  inflating: MCXStudio/MCXSuite/mcx/example/rngcycle/rngcycle.cu  \n",
            "  inflating: MCXStudio/MCXSuite/mcx/example/rngcycle/Makefile  \n",
            "  inflating: MCXStudio/MCXSuite/mcx/example/rngcycle/testcycle.sh  \n",
            "   creating: MCXStudio/MCXSuite/mcx/example/speedtest/\n",
            "  inflating: MCXStudio/MCXSuite/mcx/example/speedtest/genreport.sh  \n",
            "  inflating: MCXStudio/MCXSuite/mcx/example/speedtest/benchcpeed.inp  \n",
            "  inflating: MCXStudio/MCXSuite/mcx/example/speedtest/README.txt  \n",
            "  inflating: MCXStudio/MCXSuite/mcx/example/speedtest/runspeedbench.sh  \n",
            "  inflating: MCXStudio/MCXSuite/mcx/example/speedtest/cubic60.json  \n",
            "   creating: MCXStudio/MCXSuite/mcx/example/benchmark/\n",
            "  inflating: MCXStudio/MCXSuite/mcx/example/benchmark/run_benchmark1.sh  \n",
            "  inflating: MCXStudio/MCXSuite/mcx/example/benchmark/run_benchmark2.sh  \n",
            "  inflating: MCXStudio/MCXSuite/mcx/example/benchmark/benchmark1.json  \n",
            "  inflating: MCXStudio/MCXSuite/mcx/example/benchmark/run_benchmark3.sh  \n",
            "  inflating: MCXStudio/MCXSuite/mcx/example/benchmark/run_benchmark2.bat  \n",
            "  inflating: MCXStudio/MCXSuite/mcx/example/benchmark/run_benchmark3.bat  \n",
            " extracting: MCXStudio/MCXSuite/mcx/example/benchmark/run_benchmark1.bat  \n",
            "  inflating: MCXStudio/MCXSuite/mcx/example/benchmark/benchmark3.json  \n",
            "  inflating: MCXStudio/MCXSuite/mcx/example/benchmark/cubic60.json  \n",
            "   creating: MCXStudio/MCXSuite/mcx/example/multisrc/\n",
            " extracting: MCXStudio/MCXSuite/mcx/example/multisrc/run_multisrc.bat  \n",
            "  inflating: MCXStudio/MCXSuite/mcx/example/multisrc/run_eachsrc.bat  \n",
            "  inflating: MCXStudio/MCXSuite/mcx/example/multisrc/run_eachsrc.sh  \n",
            " extracting: MCXStudio/MCXSuite/mcx/example/multisrc/run_src9.bat  \n",
            "  inflating: MCXStudio/MCXSuite/mcx/example/multisrc/run_src9.sh  \n",
            "  inflating: MCXStudio/MCXSuite/mcx/example/multisrc/run_multisrc.sh  \n",
            "  inflating: MCXStudio/MCXSuite/mcx/example/multisrc/multisrc.json  \n",
            "   creating: MCXStudio/MCXSuite/mcx/example/shapetest/\n",
            "  inflating: MCXStudio/MCXSuite/mcx/example/shapetest/plotshapemask.m  \n",
            "  inflating: MCXStudio/MCXSuite/mcx/example/shapetest/jsonshape_allinone.json  \n",
            "  inflating: MCXStudio/MCXSuite/mcx/example/shapetest/run_shapetest.sh  \n",
            "  inflating: MCXStudio/MCXSuite/mcx/example/shapetest/Makefile  \n",
            "  inflating: MCXStudio/MCXSuite/mcx/example/shapetest/jsonshape.json  \n",
            "  inflating: MCXStudio/MCXSuite/mcx/example/shapetest/shapes.json  \n",
            "   creating: MCXStudio/MCXSuite/mcx/example/rfreplay/\n",
            "  inflating: MCXStudio/MCXSuite/mcx/example/rfreplay/baseline.json  \n",
            "  inflating: MCXStudio/MCXSuite/mcx/example/rfreplay/rfreplay.json  \n",
            "  inflating: MCXStudio/MCXSuite/mcx/example/rfreplay/run_rfreplay.sh  \n",
            "  inflating: MCXStudio/MCXSuite/mcx/example/mcx_demo.mcxp  \n",
            "   creating: MCXStudio/MCXSuite/mcx/example/muamus/\n",
            "  inflating: MCXStudio/MCXSuite/mcx/example/muamus/mua_mus_g_n.json  \n",
            "  inflating: MCXStudio/MCXSuite/mcx/example/muamus/run_muamus.sh  \n",
            "  inflating: MCXStudio/MCXSuite/mcx/example/muamus/run_muamusgn.sh  \n",
            "  inflating: MCXStudio/MCXSuite/mcx/example/muamus/test_muamus_float.json  \n",
            " extracting: MCXStudio/MCXSuite/mcx/example/muamus/run_muamusgn.bat  \n",
            " extracting: MCXStudio/MCXSuite/mcx/example/muamus/run_muamus.bat  \n",
            "   creating: MCXStudio/MCXSuite/mcx/example/polarized/\n",
            "  inflating: MCXStudio/MCXSuite/mcx/example/polarized/onelayer.json  \n",
            "  inflating: MCXStudio/MCXSuite/mcx/example/polarized/onelayer_plot_results.m  \n",
            "  inflating: MCXStudio/MCXSuite/mcx/example/polarized/run_onelayer.sh  \n",
            "   creating: MCXStudio/MCXSuite/mcx/example/usc19-5/\n",
            "  inflating: MCXStudio/MCXSuite/mcx/example/usc19-5/USC_19-5_atlas.json  \n",
            "  inflating: MCXStudio/MCXSuite/mcx/example/usc19-5/dump_volume.sh  \n",
            "  inflating: MCXStudio/MCXSuite/mcx/example/usc19-5/run_atlas.sh  \n",
            "  inflating: MCXStudio/MCXSuite/mcx/example/usc19-5/dump_volume.bat  \n",
            "  inflating: MCXStudio/MCXSuite/mcx/example/usc19-5/run_atlas.bat  \n",
            "  inflating: MCXStudio/MCXSuite/mcx/example/usc19-5/README.txt  \n",
            "   creating: MCXStudio/MCXSuite/mcx/example/quicktest/\n",
            "  inflating: MCXStudio/MCXSuite/mcx/example/quicktest/qtest.json  \n",
            "  inflating: MCXStudio/MCXSuite/mcx/example/quicktest/grid2x.inp  \n",
            "  inflating: MCXStudio/MCXSuite/mcx/example/quicktest/grid2x.json  \n",
            "  inflating: MCXStudio/MCXSuite/mcx/example/quicktest/run_grid2x.sh  \n",
            "  inflating: MCXStudio/MCXSuite/mcx/example/quicktest/grid3x.inp  \n",
            "  inflating: MCXStudio/MCXSuite/mcx/example/quicktest/qtest_widefield.inp  \n",
            "  inflating: MCXStudio/MCXSuite/mcx/example/quicktest/run_widefield.sh  \n",
            "  inflating: MCXStudio/MCXSuite/mcx/example/quicktest/run_qtest.bat  \n",
            "  inflating: MCXStudio/MCXSuite/mcx/example/quicktest/run_qtest.sh  \n",
            " extracting: MCXStudio/MCXSuite/mcx/example/quicktest/listgpu.bat  \n",
            "  inflating: MCXStudio/MCXSuite/mcx/example/quicktest/README.txt  \n",
            "  inflating: MCXStudio/MCXSuite/mcx/example/quicktest/listgpu.sh  \n",
            "  inflating: MCXStudio/MCXSuite/mcx/example/quicktest/cubic60.json  \n",
            "  inflating: MCXStudio/MCXSuite/mcx/example/quicktest/run_grid3x.sh  \n",
            "  inflating: MCXStudio/MCXSuite/mcx/example/quicktest/qtest.inp  \n",
            "  inflating: MCXStudio/MCXSuite/mcx/example/quicktest/grid3x.json  \n",
            "   creating: MCXStudio/MCXSuite/mcx/example/validation/\n",
            "  inflating: MCXStudio/MCXSuite/mcx/example/validation/plotsimudata.m  \n",
            "  inflating: MCXStudio/MCXSuite/mcx/example/validation/validation_dark_b.inp  \n",
            "  inflating: MCXStudio/MCXSuite/mcx/example/validation/run_validation.sh  \n",
            "  inflating: MCXStudio/MCXSuite/mcx/example/validation/run_validation_b.bat  \n",
            "  inflating: MCXStudio/MCXSuite/mcx/example/validation/validation_dark.inp  \n",
            "  inflating: MCXStudio/MCXSuite/mcx/example/validation/run_validation.bat  \n",
            "  inflating: MCXStudio/MCXSuite/mcx/example/validation/run_validation_b.sh  \n",
            "  inflating: MCXStudio/MCXSuite/mcx/example/validation/validation.inp  \n",
            "  inflating: MCXStudio/MCXSuite/mcx/example/validation/validation_b.inp  \n",
            "  inflating: MCXStudio/MCXSuite/mcx/example/validation/README.txt  \n",
            "  inflating: MCXStudio/MCXSuite/mcx/example/validation/cubic60.json  \n",
            "   creating: MCXStudio/MCXSuite/mcx/example/svmcsphshells/\n",
            "  inflating: MCXStudio/MCXSuite/mcx/example/svmcsphshells/svmc_sphshells.sh  \n",
            " extracting: MCXStudio/MCXSuite/mcx/example/svmcsphshells/svmc_sphshells.bat  \n",
            "  inflating: MCXStudio/MCXSuite/mcx/example/svmcsphshells/sphshells.json  \n",
            "   creating: MCXStudio/MCXSuite/mcx/example/multipattern/\n",
            "  inflating: MCXStudio/MCXSuite/mcx/example/multipattern/run_allinone_json.sh  \n",
            "  inflating: MCXStudio/MCXSuite/mcx/example/multipattern/plotresults.m  \n",
            "  inflating: MCXStudio/MCXSuite/mcx/example/multipattern/multipattern_pattern.bin  \n",
            "  inflating: MCXStudio/MCXSuite/mcx/example/multipattern/README.txt  \n",
            "  inflating: MCXStudio/MCXSuite/mcx/example/multipattern/run_multipattern.sh  \n",
            "  inflating: MCXStudio/MCXSuite/mcx/example/multipattern/multipattern.json  \n",
            "  inflating: MCXStudio/MCXSuite/mcx/example/multipattern/run_multipattern.bat  \n",
            "    linking: MCXStudio/MCXSuite/mcx/example/multipattern/cubic60.json  -> ../validation/cubic60.json \n",
            "   creating: MCXStudio/MCXSuite/mcx/example/digimouse/\n",
            "  inflating: MCXStudio/MCXSuite/mcx/example/digimouse/dump_volume.sh  \n",
            "  inflating: MCXStudio/MCXSuite/mcx/example/digimouse/run_atlas.sh  \n",
            "  inflating: MCXStudio/MCXSuite/mcx/example/digimouse/dump_volume.bat  \n",
            "  inflating: MCXStudio/MCXSuite/mcx/example/digimouse/run_atlas.bat  \n",
            "  inflating: MCXStudio/MCXSuite/mcx/example/digimouse/digimouse.json  \n",
            "  inflating: MCXStudio/MCXSuite/mcx/example/digimouse/README.txt  \n",
            "  inflating: MCXStudio/MCXSuite/mcx/example/README.txt  \n",
            "   creating: MCXStudio/MCXSuite/mcx/example/srctest/\n",
            "  inflating: MCXStudio/MCXSuite/mcx/example/srctest/8benchmark-disk.json  \n",
            "  inflating: MCXStudio/MCXSuite/mcx/example/srctest/run_11benchmark-zgaussian.sh  \n",
            "  inflating: MCXStudio/MCXSuite/mcx/example/srctest/run_8benchmark-disk.sh  \n",
            "  inflating: MCXStudio/MCXSuite/mcx/example/srctest/6benchmark-fourier.json  \n",
            "  inflating: MCXStudio/MCXSuite/mcx/example/srctest/13benchmark-slit.json  \n",
            "  inflating: MCXStudio/MCXSuite/mcx/example/srctest/3benchmark-gaussian.json  \n",
            "  inflating: MCXStudio/MCXSuite/mcx/example/srctest/10benchmark-fourierx2d.json  \n",
            "  inflating: MCXStudio/MCXSuite/mcx/example/srctest/run_7benchmark-arcsine.sh  \n",
            "  inflating: MCXStudio/MCXSuite/mcx/example/srctest/9benchmark-fourierx.json  \n",
            "  inflating: MCXStudio/MCXSuite/mcx/example/srctest/7benchmark-arcsine.json  \n",
            "  inflating: MCXStudio/MCXSuite/mcx/example/srctest/2benchmark-cone.json  \n",
            "  inflating: MCXStudio/MCXSuite/mcx/example/srctest/run_10benchmark-fourierx2d.sh  \n",
            "  inflating: MCXStudio/MCXSuite/mcx/example/srctest/run_1benchmark-isotropic.sh  \n",
            "  inflating: MCXStudio/MCXSuite/mcx/example/srctest/run_4benchmark-planar.sh  \n",
            "  inflating: MCXStudio/MCXSuite/mcx/example/srctest/run_6benchmark-fourier.sh  \n",
            "  inflating: MCXStudio/MCXSuite/mcx/example/srctest/run_13benchmark-slit.sh  \n",
            "  inflating: MCXStudio/MCXSuite/mcx/example/srctest/1benchmark-isotropic.json  \n",
            "  inflating: MCXStudio/MCXSuite/mcx/example/srctest/run_2benchmark-cone.sh  \n",
            "  inflating: MCXStudio/MCXSuite/mcx/example/srctest/run_0benchmark-pencil.sh  \n",
            "  inflating: MCXStudio/MCXSuite/mcx/example/srctest/run_9benchmark-fourierx.sh  \n",
            "  inflating: MCXStudio/MCXSuite/mcx/example/srctest/run_3benchmark-gaussian.sh  \n",
            "  inflating: MCXStudio/MCXSuite/mcx/example/srctest/11benchmark-zgaussian.json  \n",
            "    linking: MCXStudio/MCXSuite/mcx/example/srctest/4benchmark-planar.json  -> ../benchmark/benchmark3.json \n",
            "    linking: MCXStudio/MCXSuite/mcx/example/srctest/0benchmark-pencil.json  -> ../benchmark/benchmark1.json \n",
            "   creating: MCXStudio/MCXSuite/mcx/example/skinvessel/\n",
            "  inflating: MCXStudio/MCXSuite/mcx/example/skinvessel/run_mcxyz_bench.bat  \n",
            "  inflating: MCXStudio/MCXSuite/mcx/example/skinvessel/skinvessel.json  \n",
            "  inflating: MCXStudio/MCXSuite/mcx/example/skinvessel/run_mcxyz_bench.sh  \n",
            "  inflating: MCXStudio/MCXSuite/mcx/example/skinvessel/mcxyz_bench.json  \n",
            "  inflating: MCXStudio/MCXSuite/mcx/example/skinvessel/README.txt  \n",
            "   creating: MCXStudio/MCXSuite/mcx/example/colin27/\n",
            "  inflating: MCXStudio/MCXSuite/mcx/example/colin27/dump_json.sh  \n",
            "  inflating: MCXStudio/MCXSuite/mcx/example/colin27/dump_volume.sh  \n",
            "  inflating: MCXStudio/MCXSuite/mcx/example/colin27/run_atlas.sh  \n",
            " extracting: MCXStudio/MCXSuite/mcx/example/colin27/dump_volume.bat  \n",
            " extracting: MCXStudio/MCXSuite/mcx/example/colin27/run_atlas.bat  \n",
            "  inflating: MCXStudio/MCXSuite/mcx/example/colin27/README.txt  \n",
            "  inflating: MCXStudio/MCXSuite/mcx/example/colin27/dump_json.bat  \n",
            "   creating: MCXStudio/MCXSuite/mcx/example/masktest/\n",
            "  inflating: MCXStudio/MCXSuite/mcx/example/masktest/run_masktest.sh  \n",
            "  inflating: MCXStudio/MCXSuite/mcx/example/masktest/mtest.inp  \n",
            "  inflating: MCXStudio/MCXSuite/mcx/example/masktest/plotresults.m  \n",
            "  inflating: MCXStudio/MCXSuite/mcx/example/masktest/cubic8.json  \n",
            "   creating: MCXStudio/MCXSuite/mcx/example/sphbox/\n",
            "  inflating: MCXStudio/MCXSuite/mcx/example/sphbox/runspherebox.sh  \n",
            "  inflating: MCXStudio/MCXSuite/mcx/example/sphbox/spherebox.inp  \n",
            "  inflating: MCXStudio/MCXSuite/mcx/example/sphbox/plotresults.m  \n",
            "  inflating: MCXStudio/MCXSuite/mcx/example/sphbox/spherebox.json  \n",
            "  inflating: MCXStudio/MCXSuite/mcx/example/sphbox/show_json.sh  \n",
            "  inflating: MCXStudio/MCXSuite/mcx/example/sphbox/show_json.bat  \n",
            "  inflating: MCXStudio/MCXSuite/mcx/example/sphbox/README.txt  \n",
            "  inflating: MCXStudio/MCXSuite/mcx/example/sphbox/sphdiffsemiinf.mat  \n",
            "  inflating: MCXStudio/MCXSuite/mcx/example/sphbox/runspherebox.bat  \n",
            "   creating: MCXStudio/MCXSuite/mcx/test/\n",
            "  inflating: MCXStudio/MCXSuite/mcx/test/testmcx.sh  \n",
            "  inflating: MCXStudio/MCXSuite/mcx/test/reporttest.pl  \n",
            "   creating: MCXStudio/MCXSuite/mcx/mcxcloud/\n",
            "   creating: MCXStudio/MCXSuite/mcx/mcxcloud/frontend/\n",
            "  inflating: MCXStudio/MCXSuite/mcx/mcxcloud/frontend/index.html  \n",
            "   creating: MCXStudio/MCXSuite/mcx/mcxcloud/backend/\n",
            "  inflating: MCXStudio/MCXSuite/mcx/mcxcloud/backend/createdb.sql  \n",
            "  inflating: MCXStudio/MCXSuite/mcx/mcxcloud/backend/mcxcloudd  \n",
            "  inflating: MCXStudio/MCXSuite/mcx/mcxcloud/backend/mcxserver.cgi  \n",
            "   creating: MCXStudio/MCXSuite/mcx/doc/\n",
            "  inflating: MCXStudio/MCXSuite/mcx/doc/mcx_help.html  \n",
            "  inflating: MCXStudio/MCXSuite/mcx/doc/Setup_MCX.txt  \n",
            "   creating: MCXStudio/MCXSuite/mcx/doc/mcx_help_files/\n",
            "  inflating: MCXStudio/MCXSuite/mcx/doc/mcx_help_files/wikistyle_column.css  \n",
            "  inflating: MCXStudio/MCXSuite/mcx/doc/mcx_help_files/mcx_mmc_header.png  \n",
            "  inflating: MCXStudio/MCXSuite/mcx/doc/mcx_workflow.png  \n",
            "  inflating: MCXStudio/MCXSuite/mcx/doc/FAQ.txt  \n",
            "  inflating: MCXStudio/MCXSuite/mcx/doc/Get_Started.txt  \n",
            "  inflating: MCXStudio/MCXSuite/mcx/doc/Citation.txt  \n",
            "  inflating: MCXStudio/MCXSuite/mcx/doc/mcx_command_option_cheatsheet.xlsx  \n",
            "  inflating: MCXStudio/MCXSuite/mcx/doc/gendoc.sh  \n",
            "  inflating: MCXStudio/MCXSuite/mcx/doc/Download.txt  \n",
            "  inflating: MCXStudio/MCXSuite/mcx/ChangeLog.txt  \n",
            "  inflating: MCXStudio/MCXSuite/mcx/README.txt  \n",
            "  inflating: MCXStudio/MCXSuite/mcx/README.md  \n",
            "   creating: MCXStudio/MCXSuite/mcx/utils/\n",
            "  inflating: MCXStudio/MCXSuite/mcx/utils/mcxloadfile.m  \n",
            "  inflating: MCXStudio/MCXSuite/mcx/utils/normalizemcx.m  \n",
            "  inflating: MCXStudio/MCXSuite/mcx/utils/loadmch.m  \n",
            "  inflating: MCXStudio/MCXSuite/mcx/utils/cwdiffusion.m  \n",
            "  inflating: MCXStudio/MCXSuite/mcx/utils/mcxplotshapes.m  \n",
            "  inflating: MCXStudio/MCXSuite/mcx/utils/mcxrfreplay.m  \n",
            "  inflating: MCXStudio/MCXSuite/mcx/utils/tddiffusion.m  \n",
            "  inflating: MCXStudio/MCXSuite/mcx/utils/islicer.m  \n",
            "  inflating: MCXStudio/MCXSuite/mcx/utils/slice3i.m  \n",
            "  inflating: MCXStudio/MCXSuite/mcx/utils/getdistance.m  \n",
            "  inflating: MCXStudio/MCXSuite/mcx/utils/cwfluxdiffusion.m  \n",
            "  inflating: MCXStudio/MCXSuite/mcx/utils/mcxloadnii.m  \n",
            "  inflating: MCXStudio/MCXSuite/mcx/utils/loadmc2.m  \n",
            "  inflating: MCXStudio/MCXSuite/mcx/utils/DESCRIPTION  \n",
            "  inflating: MCXStudio/MCXSuite/mcx/utils/serialcorr.m  \n",
            "  inflating: MCXStudio/MCXSuite/mcx/utils/mcxcwdref.m  \n",
            "  inflating: MCXStudio/MCXSuite/mcx/utils/mcxdetphoton.m  \n",
            "  inflating: MCXStudio/MCXSuite/mcx/utils/mcxplotvol.m  \n",
            "  inflating: MCXStudio/MCXSuite/mcx/utils/json2mcx.m  \n",
            "  inflating: MCXStudio/MCXSuite/mcx/utils/INDEX  \n",
            "  inflating: MCXStudio/MCXSuite/mcx/utils/mcxcreate.m  \n",
            "  inflating: MCXStudio/MCXSuite/mcx/utils/mcx2json.m  \n",
            "  inflating: MCXStudio/MCXSuite/mcx/utils/mcxdcsg1.m  \n",
            "  inflating: MCXStudio/MCXSuite/mcx/utils/mcxdetweight.m  \n",
            "  inflating: MCXStudio/MCXSuite/mcx/utils/mcxdettime.m  \n",
            "  inflating: MCXStudio/MCXSuite/mcx/utils/NEWS  \n",
            "  inflating: MCXStudio/MCXSuite/mcx/utils/mcxsvmc.m  \n",
            "  inflating: MCXStudio/MCXSuite/mcx/utils/mcxpreview.m  \n",
            "  inflating: MCXStudio/MCXSuite/mcx/utils/image3i.m  \n",
            "  inflating: MCXStudio/MCXSuite/mcx/utils/mcxnuvoxel.m  \n",
            "  inflating: MCXStudio/MCXSuite/mcx/utils/mcxmeanscat.m  \n",
            "   creating: MCXStudio/MCXSuite/mcx/utils/python/\n",
            "  inflating: MCXStudio/MCXSuite/mcx/utils/python/__init__.py  \n",
            "  inflating: MCXStudio/MCXSuite/mcx/utils/rbgetreff.m  \n",
            "  inflating: MCXStudio/MCXSuite/mcx/utils/mcxmeanpath.m  \n",
            "  inflating: MCXStudio/MCXSuite/mcx/utils/mcxfluence2energy.m  \n",
            "  inflating: MCXStudio/MCXSuite/mcx/utils/mcxplotphotons.m  \n",
            "  inflating: MCXStudio/MCXSuite/mcx/utils/cwfluencediffusion.m  \n",
            "  inflating: MCXStudio/MCXSuite/mcx/utils/mcxdettpsf.m  \n",
            "   creating: MCXStudio/MCXSuite/mcx/schema/\n",
            "  inflating: MCXStudio/MCXSuite/mcx/schema/mcxinput.json  \n",
            "   creating: MCXStudio/MCXSuite/mmc/\n",
            "   creating: MCXStudio/MCXSuite/mmc/bin/\n",
            "  inflating: MCXStudio/MCXSuite/mmc/bin/mmc  \n",
            "  inflating: MCXStudio/MCXSuite/mmc/Reference.txt  \n",
            "  inflating: MCXStudio/MCXSuite/mmc/LICENSE.txt  \n",
            "  inflating: MCXStudio/MCXSuite/mmc/AUTHORS.txt  \n",
            "   creating: MCXStudio/MCXSuite/mmc/matlab/\n",
            "  inflating: MCXStudio/MCXSuite/mmc/matlab/loadmch.m  \n",
            "  inflating: MCXStudio/MCXSuite/mmc/matlab/sphdiffscatter.m  \n",
            "  inflating: MCXStudio/MCXSuite/mmc/matlab/besselyprime.m  \n",
            "  inflating: MCXStudio/MCXSuite/mmc/matlab/spbesselj.m  \n",
            "  inflating: MCXStudio/MCXSuite/mmc/matlab/mmcmeanpath.m  \n",
            "  inflating: MCXStudio/MCXSuite/mmc/matlab/readmmcelem.m  \n",
            "  inflating: MCXStudio/MCXSuite/mmc/matlab/mmcjmus.m  \n",
            "  inflating: MCXStudio/MCXSuite/mmc/matlab/mmcjacobian.m  \n",
            "  inflating: MCXStudio/MCXSuite/mmc/matlab/load_mc_prop.m  \n",
            "  inflating: MCXStudio/MCXSuite/mmc/matlab/mmcjmua.m  \n",
            "  inflating: MCXStudio/MCXSuite/mmc/matlab/sphdiffBcoeff.m  \n",
            "  inflating: MCXStudio/MCXSuite/mmc/matlab/sphdiffincident.m  \n",
            "  inflating: MCXStudio/MCXSuite/mmc/matlab/sphdiffusionscatteronly.m  \n",
            "  inflating: MCXStudio/MCXSuite/mmc/matlab/genT6mesh.m  \n",
            "  inflating: MCXStudio/MCXSuite/mmc/matlab/sphdiffinterior.m  \n",
            "  inflating: MCXStudio/MCXSuite/mmc/matlab/besseljprime.m  \n",
            "  inflating: MCXStudio/MCXSuite/mmc/matlab/sphdiffCcoeff.m  \n",
            "  inflating: MCXStudio/MCXSuite/mmc/matlab/mmcdettime.m  \n",
            "  inflating: MCXStudio/MCXSuite/mmc/matlab/README_spherediffusion.txt  \n",
            "  inflating: MCXStudio/MCXSuite/mmc/matlab/mmcdettpsf.m  \n",
            "  inflating: MCXStudio/MCXSuite/mmc/matlab/readmmcnode.m  \n",
            "  inflating: MCXStudio/MCXSuite/mmc/matlab/generate_g1.m  \n",
            "  inflating: MCXStudio/MCXSuite/mmc/matlab/sphdiffusionsemi.m  \n",
            "  inflating: MCXStudio/MCXSuite/mmc/matlab/savemmcmesh.m  \n",
            "  inflating: MCXStudio/MCXSuite/mmc/matlab/mmcsrcdomain.m  \n",
            "  inflating: MCXStudio/MCXSuite/mmc/matlab/mmcraytrace.m  \n",
            "  inflating: MCXStudio/MCXSuite/mmc/matlab/sphdiffexterior.m  \n",
            "  inflating: MCXStudio/MCXSuite/mmc/matlab/mmcadddet.m  \n",
            "  inflating: MCXStudio/MCXSuite/mmc/matlab/cart2sphorigin.m  \n",
            "  inflating: MCXStudio/MCXSuite/mmc/matlab/spbesselhprime.m  \n",
            "  inflating: MCXStudio/MCXSuite/mmc/matlab/spharmonic.m  \n",
            "  inflating: MCXStudio/MCXSuite/mmc/matlab/sphdiffusioninfinite.m  \n",
            "  inflating: MCXStudio/MCXSuite/mmc/matlab/sphdiffusionslab.m  \n",
            "  inflating: MCXStudio/MCXSuite/mmc/matlab/spbesselyprime.m  \n",
            "  inflating: MCXStudio/MCXSuite/mmc/matlab/spbesselh.m  \n",
            "  inflating: MCXStudio/MCXSuite/mmc/matlab/mmcmeanscat.m  \n",
            "  inflating: MCXStudio/MCXSuite/mmc/matlab/sphdiffAcoeff.m  \n",
            "  inflating: MCXStudio/MCXSuite/mmc/matlab/spbessely.m  \n",
            "  inflating: MCXStudio/MCXSuite/mmc/matlab/mmcdetweight.m  \n",
            "  inflating: MCXStudio/MCXSuite/mmc/matlab/mmcaddsrc.m  \n",
            "  inflating: MCXStudio/MCXSuite/mmc/matlab/readmmcface.m  \n",
            "  inflating: MCXStudio/MCXSuite/mmc/matlab/sphdiffusion.m  \n",
            "  inflating: MCXStudio/MCXSuite/mmc/matlab/readmmcmesh.m  \n",
            "  inflating: MCXStudio/MCXSuite/mmc/matlab/spbesseljprime.m  \n",
            "  inflating: MCXStudio/MCXSuite/mmc/matlab/besselhprime.m  \n",
            "  inflating: MCXStudio/MCXSuite/mmc/matlab/genT5mesh.m  \n",
            "  inflating: MCXStudio/MCXSuite/mmc/ChangeLog.txt  \n",
            "  inflating: MCXStudio/MCXSuite/mmc/README.txt  \n",
            "  inflating: MCXStudio/MCXSuite/mmc/README.md  \n",
            "   creating: MCXStudio/MCXSuite/mmc/examples/\n",
            "   creating: MCXStudio/MCXSuite/mmc/examples/sfdi2layer/\n",
            "  inflating: MCXStudio/MCXSuite/mmc/examples/sfdi2layer/prop_sfdi.dat  \n",
            "  inflating: MCXStudio/MCXSuite/mmc/examples/sfdi2layer/plot_result.m  \n",
            "  inflating: MCXStudio/MCXSuite/mmc/examples/sfdi2layer/sfdi.inp  \n",
            "  inflating: MCXStudio/MCXSuite/mmc/examples/sfdi2layer/run_test.sh  \n",
            "  inflating: MCXStudio/MCXSuite/mmc/examples/sfdi2layer/createmesh.m  \n",
            "  inflating: MCXStudio/MCXSuite/mmc/examples/sfdi2layer/README.txt  \n",
            "   creating: MCXStudio/MCXSuite/mmc/examples/mmclbench/\n",
            "  inflating: MCXStudio/MCXSuite/mmc/examples/mmclbench/run_bench.sh  \n",
            "   creating: MCXStudio/MCXSuite/mmc/examples/widedet/\n",
            "  inflating: MCXStudio/MCXSuite/mmc/examples/widedet/widedet.inp  \n",
            "  inflating: MCXStudio/MCXSuite/mmc/examples/widedet/run_test.sh  \n",
            "  inflating: MCXStudio/MCXSuite/mmc/examples/widedet/plot_results.m  \n",
            "  inflating: MCXStudio/MCXSuite/mmc/examples/widedet/createmesh.m  \n",
            "  inflating: MCXStudio/MCXSuite/mmc/examples/widedet/prop_widedet.dat  \n",
            "  inflating: MCXStudio/MCXSuite/mmc/examples/widedet/README.txt  \n",
            "   creating: MCXStudio/MCXSuite/mmc/examples/regression/\n",
            "   creating: MCXStudio/MCXSuite/mmc/examples/regression/exitangle/\n",
            "  inflating: MCXStudio/MCXSuite/mmc/examples/regression/exitangle/tank_planar.inp  \n",
            "  inflating: MCXStudio/MCXSuite/mmc/examples/regression/exitangle/testexitdir.m  \n",
            "  inflating: MCXStudio/MCXSuite/mmc/examples/regression/exitangle/phantom.m  \n",
            "  inflating: MCXStudio/MCXSuite/mmc/examples/regression/exitangle/run_test_planar.sh  \n",
            " extracting: MCXStudio/MCXSuite/mmc/examples/regression/exitangle/prop_tank.dat  \n",
            "   creating: MCXStudio/MCXSuite/mmc/examples/meshtest/\n",
            "  inflating: MCXStudio/MCXSuite/mmc/examples/meshtest/prop_mesh2.dat  \n",
            "  inflating: MCXStudio/MCXSuite/mmc/examples/meshtest/mesh2.json  \n",
            "  inflating: MCXStudio/MCXSuite/mmc/examples/meshtest/plotmmcsph.m  \n",
            "  inflating: MCXStudio/MCXSuite/mmc/examples/meshtest/run_test.sh  \n",
            "  inflating: MCXStudio/MCXSuite/mmc/examples/meshtest/prop_mesh0.dat  \n",
            "  inflating: MCXStudio/MCXSuite/mmc/examples/meshtest/mesh1.inp  \n",
            "  inflating: MCXStudio/MCXSuite/mmc/examples/meshtest/mesh2.inp  \n",
            "  inflating: MCXStudio/MCXSuite/mmc/examples/meshtest/prop_mesh1.dat  \n",
            "  inflating: MCXStudio/MCXSuite/mmc/examples/meshtest/mesh1.json  \n",
            "  inflating: MCXStudio/MCXSuite/mmc/examples/meshtest/createmesh.m  \n",
            "  inflating: MCXStudio/MCXSuite/mmc/examples/meshtest/README.txt  \n",
            "  inflating: MCXStudio/MCXSuite/mmc/examples/meshtest/sphdiffsemiinf.mat  \n",
            "  inflating: MCXStudio/MCXSuite/mmc/examples/meshtest/mesh0.json  \n",
            "  inflating: MCXStudio/MCXSuite/mmc/examples/meshtest/mesh0.inp  \n",
            "   creating: MCXStudio/MCXSuite/mmc/examples/sharing/\n",
            "  inflating: MCXStudio/MCXSuite/mmc/examples/sharing/run_test.sh  \n",
            "  inflating: MCXStudio/MCXSuite/mmc/examples/sharing/createpattern.m  \n",
            "  inflating: MCXStudio/MCXSuite/mmc/examples/sharing/prop_sharing.dat  \n",
            "  inflating: MCXStudio/MCXSuite/mmc/examples/sharing/plotresults.m  \n",
            "  inflating: MCXStudio/MCXSuite/mmc/examples/sharing/createmesh.m  \n",
            "  inflating: MCXStudio/MCXSuite/mmc/examples/sharing/sharing.inp  \n",
            "  inflating: MCXStudio/MCXSuite/mmc/examples/sharing/README.txt  \n",
            "   creating: MCXStudio/MCXSuite/mmc/examples/ssehmin/\n",
            "  inflating: MCXStudio/MCXSuite/mmc/examples/ssehmin/ssehmin_test.c  \n",
            "   creating: MCXStudio/MCXSuite/mmc/examples/rngtest/\n",
            "  inflating: MCXStudio/MCXSuite/mmc/examples/rngtest/rngtest.c  \n",
            "  inflating: MCXStudio/MCXSuite/mmc/examples/rngtest/makefile_logistic  \n",
            "  inflating: MCXStudio/MCXSuite/mmc/examples/rngtest/Makefile  \n",
            "  inflating: MCXStudio/MCXSuite/mmc/examples/rngtest/makefile_sfmt  \n",
            "   creating: MCXStudio/MCXSuite/mmc/examples/dcs/\n",
            "  inflating: MCXStudio/MCXSuite/mmc/examples/dcs/dcs_g1_Db.m  \n",
            "  inflating: MCXStudio/MCXSuite/mmc/examples/dcs/prop_dcs.dat  \n",
            "  inflating: MCXStudio/MCXSuite/mmc/examples/dcs/dcs_example.m  \n",
            "  inflating: MCXStudio/MCXSuite/mmc/examples/dcs/dcs.inp  \n",
            "  inflating: MCXStudio/MCXSuite/mmc/examples/dcs/dcs_g2_Db_fms.m  \n",
            "  inflating: MCXStudio/MCXSuite/mmc/examples/dcs/run_test.sh  \n",
            "  inflating: MCXStudio/MCXSuite/mmc/examples/dcs/dcs_g2_Db.m  \n",
            "  inflating: MCXStudio/MCXSuite/mmc/examples/dcs/dcs_g1_Db_fms.m  \n",
            "  inflating: MCXStudio/MCXSuite/mmc/examples/dcs/createmesh.m  \n",
            "  inflating: MCXStudio/MCXSuite/mmc/examples/dcs/README.txt  \n",
            "   creating: MCXStudio/MCXSuite/mmc/examples/reftest/\n",
            "  inflating: MCXStudio/MCXSuite/mmc/examples/reftest/velem_onecube.dat  \n",
            "  inflating: MCXStudio/MCXSuite/mmc/examples/reftest/plotmmcdebug.m  \n",
            "  inflating: MCXStudio/MCXSuite/mmc/examples/reftest/facenb_onecube.dat  \n",
            "  inflating: MCXStudio/MCXSuite/mmc/examples/reftest/run_test.sh  \n",
            "  inflating: MCXStudio/MCXSuite/mmc/examples/reftest/onecube.inp  \n",
            "  inflating: MCXStudio/MCXSuite/mmc/examples/reftest/prop_onecube.dat  \n",
            "  inflating: MCXStudio/MCXSuite/mmc/examples/reftest/createmesh.m  \n",
            "  inflating: MCXStudio/MCXSuite/mmc/examples/reftest/README.txt  \n",
            "  inflating: MCXStudio/MCXSuite/mmc/examples/reftest/elem_onecube.dat  \n",
            "  inflating: MCXStudio/MCXSuite/mmc/examples/reftest/node_onecube.dat  \n",
            "   creating: MCXStudio/MCXSuite/mmc/examples/mcxsph/\n",
            "  inflating: MCXStudio/MCXSuite/mmc/examples/mcxsph/box.inp  \n",
            "  inflating: MCXStudio/MCXSuite/mmc/examples/mcxsph/runspherebox.sh  \n",
            "  inflating: MCXStudio/MCXSuite/mmc/examples/mcxsph/benchbox.sh  \n",
            "  inflating: MCXStudio/MCXSuite/mmc/examples/mcxsph/spherebox.inp  \n",
            "  inflating: MCXStudio/MCXSuite/mmc/examples/mcxsph/createmcxbin.m  \n",
            "   creating: MCXStudio/MCXSuite/mmc/examples/sphshells/\n",
            "  inflating: MCXStudio/MCXSuite/mmc/examples/sphshells/elem_dmmc_sphshells.dat  \n",
            "  inflating: MCXStudio/MCXSuite/mmc/examples/sphshells/run_dmmc.sh  \n",
            "  inflating: MCXStudio/MCXSuite/mmc/examples/sphshells/dmmc_sphshells.json  \n",
            "  inflating: MCXStudio/MCXSuite/mmc/examples/sphshells/run_mmc.sh  \n",
            "  inflating: MCXStudio/MCXSuite/mmc/examples/sphshells/facenb_dmmc_sphshells.dat  \n",
            "  inflating: MCXStudio/MCXSuite/mmc/examples/sphshells/prop_dmmc_sphshells.dat  \n",
            "  inflating: MCXStudio/MCXSuite/mmc/examples/sphshells/createsession.m  \n",
            "  inflating: MCXStudio/MCXSuite/mmc/examples/sphshells/face_dmmc_sphshells.dat  \n",
            "  inflating: MCXStudio/MCXSuite/mmc/examples/sphshells/node_dmmc_sphshells.dat  \n",
            "  inflating: MCXStudio/MCXSuite/mmc/examples/sphshells/velem_dmmc_sphshells.dat  \n",
            "   creating: MCXStudio/MCXSuite/mmc/examples/validation/\n",
            "  inflating: MCXStudio/MCXSuite/mmc/examples/validation/prop_cube2.dat  \n",
            "  inflating: MCXStudio/MCXSuite/mmc/examples/validation/facenb_cube2.dat  \n",
            "  inflating: MCXStudio/MCXSuite/mmc/examples/validation/cube.inp  \n",
            "  inflating: MCXStudio/MCXSuite/mmc/examples/validation/cube2.inp  \n",
            "  inflating: MCXStudio/MCXSuite/mmc/examples/validation/plotcuberes.m  \n",
            "  inflating: MCXStudio/MCXSuite/mmc/examples/validation/elem_cube2.dat  \n",
            "  inflating: MCXStudio/MCXSuite/mmc/examples/validation/run_test.sh  \n",
            "  inflating: MCXStudio/MCXSuite/mmc/examples/validation/cube.json  \n",
            "  inflating: MCXStudio/MCXSuite/mmc/examples/validation/velem_cube2.dat  \n",
            "  inflating: MCXStudio/MCXSuite/mmc/examples/validation/run_tess.sh  \n",
            "  inflating: MCXStudio/MCXSuite/mmc/examples/validation/prop_cube.dat  \n",
            "  inflating: MCXStudio/MCXSuite/mmc/examples/validation/createmesh.m  \n",
            "  inflating: MCXStudio/MCXSuite/mmc/examples/validation/node_cube2.dat  \n",
            "  inflating: MCXStudio/MCXSuite/mmc/examples/validation/README.txt  \n",
            "  inflating: MCXStudio/MCXSuite/mmc/examples/validation/tessmesh.m  \n",
            "  inflating: MCXStudio/MCXSuite/mmc/examples/validation/benchspeed.sh  \n",
            "  inflating: MCXStudio/MCXSuite/mmc/examples/validation/cube2.json  \n",
            "   creating: MCXStudio/MCXSuite/mmc/examples/onecube/\n",
            "  inflating: MCXStudio/MCXSuite/mmc/examples/onecube/onecube_isotropic.json  \n",
            "  inflating: MCXStudio/MCXSuite/mmc/examples/onecube/velem_onecube.dat  \n",
            "  inflating: MCXStudio/MCXSuite/mmc/examples/onecube/plotmmcdebug.m  \n",
            "  inflating: MCXStudio/MCXSuite/mmc/examples/onecube/facenb_onecube.dat  \n",
            "  inflating: MCXStudio/MCXSuite/mmc/examples/onecube/run_test.sh  \n",
            "  inflating: MCXStudio/MCXSuite/mmc/examples/onecube/onecube.inp  \n",
            "  inflating: MCXStudio/MCXSuite/mmc/examples/onecube/prop_onecube.dat  \n",
            "  inflating: MCXStudio/MCXSuite/mmc/examples/onecube/vnode_onecube.dat  \n",
            "  inflating: MCXStudio/MCXSuite/mmc/examples/onecube/createmesh.m  \n",
            "  inflating: MCXStudio/MCXSuite/mmc/examples/onecube/onecube.json  \n",
            "  inflating: MCXStudio/MCXSuite/mmc/examples/onecube/README.txt  \n",
            "  inflating: MCXStudio/MCXSuite/mmc/examples/onecube/elem_onecube.dat  \n",
            "  inflating: MCXStudio/MCXSuite/mmc/examples/onecube/node_onecube.dat  \n",
            "  inflating: MCXStudio/MCXSuite/mmc/examples/README.txt  \n",
            "   creating: MCXStudio/MCXSuite/mmc/examples/sphere/\n",
            "  inflating: MCXStudio/MCXSuite/mmc/examples/sphere/addsource_sphere.m  \n",
            "  inflating: MCXStudio/MCXSuite/mmc/examples/sphere/run_test.sh  \n",
            "  inflating: MCXStudio/MCXSuite/mmc/examples/sphere/planar.inp  \n",
            "  inflating: MCXStudio/MCXSuite/mmc/examples/sphere/plotresults.m  \n",
            " extracting: MCXStudio/MCXSuite/mmc/examples/sphere/prop_sphere.dat  \n",
            "  inflating: MCXStudio/MCXSuite/mmc/examples/sphere/README.txt  \n",
            "   creating: MCXStudio/MCXSuite/mmc/examples/replaywide/\n",
            "  inflating: MCXStudio/MCXSuite/mmc/examples/replaywide/replay2.inp  \n",
            "  inflating: MCXStudio/MCXSuite/mmc/examples/replaywide/run_test.sh  \n",
            "  inflating: MCXStudio/MCXSuite/mmc/examples/replaywide/prop_replaywide.dat  \n",
            "  inflating: MCXStudio/MCXSuite/mmc/examples/replaywide/replay3.inp  \n",
            "  inflating: MCXStudio/MCXSuite/mmc/examples/replaywide/createpattern.m  \n",
            "  inflating: MCXStudio/MCXSuite/mmc/examples/replaywide/replay1.inp  \n",
            "  inflating: MCXStudio/MCXSuite/mmc/examples/replaywide/plotresults.m  \n",
            "  inflating: MCXStudio/MCXSuite/mmc/examples/replaywide/createmesh.m  \n",
            "  inflating: MCXStudio/MCXSuite/mmc/examples/replaywide/init_MC.inp  \n",
            "   creating: MCXStudio/MCXSuite/mmc/examples/skinvessel/\n",
            "  inflating: MCXStudio/MCXSuite/mmc/examples/skinvessel/dmmc_skinvessel.json  \n",
            "  inflating: MCXStudio/MCXSuite/mmc/examples/skinvessel/skinvessel.json  \n",
            "  inflating: MCXStudio/MCXSuite/mmc/examples/skinvessel/run_dmmc.sh  \n",
            "  inflating: MCXStudio/MCXSuite/mmc/examples/skinvessel/facenb_dmmc_skinvessel.dat  \n",
            "  inflating: MCXStudio/MCXSuite/mmc/examples/skinvessel/run_mmc.sh  \n",
            "  inflating: MCXStudio/MCXSuite/mmc/examples/skinvessel/node_dmmc_skinvessel.dat  \n",
            "  inflating: MCXStudio/MCXSuite/mmc/examples/skinvessel/createsession.m  \n",
            "  inflating: MCXStudio/MCXSuite/mmc/examples/skinvessel/elem_dmmc_skinvessel.dat  \n",
            "  inflating: MCXStudio/MCXSuite/mmc/examples/skinvessel/face_dmmc_skinvessel.dat  \n",
            "  inflating: MCXStudio/MCXSuite/mmc/examples/skinvessel/prop_dmmc_skinvessel.dat  \n",
            "  inflating: MCXStudio/MCXSuite/mmc/examples/skinvessel/velem_dmmc_skinvessel.dat  \n",
            "   creating: MCXStudio/MCXSuite/mmc/examples/planar/\n",
            "  inflating: MCXStudio/MCXSuite/mmc/examples/planar/plotresult.m  \n",
            " extracting: MCXStudio/MCXSuite/mmc/examples/planar/prop_digimouse.dat  \n",
            "  inflating: MCXStudio/MCXSuite/mmc/examples/planar/run_test.sh  \n",
            "  inflating: MCXStudio/MCXSuite/mmc/examples/planar/planar.inp  \n",
            "  inflating: MCXStudio/MCXSuite/mmc/examples/planar/pointsrc.inp  \n",
            "  inflating: MCXStudio/MCXSuite/mmc/examples/planar/addsource_digimouse.m  \n",
            "  inflating: MCXStudio/MCXSuite/mmc/examples/planar/README.txt  \n",
            "   creating: MCXStudio/MCXSuite/mmc/examples/colin27/\n",
            "  inflating: MCXStudio/MCXSuite/mmc/examples/colin27/prop_brain.dat  \n",
            "  inflating: MCXStudio/MCXSuite/mmc/examples/colin27/run_test.sh  \n",
            "  inflating: MCXStudio/MCXSuite/mmc/examples/colin27/createmesh.m  \n",
            "  inflating: MCXStudio/MCXSuite/mmc/examples/colin27/README.txt  \n",
            "  inflating: MCXStudio/MCXSuite/mmc/examples/colin27/brain.inp  \n",
            "   creating: MCXStudio/MCXSuite/mmc/examples/statnoise/\n",
            "  inflating: MCXStudio/MCXSuite/mmc/examples/statnoise/run_test.sh  \n",
            "  inflating: MCXStudio/MCXSuite/mmc/examples/statnoise/vartest.inp  \n",
            "  inflating: MCXStudio/MCXSuite/mmc/examples/statnoise/createmesh.m  \n",
            "  inflating: MCXStudio/MCXSuite/mmc/examples/statnoise/README.txt  \n",
            "  inflating: MCXStudio/MCXSuite/mmc/examples/statnoise/prop_cube20.dat  \n",
            "  inflating: MCXStudio/MCXSuite/mmc/examples/statnoise/vartest.json  \n",
            "   creating: MCXStudio/MCXSuite/mmc/examples/replay/\n",
            "  inflating: MCXStudio/MCXSuite/mmc/examples/replay/run_test.sh  \n",
            "  inflating: MCXStudio/MCXSuite/mmc/examples/replay/replaytest.inp  \n",
            "  inflating: MCXStudio/MCXSuite/mmc/examples/replay/plotjacobian.m  \n",
            "  inflating: MCXStudio/MCXSuite/mmc/examples/replay/createmesh.m  \n",
            "  inflating: MCXStudio/MCXSuite/mmc/examples/replay/prop_replaytest.dat  \n",
            "   creating: MCXStudio/MCXSuite/mmc/examples/misctest/\n",
            "  inflating: MCXStudio/MCXSuite/mmc/examples/misctest/bary_external.m  \n",
            "   creating: MCXStudio/MCXSuite/mcxcl/\n",
            "  inflating: MCXStudio/MCXSuite/mcxcl/TODO.txt  \n",
            "   creating: MCXStudio/MCXSuite/mcxcl/speedcontest/\n",
            "  inflating: MCXStudio/MCXSuite/mcxcl/speedcontest/mcxcontest  \n",
            "   creating: MCXStudio/MCXSuite/mcxcl/bin/\n",
            "  inflating: MCXStudio/MCXSuite/mcxcl/bin/mcxcl  \n",
            "   creating: MCXStudio/MCXSuite/mcxcl/setup/\n",
            "   creating: MCXStudio/MCXSuite/mcxcl/setup/win64/\n",
            "  inflating: MCXStudio/MCXSuite/mcxcl/setup/win64/apply_timeout_registry_fix.bat  \n",
            "  inflating: MCXStudio/MCXSuite/mcxcl/setup/win64/launch_timeout_registry_fix.reg  \n",
            "  inflating: MCXStudio/MCXSuite/mcxcl/LICENSE.txt  \n",
            "  inflating: MCXStudio/MCXSuite/mcxcl/AUTHORS.txt  \n",
            "   creating: MCXStudio/MCXSuite/mcxcl/example/\n",
            "   creating: MCXStudio/MCXSuite/mcxcl/example/benchmark/\n",
            "  inflating: MCXStudio/MCXSuite/mcxcl/example/benchmark/run_benchmark2a.sh  \n",
            "  inflating: MCXStudio/MCXSuite/mcxcl/example/benchmark/run_benchmark1.sh  \n",
            "  inflating: MCXStudio/MCXSuite/mcxcl/example/benchmark/run_benchmark2.sh  \n",
            "  inflating: MCXStudio/MCXSuite/mcxcl/example/benchmark/benchmark1.json  \n",
            "  inflating: MCXStudio/MCXSuite/mcxcl/example/benchmark/run_benchmark3.sh  \n",
            "  inflating: MCXStudio/MCXSuite/mcxcl/example/benchmark/run_benchmark2.bat  \n",
            "  inflating: MCXStudio/MCXSuite/mcxcl/example/benchmark/run_benchmark3.bat  \n",
            " extracting: MCXStudio/MCXSuite/mcxcl/example/benchmark/run_benchmark1.bat  \n",
            "  inflating: MCXStudio/MCXSuite/mcxcl/example/benchmark/benchmark3.json  \n",
            "  inflating: MCXStudio/MCXSuite/mcxcl/example/benchmark/cubic60.json  \n",
            "  inflating: MCXStudio/MCXSuite/mcxcl/example/mcxcl_demo.mcxp  \n",
            "   creating: MCXStudio/MCXSuite/mcxcl/example/usc19-5/\n",
            "  inflating: MCXStudio/MCXSuite/mcxcl/example/usc19-5/USC_19-5_atlas.json  \n",
            "  inflating: MCXStudio/MCXSuite/mcxcl/example/usc19-5/dump_volume.sh  \n",
            "  inflating: MCXStudio/MCXSuite/mcxcl/example/usc19-5/run_atlas.sh  \n",
            "  inflating: MCXStudio/MCXSuite/mcxcl/example/usc19-5/dump_volume.bat  \n",
            "  inflating: MCXStudio/MCXSuite/mcxcl/example/usc19-5/run_atlas.bat  \n",
            "  inflating: MCXStudio/MCXSuite/mcxcl/example/usc19-5/README.txt  \n",
            "   creating: MCXStudio/MCXSuite/mcxcl/example/quicktest/\n",
            "  inflating: MCXStudio/MCXSuite/mcxcl/example/quicktest/qtest.json  \n",
            "  inflating: MCXStudio/MCXSuite/mcxcl/example/quicktest/run_qtest_silent.sh  \n",
            "  inflating: MCXStudio/MCXSuite/mcxcl/example/quicktest/run_qtest.bat  \n",
            "  inflating: MCXStudio/MCXSuite/mcxcl/example/quicktest/run_qtest.sh  \n",
            " extracting: MCXStudio/MCXSuite/mcxcl/example/quicktest/listgpu.bat  \n",
            "  inflating: MCXStudio/MCXSuite/mcxcl/example/quicktest/README.txt  \n",
            "  inflating: MCXStudio/MCXSuite/mcxcl/example/quicktest/listgpu.sh  \n",
            "  inflating: MCXStudio/MCXSuite/mcxcl/example/quicktest/cubic60.json  \n",
            "  inflating: MCXStudio/MCXSuite/mcxcl/example/quicktest/qtest.inp  \n",
            "   creating: MCXStudio/MCXSuite/mcxcl/example/validation/\n",
            "  inflating: MCXStudio/MCXSuite/mcxcl/example/validation/plotsimudata.m  \n",
            "  inflating: MCXStudio/MCXSuite/mcxcl/example/validation/validation_dark_b.inp  \n",
            "  inflating: MCXStudio/MCXSuite/mcxcl/example/validation/run_validation.sh  \n",
            "  inflating: MCXStudio/MCXSuite/mcxcl/example/validation/run_validation_b.bat  \n",
            "  inflating: MCXStudio/MCXSuite/mcxcl/example/validation/validation_dark.inp  \n",
            "  inflating: MCXStudio/MCXSuite/mcxcl/example/validation/run_validation.bat  \n",
            "  inflating: MCXStudio/MCXSuite/mcxcl/example/validation/run_validation_b.sh  \n",
            "  inflating: MCXStudio/MCXSuite/mcxcl/example/validation/validation.inp  \n",
            "  inflating: MCXStudio/MCXSuite/mcxcl/example/validation/validation_b.inp  \n",
            "  inflating: MCXStudio/MCXSuite/mcxcl/example/validation/README.txt  \n",
            "  inflating: MCXStudio/MCXSuite/mcxcl/example/validation/cubic60.json  \n",
            "   creating: MCXStudio/MCXSuite/mcxcl/example/digimouse/\n",
            "  inflating: MCXStudio/MCXSuite/mcxcl/example/digimouse/dump_volume.sh  \n",
            "  inflating: MCXStudio/MCXSuite/mcxcl/example/digimouse/run_atlas.sh  \n",
            "  inflating: MCXStudio/MCXSuite/mcxcl/example/digimouse/dump_volume.bat  \n",
            "  inflating: MCXStudio/MCXSuite/mcxcl/example/digimouse/run_atlas.bat  \n",
            "  inflating: MCXStudio/MCXSuite/mcxcl/example/digimouse/digimouse.json  \n",
            "  inflating: MCXStudio/MCXSuite/mcxcl/example/digimouse/README.txt  \n",
            "  inflating: MCXStudio/MCXSuite/mcxcl/example/README.txt  \n",
            "   creating: MCXStudio/MCXSuite/mcxcl/example/skinvessel/\n",
            "  inflating: MCXStudio/MCXSuite/mcxcl/example/skinvessel/run_mcxyz_bench.bat  \n",
            "  inflating: MCXStudio/MCXSuite/mcxcl/example/skinvessel/enable_hyper.sh  \n",
            "  inflating: MCXStudio/MCXSuite/mcxcl/example/skinvessel/skinvessel.json  \n",
            "  inflating: MCXStudio/MCXSuite/mcxcl/example/skinvessel/run_mcxyz_bench.sh  \n",
            "  inflating: MCXStudio/MCXSuite/mcxcl/example/skinvessel/mcxyz_bench.json  \n",
            "  inflating: MCXStudio/MCXSuite/mcxcl/example/skinvessel/README.txt  \n",
            "  inflating: MCXStudio/MCXSuite/mcxcl/example/skinvessel/disable_hyper.sh  \n",
            "   creating: MCXStudio/MCXSuite/mcxcl/example/colin27/\n",
            "  inflating: MCXStudio/MCXSuite/mcxcl/example/colin27/dump_json.sh  \n",
            "  inflating: MCXStudio/MCXSuite/mcxcl/example/colin27/dump_volume.sh  \n",
            "  inflating: MCXStudio/MCXSuite/mcxcl/example/colin27/run_atlas.sh  \n",
            "  inflating: MCXStudio/MCXSuite/mcxcl/example/colin27/dump_volume.bat  \n",
            "  inflating: MCXStudio/MCXSuite/mcxcl/example/colin27/run_atlas.bat  \n",
            "  inflating: MCXStudio/MCXSuite/mcxcl/example/colin27/README.txt  \n",
            "  inflating: MCXStudio/MCXSuite/mcxcl/example/colin27/dump_json.bat  \n",
            "   creating: MCXStudio/MCXSuite/mcxcl/test/\n",
            "  inflating: MCXStudio/MCXSuite/mcxcl/test/testmcx.sh  \n",
            "   creating: MCXStudio/MCXSuite/mcxcl/pmcxcl/\n",
            "  inflating: MCXStudio/MCXSuite/mcxcl/pmcxcl/setup.py  \n",
            "   creating: MCXStudio/MCXSuite/mcxcl/pmcxcl/pmcxcl/\n",
            "  inflating: MCXStudio/MCXSuite/mcxcl/pmcxcl/pmcxcl/bench.py  \n",
            "  inflating: MCXStudio/MCXSuite/mcxcl/pmcxcl/pmcxcl/__init__.py  \n",
            "  inflating: MCXStudio/MCXSuite/mcxcl/pmcxcl/README.md  \n",
            "  inflating: MCXStudio/MCXSuite/mcxcl/gitlog.sh  \n",
            "   creating: MCXStudio/MCXSuite/mcxcl/doc/\n",
            "  inflating: MCXStudio/MCXSuite/mcxcl/doc/INSTALL.txt  \n",
            "  inflating: MCXStudio/MCXSuite/mcxcl/doc/mcxcl_benchmark.png  \n",
            "  inflating: MCXStudio/MCXSuite/mcxcl/doc/mcx_command_option_cheatsheet.xlsx  \n",
            "  inflating: MCXStudio/MCXSuite/mcxcl/doc/gendoc.sh  \n",
            "  inflating: MCXStudio/MCXSuite/mcxcl/doc/MCXCL_Workflow.pdf  \n",
            "  inflating: MCXStudio/MCXSuite/mcxcl/doc/Download.txt  \n",
            "  inflating: MCXStudio/MCXSuite/mcxcl/ChangeLog.txt  \n",
            "  inflating: MCXStudio/MCXSuite/mcxcl/README.txt  \n",
            "  inflating: MCXStudio/MCXSuite/mcxcl/README.md  \n",
            "   creating: MCXStudio/MCXSuite/mcxcl/utils/\n",
            "  inflating: MCXStudio/MCXSuite/mcxcl/utils/mcxloadfile.m  \n",
            "  inflating: MCXStudio/MCXSuite/mcxcl/utils/normalizemcx.m  \n",
            "  inflating: MCXStudio/MCXSuite/mcxcl/utils/loadmch.m  \n",
            "  inflating: MCXStudio/MCXSuite/mcxcl/utils/cwdiffusion.m  \n",
            "  inflating: MCXStudio/MCXSuite/mcxcl/utils/hobbysplines.m  \n",
            "  inflating: MCXStudio/MCXSuite/mcxcl/utils/tddiffusion.m  \n",
            "  inflating: MCXStudio/MCXSuite/mcxcl/utils/islicer.m  \n",
            "  inflating: MCXStudio/MCXSuite/mcxcl/utils/slice3i.m  \n",
            "  inflating: MCXStudio/MCXSuite/mcxcl/utils/getdistance.m  \n",
            "  inflating: MCXStudio/MCXSuite/mcxcl/utils/mcxloadnii.m  \n",
            "  inflating: MCXStudio/MCXSuite/mcxcl/utils/loadmc2.m  \n",
            "  inflating: MCXStudio/MCXSuite/mcxcl/utils/serialcorr.m  \n",
            "  inflating: MCXStudio/MCXSuite/mcxcl/utils/mcxdetphoton.m  \n",
            "  inflating: MCXStudio/MCXSuite/mcxcl/utils/mcxplotvol.m  \n",
            "  inflating: MCXStudio/MCXSuite/mcxcl/utils/json2mcx.m  \n",
            "  inflating: MCXStudio/MCXSuite/mcxcl/utils/mcx2json.m  \n",
            "  inflating: MCXStudio/MCXSuite/mcxcl/utils/mcxdcsg1.m  \n",
            "  inflating: MCXStudio/MCXSuite/mcxcl/utils/mcxdetweight.m  \n",
            "  inflating: MCXStudio/MCXSuite/mcxcl/utils/mcxdettime.m  \n",
            "  inflating: MCXStudio/MCXSuite/mcxcl/utils/stacked_bar3.m  \n",
            "  inflating: MCXStudio/MCXSuite/mcxcl/utils/image3i.m  \n",
            "  inflating: MCXStudio/MCXSuite/mcxcl/utils/mcxmeanscat.m  \n",
            "   creating: MCXStudio/MCXSuite/mcxcl/utils/python/\n",
            "  inflating: MCXStudio/MCXSuite/mcxcl/utils/python/__init__.py  \n",
            "  inflating: MCXStudio/MCXSuite/mcxcl/utils/mcxmeanpath.m  \n",
            "  inflating: MCXStudio/MCXSuite/mcxcl/utils/mcxfluence2energy.m  \n",
            "  inflating: MCXStudio/MCXSuite/mcxcl/utils/mcxplotphotons.m  \n",
            "  inflating: MCXStudio/MCXSuite/mcxcl/utils/mcxdettpsf.m  \n",
            "  inflating: MCXStudio/MCXSuite/mcxcl/.miss_hit  \n",
            "   creating: MCXStudio/MATLAB/\n",
            "   creating: MCXStudio/MATLAB/mcxlab/\n",
            "   creating: MCXStudio/MATLAB/mcxlab/examples/\n",
            "   creating: MCXStudio/MATLAB/mcxlab/tutorials/\n",
            "   creating: MCXStudio/MATLAB/mcxlab/filter/\n",
            "   creating: MCXStudio/MATLAB/mcxlab/filter/Wave3D/\n",
            "   creating: MCXStudio/MATLAB/mcxlab/filter/demos/\n",
            "  inflating: MCXStudio/MATLAB/mcxlab/mcx.mexa64  \n",
            "  inflating: MCXStudio/MATLAB/mcxlab/mcxfilter.mexa64  \n",
            "   creating: MCXStudio/MATLAB/mmclab/\n",
            "   creating: MCXStudio/MATLAB/mmclab/example/\n",
            "  inflating: MCXStudio/MATLAB/mmclab/mmc.mexa64  \n",
            "   creating: MCXStudio/MATLAB/mcxlabcl/\n",
            "  inflating: MCXStudio/MATLAB/mcxlabcl/mcxcl.mexa64  \n",
            "   creating: MCXStudio/MATLAB/mcxlabcl/examples/\n",
            "   creating: MCXStudio/MATLAB/iso2mesh/\n",
            "   creating: MCXStudio/MATLAB/iso2mesh/.git_filters/\n",
            "   creating: MCXStudio/MATLAB/iso2mesh/bin/\n",
            "  inflating: MCXStudio/MATLAB/iso2mesh/bin/PoissonRecon.mexa64  \n",
            "  inflating: MCXStudio/MATLAB/iso2mesh/bin/cgalmesh.mexa64  \n",
            "  inflating: MCXStudio/MATLAB/iso2mesh/bin/cgalpoly.mexa64  \n",
            "  inflating: MCXStudio/MATLAB/iso2mesh/bin/cgalsurf.mexa64  \n",
            "  inflating: MCXStudio/MATLAB/iso2mesh/bin/cork.mexa64  \n",
            "  inflating: MCXStudio/MATLAB/iso2mesh/bin/gtsset.mexa64  \n",
            "  inflating: MCXStudio/MATLAB/iso2mesh/bin/jmeshlib.mexa64  \n",
            "  inflating: MCXStudio/MATLAB/iso2mesh/bin/meshfix.mexa64  \n",
            "  inflating: MCXStudio/MATLAB/iso2mesh/bin/tetgen.mexa64  \n",
            "    linking: MCXStudio/MATLAB/iso2mesh/bin/tetgen.mexmaci64  -> tetgen1.5.mexmaci64 \n",
            "  inflating: MCXStudio/MATLAB/iso2mesh/bin/tetgen1.5.mexa64  \n",
            "   creating: MCXStudio/MATLAB/iso2mesh/doc/\n",
            "   creating: MCXStudio/MATLAB/iso2mesh/sample/\n",
            "   creating: MCXStudio/MATLAB/iso2mesh/tools/\n",
            "   creating: MCXStudio/MATLAB/iso2mesh/tools/PoissonRecon/\n",
            "   creating: MCXStudio/MATLAB/iso2mesh/tools/cgalmesh/\n",
            "   creating: MCXStudio/MATLAB/iso2mesh/tools/cgalsimp2/\n",
            "   creating: MCXStudio/MATLAB/iso2mesh/tools/cgalsurf/\n",
            "   creating: MCXStudio/MATLAB/iso2mesh/tools/commons/\n",
            "   creating: MCXStudio/MATLAB/iso2mesh/tools/cork/\n",
            "   creating: MCXStudio/MATLAB/iso2mesh/tools/manpage/\n",
            "   creating: MCXStudio/MATLAB/iso2mesh/tools/meshfix/\n",
            "   creating: MCXStudio/MATLAB/iso2mesh/tools/tetgen/\n",
            "   creating: MCXStudio/MATLAB/brain2mesh/\n",
            "   creating: MCXStudio/MATLAB/brain2mesh/examples/\n",
            "   creating: MCXStudio/MATLAB/redbird-m/\n",
            "   creating: MCXStudio/MATLAB/redbird-m/example/\n",
            "   creating: MCXStudio/MATLAB/redbird-m/matlab/\n",
            "  inflating: MCXStudio/MATLAB/redbird-m/matlab/rbfemmatrix.mexa64  \n",
            "   creating: MCXStudio/MATLAB/redbird-m/doc/\n",
            "   creating: MCXStudio/MATLAB/zmat/\n",
            "   creating: MCXStudio/MATLAB/zmat/.github/\n",
            "   creating: MCXStudio/MATLAB/zmat/.github/workflows/\n",
            "   creating: MCXStudio/MATLAB/zmat/example/\n",
            "   creating: MCXStudio/MATLAB/zmat/example/c/\n",
            "   creating: MCXStudio/MATLAB/zmat/example/f90/\n",
            "   creating: MCXStudio/MATLAB/zmat/fortran90/\n",
            "   creating: MCXStudio/MATLAB/zmat/images/\n",
            "   creating: MCXStudio/MATLAB/zmat/include/\n",
            "   creating: MCXStudio/MATLAB/zmat/private/\n",
            "  inflating: MCXStudio/MATLAB/zmat/private/zipmat.mexa64  \n",
            "   creating: MCXStudio/MATLAB/zmat/test/\n",
            "  inflating: MCXStudio/mcxstudio     \n",
            "  inflating: MCXStudio/mcxsuite_addpath.m  \n",
            "  inflating: MCXStudio/README.txt    \n",
            "   creating: MCXStudio/Output/\n",
            "  inflating: MCXStudio/MATLAB/mcxlab/INSTALL.txt  \n",
            "  inflating: MCXStudio/MATLAB/mcxlab/LICENSE.txt  \n",
            "  inflating: MCXStudio/MATLAB/mcxlab/mcxlab.m  \n",
            "  inflating: MCXStudio/MATLAB/mcxlab/DESCRIPTION  \n",
            "  inflating: MCXStudio/MATLAB/mcxlab/INDEX  \n",
            "  inflating: MCXStudio/MATLAB/mcxlab/NEWS  \n",
            "  inflating: MCXStudio/MATLAB/mcxlab/README.txt  \n",
            "  inflating: MCXStudio/MATLAB/mcxlab/examples/demo_4layer_head.m  \n",
            "  inflating: MCXStudio/MATLAB/mcxlab/examples/demo_label_continous_hybrid.m  \n",
            "  inflating: MCXStudio/MATLAB/mcxlab/examples/demo_qtest_subpixel.m  \n",
            "  inflating: MCXStudio/MATLAB/mcxlab/examples/demo_svmc_brain19_5.m  \n",
            "  inflating: MCXStudio/MATLAB/mcxlab/examples/demo_validation_heterogeneous.m  \n",
            "  inflating: MCXStudio/MATLAB/mcxlab/examples/demo_digimouse_sfdi.m  \n",
            "  inflating: MCXStudio/MATLAB/mcxlab/examples/mcxyz_skinvessel.mat  \n",
            "  inflating: MCXStudio/MATLAB/mcxlab/examples/demo_photon_sharing.m  \n",
            "  inflating: MCXStudio/MATLAB/mcxlab/examples/demo_mcxyz_skinvessel.m  \n",
            "  inflating: MCXStudio/MATLAB/mcxlab/examples/demo_validation_homogeneous.m  \n",
            "  inflating: MCXStudio/MATLAB/mcxlab/examples/mcx_gpu_contest.m  \n",
            "  inflating: MCXStudio/MATLAB/mcxlab/examples/demo_mcxlab_2d.m  \n",
            "  inflating: MCXStudio/MATLAB/mcxlab/examples/digimouse.mat  \n",
            "  inflating: MCXStudio/MATLAB/mcxlab/examples/demo_mcxlab_srctype.m  \n",
            "  inflating: MCXStudio/MATLAB/mcxlab/examples/demo_test_csf.m  \n",
            "  inflating: MCXStudio/MATLAB/mcxlab/examples/fullhead_atlas.mat  \n",
            "  inflating: MCXStudio/MATLAB/mcxlab/examples/demo_replay_vs_pmc_timedomain.m  \n",
            "  inflating: MCXStudio/MATLAB/mcxlab/examples/demo_fullhead_atlas.m  \n",
            "  inflating: MCXStudio/MATLAB/mcxlab/examples/demo_infinite_slab_cyclic_bc.m  \n",
            "  inflating: MCXStudio/MATLAB/mcxlab/examples/demo_lambertian_exit_angle.m  \n",
            "  inflating: MCXStudio/MATLAB/mcxlab/examples/demo_mcxlab_replay.m  \n",
            "  inflating: MCXStudio/MATLAB/mcxlab/examples/demo_svmc_sphshells.m  \n",
            "  inflating: MCXStudio/MATLAB/mcxlab/examples/demo_replay_timedomain.m  \n",
            "  inflating: MCXStudio/MATLAB/mcxlab/examples/demo_svmc_cubesph.m  \n",
            "  inflating: MCXStudio/MATLAB/mcxlab/examples/demo_bc_det.m  \n",
            "  inflating: MCXStudio/MATLAB/mcxlab/examples/bench_reseedlimit.m  \n",
            "  inflating: MCXStudio/MATLAB/mcxlab/examples/mcx_gpu_benchmarks.m  \n",
            "  inflating: MCXStudio/MATLAB/mcxlab/examples/demo_focus_mirror_bc.m  \n",
            "  inflating: MCXStudio/MATLAB/mcxlab/examples/demo_sphere_cube_subpixel.m  \n",
            "  inflating: MCXStudio/MATLAB/mcxlab/examples/demo_continuous_mua_mus.m  \n",
            "  inflating: MCXStudio/MATLAB/mcxlab/examples/colin27_v3.mat  \n",
            "  inflating: MCXStudio/MATLAB/mcxlab/examples/demo_colin27_atlas.m  \n",
            "  inflating: MCXStudio/MATLAB/mcxlab/examples/demo_mcxlab_basic.m  \n",
            "  inflating: MCXStudio/MATLAB/mcxlab/examples/demo_diffuse_reflectance_validation.m  \n",
            "  inflating: MCXStudio/MATLAB/mcxlab/examples/demo_mcxlab_phasefun.m  \n",
            "  inflating: MCXStudio/MATLAB/mcxlab/examples/demo_polarized_photon.m  \n",
            "  inflating: MCXStudio/MATLAB/mcxlab/examples/demo_replay_frequencydomain.m  \n",
            "  inflating: MCXStudio/MATLAB/mcxlab/examples/demo_speed_label_vs_continuous.m  \n",
            "  inflating: MCXStudio/MATLAB/mcxlab/examples/demo_mcxlab_launchangle.m  \n",
            "  inflating: MCXStudio/MATLAB/mcxlab/examples/demo_multisrc.m  \n",
            "  inflating: MCXStudio/MATLAB/mcxlab/examples/demo_area_source_conv.m  \n",
            "  inflating: MCXStudio/MATLAB/mcxlab/tutorials/mcxlab_getting_started.ipynb  \n",
            "  inflating: MCXStudio/MATLAB/mcxlab/PKG_ADD  \n",
            "  inflating: MCXStudio/MATLAB/mcxlab/filter/Wave3D/pm4.m  \n",
            "  inflating: MCXStudio/MATLAB/mcxlab/filter/Wave3D/idwt3D.m  \n",
            "  inflating: MCXStudio/MATLAB/mcxlab/filter/Wave3D/dwt3D.m  \n",
            "  inflating: MCXStudio/MATLAB/mcxlab/filter/Wave3D/FSfarras.m  \n",
            "  inflating: MCXStudio/MATLAB/mcxlab/filter/Wave3D/cshift3D.m  \n",
            "  inflating: MCXStudio/MATLAB/mcxlab/filter/Wave3D/sfb3D.m  \n",
            "  inflating: MCXStudio/MATLAB/mcxlab/filter/Wave3D/pm4inv.m  \n",
            "  inflating: MCXStudio/MATLAB/mcxlab/filter/Wave3D/farras.m  \n",
            "  inflating: MCXStudio/MATLAB/mcxlab/filter/Wave3D/afb3D.m  \n",
            "  inflating: MCXStudio/MATLAB/mcxlab/filter/Wave3D/dwt3D_plots.m  \n",
            "  inflating: MCXStudio/MATLAB/mcxlab/filter/Wave3D/mixingsubband.m  \n",
            "  inflating: MCXStudio/MATLAB/mcxlab/filter/demos/demo_MCdenoising.m  \n",
            "  inflating: MCXStudio/MATLAB/mcxlab/filter/demos/demo_mcx_anlm.m  \n",
            "  inflating: MCXStudio/MATLAB/mcxlab/filter/demos/data.mat  \n",
            "  inflating: MCXStudio/MATLAB/mcxlab/filter/demos/demo_basic.m  \n",
            "  inflating: MCXStudio/MATLAB/mcxlab/mcxfilter.m  \n",
            "  inflating: MCXStudio/MATLAB/mcxlab/mcx.mex  \n",
            "  inflating: MCXStudio/MATLAB/mmclab/PKG_ADD  \n",
            "  inflating: MCXStudio/MATLAB/mmclab/INSTALL.txt  \n",
            "  inflating: MCXStudio/MATLAB/mmclab/LICENSE.txt  \n",
            "  inflating: MCXStudio/MATLAB/mmclab/example/demo_mmclab_basic.m  \n",
            "  inflating: MCXStudio/MATLAB/mmclab/example/demo_example_onecube.m  \n",
            "  inflating: MCXStudio/MATLAB/mmclab/example/test_albedo.m  \n",
            "  inflating: MCXStudio/MATLAB/mmclab/example/demo_mmcl_b4.m  \n",
            "  inflating: MCXStudio/MATLAB/mmclab/example/demo_photon_sharing.m  \n",
            "  inflating: MCXStudio/MATLAB/mmclab/example/demo_mcxyz_skinvessel.m  \n",
            "  inflating: MCXStudio/MATLAB/mmclab/example/demo_dualmesh_output.m  \n",
            "  inflating: MCXStudio/MATLAB/mmclab/example/demo_sfdi_2layer.m  \n",
            "  inflating: MCXStudio/MATLAB/mmclab/example/demo_wide_det.m  \n",
            "  inflating: MCXStudio/MATLAB/mmclab/example/demo_example_replay.m  \n",
            "  inflating: MCXStudio/MATLAB/mmclab/example/demo_mmcl_b2_b2d.m  \n",
            "  inflating: MCXStudio/MATLAB/mmclab/example/demo_dmmc_sphshells.m  \n",
            "  inflating: MCXStudio/MATLAB/mmclab/example/mmclab_selftest_input.m  \n",
            "  inflating: MCXStudio/MATLAB/mmclab/example/demo_immc_basic.m  \n",
            "  inflating: MCXStudio/MATLAB/mmclab/example/demo_example_meshtest.m  \n",
            "  inflating: MCXStudio/MATLAB/mmclab/example/demo_example_validation.m  \n",
            "  inflating: MCXStudio/MATLAB/mmclab/example/demo_mmcl_b3.m  \n",
            "  inflating: MCXStudio/MATLAB/mmclab/example/head_atlas.mat  \n",
            "  inflating: MCXStudio/MATLAB/mmclab/example/demo_compare_mmc_mcx.m  \n",
            "  inflating: MCXStudio/MATLAB/mmclab/example/demo_mmcl_b1_b1d.m  \n",
            "  inflating: MCXStudio/MATLAB/mmclab/example/vessel.mat  \n",
            "  inflating: MCXStudio/MATLAB/mmclab/example/demo_mmclab_slit.m  \n",
            "  inflating: MCXStudio/MATLAB/mmclab/example/demo_immc_vessel.m  \n",
            "  inflating: MCXStudio/MATLAB/mmclab/example/demo_head_atlas.m  \n",
            "  inflating: MCXStudio/MATLAB/mmclab/mmc2json.m  \n",
            "  inflating: MCXStudio/MATLAB/mmclab/mmclab.m  \n",
            "  inflating: MCXStudio/MATLAB/mmclab/README.txt  \n",
            "  inflating: MCXStudio/MATLAB/mmclab/mmc.mex  \n",
            "  inflating: MCXStudio/MATLAB/mcxlabcl/PKG_ADD  \n",
            "  inflating: MCXStudio/MATLAB/mcxlabcl/INSTALL.txt  \n",
            "  inflating: MCXStudio/MATLAB/mcxlabcl/LICENSE.txt  \n",
            "  inflating: MCXStudio/MATLAB/mcxlabcl/mcxlabcl.m  \n",
            "  inflating: MCXStudio/MATLAB/mcxlabcl/DESCRIPTION  \n",
            "  inflating: MCXStudio/MATLAB/mcxlabcl/mcxcl.mex  \n",
            "  inflating: MCXStudio/MATLAB/mcxlabcl/INDEX  \n",
            "  inflating: MCXStudio/MATLAB/mcxlabcl/NEWS  \n",
            "  inflating: MCXStudio/MATLAB/mcxlabcl/README.txt  \n",
            "  inflating: MCXStudio/MATLAB/mcxlabcl/examples/demo_4layer_head.m  \n",
            "  inflating: MCXStudio/MATLAB/mcxlabcl/examples/demo_qtest_subpixel.m  \n",
            "  inflating: MCXStudio/MATLAB/mcxlabcl/examples/demo_validation_heterogeneous.m  \n",
            "  inflating: MCXStudio/MATLAB/mcxlabcl/examples/demo_digimouse_sfdi.m  \n",
            "  inflating: MCXStudio/MATLAB/mcxlabcl/examples/mcxyz_skinvessel.mat  \n",
            "  inflating: MCXStudio/MATLAB/mcxlabcl/examples/demo_photon_sharing.m  \n",
            "  inflating: MCXStudio/MATLAB/mcxlabcl/examples/demo_mcxyz_skinvessel.m  \n",
            "  inflating: MCXStudio/MATLAB/mcxlabcl/examples/demo_validation_homogeneous.m  \n",
            "  inflating: MCXStudio/MATLAB/mcxlabcl/examples/mcx_gpu_contest.m  \n",
            "  inflating: MCXStudio/MATLAB/mcxlabcl/examples/demo_mcxlab_2d.m  \n",
            "  inflating: MCXStudio/MATLAB/mcxlabcl/examples/digimouse.mat  \n",
            "  inflating: MCXStudio/MATLAB/mcxlabcl/examples/demo_mcxlab_srctype.m  \n",
            "  inflating: MCXStudio/MATLAB/mcxlabcl/examples/demo_test_csf.m  \n",
            "  inflating: MCXStudio/MATLAB/mcxlabcl/examples/fullhead_atlas.mat  \n",
            "  inflating: MCXStudio/MATLAB/mcxlabcl/examples/demo_replay_vs_pmc_timedomain.m  \n",
            "  inflating: MCXStudio/MATLAB/mcxlabcl/examples/demo_fullhead_atlas.m  \n",
            "  inflating: MCXStudio/MATLAB/mcxlabcl/examples/demo_infinite_slab_cyclic_bc.m  \n",
            "  inflating: MCXStudio/MATLAB/mcxlabcl/examples/demo_lambertian_exit_angle.m  \n",
            "  inflating: MCXStudio/MATLAB/mcxlabcl/examples/demo_mcxlab_replay.m  \n",
            "  inflating: MCXStudio/MATLAB/mcxlabcl/examples/demo_replay_timedomain.m  \n",
            "  inflating: MCXStudio/MATLAB/mcxlabcl/examples/demo_bc_det.m  \n",
            "  inflating: MCXStudio/MATLAB/mcxlabcl/examples/demo_mcxlabcl_basic.m  \n",
            "  inflating: MCXStudio/MATLAB/mcxlabcl/examples/mcx_gpu_benchmarks.m  \n",
            "  inflating: MCXStudio/MATLAB/mcxlabcl/examples/demo_focus_mirror_bc.m  \n",
            "  inflating: MCXStudio/MATLAB/mcxlabcl/examples/demo_sphere_cube_subpixel.m  \n",
            "  inflating: MCXStudio/MATLAB/mcxlabcl/examples/demo_continuous_mua_mus.m  \n",
            "  inflating: MCXStudio/MATLAB/mcxlabcl/examples/colin27_v3.mat  \n",
            "  inflating: MCXStudio/MATLAB/mcxlabcl/examples/demo_colin27_atlas.m  \n",
            "  inflating: MCXStudio/MATLAB/mcxlabcl/examples/demo_mcxlab_basic.m  \n",
            "  inflating: MCXStudio/MATLAB/mcxlabcl/examples/demo_mcxlab_launchangle.m  \n",
            "  inflating: MCXStudio/MATLAB/mcxlabcl/examples/demo_mcxlab_phasefun.m  \n",
            "  inflating: MCXStudio/MATLAB/iso2mesh/.gitattributes  \n",
            "  inflating: MCXStudio/MATLAB/iso2mesh/.gitmodules  \n",
            "  inflating: MCXStudio/MATLAB/iso2mesh/AUTHORS.txt  \n",
            "  inflating: MCXStudio/MATLAB/iso2mesh/COPYING.txt  \n",
            "  inflating: MCXStudio/MATLAB/iso2mesh/ChangeLog.txt  \n",
            "  inflating: MCXStudio/MATLAB/iso2mesh/Content.txt  \n",
            "  inflating: MCXStudio/MATLAB/iso2mesh/DESCRIPTION  \n",
            "  inflating: MCXStudio/MATLAB/iso2mesh/INDEX  \n",
            "  inflating: MCXStudio/MATLAB/iso2mesh/README.md  \n",
            "  inflating: MCXStudio/MATLAB/iso2mesh/README.txt  \n",
            "  inflating: MCXStudio/MATLAB/iso2mesh/TODO.txt  \n",
            "  inflating: MCXStudio/MATLAB/iso2mesh/advancefront.m  \n",
            "  inflating: MCXStudio/MATLAB/iso2mesh/affinemap.m  \n",
            "  inflating: MCXStudio/MATLAB/iso2mesh/aos2soa.m  \n",
            "  inflating: MCXStudio/MATLAB/iso2mesh/barydualmesh.m  \n",
            "  inflating: MCXStudio/MATLAB/iso2mesh/base64decode.m  \n",
            "  inflating: MCXStudio/MATLAB/iso2mesh/base64encode.m  \n",
            "  inflating: MCXStudio/MATLAB/iso2mesh/bbxflatsegment.m  \n",
            "  inflating: MCXStudio/MATLAB/iso2mesh/binsurface.m  \n",
            "  inflating: MCXStudio/MATLAB/iso2mesh/blosc2decode.m  \n",
            "  inflating: MCXStudio/MATLAB/iso2mesh/blosc2encode.m  \n",
            "  inflating: MCXStudio/MATLAB/iso2mesh/bwislands.m  \n",
            "  inflating: MCXStudio/MATLAB/iso2mesh/cgals2m.m  \n",
            "  inflating: MCXStudio/MATLAB/iso2mesh/cgalv2m.m  \n",
            "  inflating: MCXStudio/MATLAB/iso2mesh/closestnode.m  \n",
            "  inflating: MCXStudio/MATLAB/iso2mesh/decodevarname.m  \n",
            "  inflating: MCXStudio/MATLAB/iso2mesh/deislands2d.m  \n",
            "  inflating: MCXStudio/MATLAB/iso2mesh/deislands3d.m  \n",
            "  inflating: MCXStudio/MATLAB/iso2mesh/delendelem.m  \n",
            "  inflating: MCXStudio/MATLAB/iso2mesh/deletemeshfile.m  \n",
            "  inflating: MCXStudio/MATLAB/iso2mesh/dist2surf.m  \n",
            "  inflating: MCXStudio/MATLAB/iso2mesh/edgeneighbors.m  \n",
            "  inflating: MCXStudio/MATLAB/iso2mesh/elemfacecenter.m  \n",
            "  inflating: MCXStudio/MATLAB/iso2mesh/elemvolume.m  \n",
            "  inflating: MCXStudio/MATLAB/iso2mesh/encodevarname.m  \n",
            "  inflating: MCXStudio/MATLAB/iso2mesh/extractloops.m  \n",
            "  inflating: MCXStudio/MATLAB/iso2mesh/extrudecurve.m  \n",
            "  inflating: MCXStudio/MATLAB/iso2mesh/extrudesurf.m  \n",
            "  inflating: MCXStudio/MATLAB/iso2mesh/faceneighbors.m  \n",
            "  inflating: MCXStudio/MATLAB/iso2mesh/fallbackexeext.m  \n",
            "  inflating: MCXStudio/MATLAB/iso2mesh/fast_match_bracket.m  \n",
            "  inflating: MCXStudio/MATLAB/iso2mesh/fillholes3d.m  \n",
            "  inflating: MCXStudio/MATLAB/iso2mesh/fillsurf.m  \n",
            "  inflating: MCXStudio/MATLAB/iso2mesh/filterjsonmmap.m  \n",
            "  inflating: MCXStudio/MATLAB/iso2mesh/finddisconnsurf.m  \n",
            "  inflating: MCXStudio/MATLAB/iso2mesh/flatsegment.m  \n",
            "  inflating: MCXStudio/MATLAB/iso2mesh/gendocs.sh  \n",
            "  inflating: MCXStudio/MATLAB/iso2mesh/getexeext.m  \n",
            "  inflating: MCXStudio/MATLAB/iso2mesh/getfromjsonpath.m  \n",
            "  inflating: MCXStudio/MATLAB/iso2mesh/getintersecttri.m  \n",
            "  inflating: MCXStudio/MATLAB/iso2mesh/getoptkey.m  \n",
            "  inflating: MCXStudio/MATLAB/iso2mesh/getplanefrom3pt.m  \n",
            "  inflating: MCXStudio/MATLAB/iso2mesh/getvarfrom.m  \n",
            "  inflating: MCXStudio/MATLAB/iso2mesh/gridsurf.m  \n",
            "  inflating: MCXStudio/MATLAB/iso2mesh/gzipdecode.m  \n",
            "  inflating: MCXStudio/MATLAB/iso2mesh/gzipencode.m  \n",
            "  inflating: MCXStudio/MATLAB/iso2mesh/highordertet.m  \n",
            "  inflating: MCXStudio/MATLAB/iso2mesh/i2m.m  \n",
            "  inflating: MCXStudio/MATLAB/iso2mesh/i2m.png  \n",
            "  inflating: MCXStudio/MATLAB/iso2mesh/i2m.prj  \n",
            "  inflating: MCXStudio/MATLAB/iso2mesh/imedge3d.m  \n",
            "  inflating: MCXStudio/MATLAB/iso2mesh/img2mesh.fig  \n",
            "  inflating: MCXStudio/MATLAB/iso2mesh/img2mesh.m  \n",
            "  inflating: MCXStudio/MATLAB/iso2mesh/innersurf.m  \n",
            "  inflating: MCXStudio/MATLAB/iso2mesh/insurface.m  \n",
            "  inflating: MCXStudio/MATLAB/iso2mesh/internalpoint.m  \n",
            "  inflating: MCXStudio/MATLAB/iso2mesh/iso2meshver.m  \n",
            "  inflating: MCXStudio/MATLAB/iso2mesh/isoctavemesh.m  \n",
            "  inflating: MCXStudio/MATLAB/iso2mesh/jdatadecode.m  \n",
            "  inflating: MCXStudio/MATLAB/iso2mesh/jdataencode.m  \n",
            "  inflating: MCXStudio/MATLAB/iso2mesh/jdatahash.m  \n",
            "  inflating: MCXStudio/MATLAB/iso2mesh/jdlink.m  \n",
            "  inflating: MCXStudio/MATLAB/iso2mesh/jload.m  \n",
            "  inflating: MCXStudio/MATLAB/iso2mesh/jnifticreate.m  \n",
            "  inflating: MCXStudio/MATLAB/iso2mesh/jnii2nii.m  \n",
            "  inflating: MCXStudio/MATLAB/iso2mesh/jsave.m  \n",
            "  inflating: MCXStudio/MATLAB/iso2mesh/jsnirfcreate.m  \n",
            "  inflating: MCXStudio/MATLAB/iso2mesh/json2couch.m  \n",
            "  inflating: MCXStudio/MATLAB/iso2mesh/jsoncache.m  \n",
            "  inflating: MCXStudio/MATLAB/iso2mesh/jsonget.m  \n",
            "  inflating: MCXStudio/MATLAB/iso2mesh/jsonopt.m  \n",
            "  inflating: MCXStudio/MATLAB/iso2mesh/jsonpath.m  \n",
            "  inflating: MCXStudio/MATLAB/iso2mesh/jsonset.m  \n",
            "  inflating: MCXStudio/MATLAB/iso2mesh/latticegrid.m  \n",
            "  inflating: MCXStudio/MATLAB/iso2mesh/layersurf.m  \n",
            "  inflating: MCXStudio/MATLAB/iso2mesh/linextriangle.m  \n",
            "  inflating: MCXStudio/MATLAB/iso2mesh/loadbj.m  \n",
            "  inflating: MCXStudio/MATLAB/iso2mesh/loadh5.m  \n",
            "  inflating: MCXStudio/MATLAB/iso2mesh/loadjd.m  \n",
            "  inflating: MCXStudio/MATLAB/iso2mesh/loadjmesh.m  \n",
            "  inflating: MCXStudio/MATLAB/iso2mesh/loadjnifti.m  \n",
            "  inflating: MCXStudio/MATLAB/iso2mesh/loadjsnirf.m  \n",
            "  inflating: MCXStudio/MATLAB/iso2mesh/loadjson.m  \n",
            "  inflating: MCXStudio/MATLAB/iso2mesh/loadmsgpack.m  \n",
            "  inflating: MCXStudio/MATLAB/iso2mesh/loadnifti.m  \n",
            "  inflating: MCXStudio/MATLAB/iso2mesh/loadsnirf.m  \n",
            "  inflating: MCXStudio/MATLAB/iso2mesh/loadubjson.m  \n",
            "  inflating: MCXStudio/MATLAB/iso2mesh/lz4decode.m  \n",
            "  inflating: MCXStudio/MATLAB/iso2mesh/lz4encode.m  \n",
            "  inflating: MCXStudio/MATLAB/iso2mesh/lz4hcdecode.m  \n",
            "  inflating: MCXStudio/MATLAB/iso2mesh/lz4hcencode.m  \n",
            "  inflating: MCXStudio/MATLAB/iso2mesh/lzipdecode.m  \n",
            "  inflating: MCXStudio/MATLAB/iso2mesh/lzipencode.m  \n",
            "  inflating: MCXStudio/MATLAB/iso2mesh/lzmadecode.m  \n",
            "  inflating: MCXStudio/MATLAB/iso2mesh/lzmaencode.m  \n",
            "  inflating: MCXStudio/MATLAB/iso2mesh/m2v.m  \n",
            "  inflating: MCXStudio/MATLAB/iso2mesh/maskdist.m  \n",
            "  inflating: MCXStudio/MATLAB/iso2mesh/match_bracket.m  \n",
            "  inflating: MCXStudio/MATLAB/iso2mesh/maxsurf.m  \n",
            "  inflating: MCXStudio/MATLAB/iso2mesh/mcpath.m  \n",
            "  inflating: MCXStudio/MATLAB/iso2mesh/memmapstream.m  \n",
            "  inflating: MCXStudio/MATLAB/iso2mesh/mergemesh.m  \n",
            "  inflating: MCXStudio/MATLAB/iso2mesh/mergestruct.m  \n",
            "  inflating: MCXStudio/MATLAB/iso2mesh/mergesurf.m  \n",
            "  inflating: MCXStudio/MATLAB/iso2mesh/mesh2mask.m  \n",
            "  inflating: MCXStudio/MATLAB/iso2mesh/mesh2vol.m  \n",
            "  inflating: MCXStudio/MATLAB/iso2mesh/meshabox.m  \n",
            "  inflating: MCXStudio/MATLAB/iso2mesh/meshacylinder.m  \n",
            "  inflating: MCXStudio/MATLAB/iso2mesh/meshanellip.m  \n",
            "  inflating: MCXStudio/MATLAB/iso2mesh/meshasphere.m  \n",
            "  inflating: MCXStudio/MATLAB/iso2mesh/meshcentroid.m  \n",
            "  inflating: MCXStudio/MATLAB/iso2mesh/meshcheckrepair.m  \n",
            "  inflating: MCXStudio/MATLAB/iso2mesh/meshconn.m  \n",
            "  inflating: MCXStudio/MATLAB/iso2mesh/meshcylinders.m  \n",
            "  inflating: MCXStudio/MATLAB/iso2mesh/meshedge.m  \n",
            "  inflating: MCXStudio/MATLAB/iso2mesh/mesheuler.m  \n",
            "  inflating: MCXStudio/MATLAB/iso2mesh/meshface.m  \n",
            "  inflating: MCXStudio/MATLAB/iso2mesh/meshgrid5.m  \n",
            "  inflating: MCXStudio/MATLAB/iso2mesh/meshgrid6.m  \n",
            "  inflating: MCXStudio/MATLAB/iso2mesh/meshinterp.m  \n",
            "  inflating: MCXStudio/MATLAB/iso2mesh/meshquality.m  \n",
            "  inflating: MCXStudio/MATLAB/iso2mesh/meshrefine.m  \n",
            "  inflating: MCXStudio/MATLAB/iso2mesh/meshremap.m  \n",
            "  inflating: MCXStudio/MATLAB/iso2mesh/meshreorient.m  \n",
            "  inflating: MCXStudio/MATLAB/iso2mesh/meshresample.m  \n",
            "  inflating: MCXStudio/MATLAB/iso2mesh/meshunitsphere.m  \n",
            "  inflating: MCXStudio/MATLAB/iso2mesh/metchgui.fig  \n",
            "  inflating: MCXStudio/MATLAB/iso2mesh/metchgui.m  \n",
            "  inflating: MCXStudio/MATLAB/iso2mesh/metchgui_one.m  \n",
            "  inflating: MCXStudio/MATLAB/iso2mesh/mwpath.m  \n",
            "  inflating: MCXStudio/MATLAB/iso2mesh/ndgaussian.m  \n",
            "  inflating: MCXStudio/MATLAB/iso2mesh/ndimfilter.m  \n",
            "  inflating: MCXStudio/MATLAB/iso2mesh/neighborelem.m  \n",
            "  inflating: MCXStudio/MATLAB/iso2mesh/nestbracket2dim.m  \n",
            "  inflating: MCXStudio/MATLAB/iso2mesh/nifticreate.m  \n",
            "  inflating: MCXStudio/MATLAB/iso2mesh/nii2jnii.m  \n",
            "  inflating: MCXStudio/MATLAB/iso2mesh/niicodemap.m  \n",
            "  inflating: MCXStudio/MATLAB/iso2mesh/niiformat.m  \n",
            "  inflating: MCXStudio/MATLAB/iso2mesh/niiheader2jnii.m  \n",
            "  inflating: MCXStudio/MATLAB/iso2mesh/nodesurfnorm.m  \n",
            "  inflating: MCXStudio/MATLAB/iso2mesh/nodevolume.m  \n",
            "  inflating: MCXStudio/MATLAB/iso2mesh/octavezmat.m  \n",
            "  inflating: MCXStudio/MATLAB/iso2mesh/orderloopedge.m  \n",
            "  inflating: MCXStudio/MATLAB/iso2mesh/orthdisk.m  \n",
            "  inflating: MCXStudio/MATLAB/iso2mesh/outersurf.m  \n",
            "  inflating: MCXStudio/MATLAB/iso2mesh/plotedges.m  \n",
            "  inflating: MCXStudio/MATLAB/iso2mesh/plotmesh.m  \n",
            "  inflating: MCXStudio/MATLAB/iso2mesh/plotsurf.m  \n",
            "  inflating: MCXStudio/MATLAB/iso2mesh/plottetra.m  \n",
            "  inflating: MCXStudio/MATLAB/iso2mesh/polylineinterp.m  \n",
            "  inflating: MCXStudio/MATLAB/iso2mesh/polylinelen.m  \n",
            "  inflating: MCXStudio/MATLAB/iso2mesh/polylinesimplify.m  \n",
            "  inflating: MCXStudio/MATLAB/iso2mesh/proj2mesh.m  \n",
            "  inflating: MCXStudio/MATLAB/iso2mesh/qmeshcut.m  \n",
            "  inflating: MCXStudio/MATLAB/iso2mesh/ray2surf.m  \n",
            "  inflating: MCXStudio/MATLAB/iso2mesh/raysurf.m  \n",
            "  inflating: MCXStudio/MATLAB/iso2mesh/raytrace.m  \n",
            "  inflating: MCXStudio/MATLAB/iso2mesh/readasc.m  \n",
            "  inflating: MCXStudio/MATLAB/iso2mesh/readgts.m  \n",
            "  inflating: MCXStudio/MATLAB/iso2mesh/readinr.m  \n",
            "  inflating: MCXStudio/MATLAB/iso2mesh/readmedit.m  \n",
            "  inflating: MCXStudio/MATLAB/iso2mesh/readmptiff.m  \n",
            "  inflating: MCXStudio/MATLAB/iso2mesh/readnirfast.m  \n",
            "  inflating: MCXStudio/MATLAB/iso2mesh/readobjmesh.m  \n",
            "  inflating: MCXStudio/MATLAB/iso2mesh/readoff.m  \n",
            "  inflating: MCXStudio/MATLAB/iso2mesh/readsmf.m  \n",
            "  inflating: MCXStudio/MATLAB/iso2mesh/readtetgen.m  \n",
            "  inflating: MCXStudio/MATLAB/iso2mesh/regpt2surf.m  \n",
            "  inflating: MCXStudio/MATLAB/iso2mesh/regrouph5.m  \n",
            "  inflating: MCXStudio/MATLAB/iso2mesh/remeshsurf.m  \n",
            "  inflating: MCXStudio/MATLAB/iso2mesh/removedupelem.m  \n",
            "  inflating: MCXStudio/MATLAB/iso2mesh/removedupnodes.m  \n",
            "  inflating: MCXStudio/MATLAB/iso2mesh/removeisolatednode.m  \n",
            "  inflating: MCXStudio/MATLAB/iso2mesh/removeisolatedsurf.m  \n",
            "  inflating: MCXStudio/MATLAB/iso2mesh/rotatevec3d.m  \n",
            "  inflating: MCXStudio/MATLAB/iso2mesh/rotmat2vec.m  \n",
            "  inflating: MCXStudio/MATLAB/iso2mesh/s2m.m  \n",
            "  inflating: MCXStudio/MATLAB/iso2mesh/s2v.m  \n",
            "  inflating: MCXStudio/MATLAB/iso2mesh/saveabaqus.m  \n",
            "  inflating: MCXStudio/MATLAB/iso2mesh/saveasc.m  \n",
            "  inflating: MCXStudio/MATLAB/iso2mesh/savebinstl.m  \n",
            "  inflating: MCXStudio/MATLAB/iso2mesh/savebj.m  \n",
            "  inflating: MCXStudio/MATLAB/iso2mesh/savebnii.m  \n",
            "  inflating: MCXStudio/MATLAB/iso2mesh/savedxf.m  \n",
            "  inflating: MCXStudio/MATLAB/iso2mesh/savegts.m  \n",
            "  inflating: MCXStudio/MATLAB/iso2mesh/saveinr.m  \n",
            "  inflating: MCXStudio/MATLAB/iso2mesh/savejd.m  \n",
            "  inflating: MCXStudio/MATLAB/iso2mesh/savejmesh.m  \n",
            "  inflating: MCXStudio/MATLAB/iso2mesh/savejnifti.m  \n",
            "  inflating: MCXStudio/MATLAB/iso2mesh/savejnii.m  \n",
            "  inflating: MCXStudio/MATLAB/iso2mesh/savejsnirf.m  \n",
            "  inflating: MCXStudio/MATLAB/iso2mesh/savejson.m  \n",
            "  inflating: MCXStudio/MATLAB/iso2mesh/savemedit.m  \n",
            "  inflating: MCXStudio/MATLAB/iso2mesh/savemphtxt.m  \n",
            "  inflating: MCXStudio/MATLAB/iso2mesh/savemsgpack.m  \n",
            "  inflating: MCXStudio/MATLAB/iso2mesh/savemsh.m  \n",
            "  inflating: MCXStudio/MATLAB/iso2mesh/savenifti.m  \n",
            "  inflating: MCXStudio/MATLAB/iso2mesh/savenirfast.m  \n",
            "  inflating: MCXStudio/MATLAB/iso2mesh/saveoff.m  \n",
            "  inflating: MCXStudio/MATLAB/iso2mesh/savesmf.m  \n",
            "  inflating: MCXStudio/MATLAB/iso2mesh/savesnirf.m  \n",
            "  inflating: MCXStudio/MATLAB/iso2mesh/savestl.m  \n",
            "  inflating: MCXStudio/MATLAB/iso2mesh/savesurfpoly.m  \n",
            "  inflating: MCXStudio/MATLAB/iso2mesh/savetetgenele.m  \n",
            "  inflating: MCXStudio/MATLAB/iso2mesh/savetetgennode.m  \n",
            "  inflating: MCXStudio/MATLAB/iso2mesh/saveubjson.m  \n",
            "  inflating: MCXStudio/MATLAB/iso2mesh/savevrml.m  \n",
            "  inflating: MCXStudio/MATLAB/iso2mesh/setjson.m  \n",
            "  inflating: MCXStudio/MATLAB/iso2mesh/slicesurf.m  \n",
            "  inflating: MCXStudio/MATLAB/iso2mesh/slicesurf3.m  \n",
            "  inflating: MCXStudio/MATLAB/iso2mesh/smoothbinvol.m  \n",
            "  inflating: MCXStudio/MATLAB/iso2mesh/smoothsurf.m  \n",
            "  inflating: MCXStudio/MATLAB/iso2mesh/sms.m  \n",
            "  inflating: MCXStudio/MATLAB/iso2mesh/snirfcheck.m  \n",
            "  inflating: MCXStudio/MATLAB/iso2mesh/snirfcreate.m  \n",
            "  inflating: MCXStudio/MATLAB/iso2mesh/snirfdecode.m  \n",
            "  inflating: MCXStudio/MATLAB/iso2mesh/soa2aos.m  \n",
            "  inflating: MCXStudio/MATLAB/iso2mesh/sortmesh.m  \n",
            "  inflating: MCXStudio/MATLAB/iso2mesh/surf2mesh.m  \n",
            "  inflating: MCXStudio/MATLAB/iso2mesh/surf2vol.m  \n",
            "  inflating: MCXStudio/MATLAB/iso2mesh/surf2volz.m  \n",
            "  inflating: MCXStudio/MATLAB/iso2mesh/surfaceclean.m  \n",
            "  inflating: MCXStudio/MATLAB/iso2mesh/surfacenorm.m  \n",
            "  inflating: MCXStudio/MATLAB/iso2mesh/surfboolean.m  \n",
            "  inflating: MCXStudio/MATLAB/iso2mesh/surfdiffuse.m  \n",
            "  inflating: MCXStudio/MATLAB/iso2mesh/surfedge.m  \n",
            "  inflating: MCXStudio/MATLAB/iso2mesh/surfinterior.m  \n",
            "  inflating: MCXStudio/MATLAB/iso2mesh/surfpart.m  \n",
            "  inflating: MCXStudio/MATLAB/iso2mesh/surfplane.m  \n",
            "  inflating: MCXStudio/MATLAB/iso2mesh/surfreorient.m  \n",
            "  inflating: MCXStudio/MATLAB/iso2mesh/surfseeds.m  \n",
            "  inflating: MCXStudio/MATLAB/iso2mesh/surfvolume.m  \n",
            "  inflating: MCXStudio/MATLAB/iso2mesh/thickenbinvol.m  \n",
            "  inflating: MCXStudio/MATLAB/iso2mesh/thinbinvol.m  \n",
            "  inflating: MCXStudio/MATLAB/iso2mesh/uniqedges.m  \n",
            "  inflating: MCXStudio/MATLAB/iso2mesh/uniqfaces.m  \n",
            "  inflating: MCXStudio/MATLAB/iso2mesh/v2m.m  \n",
            "  inflating: MCXStudio/MATLAB/iso2mesh/v2s.m  \n",
            "  inflating: MCXStudio/MATLAB/iso2mesh/varargin2struct.m  \n",
            "  inflating: MCXStudio/MATLAB/iso2mesh/vol2mesh.m  \n",
            "  inflating: MCXStudio/MATLAB/iso2mesh/vol2restrictedtri.m  \n",
            "  inflating: MCXStudio/MATLAB/iso2mesh/vol2surf.m  \n",
            "  inflating: MCXStudio/MATLAB/iso2mesh/volface.m  \n",
            "  inflating: MCXStudio/MATLAB/iso2mesh/volmap2mesh.m  \n",
            "  inflating: MCXStudio/MATLAB/iso2mesh/zlibdecode.m  \n",
            "  inflating: MCXStudio/MATLAB/iso2mesh/zlibencode.m  \n",
            "  inflating: MCXStudio/MATLAB/iso2mesh/zstddecode.m  \n",
            "  inflating: MCXStudio/MATLAB/iso2mesh/zstdencode.m  \n",
            "  inflating: MCXStudio/MATLAB/iso2mesh/.git_filters/rcs-keywords.clean  \n",
            "  inflating: MCXStudio/MATLAB/iso2mesh/.git_filters/rcs-keywords.smudge  \n",
            "  inflating: MCXStudio/MATLAB/iso2mesh/doc/Advanced_Features.txt  \n",
            "  inflating: MCXStudio/MATLAB/iso2mesh/doc/Download_and_License.txt  \n",
            "  inflating: MCXStudio/MATLAB/iso2mesh/doc/FAQ.txt  \n",
            "  inflating: MCXStudio/MATLAB/iso2mesh/doc/Get_Started.txt  \n",
            "  inflating: MCXStudio/MATLAB/iso2mesh/doc/INSTALL.txt  \n",
            "  inflating: MCXStudio/MATLAB/iso2mesh/doc/gendoc.sh  \n",
            "  inflating: MCXStudio/MATLAB/iso2mesh/sample/brain.tif  \n",
            "  inflating: MCXStudio/MATLAB/iso2mesh/sample/brain_seg.tif  \n",
            "  inflating: MCXStudio/MATLAB/iso2mesh/sample/demo_cgalmesher.m  \n",
            "  inflating: MCXStudio/MATLAB/iso2mesh/sample/demo_directplc_ex1.m  \n",
            "  inflating: MCXStudio/MATLAB/iso2mesh/sample/demo_grayscale_ex1.m  \n",
            "  inflating: MCXStudio/MATLAB/iso2mesh/sample/demo_helloworld.m  \n",
            "  inflating: MCXStudio/MATLAB/iso2mesh/sample/demo_insert_nodes.m  \n",
            "  inflating: MCXStudio/MATLAB/iso2mesh/sample/demo_label_sizing.m  \n",
            "  inflating: MCXStudio/MATLAB/iso2mesh/sample/demo_merge_surfaces.m  \n",
            "  inflating: MCXStudio/MATLAB/iso2mesh/sample/demo_mesh_smoothing.m  \n",
            "  inflating: MCXStudio/MATLAB/iso2mesh/sample/demo_qmeshcut_ex1.m  \n",
            "  inflating: MCXStudio/MATLAB/iso2mesh/sample/demo_refine_spherebox_mesh.m  \n",
            "  inflating: MCXStudio/MATLAB/iso2mesh/sample/demo_registration_ex1.m  \n",
            "  inflating: MCXStudio/MATLAB/iso2mesh/sample/demo_registration_ex2.m  \n",
            "  inflating: MCXStudio/MATLAB/iso2mesh/sample/demo_remesh_surface.m  \n",
            "  inflating: MCXStudio/MATLAB/iso2mesh/sample/demo_shortcut_ex1.m  \n",
            "  inflating: MCXStudio/MATLAB/iso2mesh/sample/demo_surf2mesh_ex1.m  \n",
            "  inflating: MCXStudio/MATLAB/iso2mesh/sample/demo_surf2vol_ex1.m  \n",
            "  inflating: MCXStudio/MATLAB/iso2mesh/sample/demo_vol2mesh_ex1.m  \n",
            "  inflating: MCXStudio/MATLAB/iso2mesh/sample/demo_vol2mesh_ex1b.m  \n",
            "  inflating: MCXStudio/MATLAB/iso2mesh/sample/demo_vol2mesh_ex1c.m  \n",
            "  inflating: MCXStudio/MATLAB/iso2mesh/sample/demo_vol2mesh_ex2.m  \n",
            "  inflating: MCXStudio/MATLAB/iso2mesh/sample/demo_vol2mesh_ex3.m  \n",
            "  inflating: MCXStudio/MATLAB/iso2mesh/sample/head.tif  \n",
            " extracting: MCXStudio/MATLAB/iso2mesh/sample/helloworld.png  \n",
            "  inflating: MCXStudio/MATLAB/iso2mesh/sample/helloworld_gray.png  \n",
            "  inflating: MCXStudio/MATLAB/iso2mesh/sample/iso2mesh_bar.tif  \n",
            "  inflating: MCXStudio/MATLAB/iso2mesh/sample/rat_head.mat  \n",
            "  inflating: MCXStudio/MATLAB/iso2mesh/sample/sampledata.mat  \n",
            "  inflating: MCXStudio/MATLAB/iso2mesh/sample/tube_surface.mat  \n",
            "  inflating: MCXStudio/MATLAB/iso2mesh/tools/Makefile  \n",
            "  inflating: MCXStudio/MATLAB/iso2mesh/tools/cgalmesh/CMakeLists.txt  \n",
            "  inflating: MCXStudio/MATLAB/iso2mesh/tools/cgalmesh/mesh_3D_image.cpp  \n",
            "  inflating: MCXStudio/MATLAB/iso2mesh/tools/cgalmesh/mesh_polyhedral_domain.cpp  \n",
            "  inflating: MCXStudio/MATLAB/iso2mesh/tools/cgalsimp2/CMakeLists.txt  \n",
            "  inflating: MCXStudio/MATLAB/iso2mesh/tools/cgalsimp2/edge_collapse_enriched_polyhedron.cpp  \n",
            "  inflating: MCXStudio/MATLAB/iso2mesh/tools/cgalsurf/CMakeLists.txt  \n",
            "  inflating: MCXStudio/MATLAB/iso2mesh/tools/cgalsurf/mesh_a_3d_gray_image.cpp  \n",
            "  inflating: MCXStudio/MATLAB/iso2mesh/tools/commons/Makefile_common.mk  \n",
            "  inflating: MCXStudio/MATLAB/iso2mesh/tools/manpage/cgalmesh.1  \n",
            "  inflating: MCXStudio/MATLAB/iso2mesh/tools/manpage/cgalpoly.1  \n",
            "  inflating: MCXStudio/MATLAB/iso2mesh/tools/manpage/cgalsimp2.1  \n",
            "  inflating: MCXStudio/MATLAB/iso2mesh/tools/manpage/cgalsurf.1  \n",
            "  inflating: MCXStudio/MATLAB/iso2mesh/tools/manpage/cork.1  \n",
            "  inflating: MCXStudio/MATLAB/iso2mesh/tools/manpage/jmeshlib.1  \n",
            "  inflating: MCXStudio/MATLAB/iso2mesh/tools/manpage/meshfix.1  \n",
            "  inflating: MCXStudio/MATLAB/brain2mesh/AUTHORS.txt  \n",
            "  inflating: MCXStudio/MATLAB/brain2mesh/LICENSE.txt  \n",
            "  inflating: MCXStudio/MATLAB/brain2mesh/README.md  \n",
            "  inflating: MCXStudio/MATLAB/brain2mesh/brain1020.m  \n",
            "  inflating: MCXStudio/MATLAB/brain2mesh/brain2mesh.m  \n",
            "  inflating: MCXStudio/MATLAB/brain2mesh/closestnode.m  \n",
            "  inflating: MCXStudio/MATLAB/brain2mesh/intriangulation.m  \n",
            "  inflating: MCXStudio/MATLAB/brain2mesh/label2tpm.m  \n",
            "  inflating: MCXStudio/MATLAB/brain2mesh/layersurf.m  \n",
            "  inflating: MCXStudio/MATLAB/brain2mesh/polylineinterp.m  \n",
            "  inflating: MCXStudio/MATLAB/brain2mesh/polylinelen.m  \n",
            "  inflating: MCXStudio/MATLAB/brain2mesh/polylinesimplify.m  \n",
            "  inflating: MCXStudio/MATLAB/brain2mesh/ray2surf.m  \n",
            "  inflating: MCXStudio/MATLAB/brain2mesh/slicesurf.m  \n",
            "  inflating: MCXStudio/MATLAB/brain2mesh/slicesurf3.m  \n",
            "  inflating: MCXStudio/MATLAB/brain2mesh/tpm2label.m  \n",
            "  inflating: MCXStudio/MATLAB/brain2mesh/examples/SPM_example_brain.m  \n",
            "  inflating: MCXStudio/MATLAB/brain2mesh/examples/SPM_example_wholehead.m  \n",
            "  inflating: MCXStudio/MATLAB/brain2mesh/examples/check_brain2mesh_dependency.m  \n",
            "  inflating: MCXStudio/MATLAB/redbird-m/Redbird-m_manual.pdf  \n",
            "  inflating: MCXStudio/MATLAB/redbird-m/example/demo_redbird_validate_jacobian.m  \n",
            "  inflating: MCXStudio/MATLAB/redbird-m/example/demo_redbird_forward.m  \n",
            "  inflating: MCXStudio/MATLAB/redbird-m/example/demo_redbird_recon.m  \n",
            "  inflating: MCXStudio/MATLAB/redbird-m/example/demo_redbird_basic.m  \n",
            "  inflating: MCXStudio/MATLAB/redbird-m/example/demo_redbird_multispectral.m  \n",
            "  inflating: MCXStudio/MATLAB/redbird-m/matlab/Makefile  \n",
            "  inflating: MCXStudio/MATLAB/redbird-m/matlab/rbaddnoise.m  \n",
            "  inflating: MCXStudio/MATLAB/redbird-m/matlab/rbcreateinv.m  \n",
            "  inflating: MCXStudio/MATLAB/redbird-m/matlab/rbdeldotdel.m  \n",
            "  inflating: MCXStudio/MATLAB/redbird-m/matlab/rbelem2node.m  \n",
            "  inflating: MCXStudio/MATLAB/redbird-m/matlab/rbextinction.m  \n",
            "  inflating: MCXStudio/MATLAB/redbird-m/matlab/rbfemgetdet.m  \n",
            "  inflating: MCXStudio/MATLAB/redbird-m/matlab/rbfemlhs.m  \n",
            "  inflating: MCXStudio/MATLAB/redbird-m/matlab/rbfemmatrix.cpp  \n",
            "  inflating: MCXStudio/MATLAB/redbird-m/matlab/rbfemmatrix.h  \n",
            "  inflating: MCXStudio/MATLAB/redbird-m/matlab/rbfemmatrix.mex  \n",
            "  inflating: MCXStudio/MATLAB/redbird-m/matlab/rbfemmatrix.mexmaci64  \n",
            "  inflating: MCXStudio/MATLAB/redbird-m/matlab/rbfemmatrix.mexw64  \n",
            "  inflating: MCXStudio/MATLAB/redbird-m/matlab/rbfemnz.m  \n",
            "  inflating: MCXStudio/MATLAB/redbird-m/matlab/rbfemrhs.m  \n",
            "  inflating: MCXStudio/MATLAB/redbird-m/matlab/rbfemsolve.m  \n",
            "  inflating: MCXStudio/MATLAB/redbird-m/matlab/rbgetdistance.m  \n",
            "  inflating: MCXStudio/MATLAB/redbird-m/matlab/rbgetoptodes.m  \n",
            "  inflating: MCXStudio/MATLAB/redbird-m/matlab/rbgetreff.m  \n",
            "  inflating: MCXStudio/MATLAB/redbird-m/matlab/rbjac.m  \n",
            "  inflating: MCXStudio/MATLAB/redbird-m/matlab/rbjacchrome.m  \n",
            "  inflating: MCXStudio/MATLAB/redbird-m/matlab/rbjacmuafast.m  \n",
            "  inflating: MCXStudio/MATLAB/redbird-m/matlab/rbjacmus.m  \n",
            "  inflating: MCXStudio/MATLAB/redbird-m/matlab/rbjacnode.m  \n",
            "  inflating: MCXStudio/MATLAB/redbird-m/matlab/rbjacscatamp.m  \n",
            "  inflating: MCXStudio/MATLAB/redbird-m/matlab/rbjacscatpow.m  \n",
            "  inflating: MCXStudio/MATLAB/redbird-m/matlab/rbmatflat.m  \n",
            "  inflating: MCXStudio/MATLAB/redbird-m/matlab/rbmatreform.m  \n",
            "  inflating: MCXStudio/MATLAB/redbird-m/matlab/rbmeshprep.m  \n",
            "  inflating: MCXStudio/MATLAB/redbird-m/matlab/rbnormalizediag.m  \n",
            "  inflating: MCXStudio/MATLAB/redbird-m/matlab/rbplot.m  \n",
            "  inflating: MCXStudio/MATLAB/redbird-m/matlab/rbplotforward.m  \n",
            "  inflating: MCXStudio/MATLAB/redbird-m/matlab/rbplotjacobian.m  \n",
            "  inflating: MCXStudio/MATLAB/redbird-m/matlab/rbregemperical.m  \n",
            "  inflating: MCXStudio/MATLAB/redbird-m/matlab/rbreginv.m  \n",
            "  inflating: MCXStudio/MATLAB/redbird-m/matlab/rbreginvover.m  \n",
            "  inflating: MCXStudio/MATLAB/redbird-m/matlab/rbreginvunder.m  \n",
            "  inflating: MCXStudio/MATLAB/redbird-m/matlab/rbrunforward.m  \n",
            "  inflating: MCXStudio/MATLAB/redbird-m/matlab/rbsdmap.m  \n",
            "  inflating: MCXStudio/MATLAB/redbird-m/matlab/rbsetmesh.m  \n",
            "  inflating: MCXStudio/MATLAB/redbird-m/matlab/rbupdateprop.m  \n",
            "  inflating: MCXStudio/MATLAB/redbird-m/doc/redbird_manual.tex  \n",
            " extracting: MCXStudio/MATLAB/redbird-m/doc/Makefile  \n",
            " extracting: MCXStudio/MATLAB/zmat/.gitmodules  \n",
            "  inflating: MCXStudio/MATLAB/zmat/.miss_hit  \n",
            "  inflating: MCXStudio/MATLAB/zmat/.travis.yml  \n",
            "  inflating: MCXStudio/MATLAB/zmat/AUTHORS.txt  \n",
            "  inflating: MCXStudio/MATLAB/zmat/COPYING  \n",
            "  inflating: MCXStudio/MATLAB/zmat/ChangeLog.txt  \n",
            "  inflating: MCXStudio/MATLAB/zmat/DESCRIPTION  \n",
            " extracting: MCXStudio/MATLAB/zmat/INDEX  \n",
            "  inflating: MCXStudio/MATLAB/zmat/LICENSE.txt  \n",
            "  inflating: MCXStudio/MATLAB/zmat/Makefile  \n",
            "  inflating: MCXStudio/MATLAB/zmat/PKG_ADD  \n",
            "  inflating: MCXStudio/MATLAB/zmat/README.rst  \n",
            "  inflating: MCXStudio/MATLAB/zmat/zmat.m  \n",
            "  inflating: MCXStudio/MATLAB/zmat/zmat.prj  \n",
            "  inflating: MCXStudio/MATLAB/zmat/.github/workflows/run_test.yml  \n",
            "  inflating: MCXStudio/MATLAB/zmat/example/demo_zmat_basic.m  \n",
            "  inflating: MCXStudio/MATLAB/zmat/example/zmat_speedbench.m  \n",
            "  inflating: MCXStudio/MATLAB/zmat/example/c/Makefile  \n",
            "  inflating: MCXStudio/MATLAB/zmat/example/c/testzmat.c  \n",
            "  inflating: MCXStudio/MATLAB/zmat/example/f90/Makefile  \n",
            "  inflating: MCXStudio/MATLAB/zmat/example/f90/testzmat.f90  \n",
            "  inflating: MCXStudio/MATLAB/zmat/fortran90/zmatlib.f90  \n",
            "  inflating: MCXStudio/MATLAB/zmat/images/zmat_media.png  \n",
            " extracting: MCXStudio/MATLAB/zmat/images/zmat_logo.png  \n",
            "  inflating: MCXStudio/MATLAB/zmat/include/zmatlib.h  \n",
            "  inflating: MCXStudio/MATLAB/zmat/test/run_zmat_test.m  \n",
            "  inflating: MCXStudio/MATLAB/zmat/test/test_zmat.m  \n",
            "   creating: MCXStudio/locale/\n",
            "  inflating: MCXStudio/locale/mcxstudio.zh-cn.mo  \n",
            "   creating: MCXStudio/MATLAB/zmat/octave/\n",
            "   creating: MCXStudio/MATLAB/zmat/octave/gnu-linux-x86_64/\n",
            "  inflating: MCXStudio/MATLAB/zmat/octave/gnu-linux-x86_64/zipmat.mex  \n",
            "   creating: MCXStudio/MATLAB/hyperspectral_demo/\n",
            "  inflating: MCXStudio/MATLAB/hyperspectral_demo/SpectralLIBMUmm.mat  \n",
            "  inflating: MCXStudio/MATLAB/hyperspectral_demo/makeTissueList_skin.m  \n",
            "  inflating: MCXStudio/MATLAB/hyperspectral_demo/mcxlab_exec4_draw.m  \n",
            "  inflating: MCXStudio/MATLAB/redbird-m/example/demo_redbird_forward_expert.m  \n",
            "  inflating: MCXStudio/MATLAB/redbird-m/example/demo_redbird_node_vs_elem_prop.m  \n",
            "  inflating: MCXStudio/MATLAB/redbird-m/example/demo_redbird_recon_expert.m  \n",
            "  inflating: MCXStudio/MATLAB/redbird-m/example/demo_redbird_recon_singlemesh.m  \n",
            "  inflating: MCXStudio/MATLAB/redbird-m/example/demo_redbird_recon_widefield.m  \n",
            "  inflating: MCXStudio/MATLAB/redbird-m/example/demo_redbird_rf_recon.m  \n",
            "  inflating: MCXStudio/MATLAB/redbird-m/example/demo_redbird_vs_mcx.m  \n",
            "  inflating: MCXStudio/MATLAB/redbird-m/example/demo_redbird_vs_mcx_pencil.m  \n",
            "  inflating: MCXStudio/MATLAB/redbird-m/example/demo_redbird_widefield.m  \n",
            "  inflating: MCXStudio/MATLAB/redbird-m/matlab/rbfemmatrix.m  \n",
            "  inflating: MCXStudio/MATLAB/redbird-m/matlab/rbgetbulk.m  \n",
            "  inflating: MCXStudio/MATLAB/redbird-m/matlab/rbgetcfg.m  \n",
            "  inflating: MCXStudio/MATLAB/redbird-m/matlab/rbgetltr.m  \n",
            "  inflating: MCXStudio/MATLAB/redbird-m/matlab/rbjacscat.m  \n",
            "  inflating: MCXStudio/MATLAB/redbird-m/matlab/rbmasksum.m  \n",
            "  inflating: MCXStudio/MATLAB/redbird-m/matlab/rbmultispectral.m  \n",
            "  inflating: MCXStudio/MATLAB/redbird-m/matlab/rbmusp2sasp.m  \n",
            "  inflating: MCXStudio/MATLAB/redbird-m/matlab/rbprior.m  \n",
            "  inflating: MCXStudio/MATLAB/redbird-m/matlab/rbrun.m  \n",
            "  inflating: MCXStudio/MATLAB/redbird-m/matlab/rbrunrecon.m  \n",
            "  inflating: MCXStudio/MATLAB/redbird-m/matlab/rbsrc2bc.m  \n",
            "  inflating: MCXStudio/MATLAB/redbird-m/matlab/rbsyncprop.m  \n",
            "  inflating: MCXStudio/MATLAB/redbird-m/example/demo_redbird_prior.m  \n",
            "  inflating: MCXStudio/MATLAB/redbird-m/example/demo_redbird_recon_widefieldrf.m  \n",
            "  inflating: MCXStudio/MATLAB/redbird-m/example/demo_redbird_rfcw.m  \n",
            "  inflating: MCXStudio/MATLAB/redbird-m/matlab/rbmakeL.m  \n",
            "  inflating: MCXStudio/MATLAB/redbird-m/matlab/wfCOM.m  \n",
            "  inflating: MCXStudio/MATLAB/redbird-m/matlab/rbcomputewfcom.m  \n",
            "   creating: MCXStudio/MATLAB/brain2mesh/examples/jnii/\n",
            "  inflating: MCXStudio/MATLAB/brain2mesh/examples/jnii/c1ANTS19-5Years_head.jnii  \n",
            "  inflating: MCXStudio/MATLAB/brain2mesh/examples/jnii/c1ANTS40-44Years_head.jnii  \n",
            "  inflating: MCXStudio/MATLAB/brain2mesh/examples/jnii/c2ANTS19-5Years_head.jnii  \n",
            "  inflating: MCXStudio/MATLAB/brain2mesh/examples/jnii/c2ANTS40-44Years_head.jnii  \n",
            "  inflating: MCXStudio/MATLAB/brain2mesh/examples/jnii/c3ANTS19-5Years_head.jnii  \n",
            "  inflating: MCXStudio/MATLAB/brain2mesh/examples/jnii/c3ANTS40-44Years_head.jnii  \n",
            "  inflating: MCXStudio/MATLAB/brain2mesh/examples/jnii/c4ANTS19-5Years_head.jnii  \n",
            "  inflating: MCXStudio/MATLAB/brain2mesh/examples/jnii/c4ANTS40-44Years_head.jnii  \n",
            "  inflating: MCXStudio/MATLAB/brain2mesh/examples/jnii/c5ANTS19-5Years_head.jnii  \n",
            "  inflating: MCXStudio/MATLAB/brain2mesh/examples/jnii/c5ANTS40-44Years_head.jnii  \n",
            "  inflating: MCXStudio/MATLAB/brain2mesh/examples/jnii/c6ANTS19-5Years_head.jnii  \n",
            "  inflating: MCXStudio/MATLAB/brain2mesh/examples/jnii/c6ANTS40-44Years_head.jnii  \n",
            "   creating: MCXStudio/MCXWorkshop2024pyPlot/\n",
            "  inflating: MCXStudio/MCXWorkshop2024pyPlot/README.md  \n",
            "  inflating: MCXStudio/MCXWorkshop2024pyPlot/__init__.py  \n",
            "  inflating: MCXStudio/MCXWorkshop2024pyPlot/plotting.py  \n",
            "  inflating: MCXStudio/MCXWorkshop2024pyPlot/setup.py  \n",
            "   creating: MCXStudio/MCXWorkshop2024pyPlot/.git/\n",
            "  inflating: MCXStudio/MCXWorkshop2024pyPlot/.git/description  \n",
            "  inflating: MCXStudio/MCXWorkshop2024pyPlot/.git/packed-refs  \n",
            " extracting: MCXStudio/MCXWorkshop2024pyPlot/.git/HEAD  \n",
            "  inflating: MCXStudio/MCXWorkshop2024pyPlot/.git/index  \n",
            "  inflating: MCXStudio/MCXWorkshop2024pyPlot/.git/config  \n",
            "   creating: MCXStudio/MCXWorkshop2024pyPlot/.git/branches/\n",
            "   creating: MCXStudio/MCXWorkshop2024pyPlot/.git/hooks/\n",
            "  inflating: MCXStudio/MCXWorkshop2024pyPlot/.git/hooks/fsmonitor-watchman.sample  \n",
            "  inflating: MCXStudio/MCXWorkshop2024pyPlot/.git/hooks/commit-msg.sample  \n",
            "  inflating: MCXStudio/MCXWorkshop2024pyPlot/.git/hooks/update.sample  \n",
            "  inflating: MCXStudio/MCXWorkshop2024pyPlot/.git/hooks/prepare-commit-msg.sample  \n",
            "  inflating: MCXStudio/MCXWorkshop2024pyPlot/.git/hooks/pre-merge-commit.sample  \n",
            "  inflating: MCXStudio/MCXWorkshop2024pyPlot/.git/hooks/applypatch-msg.sample  \n",
            "  inflating: MCXStudio/MCXWorkshop2024pyPlot/.git/hooks/pre-receive.sample  \n",
            "  inflating: MCXStudio/MCXWorkshop2024pyPlot/.git/hooks/pre-applypatch.sample  \n",
            "  inflating: MCXStudio/MCXWorkshop2024pyPlot/.git/hooks/pre-commit.sample  \n",
            "  inflating: MCXStudio/MCXWorkshop2024pyPlot/.git/hooks/pre-rebase.sample  \n",
            "  inflating: MCXStudio/MCXWorkshop2024pyPlot/.git/hooks/push-to-checkout.sample  \n",
            "  inflating: MCXStudio/MCXWorkshop2024pyPlot/.git/hooks/post-update.sample  \n",
            "  inflating: MCXStudio/MCXWorkshop2024pyPlot/.git/hooks/pre-push.sample  \n",
            "   creating: MCXStudio/MCXWorkshop2024pyPlot/.git/info/\n",
            "  inflating: MCXStudio/MCXWorkshop2024pyPlot/.git/info/exclude  \n",
            "   creating: MCXStudio/MCXWorkshop2024pyPlot/.git/refs/\n",
            "   creating: MCXStudio/MCXWorkshop2024pyPlot/.git/refs/heads/\n",
            " extracting: MCXStudio/MCXWorkshop2024pyPlot/.git/refs/heads/main  \n",
            "   creating: MCXStudio/MCXWorkshop2024pyPlot/.git/refs/tags/\n",
            "   creating: MCXStudio/MCXWorkshop2024pyPlot/.git/refs/remotes/\n",
            "   creating: MCXStudio/MCXWorkshop2024pyPlot/.git/refs/remotes/origin/\n",
            " extracting: MCXStudio/MCXWorkshop2024pyPlot/.git/refs/remotes/origin/HEAD  \n",
            "   creating: MCXStudio/MCXWorkshop2024pyPlot/.git/objects/\n",
            "   creating: MCXStudio/MCXWorkshop2024pyPlot/.git/objects/pack/\n",
            "  inflating: MCXStudio/MCXWorkshop2024pyPlot/.git/objects/pack/pack-fe10d4dda3a1f99f2cdcc322d3398b54c0e808bd.pack  \n",
            "  inflating: MCXStudio/MCXWorkshop2024pyPlot/.git/objects/pack/pack-fe10d4dda3a1f99f2cdcc322d3398b54c0e808bd.idx  \n",
            "   creating: MCXStudio/MCXWorkshop2024pyPlot/.git/objects/info/\n",
            "   creating: MCXStudio/MCXWorkshop2024pyPlot/.git/logs/\n",
            "  inflating: MCXStudio/MCXWorkshop2024pyPlot/.git/logs/HEAD  \n",
            "   creating: MCXStudio/MCXWorkshop2024pyPlot/.git/logs/refs/\n",
            "   creating: MCXStudio/MCXWorkshop2024pyPlot/.git/logs/refs/remotes/\n",
            "   creating: MCXStudio/MCXWorkshop2024pyPlot/.git/logs/refs/remotes/origin/\n",
            "  inflating: MCXStudio/MCXWorkshop2024pyPlot/.git/logs/refs/remotes/origin/HEAD  \n",
            "   creating: MCXStudio/MCXWorkshop2024pyPlot/.git/logs/refs/heads/\n",
            "  inflating: MCXStudio/MCXWorkshop2024pyPlot/.git/logs/refs/heads/main  \n",
            "finishing deferred symbolic links:\n",
            "  MCXStudio/MCXSuite/mcx/example/multipattern/cubic60.json -> ../validation/cubic60.json\n",
            "  MCXStudio/MCXSuite/mcx/example/srctest/4benchmark-planar.json -> ../benchmark/benchmark3.json\n",
            "  MCXStudio/MCXSuite/mcx/example/srctest/0benchmark-pencil.json -> ../benchmark/benchmark1.json\n",
            "  MCXStudio/MATLAB/iso2mesh/bin/tetgen.mexmaci64 -> tetgen1.5.mexmaci64\n",
            "\u001b[34m=============================   GPU Information  ================================\n",
            "\u001b[0mDevice 1 of 1:\t\tTesla T4\n",
            "Compute Capability:\t7.5\n",
            "Global Memory:\t\t15835660288 B\n",
            "Constant Memory:\t65536 B\n",
            "Shared Memory:\t\t49152 B\n",
            "Registers:\t\t65536\n",
            "Clock Speed:\t\t1.59 GHz\n",
            "Number of SMs:\t\t40\n",
            "Number of Cores:\t2560\n",
            "Auto-thread:\t\t81920\n",
            "Auto-block:\t\t64\n"
          ]
        }
      ],
      "source": [
        "#@title <font color='orange'>Init 1: Initial setup of environment for running MCXLAB (run the below section once)</font>\n",
        "\n",
        "# install octave and oct2py\n",
        "! apt-get update && apt-get install octave jq libpocl2 pocl-opencl-icd libnvidia-compute-535   # install octave (a free matlab clone), jq and OpenCL runtimes\n",
        "! python3 -m pip install oct2py jdata bjdata matplotlib   # install oct2py, jdata, bjdata and matplotlib Python modules\n",
        "\n",
        "# add octave support to colab notebook\n",
        "%load_ext oct2py.ipython\n",
        "\n",
        "# download and unzip MCXStudio\n",
        "! rm -rf MCXStudio*\n",
        "! curl https://mcx.space/nightly/release/MCX24/MCXStudio-linux-x86_64-nightlybuild.zip -O MCXStudio-linux-x86_64-nightlybuild.zip # download MCX suite\n",
        "! unzip -o MCXStudio-linux-x86_64-nightlybuild.zip && rm -rf MCXStudio-linux-x86_64-nightlybuild.zip # unzip MCX suite\n",
        "\n",
        "# add executable to the shell's paths\n",
        "! cp -a \"$PWD/MCXStudio/MCXSuite/mcx/bin/mcx\" \"/usr/local/bin\"\n",
        "! cp -a \"$PWD/MCXStudio/MCXSuite/mcxcl/bin/mcxcl\" \"/usr/local/bin\"\n",
        "! cp -a \"$PWD/MCXStudio/MCXSuite/mmc/bin/mmc\" \"/usr/local/bin\"\n",
        "! cp -a \"$PWD/MCXStudio/MATLAB/zmat/octave/gnu-linux-x86_64/zipmat.mex\" \"$PWD/MCXStudio/MATLAB/zmat/\"\n",
        "\n",
        "# if a GPU runtime can not be allocated, run this section to setup OpenCL and MCXLAB-CL\n",
        "! [[ ! -f `which nvidia-smi` ]] && mv \"/usr/local/bin/mcxcl\" \"/usr/local/bin/mcx\"\n",
        "! mcx -L"
      ]
    },
    {
      "cell_type": "markdown",
      "source": [
        "### <font color='orange'>Init 2: Only need to run this once at the beginning</font>"
      ],
      "metadata": {
        "id": "3FuiSDH_w6Dh"
      }
    },
    {
      "cell_type": "code",
      "source": [
        "%%octave\n",
        "addpath([pwd filesep 'MCXStudio/MATLAB/mcxlab']);                 % add path to mcxlab\n",
        "addpath([pwd filesep 'MCXStudio/MCXSuite/mcx' filesep 'utils']);  % add path to mcx helper functions\n",
        "addpath([pwd filesep 'MCXStudio/MATLAB/mmclab']);                 % add path to mmclab\n",
        "addpath([pwd filesep 'MCXStudio/MCXSuite/mmc' filesep 'matlab']); % add path to mmc helper functions\n",
        "addpath([pwd filesep 'MCXStudio/MATLAB/iso2mesh']);               % add path to iso2mesh/jsonlab\n",
        "addpath([pwd filesep 'MCXStudio/MATLAB/brain2mesh']);             % add path to brain2mesh\n",
        "addpath([pwd filesep 'MCXStudio/MATLAB/zmat']);                   % add path to zmat for data compression\n",
        "addpath([pwd filesep 'MCXStudio/MATLAB/redbird-m/matlab']);       % add path to redbird-m\n",
        "addpath([pwd filesep 'MCXStudio/MATLAB/hyperspectral_demo']);     % add path to hyperspectral_demo for exec 4\n",
        "\n",
        "struct_levels_to_print(0);\n",
        "print_struct_array_contents(0);\n",
        "\n",
        "if(system('which nvidia-smi'))                   % if this runtime does not have NVIDIA GPU support\n",
        "    addpath([pwd filesep 'MCXStudio/MATLAB/mcxlabcl']);    % add path to mcxlabcl\n",
        "    USE_MCXCL=1;                                 % set USE_MCXCL flag in the base workspace\n",
        "end"
      ],
      "metadata": {
        "id": "sQov6LtveG93",
        "colab": {
          "base_uri": "https://localhost:8080/",
          "height": 124
        },
        "outputId": "e8a6553e-80da-4e59-f5a9-7f96e9fa623d"
      },
      "execution_count": 21,
      "outputs": [
        {
          "output_type": "display_data",
          "data": {
            "text/plain": [
              "/opt/bin/nvidia-smi"
            ]
          },
          "metadata": {}
        }
      ]
    },
    {
      "cell_type": "markdown",
      "source": [
        "### <font color='orange'>Init 3: Verify your environments</font>\n",
        "\n",
        "---"
      ],
      "metadata": {
        "id": "oPiJ3kcF4MK2"
      }
    },
    {
      "cell_type": "code",
      "source": [
        "%%octave\n",
        "\n",
        "which mcx\n",
        "which s2m\n",
        "which zipmat\n",
        "\n",
        "mmclab('gpuinfo')     % use this command to list supported CPU or GPU in octave\n",
        "unix('mcx -L')        % use -L flag to list GPU in the command line"
      ],
      "metadata": {
        "id": "LnrnJOcJsQzW",
        "colab": {
          "base_uri": "https://localhost:8080/",
          "height": 1000
        },
        "outputId": "cf659894-0bda-4870-fd6d-d7c9bc6b21bf"
      },
      "execution_count": 22,
      "outputs": [
        {
          "output_type": "display_data",
          "data": {
            "text/plain": [
              "'mcx' is a function from the file /content/MCXStudio/MATLAB/mcxlab/mcx.mex"
            ]
          },
          "metadata": {}
        },
        {
          "output_type": "display_data",
          "data": {
            "text/plain": [
              "'s2m' is a function from the file /content/MCXStudio/MATLAB/iso2mesh/s2m.m"
            ]
          },
          "metadata": {}
        },
        {
          "output_type": "display_data",
          "data": {
            "text/plain": [
              "'zipmat' is a function from the file /content/MCXStudio/MATLAB/zmat/zipmat.mex"
            ]
          },
          "metadata": {}
        },
        {
          "output_type": "display_data",
          "data": {
            "text/plain": [
              "Platform [0] Name NVIDIA CUDA"
            ]
          },
          "metadata": {}
        },
        {
          "output_type": "display_data",
          "data": {
            "text/plain": [
              "============ GPU device ID 0 [1 of 1]: Tesla T4  ============"
            ]
          },
          "metadata": {}
        },
        {
          "output_type": "display_data",
          "data": {
            "text/plain": [
              " Device 1 of 1:\t\tTesla T4"
            ]
          },
          "metadata": {}
        },
        {
          "output_type": "display_data",
          "data": {
            "text/plain": [
              " Compute units   :\t40 core(s)"
            ]
          },
          "metadata": {}
        },
        {
          "output_type": "display_data",
          "data": {
            "text/plain": [
              " Global memory   :\t15835660288 B"
            ]
          },
          "metadata": {}
        },
        {
          "output_type": "display_data",
          "data": {
            "text/plain": [
              " Local memory    :\t49152 B"
            ]
          },
          "metadata": {}
        },
        {
          "output_type": "display_data",
          "data": {
            "text/plain": [
              " Constant memory :\t65536 B"
            ]
          },
          "metadata": {}
        },
        {
          "output_type": "display_data",
          "data": {
            "text/plain": [
              " Clock speed     :\t1590 MHz"
            ]
          },
          "metadata": {}
        },
        {
          "output_type": "display_data",
          "data": {
            "text/plain": [
              " Compute Capacity:\t7.5"
            ]
          },
          "metadata": {}
        },
        {
          "output_type": "display_data",
          "data": {
            "text/plain": [
              " Stream Processor:\t2560"
            ]
          },
          "metadata": {}
        },
        {
          "output_type": "display_data",
          "data": {
            "text/plain": [
              " Vendor name    :\tNVIDIA"
            ]
          },
          "metadata": {}
        },
        {
          "output_type": "display_data",
          "data": {
            "text/plain": [
              " Auto-thread    :\t163840"
            ]
          },
          "metadata": {}
        },
        {
          "output_type": "display_data",
          "data": {
            "text/plain": [
              " Auto-block     :\t64"
            ]
          },
          "metadata": {}
        },
        {
          "output_type": "display_data",
          "data": {
            "text/plain": [
              "Platform [1] Name Portable Computing Language"
            ]
          },
          "metadata": {}
        },
        {
          "output_type": "display_data",
          "data": {
            "text/plain": [
              "============ CPU device ID 1 [1 of 1]: pthread-Intel(R) Xeon(R) CPU @ 2.00GHz  ============"
            ]
          },
          "metadata": {}
        },
        {
          "output_type": "display_data",
          "data": {
            "text/plain": [
              " Device 2 of 1:\t\tpthread-Intel(R) Xeon(R) CPU @ 2.00GHz"
            ]
          },
          "metadata": {}
        },
        {
          "output_type": "display_data",
          "data": {
            "text/plain": [
              " Compute units   :\t2 core(s)"
            ]
          },
          "metadata": {}
        },
        {
          "output_type": "display_data",
          "data": {
            "text/plain": [
              " Global memory   :\t11461947392 B"
            ]
          },
          "metadata": {}
        },
        {
          "output_type": "display_data",
          "data": {
            "text/plain": [
              " Local memory    :\t524288 B"
            ]
          },
          "metadata": {}
        },
        {
          "output_type": "display_data",
          "data": {
            "text/plain": [
              " Constant memory :\t524288 B"
            ]
          },
          "metadata": {}
        },
        {
          "output_type": "display_data",
          "data": {
            "text/plain": [
              " Clock speed     :\t2000 MHz"
            ]
          },
          "metadata": {}
        },
        {
          "output_type": "display_data",
          "data": {
            "text/plain": [
              " Vendor name    :\tUnknown"
            ]
          },
          "metadata": {}
        },
        {
          "output_type": "display_data",
          "data": {
            "text/plain": [
              " Auto-thread    :\t128"
            ]
          },
          "metadata": {}
        },
        {
          "output_type": "display_data",
          "data": {
            "text/plain": [
              " Auto-block     :\t64"
            ]
          },
          "metadata": {}
        },
        {
          "output_type": "display_data",
          "data": {
            "text/plain": [
              "ans ="
            ]
          },
          "metadata": {}
        },
        {
          "output_type": "display_data",
          "data": {
            "text/plain": []
          },
          "metadata": {}
        },
        {
          "output_type": "display_data",
          "data": {
            "text/plain": [
              "  2x1 struct array containing the fields:"
            ]
          },
          "metadata": {}
        },
        {
          "output_type": "display_data",
          "data": {
            "text/plain": []
          },
          "metadata": {}
        },
        {
          "output_type": "display_data",
          "data": {
            "text/plain": [
              "    name"
            ]
          },
          "metadata": {}
        },
        {
          "output_type": "display_data",
          "data": {
            "text/plain": [
              "    id"
            ]
          },
          "metadata": {}
        },
        {
          "output_type": "display_data",
          "data": {
            "text/plain": [
              "    devcount"
            ]
          },
          "metadata": {}
        },
        {
          "output_type": "display_data",
          "data": {
            "text/plain": [
              "    major"
            ]
          },
          "metadata": {}
        },
        {
          "output_type": "display_data",
          "data": {
            "text/plain": [
              "    minor"
            ]
          },
          "metadata": {}
        },
        {
          "output_type": "display_data",
          "data": {
            "text/plain": [
              "    globalmem"
            ]
          },
          "metadata": {}
        },
        {
          "output_type": "display_data",
          "data": {
            "text/plain": [
              "    constmem"
            ]
          },
          "metadata": {}
        },
        {
          "output_type": "display_data",
          "data": {
            "text/plain": [
              "    sharedmem"
            ]
          },
          "metadata": {}
        },
        {
          "output_type": "display_data",
          "data": {
            "text/plain": [
              "    regcount"
            ]
          },
          "metadata": {}
        },
        {
          "output_type": "display_data",
          "data": {
            "text/plain": [
              "    clock"
            ]
          },
          "metadata": {}
        },
        {
          "output_type": "display_data",
          "data": {
            "text/plain": [
              "    sm"
            ]
          },
          "metadata": {}
        },
        {
          "output_type": "display_data",
          "data": {
            "text/plain": [
              "    core"
            ]
          },
          "metadata": {}
        },
        {
          "output_type": "display_data",
          "data": {
            "text/plain": [
              "    autoblock"
            ]
          },
          "metadata": {}
        },
        {
          "output_type": "display_data",
          "data": {
            "text/plain": [
              "    autothread"
            ]
          },
          "metadata": {}
        },
        {
          "output_type": "display_data",
          "data": {
            "text/plain": [
              "    maxgate"
            ]
          },
          "metadata": {}
        },
        {
          "output_type": "display_data",
          "data": {
            "text/plain": []
          },
          "metadata": {}
        },
        {
          "output_type": "display_data",
          "data": {
            "text/plain": [
              "\u001b[34m=============================   GPU Information  ================================"
            ]
          },
          "metadata": {}
        },
        {
          "output_type": "display_data",
          "data": {
            "text/plain": [
              "\u001b[0mDevice 1 of 1:\t\tTesla T4"
            ]
          },
          "metadata": {}
        },
        {
          "output_type": "display_data",
          "data": {
            "text/plain": [
              "Compute Capability:\t7.5"
            ]
          },
          "metadata": {}
        },
        {
          "output_type": "display_data",
          "data": {
            "text/plain": [
              "Global Memory:\t\t15835660288 B"
            ]
          },
          "metadata": {}
        },
        {
          "output_type": "display_data",
          "data": {
            "text/plain": [
              "Constant Memory:\t65536 B"
            ]
          },
          "metadata": {}
        },
        {
          "output_type": "display_data",
          "data": {
            "text/plain": [
              "Shared Memory:\t\t49152 B"
            ]
          },
          "metadata": {}
        },
        {
          "output_type": "display_data",
          "data": {
            "text/plain": [
              "Registers:\t\t65536"
            ]
          },
          "metadata": {}
        },
        {
          "output_type": "display_data",
          "data": {
            "text/plain": [
              "Clock Speed:\t\t1.59 GHz"
            ]
          },
          "metadata": {}
        },
        {
          "output_type": "display_data",
          "data": {
            "text/plain": [
              "Number of SMs:\t\t40"
            ]
          },
          "metadata": {}
        },
        {
          "output_type": "display_data",
          "data": {
            "text/plain": [
              "Number of Cores:\t2560"
            ]
          },
          "metadata": {}
        },
        {
          "output_type": "display_data",
          "data": {
            "text/plain": [
              "Auto-thread:\t\t81920"
            ]
          },
          "metadata": {}
        },
        {
          "output_type": "display_data",
          "data": {
            "text/plain": [
              "Auto-block:\t\t64"
            ]
          },
          "metadata": {}
        },
        {
          "output_type": "display_data",
          "data": {
            "text/plain": []
          },
          "metadata": {}
        },
        {
          "output_type": "display_data",
          "data": {
            "text/plain": [
              "ans = 0"
            ]
          },
          "metadata": {}
        }
      ]
    },
    {
      "cell_type": "markdown",
      "source": [
        "#  <font color='orange'> **Forward simulation in a layered slab**\n",
        "\n",
        "## **Key objectives of the section:**\n",
        "\n",
        "*   Meshing of simple layered domain\n",
        "*   Key MMC inputs\n",
        "*   Plotting MMC fluence and flux\n",
        "*   MMC advantages and limitations\n",
        "\n",
        "\n",
        "\n"
      ],
      "metadata": {
        "id": "Ws1_waT11r5U"
      }
    },
    {
      "cell_type": "markdown",
      "source": [
        "## **Mesh introduction/refresher**\n",
        "\n",
        "###**What is a mesh?**\n",
        "A mesh is a set of points in 3D space (**nodes**) and a series of relationships that attach them to one another.\n",
        "\n",
        "- In MMC, the smallest units of our meshes are **tetrahedrons**, which we call **elements (elem)**.\n",
        "    - Each tetrahedron elem has four **nodes**, one for each corner\n",
        "\n",
        "- We can also describe a mesh using just its boundary surfaces, this is called a surface mesh.\n",
        "    - surface meshes use triangular **faces** instead of tetrahedron\n",
        "    \n",
        "    ---\n",
        "Above: left - a hemisphere solid mesh, right - a hemisphere surface mesh"
      ],
      "metadata": {
        "id": "FAVp0Qp8Dd1X"
      }
    },
    {
      "cell_type": "markdown",
      "source": [
        "To create and modify meshes, we use the Iso2Mesh library.\n",
        "\n",
        "Several basic functions can be used to create an initial tetrahedral mesh, including:\n",
        "\n",
        "- meshgrid5\n",
        "- meshgrid6\n",
        "- meshabox\n",
        "- latticegrid\n",
        "- meshasphere\n",
        "- meshacylinder\n",
        "\n",
        "Documentation of the library can be found here: https://iso2mesh.sourceforge.net/cgi-bin/index.cgi/.\n",
        "\n",
        "\n"
      ],
      "metadata": {
        "id": "pihZcY4FWJ2r"
      }
    },
    {
      "cell_type": "markdown",
      "source": [
        "## **Explaining mesh variables**:\n",
        "\n",
        "A solid mesh can be created with two matrix variables:\n",
        "\n",
        " - The **node** variable stores all the coordinates of the points in the mesh\n",
        "    - it is always a three column matrix\n",
        "\n",
        " - The **elem** variable stores the index of all the nodes making up a tetrahedron in each row.\n",
        "    - it is usually a 4 column matrix (another column may be used to track materials)\n",
        "\n",
        "---\n",
        "One of the simplest meshes you can create is a cube or rectangular prism using the **meshgrid6** function. This function slices a rectangular prism into 6 equally sized tetrahedrons.\n",
        "\n",
        "The code below shows a a mesh created with this function and the variables that describe it.\n"
      ],
      "metadata": {
        "id": "DZnN0RfSZthb"
      }
    },
    {
      "cell_type": "code",
      "source": [
        "#@title **Creating a simple lattice**\n",
        "%%octave\n",
        "\n",
        "x_coordinates = [0, 110];\n",
        "y_coordinates = [0, 70];\n",
        "z_coordinates = [0, 80];\n",
        "[node, elem] = meshgrid6(x_coordinates, y_coordinates, z_coordinates);\n",
        "figure;\n",
        "caxis([0,10000]);\n",
        "plotmesh(node, elem);\n",
        "\n",
        "disp('The node values are:')\n",
        "disp(node);\n",
        "disp('Each row displays the coordinates of a node')\n",
        "disp('-----------------------------------------------------------')\n",
        "disp('The element values are:')\n",
        "disp(elem);\n",
        "disp('Each row displays the four IDs of nodes making up a tetrahedron')"
      ],
      "metadata": {
        "id": "F2s_1VB9aPZR",
        "cellView": "form"
      },
      "execution_count": null,
      "outputs": []
    },
    {
      "cell_type": "code",
      "source": [
        "#@title **Setting properties of a simple lattice**\n",
        "%%octave\n",
        "disp('We can add a column to elements for optical properties:')\n",
        "disp('Below, each tetrahedron is given its own material ID')\n",
        "disp('------------------------------------------------------------')\n",
        "disp('The element values are:')\n",
        "elem_with_mat = [elem, [1:size(elem,1)]'];\n",
        "disp(elem_with_mat);\n",
        "\n",
        "figure;\n",
        "plotmesh(node, elem_with_mat);\n",
        "colormap('jet');\n",
        "figure;\n",
        "plotmesh(node, elem_with_mat);\n",
        "view(-45,-45)\n",
        "\n",
        "cb = colorbar;\n",
        "colormap('jet');\n",
        "ylabel(cb,'Material ID','FontSize',30,'Rotation',270);"
      ],
      "metadata": {
        "id": "6FTEldW4uiNg",
        "cellView": "form"
      },
      "execution_count": null,
      "outputs": []
    },
    {
      "cell_type": "markdown",
      "source": [
        "##**Creating a 5-layered slab**\n",
        "\n",
        "The meshgrid6 function is useful but as we can see, it does not allow us to create **multiple property-labelled regions** easily.\n",
        "\n",
        "The **latticegrid** function allows us to create a **multi-layered slab** in two steps:\n",
        "\n",
        "\n"
      ],
      "metadata": {
        "id": "Rk-mthG1wNyO"
      }
    },
    {
      "cell_type": "markdown",
      "source": [
        "1. Specify dimensions for surface mesh"
      ],
      "metadata": {
        "id": "fXBZFYINyXDX"
      }
    },
    {
      "cell_type": "code",
      "source": [
        "%%octave\n",
        "\n",
        "% thickness of each layer in mm\n",
        "Thickness=[7.25,4.00,2.73,3.29,4.23];\n",
        "\n",
        "% prepare simulation mesh (a five layered slab of 50mm x 50mm x 50mm):\n",
        "% prepares a surface-only mesh:\n",
        "x_bounds = [0 50];\n",
        "y_bounds = [0 50];\n",
        "z_layer_heights = [0 Thickness(1,1) sum(Thickness(1,1:2)) sum(Thickness(1,1:3)) sum(Thickness(1,1:4)) 50];\n",
        "[nodes,faces]=latticegrid(x_bounds, y_bounds, z_layer_heights);\n"
      ],
      "metadata": {
        "id": "gdZN01Ekxnhg"
      },
      "execution_count": null,
      "outputs": []
    },
    {
      "cell_type": "markdown",
      "source": [
        "2. Convert the surface mesh to a solid mesh"
      ],
      "metadata": {
        "id": "LwK7sZoVyv08"
      }
    },
    {
      "cell_type": "code",
      "source": [
        "%%capture\n",
        "%%octave\n",
        "% prepares interior tetrahedrons for that mesh:\n",
        "% max_volume is very important and determines our mesh density\n",
        "% dramatically impacts performance:\n",
        "max_volume = 1000;\n",
        "\n",
        "[nodes,elems]=surf2mesh(nodes,faces,[],[],1,max_volume,[1 1 4;1 1 9;1 1 12;1 1 14.5;1 1 25]);\n"
      ],
      "metadata": {
        "id": "XHNLNcW6oDbx",
        "collapsed": true
      },
      "execution_count": null,
      "outputs": []
    },
    {
      "cell_type": "markdown",
      "source": [
        "Display key info and plot the mesh:"
      ],
      "metadata": {
        "id": "okNAiwyczfWL"
      }
    },
    {
      "cell_type": "code",
      "source": [
        "%%octave\n",
        "% display the size of the mesh\n",
        "disp('Size of the node matrix (rows) (columns):');\n",
        "disp(size(nodes));\n",
        "disp('Size of the element matrix (rows) (columns):');\n",
        "disp(size(elems));\n",
        "\n",
        "% plot the tetrahedral mesh to verify it is correct:\n",
        "plotmesh(nodes, elems);\n",
        "cb = colorbar;\n",
        "colormap('jet');\n",
        "ylabel(cb,'Material ID','FontSize',30,'Rotation',270);\n"
      ],
      "metadata": {
        "id": "oD0D-MIpzj2N"
      },
      "execution_count": null,
      "outputs": []
    },
    {
      "cell_type": "markdown",
      "source": [
        "## **Preparing MMC inputs**\n",
        "\n",
        "For the MMC simulation, we have to create a config struct.\n",
        "This struct can be named anything and will contain a series of settings and simulation parameters as fields.\n",
        "\n",
        "The bare essential fields are:\n",
        "- a mesh with nodes and elements\n",
        "- a list of properties for all element IDs\n",
        "- a source position and direction\n",
        "- Time gates and steps (in seconds)\n",
        "- number of photons"
      ],
      "metadata": {
        "id": "hQpSakylDoM0"
      }
    },
    {
      "cell_type": "markdown",
      "source": [
        "Delete any existing config variable:"
      ],
      "metadata": {
        "id": "pV8gAk9l1qR2"
      }
    },
    {
      "cell_type": "code",
      "source": [
        "%%octave\n",
        "clear cfg_mmc"
      ],
      "metadata": {
        "id": "b-qX40Nq1nrL"
      },
      "execution_count": null,
      "outputs": []
    },
    {
      "cell_type": "markdown",
      "source": [
        "Set the mesh for the simulation:"
      ],
      "metadata": {
        "id": "udYdBeY01Z2U"
      }
    },
    {
      "cell_type": "code",
      "source": [
        "%%octave\n",
        "% set the config values to the mesh variables\n",
        "cfg_mmc.node=nodes;\n",
        "cfg_mmc.elem=elems;\n"
      ],
      "metadata": {
        "id": "EmMrhCiPjf82"
      },
      "execution_count": null,
      "outputs": []
    },
    {
      "cell_type": "markdown",
      "source": [
        "Set the medium properties for background (air) and all 5 layers"
      ],
      "metadata": {
        "id": "mIDe9VBvOFow"
      }
    },
    {
      "cell_type": "code",
      "source": [
        "%%octave\n",
        "% set the medium properties:\n",
        "% labeling, row 1-air,2-scalp,3-skull,4-csf,5-gray matter,6-white matter\n",
        "cfg_mmc.prop=[0,0,1,1;\n",
        "              0.019, 7.8, 0.95, 1.37;\n",
        "              0.019, 7.8, 0.95, 1.37;\n",
        "              0.004, 0.009, 0.95, 1.37;\n",
        "              0.02, 9.0, 0.95, 1.37;\n",
        "              0.08, 10.9, 0.95, 1.37];\n"
      ],
      "metadata": {
        "id": "D9njHCUPOFFG"
      },
      "execution_count": null,
      "outputs": []
    },
    {
      "cell_type": "markdown",
      "source": [
        "Set the number of photons:\n",
        "(More = slower but less noisy results)"
      ],
      "metadata": {
        "id": "OdGz2_vz1zEK"
      }
    },
    {
      "cell_type": "code",
      "source": [
        "%%octave\n",
        "% set the number of photons\n",
        "number_of_photons=100000 # @param {type:\"slider\", min:0, max:100000, step:100}\n",
        "cfg_mmc.nphoton=number_of_photons;"
      ],
      "metadata": {
        "id": "GKyBeNPO1kYy"
      },
      "execution_count": null,
      "outputs": []
    },
    {
      "cell_type": "markdown",
      "source": [
        "Set the source position and direction:"
      ],
      "metadata": {
        "id": "NSp9Q4tE2Clt"
      }
    },
    {
      "cell_type": "code",
      "source": [
        "%%octave\n",
        "% set the source position and direction:\n",
        "cfg_mmc.srcpos=[25, 25, 0];\n",
        "cfg_mmc.srcdir=[0, 0, 1];\n"
      ],
      "metadata": {
        "id": "Wfe4Gpxh2Bmt"
      },
      "execution_count": null,
      "outputs": []
    },
    {
      "cell_type": "markdown",
      "source": [
        "Set the time gates and time steps:"
      ],
      "metadata": {
        "id": "rgw83rRx2UOW"
      }
    },
    {
      "cell_type": "code",
      "source": [
        "%%octave\n",
        "% set the time bounds of the simulation in seconds:\n",
        "cfg_mmc.tstart=0;\n",
        "cfg_mmc.tend=5e-9;\n",
        "cfg_mmc.tstep=5e-9;\n",
        "\n",
        "% while we're at it, set the output to fluence,\n",
        "% which is flux integrated by the time step\n",
        "cfg_mmc.outputtype='fluence';"
      ],
      "metadata": {
        "id": "M2RlGSFQ2MYy"
      },
      "execution_count": null,
      "outputs": []
    },
    {
      "cell_type": "markdown",
      "source": [
        "Choose a method for storing fluence:"
      ],
      "metadata": {
        "id": "_JvKKxiNQZvI"
      }
    },
    {
      "cell_type": "code",
      "source": [
        "%%octave\n",
        "MMC_method = \"grid\" # @param [\"elem\", \"grid\"]\n",
        "cfg_mmc.method = MMC_method;"
      ],
      "metadata": {
        "id": "MK9Nr-3JYcF2"
      },
      "execution_count": null,
      "outputs": []
    },
    {
      "cell_type": "code",
      "source": [
        "%%octave\n",
        "%Set the MMC random seed\n",
        "seed = 2433243 # @param\n",
        "cfg_mmc.seed = seed;"
      ],
      "metadata": {
        "id": "lufqMzBz_Zsf"
      },
      "execution_count": null,
      "outputs": []
    },
    {
      "cell_type": "markdown",
      "source": [
        "##**Run MMC simulation**"
      ],
      "metadata": {
        "id": "n9Q0YIwrQuqp"
      }
    },
    {
      "cell_type": "markdown",
      "source": [
        "Quick final plot of our source and domain to make sure it's set up right"
      ],
      "metadata": {
        "id": "EYQw2DugQ8aT"
      }
    },
    {
      "cell_type": "code",
      "source": [
        "%%octave\n",
        "% we can plot the source position and direction\n",
        "% to verify it is in the location on the mesh:\n",
        "figure;\n",
        "hold on;\n",
        "plotmesh(nodes, elems);\n",
        "scatter3(cfg_mmc.srcpos(1), cfg_mmc.srcpos(2), cfg_mmc.srcpos(3), 500, 'MarkerFaceColor', 'r');\n",
        "quiver3(cfg_mmc.srcpos(1), cfg_mmc.srcpos(2), cfg_mmc.srcpos(3),\n",
        "        cfg_mmc.srcdir(1), cfg_mmc.srcdir(2), cfg_mmc.srcdir(3), 'MaxHeadSize', 44, 'Color', 'r', 'MarkerFaceColor', 'r');\n",
        "view(-45,-45)"
      ],
      "metadata": {
        "id": "QomxT8Qm2b0d"
      },
      "execution_count": null,
      "outputs": []
    },
    {
      "cell_type": "markdown",
      "source": [
        "Run the simulation"
      ],
      "metadata": {
        "id": "Jo5GGwDoRmht"
      }
    },
    {
      "cell_type": "code",
      "source": [
        "%%octave\n",
        "\n",
        "% this sets up a progress bar and timer\n",
        "cfg_mmc.debuglevel='TP';\n",
        "\n",
        "% picks which gpu to run on, by setting ones or zeros.\n",
        "% if you had three GPUs and you wanted to use all three, you would do:\n",
        "% cfg_mmc.gpuid='111';\n",
        "% if you had three GPUs and wanted to use the last two, you would do:\n",
        "% cfg_mmc.gpuid='011';\n",
        "\n",
        "% we currently only have one GPU:\n",
        "cfg_mmc.gpuid='1';\n",
        "\n",
        "fluence = mmclab(cfg_mmc);"
      ],
      "metadata": {
        "id": "GsrGpfOeN6GQ"
      },
      "execution_count": null,
      "outputs": []
    },
    {
      "cell_type": "markdown",
      "source": [
        "## **MMC outputs and plotting**\n",
        "\n",
        "MMC has two output types for fluence:\n",
        "\n",
        "---\n",
        "\n",
        "<div>\n",
        "<img src=\"https://drive.google.com/uc?export=view&id=1nAMUSKVxMhcTbQ7ngN5iLk4jnBCbX84p\" width=\"700\"/>\n",
        "</div>\n",
        "\n",
        "---\n",
        "\n",
        "<div>\n",
        "<img src=\"https://drive.google.com/uc?export=view&id=1M1GHzWuY7-DKhRMgmrEBfID3lO9hM8vS\" width=\"700\"/>\n",
        "</div>\n",
        "\n",
        "<div>\n",
        "<img src=\"https://drive.google.com/uc?export=view&id=1yDFZAhZJYPOX2cXnxZLKAKfE939Lcwx8\" width=\"700\"/>\n",
        "</div>\n",
        "\n",
        "---\n",
        "\n",
        "\n",
        "Grid based simulations tend to be more efficient, but they may lack precision if you are interested in fine features on surfaces (by default the grid is made of 1mm^3 cubes)\n",
        "\n"
      ],
      "metadata": {
        "id": "vY4R1DqhEGlf"
      }
    },
    {
      "cell_type": "markdown",
      "source": [
        "Create a 2D set of coordinates for plotting:"
      ],
      "metadata": {
        "id": "PC-6RXy6BL27"
      }
    },
    {
      "cell_type": "code",
      "source": [
        "%%octave\n",
        "% distance along the x-axis for the plane containing\n",
        "% source and detectors\n",
        "cross_section_srcdist = 25;\n",
        "\n",
        "% define a plane using cross section srcplane:\n",
        "cutting_plane = [cross_section_srcdist 0 0;cross_section_srcdist 1 0;cross_section_srcdist 0 1];\n",
        "\n",
        "% vector of y-coorinates for the cross section\n",
        "% note that our slab is 50mm wide\n",
        "% if we want to plot fluence values at the center of each 1mm cube,\n",
        "% we would start at 0.5 and go to 49.5 with 50 steps\n",
        "cubesize = 1; % cube of 1mm x 1mm x 1mm\n",
        "\n",
        "y_vals = linspace(0+cubesize/2, 50-cubesize/2, 50);\n",
        "\n",
        "% vector of z-coordinates for the cross section\n",
        "% same as y-coordinates but the height of the slab is 50mm\n",
        "z_vals = linspace(0+cubesize/2, 50-cubesize/2, 50);\n",
        "\n",
        "% make a grid of coordinates for all fluence values in the cross section\n",
        "[yy,zz]=meshgrid(y_vals,z_vals);"
      ],
      "metadata": {
        "id": "kEDQFCkoBVQv"
      },
      "execution_count": null,
      "outputs": []
    },
    {
      "cell_type": "markdown",
      "source": [
        "Obtain fluence values for a crosssection of the mesh, interpolate them to the grid"
      ],
      "metadata": {
        "id": "2BcHrGMQBjz8"
      }
    },
    {
      "cell_type": "code",
      "source": [
        "%%octave\n",
        "if(strcmp(cfg_mmc.method, 'elem'))\n",
        "    % qmeshcut gets the intersections of all mesh edges and a plane\n",
        "    % as a set of coordinate points and a set of interpolated values\n",
        "    [cutpos,cutvalue,~]=qmeshcut(cfg_mmc.elem(:,1:4),cfg_mmc.node,fluence.data,cutting_plane);\n",
        "\n",
        "    plottable_fluence_data=griddata(cutpos(:,2),cutpos(:,3),cutvalue,yy,zz);\n",
        "end\n",
        "\n",
        "if(strcmp(cfg_mmc.method, 'grid'))\n",
        "    % plot a slice of the output grid nearest to the source plane\n",
        "    % squeeze gets rid of a one-value dimension to the matrix\n",
        "        plottable_fluence_data = squeeze(fluence.data(25, 1:50, 1:50));\n",
        "        plottable_fluence_data = rot90(plottable_fluence_data, -1);\n",
        "end\n",
        "\n",
        "% we take the absolute value because arbitrarily small fluence\n",
        "% may be recorded as negative values\n",
        "[yy_plot,zz_plot]=meshgrid(1:(50),1:(50));\n",
        "contourf(yy_plot,zz_plot,log10(abs(plottable_fluence_data)),'linewidth',5,'linestyle','-','DisplayName','Diffusion');\n",
        "axis equal;\n",
        "title('Fluence of a 5-layered slab')\n",
        "\n"
      ],
      "metadata": {
        "id": "-MXVrkCv87B-"
      },
      "execution_count": null,
      "outputs": []
    },
    {
      "cell_type": "markdown",
      "source": [
        "**Why use MMC over MCX?**\n",
        "\n",
        "As we saw in this section, MMC can be used to define and simulate layers with intermediate thicknesses with differences on the order of hundredths of a milimeter.\n",
        "\n",
        "In the next section we will use MMC to simulate light travelling through a head model with curved boundaries."
      ],
      "metadata": {
        "id": "7gTaEW0gUx7D"
      }
    },
    {
      "cell_type": "markdown",
      "source": [
        "#<font color='orange'>**Forward simulation in a brain atlas**\n",
        "\n",
        "## **Key objectives of the section:**\n",
        "\n",
        "*   Loading a pre-made mesh\n",
        "*   Meshing and adding an inclusion\n",
        "*   Plotting cross sections of a complex mesh"
      ],
      "metadata": {
        "id": "2oRatwVcV242"
      }
    },
    {
      "cell_type": "markdown",
      "source": [
        "###**Prepare configuration**"
      ],
      "metadata": {
        "id": "-r8W9zP6pumo"
      }
    },
    {
      "cell_type": "markdown",
      "source": [
        "Clear all previously created variables"
      ],
      "metadata": {
        "id": "d4u84_a6WGJG"
      }
    },
    {
      "cell_type": "code",
      "source": [
        "%%octave\n",
        "clear;"
      ],
      "metadata": {
        "id": "DaTgs86gWDOx"
      },
      "execution_count": null,
      "outputs": []
    },
    {
      "cell_type": "markdown",
      "source": [
        "Load the atlas mesh"
      ],
      "metadata": {
        "id": "wkfa2hMqW5Nm"
      }
    },
    {
      "cell_type": "code",
      "source": [
        "%%octave\n",
        "load('MCXStudio/MATLAB/mmclab/example/head_atlas.mat');\n",
        "node = double(node);\n",
        "elem = double(elem);\n",
        "property_IDs = double(prop);\n",
        "cfg.node=node;\n",
        "cfg.elem=elem;\n",
        "\n",
        "% set the IDs for the properties of every element\n",
        "cfg.elem(:,5)=property_IDs;"
      ],
      "metadata": {
        "id": "fBIygUNSW8T9"
      },
      "execution_count": null,
      "outputs": []
    },
    {
      "cell_type": "markdown",
      "source": [
        "Set the optical properties (absorption coefficient (1/mm), scattering coefficient (1/mm), anisotrophy, refractive index)"
      ],
      "metadata": {
        "id": "phV5h9eai-45"
      }
    },
    {
      "cell_type": "code",
      "source": [
        "%%octave\n",
        "%% prepare cfg for MMCLAB simulation\n",
        "\n",
        "% medium labels: row 0-ambient air,\n",
        "%                row 1-air cavities,\n",
        "%                row 2-scalp,\n",
        "%                row 3-skull,\n",
        "%                row 4-csf,\n",
        "%                row 5-gray matter,\n",
        "%                row 6-white matter\n",
        "\n",
        "cfg.prop=[0,0,1,1;\n",
        "          0,0,1,1;\n",
        "          0.019 7.8 0.89 1.37;\n",
        "          0.019 7.8 0.89 1.37;\n",
        "          0.004 0.009 0.89 1.37;\n",
        "          0.02 9.0 0.89 1.37;\n",
        "          0.08 40.9 0.84 1.37];"
      ],
      "metadata": {
        "id": "kobh1tQOiqCi"
      },
      "execution_count": null,
      "outputs": []
    },
    {
      "cell_type": "markdown",
      "source": [
        "Choose how to store and output fluence (on a 3D grid or on nodes):"
      ],
      "metadata": {
        "id": "32ksf2rUpVjh"
      }
    },
    {
      "cell_type": "code",
      "source": [
        "%%octave\n",
        "% store all output fluence as a 3D voxel grid\n",
        "cfg.method='grid'; %DMMC mode"
      ],
      "metadata": {
        "id": "eY2Qtw89pF78"
      },
      "execution_count": null,
      "outputs": []
    },
    {
      "cell_type": "markdown",
      "source": [
        "Choose how many photons to simulate:"
      ],
      "metadata": {
        "id": "Nf0lP0grpdKd"
      }
    },
    {
      "cell_type": "code",
      "source": [
        "\n",
        "%%octave\n",
        "cfg.nphoton=1e5; %takes ~240s on Intel i7-8700K(12 threads)"
      ],
      "metadata": {
        "id": "6NqJT6MOorlc"
      },
      "execution_count": null,
      "outputs": []
    },
    {
      "cell_type": "markdown",
      "source": [
        "Set up the source:"
      ],
      "metadata": {
        "id": "7qvm2bt4picV"
      }
    },
    {
      "cell_type": "code",
      "source": [
        "%%octave\n",
        "% light source\n",
        "cfg.srctype='pencil';\n",
        "cfg.srcdir=[-0.5086,-0.1822,-0.8415]; %inward-pointing source\n",
        "cfg.srcpos=[133.5370,90.1988,200.0700]; %pencil beam source placed at EEG 10-5 landmark:\"C4h\"\n",
        "    cfg.srcpos=cfg.srcpos+0.001*cfg.srcdir; %ensure source is inside the mesh\n"
      ],
      "metadata": {
        "id": "kqM8qbGjozW-"
      },
      "execution_count": null,
      "outputs": []
    },
    {
      "cell_type": "markdown",
      "source": [
        "Set up detectors:"
      ],
      "metadata": {
        "id": "nh_C-TdUpkyE"
      }
    },
    {
      "cell_type": "code",
      "source": [
        "%%octave\n",
        "cfg.detpos = [140, 90.5, 194, 1.5;\n",
        "              150, 90.5, 182, 1.5]; % detector position\n"
      ],
      "metadata": {
        "id": "-JPBwFM8o05Y"
      },
      "execution_count": null,
      "outputs": []
    },
    {
      "cell_type": "markdown",
      "source": [
        "Set up time windows:"
      ],
      "metadata": {
        "id": "v2euliE0qJ2b"
      }
    },
    {
      "cell_type": "code",
      "source": [
        "%%octave\n",
        "% time windows\n",
        "cfg.tstart=0;\n",
        "cfg.tend=5e-9;\n",
        "cfg.tstep=5e-10;"
      ],
      "metadata": {
        "id": "XE33Z9uvo3In"
      },
      "execution_count": null,
      "outputs": []
    },
    {
      "cell_type": "markdown",
      "source": [
        "###**Run Atlas-based Simulation**"
      ],
      "metadata": {
        "id": "xqJRszhCp6tk"
      }
    },
    {
      "cell_type": "code",
      "source": [
        "%%octave\n",
        "% allow calculations of reflection\n",
        "cfg.isreflect=1;\n",
        "% show a progress bar and timer\n",
        "cfg.debuglevel='TP';\n",
        "%% run mmc simulation\n",
        "[flux, detected_photons]=mmclab(cfg);"
      ],
      "metadata": {
        "id": "oVQaH6hwpRuN"
      },
      "execution_count": null,
      "outputs": []
    },
    {
      "cell_type": "markdown",
      "source": [
        "### **Plot fluence cross section**"
      ],
      "metadata": {
        "id": "exXdhv6yqBrL"
      }
    },
    {
      "cell_type": "code",
      "source": [
        "%%octave\n",
        "%% post-simulation data processing and visualization\n",
        "\n",
        "% convert flux output to fluence\n",
        "fluences = flux.data*cfg.tstep;\n",
        "%sum the fluence over all time gates\n",
        "fluences=sum(fluences,4);\n",
        "\n",
        "% coronal plane selected for fluence plot\n",
        "y_plane=90.5;\n",
        "\n",
        "% account for spatial offset between the coordinate origins of the output grid and the mesh\n",
        "starting_corner_of_domain=min(cfg.node); %starting location of the output grid\n",
        "DMMC_voxel_origin=starting_corner_of_domain+0.5; %centroid of the 1st cube of the output grid\n",
        "\n",
        "output_grid_dimensions=size(fluences);\n",
        "\n",
        "% get the plane in the y-direction closest to the coordinates we want a cross section of\n",
        "nearest_grid_plane = ceil(y_plane-starting_corner_of_domain(1,2));\n",
        "CWfluence_DMMC=fluences(:,nearest_grid_plane,:);\n",
        "% get rid of extra dimensions to the cross section matrix\n",
        "CWfluence_DMMC=squeeze(CWfluence_DMMC);\n",
        "\n",
        "% get meshgrid variables to describe coordinates of the cross section for plotting\n",
        "[xx,zz]=meshgrid(DMMC_voxel_origin(1,1):(DMMC_voxel_origin(1,1)+output_grid_dimensions(1,1)-1),DMMC_voxel_origin(1,3):(DMMC_voxel_origin(1,3)+output_grid_dimensions(1,3)-1));\n"
      ],
      "metadata": {
        "id": "Q2TX1uNoLvoT"
      },
      "execution_count": null,
      "outputs": []
    },
    {
      "cell_type": "markdown",
      "source": [
        "Plot the fluence cross section:"
      ],
      "metadata": {
        "id": "ZuEFKnLXlSfK"
      }
    },
    {
      "cell_type": "code",
      "source": [
        "%%octave\n",
        "\n",
        "% this secion takes the fluence values for a cross section and plots them as a contour plot\n",
        "clines=-20:0.5:0;\n",
        "contourf(xx,zz,log10(abs(CWfluence_DMMC')),clines,'linestyle','--','linewidth',1.5,'DisplayName','DMMC');\n",
        "hold on;axis equal;\n",
        "colorbar('EastOutside');\n",
        "\n",
        "%------------------------------------------------------------------------------\n",
        "                         This section just plots the tissue boundaries\n",
        "%------------------------------------------------------------------------------\n",
        "plane=[0 y_plane 0; 0 y_plane 1; 1 y_plane 0];\n",
        "label=unique(prop);\n",
        "face=[];\n",
        "for i=1:2:size(label,1)\n",
        "    newface=volface(cfg.elem(prop==label(i),1:4));\n",
        "    face=[face;newface];\n",
        "end\n",
        "[cutpos,cutvalue,cutedges]=qmeshcut(face(:,1:3),node,node(:,1),plane);\n",
        "[cutpos,cutedges]=removedupnodes(cutpos,cutedges);\n",
        "cutloop=extractloops(cutedges);\n",
        "[nanidx]=find(isnan(cutloop));\n",
        "\n",
        "for i=1:size(nanidx,2)\n",
        "    if(i==9)\n",
        "        continue;\n",
        "    end\n",
        "    if(i==1)\n",
        "        plot(cutpos(cutloop(1:(nanidx(i)-1)),1),cutpos(cutloop(1:(nanidx(i)-1)),3),'linestyle','--','color','k','LineWidth',1.25,'HandleVisibility','off');\n",
        "    elseif(i==2)\n",
        "        plot(cutpos(cutloop((nanidx(i-1)+1):(nanidx(i)-1)),1),cutpos(cutloop((nanidx(i-1)+1):(nanidx(i)-1)),3),'linestyle','--','color','k','LineWidth',1.25,'HandleVisibility','off');\n",
        "    else\n",
        "        plot(cutpos(cutloop((nanidx(i-1)+1):(nanidx(i)-1)),1),cutpos(cutloop((nanidx(i-1)+1):(nanidx(i)-1)),3),'linestyle','--','color','k','LineWidth',1.25,'HandleVisibility','off');\n",
        "    end\n",
        "end\n",
        "%------------------------------------------------------------------------------\n",
        "            This section plots the source and detector positions\n",
        "%------------------------------------------------------------------------------\n",
        "plot(cfg.srcpos(1,1),cfg.srcpos(1,3),'o','MarkerEdgeColor','r','MarkerFaceColor','r','MarkerSize',10,'DisplayName','source');\n",
        "plot(cfg.detpos(1,1),cfg.detpos(1,3),'o','MarkerEdgeColor','b','MarkerFaceColor','b','MarkerSize',10,'DisplayName','detector');\n",
        "plot(cfg.detpos(2,1),cfg.detpos(2,3),'o','MarkerEdgeColor','b','MarkerFaceColor','b','MarkerSize',10,'DisplayName','detector');\n",
        "set(gca,'ylim', [160 225]);ylabel('z [mm]');\n",
        "set(gca,'xlim', [80 165]);xlabel('x [mm]');"
      ],
      "metadata": {
        "id": "Pz5xCiP7lU6Z"
      },
      "execution_count": null,
      "outputs": []
    },
    {
      "cell_type": "markdown",
      "source": [
        "#<font color='orange'> **Simulation with a Pattern Source:**"
      ],
      "metadata": {
        "id": "DCXUkHhRmELb"
      }
    },
    {
      "cell_type": "markdown",
      "source": [
        "Produce slab mesh with property IDs"
      ],
      "metadata": {
        "id": "BfqjCF8etNd4"
      }
    },
    {
      "cell_type": "code",
      "source": [
        "%%octave\n",
        "\n",
        "clear cfg;\n",
        "clear all;\n",
        "\n",
        "%% 2-layer mesh model\n",
        "\n",
        "layercount= 2 # @param {type:\"slider\", min:2, max:3, step:1}\n",
        "\n",
        "if(layercount==2)\n",
        "    [node,face,c0]=latticegrid([0 60],[0 60],[0 25 30]);\n",
        "    c0(:,4)=[2;1];   % maximum element size for bottom (label 1) and top (label 2) layers\n",
        "\n",
        "    % simulate the optical properties of skull and gray-matter of a human brain model\n",
        "    % see http://mcx.sourceforge.net/cgi-bin/index.cgi?MMC/Colin27AtlasMesh\n",
        "    cfg.prop=[0 0 1 1;0.02 9.0, 0.89 1.37;0.019 7.8 0.89 1.37];\n",
        "else\n",
        "    [node,face,c0]=latticegrid([0 60],[0 60],[0 20 25 30]); % if you like a 3-layer model\n",
        "    c0(:,4)=[2;2;1];\n",
        "    cfg.prop=[0 0 1 1;0.02 9.0, 0.89 1.37;0.004 0.009, 0.89 1.37;0.019 7.8 0.89 1.37];\n",
        "end\n",
        "[cfg.node,cfg.elem]=surf2mesh(node,face,[],[],1,[],c0);\n",
        "\n",
        "cfg.elemprop=cfg.elem(:,5);\n",
        "cfg.elem=cfg.elem(:,1:4);\n",
        "\n",
        "% plot the domain to check it\n",
        "figure;\n",
        "plotmesh(cfg.node,cfg.elem);"
      ],
      "metadata": {
        "id": "F6c9uiAItK46",
        "colab": {
          "base_uri": "https://localhost:8080/",
          "height": 506
        },
        "outputId": "280942cb-37b0-4622-d9a0-79b6ae656a84"
      },
      "execution_count": 54,
      "outputs": [
        {
          "output_type": "display_data",
          "data": {
            "text/plain": [
              "layercount = 2"
            ]
          },
          "metadata": {}
        },
        {
          "output_type": "display_data",
          "data": {
            "text/plain": [
              "generating tetrahedral mesh from closed surfaces ..."
            ]
          },
          "metadata": {}
        },
        {
          "output_type": "display_data",
          "data": {
            "text/plain": [
              "creating volumetric mesh from a surface mesh ..."
            ]
          },
          "metadata": {}
        },
        {
          "output_type": "display_data",
          "data": {
            "text/plain": [
              "volume mesh generation is complete"
            ]
          },
          "metadata": {}
        },
        {
          "output_type": "display_data",
          "data": {
            "image/png": "[encoded data removed]",
            "text/plain": [
              "<IPython.core.display.Image object>"
            ]
          },
          "metadata": {}
        }
      ]
    },
    {
      "cell_type": "markdown",
      "source": [
        "Set up pattern source"
      ],
      "metadata": {
        "id": "IItnO_EDubv_"
      }
    },
    {
      "cell_type": "code",
      "source": [
        "\n",
        "\n",
        "%%octave\n",
        "\n",
        "%% add source and retessellate mesh\n",
        "\n",
        "cfg.srctype='fourier';      % define an SFDI source\n",
        "cfg.srcpos=[10 10 35];      % one corner of the illumination area\n",
        "% wave number in the x-dir\n",
        "wavenum_x = 0 # @param {type:\"slider\", min:0, max:5, step:1}\n",
        "% wave number in the y-dir\n",
        "wavenum_y = 3 # @param {type:\"slider\", min:0, max:5, step:1}\n",
        "\n",
        "\n",
        "% phase offset in the x-dir, must < 2pi\n",
        "xphase = pi/3 # @param [\"pi/3\", \"pi/2\", \"0\", \"pi\"] {type:\"raw\"}\n",
        "% phase offset in the x-dir, must < 2pi\n",
        "yphase = 0 # @param [\"pi/3\", \"pi/2\", \"0\", \"pi\"] {type:\"raw\"}\n",
        "\n",
        "cfg.srcparam1=[40 0 0 wavenum_x+xphase/(2*pi)];\n",
        "cfg.srcparam2=[0 40 0 wavenum_y+yphase/(2*pi)];\n",
        "cfg.srcdir=[0 0 -1];\n",
        "\n",
        "%% line 24-31 could possibly be deleted and replaced by built-in one-step command\n",
        "srcdef=struct('srctype',cfg.srctype,'srcpos',cfg.srcpos,'srcdir',cfg.srcdir,...\n",
        "    'srcparam1',cfg.srcparam1,'srcparam2',cfg.srcparam2);\n",
        "\n",
        "[cfg.node,cfg.elem] = mmcaddsrc(cfg.node,[cfg.elem cfg.elemprop],...\n",
        "    mmcsrcdomain(srcdef,[min(cfg.node);max(cfg.node)]));"
      ],
      "metadata": {
        "id": "jiT3Buv2uXtV",
        "colab": {
          "base_uri": "https://localhost:8080/",
          "height": 173
        },
        "outputId": "016132c2-b0dd-4d46-a231-3402870f494c"
      },
      "execution_count": 55,
      "outputs": [
        {
          "output_type": "display_data",
          "data": {
            "text/plain": [
              "wavenum_x = 0"
            ]
          },
          "metadata": {}
        },
        {
          "output_type": "display_data",
          "data": {
            "text/plain": [
              "wavenum_y = 3"
            ]
          },
          "metadata": {}
        },
        {
          "output_type": "display_data",
          "data": {
            "text/plain": [
              "xphase = 1.0472"
            ]
          },
          "metadata": {}
        },
        {
          "output_type": "display_data",
          "data": {
            "text/plain": [
              "yphase = 0"
            ]
          },
          "metadata": {}
        },
        {
          "output_type": "display_data",
          "data": {
            "text/plain": [
              "refining the input mesh ..."
            ]
          },
          "metadata": {}
        },
        {
          "output_type": "display_data",
          "data": {
            "text/plain": [
              "generating tetrahedral mesh from closed surfaces ..."
            ]
          },
          "metadata": {}
        },
        {
          "output_type": "display_data",
          "data": {
            "text/plain": [
              "creating volumetric mesh from a surface mesh ..."
            ]
          },
          "metadata": {}
        },
        {
          "output_type": "display_data",
          "data": {
            "text/plain": [
              "volume mesh generation is complete"
            ]
          },
          "metadata": {}
        },
        {
          "output_type": "display_data",
          "data": {
            "text/plain": [
              "mesh refinement is complete"
            ]
          },
          "metadata": {}
        }
      ]
    },
    {
      "cell_type": "markdown",
      "source": [
        "Set up other config settings and run simulation"
      ],
      "metadata": {
        "id": "-NbIfyVlukst"
      }
    },
    {
      "cell_type": "code",
      "source": [
        "%%octave\n",
        "\n",
        "%% other simulation information\n",
        "\n",
        "cfg.nphoton=3e3;\n",
        "cfg.seed=1648335518;\n",
        "\n",
        "cfg.tstart=0;\n",
        "cfg.tend=5e-9;\n",
        "cfg.tstep=1e-10;\n",
        "\n",
        "cfg.debuglevel='TP';\n",
        "cfg.isreflect=1;\n",
        "cfg.detpos=[30 30 0 2]; % detector position\n",
        "cfg.method='elem';\n",
        "\n",
        "%% mmc simulation\n",
        "\n",
        "layer=mmclab(cfg);\n",
        "layer=layer.data;\n",
        "layercw=sum(layer,2);"
      ],
      "metadata": {
        "id": "uuaxR7sBtuWw",
        "colab": {
          "base_uri": "https://localhost:8080/",
          "height": 1000
        },
        "outputId": "268f7f98-86f5-45de-de6b-8dee2410846f"
      },
      "execution_count": 65,
      "outputs": [
        {
          "output_type": "display_data",
          "data": {
            "text/plain": [
              "Launching MMCLAB - Mesh-based Monte Carlo for MATLAB & GNU Octave ..."
            ]
          },
          "metadata": {}
        },
        {
          "output_type": "display_data",
          "data": {
            "text/plain": [
              "Running simulations for configuration #1 ..."
            ]
          },
          "metadata": {}
        },
        {
          "output_type": "display_data",
          "data": {
            "text/plain": [
              "mmc.prop=2;"
            ]
          },
          "metadata": {}
        },
        {
          "output_type": "display_data",
          "data": {
            "text/plain": [
              "mmc.nn=21664;"
            ]
          },
          "metadata": {}
        },
        {
          "output_type": "display_data",
          "data": {
            "text/plain": [
              "mmc.elem=[130206,4];"
            ]
          },
          "metadata": {}
        },
        {
          "output_type": "display_data",
          "data": {
            "text/plain": [
              "mmc.ne=130206;"
            ]
          },
          "metadata": {}
        },
        {
          "output_type": "display_data",
          "data": {
            "text/plain": [
              "mmc.srctype='fourier';"
            ]
          },
          "metadata": {}
        },
        {
          "output_type": "display_data",
          "data": {
            "text/plain": [
              "mmc.srcpos=[10 10 35];"
            ]
          },
          "metadata": {}
        },
        {
          "output_type": "display_data",
          "data": {
            "text/plain": [
              "mmc.srcparam1=[40 0 0 0.166667];"
            ]
          },
          "metadata": {}
        },
        {
          "output_type": "display_data",
          "data": {
            "text/plain": [
              "mmc.srcparam2=[0 40 0 3];"
            ]
          },
          "metadata": {}
        },
        {
          "output_type": "display_data",
          "data": {
            "text/plain": [
              "mmc.srcdir=[0 0 -1 0];"
            ]
          },
          "metadata": {}
        },
        {
          "output_type": "display_data",
          "data": {
            "text/plain": [
              "mmc.nphoton=3000;"
            ]
          },
          "metadata": {}
        },
        {
          "output_type": "display_data",
          "data": {
            "text/plain": [
              "mmc.seed=1648335518;"
            ]
          },
          "metadata": {}
        },
        {
          "output_type": "display_data",
          "data": {
            "text/plain": [
              "mmc.tstart=0;"
            ]
          },
          "metadata": {}
        },
        {
          "output_type": "display_data",
          "data": {
            "text/plain": [
              "mmc.tend=5e-09;"
            ]
          },
          "metadata": {}
        },
        {
          "output_type": "display_data",
          "data": {
            "text/plain": [
              "mmc.tstep=1e-10;"
            ]
          },
          "metadata": {}
        },
        {
          "output_type": "display_data",
          "data": {
            "text/plain": [
              "mmc.debuglevel='TP';"
            ]
          },
          "metadata": {}
        },
        {
          "output_type": "display_data",
          "data": {
            "text/plain": [
              "mmc.isreflect=1;"
            ]
          },
          "metadata": {}
        },
        {
          "output_type": "display_data",
          "data": {
            "text/plain": [
              "mmc.detnum=1;"
            ]
          },
          "metadata": {}
        },
        {
          "output_type": "display_data",
          "data": {
            "text/plain": [
              "mmc.method='elem';"
            ]
          },
          "metadata": {}
        },
        {
          "output_type": "display_data",
          "data": {
            "text/plain": [
              "mmc.facenb=[130206,4];"
            ]
          },
          "metadata": {}
        },
        {
          "output_type": "display_data",
          "data": {
            "text/plain": [
              "mmc.evol=130206;"
            ]
          },
          "metadata": {}
        },
        {
          "output_type": "display_data",
          "data": {
            "text/plain": [
              "mmc.e0=127569;"
            ]
          },
          "metadata": {}
        },
        {
          "output_type": "display_data",
          "data": {
            "text/plain": [
              "\tdone\t60"
            ]
          },
          "metadata": {}
        },
        {
          "output_type": "display_data",
          "data": {
            "text/plain": [
              "simulating ..."
            ]
          },
          "metadata": {}
        },
        {
          "output_type": "display_data",
          "data": {
            "text/plain": [
              "###############################################################################"
            ]
          },
          "metadata": {}
        },
        {
          "output_type": "display_data",
          "data": {
            "text/plain": [
              "#                     Mesh-based Monte Carlo (MMC) - OpenCL                   #"
            ]
          },
          "metadata": {}
        },
        {
          "output_type": "display_data",
          "data": {
            "text/plain": [
              "#          Copyright (c) 2010-2024 Qianqian Fang <q.fang at neu.edu>          #"
            ]
          },
          "metadata": {}
        },
        {
          "output_type": "display_data",
          "data": {
            "text/plain": [
              "#              https://mcx.space/#mmc  &  https://neurojson.io/               #"
            ]
          },
          "metadata": {}
        },
        {
          "output_type": "display_data",
          "data": {
            "text/plain": [
              "#                                                                             #"
            ]
          },
          "metadata": {}
        },
        {
          "output_type": "display_data",
          "data": {
            "text/plain": [
              "#Computational Optics & Translational Imaging (COTI) Lab  [http://fanglab.org]#"
            ]
          },
          "metadata": {}
        },
        {
          "output_type": "display_data",
          "data": {
            "text/plain": [
              "#   Department of Bioengineering, Northeastern University, Boston, MA, USA    #"
            ]
          },
          "metadata": {}
        },
        {
          "output_type": "display_data",
          "data": {
            "text/plain": [
              "###############################################################################"
            ]
          },
          "metadata": {}
        },
        {
          "output_type": "display_data",
          "data": {
            "text/plain": [
              "#    The MCX Project is funded by the NIH/NIGMS under grant R01-GM114365      #"
            ]
          },
          "metadata": {}
        },
        {
          "output_type": "display_data",
          "data": {
            "text/plain": [
              "###############################################################################"
            ]
          },
          "metadata": {}
        },
        {
          "output_type": "display_data",
          "data": {
            "text/plain": [
              "#  Open-source codes and reusable scientific data are essential for research, #"
            ]
          },
          "metadata": {}
        },
        {
          "output_type": "display_data",
          "data": {
            "text/plain": [
              "# MCX proudly developed human-readable JSON-based data formats for easy reuse.#"
            ]
          },
          "metadata": {}
        },
        {
          "output_type": "display_data",
          "data": {
            "text/plain": [
              "#                                                                             #"
            ]
          },
          "metadata": {}
        },
        {
          "output_type": "display_data",
          "data": {
            "text/plain": [
              "#Please visit our free scientific data sharing portal at https://neurojson.io/#"
            ]
          },
          "metadata": {}
        },
        {
          "output_type": "display_data",
          "data": {
            "text/plain": [
              "# and consider sharing your public datasets in standardized JSON/JData format #"
            ]
          },
          "metadata": {}
        },
        {
          "output_type": "display_data",
          "data": {
            "text/plain": [
              "###############################################################################"
            ]
          },
          "metadata": {}
        },
        {
          "output_type": "display_data",
          "data": {
            "text/plain": [
              "$Rev::efc749$v2024.2 $Date::2024-06-09 15:58:33 -04$ by $Author::Qianqian Fang$"
            ]
          },
          "metadata": {}
        },
        {
          "output_type": "display_data",
          "data": {
            "text/plain": [
              "###############################################################################"
            ]
          },
          "metadata": {}
        },
        {
          "output_type": "display_data",
          "data": {
            "text/plain": [
              "- code name: [MMC-OpenCL] compiled with OpenCL version [1]"
            ]
          },
          "metadata": {}
        },
        {
          "output_type": "display_data",
          "data": {
            "text/plain": [
              "- compiled with: [RNG] xorshift128+ RNG [Seed Length] 4"
            ]
          },
          "metadata": {}
        },
        {
          "output_type": "display_data",
          "data": {
            "text/plain": [
              "initializing streams ...\tinit complete : 0 ms"
            ]
          },
          "metadata": {}
        },
        {
          "output_type": "display_data",
          "data": {
            "text/plain": [
              "Building kernel with option: -cl-mad-enable -DMCX_USE_NATIVE -DMCX_SIMPLIFY_BRANCH -DMCX_VECTOR_INDEX -DMCX_SRC_FOURIER   -DUSE_ATOMIC -DMCX_DO_REFLECTION -DUSE_BLBADOUEL -DUSE_NVIDIA_GPU"
            ]
          },
          "metadata": {}
        },
        {
          "output_type": "display_data",
          "data": {
            "text/plain": [
              "build program complete : 10 ms"
            ]
          },
          "metadata": {}
        },
        {
          "output_type": "display_data",
          "data": {
            "text/plain": [
              "- [device 0(1): Tesla T4] threadph=0 oddphotons=3000 np=3000.0 nthread=163840 nblock=64 repetition=1"
            ]
          },
          "metadata": {}
        },
        {
          "output_type": "display_data",
          "data": {
            "text/plain": [
              "set kernel arguments complete : 11 ms 3"
            ]
          },
          "metadata": {}
        },
        {
          "output_type": "display_data",
          "data": {
            "text/plain": [
              "lauching mcx_main_loop for time window [0.0ns 5.0ns] ..."
            ]
          },
          "metadata": {}
        },
        {
          "output_type": "display_data",
          "data": {
            "text/plain": [
              "simulation run# 1 ..."
            ]
          },
          "metadata": {}
        },
        {
          "output_type": "display_data",
          "data": {
            "text/plain": [
              "Progress: [>                                                             ]   0%\b\b\b\b\b\b\b\b\b\b\b\b\b\b\b\b\b\b\b\b\b\b\b\b\b\b\b\b\b\b\b\b\b\b\b\b\b\b\b\b\b\b\b\b\b\b\b\b\b\b\b\b\b\b\b\b\b\b\b\b\b\b\b\b\b\b\b\b\b\b\b\b\b\b\b\b\b\b\bProgress: [=================================>                            ]  55%\b\b\b\b\b\b\b\b\b\b\b\b\b\b\b\b\b\b\b\b\b\b\b\b\b\b\b\b\b\b\b\b\b\b\b\b\b\b\b\b\b\b\b\b\b\b\b\b\b\b\b\b\b\b\b\b\b\b\b\b\b\b\b\b\b\b\b\b\b\b\b\b\b\b\b\b\b\b\bProgress: [==============================================================] 100%"
            ]
          },
          "metadata": {}
        },
        {
          "output_type": "display_data",
          "data": {
            "text/plain": [
              "kernel complete:  \t276 ms"
            ]
          },
          "metadata": {}
        },
        {
          "output_type": "display_data",
          "data": {
            "text/plain": [
              "retrieving flux ... \ttransfer complete:        317 ms"
            ]
          },
          "metadata": {}
        },
        {
          "output_type": "display_data",
          "data": {
            "text/plain": [
              "normalizing raw data ...\tsimulated 3000 photons (3000) with 1 devices (ray-tet 3102067)"
            ]
          },
          "metadata": {}
        },
        {
          "output_type": "display_data",
          "data": {
            "text/plain": [
              "MCX simulation speed: 11.36 photon/ms"
            ]
          },
          "metadata": {}
        },
        {
          "output_type": "display_data",
          "data": {
            "text/plain": [
              "total simulated energy: 1493.48\tabsorbed: 47.00858%"
            ]
          },
          "metadata": {}
        },
        {
          "output_type": "display_data",
          "data": {
            "text/plain": [
              "(loss due to initial specular reflection is excluded in the total)"
            ]
          },
          "metadata": {}
        },
        {
          "output_type": "display_data",
          "data": {
            "text/plain": [
              "\tdone\t773"
            ]
          },
          "metadata": {}
        }
      ]
    },
    {
      "cell_type": "markdown",
      "source": [
        "Plot widefield results"
      ],
      "metadata": {
        "id": "fm8iN7brtysq"
      }
    },
    {
      "cell_type": "code",
      "source": [
        "%%octave\n",
        "\n",
        "% plot simulated photon profiles\n",
        "\n",
        "hold on;\n",
        "\n",
        "% vector of x-coorinates for the cross section\n",
        "% note that our slab is 60mm wide and we are plotting 1mm wide pixels\n",
        "cubesize = 1;\n",
        "\n",
        "x_vals = linspace(0+cubesize/2, 60-cubesize/2, 60);\n",
        "\n",
        "% vector of y-coordinates for the cross section\n",
        "% same as x-coordinates but the height of the slab is 60mm\n",
        "y_vals = linspace(0+cubesize/2, 60-cubesize/2, 60);\n",
        "\n",
        "% make a grid of coordinates for all fluence values in the cross section\n",
        "[xx, yy]=meshgrid(x_vals,y_vals);\n",
        "\n",
        "% distance along the z-axis for the plane containing\n",
        "% source and detectors\n",
        "cross_section_zdist = 30 # @param {type:\"slider\", min:0, max:30, step:0.5}\n",
        "\n",
        "% define a plane using cross section srcplane:\n",
        "cutting_plane = [1 0 cross_section_zdist;0 1 cross_section_zdist;0 0 cross_section_zdist];\n",
        "\n",
        "% qmeshcut gets the intersections of all mesh edges and a plane\n",
        "% as a set of coordinate points and a set of interpolated values\n",
        "[cutpos,cutvalue,~]=qmeshcut(cfg.elem(:,1:4),cfg.node,layercw, cutting_plane);\n",
        "\n",
        "plottable_fluence_data=griddata(cutpos(:,1),cutpos(:,2),(cutvalue),xx,yy);\n",
        "\n",
        "imagesc(plottable_fluence_data)\n",
        "box on;\n",
        "axis equal\n",
        "%view(-56, 22);"
      ],
      "metadata": {
        "id": "MaWtMZUaonJd",
        "colab": {
          "base_uri": "https://localhost:8080/",
          "height": 454
        },
        "outputId": "9009929b-0cfe-4d52-c42a-66de25cf4551"
      },
      "execution_count": 67,
      "outputs": [
        {
          "output_type": "display_data",
          "data": {
            "text/plain": [
              "cross_section_zdist = 30"
            ]
          },
          "metadata": {}
        },
        {
          "output_type": "display_data",
          "data": {
            "image/png": "[encoded data removed]",
            "text/plain": [
              "<IPython.core.display.Image object>"
            ]
          },
          "metadata": {}
        }
      ]
    }
  ],
  "metadata": {
    "colab": {
      "provenance": [],
      "collapsed_sections": [
        "4BDNjVvZM7qK",
        "FAVp0Qp8Dd1X",
        "Rk-mthG1wNyO",
        "hQpSakylDoM0",
        "n9Q0YIwrQuqp",
        "-r8W9zP6pumo"
      ],
      "gpuType": "T4",
      "toc_visible": true,
      "include_colab_link": true
    },
    "kernelspec": {
      "display_name": "Python 3",
      "name": "python3"
    },
    "language_info": {
      "name": "python"
    },
    "accelerator": "GPU"
  },
  "nbformat": 4,
  "nbformat_minor": 0
}