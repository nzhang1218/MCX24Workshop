{
  "nbformat": 4,
  "nbformat_minor": 0,
  "metadata": {
    "colab": {
      "provenance": [],
      "gpuType": "T4",
      "include_colab_link": true
    },
    "kernelspec": {
      "name": "python3",
      "display_name": "Python 3"
    },
    "language_info": {
      "name": "python"
    },
    "accelerator": "GPU"
  },
  "cells": [
    {
      "cell_type": "markdown",
      "metadata": {
        "id": "view-in-github",
        "colab_type": "text"
      },
      "source": [
        "<a href=\"https://colab.research.google.com/github/COTILab/MCX24Workshop/blob/master/Training/MCX2024_1E_pmcx_training.ipynb\" target=\"_parent\"><img src=\"https://colab.research.google.com/assets/colab-badge.svg\" alt=\"Open In Colab\"/></a>"
      ]
    },
    {
      "cell_type": "markdown",
      "source": [
        "![Workshop Logo](https://mcx.space/wiki/upload/mcx24_logo.png)\n",
        "# MCX Training Workshop 2024 - Day 1, Session 1E\n",
        "\n",
        "\n",
        "## Session 1E: PMCX Training"
      ],
      "metadata": {
        "id": "uSoLXh4VE3ED"
      }
    },
    {
      "cell_type": "markdown",
      "source": [
        "> **Training Goals**: <font color='green'>In this unit, we show you how to use MCX's Python binding, `pmcx`, to create simulations in the Python environments.Particularly, we show visualization of time-resolved data, partial pathlength calculations and photon replay.</font>"
      ],
      "metadata": {
        "id": "AW7eaH9l-rta"
      }
    },
    {
      "cell_type": "markdown",
      "source": [
        "# <font color='orange'>Step 0: Setting up environments within Google Colab</font>\n",
        "\n",
        "> **You must rerun all cells in Step 0 in appearance order when you start a new session, or after reconnect to a runtime**\n",
        "\n",
        "<font color='green'>If you run this on Google Colab, please go to menu **Edit\\Notebook Settings\\Hardware accelerator**, and verify if it has already selected \"GPU\"; if not, please select the T4 GPU.</font>\n",
        "\n",
        "**Please note**: MCX/MCXLAB is GPU-accelerated. This notebook by default requests an NVIDIA GPU. Howevever, when you click on the run-button for the below section, your browser may fail to allocate a GPU runtime and ask you if you want to continue with a non-GPU runtime. If you choose to proceed without GPU support, you will have to run the [section immediately following the next section](#mcx_setup_opencl) to install OpenCL-based MCXLAB (called mcxlabcl) and utilize the CPU to run the rest of the tutorials. The OpenCL version of MCXLAB will work for all examples, but will be substentially slower to run (this tutorial also reduces the photon numbers accordingly to lower the runtime)."
      ],
      "metadata": {
        "id": "nFC-vAnD6HuW"
      }
    },
    {
      "cell_type": "markdown",
      "source": [
        "### <font color=\"orange\"> Init 1: Python packages installation</font>"
      ],
      "metadata": {
        "id": "vGvWoF5K0VV8"
      }
    },
    {
      "cell_type": "code",
      "source": [
        "!pip install pmcx jdata\n",
        "!git clone https://github.com/fanyuyen/MCXWorkshop2024pyPlot.git"
      ],
      "metadata": {
        "id": "K5uoJ6St438c"
      },
      "execution_count": null,
      "outputs": []
    },
    {
      "cell_type": "markdown",
      "source": [
        "### <font color = \"orange\"> Init 2: Import Python packages"
      ],
      "metadata": {
        "id": "nf6yP-CX7E7S"
      }
    },
    {
      "cell_type": "code",
      "source": [
        "import pmcx            ## load pmcx module, the actual binary module is `_pmcx`, which exports two core functions - gpuinfo() and run()\n",
        "import numpy as np\n",
        "import jdata as jd\n",
        "from matplotlib import pyplot as plt\n",
        "from MCXWorkshop2024pyPlot import plot_3d_slices\n",
        "import copy\n",
        "\n",
        "pmcx.__version__   # print imported pmcx version number\n",
        "#dir(pmcx)         # listing all functions in pmcx module"
      ],
      "metadata": {
        "id": "DuBvrUtRzglW"
      },
      "execution_count": null,
      "outputs": []
    },
    {
      "cell_type": "code",
      "source": [
        "# show GPU information\n",
        "pmcx.gpuinfo()"
      ],
      "metadata": {
        "id": "gPoQUihGzhid"
      },
      "execution_count": null,
      "outputs": []
    },
    {
      "cell_type": "markdown",
      "source": [
        "# Introduction to Python and `pmcx`\n",
        "`pmcx` is a Python bindings for Monte Carlo eXtreme photon transport simulator.\n",
        "\n",
        "* Pros of using Python:\n",
        "  * It is free, unlike MATLAB\n",
        "  * It offers similar data structures; for instance, MATLAB's arrays can be compared to numpy arrays in Python, and MATLAB's structs are similar to dictionaries in Python.\n",
        "  * New neuroscience analysis tools are being developed in Python, such as [MNE-Python](https://https://mne.tools/stable/index.html)\n",
        "  * Machine learning tools are mostly in Python (e.g. [Pytorch](https://pytorch.org/), [Tensorflow](https://www.tensorflow.org/)). Check out one of our previous paper about using deep learning on Monte Carlo simulations [here](https://doi.org/10.1117/1.jbo.27.8.083019).\n",
        "\n",
        "* Cons of using Python (difference between Python and MATLAB):\n",
        "  * MATLAB uses column-major (F-order) order for arrays, while Python uses row-major (C-order) order - `pmcx` automatically converts C-order arrays to F-order arrays which is the array order used internally in MCX.\n",
        "  * MATLAB array index starts from 1, whereas Python/numpy array index starts from 0.\n",
        "  * In MCXLAB, the number of requested output parameters automatically decides whether to save detected photon, or seeds or trajectories; unfortunately Python does not expose output variable number to a function; therefore, to enable/disable certain outputs, one must sets the appropriate cfg flags (such as `cfg['issavedet']` or `cfg['issaveseed']`.\n",
        "\n",
        "`pmcx` allows users to run mcx simulation in Python environment, seamlessly connecting with the data analysis tools provided in Python. `pmcx` also handles both column-major input and row-major input.\n",
        "\n",
        "There are two main ways to run `pmcx`:\n",
        "1. using cfg as a dictionary variable:\n",
        "```python\n",
        "import pmcx\n",
        "cfg = {\n",
        "       'nphoton': 1000000,\n",
        "       'vol':np.ones([60,60,60],dtype='uint8'),\n",
        "       'tstart':0,\n",
        "       'tend':5e-9,\n",
        "       'tstep':5e-9,\n",
        "       'srcpos': [30,30,0],\n",
        "       'srcdir':[0,0,1],\n",
        "       'prop':[[0,0,1,1],[0.005,0.1,0.01,1.37]]\n",
        "       }\n",
        "res = pmcx.mcxlab(cfg)\n",
        "```\n",
        "2. Positional parameters:\n",
        "```python\n",
        "import pmcx\n",
        "res = pmcx.run(nphoton=1000000, vol=np.ones([60, 60, 60], dtype='uint8'),\n",
        "               tstart=0, tend=5e-9, tstep=5e-9, srcpos=[30,30,0], srcdir=[0,0,1],\n",
        "               prop=np.array([[0, 0, 1, 1], [0.005, 1, 0.01, 1.37]]))\n",
        "```\n",
        "\n",
        "\n",
        "In this section, we will cover:\n",
        "* Time-resolved photon transport simulation\n",
        "* Partial pathlength calculation\n",
        "* Using replay to generate Jacobian matrix\n",
        "* Data transfer between Octave/MATLAB and Python"
      ],
      "metadata": {
        "id": "l7TX7OUNNJ48"
      }
    },
    {
      "cell_type": "markdown",
      "source": [
        "------"
      ],
      "metadata": {
        "id": "_vMh3-PEN-j5"
      }
    },
    {
      "cell_type": "markdown",
      "source": [
        "# Exec 1 - Time-resolved photon transport simulation example"
      ],
      "metadata": {
        "id": "FyYxOdiU2n56"
      }
    },
    {
      "cell_type": "markdown",
      "source": [
        "In this exercise, we will use `pmcx` to demonstrate an example of time-resolved photon transport simulation. This exercise shows how light propagates through a medium and how it interacts with the medium over time.\n",
        "\n",
        "\n",
        "In this example, you will learn:\n",
        "* <b>Effects of different time gates: </b> </br>\n",
        "  Understand how varying the time gates affects the analysis of photon propagation through the medium\n",
        "* <b>Visualization of light propagation: </b> </br>\n",
        "  Visualized how light propagates through a homogenous medium over time\n",
        "* <b>Temporal point spread function (TPSF) curve: </b> </br>\n",
        "  Plot the temporal point spread function (TPSF) curve at an assigned point in the medium to demonstrate the temporal resolution of the system. This curve shows the distribution of photon arrival times."
      ],
      "metadata": {
        "id": "GWDv1bKr77QF"
      }
    },
    {
      "cell_type": "code",
      "source": [
        "# Photon numbers\n",
        "nphoton = 1e7\n",
        "# Simulation domain volumne\n",
        "vol = [60,60,60]\n",
        "# starting time, time-gate width, and ending time of the simulation\n",
        "tstart = 0\n",
        "tend = 5e-9\n",
        "# @markdown Number of time gates\n",
        "ngate = 50 # @param [10, 20, 50, 100] {type:\"raw\"}\n",
        "tstep =  tend/ngate\n",
        "# Source position\n",
        "srcpos = [30,30,0]\n",
        "# Source direction\n",
        "srcdir = [0,0,1]\n",
        "# Optical properties [$\\mu_a$, $\\mu_s$, g, n]\n",
        "prop = [[0,0,1,1],[0.005,0.5,0.01,1.37]]\n",
        "\n",
        "cfg = {\n",
        "       'nphoton': nphoton,\n",
        "       'vol':np.ones(vol,dtype='uint8'),\n",
        "       'tstart':tstart,\n",
        "       'tend':tend,\n",
        "       'tstep':tstep,\n",
        "       'srcpos': srcpos,\n",
        "       'srcdir': srcdir,\n",
        "       'prop':prop\n",
        "       }"
      ],
      "metadata": {
        "id": "tPt5JhaAWHc-"
      },
      "execution_count": null,
      "outputs": []
    },
    {
      "cell_type": "code",
      "source": [
        "# Run simulation\n",
        "res = pmcx.mcxlab(cfg)"
      ],
      "metadata": {
        "id": "93bR61cs1Y6I"
      },
      "execution_count": null,
      "outputs": []
    },
    {
      "cell_type": "code",
      "source": [
        "# @title Plot simulation result\n",
        "fig, axs = plt.subplots(1, 3, figsize=(15, 5))\n",
        "\n",
        "axs[0].imshow(np.log10(np.sum(res['flux'], axis=3)[29,:, :]))\n",
        "axs[0].set_title('Sum across all time steps')\n",
        "\n",
        "axs[1].imshow(np.log10(res['flux'][29,:, :, 0]))\n",
        "axs[1].set_title('First time step')\n",
        "\n",
        "axs[2].imshow(np.log10(res['flux'][29,:, :, 1]))\n",
        "axs[2].set_title('Second time step')\n",
        "\n",
        "plt.tight_layout()\n",
        "plt.show()"
      ],
      "metadata": {
        "id": "h-v3DbjrHO7B"
      },
      "execution_count": null,
      "outputs": []
    },
    {
      "cell_type": "code",
      "source": [
        "# @title Animate the simulation result\n",
        "from matplotlib.animation import FuncAnimation, PillowWriter\n",
        "from IPython.display import HTML\n",
        "\n",
        "data = res['flux'][29, :, :, :]\n",
        "\n",
        "# Calculate the overall min and max values for the color range\n",
        "with np.errstate(divide=\"ignore\"):\n",
        "    log_data = np.log10(data)\n",
        "vmin = np.min(log_data[np.isfinite(log_data)])\n",
        "vmax = np.max(log_data[np.isfinite(log_data)])\n",
        "\n",
        "# Set up the figure and axis\n",
        "fig, ax = plt.subplots()\n",
        "cax = ax.matshow(log_data[:, :, 0], cmap='viridis', vmin=vmin, vmax=vmax)\n",
        "fig.colorbar(cax)\n",
        "\n",
        "def update(frame):\n",
        "    ax.clear()\n",
        "    cax = ax.matshow(log_data[:, :, frame], cmap='viridis', vmin=vmin, vmax=vmax)\n",
        "    ax.set_title(f'Time Step {frame}')\n",
        "    return cax,\n",
        "\n",
        "anim = FuncAnimation(fig, update, frames=range(log_data.shape[2]), blit=False)\n",
        "\n",
        "# Display the animation in the notebook\n",
        "HTML(anim.to_jshtml())"
      ],
      "metadata": {
        "id": "V-600IXc9GPv"
      },
      "execution_count": null,
      "outputs": []
    },
    {
      "cell_type": "code",
      "source": [
        "# @title Plot result in 3d\n",
        "# @markdown Choose a timestep to visualize in 3D\n",
        "time_step = 2 # @param\n",
        "\n",
        "plot_3d_slices(np.log10(res['flux'][:, :, :, time_step - 1]))"
      ],
      "metadata": {
        "id": "P_iBEF6q4ivj"
      },
      "execution_count": null,
      "outputs": []
    },
    {
      "cell_type": "markdown",
      "source": [
        "## Plot temporal point spread function (TPSF)\n",
        "\n"
      ],
      "metadata": {
        "id": "_PM_sd1TJCvj"
      }
    },
    {
      "cell_type": "code",
      "source": [
        "#@markdown Plot the TPSF of a point at following location (range 0~59):\n",
        "x = 30 # @param {type:\"integer\"}\n",
        "y = 30 # @param {type:\"integer\"}\n",
        "z = 30 # @param {type:\"integer\"}\n",
        "plt.plot(res['flux'][x,y,z,:], '-o')\n",
        "plt.title(f\"TPSF at [{x},{y},{z}]\")\n",
        "plt.show()"
      ],
      "metadata": {
        "id": "iPg8cZDBILwP"
      },
      "execution_count": null,
      "outputs": []
    },
    {
      "cell_type": "markdown",
      "source": [
        "# Exec 2 - Partial pathlength calculation"
      ],
      "metadata": {
        "id": "Udp1_ffSIwci"
      }
    },
    {
      "cell_type": "markdown",
      "source": [
        "This example will demonstrate how to calculate partial pathlength in a heterogenous medium with multiple optical properties. Calculating the partial pathlength in each medium allows us to determine the distance that photons travel within specific regions before they are detected. This help us understand how photons interact with different sections of the medium.\n",
        "\n",
        "\n",
        "In this section, we will cover:\n",
        "* <b>Use `pmcx` to do multi-medium photon simulation </b>\n",
        "* <b>Calculate mean partial pathlength in each media: </b></br>\n",
        "  Understand how to compute the average distance photons travel within each region of the heterogenous medium.\n",
        "* <b>Plot the histogram of the partial pathlengths: </b></br>\n",
        "  Visualize the distribution of partial path lengths for each medium to analyze the variability of photon interactions in different regions"
      ],
      "metadata": {
        "id": "OjoWygnoDFBv"
      }
    },
    {
      "cell_type": "code",
      "source": [
        "nphoton = 1e7\n",
        "vol = [60,60,60]\n",
        "tstart = 0\n",
        "tend = 5e-9\n",
        "tstep = 5e-9\n",
        "srcpos = [30,30,0]\n",
        "srcdir = [0,0,1]\n",
        "prop = [[0,0,1,1], [0.005, 1, 0, 1.37], [0.2, 10, 0.9, 1.37], [0.08, 40, 0.9, 1.37]]\n",
        "detpos = [[30, 20, 1, 1], [30, 40, 1, 1], [20, 30, 1, 1], [40, 30, 1, 1]]\n",
        "\n",
        "# @markdown Add inclusion - medium 2 (box inclusion)\n",
        "box_center_x = 30 # @param {type:\"integer\"}\n",
        "box_center_y = 30 # @param {type:\"integer\"}\n",
        "box_center_z = 20 # @param {type:\"integer\"}\n",
        "box_length_x = 20 # @param {type:\"integer\"}\n",
        "box_length_y = 20 # @param {type:\"integer\"}\n",
        "box_length_z = 20 # @param {type:\"integer\"}\n",
        "\n",
        "# @markdown Add inclusion - medium 3 (layer)\n",
        "layer_axis = 'z' # @param ['x', 'y', 'z']\n",
        "layer_start = 5 # @param {type:\"integer\"}\n",
        "layer_end = 7 # @param {type:\"integer\"}\n",
        "\n",
        "\n",
        "cfg = {\n",
        "       'nphoton': nphoton,\n",
        "       'vol':np.ones(vol,dtype='uint8'),\n",
        "       'tstart':tstart,\n",
        "       'tend':tend,\n",
        "       'tstep':tend,\n",
        "       'srcpos': srcpos,\n",
        "       'srcdir': srcdir,\n",
        "       'prop':prop,\n",
        "       'detpos': detpos\n",
        "       }\n",
        "if layer_axis == 'x':\n",
        "    cfg['vol'][layer_start: layer_end, :, :] = 3\n",
        "if layer_axis == 'y':\n",
        "    cfg['vol'][:, layer_start: layer_end, :] = 3\n",
        "if layer_axis == 'z':\n",
        "    cfg['vol'][:, :, layer_start: layer_end] = 3\n",
        "cfg['vol'][box_center_x-int(box_length_x/2):box_center_x+int(box_length_x/2), box_center_y-int(box_length_y/2):box_center_y+int(box_length_y/2), box_center_z-int(box_length_z/2):box_center_z+int(box_length_z/2)] = 2"
      ],
      "metadata": {
        "id": "6CoGSgxQZ3Kj"
      },
      "execution_count": null,
      "outputs": []
    },
    {
      "cell_type": "code",
      "source": [
        "# Run simulation\n",
        "res = pmcx.mcxlab(cfg)"
      ],
      "metadata": {
        "id": "_Wp0CTjZaYzl"
      },
      "execution_count": null,
      "outputs": []
    },
    {
      "cell_type": "code",
      "source": [
        "plot_3d_slices(np.log10(res['flux']))"
      ],
      "metadata": {
        "id": "A9PlrBNz7Wfd"
      },
      "execution_count": null,
      "outputs": []
    },
    {
      "cell_type": "markdown",
      "source": [
        "## Calculate mean partial pathlength in each medium\n",
        "\n",
        "The mean partial path length (MPPL) for the $j$-th region is calculated using the following formula:\n",
        "\n",
        "$\\text{MPPL}_j = \\frac{\\sum_{i=1}^{N} w_i \\cdot L_{i,j}}{\\sum_{i=1}^{N} w_i}$\n",
        "\n",
        "where:\n",
        "* $N$ is the total number of photon detected\n",
        "* $w_i$ is the weight associated with the $i$-th photon (can obtain from `pmcx.detweight` function)\n",
        "* $L_{i,j}$ is the patial path length of the $i$-th photon within the $j$-th region (`res['detp']['ppath']`)"
      ],
      "metadata": {
        "id": "la5Td-wDIfau"
      }
    },
    {
      "cell_type": "code",
      "source": [
        "mppl = np.sum(res['detp']['ppath'] * pmcx.detweight(res['detp'])[:, None], axis=0) / np.sum(pmcx.detweight(res['detp']))\n",
        "print(\"Mean partial pathlength in medium 1 (larger cube):, \", mppl[0])\n",
        "print(\"Mean partial pathlength in medium 2 (box inclusion):, \", mppl[1])\n",
        "print(\"Mean partial pathlength in medium 3 (layer):, \", mppl[2])"
      ],
      "metadata": {
        "id": "8ryB3Wai7XMk"
      },
      "execution_count": null,
      "outputs": []
    },
    {
      "cell_type": "markdown",
      "source": [
        "## Plot partial pathlength"
      ],
      "metadata": {
        "id": "sxBFzcVhmaVI"
      }
    },
    {
      "cell_type": "code",
      "source": [
        "n_photons = res['detp']['ppath'].shape[0]\n",
        "\n",
        "plt.hist(res['detp']['ppath'][:,0], bins=100, alpha=0.5, color = 'blue', label='Medium1 (larger cube)')\n",
        "plt.hist(res['detp']['ppath'][:,1], bins=100, alpha=0.5, color = 'green', label='Medium2 (box inclusion)')\n",
        "plt.hist(res['detp']['ppath'][:,2], bins=100, alpha=0.5, color = 'red', label='Medium3 (layer)')\n",
        "plt.xlabel(\"partial pathlength\")\n",
        "plt.title(f\"detected {n_photons} photons\")\n",
        "plt.legend()\n",
        "plt.show()"
      ],
      "metadata": {
        "id": "tQTPTCGz7cz1"
      },
      "execution_count": null,
      "outputs": []
    },
    {
      "cell_type": "markdown",
      "source": [
        "# Exec 3 - Replay in photon simulation\n",
        "In this example, we will show the replay in photon simulations. Replay involves storing photon paths and previously recorded seeds. By saving the seeds, replay can create Jacobians matrix for absorption and scattering coefficients, which is crucial for applications like diffuse optical tomography (DOT).\n",
        "\n",
        "![Photon replay](https://opg.optica.org/getimagev2.cfm?img=gn%2B3%2Fk27EUBH1o4wZKu2dSIRvRy2Zv%2FXywcVAYmGSyU%3D&size=full&uri=boe-9-10-4588-g001)\n",
        "\n",
        "We will cover the following topics:\n",
        "* <b>Use replay to generate the Jaobian matrix: </b></br>\n",
        "  Learn how to use replay in photon simulation to generate a Jacobian matrix.\n",
        "\n",
        "* <b>Data exchange between Octave/MATLAB and Python: </b></br>\n",
        "  Understand the process of exchanging data files between Octave/MATLAB and Python. This allows users to perform simulation in the Octave/MATLAB environment and then visualize or analyze the results in the Python environment, using Python's libraries for machine learning and data analysis.\n",
        "\n",
        "\n",
        "\n",
        "Reference: [Replay paper](https://doi.org/10.1364/BOE.9.004588)"
      ],
      "metadata": {
        "id": "WUGtPzhLKTbG"
      }
    },
    {
      "cell_type": "code",
      "source": [
        "# @title Setting up octave environment for running mcxlab\n",
        "!apt-get install octave      # install octave to Linux host\n",
        "!pip install oct2py          # install oct2py Python module\n",
        "\n",
        "# add octave support to colab notebook\n",
        "%load_ext oct2py.ipython"
      ],
      "metadata": {
        "id": "5CTMEYmSIbRm"
      },
      "execution_count": null,
      "outputs": []
    },
    {
      "cell_type": "code",
      "source": [
        "# download and unzip mcxlab\n",
        "!rm -rf mcxlab*\n",
        "!wget http://mcx.space/nightly/release/v2023/mcxlab-allinone-v2023.zip  # download mcxlab\n",
        "!unzip mcxlab-allinone-v2023.zip && rm -rf mcxlab-allinone-v2023.zip # unzip mcxlab\n",
        "\n",
        "# download jsonlab and zmat toolboxes for sharing data between MATLAB and Python\n",
        "!git clone https://github.com/fangq/jsonlab.git  # download jsonlab\n",
        "!git clone https://github.com/NeuroJSON/zmat.git # download zmat"
      ],
      "metadata": {
        "id": "mvsEWRttI6dk"
      },
      "execution_count": null,
      "outputs": []
    },
    {
      "cell_type": "code",
      "source": [
        "%%octave\n",
        "addpath([pwd filesep 'mcxlab']);                 % add path to mcx\n",
        "addpath([pwd filesep 'mcxlab' filesep 'utils']); % add path to mcx helper functions\n",
        "addpath([pwd filesep 'jsonlab']);                % optional: add path to jsonlab for data export\n",
        "addpath([pwd filesep 'zmat']);                   % optional: add path to zmat for data compression"
      ],
      "metadata": {
        "id": "Naq1KEXLJBP-"
      },
      "execution_count": null,
      "outputs": []
    },
    {
      "cell_type": "code",
      "source": [
        "# @title Initial simulation (Baseline MC)\n",
        "%%octave\n",
        "clear cfg\n",
        "\n",
        "cfg.nphoton=1e7;\n",
        "cfg.vol=uint8(ones(60,60,60));\n",
        "% cfg.vol(20:40,20:40,10:30)=2;\n",
        "cfg.tstart=0;\n",
        "cfg.tend=5e-9;\n",
        "cfg.tstep=5e-9;\n",
        "cfg.srcpos=[30 30 1];\n",
        "cfg.srcdir=[0 0 1];\n",
        "cfg.prop=[0 0 1 1;\n",
        "          0.005 1 0.01 1.37;\n",
        "          0.1, 10, 0.9, 1];\n",
        "cfg.detpos=[30,20,0,1];            % to detect photons, one must first define detectors\n",
        "cfg.issavedet=1;                   % cfg.issavedet must be set to 1 or True in order to save detected photons\n",
        "cfg.issrcfrom0=1;                  % set this flag to ensure src/det coordinates align with voxel space\n",
        "cfg.issaveseed=1;     %%!important!% set this flag to store detected photon seed data\n",
        "\n",
        "[fluence,detphoton,vol,seeds]=mcxlab(cfg);"
      ],
      "metadata": {
        "id": "V66Y1QyDNukw",
        "collapsed": true
      },
      "execution_count": null,
      "outputs": []
    },
    {
      "cell_type": "code",
      "source": [
        "# @title Replay MC\n",
        "%%octave\n",
        "cfg_replay = cfg;\n",
        "cfg_replay.seed = seeds.data;\n",
        "cfg_replay.detphotons = detphoton;\n",
        "cfg_replay.outputtype = 'jacobian';\n",
        "\n",
        "[fluence2,detphoton2,vol2,seed2] = mcxlab(cfg_replay);"
      ],
      "metadata": {
        "id": "EtOU4jTUPTia",
        "collapsed": true
      },
      "execution_count": null,
      "outputs": []
    },
    {
      "cell_type": "code",
      "source": [
        "%%octave\n",
        "% save to text-based JSON file and list file size\n",
        "tic;savejd('', fluence2, 'filename', 'mcx_replay_jacobian.json', 'compression', 'zlib');toc\n",
        "system('ls -l mcx_replay_jacobian.json');"
      ],
      "metadata": {
        "id": "hqHKqkPrEkDB"
      },
      "execution_count": null,
      "outputs": []
    },
    {
      "cell_type": "markdown",
      "source": [
        "## Load simulation result in python"
      ],
      "metadata": {
        "id": "V5lhTLtnNYgM"
      }
    },
    {
      "cell_type": "code",
      "source": [
        "flux=jd.load('mcx_replay_jacobian.json')\n",
        "\n",
        "plt.imshow(np.log10(flux['data'][29,:,:])) # Not 30, cause Python index start from 0\n",
        "plt.title(\"Replay jacobian\")\n",
        "plt.show()"
      ],
      "metadata": {
        "id": "VVrDM8-xE0qq"
      },
      "execution_count": null,
      "outputs": []
    },
    {
      "cell_type": "code",
      "source": [
        "plot_3d_slices(np.log10(flux['data']))"
      ],
      "metadata": {
        "id": "1xnv-wHZE4CJ"
      },
      "execution_count": null,
      "outputs": []
    },
    {
      "cell_type": "markdown",
      "source": [
        "---"
      ],
      "metadata": {
        "id": "G2Df2ICPQBb9"
      }
    },
    {
      "cell_type": "markdown",
      "source": [
        "Note: `pmcx` is still being developed. If you're missing any features from MATLAB that aren't in Python yet, or if you find any bugs while using `pmcx` toolbox, please let us know!\n",
        "\n",
        "The [MCX utility MATLAB functions](https://github.com/fangq/mcx/tree/master/utils) that have been ported to pmcx include the following"
      ],
      "metadata": {
        "id": "fzr2GOvKcmBP"
      }
    },
    {
      "cell_type": "code",
      "source": [
        "dir(pmcx)"
      ],
      "metadata": {
        "id": "qM2IqzGrEpSK",
        "outputId": "0dc29568-b3d3-4a0e-e7da-d3010fbc817c",
        "colab": {
          "base_uri": "https://localhost:8080/"
        }
      },
      "execution_count": 25,
      "outputs": [
        {
          "output_type": "execute_result",
          "data": {
            "text/plain": [
              "['__all__',\n",
              " '__builtins__',\n",
              " '__cached__',\n",
              " '__doc__',\n",
              " '__file__',\n",
              " '__loader__',\n",
              " '__name__',\n",
              " '__package__',\n",
              " '__path__',\n",
              " '__spec__',\n",
              " '__version__',\n",
              " 'bench',\n",
              " 'cwdref',\n",
              " 'detphoton',\n",
              " 'dettime',\n",
              " 'dettpsf',\n",
              " 'detweight',\n",
              " 'getdistance',\n",
              " 'gpuinfo',\n",
              " 'mcxlab',\n",
              " 'meanpath',\n",
              " 'meanscat',\n",
              " 'run',\n",
              " 'tddiffusion',\n",
              " 'utils',\n",
              " 'version']"
            ]
          },
          "metadata": {},
          "execution_count": 25
        }
      ]
    }
  ]
}