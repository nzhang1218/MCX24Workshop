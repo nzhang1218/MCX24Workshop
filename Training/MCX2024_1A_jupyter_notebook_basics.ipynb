{
  "nbformat": 4,
  "nbformat_minor": 0,
  "metadata": {
    "colab": {
      "provenance": [],
      "authorship_tag": "ABX9TyN2MjBGv38Sxw5096tA/o9Z",
      "include_colab_link": true
    },
    "kernelspec": {
      "name": "python3",
      "display_name": "Python 3"
    },
    "language_info": {
      "name": "python"
    }
  },
  "cells": [
    {
      "cell_type": "markdown",
      "metadata": {
        "id": "view-in-github",
        "colab_type": "text"
      },
      "source": [
        "<a href=\"https://colab.research.google.com/github/COTILab/MCX24Workshop/blob/master/Training/MCX2024_1A_jupyter_notebook_basics.ipynb\" target=\"_parent\"><img src=\"https://colab.research.google.com/assets/colab-badge.svg\" alt=\"Open In Colab\"/></a>"
      ]
    },
    {
      "cell_type": "markdown",
      "source": [
        "![Workshop Logo](https://mcx.space/wiki/upload/mcx24_logo.png)\n",
        "# MCX Training Workshop 2024 - Day 1, Session 1.A\n",
        "\n",
        "## Session 1.A: Jupyter Notebook basics\n"
      ],
      "metadata": {
        "id": "ptMYeU1cGzsE"
      }
    },
    {
      "cell_type": "markdown",
      "source": [
        "This is the first time we use Jupyter Notebook for our training.\n",
        "\n",
        "Jupyter Notebook is an interactive document that allows to include graphics, hyper-text and runnable scripts/codes in a single file and can be browsed and executed in a web browser.\n",
        "\n",
        "In this training, we have prepared all training materials in the form of Jupyter Notebook files (*.ipynb) and included our demos, example and user exercises in the notebook.\n",
        "\n",
        "- One can load and run such notebook files in a [locally run Jupyter Notebook server](https://jupyter.org/install) (`pip install notebook; jupyter notebook`), or\n",
        "- One can also load those in a locally run [Google Colab server](https://research.google.com/colaboratory/local-runtimes.html)\n",
        "- They can also be uploaded to Google Drive/Github and run on [Google Colab cloud servers](https://colab.research.google.com/)\n",
        "\n",
        "This training fully utilizes open-source software and environments. Particularly, we use the open-source MATLAB clone, GNU Octave, to avoid the needs of MATLAB licenses. MCXLAB/MMCLAB and nearly all of our MATLAB toolboxes (Iso2Mesh, JSONLab, Brain2Mesh, and Redbird-m) are compatible with both Octave and MATLAB.\n",
        "\n",
        "At the begining of every all training notebook document, we have a special section <font color=\"orange\">\"Step 0\"</font> that is responsible to set up all needed software components (Octave, MCX suite etc.). You MUST run this section once when\n",
        "- you just open a new document for the first time, or\n",
        "- your run-time has been disconnected and you just reconnected to a new runtime\n",
        "\n",
        "without running this section, most of the provided training examples will not run properly."
      ],
      "metadata": {
        "id": "n2G42f9Gz1S-"
      }
    },
    {
      "cell_type": "markdown",
      "source": [
        "## <font color='orange'>Step 0: Setting up MCX and Octave environments within Google Colab</font>\n",
        "\n",
        "> **You must rerun all cells in Step 0 in appearance order when you start a new session, or after reconnect to a runtime**\n",
        "\n",
        "To run interactive Octave sessions inside a Google Colab Jupyter Notebook environment, we need to install the following dependencies\n",
        "- GNU Octave via `sudo apt-get install octave`\n",
        "- Oct2py Python module via `pip install oct2py`, and\n",
        "- enable Oct2py in Jupyter Notebook via \"magic command\" `%load_ext oct2py.ipython`\n"
      ],
      "metadata": {
        "id": "2S9sY9AlHwdm"
      }
    },
    {
      "cell_type": "code",
      "execution_count": null,
      "metadata": {
        "id": "8QsyOOBgAxfA",
        "cellView": "form"
      },
      "outputs": [],
      "source": [
        "#@title <font color='orange'>Init 1: Initial setup of environment for running MCXLAB (run the below section once)</font>\n",
        "\n",
        "# install octave and oct2py\n",
        "! sudo apt-get update && sudo apt-get install octave jq libpocl2 pocl-opencl-icd    # install octave (a free matlab clone)\n",
        "! pip install oct2py jdata bjdata matplotlib   # install oct2py, jdata, bjdata and matplotlib Python modules\n",
        "#!apt-get install nvidia-opencl-icd-384        # optional: install nvidia OpenCL(+2min), needed for mmc/mmclab demos later\n",
        "\n",
        "# add octave support to colab notebook\n",
        "%load_ext oct2py.ipython\n",
        "\n",
        "# download and unzip mcxlab\n",
        "! rm -rf mcxlab*\n",
        "! wget https://mcx.space/nightly/release/MCX24/MCXStudio-linux-x86_64-nightlybuild.zip  # download MCX suite\n",
        "! unzip -o MCXStudio-linux-x86_64-nightlybuild.zip && rm -rf MCXStudio-linux-x86_64-nightlybuild.zip # unzip MCX suite\n",
        "\n",
        "# add executable to the shell's paths\n",
        "! sudo cp -a $PWD/MCXStudio/MCXSuite/mcx/bin/mcx /usr/local/bin\n",
        "! sudo cp -a $PWD/MCXStudio/MCXSuite/mcxcl/bin/mcxcl /usr/local/bin\n",
        "! sudo cp -a $PWD/MCXStudio/MCXSuite/mmc/bin/mmc /usr/local/bin\n",
        "! cp -a $PWD/MCXStudio/MATLAB/zmat/octave/gnu-linux-x86_64/zipmat.mex $PWD/MCXStudio/MATLAB/zmat/\n",
        "\n",
        "# if a GPU runtime can not be allocated, run this section to setup OpenCL and MCXLAB-CL\n",
        "! [[ ! -f `which nvidia-smi` ]] && sudo mv /usr/local/bin/mcxcl /usr/local/bin/mcx\n",
        "! mcx -L"
      ]
    },
    {
      "cell_type": "markdown",
      "source": [
        "Juputer Notebook is made of small \"sections\", called cells. There are two types of cells - text and code.\n",
        "\n",
        "The code section is what you will be interacting throughout this workshop.\n",
        "\n",
        "You are expected to edit some of the code cells to specify different inputs and rerun the provided simulation codes. When you edit a code cell, you need to know what programming language to type. You will see 3 types of code cells"
      ],
      "metadata": {
        "id": "kNK1NnOH3uXa"
      }
    },
    {
      "cell_type": "code",
      "source": [
        "%%shell\n",
        "# @title a shell script cell - first line is `%%shell`\n",
        "\n",
        "# in this cell, you are expected to type bash commands\n",
        "\n",
        "echo $SHELL\n",
        "pwd\n",
        "ls -lt"
      ],
      "metadata": {
        "id": "DZIsqg3W5kf-"
      },
      "execution_count": null,
      "outputs": []
    },
    {
      "cell_type": "code",
      "source": [
        "%%octave\n",
        "# @title an Octave/MATLAB script cell - first line is `%%octave`\n",
        "\n",
        "# in this cell, you are expected to type Octave/MATLAB commands\n",
        "\n",
        "a=uint8(zeros(20, 30, 40)); %<- it is extremely important to terminate each command with ; to prevent printing large amount of data, it can kill a cell\n",
        "disp({size(a), class(a)})\n",
        "\n",
        "system('ls -l')             %<- call system() or unix() functions to involk shell commands in Octave codes"
      ],
      "metadata": {
        "id": "Jlv58jRu6LmM"
      },
      "execution_count": null,
      "outputs": []
    },
    {
      "cell_type": "code",
      "source": [
        "# @title a Python script cell - if no magic command (`%%`), Jupyter notebook use Python as the default cell type\n",
        "\n",
        "# in this cell, you are expected to type Python commands\n",
        "\n",
        "import numpy as np\n",
        "a=np.zeros([20,30,40], dtype='uint8')  # use\n",
        "\n",
        "print([a.shape, a.dtype])\n",
        "\n",
        "!ls -l                    %<- start the line with ! to involk shell command in Jupyter Notebook Python codes"
      ],
      "metadata": {
        "id": "Zb-IAlmR9SiE"
      },
      "execution_count": null,
      "outputs": []
    }
  ]
}