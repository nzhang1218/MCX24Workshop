{
  "nbformat": 4,
  "nbformat_minor": 0,
  "metadata": {
    "colab": {
      "provenance": [],
      "toc_visible": true,
      "authorship_tag": "ABX9TyM1jd8f0Qd8ulafN+ZT45nf"
    },
    "kernelspec": {
      "name": "python3",
      "display_name": "Python 3"
    },
    "language_info": {
      "name": "python"
    }
  },
  "cells": [
    {
      "cell_type": "markdown",
      "source": [
        "![Workshop Logo](https://mcx.space/wiki/upload/mcx24_logo.png)\n",
        "# MCX Training Workshop 2024 - Day 1, Session 1A\n",
        "\n",
        "## Session 1A: Google Colab and Jupyter Notebook Basics\n"
      ],
      "metadata": {
        "id": "ptMYeU1cGzsE"
      }
    },
    {
      "cell_type": "markdown",
      "source": [
        "> **Training Goals**: <font color='green'>In this document, we go over important guidelines to help you use Google Colab and Jupyter Notebook and familiarize yourself with the training material format.</font>"
      ],
      "metadata": {
        "id": "ZYtDub9Mws_k"
      }
    },
    {
      "cell_type": "markdown",
      "source": [
        "# <font color='orange'>Preparation before the workshop</font>\n",
        "\n",
        "You do not need a laptop that can run MCX or has an NVIDIA GPU to participate this workshop. We will use Google Colab - an online Jupyter Notebook server and cloud-computing virtual machines provided by Google.\n",
        "\n",
        "Although Google has made Colab free to use, the free-access limits the time for how long your session can run, especially if you use GPU runtimes (which we need for the majority of the workshop). To ensure your uninterrupted experience with this training, <font color='red'>**we highly suggest all participants, in-person or online, [purchasing 100 compute units \"Pay As You Go\"](https://colab.research.google.com/signup) for the cost of $10 USD before the workshop**</font>. This will support your Google account to allocate and run Google Colab GPU virtual server for ~60 hours (using the T4 GPU), which is more than sufficient for the entire workshop.\n",
        "\n",
        "To purchase compute units, please visit\n",
        "\n",
        "https://colab.research.google.com/signup\n",
        "\n",
        "You can also use the above page to track how many compute units has left as you use the service. No subscription is needed if you choose the `Pay as you go` option. Please choose the T4 GPU in the runtime setting; choosing higher-end GPU is possible but will consume compute units at a faster rate.\n",
        "\n",
        "We are happy to reimburse you $10 USD if your group is unable to reimburse this cost for you."
      ],
      "metadata": {
        "id": "hC5Lo5trmbk8"
      }
    },
    {
      "cell_type": "markdown",
      "source": [
        "# What is Jupyter Notebook?\n",
        "\n",
        "This is the first time we use [Jupyter Notebook](https://jupyter.org/) for our training. We love it! we hope you too find it useful.\n",
        "\n",
        "Jupyter Notebook is an interactive document that allows to include graphics, hyper-text and runnable scripts/codes in a single file and can be browsed and executed in a web browser.\n",
        "\n",
        "In this training, we have prepared all training materials in the form of Jupyter Notebook files (`*.ipynb`) and included our demos, example and user exercises in the notebook.\n",
        "\n",
        "- One can load and run such notebook files in a [locally run Jupyter Notebook server](https://jupyter.org/install) (`python3 -m pip install notebook; python3 -m notebook`), or\n",
        "- One can also load those in a locally run [Google Colab server](https://research.google.com/colaboratory/local-runtimes.html)\n",
        "- They can also be uploaded to Google Drive/Github and run on [Google Colab cloud servers](https://colab.research.google.com/)\n",
        "\n",
        "Your copy of the notebook is fully editable - and if you save it to Google Drive, your changes are also automatically saved (highly recommended!)."
      ],
      "metadata": {
        "id": "n2G42f9Gz1S-"
      }
    },
    {
      "cell_type": "markdown",
      "source": [
        "# How to start using each training notebook?\n",
        "\n",
        "Please download the latest training materials package [from this repository](https://github.com/COTILab/MCX24Workshop/archive/refs/heads/master.zip), unzip it to a folder.\n",
        "\n",
        "Open your browser, type https://colab.research.google.com/, and in the open notebook dialog, select \"New notebook\" at the bottom. This will automatically create a \"Colab Notebooks\" folder under your Google Drive.\n",
        "\n",
        "Next, go to your Google Drive, double-click on **\"Colab Notebooks\"** folder, then, drag-drop the unzipped `Training` subfolder (which contains all notebooks) into the \"Colab Notebooks\". After this operation, the folder should look like `Google Drive/Colab Notebooks/Training/MCX24*.ipynb`. Double clicking on any of the MCX24*.ipynb file will open it in Colab and you can run all cells as well as editing codes and taking notes.\n",
        "\n",
        "Saving to Google Drive has two benefits -\n",
        "- you can modify any part of the notebook as you wish and your changes are automatically saved in your Google Drive copy automatically\n",
        "- because each notebook is opened from individual accounts, Google will not impose a runtime limit on the document as it does on shared notebooks with a common URL.\n",
        "\n",
        "When we start each training unit, please browser https://colab.research.google.com/ from your favorite browser, and select Google Drive in the open-notebook dialog, and pick the matching notebook for the session.\n",
        "\n",
        "When using these notebooks on Google Colab, please remember close and delete a runtime once you are done with the unit. This will avoid paused sessions silently consuming your compute units (or free credits).\n",
        "\n",
        "You can check all previously opened sessions via menu **\"Runtime/Manage sessions\"**.\n",
        "\n",
        "When you are closing a notebook, please remember to select the drop-down menu on the right-top corner of the notebook page, right next to the \"RAM/Disk\" icons, and select **\"Disconnect and delete runtime\"**. Otherwise, your note notebook will not be able to connect to any runtimes because Google Colab only permits one active notebook.\n",
        "\n",
        "If you accidentally close your tab before explicitly disconnecting and deleting your runtime, you can go to menu Runtime, and select **\"Manage sessions\"** to disconnect/delete previously opened runtimes.\n",
        "\n",
        "**To avoid being locked out of the Google Colab service, please always maintain a single session.**"
      ],
      "metadata": {
        "id": "gXmLECDrrHVj"
      }
    },
    {
      "cell_type": "markdown",
      "source": [
        "This training fully utilizes open-source software and environments. Particularly, we use the open-source MATLAB clone, GNU Octave, to avoid the needs of MATLAB licenses. MCXLAB/MMCLAB and nearly all of our MATLAB toolboxes (Iso2Mesh, JSONLab, Brain2Mesh, and Redbird-m) are compatible with both Octave and MATLAB.\n",
        "\n",
        "At the begining of every all training notebook document, we have a special section <font color=\"orange\">\"Step 0\"</font> that is responsible for setting up all needed software components (Octave, MCX Suite etc.). You MUST run this section once when\n",
        "- you just open a new document for the first time, or\n",
        "- your run-time has been disconnected and you just reconnect to a new runtime\n",
        "\n",
        "without running this section, most of the provided training examples will not run properly."
      ],
      "metadata": {
        "id": "rDxqT2MUsQu9"
      }
    },
    {
      "cell_type": "markdown",
      "source": [
        "## <font color='orange'>Step 0: Setting up MCX and Octave environments within Google Colab</font>\n",
        "\n",
        "> **You must rerun all cells in Step 0 in appearance order when you start a new session, or after reconnect to a runtime**\n",
        "\n",
        "To run interactive Octave sessions inside a Google Colab Jupyter Notebook environment, we need to install the following dependencies\n",
        "- GNU Octave via `sudo apt-get install octave`\n",
        "- Oct2py Python module via `pip install oct2py`, and\n",
        "- enable Oct2py in Jupyter Notebook via \"magic command\" `%load_ext oct2py.ipython`\n"
      ],
      "metadata": {
        "id": "2S9sY9AlHwdm"
      }
    },
    {
      "cell_type": "code",
      "execution_count": null,
      "metadata": {
        "id": "8QsyOOBgAxfA"
      },
      "outputs": [],
      "source": [
        "#@title <font color='orange'>Init 1: Initial setup of environment for running MCXLAB (run the below section once - this takes 1.5-2 min to complete)</font>\n",
        "\n",
        "# install octave and oct2py\n",
        "! sudo apt-get update && sudo apt-get install octave jq libpocl2 pocl-opencl-icd libnvidia-compute-535   # install octave (a free matlab clone)\n",
        "! pip install oct2py jdata bjdata matplotlib plotly   # install oct2py, jdata, bjdata and matplotlib Python modules\n",
        "\n",
        "# add octave support to colab notebook\n",
        "%load_ext oct2py.ipython\n",
        "\n",
        "# download and unzip MCXStudio\n",
        "! rm -rf MCXStudio*\n",
        "! curl https://mcx.space/nightly/release/MCX24/MCXStudio-linux-x86_64-nightlybuild.zip -O MCXStudio-linux-x86_64-nightlybuild.zip # download MCX suite\n",
        "! unzip -o MCXStudio-linux-x86_64-nightlybuild.zip && rm -rf MCXStudio-linux-x86_64-nightlybuild.zip # unzip MCX suite\n",
        "\n",
        "# add executable to the shell's paths\n",
        "! cp -a \"$PWD/MCXStudio/MCXSuite/mcx/bin/mcx\" \"/usr/local/bin\"\n",
        "! cp -a \"$PWD/MCXStudio/MCXSuite/mcxcl/bin/mcxcl\" \"/usr/local/bin\"\n",
        "! cp -a \"$PWD/MCXStudio/MCXSuite/mmc/bin/mmc\" \"/usr/local/bin\"\n",
        "! cp -a \"$PWD/MCXStudio/MATLAB/zmat/octave/gnu-linux-x86_64/zipmat.mex\" \"$PWD/MCXStudio/MATLAB/zmat/\"\n",
        "\n",
        "# if a GPU runtime can not be allocated, run this section to setup OpenCL and MCXLAB-CL\n",
        "! [[ ! -f `which nvidia-smi` ]] && mv \"/usr/local/bin/mcxcl\" \"/usr/local/bin/mcx\"\n",
        "! mcx -L"
      ]
    },
    {
      "cell_type": "markdown",
      "source": [
        "What's happening if you run the above section?\n",
        "\n",
        "First, google colab will allocate you a virtual machine with GPU by default. You should see a T4 symbol at the right-top corner of the page if successful. This virtual machine has a customized Ubuntu 22.04 installation - the above commands simply use the package management software on Linux - apt-get and pip to install standard Linux packages and python modules. The second second downloads the latest MCX Suite, including all matlab/octave mex files and executables, and setup the environment so that you can run them."
      ],
      "metadata": {
        "id": "5yQCeufECrh2"
      }
    },
    {
      "cell_type": "markdown",
      "source": [
        "# How to navigate between notebook cells\n",
        "\n",
        "Juputer Notebook is made of small \"sections\", called cells. There are two types of cells - text and code.\n",
        "\n",
        "The code section is what you will be interacting throughout this workshop.\n",
        "\n",
        "You are expected to edit some of the code cells to specify different inputs and rerun the provided simulation codes. When you edit a code cell, you need to know what programming language to type. You will see 3 types of code cells"
      ],
      "metadata": {
        "id": "kNK1NnOH3uXa"
      }
    },
    {
      "cell_type": "code",
      "source": [
        "%%shell\n",
        "# @title A shell script cell - first line is `%%shell`\n",
        "\n",
        "# in this cell, you are expected to type only bash shell commands\n",
        "\n",
        "echo $SHELL\n",
        "pwd\n",
        "ls -lt"
      ],
      "metadata": {
        "id": "DZIsqg3W5kf-"
      },
      "execution_count": null,
      "outputs": []
    },
    {
      "cell_type": "code",
      "source": [
        "%%octave\n",
        "# @title An Octave/MATLAB script cell - first line is `%%octave`\n",
        "\n",
        "# in this cell, you are expected to type only Octave/MATLAB commands\n",
        "\n",
        "a=uint8(zeros(20, 30, 40)); %<- it is extremely important to terminate each command with ; to prevent printing large amount of data, it can kill a cell\n",
        "disp({size(a), class(a)})\n",
        "\n",
        "system('ls -l')             %<- call system() or unix() functions to involk shell commands in Octave codes"
      ],
      "metadata": {
        "id": "Jlv58jRu6LmM"
      },
      "execution_count": null,
      "outputs": []
    },
    {
      "cell_type": "code",
      "source": [
        "# @title A Python script cell - if no magic command (`%%`), Jupyter notebook use Python as the default cell type\n",
        "\n",
        "# in this cell, you are expected to type only Python commands\n",
        "\n",
        "import numpy as np\n",
        "a=np.zeros([20,30,40], dtype='uint8')  # use\n",
        "\n",
        "print([a.shape, a.dtype])\n",
        "\n",
        "!ls -l                    #<- start the line with ! to involk shell command in Jupyter Notebook Python codes"
      ],
      "metadata": {
        "id": "Zb-IAlmR9SiE"
      },
      "execution_count": null,
      "outputs": []
    },
    {
      "cell_type": "markdown",
      "source": [
        "**Please be aware that each type of the above enviroment is a separate system, and they do not see variables in each other, but mutiple cells of the same kind do share the same environment. As a result, all Octave variables are persistant between multiple Octave cells, or Python variables are visible among all Python cells etc.**"
      ],
      "metadata": {
        "id": "uTqKp_32DdFu"
      }
    },
    {
      "cell_type": "markdown",
      "source": [
        "# How to troubleshoot your notebook issues?\n",
        "\n",
        "- if you receive an error that you can not allocate a new GPU runtime, please close all your previously opened sessions via Runtime/Manage sessions menu, and disconnect and delete previous sessions.\n",
        "- if you run out of compute units, please go to https://colab.research.google.com/signup and purchase new compute units\n",
        "- if for some reason, a cell hangs while running (takes more than few min without responses), please select the runtime drop-down menu and select \"Disconnect and delete runtime\" - or double click on the run-button, it will ask you to reset the runtime. Once you reconnect or reset the runtime, you must rerun the initial setup script in **Step 0** at the beginning.\n",
        "- if any of the code section returns an error that a command is not found, very likely you did not run the initial setup section in Step 0, or you type MATLAB/Octave commands in a Python cell, or vice versa.\n"
      ],
      "metadata": {
        "id": "76vaQXV9u14i"
      }
    }
  ]
}