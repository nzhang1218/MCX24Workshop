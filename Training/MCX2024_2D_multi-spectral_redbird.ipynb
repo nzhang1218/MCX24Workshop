{
  "nbformat": 4,
  "nbformat_minor": 0,
  "metadata": {
    "colab": {
      "provenance": [],
      "toc_visible": true,
      "include_colab_link": true
    },
    "kernelspec": {
      "name": "python3",
      "display_name": "Python 3"
    },
    "language_info": {
      "name": "python"
    }
  },
  "cells": [
    {
      "cell_type": "markdown",
      "metadata": {
        "id": "view-in-github",
        "colab_type": "text"
      },
      "source": [
        "<a href=\"https://colab.research.google.com/github/COTILab/MCX24Workshop/blob/master/Training/MCX2024_2D_multi_spectral_redbird.ipynb\" target=\"_parent\"><img src=\"https://colab.research.google.com/assets/colab-badge.svg\" alt=\"Open In Colab\"/></a>"
      ]
    },
    {
      "cell_type": "markdown",
      "metadata": {
        "id": "ptMYeU1cGzsE"
      },
      "source": [
        "![Workshop Logo](https://mcx.space/wiki/upload/mcx24_logo.png)\n",
        "# MCX Training Workshop 2024 - Day 2, Session 2D\n",
        "\n",
        "## Session 2D: Redbird-m Training Part-2 (multi-spectral DOT reconstruction)\n"
      ]
    },
    {
      "cell_type": "markdown",
      "source": [
        "> **Training Goals**: <font color='green'>In this session you will learn how to: 1) setup the simulation environment in Redbird-m to perform FD/CW multi-spectral reconstructions, 2) Setup the simulation environment in Redbird-m to perform bybrid FD + CW multi-spectral reconstructions, 3) run and visualize frequency domain (FD) or continuous wave (CW) forward simulations in Redbird-m using point-source/detector arrays and wide-field source/detector patterns, and 4) Visualize the simulated data (amplitude and/or phase) and the sensitivity matrix</fonts>\n"
      ],
      "metadata": {
        "id": "MxKxY9WRdK4g"
      }
    },
    {
      "cell_type": "markdown",
      "source": [
        "# <font color='orange'>Step 0: Setting up MCX and Octave environments within Google Colab</font>\n",
        "\n",
        "> **You must rerun all cells in Step 0 in appearance order when you start a new session, or after reconnect to a runtime**\n",
        "\n",
        "To run interactive Octave sessions inside a Google Colab Jupyter Notebook environment, we need to install the following dependencies\n",
        "- GNU Octave via `sudo apt-get install octave`\n",
        "- Oct2py Python module via `pip install oct2py`, and\n",
        "- enable Oct2py in Jupyter Notebook via \"magic command\" `%load_ext oct2py.ipython`\n",
        "\n",
        "This unit does not require GPU."
      ],
      "metadata": {
        "id": "2S9sY9AlHwdm"
      }
    },
    {
      "cell_type": "code",
      "execution_count": null,
      "metadata": {
        "collapsed": true,
        "id": "2SxYqGMhEwdI"
      },
      "outputs": [],
      "source": [
        "#@title <font color='orange'>Init 1: Initial setup of environment for running MCXLAB (run the below section once)</font>\n",
        "\n",
        "# install octave and oct2py\n",
        "! sudo apt-get update && sudo apt-get install octave jq libpocl2 pocl-opencl-icd    # install octave (a free matlab clone)\n",
        "! pip install oct2py jdata bjdata matplotlib   # install oct2py, jdata, bjdata and matplotlib Python modules\n",
        "\n",
        "# add octave support to colab notebook\n",
        "%load_ext oct2py.ipython\n",
        "\n",
        "# download and unzip mcxlab\n",
        "! rm -rf MCXStudio*\n",
        "! curl https://mcx.space/nightly/release/MCX24/MCXStudio-linux-x86_64-nightlybuild.zip -O MCXStudio-linux-x86_64-nightlybuild.zip # download MCX suite\n",
        "! unzip -o MCXStudio-linux-x86_64-nightlybuild.zip && rm -rf MCXStudio-linux-x86_64-nightlybuild.zip # unzip MCX suite\n",
        "\n",
        "# add executable to the shell's paths\n",
        "! cp -a \"$PWD/MCXStudio/MCXSuite/mcx/bin/mcx\" \"/usr/local/bin\"\n",
        "! cp -a \"$PWD/MCXStudio/MCXSuite/mcxcl/bin/mcxcl\" \"/usr/local/bin\"\n",
        "! cp -a \"$PWD/MCXStudio/MCXSuite/mmc/bin/mmc\" \"/usr/local/bin\"\n",
        "! cp -a \"$PWD/MCXStudio/MATLAB/zmat/octave/gnu-linux-x86_64/zipmat.mex\" \"$PWD/MCXStudio/MATLAB/zmat/\"\n",
        "\n",
        "# if a GPU runtime can not be allocated, run this section to setup OpenCL and MCXLAB-CL\n",
        "! [[ ! -f `which nvidia-smi` ]] && mv \"/usr/local/bin/mcxcl\" \"/usr/local/bin/mcx\"\n",
        "#! mcx -L"
      ]
    },
    {
      "cell_type": "markdown",
      "source": [
        "### <font color='orange'>Init 2: Only need to run this once at the beginning</font>"
      ],
      "metadata": {
        "id": "jIuLDuAiRU8E"
      }
    },
    {
      "cell_type": "code",
      "source": [
        "%%octave\n",
        "\n",
        "addpath([pwd filesep 'MCXStudio/MATLAB/mcxlab']);                     % add path to mcxlab\n",
        "addpath([pwd filesep 'MCXStudio/MCXSuite/mcx' filesep 'utils']);      % add path to mcx helper functions\n",
        "addpath([pwd filesep 'MCXStudio/MATLAB/mmclab']);                     % add path to mmclab\n",
        "addpath([pwd filesep 'MCXStudio/MCXSuite/mmc' filesep 'matlab']);     % add path to mmc helper functions\n",
        "addpath([pwd filesep 'MCXStudio/MATLAB/iso2mesh']);                   % add path to iso2mesh/jsonlab\n",
        "addpath([pwd filesep 'MCXStudio/MATLAB/brain2mesh']);                 % add path to brain2mesh\n",
        "addpath([pwd filesep 'MCXStudio/MATLAB/zmat']);                       % add path to zmat for data compression\n",
        "addpath([pwd filesep 'MCXStudio/MATLAB/redbird-m/matlab']);           % add path to redbird-m\n",
        "\n",
        "struct_levels_to_print(0);\n",
        "print_struct_array_contents(0);\n",
        "\n",
        "if(system('which nvidia-smi'))                   % if this runtime does not have NVIDIA GPU support\n",
        "    addpath([pwd filesep 'MCXStudio/MATLAB/mcxlabcl']);    % add path to mcxlabcl\n",
        "    USE_MCXCL=1;                                 % set USE_MCXCL flag in the base workspace\n",
        "end"
      ],
      "metadata": {
        "id": "VTHeNUdJF-ZE"
      },
      "execution_count": null,
      "outputs": []
    },
    {
      "cell_type": "markdown",
      "source": [
        "### <font color='orange'>Init 3: Verify your environments</font>\n",
        "\n",
        "---"
      ],
      "metadata": {
        "id": "oPiJ3kcF4MK2"
      }
    },
    {
      "cell_type": "code",
      "source": [
        "%%octave\n",
        "\n",
        "which mcx\n",
        "which s2m\n",
        "which zipmat\n",
        "\n",
        "%mcxlab('gpuinfo')     % use this command to list supported CPU or GPU in octave\n",
        "%unix('mcx -L')        % use -L flag to list GPU in the command line"
      ],
      "metadata": {
        "id": "LnrnJOcJsQzW"
      },
      "execution_count": null,
      "outputs": []
    },
    {
      "cell_type": "markdown",
      "source": [
        "## Multi-spectra Redbird-m reconstruction\n",
        "\n",
        "In this section we demonstrate the extended capabilities of Redbird-m to perform multi-spectral reconstructions of given chromophores. Redbird-m support native reconstructions of oxy- (HbO) and deoxy- (Hb) hemoglobin, H$_2$O and lipid absorption chromophores while assuming Mie scattering ($\\mu_s' = A(\\lambda/500)^{-b}$). However, any absorption spectra can be loaded to produce spectral reconstructions and Rayleight scattering can also be supported.\n",
        "\n",
        "In specific, in the followign examples we perform reconstruction of oxy-hemoglobin (HbO) and deoxy-hemoglobin (Hb) as well as Mie Scattering coefficients A & b.\n",
        "\n",
        "In this section, we prepare a 100x100x40 mm$^3$ heterogenous mesh domain of with two inclusions of 2x absorption contrast located off-center in the z-axis (z = 15 mm)."
      ],
      "metadata": {
        "id": "mvZe6BA0nbF6"
      }
    },
    {
      "cell_type": "markdown",
      "source": [
        "### CW/FD point-source array forward solutions\n",
        "\n",
        "First, we define the general setting to create the heterogenous domain along with a 3x3 point-source/detector array in a transmission geometry. The optical properties of each domain segment is given as the combination of chromophores concentrations for $\\mu_a$ and scattering coefficients for $\\mu_s'$.\n",
        "\n",
        "We run a forward simulation on the heterogeneous domain (cfg0) to create simulated data (detphi0). Then, we create a homogeneous forward mesh (cfg) over which the inverse problem solution will be projected. We also create a sparse reconstruction mesh (recon) to speed up the Jacobian inversion and project those solutions over the forward mesh."
      ],
      "metadata": {
        "id": "0iUv71ZAqGXH"
      }
    },
    {
      "cell_type": "markdown",
      "source": [
        "#### Define general settings for Redbird-m simulation"
      ],
      "metadata": {
        "id": "bDGyCXANn9m3"
      }
    },
    {
      "cell_type": "code",
      "source": [
        "%%octave\n",
        "\n",
        "clear cfg0 cfg recon\n",
        "\n",
        "domsz = [100 100 40];     % Domain size\n",
        "s0    = [35, 65, 15 5;... % Central position xyz and radius of the inclusion (in mm)\n",
        "         60, 30, 15 5];\n",
        "\n",
        "% Bounding box w/ 2 inclusions\n",
        "resmesh = 5;\n",
        "[nobbx,elembbx] = meshgrid5(0:resmesh:domsz(1),0:resmesh:domsz(2),0:resmesh:domsz(3)); % Meshbox domain (in mm)\n",
        "fcbbx   = volface(elembbx);\n",
        "[nobbx,fcbbx] = removeisolatednode(nobbx,fcbbx);\n",
        "[nosp1,fcsp1] = meshasphere(s0(1,1:3),s0(1,4),1); % Sphare mesh location (s0, radious, maxvol)\n",
        "[nosp2,fcsp2] = meshasphere(s0(2,1:3),s0(2,4),1); % Sphare mesh location (s1, radious, maxvol)\n",
        "[no,fc]       = mergemesh(nobbx,fcbbx,nosp1,fcsp1,nosp2,fcsp2); % Merge meshbox and sphere meshes (FOR DUAL INCLUSION DOMAIN)\n",
        "[cfg0.node, cfg0.elem] = s2m(no,fc(:,1:3),1,25,'tetgen1.5',[11 1 1;s0(1,1:3);s0(2,1:3)]); % Generate measured/real heterogeneous domain\n",
        "clear nobbx elembbx fcbbx nosp1 fcsp1 nosp2 fcsp2 no fc\n",
        "\n",
        "% Visualize domain\n",
        "figure, plotmesh(cfg0.node, cfg0.elem,char(strcat('z<',num2str(s0(1,3)))))\n",
        "\n",
        "figure,plot(600:1000,rbextinction(600:1000,{'hbo','hbr','water','lipids'}))\n",
        "legend('hbo','hbr','water','lipids')\n",
        "xlabel('\\lambda (nm)')\n",
        "\n",
        "% General settings for RB simulations\n",
        "cfg0.param         = struct;       % Define multi-spectral optical properties [Bulk OPs Inclusion OPs]\n",
        "cfg0.param.hbo     = [10 20 20];\n",
        "cfg0.param.hbr     = [ 4  8  8];\n",
        "cfg0.param.scatamp = [1.6e-6 2.4e-6 2.4e-6];\n",
        "cfg0.param.scatpow = [0.9177 0.9177 0.9177];\n",
        "\n",
        "% Declare dummy optical properties field ('cfg0.prop') for letting the code know there will be two wavelengths.\n",
        "% Assigned values are not relevant but field of cfg0.prop are important to define what wavelengths to get simulated data.\n",
        "cfg0.prop        = containers.Map();  % if both prop and param are defined, param will overwrite prop\n",
        "cfg0.prop('690') = [0 0 1 1; 0.006 0.8 0 1.37; 0.012 1.0 0 1.37; 0.012 1.0 0 1.37];\n",
        "cfg0.prop('830') = [0 0 1 1; 0.006 0.8 0 1.37; 0.012 1.0 0 1.37; 0.012 1.0 0 1.37];\n",
        "\n",
        "mfreq      = 67 # @param [0, 67] {type:\"raw\"}\n",
        "cfg0.omega = mfreq*1e6*2*pi;\n",
        "\n",
        "% Define parameters for RB src/det point source\n",
        "nsrc        = [3 3]; % Number of src/det in xy axis\n",
        "[xi,yi]     = meshgrid(linspace(20,80,nsrc(1)),linspace(20,80,nsrc(2)));\n",
        "cfg0.srcpos = [xi(:),yi(:),zeros(numel(yi),1)];\n",
        "cfg0.detpos = [xi(:),yi(:),domsz(3)*ones(numel(yi),1)];\n",
        "cfg0.srcdir = [0 0  1];\n",
        "cfg0.detdir = [0 0 -1];\n",
        "\n",
        "cfg = cfg0;\n",
        "[cfg0,sd0] = rbmeshprep(cfg0);\n",
        "\n",
        "% Run RB forward simulation\n",
        "[detphi0,phi0] = rbrunforward(cfg0,'sd',sd0);\n",
        "\n",
        "% Set fwd mesh to be homogeneous\n",
        "cfg = rbsetmesh(cfg,cfg.node,cfg.elem,cfg.prop,ones(size(cfg.node,1),1));\n",
        "\n",
        "% Prepare recon mesh\n",
        "resmesh   = 5;\n",
        "[no,elem] = meshgrid5(0:resmesh:domsz(1),0:resmesh:domsz(2),0:resmesh:domsz(3)); % Meshbox domain (in mm)\n",
        "fc        = volface(elem);\n",
        "[no,fc]   = removeisolatednode(no,fc);\n",
        "[recon.node, recon.elem] = s2m(no,fc(:,1:3),1,50,'tetgen1.5');\n",
        "recon.elem = recon.elem(:,1:4);\n",
        "[recon.mapid,recon.mapweight] = tsearchn(recon.node,recon.elem(:,1:4),cfg.node);\n",
        "clear no elem fc\n",
        "\n",
        "% Visualize simulated data\n",
        "wv = keys(detphi0);\n",
        "for mm = 1:size(detphi0,1)\n",
        "  simdata(:,mm) = reshape(detphi0(wv{mm}),[],1);\n",
        "end\n",
        "figure,plot(abs(simdata(:))),title('Channel-wise amplitude')\n",
        "if ~isreal(phi0)\n",
        "  figure,plot(angle(simdata(:))),title('Channel-wise phase')\n",
        "end\n"
      ],
      "metadata": {
        "id": "3Q9fBr43XyNI",
        "outputId": "62c45365-ca10-4c82-a811-ae284cff7607",
        "colab": {
          "base_uri": "https://localhost:8080/",
          "height": 1000
        }
      },
      "execution_count": null,
      "outputs": [
        {
          "output_type": "display_data",
          "data": {
            "text/plain": [
              "Surface Mesh Extraction Utility (Based on CGAL 3.8)"
            ]
          },
          "metadata": {}
        },
        {
          "output_type": "display_data",
          "data": {
            "text/plain": [
              "(modified for iso2mesh by Qianqian Fang)"
            ]
          },
          "metadata": {}
        },
        {
          "output_type": "display_data",
          "data": {
            "text/plain": [
              "http://iso2mesh.sf.net"
            ]
          },
          "metadata": {}
        },
        {
          "output_type": "display_data",
          "data": {
            "text/plain": []
          },
          "metadata": {}
        },
        {
          "output_type": "display_data",
          "data": {
            "text/plain": [
              "RNG seed 1648335518"
            ]
          },
          "metadata": {}
        },
        {
          "output_type": "display_data",
          "data": {
            "text/plain": [
              "set initial mesh size to 50"
            ]
          },
          "metadata": {}
        },
        {
          "output_type": "display_data",
          "data": {
            "text/plain": [
              "Refining... maximum node number is set to 40000"
            ]
          },
          "metadata": {}
        },
        {
          "output_type": "display_data",
          "data": {
            "text/plain": []
          },
          "metadata": {}
        },
        {
          "output_type": "display_data",
          "data": {
            "text/plain": [
              "done."
            ]
          },
          "metadata": {}
        },
        {
          "output_type": "display_data",
          "data": {
            "text/plain": [
              "Final number of points: 289"
            ]
          },
          "metadata": {}
        },
        {
          "output_type": "display_data",
          "data": {
            "text/plain": [
              "WARNING- Some triangles have been reversed to achieve orientation."
            ]
          },
          "metadata": {}
        },
        {
          "output_type": "display_data",
          "data": {
            "text/plain": [
              "Surface Mesh Extraction Utility (Based on CGAL 3.8)"
            ]
          },
          "metadata": {}
        },
        {
          "output_type": "display_data",
          "data": {
            "text/plain": [
              "(modified for iso2mesh by Qianqian Fang)"
            ]
          },
          "metadata": {}
        },
        {
          "output_type": "display_data",
          "data": {
            "text/plain": [
              "http://iso2mesh.sf.net"
            ]
          },
          "metadata": {}
        },
        {
          "output_type": "display_data",
          "data": {
            "text/plain": []
          },
          "metadata": {}
        },
        {
          "output_type": "display_data",
          "data": {
            "text/plain": [
              "RNG seed 1648335518"
            ]
          },
          "metadata": {}
        },
        {
          "output_type": "display_data",
          "data": {
            "text/plain": [
              "set initial mesh size to 50"
            ]
          },
          "metadata": {}
        },
        {
          "output_type": "display_data",
          "data": {
            "text/plain": [
              "Refining... maximum node number is set to 40000"
            ]
          },
          "metadata": {}
        },
        {
          "output_type": "display_data",
          "data": {
            "text/plain": []
          },
          "metadata": {}
        },
        {
          "output_type": "display_data",
          "data": {
            "text/plain": [
              "done."
            ]
          },
          "metadata": {}
        },
        {
          "output_type": "display_data",
          "data": {
            "text/plain": [
              "Final number of points: 289"
            ]
          },
          "metadata": {}
        },
        {
          "output_type": "display_data",
          "data": {
            "text/plain": [
              "WARNING- Some triangles have been reversed to achieve orientation."
            ]
          },
          "metadata": {}
        },
        {
          "output_type": "display_data",
          "data": {
            "text/plain": [
              "generating tetrahedral mesh from closed surfaces ..."
            ]
          },
          "metadata": {}
        },
        {
          "output_type": "display_data",
          "data": {
            "text/plain": [
              "creating volumetric mesh from a surface mesh ..."
            ]
          },
          "metadata": {}
        },
        {
          "output_type": "display_data",
          "data": {
            "text/plain": [
              "volume mesh generation is complete"
            ]
          },
          "metadata": {}
        },
        {
          "output_type": "display_data",
          "data": {
            "text/plain": [
              "ans = -26.152"
            ]
          },
          "metadata": {}
        },
        {
          "output_type": "display_data",
          "data": {
            "text/plain": [
              "mfreq = 67"
            ]
          },
          "metadata": {}
        },
        {
          "output_type": "display_data",
          "data": {
            "text/plain": [
              "generating tetrahedral mesh from closed surfaces ..."
            ]
          },
          "metadata": {}
        },
        {
          "output_type": "display_data",
          "data": {
            "text/plain": [
              "creating volumetric mesh from a surface mesh ..."
            ]
          },
          "metadata": {}
        },
        {
          "output_type": "display_data",
          "data": {
            "text/plain": [
              "volume mesh generation is complete"
            ]
          },
          "metadata": {}
        },
        {
          "output_type": "display_data",
          "data": {
            "image/png": "[encoded data removed]",
            "text/plain": [
              "<IPython.core.display.Image object>"
            ]
          },
          "metadata": {}
        },
        {
          "output_type": "display_data",
          "data": {
            "image/png": "[encoded data removed]",
            "text/plain": [
              "<IPython.core.display.Image object>"
            ]
          },
          "metadata": {}
        },
        {
          "output_type": "display_data",
          "data": {
            "image/png": "[encoded data removed]",
            "text/plain": [
              "<IPython.core.display.Image object>"
            ]
          },
          "metadata": {}
        },
        {
          "output_type": "display_data",
          "data": {
            "image/png": "[encoded data removed]",
            "text/plain": [
              "<IPython.core.display.Image object>"
            ]
          },
          "metadata": {}
        }
      ]
    },
    {
      "cell_type": "markdown",
      "source": [
        "#### Run bulk optical properties fitting\n",
        "\n",
        "If utilizing FD sources, we can then perform a bulk optical properties fitting to decouple absorption and reduce scatterring coefficients. Otherwise, set them to be the true background optical properties used to generate synthetic data.\n",
        "\n",
        "The bulk optical properties are then set as initial guess for launching the iterative reconstruction procedure."
      ],
      "metadata": {
        "id": "O4XQXpFyh280"
      }
    },
    {
      "cell_type": "code",
      "source": [
        "%%octave\n",
        "\n",
        "% Set initial guess\n",
        "recon.bulk  = struct('hbo',8,'hbr',2,'scatamp',1.8e-6,'scatpow',0.9); % Required: this gives initial guesses\n",
        "recon.param = struct('hbo',8,'hbr',2,'scatamp',1.8e-6,'scatpow',0.9); % Required: this defines chromophores\n",
        "recon.prop  = containers.Map({'690','830'},{[],[]}); % Required: for wavelengths\n",
        "\n",
        "if strcmp(class(detphi0),'containers.Map') && cfg0.omega > 0 % If simulating FD data, run bulk fitting\n",
        "\n",
        "  sd = rbsdmap(cfg);\n",
        "  [newrecon,resid] = rbrun(cfg,recon,detphi0,sd,'mode','bulk','lambda',1e-5,'maxiter',3);\n",
        "\n",
        "else % If running CW data, assing bulk optical properties\n",
        "\n",
        "  % Bulk optical properties to be used\n",
        "  newrecon.param.hbo     = 10.1285;\n",
        "  newrecon.param.hbr     =  4.0769;\n",
        "  newrecon.param.scatamp = 1.9208e-06;\n",
        "  newrecon.param.scatpow =  0.9050;\n",
        "\n",
        "end\n",
        "\n",
        "recon.bulk = newrecon.param;\n",
        "recon.bulk"
      ],
      "metadata": {
        "collapsed": true,
        "id": "QC5AfU_RabgX",
        "outputId": "484eff46-5eba-4724-c539-9b027a307e22",
        "colab": {
          "base_uri": "https://localhost:8080/",
          "height": 191
        }
      },
      "execution_count": null,
      "outputs": [
        {
          "output_type": "display_data",
          "data": {
            "text/plain": [
              "[rbrun]: run bulk estimation ..."
            ]
          },
          "metadata": {}
        },
        {
          "output_type": "display_data",
          "data": {
            "text/plain": [
              "iter [   1]: residual=2.756980e-03, relres=1.000000e+00 lambda=1.000000e-05 (time=57.526543 s)"
            ]
          },
          "metadata": {}
        },
        {
          "output_type": "display_data",
          "data": {
            "text/plain": [
              "iter [   2]: residual=1.210116e-04, relres=4.389280e-02 lambda=1.000000e-05 (time=59.024033 s)"
            ]
          },
          "metadata": {}
        },
        {
          "output_type": "display_data",
          "data": {
            "text/plain": [
              "iter [   3]: residual=1.789328e-05, relres=6.490173e-03 lambda=1.000000e-05 (time=55.427860 s)"
            ]
          },
          "metadata": {}
        },
        {
          "output_type": "display_data",
          "data": {
            "text/plain": [
              "ans ="
            ]
          },
          "metadata": {}
        },
        {
          "output_type": "display_data",
          "data": {
            "text/plain": []
          },
          "metadata": {}
        },
        {
          "output_type": "display_data",
          "data": {
            "text/plain": [
              "  scalar structure containing the fields:"
            ]
          },
          "metadata": {}
        },
        {
          "output_type": "display_data",
          "data": {
            "text/plain": []
          },
          "metadata": {}
        },
        {
          "output_type": "display_data",
          "data": {
            "text/plain": [
              "    hbo = 9.9990"
            ]
          },
          "metadata": {}
        },
        {
          "output_type": "display_data",
          "data": {
            "text/plain": [
              "    hbr = 4.0159"
            ]
          },
          "metadata": {}
        },
        {
          "output_type": "display_data",
          "data": {
            "text/plain": [
              "    scatamp = 1.7545e-06"
            ]
          },
          "metadata": {}
        },
        {
          "output_type": "display_data",
          "data": {
            "text/plain": [
              "    scatpow = 0.9112"
            ]
          },
          "metadata": {}
        },
        {
          "output_type": "display_data",
          "data": {
            "text/plain": []
          },
          "metadata": {}
        }
      ]
    },
    {
      "cell_type": "markdown",
      "source": [
        "#### Run iterative reconstruction"
      ],
      "metadata": {
        "id": "D48CDBCqh7lu"
      }
    },
    {
      "cell_type": "code",
      "source": [
        "%%octave\n",
        "\n",
        "sd = rbsdmap(cfg);\n",
        "[reconMS,residMS,cfgMS] = rbrun(cfg,recon,detphi0,sd,'mode','image','lambda',1e-6,'maxiter',2);"
      ],
      "metadata": {
        "id": "epnWXPLQardA",
        "outputId": "62e6f1d2-b77f-48e8-f5c7-00e651e19a40",
        "colab": {
          "base_uri": "https://localhost:8080/",
          "height": 52
        }
      },
      "execution_count": null,
      "outputs": [
        {
          "output_type": "display_data",
          "data": {
            "text/plain": [
              "iter [   1]: residual=1.617281e-05, relres=1.000000e+00 lambda=1.000000e-06 (time=57.520539 s)"
            ]
          },
          "metadata": {}
        },
        {
          "output_type": "display_data",
          "data": {
            "text/plain": [
              "iter [   2]: residual=1.205503e-06, relres=7.453889e-02 lambda=1.000000e-06 (time=57.689512 s)"
            ]
          },
          "metadata": {}
        }
      ]
    },
    {
      "cell_type": "markdown",
      "source": [
        "#### Visualize reconstructed tomographic images"
      ],
      "metadata": {
        "id": "47tYtbGEnQr6"
      }
    },
    {
      "cell_type": "code",
      "source": [
        "%%octave\n",
        "\n",
        "% Generate a cross section slice of the domain\n",
        "[xi,yi]             = meshgrid(min(cfg.node(:,1),[],1):1:max(cfg.node(:,1),[],1),min(cfg.node(:,2),[],1):1:max(cfg.node(:,2),[],1));\n",
        "[cutpos,cutvalue,~] = qmeshcut(reconMS.elem,reconMS.node,(reconMS.param.hbo + reconMS.param.hbr),char(strcat('z =',num2str(s0(1,3)))));\n",
        "clear vphi\n",
        "vphi(:,:,1)         = griddata(cutpos(:,1),cutpos(:,2),cutvalue,xi,yi);\n",
        "\n",
        "figure,\n",
        "subplot(1,2,1);\n",
        "hold on,imagesc(vphi),colorbar,axis tight, axis equal\n",
        "for mm = 1:size(s0,1)\n",
        "    hold on,plot(1:size(vphi,2),s0(mm,2).*ones(1,size(vphi,2)),'LineWidth',4,'LineStyle','-.')\n",
        "end\n",
        "subplot(1,2,2)\n",
        "for mm = 1:size(s0,1)\n",
        "    hold on,plot(vphi(s0(mm,2),:))\n",
        "end"
      ],
      "metadata": {
        "id": "Vhw8tZnfavfq",
        "outputId": "fd10933a-655f-4516-e626-173ed5a0c36f",
        "colab": {
          "base_uri": "https://localhost:8080/",
          "height": 437
        }
      },
      "execution_count": null,
      "outputs": [
        {
          "output_type": "display_data",
          "data": {
            "image/png": "[encoded data removed]",
            "text/plain": [
              "<IPython.core.display.Image object>"
            ]
          },
          "metadata": {}
        }
      ]
    },
    {
      "cell_type": "markdown",
      "source": [
        "### CW/FD wide-field forward solutions\n",
        "\n",
        "First, we define the general setting to create the heterogenous domain along with a total of 32 wide-field source/detector patterns array (16 in the x-direction and 16 in the y-direction) in a transmission geometry. The optical properties of each domain segment is given as the combination of chromophores concentrations for $\\mu_a$ and scattering coefficients for $\\mu_s'$.\n",
        "\n",
        "We run a forward simulation on the heterogeneous domain (cfg0) to create simulated data (detphi0). Then, we create a homogeneous forward mesh (cfg) over which the inverse problem solution will be projected. We also create a sparse reconstruction mesh (recon) to speed up the Jacobian inversion and project those solutions over the forward mesh."
      ],
      "metadata": {
        "id": "gWfo7G0yqCDt"
      }
    },
    {
      "cell_type": "markdown",
      "source": [
        "#### Define general settings for Redbird-m simulation"
      ],
      "metadata": {
        "id": "-IVxzKJRol8n"
      }
    },
    {
      "cell_type": "code",
      "source": [
        "%%octave\n",
        "\n",
        "clear cfg0 cfg recon\n",
        "\n",
        "domsz = [100 100 40];     % Domain size\n",
        "s0    = [35, 65, 15 5;... % Central position xyz and radius of the inclusion (in mm)\n",
        "         60, 30, 15 5];\n",
        "\n",
        "% Bounding box w/ 2 inclusions\n",
        "resmesh = 5;\n",
        "[nobbx,elembbx] = meshgrid5(0:resmesh:domsz(1),0:resmesh:domsz(2),0:resmesh:domsz(3)); % Meshbox domain (in mm)\n",
        "fcbbx   = volface(elembbx);\n",
        "[nobbx,fcbbx] = removeisolatednode(nobbx,fcbbx);\n",
        "[nosp1,fcsp1] = meshasphere(s0(1,1:3),s0(1,4),1); % Sphare mesh location (s0, radious, maxvol)\n",
        "[nosp2,fcsp2] = meshasphere(s0(2,1:3),s0(2,4),1); % Sphare mesh location (s1, radious, maxvol)\n",
        "[no,fc]       = mergemesh(nobbx,fcbbx,nosp1,fcsp1,nosp2,fcsp2); % Merge meshbox and sphere meshes (FOR DUAL INCLUSION DOMAIN)\n",
        "[cfg0.node, cfg0.elem] = s2m(no,fc(:,1:3),1,25,'tetgen1.5',[11 1 1;s0(1,1:3);s0(2,1:3)]); % Generate measured/real heterogeneous domain\n",
        "clear nobbx elembbx fcbbx nosp1 fcsp1 nosp2 fcsp2 no fc\n",
        "\n",
        "% Visualize domain\n",
        "figure, plotmesh(cfg0.node, cfg0.elem,char(strcat('z<',num2str(s0(1,3)))))\n",
        "\n",
        "figure,plot(600:1000,rbextinction(600:1000,{'hbo','hbr','water','lipids'}))\n",
        "legend('hbo','hbr','water','lipids')\n",
        "xlabel('\\lambda (nm)')\n",
        "\n",
        "% General settings for RB simulations\n",
        "cfg0.param         = struct;       % Define multi-spectral optical properties [Bulk OPs Inclusion OPs]\n",
        "cfg0.param.hbo     = [10 20 20];\n",
        "cfg0.param.hbr     = [ 4  8  8];\n",
        "cfg0.param.scatamp = [1.6e-6 2.4e-6 2.4e-6];\n",
        "cfg0.param.scatpow = [0.9177 0.9177 0.9177];\n",
        "\n",
        "% Declare dummy optical properties field ('cfg0.prop') for letting the code know there will be two wavelengths.\n",
        "% Assigned values are not relevant but field of cfg0.prop are important to define what wavelengths to get simulated data.\n",
        "cfg0.prop        = containers.Map();  % if both prop and param are defined, param will overwrite prop\n",
        "cfg0.prop('690') = [0 0 1 1; 0.006 0.8 0 1.37; 0.012 1.0 0 1.37; 0.012 1.0 0 1.37];\n",
        "cfg0.prop('830') = [0 0 1 1; 0.006 0.8 0 1.37; 0.012 1.0 0 1.37; 0.012 1.0 0 1.37];\n",
        "\n",
        "mfreq      = 67 # @param [0, 67] {type:\"raw\"}\n",
        "cfg0.omega = mfreq*1e6*2*pi;\n",
        "\n",
        "% Define parameter for RB widefield simulation\n",
        "nBarpats   = 8; % Number of bar patterns in x/y directions\n",
        "srcpattern = diag(ones(1,nBarpats));\n",
        "srcpattern = permute(repmat(srcpattern,[1,1,size(srcpattern, 1)]),[2 3 1]);\n",
        "srcpattern = cat(3,srcpattern,permute(srcpattern,[2 1 3]));\n",
        "detpattern = srcpattern;\n",
        "cfg0.srctype    = 'pattern';\n",
        "cfg0.srcpos     = [20 20  0];\n",
        "cfg0.srcdir     = [ 0  0  1];\n",
        "cfg0.srcparam1  = [60  0 0 0];\n",
        "cfg0.srcparam2  = [ 0 60 0 0];\n",
        "cfg0.srcpattern = srcpattern;\n",
        "cfg0.srcweight  = ones(1,nBarpats*2);\n",
        "cfg0.dettype    = 'pattern';\n",
        "cfg0.detpos     = [20 20 domsz(3)];\n",
        "cfg0.detdir     = [ 0  0 -1];\n",
        "cfg0.detparam1  = [60  0  0 0];\n",
        "cfg0.detparam2  = [ 0 60  0 0];\n",
        "cfg0.detpattern = srcpattern;\n",
        "cfg0.detweight  = ones(1,nBarpats*2);\n",
        "\n",
        "cfg = cfg0;\n",
        "[cfg0,sd0] = rbmeshprep(cfg0);\n",
        "\n",
        "% Run RB forward simulation\n",
        "[detphi0,phi0] = rbrunforward(cfg0,'sd',sd0);\n",
        "\n",
        "% Set fwd mesh to be homogeneous\n",
        "cfg = rbsetmesh(cfg,cfg.node,cfg.elem,cfg.prop,ones(size(cfg.node,1),1));\n",
        "\n",
        "% Prepare recon mesh\n",
        "resmesh   = 5;\n",
        "[no,elem] = meshgrid5(0:resmesh:domsz(1),0:resmesh:domsz(2),0:resmesh:domsz(3)); % Meshbox domain (in mm)\n",
        "fc        = volface(elem);\n",
        "[no,fc]   = removeisolatednode(no,fc);\n",
        "[recon.node, recon.elem] = s2m(no,fc(:,1:3),1,50,'tetgen1.5');\n",
        "recon.elem = recon.elem(:,1:4);\n",
        "[recon.mapid,recon.mapweight] = tsearchn(recon.node,recon.elem(:,1:4),cfg.node);\n",
        "clear no elem fc\n",
        "\n",
        "% Visualize simulated data\n",
        "clear simdata wv\n",
        "wv = keys(detphi0);\n",
        "for mm = 1:size(detphi0,1)\n",
        "  simdata(:,mm) = reshape(detphi0(wv{mm}),[],1);\n",
        "end\n",
        "figure,plot(abs(simdata(:))),title('Channel-wise amplitude')\n",
        "if ~isreal(phi0)\n",
        "  figure,plot(angle(simdata(:))),title('Channel-wise phase')\n",
        "end\n"
      ],
      "metadata": {
        "id": "s51Ma8zOopbz",
        "outputId": "bc55e9ff-8f30-41d0-ba1b-39dcb783864f",
        "colab": {
          "base_uri": "https://localhost:8080/",
          "height": 1000
        }
      },
      "execution_count": null,
      "outputs": [
        {
          "output_type": "display_data",
          "data": {
            "text/plain": [
              "Surface Mesh Extraction Utility (Based on CGAL 3.8)"
            ]
          },
          "metadata": {}
        },
        {
          "output_type": "display_data",
          "data": {
            "text/plain": [
              "(modified for iso2mesh by Qianqian Fang)"
            ]
          },
          "metadata": {}
        },
        {
          "output_type": "display_data",
          "data": {
            "text/plain": [
              "http://iso2mesh.sf.net"
            ]
          },
          "metadata": {}
        },
        {
          "output_type": "display_data",
          "data": {
            "text/plain": []
          },
          "metadata": {}
        },
        {
          "output_type": "display_data",
          "data": {
            "text/plain": [
              "RNG seed 1648335518"
            ]
          },
          "metadata": {}
        },
        {
          "output_type": "display_data",
          "data": {
            "text/plain": [
              "set initial mesh size to 50"
            ]
          },
          "metadata": {}
        },
        {
          "output_type": "display_data",
          "data": {
            "text/plain": [
              "Refining... maximum node number is set to 40000"
            ]
          },
          "metadata": {}
        },
        {
          "output_type": "display_data",
          "data": {
            "text/plain": []
          },
          "metadata": {}
        },
        {
          "output_type": "display_data",
          "data": {
            "text/plain": [
              "done."
            ]
          },
          "metadata": {}
        },
        {
          "output_type": "display_data",
          "data": {
            "text/plain": [
              "Final number of points: 289"
            ]
          },
          "metadata": {}
        },
        {
          "output_type": "display_data",
          "data": {
            "text/plain": [
              "WARNING- Some triangles have been reversed to achieve orientation."
            ]
          },
          "metadata": {}
        },
        {
          "output_type": "display_data",
          "data": {
            "text/plain": [
              "Surface Mesh Extraction Utility (Based on CGAL 3.8)"
            ]
          },
          "metadata": {}
        },
        {
          "output_type": "display_data",
          "data": {
            "text/plain": [
              "(modified for iso2mesh by Qianqian Fang)"
            ]
          },
          "metadata": {}
        },
        {
          "output_type": "display_data",
          "data": {
            "text/plain": [
              "http://iso2mesh.sf.net"
            ]
          },
          "metadata": {}
        },
        {
          "output_type": "display_data",
          "data": {
            "text/plain": []
          },
          "metadata": {}
        },
        {
          "output_type": "display_data",
          "data": {
            "text/plain": [
              "RNG seed 1648335518"
            ]
          },
          "metadata": {}
        },
        {
          "output_type": "display_data",
          "data": {
            "text/plain": [
              "set initial mesh size to 50"
            ]
          },
          "metadata": {}
        },
        {
          "output_type": "display_data",
          "data": {
            "text/plain": [
              "Refining... maximum node number is set to 40000"
            ]
          },
          "metadata": {}
        },
        {
          "output_type": "display_data",
          "data": {
            "text/plain": []
          },
          "metadata": {}
        },
        {
          "output_type": "display_data",
          "data": {
            "text/plain": [
              "done."
            ]
          },
          "metadata": {}
        },
        {
          "output_type": "display_data",
          "data": {
            "text/plain": [
              "Final number of points: 289"
            ]
          },
          "metadata": {}
        },
        {
          "output_type": "display_data",
          "data": {
            "text/plain": [
              "WARNING- Some triangles have been reversed to achieve orientation."
            ]
          },
          "metadata": {}
        },
        {
          "output_type": "display_data",
          "data": {
            "text/plain": [
              "generating tetrahedral mesh from closed surfaces ..."
            ]
          },
          "metadata": {}
        },
        {
          "output_type": "display_data",
          "data": {
            "text/plain": [
              "creating volumetric mesh from a surface mesh ..."
            ]
          },
          "metadata": {}
        },
        {
          "output_type": "display_data",
          "data": {
            "text/plain": [
              "volume mesh generation is complete"
            ]
          },
          "metadata": {}
        },
        {
          "output_type": "display_data",
          "data": {
            "text/plain": [
              "ans = -49.471"
            ]
          },
          "metadata": {}
        },
        {
          "output_type": "display_data",
          "data": {
            "text/plain": [
              "mfreq = 67"
            ]
          },
          "metadata": {}
        },
        {
          "output_type": "display_data",
          "data": {
            "text/plain": [
              "generating tetrahedral mesh from closed surfaces ..."
            ]
          },
          "metadata": {}
        },
        {
          "output_type": "display_data",
          "data": {
            "text/plain": [
              "creating volumetric mesh from a surface mesh ..."
            ]
          },
          "metadata": {}
        },
        {
          "output_type": "display_data",
          "data": {
            "text/plain": [
              "volume mesh generation is complete"
            ]
          },
          "metadata": {}
        },
        {
          "output_type": "display_data",
          "data": {
            "image/png": "[encoded data removed]",
            "text/plain": [
              "<IPython.core.display.Image object>"
            ]
          },
          "metadata": {}
        },
        {
          "output_type": "display_data",
          "data": {
            "image/png": "[encoded data removed]",
            "text/plain": [
              "<IPython.core.display.Image object>"
            ]
          },
          "metadata": {}
        },
        {
          "output_type": "display_data",
          "data": {
            "image/png": "[encoded data removed]",
            "text/plain": [
              "<IPython.core.display.Image object>"
            ]
          },
          "metadata": {}
        },
        {
          "output_type": "display_data",
          "data": {
            "image/png": "[encoded data removed]",
            "text/plain": [
              "<IPython.core.display.Image object>"
            ]
          },
          "metadata": {}
        },
        {
          "output_type": "display_data",
          "data": {
            "image/png": "[encoded data removed]",
            "text/plain": [
              "<IPython.core.display.Image object>"
            ]
          },
          "metadata": {}
        },
        {
          "output_type": "display_data",
          "data": {
            "image/png": "[encoded data removed]",
            "text/plain": [
              "<IPython.core.display.Image object>"
            ]
          },
          "metadata": {}
        }
      ]
    },
    {
      "cell_type": "markdown",
      "source": [
        "#### Run bulk optical properties fitting\n",
        "\n",
        "If utilizing FD sources, we can then perform a bulk optical properties fitting to decouple absorption and reduce scatterring coefficients. Otherwise, set them to be the true background optical properties used to generate synthetic data.\n",
        "\n",
        "The bulk optical properties are then set as initial guess for launching the iterative reconstruction procedure."
      ],
      "metadata": {
        "id": "nxzoOUYDpka0"
      }
    },
    {
      "cell_type": "code",
      "source": [
        "%%octave\n",
        "\n",
        "% Set initial guess\n",
        "recon.bulk  = struct('hbo',8,'hbr',2,'scatamp',1.8e-6,'scatpow',0.9); % Required: this gives initial guesses\n",
        "recon.param = struct('hbo',8,'hbr',2,'scatamp',1.8e-6,'scatpow',0.9); % Required: this defines chromophores\n",
        "recon.prop  = containers.Map({'690','830'},{[],[]}); % Required: for wavelengths\n",
        "\n",
        "if strcmp(class(detphi0),'containers.Map') && cfg0.omega > 0 % If simulating FD data, run bulk fitting\n",
        "\n",
        "  sd = rbsdmap(cfg);\n",
        "  [newrecon,resid] = rbrun(cfg,recon,detphi0,sd,'mode','bulk','lambda',1e-5,'maxiter',3);\n",
        "\n",
        "else % If running CW data, assing bulk optical properties\n",
        "\n",
        "  % Bulk optical properties to be used\n",
        "  newrecon.param.hbo     = 10.1285;\n",
        "  newrecon.param.hbr     =  4.0769;\n",
        "  newrecon.param.scatamp = 1.9208e-06;\n",
        "  newrecon.param.scatpow =  0.9050;\n",
        "\n",
        "end\n",
        "\n",
        "recon.bulk = newrecon.param;\n",
        "recon.bulk"
      ],
      "metadata": {
        "id": "nvR0lujSpgjv",
        "outputId": "a98c360b-c3e6-45ac-d8bb-e55e2bc3bc17",
        "colab": {
          "base_uri": "https://localhost:8080/",
          "height": 191
        }
      },
      "execution_count": null,
      "outputs": [
        {
          "output_type": "display_data",
          "data": {
            "text/plain": [
              "[rbrun]: run bulk estimation ..."
            ]
          },
          "metadata": {}
        },
        {
          "output_type": "display_data",
          "data": {
            "text/plain": [
              "iter [   1]: residual=4.815369e-02, relres=1.000000e+00 lambda=1.000000e-05 (time=185.477872 s)"
            ]
          },
          "metadata": {}
        },
        {
          "output_type": "display_data",
          "data": {
            "text/plain": [
              "iter [   2]: residual=6.592608e-03, relres=1.369076e-01 lambda=1.000000e-05 (time=194.093799 s)"
            ]
          },
          "metadata": {}
        },
        {
          "output_type": "display_data",
          "data": {
            "text/plain": [
              "iter [   3]: residual=5.301295e-04, relres=1.100911e-02 lambda=1.000000e-05 (time=185.156181 s)"
            ]
          },
          "metadata": {}
        },
        {
          "output_type": "display_data",
          "data": {
            "text/plain": [
              "ans ="
            ]
          },
          "metadata": {}
        },
        {
          "output_type": "display_data",
          "data": {
            "text/plain": []
          },
          "metadata": {}
        },
        {
          "output_type": "display_data",
          "data": {
            "text/plain": [
              "  scalar structure containing the fields:"
            ]
          },
          "metadata": {}
        },
        {
          "output_type": "display_data",
          "data": {
            "text/plain": []
          },
          "metadata": {}
        },
        {
          "output_type": "display_data",
          "data": {
            "text/plain": [
              "    hbo = 10.083"
            ]
          },
          "metadata": {}
        },
        {
          "output_type": "display_data",
          "data": {
            "text/plain": [
              "    hbr = 4.0417"
            ]
          },
          "metadata": {}
        },
        {
          "output_type": "display_data",
          "data": {
            "text/plain": [
              "    scatamp = 1.7190e-06"
            ]
          },
          "metadata": {}
        },
        {
          "output_type": "display_data",
          "data": {
            "text/plain": [
              "    scatpow = 0.9128"
            ]
          },
          "metadata": {}
        },
        {
          "output_type": "display_data",
          "data": {
            "text/plain": []
          },
          "metadata": {}
        }
      ]
    },
    {
      "cell_type": "markdown",
      "source": [
        "#### Run iterative reconstruction"
      ],
      "metadata": {
        "id": "H69mlRvgppmW"
      }
    },
    {
      "cell_type": "code",
      "source": [
        "%%octave\n",
        "\n",
        "sd = rbsdmap(cfg);\n",
        "[reconMS,residMS,cfgMS] = rbrun(cfg,recon,detphi0,sd,'mode','image','lambda',1e-6,'maxiter',3);"
      ],
      "metadata": {
        "id": "kvabnymdpsuG",
        "outputId": "800ecbac-4975-4001-b8b5-5927e77f7fdd",
        "colab": {
          "base_uri": "https://localhost:8080/",
          "height": 17
        }
      },
      "execution_count": null,
      "outputs": [
        {
          "output_type": "display_data",
          "data": {
            "text/plain": []
          },
          "metadata": {}
        }
      ]
    },
    {
      "cell_type": "markdown",
      "source": [
        "#### Visualize reconstructed tomographic images"
      ],
      "metadata": {
        "id": "fOf0iV6bpwlu"
      }
    },
    {
      "cell_type": "code",
      "source": [
        "%%octave\n",
        "\n",
        "% Generate a cross section slice of the domain\n",
        "[xi,yi]             = meshgrid(min(cfg.node(:,1),[],1):1:max(cfg.node(:,1),[],1),min(cfg.node(:,2),[],1):1:max(cfg.node(:,2),[],1));\n",
        "[cutpos,cutvalue,~] = qmeshcut(reconMS.elem,reconMS.node,(reconMS.param.hbo + reconMS.param.hbr),char(strcat('z =',num2str(s0(1,3)))));\n",
        "vphi(:,:,1)         = griddata(cutpos(:,1),cutpos(:,2),cutvalue,xi,yi);\n",
        "\n",
        "figure,\n",
        "subplot(1,2,1),\n",
        "hold on,imagesc(vphi),colorbar,axis tight,axis equal\n",
        "for mm = 1:size(s0,1)\n",
        "    hold on,plot(1:size(vphi,2),s0(mm,2).*ones(1,size(vphi,2)),'LineWidth',4,'LineStyle','-.')\n",
        "end\n",
        "subplot(1,2,2)\n",
        "for mm = 1:size(s0,1)\n",
        "    hold on,plot(vphi(s0(mm,2),:))\n",
        "end"
      ],
      "metadata": {
        "id": "rCI-boNNpwO7"
      },
      "execution_count": null,
      "outputs": []
    },
    {
      "cell_type": "markdown",
      "source": [
        "### Combined FD point & CW wide-field forward solutions\n",
        "\n",
        "In this example we demonstrate the capability of Redbird-m to simulate combine source modulation methods to achieve multi-spectral, multi-modal tomography reconstructions.\n",
        "\n",
        "Inspired by our optical breast mammography device, here we use a combination of FD point-source array and a single FD detector with a CW wide-field source/detection pattern. We utilize both of these techniques to perform bulk tissue optical properties fitting, whereas only CW wide-field is used to perform reconstructions.\n",
        "\n",
        "Albeit here we introduce a specific combination for these techniques and optodes types, the user can perform any type of combinations depending on their applications and needs.\n",
        "\n",
        "First, we define the general setting to create the heterogenous domain. Then we define 9 FD point-sources and a single FD point-detector along with a total of 32 wide-field source/detector patterns array (16 in the x-direction and 16 in the y-direction) in a transmission geometry. The optical properties of each domain segment is given as the combination of chromophores concentrations for $\\mu_a$ and scattering coefficients for $\\mu_s'$.\n",
        "\n",
        "We run a forward simulation on the heterogeneous domain (cfg0) to create simulated data (detphi0). Then, we create a homogeneous forward mesh (cfg) over which the inverse problem solution will be projected. We also create a sparse reconstruction mesh (recon) to speed up the Jacobian inversion and project those solutions over the forward mesh."
      ],
      "metadata": {
        "id": "Fm81BqB8yy5b"
      }
    },
    {
      "cell_type": "markdown",
      "source": [
        "#### Define general settings for multi-spectral, multi-modal Redbird-m simulation"
      ],
      "metadata": {
        "id": "6mkCvsFC1B53"
      }
    },
    {
      "cell_type": "code",
      "source": [
        "%%octave\n",
        "\n",
        "clear cfg0 cfg recon\n",
        "\n",
        "domsz = [100 100 40];     % Domain size\n",
        "s0    = [35, 65, 15 5;... % Central position xyz and radius of the inclusion (in mm)\n",
        "         60, 30, 15 5];\n",
        "\n",
        "% Bounding box w/ 2 inclusions\n",
        "resmesh = 5;\n",
        "[nobbx,elembbx] = meshgrid5(0:resmesh:domsz(1),0:resmesh:domsz(2),0:resmesh:domsz(3)); % Meshbox domain (in mm)\n",
        "fcbbx   = volface(elembbx);\n",
        "[nobbx,fcbbx] = removeisolatednode(nobbx,fcbbx);\n",
        "[nosp1,fcsp1] = meshasphere(s0(1,1:3),s0(1,4),1); % Sphare mesh location (s0, radious, maxvol)\n",
        "[nosp2,fcsp2] = meshasphere(s0(2,1:3),s0(2,4),1); % Sphare mesh location (s1, radious, maxvol)\n",
        "[no,fc]       = mergemesh(nobbx,fcbbx,nosp1,fcsp1,nosp2,fcsp2); % Merge meshbox and sphere meshes (FOR DUAL INCLUSION DOMAIN)\n",
        "[cfg0.node, cfg0.elem] = s2m(no,fc(:,1:3),1,25,'tetgen1.5',[11 1 1;s0(1,1:3);s0(2,1:3)]); % Generate measured/real heterogeneous domain\n",
        "clear nobbx elembbx fcbbx nosp1 fcsp1 nosp2 fcsp2 no fc\n",
        "\n",
        "% Visualize domain\n",
        "figure, plotmesh(cfg0.node, cfg0.elem,char(strcat('z<',num2str(s0(1,3)))))\n",
        "\n",
        "figure,plot(600:1000,rbextinction(600:1000,{'hbo','hbr','water','lipids'}))\n",
        "legend('hbo','hbr','water','lipids')\n",
        "xlabel('\\lambda (nm)')\n",
        "\n",
        "% General settings for RB simulations\n",
        "cfg0.param         = struct;       % Define multi-spectral optical properties [Bulk OPs Inclusion OPs]\n",
        "cfg0.param.hbo     = [10 20 20];\n",
        "cfg0.param.hbr     = [ 4  8  8];\n",
        "cfg0.param.scatamp = [1.6e-6 2.4e-6 2.4e-6];\n",
        "cfg0.param.scatpow = [0.9177 0.9177 0.9177];\n",
        "\n",
        "% Declare dummy optical properties field ('cfg0.prop') for letting the code know there will be two wavelengths\n",
        "cfg0.prop        = containers.Map();  % if both prop and param are defined, param will ovewrite prop\n",
        "cfg0.prop('690') = [0 0 1 1; 0.006 0.8 0 1.37; 0.012 1.0 0 1.37; 0.012 1.0 0 1.37];\n",
        "cfg0.prop('830') = [0 0 1 1; 0.006 0.8 0 1.37; 0.012 1.0 0 1.37; 0.012 1.0 0 1.37];\n",
        "\n",
        "% Defien parameters for RB src/det point source\n",
        "nsrc        = [3 3]; % Number of src/det in xy axis\n",
        "[xi,yi]     = meshgrid(linspace(20,80,nsrc(1)),linspace(20,80,nsrc(2)));\n",
        "cfg0.srcpos = [xi(:),yi(:),zeros(numel(yi),1)];\n",
        "cfg0.detpos = [xi(:),yi(:),domsz(3)*ones(numel(yi),1)];\n",
        "cfg0.srcdir = [0 0  1];\n",
        "cfg0.detdir = [0 0 -1];\n",
        "\n",
        "% Define parameter for RB widefield simulation\n",
        "nBarpats   = 8; % Number of bar patterns in x/y directions\n",
        "srcpattern = diag(ones(1,nBarpats));\n",
        "srcpattern = permute(repmat(srcpattern,[1,1,size(srcpattern, 1)]),[2 3 1]);\n",
        "srcpattern = cat(3,srcpattern,permute(srcpattern,[2 1 3]));\n",
        "detpattern = srcpattern;\n",
        "cfg0.srctype    = 'pattern';\n",
        "cfg0.srcpos     = [cfg0.srcpos; 20 20  0];\n",
        "cfg0.srcid      = prod(nsrc) + 1;\n",
        "cfg0.srcdir     = [ 0  0  1];\n",
        "cfg0.srcparam1  = [60  0 0 0];\n",
        "cfg0.srcparam2  = [ 0 60 0 0];\n",
        "cfg0.srcpattern = srcpattern;\n",
        "cfg0.srcweight  = ones(1,nBarpats*2);\n",
        "cfg0.dettype    = 'pattern';\n",
        "cfg0.detpos     = [cfg0.detpos; 20 20 domsz(3)];\n",
        "cfg0.detid      = prod(nsrc) + 1;\n",
        "cfg0.detdir     = [ 0  0 -1];\n",
        "cfg0.detparam1  = [60  0  0 0];\n",
        "cfg0.detparam2  = [ 0 60  0 0];\n",
        "cfg0.detpattern = srcpattern;\n",
        "cfg0.detweight  = ones(1,nBarpats*2);\n",
        "\n",
        "% Define src/det types (RF or CW)\n",
        "cfg0.wavesrc  = containers.Map({'690','830'},{1:size(cfg0.srcpos,1),1:size(cfg0.srcpos,1)});\n",
        "cfg0.rfcw.src = containers.Map({ 'RF', 'CW'},{1:prod(nsrc)       ,prod(nsrc)+1});\n",
        "cfg0.wavedet  = containers.Map({'690','830'},{1:size(cfg0.detpos,1),1:size(cfg0.detpos,1)});\n",
        "cfg0.rfcw.det = containers.Map({ 'RF', 'CW'},{1:prod(nsrc)       ,prod(nsrc)+1});\n",
        "cfg0.omega    = containers.Map({'690','830'},{67.5e6*2*pi,75e6*2*pi});\n",
        "\n",
        "cfg = cfg0;\n",
        "[cfg0,sd0] = rbmeshprep(cfg0);\n",
        "\n",
        "% Run RB forward simulation\n",
        "rfcw = [1 2];\n",
        "[detphi0,phi0] = rbrunforward(cfg0,'sd',sd0,'rfcw',rfcw);\n",
        "\n",
        "% Set fwd mesh to be homogeneous\n",
        "cfg = rbsetmesh(cfg,cfg.node,cfg.elem,cfg.prop,ones(size(cfg.node,1),1));\n",
        "\n",
        "% Prepare recon mesh\n",
        "resmesh   = 5;\n",
        "[no,elem] = meshgrid5(0:resmesh:domsz(1),0:resmesh:domsz(2),0:resmesh:domsz(3)); % Meshbox domain (in mm)\n",
        "fc        = volface(elem);\n",
        "[no,fc]   = removeisolatednode(no,fc);\n",
        "[recon.node, recon.elem] = s2m(no,fc(:,1:3),1,50,'tetgen1.5');\n",
        "recon.elem = recon.elem(:,1:4);\n",
        "[recon.mapid,recon.mapweight] = tsearchn(recon.node,recon.elem(:,1:4),cfg.node);\n",
        "clear no elem fc\n"
      ],
      "metadata": {
        "id": "UXTk3iKf1eJF"
      },
      "execution_count": null,
      "outputs": []
    },
    {
      "cell_type": "markdown",
      "source": [
        "#### Run bulk optical properties fitting\n",
        "\n",
        "In here, we further constraing the bulk tissue opticals properties fitting problem by utilizing both FD point-source/detector information along with CW single-pixel information."
      ],
      "metadata": {
        "id": "OrkEuLeQ2asV"
      }
    },
    {
      "cell_type": "code",
      "source": [
        "%%octave\n",
        "\n",
        "% Set initial guess\n",
        "recon.bulk  = struct('hbo',8,'hbr',2,'scatamp',1.8e-6,'scatpow',0.9); % Required: this gives initial guesses\n",
        "recon.param = struct('hbo',8,'hbr',2,'scatamp',1.8e-6,'scatpow',0.9); % Required: this defines chromophores\n",
        "recon.prop  = containers.Map({'690','830'},{[],[]}); % Required: for wavelengths\n",
        "\n",
        "sd = rbsdmap(cfg);\n",
        "[newrecon,resid] = rbrun(cfg,recon,detphi0,sd,'mode','bulk','rfcw',rfcw,'lambda',1e-5,'maxiter',3);\n",
        "\n",
        "% Bulk optical properties to be used\n",
        "%newrecon.param.hbo     = 10.1285;\n",
        "%newrecon.param.hbr     =  4.0769;\n",
        "%newrecon.param.scatamp = 1.9208e-06;\n",
        "%newrecon.param.scatpow =  0.9050;\n",
        "\n",
        "recon.bulk = newrecon.param;\n",
        "recon.bulk"
      ],
      "metadata": {
        "id": "C80XNv0k2bFH"
      },
      "execution_count": null,
      "outputs": []
    },
    {
      "cell_type": "markdown",
      "source": [
        "#### Run iterative reconstruction\n",
        "\n",
        "Here we run tomographic reconstructions using only CW data, however, one can also use FD data to aid in constraining the problem. In this specific case, given the FD point-source/detector configuration, one does not gain nc=uch"
      ],
      "metadata": {
        "id": "MvZUwy463L7h"
      }
    },
    {
      "cell_type": "code",
      "source": [
        "%%octave\n",
        "\n",
        "sd = rbsdmap(cfg);\n",
        "[reconMS,residMS,cfgMS] = rbrun(cfg,recon,detphi0,sd,'mode','image','rfcw',2,'lambda',1e-6,'maxiter',3);"
      ],
      "metadata": {
        "id": "WXGvvTho3MPw"
      },
      "execution_count": null,
      "outputs": []
    },
    {
      "cell_type": "markdown",
      "source": [
        "#### Visualize reconstructed tomographic images"
      ],
      "metadata": {
        "id": "GEvtEnN14Fnz"
      }
    },
    {
      "cell_type": "code",
      "source": [
        "%%octave\n",
        "\n",
        "% Generate a cross section slice of the domain\n",
        "[xi,yi]             = meshgrid(min(cfg.node(:,1),[],1):1:max(cfg.node(:,1),[],1),min(cfg.node(:,2),[],1):1:max(cfg.node(:,2),[],1));\n",
        "[cutpos,cutvalue,~] = qmeshcut(reconMS.elem,reconMS.node,(reconMS.param.hbo + reconMS.param.hbr),char(strcat('z =',num2str(s0(1,3)))));\n",
        "vphi(:,:,1)         = griddata(cutpos(:,1),cutpos(:,2),cutvalue,xi,yi);\n",
        "\n",
        "figure,\n",
        "subplot(1,2,1),\n",
        "hold on,imagesc(vphi),colorbar,axis tight,axis equal\n",
        "for mm = 1:size(s0,1)\n",
        "    hold on,plot(1:size(vphi,2),s0(mm,2).*ones(1,size(vphi,2)),'LineWidth',4,'LineStyle','-.')\n",
        "end\n",
        "subplot(1,2,2)\n",
        "for mm = 1:size(s0,1)\n",
        "    hold on,plot(vphi(s0(mm,2),:))\n",
        "end"
      ],
      "metadata": {
        "id": "O_61X6mF4F8n"
      },
      "execution_count": null,
      "outputs": []
    }
  ]
}