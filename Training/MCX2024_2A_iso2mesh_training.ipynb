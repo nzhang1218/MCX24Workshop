{
  "cells": [
    {
      "cell_type": "markdown",
      "metadata": {
        "id": "view-in-github",
        "colab_type": "text"
      },
      "source": [
        "<a href=\"https://colab.research.google.com/github/COTILab/MCX24Workshop/blob/master/Training/MCX2024_2A_iso2mesh_training.ipynb\" target=\"_parent\"><img src=\"https://colab.research.google.com/assets/colab-badge.svg\" alt=\"Open In Colab\"/></a>"
      ]
    },
    {
      "cell_type": "markdown",
      "metadata": {
        "id": "ptMYeU1cGzsE"
      },
      "source": [
        "![Workshop Logo](https://mcx.space/wiki/upload/mcx24_logo.png)\n",
        "# MCX Training Workshop 2024 - Day 2, Session 2A\n",
        "\n",
        "## Session 2A: MMC and Iso2Mesh Training\n"
      ]
    },
    {
      "cell_type": "markdown",
      "metadata": {
        "id": "2S9sY9AlHwdm"
      },
      "source": [
        "# <font color='orange'>Step 0: Setting up MCX and Octave environments within Google Colab</font>\n",
        "\n",
        "> **You must rerun all cells in Step 0 in appearance order when you start a new session, or after reconnect to a runtime**\n",
        "\n",
        "To run interactive Octave sessions inside a Google Colab Jupyter Notebook environment, we need to install the following dependencies\n",
        "- GNU Octave via `sudo apt-get install octave`\n",
        "- Oct2py Python module via `pip install oct2py`, and\n",
        "- enable Oct2py in Jupyter Notebook via \"magic command\" `%load_ext oct2py.ipython`\n",
        "\n",
        "<font color='green'>If you run this on Google Colab, please go to menu **Edit\\Notebook Settings\\Hardware accelerator**, and verify if it has already selected \"GPU\"; if not, please select the T4 GPU.</font>\n",
        "\n",
        "**Please note**: MCX/MCXLAB is GPU-accelerated. This notebook by default requests an NVIDIA GPU. Howevever, when you click on the run-button for the below section, your browser may fail to allocate a GPU runtime and ask you if you want to continue with a non-GPU runtime. If you choose to proceed without GPU support, you will have to run the [section immediately following the next section](#mcx_setup_opencl) to install OpenCL-based MCXLAB (called mcxlabcl) and utilize the CPU to run the rest of the tutorials. The OpenCL version of MCXLAB will work for all examples, but will be substentially slower to run (this tutorial also reduces the photon numbers accordingly to lower the runtime)."
      ]
    },
    {
      "cell_type": "code",
      "execution_count": null,
      "metadata": {
        "id": "8QsyOOBgAxfA"
      },
      "outputs": [],
      "source": [
        "#@title Init 1: Initial setup of environment for running MCXLAB (run the below section once)\n",
        "\n",
        "# install octave and oct2py\n",
        "! apt-get update && apt-get install octave octave-image jq libpocl2 pocl-opencl-icd libnvidia-compute-535   # install octave (a free matlab clone), jq and OpenCL runtimes\n",
        "! python3 -m pip install oct2py jdata bjdata matplotlib plotly  # install oct2py, jdata, bjdata and matplotlib Python modules\n",
        "\n",
        "# add octave support to colab notebook\n",
        "%load_ext oct2py.ipython\n",
        "\n",
        "# download and unzip MCXStudio\n",
        "! rm -rf MCXStudio*\n",
        "! curl https://mcx.space/nightly/release/MCX24/MCXStudio-linux-x86_64-nightlybuild.zip -O MCXStudio-linux-x86_64-nightlybuild.zip # download MCX suite\n",
        "! unzip -o MCXStudio-linux-x86_64-nightlybuild.zip && rm -rf MCXStudio-linux-x86_64-nightlybuild.zip # unzip MCX suite\n",
        "\n",
        "# add executable to the shell's paths\n",
        "! cp -a \"$PWD/MCXStudio/MCXSuite/mcx/bin/mcx\" \"$PWD\"\n",
        "! cp -a \"$PWD/MCXStudio/MCXSuite/mcxcl/bin/mcxcl\" \"$PWD\"\n",
        "! cp -a \"$PWD/MCXStudio/MCXSuite/mmc/bin/mmc\" \"$PWD\"\n",
        "! cp -a \"$PWD/MCXStudio/MATLAB/zmat/octave/gnu-linux-x86_64/zipmat.mex\" \"$PWD/MCXStudio/MATLAB/zmat/\"\n",
        "\n",
        "! mv \"$PWD/MCXStudio/MCXWorkshop2024pyPlot\" \"$PWD\"\n",
        "! perl -pi -e 's/^plotmesh/%plotmesh/g' \"$PWD/MCXStudio/MATLAB/brain2mesh/examples/SPM_example_brain.m\"\n",
        "\n",
        "# if a GPU runtime can not be allocated, run this section to setup OpenCL and MCXLAB-CL\n",
        "! [[ ! -f `which nvidia-smi` ]] && mv \"$PWD/mcxcl\" \"$PWD/mcx\"\n",
        "! ./mcx -L"
      ]
    },
    {
      "cell_type": "markdown",
      "metadata": {
        "id": "3FuiSDH_w6Dh"
      },
      "source": [
        "### <font color='orange'>Init 2: Only need to run this once at the beginning</font>"
      ]
    },
    {
      "cell_type": "code",
      "execution_count": null,
      "metadata": {
        "id": "IWg8T2-5SwT4"
      },
      "outputs": [],
      "source": [
        "%%octave\n",
        "addpath([pwd filesep 'MCXStudio/MATLAB/mcxlab']);                 % add path to mcxlab\n",
        "addpath([pwd filesep 'MCXStudio/MCXSuite/mcx' filesep 'utils']);  % add path to mcx helper functions\n",
        "addpath([pwd filesep 'MCXStudio/MATLAB/mmclab']);                 % add path to mmclab\n",
        "addpath([pwd filesep 'MCXStudio/MCXSuite/mmc' filesep 'matlab']); % add path to mmc helper functions\n",
        "addpath([pwd filesep 'MCXStudio/MATLAB/iso2mesh']);               % add path to iso2mesh/jsonlab\n",
        "addpath([pwd filesep 'MCXStudio/MATLAB/brain2mesh']);             % add path to brain2mesh\n",
        "addpath([pwd filesep 'MCXStudio/MATLAB/redbird-m/matlab']);       % add path to redbird-m\n",
        "addpath([pwd filesep 'MCXStudio/MATLAB/zmat']);                   % add path to zmat for data compression\n",
        "addpath([pwd filesep 'MCXStudio/MATLAB/hyperspectral_demo']);     % add path to hyperspectral_demo for exec 4\n",
        "\n",
        "struct_levels_to_print(0);\n",
        "print_struct_array_contents(0);\n",
        "\n",
        "if(system('which nvidia-smi'))                   % if this runtime does not have NVIDIA GPU support\n",
        "    addpath([pwd filesep 'MCXStudio/MATLAB/mcxlabcl']);    % add path to mcxlabcl\n",
        "    USE_MCXCL=1;                                 % set USE_MCXCL flag in the base workspace\n",
        "end"
      ]
    },
    {
      "cell_type": "markdown",
      "metadata": {
        "id": "oPiJ3kcF4MK2"
      },
      "source": [
        "### <font color='orange'>Init 3: Verify your environments</font>\n",
        "\n",
        "---"
      ]
    },
    {
      "cell_type": "code",
      "execution_count": null,
      "metadata": {
        "colab": {
          "base_uri": "https://localhost:8080/",
          "height": 72
        },
        "id": "LnrnJOcJsQzW",
        "outputId": "f0c973bb-a100-46bf-debe-5aedaa1a967d"
      },
      "outputs": [
        {
          "data": {
            "text/plain": [
              "'mcx' is a function from the file /content/MCXStudio/MATLAB/mcxlab/mcx.mex"
            ]
          },
          "metadata": {},
          "output_type": "display_data"
        },
        {
          "data": {
            "text/plain": [
              "'s2m' is a function from the file /content/MCXStudio/MATLAB/iso2mesh/s2m.m"
            ]
          },
          "metadata": {},
          "output_type": "display_data"
        },
        {
          "data": {
            "text/plain": [
              "'zipmat' is a function from the file /content/MCXStudio/MATLAB/zmat/zipmat.mex"
            ]
          },
          "metadata": {},
          "output_type": "display_data"
        }
      ],
      "source": [
        "%%octave\n",
        "which mcx\n",
        "which s2m\n",
        "which zipmat\n",
        "\n",
        "%mcxlab('gpuinfo')     % use this command to list supported CPU or GPU in octave\n",
        "%unix('./mcx -L')        % use -L flag to list GPU in the command line"
      ]
    },
    {
      "cell_type": "markdown",
      "metadata": {
        "id": "fsD8lCZy6gUk"
      },
      "source": [
        "# Iso2mesh Primer\n",
        "\n",
        "Iso2Mesh is a compact, cross-platform 3-D mesh generation toolbox for MATLAB and GNU Octave.\n",
        "\n",
        "Iso2Mesh has the following major strengths\n",
        "\n",
        "- open-source, highly portable, cross-platform, works for MATLAB and Octave\n",
        "- easy to automate with intuitive APIs\n",
        "- 3-D image based surface and tetrahedral mesh generation\n",
        "  - binary image (0-1 valued)\n",
        "  - multi-labeled volume (integers, like mcx's volume)\n",
        "  - gray-scale volume (floating-point values)\n",
        "- easy-to-use: `vol2mesh`, `vol2surf`, `surf2mesh`, `surf2vol` ...\n",
        "- advanced surface mesh processing: `surfboolean`, `smoothsurf`, `remeshsurf`, `meshcheckrepair`, `meshrefine` ...\n",
        "- fast\n",
        "- high-qaulity tetrahedral mesh generation based on quality metrics\n",
        "- i2m GUI (matlab only)\n",
        "\n",
        "\n",
        "![Iso2mesh workflow](https://iso2mesh.sourceforge.net/upload/iso2mesh_workflow_v2.png)\n"
      ]
    },
    {
      "cell_type": "markdown",
      "metadata": {
        "id": "5Z_X2Apk6kxV"
      },
      "source": [
        "Iso2mesh offers comprehensive mesh generation, mesh processing and analysis functions, listed by groups below:\n",
        "\n",
        "##### **shortcut**:\n",
        " `v2m,v2s,s2m,s2v,m2v,sms,i2m`\n",
        "##### **main**:\n",
        " `vol2mesh,vol2surf,surf2mesh,surf2vol,mesh2vol,img2mesh`\n",
        "##### **backend**:\n",
        " `binsurface,cgalv2m,cgals2m,vol2restrictedtri,surf2volz,mesh2mask`\n",
        "##### **primitive**:\n",
        " `meshabox,meshasphere,meshanellip,meshunitsphere,meshacylinder,meshgrid5,meshgrid6,latticegrid,extrudecurve,meshcylinders`\n",
        "##### **mesh inquery**:\n",
        " `finddisconnsurf,surfedge,volface,extractloops,meshconn,meshcentroid,nodevolume,elemvolume,neighborelem,layersurf,faceneighbors,edgeneighbors,maxsurf,flatsegment,orderloopedge,mesheuler,bbxflatsegment,surfplane,surfinterior,surfpart, surfseeds,meshquality,meshedge,meshface,surfacenorm,nodesurfnorm, uniqedges,uniqfaces,advancefront,innersurf,outersurf,surfvolume\n",
        "insurface`\n",
        "##### **meshfix**:\n",
        "`meshcheckrepair,meshreorient,removedupelem,removedupnodes,removeisolatednode,removeisolatedsurf,surfaceclean,getintersecttri,delendelem,surfreorient`\n",
        "##### **metch (mesh registration)**:\n",
        "`proj2mesh,dist2surf,regpt2surf,affinemap,metchgui,metchgui_one`\n",
        "##### **remesh**:\n",
        "`meshresample,remeshsurf,smoothsurf,sortmesh,mergemesh,meshrefine,mergesurf,surfboolean,fillsurf,highordertet, elemfacecenter,barydualmesh,meshinterp,meshremap,extrudesurf`\n",
        "##### **polyline**:\n",
        "`slicesurf,slicesurf3,polylinelen,polylinesimplify,polylineinterp,closestnode`\n",
        "##### **fileio**:\n",
        "`saveasc,savedxf,savestl,savebinstl,saveinr,saveoff,savesmf,savesurfpoly,savegts,readgts,savemsh,savevrml,readasc,readinr,readmedit,readoff,readsmf,readtetgen,deletemeshfile,mcpath,mwpath,savemedit,savejson,loadjson,saveubjson,loadubjson,loadmsgpack,savemsgpack,savebj,loadbj,savemphtxt,savetetgenele,savetetgennode,saveabaqus, savenirfast,readnirfast,readnifti,readmptiff`\n",
        "##### **jdata/JSON data loading/saving**:\n",
        "`savejmesh,loadjnifti,savejnifti,loadnifti,savenifti,jdataencode,jdatadecode,jload,jsave,decodevarname,encodevarname,jnifticreate,nifticreate,nii2jnii,jnii2nii,niicodemap,niiformat,savebnii,savejnii`\n",
        "##### **data compression**:\n",
        "`zlibencode,zlibdecode,gzipencode,gzipdecode,lzmaencode,lzmadecode,lzipencode,lzipdecode,lz4encode,lz4decode,lz4hcencode,lz4hcdecode,base64decode,base64encode`\n",
        "##### **binary image**:`bwislands,fillholes3d,deislands2d,deislands3d,ndgaussian,ndimfilter, imedge3d,internalpoint,smoothbinvol,thickenbinvol,thinbinvol,maskdist`\n",
        "##### **plotting**:\n",
        "`plotmesh,plotsurf,plottetra,plotedges,qmeshcut`\n",
        "##### **misc**:\n",
        "`surfdiffuse,volmap2mesh,isoctavemesh,getvarfrom,raytrace,linextriangle,getplanefrom3pt,getexeext,fallbackexeext,iso2meshver,raysurf,getoptkey,rotatevec3d,rotmat2vec,varargin2struct,jsonopt,mergestruct,orthdisk,nestbracket2dim,fast_match_bracket,match_bracket,memmapstream`\n",
        "\n",
        "![iso2mesh main functions](https://iso2mesh.sourceforge.net/upload/iso2mesh_v1_functions.png)\n"
      ]
    },
    {
      "cell_type": "markdown",
      "metadata": {
        "id": "SPu7A3Mm4gBh"
      },
      "source": [
        "## Creating meshes from simple shape primititves\n",
        "\n",
        "---\n",
        "\n"
      ]
    },
    {
      "cell_type": "markdown",
      "metadata": {
        "id": "WkSGdx7tCNqX"
      },
      "source": [
        "The first thing to do is to list the usable GPU on your system. You should use `mcxlab('gpuinfo')`. If there is one or more GPU, you should see GPU information printed in the below cell."
      ]
    },
    {
      "cell_type": "code",
      "execution_count": null,
      "metadata": {
        "colab": {
          "base_uri": "https://localhost:8080/",
          "height": 510
        },
        "id": "on8LAT8o4Dra",
        "outputId": "3d782f2b-b3e6-4806-bd50-f9f59cd089e0"
      },
      "outputs": [
        {
          "data": {
            "text/plain": [
              "maxvol = 100"
            ]
          },
          "metadata": {},
          "output_type": "display_data"
        },
        {
          "data": {
            "text/plain": [
              "generating tetrahedral mesh from closed surfaces ..."
            ]
          },
          "metadata": {},
          "output_type": "display_data"
        },
        {
          "data": {
            "text/plain": [
              "creating volumetric mesh from a surface mesh ..."
            ]
          },
          "metadata": {},
          "output_type": "display_data"
        },
        {
          "data": {
            "text/plain": [
              "volume mesh generation is complete"
            ]
          },
          "metadata": {},
          "output_type": "display_data"
        },
        {
          "data": {
            "image/png": "[encoded data removed]",
            "text/plain": [
              "<IPython.core.display.Image object>"
            ]
          },
          "metadata": {},
          "output_type": "display_data"
        }
      ],
      "source": [
        "%%octave\n",
        "\n",
        "maxvol=100 # @param {type:\"slider\", min:4, max:200,step:1}\n",
        "\n",
        "[node, face, elem] = meshabox([0,0,0], [80,40, 30], maxvol);\n",
        "\n",
        "plotmesh(node, elem, 'x>30')"
      ]
    },
    {
      "cell_type": "code",
      "execution_count": null,
      "metadata": {
        "id": "NY9LsATreDuk"
      },
      "outputs": [],
      "source": [
        "%%octave -s 800,800\n",
        "\n",
        "max_tet_volume=200 # @param {type:\"slider\", min:10, max:200,step:1}\n",
        "\n",
        "[no,fc,seeds]=latticegrid([0 60], [0 50], [0, 5, 30]);\n",
        "\n",
        "seeds\n",
        "\n",
        "fc=cell2mat(fc);\n",
        "trifc=[fc(:,[1 2 3]); fc(:,[1 3 4])];\n",
        "\n",
        "figure(1)\n",
        "subplot(211)\n",
        "plotmesh(no, trifc);\n",
        "\n",
        "\n",
        "[node, elem]=s2m(no, trifc, 1, max_tet_volume, 'tetgen', seeds);\n",
        "\n",
        "subplot(212)\n",
        "plotmesh(node, elem)\n",
        "colorbar"
      ]
    },
    {
      "cell_type": "markdown",
      "metadata": {
        "id": "HoQp00dfTLgX"
      },
      "source": [
        "## Creating meshes from Boolean operations of simple shapes\n"
      ]
    },
    {
      "cell_type": "code",
      "execution_count": null,
      "metadata": {
        "id": "NfkMQOuxTReT"
      },
      "outputs": [],
      "source": [
        "%%octave -s 800,800\n",
        "\n",
        "% ceate object 1: a 2-layer z-lattice\n",
        "\n",
        "[no,fc,seeds]=latticegrid([0 60], [0 60], [0, 20, 50]);\n",
        "\n",
        "radbound=2 # @param {type:\"slider\", min:2, max:10,step:1}\n",
        "maxvol=100 # @param {type:\"slider\", min:4, max:200,step:1}\n",
        "zcylinder=35 % @param {type:\"slider\", min:4, max:50,step:1}\n",
        "\n",
        "fc=cell2mat(fc);\n",
        "trifc=[fc(:,[1 2 3]); fc(:,[1 3 4])];\n",
        "\n",
        "[nlayers, elayers, flayers]=s2m(no, trifc, 1, maxvol, 'tetgen', seeds);\n",
        "size(nlayers)\n",
        "\n",
        "[nlayers, flayers]=removeisolatednode(nlayers(:,1:3), flayers(:,1:3));\n",
        "size(nlayers)\n",
        "\n",
        "plotmesh(nlayers, flayers, 'y>10')\n",
        "\n",
        "\n",
        "% ceate object 2: a cylinder\n",
        "\n",
        "\n",
        "[ncyl,fcyl]=meshacylinder([30, -10, zcylinder],[30, 70, zcylinder], 10, radbound, maxvol,20);\n",
        "\n",
        "[ncyl,fcyl]=removeisolatednode(ncyl(:,1:3),fcyl(:,1:3));\n",
        "\n",
        "hold on\n",
        "plotmesh(ncyl, fcyl)\n",
        "\n",
        "set(gca, 'position', [0 0 1 1]);"
      ]
    },
    {
      "cell_type": "markdown",
      "metadata": {
        "id": "D7J6zhcghivY"
      },
      "source": [
        "`surfboolean(node1,face1, operator, node2,face2)` performs a boolean operation on two triangular surfaces (by calling [Cork](https://github.com/gilbo/cork) - a meshing utility).\n",
        "\n",
        "The supported operators include the typical\n",
        "- `'and'` (same as `'inter'`),\n",
        "- `'or'` (same as `'union'`),\n",
        "- `'diff'` (mesh1-mesh2), but also include more complex operators such as\n",
        "- `'resolve'` (union of mesh1 and mesh2 but also include all interior surfaces),\n",
        "- `'first'` (mesh1 plus portion of mesh2 inside of mesh1)\n",
        "- `'second'` (mesh2 plus portion of mesh1 inside of mesh2)\n",
        "\n",
        "for each of the above operator, a prepending `-` means the resulting mesh is post-processed with a remesh operation for more uniform triangles."
      ]
    },
    {
      "cell_type": "code",
      "execution_count": null,
      "metadata": {
        "id": "MArXraT-WGZy"
      },
      "outputs": [],
      "source": [
        "%%octave -s 800,800\n",
        "\n",
        "boolopt='first' # @param ['and','or','diff','first','second','resolve','-union','-resolve','-first','-second']\n",
        "\n",
        "[no, fc]=surfboolean(nlayers, flayers, boolopt, ncyl, fcyl);\n",
        "\n",
        "clf\n",
        "plotmesh(no, fc, 'y>40 | y<20');\n",
        "set(gca, 'position', [0 0 1 1]);"
      ]
    },
    {
      "cell_type": "markdown",
      "metadata": {
        "id": "XQqK2dinjIdD"
      },
      "source": [
        "`s2m` is the shortcut to `surf2mesh`, which is a wrapper to the powerful mesh generation software Tetgen for converting water-tight surface models into high quality tetrahedral meshes.\n",
        "```\n",
        "[node,elem,face]=s2m(v,f,keepratio,maxvol,method,regions,holes)\n",
        "```\n",
        "the `regions` input of s2m allows users to specify seeds - a 3D coordinate within a surface compartment - to label each isolated compartment of the output tetrahedral mesh."
      ]
    },
    {
      "cell_type": "code",
      "execution_count": null,
      "metadata": {
        "colab": {
          "base_uri": "https://localhost:8080/",
          "height": 999
        },
        "id": "lcV2eSMrYIAQ",
        "outputId": "7f422267-d3ad-421a-f2e9-3e71a11de8fb"
      },
      "outputs": [
        {
          "data": {
            "text/plain": [
              "maxvol = 100"
            ]
          },
          "metadata": {},
          "output_type": "display_data"
        },
        {
          "data": {
            "text/plain": [
              "regionseeds ="
            ]
          },
          "metadata": {},
          "output_type": "display_data"
        },
        {
          "data": {
            "text/plain": []
          },
          "metadata": {},
          "output_type": "display_data"
        },
        {
          "data": {
            "text/plain": [
              "   30   30   35"
            ]
          },
          "metadata": {},
          "output_type": "display_data"
        },
        {
          "data": {
            "text/plain": [
              "   30   30   10"
            ]
          },
          "metadata": {},
          "output_type": "display_data"
        },
        {
          "data": {
            "text/plain": [
              "   30   30   22"
            ]
          },
          "metadata": {},
          "output_type": "display_data"
        },
        {
          "data": {
            "text/plain": []
          },
          "metadata": {},
          "output_type": "display_data"
        },
        {
          "data": {
            "text/plain": [
              "holeseeds = [](0x0)"
            ]
          },
          "metadata": {},
          "output_type": "display_data"
        },
        {
          "data": {
            "text/plain": [
              "method = tetgen1.5"
            ]
          },
          "metadata": {},
          "output_type": "display_data"
        },
        {
          "data": {
            "text/plain": [
              "generating tetrahedral mesh from closed surfaces ..."
            ]
          },
          "metadata": {},
          "output_type": "display_data"
        },
        {
          "data": {
            "text/plain": [
              "creating volumetric mesh from a surface mesh ..."
            ]
          },
          "metadata": {},
          "output_type": "display_data"
        },
        {
          "data": {
            "text/plain": [
              "volume mesh generation is complete"
            ]
          },
          "metadata": {},
          "output_type": "display_data"
        },
        {
          "data": {
            "image/png": "[encoded data removed]",
            "text/plain": [
              "<IPython.core.display.Image object>"
            ]
          },
          "metadata": {},
          "output_type": "display_data"
        }
      ],
      "source": [
        "%%octave -s 800,800\n",
        "\n",
        "maxvol=100 # @param {type:\"slider\", min:4, max:200,step:1}\n",
        "regionseeds=[30,30,35; 30,30,10; 30,30,22] # @param ['[]', '[30,30,35; 30,30,10; 30,30,22]'] {type: \"raw\"}\n",
        "holeseeds=[] # @param ['[]', '[30,30,35]'] {type: \"raw\"}\n",
        "method='tetgen1.5' # @param ['tetgen', 'tetgen1.5']\n",
        "\n",
        "[node, elem]=s2m(no, fc, 1, maxvol, method, regionseeds, holeseeds);\n",
        "\n",
        "plotmesh(node, elem, 'x>25')\n",
        "colorbar\n",
        "\n",
        "set(gca, 'position', [0 0 1 1]);"
      ]
    },
    {
      "cell_type": "markdown",
      "metadata": {
        "id": "o2Bt0zvskOTo"
      },
      "source": [
        "## Creating meshes from binary volumes\n",
        "\n",
        "Image-based mesh-generation is one of the key features that Iso2Mesh offers.\n",
        "\n",
        "In this mesh-generation workflow, the input data is a 3-D binary array, integer array, or floating point array. Iso2Mesh can efficiently extract isosurfaces from the volume and create complex mesh models.\n",
        "\n",
        "Let's load a brain atlas (encoded in JSON) from NeuroJSON.io\n",
        "\n",
        "https://neurojson.org/db/fieldtrip(atlas)/FieldTrip--AAL--AAL1\n",
        "\n"
      ]
    },
    {
      "cell_type": "code",
      "execution_count": null,
      "metadata": {
        "id": "ORybhRYnly6C"
      },
      "outputs": [],
      "source": [
        "%%octave -s 800,800\n",
        "\n",
        "atlas = loadjson('https://neurojson.io:7777/fieldtrip(atlas)/FieldTrip--AAL--AAL1');\n",
        "img = atlas.tissue;\n",
        "\n",
        "size(img)\n",
        "unique(img(:))'\n",
        "\n",
        "\n",
        "% first, let's create a mesh of the entire brain: (img>0) is a binary volume\n",
        "\n",
        "radbound=4 # @param {type:\"slider\", min:2, max:20,step:1}\n",
        "maxvol=100 # @param {type:\"slider\", min:10, max:200,step:1}\n",
        "\n",
        "[node, elem]=v2m(img>0, 0.5, radbound, maxvol);\n",
        "node=node*2;\n",
        "\n",
        "plotmesh(node, elem)"
      ]
    },
    {
      "cell_type": "code",
      "execution_count": null,
      "metadata": {
        "id": "AaEO_Binpvnc"
      },
      "outputs": [],
      "source": [
        "%%octave -s 800,800\n",
        "\n",
        "radbound=5 # @param {type:\"slider\", min:2, max:20,step:1}\n",
        "maxvol=100 # @param {type:\"slider\", min:10, max:200,step:1}\n",
        "\n",
        "[no, fc]=v2s(img>0, 0.5, radbound);\n",
        "no=no*2;\n",
        "\n",
        "[node, elem]=s2m(no, fc, 1, maxvol);\n",
        "\n",
        "close all\n",
        "\n",
        "plotmesh(node, elem, 'z<120')"
      ]
    },
    {
      "cell_type": "markdown",
      "metadata": {
        "id": "cY81_RfMt2n1"
      },
      "source": [
        "when using the `cgalmesh` method with `v2m`, one can create multi-labeled mesh from a segmented volume (multi-labeled volume, similar to mcx's input volume)."
      ]
    },
    {
      "cell_type": "code",
      "execution_count": null,
      "metadata": {
        "id": "EwHxZmbKl82I"
      },
      "outputs": [],
      "source": [
        "%%octave -s 800,800\n",
        "\n",
        "img(img>60)=60;\n",
        "\n",
        "radbound=10 # @param {type:\"slider\", min:10, max:30,step:1}\n",
        "maxvol=100 # @param {type:\"slider\", min:10, max:200,step:1}\n",
        "\n",
        "tic\n",
        "[node, elem]=v2m(uint8(img), [], radbound, maxvol, 'cgalmesh');\n",
        "toc\n",
        "\n",
        "plotmesh(node, elem, 'z<120')"
      ]
    },
    {
      "cell_type": "markdown",
      "metadata": {
        "id": "ds3brYzluKpM"
      },
      "source": [
        "## High-quality head/brain mesh generation using Brain2Mesh\n",
        "\n",
        "Brain2Mesh (https://mcx.space/brain2mesh) is a small script built upon the Iso2Mesh meshing pipeline.\n",
        "\n",
        "Details please see\n",
        "\n",
        "> Tran AP+, Yan S+, Fang Q*, (2020) [“Improving model-based fNIRS analysis using mesh-based anatomical and light-transport models,\"](http://dx.doi.org/10.1117/1.NPh.7.1.015008) Neurophotonics, 7(1), 015008\n",
        "\n",
        "\n",
        "Brain2mesh is rather a specialized Iso2Mesh processing pipeline for handling multi-layered embedded shells of closed surfaces, such as our brain."
      ]
    },
    {
      "cell_type": "code",
      "execution_count": null,
      "metadata": {
        "id": "7I4M_GRnu4yn"
      },
      "outputs": [],
      "source": [
        "%%octave -s 800,800\n",
        "\n",
        "b2mfolder=fileparts(which('brain2mesh'));\n",
        "\n",
        "addpath([b2mfolder filesep 'examples']);\n",
        "\n",
        "pkg load image  % load the\n",
        "which imfill\n",
        "\n",
        "which SPM_example_brain\n",
        "\n",
        "% this will take about 4 min for brain mesh generation (brain2mesh call)\n",
        "% 1 second for brain1020 calculations\n",
        "% and another 1 min for rendering\n",
        "%% wait until the end\n",
        "\n",
        "SPM_example_brain\n",
        "\n",
        "whos"
      ]
    },
    {
      "cell_type": "code",
      "execution_count": null,
      "metadata": {
        "colab": {
          "base_uri": "https://localhost:8080/",
          "height": 35
        },
        "id": "2KmathfxIR7j",
        "outputId": "2dc16ef3-1d3b-4e55-efbe-edfa9db15ea7"
      },
      "outputs": [
        {
          "data": {
            "text/plain": [
              "Elapsed time is 4.12843 seconds."
            ]
          },
          "metadata": {},
          "output_type": "display_data"
        }
      ],
      "source": [
        "%%octave\n",
        "tic\n",
        "savejson('', struct('node', single(node), 'elem', uint32(elem), 'face', uint32(face)), 'filename', 'brainmesh.json', 'compression', 'zlib');\n",
        "toc"
      ]
    },
    {
      "cell_type": "code",
      "execution_count": null,
      "metadata": {
        "id": "dWB_dw2OTCQl"
      },
      "outputs": [],
      "source": [
        "import jdata as jd\n",
        "\n",
        "mesh=jd.load('brainmesh.json')\n",
        "mesh['face'][:,0:3]-=1\n",
        "\n",
        "print(mesh.keys())\n",
        "print(mesh['node'].shape)\n",
        "print(mesh['node'].dtype)\n",
        "print(mesh['face'].shape)\n",
        "print(mesh['face'].dtype)"
      ]
    },
    {
      "cell_type": "code",
      "execution_count": null,
      "metadata": {
        "colab": {
          "background_save": true
        },
        "id": "6C5aPEPzWudE"
      },
      "outputs": [],
      "source": [
        "import plotly.graph_objects as go\n",
        "fig = go.Figure()\n",
        "\n",
        "fig.add_trace(go.Mesh3d(\n",
        "    x=mesh['node'][:, 0],\n",
        "    y=mesh['node'][:, 1],\n",
        "    z=mesh['node'][:, 2],\n",
        "    i=mesh['face'][:, 0],\n",
        "    j=mesh['face'][:, 1],\n",
        "    k=mesh['face'][:, 2],\n",
        "    color='cyan',\n",
        "    opacity=0.5\n",
        "))\n",
        "fig.update_layout(xaxis_range=[0, 120])\n",
        "fig.show()"
      ]
    }
  ],
  "metadata": {
    "colab": {
      "provenance": [],
      "toc_visible": true,
      "authorship_tag": "ABX9TyOJPxMV/ZU6P9zEWI15qxcw",
      "include_colab_link": true
    },
    "kernelspec": {
      "display_name": "Python 3",
      "name": "python3"
    },
    "language_info": {
      "name": "python"
    }
  },
  "nbformat": 4,
  "nbformat_minor": 0
}