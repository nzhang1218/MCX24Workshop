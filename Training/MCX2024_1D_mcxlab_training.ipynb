{
  "nbformat": 4,
  "nbformat_minor": 0,
  "metadata": {
    "colab": {
      "provenance": [],
      "toc_visible": true,
      "gpuType": "T4",
      "authorship_tag": "ABX9TyORm7NssBGMOxVeteE2CEc+",
      "include_colab_link": true
    },
    "kernelspec": {
      "name": "python3",
      "display_name": "Python 3"
    },
    "language_info": {
      "name": "python"
    },
    "accelerator": "GPU"
  },
  "cells": [
    {
      "cell_type": "markdown",
      "metadata": {
        "id": "view-in-github",
        "colab_type": "text"
      },
      "source": [
        "<a href=\"https://colab.research.google.com/github/COTILab/MCX24Workshop/blob/master/Training/MCX2024_1D_mcxlab_training.ipynb\" target=\"_parent\"><img src=\"https://colab.research.google.com/assets/colab-badge.svg\" alt=\"Open In Colab\"/></a>"
      ]
    },
    {
      "cell_type": "markdown",
      "source": [
        "![Workshop Logo](https://mcx.space/wiki/upload/mcx24_logo.png)\n",
        "# MCX Training Workshop 2024 - Day 1, Session 1D\n",
        "\n",
        "## Session 1D: MCXLAB Training\n"
      ],
      "metadata": {
        "id": "ptMYeU1cGzsE"
      }
    },
    {
      "cell_type": "markdown",
      "source": [
        "# <font color='orange'>Step 0: Setting up MCX and Octave environments within Google Colab</font>\n",
        "\n",
        "> **You must rerun all cells in Step 0 in appearance order when you start a new session, or after reconnect to a runtime**\n",
        "\n",
        "To run interactive Octave sessions inside a Google Colab Jupyter Notebook environment, we need to install the following dependencies\n",
        "- GNU Octave via `sudo apt-get install octave`\n",
        "- Oct2py Python module via `pip install oct2py`, and\n",
        "- enable Oct2py in Jupyter Notebook via \"magic command\" `%load_ext oct2py.ipython`\n",
        "\n",
        "<font color='green'>If you run this on Google Colab, please go to menu **Edit\\Notebook Settings\\Hardware accelerator**, and verify if it has already selected \"GPU\"; if not, please select the T4 GPU.</font>\n",
        "\n",
        "**Please note**: MCX/MCXLAB is GPU-accelerated. This notebook by default requests an NVIDIA GPU. Howevever, when you click on the run-button for the below section, your browser may fail to allocate a GPU runtime and ask you if you want to continue with a non-GPU runtime. If you choose to proceed without GPU support, you will have to run the [section immediately following the next section](#mcx_setup_opencl) to install OpenCL-based MCXLAB (called mcxlabcl) and utilize the CPU to run the rest of the tutorials. The OpenCL version of MCXLAB will work for all examples, but will be substentially slower to run (this tutorial also reduces the photon numbers accordingly to lower the runtime)."
      ],
      "metadata": {
        "id": "2S9sY9AlHwdm"
      }
    },
    {
      "cell_type": "code",
      "execution_count": null,
      "metadata": {
        "id": "8QsyOOBgAxfA"
      },
      "outputs": [],
      "source": [
        "#@title <font color='orange'>Init 1: Initial setup of environment for running MCXLAB (run the below section once)</font>\n",
        "\n",
        "# install octave and oct2py\n",
        "! sudo apt-get update && sudo apt-get install octave jq libpocl2 pocl-opencl-icd libnvidia-compute-535   # install octave (a free matlab clone), jq and OpenCL runtimes\n",
        "! pip install oct2py jdata bjdata matplotlib   # install oct2py, jdata, bjdata and matplotlib Python modules\n",
        "\n",
        "# add octave support to colab notebook\n",
        "%load_ext oct2py.ipython\n",
        "\n",
        "# download and unzip mcxlab\n",
        "! rm -rf mcxlab*\n",
        "! wget https://mcx.space/nightly/release/MCX24/MCXStudio-linux-x86_64-nightlybuild.zip  # download MCX suite\n",
        "! unzip -o MCXStudio-linux-x86_64-nightlybuild.zip && rm -rf MCXStudio-linux-x86_64-nightlybuild.zip # unzip MCX suite\n",
        "\n",
        "# add executable to the shell's paths\n",
        "! sudo cp -a $PWD/MCXStudio/MCXSuite/mcx/bin/mcx /usr/local/bin\n",
        "! sudo cp -a $PWD/MCXStudio/MCXSuite/mcxcl/bin/mcxcl /usr/local/bin\n",
        "! sudo cp -a $PWD/MCXStudio/MCXSuite/mmc/bin/mmc /usr/local/bin\n",
        "! cp -a $PWD/MCXStudio/MATLAB/zmat/octave/gnu-linux-x86_64/zipmat.mex $PWD/MCXStudio/MATLAB/zmat/\n",
        "\n",
        "# if a GPU runtime can not be allocated, run this section to setup OpenCL and MCXLAB-CL\n",
        "! [[ ! -f `which nvidia-smi` ]] && sudo mv /usr/local/bin/mcxcl /usr/local/bin/mcx\n",
        "! mcx -L"
      ]
    },
    {
      "cell_type": "markdown",
      "source": [
        "### <font color='orange'>Init 2: Only need to run this once at the beginning</font>"
      ],
      "metadata": {
        "id": "3FuiSDH_w6Dh"
      }
    },
    {
      "cell_type": "code",
      "source": [
        "%%octave\n",
        "addpath([pwd filesep 'MCXStudio/MATLAB/mcxlab']);                 % add path to mcxlab\n",
        "addpath([pwd filesep 'MCXStudio/MCXSuite/mcx' filesep 'utils']);  % add path to mcx helper functions\n",
        "addpath([pwd filesep 'MCXStudio/MATLAB/mmclab']);                 % add path to mmclab\n",
        "addpath([pwd filesep 'MCXStudio/MCXSuite/mmc' filesep 'matlab']); % add path to mmc helper functions\n",
        "addpath([pwd filesep 'MCXStudio/MATLAB/iso2mesh']);               % add path to iso2mesh/jsonlab\n",
        "addpath([pwd filesep 'MCXStudio/MATLAB/brain2mesh']);             % add path to brain2mesh\n",
        "addpath([pwd filesep 'MCXStudio/MATLAB/zmat']);                   % add path to zmat for data compression\n",
        "addpath([pwd filesep 'MCXStudio/MATLAB/hyperspectral_demo']);     % add path to hyperspectral_demo for exec 4\n",
        "\n",
        "struct_levels_to_print(1);\n",
        "print_struct_array_contents(0);\n",
        "\n",
        "if(system('which nvidia-smi'))                   % if this runtime does not have NVIDIA GPU support\n",
        "    addpath([pwd filesep 'MCXStudio/MATLAB/mcxlabcl']);    % add path to mcxlabcl\n",
        "    USE_MCXCL=1;                                 % set USE_MCXCL flag in the base workspace\n",
        "end"
      ],
      "metadata": {
        "id": "IWg8T2-5SwT4"
      },
      "execution_count": null,
      "outputs": []
    },
    {
      "cell_type": "markdown",
      "source": [
        "### <font color='orange'>Init 3: Verify your environments</font>\n",
        "\n",
        "---"
      ],
      "metadata": {
        "id": "oPiJ3kcF4MK2"
      }
    },
    {
      "cell_type": "code",
      "source": [
        "%%octave\n",
        "which mcx\n",
        "which s2m\n",
        "which zipmat\n",
        "\n",
        "mcxlab('gpuinfo')     % use this command to list supported CPU or GPU in octave\n",
        "unix('mcx -L')        % use -L flag to list GPU in the command line"
      ],
      "metadata": {
        "id": "LnrnJOcJsQzW",
        "colab": {
          "base_uri": "https://localhost:8080/",
          "height": 843
        },
        "outputId": "462ffc1d-a50e-4591-fe52-d5d06d6251d3"
      },
      "execution_count": null,
      "outputs": [
        {
          "output_type": "display_data",
          "data": {
            "text/plain": [
              "'mcx' is a function from the file /content/MCXStudio/MATLAB/mcxlab/mcx.mex"
            ]
          },
          "metadata": {}
        },
        {
          "output_type": "display_data",
          "data": {
            "text/plain": [
              "'s2m' is a function from the file /content/MCXStudio/MATLAB/iso2mesh/s2m.m"
            ]
          },
          "metadata": {}
        },
        {
          "output_type": "display_data",
          "data": {
            "text/plain": [
              "'zipmat' is a function from the file /content/MCXStudio/MATLAB/zmat/zipmat.mex"
            ]
          },
          "metadata": {}
        },
        {
          "output_type": "display_data",
          "data": {
            "text/plain": [
              "=============================   GPU Information  ================================"
            ]
          },
          "metadata": {}
        },
        {
          "output_type": "display_data",
          "data": {
            "text/plain": [
              "Device 1 of 1:\t\tTesla T4"
            ]
          },
          "metadata": {}
        },
        {
          "output_type": "display_data",
          "data": {
            "text/plain": [
              "Compute Capability:\t7.5"
            ]
          },
          "metadata": {}
        },
        {
          "output_type": "display_data",
          "data": {
            "text/plain": [
              "Global Memory:\t\t15835660288 B"
            ]
          },
          "metadata": {}
        },
        {
          "output_type": "display_data",
          "data": {
            "text/plain": [
              "Constant Memory:\t65536 B"
            ]
          },
          "metadata": {}
        },
        {
          "output_type": "display_data",
          "data": {
            "text/plain": [
              "Shared Memory:\t\t49152 B"
            ]
          },
          "metadata": {}
        },
        {
          "output_type": "display_data",
          "data": {
            "text/plain": [
              "Registers:\t\t65536"
            ]
          },
          "metadata": {}
        },
        {
          "output_type": "display_data",
          "data": {
            "text/plain": [
              "Clock Speed:\t\t1.59 GHz"
            ]
          },
          "metadata": {}
        },
        {
          "output_type": "display_data",
          "data": {
            "text/plain": [
              "Number of SMs:\t\t40"
            ]
          },
          "metadata": {}
        },
        {
          "output_type": "display_data",
          "data": {
            "text/plain": [
              "Number of Cores:\t2560"
            ]
          },
          "metadata": {}
        },
        {
          "output_type": "display_data",
          "data": {
            "text/plain": [
              "Auto-thread:\t\t81920"
            ]
          },
          "metadata": {}
        },
        {
          "output_type": "display_data",
          "data": {
            "text/plain": [
              "Auto-block:\t\t64"
            ]
          },
          "metadata": {}
        },
        {
          "output_type": "display_data",
          "data": {
            "text/plain": [
              "ans ="
            ]
          },
          "metadata": {}
        },
        {
          "output_type": "display_data",
          "data": {
            "text/plain": []
          },
          "metadata": {}
        },
        {
          "output_type": "display_data",
          "data": {
            "text/plain": [
              "  scalar structure containing the fields:"
            ]
          },
          "metadata": {}
        },
        {
          "output_type": "display_data",
          "data": {
            "text/plain": []
          },
          "metadata": {}
        },
        {
          "output_type": "display_data",
          "data": {
            "text/plain": [
              "    name = Tesla T4"
            ]
          },
          "metadata": {}
        },
        {
          "output_type": "display_data",
          "data": {
            "text/plain": [
              "    id = 1"
            ]
          },
          "metadata": {}
        },
        {
          "output_type": "display_data",
          "data": {
            "text/plain": [
              "    devcount = 1"
            ]
          },
          "metadata": {}
        },
        {
          "output_type": "display_data",
          "data": {
            "text/plain": [
              "    major = 7"
            ]
          },
          "metadata": {}
        },
        {
          "output_type": "display_data",
          "data": {
            "text/plain": [
              "    minor = 5"
            ]
          },
          "metadata": {}
        },
        {
          "output_type": "display_data",
          "data": {
            "text/plain": [
              "    globalmem = 1.5836e+10"
            ]
          },
          "metadata": {}
        },
        {
          "output_type": "display_data",
          "data": {
            "text/plain": [
              "    constmem = 65536"
            ]
          },
          "metadata": {}
        },
        {
          "output_type": "display_data",
          "data": {
            "text/plain": [
              "    sharedmem = 49152"
            ]
          },
          "metadata": {}
        },
        {
          "output_type": "display_data",
          "data": {
            "text/plain": [
              "    regcount = 65536"
            ]
          },
          "metadata": {}
        },
        {
          "output_type": "display_data",
          "data": {
            "text/plain": [
              "    clock = 1590000"
            ]
          },
          "metadata": {}
        },
        {
          "output_type": "display_data",
          "data": {
            "text/plain": [
              "    sm = 40"
            ]
          },
          "metadata": {}
        },
        {
          "output_type": "display_data",
          "data": {
            "text/plain": [
              "    core = 2560"
            ]
          },
          "metadata": {}
        },
        {
          "output_type": "display_data",
          "data": {
            "text/plain": [
              "    autoblock = 64"
            ]
          },
          "metadata": {}
        },
        {
          "output_type": "display_data",
          "data": {
            "text/plain": [
              "    autothread = 81920"
            ]
          },
          "metadata": {}
        },
        {
          "output_type": "display_data",
          "data": {
            "text/plain": [
              "    maxgate = 0"
            ]
          },
          "metadata": {}
        },
        {
          "output_type": "display_data",
          "data": {
            "text/plain": []
          },
          "metadata": {}
        },
        {
          "output_type": "display_data",
          "data": {
            "text/plain": [
              "\u001b[34m=============================   GPU Information  ================================"
            ]
          },
          "metadata": {}
        },
        {
          "output_type": "display_data",
          "data": {
            "text/plain": [
              "\u001b[0mDevice 1 of 1:\t\tTesla T4"
            ]
          },
          "metadata": {}
        },
        {
          "output_type": "display_data",
          "data": {
            "text/plain": [
              "Compute Capability:\t7.5"
            ]
          },
          "metadata": {}
        },
        {
          "output_type": "display_data",
          "data": {
            "text/plain": [
              "Global Memory:\t\t15835660288 B"
            ]
          },
          "metadata": {}
        },
        {
          "output_type": "display_data",
          "data": {
            "text/plain": [
              "Constant Memory:\t65536 B"
            ]
          },
          "metadata": {}
        },
        {
          "output_type": "display_data",
          "data": {
            "text/plain": [
              "Shared Memory:\t\t49152 B"
            ]
          },
          "metadata": {}
        },
        {
          "output_type": "display_data",
          "data": {
            "text/plain": [
              "Registers:\t\t65536"
            ]
          },
          "metadata": {}
        },
        {
          "output_type": "display_data",
          "data": {
            "text/plain": [
              "Clock Speed:\t\t1.59 GHz"
            ]
          },
          "metadata": {}
        },
        {
          "output_type": "display_data",
          "data": {
            "text/plain": [
              "Number of SMs:\t\t40"
            ]
          },
          "metadata": {}
        },
        {
          "output_type": "display_data",
          "data": {
            "text/plain": [
              "Number of Cores:\t2560"
            ]
          },
          "metadata": {}
        },
        {
          "output_type": "display_data",
          "data": {
            "text/plain": [
              "Auto-thread:\t\t81920"
            ]
          },
          "metadata": {}
        },
        {
          "output_type": "display_data",
          "data": {
            "text/plain": [
              "Auto-block:\t\t64"
            ]
          },
          "metadata": {}
        },
        {
          "output_type": "display_data",
          "data": {
            "text/plain": []
          },
          "metadata": {}
        },
        {
          "output_type": "display_data",
          "data": {
            "text/plain": [
              "ans = 0"
            ]
          },
          "metadata": {}
        }
      ]
    },
    {
      "cell_type": "markdown",
      "source": [
        "# MCXLAB Primer\n",
        "\n",
        "MCXLAB is the **MATLAB/Octave wrapper/bindings** to the MCX GPU-based photon simulation codes.\n",
        "\n",
        "The mex file, `mcx.mex` (or `mcx.mexa64` etc) is basically a dynamic library similar to a .DLL file on Windows (or .so in Linux, or .dylib in MacOS), and is compiled using the identical CUDA/C-code as used to build the command line based MCX. As a result, the simulation is performed nearly identically. Aside from the MATLAB/Octave binding, we also provide the Python binding in the form of a binary Python module called `pmcx`. The idea is the same as MCXLAB, but an dynamic library interface that can be called in Python."
      ],
      "metadata": {
        "id": "fsD8lCZy6gUk"
      }
    },
    {
      "cell_type": "markdown",
      "source": [
        "The major difference between mcx executable, MCXLAB, and pmcx is the user input/output handling.\n",
        "\n",
        "- User inputs:\n",
        "  - MCX JSON input file -> MATLAB `cfg` struct\n",
        "  - input volume file -> `cfg.vol`\n",
        "  - command line options -> `cfg.issavedet`, `cfg.isreflect`, `cfg.isnormalized` ...\n",
        "- Data outputs: `[flux, detp, vol, seeds, traj]=mcxlab(cfg)`\n",
        "  - volumetric output (`session.jnii`) -> `flux.data`: first output of mcxlab\n",
        "  - detected photon output (`session_detp.jdat`) -> `detp.{detid, ppath, ...}`: second output of mcxlab\n",
        "  - trajectory output (`session_traj.jdat`) -> `traj.{id,p,w0}`: 5h output of mcxlab\n",
        "\n",
        "Below is a diagram showing the file-based input/output of MCX in the binary mode\n",
        "\n",
        "![MCX command line IO](https://mcx.space/wiki/upload/mcxlab-mcx_io.svg)\n",
        "\n",
        "\n",
        "In comparison, here is the diagram showing the input/output of MCXLAB (both input and outputs are in-memory variables)\n",
        "\n",
        "![MCXLAB IO](https://mcx.space/wiki/upload/mcxlab-io.svg)\n",
        "\n",
        "The below diagram showing more details of the input/output data fields of the `mcxlab` wrapper function\n",
        "\n",
        "![MCXLAB input/output](https://mcx.space/wiki/upload/mcxlab-cfg.svg)\n",
        "\n",
        "A mapping table between JSON-input-file fields, command line flags, and cfg data fields for MCX/MCXCL and MMC can be found below (click on the image to see enlarged image)\n",
        "\n",
        "<a href=\"http://mcx.space/wiki/upload/mcx_flags_list.png\"><img src=\"http://mcx.space/wiki/upload/mcx_flags_list.png\" width=\"1600\"></a>\n"
      ],
      "metadata": {
        "id": "5Z_X2Apk6kxV"
      }
    },
    {
      "cell_type": "markdown",
      "source": [
        "## A starter example\n",
        "\n",
        "---\n",
        "\n"
      ],
      "metadata": {
        "id": "SPu7A3Mm4gBh"
      }
    },
    {
      "cell_type": "markdown",
      "source": [
        "The first thing to do is to list the usable GPU on your system. You should use `mcxlab('gpuinfo')`. If there is one or more GPU, you should see GPU information printed in the below cell."
      ],
      "metadata": {
        "id": "WkSGdx7tCNqX"
      }
    },
    {
      "cell_type": "code",
      "source": [
        "%%octave\n",
        "\n",
        "gpus = mcxlab('gpuinfo')\n",
        "gpus.core"
      ],
      "metadata": {
        "id": "on8LAT8o4Dra"
      },
      "execution_count": null,
      "outputs": []
    },
    {
      "cell_type": "markdown",
      "source": [
        "Now you can run a simple simulation below"
      ],
      "metadata": {
        "id": "Y6zuqEAuDEaR"
      }
    },
    {
      "cell_type": "code",
      "source": [
        "%%octave\n",
        "clear cfg\n",
        "\n",
        "% make sure you terminate each statement by ';' so no excessive printing that could overwhelm the runtime\n",
        "\n",
        "%% the below fields are minimumally required to define an MCX simulation\n",
        "cfg.nphoton=1e6;                   % define how many photon packets to simulate\n",
        "\n",
        "%% define domain in the form of a labeled volume - each voxel is an integer denoting tissue type ID\n",
        "cfg.vol=uint8(ones(60,60,60));     % define a label-based volume - each voxel has a integer defining the medium type\n",
        "cfg.vol(20:40, 30:40, 20:30)=2;    % adding an inclusion by setting to a different label\n",
        "\n",
        "%% the optical properties of the i-th tissue type must be defined in the (i+1)-th row of cfg.prop\n",
        "cfg.prop=[0 0 1 1;                 % cfg.prop defines the optical properties, one medium per row; first row is for medium label 0 (background)\n",
        "          0.005 0.2 0 1.37;        % cfg.prop has 4 columns, in the order [mua(1/mm), mus(1/mm), g(anisotropy), n(ref index)]; 2nd row for medium type 1\n",
        "          0.1, 2, 0.9, 1];         % third row is for medium type 2, and so on\n",
        "\n",
        "%% a simulation must have source defined, default type is a pencil beam (cfg.srctype='pencil')\n",
        "cfg.issrcfrom0=1;                  % if this is not defined, cfg.srcpos and cfg.detpos will subtract 1 in x/y/z\n",
        "cfg.srcpos=[30 30 1];              % source position in voxel-units\n",
        "cfg.srcdir=[0 0 1];                % source direction (a unitary vector)\n",
        "cfg.detpos=[30,27,1,1];            % a detector that is 3 mm away from source with a radius 1 mm\n",
        "\n",
        "%% other key parameters\n",
        "cfg.tstart=0;                      % define the start time of the simulation (in s)\n",
        "cfg.tend=5e-9;                     % define the maximum duration of the photon packet (in s)\n",
        "cfg.tstep=1e-10;                   % this defines 50 time gates, (tend-tstart)/tstep; when tstep=tend, it defines a single time window, producing a CW solution\n",
        "\n",
        "%% cfg.gpuid specifies which GPU to use, default is the first GPU\n",
        "cfg.gpuid=1;                       % use the first GPU (default), can use strings of '01' masks to use multiple GPU, such as '0110'\n",
        "\n",
        "% reduce photon number on runtimes without a GPU (i.e. CPU only)\n",
        "if(exist('USE_MCXCL', 'var') && USE_MCXCL==1)  % if no GPU is found, run less photon on the CPU\n",
        "    cfg.nphoton=1e5;               % define how many photon packets to simulate\n",
        "end"
      ],
      "metadata": {
        "id": "0d6dXt38CMax"
      },
      "execution_count": null,
      "outputs": []
    },
    {
      "cell_type": "markdown",
      "source": [
        "Run the above simulation by calling `mcxlab()`\n",
        "\n",
        "Running this section for the first time can be slightly slow as CUDA needs to initialize the GPU device. Running again should take less than a second."
      ],
      "metadata": {
        "id": "UnGbmQ4GIAdQ"
      }
    },
    {
      "cell_type": "code",
      "source": [
        "%%octave\n",
        "\n",
        "flux=mcxlab(cfg);\n",
        "fieldnames(flux)\n",
        "\n",
        "size(flux.data)\n",
        "\n",
        "imagesc(log10(squeeze(flux.data(:,30,:))))\n",
        "colorbar\n",
        "axis equal"
      ],
      "metadata": {
        "id": "66jqqK8CDQyS"
      },
      "execution_count": null,
      "outputs": []
    },
    {
      "cell_type": "markdown",
      "source": [
        "## A starter+ example\n",
        "\n",
        "Let's go over the below updated cfg struct. A few additions were made compared to the earlier example\n",
        "\n",
        "-"
      ],
      "metadata": {
        "id": "pXoZ10R4DKdD"
      }
    },
    {
      "cell_type": "code",
      "source": [
        "%%octave\n",
        "clear cfg\n",
        "\n",
        "% make sure you terminate each statement by ';' so no excessive printing that could overwhelm the runtime\n",
        "\n",
        "%% the below fields are minimumally required to define an MCX simulation\n",
        "cfg.nphoton=1e7;                   % define how many photon packets to simulate\n",
        "\n",
        "%% define domain in the form of a labeled volume - each voxel is an integer denoting tissue type ID\n",
        "cfg.vol=uint8(zeros(60,60,60));     % define a label-based volume - each voxel has a integer defining the medium type\n",
        "cfg.vol(2:end-1,2:end-1,2:end-1)=1; % define a label-based volume - each voxel has a integer defining the medium type\n",
        "cfg.vol(20:40, 30:40, 20:30)=2;    % adding an inclusion by setting to a different label\n",
        "\n",
        "%% save diffuse reflectanct at z=0 plane - total light escaped from the bottom plane\n",
        "cfg.issaveref=1;                   % save diffuse reflectance - can only save to the 0-valued voxel next to a boundary\n",
        "\n",
        "%% the below two settings allow us to verify energy-conservation in MCX\n",
        "cfg.isnormalized=0;                % disable normalization\n",
        "cfg.outputtype='energy';           % save energy deposition\n",
        "cfg.isspecular=0;                  % save energy deposition\n",
        "\n",
        "%% the optical properties of the i-th tissue type must be defined in the (i+1)-th row of cfg.prop\n",
        "cfg.prop=[0 0 1 1;                 % cfg.prop defines the optical properties, one medium per row; first row is for medium label 0 (background)\n",
        "          0.005 0.2 0 1.37;          % cfg.prop has 4 columns, in the order [mua(1/mm), mus(1/mm), g(anisotropy), n(ref index)]; 2nd row for medium type 1\n",
        "          0.1, 2, 0.9, 1];        % third row is for medium type 2, and so on\n",
        "\n",
        "%% a simulation must have source defined, default type is a pencil beam (cfg.srctype='pencil')\n",
        "cfg.issrcfrom0=1;                  % if this is not defined, cfg.srcpos and cfg.detpos will subtract 1 in x/y/z\n",
        "cfg.srcpos=[30 30 1];              % source position in voxel-units\n",
        "cfg.srcdir=[0 0 1];                % source direction (a unitary vector)\n",
        "cfg.detpos=[30,27,1,1];            % a detector that is 3 mm away from source with a radius 1 mm\n",
        "\n",
        "%% other key parameters\n",
        "cfg.tstart=0;                      % define the start time of the simulation (in s)\n",
        "cfg.tend=5e-9;                     % define the maximum duration of the photon packet (in s)\n",
        "cfg.tstep=1e-10;                   % this defines 50 time gates, (tend-tstart)/tstep; when tstep=tend, it defines a single time window, producing a CW solution\n",
        "\n",
        "%% cfg.gpuid specifies which GPU to use, default is the first GPU\n",
        "cfg.gpuid=1;                       % use the first GPU (default), can use strings of '01' masks to use multiple GPU, such as '0110'\n",
        "\n",
        "% reduce photon number on runtimes without a GPU (i.e. CPU only)\n",
        "if(exist('USE_MCXCL', 'var') && USE_MCXCL==1)  % if no GPU is found, run less photon on the CPU\n",
        "    cfg.nphoton=1e5;               % define how many photon packets to simulate\n",
        "end"
      ],
      "metadata": {
        "id": "K-nfG2mOTeXl"
      },
      "execution_count": null,
      "outputs": []
    },
    {
      "cell_type": "markdown",
      "source": [
        "Run below cell"
      ],
      "metadata": {
        "id": "dAT-8UBA4t62"
      }
    },
    {
      "cell_type": "code",
      "source": [
        "%%octave\n",
        "% calculate the flux distribution with the given config\n",
        "flux=mcxlab(cfg);\n",
        "\n",
        "fieldnames(flux)\n",
        "\n",
        "% flux.stat records some basic simulation\n",
        "flux.stat\n",
        "size(flux.data)\n",
        "\n",
        "cwfluence=sum(flux.data, 4);\n",
        "contourf(log10(squeeze(cwfluence(30,:,:))), 30);\n",
        "axis equal\n",
        "colorbar\n",
        "colormap('jet')\n",
        "\n",
        "%% show (unnormalized) diffuse reflectance at z=0 plane\n",
        "size(flux.dref)\n",
        "dref=sum(flux.dref, 4); % sum the 4th dimension, whcih is time-gates, providing the CW solution\n",
        "figure;\n",
        "contourf(log10(dref(:,:,1)),20)\n",
        "\n",
        "%% verify energy deposition\n",
        "total_absorbed=sum(flux.data(:))\n",
        "total_escaped=sum(flux.dref(:))\n",
        "total_launched=total_absorbed + total_escaped"
      ],
      "metadata": {
        "id": "4hZ1NoSITqlT"
      },
      "execution_count": null,
      "outputs": []
    },
    {
      "cell_type": "markdown",
      "source": [
        "## Exec 1 - Using sources sources and source control"
      ],
      "metadata": {
        "id": "_Ztn3lu1L6U-"
      }
    },
    {
      "cell_type": "code",
      "source": [
        "%%octave\n",
        "clear cfg\n",
        "\n",
        "% make sure you terminate each statement by ';' so no excessive printing that could overwhelm the runtime\n",
        "\n",
        "cfg.nphoton=200;\n",
        "cfg.tstart=0;\n",
        "cfg.tend=5e-9;\n",
        "cfg.tstep=5e-9;\n",
        "\n",
        "% define the domain using shapes descriptors\n",
        "\n",
        "cfg.shapes= '{\"Shapes\":[{\"Grid\":{\"Tag\":1,\"Size\":[40,60,30]}},{\"Sphere\":{\"Tag\":2,\"O\":[20,30,10],\"R\":10}}]}';\n",
        "cfg.prop=[0, 0, 1, 1; 0, 0, 1, 1.37; 0, 0.01, 0, 1.37];\n",
        "\n",
        "cfg.isreflect=0;\n",
        "cfg.issrcfrom0=1;\n",
        "cfg.isspecular=0;\n",
        "\n",
        "% below are the primary options for controlling source behaviors\n",
        "srctype='disk' # @param [\"pencil\", \"isotropic\", \"cone\", \"gaussian\", \"planar\",\"fourier\", \"arcsine\", \"disk\", \"fourierx\", \"fourierx2d\", \"zgaussian\", \"line\", \"slit\", \"pencilarray\", \"hyperboloid\", \"ring\"]\n",
        "focallength=10  # @param {type:\"raw\", note:\"nan for isotropic launch, -inf for Lambertian launch, positive for converting, negative for diverging\"}\n",
        "launchweight=1   # @param {type:'number'}\n",
        "srcpos=[10, 0, 10] # @param {type: \"raw\"}\n",
        "srcdir=[0, 1, 0]       # @param {type: \"raw\"}\n",
        "srcparam1=[4, 0, 0, 0] # @param {type: \"raw\"}\n",
        "srcparam2=[0, 0, 0, 0] # @param {type: \"raw\"}\n",
        "\n",
        "cfg.srctype=srctype;\n",
        "cfg.srcpos=[srcpos,launchweight];\n",
        "cfg.srcdir=[srcdir,focallength];\n",
        "cfg.srcparam1=srcparam1;\n",
        "cfg.srcparam2=srcparam2;\n"
      ],
      "metadata": {
        "id": "REiQjjAuMDet"
      },
      "execution_count": null,
      "outputs": []
    },
    {
      "cell_type": "code",
      "source": [
        "%%octave\n",
        "\n",
        "cfg.debuglevel='T';\n",
        "traj=mcxlab(cfg);"
      ],
      "metadata": {
        "id": "GB7POiQWM21P"
      },
      "execution_count": null,
      "outputs": []
    },
    {
      "cell_type": "code",
      "source": [
        "%%octave -f svg\n",
        "sortedlines=mcxplotphotons(traj, 'marker','.', 'markersize', 3, 'markeredgecolor', 'r');\n",
        "axis equal\n",
        "set(gca, 'position', [0 0 1 1]);\n",
        "hold on;\n",
        "\n",
        "shapes=loadjson(cfg.shapes);\n",
        "[sx,sy,sz]=sphere(10);\n",
        "\n",
        "R=shapes.Shapes{2}.Sphere.R;\n",
        "C0=shapes.Shapes{2}.Sphere.O;\n",
        "surf(sx*R+C0(1), sy*R+C0(2), sz*R+C0(3), 'facecolor', 'none')\n",
        "set(gca, 'position', [0 0 1 1]);"
      ],
      "metadata": {
        "colab": {
          "base_uri": "https://localhost:8080/",
          "height": 440
        },
        "id": "SFPa0q_5Vsv7",
        "outputId": "138bf24f-5c6b-42e7-9b57-c0f55e04cf96"
      },
      "execution_count": null,
      "outputs": [
        {
          "output_type": "display_data",
          "data": {
            "text/plain": [
              "<IPython.core.display.SVG object>"
            ],
            "image/svg+xml": "<svg xmlns=\"http://www.w3.org/2000/svg\" xmlns:xlink=\"http://www.w3.org/1999/xlink\" width=\"560px\" height=\"420px\" viewBox=\"0 0 560 420\">\n\n<title>Gnuplot</title>\n<desc>Produced by GNUPLOT 5.4 patchlevel 2 </desc>\n\n<g id=\"gnuplot_canvas\">\n\n<rect x=\"0\" y=\"0\" width=\"560\" height=\"420\" fill=\"none\"/>\n<defs>\n\n\t<circle id=\"gpDot\" r=\"0.5\" stroke-width=\"0.5\" stroke=\"currentColor\"/>\n\t<path id=\"gpPt0\" stroke-width=\"0.222\" stroke=\"currentColor\" d=\"M-1,0 h2 M0,-1 v2\"/>\n\t<path id=\"gpPt1\" stroke-width=\"0.222\" stroke=\"currentColor\" d=\"M-1,-1 L1,1 M1,-1 L-1,1\"/>\n\t<path id=\"gpPt2\" stroke-width=\"0.222\" stroke=\"currentColor\" d=\"M-1,0 L1,0 M0,-1 L0,1 M-1,-1 L1,1 M-1,1 L1,-1\"/>\n\t<rect id=\"gpPt3\" stroke-width=\"0.222\" stroke=\"currentColor\" x=\"-1\" y=\"-1\" width=\"2\" height=\"2\"/>\n\t<rect id=\"gpPt4\" stroke-width=\"0.222\" stroke=\"currentColor\" fill=\"currentColor\" x=\"-1\" y=\"-1\" width=\"2\" height=\"2\"/>\n\t<circle id=\"gpPt5\" stroke-width=\"0.222\" stroke=\"currentColor\" cx=\"0\" cy=\"0\" r=\"1\"/>\n\t<use xlink:href=\"#gpPt5\" id=\"gpPt6\" fill=\"currentColor\" stroke=\"none\"/>\n\t<path id=\"gpPt7\" stroke-width=\"0.222\" stroke=\"currentColor\" d=\"M0,-1.33 L-1.33,0.67 L1.33,0.67 z\"/>\n\t<use xlink:href=\"#gpPt7\" id=\"gpPt8\" fill=\"currentColor\" stroke=\"none\"/>\n\t<use xlink:href=\"#gpPt7\" id=\"gpPt9\" stroke=\"currentColor\" transform=\"rotate(180)\"/>\n\t<use xlink:href=\"#gpPt9\" id=\"gpPt10\" fill=\"currentColor\" stroke=\"none\"/>\n\t<use xlink:href=\"#gpPt3\" id=\"gpPt11\" stroke=\"currentColor\" transform=\"rotate(45)\"/>\n\t<use xlink:href=\"#gpPt11\" id=\"gpPt12\" fill=\"currentColor\" stroke=\"none\"/>\n\t<path id=\"gpPt13\" stroke-width=\"0.222\" stroke=\"currentColor\" d=\"M0,1.330 L1.265,0.411 L0.782,-1.067 L-0.782,-1.076 L-1.265,0.411 z\"/>\n\t<use xlink:href=\"#gpPt13\" id=\"gpPt14\" fill=\"currentColor\" stroke=\"none\"/>\n\t<filter id=\"textbox\" filterUnits=\"objectBoundingBox\" x=\"0\" y=\"0\" height=\"1\" width=\"1\">\n\t  <feFlood flood-color=\"white\" flood-opacity=\"1\" result=\"bgnd\"/>\n\t  <feComposite in=\"SourceGraphic\" in2=\"bgnd\" operator=\"atop\"/>\n\t</filter>\n\t<filter id=\"greybox\" filterUnits=\"objectBoundingBox\" x=\"0\" y=\"0\" height=\"1\" width=\"1\">\n\t  <feFlood flood-color=\"lightgrey\" flood-opacity=\"1\" result=\"grey\"/>\n\t  <feComposite in=\"SourceGraphic\" in2=\"grey\" operator=\"atop\"/>\n\t</filter>\n</defs>\n<g fill=\"none\" color=\"white\" stroke=\"currentColor\" stroke-width=\"1.00\" stroke-linecap=\"butt\" stroke-linejoin=\"miter\">\n</g>\n<g fill=\"none\" color=\"black\" stroke=\"currentColor\" stroke-width=\"1.00\" stroke-linecap=\"butt\" stroke-linejoin=\"miter\">\n</g>\n<g fill=\"none\" color=\"black\" stroke=\"currentColor\" stroke-width=\"1.00\" stroke-linecap=\"butt\" stroke-linejoin=\"miter\">\n</g>\n<g fill=\"none\" color=\"black\" stroke=\"currentColor\" stroke-width=\"1.00\" stroke-linecap=\"butt\" stroke-linejoin=\"miter\">\n\t<path stroke=\"rgb(  0,   0,   0)\" d=\"M104.42,306.89 L104.42,90.00  \"/></g>\n<g fill=\"none\" color=\"black\" stroke=\"currentColor\" stroke-width=\"1.00\" stroke-linecap=\"butt\" stroke-linejoin=\"miter\">\n\t<path stroke=\"rgb(  0,   0,   0)\" d=\"M273.44,399.88 L281.11,404.88  \"/>\t<g transform=\"translate(286.22,415.26)\" stroke=\"none\" fill=\"rgb(38,38,38)\" font-family=\"Arial\" font-size=\"10.00\" text-anchor=\"middle\">\n\t\t<text><tspan font-family=\"Arial\">-10</tspan></text>\n\t</g>\n</g>\n<g fill=\"none\" color=\"black\" stroke=\"currentColor\" stroke-width=\"1.00\" stroke-linecap=\"butt\" stroke-linejoin=\"miter\">\n</g>\n<g fill=\"none\" color=\"black\" stroke=\"currentColor\" stroke-width=\"1.00\" stroke-linecap=\"butt\" stroke-linejoin=\"miter\">\n\t<path stroke=\"rgb(  0,   0,   0)\" d=\"M306.55,387.18 L314.22,392.18  \"/>\t<g transform=\"translate(319.33,402.56)\" stroke=\"none\" fill=\"rgb(38,38,38)\" font-family=\"Arial\" font-size=\"10.00\" text-anchor=\"middle\">\n\t\t<text><tspan font-family=\"Arial\">0</tspan></text>\n\t</g>\n</g>\n<g fill=\"none\" color=\"black\" stroke=\"currentColor\" stroke-width=\"1.00\" stroke-linecap=\"butt\" stroke-linejoin=\"miter\">\n</g>\n<g fill=\"none\" color=\"black\" stroke=\"currentColor\" stroke-width=\"1.00\" stroke-linecap=\"butt\" stroke-linejoin=\"miter\">\n\t<path stroke=\"rgb(  0,   0,   0)\" d=\"M339.67,374.47 L347.34,379.47  \"/>\t<g transform=\"translate(352.44,389.85)\" stroke=\"none\" fill=\"rgb(38,38,38)\" font-family=\"Arial\" font-size=\"10.00\" text-anchor=\"middle\">\n\t\t<text><tspan font-family=\"Arial\">10</tspan></text>\n\t</g>\n</g>\n<g fill=\"none\" color=\"black\" stroke=\"currentColor\" stroke-width=\"1.00\" stroke-linecap=\"butt\" stroke-linejoin=\"miter\">\n</g>\n<g fill=\"none\" color=\"black\" stroke=\"currentColor\" stroke-width=\"1.00\" stroke-linecap=\"butt\" stroke-linejoin=\"miter\">\n\t<path stroke=\"rgb(  0,   0,   0)\" d=\"M372.78,361.77 L380.45,366.77  \"/>\t<g transform=\"translate(385.56,377.15)\" stroke=\"none\" fill=\"rgb(38,38,38)\" font-family=\"Arial\" font-size=\"10.00\" text-anchor=\"middle\">\n\t\t<text><tspan font-family=\"Arial\">20</tspan></text>\n\t</g>\n</g>\n<g fill=\"none\" color=\"black\" stroke=\"currentColor\" stroke-width=\"1.00\" stroke-linecap=\"butt\" stroke-linejoin=\"miter\">\n</g>\n<g fill=\"none\" color=\"black\" stroke=\"currentColor\" stroke-width=\"1.00\" stroke-linecap=\"butt\" stroke-linejoin=\"miter\">\n\t<path stroke=\"rgb(  0,   0,   0)\" d=\"M405.90,349.06 L413.57,354.06  \"/>\t<g transform=\"translate(418.67,364.44)\" stroke=\"none\" fill=\"rgb(38,38,38)\" font-family=\"Arial\" font-size=\"10.00\" text-anchor=\"middle\">\n\t\t<text><tspan font-family=\"Arial\">30</tspan></text>\n\t</g>\n</g>\n<g fill=\"none\" color=\"black\" stroke=\"currentColor\" stroke-width=\"1.00\" stroke-linecap=\"butt\" stroke-linejoin=\"miter\">\n</g>\n<g fill=\"none\" color=\"black\" stroke=\"currentColor\" stroke-width=\"1.00\" stroke-linecap=\"butt\" stroke-linejoin=\"miter\">\n\t<path stroke=\"rgb(  0,   0,   0)\" d=\"M439.01,336.36 L446.68,341.36  \"/>\t<g transform=\"translate(451.79,351.74)\" stroke=\"none\" fill=\"rgb(38,38,38)\" font-family=\"Arial\" font-size=\"10.00\" text-anchor=\"middle\">\n\t\t<text><tspan font-family=\"Arial\">40</tspan></text>\n\t</g>\n</g>\n<g fill=\"none\" color=\"black\" stroke=\"currentColor\" stroke-width=\"1.00\" stroke-linecap=\"butt\" stroke-linejoin=\"miter\">\n</g>\n<g fill=\"none\" color=\"black\" stroke=\"currentColor\" stroke-width=\"1.00\" stroke-linecap=\"butt\" stroke-linejoin=\"miter\">\n\t<path stroke=\"rgb(  0,   0,   0)\" d=\"M256.88,406.24 L246.88,410.07  \"/>\t<g transform=\"translate(240.24,418.79)\" stroke=\"none\" fill=\"rgb(38,38,38)\" font-family=\"Arial\" font-size=\"10.00\" text-anchor=\"middle\">\n\t\t<text><tspan font-family=\"Arial\">0</tspan></text>\n\t</g>\n</g>\n<g fill=\"none\" color=\"black\" stroke=\"currentColor\" stroke-width=\"1.00\" stroke-linecap=\"butt\" stroke-linejoin=\"miter\">\n</g>\n<g fill=\"none\" color=\"black\" stroke=\"currentColor\" stroke-width=\"1.00\" stroke-linecap=\"butt\" stroke-linejoin=\"miter\">\n\t<path stroke=\"rgb(  0,   0,   0)\" d=\"M231.47,389.68 L221.47,393.51  \"/>\t<g transform=\"translate(214.83,402.23)\" stroke=\"none\" fill=\"rgb(38,38,38)\" font-family=\"Arial\" font-size=\"10.00\" text-anchor=\"middle\">\n\t\t<text><tspan font-family=\"Arial\">10</tspan></text>\n\t</g>\n</g>\n<g fill=\"none\" color=\"black\" stroke=\"currentColor\" stroke-width=\"1.00\" stroke-linecap=\"butt\" stroke-linejoin=\"miter\">\n</g>\n<g fill=\"none\" color=\"black\" stroke=\"currentColor\" stroke-width=\"1.00\" stroke-linecap=\"butt\" stroke-linejoin=\"miter\">\n\t<path stroke=\"rgb(  0,   0,   0)\" d=\"M206.06,373.12 L196.06,376.96  \"/>\t<g transform=\"translate(189.42,385.67)\" stroke=\"none\" fill=\"rgb(38,38,38)\" font-family=\"Arial\" font-size=\"10.00\" text-anchor=\"middle\">\n\t\t<text><tspan font-family=\"Arial\">20</tspan></text>\n\t</g>\n</g>\n<g fill=\"none\" color=\"black\" stroke=\"currentColor\" stroke-width=\"1.00\" stroke-linecap=\"butt\" stroke-linejoin=\"miter\">\n</g>\n<g fill=\"none\" color=\"black\" stroke=\"currentColor\" stroke-width=\"1.00\" stroke-linecap=\"butt\" stroke-linejoin=\"miter\">\n\t<path stroke=\"rgb(  0,   0,   0)\" d=\"M180.65,356.56 L170.66,360.40  \"/>\t<g transform=\"translate(164.01,369.12)\" stroke=\"none\" fill=\"rgb(38,38,38)\" font-family=\"Arial\" font-size=\"10.00\" text-anchor=\"middle\">\n\t\t<text><tspan font-family=\"Arial\">30</tspan></text>\n\t</g>\n</g>\n<g fill=\"none\" color=\"black\" stroke=\"currentColor\" stroke-width=\"1.00\" stroke-linecap=\"butt\" stroke-linejoin=\"miter\">\n</g>\n<g fill=\"none\" color=\"black\" stroke=\"currentColor\" stroke-width=\"1.00\" stroke-linecap=\"butt\" stroke-linejoin=\"miter\">\n\t<path stroke=\"rgb(  0,   0,   0)\" d=\"M155.24,340.01 L145.25,343.84  \"/>\t<g transform=\"translate(138.60,352.56)\" stroke=\"none\" fill=\"rgb(38,38,38)\" font-family=\"Arial\" font-size=\"10.00\" text-anchor=\"middle\">\n\t\t<text><tspan font-family=\"Arial\">40</tspan></text>\n\t</g>\n</g>\n<g fill=\"none\" color=\"black\" stroke=\"currentColor\" stroke-width=\"1.00\" stroke-linecap=\"butt\" stroke-linejoin=\"miter\">\n</g>\n<g fill=\"none\" color=\"black\" stroke=\"currentColor\" stroke-width=\"1.00\" stroke-linecap=\"butt\" stroke-linejoin=\"miter\">\n\t<path stroke=\"rgb(  0,   0,   0)\" d=\"M129.83,323.45 L119.84,327.28  \"/>\t<g transform=\"translate(113.19,336.00)\" stroke=\"none\" fill=\"rgb(38,38,38)\" font-family=\"Arial\" font-size=\"10.00\" text-anchor=\"middle\">\n\t\t<text><tspan font-family=\"Arial\">50</tspan></text>\n\t</g>\n</g>\n<g fill=\"none\" color=\"black\" stroke=\"currentColor\" stroke-width=\"1.00\" stroke-linecap=\"butt\" stroke-linejoin=\"miter\">\n</g>\n<g fill=\"none\" color=\"black\" stroke=\"currentColor\" stroke-width=\"1.00\" stroke-linecap=\"butt\" stroke-linejoin=\"miter\">\n\t<path stroke=\"rgb(  0,   0,   0)\" d=\"M104.42,306.89 L94.43,310.73  \"/>\t<g transform=\"translate(87.78,319.45)\" stroke=\"none\" fill=\"rgb(38,38,38)\" font-family=\"Arial\" font-size=\"10.00\" text-anchor=\"middle\">\n\t\t<text><tspan font-family=\"Arial\">60</tspan></text>\n\t</g>\n</g>\n<g fill=\"none\" color=\"black\" stroke=\"currentColor\" stroke-width=\"1.00\" stroke-linecap=\"butt\" stroke-linejoin=\"miter\">\n</g>\n<g fill=\"none\" color=\"black\" stroke=\"currentColor\" stroke-width=\"1.00\" stroke-linecap=\"butt\" stroke-linejoin=\"miter\">\n\t<path stroke=\"rgb(  0,   0,   0)\" d=\"M104.42,288.82 L91.82,288.82  \"/>\t<g transform=\"translate(73.83,292.06)\" stroke=\"none\" fill=\"rgb(38,38,38)\" font-family=\"Arial\" font-size=\"10.00\" text-anchor=\"end\">\n\t\t<text><tspan font-family=\"Arial\">-10</tspan></text>\n\t</g>\n</g>\n<g fill=\"none\" color=\"black\" stroke=\"currentColor\" stroke-width=\"1.00\" stroke-linecap=\"butt\" stroke-linejoin=\"miter\">\n</g>\n<g fill=\"none\" color=\"black\" stroke=\"currentColor\" stroke-width=\"1.00\" stroke-linecap=\"butt\" stroke-linejoin=\"miter\">\n\t<path stroke=\"rgb(  0,   0,   0)\" d=\"M104.42,252.67 L91.82,252.67  \"/>\t<g transform=\"translate(73.83,255.91)\" stroke=\"none\" fill=\"rgb(38,38,38)\" font-family=\"Arial\" font-size=\"10.00\" text-anchor=\"end\">\n\t\t<text><tspan font-family=\"Arial\">0</tspan></text>\n\t</g>\n</g>\n<g fill=\"none\" color=\"black\" stroke=\"currentColor\" stroke-width=\"1.00\" stroke-linecap=\"butt\" stroke-linejoin=\"miter\">\n</g>\n<g fill=\"none\" color=\"black\" stroke=\"currentColor\" stroke-width=\"1.00\" stroke-linecap=\"butt\" stroke-linejoin=\"miter\">\n\t<path stroke=\"rgb(  0,   0,   0)\" d=\"M104.42,216.52 L91.82,216.52  \"/>\t<g transform=\"translate(73.83,219.76)\" stroke=\"none\" fill=\"rgb(38,38,38)\" font-family=\"Arial\" font-size=\"10.00\" text-anchor=\"end\">\n\t\t<text><tspan font-family=\"Arial\">10</tspan></text>\n\t</g>\n</g>\n<g fill=\"none\" color=\"black\" stroke=\"currentColor\" stroke-width=\"1.00\" stroke-linecap=\"butt\" stroke-linejoin=\"miter\">\n</g>\n<g fill=\"none\" color=\"black\" stroke=\"currentColor\" stroke-width=\"1.00\" stroke-linecap=\"butt\" stroke-linejoin=\"miter\">\n\t<path stroke=\"rgb(  0,   0,   0)\" d=\"M104.42,180.37 L91.82,180.37  \"/>\t<g transform=\"translate(73.83,183.62)\" stroke=\"none\" fill=\"rgb(38,38,38)\" font-family=\"Arial\" font-size=\"10.00\" text-anchor=\"end\">\n\t\t<text><tspan font-family=\"Arial\">20</tspan></text>\n\t</g>\n</g>\n<g fill=\"none\" color=\"black\" stroke=\"currentColor\" stroke-width=\"1.00\" stroke-linecap=\"butt\" stroke-linejoin=\"miter\">\n</g>\n<g fill=\"none\" color=\"black\" stroke=\"currentColor\" stroke-width=\"1.00\" stroke-linecap=\"butt\" stroke-linejoin=\"miter\">\n\t<path stroke=\"rgb(  0,   0,   0)\" d=\"M104.42,144.23 L91.82,144.23  \"/>\t<g transform=\"translate(73.83,147.48)\" stroke=\"none\" fill=\"rgb(38,38,38)\" font-family=\"Arial\" font-size=\"10.00\" text-anchor=\"end\">\n\t\t<text><tspan font-family=\"Arial\">30</tspan></text>\n\t</g>\n</g>\n<g fill=\"none\" color=\"black\" stroke=\"currentColor\" stroke-width=\"1.00\" stroke-linecap=\"butt\" stroke-linejoin=\"miter\">\n</g>\n<g fill=\"none\" color=\"black\" stroke=\"currentColor\" stroke-width=\"1.00\" stroke-linecap=\"butt\" stroke-linejoin=\"miter\">\n\t<path stroke=\"rgb(  0,   0,   0)\" d=\"M104.42,108.08 L91.82,108.08  \"/>\t<g transform=\"translate(73.83,111.33)\" stroke=\"none\" fill=\"rgb(38,38,38)\" font-family=\"Arial\" font-size=\"10.00\" text-anchor=\"end\">\n\t\t<text><tspan font-family=\"Arial\">40</tspan></text>\n\t</g>\n</g>\n<g fill=\"none\" color=\"black\" stroke=\"currentColor\" stroke-width=\"1.00\" stroke-linecap=\"butt\" stroke-linejoin=\"miter\">\n</g>\n\t<g id=\"gnuplot_plot_1a\"><title>gnuplot_plot_1a</title>\n<g fill=\"none\" color=\"white\" stroke=\"rgb(  0,   0,   0)\" stroke-width=\"0.50\" stroke-linecap=\"butt\" stroke-linejoin=\"miter\">\n</g>\n<g fill=\"none\" color=\"black\" stroke=\"currentColor\" stroke-width=\"0.50\" stroke-linecap=\"butt\" stroke-linejoin=\"miter\">\n\t<path stroke=\"rgb( 71,  19, 101)\" d=\"M270.73,278.76 L262.87,243.18 L336.47,278.06 M185.56,191.70 L348.47,287.70 M191.15,170.93 L338.88,286.86 M233.22,167.62   L330.47,287.52 M221.71,109.73 L297.10,246.33 L327.90,284.39 M220.60,269.56 L284.84,220.98 L332.65,296.65 M187.92,247.79   L346.10,272.51 M202.31,147.87 L336.65,291.47 M204.48,134.04 L336.22,294.24 M226.35,164.32 L331.84,288.18 M196.84,223.28   L338.88,276.82 M182.57,193.17 L340.60,282.41 M210.89,193.54 L334.93,282.34 M202.43,178.78 L336.63,285.29 M215.35,231.17   L352.45,281.58 M173.11,173.83 L342.49,286.28 M222.65,235.12 L337.50,275.76 M160.38,190.34 L345.04,282.98 M175.05,193.97   L342.10,282.25 M162.83,130.20 L344.54,295.01 M155.31,152.16 L346.35,290.83 M154.13,163.81 L346.28,288.28 M241.87,129.65   L328.74,295.12 M187.71,209.78 L348.67,283.25 M234.26,144.89 L330.26,292.07 M162.42,159.63 L346.75,290.63 M205.12,234.06   L340.01,275.43 M248.97,230.89 L331.81,277.39 M185.37,214.20 L340.04,278.20 M209.15,166.34 L335.28,287.78 M172.98,132.26   L342.51,294.59 M192.66,244.45 L349.18,274.16 M172.56,225.54 L342.60,275.94 M245.40,149.97 L328.03,291.05 M202.01,214.32   L350.30,284.62 M180.10,171.07 L341.09,286.83 M163.92,182.19 L344.33,284.61 M252.69,167.43 L326.57,287.56 M243.73,252.01   L337.82,272.72 M186.33,187.78 L348.54,288.91 M221.15,179.22 L332.88,285.20 M236.42,164.98 L329.83,288.05 M188.73,114.92   L339.36,298.06 M196.90,186.76 L337.73,283.69 M241.31,160.74 L328.85,288.90 M240.38,269.59 L275.24,232.49 L333.87,285.15   M203.49,126.36 L336.41,295.77 M243.67,127.76 L328.38,295.49 M204.70,224.88 L350.67,281.71 M161.12,130.42 L344.89,294.96   M202.21,110.41 L336.67,298.96 M211.76,139.95 L334.76,293.06 M181.92,219.45 L340.73,277.15 M206.67,251.54 L350.96,272.99   M209.35,149.98 L335.24,291.05 M209.79,199.59 L335.15,281.13 M187.26,199.67 L339.66,281.11 M203.86,240.67 L341.82,274.24   M220.20,180.64 L333.07,284.92 M190.15,210.02 L348.91,283.60 M176.59,206.44 L341.79,279.76 M207.57,162.24 L335.60,288.60   M214.16,237.07 L352.23,279.09 M252.94,255.73 L336.83,271.88 M211.94,234.97 L351.82,279.49 M194.05,242.19 L343.64,273.73   M161.66,162.60 L344.78,288.52 M241.79,233.16 L333.65,276.73 M243.91,189.59 L328.33,283.13 M189.20,196.85 L339.27,281.67   M185.17,175.35 L340.08,285.97 M187.83,182.76 L339.54,284.49 M211.28,257.59 L345.91,270.59 M235.55,171.32 L330.00,286.78   M207.08,221.43 L337.11,277.37 M249.54,151.64 L327.20,290.72 M245.02,149.10 L328.11,291.23 M194.96,225.96 L339.67,276.39   M186.26,198.40 L339.86,281.36 M246.37,259.49 L339.68,270.55 M215.67,164.58 L333.98,288.13 M168.30,132.12 L343.45,294.62   M193.84,151.57 L338.34,290.73 M206.16,226.10 L350.89,281.57 M226.95,127.58 L331.72,295.53 M214.70,135.71 L334.17,293.90   M230.26,177.75 L331.06,285.49 M187.65,186.29 L339.58,283.79 M168.40,209.56 L343.43,279.13 M211.49,168.22 L334.81,287.40   M221.04,218.74 L334.57,278.17 M217.35,167.17 L333.64,287.61 M204.65,231.33 L339.46,275.86 M178.11,131.60 L341.49,294.72   M224.35,115.23 L332.24,298.00 M224.28,161.53 L332.25,288.74 M184.69,180.88 L348.39,290.36 M178.03,236.67 L347.83,275.14   M161.27,225.56 L344.86,275.93 M355.76,289.04 L286.88,240.34 L331.83,284.99 M173.57,182.31 L342.40,284.58 M201.09,179.74   L336.89,285.10 M259.21,253.58 L334.59,272.69 M212.03,143.99 L334.70,292.25 M228.74,194.09 L331.36,282.23 M163.85,162.22   L344.34,288.60 M194.32,162.84 L338.25,288.48 M168.28,197.04 L347.12,283.41 M196.96,132.71 L337.72,294.50 M154.39,230.11   L346.23,275.02 M174.83,165.79 L347.58,291.85 M234.19,166.18 L330.27,287.81 M247.87,162.20 L327.54,288.60 M316.05,300.85   L283.15,221.97 L333.79,296.15 M254.14,233.49 L331.22,277.14 M214.57,116.56 L334.20,297.73 M166.01,145.92 L343.91,291.86   M160.20,145.60 L345.07,291.92 M195.99,147.17 L337.91,291.61 M206.13,231.62 L350.88,279.70 M233.08,116.01 L330.49,297.84   M245.98,239.46 L334.12,275.70 M200.14,220.56 L337.91,277.27 M245.93,175.99 L327.92,285.85 M164.61,216.70 L344.19,277.70   M278.76,238.52 L277.60,207.50 L329.24,292.08 M189.58,198.98 L348.86,286.56 M213.46,172.27 L334.42,286.59 M191.57,137.52   L338.80,293.54 M205.37,210.66 L350.77,286.61 M214.98,140.62 L334.11,292.92 M215.96,243.94 L352.57,276.73 M161.42,205.18   L344.83,280.01 M238.45,123.19 L329.42,296.41 M157.34,204.30 L346.46,280.52 M200.09,254.90 L346.70,271.13 M188.32,144.49   L339.45,292.15 M184.56,183.81 L340.20,284.28 M232.28,150.37 L330.66,290.97 M203.17,230.91 L350.46,279.47 M200.89,148.50   L336.93,291.35 M182.76,199.35 L340.56,281.17 M160.18,229.57 L346.62,275.51 M218.22,186.09 L333.47,283.83 M200.49,214.59   L337.01,278.13 M170.84,199.70 L342.94,281.11 M225.67,244.90 L285.56,223.15 L330.14,292.10 M236.01,157.11 L329.91,289.62   M163.77,183.02 L344.36,284.44 M230.92,138.30 L330.93,293.39 M213.11,237.27 L264.42,235.42 L334.62,280.66 M212.87,238.38   L351.99,278.39 M216.97,198.46 L295.35,223.62 L282.82,225.36 L330.55,289.40 M162.15,150.67 L344.68,290.91 M185.98,219.43   L339.91,277.16 M156.18,154.93 L345.87,290.06 M209.51,257.22 L346.06,270.67 M219.53,166.80 L333.20,287.69 M154.54,147.45   L346.20,291.56 M156.43,210.86 L345.82,278.87 M245.33,213.86 L295.18,204.18 L289.73,225.61 L331.53,297.06 M204.77,223.29   L350.68,282.26 M161.37,168.46 L344.84,287.35 M220.81,149.86 L332.95,291.07 M212.87,121.36 L334.54,296.77 M239.86,180.56   L329.14,284.93 M185.17,247.17 L346.28,272.59 M155.71,196.37 L345.97,281.77 M239.10,129.59 L329.29,295.13 M180.30,211.89   L341.05,278.66 M236.05,263.85 L343.72,268.93 M209.06,109.92 L335.30,299.06 M185.53,154.70 L340.00,290.10 M177.96,124.90   L341.52,296.07 M187.50,246.40 L345.74,272.79 M241.03,156.48 L328.91,289.75 M252.73,157.97 L326.56,289.45 M199.27,213.81   L349.94,284.21 M162.74,202.07 L344.56,280.63 M208.52,248.32 L351.25,274.26 M243.55,217.05 L330.61,279.21 M178.42,154.04   L341.43,290.24 M245.88,227.14 L331.76,277.88 M162.90,212.35 L344.53,278.57 M232.53,175.64 L330.60,285.92 M245.03,220.87   L330.91,278.76 M230.34,202.84 L331.04,280.48 M200.70,172.01 L336.97,286.64 M156.78,220.65 L346.43,277.12 M224.31,198.25   L332.25,281.40 M193.92,201.97 L349.31,286.64 M161.13,171.35 L344.88,286.78 M245.88,259.38 L339.76,270.58 M179.79,148.29   L341.15,291.39 M178.55,182.10 L347.87,288.70 M184.38,172.36 L340.23,286.57 M164.25,151.90 L344.26,290.66 M226.85,245.82   L339.42,273.79 M184.88,199.72 L340.14,281.10 M158.42,172.88 L346.52,287.13  \"/></g>\n\t</g>\n\t<g id=\"gnuplot_plot_2a\"><title>gnuplot_plot_2a</title>\n<g fill=\"none\" color=\"black\" stroke=\"currentColor\" stroke-width=\"0.50\" stroke-linecap=\"butt\" stroke-linejoin=\"miter\">\n\t<use xlink:href=\"#gpPt6\" transform=\"translate(346.52,287.13) scale(1.50)\" color=\"rgb(255,   0,   0)\"/>\n\t<use xlink:href=\"#gpPt6\" transform=\"translate(158.42,172.88) scale(1.50)\" color=\"rgb(255,   0,   0)\"/>\n\t<use xlink:href=\"#gpPt6\" transform=\"translate(340.14,281.10) scale(1.50)\" color=\"rgb(255,   0,   0)\"/>\n\t<use xlink:href=\"#gpPt6\" transform=\"translate(184.88,199.72) scale(1.50)\" color=\"rgb(255,   0,   0)\"/>\n\t<use xlink:href=\"#gpPt6\" transform=\"translate(339.42,273.79) scale(1.50)\" color=\"rgb(255,   0,   0)\"/>\n\t<use xlink:href=\"#gpPt6\" transform=\"translate(226.85,245.82) scale(1.50)\" color=\"rgb(255,   0,   0)\"/>\n\t<use xlink:href=\"#gpPt6\" transform=\"translate(344.26,290.66) scale(1.50)\" color=\"rgb(255,   0,   0)\"/>\n\t<use xlink:href=\"#gpPt6\" transform=\"translate(164.25,151.90) scale(1.50)\" color=\"rgb(255,   0,   0)\"/>\n\t<use xlink:href=\"#gpPt6\" transform=\"translate(340.23,286.57) scale(1.50)\" color=\"rgb(255,   0,   0)\"/>\n\t<use xlink:href=\"#gpPt6\" transform=\"translate(184.38,172.36) scale(1.50)\" color=\"rgb(255,   0,   0)\"/>\n\t<use xlink:href=\"#gpPt6\" transform=\"translate(347.87,288.70) scale(1.50)\" color=\"rgb(255,   0,   0)\"/>\n\t<use xlink:href=\"#gpPt6\" transform=\"translate(178.55,182.10) scale(1.50)\" color=\"rgb(255,   0,   0)\"/>\n\t<use xlink:href=\"#gpPt6\" transform=\"translate(341.15,291.39) scale(1.50)\" color=\"rgb(255,   0,   0)\"/>\n\t<use xlink:href=\"#gpPt6\" transform=\"translate(179.79,148.29) scale(1.50)\" color=\"rgb(255,   0,   0)\"/>\n\t<use xlink:href=\"#gpPt6\" transform=\"translate(339.76,270.58) scale(1.50)\" color=\"rgb(255,   0,   0)\"/>\n\t<use xlink:href=\"#gpPt6\" transform=\"translate(245.88,259.38) scale(1.50)\" color=\"rgb(255,   0,   0)\"/>\n\t<use xlink:href=\"#gpPt6\" transform=\"translate(344.88,286.78) scale(1.50)\" color=\"rgb(255,   0,   0)\"/>\n\t<use xlink:href=\"#gpPt6\" transform=\"translate(161.13,171.35) scale(1.50)\" color=\"rgb(255,   0,   0)\"/>\n\t<use xlink:href=\"#gpPt6\" transform=\"translate(349.31,286.64) scale(1.50)\" color=\"rgb(255,   0,   0)\"/>\n\t<use xlink:href=\"#gpPt6\" transform=\"translate(193.92,201.97) scale(1.50)\" color=\"rgb(255,   0,   0)\"/>\n\t<use xlink:href=\"#gpPt6\" transform=\"translate(332.25,281.40) scale(1.50)\" color=\"rgb(255,   0,   0)\"/>\n\t<use xlink:href=\"#gpPt6\" transform=\"translate(224.31,198.25) scale(1.50)\" color=\"rgb(255,   0,   0)\"/>\n\t<use xlink:href=\"#gpPt6\" transform=\"translate(346.43,277.12) scale(1.50)\" color=\"rgb(255,   0,   0)\"/>\n\t<use xlink:href=\"#gpPt6\" transform=\"translate(156.78,220.65) scale(1.50)\" color=\"rgb(255,   0,   0)\"/>\n\t<use xlink:href=\"#gpPt6\" transform=\"translate(336.97,286.64) scale(1.50)\" color=\"rgb(255,   0,   0)\"/>\n\t<use xlink:href=\"#gpPt6\" transform=\"translate(200.70,172.01) scale(1.50)\" color=\"rgb(255,   0,   0)\"/>\n\t<use xlink:href=\"#gpPt6\" transform=\"translate(331.04,280.48) scale(1.50)\" color=\"rgb(255,   0,   0)\"/>\n\t<use xlink:href=\"#gpPt6\" transform=\"translate(230.34,202.84) scale(1.50)\" color=\"rgb(255,   0,   0)\"/>\n\t<use xlink:href=\"#gpPt6\" transform=\"translate(330.91,278.76) scale(1.50)\" color=\"rgb(255,   0,   0)\"/>\n\t<use xlink:href=\"#gpPt6\" transform=\"translate(245.03,220.87) scale(1.50)\" color=\"rgb(255,   0,   0)\"/>\n\t<use xlink:href=\"#gpPt6\" transform=\"translate(330.60,285.92) scale(1.50)\" color=\"rgb(255,   0,   0)\"/>\n\t<use xlink:href=\"#gpPt6\" transform=\"translate(232.53,175.64) scale(1.50)\" color=\"rgb(255,   0,   0)\"/>\n\t<use xlink:href=\"#gpPt6\" transform=\"translate(344.53,278.57) scale(1.50)\" color=\"rgb(255,   0,   0)\"/>\n\t<use xlink:href=\"#gpPt6\" transform=\"translate(162.90,212.35) scale(1.50)\" color=\"rgb(255,   0,   0)\"/>\n\t<use xlink:href=\"#gpPt6\" transform=\"translate(331.76,277.88) scale(1.50)\" color=\"rgb(255,   0,   0)\"/>\n\t<use xlink:href=\"#gpPt6\" transform=\"translate(245.88,227.14) scale(1.50)\" color=\"rgb(255,   0,   0)\"/>\n\t<use xlink:href=\"#gpPt6\" transform=\"translate(341.43,290.24) scale(1.50)\" color=\"rgb(255,   0,   0)\"/>\n\t<use xlink:href=\"#gpPt6\" transform=\"translate(178.42,154.04) scale(1.50)\" color=\"rgb(255,   0,   0)\"/>\n\t<use xlink:href=\"#gpPt6\" transform=\"translate(330.61,279.21) scale(1.50)\" color=\"rgb(255,   0,   0)\"/>\n\t<use xlink:href=\"#gpPt6\" transform=\"translate(243.55,217.05) scale(1.50)\" color=\"rgb(255,   0,   0)\"/>\n\t<use xlink:href=\"#gpPt6\" transform=\"translate(351.25,274.26) scale(1.50)\" color=\"rgb(255,   0,   0)\"/>\n\t<use xlink:href=\"#gpPt6\" transform=\"translate(208.52,248.32) scale(1.50)\" color=\"rgb(255,   0,   0)\"/>\n\t<use xlink:href=\"#gpPt6\" transform=\"translate(344.56,280.63) scale(1.50)\" color=\"rgb(255,   0,   0)\"/>\n\t<use xlink:href=\"#gpPt6\" transform=\"translate(162.74,202.07) scale(1.50)\" color=\"rgb(255,   0,   0)\"/>\n\t<use xlink:href=\"#gpPt6\" transform=\"translate(349.94,284.21) scale(1.50)\" color=\"rgb(255,   0,   0)\"/>\n\t<use xlink:href=\"#gpPt6\" transform=\"translate(199.27,213.81) scale(1.50)\" color=\"rgb(255,   0,   0)\"/>\n\t<use xlink:href=\"#gpPt6\" transform=\"translate(326.56,289.45) scale(1.50)\" color=\"rgb(255,   0,   0)\"/>\n\t<use xlink:href=\"#gpPt6\" transform=\"translate(252.73,157.97) scale(1.50)\" color=\"rgb(255,   0,   0)\"/>\n\t<use xlink:href=\"#gpPt6\" transform=\"translate(328.91,289.75) scale(1.50)\" color=\"rgb(255,   0,   0)\"/>\n\t<use xlink:href=\"#gpPt6\" transform=\"translate(241.03,156.48) scale(1.50)\" color=\"rgb(255,   0,   0)\"/>\n\t<use xlink:href=\"#gpPt6\" transform=\"translate(345.74,272.79) scale(1.50)\" color=\"rgb(255,   0,   0)\"/>\n\t<use xlink:href=\"#gpPt6\" transform=\"translate(187.50,246.40) scale(1.50)\" color=\"rgb(255,   0,   0)\"/>\n\t<use xlink:href=\"#gpPt6\" transform=\"translate(341.52,296.07) scale(1.50)\" color=\"rgb(255,   0,   0)\"/>\n\t<use xlink:href=\"#gpPt6\" transform=\"translate(177.96,124.90) scale(1.50)\" color=\"rgb(255,   0,   0)\"/>\n\t<use xlink:href=\"#gpPt6\" transform=\"translate(340.00,290.10) scale(1.50)\" color=\"rgb(255,   0,   0)\"/>\n\t<use xlink:href=\"#gpPt6\" transform=\"translate(185.53,154.70) scale(1.50)\" color=\"rgb(255,   0,   0)\"/>\n\t<use xlink:href=\"#gpPt6\" transform=\"translate(335.30,299.06) scale(1.50)\" color=\"rgb(255,   0,   0)\"/>\n\t<use xlink:href=\"#gpPt6\" transform=\"translate(209.06,109.92) scale(1.50)\" color=\"rgb(255,   0,   0)\"/>\n\t<use xlink:href=\"#gpPt6\" transform=\"translate(343.72,268.93) scale(1.50)\" color=\"rgb(255,   0,   0)\"/>\n\t<use xlink:href=\"#gpPt6\" transform=\"translate(236.05,263.85) scale(1.50)\" color=\"rgb(255,   0,   0)\"/>\n\t<use xlink:href=\"#gpPt6\" transform=\"translate(341.05,278.66) scale(1.50)\" color=\"rgb(255,   0,   0)\"/>\n\t<use xlink:href=\"#gpPt6\" transform=\"translate(180.30,211.89) scale(1.50)\" color=\"rgb(255,   0,   0)\"/>\n\t<use xlink:href=\"#gpPt6\" transform=\"translate(329.29,295.13) scale(1.50)\" color=\"rgb(255,   0,   0)\"/>\n\t<use xlink:href=\"#gpPt6\" transform=\"translate(239.10,129.59) scale(1.50)\" color=\"rgb(255,   0,   0)\"/>\n\t<use xlink:href=\"#gpPt6\" transform=\"translate(345.97,281.77) scale(1.50)\" color=\"rgb(255,   0,   0)\"/>\n\t<use xlink:href=\"#gpPt6\" transform=\"translate(155.71,196.37) scale(1.50)\" color=\"rgb(255,   0,   0)\"/>\n\t<use xlink:href=\"#gpPt6\" transform=\"translate(346.28,272.59) scale(1.50)\" color=\"rgb(255,   0,   0)\"/>\n\t<use xlink:href=\"#gpPt6\" transform=\"translate(185.17,247.17) scale(1.50)\" color=\"rgb(255,   0,   0)\"/>\n\t<use xlink:href=\"#gpPt6\" transform=\"translate(329.14,284.93) scale(1.50)\" color=\"rgb(255,   0,   0)\"/>\n\t<use xlink:href=\"#gpPt6\" transform=\"translate(239.86,180.56) scale(1.50)\" color=\"rgb(255,   0,   0)\"/>\n\t<use xlink:href=\"#gpPt6\" transform=\"translate(334.54,296.77) scale(1.50)\" color=\"rgb(255,   0,   0)\"/>\n\t<use xlink:href=\"#gpPt6\" transform=\"translate(212.87,121.36) scale(1.50)\" color=\"rgb(255,   0,   0)\"/>\n\t<use xlink:href=\"#gpPt6\" transform=\"translate(332.95,291.07) scale(1.50)\" color=\"rgb(255,   0,   0)\"/>\n\t<use xlink:href=\"#gpPt6\" transform=\"translate(220.81,149.86) scale(1.50)\" color=\"rgb(255,   0,   0)\"/>\n\t<use xlink:href=\"#gpPt6\" transform=\"translate(344.84,287.35) scale(1.50)\" color=\"rgb(255,   0,   0)\"/>\n\t<use xlink:href=\"#gpPt6\" transform=\"translate(161.37,168.46) scale(1.50)\" color=\"rgb(255,   0,   0)\"/>\n\t<use xlink:href=\"#gpPt6\" transform=\"translate(350.68,282.26) scale(1.50)\" color=\"rgb(255,   0,   0)\"/>\n\t<use xlink:href=\"#gpPt6\" transform=\"translate(204.77,223.29) scale(1.50)\" color=\"rgb(255,   0,   0)\"/>\n\t<use xlink:href=\"#gpPt6\" transform=\"translate(331.53,297.06) scale(1.50)\" color=\"rgb(255,   0,   0)\"/>\n\t<use xlink:href=\"#gpPt6\" transform=\"translate(289.73,225.61) scale(1.50)\" color=\"rgb(255,   0,   0)\"/>\n\t<use xlink:href=\"#gpPt6\" transform=\"translate(295.18,204.18) scale(1.50)\" color=\"rgb(255,   0,   0)\"/>\n\t<use xlink:href=\"#gpPt6\" transform=\"translate(245.33,213.86) scale(1.50)\" color=\"rgb(255,   0,   0)\"/>\n\t<use xlink:href=\"#gpPt6\" transform=\"translate(345.82,278.87) scale(1.50)\" color=\"rgb(255,   0,   0)\"/>\n\t<use xlink:href=\"#gpPt6\" transform=\"translate(156.43,210.86) scale(1.50)\" color=\"rgb(255,   0,   0)\"/>\n\t<use xlink:href=\"#gpPt6\" transform=\"translate(346.20,291.56) scale(1.50)\" color=\"rgb(255,   0,   0)\"/>\n\t<use xlink:href=\"#gpPt6\" transform=\"translate(154.54,147.45) scale(1.50)\" color=\"rgb(255,   0,   0)\"/>\n\t<use xlink:href=\"#gpPt6\" transform=\"translate(333.20,287.69) scale(1.50)\" color=\"rgb(255,   0,   0)\"/>\n\t<use xlink:href=\"#gpPt6\" transform=\"translate(219.53,166.80) scale(1.50)\" color=\"rgb(255,   0,   0)\"/>\n\t<use xlink:href=\"#gpPt6\" transform=\"translate(346.06,270.67) scale(1.50)\" color=\"rgb(255,   0,   0)\"/>\n\t<use xlink:href=\"#gpPt6\" transform=\"translate(209.51,257.22) scale(1.50)\" color=\"rgb(255,   0,   0)\"/>\n\t<use xlink:href=\"#gpPt6\" transform=\"translate(345.87,290.06) scale(1.50)\" color=\"rgb(255,   0,   0)\"/>\n\t<use xlink:href=\"#gpPt6\" transform=\"translate(156.18,154.93) scale(1.50)\" color=\"rgb(255,   0,   0)\"/>\n\t<use xlink:href=\"#gpPt6\" transform=\"translate(339.91,277.16) scale(1.50)\" color=\"rgb(255,   0,   0)\"/>\n\t<use xlink:href=\"#gpPt6\" transform=\"translate(185.98,219.43) scale(1.50)\" color=\"rgb(255,   0,   0)\"/>\n\t<use xlink:href=\"#gpPt6\" transform=\"translate(344.68,290.91) scale(1.50)\" color=\"rgb(255,   0,   0)\"/>\n\t<use xlink:href=\"#gpPt6\" transform=\"translate(162.15,150.67) scale(1.50)\" color=\"rgb(255,   0,   0)\"/>\n\t<use xlink:href=\"#gpPt6\" transform=\"translate(330.55,289.40) scale(1.50)\" color=\"rgb(255,   0,   0)\"/>\n\t<use xlink:href=\"#gpPt6\" transform=\"translate(282.82,225.36) scale(1.50)\" color=\"rgb(255,   0,   0)\"/>\n\t<use xlink:href=\"#gpPt6\" transform=\"translate(295.35,223.62) scale(1.50)\" color=\"rgb(255,   0,   0)\"/>\n\t<use xlink:href=\"#gpPt6\" transform=\"translate(216.97,198.46) scale(1.50)\" color=\"rgb(255,   0,   0)\"/>\n\t<use xlink:href=\"#gpPt6\" transform=\"translate(351.99,278.39) scale(1.50)\" color=\"rgb(255,   0,   0)\"/>\n\t<use xlink:href=\"#gpPt6\" transform=\"translate(212.87,238.38) scale(1.50)\" color=\"rgb(255,   0,   0)\"/>\n\t<use xlink:href=\"#gpPt6\" transform=\"translate(334.62,280.66) scale(1.50)\" color=\"rgb(255,   0,   0)\"/>\n\t<use xlink:href=\"#gpPt6\" transform=\"translate(264.42,235.42) scale(1.50)\" color=\"rgb(255,   0,   0)\"/>\n\t<use xlink:href=\"#gpPt6\" transform=\"translate(213.11,237.27) scale(1.50)\" color=\"rgb(255,   0,   0)\"/>\n\t<use xlink:href=\"#gpPt6\" transform=\"translate(330.93,293.39) scale(1.50)\" color=\"rgb(255,   0,   0)\"/>\n\t<use xlink:href=\"#gpPt6\" transform=\"translate(230.92,138.30) scale(1.50)\" color=\"rgb(255,   0,   0)\"/>\n\t<use xlink:href=\"#gpPt6\" transform=\"translate(344.36,284.44) scale(1.50)\" color=\"rgb(255,   0,   0)\"/>\n\t<use xlink:href=\"#gpPt6\" transform=\"translate(163.77,183.02) scale(1.50)\" color=\"rgb(255,   0,   0)\"/>\n\t<use xlink:href=\"#gpPt6\" transform=\"translate(329.91,289.62) scale(1.50)\" color=\"rgb(255,   0,   0)\"/>\n\t<use xlink:href=\"#gpPt6\" transform=\"translate(236.01,157.11) scale(1.50)\" color=\"rgb(255,   0,   0)\"/>\n\t<use xlink:href=\"#gpPt6\" transform=\"translate(330.14,292.10) scale(1.50)\" color=\"rgb(255,   0,   0)\"/>\n\t<use xlink:href=\"#gpPt6\" transform=\"translate(285.56,223.15) scale(1.50)\" color=\"rgb(255,   0,   0)\"/>\n\t<use xlink:href=\"#gpPt6\" transform=\"translate(225.67,244.90) scale(1.50)\" color=\"rgb(255,   0,   0)\"/>\n\t<use xlink:href=\"#gpPt6\" transform=\"translate(342.94,281.11) scale(1.50)\" color=\"rgb(255,   0,   0)\"/>\n\t<use xlink:href=\"#gpPt6\" transform=\"translate(170.84,199.70) scale(1.50)\" color=\"rgb(255,   0,   0)\"/>\n\t<use xlink:href=\"#gpPt6\" transform=\"translate(337.01,278.13) scale(1.50)\" color=\"rgb(255,   0,   0)\"/>\n\t<use xlink:href=\"#gpPt6\" transform=\"translate(200.49,214.59) scale(1.50)\" color=\"rgb(255,   0,   0)\"/>\n\t<use xlink:href=\"#gpPt6\" transform=\"translate(333.47,283.83) scale(1.50)\" color=\"rgb(255,   0,   0)\"/>\n\t<use xlink:href=\"#gpPt6\" transform=\"translate(218.22,186.09) scale(1.50)\" color=\"rgb(255,   0,   0)\"/>\n\t<use xlink:href=\"#gpPt6\" transform=\"translate(346.62,275.51) scale(1.50)\" color=\"rgb(255,   0,   0)\"/>\n\t<use xlink:href=\"#gpPt6\" transform=\"translate(160.18,229.57) scale(1.50)\" color=\"rgb(255,   0,   0)\"/>\n\t<use xlink:href=\"#gpPt6\" transform=\"translate(340.56,281.17) scale(1.50)\" color=\"rgb(255,   0,   0)\"/>\n\t<use xlink:href=\"#gpPt6\" transform=\"translate(182.76,199.35) scale(1.50)\" color=\"rgb(255,   0,   0)\"/>\n\t<use xlink:href=\"#gpPt6\" transform=\"translate(336.93,291.35) scale(1.50)\" color=\"rgb(255,   0,   0)\"/>\n\t<use xlink:href=\"#gpPt6\" transform=\"translate(200.89,148.50) scale(1.50)\" color=\"rgb(255,   0,   0)\"/>\n\t<use xlink:href=\"#gpPt6\" transform=\"translate(350.46,279.47) scale(1.50)\" color=\"rgb(255,   0,   0)\"/>\n\t<use xlink:href=\"#gpPt6\" transform=\"translate(203.17,230.91) scale(1.50)\" color=\"rgb(255,   0,   0)\"/>\n\t<use xlink:href=\"#gpPt6\" transform=\"translate(330.66,290.97) scale(1.50)\" color=\"rgb(255,   0,   0)\"/>\n\t<use xlink:href=\"#gpPt6\" transform=\"translate(232.28,150.37) scale(1.50)\" color=\"rgb(255,   0,   0)\"/>\n\t<use xlink:href=\"#gpPt6\" transform=\"translate(340.20,284.28) scale(1.50)\" color=\"rgb(255,   0,   0)\"/>\n\t<use xlink:href=\"#gpPt6\" transform=\"translate(184.56,183.81) scale(1.50)\" color=\"rgb(255,   0,   0)\"/>\n\t<use xlink:href=\"#gpPt6\" transform=\"translate(339.45,292.15) scale(1.50)\" color=\"rgb(255,   0,   0)\"/>\n\t<use xlink:href=\"#gpPt6\" transform=\"translate(188.32,144.49) scale(1.50)\" color=\"rgb(255,   0,   0)\"/>\n\t<use xlink:href=\"#gpPt6\" transform=\"translate(346.70,271.13) scale(1.50)\" color=\"rgb(255,   0,   0)\"/>\n\t<use xlink:href=\"#gpPt6\" transform=\"translate(200.09,254.90) scale(1.50)\" color=\"rgb(255,   0,   0)\"/>\n\t<use xlink:href=\"#gpPt6\" transform=\"translate(346.46,280.52) scale(1.50)\" color=\"rgb(255,   0,   0)\"/>\n\t<use xlink:href=\"#gpPt6\" transform=\"translate(157.34,204.30) scale(1.50)\" color=\"rgb(255,   0,   0)\"/>\n\t<use xlink:href=\"#gpPt6\" transform=\"translate(329.42,296.41) scale(1.50)\" color=\"rgb(255,   0,   0)\"/>\n\t<use xlink:href=\"#gpPt6\" transform=\"translate(238.45,123.19) scale(1.50)\" color=\"rgb(255,   0,   0)\"/>\n\t<use xlink:href=\"#gpPt6\" transform=\"translate(344.83,280.01) scale(1.50)\" color=\"rgb(255,   0,   0)\"/>\n\t<use xlink:href=\"#gpPt6\" transform=\"translate(161.42,205.18) scale(1.50)\" color=\"rgb(255,   0,   0)\"/>\n\t<use xlink:href=\"#gpPt6\" transform=\"translate(352.57,276.73) scale(1.50)\" color=\"rgb(255,   0,   0)\"/>\n\t<use xlink:href=\"#gpPt6\" transform=\"translate(215.96,243.94) scale(1.50)\" color=\"rgb(255,   0,   0)\"/>\n\t<use xlink:href=\"#gpPt6\" transform=\"translate(334.11,292.92) scale(1.50)\" color=\"rgb(255,   0,   0)\"/>\n\t<use xlink:href=\"#gpPt6\" transform=\"translate(214.98,140.62) scale(1.50)\" color=\"rgb(255,   0,   0)\"/>\n\t<use xlink:href=\"#gpPt6\" transform=\"translate(350.77,286.61) scale(1.50)\" color=\"rgb(255,   0,   0)\"/>\n\t<use xlink:href=\"#gpPt6\" transform=\"translate(205.37,210.66) scale(1.50)\" color=\"rgb(255,   0,   0)\"/>\n\t<use xlink:href=\"#gpPt6\" transform=\"translate(338.80,293.54) scale(1.50)\" color=\"rgb(255,   0,   0)\"/>\n\t<use xlink:href=\"#gpPt6\" transform=\"translate(191.57,137.52) scale(1.50)\" color=\"rgb(255,   0,   0)\"/>\n\t<use xlink:href=\"#gpPt6\" transform=\"translate(334.42,286.59) scale(1.50)\" color=\"rgb(255,   0,   0)\"/>\n\t<use xlink:href=\"#gpPt6\" transform=\"translate(213.46,172.27) scale(1.50)\" color=\"rgb(255,   0,   0)\"/>\n\t<use xlink:href=\"#gpPt6\" transform=\"translate(348.86,286.56) scale(1.50)\" color=\"rgb(255,   0,   0)\"/>\n\t<use xlink:href=\"#gpPt6\" transform=\"translate(189.58,198.98) scale(1.50)\" color=\"rgb(255,   0,   0)\"/>\n\t<use xlink:href=\"#gpPt6\" transform=\"translate(329.24,292.08) scale(1.50)\" color=\"rgb(255,   0,   0)\"/>\n\t<use xlink:href=\"#gpPt6\" transform=\"translate(277.60,207.50) scale(1.50)\" color=\"rgb(255,   0,   0)\"/>\n\t<use xlink:href=\"#gpPt6\" transform=\"translate(278.76,238.52) scale(1.50)\" color=\"rgb(255,   0,   0)\"/>\n\t<use xlink:href=\"#gpPt6\" transform=\"translate(344.19,277.70) scale(1.50)\" color=\"rgb(255,   0,   0)\"/>\n\t<use xlink:href=\"#gpPt6\" transform=\"translate(164.61,216.70) scale(1.50)\" color=\"rgb(255,   0,   0)\"/>\n\t<use xlink:href=\"#gpPt6\" transform=\"translate(327.92,285.85) scale(1.50)\" color=\"rgb(255,   0,   0)\"/>\n\t<use xlink:href=\"#gpPt6\" transform=\"translate(245.93,175.99) scale(1.50)\" color=\"rgb(255,   0,   0)\"/>\n\t<use xlink:href=\"#gpPt6\" transform=\"translate(337.91,277.27) scale(1.50)\" color=\"rgb(255,   0,   0)\"/>\n\t<use xlink:href=\"#gpPt6\" transform=\"translate(200.14,220.56) scale(1.50)\" color=\"rgb(255,   0,   0)\"/>\n\t<use xlink:href=\"#gpPt6\" transform=\"translate(334.12,275.70) scale(1.50)\" color=\"rgb(255,   0,   0)\"/>\n\t<use xlink:href=\"#gpPt6\" transform=\"translate(245.98,239.46) scale(1.50)\" color=\"rgb(255,   0,   0)\"/>\n\t<use xlink:href=\"#gpPt6\" transform=\"translate(330.49,297.84) scale(1.50)\" color=\"rgb(255,   0,   0)\"/>\n\t<use xlink:href=\"#gpPt6\" transform=\"translate(233.08,116.01) scale(1.50)\" color=\"rgb(255,   0,   0)\"/>\n\t<use xlink:href=\"#gpPt6\" transform=\"translate(350.88,279.70) scale(1.50)\" color=\"rgb(255,   0,   0)\"/>\n\t<use xlink:href=\"#gpPt6\" transform=\"translate(206.13,231.62) scale(1.50)\" color=\"rgb(255,   0,   0)\"/>\n\t<use xlink:href=\"#gpPt6\" transform=\"translate(337.91,291.61) scale(1.50)\" color=\"rgb(255,   0,   0)\"/>\n\t<use xlink:href=\"#gpPt6\" transform=\"translate(195.99,147.17) scale(1.50)\" color=\"rgb(255,   0,   0)\"/>\n\t<use xlink:href=\"#gpPt6\" transform=\"translate(345.07,291.92) scale(1.50)\" color=\"rgb(255,   0,   0)\"/>\n\t<use xlink:href=\"#gpPt6\" transform=\"translate(160.20,145.60) scale(1.50)\" color=\"rgb(255,   0,   0)\"/>\n\t<use xlink:href=\"#gpPt6\" transform=\"translate(343.91,291.86) scale(1.50)\" color=\"rgb(255,   0,   0)\"/>\n\t<use xlink:href=\"#gpPt6\" transform=\"translate(166.01,145.92) scale(1.50)\" color=\"rgb(255,   0,   0)\"/>\n\t<use xlink:href=\"#gpPt6\" transform=\"translate(334.20,297.73) scale(1.50)\" color=\"rgb(255,   0,   0)\"/>\n\t<use xlink:href=\"#gpPt6\" transform=\"translate(214.57,116.56) scale(1.50)\" color=\"rgb(255,   0,   0)\"/>\n\t<use xlink:href=\"#gpPt6\" transform=\"translate(331.22,277.14) scale(1.50)\" color=\"rgb(255,   0,   0)\"/>\n\t<use xlink:href=\"#gpPt6\" transform=\"translate(254.14,233.49) scale(1.50)\" color=\"rgb(255,   0,   0)\"/>\n\t<use xlink:href=\"#gpPt6\" transform=\"translate(333.79,296.15) scale(1.50)\" color=\"rgb(255,   0,   0)\"/>\n\t<use xlink:href=\"#gpPt6\" transform=\"translate(283.15,221.97) scale(1.50)\" color=\"rgb(255,   0,   0)\"/>\n\t<use xlink:href=\"#gpPt6\" transform=\"translate(316.05,300.85) scale(1.50)\" color=\"rgb(255,   0,   0)\"/>\n\t<use xlink:href=\"#gpPt6\" transform=\"translate(327.54,288.60) scale(1.50)\" color=\"rgb(255,   0,   0)\"/>\n\t<use xlink:href=\"#gpPt6\" transform=\"translate(247.87,162.20) scale(1.50)\" color=\"rgb(255,   0,   0)\"/>\n\t<use xlink:href=\"#gpPt6\" transform=\"translate(330.27,287.81) scale(1.50)\" color=\"rgb(255,   0,   0)\"/>\n\t<use xlink:href=\"#gpPt6\" transform=\"translate(234.19,166.18) scale(1.50)\" color=\"rgb(255,   0,   0)\"/>\n\t<use xlink:href=\"#gpPt6\" transform=\"translate(347.58,291.85) scale(1.50)\" color=\"rgb(255,   0,   0)\"/>\n\t<use xlink:href=\"#gpPt6\" transform=\"translate(174.83,165.79) scale(1.50)\" color=\"rgb(255,   0,   0)\"/>\n\t<use xlink:href=\"#gpPt6\" transform=\"translate(346.23,275.02) scale(1.50)\" color=\"rgb(255,   0,   0)\"/>\n\t<use xlink:href=\"#gpPt6\" transform=\"translate(154.39,230.11) scale(1.50)\" color=\"rgb(255,   0,   0)\"/>\n\t<use xlink:href=\"#gpPt6\" transform=\"translate(337.72,294.50) scale(1.50)\" color=\"rgb(255,   0,   0)\"/>\n\t<use xlink:href=\"#gpPt6\" transform=\"translate(196.96,132.71) scale(1.50)\" color=\"rgb(255,   0,   0)\"/>\n\t<use xlink:href=\"#gpPt6\" transform=\"translate(347.12,283.41) scale(1.50)\" color=\"rgb(255,   0,   0)\"/>\n\t<use xlink:href=\"#gpPt6\" transform=\"translate(168.28,197.04) scale(1.50)\" color=\"rgb(255,   0,   0)\"/>\n\t<use xlink:href=\"#gpPt6\" transform=\"translate(338.25,288.48) scale(1.50)\" color=\"rgb(255,   0,   0)\"/>\n\t<use xlink:href=\"#gpPt6\" transform=\"translate(194.32,162.84) scale(1.50)\" color=\"rgb(255,   0,   0)\"/>\n\t<use xlink:href=\"#gpPt6\" transform=\"translate(344.34,288.60) scale(1.50)\" color=\"rgb(255,   0,   0)\"/>\n\t<use xlink:href=\"#gpPt6\" transform=\"translate(163.85,162.22) scale(1.50)\" color=\"rgb(255,   0,   0)\"/>\n\t<use xlink:href=\"#gpPt6\" transform=\"translate(331.36,282.23) scale(1.50)\" color=\"rgb(255,   0,   0)\"/>\n\t<use xlink:href=\"#gpPt6\" transform=\"translate(228.74,194.09) scale(1.50)\" color=\"rgb(255,   0,   0)\"/>\n\t<use xlink:href=\"#gpPt6\" transform=\"translate(334.70,292.25) scale(1.50)\" color=\"rgb(255,   0,   0)\"/>\n\t<use xlink:href=\"#gpPt6\" transform=\"translate(212.03,143.99) scale(1.50)\" color=\"rgb(255,   0,   0)\"/>\n\t<use xlink:href=\"#gpPt6\" transform=\"translate(334.59,272.69) scale(1.50)\" color=\"rgb(255,   0,   0)\"/>\n\t<use xlink:href=\"#gpPt6\" transform=\"translate(259.21,253.58) scale(1.50)\" color=\"rgb(255,   0,   0)\"/>\n\t<use xlink:href=\"#gpPt6\" transform=\"translate(336.89,285.10) scale(1.50)\" color=\"rgb(255,   0,   0)\"/>\n\t<use xlink:href=\"#gpPt6\" transform=\"translate(201.09,179.74) scale(1.50)\" color=\"rgb(255,   0,   0)\"/>\n\t<use xlink:href=\"#gpPt6\" transform=\"translate(342.40,284.58) scale(1.50)\" color=\"rgb(255,   0,   0)\"/>\n\t<use xlink:href=\"#gpPt6\" transform=\"translate(173.57,182.31) scale(1.50)\" color=\"rgb(255,   0,   0)\"/>\n\t<use xlink:href=\"#gpPt6\" transform=\"translate(331.83,284.99) scale(1.50)\" color=\"rgb(255,   0,   0)\"/>\n\t<use xlink:href=\"#gpPt6\" transform=\"translate(286.88,240.34) scale(1.50)\" color=\"rgb(255,   0,   0)\"/>\n\t<use xlink:href=\"#gpPt6\" transform=\"translate(355.76,289.04) scale(1.50)\" color=\"rgb(255,   0,   0)\"/>\n\t<use xlink:href=\"#gpPt6\" transform=\"translate(344.86,275.93) scale(1.50)\" color=\"rgb(255,   0,   0)\"/>\n\t<use xlink:href=\"#gpPt6\" transform=\"translate(161.27,225.56) scale(1.50)\" color=\"rgb(255,   0,   0)\"/>\n\t<use xlink:href=\"#gpPt6\" transform=\"translate(347.83,275.14) scale(1.50)\" color=\"rgb(255,   0,   0)\"/>\n\t<use xlink:href=\"#gpPt6\" transform=\"translate(178.03,236.67) scale(1.50)\" color=\"rgb(255,   0,   0)\"/>\n\t<use xlink:href=\"#gpPt6\" transform=\"translate(348.39,290.36) scale(1.50)\" color=\"rgb(255,   0,   0)\"/>\n\t<use xlink:href=\"#gpPt6\" transform=\"translate(184.69,180.88) scale(1.50)\" color=\"rgb(255,   0,   0)\"/>\n\t<use xlink:href=\"#gpPt6\" transform=\"translate(332.25,288.74) scale(1.50)\" color=\"rgb(255,   0,   0)\"/>\n\t<use xlink:href=\"#gpPt6\" transform=\"translate(224.28,161.53) scale(1.50)\" color=\"rgb(255,   0,   0)\"/>\n\t<use xlink:href=\"#gpPt6\" transform=\"translate(332.24,298.00) scale(1.50)\" color=\"rgb(255,   0,   0)\"/>\n\t<use xlink:href=\"#gpPt6\" transform=\"translate(224.35,115.23) scale(1.50)\" color=\"rgb(255,   0,   0)\"/>\n\t<use xlink:href=\"#gpPt6\" transform=\"translate(341.49,294.72) scale(1.50)\" color=\"rgb(255,   0,   0)\"/>\n\t<use xlink:href=\"#gpPt6\" transform=\"translate(178.11,131.60) scale(1.50)\" color=\"rgb(255,   0,   0)\"/>\n\t<use xlink:href=\"#gpPt6\" transform=\"translate(339.46,275.86) scale(1.50)\" color=\"rgb(255,   0,   0)\"/>\n\t<use xlink:href=\"#gpPt6\" transform=\"translate(204.65,231.33) scale(1.50)\" color=\"rgb(255,   0,   0)\"/>\n\t<use xlink:href=\"#gpPt6\" transform=\"translate(333.64,287.61) scale(1.50)\" color=\"rgb(255,   0,   0)\"/>\n\t<use xlink:href=\"#gpPt6\" transform=\"translate(217.35,167.17) scale(1.50)\" color=\"rgb(255,   0,   0)\"/>\n\t<use xlink:href=\"#gpPt6\" transform=\"translate(334.57,278.17) scale(1.50)\" color=\"rgb(255,   0,   0)\"/>\n\t<use xlink:href=\"#gpPt6\" transform=\"translate(221.04,218.74) scale(1.50)\" color=\"rgb(255,   0,   0)\"/>\n\t<use xlink:href=\"#gpPt6\" transform=\"translate(334.81,287.40) scale(1.50)\" color=\"rgb(255,   0,   0)\"/>\n\t<use xlink:href=\"#gpPt6\" transform=\"translate(211.49,168.22) scale(1.50)\" color=\"rgb(255,   0,   0)\"/>\n\t<use xlink:href=\"#gpPt6\" transform=\"translate(343.43,279.13) scale(1.50)\" color=\"rgb(255,   0,   0)\"/>\n\t<use xlink:href=\"#gpPt6\" transform=\"translate(168.40,209.56) scale(1.50)\" color=\"rgb(255,   0,   0)\"/>\n\t<use xlink:href=\"#gpPt6\" transform=\"translate(339.58,283.79) scale(1.50)\" color=\"rgb(255,   0,   0)\"/>\n\t<use xlink:href=\"#gpPt6\" transform=\"translate(187.65,186.29) scale(1.50)\" color=\"rgb(255,   0,   0)\"/>\n\t<use xlink:href=\"#gpPt6\" transform=\"translate(331.06,285.49) scale(1.50)\" color=\"rgb(255,   0,   0)\"/>\n\t<use xlink:href=\"#gpPt6\" transform=\"translate(230.26,177.75) scale(1.50)\" color=\"rgb(255,   0,   0)\"/>\n\t<use xlink:href=\"#gpPt6\" transform=\"translate(334.17,293.90) scale(1.50)\" color=\"rgb(255,   0,   0)\"/>\n\t<use xlink:href=\"#gpPt6\" transform=\"translate(214.70,135.71) scale(1.50)\" color=\"rgb(255,   0,   0)\"/>\n\t<use xlink:href=\"#gpPt6\" transform=\"translate(331.72,295.53) scale(1.50)\" color=\"rgb(255,   0,   0)\"/>\n\t<use xlink:href=\"#gpPt6\" transform=\"translate(226.95,127.58) scale(1.50)\" color=\"rgb(255,   0,   0)\"/>\n\t<use xlink:href=\"#gpPt6\" transform=\"translate(350.89,281.57) scale(1.50)\" color=\"rgb(255,   0,   0)\"/>\n\t<use xlink:href=\"#gpPt6\" transform=\"translate(206.16,226.10) scale(1.50)\" color=\"rgb(255,   0,   0)\"/>\n\t<use xlink:href=\"#gpPt6\" transform=\"translate(338.34,290.73) scale(1.50)\" color=\"rgb(255,   0,   0)\"/>\n\t<use xlink:href=\"#gpPt6\" transform=\"translate(193.84,151.57) scale(1.50)\" color=\"rgb(255,   0,   0)\"/>\n\t<use xlink:href=\"#gpPt6\" transform=\"translate(343.45,294.62) scale(1.50)\" color=\"rgb(255,   0,   0)\"/>\n\t<use xlink:href=\"#gpPt6\" transform=\"translate(168.30,132.12) scale(1.50)\" color=\"rgb(255,   0,   0)\"/>\n\t<use xlink:href=\"#gpPt6\" transform=\"translate(333.98,288.13) scale(1.50)\" color=\"rgb(255,   0,   0)\"/>\n\t<use xlink:href=\"#gpPt6\" transform=\"translate(215.67,164.58) scale(1.50)\" color=\"rgb(255,   0,   0)\"/>\n\t<use xlink:href=\"#gpPt6\" transform=\"translate(339.68,270.55) scale(1.50)\" color=\"rgb(255,   0,   0)\"/>\n\t<use xlink:href=\"#gpPt6\" transform=\"translate(246.37,259.49) scale(1.50)\" color=\"rgb(255,   0,   0)\"/>\n\t<use xlink:href=\"#gpPt6\" transform=\"translate(339.86,281.36) scale(1.50)\" color=\"rgb(255,   0,   0)\"/>\n\t<use xlink:href=\"#gpPt6\" transform=\"translate(186.26,198.40) scale(1.50)\" color=\"rgb(255,   0,   0)\"/>\n\t<use xlink:href=\"#gpPt6\" transform=\"translate(339.67,276.39) scale(1.50)\" color=\"rgb(255,   0,   0)\"/>\n\t<use xlink:href=\"#gpPt6\" transform=\"translate(194.96,225.96) scale(1.50)\" color=\"rgb(255,   0,   0)\"/>\n\t<use xlink:href=\"#gpPt6\" transform=\"translate(328.11,291.23) scale(1.50)\" color=\"rgb(255,   0,   0)\"/>\n\t<use xlink:href=\"#gpPt6\" transform=\"translate(245.02,149.10) scale(1.50)\" color=\"rgb(255,   0,   0)\"/>\n\t<use xlink:href=\"#gpPt6\" transform=\"translate(327.20,290.72) scale(1.50)\" color=\"rgb(255,   0,   0)\"/>\n\t<use xlink:href=\"#gpPt6\" transform=\"translate(249.54,151.64) scale(1.50)\" color=\"rgb(255,   0,   0)\"/>\n\t<use xlink:href=\"#gpPt6\" transform=\"translate(337.11,277.37) scale(1.50)\" color=\"rgb(255,   0,   0)\"/>\n\t<use xlink:href=\"#gpPt6\" transform=\"translate(207.08,221.43) scale(1.50)\" color=\"rgb(255,   0,   0)\"/>\n\t<use xlink:href=\"#gpPt6\" transform=\"translate(330.00,286.78) scale(1.50)\" color=\"rgb(255,   0,   0)\"/>\n\t<use xlink:href=\"#gpPt6\" transform=\"translate(235.55,171.32) scale(1.50)\" color=\"rgb(255,   0,   0)\"/>\n\t<use xlink:href=\"#gpPt6\" transform=\"translate(345.91,270.59) scale(1.50)\" color=\"rgb(255,   0,   0)\"/>\n\t<use xlink:href=\"#gpPt6\" transform=\"translate(211.28,257.59) scale(1.50)\" color=\"rgb(255,   0,   0)\"/>\n\t<use xlink:href=\"#gpPt6\" transform=\"translate(339.54,284.49) scale(1.50)\" color=\"rgb(255,   0,   0)\"/>\n\t<use xlink:href=\"#gpPt6\" transform=\"translate(187.83,182.76) scale(1.50)\" color=\"rgb(255,   0,   0)\"/>\n\t<use xlink:href=\"#gpPt6\" transform=\"translate(340.08,285.97) scale(1.50)\" color=\"rgb(255,   0,   0)\"/>\n\t<use xlink:href=\"#gpPt6\" transform=\"translate(185.17,175.35) scale(1.50)\" color=\"rgb(255,   0,   0)\"/>\n\t<use xlink:href=\"#gpPt6\" transform=\"translate(339.27,281.67) scale(1.50)\" color=\"rgb(255,   0,   0)\"/>\n\t<use xlink:href=\"#gpPt6\" transform=\"translate(189.20,196.85) scale(1.50)\" color=\"rgb(255,   0,   0)\"/>\n\t<use xlink:href=\"#gpPt6\" transform=\"translate(328.33,283.13) scale(1.50)\" color=\"rgb(255,   0,   0)\"/>\n\t<use xlink:href=\"#gpPt6\" transform=\"translate(243.91,189.59) scale(1.50)\" color=\"rgb(255,   0,   0)\"/>\n\t<use xlink:href=\"#gpPt6\" transform=\"translate(333.65,276.73) scale(1.50)\" color=\"rgb(255,   0,   0)\"/>\n\t<use xlink:href=\"#gpPt6\" transform=\"translate(241.79,233.16) scale(1.50)\" color=\"rgb(255,   0,   0)\"/>\n\t<use xlink:href=\"#gpPt6\" transform=\"translate(344.78,288.52) scale(1.50)\" color=\"rgb(255,   0,   0)\"/>\n\t<use xlink:href=\"#gpPt6\" transform=\"translate(161.66,162.60) scale(1.50)\" color=\"rgb(255,   0,   0)\"/>\n\t<use xlink:href=\"#gpPt6\" transform=\"translate(343.64,273.73) scale(1.50)\" color=\"rgb(255,   0,   0)\"/>\n\t<use xlink:href=\"#gpPt6\" transform=\"translate(194.05,242.19) scale(1.50)\" color=\"rgb(255,   0,   0)\"/>\n\t<use xlink:href=\"#gpPt6\" transform=\"translate(351.82,279.49) scale(1.50)\" color=\"rgb(255,   0,   0)\"/>\n\t<use xlink:href=\"#gpPt6\" transform=\"translate(211.94,234.97) scale(1.50)\" color=\"rgb(255,   0,   0)\"/>\n\t<use xlink:href=\"#gpPt6\" transform=\"translate(336.83,271.88) scale(1.50)\" color=\"rgb(255,   0,   0)\"/>\n\t<use xlink:href=\"#gpPt6\" transform=\"translate(252.94,255.73) scale(1.50)\" color=\"rgb(255,   0,   0)\"/>\n\t<use xlink:href=\"#gpPt6\" transform=\"translate(352.23,279.09) scale(1.50)\" color=\"rgb(255,   0,   0)\"/>\n\t<use xlink:href=\"#gpPt6\" transform=\"translate(214.16,237.07) scale(1.50)\" color=\"rgb(255,   0,   0)\"/>\n\t<use xlink:href=\"#gpPt6\" transform=\"translate(335.60,288.60) scale(1.50)\" color=\"rgb(255,   0,   0)\"/>\n\t<use xlink:href=\"#gpPt6\" transform=\"translate(207.57,162.24) scale(1.50)\" color=\"rgb(255,   0,   0)\"/>\n\t<use xlink:href=\"#gpPt6\" transform=\"translate(341.79,279.76) scale(1.50)\" color=\"rgb(255,   0,   0)\"/>\n\t<use xlink:href=\"#gpPt6\" transform=\"translate(176.59,206.44) scale(1.50)\" color=\"rgb(255,   0,   0)\"/>\n\t<use xlink:href=\"#gpPt6\" transform=\"translate(348.91,283.60) scale(1.50)\" color=\"rgb(255,   0,   0)\"/>\n\t<use xlink:href=\"#gpPt6\" transform=\"translate(190.15,210.02) scale(1.50)\" color=\"rgb(255,   0,   0)\"/>\n\t<use xlink:href=\"#gpPt6\" transform=\"translate(333.07,284.92) scale(1.50)\" color=\"rgb(255,   0,   0)\"/>\n\t<use xlink:href=\"#gpPt6\" transform=\"translate(220.20,180.64) scale(1.50)\" color=\"rgb(255,   0,   0)\"/>\n\t<use xlink:href=\"#gpPt6\" transform=\"translate(341.82,274.24) scale(1.50)\" color=\"rgb(255,   0,   0)\"/>\n\t<use xlink:href=\"#gpPt6\" transform=\"translate(203.86,240.67) scale(1.50)\" color=\"rgb(255,   0,   0)\"/>\n\t<use xlink:href=\"#gpPt6\" transform=\"translate(339.66,281.11) scale(1.50)\" color=\"rgb(255,   0,   0)\"/>\n\t<use xlink:href=\"#gpPt6\" transform=\"translate(187.26,199.67) scale(1.50)\" color=\"rgb(255,   0,   0)\"/>\n\t<use xlink:href=\"#gpPt6\" transform=\"translate(335.15,281.13) scale(1.50)\" color=\"rgb(255,   0,   0)\"/>\n\t<use xlink:href=\"#gpPt6\" transform=\"translate(209.79,199.59) scale(1.50)\" color=\"rgb(255,   0,   0)\"/>\n\t<use xlink:href=\"#gpPt6\" transform=\"translate(335.24,291.05) scale(1.50)\" color=\"rgb(255,   0,   0)\"/>\n\t<use xlink:href=\"#gpPt6\" transform=\"translate(209.35,149.98) scale(1.50)\" color=\"rgb(255,   0,   0)\"/>\n\t<use xlink:href=\"#gpPt6\" transform=\"translate(350.96,272.99) scale(1.50)\" color=\"rgb(255,   0,   0)\"/>\n\t<use xlink:href=\"#gpPt6\" transform=\"translate(206.67,251.54) scale(1.50)\" color=\"rgb(255,   0,   0)\"/>\n\t<use xlink:href=\"#gpPt6\" transform=\"translate(340.73,277.15) scale(1.50)\" color=\"rgb(255,   0,   0)\"/>\n\t<use xlink:href=\"#gpPt6\" transform=\"translate(181.92,219.45) scale(1.50)\" color=\"rgb(255,   0,   0)\"/>\n\t<use xlink:href=\"#gpPt6\" transform=\"translate(334.76,293.06) scale(1.50)\" color=\"rgb(255,   0,   0)\"/>\n\t<use xlink:href=\"#gpPt6\" transform=\"translate(211.76,139.95) scale(1.50)\" color=\"rgb(255,   0,   0)\"/>\n\t<use xlink:href=\"#gpPt6\" transform=\"translate(336.67,298.96) scale(1.50)\" color=\"rgb(255,   0,   0)\"/>\n\t<use xlink:href=\"#gpPt6\" transform=\"translate(202.21,110.41) scale(1.50)\" color=\"rgb(255,   0,   0)\"/>\n\t<use xlink:href=\"#gpPt6\" transform=\"translate(344.89,294.96) scale(1.50)\" color=\"rgb(255,   0,   0)\"/>\n\t<use xlink:href=\"#gpPt6\" transform=\"translate(161.12,130.42) scale(1.50)\" color=\"rgb(255,   0,   0)\"/>\n\t<use xlink:href=\"#gpPt6\" transform=\"translate(350.67,281.71) scale(1.50)\" color=\"rgb(255,   0,   0)\"/>\n\t<use xlink:href=\"#gpPt6\" transform=\"translate(204.70,224.88) scale(1.50)\" color=\"rgb(255,   0,   0)\"/>\n\t<use xlink:href=\"#gpPt6\" transform=\"translate(328.38,295.49) scale(1.50)\" color=\"rgb(255,   0,   0)\"/>\n\t<use xlink:href=\"#gpPt6\" transform=\"translate(243.67,127.76) scale(1.50)\" color=\"rgb(255,   0,   0)\"/>\n\t<use xlink:href=\"#gpPt6\" transform=\"translate(336.41,295.77) scale(1.50)\" color=\"rgb(255,   0,   0)\"/>\n\t<use xlink:href=\"#gpPt6\" transform=\"translate(203.49,126.36) scale(1.50)\" color=\"rgb(255,   0,   0)\"/>\n\t<use xlink:href=\"#gpPt6\" transform=\"translate(333.87,285.15) scale(1.50)\" color=\"rgb(255,   0,   0)\"/>\n\t<use xlink:href=\"#gpPt6\" transform=\"translate(275.24,232.49) scale(1.50)\" color=\"rgb(255,   0,   0)\"/>\n\t<use xlink:href=\"#gpPt6\" transform=\"translate(240.38,269.59) scale(1.50)\" color=\"rgb(255,   0,   0)\"/>\n\t<use xlink:href=\"#gpPt6\" transform=\"translate(328.85,288.90) scale(1.50)\" color=\"rgb(255,   0,   0)\"/>\n\t<use xlink:href=\"#gpPt6\" transform=\"translate(241.31,160.74) scale(1.50)\" color=\"rgb(255,   0,   0)\"/>\n\t<use xlink:href=\"#gpPt6\" transform=\"translate(337.73,283.69) scale(1.50)\" color=\"rgb(255,   0,   0)\"/>\n\t<use xlink:href=\"#gpPt6\" transform=\"translate(196.90,186.76) scale(1.50)\" color=\"rgb(255,   0,   0)\"/>\n\t<use xlink:href=\"#gpPt6\" transform=\"translate(339.36,298.06) scale(1.50)\" color=\"rgb(255,   0,   0)\"/>\n\t<use xlink:href=\"#gpPt6\" transform=\"translate(188.73,114.92) scale(1.50)\" color=\"rgb(255,   0,   0)\"/>\n\t<use xlink:href=\"#gpPt6\" transform=\"translate(329.83,288.05) scale(1.50)\" color=\"rgb(255,   0,   0)\"/>\n\t<use xlink:href=\"#gpPt6\" transform=\"translate(236.42,164.98) scale(1.50)\" color=\"rgb(255,   0,   0)\"/>\n\t<use xlink:href=\"#gpPt6\" transform=\"translate(332.88,285.20) scale(1.50)\" color=\"rgb(255,   0,   0)\"/>\n\t<use xlink:href=\"#gpPt6\" transform=\"translate(221.15,179.22) scale(1.50)\" color=\"rgb(255,   0,   0)\"/>\n\t<use xlink:href=\"#gpPt6\" transform=\"translate(348.54,288.91) scale(1.50)\" color=\"rgb(255,   0,   0)\"/>\n\t<use xlink:href=\"#gpPt6\" transform=\"translate(186.33,187.78) scale(1.50)\" color=\"rgb(255,   0,   0)\"/>\n\t<use xlink:href=\"#gpPt6\" transform=\"translate(337.82,272.72) scale(1.50)\" color=\"rgb(255,   0,   0)\"/>\n\t<use xlink:href=\"#gpPt6\" transform=\"translate(243.73,252.01) scale(1.50)\" color=\"rgb(255,   0,   0)\"/>\n\t<use xlink:href=\"#gpPt6\" transform=\"translate(326.57,287.56) scale(1.50)\" color=\"rgb(255,   0,   0)\"/>\n\t<use xlink:href=\"#gpPt6\" transform=\"translate(252.69,167.43) scale(1.50)\" color=\"rgb(255,   0,   0)\"/>\n\t<use xlink:href=\"#gpPt6\" transform=\"translate(344.33,284.61) scale(1.50)\" color=\"rgb(255,   0,   0)\"/>\n\t<use xlink:href=\"#gpPt6\" transform=\"translate(163.92,182.19) scale(1.50)\" color=\"rgb(255,   0,   0)\"/>\n\t<use xlink:href=\"#gpPt6\" transform=\"translate(341.09,286.83) scale(1.50)\" color=\"rgb(255,   0,   0)\"/>\n\t<use xlink:href=\"#gpPt6\" transform=\"translate(180.10,171.07) scale(1.50)\" color=\"rgb(255,   0,   0)\"/>\n\t<use xlink:href=\"#gpPt6\" transform=\"translate(350.30,284.62) scale(1.50)\" color=\"rgb(255,   0,   0)\"/>\n\t<use xlink:href=\"#gpPt6\" transform=\"translate(202.01,214.32) scale(1.50)\" color=\"rgb(255,   0,   0)\"/>\n\t<use xlink:href=\"#gpPt6\" transform=\"translate(328.03,291.05) scale(1.50)\" color=\"rgb(255,   0,   0)\"/>\n\t<use xlink:href=\"#gpPt6\" transform=\"translate(245.40,149.97) scale(1.50)\" color=\"rgb(255,   0,   0)\"/>\n\t<use xlink:href=\"#gpPt6\" transform=\"translate(342.60,275.94) scale(1.50)\" color=\"rgb(255,   0,   0)\"/>\n\t<use xlink:href=\"#gpPt6\" transform=\"translate(172.56,225.54) scale(1.50)\" color=\"rgb(255,   0,   0)\"/>\n\t<use xlink:href=\"#gpPt6\" transform=\"translate(349.18,274.16) scale(1.50)\" color=\"rgb(255,   0,   0)\"/>\n\t<use xlink:href=\"#gpPt6\" transform=\"translate(192.66,244.45) scale(1.50)\" color=\"rgb(255,   0,   0)\"/>\n\t<use xlink:href=\"#gpPt6\" transform=\"translate(342.51,294.59) scale(1.50)\" color=\"rgb(255,   0,   0)\"/>\n\t<use xlink:href=\"#gpPt6\" transform=\"translate(172.98,132.26) scale(1.50)\" color=\"rgb(255,   0,   0)\"/>\n\t<use xlink:href=\"#gpPt6\" transform=\"translate(335.28,287.78) scale(1.50)\" color=\"rgb(255,   0,   0)\"/>\n\t<use xlink:href=\"#gpPt6\" transform=\"translate(209.15,166.34) scale(1.50)\" color=\"rgb(255,   0,   0)\"/>\n\t<use xlink:href=\"#gpPt6\" transform=\"translate(340.04,278.20) scale(1.50)\" color=\"rgb(255,   0,   0)\"/>\n\t<use xlink:href=\"#gpPt6\" transform=\"translate(185.37,214.20) scale(1.50)\" color=\"rgb(255,   0,   0)\"/>\n\t<use xlink:href=\"#gpPt6\" transform=\"translate(331.81,277.39) scale(1.50)\" color=\"rgb(255,   0,   0)\"/>\n\t<use xlink:href=\"#gpPt6\" transform=\"translate(248.97,230.89) scale(1.50)\" color=\"rgb(255,   0,   0)\"/>\n\t<use xlink:href=\"#gpPt6\" transform=\"translate(340.01,275.43) scale(1.50)\" color=\"rgb(255,   0,   0)\"/>\n\t<use xlink:href=\"#gpPt6\" transform=\"translate(205.12,234.06) scale(1.50)\" color=\"rgb(255,   0,   0)\"/>\n\t<use xlink:href=\"#gpPt6\" transform=\"translate(346.75,290.63) scale(1.50)\" color=\"rgb(255,   0,   0)\"/>\n\t<use xlink:href=\"#gpPt6\" transform=\"translate(162.42,159.63) scale(1.50)\" color=\"rgb(255,   0,   0)\"/>\n\t<use xlink:href=\"#gpPt6\" transform=\"translate(330.26,292.07) scale(1.50)\" color=\"rgb(255,   0,   0)\"/>\n\t<use xlink:href=\"#gpPt6\" transform=\"translate(234.26,144.89) scale(1.50)\" color=\"rgb(255,   0,   0)\"/>\n\t<use xlink:href=\"#gpPt6\" transform=\"translate(348.67,283.25) scale(1.50)\" color=\"rgb(255,   0,   0)\"/>\n\t<use xlink:href=\"#gpPt6\" transform=\"translate(187.71,209.78) scale(1.50)\" color=\"rgb(255,   0,   0)\"/>\n\t<use xlink:href=\"#gpPt6\" transform=\"translate(328.74,295.12) scale(1.50)\" color=\"rgb(255,   0,   0)\"/>\n\t<use xlink:href=\"#gpPt6\" transform=\"translate(241.87,129.65) scale(1.50)\" color=\"rgb(255,   0,   0)\"/>\n\t<use xlink:href=\"#gpPt6\" transform=\"translate(346.28,288.28) scale(1.50)\" color=\"rgb(255,   0,   0)\"/>\n\t<use xlink:href=\"#gpPt6\" transform=\"translate(154.13,163.81) scale(1.50)\" color=\"rgb(255,   0,   0)\"/>\n\t<use xlink:href=\"#gpPt6\" transform=\"translate(346.35,290.83) scale(1.50)\" color=\"rgb(255,   0,   0)\"/>\n\t<use xlink:href=\"#gpPt6\" transform=\"translate(155.31,152.16) scale(1.50)\" color=\"rgb(255,   0,   0)\"/>\n\t<use xlink:href=\"#gpPt6\" transform=\"translate(344.54,295.01) scale(1.50)\" color=\"rgb(255,   0,   0)\"/>\n\t<use xlink:href=\"#gpPt6\" transform=\"translate(162.83,130.20) scale(1.50)\" color=\"rgb(255,   0,   0)\"/>\n\t<use xlink:href=\"#gpPt6\" transform=\"translate(342.10,282.25) scale(1.50)\" color=\"rgb(255,   0,   0)\"/>\n\t<use xlink:href=\"#gpPt6\" transform=\"translate(175.05,193.97) scale(1.50)\" color=\"rgb(255,   0,   0)\"/>\n\t<use xlink:href=\"#gpPt6\" transform=\"translate(345.04,282.98) scale(1.50)\" color=\"rgb(255,   0,   0)\"/>\n\t<use xlink:href=\"#gpPt6\" transform=\"translate(160.38,190.34) scale(1.50)\" color=\"rgb(255,   0,   0)\"/>\n\t<use xlink:href=\"#gpPt6\" transform=\"translate(337.50,275.76) scale(1.50)\" color=\"rgb(255,   0,   0)\"/>\n\t<use xlink:href=\"#gpPt6\" transform=\"translate(222.65,235.12) scale(1.50)\" color=\"rgb(255,   0,   0)\"/>\n\t<use xlink:href=\"#gpPt6\" transform=\"translate(342.49,286.28) scale(1.50)\" color=\"rgb(255,   0,   0)\"/>\n\t<use xlink:href=\"#gpPt6\" transform=\"translate(173.11,173.83) scale(1.50)\" color=\"rgb(255,   0,   0)\"/>\n\t<use xlink:href=\"#gpPt6\" transform=\"translate(352.45,281.58) scale(1.50)\" color=\"rgb(255,   0,   0)\"/>\n\t<use xlink:href=\"#gpPt6\" transform=\"translate(215.35,231.17) scale(1.50)\" color=\"rgb(255,   0,   0)\"/>\n\t<use xlink:href=\"#gpPt6\" transform=\"translate(336.63,285.29) scale(1.50)\" color=\"rgb(255,   0,   0)\"/>\n\t<use xlink:href=\"#gpPt6\" transform=\"translate(202.43,178.78) scale(1.50)\" color=\"rgb(255,   0,   0)\"/>\n\t<use xlink:href=\"#gpPt6\" transform=\"translate(334.93,282.34) scale(1.50)\" color=\"rgb(255,   0,   0)\"/>\n\t<use xlink:href=\"#gpPt6\" transform=\"translate(210.89,193.54) scale(1.50)\" color=\"rgb(255,   0,   0)\"/>\n\t<use xlink:href=\"#gpPt6\" transform=\"translate(340.60,282.41) scale(1.50)\" color=\"rgb(255,   0,   0)\"/>\n\t<use xlink:href=\"#gpPt6\" transform=\"translate(182.57,193.17) scale(1.50)\" color=\"rgb(255,   0,   0)\"/>\n\t<use xlink:href=\"#gpPt6\" transform=\"translate(338.88,276.82) scale(1.50)\" color=\"rgb(255,   0,   0)\"/>\n\t<use xlink:href=\"#gpPt6\" transform=\"translate(196.84,223.28) scale(1.50)\" color=\"rgb(255,   0,   0)\"/>\n\t<use xlink:href=\"#gpPt6\" transform=\"translate(331.84,288.18) scale(1.50)\" color=\"rgb(255,   0,   0)\"/>\n\t<use xlink:href=\"#gpPt6\" transform=\"translate(226.35,164.32) scale(1.50)\" color=\"rgb(255,   0,   0)\"/>\n\t<use xlink:href=\"#gpPt6\" transform=\"translate(336.22,294.24) scale(1.50)\" color=\"rgb(255,   0,   0)\"/>\n\t<use xlink:href=\"#gpPt6\" transform=\"translate(204.48,134.04) scale(1.50)\" color=\"rgb(255,   0,   0)\"/>\n\t<use xlink:href=\"#gpPt6\" transform=\"translate(336.65,291.47) scale(1.50)\" color=\"rgb(255,   0,   0)\"/>\n\t<use xlink:href=\"#gpPt6\" transform=\"translate(202.31,147.87) scale(1.50)\" color=\"rgb(255,   0,   0)\"/>\n\t<use xlink:href=\"#gpPt6\" transform=\"translate(346.10,272.51) scale(1.50)\" color=\"rgb(255,   0,   0)\"/>\n\t<use xlink:href=\"#gpPt6\" transform=\"translate(187.92,247.79) scale(1.50)\" color=\"rgb(255,   0,   0)\"/>\n\t<use xlink:href=\"#gpPt6\" transform=\"translate(332.65,296.65) scale(1.50)\" color=\"rgb(255,   0,   0)\"/>\n\t<use xlink:href=\"#gpPt6\" transform=\"translate(284.84,220.98) scale(1.50)\" color=\"rgb(255,   0,   0)\"/>\n\t<use xlink:href=\"#gpPt6\" transform=\"translate(220.60,269.56) scale(1.50)\" color=\"rgb(255,   0,   0)\"/>\n\t<use xlink:href=\"#gpPt6\" transform=\"translate(327.90,284.39) scale(1.50)\" color=\"rgb(255,   0,   0)\"/>\n\t<use xlink:href=\"#gpPt6\" transform=\"translate(297.10,246.33) scale(1.50)\" color=\"rgb(255,   0,   0)\"/>\n\t<use xlink:href=\"#gpPt6\" transform=\"translate(221.71,109.73) scale(1.50)\" color=\"rgb(255,   0,   0)\"/>\n\t<use xlink:href=\"#gpPt6\" transform=\"translate(330.47,287.52) scale(1.50)\" color=\"rgb(255,   0,   0)\"/>\n\t<use xlink:href=\"#gpPt6\" transform=\"translate(233.22,167.62) scale(1.50)\" color=\"rgb(255,   0,   0)\"/>\n\t<use xlink:href=\"#gpPt6\" transform=\"translate(338.88,286.86) scale(1.50)\" color=\"rgb(255,   0,   0)\"/>\n\t<use xlink:href=\"#gpPt6\" transform=\"translate(191.15,170.93) scale(1.50)\" color=\"rgb(255,   0,   0)\"/>\n\t<use xlink:href=\"#gpPt6\" transform=\"translate(348.47,287.70) scale(1.50)\" color=\"rgb(255,   0,   0)\"/>\n\t<use xlink:href=\"#gpPt6\" transform=\"translate(185.56,191.70) scale(1.50)\" color=\"rgb(255,   0,   0)\"/>\n\t<use xlink:href=\"#gpPt6\" transform=\"translate(336.47,278.06) scale(1.50)\" color=\"rgb(255,   0,   0)\"/>\n\t<use xlink:href=\"#gpPt6\" transform=\"translate(262.87,243.18) scale(1.50)\" color=\"rgb(255,   0,   0)\"/>\n\t<use xlink:href=\"#gpPt6\" transform=\"translate(270.73,278.76) scale(1.50)\" color=\"rgb(255,   0,   0)\"/>\n</g>\n\t</g>\n\t<g id=\"gnuplot_plot_3a\"><title>gnuplot_plot_3a</title>\n<g fill=\"none\" color=\"black\" stroke=\"currentColor\" stroke-width=\"0.50\" stroke-linecap=\"butt\" stroke-linejoin=\"miter\">\n\t<path stroke=\"rgb(  0,   0,   0)\" d=\"M296.55,257.86 L306.79,252.17 L316.02,243.49 L323.34,232.69 L328.05,220.80 L329.67,209.02 L328.05,198.47 L323.34,190.20   L316.02,185.01 L306.79,183.42 L296.55,185.58  \"/></g>\n\t</g>\n\t<g id=\"gnuplot_plot_4a\"><title>gnuplot_plot_4a</title>\n<g fill=\"none\" color=\"black\" stroke=\"currentColor\" stroke-width=\"0.50\" stroke-linecap=\"butt\" stroke-linejoin=\"miter\">\n\t<path stroke=\"rgb(  0,   0,   0)\" d=\"M296.55,257.86 L300.22,249.91 L303.52,239.20 L306.14,226.77 L307.83,213.86 L308.41,201.72 L307.83,191.53 L306.14,184.29   L303.52,180.72 L300.22,181.16 L296.55,185.58  \"/></g>\n\t</g>\n\t<g id=\"gnuplot_plot_5a\"><title>gnuplot_plot_5a</title>\n<g fill=\"none\" color=\"black\" stroke=\"currentColor\" stroke-width=\"0.50\" stroke-linecap=\"butt\" stroke-linejoin=\"miter\">\n\t<path stroke=\"rgb(  0,   0,   0)\" d=\"M296.55,257.86 L292.25,250.02 L288.36,239.40 L285.28,227.05 L283.30,214.18 L282.62,202.05 L283.30,191.85 L285.28,184.56   L288.36,180.92 L292.25,181.27 L296.55,185.58  \"/></g>\n\t</g>\n\t<g id=\"gnuplot_plot_6a\"><title>gnuplot_plot_6a</title>\n<g fill=\"none\" color=\"black\" stroke=\"currentColor\" stroke-width=\"0.50\" stroke-linecap=\"butt\" stroke-linejoin=\"miter\">\n\t<path stroke=\"rgb(  0,   0,   0)\" d=\"M296.55,257.86 L285.92,252.44 L276.34,244.01 L268.73,233.40 L263.85,221.64 L262.16,209.91 L263.85,199.31 L268.73,190.92   L276.34,185.53 L285.92,183.69 L296.55,185.58  \"/></g>\n\t</g>\n\t<g id=\"gnuplot_plot_7a\"><title>gnuplot_plot_7a</title>\n<g fill=\"none\" color=\"black\" stroke=\"currentColor\" stroke-width=\"0.50\" stroke-linecap=\"butt\" stroke-linejoin=\"miter\">\n\t<path stroke=\"rgb(  0,   0,   0)\" d=\"M296.55,257.86 L283.66,256.26 L272.04,251.28 L262.81,243.41 L256.88,233.41 L254.84,222.26 L256.88,211.07 L262.81,200.92   L272.04,192.80 L283.66,187.52 L296.55,185.58  \"/></g>\n\t</g>\n\t<g id=\"gnuplot_plot_8a\"><title>gnuplot_plot_8a</title>\n<g fill=\"none\" color=\"black\" stroke=\"currentColor\" stroke-width=\"0.50\" stroke-linecap=\"butt\" stroke-linejoin=\"miter\">\n\t<path stroke=\"rgb(  0,   0,   0)\" d=\"M296.55,257.86 L286.32,260.02 L277.10,258.43 L269.77,253.24 L265.07,244.97 L263.45,234.42 L265.07,222.63 L269.77,210.75   L277.10,199.95 L286.32,191.27 L296.55,185.58  \"/></g>\n\t</g>\n\t<g id=\"gnuplot_plot_9a\"><title>gnuplot_plot_9a</title>\n<g fill=\"none\" color=\"black\" stroke=\"currentColor\" stroke-width=\"0.50\" stroke-linecap=\"butt\" stroke-linejoin=\"miter\">\n\t<path stroke=\"rgb(  0,   0,   0)\" d=\"M296.55,257.86 L292.89,262.28 L289.58,262.72 L286.96,259.15 L285.28,251.92 L284.70,241.73 L285.28,229.58 L286.96,216.66   L289.58,204.24 L292.89,193.53 L296.55,185.58  \"/></g>\n\t</g>\n\t<g id=\"gnuplot_plot_10a\"><title>gnuplot_plot_10a</title>\n<g fill=\"none\" color=\"black\" stroke=\"currentColor\" stroke-width=\"0.50\" stroke-linecap=\"butt\" stroke-linejoin=\"miter\">\n\t<path stroke=\"rgb(  0,   0,   0)\" d=\"M296.55,257.86 L300.86,262.17 L304.74,262.52 L307.82,258.88 L309.80,251.60 L310.49,241.39 L309.80,229.26 L307.82,216.39   L304.74,204.05 L300.86,193.43 L296.55,185.58  \"/></g>\n\t</g>\n\t<g id=\"gnuplot_plot_11a\"><title>gnuplot_plot_11a</title>\n<g fill=\"none\" color=\"black\" stroke=\"currentColor\" stroke-width=\"0.50\" stroke-linecap=\"butt\" stroke-linejoin=\"miter\">\n\t<path stroke=\"rgb(  0,   0,   0)\" d=\"M296.55,257.86 L307.18,259.75 L316.77,257.91 L324.38,252.53 L329.27,244.13 L330.95,233.54 L329.27,221.79 L324.38,210.03   L316.77,199.43 L307.18,191.00 L296.55,185.58  \"/></g>\n\t</g>\n\t<g id=\"gnuplot_plot_12a\"><title>gnuplot_plot_12a</title>\n<g fill=\"none\" color=\"black\" stroke=\"currentColor\" stroke-width=\"0.50\" stroke-linecap=\"butt\" stroke-linejoin=\"miter\">\n\t<path stroke=\"rgb(  0,   0,   0)\" d=\"M296.55,257.86 L309.45,255.93 L321.08,250.64 L330.31,242.52 L336.24,232.37 L338.28,221.17 L336.24,210.03 L330.31,200.04   L321.08,192.16 L309.45,187.18 L296.55,185.58  \"/></g>\n\t</g>\n\t<g id=\"gnuplot_plot_13a\"><title>gnuplot_plot_13a</title>\n<g fill=\"none\" color=\"black\" stroke=\"currentColor\" stroke-width=\"0.50\" stroke-linecap=\"butt\" stroke-linejoin=\"miter\">\n\t<path stroke=\"rgb(  0,   0,   0)\" d=\"M296.55,257.86 L306.79,252.17 L316.02,243.49 L323.34,232.69 L328.05,220.80 L329.67,209.02 L328.05,198.47 L323.34,190.20   L316.02,185.01 L306.79,183.42 L296.55,185.58  \"/></g>\n\t</g>\n\t<g id=\"gnuplot_plot_14a\"><title>gnuplot_plot_14a</title>\n<g fill=\"none\" color=\"black\" stroke=\"currentColor\" stroke-width=\"0.50\" stroke-linecap=\"butt\" stroke-linejoin=\"miter\">\n\t<path stroke=\"rgb(  0,   0,   0)\" d=\"M296.55,257.86  \"/></g>\n\t</g>\n\t<g id=\"gnuplot_plot_15a\"><title>gnuplot_plot_15a</title>\n<g fill=\"none\" color=\"black\" stroke=\"currentColor\" stroke-width=\"0.50\" stroke-linecap=\"butt\" stroke-linejoin=\"miter\">\n\t<path stroke=\"rgb(  0,   0,   0)\" d=\"M306.79,252.17 L300.22,249.91 L292.25,250.02 L285.92,252.44 L283.66,256.26 L286.32,260.02 L292.89,262.28 L300.86,262.17   L307.18,259.75 L309.45,255.93 L306.79,252.17  \"/></g>\n\t</g>\n\t<g id=\"gnuplot_plot_16a\"><title>gnuplot_plot_16a</title>\n<g fill=\"none\" color=\"black\" stroke=\"currentColor\" stroke-width=\"0.50\" stroke-linecap=\"butt\" stroke-linejoin=\"miter\">\n\t<path stroke=\"rgb(  0,   0,   0)\" d=\"M316.02,243.49 L303.52,239.20 L288.36,239.40 L276.34,244.01 L272.04,251.28 L277.10,258.43 L289.58,262.72 L304.74,262.52   L316.77,257.91 L321.08,250.64 L316.02,243.49  \"/></g>\n\t</g>\n\t<g id=\"gnuplot_plot_17a\"><title>gnuplot_plot_17a</title>\n<g fill=\"none\" color=\"black\" stroke=\"currentColor\" stroke-width=\"0.50\" stroke-linecap=\"butt\" stroke-linejoin=\"miter\">\n\t<path stroke=\"rgb(  0,   0,   0)\" d=\"M323.34,232.69 L306.14,226.77 L285.28,227.05 L268.73,233.40 L262.81,243.41 L269.77,253.24 L286.96,259.15 L307.82,258.88   L324.38,252.53 L330.31,242.52 L323.34,232.69  \"/></g>\n\t</g>\n\t<g id=\"gnuplot_plot_18a\"><title>gnuplot_plot_18a</title>\n<g fill=\"none\" color=\"black\" stroke=\"currentColor\" stroke-width=\"0.50\" stroke-linecap=\"butt\" stroke-linejoin=\"miter\">\n\t<path stroke=\"rgb(  0,   0,   0)\" d=\"M328.05,220.80 L307.83,213.86 L283.30,214.18 L263.85,221.64 L256.88,233.41 L265.07,244.97 L285.28,251.92 L309.80,251.60   L329.27,244.13 L336.24,232.37 L328.05,220.80  \"/></g>\n\t</g>\n\t<g id=\"gnuplot_plot_19a\"><title>gnuplot_plot_19a</title>\n<g fill=\"none\" color=\"black\" stroke=\"currentColor\" stroke-width=\"0.50\" stroke-linecap=\"butt\" stroke-linejoin=\"miter\">\n\t<path stroke=\"rgb(  0,   0,   0)\" d=\"M329.67,209.02 L308.41,201.72 L282.62,202.05 L262.16,209.91 L254.84,222.26 L263.45,234.42 L284.70,241.73 L310.49,241.39   L330.95,233.54 L338.28,221.17 L329.67,209.02  \"/></g>\n\t</g>\n\t<g id=\"gnuplot_plot_20a\"><title>gnuplot_plot_20a</title>\n<g fill=\"none\" color=\"black\" stroke=\"currentColor\" stroke-width=\"0.50\" stroke-linecap=\"butt\" stroke-linejoin=\"miter\">\n\t<path stroke=\"rgb(  0,   0,   0)\" d=\"M328.05,198.47 L307.83,191.53 L283.30,191.85 L263.85,199.31 L256.88,211.07 L265.07,222.63 L285.28,229.58 L309.80,229.26   L329.27,221.79 L336.24,210.03 L328.05,198.47  \"/></g>\n\t</g>\n\t<g id=\"gnuplot_plot_21a\"><title>gnuplot_plot_21a</title>\n<g fill=\"none\" color=\"black\" stroke=\"currentColor\" stroke-width=\"0.50\" stroke-linecap=\"butt\" stroke-linejoin=\"miter\">\n\t<path stroke=\"rgb(  0,   0,   0)\" d=\"M323.34,190.20 L306.14,184.29 L285.28,184.56 L268.73,190.92 L262.81,200.92 L269.77,210.75 L286.96,216.66 L307.82,216.39   L324.38,210.03 L330.31,200.04 L323.34,190.20  \"/></g>\n\t</g>\n\t<g id=\"gnuplot_plot_22a\"><title>gnuplot_plot_22a</title>\n<g fill=\"none\" color=\"black\" stroke=\"currentColor\" stroke-width=\"0.50\" stroke-linecap=\"butt\" stroke-linejoin=\"miter\">\n\t<path stroke=\"rgb(  0,   0,   0)\" d=\"M316.02,185.01 L303.52,180.72 L288.36,180.92 L276.34,185.53 L272.04,192.80 L277.10,199.95 L289.58,204.24 L304.74,204.05   L316.77,199.43 L321.08,192.16 L316.02,185.01  \"/></g>\n\t</g>\n\t<g id=\"gnuplot_plot_23a\"><title>gnuplot_plot_23a</title>\n<g fill=\"none\" color=\"black\" stroke=\"currentColor\" stroke-width=\"0.50\" stroke-linecap=\"butt\" stroke-linejoin=\"miter\">\n\t<path stroke=\"rgb(  0,   0,   0)\" d=\"M306.79,183.42 L300.22,181.16 L292.25,181.27 L285.92,183.69 L283.66,187.52 L286.32,191.27 L292.89,193.53 L300.86,193.43   L307.18,191.00 L309.45,187.18 L306.79,183.42  \"/></g>\n\t</g>\n\t<g id=\"gnuplot_plot_24a\"><title>gnuplot_plot_24a</title>\n<g fill=\"none\" color=\"black\" stroke=\"currentColor\" stroke-width=\"0.50\" stroke-linecap=\"butt\" stroke-linejoin=\"miter\">\n\t<path stroke=\"rgb(  0,   0,   0)\" d=\"M296.55,185.58  \"/></g>\n\t</g>\n<g fill=\"none\" color=\"white\" stroke=\"rgb(  0,   0,   0)\" stroke-width=\"1.00\" stroke-linecap=\"butt\" stroke-linejoin=\"miter\">\n</g>\n<g fill=\"none\" color=\"black\" stroke=\"currentColor\" stroke-width=\"1.00\" stroke-linecap=\"butt\" stroke-linejoin=\"miter\">\n\t<path stroke=\"rgb(  0,   0,   0)\" d=\"M455.57,330.01 L256.88,406.24  \"/></g>\n<g fill=\"none\" color=\"black\" stroke=\"currentColor\" stroke-width=\"1.00\" stroke-linecap=\"butt\" stroke-linejoin=\"miter\">\n\t<path stroke=\"rgb(  0,   0,   0)\" d=\"M104.42,306.89 L256.88,406.24  \"/></g>\n</g>\n</svg>"
          },
          "metadata": {}
        }
      ]
    },
    {
      "cell_type": "markdown",
      "source": [
        "The above JSON string based shape construct can also be generated by converting a MATLAB/Octave struct object as JSON via JSONLab's `savejson(.., 'compact',1)` function - this makes it easier to edit and the output is always valid JSON"
      ],
      "metadata": {
        "id": "vSVm5WHhO9TV"
      }
    },
    {
      "cell_type": "code",
      "source": [
        "%%octave\n",
        "\n",
        "% shape JSON construct fieldname is case-sensitive\n",
        "\n",
        "Shapes={};  % Shapes is a cell array\n",
        "Shapes{end+1}=struct('Grid', struct('Tag', 1, 'Size', [40,60,30]));  % add Grid object with label 1\n",
        "Shapes{end+1}=struct('Sphere', struct('Tag', 2, 'O', [20,30,10], 'R', 10)); % add a sphere with label 2\n",
        "\n",
        "cfg.shapes=savejson('Shapes', Shapes, 'compact', 1);\n",
        "\n",
        "cfg.shapes"
      ],
      "metadata": {
        "id": "GN-kSziAO37z"
      },
      "execution_count": null,
      "outputs": []
    },
    {
      "cell_type": "markdown",
      "source": [
        "## Exec 2 - Photon detection and detected photon data processing\n",
        "\n",
        "----\n",
        "\n",
        "Another key aspect of MCX simulations is the ability to obtain physical quantities associated with each simulated **photon packet**, especially those arriving at the desired detectors.\n",
        "\n",
        "Here, the keyword **photon packet** is the key. <font color=orange>MCX **DOES NOT** simulate individual photon</font>. Instead, each simulated \"photon\" is a packet, made of billions of individual photons. By propagating such packet, some of the photons in the packet are absorbed/disappeared. What's left in the packet is characterized by a floating-point number, called weight. A packet is launched with a unitless weight of 1, and\n",
        "\n",
        "There are 3 machanisms to obtain detected photon information.\n",
        "\n",
        "- using disk-shaped detectors, defined via `cfg.detpos=[dx,dy,dz,R]`\n",
        "- using boundary condition flag `cfg.bc='______111111'` to capture photons escaping from the bounding box, or\n",
        "- using `cfg.issaveref=1` to enable diffuse reflectance on the selected surface\n",
        "\n"
      ],
      "metadata": {
        "id": "aTpyrP8NhYyZ"
      }
    },
    {
      "cell_type": "code",
      "source": [
        "%%octave\n",
        "clear cfg\n",
        "\n",
        "% make sure you terminate each statement by ';' so no excessive printing that could overwhelm the runtime\n",
        "\n",
        "cfg.nphoton=1e7;\n",
        "cfg.tstart=0;\n",
        "cfg.tend=5e-9;\n",
        "cfg.tstep=5e-9;\n",
        "\n",
        "% define the domain using shapes descriptors\n",
        "cfg.vol=zeros(60,60,60);\n",
        "cfg.shapes= '{\"Shapes\":[{\"Sphere\":{\"Tag\":1,\"O\":[30,30,30],\"R\":30}}]}';\n",
        "cfg.prop=[0, 0, 1, 1; 0.02, 1, 0, 1.37];\n",
        "\n",
        "%cfg.shapes= '{\"Shapes\":[{\"Grid\":{\"Tag\":1,\"Size\":[60,60,60]}},{\"Sphere\":{\"Tag\":2,\"O\":[30,30,30],\"R\":30}}]}';\n",
        "%cfg.prop=[0, 0, 1, 1; 0, 0, 1, 1; 0.02, 1, 0, 1.37];\n",
        "\n",
        "cfg.issrcfrom0=1;\n",
        "% below are the primary options for controlling source behaviors\n",
        "cfg.srctype='pencil';\n",
        "cfg.srcpos=[30,30,0];\n",
        "cfg.srcdir=[0,0,1];\n",
        "\n",
        "% mcx detectors captures photons at the \"intersecting surface\" between tissue-0-voxel boundary and a sphere of given radius\n",
        "% when multiple detectors have overlapping surface, the lower-index detector takes priority\n",
        "% this allows us to create ring-like detectors\n",
        "\n",
        "cfg.detpos=[30,30,60,5      % detector 1: centered on top of the sphere; radius 5\n",
        "            30,30,60,10     % detector 2: centered on top of the sphere; radius 10\n",
        "            30,30,60,15     % detector 3: centered on top of the sphere; radius 15\n",
        "            30,30,60,20];   % detector 4: centered on top of the sphere; radius 20\n",
        "cfg.bc='______000100';      % also save all photons escaping from x=x_max bounding box face\n",
        "\n",
        "cfg.savedetflag='dpxv';     % save d: det_id, p: ppath, x: exit position, v: exit direction"
      ],
      "metadata": {
        "id": "qkNWl6QIqvd9"
      },
      "execution_count": null,
      "outputs": []
    },
    {
      "cell_type": "markdown",
      "source": [
        "Now run the simulation and plot the exiting positions of each captured packet, colored by the detector ID"
      ],
      "metadata": {
        "id": "sy0Kqc2N3O4B"
      }
    },
    {
      "cell_type": "code",
      "source": [
        "%%octave\n",
        "[flux, detp, vol]=mcxlab(cfg);\n",
        "\n",
        "fieldnames(detp)\n",
        "size(detp.data)\n",
        "\n",
        "close all\n",
        "\n",
        "[sx,sy,sz]=sphere;\n",
        "surf(sx*29+30, sy*29+30, sz*29+30, 'facecolor', 'none')\n",
        "\n",
        "hold on;\n",
        "\n",
        "% all detected photons are located on the spherical object surface\n",
        "% overlapping detectors are captured by det of the lowerest index\n",
        "\n",
        "plotmesh(detp.p(detp.detid==1,:), 'r.')\n",
        "plotmesh(detp.p(detp.detid==2,:), 'g.')\n",
        "plotmesh(detp.p(detp.detid==3,:), 'y.')\n",
        "plotmesh(detp.p(detp.detid==4,:), 'b.')\n",
        "plotmesh(detp.p(detp.detid==-1,:), 'm.')  % packets captured by boundary condition flag have ID of -1\n",
        "\n",
        "surf(sx*15+30, sy*15+30, sz*15+60, 'facecolor', 'none')\n",
        "\n",
        "set(gca, 'position', [0 0 1 1]);\n",
        "\n"
      ],
      "metadata": {
        "colab": {
          "base_uri": "https://localhost:8080/",
          "height": 1000
        },
        "id": "JvQvu_2zsc2R",
        "outputId": "c4385e07-b054-4e75-9d8e-e4dbc7ae86e3"
      },
      "execution_count": null,
      "outputs": [
        {
          "output_type": "display_data",
          "data": {
            "text/plain": [
              "Launching MCXLAB - Monte Carlo eXtreme for MATLAB & GNU Octave ..."
            ]
          },
          "metadata": {}
        },
        {
          "output_type": "display_data",
          "data": {
            "text/plain": [
              "Running simulations for configuration #1 ..."
            ]
          },
          "metadata": {}
        },
        {
          "output_type": "display_data",
          "data": {
            "text/plain": [
              "mcx.nphoton=1e+07;"
            ]
          },
          "metadata": {}
        },
        {
          "output_type": "display_data",
          "data": {
            "text/plain": [
              "mcx.tstart=0;"
            ]
          },
          "metadata": {}
        },
        {
          "output_type": "display_data",
          "data": {
            "text/plain": [
              "mcx.tend=5e-09;"
            ]
          },
          "metadata": {}
        },
        {
          "output_type": "display_data",
          "data": {
            "text/plain": [
              "mcx.tstep=5e-09;"
            ]
          },
          "metadata": {}
        },
        {
          "output_type": "display_data",
          "data": {
            "text/plain": [
              "mcx.dim=[60 60 60];"
            ]
          },
          "metadata": {}
        },
        {
          "output_type": "display_data",
          "data": {
            "text/plain": [
              "mcx.mediabyte=4;"
            ]
          },
          "metadata": {}
        },
        {
          "output_type": "display_data",
          "data": {
            "text/plain": [
              "mcx.shapedata='{\"Shapes\":[{\"Sphere\":{\"Tag\":1,\"O\":[30,30,30],\"R\":30}}]}';"
            ]
          },
          "metadata": {}
        },
        {
          "output_type": "display_data",
          "data": {
            "text/plain": [
              "mcx.medianum=2;"
            ]
          },
          "metadata": {}
        },
        {
          "output_type": "display_data",
          "data": {
            "text/plain": [
              "mcx.issrcfrom0=1;"
            ]
          },
          "metadata": {}
        },
        {
          "output_type": "display_data",
          "data": {
            "text/plain": [
              "mcx.srctype='pencil';"
            ]
          },
          "metadata": {}
        },
        {
          "output_type": "display_data",
          "data": {
            "text/plain": [
              "mcx.srcpos=[30 30 0 1];"
            ]
          },
          "metadata": {}
        },
        {
          "output_type": "display_data",
          "data": {
            "text/plain": [
              "mcx.srcdir=[0 0 1 0];"
            ]
          },
          "metadata": {}
        },
        {
          "output_type": "display_data",
          "data": {
            "text/plain": [
              "mcx.detnum=4;"
            ]
          },
          "metadata": {}
        },
        {
          "output_type": "display_data",
          "data": {
            "text/plain": [
              "mcx.bc='______000100';"
            ]
          },
          "metadata": {}
        },
        {
          "output_type": "display_data",
          "data": {
            "text/plain": [
              "mcx.savedetflag=53;"
            ]
          },
          "metadata": {}
        },
        {
          "output_type": "display_data",
          "data": {
            "text/plain": [
              "###############################################################################"
            ]
          },
          "metadata": {}
        },
        {
          "output_type": "display_data",
          "data": {
            "text/plain": [
              "#                      Monte Carlo eXtreme (MCX) -- CUDA                      #"
            ]
          },
          "metadata": {}
        },
        {
          "output_type": "display_data",
          "data": {
            "text/plain": [
              "#          Copyright (c) 2009-2024 Qianqian Fang <q.fang at neu.edu>          #"
            ]
          },
          "metadata": {}
        },
        {
          "output_type": "display_data",
          "data": {
            "text/plain": [
              "#                https://mcx.space/  &  https://neurojson.io/                 #"
            ]
          },
          "metadata": {}
        },
        {
          "output_type": "display_data",
          "data": {
            "text/plain": [
              "#                                                                             #"
            ]
          },
          "metadata": {}
        },
        {
          "output_type": "display_data",
          "data": {
            "text/plain": [
              "# Computational Optics & Translational Imaging (COTI) Lab- http://fanglab.org #"
            ]
          },
          "metadata": {}
        },
        {
          "output_type": "display_data",
          "data": {
            "text/plain": [
              "#   Department of Bioengineering, Northeastern University, Boston, MA, USA    #"
            ]
          },
          "metadata": {}
        },
        {
          "output_type": "display_data",
          "data": {
            "text/plain": [
              "###############################################################################"
            ]
          },
          "metadata": {}
        },
        {
          "output_type": "display_data",
          "data": {
            "text/plain": [
              "#    The MCX Project is funded by the NIH/NIGMS under grant R01-GM114365      #"
            ]
          },
          "metadata": {}
        },
        {
          "output_type": "display_data",
          "data": {
            "text/plain": [
              "###############################################################################"
            ]
          },
          "metadata": {}
        },
        {
          "output_type": "display_data",
          "data": {
            "text/plain": [
              "#  Open-source codes and reusable scientific data are essential for research, #"
            ]
          },
          "metadata": {}
        },
        {
          "output_type": "display_data",
          "data": {
            "text/plain": [
              "# MCX proudly developed human-readable JSON-based data formats for easy reuse.#"
            ]
          },
          "metadata": {}
        },
        {
          "output_type": "display_data",
          "data": {
            "text/plain": [
              "#                                                                             #"
            ]
          },
          "metadata": {}
        },
        {
          "output_type": "display_data",
          "data": {
            "text/plain": [
              "#Please visit our free scientific data sharing portal at https://neurojson.io/#"
            ]
          },
          "metadata": {}
        },
        {
          "output_type": "display_data",
          "data": {
            "text/plain": [
              "# and consider sharing your public datasets in standardized JSON/JData format #"
            ]
          },
          "metadata": {}
        },
        {
          "output_type": "display_data",
          "data": {
            "text/plain": [
              "###############################################################################"
            ]
          },
          "metadata": {}
        },
        {
          "output_type": "display_data",
          "data": {
            "text/plain": [
              "$Rev::f959c7$v2024.6 $Date::2024-06-22 15:23:34 -04$ by $Author::Qianqian Fang$"
            ]
          },
          "metadata": {}
        },
        {
          "output_type": "display_data",
          "data": {
            "text/plain": [
              "###############################################################################"
            ]
          },
          "metadata": {}
        },
        {
          "output_type": "display_data",
          "data": {
            "text/plain": [
              "- code name: [Jumbo Jolt] compiled by nvcc [9.0] for CUDA-arch [350] on [Jun 22 2024]"
            ]
          },
          "metadata": {}
        },
        {
          "output_type": "display_data",
          "data": {
            "text/plain": [
              "- compiled with: RNG [xorshift128+] with Seed Length [4]"
            ]
          },
          "metadata": {}
        },
        {
          "output_type": "display_data",
          "data": {
            "text/plain": []
          },
          "metadata": {}
        },
        {
          "output_type": "display_data",
          "data": {
            "text/plain": [
              "GPU=1 (Tesla T4) threadph=122 extra=5760 np=10000000 nthread=81920 maxgate=1 repetition=1"
            ]
          },
          "metadata": {}
        },
        {
          "output_type": "display_data",
          "data": {
            "text/plain": [
              "initializing streams ...\tinit complete : 0 ms"
            ]
          },
          "metadata": {}
        },
        {
          "output_type": "display_data",
          "data": {
            "text/plain": [
              "requesting 1536 bytes of shared memory"
            ]
          },
          "metadata": {}
        },
        {
          "output_type": "display_data",
          "data": {
            "text/plain": [
              "launching MCX simulation for time window [0.00e+00ns 5.00e+00ns] ..."
            ]
          },
          "metadata": {}
        },
        {
          "output_type": "display_data",
          "data": {
            "text/plain": [
              "simulation run# 1 ..."
            ]
          },
          "metadata": {}
        },
        {
          "output_type": "display_data",
          "data": {
            "text/plain": [
              "kernel complete:  \t449 ms"
            ]
          },
          "metadata": {}
        },
        {
          "output_type": "display_data",
          "data": {
            "text/plain": [
              "retrieving fields ... \tdetected 23750 photons, total: 23750\ttransfer complete:\t461 ms"
            ]
          },
          "metadata": {}
        },
        {
          "output_type": "display_data",
          "data": {
            "text/plain": [
              "normalizing raw data ...\tsource 1, normalization factor alpha=20.000000"
            ]
          },
          "metadata": {}
        },
        {
          "output_type": "display_data",
          "data": {
            "text/plain": [
              "data normalization complete : 468 ms"
            ]
          },
          "metadata": {}
        },
        {
          "output_type": "display_data",
          "data": {
            "text/plain": [
              "simulated 10000000 photons (10000000) with 81920 threads (repeat x1)"
            ]
          },
          "metadata": {}
        },
        {
          "output_type": "display_data",
          "data": {
            "text/plain": [
              "MCX simulation speed: 23696.68 photon/ms"
            ]
          },
          "metadata": {}
        },
        {
          "output_type": "display_data",
          "data": {
            "text/plain": [
              "total simulated energy: 10000000.00\tabsorbed: 41.29900%"
            ]
          },
          "metadata": {}
        },
        {
          "output_type": "display_data",
          "data": {
            "text/plain": [
              "(loss due to initial specular reflection is excluded in the total)"
            ]
          },
          "metadata": {}
        },
        {
          "output_type": "display_data",
          "data": {
            "text/plain": [
              "ans ="
            ]
          },
          "metadata": {}
        },
        {
          "output_type": "display_data",
          "data": {
            "text/plain": [
              "{"
            ]
          },
          "metadata": {}
        },
        {
          "output_type": "display_data",
          "data": {
            "text/plain": [
              "  [1,1] = detid"
            ]
          },
          "metadata": {}
        },
        {
          "output_type": "display_data",
          "data": {
            "text/plain": [
              "  [2,1] = ppath"
            ]
          },
          "metadata": {}
        },
        {
          "output_type": "display_data",
          "data": {
            "text/plain": [
              "  [3,1] = p"
            ]
          },
          "metadata": {}
        },
        {
          "output_type": "display_data",
          "data": {
            "text/plain": [
              "  [4,1] = v"
            ]
          },
          "metadata": {}
        },
        {
          "output_type": "display_data",
          "data": {
            "text/plain": [
              "  [5,1] = prop"
            ]
          },
          "metadata": {}
        },
        {
          "output_type": "display_data",
          "data": {
            "text/plain": [
              "  [6,1] = data"
            ]
          },
          "metadata": {}
        },
        {
          "output_type": "display_data",
          "data": {
            "text/plain": [
              "}"
            ]
          },
          "metadata": {}
        },
        {
          "output_type": "display_data",
          "data": {
            "text/plain": []
          },
          "metadata": {}
        },
        {
          "output_type": "display_data",
          "data": {
            "text/plain": [
              "ans ="
            ]
          },
          "metadata": {}
        },
        {
          "output_type": "display_data",
          "data": {
            "text/plain": []
          },
          "metadata": {}
        },
        {
          "output_type": "display_data",
          "data": {
            "text/plain": [
              "       8   23750"
            ]
          },
          "metadata": {}
        },
        {
          "output_type": "display_data",
          "data": {
            "text/plain": []
          },
          "metadata": {}
        },
        {
          "output_type": "display_data",
          "data": {
            "image/png": "[encoded data removed]",
            "text/plain": [
              "<IPython.core.display.Image object>"
            ]
          },
          "metadata": {}
        }
      ]
    },
    {
      "cell_type": "markdown",
      "source": [
        "Obtaining detected photon data have many applications in biophotonics data processing. For example, the partial pathlength can be used to compute detector measurement by summing the total detected weight."
      ],
      "metadata": {
        "id": "shCZtd-p3Yy8"
      }
    },
    {
      "cell_type": "code",
      "source": [
        "%%octave\n",
        "\n",
        "detw=mcxdetweight(detp);\n",
        "det1=sum(detw(detp.detid==1))   % detected total weight from detector-1\n",
        "det2=sum(detw(detp.detid==2))   % detected total weight from detector-2\n",
        "det3=sum(detw(detp.detid==3))\n",
        "det4=sum(detw(detp.detid==4))\n",
        "\n",
        "newprop=detp.prop;\n",
        "newprop(2,1)=0.03;  % changing medium-1 mua to 0.03/mm from 0.02\n",
        "\n",
        "detw=mcxdetweight(detp, newprop);\n",
        "det1=sum(detw(detp.detid==1))\n",
        "det2=sum(detw(detp.detid==2))\n",
        "det3=sum(detw(detp.detid==3))\n",
        "det4=sum(detw(detp.detid==4))\n",
        "\n",
        "system('ls MCXStudio/MCXSuite/mcx/utils/mcx*.m')\n",
        "help mcxmeanpath\n",
        "\n",
        "mcxmeanpath(struct('ppath', detp.ppath(detp.detid==1, :)), detp.prop)\n",
        "mcxmeanpath(struct('ppath', detp.ppath(detp.detid==3, :)), detp.prop)\n",
        "mcxmeanpath(struct('ppath', detp.ppath(detp.detid==-1, :)), detp.prop)"
      ],
      "metadata": {
        "id": "9H1PL5QvsiLP"
      },
      "execution_count": null,
      "outputs": []
    },
    {
      "cell_type": "markdown",
      "source": [
        "## Exec 3 - Improving boundary handling with split-voxel MC (SVMC) - understanding MCX's weaknesses\n",
        "\n",
        "MCX relies on voxel-based domain dicretization to model 3-D complex media. It has the benefits\n",
        "- computationally efficient\n",
        "- arbitrarily complex\n",
        "- matching medical imaging data structure\n",
        "\n",
        "However, the stair-case nature of the voxelated boundary shape creates challenges in certain applications\n",
        "- domain boundary is very coarse that deviates from a curved boundary\n",
        "- low-scattering media where smoothly varying curve boundary presents drastically different reflection/transmission behavior than stair-case boundary\n",
        "- tissue shape feature size is much smaller than voxel-size - skin over thick tissue, capilaries inside optically-thick tissues\n",
        "\n",
        "Such limitations have been significantly addressed with our mesh-based MC (MMC) and implicit MMC (iMMC) algorithms (will cover in another session) - at the cost of slightly more complex data structures (mesh vs voxels), and different ray-tracing computation costs (ray-voxel intersecting test is much simpler than ray-tetrahedron intersecting tests).\n",
        "\n",
        "Nonetheless, our group had developed an improved voxel-based MC simulation technique, published in the following paper\n",
        "\n",
        "> Shijie Yan and Qianqian Fang*, [\"A hybrid mesh and voxel based Monte Carlo algorithm for accurate and efficient photon transport modeling in complex bio-tissues,\"](https://www.osapublishing.org/boe/abstract.cfm?uri=boe-11-11-6262) Biomed. Opt. Express, 11(11) pp. 6262-6270 (2020).\n",
        "\n",
        "This new technique, named split-voxel MC (SVMC) is essentially a hybrid mesh/voxel based domain that is both memory efficient while is capable of storing oblique surfaces within voxel based data.\n",
        "\n",
        "![](http://mcx.space/wiki/upload/mcx_svmc_diagram.png)\n"
      ],
      "metadata": {
        "id": "vyqvS2Bv7GF-"
      }
    },
    {
      "cell_type": "code",
      "source": [
        "%%octave\n",
        "clear cfg\n",
        "\n",
        "% make sure you terminate each statement by ';' so no excessive printing that could overwhelm the runtime\n",
        "\n",
        "cfg.nphoton=100;\n",
        "cfg.tstart=0;\n",
        "cfg.tend=5e-9;\n",
        "cfg.tstep=5e-9;\n",
        "\n",
        "% define the domain using shapes descriptors\n",
        "cfg.vol=zeros(60,60,60);\n",
        "cfg.shapes= '{\"Shapes\":[{\"Sphere\":{\"Tag\":1,\"O\":[30,30,30],\"R\":15}}]}';\n",
        "cfg.prop=[0, 0, 1, 1; 0.02, 0, 1, 5];\n",
        "\n",
        "cfg.issrcfrom0=1;\n",
        "% below are the primary options for controlling source behaviors\n",
        "cfg.srctype='disk';\n",
        "cfg.srcpos=[30,30,0];\n",
        "cfg.srcdir=[0.2,0,1]/sqrt(1+0.04);\n",
        "cfg.srcparam1=[1,0,0,0];"
      ],
      "metadata": {
        "id": "Z5F31wFH9Fo2"
      },
      "execution_count": 3,
      "outputs": []
    },
    {
      "cell_type": "code",
      "source": [
        "%%octave -f svg\n",
        "\n",
        "cfg.debuglevel='T';\n",
        "\n",
        "traj=mcxlab(cfg);\n",
        "\n",
        "close all\n",
        "\n",
        "shapes=loadjson(cfg.shapes);\n",
        "[sx,sy,sz]=sphere;\n",
        "\n",
        "R=shapes.Shapes.Sphere.R;\n",
        "C0=shapes.Shapes.Sphere.O;\n",
        "surf(sx*R+C0(1), sy*R+C0(2), sz*R+C0(3), 'facecolor', 'none')\n",
        "\n",
        "hold on;\n",
        "sortedlines=mcxplotphotons(traj, 'marker','.', 'markersize', 3, 'markeredgecolor', 'r');\n",
        "axis equal\n",
        "set(gca, 'position', [0 0 1 1]);"
      ],
      "metadata": {
        "colab": {
          "base_uri": "https://localhost:8080/",
          "height": 1000
        },
        "id": "IM6Xy5Rv-TxR",
        "outputId": "6ab2154c-9f41-4241-a062-73d6009a9abb"
      },
      "execution_count": 4,
      "outputs": [
        {
          "output_type": "display_data",
          "data": {
            "text/plain": [
              "Launching MCXLAB - Monte Carlo eXtreme for MATLAB & GNU Octave ..."
            ]
          },
          "metadata": {}
        },
        {
          "output_type": "display_data",
          "data": {
            "text/plain": [
              "Running simulations for configuration #1 ..."
            ]
          },
          "metadata": {}
        },
        {
          "output_type": "display_data",
          "data": {
            "text/plain": [
              "mcx.nphoton=100;"
            ]
          },
          "metadata": {}
        },
        {
          "output_type": "display_data",
          "data": {
            "text/plain": [
              "mcx.tstart=0;"
            ]
          },
          "metadata": {}
        },
        {
          "output_type": "display_data",
          "data": {
            "text/plain": [
              "mcx.tend=5e-09;"
            ]
          },
          "metadata": {}
        },
        {
          "output_type": "display_data",
          "data": {
            "text/plain": [
              "mcx.tstep=5e-09;"
            ]
          },
          "metadata": {}
        },
        {
          "output_type": "display_data",
          "data": {
            "text/plain": [
              "mcx.dim=[60 60 60];"
            ]
          },
          "metadata": {}
        },
        {
          "output_type": "display_data",
          "data": {
            "text/plain": [
              "mcx.mediabyte=4;"
            ]
          },
          "metadata": {}
        },
        {
          "output_type": "display_data",
          "data": {
            "text/plain": [
              "mcx.shapedata='{\"Shapes\":[{\"Sphere\":{\"Tag\":1,\"O\":[30,30,30],\"R\":15}}]}';"
            ]
          },
          "metadata": {}
        },
        {
          "output_type": "display_data",
          "data": {
            "text/plain": [
              "mcx.medianum=2;"
            ]
          },
          "metadata": {}
        },
        {
          "output_type": "display_data",
          "data": {
            "text/plain": [
              "mcx.issrcfrom0=1;"
            ]
          },
          "metadata": {}
        },
        {
          "output_type": "display_data",
          "data": {
            "text/plain": [
              "mcx.srctype='disk';"
            ]
          },
          "metadata": {}
        },
        {
          "output_type": "display_data",
          "data": {
            "text/plain": [
              "mcx.srcpos=[30 30 0 1];"
            ]
          },
          "metadata": {}
        },
        {
          "output_type": "display_data",
          "data": {
            "text/plain": [
              "mcx.srcdir=[0.196116 0 0.980581 0];"
            ]
          },
          "metadata": {}
        },
        {
          "output_type": "display_data",
          "data": {
            "text/plain": [
              "mcx.srcparam1=[1 0 0 0];"
            ]
          },
          "metadata": {}
        },
        {
          "output_type": "display_data",
          "data": {
            "text/plain": [
              "mcx.debuglevel=8;"
            ]
          },
          "metadata": {}
        },
        {
          "output_type": "display_data",
          "data": {
            "text/plain": [
              "###############################################################################"
            ]
          },
          "metadata": {}
        },
        {
          "output_type": "display_data",
          "data": {
            "text/plain": [
              "#                      Monte Carlo eXtreme (MCX) -- CUDA                      #"
            ]
          },
          "metadata": {}
        },
        {
          "output_type": "display_data",
          "data": {
            "text/plain": [
              "#          Copyright (c) 2009-2024 Qianqian Fang <q.fang at neu.edu>          #"
            ]
          },
          "metadata": {}
        },
        {
          "output_type": "display_data",
          "data": {
            "text/plain": [
              "#                https://mcx.space/  &  https://neurojson.io/                 #"
            ]
          },
          "metadata": {}
        },
        {
          "output_type": "display_data",
          "data": {
            "text/plain": [
              "#                                                                             #"
            ]
          },
          "metadata": {}
        },
        {
          "output_type": "display_data",
          "data": {
            "text/plain": [
              "# Computational Optics & Translational Imaging (COTI) Lab- http://fanglab.org #"
            ]
          },
          "metadata": {}
        },
        {
          "output_type": "display_data",
          "data": {
            "text/plain": [
              "#   Department of Bioengineering, Northeastern University, Boston, MA, USA    #"
            ]
          },
          "metadata": {}
        },
        {
          "output_type": "display_data",
          "data": {
            "text/plain": [
              "###############################################################################"
            ]
          },
          "metadata": {}
        },
        {
          "output_type": "display_data",
          "data": {
            "text/plain": [
              "#    The MCX Project is funded by the NIH/NIGMS under grant R01-GM114365      #"
            ]
          },
          "metadata": {}
        },
        {
          "output_type": "display_data",
          "data": {
            "text/plain": [
              "###############################################################################"
            ]
          },
          "metadata": {}
        },
        {
          "output_type": "display_data",
          "data": {
            "text/plain": [
              "#  Open-source codes and reusable scientific data are essential for research, #"
            ]
          },
          "metadata": {}
        },
        {
          "output_type": "display_data",
          "data": {
            "text/plain": [
              "# MCX proudly developed human-readable JSON-based data formats for easy reuse.#"
            ]
          },
          "metadata": {}
        },
        {
          "output_type": "display_data",
          "data": {
            "text/plain": [
              "#                                                                             #"
            ]
          },
          "metadata": {}
        },
        {
          "output_type": "display_data",
          "data": {
            "text/plain": [
              "#Please visit our free scientific data sharing portal at https://neurojson.io/#"
            ]
          },
          "metadata": {}
        },
        {
          "output_type": "display_data",
          "data": {
            "text/plain": [
              "# and consider sharing your public datasets in standardized JSON/JData format #"
            ]
          },
          "metadata": {}
        },
        {
          "output_type": "display_data",
          "data": {
            "text/plain": [
              "###############################################################################"
            ]
          },
          "metadata": {}
        },
        {
          "output_type": "display_data",
          "data": {
            "text/plain": [
              "$Rev::f959c7$v2024.6 $Date::2024-06-22 15:23:34 -04$ by $Author::Qianqian Fang$"
            ]
          },
          "metadata": {}
        },
        {
          "output_type": "display_data",
          "data": {
            "text/plain": [
              "###############################################################################"
            ]
          },
          "metadata": {}
        },
        {
          "output_type": "display_data",
          "data": {
            "text/plain": [
              "- code name: [Jumbo Jolt] compiled by nvcc [9.0] for CUDA-arch [350] on [Jun 22 2024]"
            ]
          },
          "metadata": {}
        },
        {
          "output_type": "display_data",
          "data": {
            "text/plain": [
              "- compiled with: RNG [xorshift128+] with Seed Length [4]"
            ]
          },
          "metadata": {}
        },
        {
          "output_type": "display_data",
          "data": {
            "text/plain": []
          },
          "metadata": {}
        },
        {
          "output_type": "display_data",
          "data": {
            "text/plain": [
              "GPU=1 (Tesla T4) threadph=0 extra=100 np=100 nthread=81920 maxgate=1 repetition=1"
            ]
          },
          "metadata": {}
        },
        {
          "output_type": "display_data",
          "data": {
            "text/plain": [
              "initializing streams ...\tinit complete : 0 ms"
            ]
          },
          "metadata": {}
        },
        {
          "output_type": "display_data",
          "data": {
            "text/plain": [
              "requesting 1280 bytes of shared memory"
            ]
          },
          "metadata": {}
        },
        {
          "output_type": "display_data",
          "data": {
            "text/plain": [
              "launching MCX simulation for time window [0.00e+00ns 5.00e+00ns] ..."
            ]
          },
          "metadata": {}
        },
        {
          "output_type": "display_data",
          "data": {
            "text/plain": [
              "simulation run# 1 ..."
            ]
          },
          "metadata": {}
        },
        {
          "output_type": "display_data",
          "data": {
            "text/plain": [
              "kernel complete:  \t35 ms"
            ]
          },
          "metadata": {}
        },
        {
          "output_type": "display_data",
          "data": {
            "text/plain": [
              "retrieving fields ... \tsaved 423 trajectory positions, total: 423\tsimulated 100 photons (100) with 81920 threads (repeat x1)"
            ]
          },
          "metadata": {}
        },
        {
          "output_type": "display_data",
          "data": {
            "text/plain": [
              "MCX simulation speed: 20.00 photon/ms"
            ]
          },
          "metadata": {}
        },
        {
          "output_type": "display_data",
          "data": {
            "text/plain": [
              "total simulated energy: 100.00\tabsorbed: 56.48633%"
            ]
          },
          "metadata": {}
        },
        {
          "output_type": "display_data",
          "data": {
            "text/plain": [
              "(loss due to initial specular reflection is excluded in the total)"
            ]
          },
          "metadata": {}
        },
        {
          "output_type": "display_data",
          "data": {
            "text/plain": [
              "<IPython.core.display.SVG object>"
            ],
            "image/svg+xml": "<svg xmlns=\"http://www.w3.org/2000/svg\" xmlns:xlink=\"http://www.w3.org/1999/xlink\" width=\"560px\" height=\"420px\" viewBox=\"0 0 560 420\">\n\n<title>Gnuplot</title>\n<desc>Produced by GNUPLOT 5.4 patchlevel 2 </desc>\n\n<g id=\"gnuplot_canvas\">\n\n<rect x=\"0\" y=\"0\" width=\"560\" height=\"420\" fill=\"none\"/>\n<defs>\n\n\t<circle id=\"gpDot\" r=\"0.5\" stroke-width=\"0.5\" stroke=\"currentColor\"/>\n\t<path id=\"gpPt0\" stroke-width=\"0.222\" stroke=\"currentColor\" d=\"M-1,0 h2 M0,-1 v2\"/>\n\t<path id=\"gpPt1\" stroke-width=\"0.222\" stroke=\"currentColor\" d=\"M-1,-1 L1,1 M1,-1 L-1,1\"/>\n\t<path id=\"gpPt2\" stroke-width=\"0.222\" stroke=\"currentColor\" d=\"M-1,0 L1,0 M0,-1 L0,1 M-1,-1 L1,1 M-1,1 L1,-1\"/>\n\t<rect id=\"gpPt3\" stroke-width=\"0.222\" stroke=\"currentColor\" x=\"-1\" y=\"-1\" width=\"2\" height=\"2\"/>\n\t<rect id=\"gpPt4\" stroke-width=\"0.222\" stroke=\"currentColor\" fill=\"currentColor\" x=\"-1\" y=\"-1\" width=\"2\" height=\"2\"/>\n\t<circle id=\"gpPt5\" stroke-width=\"0.222\" stroke=\"currentColor\" cx=\"0\" cy=\"0\" r=\"1\"/>\n\t<use xlink:href=\"#gpPt5\" id=\"gpPt6\" fill=\"currentColor\" stroke=\"none\"/>\n\t<path id=\"gpPt7\" stroke-width=\"0.222\" stroke=\"currentColor\" d=\"M0,-1.33 L-1.33,0.67 L1.33,0.67 z\"/>\n\t<use xlink:href=\"#gpPt7\" id=\"gpPt8\" fill=\"currentColor\" stroke=\"none\"/>\n\t<use xlink:href=\"#gpPt7\" id=\"gpPt9\" stroke=\"currentColor\" transform=\"rotate(180)\"/>\n\t<use xlink:href=\"#gpPt9\" id=\"gpPt10\" fill=\"currentColor\" stroke=\"none\"/>\n\t<use xlink:href=\"#gpPt3\" id=\"gpPt11\" stroke=\"currentColor\" transform=\"rotate(45)\"/>\n\t<use xlink:href=\"#gpPt11\" id=\"gpPt12\" fill=\"currentColor\" stroke=\"none\"/>\n\t<path id=\"gpPt13\" stroke-width=\"0.222\" stroke=\"currentColor\" d=\"M0,1.330 L1.265,0.411 L0.782,-1.067 L-0.782,-1.076 L-1.265,0.411 z\"/>\n\t<use xlink:href=\"#gpPt13\" id=\"gpPt14\" fill=\"currentColor\" stroke=\"none\"/>\n\t<filter id=\"textbox\" filterUnits=\"objectBoundingBox\" x=\"0\" y=\"0\" height=\"1\" width=\"1\">\n\t  <feFlood flood-color=\"white\" flood-opacity=\"1\" result=\"bgnd\"/>\n\t  <feComposite in=\"SourceGraphic\" in2=\"bgnd\" operator=\"atop\"/>\n\t</filter>\n\t<filter id=\"greybox\" filterUnits=\"objectBoundingBox\" x=\"0\" y=\"0\" height=\"1\" width=\"1\">\n\t  <feFlood flood-color=\"lightgrey\" flood-opacity=\"1\" result=\"grey\"/>\n\t  <feComposite in=\"SourceGraphic\" in2=\"grey\" operator=\"atop\"/>\n\t</filter>\n</defs>\n<g fill=\"none\" color=\"white\" stroke=\"currentColor\" stroke-width=\"1.00\" stroke-linecap=\"butt\" stroke-linejoin=\"miter\">\n</g>\n<g fill=\"none\" color=\"black\" stroke=\"currentColor\" stroke-width=\"1.00\" stroke-linecap=\"butt\" stroke-linejoin=\"miter\">\n</g>\n<g fill=\"none\" color=\"black\" stroke=\"currentColor\" stroke-width=\"1.00\" stroke-linecap=\"butt\" stroke-linejoin=\"miter\">\n</g>\n<g fill=\"none\" color=\"black\" stroke=\"currentColor\" stroke-width=\"1.00\" stroke-linecap=\"butt\" stroke-linejoin=\"miter\">\n\t<path stroke=\"rgb(  0,   0,   0)\" d=\"M104.42,306.89 L104.42,90.00  \"/></g>\n<g fill=\"none\" color=\"black\" stroke=\"rgb(  0,   0,   0)\" stroke-width=\"0.50\" stroke-linecap=\"butt\" stroke-linejoin=\"miter\">\n</g>\n<g fill=\"none\" color=\"black\" stroke=\"currentColor\" stroke-width=\"0.50\" stroke-linecap=\"butt\" stroke-linejoin=\"miter\">\n\t<path stroke=\"rgb( 38,  38,  38)\" opacity=\"0.15\" class=\"gridline\" d=\"M256.88,406.24 L104.42,306.89  \"/></g>\n<g fill=\"none\" color=\"black\" stroke=\"rgb( 38,  38,  38)\" stroke-width=\"1.00\" stroke-linecap=\"butt\" stroke-linejoin=\"miter\">\n</g>\n<g fill=\"none\" color=\"black\" stroke=\"currentColor\" stroke-width=\"1.00\" stroke-linecap=\"butt\" stroke-linejoin=\"miter\">\n\t<path stroke=\"rgb(  0,   0,   0)\" d=\"M256.88,406.24 L264.55,411.23  \"/>\t<g transform=\"translate(269.67,421.61)\" stroke=\"none\" fill=\"rgb(38,38,38)\" font-family=\"Arial\" font-size=\"10.00\" text-anchor=\"middle\">\n\t\t<text><tspan font-family=\"Arial\">15</tspan></text>\n\t</g>\n</g>\n<g fill=\"none\" color=\"black\" stroke=\"currentColor\" stroke-width=\"1.00\" stroke-linecap=\"butt\" stroke-linejoin=\"miter\">\n</g>\n<g fill=\"none\" color=\"black\" stroke=\"rgb(  0,   0,   0)\" stroke-width=\"0.50\" stroke-linecap=\"butt\" stroke-linejoin=\"miter\">\n</g>\n<g fill=\"none\" color=\"black\" stroke=\"currentColor\" stroke-width=\"0.50\" stroke-linecap=\"butt\" stroke-linejoin=\"miter\">\n\t<path stroke=\"rgb( 38,  38,  38)\" opacity=\"0.15\" class=\"gridline\" d=\"M289.99,393.53 L137.54,294.19  \"/></g>\n<g fill=\"none\" color=\"black\" stroke=\"rgb( 38,  38,  38)\" stroke-width=\"1.00\" stroke-linecap=\"butt\" stroke-linejoin=\"miter\">\n</g>\n<g fill=\"none\" color=\"black\" stroke=\"currentColor\" stroke-width=\"1.00\" stroke-linecap=\"butt\" stroke-linejoin=\"miter\">\n\t<path stroke=\"rgb(  0,   0,   0)\" d=\"M289.99,393.53 L297.67,398.53  \"/>\t<g transform=\"translate(302.77,408.91)\" stroke=\"none\" fill=\"rgb(38,38,38)\" font-family=\"Arial\" font-size=\"10.00\" text-anchor=\"middle\">\n\t\t<text><tspan font-family=\"Arial\">20</tspan></text>\n\t</g>\n</g>\n<g fill=\"none\" color=\"black\" stroke=\"currentColor\" stroke-width=\"1.00\" stroke-linecap=\"butt\" stroke-linejoin=\"miter\">\n</g>\n<g fill=\"none\" color=\"black\" stroke=\"rgb(  0,   0,   0)\" stroke-width=\"0.50\" stroke-linecap=\"butt\" stroke-linejoin=\"miter\">\n</g>\n<g fill=\"none\" color=\"black\" stroke=\"currentColor\" stroke-width=\"0.50\" stroke-linecap=\"butt\" stroke-linejoin=\"miter\">\n\t<path stroke=\"rgb( 38,  38,  38)\" opacity=\"0.15\" class=\"gridline\" d=\"M323.11,380.83 L170.65,281.48  \"/></g>\n<g fill=\"none\" color=\"black\" stroke=\"rgb( 38,  38,  38)\" stroke-width=\"1.00\" stroke-linecap=\"butt\" stroke-linejoin=\"miter\">\n</g>\n<g fill=\"none\" color=\"black\" stroke=\"currentColor\" stroke-width=\"1.00\" stroke-linecap=\"butt\" stroke-linejoin=\"miter\">\n\t<path stroke=\"rgb(  0,   0,   0)\" d=\"M323.11,380.83 L330.78,385.82  \"/>\t<g transform=\"translate(335.89,396.20)\" stroke=\"none\" fill=\"rgb(38,38,38)\" font-family=\"Arial\" font-size=\"10.00\" text-anchor=\"middle\">\n\t\t<text><tspan font-family=\"Arial\">25</tspan></text>\n\t</g>\n</g>\n<g fill=\"none\" color=\"black\" stroke=\"currentColor\" stroke-width=\"1.00\" stroke-linecap=\"butt\" stroke-linejoin=\"miter\">\n</g>\n<g fill=\"none\" color=\"black\" stroke=\"rgb(  0,   0,   0)\" stroke-width=\"0.50\" stroke-linecap=\"butt\" stroke-linejoin=\"miter\">\n</g>\n<g fill=\"none\" color=\"black\" stroke=\"currentColor\" stroke-width=\"0.50\" stroke-linecap=\"butt\" stroke-linejoin=\"miter\">\n\t<path stroke=\"rgb( 38,  38,  38)\" opacity=\"0.15\" class=\"gridline\" d=\"M356.22,368.12 L203.77,268.78  \"/></g>\n<g fill=\"none\" color=\"black\" stroke=\"rgb( 38,  38,  38)\" stroke-width=\"1.00\" stroke-linecap=\"butt\" stroke-linejoin=\"miter\">\n</g>\n<g fill=\"none\" color=\"black\" stroke=\"currentColor\" stroke-width=\"1.00\" stroke-linecap=\"butt\" stroke-linejoin=\"miter\">\n\t<path stroke=\"rgb(  0,   0,   0)\" d=\"M356.22,368.12 L363.89,373.12  \"/>\t<g transform=\"translate(369.00,383.50)\" stroke=\"none\" fill=\"rgb(38,38,38)\" font-family=\"Arial\" font-size=\"10.00\" text-anchor=\"middle\">\n\t\t<text><tspan font-family=\"Arial\">30</tspan></text>\n\t</g>\n</g>\n<g fill=\"none\" color=\"black\" stroke=\"currentColor\" stroke-width=\"1.00\" stroke-linecap=\"butt\" stroke-linejoin=\"miter\">\n</g>\n<g fill=\"none\" color=\"black\" stroke=\"rgb(  0,   0,   0)\" stroke-width=\"0.50\" stroke-linecap=\"butt\" stroke-linejoin=\"miter\">\n</g>\n<g fill=\"none\" color=\"black\" stroke=\"currentColor\" stroke-width=\"0.50\" stroke-linecap=\"butt\" stroke-linejoin=\"miter\">\n\t<path stroke=\"rgb( 38,  38,  38)\" opacity=\"0.15\" class=\"gridline\" d=\"M389.34,355.42 L236.88,256.07  \"/></g>\n<g fill=\"none\" color=\"black\" stroke=\"rgb( 38,  38,  38)\" stroke-width=\"1.00\" stroke-linecap=\"butt\" stroke-linejoin=\"miter\">\n</g>\n<g fill=\"none\" color=\"black\" stroke=\"currentColor\" stroke-width=\"1.00\" stroke-linecap=\"butt\" stroke-linejoin=\"miter\">\n\t<path stroke=\"rgb(  0,   0,   0)\" d=\"M389.34,355.42 L397.01,360.41  \"/>\t<g transform=\"translate(402.12,370.79)\" stroke=\"none\" fill=\"rgb(38,38,38)\" font-family=\"Arial\" font-size=\"10.00\" text-anchor=\"middle\">\n\t\t<text><tspan font-family=\"Arial\">35</tspan></text>\n\t</g>\n</g>\n<g fill=\"none\" color=\"black\" stroke=\"currentColor\" stroke-width=\"1.00\" stroke-linecap=\"butt\" stroke-linejoin=\"miter\">\n</g>\n<g fill=\"none\" color=\"black\" stroke=\"rgb(  0,   0,   0)\" stroke-width=\"0.50\" stroke-linecap=\"butt\" stroke-linejoin=\"miter\">\n</g>\n<g fill=\"none\" color=\"black\" stroke=\"currentColor\" stroke-width=\"0.50\" stroke-linecap=\"butt\" stroke-linejoin=\"miter\">\n\t<path stroke=\"rgb( 38,  38,  38)\" opacity=\"0.15\" class=\"gridline\" d=\"M422.45,342.71 L270.00,243.37  \"/></g>\n<g fill=\"none\" color=\"black\" stroke=\"rgb( 38,  38,  38)\" stroke-width=\"1.00\" stroke-linecap=\"butt\" stroke-linejoin=\"miter\">\n</g>\n<g fill=\"none\" color=\"black\" stroke=\"currentColor\" stroke-width=\"1.00\" stroke-linecap=\"butt\" stroke-linejoin=\"miter\">\n\t<path stroke=\"rgb(  0,   0,   0)\" d=\"M422.45,342.71 L430.12,347.71  \"/>\t<g transform=\"translate(435.23,358.09)\" stroke=\"none\" fill=\"rgb(38,38,38)\" font-family=\"Arial\" font-size=\"10.00\" text-anchor=\"middle\">\n\t\t<text><tspan font-family=\"Arial\">40</tspan></text>\n\t</g>\n</g>\n<g fill=\"none\" color=\"black\" stroke=\"currentColor\" stroke-width=\"1.00\" stroke-linecap=\"butt\" stroke-linejoin=\"miter\">\n</g>\n<g fill=\"none\" color=\"black\" stroke=\"rgb(  0,   0,   0)\" stroke-width=\"0.50\" stroke-linecap=\"butt\" stroke-linejoin=\"miter\">\n</g>\n<g fill=\"none\" color=\"black\" stroke=\"currentColor\" stroke-width=\"0.50\" stroke-linecap=\"butt\" stroke-linejoin=\"miter\">\n\t<path stroke=\"rgb( 38,  38,  38)\" opacity=\"0.15\" class=\"gridline\" d=\"M455.57,330.01 L303.11,230.66  \"/></g>\n<g fill=\"none\" color=\"black\" stroke=\"rgb( 38,  38,  38)\" stroke-width=\"1.00\" stroke-linecap=\"butt\" stroke-linejoin=\"miter\">\n</g>\n<g fill=\"none\" color=\"black\" stroke=\"currentColor\" stroke-width=\"1.00\" stroke-linecap=\"butt\" stroke-linejoin=\"miter\">\n\t<path stroke=\"rgb(  0,   0,   0)\" d=\"M455.57,330.01 L463.24,335.00  \"/>\t<g transform=\"translate(468.35,345.38)\" stroke=\"none\" fill=\"rgb(38,38,38)\" font-family=\"Arial\" font-size=\"10.00\" text-anchor=\"middle\">\n\t\t<text><tspan font-family=\"Arial\">45</tspan></text>\n\t</g>\n</g>\n<g fill=\"none\" color=\"black\" stroke=\"currentColor\" stroke-width=\"1.00\" stroke-linecap=\"butt\" stroke-linejoin=\"miter\">\n</g>\n<g fill=\"none\" color=\"black\" stroke=\"rgb(  0,   0,   0)\" stroke-width=\"0.50\" stroke-linecap=\"butt\" stroke-linejoin=\"miter\">\n</g>\n<g fill=\"none\" color=\"black\" stroke=\"currentColor\" stroke-width=\"0.50\" stroke-linecap=\"butt\" stroke-linejoin=\"miter\">\n\t<path stroke=\"rgb( 38,  38,  38)\" opacity=\"0.15\" class=\"gridline\" d=\"M256.88,406.24 L455.57,330.01  \"/></g>\n<g fill=\"none\" color=\"black\" stroke=\"rgb( 38,  38,  38)\" stroke-width=\"1.00\" stroke-linecap=\"butt\" stroke-linejoin=\"miter\">\n</g>\n<g fill=\"none\" color=\"black\" stroke=\"currentColor\" stroke-width=\"1.00\" stroke-linecap=\"butt\" stroke-linejoin=\"miter\">\n\t<path stroke=\"rgb(  0,   0,   0)\" d=\"M256.88,406.24 L246.88,410.07  \"/>\t<g transform=\"translate(240.24,418.79)\" stroke=\"none\" fill=\"rgb(38,38,38)\" font-family=\"Arial\" font-size=\"10.00\" text-anchor=\"middle\">\n\t\t<text><tspan font-family=\"Arial\">15</tspan></text>\n\t</g>\n</g>\n<g fill=\"none\" color=\"black\" stroke=\"currentColor\" stroke-width=\"1.00\" stroke-linecap=\"butt\" stroke-linejoin=\"miter\">\n</g>\n<g fill=\"none\" color=\"black\" stroke=\"rgb(  0,   0,   0)\" stroke-width=\"0.50\" stroke-linecap=\"butt\" stroke-linejoin=\"miter\">\n</g>\n<g fill=\"none\" color=\"black\" stroke=\"currentColor\" stroke-width=\"0.50\" stroke-linecap=\"butt\" stroke-linejoin=\"miter\">\n\t<path stroke=\"rgb( 38,  38,  38)\" opacity=\"0.15\" class=\"gridline\" d=\"M231.47,389.68 L430.16,313.45  \"/></g>\n<g fill=\"none\" color=\"black\" stroke=\"rgb( 38,  38,  38)\" stroke-width=\"1.00\" stroke-linecap=\"butt\" stroke-linejoin=\"miter\">\n</g>\n<g fill=\"none\" color=\"black\" stroke=\"currentColor\" stroke-width=\"1.00\" stroke-linecap=\"butt\" stroke-linejoin=\"miter\">\n\t<path stroke=\"rgb(  0,   0,   0)\" d=\"M231.47,389.68 L221.47,393.51  \"/>\t<g transform=\"translate(214.83,402.23)\" stroke=\"none\" fill=\"rgb(38,38,38)\" font-family=\"Arial\" font-size=\"10.00\" text-anchor=\"middle\">\n\t\t<text><tspan font-family=\"Arial\">20</tspan></text>\n\t</g>\n</g>\n<g fill=\"none\" color=\"black\" stroke=\"currentColor\" stroke-width=\"1.00\" stroke-linecap=\"butt\" stroke-linejoin=\"miter\">\n</g>\n<g fill=\"none\" color=\"black\" stroke=\"rgb(  0,   0,   0)\" stroke-width=\"0.50\" stroke-linecap=\"butt\" stroke-linejoin=\"miter\">\n</g>\n<g fill=\"none\" color=\"black\" stroke=\"currentColor\" stroke-width=\"0.50\" stroke-linecap=\"butt\" stroke-linejoin=\"miter\">\n\t<path stroke=\"rgb( 38,  38,  38)\" opacity=\"0.15\" class=\"gridline\" d=\"M206.06,373.12 L404.75,296.89  \"/></g>\n<g fill=\"none\" color=\"black\" stroke=\"rgb( 38,  38,  38)\" stroke-width=\"1.00\" stroke-linecap=\"butt\" stroke-linejoin=\"miter\">\n</g>\n<g fill=\"none\" color=\"black\" stroke=\"currentColor\" stroke-width=\"1.00\" stroke-linecap=\"butt\" stroke-linejoin=\"miter\">\n\t<path stroke=\"rgb(  0,   0,   0)\" d=\"M206.06,373.12 L196.06,376.96  \"/>\t<g transform=\"translate(189.42,385.67)\" stroke=\"none\" fill=\"rgb(38,38,38)\" font-family=\"Arial\" font-size=\"10.00\" text-anchor=\"middle\">\n\t\t<text><tspan font-family=\"Arial\">25</tspan></text>\n\t</g>\n</g>\n<g fill=\"none\" color=\"black\" stroke=\"currentColor\" stroke-width=\"1.00\" stroke-linecap=\"butt\" stroke-linejoin=\"miter\">\n</g>\n<g fill=\"none\" color=\"black\" stroke=\"rgb(  0,   0,   0)\" stroke-width=\"0.50\" stroke-linecap=\"butt\" stroke-linejoin=\"miter\">\n</g>\n<g fill=\"none\" color=\"black\" stroke=\"currentColor\" stroke-width=\"0.50\" stroke-linecap=\"butt\" stroke-linejoin=\"miter\">\n\t<path stroke=\"rgb( 38,  38,  38)\" opacity=\"0.15\" class=\"gridline\" d=\"M180.65,356.56 L379.34,280.33  \"/></g>\n<g fill=\"none\" color=\"black\" stroke=\"rgb( 38,  38,  38)\" stroke-width=\"1.00\" stroke-linecap=\"butt\" stroke-linejoin=\"miter\">\n</g>\n<g fill=\"none\" color=\"black\" stroke=\"currentColor\" stroke-width=\"1.00\" stroke-linecap=\"butt\" stroke-linejoin=\"miter\">\n\t<path stroke=\"rgb(  0,   0,   0)\" d=\"M180.65,356.56 L170.66,360.40  \"/>\t<g transform=\"translate(164.01,369.12)\" stroke=\"none\" fill=\"rgb(38,38,38)\" font-family=\"Arial\" font-size=\"10.00\" text-anchor=\"middle\">\n\t\t<text><tspan font-family=\"Arial\">30</tspan></text>\n\t</g>\n</g>\n<g fill=\"none\" color=\"black\" stroke=\"currentColor\" stroke-width=\"1.00\" stroke-linecap=\"butt\" stroke-linejoin=\"miter\">\n</g>\n<g fill=\"none\" color=\"black\" stroke=\"rgb(  0,   0,   0)\" stroke-width=\"0.50\" stroke-linecap=\"butt\" stroke-linejoin=\"miter\">\n</g>\n<g fill=\"none\" color=\"black\" stroke=\"currentColor\" stroke-width=\"0.50\" stroke-linecap=\"butt\" stroke-linejoin=\"miter\">\n\t<path stroke=\"rgb( 38,  38,  38)\" opacity=\"0.15\" class=\"gridline\" d=\"M155.24,340.01 L353.93,263.78  \"/></g>\n<g fill=\"none\" color=\"black\" stroke=\"rgb( 38,  38,  38)\" stroke-width=\"1.00\" stroke-linecap=\"butt\" stroke-linejoin=\"miter\">\n</g>\n<g fill=\"none\" color=\"black\" stroke=\"currentColor\" stroke-width=\"1.00\" stroke-linecap=\"butt\" stroke-linejoin=\"miter\">\n\t<path stroke=\"rgb(  0,   0,   0)\" d=\"M155.24,340.01 L145.25,343.84  \"/>\t<g transform=\"translate(138.60,352.56)\" stroke=\"none\" fill=\"rgb(38,38,38)\" font-family=\"Arial\" font-size=\"10.00\" text-anchor=\"middle\">\n\t\t<text><tspan font-family=\"Arial\">35</tspan></text>\n\t</g>\n</g>\n<g fill=\"none\" color=\"black\" stroke=\"currentColor\" stroke-width=\"1.00\" stroke-linecap=\"butt\" stroke-linejoin=\"miter\">\n</g>\n<g fill=\"none\" color=\"black\" stroke=\"rgb(  0,   0,   0)\" stroke-width=\"0.50\" stroke-linecap=\"butt\" stroke-linejoin=\"miter\">\n</g>\n<g fill=\"none\" color=\"black\" stroke=\"currentColor\" stroke-width=\"0.50\" stroke-linecap=\"butt\" stroke-linejoin=\"miter\">\n\t<path stroke=\"rgb( 38,  38,  38)\" opacity=\"0.15\" class=\"gridline\" d=\"M129.83,323.45 L328.52,247.22  \"/></g>\n<g fill=\"none\" color=\"black\" stroke=\"rgb( 38,  38,  38)\" stroke-width=\"1.00\" stroke-linecap=\"butt\" stroke-linejoin=\"miter\">\n</g>\n<g fill=\"none\" color=\"black\" stroke=\"currentColor\" stroke-width=\"1.00\" stroke-linecap=\"butt\" stroke-linejoin=\"miter\">\n\t<path stroke=\"rgb(  0,   0,   0)\" d=\"M129.83,323.45 L119.84,327.28  \"/>\t<g transform=\"translate(113.19,336.00)\" stroke=\"none\" fill=\"rgb(38,38,38)\" font-family=\"Arial\" font-size=\"10.00\" text-anchor=\"middle\">\n\t\t<text><tspan font-family=\"Arial\">40</tspan></text>\n\t</g>\n</g>\n<g fill=\"none\" color=\"black\" stroke=\"currentColor\" stroke-width=\"1.00\" stroke-linecap=\"butt\" stroke-linejoin=\"miter\">\n</g>\n<g fill=\"none\" color=\"black\" stroke=\"rgb(  0,   0,   0)\" stroke-width=\"0.50\" stroke-linecap=\"butt\" stroke-linejoin=\"miter\">\n</g>\n<g fill=\"none\" color=\"black\" stroke=\"currentColor\" stroke-width=\"0.50\" stroke-linecap=\"butt\" stroke-linejoin=\"miter\">\n\t<path stroke=\"rgb( 38,  38,  38)\" opacity=\"0.15\" class=\"gridline\" d=\"M104.42,306.89 L303.11,230.66  \"/></g>\n<g fill=\"none\" color=\"black\" stroke=\"rgb( 38,  38,  38)\" stroke-width=\"1.00\" stroke-linecap=\"butt\" stroke-linejoin=\"miter\">\n</g>\n<g fill=\"none\" color=\"black\" stroke=\"currentColor\" stroke-width=\"1.00\" stroke-linecap=\"butt\" stroke-linejoin=\"miter\">\n\t<path stroke=\"rgb(  0,   0,   0)\" d=\"M104.42,306.89 L94.43,310.73  \"/>\t<g transform=\"translate(87.78,319.45)\" stroke=\"none\" fill=\"rgb(38,38,38)\" font-family=\"Arial\" font-size=\"10.00\" text-anchor=\"middle\">\n\t\t<text><tspan font-family=\"Arial\">45</tspan></text>\n\t</g>\n</g>\n<g fill=\"none\" color=\"black\" stroke=\"currentColor\" stroke-width=\"1.00\" stroke-linecap=\"butt\" stroke-linejoin=\"miter\">\n</g>\n<g fill=\"none\" color=\"black\" stroke=\"rgb(  0,   0,   0)\" stroke-width=\"0.50\" stroke-linecap=\"butt\" stroke-linejoin=\"miter\">\n</g>\n<g fill=\"none\" color=\"black\" stroke=\"currentColor\" stroke-width=\"0.50\" stroke-linecap=\"butt\" stroke-linejoin=\"miter\">\n\t<path stroke=\"rgb( 38,  38,  38)\" opacity=\"0.15\" class=\"gridline\" d=\"M104.42,306.89 L303.11,230.66  \"/></g>\n<g fill=\"none\" color=\"black\" stroke=\"currentColor\" stroke-width=\"0.50\" stroke-linecap=\"butt\" stroke-linejoin=\"miter\">\n\t<path stroke=\"rgb( 38,  38,  38)\" opacity=\"0.15\" class=\"gridline\" d=\"M303.11,230.66 L455.57,330.01  \"/></g>\n<g fill=\"none\" color=\"black\" stroke=\"rgb( 38,  38,  38)\" stroke-width=\"1.00\" stroke-linecap=\"butt\" stroke-linejoin=\"miter\">\n</g>\n<g fill=\"none\" color=\"black\" stroke=\"currentColor\" stroke-width=\"1.00\" stroke-linecap=\"butt\" stroke-linejoin=\"miter\">\n\t<path stroke=\"rgb(  0,   0,   0)\" d=\"M104.42,306.89 L91.82,306.89  \"/>\t<g transform=\"translate(73.83,310.13)\" stroke=\"none\" fill=\"rgb(38,38,38)\" font-family=\"Arial\" font-size=\"10.00\" text-anchor=\"end\">\n\t\t<text><tspan font-family=\"Arial\">15</tspan></text>\n\t</g>\n</g>\n<g fill=\"none\" color=\"black\" stroke=\"currentColor\" stroke-width=\"1.00\" stroke-linecap=\"butt\" stroke-linejoin=\"miter\">\n</g>\n<g fill=\"none\" color=\"black\" stroke=\"rgb(  0,   0,   0)\" stroke-width=\"0.50\" stroke-linecap=\"butt\" stroke-linejoin=\"miter\">\n</g>\n<g fill=\"none\" color=\"black\" stroke=\"currentColor\" stroke-width=\"0.50\" stroke-linecap=\"butt\" stroke-linejoin=\"miter\">\n\t<path stroke=\"rgb( 38,  38,  38)\" opacity=\"0.15\" class=\"gridline\" d=\"M104.42,270.74 L303.11,194.51  \"/></g>\n<g fill=\"none\" color=\"black\" stroke=\"currentColor\" stroke-width=\"0.50\" stroke-linecap=\"butt\" stroke-linejoin=\"miter\">\n\t<path stroke=\"rgb( 38,  38,  38)\" opacity=\"0.15\" class=\"gridline\" d=\"M303.11,194.51 L455.57,293.86  \"/></g>\n<g fill=\"none\" color=\"black\" stroke=\"rgb( 38,  38,  38)\" stroke-width=\"1.00\" stroke-linecap=\"butt\" stroke-linejoin=\"miter\">\n</g>\n<g fill=\"none\" color=\"black\" stroke=\"currentColor\" stroke-width=\"1.00\" stroke-linecap=\"butt\" stroke-linejoin=\"miter\">\n\t<path stroke=\"rgb(  0,   0,   0)\" d=\"M104.42,270.74 L91.82,270.74  \"/>\t<g transform=\"translate(73.83,273.98)\" stroke=\"none\" fill=\"rgb(38,38,38)\" font-family=\"Arial\" font-size=\"10.00\" text-anchor=\"end\">\n\t\t<text><tspan font-family=\"Arial\">20</tspan></text>\n\t</g>\n</g>\n<g fill=\"none\" color=\"black\" stroke=\"currentColor\" stroke-width=\"1.00\" stroke-linecap=\"butt\" stroke-linejoin=\"miter\">\n</g>\n<g fill=\"none\" color=\"black\" stroke=\"rgb(  0,   0,   0)\" stroke-width=\"0.50\" stroke-linecap=\"butt\" stroke-linejoin=\"miter\">\n</g>\n<g fill=\"none\" color=\"black\" stroke=\"currentColor\" stroke-width=\"0.50\" stroke-linecap=\"butt\" stroke-linejoin=\"miter\">\n\t<path stroke=\"rgb( 38,  38,  38)\" opacity=\"0.15\" class=\"gridline\" d=\"M104.42,234.60 L303.11,158.37  \"/></g>\n<g fill=\"none\" color=\"black\" stroke=\"currentColor\" stroke-width=\"0.50\" stroke-linecap=\"butt\" stroke-linejoin=\"miter\">\n\t<path stroke=\"rgb( 38,  38,  38)\" opacity=\"0.15\" class=\"gridline\" d=\"M303.11,158.37 L455.57,257.71  \"/></g>\n<g fill=\"none\" color=\"black\" stroke=\"rgb( 38,  38,  38)\" stroke-width=\"1.00\" stroke-linecap=\"butt\" stroke-linejoin=\"miter\">\n</g>\n<g fill=\"none\" color=\"black\" stroke=\"currentColor\" stroke-width=\"1.00\" stroke-linecap=\"butt\" stroke-linejoin=\"miter\">\n\t<path stroke=\"rgb(  0,   0,   0)\" d=\"M104.42,234.60 L91.82,234.60  \"/>\t<g transform=\"translate(73.83,237.84)\" stroke=\"none\" fill=\"rgb(38,38,38)\" font-family=\"Arial\" font-size=\"10.00\" text-anchor=\"end\">\n\t\t<text><tspan font-family=\"Arial\">25</tspan></text>\n\t</g>\n</g>\n<g fill=\"none\" color=\"black\" stroke=\"currentColor\" stroke-width=\"1.00\" stroke-linecap=\"butt\" stroke-linejoin=\"miter\">\n</g>\n<g fill=\"none\" color=\"black\" stroke=\"rgb(  0,   0,   0)\" stroke-width=\"0.50\" stroke-linecap=\"butt\" stroke-linejoin=\"miter\">\n</g>\n<g fill=\"none\" color=\"black\" stroke=\"currentColor\" stroke-width=\"0.50\" stroke-linecap=\"butt\" stroke-linejoin=\"miter\">\n\t<path stroke=\"rgb( 38,  38,  38)\" opacity=\"0.15\" class=\"gridline\" d=\"M104.42,198.45 L303.11,122.22  \"/></g>\n<g fill=\"none\" color=\"black\" stroke=\"currentColor\" stroke-width=\"0.50\" stroke-linecap=\"butt\" stroke-linejoin=\"miter\">\n\t<path stroke=\"rgb( 38,  38,  38)\" opacity=\"0.15\" class=\"gridline\" d=\"M303.11,122.22 L455.57,221.56  \"/></g>\n<g fill=\"none\" color=\"black\" stroke=\"rgb( 38,  38,  38)\" stroke-width=\"1.00\" stroke-linecap=\"butt\" stroke-linejoin=\"miter\">\n</g>\n<g fill=\"none\" color=\"black\" stroke=\"currentColor\" stroke-width=\"1.00\" stroke-linecap=\"butt\" stroke-linejoin=\"miter\">\n\t<path stroke=\"rgb(  0,   0,   0)\" d=\"M104.42,198.45 L91.82,198.45  \"/>\t<g transform=\"translate(73.83,201.70)\" stroke=\"none\" fill=\"rgb(38,38,38)\" font-family=\"Arial\" font-size=\"10.00\" text-anchor=\"end\">\n\t\t<text><tspan font-family=\"Arial\">30</tspan></text>\n\t</g>\n</g>\n<g fill=\"none\" color=\"black\" stroke=\"currentColor\" stroke-width=\"1.00\" stroke-linecap=\"butt\" stroke-linejoin=\"miter\">\n</g>\n<g fill=\"none\" color=\"black\" stroke=\"rgb(  0,   0,   0)\" stroke-width=\"0.50\" stroke-linecap=\"butt\" stroke-linejoin=\"miter\">\n</g>\n<g fill=\"none\" color=\"black\" stroke=\"currentColor\" stroke-width=\"0.50\" stroke-linecap=\"butt\" stroke-linejoin=\"miter\">\n\t<path stroke=\"rgb( 38,  38,  38)\" opacity=\"0.15\" class=\"gridline\" d=\"M104.42,162.30 L303.11,86.07  \"/></g>\n<g fill=\"none\" color=\"black\" stroke=\"currentColor\" stroke-width=\"0.50\" stroke-linecap=\"butt\" stroke-linejoin=\"miter\">\n\t<path stroke=\"rgb( 38,  38,  38)\" opacity=\"0.15\" class=\"gridline\" d=\"M303.11,86.07 L455.57,185.41  \"/></g>\n<g fill=\"none\" color=\"black\" stroke=\"rgb( 38,  38,  38)\" stroke-width=\"1.00\" stroke-linecap=\"butt\" stroke-linejoin=\"miter\">\n</g>\n<g fill=\"none\" color=\"black\" stroke=\"currentColor\" stroke-width=\"1.00\" stroke-linecap=\"butt\" stroke-linejoin=\"miter\">\n\t<path stroke=\"rgb(  0,   0,   0)\" d=\"M104.42,162.30 L91.82,162.30  \"/>\t<g transform=\"translate(73.83,165.55)\" stroke=\"none\" fill=\"rgb(38,38,38)\" font-family=\"Arial\" font-size=\"10.00\" text-anchor=\"end\">\n\t\t<text><tspan font-family=\"Arial\">35</tspan></text>\n\t</g>\n</g>\n<g fill=\"none\" color=\"black\" stroke=\"currentColor\" stroke-width=\"1.00\" stroke-linecap=\"butt\" stroke-linejoin=\"miter\">\n</g>\n<g fill=\"none\" color=\"black\" stroke=\"rgb(  0,   0,   0)\" stroke-width=\"0.50\" stroke-linecap=\"butt\" stroke-linejoin=\"miter\">\n</g>\n<g fill=\"none\" color=\"black\" stroke=\"currentColor\" stroke-width=\"0.50\" stroke-linecap=\"butt\" stroke-linejoin=\"miter\">\n\t<path stroke=\"rgb( 38,  38,  38)\" opacity=\"0.15\" class=\"gridline\" d=\"M104.42,126.15 L303.11,49.92  \"/></g>\n<g fill=\"none\" color=\"black\" stroke=\"currentColor\" stroke-width=\"0.50\" stroke-linecap=\"butt\" stroke-linejoin=\"miter\">\n\t<path stroke=\"rgb( 38,  38,  38)\" opacity=\"0.15\" class=\"gridline\" d=\"M303.11,49.92 L455.57,149.27  \"/></g>\n<g fill=\"none\" color=\"black\" stroke=\"rgb( 38,  38,  38)\" stroke-width=\"1.00\" stroke-linecap=\"butt\" stroke-linejoin=\"miter\">\n</g>\n<g fill=\"none\" color=\"black\" stroke=\"currentColor\" stroke-width=\"1.00\" stroke-linecap=\"butt\" stroke-linejoin=\"miter\">\n\t<path stroke=\"rgb(  0,   0,   0)\" d=\"M104.42,126.15 L91.82,126.15  \"/>\t<g transform=\"translate(73.83,129.40)\" stroke=\"none\" fill=\"rgb(38,38,38)\" font-family=\"Arial\" font-size=\"10.00\" text-anchor=\"end\">\n\t\t<text><tspan font-family=\"Arial\">40</tspan></text>\n\t</g>\n</g>\n<g fill=\"none\" color=\"black\" stroke=\"currentColor\" stroke-width=\"1.00\" stroke-linecap=\"butt\" stroke-linejoin=\"miter\">\n</g>\n<g fill=\"none\" color=\"black\" stroke=\"rgb(  0,   0,   0)\" stroke-width=\"0.50\" stroke-linecap=\"butt\" stroke-linejoin=\"miter\">\n</g>\n<g fill=\"none\" color=\"black\" stroke=\"currentColor\" stroke-width=\"0.50\" stroke-linecap=\"butt\" stroke-linejoin=\"miter\">\n\t<path stroke=\"rgb( 38,  38,  38)\" opacity=\"0.15\" class=\"gridline\" d=\"M104.42,90.00 L303.11,13.77  \"/></g>\n<g fill=\"none\" color=\"black\" stroke=\"currentColor\" stroke-width=\"0.50\" stroke-linecap=\"butt\" stroke-linejoin=\"miter\">\n\t<path stroke=\"rgb( 38,  38,  38)\" opacity=\"0.15\" class=\"gridline\" d=\"M303.11,13.77 L455.57,113.12  \"/></g>\n<g fill=\"none\" color=\"black\" stroke=\"rgb( 38,  38,  38)\" stroke-width=\"1.00\" stroke-linecap=\"butt\" stroke-linejoin=\"miter\">\n</g>\n<g fill=\"none\" color=\"black\" stroke=\"currentColor\" stroke-width=\"1.00\" stroke-linecap=\"butt\" stroke-linejoin=\"miter\">\n\t<path stroke=\"rgb(  0,   0,   0)\" d=\"M104.42,90.00 L91.82,90.00  \"/>\t<g transform=\"translate(73.83,93.25)\" stroke=\"none\" fill=\"rgb(38,38,38)\" font-family=\"Arial\" font-size=\"10.00\" text-anchor=\"end\">\n\t\t<text><tspan font-family=\"Arial\">45</tspan></text>\n\t</g>\n</g>\n<g fill=\"none\" color=\"black\" stroke=\"currentColor\" stroke-width=\"1.00\" stroke-linecap=\"butt\" stroke-linejoin=\"miter\">\n</g>\n\t<g id=\"gnuplot_plot_1a\"><title>gnuplot_plot_1a</title>\n<g fill=\"none\" color=\"white\" stroke=\"rgb(  0,   0,   0)\" stroke-width=\"0.50\" stroke-linecap=\"butt\" stroke-linejoin=\"miter\">\n</g>\n<g fill=\"none\" color=\"black\" stroke=\"currentColor\" stroke-width=\"0.50\" stroke-linecap=\"butt\" stroke-linejoin=\"miter\">\n\t<path stroke=\"rgb(  0,   0,   0)\" d=\"M280.00,318.44 L295.54,311.14 L310.69,301.35 L325.10,289.32 L338.39,275.32 L350.24,259.73 L360.37,242.90 L368.51,225.27   L374.48,207.27 L378.12,189.32 L379.34,171.89 L378.12,155.40 L374.48,140.24 L368.51,126.81 L360.37,115.43 L350.24,106.37   L338.39,99.87 L325.10,96.08 L310.69,95.09 L295.54,96.93 L280.00,101.56  \"/></g>\n\t</g>\n\t<g id=\"gnuplot_plot_2a\"><title>gnuplot_plot_2a</title>\n<g fill=\"none\" color=\"black\" stroke=\"currentColor\" stroke-width=\"0.50\" stroke-linecap=\"butt\" stroke-linejoin=\"miter\">\n\t<path stroke=\"rgb(  0,   0,   0)\" d=\"M280.00,318.44 L291.09,309.03 L301.91,297.19 L312.19,283.19 L321.68,267.40 L330.15,250.19 L337.37,231.99 L343.19,213.25   L347.45,194.44 L350.05,176.01 L350.92,158.41 L350.05,142.08 L347.45,127.42 L343.19,114.80 L337.37,104.52 L330.15,96.84   L321.68,91.94 L312.19,89.96 L301.91,90.92 L291.09,94.82 L280.00,101.56  \"/></g>\n\t</g>\n\t<g id=\"gnuplot_plot_3a\"><title>gnuplot_plot_3a</title>\n<g fill=\"none\" color=\"black\" stroke=\"currentColor\" stroke-width=\"0.50\" stroke-linecap=\"butt\" stroke-linejoin=\"miter\">\n\t<path stroke=\"rgb(  0,   0,   0)\" d=\"M280.00,318.44 L285.56,307.71 L290.99,294.58 L296.14,279.37 L300.90,262.44 L305.14,244.23 L308.77,225.17 L311.68,205.75   L313.82,186.42 L315.12,167.68 L315.56,149.97 L315.12,133.75 L313.82,119.40 L311.68,107.28 L308.77,97.70 L305.14,90.87   L300.90,86.99 L296.14,86.13 L290.99,88.32 L285.56,93.51 L280.00,101.56  \"/></g>\n\t</g>\n\t<g id=\"gnuplot_plot_4a\"><title>gnuplot_plot_4a</title>\n<g fill=\"none\" color=\"black\" stroke=\"currentColor\" stroke-width=\"0.50\" stroke-linecap=\"butt\" stroke-linejoin=\"miter\">\n\t<path stroke=\"rgb(  0,   0,   0)\" d=\"M280.00,318.44 L279.49,307.31 L278.99,293.79 L278.52,278.20 L278.08,260.94 L277.69,242.42 L277.35,223.10 L277.08,203.47   L276.89,183.99 L276.77,165.15 L276.73,147.42 L276.77,131.22 L276.89,116.97 L277.08,105.01 L277.35,95.63 L277.69,89.07   L278.08,85.48 L278.52,84.97 L278.99,87.53 L279.49,93.11 L280.00,101.56  \"/></g>\n\t</g>\n\t<g id=\"gnuplot_plot_5a\"><title>gnuplot_plot_5a</title>\n<g fill=\"none\" color=\"black\" stroke=\"currentColor\" stroke-width=\"0.50\" stroke-linecap=\"butt\" stroke-linejoin=\"miter\">\n\t<path stroke=\"rgb(  0,   0,   0)\" d=\"M280.00,318.44 L273.47,307.87 L267.09,294.89 L261.03,279.83 L255.44,263.04 L250.45,244.94 L246.19,225.99 L242.76,206.65   L240.25,187.39 L238.72,168.68 L238.21,150.99 L238.72,134.75 L240.25,120.36 L242.76,108.19 L246.19,98.52 L250.45,91.59   L255.44,87.58 L261.03,86.59 L267.09,88.63 L273.47,93.66 L280.00,101.56  \"/></g>\n\t</g>\n\t<g id=\"gnuplot_plot_6a\"><title>gnuplot_plot_6a</title>\n<g fill=\"none\" color=\"black\" stroke=\"currentColor\" stroke-width=\"0.50\" stroke-linecap=\"butt\" stroke-linejoin=\"miter\">\n\t<path stroke=\"rgb(  0,   0,   0)\" d=\"M280.00,318.44 L268.08,309.33 L256.45,297.78 L245.40,284.07 L235.20,268.53 L226.10,251.55 L218.33,233.55 L212.08,214.97   L207.51,196.28 L204.71,177.91 L203.78,160.33 L204.71,143.98 L207.51,129.25 L212.08,116.51 L218.33,106.08 L226.10,98.20   L235.20,93.08 L245.40,90.83 L256.45,91.52 L268.08,95.13 L280.00,101.56  \"/></g>\n\t</g>\n\t<g id=\"gnuplot_plot_7a\"><title>gnuplot_plot_7a</title>\n<g fill=\"none\" color=\"black\" stroke=\"currentColor\" stroke-width=\"0.50\" stroke-linecap=\"butt\" stroke-linejoin=\"miter\">\n\t<path stroke=\"rgb(  0,   0,   0)\" d=\"M280.00,318.44 L263.86,311.56 L248.12,302.17 L233.15,290.52 L219.35,276.88 L207.03,261.60 L196.52,245.05 L188.06,227.63   L181.86,209.79 L178.08,191.94 L176.81,174.54 L178.08,158.01 L181.86,142.77 L188.06,129.18 L196.52,117.57 L207.03,108.25   L219.35,101.43 L233.15,97.28 L248.12,95.91 L263.86,97.35 L280.00,101.56  \"/></g>\n\t</g>\n\t<g id=\"gnuplot_plot_8a\"><title>gnuplot_plot_8a</title>\n<g fill=\"none\" color=\"black\" stroke=\"currentColor\" stroke-width=\"0.50\" stroke-linecap=\"butt\" stroke-linejoin=\"miter\">\n\t<path stroke=\"rgb(  0,   0,   0)\" d=\"M280.00,318.44 L261.22,314.32 L242.90,307.64 L225.50,298.55 L209.43,287.28 L195.11,274.10 L182.87,259.35 L173.03,243.38   L165.82,226.59 L161.42,209.41 L159.94,192.22 L161.42,175.48 L165.82,159.58 L173.03,144.93 L182.87,131.88 L195.11,120.75   L209.43,111.82 L225.50,105.31 L242.90,101.37 L261.22,100.11 L280.00,101.56  \"/></g>\n\t</g>\n\t<g id=\"gnuplot_plot_9a\"><title>gnuplot_plot_9a</title>\n<g fill=\"none\" color=\"black\" stroke=\"currentColor\" stroke-width=\"0.50\" stroke-linecap=\"butt\" stroke-linejoin=\"miter\">\n\t<path stroke=\"rgb(  0,   0,   0)\" d=\"M280.00,318.44 L260.42,317.36 L241.32,313.64 L223.18,307.36 L206.43,298.69 L191.49,287.84 L178.73,275.06 L168.47,260.69   L160.95,245.06 L156.37,228.58 L154.83,211.63 L156.37,194.66 L160.95,178.05 L168.47,162.23 L178.73,147.59 L191.49,134.48   L206.43,123.24 L223.18,114.13 L241.32,107.38 L260.42,103.15 L280.00,101.56  \"/></g>\n\t</g>\n\t<g id=\"gnuplot_plot_10a\"><title>gnuplot_plot_10a</title>\n<g fill=\"none\" color=\"black\" stroke=\"currentColor\" stroke-width=\"0.50\" stroke-linecap=\"butt\" stroke-linejoin=\"miter\">\n\t<path stroke=\"rgb(  0,   0,   0)\" d=\"M280.00,318.44 L261.54,320.37 L243.53,319.59 L226.42,316.11 L210.62,310.01 L196.54,301.45 L184.51,290.64 L174.83,277.85   L167.74,263.38 L163.42,247.60 L161.97,230.89 L163.42,213.67 L167.74,196.37 L174.83,179.39 L184.51,163.17 L196.54,148.10   L210.62,134.56 L226.42,122.87 L243.53,113.33 L261.54,106.17 L280.00,101.56  \"/></g>\n\t</g>\n\t<g id=\"gnuplot_plot_11a\"><title>gnuplot_plot_11a</title>\n<g fill=\"none\" color=\"black\" stroke=\"currentColor\" stroke-width=\"0.50\" stroke-linecap=\"butt\" stroke-linejoin=\"miter\">\n\t<path stroke=\"rgb(  0,   0,   0)\" d=\"M280.00,318.44 L264.46,323.07 L249.31,324.91 L234.90,323.92 L221.61,320.13 L209.76,313.63 L199.63,304.57 L191.49,293.19   L185.52,279.76 L181.88,264.60 L180.66,248.11 L181.88,230.68 L185.52,212.73 L191.49,194.73 L199.63,177.10 L209.76,160.27   L221.61,144.68 L234.90,130.68 L249.31,118.65 L264.46,108.86 L280.00,101.56  \"/></g>\n\t</g>\n\t<g id=\"gnuplot_plot_12a\"><title>gnuplot_plot_12a</title>\n<g fill=\"none\" color=\"black\" stroke=\"currentColor\" stroke-width=\"0.50\" stroke-linecap=\"butt\" stroke-linejoin=\"miter\">\n\t<path stroke=\"rgb(  0,   0,   0)\" d=\"M280.00,318.44 L268.91,325.18 L258.09,329.08 L247.81,330.04 L238.32,328.06 L229.85,323.16 L222.63,315.48 L216.81,305.20   L212.55,292.58 L209.95,277.92 L209.08,261.59 L209.95,243.99 L212.55,225.56 L216.81,206.75 L222.63,188.01 L229.85,169.81   L238.32,152.60 L247.81,136.81 L258.09,122.81 L268.91,110.97 L280.00,101.56  \"/></g>\n\t</g>\n\t<g id=\"gnuplot_plot_13a\"><title>gnuplot_plot_13a</title>\n<g fill=\"none\" color=\"black\" stroke=\"currentColor\" stroke-width=\"0.50\" stroke-linecap=\"butt\" stroke-linejoin=\"miter\">\n\t<path stroke=\"rgb(  0,   0,   0)\" d=\"M280.00,318.44 L274.44,326.49 L269.01,331.68 L263.86,333.87 L259.10,333.01 L254.86,329.13 L251.23,322.30 L248.32,312.72   L246.18,300.60 L244.88,286.25 L244.44,270.03 L244.88,252.32 L246.18,233.58 L248.32,214.25 L251.23,194.83 L254.86,175.77   L259.10,157.56 L263.86,140.63 L269.01,125.42 L274.44,112.29 L280.00,101.56  \"/></g>\n\t</g>\n\t<g id=\"gnuplot_plot_14a\"><title>gnuplot_plot_14a</title>\n<g fill=\"none\" color=\"black\" stroke=\"currentColor\" stroke-width=\"0.50\" stroke-linecap=\"butt\" stroke-linejoin=\"miter\">\n\t<path stroke=\"rgb(  0,   0,   0)\" d=\"M280.00,318.44 L280.51,326.89 L281.01,332.47 L281.48,335.03 L281.92,334.52 L282.31,330.93 L282.65,324.37 L282.92,314.99   L283.11,303.03 L283.23,288.78 L283.27,272.58 L283.23,254.85 L283.11,236.01 L282.92,216.53 L282.65,196.90 L282.31,177.58   L281.92,159.06 L281.48,141.80 L281.01,126.21 L280.51,112.69 L280.00,101.56  \"/></g>\n\t</g>\n\t<g id=\"gnuplot_plot_15a\"><title>gnuplot_plot_15a</title>\n<g fill=\"none\" color=\"black\" stroke=\"currentColor\" stroke-width=\"0.50\" stroke-linecap=\"butt\" stroke-linejoin=\"miter\">\n\t<path stroke=\"rgb(  0,   0,   0)\" d=\"M280.00,318.44 L286.53,326.34 L292.91,331.37 L298.97,333.41 L304.56,332.42 L309.55,328.41 L313.81,321.48 L317.24,311.81   L319.75,299.64 L321.28,285.25 L321.79,269.01 L321.28,251.32 L319.75,232.61 L317.24,213.35 L313.81,194.01 L309.55,175.06   L304.56,156.96 L298.97,140.17 L292.91,125.11 L286.53,112.13 L280.00,101.56  \"/></g>\n\t</g>\n\t<g id=\"gnuplot_plot_16a\"><title>gnuplot_plot_16a</title>\n<g fill=\"none\" color=\"black\" stroke=\"currentColor\" stroke-width=\"0.50\" stroke-linecap=\"butt\" stroke-linejoin=\"miter\">\n\t<path stroke=\"rgb(  0,   0,   0)\" d=\"M280.00,318.44 L291.92,324.87 L303.55,328.48 L314.60,329.17 L324.80,326.92 L333.90,321.80 L341.67,313.92 L347.92,303.49   L352.49,290.75 L355.29,276.02 L356.22,259.67 L355.29,242.09 L352.49,223.72 L347.92,205.03 L341.67,186.45 L333.90,168.45   L324.80,151.47 L314.60,135.93 L303.55,122.22 L291.92,110.67 L280.00,101.56  \"/></g>\n\t</g>\n\t<g id=\"gnuplot_plot_17a\"><title>gnuplot_plot_17a</title>\n<g fill=\"none\" color=\"black\" stroke=\"currentColor\" stroke-width=\"0.50\" stroke-linecap=\"butt\" stroke-linejoin=\"miter\">\n\t<path stroke=\"rgb(  0,   0,   0)\" d=\"M280.00,318.44 L296.14,322.65 L311.88,324.09 L326.85,322.72 L340.65,318.57 L352.97,311.75 L363.48,302.43 L371.94,290.82   L378.14,277.23 L381.92,261.99 L383.19,245.46 L381.92,228.06 L378.14,210.21 L371.94,192.37 L363.48,174.95 L352.97,158.40   L340.65,143.12 L326.85,129.48 L311.88,117.83 L296.14,108.44 L280.00,101.56  \"/></g>\n\t</g>\n\t<g id=\"gnuplot_plot_18a\"><title>gnuplot_plot_18a</title>\n<g fill=\"none\" color=\"black\" stroke=\"currentColor\" stroke-width=\"0.50\" stroke-linecap=\"butt\" stroke-linejoin=\"miter\">\n\t<path stroke=\"rgb(  0,   0,   0)\" d=\"M280.00,318.44 L298.78,319.89 L317.10,318.63 L334.50,314.69 L350.57,308.18 L364.89,299.25 L377.13,288.12 L386.97,275.07   L394.18,260.42 L398.58,244.52 L400.06,227.78 L398.58,210.59 L394.18,193.41 L386.97,176.62 L377.13,160.65 L364.89,145.90   L350.57,132.72 L334.50,121.45 L317.10,112.36 L298.78,105.68 L280.00,101.56  \"/></g>\n\t</g>\n\t<g id=\"gnuplot_plot_19a\"><title>gnuplot_plot_19a</title>\n<g fill=\"none\" color=\"black\" stroke=\"currentColor\" stroke-width=\"0.50\" stroke-linecap=\"butt\" stroke-linejoin=\"miter\">\n\t<path stroke=\"rgb(  0,   0,   0)\" d=\"M280.00,318.44 L299.58,316.85 L318.68,312.62 L336.82,305.87 L353.57,296.76 L368.51,285.52 L381.27,272.41 L391.53,257.77   L399.05,241.95 L403.63,225.34 L405.17,208.37 L403.63,191.42 L399.05,174.94 L391.53,159.31 L381.27,144.94 L368.51,132.16   L353.57,121.31 L336.82,112.64 L318.68,106.36 L299.58,102.64 L280.00,101.56  \"/></g>\n\t</g>\n\t<g id=\"gnuplot_plot_20a\"><title>gnuplot_plot_20a</title>\n<g fill=\"none\" color=\"black\" stroke=\"currentColor\" stroke-width=\"0.50\" stroke-linecap=\"butt\" stroke-linejoin=\"miter\">\n\t<path stroke=\"rgb(  0,   0,   0)\" d=\"M280.00,318.44 L298.46,313.83 L316.47,306.67 L333.58,297.13 L349.38,285.44 L363.46,271.90 L375.49,256.83 L385.17,240.61   L392.26,223.63 L396.58,206.33 L398.03,189.11 L396.58,172.40 L392.26,156.62 L385.17,142.15 L375.49,129.36 L363.46,118.55   L349.38,109.99 L333.58,103.89 L316.47,100.41 L298.46,99.63 L280.00,101.56  \"/></g>\n\t</g>\n\t<g id=\"gnuplot_plot_21a\"><title>gnuplot_plot_21a</title>\n<g fill=\"none\" color=\"black\" stroke=\"currentColor\" stroke-width=\"0.50\" stroke-linecap=\"butt\" stroke-linejoin=\"miter\">\n\t<path stroke=\"rgb(  0,   0,   0)\" d=\"M280.00,318.44 L295.54,311.14 L310.69,301.35 L325.10,289.32 L338.39,275.32 L350.24,259.73 L360.37,242.90 L368.51,225.27   L374.48,207.27 L378.12,189.32 L379.34,171.89 L378.12,155.40 L374.48,140.24 L368.51,126.81 L360.37,115.43 L350.24,106.37   L338.39,99.87 L325.10,96.08 L310.69,95.09 L295.54,96.93 L280.00,101.56  \"/></g>\n\t</g>\n\t<g id=\"gnuplot_plot_22a\"><title>gnuplot_plot_22a</title>\n<g fill=\"none\" color=\"black\" stroke=\"currentColor\" stroke-width=\"0.50\" stroke-linecap=\"butt\" stroke-linejoin=\"miter\">\n\t<path stroke=\"rgb(  0,   0,   0)\" d=\"M280.00,318.44  \"/></g>\n\t</g>\n\t<g id=\"gnuplot_plot_23a\"><title>gnuplot_plot_23a</title>\n<g fill=\"none\" color=\"black\" stroke=\"currentColor\" stroke-width=\"0.50\" stroke-linecap=\"butt\" stroke-linejoin=\"miter\">\n\t<path stroke=\"rgb(  0,   0,   0)\" d=\"M295.54,311.14 L291.09,309.03 L285.56,307.71 L279.49,307.31 L273.47,307.87 L268.08,309.33 L263.86,311.56 L261.22,314.32   L260.42,317.36 L261.54,320.37 L264.46,323.07 L268.91,325.18 L274.44,326.49 L280.51,326.89 L286.53,326.34 L291.92,324.87   L296.14,322.65 L298.78,319.89 L299.58,316.85 L298.46,313.83 L295.54,311.14  \"/></g>\n\t</g>\n\t<g id=\"gnuplot_plot_24a\"><title>gnuplot_plot_24a</title>\n<g fill=\"none\" color=\"black\" stroke=\"currentColor\" stroke-width=\"0.50\" stroke-linecap=\"butt\" stroke-linejoin=\"miter\">\n\t<path stroke=\"rgb(  0,   0,   0)\" d=\"M310.69,301.35 L301.91,297.19 L290.99,294.58 L278.99,293.79 L267.09,294.89 L256.45,297.78 L248.12,302.17 L242.90,307.64   L241.32,313.64 L243.53,319.59 L249.31,324.91 L258.09,329.08 L269.01,331.68 L281.01,332.47 L292.91,331.37 L303.55,328.48   L311.88,324.09 L317.10,318.63 L318.68,312.62 L316.47,306.67 L310.69,301.35  \"/></g>\n\t</g>\n\t<g id=\"gnuplot_plot_25a\"><title>gnuplot_plot_25a</title>\n<g fill=\"none\" color=\"black\" stroke=\"currentColor\" stroke-width=\"0.50\" stroke-linecap=\"butt\" stroke-linejoin=\"miter\">\n\t<path stroke=\"rgb(  0,   0,   0)\" d=\"M325.10,289.32 L312.19,283.19 L296.14,279.37 L278.52,278.20 L261.03,279.83 L245.40,284.07 L233.15,290.52 L225.50,298.55   L223.18,307.36 L226.42,316.11 L234.90,323.92 L247.81,330.04 L263.86,333.87 L281.48,335.03 L298.97,333.41 L314.60,329.17   L326.85,322.72 L334.50,314.69 L336.82,305.87 L333.58,297.13 L325.10,289.32  \"/></g>\n\t</g>\n\t<g id=\"gnuplot_plot_26a\"><title>gnuplot_plot_26a</title>\n<g fill=\"none\" color=\"black\" stroke=\"currentColor\" stroke-width=\"0.50\" stroke-linecap=\"butt\" stroke-linejoin=\"miter\">\n\t<path stroke=\"rgb(  0,   0,   0)\" d=\"M338.39,275.32 L321.68,267.40 L300.90,262.44 L278.08,260.94 L255.44,263.04 L235.20,268.53 L219.35,276.88 L209.43,287.28   L206.43,298.69 L210.62,310.01 L221.61,320.13 L238.32,328.06 L259.10,333.01 L281.92,334.52 L304.56,332.42 L324.80,326.92   L340.65,318.57 L350.57,308.18 L353.57,296.76 L349.38,285.44 L338.39,275.32  \"/></g>\n\t</g>\n\t<g id=\"gnuplot_plot_27a\"><title>gnuplot_plot_27a</title>\n<g fill=\"none\" color=\"black\" stroke=\"currentColor\" stroke-width=\"0.50\" stroke-linecap=\"butt\" stroke-linejoin=\"miter\">\n\t<path stroke=\"rgb(  0,   0,   0)\" d=\"M350.24,259.73 L330.15,250.19 L305.14,244.23 L277.69,242.42 L250.45,244.94 L226.10,251.55 L207.03,261.60 L195.11,274.10   L191.49,287.84 L196.54,301.45 L209.76,313.63 L229.85,323.16 L254.86,329.13 L282.31,330.93 L309.55,328.41 L333.90,321.80   L352.97,311.75 L364.89,299.25 L368.51,285.52 L363.46,271.90 L350.24,259.73  \"/></g>\n\t</g>\n\t<g id=\"gnuplot_plot_28a\"><title>gnuplot_plot_28a</title>\n<g fill=\"none\" color=\"black\" stroke=\"currentColor\" stroke-width=\"0.50\" stroke-linecap=\"butt\" stroke-linejoin=\"miter\">\n\t<path stroke=\"rgb(  0,   0,   0)\" d=\"M360.37,242.90 L337.37,231.99 L308.77,225.17 L277.35,223.10 L246.19,225.99 L218.33,233.55 L196.52,245.05 L182.87,259.35   L178.73,275.06 L184.51,290.64 L199.63,304.57 L222.63,315.48 L251.23,322.30 L282.65,324.37 L313.81,321.48 L341.67,313.92   L363.48,302.43 L377.13,288.12 L381.27,272.41 L375.49,256.83 L360.37,242.90  \"/></g>\n\t</g>\n\t<g id=\"gnuplot_plot_29a\"><title>gnuplot_plot_29a</title>\n<g fill=\"none\" color=\"black\" stroke=\"currentColor\" stroke-width=\"0.50\" stroke-linecap=\"butt\" stroke-linejoin=\"miter\">\n\t<path stroke=\"rgb(  0,   0,   0)\" d=\"M368.51,225.27 L343.19,213.25 L311.68,205.75 L277.08,203.47 L242.76,206.65 L212.08,214.97 L188.06,227.63 L173.03,243.38   L168.47,260.69 L174.83,277.85 L191.49,293.19 L216.81,305.20 L248.32,312.72 L282.92,314.99 L317.24,311.81 L347.92,303.49   L371.94,290.82 L386.97,275.07 L391.53,257.77 L385.17,240.61 L368.51,225.27  \"/></g>\n\t</g>\n\t<g id=\"gnuplot_plot_30a\"><title>gnuplot_plot_30a</title>\n<g fill=\"none\" color=\"black\" stroke=\"currentColor\" stroke-width=\"0.50\" stroke-linecap=\"butt\" stroke-linejoin=\"miter\">\n\t<path stroke=\"rgb(  0,   0,   0)\" d=\"M374.48,207.27 L347.45,194.44 L313.82,186.42 L276.89,183.99 L240.25,187.39 L207.51,196.28 L181.86,209.79 L165.82,226.59   L160.95,245.06 L167.74,263.38 L185.52,279.76 L212.55,292.58 L246.18,300.60 L283.11,303.03 L319.75,299.64 L352.49,290.75   L378.14,277.23 L394.18,260.42 L399.05,241.95 L392.26,223.63 L374.48,207.27  \"/></g>\n\t</g>\n\t<g id=\"gnuplot_plot_31a\"><title>gnuplot_plot_31a</title>\n<g fill=\"none\" color=\"black\" stroke=\"currentColor\" stroke-width=\"0.50\" stroke-linecap=\"butt\" stroke-linejoin=\"miter\">\n\t<path stroke=\"rgb(  0,   0,   0)\" d=\"M378.12,189.32 L350.05,176.01 L315.12,167.68 L276.77,165.15 L238.72,168.68 L204.71,177.91 L178.08,191.94 L161.42,209.41   L156.37,228.58 L163.42,247.60 L181.88,264.60 L209.95,277.92 L244.88,286.25 L283.23,288.78 L321.28,285.25 L355.29,276.02   L381.92,261.99 L398.58,244.52 L403.63,225.34 L396.58,206.33 L378.12,189.32  \"/></g>\n\t</g>\n\t<g id=\"gnuplot_plot_32a\"><title>gnuplot_plot_32a</title>\n<g fill=\"none\" color=\"black\" stroke=\"currentColor\" stroke-width=\"0.50\" stroke-linecap=\"butt\" stroke-linejoin=\"miter\">\n\t<path stroke=\"rgb(  0,   0,   0)\" d=\"M379.34,171.89 L350.92,158.41 L315.56,149.97 L276.73,147.42 L238.21,150.99 L203.78,160.33 L176.81,174.54 L159.94,192.22   L154.83,211.63 L161.97,230.89 L180.66,248.11 L209.08,261.59 L244.44,270.03 L283.27,272.58 L321.79,269.01 L356.22,259.67   L383.19,245.46 L400.06,227.78 L405.17,208.37 L398.03,189.11 L379.34,171.89  \"/></g>\n\t</g>\n\t<g id=\"gnuplot_plot_33a\"><title>gnuplot_plot_33a</title>\n<g fill=\"none\" color=\"black\" stroke=\"currentColor\" stroke-width=\"0.50\" stroke-linecap=\"butt\" stroke-linejoin=\"miter\">\n\t<path stroke=\"rgb(  0,   0,   0)\" d=\"M378.12,155.40 L350.05,142.08 L315.12,133.75 L276.77,131.22 L238.72,134.75 L204.71,143.98 L178.08,158.01 L161.42,175.48   L156.37,194.66 L163.42,213.67 L181.88,230.68 L209.95,243.99 L244.88,252.32 L283.23,254.85 L321.28,251.32 L355.29,242.09   L381.92,228.06 L398.58,210.59 L403.63,191.42 L396.58,172.40 L378.12,155.40  \"/></g>\n\t</g>\n\t<g id=\"gnuplot_plot_34a\"><title>gnuplot_plot_34a</title>\n<g fill=\"none\" color=\"black\" stroke=\"currentColor\" stroke-width=\"0.50\" stroke-linecap=\"butt\" stroke-linejoin=\"miter\">\n\t<path stroke=\"rgb(  0,   0,   0)\" d=\"M374.48,140.24 L347.45,127.42 L313.82,119.40 L276.89,116.97 L240.25,120.36 L207.51,129.25 L181.86,142.77 L165.82,159.58   L160.95,178.05 L167.74,196.37 L185.52,212.73 L212.55,225.56 L246.18,233.58 L283.11,236.01 L319.75,232.61 L352.49,223.72   L378.14,210.21 L394.18,193.41 L399.05,174.94 L392.26,156.62 L374.48,140.24  \"/></g>\n\t</g>\n\t<g id=\"gnuplot_plot_35a\"><title>gnuplot_plot_35a</title>\n<g fill=\"none\" color=\"black\" stroke=\"currentColor\" stroke-width=\"0.50\" stroke-linecap=\"butt\" stroke-linejoin=\"miter\">\n\t<path stroke=\"rgb(  0,   0,   0)\" d=\"M368.51,126.81 L343.19,114.80 L311.68,107.28 L277.08,105.01 L242.76,108.19 L212.08,116.51 L188.06,129.18 L173.03,144.93   L168.47,162.23 L174.83,179.39 L191.49,194.73 L216.81,206.75 L248.32,214.25 L282.92,216.53 L317.24,213.35 L347.92,205.03   L371.94,192.37 L386.97,176.62 L391.53,159.31 L385.17,142.15 L368.51,126.81  \"/></g>\n\t</g>\n\t<g id=\"gnuplot_plot_36a\"><title>gnuplot_plot_36a</title>\n<g fill=\"none\" color=\"black\" stroke=\"currentColor\" stroke-width=\"0.50\" stroke-linecap=\"butt\" stroke-linejoin=\"miter\">\n\t<path stroke=\"rgb(  0,   0,   0)\" d=\"M360.37,115.43 L337.37,104.52 L308.77,97.70 L277.35,95.63 L246.19,98.52 L218.33,106.08 L196.52,117.57 L182.87,131.88   L178.73,147.59 L184.51,163.17 L199.63,177.10 L222.63,188.01 L251.23,194.83 L282.65,196.90 L313.81,194.01 L341.67,186.45   L363.48,174.95 L377.13,160.65 L381.27,144.94 L375.49,129.36 L360.37,115.43  \"/></g>\n\t</g>\n\t<g id=\"gnuplot_plot_37a\"><title>gnuplot_plot_37a</title>\n<g fill=\"none\" color=\"black\" stroke=\"currentColor\" stroke-width=\"0.50\" stroke-linecap=\"butt\" stroke-linejoin=\"miter\">\n\t<path stroke=\"rgb(  0,   0,   0)\" d=\"M350.24,106.37 L330.15,96.84 L305.14,90.87 L277.69,89.07 L250.45,91.59 L226.10,98.20 L207.03,108.25 L195.11,120.75   L191.49,134.48 L196.54,148.10 L209.76,160.27 L229.85,169.81 L254.86,175.77 L282.31,177.58 L309.55,175.06 L333.90,168.45   L352.97,158.40 L364.89,145.90 L368.51,132.16 L363.46,118.55 L350.24,106.37  \"/></g>\n\t</g>\n\t<g id=\"gnuplot_plot_38a\"><title>gnuplot_plot_38a</title>\n<g fill=\"none\" color=\"black\" stroke=\"currentColor\" stroke-width=\"0.50\" stroke-linecap=\"butt\" stroke-linejoin=\"miter\">\n\t<path stroke=\"rgb(  0,   0,   0)\" d=\"M338.39,99.87 L321.68,91.94 L300.90,86.99 L278.08,85.48 L255.44,87.58 L235.20,93.08 L219.35,101.43 L209.43,111.82   L206.43,123.24 L210.62,134.56 L221.61,144.68 L238.32,152.60 L259.10,157.56 L281.92,159.06 L304.56,156.96 L324.80,151.47   L340.65,143.12 L350.57,132.72 L353.57,121.31 L349.38,109.99 L338.39,99.87  \"/></g>\n\t</g>\n\t<g id=\"gnuplot_plot_39a\"><title>gnuplot_plot_39a</title>\n<g fill=\"none\" color=\"black\" stroke=\"currentColor\" stroke-width=\"0.50\" stroke-linecap=\"butt\" stroke-linejoin=\"miter\">\n\t<path stroke=\"rgb(  0,   0,   0)\" d=\"M325.10,96.08 L312.19,89.96 L296.14,86.13 L278.52,84.97 L261.03,86.59 L245.40,90.83 L233.15,97.28 L225.50,105.31   L223.18,114.13 L226.42,122.87 L234.90,130.68 L247.81,136.81 L263.86,140.63 L281.48,141.80 L298.97,140.17 L314.60,135.93   L326.85,129.48 L334.50,121.45 L336.82,112.64 L333.58,103.89 L325.10,96.08  \"/></g>\n\t</g>\n\t<g id=\"gnuplot_plot_40a\"><title>gnuplot_plot_40a</title>\n<g fill=\"none\" color=\"black\" stroke=\"currentColor\" stroke-width=\"0.50\" stroke-linecap=\"butt\" stroke-linejoin=\"miter\">\n\t<path stroke=\"rgb(  0,   0,   0)\" d=\"M310.69,95.09 L301.91,90.92 L290.99,88.32 L278.99,87.53 L267.09,88.63 L256.45,91.52 L248.12,95.91 L242.90,101.37   L241.32,107.38 L243.53,113.33 L249.31,118.65 L258.09,122.81 L269.01,125.42 L281.01,126.21 L292.91,125.11 L303.55,122.22   L311.88,117.83 L317.10,112.36 L318.68,106.36 L316.47,100.41 L310.69,95.09  \"/></g>\n\t</g>\n\t<g id=\"gnuplot_plot_41a\"><title>gnuplot_plot_41a</title>\n<g fill=\"none\" color=\"black\" stroke=\"currentColor\" stroke-width=\"0.50\" stroke-linecap=\"butt\" stroke-linejoin=\"miter\">\n\t<path stroke=\"rgb(  0,   0,   0)\" d=\"M295.54,96.93 L291.09,94.82 L285.56,93.51 L279.49,93.11 L273.47,93.66 L268.08,95.13 L263.86,97.35 L261.22,100.11   L260.42,103.15 L261.54,106.17 L264.46,108.86 L268.91,110.97 L274.44,112.29 L280.51,112.69 L286.53,112.13 L291.92,110.67   L296.14,108.44 L298.78,105.68 L299.58,102.64 L298.46,99.63 L295.54,96.93  \"/></g>\n\t</g>\n\t<g id=\"gnuplot_plot_42a\"><title>gnuplot_plot_42a</title>\n<g fill=\"none\" color=\"black\" stroke=\"currentColor\" stroke-width=\"0.50\" stroke-linecap=\"butt\" stroke-linejoin=\"miter\">\n\t<path stroke=\"rgb(  0,   0,   0)\" d=\"M280.00,101.56  \"/></g>\n\t</g>\n\t<g id=\"gnuplot_plot_43a\"><title>gnuplot_plot_43a</title>\n<g fill=\"none\" color=\"black\" stroke=\"currentColor\" stroke-width=\"0.50\" stroke-linecap=\"butt\" stroke-linejoin=\"miter\">\n\t<path stroke=\"rgb( 68,   1,  84)\" d=\"M337.39,102.31 L301.63,311.22 M334.53,101.22 L298.77,310.13 M355.81,251.19 L357.52,241.19 L328.77,95.29 L291.68,311.94   M336.64,99.55 L300.88,308.46 M330.08,100.74 L294.32,309.65 M340.36,101.94 L304.60,310.85 M363.37,235.28 L336.88,100.86   L301.11,309.77 M366.00,237.80 L339.50,103.38 L303.74,312.29 M302.55,309.01 L338.31,100.10 L364.81,234.52 L365.35,231.37   L339.39,99.69 L303.63,308.60 M257.77,112.70 L297.50,314.33 L334.58,97.68 L335.50,102.31 L299.32,313.63 M343.71,101.95   L307.94,310.86 M332.07,99.54 L296.31,308.45 M357.40,233.32 L330.91,98.90 L295.14,307.81 M337.95,98.68 L302.19,307.59   M253.71,108.29 L293.44,309.93 L329.74,97.89 L328.95,93.88 L291.86,310.53 M198.53,166.80 L198.43,167.34 L228.80,321.45   L265.89,104.80 L304.39,300.18  \"/>\t<path stroke=\"rgb( 70,   7,  90)\" d=\"M304.39,300.18 L303.16,307.38  \"/>\t<path stroke=\"rgb( 68,   1,  84)\" d=\"M367.30,236.02 L367.72,233.59 L341.64,101.28 L305.88,310.19 M367.51,236.40 L368.17,232.59 L342.33,101.48 L306.56,310.39   M364.64,234.66 L338.15,100.24 L302.39,309.15 M339.89,104.73 L304.12,313.64 M299.51,307.31 L335.28,98.40 L361.77,232.81   L362.57,228.11 L336.89,97.78 L301.12,306.69 M294.70,310.59 L330.85,99.43 L329.91,94.67 L292.82,311.31 M331.83,95.44   L332.31,97.84 L295.69,311.72 M329.84,99.46 L294.07,308.37 M377.57,145.45 L361.68,238.29 L335.19,103.87 L299.42,312.78   M359.98,233.00 L333.49,98.59 L297.73,307.50 M344.30,102.23 L369.62,230.68 L368.44,237.55 L341.95,103.13 L306.19,312.04   M333.84,100.51 L298.08,309.42 M339.55,100.05 L303.79,308.96 M343.05,103.47 L307.29,312.38 M336.63,99.32 L300.86,308.23   M365.95,239.98 L339.45,105.56 L303.69,314.47 M336.62,103.57 L300.86,312.48 M260.12,105.12 L223.09,321.44 L223.15,321.72   L260.24,105.08 L299.96,306.71 L335.73,97.80 L362.16,231.92 L362.10,232.26 L335.61,97.84 L299.85,306.75 M364.27,238.20   L337.78,103.78 L302.02,312.69 M299.41,313.78 L335.68,101.95 L334.85,97.77 L297.76,314.41 M339.27,100.42 L303.50,309.33   M336.01,101.97 L300.25,310.88 M333.77,99.04 L298.00,307.95 M381.93,146.26 L366.03,239.11 L339.54,104.69 L303.78,313.60   M363.97,234.53 L337.48,100.11 L301.71,309.02 M377.15,144.17 L361.26,237.01 L334.77,102.59 L299.00,311.50 M334.44,97.90   L335.65,104.04 L299.77,313.61 M332.01,100.83 L296.25,309.74 M331.25,95.30 L331.96,98.91 L295.58,311.40 M368.16,228.08   L380.60,155.43 L378.46,144.61 L362.57,237.45 L336.08,103.03 L300.31,311.94 M374.97,140.86 L375.68,144.46 L360.50,233.16   L334.01,98.74 L298.24,307.65 M332.72,99.15 L296.95,308.06 M338.43,102.69 L302.67,311.60 M335.05,98.66 L299.28,307.57   M373.57,143.18 L357.67,236.02 L331.18,101.61 L295.41,310.52 M366.39,239.58 L339.90,105.16 L304.13,314.07 M332.98,99.30   L297.21,308.21 M341.63,101.59 L305.87,310.50 M332.29,96.05 L333.07,100.00 L296.76,312.10 M368.40,236.38 L341.91,101.96   L306.14,310.87 M224.00,320.77 L259.77,111.87 L299.49,313.50 L335.43,103.58 L334.28,97.73 L297.19,314.38 M335.28,99.47   L361.77,233.89 L376.86,145.75 L376.05,141.67 L360.16,234.51 L333.67,100.09 L297.90,309.00 M367.92,236.70 L368.60,232.70   L342.79,101.75 L307.03,310.66 M336.65,103.96 L300.89,312.87 M337.10,98.11 L301.34,307.02 M340.97,104.23 L305.21,313.14   M364.30,237.54 L380.20,144.70 L381.32,150.40 L366.55,236.68 L340.06,102.26 L304.30,311.17 M333.64,100.00 L360.13,234.42   L376.03,141.57 L376.76,145.29 L361.60,233.85 L335.11,99.44 L299.34,308.35 M338.66,98.70 L302.90,307.61 M372.48,141.42   L356.59,234.26 L330.09,99.85 L294.33,308.76 M335.30,97.43 L298.21,314.08 M338.09,103.46 L302.33,312.37 M334.94,98.05   L299.18,306.96 M333.87,103.13 L298.11,312.04 M332.15,97.62 L295.06,314.27 M340.16,98.43 L305.72,299.60 M365.12,235.31   L338.63,100.89 L302.86,309.80 M268.17,106.84 L307.20,304.93  \"/>\t<path stroke=\"rgb( 70,   7,  90)\" d=\"M307.20,304.93 L306.50,309.01  \"/>\t<path stroke=\"rgb( 68,   1,  84)\" d=\"M335.09,97.30 L298.00,313.94 M332.21,98.94 L296.45,307.85 M330.76,98.57 L294.99,307.48 M367.96,238.17 L341.47,103.75   L305.70,312.66 M363.26,237.83 L336.77,103.41 L301.00,312.32 M337.55,105.77 L301.79,314.68 M216.85,317.38 L252.62,108.47   L292.34,310.10 L329.43,93.46 L329.50,93.81 L292.48,310.05 M339.49,101.12 L303.72,310.03 M329.60,93.85 L292.51,310.50   M378.17,145.35 L362.28,238.19 L335.79,103.78 L300.02,312.69 M357.87,234.35 L331.38,99.94 L295.61,308.85 M252.89,108.49   L292.62,310.12 L329.62,93.98 L329.53,93.54 L292.44,310.18 M252.11,108.84 L291.84,310.47 L328.93,93.82 L329.67,97.57   L293.32,309.90 M335.30,100.96 L299.54,309.87 M336.18,104.38 L300.41,313.29 M372.58,142.62 L356.68,235.46 L330.19,101.04   L294.43,309.95 M308.59,311.30 L344.36,102.39 L369.79,231.44 L368.74,237.62 L342.25,103.20 L306.48,312.11 M339.82,102.37   L304.05,311.28 M357.85,252.46 L359.51,242.81 L330.69,96.61 L293.60,313.25 M339.87,100.87 L304.11,309.78 M342.39,102.57   L306.63,311.48 M363.73,235.93 L379.56,143.47 L379.49,143.14 L363.60,235.98 L337.10,101.56 L301.34,310.47 M367.77,235.98   L341.28,101.56 L305.52,310.47 M256.95,110.31 L296.68,311.94 L332.88,100.47 L332.00,95.97 L294.91,312.62 M334.49,102.53   L298.73,311.44 M340.91,102.60 L305.14,311.51  \"/></g>\n\t</g>\n\t<g id=\"gnuplot_plot_44a\"><title>gnuplot_plot_44a</title>\n<g fill=\"none\" color=\"black\" stroke=\"currentColor\" stroke-width=\"0.50\" stroke-linecap=\"butt\" stroke-linejoin=\"miter\">\n\t<use xlink:href=\"#gpPt6\" transform=\"translate(305.14,311.51) scale(1.50)\" color=\"rgb(255,   0,   0)\"/>\n\t<use xlink:href=\"#gpPt6\" transform=\"translate(340.91,102.60) scale(1.50)\" color=\"rgb(255,   0,   0)\"/>\n\t<use xlink:href=\"#gpPt6\" transform=\"translate(340.91,102.60) scale(1.50)\" color=\"rgb(255,   0,   0)\"/>\n\t<use xlink:href=\"#gpPt6\" transform=\"translate(298.73,311.44) scale(1.50)\" color=\"rgb(255,   0,   0)\"/>\n\t<use xlink:href=\"#gpPt6\" transform=\"translate(334.49,102.53) scale(1.50)\" color=\"rgb(255,   0,   0)\"/>\n\t<use xlink:href=\"#gpPt6\" transform=\"translate(334.49,102.53) scale(1.50)\" color=\"rgb(255,   0,   0)\"/>\n\t<use xlink:href=\"#gpPt6\" transform=\"translate(294.91,312.62) scale(1.50)\" color=\"rgb(255,   0,   0)\"/>\n\t<use xlink:href=\"#gpPt6\" transform=\"translate(332.00,95.97) scale(1.50)\" color=\"rgb(255,   0,   0)\"/>\n\t<use xlink:href=\"#gpPt6\" transform=\"translate(332.88,100.47) scale(1.50)\" color=\"rgb(255,   0,   0)\"/>\n\t<use xlink:href=\"#gpPt6\" transform=\"translate(296.68,311.94) scale(1.50)\" color=\"rgb(255,   0,   0)\"/>\n\t<use xlink:href=\"#gpPt6\" transform=\"translate(256.95,110.31) scale(1.50)\" color=\"rgb(255,   0,   0)\"/>\n\t<use xlink:href=\"#gpPt6\" transform=\"translate(256.95,110.31) scale(1.50)\" color=\"rgb(255,   0,   0)\"/>\n\t<use xlink:href=\"#gpPt6\" transform=\"translate(305.52,310.47) scale(1.50)\" color=\"rgb(255,   0,   0)\"/>\n\t<use xlink:href=\"#gpPt6\" transform=\"translate(341.28,101.56) scale(1.50)\" color=\"rgb(255,   0,   0)\"/>\n\t<use xlink:href=\"#gpPt6\" transform=\"translate(367.77,235.98) scale(1.50)\" color=\"rgb(255,   0,   0)\"/>\n\t<use xlink:href=\"#gpPt6\" transform=\"translate(367.77,235.98) scale(1.50)\" color=\"rgb(255,   0,   0)\"/>\n\t<use xlink:href=\"#gpPt6\" transform=\"translate(301.34,310.47) scale(1.50)\" color=\"rgb(255,   0,   0)\"/>\n\t<use xlink:href=\"#gpPt6\" transform=\"translate(337.10,101.56) scale(1.50)\" color=\"rgb(255,   0,   0)\"/>\n\t<use xlink:href=\"#gpPt6\" transform=\"translate(363.60,235.98) scale(1.50)\" color=\"rgb(255,   0,   0)\"/>\n\t<use xlink:href=\"#gpPt6\" transform=\"translate(379.49,143.14) scale(1.50)\" color=\"rgb(255,   0,   0)\"/>\n\t<use xlink:href=\"#gpPt6\" transform=\"translate(379.56,143.47) scale(1.50)\" color=\"rgb(255,   0,   0)\"/>\n\t<use xlink:href=\"#gpPt6\" transform=\"translate(363.73,235.93) scale(1.50)\" color=\"rgb(255,   0,   0)\"/>\n\t<use xlink:href=\"#gpPt6\" transform=\"translate(363.73,235.93) scale(1.50)\" color=\"rgb(255,   0,   0)\"/>\n\t<use xlink:href=\"#gpPt6\" transform=\"translate(306.63,311.48) scale(1.50)\" color=\"rgb(255,   0,   0)\"/>\n\t<use xlink:href=\"#gpPt6\" transform=\"translate(342.39,102.57) scale(1.50)\" color=\"rgb(255,   0,   0)\"/>\n\t<use xlink:href=\"#gpPt6\" transform=\"translate(342.39,102.57) scale(1.50)\" color=\"rgb(255,   0,   0)\"/>\n\t<use xlink:href=\"#gpPt6\" transform=\"translate(304.11,309.78) scale(1.50)\" color=\"rgb(255,   0,   0)\"/>\n\t<use xlink:href=\"#gpPt6\" transform=\"translate(339.87,100.87) scale(1.50)\" color=\"rgb(255,   0,   0)\"/>\n\t<use xlink:href=\"#gpPt6\" transform=\"translate(339.87,100.87) scale(1.50)\" color=\"rgb(255,   0,   0)\"/>\n\t<use xlink:href=\"#gpPt6\" transform=\"translate(293.60,313.25) scale(1.50)\" color=\"rgb(255,   0,   0)\"/>\n\t<use xlink:href=\"#gpPt6\" transform=\"translate(330.69,96.61) scale(1.50)\" color=\"rgb(255,   0,   0)\"/>\n\t<use xlink:href=\"#gpPt6\" transform=\"translate(359.51,242.81) scale(1.50)\" color=\"rgb(255,   0,   0)\"/>\n\t<use xlink:href=\"#gpPt6\" transform=\"translate(357.85,252.46) scale(1.50)\" color=\"rgb(255,   0,   0)\"/>\n\t<use xlink:href=\"#gpPt6\" transform=\"translate(357.85,252.46) scale(1.50)\" color=\"rgb(255,   0,   0)\"/>\n\t<use xlink:href=\"#gpPt6\" transform=\"translate(304.05,311.28) scale(1.50)\" color=\"rgb(255,   0,   0)\"/>\n\t<use xlink:href=\"#gpPt6\" transform=\"translate(339.82,102.37) scale(1.50)\" color=\"rgb(255,   0,   0)\"/>\n\t<use xlink:href=\"#gpPt6\" transform=\"translate(339.82,102.37) scale(1.50)\" color=\"rgb(255,   0,   0)\"/>\n\t<use xlink:href=\"#gpPt6\" transform=\"translate(306.48,312.11) scale(1.50)\" color=\"rgb(255,   0,   0)\"/>\n\t<use xlink:href=\"#gpPt6\" transform=\"translate(342.25,103.20) scale(1.50)\" color=\"rgb(255,   0,   0)\"/>\n\t<use xlink:href=\"#gpPt6\" transform=\"translate(368.74,237.62) scale(1.50)\" color=\"rgb(255,   0,   0)\"/>\n\t<use xlink:href=\"#gpPt6\" transform=\"translate(369.79,231.44) scale(1.50)\" color=\"rgb(255,   0,   0)\"/>\n\t<use xlink:href=\"#gpPt6\" transform=\"translate(344.36,102.39) scale(1.50)\" color=\"rgb(255,   0,   0)\"/>\n\t<use xlink:href=\"#gpPt6\" transform=\"translate(308.59,311.30) scale(1.50)\" color=\"rgb(255,   0,   0)\"/>\n\t<use xlink:href=\"#gpPt6\" transform=\"translate(308.59,311.30) scale(1.50)\" color=\"rgb(255,   0,   0)\"/>\n\t<use xlink:href=\"#gpPt6\" transform=\"translate(294.43,309.95) scale(1.50)\" color=\"rgb(255,   0,   0)\"/>\n\t<use xlink:href=\"#gpPt6\" transform=\"translate(330.19,101.04) scale(1.50)\" color=\"rgb(255,   0,   0)\"/>\n\t<use xlink:href=\"#gpPt6\" transform=\"translate(356.68,235.46) scale(1.50)\" color=\"rgb(255,   0,   0)\"/>\n\t<use xlink:href=\"#gpPt6\" transform=\"translate(372.58,142.62) scale(1.50)\" color=\"rgb(255,   0,   0)\"/>\n\t<use xlink:href=\"#gpPt6\" transform=\"translate(372.58,142.62) scale(1.50)\" color=\"rgb(255,   0,   0)\"/>\n\t<use xlink:href=\"#gpPt6\" transform=\"translate(300.41,313.29) scale(1.50)\" color=\"rgb(255,   0,   0)\"/>\n\t<use xlink:href=\"#gpPt6\" transform=\"translate(336.18,104.38) scale(1.50)\" color=\"rgb(255,   0,   0)\"/>\n\t<use xlink:href=\"#gpPt6\" transform=\"translate(336.18,104.38) scale(1.50)\" color=\"rgb(255,   0,   0)\"/>\n\t<use xlink:href=\"#gpPt6\" transform=\"translate(299.54,309.87) scale(1.50)\" color=\"rgb(255,   0,   0)\"/>\n\t<use xlink:href=\"#gpPt6\" transform=\"translate(335.30,100.96) scale(1.50)\" color=\"rgb(255,   0,   0)\"/>\n\t<use xlink:href=\"#gpPt6\" transform=\"translate(335.30,100.96) scale(1.50)\" color=\"rgb(255,   0,   0)\"/>\n\t<use xlink:href=\"#gpPt6\" transform=\"translate(293.32,309.90) scale(1.50)\" color=\"rgb(255,   0,   0)\"/>\n\t<use xlink:href=\"#gpPt6\" transform=\"translate(329.67,97.57) scale(1.50)\" color=\"rgb(255,   0,   0)\"/>\n\t<use xlink:href=\"#gpPt6\" transform=\"translate(328.93,93.82) scale(1.50)\" color=\"rgb(255,   0,   0)\"/>\n\t<use xlink:href=\"#gpPt6\" transform=\"translate(291.84,310.47) scale(1.50)\" color=\"rgb(255,   0,   0)\"/>\n\t<use xlink:href=\"#gpPt6\" transform=\"translate(252.11,108.84) scale(1.50)\" color=\"rgb(255,   0,   0)\"/>\n\t<use xlink:href=\"#gpPt6\" transform=\"translate(252.11,108.84) scale(1.50)\" color=\"rgb(255,   0,   0)\"/>\n\t<use xlink:href=\"#gpPt6\" transform=\"translate(292.44,310.18) scale(1.50)\" color=\"rgb(255,   0,   0)\"/>\n\t<use xlink:href=\"#gpPt6\" transform=\"translate(329.53,93.54) scale(1.50)\" color=\"rgb(255,   0,   0)\"/>\n\t<use xlink:href=\"#gpPt6\" transform=\"translate(329.62,93.98) scale(1.50)\" color=\"rgb(255,   0,   0)\"/>\n\t<use xlink:href=\"#gpPt6\" transform=\"translate(292.62,310.12) scale(1.50)\" color=\"rgb(255,   0,   0)\"/>\n\t<use xlink:href=\"#gpPt6\" transform=\"translate(252.89,108.49) scale(1.50)\" color=\"rgb(255,   0,   0)\"/>\n\t<use xlink:href=\"#gpPt6\" transform=\"translate(252.89,108.49) scale(1.50)\" color=\"rgb(255,   0,   0)\"/>\n\t<use xlink:href=\"#gpPt6\" transform=\"translate(295.61,308.85) scale(1.50)\" color=\"rgb(255,   0,   0)\"/>\n\t<use xlink:href=\"#gpPt6\" transform=\"translate(331.38,99.94) scale(1.50)\" color=\"rgb(255,   0,   0)\"/>\n\t<use xlink:href=\"#gpPt6\" transform=\"translate(357.87,234.35) scale(1.50)\" color=\"rgb(255,   0,   0)\"/>\n\t<use xlink:href=\"#gpPt6\" transform=\"translate(357.87,234.35) scale(1.50)\" color=\"rgb(255,   0,   0)\"/>\n\t<use xlink:href=\"#gpPt6\" transform=\"translate(300.02,312.69) scale(1.50)\" color=\"rgb(255,   0,   0)\"/>\n\t<use xlink:href=\"#gpPt6\" transform=\"translate(335.79,103.78) scale(1.50)\" color=\"rgb(255,   0,   0)\"/>\n\t<use xlink:href=\"#gpPt6\" transform=\"translate(362.28,238.19) scale(1.50)\" color=\"rgb(255,   0,   0)\"/>\n\t<use xlink:href=\"#gpPt6\" transform=\"translate(378.17,145.35) scale(1.50)\" color=\"rgb(255,   0,   0)\"/>\n\t<use xlink:href=\"#gpPt6\" transform=\"translate(378.17,145.35) scale(1.50)\" color=\"rgb(255,   0,   0)\"/>\n\t<use xlink:href=\"#gpPt6\" transform=\"translate(292.51,310.50) scale(1.50)\" color=\"rgb(255,   0,   0)\"/>\n\t<use xlink:href=\"#gpPt6\" transform=\"translate(329.60,93.85) scale(1.50)\" color=\"rgb(255,   0,   0)\"/>\n\t<use xlink:href=\"#gpPt6\" transform=\"translate(329.60,93.85) scale(1.50)\" color=\"rgb(255,   0,   0)\"/>\n\t<use xlink:href=\"#gpPt6\" transform=\"translate(303.72,310.03) scale(1.50)\" color=\"rgb(255,   0,   0)\"/>\n\t<use xlink:href=\"#gpPt6\" transform=\"translate(339.49,101.12) scale(1.50)\" color=\"rgb(255,   0,   0)\"/>\n\t<use xlink:href=\"#gpPt6\" transform=\"translate(339.49,101.12) scale(1.50)\" color=\"rgb(255,   0,   0)\"/>\n\t<use xlink:href=\"#gpPt6\" transform=\"translate(292.48,310.05) scale(1.50)\" color=\"rgb(255,   0,   0)\"/>\n\t<use xlink:href=\"#gpPt6\" transform=\"translate(329.50,93.81) scale(1.50)\" color=\"rgb(255,   0,   0)\"/>\n\t<use xlink:href=\"#gpPt6\" transform=\"translate(329.43,93.46) scale(1.50)\" color=\"rgb(255,   0,   0)\"/>\n\t<use xlink:href=\"#gpPt6\" transform=\"translate(292.34,310.10) scale(1.50)\" color=\"rgb(255,   0,   0)\"/>\n\t<use xlink:href=\"#gpPt6\" transform=\"translate(252.62,108.47) scale(1.50)\" color=\"rgb(255,   0,   0)\"/>\n\t<use xlink:href=\"#gpPt6\" transform=\"translate(216.85,317.38) scale(1.50)\" color=\"rgb(255,   0,   0)\"/>\n\t<use xlink:href=\"#gpPt6\" transform=\"translate(216.85,317.38) scale(1.50)\" color=\"rgb(255,   0,   0)\"/>\n\t<use xlink:href=\"#gpPt6\" transform=\"translate(301.79,314.68) scale(1.50)\" color=\"rgb(255,   0,   0)\"/>\n\t<use xlink:href=\"#gpPt6\" transform=\"translate(337.55,105.77) scale(1.50)\" color=\"rgb(255,   0,   0)\"/>\n\t<use xlink:href=\"#gpPt6\" transform=\"translate(337.55,105.77) scale(1.50)\" color=\"rgb(255,   0,   0)\"/>\n\t<use xlink:href=\"#gpPt6\" transform=\"translate(301.00,312.32) scale(1.50)\" color=\"rgb(255,   0,   0)\"/>\n\t<use xlink:href=\"#gpPt6\" transform=\"translate(336.77,103.41) scale(1.50)\" color=\"rgb(255,   0,   0)\"/>\n\t<use xlink:href=\"#gpPt6\" transform=\"translate(363.26,237.83) scale(1.50)\" color=\"rgb(255,   0,   0)\"/>\n\t<use xlink:href=\"#gpPt6\" transform=\"translate(363.26,237.83) scale(1.50)\" color=\"rgb(255,   0,   0)\"/>\n\t<use xlink:href=\"#gpPt6\" transform=\"translate(305.70,312.66) scale(1.50)\" color=\"rgb(255,   0,   0)\"/>\n\t<use xlink:href=\"#gpPt6\" transform=\"translate(341.47,103.75) scale(1.50)\" color=\"rgb(255,   0,   0)\"/>\n\t<use xlink:href=\"#gpPt6\" transform=\"translate(367.96,238.17) scale(1.50)\" color=\"rgb(255,   0,   0)\"/>\n\t<use xlink:href=\"#gpPt6\" transform=\"translate(367.96,238.17) scale(1.50)\" color=\"rgb(255,   0,   0)\"/>\n\t<use xlink:href=\"#gpPt6\" transform=\"translate(294.99,307.48) scale(1.50)\" color=\"rgb(255,   0,   0)\"/>\n\t<use xlink:href=\"#gpPt6\" transform=\"translate(330.76,98.57) scale(1.50)\" color=\"rgb(255,   0,   0)\"/>\n\t<use xlink:href=\"#gpPt6\" transform=\"translate(330.76,98.57) scale(1.50)\" color=\"rgb(255,   0,   0)\"/>\n\t<use xlink:href=\"#gpPt6\" transform=\"translate(296.45,307.85) scale(1.50)\" color=\"rgb(255,   0,   0)\"/>\n\t<use xlink:href=\"#gpPt6\" transform=\"translate(332.21,98.94) scale(1.50)\" color=\"rgb(255,   0,   0)\"/>\n\t<use xlink:href=\"#gpPt6\" transform=\"translate(332.21,98.94) scale(1.50)\" color=\"rgb(255,   0,   0)\"/>\n\t<use xlink:href=\"#gpPt6\" transform=\"translate(298.00,313.94) scale(1.50)\" color=\"rgb(255,   0,   0)\"/>\n\t<use xlink:href=\"#gpPt6\" transform=\"translate(335.09,97.30) scale(1.50)\" color=\"rgb(255,   0,   0)\"/>\n\t<use xlink:href=\"#gpPt6\" transform=\"translate(335.09,97.30) scale(1.50)\" color=\"rgb(255,   0,   0)\"/>\n\t<use xlink:href=\"#gpPt6\" transform=\"translate(306.50,309.01) scale(1.50)\" color=\"rgb(255,   0,   0)\"/>\n\t<use xlink:href=\"#gpPt6\" transform=\"translate(307.20,304.93) scale(1.50)\" color=\"rgb(255,   0,   0)\"/>\n\t<use xlink:href=\"#gpPt6\" transform=\"translate(268.17,106.84) scale(1.50)\" color=\"rgb(255,   0,   0)\"/>\n\t<use xlink:href=\"#gpPt6\" transform=\"translate(268.17,106.84) scale(1.50)\" color=\"rgb(255,   0,   0)\"/>\n\t<use xlink:href=\"#gpPt6\" transform=\"translate(302.86,309.80) scale(1.50)\" color=\"rgb(255,   0,   0)\"/>\n\t<use xlink:href=\"#gpPt6\" transform=\"translate(338.63,100.89) scale(1.50)\" color=\"rgb(255,   0,   0)\"/>\n\t<use xlink:href=\"#gpPt6\" transform=\"translate(365.12,235.31) scale(1.50)\" color=\"rgb(255,   0,   0)\"/>\n\t<use xlink:href=\"#gpPt6\" transform=\"translate(365.12,235.31) scale(1.50)\" color=\"rgb(255,   0,   0)\"/>\n\t<use xlink:href=\"#gpPt6\" transform=\"translate(305.72,299.60) scale(1.50)\" color=\"rgb(255,   0,   0)\"/>\n\t<use xlink:href=\"#gpPt6\" transform=\"translate(340.16,98.43) scale(1.50)\" color=\"rgb(255,   0,   0)\"/>\n\t<use xlink:href=\"#gpPt6\" transform=\"translate(340.16,98.43) scale(1.50)\" color=\"rgb(255,   0,   0)\"/>\n\t<use xlink:href=\"#gpPt6\" transform=\"translate(295.06,314.27) scale(1.50)\" color=\"rgb(255,   0,   0)\"/>\n\t<use xlink:href=\"#gpPt6\" transform=\"translate(332.15,97.62) scale(1.50)\" color=\"rgb(255,   0,   0)\"/>\n\t<use xlink:href=\"#gpPt6\" transform=\"translate(332.15,97.62) scale(1.50)\" color=\"rgb(255,   0,   0)\"/>\n\t<use xlink:href=\"#gpPt6\" transform=\"translate(298.11,312.04) scale(1.50)\" color=\"rgb(255,   0,   0)\"/>\n\t<use xlink:href=\"#gpPt6\" transform=\"translate(333.87,103.13) scale(1.50)\" color=\"rgb(255,   0,   0)\"/>\n\t<use xlink:href=\"#gpPt6\" transform=\"translate(333.87,103.13) scale(1.50)\" color=\"rgb(255,   0,   0)\"/>\n\t<use xlink:href=\"#gpPt6\" transform=\"translate(299.18,306.96) scale(1.50)\" color=\"rgb(255,   0,   0)\"/>\n\t<use xlink:href=\"#gpPt6\" transform=\"translate(334.94,98.05) scale(1.50)\" color=\"rgb(255,   0,   0)\"/>\n\t<use xlink:href=\"#gpPt6\" transform=\"translate(334.94,98.05) scale(1.50)\" color=\"rgb(255,   0,   0)\"/>\n\t<use xlink:href=\"#gpPt6\" transform=\"translate(302.33,312.37) scale(1.50)\" color=\"rgb(255,   0,   0)\"/>\n\t<use xlink:href=\"#gpPt6\" transform=\"translate(338.09,103.46) scale(1.50)\" color=\"rgb(255,   0,   0)\"/>\n\t<use xlink:href=\"#gpPt6\" transform=\"translate(338.09,103.46) scale(1.50)\" color=\"rgb(255,   0,   0)\"/>\n\t<use xlink:href=\"#gpPt6\" transform=\"translate(298.21,314.08) scale(1.50)\" color=\"rgb(255,   0,   0)\"/>\n\t<use xlink:href=\"#gpPt6\" transform=\"translate(335.30,97.43) scale(1.50)\" color=\"rgb(255,   0,   0)\"/>\n\t<use xlink:href=\"#gpPt6\" transform=\"translate(335.30,97.43) scale(1.50)\" color=\"rgb(255,   0,   0)\"/>\n\t<use xlink:href=\"#gpPt6\" transform=\"translate(294.33,308.76) scale(1.50)\" color=\"rgb(255,   0,   0)\"/>\n\t<use xlink:href=\"#gpPt6\" transform=\"translate(330.09,99.85) scale(1.50)\" color=\"rgb(255,   0,   0)\"/>\n\t<use xlink:href=\"#gpPt6\" transform=\"translate(356.59,234.26) scale(1.50)\" color=\"rgb(255,   0,   0)\"/>\n\t<use xlink:href=\"#gpPt6\" transform=\"translate(372.48,141.42) scale(1.50)\" color=\"rgb(255,   0,   0)\"/>\n\t<use xlink:href=\"#gpPt6\" transform=\"translate(372.48,141.42) scale(1.50)\" color=\"rgb(255,   0,   0)\"/>\n\t<use xlink:href=\"#gpPt6\" transform=\"translate(302.90,307.61) scale(1.50)\" color=\"rgb(255,   0,   0)\"/>\n\t<use xlink:href=\"#gpPt6\" transform=\"translate(338.66,98.70) scale(1.50)\" color=\"rgb(255,   0,   0)\"/>\n\t<use xlink:href=\"#gpPt6\" transform=\"translate(338.66,98.70) scale(1.50)\" color=\"rgb(255,   0,   0)\"/>\n\t<use xlink:href=\"#gpPt6\" transform=\"translate(299.34,308.35) scale(1.50)\" color=\"rgb(255,   0,   0)\"/>\n\t<use xlink:href=\"#gpPt6\" transform=\"translate(335.11,99.44) scale(1.50)\" color=\"rgb(255,   0,   0)\"/>\n\t<use xlink:href=\"#gpPt6\" transform=\"translate(361.60,233.85) scale(1.50)\" color=\"rgb(255,   0,   0)\"/>\n\t<use xlink:href=\"#gpPt6\" transform=\"translate(376.76,145.29) scale(1.50)\" color=\"rgb(255,   0,   0)\"/>\n\t<use xlink:href=\"#gpPt6\" transform=\"translate(376.03,141.57) scale(1.50)\" color=\"rgb(255,   0,   0)\"/>\n\t<use xlink:href=\"#gpPt6\" transform=\"translate(360.13,234.42) scale(1.50)\" color=\"rgb(255,   0,   0)\"/>\n\t<use xlink:href=\"#gpPt6\" transform=\"translate(333.64,100.00) scale(1.50)\" color=\"rgb(255,   0,   0)\"/>\n\t<use xlink:href=\"#gpPt6\" transform=\"translate(333.64,100.00) scale(1.50)\" color=\"rgb(255,   0,   0)\"/>\n\t<use xlink:href=\"#gpPt6\" transform=\"translate(304.30,311.17) scale(1.50)\" color=\"rgb(255,   0,   0)\"/>\n\t<use xlink:href=\"#gpPt6\" transform=\"translate(340.06,102.26) scale(1.50)\" color=\"rgb(255,   0,   0)\"/>\n\t<use xlink:href=\"#gpPt6\" transform=\"translate(366.55,236.68) scale(1.50)\" color=\"rgb(255,   0,   0)\"/>\n\t<use xlink:href=\"#gpPt6\" transform=\"translate(381.32,150.40) scale(1.50)\" color=\"rgb(255,   0,   0)\"/>\n\t<use xlink:href=\"#gpPt6\" transform=\"translate(380.20,144.70) scale(1.50)\" color=\"rgb(255,   0,   0)\"/>\n\t<use xlink:href=\"#gpPt6\" transform=\"translate(364.30,237.54) scale(1.50)\" color=\"rgb(255,   0,   0)\"/>\n\t<use xlink:href=\"#gpPt6\" transform=\"translate(364.30,237.54) scale(1.50)\" color=\"rgb(255,   0,   0)\"/>\n\t<use xlink:href=\"#gpPt6\" transform=\"translate(305.21,313.14) scale(1.50)\" color=\"rgb(255,   0,   0)\"/>\n\t<use xlink:href=\"#gpPt6\" transform=\"translate(340.97,104.23) scale(1.50)\" color=\"rgb(255,   0,   0)\"/>\n\t<use xlink:href=\"#gpPt6\" transform=\"translate(340.97,104.23) scale(1.50)\" color=\"rgb(255,   0,   0)\"/>\n\t<use xlink:href=\"#gpPt6\" transform=\"translate(301.34,307.02) scale(1.50)\" color=\"rgb(255,   0,   0)\"/>\n\t<use xlink:href=\"#gpPt6\" transform=\"translate(337.10,98.11) scale(1.50)\" color=\"rgb(255,   0,   0)\"/>\n\t<use xlink:href=\"#gpPt6\" transform=\"translate(337.10,98.11) scale(1.50)\" color=\"rgb(255,   0,   0)\"/>\n\t<use xlink:href=\"#gpPt6\" transform=\"translate(300.89,312.87) scale(1.50)\" color=\"rgb(255,   0,   0)\"/>\n\t<use xlink:href=\"#gpPt6\" transform=\"translate(336.65,103.96) scale(1.50)\" color=\"rgb(255,   0,   0)\"/>\n\t<use xlink:href=\"#gpPt6\" transform=\"translate(336.65,103.96) scale(1.50)\" color=\"rgb(255,   0,   0)\"/>\n\t<use xlink:href=\"#gpPt6\" transform=\"translate(307.03,310.66) scale(1.50)\" color=\"rgb(255,   0,   0)\"/>\n\t<use xlink:href=\"#gpPt6\" transform=\"translate(342.79,101.75) scale(1.50)\" color=\"rgb(255,   0,   0)\"/>\n\t<use xlink:href=\"#gpPt6\" transform=\"translate(368.60,232.70) scale(1.50)\" color=\"rgb(255,   0,   0)\"/>\n\t<use xlink:href=\"#gpPt6\" transform=\"translate(367.92,236.70) scale(1.50)\" color=\"rgb(255,   0,   0)\"/>\n\t<use xlink:href=\"#gpPt6\" transform=\"translate(367.92,236.70) scale(1.50)\" color=\"rgb(255,   0,   0)\"/>\n\t<use xlink:href=\"#gpPt6\" transform=\"translate(297.90,309.00) scale(1.50)\" color=\"rgb(255,   0,   0)\"/>\n\t<use xlink:href=\"#gpPt6\" transform=\"translate(333.67,100.09) scale(1.50)\" color=\"rgb(255,   0,   0)\"/>\n\t<use xlink:href=\"#gpPt6\" transform=\"translate(360.16,234.51) scale(1.50)\" color=\"rgb(255,   0,   0)\"/>\n\t<use xlink:href=\"#gpPt6\" transform=\"translate(376.05,141.67) scale(1.50)\" color=\"rgb(255,   0,   0)\"/>\n\t<use xlink:href=\"#gpPt6\" transform=\"translate(376.86,145.75) scale(1.50)\" color=\"rgb(255,   0,   0)\"/>\n\t<use xlink:href=\"#gpPt6\" transform=\"translate(361.77,233.89) scale(1.50)\" color=\"rgb(255,   0,   0)\"/>\n\t<use xlink:href=\"#gpPt6\" transform=\"translate(335.28,99.47) scale(1.50)\" color=\"rgb(255,   0,   0)\"/>\n\t<use xlink:href=\"#gpPt6\" transform=\"translate(335.28,99.47) scale(1.50)\" color=\"rgb(255,   0,   0)\"/>\n\t<use xlink:href=\"#gpPt6\" transform=\"translate(297.19,314.38) scale(1.50)\" color=\"rgb(255,   0,   0)\"/>\n\t<use xlink:href=\"#gpPt6\" transform=\"translate(334.28,97.73) scale(1.50)\" color=\"rgb(255,   0,   0)\"/>\n\t<use xlink:href=\"#gpPt6\" transform=\"translate(335.43,103.58) scale(1.50)\" color=\"rgb(255,   0,   0)\"/>\n\t<use xlink:href=\"#gpPt6\" transform=\"translate(299.49,313.50) scale(1.50)\" color=\"rgb(255,   0,   0)\"/>\n\t<use xlink:href=\"#gpPt6\" transform=\"translate(259.77,111.87) scale(1.50)\" color=\"rgb(255,   0,   0)\"/>\n\t<use xlink:href=\"#gpPt6\" transform=\"translate(224.00,320.77) scale(1.50)\" color=\"rgb(255,   0,   0)\"/>\n\t<use xlink:href=\"#gpPt6\" transform=\"translate(224.00,320.77) scale(1.50)\" color=\"rgb(255,   0,   0)\"/>\n\t<use xlink:href=\"#gpPt6\" transform=\"translate(306.14,310.87) scale(1.50)\" color=\"rgb(255,   0,   0)\"/>\n\t<use xlink:href=\"#gpPt6\" transform=\"translate(341.91,101.96) scale(1.50)\" color=\"rgb(255,   0,   0)\"/>\n\t<use xlink:href=\"#gpPt6\" transform=\"translate(368.40,236.38) scale(1.50)\" color=\"rgb(255,   0,   0)\"/>\n\t<use xlink:href=\"#gpPt6\" transform=\"translate(368.40,236.38) scale(1.50)\" color=\"rgb(255,   0,   0)\"/>\n\t<use xlink:href=\"#gpPt6\" transform=\"translate(296.76,312.10) scale(1.50)\" color=\"rgb(255,   0,   0)\"/>\n\t<use xlink:href=\"#gpPt6\" transform=\"translate(333.07,100.00) scale(1.50)\" color=\"rgb(255,   0,   0)\"/>\n\t<use xlink:href=\"#gpPt6\" transform=\"translate(332.29,96.05) scale(1.50)\" color=\"rgb(255,   0,   0)\"/>\n\t<use xlink:href=\"#gpPt6\" transform=\"translate(332.29,96.05) scale(1.50)\" color=\"rgb(255,   0,   0)\"/>\n\t<use xlink:href=\"#gpPt6\" transform=\"translate(305.87,310.50) scale(1.50)\" color=\"rgb(255,   0,   0)\"/>\n\t<use xlink:href=\"#gpPt6\" transform=\"translate(341.63,101.59) scale(1.50)\" color=\"rgb(255,   0,   0)\"/>\n\t<use xlink:href=\"#gpPt6\" transform=\"translate(341.63,101.59) scale(1.50)\" color=\"rgb(255,   0,   0)\"/>\n\t<use xlink:href=\"#gpPt6\" transform=\"translate(297.21,308.21) scale(1.50)\" color=\"rgb(255,   0,   0)\"/>\n\t<use xlink:href=\"#gpPt6\" transform=\"translate(332.98,99.30) scale(1.50)\" color=\"rgb(255,   0,   0)\"/>\n\t<use xlink:href=\"#gpPt6\" transform=\"translate(332.98,99.30) scale(1.50)\" color=\"rgb(255,   0,   0)\"/>\n\t<use xlink:href=\"#gpPt6\" transform=\"translate(304.13,314.07) scale(1.50)\" color=\"rgb(255,   0,   0)\"/>\n\t<use xlink:href=\"#gpPt6\" transform=\"translate(339.90,105.16) scale(1.50)\" color=\"rgb(255,   0,   0)\"/>\n\t<use xlink:href=\"#gpPt6\" transform=\"translate(366.39,239.58) scale(1.50)\" color=\"rgb(255,   0,   0)\"/>\n\t<use xlink:href=\"#gpPt6\" transform=\"translate(366.39,239.58) scale(1.50)\" color=\"rgb(255,   0,   0)\"/>\n\t<use xlink:href=\"#gpPt6\" transform=\"translate(295.41,310.52) scale(1.50)\" color=\"rgb(255,   0,   0)\"/>\n\t<use xlink:href=\"#gpPt6\" transform=\"translate(331.18,101.61) scale(1.50)\" color=\"rgb(255,   0,   0)\"/>\n\t<use xlink:href=\"#gpPt6\" transform=\"translate(357.67,236.02) scale(1.50)\" color=\"rgb(255,   0,   0)\"/>\n\t<use xlink:href=\"#gpPt6\" transform=\"translate(373.57,143.18) scale(1.50)\" color=\"rgb(255,   0,   0)\"/>\n\t<use xlink:href=\"#gpPt6\" transform=\"translate(373.57,143.18) scale(1.50)\" color=\"rgb(255,   0,   0)\"/>\n\t<use xlink:href=\"#gpPt6\" transform=\"translate(299.28,307.57) scale(1.50)\" color=\"rgb(255,   0,   0)\"/>\n\t<use xlink:href=\"#gpPt6\" transform=\"translate(335.05,98.66) scale(1.50)\" color=\"rgb(255,   0,   0)\"/>\n\t<use xlink:href=\"#gpPt6\" transform=\"translate(335.05,98.66) scale(1.50)\" color=\"rgb(255,   0,   0)\"/>\n\t<use xlink:href=\"#gpPt6\" transform=\"translate(302.67,311.60) scale(1.50)\" color=\"rgb(255,   0,   0)\"/>\n\t<use xlink:href=\"#gpPt6\" transform=\"translate(338.43,102.69) scale(1.50)\" color=\"rgb(255,   0,   0)\"/>\n\t<use xlink:href=\"#gpPt6\" transform=\"translate(338.43,102.69) scale(1.50)\" color=\"rgb(255,   0,   0)\"/>\n\t<use xlink:href=\"#gpPt6\" transform=\"translate(296.95,308.06) scale(1.50)\" color=\"rgb(255,   0,   0)\"/>\n\t<use xlink:href=\"#gpPt6\" transform=\"translate(332.72,99.15) scale(1.50)\" color=\"rgb(255,   0,   0)\"/>\n\t<use xlink:href=\"#gpPt6\" transform=\"translate(332.72,99.15) scale(1.50)\" color=\"rgb(255,   0,   0)\"/>\n\t<use xlink:href=\"#gpPt6\" transform=\"translate(298.24,307.65) scale(1.50)\" color=\"rgb(255,   0,   0)\"/>\n\t<use xlink:href=\"#gpPt6\" transform=\"translate(334.01,98.74) scale(1.50)\" color=\"rgb(255,   0,   0)\"/>\n\t<use xlink:href=\"#gpPt6\" transform=\"translate(360.50,233.16) scale(1.50)\" color=\"rgb(255,   0,   0)\"/>\n\t<use xlink:href=\"#gpPt6\" transform=\"translate(375.68,144.46) scale(1.50)\" color=\"rgb(255,   0,   0)\"/>\n\t<use xlink:href=\"#gpPt6\" transform=\"translate(374.97,140.86) scale(1.50)\" color=\"rgb(255,   0,   0)\"/>\n\t<use xlink:href=\"#gpPt6\" transform=\"translate(374.97,140.86) scale(1.50)\" color=\"rgb(255,   0,   0)\"/>\n\t<use xlink:href=\"#gpPt6\" transform=\"translate(300.31,311.94) scale(1.50)\" color=\"rgb(255,   0,   0)\"/>\n\t<use xlink:href=\"#gpPt6\" transform=\"translate(336.08,103.03) scale(1.50)\" color=\"rgb(255,   0,   0)\"/>\n\t<use xlink:href=\"#gpPt6\" transform=\"translate(362.57,237.45) scale(1.50)\" color=\"rgb(255,   0,   0)\"/>\n\t<use xlink:href=\"#gpPt6\" transform=\"translate(378.46,144.61) scale(1.50)\" color=\"rgb(255,   0,   0)\"/>\n\t<use xlink:href=\"#gpPt6\" transform=\"translate(380.60,155.43) scale(1.50)\" color=\"rgb(255,   0,   0)\"/>\n\t<use xlink:href=\"#gpPt6\" transform=\"translate(368.16,228.08) scale(1.50)\" color=\"rgb(255,   0,   0)\"/>\n\t<use xlink:href=\"#gpPt6\" transform=\"translate(368.16,228.08) scale(1.50)\" color=\"rgb(255,   0,   0)\"/>\n\t<use xlink:href=\"#gpPt6\" transform=\"translate(295.58,311.40) scale(1.50)\" color=\"rgb(255,   0,   0)\"/>\n\t<use xlink:href=\"#gpPt6\" transform=\"translate(331.96,98.91) scale(1.50)\" color=\"rgb(255,   0,   0)\"/>\n\t<use xlink:href=\"#gpPt6\" transform=\"translate(331.25,95.30) scale(1.50)\" color=\"rgb(255,   0,   0)\"/>\n\t<use xlink:href=\"#gpPt6\" transform=\"translate(331.25,95.30) scale(1.50)\" color=\"rgb(255,   0,   0)\"/>\n\t<use xlink:href=\"#gpPt6\" transform=\"translate(296.25,309.74) scale(1.50)\" color=\"rgb(255,   0,   0)\"/>\n\t<use xlink:href=\"#gpPt6\" transform=\"translate(332.01,100.83) scale(1.50)\" color=\"rgb(255,   0,   0)\"/>\n\t<use xlink:href=\"#gpPt6\" transform=\"translate(332.01,100.83) scale(1.50)\" color=\"rgb(255,   0,   0)\"/>\n\t<use xlink:href=\"#gpPt6\" transform=\"translate(299.77,313.61) scale(1.50)\" color=\"rgb(255,   0,   0)\"/>\n\t<use xlink:href=\"#gpPt6\" transform=\"translate(335.65,104.04) scale(1.50)\" color=\"rgb(255,   0,   0)\"/>\n\t<use xlink:href=\"#gpPt6\" transform=\"translate(334.44,97.90) scale(1.50)\" color=\"rgb(255,   0,   0)\"/>\n\t<use xlink:href=\"#gpPt6\" transform=\"translate(334.44,97.90) scale(1.50)\" color=\"rgb(255,   0,   0)\"/>\n\t<use xlink:href=\"#gpPt6\" transform=\"translate(299.00,311.50) scale(1.50)\" color=\"rgb(255,   0,   0)\"/>\n\t<use xlink:href=\"#gpPt6\" transform=\"translate(334.77,102.59) scale(1.50)\" color=\"rgb(255,   0,   0)\"/>\n\t<use xlink:href=\"#gpPt6\" transform=\"translate(361.26,237.01) scale(1.50)\" color=\"rgb(255,   0,   0)\"/>\n\t<use xlink:href=\"#gpPt6\" transform=\"translate(377.15,144.17) scale(1.50)\" color=\"rgb(255,   0,   0)\"/>\n\t<use xlink:href=\"#gpPt6\" transform=\"translate(377.15,144.17) scale(1.50)\" color=\"rgb(255,   0,   0)\"/>\n\t<use xlink:href=\"#gpPt6\" transform=\"translate(301.71,309.02) scale(1.50)\" color=\"rgb(255,   0,   0)\"/>\n\t<use xlink:href=\"#gpPt6\" transform=\"translate(337.48,100.11) scale(1.50)\" color=\"rgb(255,   0,   0)\"/>\n\t<use xlink:href=\"#gpPt6\" transform=\"translate(363.97,234.53) scale(1.50)\" color=\"rgb(255,   0,   0)\"/>\n\t<use xlink:href=\"#gpPt6\" transform=\"translate(363.97,234.53) scale(1.50)\" color=\"rgb(255,   0,   0)\"/>\n\t<use xlink:href=\"#gpPt6\" transform=\"translate(303.78,313.60) scale(1.50)\" color=\"rgb(255,   0,   0)\"/>\n\t<use xlink:href=\"#gpPt6\" transform=\"translate(339.54,104.69) scale(1.50)\" color=\"rgb(255,   0,   0)\"/>\n\t<use xlink:href=\"#gpPt6\" transform=\"translate(366.03,239.11) scale(1.50)\" color=\"rgb(255,   0,   0)\"/>\n\t<use xlink:href=\"#gpPt6\" transform=\"translate(381.93,146.26) scale(1.50)\" color=\"rgb(255,   0,   0)\"/>\n\t<use xlink:href=\"#gpPt6\" transform=\"translate(381.93,146.26) scale(1.50)\" color=\"rgb(255,   0,   0)\"/>\n\t<use xlink:href=\"#gpPt6\" transform=\"translate(298.00,307.95) scale(1.50)\" color=\"rgb(255,   0,   0)\"/>\n\t<use xlink:href=\"#gpPt6\" transform=\"translate(333.77,99.04) scale(1.50)\" color=\"rgb(255,   0,   0)\"/>\n\t<use xlink:href=\"#gpPt6\" transform=\"translate(333.77,99.04) scale(1.50)\" color=\"rgb(255,   0,   0)\"/>\n\t<use xlink:href=\"#gpPt6\" transform=\"translate(300.25,310.88) scale(1.50)\" color=\"rgb(255,   0,   0)\"/>\n\t<use xlink:href=\"#gpPt6\" transform=\"translate(336.01,101.97) scale(1.50)\" color=\"rgb(255,   0,   0)\"/>\n\t<use xlink:href=\"#gpPt6\" transform=\"translate(336.01,101.97) scale(1.50)\" color=\"rgb(255,   0,   0)\"/>\n\t<use xlink:href=\"#gpPt6\" transform=\"translate(303.50,309.33) scale(1.50)\" color=\"rgb(255,   0,   0)\"/>\n\t<use xlink:href=\"#gpPt6\" transform=\"translate(339.27,100.42) scale(1.50)\" color=\"rgb(255,   0,   0)\"/>\n\t<use xlink:href=\"#gpPt6\" transform=\"translate(339.27,100.42) scale(1.50)\" color=\"rgb(255,   0,   0)\"/>\n\t<use xlink:href=\"#gpPt6\" transform=\"translate(297.76,314.41) scale(1.50)\" color=\"rgb(255,   0,   0)\"/>\n\t<use xlink:href=\"#gpPt6\" transform=\"translate(334.85,97.77) scale(1.50)\" color=\"rgb(255,   0,   0)\"/>\n\t<use xlink:href=\"#gpPt6\" transform=\"translate(335.68,101.95) scale(1.50)\" color=\"rgb(255,   0,   0)\"/>\n\t<use xlink:href=\"#gpPt6\" transform=\"translate(299.41,313.78) scale(1.50)\" color=\"rgb(255,   0,   0)\"/>\n\t<use xlink:href=\"#gpPt6\" transform=\"translate(299.41,313.78) scale(1.50)\" color=\"rgb(255,   0,   0)\"/>\n\t<use xlink:href=\"#gpPt6\" transform=\"translate(302.02,312.69) scale(1.50)\" color=\"rgb(255,   0,   0)\"/>\n\t<use xlink:href=\"#gpPt6\" transform=\"translate(337.78,103.78) scale(1.50)\" color=\"rgb(255,   0,   0)\"/>\n\t<use xlink:href=\"#gpPt6\" transform=\"translate(364.27,238.20) scale(1.50)\" color=\"rgb(255,   0,   0)\"/>\n\t<use xlink:href=\"#gpPt6\" transform=\"translate(364.27,238.20) scale(1.50)\" color=\"rgb(255,   0,   0)\"/>\n\t<use xlink:href=\"#gpPt6\" transform=\"translate(299.85,306.75) scale(1.50)\" color=\"rgb(255,   0,   0)\"/>\n\t<use xlink:href=\"#gpPt6\" transform=\"translate(335.61,97.84) scale(1.50)\" color=\"rgb(255,   0,   0)\"/>\n\t<use xlink:href=\"#gpPt6\" transform=\"translate(362.10,232.26) scale(1.50)\" color=\"rgb(255,   0,   0)\"/>\n\t<use xlink:href=\"#gpPt6\" transform=\"translate(362.16,231.92) scale(1.50)\" color=\"rgb(255,   0,   0)\"/>\n\t<use xlink:href=\"#gpPt6\" transform=\"translate(335.73,97.80) scale(1.50)\" color=\"rgb(255,   0,   0)\"/>\n\t<use xlink:href=\"#gpPt6\" transform=\"translate(299.96,306.71) scale(1.50)\" color=\"rgb(255,   0,   0)\"/>\n\t<use xlink:href=\"#gpPt6\" transform=\"translate(260.24,105.08) scale(1.50)\" color=\"rgb(255,   0,   0)\"/>\n\t<use xlink:href=\"#gpPt6\" transform=\"translate(223.15,321.72) scale(1.50)\" color=\"rgb(255,   0,   0)\"/>\n\t<use xlink:href=\"#gpPt6\" transform=\"translate(223.09,321.44) scale(1.50)\" color=\"rgb(255,   0,   0)\"/>\n\t<use xlink:href=\"#gpPt6\" transform=\"translate(260.12,105.12) scale(1.50)\" color=\"rgb(255,   0,   0)\"/>\n\t<use xlink:href=\"#gpPt6\" transform=\"translate(260.12,105.12) scale(1.50)\" color=\"rgb(255,   0,   0)\"/>\n\t<use xlink:href=\"#gpPt6\" transform=\"translate(300.86,312.48) scale(1.50)\" color=\"rgb(255,   0,   0)\"/>\n\t<use xlink:href=\"#gpPt6\" transform=\"translate(336.62,103.57) scale(1.50)\" color=\"rgb(255,   0,   0)\"/>\n\t<use xlink:href=\"#gpPt6\" transform=\"translate(336.62,103.57) scale(1.50)\" color=\"rgb(255,   0,   0)\"/>\n\t<use xlink:href=\"#gpPt6\" transform=\"translate(303.69,314.47) scale(1.50)\" color=\"rgb(255,   0,   0)\"/>\n\t<use xlink:href=\"#gpPt6\" transform=\"translate(339.45,105.56) scale(1.50)\" color=\"rgb(255,   0,   0)\"/>\n\t<use xlink:href=\"#gpPt6\" transform=\"translate(365.95,239.98) scale(1.50)\" color=\"rgb(255,   0,   0)\"/>\n\t<use xlink:href=\"#gpPt6\" transform=\"translate(365.95,239.98) scale(1.50)\" color=\"rgb(255,   0,   0)\"/>\n\t<use xlink:href=\"#gpPt6\" transform=\"translate(300.86,308.23) scale(1.50)\" color=\"rgb(255,   0,   0)\"/>\n\t<use xlink:href=\"#gpPt6\" transform=\"translate(336.63,99.32) scale(1.50)\" color=\"rgb(255,   0,   0)\"/>\n\t<use xlink:href=\"#gpPt6\" transform=\"translate(336.63,99.32) scale(1.50)\" color=\"rgb(255,   0,   0)\"/>\n\t<use xlink:href=\"#gpPt6\" transform=\"translate(307.29,312.38) scale(1.50)\" color=\"rgb(255,   0,   0)\"/>\n\t<use xlink:href=\"#gpPt6\" transform=\"translate(343.05,103.47) scale(1.50)\" color=\"rgb(255,   0,   0)\"/>\n\t<use xlink:href=\"#gpPt6\" transform=\"translate(343.05,103.47) scale(1.50)\" color=\"rgb(255,   0,   0)\"/>\n\t<use xlink:href=\"#gpPt6\" transform=\"translate(303.79,308.96) scale(1.50)\" color=\"rgb(255,   0,   0)\"/>\n\t<use xlink:href=\"#gpPt6\" transform=\"translate(339.55,100.05) scale(1.50)\" color=\"rgb(255,   0,   0)\"/>\n\t<use xlink:href=\"#gpPt6\" transform=\"translate(339.55,100.05) scale(1.50)\" color=\"rgb(255,   0,   0)\"/>\n\t<use xlink:href=\"#gpPt6\" transform=\"translate(298.08,309.42) scale(1.50)\" color=\"rgb(255,   0,   0)\"/>\n\t<use xlink:href=\"#gpPt6\" transform=\"translate(333.84,100.51) scale(1.50)\" color=\"rgb(255,   0,   0)\"/>\n\t<use xlink:href=\"#gpPt6\" transform=\"translate(333.84,100.51) scale(1.50)\" color=\"rgb(255,   0,   0)\"/>\n\t<use xlink:href=\"#gpPt6\" transform=\"translate(306.19,312.04) scale(1.50)\" color=\"rgb(255,   0,   0)\"/>\n\t<use xlink:href=\"#gpPt6\" transform=\"translate(341.95,103.13) scale(1.50)\" color=\"rgb(255,   0,   0)\"/>\n\t<use xlink:href=\"#gpPt6\" transform=\"translate(368.44,237.55) scale(1.50)\" color=\"rgb(255,   0,   0)\"/>\n\t<use xlink:href=\"#gpPt6\" transform=\"translate(369.62,230.68) scale(1.50)\" color=\"rgb(255,   0,   0)\"/>\n\t<use xlink:href=\"#gpPt6\" transform=\"translate(344.30,102.23) scale(1.50)\" color=\"rgb(255,   0,   0)\"/>\n\t<use xlink:href=\"#gpPt6\" transform=\"translate(344.30,102.23) scale(1.50)\" color=\"rgb(255,   0,   0)\"/>\n\t<use xlink:href=\"#gpPt6\" transform=\"translate(297.73,307.50) scale(1.50)\" color=\"rgb(255,   0,   0)\"/>\n\t<use xlink:href=\"#gpPt6\" transform=\"translate(333.49,98.59) scale(1.50)\" color=\"rgb(255,   0,   0)\"/>\n\t<use xlink:href=\"#gpPt6\" transform=\"translate(359.98,233.00) scale(1.50)\" color=\"rgb(255,   0,   0)\"/>\n\t<use xlink:href=\"#gpPt6\" transform=\"translate(359.98,233.00) scale(1.50)\" color=\"rgb(255,   0,   0)\"/>\n\t<use xlink:href=\"#gpPt6\" transform=\"translate(299.42,312.78) scale(1.50)\" color=\"rgb(255,   0,   0)\"/>\n\t<use xlink:href=\"#gpPt6\" transform=\"translate(335.19,103.87) scale(1.50)\" color=\"rgb(255,   0,   0)\"/>\n\t<use xlink:href=\"#gpPt6\" transform=\"translate(361.68,238.29) scale(1.50)\" color=\"rgb(255,   0,   0)\"/>\n\t<use xlink:href=\"#gpPt6\" transform=\"translate(377.57,145.45) scale(1.50)\" color=\"rgb(255,   0,   0)\"/>\n\t<use xlink:href=\"#gpPt6\" transform=\"translate(377.57,145.45) scale(1.50)\" color=\"rgb(255,   0,   0)\"/>\n\t<use xlink:href=\"#gpPt6\" transform=\"translate(294.07,308.37) scale(1.50)\" color=\"rgb(255,   0,   0)\"/>\n\t<use xlink:href=\"#gpPt6\" transform=\"translate(329.84,99.46) scale(1.50)\" color=\"rgb(255,   0,   0)\"/>\n\t<use xlink:href=\"#gpPt6\" transform=\"translate(329.84,99.46) scale(1.50)\" color=\"rgb(255,   0,   0)\"/>\n\t<use xlink:href=\"#gpPt6\" transform=\"translate(295.69,311.72) scale(1.50)\" color=\"rgb(255,   0,   0)\"/>\n\t<use xlink:href=\"#gpPt6\" transform=\"translate(332.31,97.84) scale(1.50)\" color=\"rgb(255,   0,   0)\"/>\n\t<use xlink:href=\"#gpPt6\" transform=\"translate(331.83,95.44) scale(1.50)\" color=\"rgb(255,   0,   0)\"/>\n\t<use xlink:href=\"#gpPt6\" transform=\"translate(331.83,95.44) scale(1.50)\" color=\"rgb(255,   0,   0)\"/>\n\t<use xlink:href=\"#gpPt6\" transform=\"translate(292.82,311.31) scale(1.50)\" color=\"rgb(255,   0,   0)\"/>\n\t<use xlink:href=\"#gpPt6\" transform=\"translate(329.91,94.67) scale(1.50)\" color=\"rgb(255,   0,   0)\"/>\n\t<use xlink:href=\"#gpPt6\" transform=\"translate(330.85,99.43) scale(1.50)\" color=\"rgb(255,   0,   0)\"/>\n\t<use xlink:href=\"#gpPt6\" transform=\"translate(294.70,310.59) scale(1.50)\" color=\"rgb(255,   0,   0)\"/>\n\t<use xlink:href=\"#gpPt6\" transform=\"translate(294.70,310.59) scale(1.50)\" color=\"rgb(255,   0,   0)\"/>\n\t<use xlink:href=\"#gpPt6\" transform=\"translate(301.12,306.69) scale(1.50)\" color=\"rgb(255,   0,   0)\"/>\n\t<use xlink:href=\"#gpPt6\" transform=\"translate(336.89,97.78) scale(1.50)\" color=\"rgb(255,   0,   0)\"/>\n\t<use xlink:href=\"#gpPt6\" transform=\"translate(362.57,228.11) scale(1.50)\" color=\"rgb(255,   0,   0)\"/>\n\t<use xlink:href=\"#gpPt6\" transform=\"translate(361.77,232.81) scale(1.50)\" color=\"rgb(255,   0,   0)\"/>\n\t<use xlink:href=\"#gpPt6\" transform=\"translate(335.28,98.40) scale(1.50)\" color=\"rgb(255,   0,   0)\"/>\n\t<use xlink:href=\"#gpPt6\" transform=\"translate(299.51,307.31) scale(1.50)\" color=\"rgb(255,   0,   0)\"/>\n\t<use xlink:href=\"#gpPt6\" transform=\"translate(299.51,307.31) scale(1.50)\" color=\"rgb(255,   0,   0)\"/>\n\t<use xlink:href=\"#gpPt6\" transform=\"translate(304.12,313.64) scale(1.50)\" color=\"rgb(255,   0,   0)\"/>\n\t<use xlink:href=\"#gpPt6\" transform=\"translate(339.89,104.73) scale(1.50)\" color=\"rgb(255,   0,   0)\"/>\n\t<use xlink:href=\"#gpPt6\" transform=\"translate(339.89,104.73) scale(1.50)\" color=\"rgb(255,   0,   0)\"/>\n\t<use xlink:href=\"#gpPt6\" transform=\"translate(302.39,309.15) scale(1.50)\" color=\"rgb(255,   0,   0)\"/>\n\t<use xlink:href=\"#gpPt6\" transform=\"translate(338.15,100.24) scale(1.50)\" color=\"rgb(255,   0,   0)\"/>\n\t<use xlink:href=\"#gpPt6\" transform=\"translate(364.64,234.66) scale(1.50)\" color=\"rgb(255,   0,   0)\"/>\n\t<use xlink:href=\"#gpPt6\" transform=\"translate(364.64,234.66) scale(1.50)\" color=\"rgb(255,   0,   0)\"/>\n\t<use xlink:href=\"#gpPt6\" transform=\"translate(306.56,310.39) scale(1.50)\" color=\"rgb(255,   0,   0)\"/>\n\t<use xlink:href=\"#gpPt6\" transform=\"translate(342.33,101.48) scale(1.50)\" color=\"rgb(255,   0,   0)\"/>\n\t<use xlink:href=\"#gpPt6\" transform=\"translate(368.17,232.59) scale(1.50)\" color=\"rgb(255,   0,   0)\"/>\n\t<use xlink:href=\"#gpPt6\" transform=\"translate(367.51,236.40) scale(1.50)\" color=\"rgb(255,   0,   0)\"/>\n\t<use xlink:href=\"#gpPt6\" transform=\"translate(367.51,236.40) scale(1.50)\" color=\"rgb(255,   0,   0)\"/>\n\t<use xlink:href=\"#gpPt6\" transform=\"translate(305.88,310.19) scale(1.50)\" color=\"rgb(255,   0,   0)\"/>\n\t<use xlink:href=\"#gpPt6\" transform=\"translate(341.64,101.28) scale(1.50)\" color=\"rgb(255,   0,   0)\"/>\n\t<use xlink:href=\"#gpPt6\" transform=\"translate(367.72,233.59) scale(1.50)\" color=\"rgb(255,   0,   0)\"/>\n\t<use xlink:href=\"#gpPt6\" transform=\"translate(367.30,236.02) scale(1.50)\" color=\"rgb(255,   0,   0)\"/>\n\t<use xlink:href=\"#gpPt6\" transform=\"translate(367.30,236.02) scale(1.50)\" color=\"rgb(255,   0,   0)\"/>\n\t<use xlink:href=\"#gpPt6\" transform=\"translate(303.16,307.38) scale(1.50)\" color=\"rgb(255,   0,   0)\"/>\n\t<use xlink:href=\"#gpPt6\" transform=\"translate(304.39,300.18) scale(1.50)\" color=\"rgb(255,   0,   0)\"/>\n\t<use xlink:href=\"#gpPt6\" transform=\"translate(265.89,104.80) scale(1.50)\" color=\"rgb(255,   0,   0)\"/>\n\t<use xlink:href=\"#gpPt6\" transform=\"translate(228.80,321.45) scale(1.50)\" color=\"rgb(255,   0,   0)\"/>\n\t<use xlink:href=\"#gpPt6\" transform=\"translate(198.43,167.34) scale(1.50)\" color=\"rgb(255,   0,   0)\"/>\n\t<use xlink:href=\"#gpPt6\" transform=\"translate(198.53,166.80) scale(1.50)\" color=\"rgb(255,   0,   0)\"/>\n\t<use xlink:href=\"#gpPt6\" transform=\"translate(198.53,166.80) scale(1.50)\" color=\"rgb(255,   0,   0)\"/>\n\t<use xlink:href=\"#gpPt6\" transform=\"translate(291.86,310.53) scale(1.50)\" color=\"rgb(255,   0,   0)\"/>\n\t<use xlink:href=\"#gpPt6\" transform=\"translate(328.95,93.88) scale(1.50)\" color=\"rgb(255,   0,   0)\"/>\n\t<use xlink:href=\"#gpPt6\" transform=\"translate(329.74,97.89) scale(1.50)\" color=\"rgb(255,   0,   0)\"/>\n\t<use xlink:href=\"#gpPt6\" transform=\"translate(293.44,309.93) scale(1.50)\" color=\"rgb(255,   0,   0)\"/>\n\t<use xlink:href=\"#gpPt6\" transform=\"translate(253.71,108.29) scale(1.50)\" color=\"rgb(255,   0,   0)\"/>\n\t<use xlink:href=\"#gpPt6\" transform=\"translate(253.71,108.29) scale(1.50)\" color=\"rgb(255,   0,   0)\"/>\n\t<use xlink:href=\"#gpPt6\" transform=\"translate(302.19,307.59) scale(1.50)\" color=\"rgb(255,   0,   0)\"/>\n\t<use xlink:href=\"#gpPt6\" transform=\"translate(337.95,98.68) scale(1.50)\" color=\"rgb(255,   0,   0)\"/>\n\t<use xlink:href=\"#gpPt6\" transform=\"translate(337.95,98.68) scale(1.50)\" color=\"rgb(255,   0,   0)\"/>\n\t<use xlink:href=\"#gpPt6\" transform=\"translate(295.14,307.81) scale(1.50)\" color=\"rgb(255,   0,   0)\"/>\n\t<use xlink:href=\"#gpPt6\" transform=\"translate(330.91,98.90) scale(1.50)\" color=\"rgb(255,   0,   0)\"/>\n\t<use xlink:href=\"#gpPt6\" transform=\"translate(357.40,233.32) scale(1.50)\" color=\"rgb(255,   0,   0)\"/>\n\t<use xlink:href=\"#gpPt6\" transform=\"translate(357.40,233.32) scale(1.50)\" color=\"rgb(255,   0,   0)\"/>\n\t<use xlink:href=\"#gpPt6\" transform=\"translate(296.31,308.45) scale(1.50)\" color=\"rgb(255,   0,   0)\"/>\n\t<use xlink:href=\"#gpPt6\" transform=\"translate(332.07,99.54) scale(1.50)\" color=\"rgb(255,   0,   0)\"/>\n\t<use xlink:href=\"#gpPt6\" transform=\"translate(332.07,99.54) scale(1.50)\" color=\"rgb(255,   0,   0)\"/>\n\t<use xlink:href=\"#gpPt6\" transform=\"translate(307.94,310.86) scale(1.50)\" color=\"rgb(255,   0,   0)\"/>\n\t<use xlink:href=\"#gpPt6\" transform=\"translate(343.71,101.95) scale(1.50)\" color=\"rgb(255,   0,   0)\"/>\n\t<use xlink:href=\"#gpPt6\" transform=\"translate(343.71,101.95) scale(1.50)\" color=\"rgb(255,   0,   0)\"/>\n\t<use xlink:href=\"#gpPt6\" transform=\"translate(299.32,313.63) scale(1.50)\" color=\"rgb(255,   0,   0)\"/>\n\t<use xlink:href=\"#gpPt6\" transform=\"translate(335.50,102.31) scale(1.50)\" color=\"rgb(255,   0,   0)\"/>\n\t<use xlink:href=\"#gpPt6\" transform=\"translate(334.58,97.68) scale(1.50)\" color=\"rgb(255,   0,   0)\"/>\n\t<use xlink:href=\"#gpPt6\" transform=\"translate(297.50,314.33) scale(1.50)\" color=\"rgb(255,   0,   0)\"/>\n\t<use xlink:href=\"#gpPt6\" transform=\"translate(257.77,112.70) scale(1.50)\" color=\"rgb(255,   0,   0)\"/>\n\t<use xlink:href=\"#gpPt6\" transform=\"translate(257.77,112.70) scale(1.50)\" color=\"rgb(255,   0,   0)\"/>\n\t<use xlink:href=\"#gpPt6\" transform=\"translate(303.63,308.60) scale(1.50)\" color=\"rgb(255,   0,   0)\"/>\n\t<use xlink:href=\"#gpPt6\" transform=\"translate(339.39,99.69) scale(1.50)\" color=\"rgb(255,   0,   0)\"/>\n\t<use xlink:href=\"#gpPt6\" transform=\"translate(365.35,231.37) scale(1.50)\" color=\"rgb(255,   0,   0)\"/>\n\t<use xlink:href=\"#gpPt6\" transform=\"translate(364.81,234.52) scale(1.50)\" color=\"rgb(255,   0,   0)\"/>\n\t<use xlink:href=\"#gpPt6\" transform=\"translate(338.31,100.10) scale(1.50)\" color=\"rgb(255,   0,   0)\"/>\n\t<use xlink:href=\"#gpPt6\" transform=\"translate(302.55,309.01) scale(1.50)\" color=\"rgb(255,   0,   0)\"/>\n\t<use xlink:href=\"#gpPt6\" transform=\"translate(302.55,309.01) scale(1.50)\" color=\"rgb(255,   0,   0)\"/>\n\t<use xlink:href=\"#gpPt6\" transform=\"translate(303.74,312.29) scale(1.50)\" color=\"rgb(255,   0,   0)\"/>\n\t<use xlink:href=\"#gpPt6\" transform=\"translate(339.50,103.38) scale(1.50)\" color=\"rgb(255,   0,   0)\"/>\n\t<use xlink:href=\"#gpPt6\" transform=\"translate(366.00,237.80) scale(1.50)\" color=\"rgb(255,   0,   0)\"/>\n\t<use xlink:href=\"#gpPt6\" transform=\"translate(366.00,237.80) scale(1.50)\" color=\"rgb(255,   0,   0)\"/>\n\t<use xlink:href=\"#gpPt6\" transform=\"translate(301.11,309.77) scale(1.50)\" color=\"rgb(255,   0,   0)\"/>\n\t<use xlink:href=\"#gpPt6\" transform=\"translate(336.88,100.86) scale(1.50)\" color=\"rgb(255,   0,   0)\"/>\n\t<use xlink:href=\"#gpPt6\" transform=\"translate(363.37,235.28) scale(1.50)\" color=\"rgb(255,   0,   0)\"/>\n\t<use xlink:href=\"#gpPt6\" transform=\"translate(363.37,235.28) scale(1.50)\" color=\"rgb(255,   0,   0)\"/>\n\t<use xlink:href=\"#gpPt6\" transform=\"translate(304.60,310.85) scale(1.50)\" color=\"rgb(255,   0,   0)\"/>\n\t<use xlink:href=\"#gpPt6\" transform=\"translate(340.36,101.94) scale(1.50)\" color=\"rgb(255,   0,   0)\"/>\n\t<use xlink:href=\"#gpPt6\" transform=\"translate(340.36,101.94) scale(1.50)\" color=\"rgb(255,   0,   0)\"/>\n\t<use xlink:href=\"#gpPt6\" transform=\"translate(294.32,309.65) scale(1.50)\" color=\"rgb(255,   0,   0)\"/>\n\t<use xlink:href=\"#gpPt6\" transform=\"translate(330.08,100.74) scale(1.50)\" color=\"rgb(255,   0,   0)\"/>\n\t<use xlink:href=\"#gpPt6\" transform=\"translate(330.08,100.74) scale(1.50)\" color=\"rgb(255,   0,   0)\"/>\n\t<use xlink:href=\"#gpPt6\" transform=\"translate(300.88,308.46) scale(1.50)\" color=\"rgb(255,   0,   0)\"/>\n\t<use xlink:href=\"#gpPt6\" transform=\"translate(336.64,99.55) scale(1.50)\" color=\"rgb(255,   0,   0)\"/>\n\t<use xlink:href=\"#gpPt6\" transform=\"translate(336.64,99.55) scale(1.50)\" color=\"rgb(255,   0,   0)\"/>\n\t<use xlink:href=\"#gpPt6\" transform=\"translate(291.68,311.94) scale(1.50)\" color=\"rgb(255,   0,   0)\"/>\n\t<use xlink:href=\"#gpPt6\" transform=\"translate(328.77,95.29) scale(1.50)\" color=\"rgb(255,   0,   0)\"/>\n\t<use xlink:href=\"#gpPt6\" transform=\"translate(357.52,241.19) scale(1.50)\" color=\"rgb(255,   0,   0)\"/>\n\t<use xlink:href=\"#gpPt6\" transform=\"translate(355.81,251.19) scale(1.50)\" color=\"rgb(255,   0,   0)\"/>\n\t<use xlink:href=\"#gpPt6\" transform=\"translate(355.81,251.19) scale(1.50)\" color=\"rgb(255,   0,   0)\"/>\n\t<use xlink:href=\"#gpPt6\" transform=\"translate(298.77,310.13) scale(1.50)\" color=\"rgb(255,   0,   0)\"/>\n\t<use xlink:href=\"#gpPt6\" transform=\"translate(334.53,101.22) scale(1.50)\" color=\"rgb(255,   0,   0)\"/>\n\t<use xlink:href=\"#gpPt6\" transform=\"translate(334.53,101.22) scale(1.50)\" color=\"rgb(255,   0,   0)\"/>\n\t<use xlink:href=\"#gpPt6\" transform=\"translate(301.63,311.22) scale(1.50)\" color=\"rgb(255,   0,   0)\"/>\n\t<use xlink:href=\"#gpPt6\" transform=\"translate(337.39,102.31) scale(1.50)\" color=\"rgb(255,   0,   0)\"/>\n\t<use xlink:href=\"#gpPt6\" transform=\"translate(337.39,102.31) scale(1.50)\" color=\"rgb(255,   0,   0)\"/>\n</g>\n\t</g>\n<g fill=\"none\" color=\"white\" stroke=\"rgb(255,   0,   0)\" stroke-width=\"1.00\" stroke-linecap=\"butt\" stroke-linejoin=\"miter\">\n</g>\n<g fill=\"none\" color=\"black\" stroke=\"currentColor\" stroke-width=\"1.00\" stroke-linecap=\"butt\" stroke-linejoin=\"miter\">\n\t<path stroke=\"rgb(  0,   0,   0)\" d=\"M455.57,330.01 L256.88,406.24  \"/></g>\n<g fill=\"none\" color=\"black\" stroke=\"currentColor\" stroke-width=\"1.00\" stroke-linecap=\"butt\" stroke-linejoin=\"miter\">\n\t<path stroke=\"rgb(  0,   0,   0)\" d=\"M104.42,306.89 L256.88,406.24  \"/></g>\n</g>\n</svg>"
          },
          "metadata": {}
        }
      ]
    },
    {
      "cell_type": "code",
      "source": [
        "%%octave -f svg\n",
        "\n",
        "dims=size(cfg.vol);\n",
        "[xi, yi, zi] = ndgrid(1:dims(1), 1:dims(2), 1:dims(3));\n",
        "dist = (xi - 30.5).^2 + (yi - 30.5).^2 + (zi - 30.5).^2;\n",
        "binvol = zeros(size(xi));\n",
        "binvol(dist < 15*15) = 1;\n",
        "\n",
        "cfg_svmc=cfg;\n",
        "\n",
        "cfg_svmc.vol=mcxsvmc(binvol, 'smoothing', 1); % 1: enable gaussian smoothing 0: otherwise\n",
        "cfg_svmc.vol=uint8(cfg_svmc.vol);\n",
        "\n",
        "if(isfield(cfg_svmc, 'shapes'))\n",
        "    cfg_svmc=rmfield(cfg_svmc, 'shapes');\n",
        "end\n",
        "\n",
        "traj_svmc=mcxlab(cfg_svmc);\n",
        "\n",
        "close all\n",
        "\n",
        "shapes=loadjson(cfg.shapes);\n",
        "[sx,sy,sz]=sphere(10);\n",
        "\n",
        "R=shapes.Shapes.Sphere.R;\n",
        "C0=shapes.Shapes.Sphere.O;\n",
        "surf(sx*R+C0(1), sy*R+C0(2), sz*R+C0(3), 'facecolor', 'none');\n",
        "\n",
        "hold on;\n",
        "sortedlines=mcxplotphotons(traj_svmc, 'marker','.', 'markersize', 3, 'markeredgecolor', 'r');\n",
        "axis equal\n",
        "set(gca, 'position', [0 0 1 1]);"
      ],
      "metadata": {
        "colab": {
          "base_uri": "https://localhost:8080/",
          "height": 1000
        },
        "id": "1SjXlSQC_bby",
        "outputId": "60f71680-9952-4042-f0d3-6f948620b93f"
      },
      "execution_count": null,
      "outputs": [
        {
          "output_type": "display_data",
          "data": {
            "text/plain": [
              "Launching MCXLAB - Monte Carlo eXtreme for MATLAB & GNU Octave ..."
            ]
          },
          "metadata": {}
        },
        {
          "output_type": "display_data",
          "data": {
            "text/plain": [
              "Running simulations for configuration #1 ..."
            ]
          },
          "metadata": {}
        },
        {
          "output_type": "display_data",
          "data": {
            "text/plain": [
              "mcx.nphoton=100;"
            ]
          },
          "metadata": {}
        },
        {
          "output_type": "display_data",
          "data": {
            "text/plain": [
              "mcx.tstart=0;"
            ]
          },
          "metadata": {}
        },
        {
          "output_type": "display_data",
          "data": {
            "text/plain": [
              "mcx.tend=5e-09;"
            ]
          },
          "metadata": {}
        },
        {
          "output_type": "display_data",
          "data": {
            "text/plain": [
              "mcx.tstep=5e-09;"
            ]
          },
          "metadata": {}
        },
        {
          "output_type": "display_data",
          "data": {
            "text/plain": [
              "mcx.dim=[60 60 60];"
            ]
          },
          "metadata": {}
        },
        {
          "output_type": "display_data",
          "data": {
            "text/plain": [
              "mcx.mediabyte=97;"
            ]
          },
          "metadata": {}
        },
        {
          "output_type": "display_data",
          "data": {
            "text/plain": [
              "mcx.medianum=2;"
            ]
          },
          "metadata": {}
        },
        {
          "output_type": "display_data",
          "data": {
            "text/plain": [
              "mcx.issrcfrom0=1;"
            ]
          },
          "metadata": {}
        },
        {
          "output_type": "display_data",
          "data": {
            "text/plain": [
              "mcx.srctype='disk';"
            ]
          },
          "metadata": {}
        },
        {
          "output_type": "display_data",
          "data": {
            "text/plain": [
              "mcx.srcpos=[30 30 0 1];"
            ]
          },
          "metadata": {}
        },
        {
          "output_type": "display_data",
          "data": {
            "text/plain": [
              "mcx.srcdir=[0.196116 0 0.980581 0];"
            ]
          },
          "metadata": {}
        },
        {
          "output_type": "display_data",
          "data": {
            "text/plain": [
              "mcx.srcparam1=[1 0 0 0];"
            ]
          },
          "metadata": {}
        },
        {
          "output_type": "display_data",
          "data": {
            "text/plain": [
              "mcx.debuglevel=8;"
            ]
          },
          "metadata": {}
        },
        {
          "output_type": "display_data",
          "data": {
            "text/plain": [
              "###############################################################################"
            ]
          },
          "metadata": {}
        },
        {
          "output_type": "display_data",
          "data": {
            "text/plain": [
              "#                      Monte Carlo eXtreme (MCX) -- CUDA                      #"
            ]
          },
          "metadata": {}
        },
        {
          "output_type": "display_data",
          "data": {
            "text/plain": [
              "#          Copyright (c) 2009-2024 Qianqian Fang <q.fang at neu.edu>          #"
            ]
          },
          "metadata": {}
        },
        {
          "output_type": "display_data",
          "data": {
            "text/plain": [
              "#                https://mcx.space/  &  https://neurojson.io/                 #"
            ]
          },
          "metadata": {}
        },
        {
          "output_type": "display_data",
          "data": {
            "text/plain": [
              "#                                                                             #"
            ]
          },
          "metadata": {}
        },
        {
          "output_type": "display_data",
          "data": {
            "text/plain": [
              "# Computational Optics & Translational Imaging (COTI) Lab- http://fanglab.org #"
            ]
          },
          "metadata": {}
        },
        {
          "output_type": "display_data",
          "data": {
            "text/plain": [
              "#   Department of Bioengineering, Northeastern University, Boston, MA, USA    #"
            ]
          },
          "metadata": {}
        },
        {
          "output_type": "display_data",
          "data": {
            "text/plain": [
              "###############################################################################"
            ]
          },
          "metadata": {}
        },
        {
          "output_type": "display_data",
          "data": {
            "text/plain": [
              "#    The MCX Project is funded by the NIH/NIGMS under grant R01-GM114365      #"
            ]
          },
          "metadata": {}
        },
        {
          "output_type": "display_data",
          "data": {
            "text/plain": [
              "###############################################################################"
            ]
          },
          "metadata": {}
        },
        {
          "output_type": "display_data",
          "data": {
            "text/plain": [
              "#  Open-source codes and reusable scientific data are essential for research, #"
            ]
          },
          "metadata": {}
        },
        {
          "output_type": "display_data",
          "data": {
            "text/plain": [
              "# MCX proudly developed human-readable JSON-based data formats for easy reuse.#"
            ]
          },
          "metadata": {}
        },
        {
          "output_type": "display_data",
          "data": {
            "text/plain": [
              "#                                                                             #"
            ]
          },
          "metadata": {}
        },
        {
          "output_type": "display_data",
          "data": {
            "text/plain": [
              "#Please visit our free scientific data sharing portal at https://neurojson.io/#"
            ]
          },
          "metadata": {}
        },
        {
          "output_type": "display_data",
          "data": {
            "text/plain": [
              "# and consider sharing your public datasets in standardized JSON/JData format #"
            ]
          },
          "metadata": {}
        },
        {
          "output_type": "display_data",
          "data": {
            "text/plain": [
              "###############################################################################"
            ]
          },
          "metadata": {}
        },
        {
          "output_type": "display_data",
          "data": {
            "text/plain": [
              "$Rev::f959c7$v2024.6 $Date::2024-06-22 15:23:34 -04$ by $Author::Qianqian Fang$"
            ]
          },
          "metadata": {}
        },
        {
          "output_type": "display_data",
          "data": {
            "text/plain": [
              "###############################################################################"
            ]
          },
          "metadata": {}
        },
        {
          "output_type": "display_data",
          "data": {
            "text/plain": [
              "- code name: [Jumbo Jolt] compiled by nvcc [9.0] for CUDA-arch [350] on [Jun 22 2024]"
            ]
          },
          "metadata": {}
        },
        {
          "output_type": "display_data",
          "data": {
            "text/plain": [
              "- compiled with: RNG [xorshift128+] with Seed Length [4]"
            ]
          },
          "metadata": {}
        },
        {
          "output_type": "display_data",
          "data": {
            "text/plain": []
          },
          "metadata": {}
        },
        {
          "output_type": "display_data",
          "data": {
            "text/plain": [
              "GPU=1 (Tesla T4) threadph=0 extra=100 np=100 nthread=81920 maxgate=1 repetition=1"
            ]
          },
          "metadata": {}
        },
        {
          "output_type": "display_data",
          "data": {
            "text/plain": [
              "initializing streams ...\tinit complete : 1 ms"
            ]
          },
          "metadata": {}
        },
        {
          "output_type": "display_data",
          "data": {
            "text/plain": [
              "requesting 1280 bytes of shared memory"
            ]
          },
          "metadata": {}
        },
        {
          "output_type": "display_data",
          "data": {
            "text/plain": [
              "launching MCX simulation for time window [0.00e+00ns 5.00e+00ns] ..."
            ]
          },
          "metadata": {}
        },
        {
          "output_type": "display_data",
          "data": {
            "text/plain": [
              "simulation run# 1 ..."
            ]
          },
          "metadata": {}
        },
        {
          "output_type": "display_data",
          "data": {
            "text/plain": [
              "kernel complete:  \t28 ms"
            ]
          },
          "metadata": {}
        },
        {
          "output_type": "display_data",
          "data": {
            "text/plain": [
              "retrieving fields ... \tsaved 201 trajectory positions, total: 201\tsimulated 100 photons (100) with 81920 threads (repeat x1)"
            ]
          },
          "metadata": {}
        },
        {
          "output_type": "display_data",
          "data": {
            "text/plain": [
              "MCX simulation speed: 50.00 photon/ms"
            ]
          },
          "metadata": {}
        },
        {
          "output_type": "display_data",
          "data": {
            "text/plain": [
              "total simulated energy: 100.00\tabsorbed: 36.93984%"
            ]
          },
          "metadata": {}
        },
        {
          "output_type": "display_data",
          "data": {
            "text/plain": [
              "(loss due to initial specular reflection is excluded in the total)"
            ]
          },
          "metadata": {}
        },
        {
          "output_type": "display_data",
          "data": {
            "text/plain": [
              "<IPython.core.display.SVG object>"
            ],
            "image/svg+xml": "<svg xmlns=\"http://www.w3.org/2000/svg\" xmlns:xlink=\"http://www.w3.org/1999/xlink\" width=\"560px\" height=\"420px\" viewBox=\"0 0 560 420\">\n\n<title>Gnuplot</title>\n<desc>Produced by GNUPLOT 5.4 patchlevel 2 </desc>\n\n<g id=\"gnuplot_canvas\">\n\n<rect x=\"0\" y=\"0\" width=\"560\" height=\"420\" fill=\"none\"/>\n<defs>\n\n\t<circle id=\"gpDot\" r=\"0.5\" stroke-width=\"0.5\" stroke=\"currentColor\"/>\n\t<path id=\"gpPt0\" stroke-width=\"0.222\" stroke=\"currentColor\" d=\"M-1,0 h2 M0,-1 v2\"/>\n\t<path id=\"gpPt1\" stroke-width=\"0.222\" stroke=\"currentColor\" d=\"M-1,-1 L1,1 M1,-1 L-1,1\"/>\n\t<path id=\"gpPt2\" stroke-width=\"0.222\" stroke=\"currentColor\" d=\"M-1,0 L1,0 M0,-1 L0,1 M-1,-1 L1,1 M-1,1 L1,-1\"/>\n\t<rect id=\"gpPt3\" stroke-width=\"0.222\" stroke=\"currentColor\" x=\"-1\" y=\"-1\" width=\"2\" height=\"2\"/>\n\t<rect id=\"gpPt4\" stroke-width=\"0.222\" stroke=\"currentColor\" fill=\"currentColor\" x=\"-1\" y=\"-1\" width=\"2\" height=\"2\"/>\n\t<circle id=\"gpPt5\" stroke-width=\"0.222\" stroke=\"currentColor\" cx=\"0\" cy=\"0\" r=\"1\"/>\n\t<use xlink:href=\"#gpPt5\" id=\"gpPt6\" fill=\"currentColor\" stroke=\"none\"/>\n\t<path id=\"gpPt7\" stroke-width=\"0.222\" stroke=\"currentColor\" d=\"M0,-1.33 L-1.33,0.67 L1.33,0.67 z\"/>\n\t<use xlink:href=\"#gpPt7\" id=\"gpPt8\" fill=\"currentColor\" stroke=\"none\"/>\n\t<use xlink:href=\"#gpPt7\" id=\"gpPt9\" stroke=\"currentColor\" transform=\"rotate(180)\"/>\n\t<use xlink:href=\"#gpPt9\" id=\"gpPt10\" fill=\"currentColor\" stroke=\"none\"/>\n\t<use xlink:href=\"#gpPt3\" id=\"gpPt11\" stroke=\"currentColor\" transform=\"rotate(45)\"/>\n\t<use xlink:href=\"#gpPt11\" id=\"gpPt12\" fill=\"currentColor\" stroke=\"none\"/>\n\t<path id=\"gpPt13\" stroke-width=\"0.222\" stroke=\"currentColor\" d=\"M0,1.330 L1.265,0.411 L0.782,-1.067 L-0.782,-1.076 L-1.265,0.411 z\"/>\n\t<use xlink:href=\"#gpPt13\" id=\"gpPt14\" fill=\"currentColor\" stroke=\"none\"/>\n\t<filter id=\"textbox\" filterUnits=\"objectBoundingBox\" x=\"0\" y=\"0\" height=\"1\" width=\"1\">\n\t  <feFlood flood-color=\"white\" flood-opacity=\"1\" result=\"bgnd\"/>\n\t  <feComposite in=\"SourceGraphic\" in2=\"bgnd\" operator=\"atop\"/>\n\t</filter>\n\t<filter id=\"greybox\" filterUnits=\"objectBoundingBox\" x=\"0\" y=\"0\" height=\"1\" width=\"1\">\n\t  <feFlood flood-color=\"lightgrey\" flood-opacity=\"1\" result=\"grey\"/>\n\t  <feComposite in=\"SourceGraphic\" in2=\"grey\" operator=\"atop\"/>\n\t</filter>\n</defs>\n<g fill=\"none\" color=\"white\" stroke=\"currentColor\" stroke-width=\"1.00\" stroke-linecap=\"butt\" stroke-linejoin=\"miter\">\n</g>\n<g fill=\"none\" color=\"black\" stroke=\"currentColor\" stroke-width=\"1.00\" stroke-linecap=\"butt\" stroke-linejoin=\"miter\">\n</g>\n<g fill=\"none\" color=\"black\" stroke=\"currentColor\" stroke-width=\"1.00\" stroke-linecap=\"butt\" stroke-linejoin=\"miter\">\n</g>\n<g fill=\"none\" color=\"black\" stroke=\"currentColor\" stroke-width=\"1.00\" stroke-linecap=\"butt\" stroke-linejoin=\"miter\">\n\t<path stroke=\"rgb(  0,   0,   0)\" d=\"M104.42,306.89 L104.42,90.00  \"/></g>\n<g fill=\"none\" color=\"black\" stroke=\"rgb(  0,   0,   0)\" stroke-width=\"0.50\" stroke-linecap=\"butt\" stroke-linejoin=\"miter\">\n</g>\n<g fill=\"none\" color=\"black\" stroke=\"currentColor\" stroke-width=\"0.50\" stroke-linecap=\"butt\" stroke-linejoin=\"miter\">\n\t<path stroke=\"rgb( 38,  38,  38)\" opacity=\"0.15\" class=\"gridline\" d=\"M258.51,405.61 L106.05,306.27  \"/></g>\n<g fill=\"none\" color=\"black\" stroke=\"rgb( 38,  38,  38)\" stroke-width=\"1.00\" stroke-linecap=\"butt\" stroke-linejoin=\"miter\">\n</g>\n<g fill=\"none\" color=\"black\" stroke=\"currentColor\" stroke-width=\"1.00\" stroke-linecap=\"butt\" stroke-linejoin=\"miter\">\n\t<path stroke=\"rgb(  0,   0,   0)\" d=\"M258.51,405.61 L266.18,410.61  \"/>\t<g transform=\"translate(271.30,420.99)\" stroke=\"none\" fill=\"rgb(38,38,38)\" font-family=\"Arial\" font-size=\"10.00\" text-anchor=\"middle\">\n\t\t<text><tspan font-family=\"Arial\">15</tspan></text>\n\t</g>\n</g>\n<g fill=\"none\" color=\"black\" stroke=\"currentColor\" stroke-width=\"1.00\" stroke-linecap=\"butt\" stroke-linejoin=\"miter\">\n</g>\n<g fill=\"none\" color=\"black\" stroke=\"rgb(  0,   0,   0)\" stroke-width=\"0.50\" stroke-linecap=\"butt\" stroke-linejoin=\"miter\">\n</g>\n<g fill=\"none\" color=\"black\" stroke=\"currentColor\" stroke-width=\"0.50\" stroke-linecap=\"butt\" stroke-linejoin=\"miter\">\n\t<path stroke=\"rgb( 38,  38,  38)\" opacity=\"0.15\" class=\"gridline\" d=\"M291.08,393.11 L138.62,293.77  \"/></g>\n<g fill=\"none\" color=\"black\" stroke=\"rgb( 38,  38,  38)\" stroke-width=\"1.00\" stroke-linecap=\"butt\" stroke-linejoin=\"miter\">\n</g>\n<g fill=\"none\" color=\"black\" stroke=\"currentColor\" stroke-width=\"1.00\" stroke-linecap=\"butt\" stroke-linejoin=\"miter\">\n\t<path stroke=\"rgb(  0,   0,   0)\" d=\"M291.08,393.11 L298.75,398.11  \"/>\t<g transform=\"translate(303.86,408.49)\" stroke=\"none\" fill=\"rgb(38,38,38)\" font-family=\"Arial\" font-size=\"10.00\" text-anchor=\"middle\">\n\t\t<text><tspan font-family=\"Arial\">20</tspan></text>\n\t</g>\n</g>\n<g fill=\"none\" color=\"black\" stroke=\"currentColor\" stroke-width=\"1.00\" stroke-linecap=\"butt\" stroke-linejoin=\"miter\">\n</g>\n<g fill=\"none\" color=\"black\" stroke=\"rgb(  0,   0,   0)\" stroke-width=\"0.50\" stroke-linecap=\"butt\" stroke-linejoin=\"miter\">\n</g>\n<g fill=\"none\" color=\"black\" stroke=\"currentColor\" stroke-width=\"0.50\" stroke-linecap=\"butt\" stroke-linejoin=\"miter\">\n\t<path stroke=\"rgb( 38,  38,  38)\" opacity=\"0.15\" class=\"gridline\" d=\"M323.65,380.62 L171.19,281.27  \"/></g>\n<g fill=\"none\" color=\"black\" stroke=\"rgb( 38,  38,  38)\" stroke-width=\"1.00\" stroke-linecap=\"butt\" stroke-linejoin=\"miter\">\n</g>\n<g fill=\"none\" color=\"black\" stroke=\"currentColor\" stroke-width=\"1.00\" stroke-linecap=\"butt\" stroke-linejoin=\"miter\">\n\t<path stroke=\"rgb(  0,   0,   0)\" d=\"M323.65,380.62 L331.32,385.62  \"/>\t<g transform=\"translate(336.43,396.00)\" stroke=\"none\" fill=\"rgb(38,38,38)\" font-family=\"Arial\" font-size=\"10.00\" text-anchor=\"middle\">\n\t\t<text><tspan font-family=\"Arial\">25</tspan></text>\n\t</g>\n</g>\n<g fill=\"none\" color=\"black\" stroke=\"currentColor\" stroke-width=\"1.00\" stroke-linecap=\"butt\" stroke-linejoin=\"miter\">\n</g>\n<g fill=\"none\" color=\"black\" stroke=\"rgb(  0,   0,   0)\" stroke-width=\"0.50\" stroke-linecap=\"butt\" stroke-linejoin=\"miter\">\n</g>\n<g fill=\"none\" color=\"black\" stroke=\"currentColor\" stroke-width=\"0.50\" stroke-linecap=\"butt\" stroke-linejoin=\"miter\">\n\t<path stroke=\"rgb( 38,  38,  38)\" opacity=\"0.15\" class=\"gridline\" d=\"M356.22,368.12 L203.77,268.78  \"/></g>\n<g fill=\"none\" color=\"black\" stroke=\"rgb( 38,  38,  38)\" stroke-width=\"1.00\" stroke-linecap=\"butt\" stroke-linejoin=\"miter\">\n</g>\n<g fill=\"none\" color=\"black\" stroke=\"currentColor\" stroke-width=\"1.00\" stroke-linecap=\"butt\" stroke-linejoin=\"miter\">\n\t<path stroke=\"rgb(  0,   0,   0)\" d=\"M356.22,368.12 L363.89,373.12  \"/>\t<g transform=\"translate(369.00,383.50)\" stroke=\"none\" fill=\"rgb(38,38,38)\" font-family=\"Arial\" font-size=\"10.00\" text-anchor=\"middle\">\n\t\t<text><tspan font-family=\"Arial\">30</tspan></text>\n\t</g>\n</g>\n<g fill=\"none\" color=\"black\" stroke=\"currentColor\" stroke-width=\"1.00\" stroke-linecap=\"butt\" stroke-linejoin=\"miter\">\n</g>\n<g fill=\"none\" color=\"black\" stroke=\"rgb(  0,   0,   0)\" stroke-width=\"0.50\" stroke-linecap=\"butt\" stroke-linejoin=\"miter\">\n</g>\n<g fill=\"none\" color=\"black\" stroke=\"currentColor\" stroke-width=\"0.50\" stroke-linecap=\"butt\" stroke-linejoin=\"miter\">\n\t<path stroke=\"rgb( 38,  38,  38)\" opacity=\"0.15\" class=\"gridline\" d=\"M388.80,355.62 L236.34,256.28  \"/></g>\n<g fill=\"none\" color=\"black\" stroke=\"rgb( 38,  38,  38)\" stroke-width=\"1.00\" stroke-linecap=\"butt\" stroke-linejoin=\"miter\">\n</g>\n<g fill=\"none\" color=\"black\" stroke=\"currentColor\" stroke-width=\"1.00\" stroke-linecap=\"butt\" stroke-linejoin=\"miter\">\n\t<path stroke=\"rgb(  0,   0,   0)\" d=\"M388.80,355.62 L396.47,360.62  \"/>\t<g transform=\"translate(401.57,371.00)\" stroke=\"none\" fill=\"rgb(38,38,38)\" font-family=\"Arial\" font-size=\"10.00\" text-anchor=\"middle\">\n\t\t<text><tspan font-family=\"Arial\">35</tspan></text>\n\t</g>\n</g>\n<g fill=\"none\" color=\"black\" stroke=\"currentColor\" stroke-width=\"1.00\" stroke-linecap=\"butt\" stroke-linejoin=\"miter\">\n</g>\n<g fill=\"none\" color=\"black\" stroke=\"rgb(  0,   0,   0)\" stroke-width=\"0.50\" stroke-linecap=\"butt\" stroke-linejoin=\"miter\">\n</g>\n<g fill=\"none\" color=\"black\" stroke=\"currentColor\" stroke-width=\"0.50\" stroke-linecap=\"butt\" stroke-linejoin=\"miter\">\n\t<path stroke=\"rgb( 38,  38,  38)\" opacity=\"0.15\" class=\"gridline\" d=\"M421.37,343.13 L268.91,243.78  \"/></g>\n<g fill=\"none\" color=\"black\" stroke=\"rgb( 38,  38,  38)\" stroke-width=\"1.00\" stroke-linecap=\"butt\" stroke-linejoin=\"miter\">\n</g>\n<g fill=\"none\" color=\"black\" stroke=\"currentColor\" stroke-width=\"1.00\" stroke-linecap=\"butt\" stroke-linejoin=\"miter\">\n\t<path stroke=\"rgb(  0,   0,   0)\" d=\"M421.37,343.13 L429.04,348.13  \"/>\t<g transform=\"translate(434.14,358.51)\" stroke=\"none\" fill=\"rgb(38,38,38)\" font-family=\"Arial\" font-size=\"10.00\" text-anchor=\"middle\">\n\t\t<text><tspan font-family=\"Arial\">40</tspan></text>\n\t</g>\n</g>\n<g fill=\"none\" color=\"black\" stroke=\"currentColor\" stroke-width=\"1.00\" stroke-linecap=\"butt\" stroke-linejoin=\"miter\">\n</g>\n<g fill=\"none\" color=\"black\" stroke=\"rgb(  0,   0,   0)\" stroke-width=\"0.50\" stroke-linecap=\"butt\" stroke-linejoin=\"miter\">\n</g>\n<g fill=\"none\" color=\"black\" stroke=\"currentColor\" stroke-width=\"0.50\" stroke-linecap=\"butt\" stroke-linejoin=\"miter\">\n\t<path stroke=\"rgb( 38,  38,  38)\" opacity=\"0.15\" class=\"gridline\" d=\"M453.94,330.63 L301.48,231.29  \"/></g>\n<g fill=\"none\" color=\"black\" stroke=\"rgb( 38,  38,  38)\" stroke-width=\"1.00\" stroke-linecap=\"butt\" stroke-linejoin=\"miter\">\n</g>\n<g fill=\"none\" color=\"black\" stroke=\"currentColor\" stroke-width=\"1.00\" stroke-linecap=\"butt\" stroke-linejoin=\"miter\">\n\t<path stroke=\"rgb(  0,   0,   0)\" d=\"M453.94,330.63 L461.61,335.63  \"/>\t<g transform=\"translate(466.72,346.01)\" stroke=\"none\" fill=\"rgb(38,38,38)\" font-family=\"Arial\" font-size=\"10.00\" text-anchor=\"middle\">\n\t\t<text><tspan font-family=\"Arial\">45</tspan></text>\n\t</g>\n</g>\n<g fill=\"none\" color=\"black\" stroke=\"currentColor\" stroke-width=\"1.00\" stroke-linecap=\"butt\" stroke-linejoin=\"miter\">\n</g>\n<g fill=\"none\" color=\"black\" stroke=\"rgb(  0,   0,   0)\" stroke-width=\"0.50\" stroke-linecap=\"butt\" stroke-linejoin=\"miter\">\n</g>\n<g fill=\"none\" color=\"black\" stroke=\"currentColor\" stroke-width=\"0.50\" stroke-linecap=\"butt\" stroke-linejoin=\"miter\">\n\t<path stroke=\"rgb( 38,  38,  38)\" opacity=\"0.15\" class=\"gridline\" d=\"M255.63,405.42 L454.32,329.19  \"/></g>\n<g fill=\"none\" color=\"black\" stroke=\"rgb( 38,  38,  38)\" stroke-width=\"1.00\" stroke-linecap=\"butt\" stroke-linejoin=\"miter\">\n</g>\n<g fill=\"none\" color=\"black\" stroke=\"currentColor\" stroke-width=\"1.00\" stroke-linecap=\"butt\" stroke-linejoin=\"miter\">\n\t<path stroke=\"rgb(  0,   0,   0)\" d=\"M255.63,405.42 L245.63,409.26  \"/>\t<g transform=\"translate(238.99,417.97)\" stroke=\"none\" fill=\"rgb(38,38,38)\" font-family=\"Arial\" font-size=\"10.00\" text-anchor=\"middle\">\n\t\t<text><tspan font-family=\"Arial\">15</tspan></text>\n\t</g>\n</g>\n<g fill=\"none\" color=\"black\" stroke=\"currentColor\" stroke-width=\"1.00\" stroke-linecap=\"butt\" stroke-linejoin=\"miter\">\n</g>\n<g fill=\"none\" color=\"black\" stroke=\"rgb(  0,   0,   0)\" stroke-width=\"0.50\" stroke-linecap=\"butt\" stroke-linejoin=\"miter\">\n</g>\n<g fill=\"none\" color=\"black\" stroke=\"currentColor\" stroke-width=\"0.50\" stroke-linecap=\"butt\" stroke-linejoin=\"miter\">\n\t<path stroke=\"rgb( 38,  38,  38)\" opacity=\"0.15\" class=\"gridline\" d=\"M230.64,389.13 L429.32,312.91  \"/></g>\n<g fill=\"none\" color=\"black\" stroke=\"rgb( 38,  38,  38)\" stroke-width=\"1.00\" stroke-linecap=\"butt\" stroke-linejoin=\"miter\">\n</g>\n<g fill=\"none\" color=\"black\" stroke=\"currentColor\" stroke-width=\"1.00\" stroke-linecap=\"butt\" stroke-linejoin=\"miter\">\n\t<path stroke=\"rgb(  0,   0,   0)\" d=\"M230.64,389.13 L220.64,392.97  \"/>\t<g transform=\"translate(213.99,401.69)\" stroke=\"none\" fill=\"rgb(38,38,38)\" font-family=\"Arial\" font-size=\"10.00\" text-anchor=\"middle\">\n\t\t<text><tspan font-family=\"Arial\">20</tspan></text>\n\t</g>\n</g>\n<g fill=\"none\" color=\"black\" stroke=\"currentColor\" stroke-width=\"1.00\" stroke-linecap=\"butt\" stroke-linejoin=\"miter\">\n</g>\n<g fill=\"none\" color=\"black\" stroke=\"rgb(  0,   0,   0)\" stroke-width=\"0.50\" stroke-linecap=\"butt\" stroke-linejoin=\"miter\">\n</g>\n<g fill=\"none\" color=\"black\" stroke=\"currentColor\" stroke-width=\"0.50\" stroke-linecap=\"butt\" stroke-linejoin=\"miter\">\n\t<path stroke=\"rgb( 38,  38,  38)\" opacity=\"0.15\" class=\"gridline\" d=\"M205.64,372.85 L404.33,296.62  \"/></g>\n<g fill=\"none\" color=\"black\" stroke=\"rgb( 38,  38,  38)\" stroke-width=\"1.00\" stroke-linecap=\"butt\" stroke-linejoin=\"miter\">\n</g>\n<g fill=\"none\" color=\"black\" stroke=\"currentColor\" stroke-width=\"1.00\" stroke-linecap=\"butt\" stroke-linejoin=\"miter\">\n\t<path stroke=\"rgb(  0,   0,   0)\" d=\"M205.64,372.85 L195.65,376.68  \"/>\t<g transform=\"translate(189.00,385.40)\" stroke=\"none\" fill=\"rgb(38,38,38)\" font-family=\"Arial\" font-size=\"10.00\" text-anchor=\"middle\">\n\t\t<text><tspan font-family=\"Arial\">25</tspan></text>\n\t</g>\n</g>\n<g fill=\"none\" color=\"black\" stroke=\"currentColor\" stroke-width=\"1.00\" stroke-linecap=\"butt\" stroke-linejoin=\"miter\">\n</g>\n<g fill=\"none\" color=\"black\" stroke=\"rgb(  0,   0,   0)\" stroke-width=\"0.50\" stroke-linecap=\"butt\" stroke-linejoin=\"miter\">\n</g>\n<g fill=\"none\" color=\"black\" stroke=\"currentColor\" stroke-width=\"0.50\" stroke-linecap=\"butt\" stroke-linejoin=\"miter\">\n\t<path stroke=\"rgb( 38,  38,  38)\" opacity=\"0.15\" class=\"gridline\" d=\"M180.65,356.56 L379.34,280.33  \"/></g>\n<g fill=\"none\" color=\"black\" stroke=\"rgb( 38,  38,  38)\" stroke-width=\"1.00\" stroke-linecap=\"butt\" stroke-linejoin=\"miter\">\n</g>\n<g fill=\"none\" color=\"black\" stroke=\"currentColor\" stroke-width=\"1.00\" stroke-linecap=\"butt\" stroke-linejoin=\"miter\">\n\t<path stroke=\"rgb(  0,   0,   0)\" d=\"M180.65,356.56 L170.66,360.40  \"/>\t<g transform=\"translate(164.01,369.12)\" stroke=\"none\" fill=\"rgb(38,38,38)\" font-family=\"Arial\" font-size=\"10.00\" text-anchor=\"middle\">\n\t\t<text><tspan font-family=\"Arial\">30</tspan></text>\n\t</g>\n</g>\n<g fill=\"none\" color=\"black\" stroke=\"currentColor\" stroke-width=\"1.00\" stroke-linecap=\"butt\" stroke-linejoin=\"miter\">\n</g>\n<g fill=\"none\" color=\"black\" stroke=\"rgb(  0,   0,   0)\" stroke-width=\"0.50\" stroke-linecap=\"butt\" stroke-linejoin=\"miter\">\n</g>\n<g fill=\"none\" color=\"black\" stroke=\"currentColor\" stroke-width=\"0.50\" stroke-linecap=\"butt\" stroke-linejoin=\"miter\">\n\t<path stroke=\"rgb( 38,  38,  38)\" opacity=\"0.15\" class=\"gridline\" d=\"M155.66,340.28 L354.35,264.05  \"/></g>\n<g fill=\"none\" color=\"black\" stroke=\"rgb( 38,  38,  38)\" stroke-width=\"1.00\" stroke-linecap=\"butt\" stroke-linejoin=\"miter\">\n</g>\n<g fill=\"none\" color=\"black\" stroke=\"currentColor\" stroke-width=\"1.00\" stroke-linecap=\"butt\" stroke-linejoin=\"miter\">\n\t<path stroke=\"rgb(  0,   0,   0)\" d=\"M155.66,340.28 L145.66,344.11  \"/>\t<g transform=\"translate(139.02,352.83)\" stroke=\"none\" fill=\"rgb(38,38,38)\" font-family=\"Arial\" font-size=\"10.00\" text-anchor=\"middle\">\n\t\t<text><tspan font-family=\"Arial\">35</tspan></text>\n\t</g>\n</g>\n<g fill=\"none\" color=\"black\" stroke=\"currentColor\" stroke-width=\"1.00\" stroke-linecap=\"butt\" stroke-linejoin=\"miter\">\n</g>\n<g fill=\"none\" color=\"black\" stroke=\"rgb(  0,   0,   0)\" stroke-width=\"0.50\" stroke-linecap=\"butt\" stroke-linejoin=\"miter\">\n</g>\n<g fill=\"none\" color=\"black\" stroke=\"currentColor\" stroke-width=\"0.50\" stroke-linecap=\"butt\" stroke-linejoin=\"miter\">\n\t<path stroke=\"rgb( 38,  38,  38)\" opacity=\"0.15\" class=\"gridline\" d=\"M130.67,323.99 L329.35,247.76  \"/></g>\n<g fill=\"none\" color=\"black\" stroke=\"rgb( 38,  38,  38)\" stroke-width=\"1.00\" stroke-linecap=\"butt\" stroke-linejoin=\"miter\">\n</g>\n<g fill=\"none\" color=\"black\" stroke=\"currentColor\" stroke-width=\"1.00\" stroke-linecap=\"butt\" stroke-linejoin=\"miter\">\n\t<path stroke=\"rgb(  0,   0,   0)\" d=\"M130.67,323.99 L120.67,327.83  \"/>\t<g transform=\"translate(114.02,336.55)\" stroke=\"none\" fill=\"rgb(38,38,38)\" font-family=\"Arial\" font-size=\"10.00\" text-anchor=\"middle\">\n\t\t<text><tspan font-family=\"Arial\">40</tspan></text>\n\t</g>\n</g>\n<g fill=\"none\" color=\"black\" stroke=\"currentColor\" stroke-width=\"1.00\" stroke-linecap=\"butt\" stroke-linejoin=\"miter\">\n</g>\n<g fill=\"none\" color=\"black\" stroke=\"rgb(  0,   0,   0)\" stroke-width=\"0.50\" stroke-linecap=\"butt\" stroke-linejoin=\"miter\">\n</g>\n<g fill=\"none\" color=\"black\" stroke=\"currentColor\" stroke-width=\"0.50\" stroke-linecap=\"butt\" stroke-linejoin=\"miter\">\n\t<path stroke=\"rgb( 38,  38,  38)\" opacity=\"0.15\" class=\"gridline\" d=\"M105.67,307.71 L304.36,231.48  \"/></g>\n<g fill=\"none\" color=\"black\" stroke=\"rgb( 38,  38,  38)\" stroke-width=\"1.00\" stroke-linecap=\"butt\" stroke-linejoin=\"miter\">\n</g>\n<g fill=\"none\" color=\"black\" stroke=\"currentColor\" stroke-width=\"1.00\" stroke-linecap=\"butt\" stroke-linejoin=\"miter\">\n\t<path stroke=\"rgb(  0,   0,   0)\" d=\"M105.67,307.71 L95.68,311.54  \"/>\t<g transform=\"translate(89.03,320.26)\" stroke=\"none\" fill=\"rgb(38,38,38)\" font-family=\"Arial\" font-size=\"10.00\" text-anchor=\"middle\">\n\t\t<text><tspan font-family=\"Arial\">45</tspan></text>\n\t</g>\n</g>\n<g fill=\"none\" color=\"black\" stroke=\"currentColor\" stroke-width=\"1.00\" stroke-linecap=\"butt\" stroke-linejoin=\"miter\">\n</g>\n<g fill=\"none\" color=\"black\" stroke=\"rgb(  0,   0,   0)\" stroke-width=\"0.50\" stroke-linecap=\"butt\" stroke-linejoin=\"miter\">\n</g>\n<g fill=\"none\" color=\"black\" stroke=\"currentColor\" stroke-width=\"0.50\" stroke-linecap=\"butt\" stroke-linejoin=\"miter\">\n\t<path stroke=\"rgb( 38,  38,  38)\" opacity=\"0.15\" class=\"gridline\" d=\"M104.42,306.89 L303.11,230.66  \"/></g>\n<g fill=\"none\" color=\"black\" stroke=\"currentColor\" stroke-width=\"0.50\" stroke-linecap=\"butt\" stroke-linejoin=\"miter\">\n\t<path stroke=\"rgb( 38,  38,  38)\" opacity=\"0.15\" class=\"gridline\" d=\"M303.11,230.66 L455.57,330.01  \"/></g>\n<g fill=\"none\" color=\"black\" stroke=\"rgb( 38,  38,  38)\" stroke-width=\"1.00\" stroke-linecap=\"butt\" stroke-linejoin=\"miter\">\n</g>\n<g fill=\"none\" color=\"black\" stroke=\"currentColor\" stroke-width=\"1.00\" stroke-linecap=\"butt\" stroke-linejoin=\"miter\">\n\t<path stroke=\"rgb(  0,   0,   0)\" d=\"M104.42,306.89 L91.82,306.89  \"/>\t<g transform=\"translate(73.83,310.13)\" stroke=\"none\" fill=\"rgb(38,38,38)\" font-family=\"Arial\" font-size=\"10.00\" text-anchor=\"end\">\n\t\t<text><tspan font-family=\"Arial\">15</tspan></text>\n\t</g>\n</g>\n<g fill=\"none\" color=\"black\" stroke=\"currentColor\" stroke-width=\"1.00\" stroke-linecap=\"butt\" stroke-linejoin=\"miter\">\n</g>\n<g fill=\"none\" color=\"black\" stroke=\"rgb(  0,   0,   0)\" stroke-width=\"0.50\" stroke-linecap=\"butt\" stroke-linejoin=\"miter\">\n</g>\n<g fill=\"none\" color=\"black\" stroke=\"currentColor\" stroke-width=\"0.50\" stroke-linecap=\"butt\" stroke-linejoin=\"miter\">\n\t<path stroke=\"rgb( 38,  38,  38)\" opacity=\"0.15\" class=\"gridline\" d=\"M104.42,271.34 L303.11,195.11  \"/></g>\n<g fill=\"none\" color=\"black\" stroke=\"currentColor\" stroke-width=\"0.50\" stroke-linecap=\"butt\" stroke-linejoin=\"miter\">\n\t<path stroke=\"rgb( 38,  38,  38)\" opacity=\"0.15\" class=\"gridline\" d=\"M303.11,195.11 L455.57,294.45  \"/></g>\n<g fill=\"none\" color=\"black\" stroke=\"rgb( 38,  38,  38)\" stroke-width=\"1.00\" stroke-linecap=\"butt\" stroke-linejoin=\"miter\">\n</g>\n<g fill=\"none\" color=\"black\" stroke=\"currentColor\" stroke-width=\"1.00\" stroke-linecap=\"butt\" stroke-linejoin=\"miter\">\n\t<path stroke=\"rgb(  0,   0,   0)\" d=\"M104.42,271.34 L91.82,271.34  \"/>\t<g transform=\"translate(73.83,274.58)\" stroke=\"none\" fill=\"rgb(38,38,38)\" font-family=\"Arial\" font-size=\"10.00\" text-anchor=\"end\">\n\t\t<text><tspan font-family=\"Arial\">20</tspan></text>\n\t</g>\n</g>\n<g fill=\"none\" color=\"black\" stroke=\"currentColor\" stroke-width=\"1.00\" stroke-linecap=\"butt\" stroke-linejoin=\"miter\">\n</g>\n<g fill=\"none\" color=\"black\" stroke=\"rgb(  0,   0,   0)\" stroke-width=\"0.50\" stroke-linecap=\"butt\" stroke-linejoin=\"miter\">\n</g>\n<g fill=\"none\" color=\"black\" stroke=\"currentColor\" stroke-width=\"0.50\" stroke-linecap=\"butt\" stroke-linejoin=\"miter\">\n\t<path stroke=\"rgb( 38,  38,  38)\" opacity=\"0.15\" class=\"gridline\" d=\"M104.42,235.78 L303.11,159.55  \"/></g>\n<g fill=\"none\" color=\"black\" stroke=\"currentColor\" stroke-width=\"0.50\" stroke-linecap=\"butt\" stroke-linejoin=\"miter\">\n\t<path stroke=\"rgb( 38,  38,  38)\" opacity=\"0.15\" class=\"gridline\" d=\"M303.11,159.55 L455.57,258.90  \"/></g>\n<g fill=\"none\" color=\"black\" stroke=\"rgb( 38,  38,  38)\" stroke-width=\"1.00\" stroke-linecap=\"butt\" stroke-linejoin=\"miter\">\n</g>\n<g fill=\"none\" color=\"black\" stroke=\"currentColor\" stroke-width=\"1.00\" stroke-linecap=\"butt\" stroke-linejoin=\"miter\">\n\t<path stroke=\"rgb(  0,   0,   0)\" d=\"M104.42,235.78 L91.82,235.78  \"/>\t<g transform=\"translate(73.83,239.02)\" stroke=\"none\" fill=\"rgb(38,38,38)\" font-family=\"Arial\" font-size=\"10.00\" text-anchor=\"end\">\n\t\t<text><tspan font-family=\"Arial\">25</tspan></text>\n\t</g>\n</g>\n<g fill=\"none\" color=\"black\" stroke=\"currentColor\" stroke-width=\"1.00\" stroke-linecap=\"butt\" stroke-linejoin=\"miter\">\n</g>\n<g fill=\"none\" color=\"black\" stroke=\"rgb(  0,   0,   0)\" stroke-width=\"0.50\" stroke-linecap=\"butt\" stroke-linejoin=\"miter\">\n</g>\n<g fill=\"none\" color=\"black\" stroke=\"currentColor\" stroke-width=\"0.50\" stroke-linecap=\"butt\" stroke-linejoin=\"miter\">\n\t<path stroke=\"rgb( 38,  38,  38)\" opacity=\"0.15\" class=\"gridline\" d=\"M104.42,200.23 L303.11,124.00  \"/></g>\n<g fill=\"none\" color=\"black\" stroke=\"currentColor\" stroke-width=\"0.50\" stroke-linecap=\"butt\" stroke-linejoin=\"miter\">\n\t<path stroke=\"rgb( 38,  38,  38)\" opacity=\"0.15\" class=\"gridline\" d=\"M303.11,124.00 L455.57,223.34  \"/></g>\n<g fill=\"none\" color=\"black\" stroke=\"rgb( 38,  38,  38)\" stroke-width=\"1.00\" stroke-linecap=\"butt\" stroke-linejoin=\"miter\">\n</g>\n<g fill=\"none\" color=\"black\" stroke=\"currentColor\" stroke-width=\"1.00\" stroke-linecap=\"butt\" stroke-linejoin=\"miter\">\n\t<path stroke=\"rgb(  0,   0,   0)\" d=\"M104.42,200.23 L91.82,200.23  \"/>\t<g transform=\"translate(73.83,203.48)\" stroke=\"none\" fill=\"rgb(38,38,38)\" font-family=\"Arial\" font-size=\"10.00\" text-anchor=\"end\">\n\t\t<text><tspan font-family=\"Arial\">30</tspan></text>\n\t</g>\n</g>\n<g fill=\"none\" color=\"black\" stroke=\"currentColor\" stroke-width=\"1.00\" stroke-linecap=\"butt\" stroke-linejoin=\"miter\">\n</g>\n<g fill=\"none\" color=\"black\" stroke=\"rgb(  0,   0,   0)\" stroke-width=\"0.50\" stroke-linecap=\"butt\" stroke-linejoin=\"miter\">\n</g>\n<g fill=\"none\" color=\"black\" stroke=\"currentColor\" stroke-width=\"0.50\" stroke-linecap=\"butt\" stroke-linejoin=\"miter\">\n\t<path stroke=\"rgb( 38,  38,  38)\" opacity=\"0.15\" class=\"gridline\" d=\"M104.42,164.67 L303.11,88.44  \"/></g>\n<g fill=\"none\" color=\"black\" stroke=\"currentColor\" stroke-width=\"0.50\" stroke-linecap=\"butt\" stroke-linejoin=\"miter\">\n\t<path stroke=\"rgb( 38,  38,  38)\" opacity=\"0.15\" class=\"gridline\" d=\"M303.11,88.44 L455.57,187.79  \"/></g>\n<g fill=\"none\" color=\"black\" stroke=\"rgb( 38,  38,  38)\" stroke-width=\"1.00\" stroke-linecap=\"butt\" stroke-linejoin=\"miter\">\n</g>\n<g fill=\"none\" color=\"black\" stroke=\"currentColor\" stroke-width=\"1.00\" stroke-linecap=\"butt\" stroke-linejoin=\"miter\">\n\t<path stroke=\"rgb(  0,   0,   0)\" d=\"M104.42,164.67 L91.82,164.67  \"/>\t<g transform=\"translate(73.83,167.92)\" stroke=\"none\" fill=\"rgb(38,38,38)\" font-family=\"Arial\" font-size=\"10.00\" text-anchor=\"end\">\n\t\t<text><tspan font-family=\"Arial\">35</tspan></text>\n\t</g>\n</g>\n<g fill=\"none\" color=\"black\" stroke=\"currentColor\" stroke-width=\"1.00\" stroke-linecap=\"butt\" stroke-linejoin=\"miter\">\n</g>\n<g fill=\"none\" color=\"black\" stroke=\"rgb(  0,   0,   0)\" stroke-width=\"0.50\" stroke-linecap=\"butt\" stroke-linejoin=\"miter\">\n</g>\n<g fill=\"none\" color=\"black\" stroke=\"currentColor\" stroke-width=\"0.50\" stroke-linecap=\"butt\" stroke-linejoin=\"miter\">\n\t<path stroke=\"rgb( 38,  38,  38)\" opacity=\"0.15\" class=\"gridline\" d=\"M104.42,129.12 L303.11,52.89  \"/></g>\n<g fill=\"none\" color=\"black\" stroke=\"currentColor\" stroke-width=\"0.50\" stroke-linecap=\"butt\" stroke-linejoin=\"miter\">\n\t<path stroke=\"rgb( 38,  38,  38)\" opacity=\"0.15\" class=\"gridline\" d=\"M303.11,52.89 L455.57,152.23  \"/></g>\n<g fill=\"none\" color=\"black\" stroke=\"rgb( 38,  38,  38)\" stroke-width=\"1.00\" stroke-linecap=\"butt\" stroke-linejoin=\"miter\">\n</g>\n<g fill=\"none\" color=\"black\" stroke=\"currentColor\" stroke-width=\"1.00\" stroke-linecap=\"butt\" stroke-linejoin=\"miter\">\n\t<path stroke=\"rgb(  0,   0,   0)\" d=\"M104.42,129.12 L91.82,129.12  \"/>\t<g transform=\"translate(73.83,132.37)\" stroke=\"none\" fill=\"rgb(38,38,38)\" font-family=\"Arial\" font-size=\"10.00\" text-anchor=\"end\">\n\t\t<text><tspan font-family=\"Arial\">40</tspan></text>\n\t</g>\n</g>\n<g fill=\"none\" color=\"black\" stroke=\"currentColor\" stroke-width=\"1.00\" stroke-linecap=\"butt\" stroke-linejoin=\"miter\">\n</g>\n<g fill=\"none\" color=\"black\" stroke=\"rgb(  0,   0,   0)\" stroke-width=\"0.50\" stroke-linecap=\"butt\" stroke-linejoin=\"miter\">\n</g>\n<g fill=\"none\" color=\"black\" stroke=\"currentColor\" stroke-width=\"0.50\" stroke-linecap=\"butt\" stroke-linejoin=\"miter\">\n\t<path stroke=\"rgb( 38,  38,  38)\" opacity=\"0.15\" class=\"gridline\" d=\"M104.42,93.56 L303.11,17.33  \"/></g>\n<g fill=\"none\" color=\"black\" stroke=\"currentColor\" stroke-width=\"0.50\" stroke-linecap=\"butt\" stroke-linejoin=\"miter\">\n\t<path stroke=\"rgb( 38,  38,  38)\" opacity=\"0.15\" class=\"gridline\" d=\"M303.11,17.33 L455.57,116.68  \"/></g>\n<g fill=\"none\" color=\"black\" stroke=\"rgb( 38,  38,  38)\" stroke-width=\"1.00\" stroke-linecap=\"butt\" stroke-linejoin=\"miter\">\n</g>\n<g fill=\"none\" color=\"black\" stroke=\"currentColor\" stroke-width=\"1.00\" stroke-linecap=\"butt\" stroke-linejoin=\"miter\">\n\t<path stroke=\"rgb(  0,   0,   0)\" d=\"M104.42,93.56 L91.82,93.56  \"/>\t<g transform=\"translate(73.83,96.81)\" stroke=\"none\" fill=\"rgb(38,38,38)\" font-family=\"Arial\" font-size=\"10.00\" text-anchor=\"end\">\n\t\t<text><tspan font-family=\"Arial\">45</tspan></text>\n\t</g>\n</g>\n<g fill=\"none\" color=\"black\" stroke=\"currentColor\" stroke-width=\"1.00\" stroke-linecap=\"butt\" stroke-linejoin=\"miter\">\n</g>\n\t<g id=\"gnuplot_plot_1a\"><title>gnuplot_plot_1a</title>\n<g fill=\"none\" color=\"white\" stroke=\"rgb(  0,   0,   0)\" stroke-width=\"0.50\" stroke-linecap=\"butt\" stroke-linejoin=\"miter\">\n</g>\n<g fill=\"none\" color=\"black\" stroke=\"currentColor\" stroke-width=\"0.50\" stroke-linecap=\"butt\" stroke-linejoin=\"miter\">\n\t<path stroke=\"rgb(  0,   0,   0)\" d=\"M280.00,318.44 L310.19,301.63 L337.43,276.03 L359.05,244.14 L372.93,209.09 L377.71,174.29 L372.93,143.17 L359.05,118.76   L337.43,103.46 L310.19,98.76 L280.00,105.12  \"/></g>\n\t</g>\n\t<g id=\"gnuplot_plot_2a\"><title>gnuplot_plot_2a</title>\n<g fill=\"none\" color=\"black\" stroke=\"currentColor\" stroke-width=\"0.50\" stroke-linecap=\"butt\" stroke-linejoin=\"miter\">\n\t<path stroke=\"rgb(  0,   0,   0)\" d=\"M280.00,318.44 L290.80,294.97 L300.56,263.36 L308.30,226.70 L313.26,188.59 L314.98,152.74 L313.26,122.67 L308.30,101.32   L300.56,90.78 L290.80,92.09 L280.00,105.12  \"/></g>\n\t</g>\n\t<g id=\"gnuplot_plot_3a\"><title>gnuplot_plot_3a</title>\n<g fill=\"none\" color=\"black\" stroke=\"currentColor\" stroke-width=\"0.50\" stroke-linecap=\"butt\" stroke-linejoin=\"miter\">\n\t<path stroke=\"rgb(  0,   0,   0)\" d=\"M280.00,318.44 L267.30,295.28 L255.84,263.95 L246.74,227.51 L240.90,189.54 L238.89,153.73 L240.90,123.61 L246.74,102.12   L255.84,91.37 L267.30,92.40 L280.00,105.12  \"/></g>\n\t</g>\n\t<g id=\"gnuplot_plot_4a\"><title>gnuplot_plot_4a</title>\n<g fill=\"none\" color=\"black\" stroke=\"currentColor\" stroke-width=\"0.50\" stroke-linecap=\"butt\" stroke-linejoin=\"miter\">\n\t<path stroke=\"rgb(  0,   0,   0)\" d=\"M280.00,318.44 L248.64,302.44 L220.34,277.57 L197.89,246.25 L183.47,211.56 L178.50,176.90 L183.47,145.65 L197.89,120.87   L220.34,104.99 L248.64,99.56 L280.00,105.12  \"/></g>\n\t</g>\n\t<g id=\"gnuplot_plot_5a\"><title>gnuplot_plot_5a</title>\n<g fill=\"none\" color=\"black\" stroke=\"currentColor\" stroke-width=\"0.50\" stroke-linecap=\"butt\" stroke-linejoin=\"miter\">\n\t<path stroke=\"rgb(  0,   0,   0)\" d=\"M280.00,318.44 L241.96,313.72 L207.63,299.02 L180.40,275.77 L162.91,246.27 L156.88,213.39 L162.91,180.36 L180.40,150.39   L207.63,126.44 L241.96,110.84 L280.00,105.12  \"/></g>\n\t</g>\n\t<g id=\"gnuplot_plot_6a\"><title>gnuplot_plot_6a</title>\n<g fill=\"none\" color=\"black\" stroke=\"currentColor\" stroke-width=\"0.50\" stroke-linecap=\"butt\" stroke-linejoin=\"miter\">\n\t<path stroke=\"rgb(  0,   0,   0)\" d=\"M280.00,318.44 L249.81,324.80 L222.57,320.10 L200.95,304.80 L187.07,280.39 L182.29,249.26 L187.07,214.47 L200.95,179.42   L222.57,147.53 L249.81,121.93 L280.00,105.12  \"/></g>\n\t</g>\n\t<g id=\"gnuplot_plot_7a\"><title>gnuplot_plot_7a</title>\n<g fill=\"none\" color=\"black\" stroke=\"currentColor\" stroke-width=\"0.50\" stroke-linecap=\"butt\" stroke-linejoin=\"miter\">\n\t<path stroke=\"rgb(  0,   0,   0)\" d=\"M280.00,318.44 L269.20,331.46 L259.44,332.77 L251.70,322.24 L246.74,300.89 L245.02,270.82 L246.74,234.97 L251.70,196.86   L259.44,160.20 L269.20,128.59 L280.00,105.12  \"/></g>\n\t</g>\n\t<g id=\"gnuplot_plot_8a\"><title>gnuplot_plot_8a</title>\n<g fill=\"none\" color=\"black\" stroke=\"currentColor\" stroke-width=\"0.50\" stroke-linecap=\"butt\" stroke-linejoin=\"miter\">\n\t<path stroke=\"rgb(  0,   0,   0)\" d=\"M280.00,318.44 L292.70,331.16 L304.16,332.19 L313.26,321.43 L319.10,299.94 L321.11,269.82 L319.10,234.02 L313.26,196.05   L304.16,159.61 L292.70,128.28 L280.00,105.12  \"/></g>\n\t</g>\n\t<g id=\"gnuplot_plot_9a\"><title>gnuplot_plot_9a</title>\n<g fill=\"none\" color=\"black\" stroke=\"currentColor\" stroke-width=\"0.50\" stroke-linecap=\"butt\" stroke-linejoin=\"miter\">\n\t<path stroke=\"rgb(  0,   0,   0)\" d=\"M280.00,318.44 L311.36,324.00 L339.66,318.57 L362.11,302.69 L376.53,277.91 L381.50,246.66 L376.53,211.99 L362.11,177.31   L339.66,145.99 L311.36,121.12 L280.00,105.12  \"/></g>\n\t</g>\n\t<g id=\"gnuplot_plot_10a\"><title>gnuplot_plot_10a</title>\n<g fill=\"none\" color=\"black\" stroke=\"currentColor\" stroke-width=\"0.50\" stroke-linecap=\"butt\" stroke-linejoin=\"miter\">\n\t<path stroke=\"rgb(  0,   0,   0)\" d=\"M280.00,318.44 L318.04,312.72 L352.37,297.12 L379.60,273.17 L397.09,243.20 L403.12,210.16 L397.09,177.29 L379.60,147.78   L352.37,124.54 L318.04,109.84 L280.00,105.12  \"/></g>\n\t</g>\n\t<g id=\"gnuplot_plot_11a\"><title>gnuplot_plot_11a</title>\n<g fill=\"none\" color=\"black\" stroke=\"currentColor\" stroke-width=\"0.50\" stroke-linecap=\"butt\" stroke-linejoin=\"miter\">\n\t<path stroke=\"rgb(  0,   0,   0)\" d=\"M280.00,318.44 L310.19,301.63 L337.43,276.03 L359.05,244.14 L372.93,209.09 L377.71,174.29 L372.93,143.17 L359.05,118.76   L337.43,103.46 L310.19,98.76 L280.00,105.12  \"/></g>\n\t</g>\n\t<g id=\"gnuplot_plot_12a\"><title>gnuplot_plot_12a</title>\n<g fill=\"none\" color=\"black\" stroke=\"currentColor\" stroke-width=\"0.50\" stroke-linecap=\"butt\" stroke-linejoin=\"miter\">\n\t<path stroke=\"rgb(  0,   0,   0)\" d=\"M280.00,318.44  \"/></g>\n\t</g>\n\t<g id=\"gnuplot_plot_13a\"><title>gnuplot_plot_13a</title>\n<g fill=\"none\" color=\"black\" stroke=\"currentColor\" stroke-width=\"0.50\" stroke-linecap=\"butt\" stroke-linejoin=\"miter\">\n\t<path stroke=\"rgb(  0,   0,   0)\" d=\"M310.19,301.63 L290.80,294.97 L267.30,295.28 L248.64,302.44 L241.96,313.72 L249.81,324.80 L269.20,331.46 L292.70,331.16   L311.36,324.00 L318.04,312.72 L310.19,301.63  \"/></g>\n\t</g>\n\t<g id=\"gnuplot_plot_14a\"><title>gnuplot_plot_14a</title>\n<g fill=\"none\" color=\"black\" stroke=\"currentColor\" stroke-width=\"0.50\" stroke-linecap=\"butt\" stroke-linejoin=\"miter\">\n\t<path stroke=\"rgb(  0,   0,   0)\" d=\"M337.43,276.03 L300.56,263.36 L255.84,263.95 L220.34,277.57 L207.63,299.02 L222.57,320.10 L259.44,332.77 L304.16,332.19   L339.66,318.57 L352.37,297.12 L337.43,276.03  \"/></g>\n\t</g>\n\t<g id=\"gnuplot_plot_15a\"><title>gnuplot_plot_15a</title>\n<g fill=\"none\" color=\"black\" stroke=\"currentColor\" stroke-width=\"0.50\" stroke-linecap=\"butt\" stroke-linejoin=\"miter\">\n\t<path stroke=\"rgb(  0,   0,   0)\" d=\"M359.05,244.14 L308.30,226.70 L246.74,227.51 L197.89,246.25 L180.40,275.77 L200.95,304.80 L251.70,322.24 L313.26,321.43   L362.11,302.69 L379.60,273.17 L359.05,244.14  \"/></g>\n\t</g>\n\t<g id=\"gnuplot_plot_16a\"><title>gnuplot_plot_16a</title>\n<g fill=\"none\" color=\"black\" stroke=\"currentColor\" stroke-width=\"0.50\" stroke-linecap=\"butt\" stroke-linejoin=\"miter\">\n\t<path stroke=\"rgb(  0,   0,   0)\" d=\"M372.93,209.09 L313.26,188.59 L240.90,189.54 L183.47,211.56 L162.91,246.27 L187.07,280.39 L246.74,300.89 L319.10,299.94   L376.53,277.91 L397.09,243.20 L372.93,209.09  \"/></g>\n\t</g>\n\t<g id=\"gnuplot_plot_17a\"><title>gnuplot_plot_17a</title>\n<g fill=\"none\" color=\"black\" stroke=\"currentColor\" stroke-width=\"0.50\" stroke-linecap=\"butt\" stroke-linejoin=\"miter\">\n\t<path stroke=\"rgb(  0,   0,   0)\" d=\"M377.71,174.29 L314.98,152.74 L238.89,153.73 L178.50,176.90 L156.88,213.39 L182.29,249.26 L245.02,270.82 L321.11,269.82   L381.50,246.66 L403.12,210.16 L377.71,174.29  \"/></g>\n\t</g>\n\t<g id=\"gnuplot_plot_18a\"><title>gnuplot_plot_18a</title>\n<g fill=\"none\" color=\"black\" stroke=\"currentColor\" stroke-width=\"0.50\" stroke-linecap=\"butt\" stroke-linejoin=\"miter\">\n\t<path stroke=\"rgb(  0,   0,   0)\" d=\"M372.93,143.17 L313.26,122.67 L240.90,123.61 L183.47,145.65 L162.91,180.36 L187.07,214.47 L246.74,234.97 L319.10,234.02   L376.53,211.99 L397.09,177.29 L372.93,143.17  \"/></g>\n\t</g>\n\t<g id=\"gnuplot_plot_19a\"><title>gnuplot_plot_19a</title>\n<g fill=\"none\" color=\"black\" stroke=\"currentColor\" stroke-width=\"0.50\" stroke-linecap=\"butt\" stroke-linejoin=\"miter\">\n\t<path stroke=\"rgb(  0,   0,   0)\" d=\"M359.05,118.76 L308.30,101.32 L246.74,102.12 L197.89,120.87 L180.40,150.39 L200.95,179.42 L251.70,196.86 L313.26,196.05   L362.11,177.31 L379.60,147.78 L359.05,118.76  \"/></g>\n\t</g>\n\t<g id=\"gnuplot_plot_20a\"><title>gnuplot_plot_20a</title>\n<g fill=\"none\" color=\"black\" stroke=\"currentColor\" stroke-width=\"0.50\" stroke-linecap=\"butt\" stroke-linejoin=\"miter\">\n\t<path stroke=\"rgb(  0,   0,   0)\" d=\"M337.43,103.46 L300.56,90.78 L255.84,91.37 L220.34,104.99 L207.63,126.44 L222.57,147.53 L259.44,160.20 L304.16,159.61   L339.66,145.99 L352.37,124.54 L337.43,103.46  \"/></g>\n\t</g>\n\t<g id=\"gnuplot_plot_21a\"><title>gnuplot_plot_21a</title>\n<g fill=\"none\" color=\"black\" stroke=\"currentColor\" stroke-width=\"0.50\" stroke-linecap=\"butt\" stroke-linejoin=\"miter\">\n\t<path stroke=\"rgb(  0,   0,   0)\" d=\"M310.19,98.76 L290.80,92.09 L267.30,92.40 L248.64,99.56 L241.96,110.84 L249.81,121.93 L269.20,128.59 L292.70,128.28   L311.36,121.12 L318.04,109.84 L310.19,98.76  \"/></g>\n\t</g>\n\t<g id=\"gnuplot_plot_22a\"><title>gnuplot_plot_22a</title>\n<g fill=\"none\" color=\"black\" stroke=\"currentColor\" stroke-width=\"0.50\" stroke-linecap=\"butt\" stroke-linejoin=\"miter\">\n\t<path stroke=\"rgb(  0,   0,   0)\" d=\"M280.00,105.12  \"/></g>\n\t</g>\n\t<g id=\"gnuplot_plot_23a\"><title>gnuplot_plot_23a</title>\n<g fill=\"none\" color=\"black\" stroke=\"currentColor\" stroke-width=\"0.50\" stroke-linecap=\"butt\" stroke-linejoin=\"miter\">\n\t<path stroke=\"rgb( 68,   1,  84)\" d=\"M284.26,271.38 L301.27,311.34  \"/>\t<path stroke=\"rgb( 70,   7,  90)\" d=\"M298.49,310.11 L298.46,310.27 M292.79,311.53 L291.49,312.05  \"/>\t<path stroke=\"rgb( 68,   1,  84)\" d=\"M269.84,104.04 L300.54,308.62 M218.73,313.04 L294.08,309.79 M271.55,247.16 L304.20,310.98  \"/>\t<path stroke=\"rgb( 70,   7,  90)\" d=\"M304.73,308.37 L300.77,309.91 M308.57,311.09 L303.35,312.39 M305.31,304.49 L303.24,308.76 M300.74,313.19 L299.00,313.71    \"/>\t<path stroke=\"rgb( 68,   1,  84)\" d=\"M257.48,277.96 L307.49,310.98 M288.27,200.46 L296.04,308.61  \"/>\t<path stroke=\"rgb( 70,   7,  90)\" d=\"M294.96,307.60 L294.90,307.98  \"/>\t<path stroke=\"rgb( 68,   1,  84)\" d=\"M271.29,103.13 L301.83,307.77  \"/>\t<path stroke=\"rgb( 70,   7,  90)\" d=\"M292.97,310.14 L291.66,310.66 M303.99,302.18 L302.78,307.56 M307.88,305.82 L305.46,310.33 M308.27,305.64 L306.13,310.52   M305.37,306.69 L302.02,309.30 M303.77,313.47 L303.73,313.71 M302.58,302.26 L300.78,306.88 M293.92,310.91 L292.61,311.43    \"/>\t<path stroke=\"rgb( 68,   1,  84)\" d=\"M278.37,177.12 L295.43,311.83 M273.33,281.11 L293.84,308.54  \"/>\t<path stroke=\"rgb( 70,   7,  90)\" d=\"M300.85,312.36 L299.11,312.87 M301.43,306.11 L297.43,307.68 M310.04,309.33 L305.76,312.14  \"/>\t<path stroke=\"rgb( 68,   1,  84)\" d=\"M275.47,283.33 L297.78,309.56 M306.21,291.33 L303.40,309.12 M202.51,255.88 L306.84,312.48 M269.84,103.81 L300.52,308.39    \"/>\t<path stroke=\"rgb( 70,   7,  90)\" d=\"M304.47,311.93 L303.30,314.54  \"/>\t<path stroke=\"rgb( 68,   1,  84)\" d=\"M181.09,223.97 L300.52,312.58  \"/>\t<path stroke=\"rgb( 70,   7,  90)\" d=\"M302.17,303.40 L299.52,306.94 M302.10,310.18 L301.66,312.78 M299.18,313.97 L297.47,314.48  \"/>\t<path stroke=\"rgb( 68,   1,  84)\" d=\"M290.80,289.20 L303.12,309.48 M343.36,267.30 L299.92,311.00 M266.89,103.59 L297.71,308.12  \"/>\t<path stroke=\"rgb( 70,   7,  90)\" d=\"M303.61,312.38 L303.39,313.68 M305.00,306.93 L301.36,309.17 M299.95,309.61 L298.69,311.61  \"/>\t<path stroke=\"rgb( 68,   1,  84)\" d=\"M244.84,321.18 L299.45,313.69 M220.44,313.91 L295.98,309.88 M278.49,176.41 L295.33,311.52  \"/>\t<path stroke=\"rgb( 70,   7,  90)\" d=\"M300.79,308.53 L299.98,312.05 M301.99,306.25 L297.94,307.83  \"/>\t<path stroke=\"rgb( 68,   1,  84)\" d=\"M265.78,103.72 L296.68,308.23 M255.53,102.23 L302.29,311.72 M268.26,103.18 L298.97,307.74  \"/>\t<path stroke=\"rgb( 70,   7,  90)\" d=\"M296.47,310.12 L295.16,310.65 M304.19,311.52 L303.74,314.14  \"/>\t<path stroke=\"rgb( 68,   1,  84)\" d=\"M266.04,103.88 L296.93,308.38 M258.90,100.22 L305.45,310.63 M333.17,316.69 L296.49,312.21  \"/>\t<path stroke=\"rgb( 70,   7,  90)\" d=\"M308.71,306.98 L305.72,311.00 M298.61,313.94 L296.91,314.45 M301.23,307.74 L297.61,309.16 M308.69,305.79 L306.58,310.79    \"/>\t<path stroke=\"rgb( 68,   1,  84)\" d=\"M283.36,211.64 L300.55,312.96 M270.46,102.57 L300.99,307.20 M221.19,139.84 L304.79,313.23  \"/>\t<path stroke=\"rgb( 70,   7,  90)\" d=\"M308.59,309.19 L303.90,311.29 M303.07,306.93 L299.02,308.51  \"/>\t<path stroke=\"rgb( 68,   1,  84)\" d=\"M272.03,103.14 L302.52,307.79  \"/>\t<path stroke=\"rgb( 70,   7,  90)\" d=\"M295.41,308.39 L294.09,308.92  \"/>\t<path stroke=\"rgb( 68,   1,  84)\" d=\"M293.74,92.21 L297.91,314.15 M255.15,103.21 L301.96,312.47 M291.76,245.02 L298.86,307.15 M285.79,126.14 L297.81,312.14   M285.60,95.96 L294.81,314.34  \"/>\t<path stroke=\"rgb( 70,   7,  90)\" d=\"M304.40,305.15 L304.00,307.52 M306.70,307.63 L302.49,309.94 M306.75,305.15 L306.06,309.16  \"/>\t<path stroke=\"rgb( 68,   1,  84)\" d=\"M297.11,93.93 L297.71,314.02 M291.04,129.38 L193.66,203.29 L296.18,308.03 M297.65,312.22 L294.75,307.66  \"/>\t<path stroke=\"rgb( 70,   7,  90)\" d=\"M310.62,311.02 L305.28,312.75 M301.39,308.60 L300.66,312.42  \"/>\t<path stroke=\"rgb( 68,   1,  84)\" d=\"M246.15,281.03 L301.43,314.74  \"/>\t<path stroke=\"rgb( 70,   7,  90)\" d=\"M293.59,309.66 L292.28,310.19  \"/>\t<path stroke=\"rgb( 68,   1,  84)\" d=\"M256.70,100.24 L303.33,310.17 M342.28,198.81 L292.30,310.63  \"/>\t<path stroke=\"rgb( 70,   7,  90)\" d=\"M301.45,312.26 L299.69,312.78 M296.11,305.71 L295.36,309.00 M293.54,309.80 L292.24,310.32 M294.41,309.52 L293.10,310.04    \"/>\t<path stroke=\"rgb( 68,   1,  84)\" d=\"M268.30,105.50 L299.22,310.01 M244.10,321.14 L300.08,313.38  \"/>\t<path stroke=\"rgb( 70,   7,  90)\" d=\"M295.50,309.57 L294.19,310.09 M310.19,309.22 L306.05,312.21  \"/>\t<path stroke=\"rgb( 68,   1,  84)\" d=\"M256.97,101.48 L303.66,311.40  \"/>\t<path stroke=\"rgb( 70,   7,  90)\" d=\"M295.01,312.85 L293.38,313.34  \"/>\t<path stroke=\"rgb( 68,   1,  84)\" d=\"M257.12,99.91 L303.71,309.92 M186.33,219.96 L306.19,311.59  \"/>\t<path stroke=\"rgb( 70,   7,  90)\" d=\"M305.85,309.40 L300.99,310.60 M308.10,306.70 L305.10,310.60 M295.96,312.19 L294.66,312.71  \"/>\t<path stroke=\"rgb( 68,   1,  84)\" d=\"M324.89,203.58 L298.42,311.55 M258.09,101.46 L304.73,311.63  \"/></g>\n\t</g>\n\t<g id=\"gnuplot_plot_24a\"><title>gnuplot_plot_24a</title>\n<g fill=\"none\" color=\"black\" stroke=\"currentColor\" stroke-width=\"0.50\" stroke-linecap=\"butt\" stroke-linejoin=\"miter\">\n\t<use xlink:href=\"#gpPt6\" transform=\"translate(304.73,311.63) scale(1.50)\" color=\"rgb(255,   0,   0)\"/>\n\t<use xlink:href=\"#gpPt6\" transform=\"translate(258.09,101.46) scale(1.50)\" color=\"rgb(255,   0,   0)\"/>\n\t<use xlink:href=\"#gpPt6\" transform=\"translate(298.42,311.55) scale(1.50)\" color=\"rgb(255,   0,   0)\"/>\n\t<use xlink:href=\"#gpPt6\" transform=\"translate(324.89,203.58) scale(1.50)\" color=\"rgb(255,   0,   0)\"/>\n\t<use xlink:href=\"#gpPt6\" transform=\"translate(294.66,312.71) scale(1.50)\" color=\"rgb(255,   0,   0)\"/>\n\t<use xlink:href=\"#gpPt6\" transform=\"translate(295.96,312.19) scale(1.50)\" color=\"rgb(255,   0,   0)\"/>\n\t<use xlink:href=\"#gpPt6\" transform=\"translate(305.10,310.60) scale(1.50)\" color=\"rgb(255,   0,   0)\"/>\n\t<use xlink:href=\"#gpPt6\" transform=\"translate(308.10,306.70) scale(1.50)\" color=\"rgb(255,   0,   0)\"/>\n\t<use xlink:href=\"#gpPt6\" transform=\"translate(300.99,310.60) scale(1.50)\" color=\"rgb(255,   0,   0)\"/>\n\t<use xlink:href=\"#gpPt6\" transform=\"translate(305.85,309.40) scale(1.50)\" color=\"rgb(255,   0,   0)\"/>\n\t<use xlink:href=\"#gpPt6\" transform=\"translate(306.19,311.59) scale(1.50)\" color=\"rgb(255,   0,   0)\"/>\n\t<use xlink:href=\"#gpPt6\" transform=\"translate(186.33,219.96) scale(1.50)\" color=\"rgb(255,   0,   0)\"/>\n\t<use xlink:href=\"#gpPt6\" transform=\"translate(303.71,309.92) scale(1.50)\" color=\"rgb(255,   0,   0)\"/>\n\t<use xlink:href=\"#gpPt6\" transform=\"translate(257.12,99.91) scale(1.50)\" color=\"rgb(255,   0,   0)\"/>\n\t<use xlink:href=\"#gpPt6\" transform=\"translate(293.38,313.34) scale(1.50)\" color=\"rgb(255,   0,   0)\"/>\n\t<use xlink:href=\"#gpPt6\" transform=\"translate(295.01,312.85) scale(1.50)\" color=\"rgb(255,   0,   0)\"/>\n\t<use xlink:href=\"#gpPt6\" transform=\"translate(303.66,311.40) scale(1.50)\" color=\"rgb(255,   0,   0)\"/>\n\t<use xlink:href=\"#gpPt6\" transform=\"translate(256.97,101.48) scale(1.50)\" color=\"rgb(255,   0,   0)\"/>\n\t<use xlink:href=\"#gpPt6\" transform=\"translate(306.05,312.21) scale(1.50)\" color=\"rgb(255,   0,   0)\"/>\n\t<use xlink:href=\"#gpPt6\" transform=\"translate(310.19,309.22) scale(1.50)\" color=\"rgb(255,   0,   0)\"/>\n\t<use xlink:href=\"#gpPt6\" transform=\"translate(294.19,310.09) scale(1.50)\" color=\"rgb(255,   0,   0)\"/>\n\t<use xlink:href=\"#gpPt6\" transform=\"translate(295.50,309.57) scale(1.50)\" color=\"rgb(255,   0,   0)\"/>\n\t<use xlink:href=\"#gpPt6\" transform=\"translate(300.08,313.38) scale(1.50)\" color=\"rgb(255,   0,   0)\"/>\n\t<use xlink:href=\"#gpPt6\" transform=\"translate(244.10,321.14) scale(1.50)\" color=\"rgb(255,   0,   0)\"/>\n\t<use xlink:href=\"#gpPt6\" transform=\"translate(299.22,310.01) scale(1.50)\" color=\"rgb(255,   0,   0)\"/>\n\t<use xlink:href=\"#gpPt6\" transform=\"translate(268.30,105.50) scale(1.50)\" color=\"rgb(255,   0,   0)\"/>\n\t<use xlink:href=\"#gpPt6\" transform=\"translate(293.10,310.04) scale(1.50)\" color=\"rgb(255,   0,   0)\"/>\n\t<use xlink:href=\"#gpPt6\" transform=\"translate(294.41,309.52) scale(1.50)\" color=\"rgb(255,   0,   0)\"/>\n\t<use xlink:href=\"#gpPt6\" transform=\"translate(292.24,310.32) scale(1.50)\" color=\"rgb(255,   0,   0)\"/>\n\t<use xlink:href=\"#gpPt6\" transform=\"translate(293.54,309.80) scale(1.50)\" color=\"rgb(255,   0,   0)\"/>\n\t<use xlink:href=\"#gpPt6\" transform=\"translate(295.36,309.00) scale(1.50)\" color=\"rgb(255,   0,   0)\"/>\n\t<use xlink:href=\"#gpPt6\" transform=\"translate(296.11,305.71) scale(1.50)\" color=\"rgb(255,   0,   0)\"/>\n\t<use xlink:href=\"#gpPt6\" transform=\"translate(299.69,312.78) scale(1.50)\" color=\"rgb(255,   0,   0)\"/>\n\t<use xlink:href=\"#gpPt6\" transform=\"translate(301.45,312.26) scale(1.50)\" color=\"rgb(255,   0,   0)\"/>\n\t<use xlink:href=\"#gpPt6\" transform=\"translate(292.30,310.63) scale(1.50)\" color=\"rgb(255,   0,   0)\"/>\n\t<use xlink:href=\"#gpPt6\" transform=\"translate(342.28,198.81) scale(1.50)\" color=\"rgb(255,   0,   0)\"/>\n\t<use xlink:href=\"#gpPt6\" transform=\"translate(303.33,310.17) scale(1.50)\" color=\"rgb(255,   0,   0)\"/>\n\t<use xlink:href=\"#gpPt6\" transform=\"translate(256.70,100.24) scale(1.50)\" color=\"rgb(255,   0,   0)\"/>\n\t<use xlink:href=\"#gpPt6\" transform=\"translate(292.28,310.19) scale(1.50)\" color=\"rgb(255,   0,   0)\"/>\n\t<use xlink:href=\"#gpPt6\" transform=\"translate(293.59,309.66) scale(1.50)\" color=\"rgb(255,   0,   0)\"/>\n\t<use xlink:href=\"#gpPt6\" transform=\"translate(301.43,314.74) scale(1.50)\" color=\"rgb(255,   0,   0)\"/>\n\t<use xlink:href=\"#gpPt6\" transform=\"translate(246.15,281.03) scale(1.50)\" color=\"rgb(255,   0,   0)\"/>\n\t<use xlink:href=\"#gpPt6\" transform=\"translate(300.66,312.42) scale(1.50)\" color=\"rgb(255,   0,   0)\"/>\n\t<use xlink:href=\"#gpPt6\" transform=\"translate(301.39,308.60) scale(1.50)\" color=\"rgb(255,   0,   0)\"/>\n\t<use xlink:href=\"#gpPt6\" transform=\"translate(305.28,312.75) scale(1.50)\" color=\"rgb(255,   0,   0)\"/>\n\t<use xlink:href=\"#gpPt6\" transform=\"translate(310.62,311.02) scale(1.50)\" color=\"rgb(255,   0,   0)\"/>\n\t<use xlink:href=\"#gpPt6\" transform=\"translate(294.75,307.66) scale(1.50)\" color=\"rgb(255,   0,   0)\"/>\n\t<use xlink:href=\"#gpPt6\" transform=\"translate(297.65,312.22) scale(1.50)\" color=\"rgb(255,   0,   0)\"/>\n\t<use xlink:href=\"#gpPt6\" transform=\"translate(296.18,308.03) scale(1.50)\" color=\"rgb(255,   0,   0)\"/>\n\t<use xlink:href=\"#gpPt6\" transform=\"translate(193.66,203.29) scale(1.50)\" color=\"rgb(255,   0,   0)\"/>\n\t<use xlink:href=\"#gpPt6\" transform=\"translate(291.04,129.38) scale(1.50)\" color=\"rgb(255,   0,   0)\"/>\n\t<use xlink:href=\"#gpPt6\" transform=\"translate(297.71,314.02) scale(1.50)\" color=\"rgb(255,   0,   0)\"/>\n\t<use xlink:href=\"#gpPt6\" transform=\"translate(297.11,93.93) scale(1.50)\" color=\"rgb(255,   0,   0)\"/>\n\t<use xlink:href=\"#gpPt6\" transform=\"translate(306.06,309.16) scale(1.50)\" color=\"rgb(255,   0,   0)\"/>\n\t<use xlink:href=\"#gpPt6\" transform=\"translate(306.75,305.15) scale(1.50)\" color=\"rgb(255,   0,   0)\"/>\n\t<use xlink:href=\"#gpPt6\" transform=\"translate(302.49,309.94) scale(1.50)\" color=\"rgb(255,   0,   0)\"/>\n\t<use xlink:href=\"#gpPt6\" transform=\"translate(306.70,307.63) scale(1.50)\" color=\"rgb(255,   0,   0)\"/>\n\t<use xlink:href=\"#gpPt6\" transform=\"translate(304.00,307.52) scale(1.50)\" color=\"rgb(255,   0,   0)\"/>\n\t<use xlink:href=\"#gpPt6\" transform=\"translate(304.40,305.15) scale(1.50)\" color=\"rgb(255,   0,   0)\"/>\n\t<use xlink:href=\"#gpPt6\" transform=\"translate(294.81,314.34) scale(1.50)\" color=\"rgb(255,   0,   0)\"/>\n\t<use xlink:href=\"#gpPt6\" transform=\"translate(285.60,95.96) scale(1.50)\" color=\"rgb(255,   0,   0)\"/>\n\t<use xlink:href=\"#gpPt6\" transform=\"translate(297.81,312.14) scale(1.50)\" color=\"rgb(255,   0,   0)\"/>\n\t<use xlink:href=\"#gpPt6\" transform=\"translate(285.79,126.14) scale(1.50)\" color=\"rgb(255,   0,   0)\"/>\n\t<use xlink:href=\"#gpPt6\" transform=\"translate(298.86,307.15) scale(1.50)\" color=\"rgb(255,   0,   0)\"/>\n\t<use xlink:href=\"#gpPt6\" transform=\"translate(291.76,245.02) scale(1.50)\" color=\"rgb(255,   0,   0)\"/>\n\t<use xlink:href=\"#gpPt6\" transform=\"translate(301.96,312.47) scale(1.50)\" color=\"rgb(255,   0,   0)\"/>\n\t<use xlink:href=\"#gpPt6\" transform=\"translate(255.15,103.21) scale(1.50)\" color=\"rgb(255,   0,   0)\"/>\n\t<use xlink:href=\"#gpPt6\" transform=\"translate(297.91,314.15) scale(1.50)\" color=\"rgb(255,   0,   0)\"/>\n\t<use xlink:href=\"#gpPt6\" transform=\"translate(293.74,92.21) scale(1.50)\" color=\"rgb(255,   0,   0)\"/>\n\t<use xlink:href=\"#gpPt6\" transform=\"translate(294.09,308.92) scale(1.50)\" color=\"rgb(255,   0,   0)\"/>\n\t<use xlink:href=\"#gpPt6\" transform=\"translate(295.41,308.39) scale(1.50)\" color=\"rgb(255,   0,   0)\"/>\n\t<use xlink:href=\"#gpPt6\" transform=\"translate(302.52,307.79) scale(1.50)\" color=\"rgb(255,   0,   0)\"/>\n\t<use xlink:href=\"#gpPt6\" transform=\"translate(272.03,103.14) scale(1.50)\" color=\"rgb(255,   0,   0)\"/>\n\t<use xlink:href=\"#gpPt6\" transform=\"translate(299.02,308.51) scale(1.50)\" color=\"rgb(255,   0,   0)\"/>\n\t<use xlink:href=\"#gpPt6\" transform=\"translate(303.07,306.93) scale(1.50)\" color=\"rgb(255,   0,   0)\"/>\n\t<use xlink:href=\"#gpPt6\" transform=\"translate(303.90,311.29) scale(1.50)\" color=\"rgb(255,   0,   0)\"/>\n\t<use xlink:href=\"#gpPt6\" transform=\"translate(308.59,309.19) scale(1.50)\" color=\"rgb(255,   0,   0)\"/>\n\t<use xlink:href=\"#gpPt6\" transform=\"translate(304.79,313.23) scale(1.50)\" color=\"rgb(255,   0,   0)\"/>\n\t<use xlink:href=\"#gpPt6\" transform=\"translate(221.19,139.84) scale(1.50)\" color=\"rgb(255,   0,   0)\"/>\n\t<use xlink:href=\"#gpPt6\" transform=\"translate(300.99,307.20) scale(1.50)\" color=\"rgb(255,   0,   0)\"/>\n\t<use xlink:href=\"#gpPt6\" transform=\"translate(270.46,102.57) scale(1.50)\" color=\"rgb(255,   0,   0)\"/>\n\t<use xlink:href=\"#gpPt6\" transform=\"translate(300.55,312.96) scale(1.50)\" color=\"rgb(255,   0,   0)\"/>\n\t<use xlink:href=\"#gpPt6\" transform=\"translate(283.36,211.64) scale(1.50)\" color=\"rgb(255,   0,   0)\"/>\n\t<use xlink:href=\"#gpPt6\" transform=\"translate(306.58,310.79) scale(1.50)\" color=\"rgb(255,   0,   0)\"/>\n\t<use xlink:href=\"#gpPt6\" transform=\"translate(308.69,305.79) scale(1.50)\" color=\"rgb(255,   0,   0)\"/>\n\t<use xlink:href=\"#gpPt6\" transform=\"translate(297.61,309.16) scale(1.50)\" color=\"rgb(255,   0,   0)\"/>\n\t<use xlink:href=\"#gpPt6\" transform=\"translate(301.23,307.74) scale(1.50)\" color=\"rgb(255,   0,   0)\"/>\n\t<use xlink:href=\"#gpPt6\" transform=\"translate(296.91,314.45) scale(1.50)\" color=\"rgb(255,   0,   0)\"/>\n\t<use xlink:href=\"#gpPt6\" transform=\"translate(298.61,313.94) scale(1.50)\" color=\"rgb(255,   0,   0)\"/>\n\t<use xlink:href=\"#gpPt6\" transform=\"translate(305.72,311.00) scale(1.50)\" color=\"rgb(255,   0,   0)\"/>\n\t<use xlink:href=\"#gpPt6\" transform=\"translate(308.71,306.98) scale(1.50)\" color=\"rgb(255,   0,   0)\"/>\n\t<use xlink:href=\"#gpPt6\" transform=\"translate(296.49,312.21) scale(1.50)\" color=\"rgb(255,   0,   0)\"/>\n\t<use xlink:href=\"#gpPt6\" transform=\"translate(333.17,316.69) scale(1.50)\" color=\"rgb(255,   0,   0)\"/>\n\t<use xlink:href=\"#gpPt6\" transform=\"translate(305.45,310.63) scale(1.50)\" color=\"rgb(255,   0,   0)\"/>\n\t<use xlink:href=\"#gpPt6\" transform=\"translate(258.90,100.22) scale(1.50)\" color=\"rgb(255,   0,   0)\"/>\n\t<use xlink:href=\"#gpPt6\" transform=\"translate(296.93,308.38) scale(1.50)\" color=\"rgb(255,   0,   0)\"/>\n\t<use xlink:href=\"#gpPt6\" transform=\"translate(266.04,103.88) scale(1.50)\" color=\"rgb(255,   0,   0)\"/>\n\t<use xlink:href=\"#gpPt6\" transform=\"translate(303.74,314.14) scale(1.50)\" color=\"rgb(255,   0,   0)\"/>\n\t<use xlink:href=\"#gpPt6\" transform=\"translate(304.19,311.52) scale(1.50)\" color=\"rgb(255,   0,   0)\"/>\n\t<use xlink:href=\"#gpPt6\" transform=\"translate(295.16,310.65) scale(1.50)\" color=\"rgb(255,   0,   0)\"/>\n\t<use xlink:href=\"#gpPt6\" transform=\"translate(296.47,310.12) scale(1.50)\" color=\"rgb(255,   0,   0)\"/>\n\t<use xlink:href=\"#gpPt6\" transform=\"translate(298.97,307.74) scale(1.50)\" color=\"rgb(255,   0,   0)\"/>\n\t<use xlink:href=\"#gpPt6\" transform=\"translate(268.26,103.18) scale(1.50)\" color=\"rgb(255,   0,   0)\"/>\n\t<use xlink:href=\"#gpPt6\" transform=\"translate(302.29,311.72) scale(1.50)\" color=\"rgb(255,   0,   0)\"/>\n\t<use xlink:href=\"#gpPt6\" transform=\"translate(255.53,102.23) scale(1.50)\" color=\"rgb(255,   0,   0)\"/>\n\t<use xlink:href=\"#gpPt6\" transform=\"translate(296.68,308.23) scale(1.50)\" color=\"rgb(255,   0,   0)\"/>\n\t<use xlink:href=\"#gpPt6\" transform=\"translate(265.78,103.72) scale(1.50)\" color=\"rgb(255,   0,   0)\"/>\n\t<use xlink:href=\"#gpPt6\" transform=\"translate(297.94,307.83) scale(1.50)\" color=\"rgb(255,   0,   0)\"/>\n\t<use xlink:href=\"#gpPt6\" transform=\"translate(301.99,306.25) scale(1.50)\" color=\"rgb(255,   0,   0)\"/>\n\t<use xlink:href=\"#gpPt6\" transform=\"translate(299.98,312.05) scale(1.50)\" color=\"rgb(255,   0,   0)\"/>\n\t<use xlink:href=\"#gpPt6\" transform=\"translate(300.79,308.53) scale(1.50)\" color=\"rgb(255,   0,   0)\"/>\n\t<use xlink:href=\"#gpPt6\" transform=\"translate(295.33,311.52) scale(1.50)\" color=\"rgb(255,   0,   0)\"/>\n\t<use xlink:href=\"#gpPt6\" transform=\"translate(278.49,176.41) scale(1.50)\" color=\"rgb(255,   0,   0)\"/>\n\t<use xlink:href=\"#gpPt6\" transform=\"translate(295.98,309.88) scale(1.50)\" color=\"rgb(255,   0,   0)\"/>\n\t<use xlink:href=\"#gpPt6\" transform=\"translate(220.44,313.91) scale(1.50)\" color=\"rgb(255,   0,   0)\"/>\n\t<use xlink:href=\"#gpPt6\" transform=\"translate(299.45,313.69) scale(1.50)\" color=\"rgb(255,   0,   0)\"/>\n\t<use xlink:href=\"#gpPt6\" transform=\"translate(244.84,321.18) scale(1.50)\" color=\"rgb(255,   0,   0)\"/>\n\t<use xlink:href=\"#gpPt6\" transform=\"translate(298.69,311.61) scale(1.50)\" color=\"rgb(255,   0,   0)\"/>\n\t<use xlink:href=\"#gpPt6\" transform=\"translate(299.95,309.61) scale(1.50)\" color=\"rgb(255,   0,   0)\"/>\n\t<use xlink:href=\"#gpPt6\" transform=\"translate(301.36,309.17) scale(1.50)\" color=\"rgb(255,   0,   0)\"/>\n\t<use xlink:href=\"#gpPt6\" transform=\"translate(305.00,306.93) scale(1.50)\" color=\"rgb(255,   0,   0)\"/>\n\t<use xlink:href=\"#gpPt6\" transform=\"translate(303.39,313.68) scale(1.50)\" color=\"rgb(255,   0,   0)\"/>\n\t<use xlink:href=\"#gpPt6\" transform=\"translate(303.61,312.38) scale(1.50)\" color=\"rgb(255,   0,   0)\"/>\n\t<use xlink:href=\"#gpPt6\" transform=\"translate(297.71,308.12) scale(1.50)\" color=\"rgb(255,   0,   0)\"/>\n\t<use xlink:href=\"#gpPt6\" transform=\"translate(266.89,103.59) scale(1.50)\" color=\"rgb(255,   0,   0)\"/>\n\t<use xlink:href=\"#gpPt6\" transform=\"translate(299.92,311.00) scale(1.50)\" color=\"rgb(255,   0,   0)\"/>\n\t<use xlink:href=\"#gpPt6\" transform=\"translate(343.36,267.30) scale(1.50)\" color=\"rgb(255,   0,   0)\"/>\n\t<use xlink:href=\"#gpPt6\" transform=\"translate(303.12,309.48) scale(1.50)\" color=\"rgb(255,   0,   0)\"/>\n\t<use xlink:href=\"#gpPt6\" transform=\"translate(290.80,289.20) scale(1.50)\" color=\"rgb(255,   0,   0)\"/>\n\t<use xlink:href=\"#gpPt6\" transform=\"translate(297.47,314.48) scale(1.50)\" color=\"rgb(255,   0,   0)\"/>\n\t<use xlink:href=\"#gpPt6\" transform=\"translate(299.18,313.97) scale(1.50)\" color=\"rgb(255,   0,   0)\"/>\n\t<use xlink:href=\"#gpPt6\" transform=\"translate(301.66,312.78) scale(1.50)\" color=\"rgb(255,   0,   0)\"/>\n\t<use xlink:href=\"#gpPt6\" transform=\"translate(302.10,310.18) scale(1.50)\" color=\"rgb(255,   0,   0)\"/>\n\t<use xlink:href=\"#gpPt6\" transform=\"translate(299.52,306.94) scale(1.50)\" color=\"rgb(255,   0,   0)\"/>\n\t<use xlink:href=\"#gpPt6\" transform=\"translate(302.17,303.40) scale(1.50)\" color=\"rgb(255,   0,   0)\"/>\n\t<use xlink:href=\"#gpPt6\" transform=\"translate(300.52,312.58) scale(1.50)\" color=\"rgb(255,   0,   0)\"/>\n\t<use xlink:href=\"#gpPt6\" transform=\"translate(181.09,223.97) scale(1.50)\" color=\"rgb(255,   0,   0)\"/>\n\t<use xlink:href=\"#gpPt6\" transform=\"translate(303.30,314.54) scale(1.50)\" color=\"rgb(255,   0,   0)\"/>\n\t<use xlink:href=\"#gpPt6\" transform=\"translate(304.47,311.93) scale(1.50)\" color=\"rgb(255,   0,   0)\"/>\n\t<use xlink:href=\"#gpPt6\" transform=\"translate(300.52,308.39) scale(1.50)\" color=\"rgb(255,   0,   0)\"/>\n\t<use xlink:href=\"#gpPt6\" transform=\"translate(269.84,103.81) scale(1.50)\" color=\"rgb(255,   0,   0)\"/>\n\t<use xlink:href=\"#gpPt6\" transform=\"translate(306.84,312.48) scale(1.50)\" color=\"rgb(255,   0,   0)\"/>\n\t<use xlink:href=\"#gpPt6\" transform=\"translate(202.51,255.88) scale(1.50)\" color=\"rgb(255,   0,   0)\"/>\n\t<use xlink:href=\"#gpPt6\" transform=\"translate(303.40,309.12) scale(1.50)\" color=\"rgb(255,   0,   0)\"/>\n\t<use xlink:href=\"#gpPt6\" transform=\"translate(306.21,291.33) scale(1.50)\" color=\"rgb(255,   0,   0)\"/>\n\t<use xlink:href=\"#gpPt6\" transform=\"translate(297.78,309.56) scale(1.50)\" color=\"rgb(255,   0,   0)\"/>\n\t<use xlink:href=\"#gpPt6\" transform=\"translate(275.47,283.33) scale(1.50)\" color=\"rgb(255,   0,   0)\"/>\n\t<use xlink:href=\"#gpPt6\" transform=\"translate(305.76,312.14) scale(1.50)\" color=\"rgb(255,   0,   0)\"/>\n\t<use xlink:href=\"#gpPt6\" transform=\"translate(310.04,309.33) scale(1.50)\" color=\"rgb(255,   0,   0)\"/>\n\t<use xlink:href=\"#gpPt6\" transform=\"translate(297.43,307.68) scale(1.50)\" color=\"rgb(255,   0,   0)\"/>\n\t<use xlink:href=\"#gpPt6\" transform=\"translate(301.43,306.11) scale(1.50)\" color=\"rgb(255,   0,   0)\"/>\n\t<use xlink:href=\"#gpPt6\" transform=\"translate(299.11,312.87) scale(1.50)\" color=\"rgb(255,   0,   0)\"/>\n\t<use xlink:href=\"#gpPt6\" transform=\"translate(300.85,312.36) scale(1.50)\" color=\"rgb(255,   0,   0)\"/>\n\t<use xlink:href=\"#gpPt6\" transform=\"translate(293.84,308.54) scale(1.50)\" color=\"rgb(255,   0,   0)\"/>\n\t<use xlink:href=\"#gpPt6\" transform=\"translate(273.33,281.11) scale(1.50)\" color=\"rgb(255,   0,   0)\"/>\n\t<use xlink:href=\"#gpPt6\" transform=\"translate(295.43,311.83) scale(1.50)\" color=\"rgb(255,   0,   0)\"/>\n\t<use xlink:href=\"#gpPt6\" transform=\"translate(278.37,177.12) scale(1.50)\" color=\"rgb(255,   0,   0)\"/>\n\t<use xlink:href=\"#gpPt6\" transform=\"translate(292.61,311.43) scale(1.50)\" color=\"rgb(255,   0,   0)\"/>\n\t<use xlink:href=\"#gpPt6\" transform=\"translate(293.92,310.91) scale(1.50)\" color=\"rgb(255,   0,   0)\"/>\n\t<use xlink:href=\"#gpPt6\" transform=\"translate(300.78,306.88) scale(1.50)\" color=\"rgb(255,   0,   0)\"/>\n\t<use xlink:href=\"#gpPt6\" transform=\"translate(302.58,302.26) scale(1.50)\" color=\"rgb(255,   0,   0)\"/>\n\t<use xlink:href=\"#gpPt6\" transform=\"translate(303.73,313.71) scale(1.50)\" color=\"rgb(255,   0,   0)\"/>\n\t<use xlink:href=\"#gpPt6\" transform=\"translate(303.77,313.47) scale(1.50)\" color=\"rgb(255,   0,   0)\"/>\n\t<use xlink:href=\"#gpPt6\" transform=\"translate(302.02,309.30) scale(1.50)\" color=\"rgb(255,   0,   0)\"/>\n\t<use xlink:href=\"#gpPt6\" transform=\"translate(305.37,306.69) scale(1.50)\" color=\"rgb(255,   0,   0)\"/>\n\t<use xlink:href=\"#gpPt6\" transform=\"translate(306.13,310.52) scale(1.50)\" color=\"rgb(255,   0,   0)\"/>\n\t<use xlink:href=\"#gpPt6\" transform=\"translate(308.27,305.64) scale(1.50)\" color=\"rgb(255,   0,   0)\"/>\n\t<use xlink:href=\"#gpPt6\" transform=\"translate(305.46,310.33) scale(1.50)\" color=\"rgb(255,   0,   0)\"/>\n\t<use xlink:href=\"#gpPt6\" transform=\"translate(307.88,305.82) scale(1.50)\" color=\"rgb(255,   0,   0)\"/>\n\t<use xlink:href=\"#gpPt6\" transform=\"translate(302.78,307.56) scale(1.50)\" color=\"rgb(255,   0,   0)\"/>\n\t<use xlink:href=\"#gpPt6\" transform=\"translate(303.99,302.18) scale(1.50)\" color=\"rgb(255,   0,   0)\"/>\n\t<use xlink:href=\"#gpPt6\" transform=\"translate(291.66,310.66) scale(1.50)\" color=\"rgb(255,   0,   0)\"/>\n\t<use xlink:href=\"#gpPt6\" transform=\"translate(292.97,310.14) scale(1.50)\" color=\"rgb(255,   0,   0)\"/>\n\t<use xlink:href=\"#gpPt6\" transform=\"translate(301.83,307.77) scale(1.50)\" color=\"rgb(255,   0,   0)\"/>\n\t<use xlink:href=\"#gpPt6\" transform=\"translate(271.29,103.13) scale(1.50)\" color=\"rgb(255,   0,   0)\"/>\n\t<use xlink:href=\"#gpPt6\" transform=\"translate(294.90,307.98) scale(1.50)\" color=\"rgb(255,   0,   0)\"/>\n\t<use xlink:href=\"#gpPt6\" transform=\"translate(294.96,307.60) scale(1.50)\" color=\"rgb(255,   0,   0)\"/>\n\t<use xlink:href=\"#gpPt6\" transform=\"translate(296.04,308.61) scale(1.50)\" color=\"rgb(255,   0,   0)\"/>\n\t<use xlink:href=\"#gpPt6\" transform=\"translate(288.27,200.46) scale(1.50)\" color=\"rgb(255,   0,   0)\"/>\n\t<use xlink:href=\"#gpPt6\" transform=\"translate(307.49,310.98) scale(1.50)\" color=\"rgb(255,   0,   0)\"/>\n\t<use xlink:href=\"#gpPt6\" transform=\"translate(257.48,277.96) scale(1.50)\" color=\"rgb(255,   0,   0)\"/>\n\t<use xlink:href=\"#gpPt6\" transform=\"translate(299.00,313.71) scale(1.50)\" color=\"rgb(255,   0,   0)\"/>\n\t<use xlink:href=\"#gpPt6\" transform=\"translate(300.74,313.19) scale(1.50)\" color=\"rgb(255,   0,   0)\"/>\n\t<use xlink:href=\"#gpPt6\" transform=\"translate(303.24,308.76) scale(1.50)\" color=\"rgb(255,   0,   0)\"/>\n\t<use xlink:href=\"#gpPt6\" transform=\"translate(305.31,304.49) scale(1.50)\" color=\"rgb(255,   0,   0)\"/>\n\t<use xlink:href=\"#gpPt6\" transform=\"translate(303.35,312.39) scale(1.50)\" color=\"rgb(255,   0,   0)\"/>\n\t<use xlink:href=\"#gpPt6\" transform=\"translate(308.57,311.09) scale(1.50)\" color=\"rgb(255,   0,   0)\"/>\n\t<use xlink:href=\"#gpPt6\" transform=\"translate(300.77,309.91) scale(1.50)\" color=\"rgb(255,   0,   0)\"/>\n\t<use xlink:href=\"#gpPt6\" transform=\"translate(304.73,308.37) scale(1.50)\" color=\"rgb(255,   0,   0)\"/>\n\t<use xlink:href=\"#gpPt6\" transform=\"translate(304.20,310.98) scale(1.50)\" color=\"rgb(255,   0,   0)\"/>\n\t<use xlink:href=\"#gpPt6\" transform=\"translate(271.55,247.16) scale(1.50)\" color=\"rgb(255,   0,   0)\"/>\n\t<use xlink:href=\"#gpPt6\" transform=\"translate(294.08,309.79) scale(1.50)\" color=\"rgb(255,   0,   0)\"/>\n\t<use xlink:href=\"#gpPt6\" transform=\"translate(218.73,313.04) scale(1.50)\" color=\"rgb(255,   0,   0)\"/>\n\t<use xlink:href=\"#gpPt6\" transform=\"translate(300.54,308.62) scale(1.50)\" color=\"rgb(255,   0,   0)\"/>\n\t<use xlink:href=\"#gpPt6\" transform=\"translate(269.84,104.04) scale(1.50)\" color=\"rgb(255,   0,   0)\"/>\n\t<use xlink:href=\"#gpPt6\" transform=\"translate(291.49,312.05) scale(1.50)\" color=\"rgb(255,   0,   0)\"/>\n\t<use xlink:href=\"#gpPt6\" transform=\"translate(292.79,311.53) scale(1.50)\" color=\"rgb(255,   0,   0)\"/>\n\t<use xlink:href=\"#gpPt6\" transform=\"translate(298.46,310.27) scale(1.50)\" color=\"rgb(255,   0,   0)\"/>\n\t<use xlink:href=\"#gpPt6\" transform=\"translate(298.49,310.11) scale(1.50)\" color=\"rgb(255,   0,   0)\"/>\n\t<use xlink:href=\"#gpPt6\" transform=\"translate(301.27,311.34) scale(1.50)\" color=\"rgb(255,   0,   0)\"/>\n\t<use xlink:href=\"#gpPt6\" transform=\"translate(284.26,271.38) scale(1.50)\" color=\"rgb(255,   0,   0)\"/>\n</g>\n\t</g>\n<g fill=\"none\" color=\"white\" stroke=\"rgb(255,   0,   0)\" stroke-width=\"1.00\" stroke-linecap=\"butt\" stroke-linejoin=\"miter\">\n</g>\n<g fill=\"none\" color=\"black\" stroke=\"currentColor\" stroke-width=\"1.00\" stroke-linecap=\"butt\" stroke-linejoin=\"miter\">\n\t<path stroke=\"rgb(  0,   0,   0)\" d=\"M455.57,330.01 L256.88,406.24  \"/></g>\n<g fill=\"none\" color=\"black\" stroke=\"currentColor\" stroke-width=\"1.00\" stroke-linecap=\"butt\" stroke-linejoin=\"miter\">\n\t<path stroke=\"rgb(  0,   0,   0)\" d=\"M104.42,306.89 L256.88,406.24  \"/></g>\n</g>\n</svg>"
          },
          "metadata": {}
        }
      ]
    },
    {
      "cell_type": "markdown",
      "source": [
        "## Exec 4 - Hyperspectral data simulation using `mcxlab` in a layered skin model\n",
        "\n",
        "#### Prepared and presented by Dr. Steve Jacques\n",
        "\n",
        "In this exercise, Dr. Steve Jacques will walk you through an example using MCXLAB to simulate a 4-layer skin tissue model with a sweep of optical properties over a range of wavelengths, producing the hyperspectral diffuse reflectance measurements.\n",
        "\n",
        "In this example, you will also learn\n",
        "- simulating infinite planar source illuminating an infinitely large layered medium using cyclic boundary conditions\n",
        "- estimating optical properties at different wavelengths using raw chromophore absorption data\n",
        "- simulating extended space using optical property scaling\n",
        "-"
      ],
      "metadata": {
        "id": "KtP0gYF5AdeM"
      }
    },
    {
      "cell_type": "code",
      "source": [
        "%%octave\n",
        "\n",
        "% runMCXSpectrum_skin1Dreflectance.m\n",
        "%   Create total reflectance spectrum (300:10:1000nm)\n",
        "%   for total diffuse reflectance from infintely broad beam.\n",
        "%   Skin layers:\n",
        "%       epidermis\n",
        "%       papillary dermis\n",
        "%       vasular plexus\n",
        "%       reticular dermis (semi-infinite thickness)\n",
        "%   USES:\n",
        "%       SpectralLIBMUmm.mat\n",
        "%       makeTissueList_skin.m\n",
        "%       mcxlab_exec4_draw.m\n",
        "%\n",
        "%%% 17june2024.sljacques\n",
        "\n",
        "clear cfg label prop\n",
        "close all\n",
        "\n",
        "%% load Spectral Absorption Library: nmLIB(701,1), MUY(701,6), msg\n",
        "%   MU(:,[oxyB deoxyB Water Carotenoids Melanin Fat])\n",
        "%   oxyB, deoxyB = mu_a of whole blood (~45% hematocrit=150 g.HGb/liter, MW.HGb = 64500g/mole)\n",
        "%       https://omlc.org/spectra/hemoglobin/summary.html\n",
        "%   Water = mu_a of pure water\n",
        "%    \tG. M. Hale and M. R. Querry, \"Optical constants of water in the 200nm to\n",
        "%       200-um wavelength region,\" Appl. Opt., 12, 555--563, (1973).\n",
        "%   Carotenoids = ( exp(-((nmLIB-476)/45).^2) + 1.5*exp(-((nmLIB-440)/30).^2) )/2.0824\n",
        "%       such that max of mua_a.carotenoids = 1.0 [1/mm] @446nm.Then scale as needed.\n",
        "%   Melanin = mu_a of interior of cutaneous melanosome\n",
        "%       mu_a.melanosome = (67.92/mm)*(nmLIB/500nm).^(-3.33)\n",
        "%   Fat = mu_a of fat.  Data for pure lipid purified from pig fat.\n",
        "%     \tvan Veen R.L.P. , H.J.C.M. Sterenborg, A. Pifferi, A. Torricelli,\n",
        "%       R. Cubeddu: Determination of VIS- NIR absorption coefficients\n",
        "%       of mammalian fat, with time- and spatially resolved diffuse\n",
        "%       reflectance and transmission spectroscopy,\n",
        "%       OSA Annual BIOMED Topical Meeting, 2004.\n",
        "\n",
        "load SpectralLIBMUmm.mat\n",
        "msg\n",
        "whos nmLIB MU\n",
        "\n",
        "label(1).s='oxy whole blood';\n",
        "label(2).s='deoxy whole blood';\n",
        "label(3).s='water';\n",
        "label(4).s='carotenoids';\n",
        "label(5).s='melanosome';\n",
        "label(6).s='fat';\n",
        "\n",
        "figure;clf\n",
        "\n",
        "clr='rbcgkm';\n",
        "f=2;\n",
        "for i=1:6\n",
        "    semilogy(nmLIB,MU(:,i),'-','color',clr(i),'linewidth',2)\n",
        "    hold on\n",
        "    text(800,5e-4/f^i,label(i).s,'color',clr(i),'fontsize',12)\n",
        "end\n",
        "set(gca,'fontsize',14)\n",
        "xlabel('Wavelength [nm]')\n",
        "ylabel('\\mu_a [1/mm]')\n",
        "title('SpectralLIBMUmm.mat')\n",
        "axis([300 1000 1e-6 1e3])\n",
        "\n",
        "%%% Wavelength range for simulations\n",
        "nmm = [300:10:1000]';\n",
        "Nnm = length(nmm);\n",
        "MU2 = interp1(nmLIB,MU,nmm); % <--- interpolate properties\n",
        "\n",
        "%%% volume size and unitinmm\n",
        "Ny=100; Nx=100; Nz=500;\n",
        "dxyz = 0.010; % mm\n",
        "\n",
        "%% % create cfg files\n",
        "cfg.tstart = 0;\n",
        "cfg.tend   = 5e-9;\n",
        "cfg.tstep  = 5e-9;\n",
        "cfg.isreflect = 1; % enable total internal reflection at exterior boundary\n",
        "cfg.issaveref = 1; % enable saving escaping light as reflectance\n",
        "\n",
        "cfg.unitinmm = dxyz; % mm\n",
        "\n",
        "% a uniform planar source illuminating entire top surface of the volume\n",
        "% cyclic side boundaries mimic infinitely broad beam\n",
        "w=Nx;   % width [units]\n",
        "hw=w/2; % half-width\n",
        "cfg.srctype     = 'planar';\n",
        "cfg.srcdir      = [0 0 1]; % incident along z-axis\n",
        "cfg.srcpos      = [Nx/2-hw Ny/2-hw 0];\n",
        "cfg.srcparam1   = [w 0 0 0];\n",
        "cfg.srcparam2   = [0 w 0 0];\n",
        "cfg.bc='ccrccr'; % cyclic side boundaries\n",
        "\n",
        "cfg.nphoton     = 1e4; % <---- # of photons per wavelength\n",
        "%cfg.debuglevel  = 'P';\n",
        "\n",
        "%% thicknesses of each skin tissue layer\n",
        "%   epi = epidermis (60 um]\n",
        "%   pap = papillary dermis (200 um)\n",
        "%   plx = superficial vascular plexus (200 um)\n",
        "%   ret = reticular dermis (remaining volume)\n",
        "d123 = [0.060 0.200 0.200];     % epi pap plx\n",
        "d4 = (Nz-2)*dxyz - sum(d123);   % ret\n",
        "d  = [d123 d4];                 % epi pap plx ret [mm]\n",
        "nd = round(d/dxyz);             % nd(4,1) = dimensionless units of thickness\n",
        "csd = cumsum(d);\n",
        "\n",
        "%% Simulation for each wavelength\n",
        "tic\n",
        "for inm=1:Nnm\n",
        "    nm = nmm(inm); % wavelength\n",
        "    clc\n",
        "    fprintf('\\n\\nwavelength = %0.0f nm\\n\\n',nm)\n",
        "\n",
        "    % tissue layer properties : epi pap plx ret\n",
        "    PRINTON=0;\n",
        "    tissue = makeTissueList_skin(nm, MU2(inm,:), PRINTON);\n",
        "    prop(1,:)=[0 0 1 1]; % outer boundary [mua mus g n]\n",
        "    for i=1:4 % i--> epi pap plx ret\n",
        "        mua = tissue(i).mua;\n",
        "        mus = tissue(i).mus;\n",
        "        g   = tissue(i).g;\n",
        "        n   = tissue(i).n;\n",
        "        prop(i+1,:) = [mua mus g n];\n",
        "    end\n",
        "    prop(6,:) = [mua*1e3 mus*1e3 g n]; % mimic semi-infinite tissue\n",
        "    cfg.prop = prop;\n",
        "\n",
        "\t  % tissue volume\n",
        "    % define a 4 layer structure\n",
        "    % cfg.vol uses 0-->4 (C-code) to point to props(1-->5) (MATLAB)\n",
        "    cfg.vol = uint8(zeros(Nx,Ny,Nz));        % boundary    0 --> prop(1,:)\n",
        "    cfg.vol(:,:,1+[1:nd(1)])=1;              % epidermis,  1 --> prop(2,:)\n",
        "    cfg.vol(:,:,1+nd(1)+[1:nd(2)])=2;        % pap.dermis, 2 --> prop(3,:)\n",
        "    cfg.vol(:,:,1+sum(nd(1:2))+[1:nd(3)])=3; % plexis,     3 --> prop(4,:)\n",
        "    cfg.vol(:,:,1+sum(nd(1:3))+[1:nd(4)])=4; % ret.dermis, 4 --> prop(5,:)\n",
        "    cfg.vol(:,:,Nz-10:Nz-1) = 5; % mimic semi-infinite tissue 5 --> prop(6,:)\n",
        "    cfg.vol(:,:,Nz) = 1;                     % rear boundary  0 --> prop(1,:)\n",
        "\n",
        "    flux=mcxlab(cfg);                        % <---- MCX --- RUN SIMULATION\n",
        "\n",
        "    Rxy       = flux.dref(:,:,1) *cfg.tstep*cfg.unitinmm^2;\n",
        "    Txy       = flux.dref(:,:,Nz)*cfg.tstep*cfg.unitinmm^2;\n",
        "    R(inm,1)  = sum( Rxy(:));\n",
        "    T(inm,1)  = sum( Txy(:));\n",
        "\n",
        "end % inm\n",
        "toc\n",
        "\n",
        "\n",
        "%% show tissue parameters @ 500 nm\n",
        "inm=find(nmm==500);\n",
        "PRINTON=1;\n",
        "fprintf('\\nparameters and optical properties @ 500nm\\n')\n",
        "makeTissueList_skin(500,MU2(inm,:),PRINTON);"
      ],
      "metadata": {
        "id": "FNV-olxjB-jq"
      },
      "execution_count": null,
      "outputs": []
    },
    {
      "cell_type": "code",
      "source": [
        "%%octave\n",
        "\n",
        "% plotting the results\n",
        "\n",
        "close all\n",
        "\n",
        "%% Show depth-profile of tissue layers\n",
        "figure;clf\n",
        "%sz0 = get(0,'screensize')/2;\n",
        "%pos = round([0.129 0.171 0.7 1.6].*sz0([3 4 3 4]));\n",
        "%set(figure(1),'position',pos)\n",
        "\n",
        "fz=12; % fontsize for labels\n",
        "\n",
        "subplot(211)\n",
        "plot([1:Nz]',squeeze(cfg.vol(Nx/2,Ny/2,:)),'ro-')\n",
        "hold on\n",
        "text(1,.15,'air boundary=0 @ iz=1','fontsize',fz)\n",
        "for i=1:3\n",
        "    if i==1 % epidermis\n",
        "        iz1=2;\n",
        "    else\n",
        "        iz1=2+sum(nd(1:i-1));\n",
        "    end\n",
        "    z1=dxyz*(iz1-1);\n",
        "    iz2=1+sum(nd(1:i));\n",
        "    z2=dxyz*(iz2-1);\n",
        "    s=sprintf('%s %d%s%d (%0.3f %s %0.3f mm)',...\n",
        "    tissue(i).name,iz1,'\\rightarrow',iz2,...\n",
        "    z1,'\\rightarrow',z2);\n",
        "    text((3+sum(nd(1:i))),i,s,'fontsize',fz)\n",
        "end\n",
        "i=4;\n",
        "iz1=i+sum(nd(1:i-1));\n",
        "z1=dxyz*(iz1-1);\n",
        "iz2=i-3+sum(nd(1:i));\n",
        "z2=dxyz*(iz2);\n",
        "s=sprintf('%s %d%s%d (%0.3f %s %0.3f mm)',...\n",
        "tissue(i).name,iz1,'\\rightarrow',iz2,...\n",
        "z1,'\\rightarrow',z2);\n",
        "text(35,i-.2,s,'fontsize',fz)\n",
        "\n",
        "xlabel('depth pointer, iz')\n",
        "ylabel('tissue type')\n",
        "set(gca,'fontsize',16)\n",
        "axis([0 100 0 5])\n",
        "\n",
        "%% Show side-view of tissue layers\n",
        "subplot(212)\n",
        "\n",
        "Vzx=squeeze(cfg.vol(:,Ny/2,:))';\n",
        "imagesc([1:Nx]*dxyz,[1:Nz]*dxyz,Vzx)\n",
        "hold on\n",
        "text(0.05,0.045,'epidermis','fontsize',14,'color','w')\n",
        "text(0.05,.15,'papillary dermis','fontsize',14)\n",
        "text(0.05,0.34,'vascular plexus','fontsize',14)\n",
        "text(0.05,0.6,'reticular dermis','fontsize',14)\n",
        "\n",
        "colorbar\n",
        "axis([dxyz 1 dxyz 1])\n",
        "\n",
        "%% Plot R,T spectra\n",
        "figure;clf\n",
        "%sz0 = get(0,'screensize')/2;\n",
        "%pos = round([0.918 0.171 0.700 1.6].*sz0([3 4 3 4]));\n",
        "%set(figure(2),'position',pos)\n",
        "\n",
        "subplot(211)\n",
        "\n",
        "imagesc(Rxy)\n",
        "axis equal\n",
        "xlabel('x [mm]')\n",
        "ylabel('y [mm]')\n",
        "title('R(y,x) [mm^{-2}]')\n",
        "colorbar\n",
        "\n",
        "subplot(212)\n",
        "plot(nmm,R,'ro-','linewidth',2)\n",
        "hold on\n",
        "plot(nmm,T,'bo-','linewidth',2)\n",
        "xlabel('Wavelength')\n",
        "ylabel('R_d, T_t')\n",
        "title('skin: epi,pap,plx,ret','fontweight','normal')\n",
        "set(gca,'fontsize',16)\n",
        "axis([300 1000 0 1])"
      ],
      "metadata": {
        "id": "ITASIqJM-vgr"
      },
      "execution_count": null,
      "outputs": []
    },
    {
      "cell_type": "markdown",
      "source": [
        "## Exec 5 - Solving inverse problem using MCX"
      ],
      "metadata": {
        "id": "KqVct1HfDbWm"
      }
    }
  ]
}