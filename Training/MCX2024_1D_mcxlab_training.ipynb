{
  "nbformat": 4,
  "nbformat_minor": 0,
  "metadata": {
    "colab": {
      "provenance": [],
      "toc_visible": true,
      "gpuType": "T4",
      "authorship_tag": "ABX9TyMVFE5MRaya2L0/4hapdBL/",
      "include_colab_link": true
    },
    "kernelspec": {
      "name": "python3",
      "display_name": "Python 3"
    },
    "language_info": {
      "name": "python"
    },
    "accelerator": "GPU"
  },
  "cells": [
    {
      "cell_type": "markdown",
      "metadata": {
        "id": "view-in-github",
        "colab_type": "text"
      },
      "source": [
        "<a href=\"https://colab.research.google.com/github/COTILab/MCX24Workshop/blob/master/Training/MCX2024_1D_mcxlab_training.ipynb\" target=\"_parent\"><img src=\"https://colab.research.google.com/assets/colab-badge.svg\" alt=\"Open In Colab\"/></a>"
      ]
    },
    {
      "cell_type": "markdown",
      "source": [
        "![Workshop Logo](https://mcx.space/wiki/upload/mcx24_logo.png)\n",
        "# MCX Training Workshop 2024 - Day 1, Session 1.D\n",
        "\n",
        "## Session 1.D: MCXLAB Training\n"
      ],
      "metadata": {
        "id": "ptMYeU1cGzsE"
      }
    },
    {
      "cell_type": "markdown",
      "source": [
        "# <font color='orange'>Step 0: Setting up MCX and Octave environments within Google Colab</font>\n",
        "\n",
        "> **You must rerun all cells in Step 0 in appearance order when you start a new session, or after reconnect to a runtime**\n",
        "\n",
        "To run interactive Octave sessions inside a Google Colab Jupyter Notebook environment, we need to install the following dependencies\n",
        "- GNU Octave via `sudo apt-get install octave`\n",
        "- Oct2py Python module via `pip install oct2py`, and\n",
        "- enable Oct2py in Jupyter Notebook via \"magic command\" `%load_ext oct2py.ipython`\n",
        "\n",
        "<font color='green'>If you run this on Google Colab, please go to menu **Edit\\Notebook Settings\\Hardware accelerator**, and verify if it has already selected \"GPU\"; if not, please select the T4 GPU.</font>\n",
        "\n",
        "**Please note**: MCX/MCXLAB is GPU-accelerated. This notebook by default requests an NVIDIA GPU. Howevever, when you click on the run-button for the below section, your browser may fail to allocate a GPU runtime and ask you if you want to continue with a non-GPU runtime. If you choose to proceed without GPU support, you will have to run the [section immediately following the next section](#mcx_setup_opencl) to install OpenCL-based MCXLAB (called mcxlabcl) and utilize the CPU to run the rest of the tutorials. The OpenCL version of MCXLAB will work for all examples, but will be substentially slower to run (this tutorial also reduces the photon numbers accordingly to lower the runtime)."
      ],
      "metadata": {
        "id": "2S9sY9AlHwdm"
      }
    },
    {
      "cell_type": "code",
      "execution_count": null,
      "metadata": {
        "id": "8QsyOOBgAxfA"
      },
      "outputs": [],
      "source": [
        "#@title <font color='orange'>Init 1: Initial setup of environment for running MCXLAB (run the below section once)</font>\n",
        "\n",
        "# install octave and oct2py\n",
        "! sudo apt-get update && sudo apt-get install octave jq libpocl2 pocl-opencl-icd libnvidia-compute-535   # install octave (a free matlab clone), jq and OpenCL runtimes\n",
        "! pip install oct2py jdata bjdata matplotlib   # install oct2py, jdata, bjdata and matplotlib Python modules\n",
        "\n",
        "# add octave support to colab notebook\n",
        "%load_ext oct2py.ipython\n",
        "\n",
        "# download and unzip mcxlab\n",
        "! rm -rf mcxlab*\n",
        "! wget https://mcx.space/nightly/release/MCX24/MCXStudio-linux-x86_64-nightlybuild.zip  # download MCX suite\n",
        "! unzip -o MCXStudio-linux-x86_64-nightlybuild.zip && rm -rf MCXStudio-linux-x86_64-nightlybuild.zip # unzip MCX suite\n",
        "\n",
        "# add executable to the shell's paths\n",
        "! sudo cp -a $PWD/MCXStudio/MCXSuite/mcx/bin/mcx /usr/local/bin\n",
        "! sudo cp -a $PWD/MCXStudio/MCXSuite/mcxcl/bin/mcxcl /usr/local/bin\n",
        "! sudo cp -a $PWD/MCXStudio/MCXSuite/mmc/bin/mmc /usr/local/bin\n",
        "! cp -a $PWD/MCXStudio/MATLAB/zmat/octave/gnu-linux-x86_64/zipmat.mex $PWD/MCXStudio/MATLAB/zmat/\n",
        "\n",
        "# if a GPU runtime can not be allocated, run this section to setup OpenCL and MCXLAB-CL\n",
        "! [[ ! -f `which nvidia-smi` ]] && sudo mv /usr/local/bin/mcxcl /usr/local/bin/mcx\n",
        "! mcx -L"
      ]
    },
    {
      "cell_type": "markdown",
      "source": [
        "### <font color='orange'>Init 2: Only need to run this once at the beginning</font>"
      ],
      "metadata": {
        "id": "3FuiSDH_w6Dh"
      }
    },
    {
      "cell_type": "code",
      "source": [
        "%%octave\n",
        "addpath([pwd filesep 'MCXStudio/MATLAB/mcxlab']);                 % add path to mcxlab\n",
        "addpath([pwd filesep 'MCXStudio/MCXSuite/mcx' filesep 'utils']);  % add path to mcx helper functions\n",
        "addpath([pwd filesep 'MCXStudio/MATLAB/mmclab']);                 % add path to mmclab\n",
        "addpath([pwd filesep 'MCXStudio/MCXSuite/mmc' filesep 'matlab']); % add path to mmc helper functions\n",
        "addpath([pwd filesep 'MCXStudio/MATLAB/iso2mesh']);               % add path to iso2mesh/jsonlab\n",
        "addpath([pwd filesep 'MCXStudio/MATLAB/brain2mesh']);             % add path to brain2mesh\n",
        "addpath([pwd filesep 'MCXStudio/MATLAB/zmat']);                   % add path to zmat for data compression\n",
        "\n",
        "print_struct_array_contents(0);\n",
        "\n",
        "if(system('which nvidia-smi'))                   % if this runtime does not have NVIDIA GPU support\n",
        "    addpath([pwd filesep 'MCXStudio/MATLAB/mcxlabcl']);    % add path to mcxlabcl\n",
        "    USE_MCXCL=1;                                 % set USE_MCXCL flag in the base workspace\n",
        "end"
      ],
      "metadata": {
        "id": "IWg8T2-5SwT4",
        "colab": {
          "base_uri": "https://localhost:8080/",
          "height": 34
        },
        "outputId": "01ea81eb-21d8-4924-e013-1906d0f15ff9"
      },
      "execution_count": 17,
      "outputs": [
        {
          "output_type": "display_data",
          "data": {
            "text/plain": [
              "/opt/bin/nvidia-smi"
            ]
          },
          "metadata": {}
        }
      ]
    },
    {
      "cell_type": "markdown",
      "source": [
        "### <font color='orange'>Init 3: Verify your environments</font>\n",
        "\n",
        "---"
      ],
      "metadata": {
        "id": "oPiJ3kcF4MK2"
      }
    },
    {
      "cell_type": "code",
      "source": [
        "%%octave\n",
        "which mcx\n",
        "which s2m\n",
        "which zipmat\n",
        "\n",
        "mcxlab('gpuinfo')     % use this command to list supported CPU or GPU in octave\n",
        "unix('mcx -L')        % use -L flag to list GPU in the command line"
      ],
      "metadata": {
        "id": "LnrnJOcJsQzW",
        "colab": {
          "base_uri": "https://localhost:8080/",
          "height": 798
        },
        "outputId": "a0275507-6f02-4aac-d880-90a262e3b505"
      },
      "execution_count": 3,
      "outputs": [
        {
          "output_type": "display_data",
          "data": {
            "text/plain": [
              "'mcx' is a function from the file /content/MCXStudio/MATLAB/mcxlab/mcx.mex"
            ]
          },
          "metadata": {}
        },
        {
          "output_type": "display_data",
          "data": {
            "text/plain": [
              "'s2m' is a function from the file /content/MCXStudio/MATLAB/iso2mesh/s2m.m"
            ]
          },
          "metadata": {}
        },
        {
          "output_type": "display_data",
          "data": {
            "text/plain": [
              "'zipmat' is a function from the file /content/MCXStudio/MATLAB/zmat/zipmat.mex"
            ]
          },
          "metadata": {}
        },
        {
          "output_type": "display_data",
          "data": {
            "text/plain": [
              "=============================   GPU Information  ================================"
            ]
          },
          "metadata": {}
        },
        {
          "output_type": "display_data",
          "data": {
            "text/plain": [
              "Device 1 of 1:\t\tTesla T4"
            ]
          },
          "metadata": {}
        },
        {
          "output_type": "display_data",
          "data": {
            "text/plain": [
              "Compute Capability:\t7.5"
            ]
          },
          "metadata": {}
        },
        {
          "output_type": "display_data",
          "data": {
            "text/plain": [
              "Global Memory:\t\t15835660288 B"
            ]
          },
          "metadata": {}
        },
        {
          "output_type": "display_data",
          "data": {
            "text/plain": [
              "Constant Memory:\t65536 B"
            ]
          },
          "metadata": {}
        },
        {
          "output_type": "display_data",
          "data": {
            "text/plain": [
              "Shared Memory:\t\t49152 B"
            ]
          },
          "metadata": {}
        },
        {
          "output_type": "display_data",
          "data": {
            "text/plain": [
              "Registers:\t\t65536"
            ]
          },
          "metadata": {}
        },
        {
          "output_type": "display_data",
          "data": {
            "text/plain": [
              "Clock Speed:\t\t1.59 GHz"
            ]
          },
          "metadata": {}
        },
        {
          "output_type": "display_data",
          "data": {
            "text/plain": [
              "Number of SMs:\t\t40"
            ]
          },
          "metadata": {}
        },
        {
          "output_type": "display_data",
          "data": {
            "text/plain": [
              "Number of Cores:\t2560"
            ]
          },
          "metadata": {}
        },
        {
          "output_type": "display_data",
          "data": {
            "text/plain": [
              "Auto-thread:\t\t81920"
            ]
          },
          "metadata": {}
        },
        {
          "output_type": "display_data",
          "data": {
            "text/plain": [
              "Auto-block:\t\t64"
            ]
          },
          "metadata": {}
        },
        {
          "output_type": "display_data",
          "data": {
            "text/plain": [
              "ans ="
            ]
          },
          "metadata": {}
        },
        {
          "output_type": "display_data",
          "data": {
            "text/plain": []
          },
          "metadata": {}
        },
        {
          "output_type": "display_data",
          "data": {
            "text/plain": [
              "  scalar structure containing the fields:"
            ]
          },
          "metadata": {}
        },
        {
          "output_type": "display_data",
          "data": {
            "text/plain": []
          },
          "metadata": {}
        },
        {
          "output_type": "display_data",
          "data": {
            "text/plain": [
              "    name = Tesla T4"
            ]
          },
          "metadata": {}
        },
        {
          "output_type": "display_data",
          "data": {
            "text/plain": [
              "    id = 1"
            ]
          },
          "metadata": {}
        },
        {
          "output_type": "display_data",
          "data": {
            "text/plain": [
              "    devcount = 1"
            ]
          },
          "metadata": {}
        },
        {
          "output_type": "display_data",
          "data": {
            "text/plain": [
              "    major = 7"
            ]
          },
          "metadata": {}
        },
        {
          "output_type": "display_data",
          "data": {
            "text/plain": [
              "    minor = 5"
            ]
          },
          "metadata": {}
        },
        {
          "output_type": "display_data",
          "data": {
            "text/plain": [
              "    globalmem = 1.5836e+10"
            ]
          },
          "metadata": {}
        },
        {
          "output_type": "display_data",
          "data": {
            "text/plain": [
              "    constmem = 65536"
            ]
          },
          "metadata": {}
        },
        {
          "output_type": "display_data",
          "data": {
            "text/plain": [
              "    sharedmem = 49152"
            ]
          },
          "metadata": {}
        },
        {
          "output_type": "display_data",
          "data": {
            "text/plain": [
              "    regcount = 65536"
            ]
          },
          "metadata": {}
        },
        {
          "output_type": "display_data",
          "data": {
            "text/plain": [
              "    clock = 1590000"
            ]
          },
          "metadata": {}
        },
        {
          "output_type": "display_data",
          "data": {
            "text/plain": [
              "    sm = 40"
            ]
          },
          "metadata": {}
        },
        {
          "output_type": "display_data",
          "data": {
            "text/plain": [
              "    core = 2560"
            ]
          },
          "metadata": {}
        },
        {
          "output_type": "display_data",
          "data": {
            "text/plain": [
              "    autoblock = 64"
            ]
          },
          "metadata": {}
        },
        {
          "output_type": "display_data",
          "data": {
            "text/plain": [
              "    autothread = 81920"
            ]
          },
          "metadata": {}
        },
        {
          "output_type": "display_data",
          "data": {
            "text/plain": [
              "    maxgate = 0"
            ]
          },
          "metadata": {}
        },
        {
          "output_type": "display_data",
          "data": {
            "text/plain": []
          },
          "metadata": {}
        },
        {
          "output_type": "display_data",
          "data": {
            "text/plain": [
              "\u001b[34m=============================   GPU Information  ================================"
            ]
          },
          "metadata": {}
        },
        {
          "output_type": "display_data",
          "data": {
            "text/plain": [
              "\u001b[0mDevice 1 of 1:\t\tTesla T4"
            ]
          },
          "metadata": {}
        },
        {
          "output_type": "display_data",
          "data": {
            "text/plain": [
              "Compute Capability:\t7.5"
            ]
          },
          "metadata": {}
        },
        {
          "output_type": "display_data",
          "data": {
            "text/plain": [
              "Global Memory:\t\t15835660288 B"
            ]
          },
          "metadata": {}
        },
        {
          "output_type": "display_data",
          "data": {
            "text/plain": [
              "Constant Memory:\t65536 B"
            ]
          },
          "metadata": {}
        },
        {
          "output_type": "display_data",
          "data": {
            "text/plain": [
              "Shared Memory:\t\t49152 B"
            ]
          },
          "metadata": {}
        },
        {
          "output_type": "display_data",
          "data": {
            "text/plain": [
              "Registers:\t\t65536"
            ]
          },
          "metadata": {}
        },
        {
          "output_type": "display_data",
          "data": {
            "text/plain": [
              "Clock Speed:\t\t1.59 GHz"
            ]
          },
          "metadata": {}
        },
        {
          "output_type": "display_data",
          "data": {
            "text/plain": [
              "Number of SMs:\t\t40"
            ]
          },
          "metadata": {}
        },
        {
          "output_type": "display_data",
          "data": {
            "text/plain": [
              "Number of Cores:\t2560"
            ]
          },
          "metadata": {}
        },
        {
          "output_type": "display_data",
          "data": {
            "text/plain": [
              "Auto-thread:\t\t81920"
            ]
          },
          "metadata": {}
        },
        {
          "output_type": "display_data",
          "data": {
            "text/plain": [
              "Auto-block:\t\t64"
            ]
          },
          "metadata": {}
        },
        {
          "output_type": "display_data",
          "data": {
            "text/plain": []
          },
          "metadata": {}
        },
        {
          "output_type": "display_data",
          "data": {
            "text/plain": [
              "ans = 0"
            ]
          },
          "metadata": {}
        }
      ]
    },
    {
      "cell_type": "markdown",
      "source": [
        "# MCXLAB Primer\n",
        "\n",
        "MCXLAB is the **MATLAB/Octave wrapper/bindings** to the MCX GPU-based photon simulation codes.\n",
        "\n",
        "The mex file, `mcx.mex` (or `mcx.mexa64` etc) is basically a dynamic library similar to a .DLL file on Windows (or .so in Linux, or .dylib in MacOS), and is compiled using the identical CUDA/C-code as used to build the command line based MCX. As a result, the simulation is performed nearly identically. Aside from the MATLAB/Octave binding, we also provide the Python binding in the form of a binary Python module called `pmcx`. The idea is the same as MCXLAB, but an dynamic library interface that can be called in Python."
      ],
      "metadata": {
        "id": "fsD8lCZy6gUk"
      }
    },
    {
      "cell_type": "markdown",
      "source": [
        "The major difference between mcx executable, MCXLAB, and pmcx is the user input/output handling.\n",
        "\n",
        "- User inputs:\n",
        "  - MCX JSON input file -> MATLAB `cfg` struct\n",
        "  - input volume file -> `cfg.vol`\n",
        "  - command line options -> `cfg.issavedet`, `cfg.isreflect`, `cfg.isnormalized` ...\n",
        "- Data outputs: `[flux, detp, vol, seeds, traj]=mcxlab(cfg)`\n",
        "  - volumetric output (`session.jnii`) -> `flux.data`: first output of mcxlab\n",
        "  - detected photon output (`session_detp.jdat`) -> `detp.{detid, ppath, ...}`: second output of mcxlab\n",
        "  - trajectory output (`session_traj.jdat`) -> `traj.{id,p,w0}`: 5h output of mcxlab\n",
        "\n",
        "Below is a diagram showing the file-based input/output of MCX in the binary mode\n",
        "\n",
        "![MCX command line IO](https://raw.githubusercontent.com/COTILab/MCX24Workshop/master/Training/figures/mcxlab-mcx_io.svg?token=GHSAT0AAAAAACMLDE6I6N3CHNRPRFYQN6GEZTWCOIQ)\n",
        "\n",
        "\n",
        "In comparison, here is the diagram showing the input/output of MCXLAB (both input and outputs are in-memory variables)\n",
        "\n",
        "![MCXLAB IO](https://raw.githubusercontent.com/COTILab/MCX24Workshop/master/Training/figures/mcxlab-io.svg?token=GHSAT0AAAAAACMLDE6IBVP5NEFNRZA6HFOGZTWB5YQ)\n",
        "\n",
        "The below diagram showing more details of the input/output data fields of the `mcxlab` wrapper function\n",
        "\n",
        "![MCXLAB input/output](https://raw.githubusercontent.com/COTILab/MCX24Workshop/master/Training/figures/mcxlab-cfg.svg?token=GHSAT0AAAAAACMLDE6IUR4XMW3LIY4UNUVMZTWB65Q)\n",
        "\n"
      ],
      "metadata": {
        "id": "5Z_X2Apk6kxV"
      }
    },
    {
      "cell_type": "markdown",
      "source": [
        "## A starter example - with a few things to explain\n",
        "\n",
        "---\n",
        "\n"
      ],
      "metadata": {
        "id": "SPu7A3Mm4gBh"
      }
    },
    {
      "cell_type": "code",
      "source": [
        "%%octave\n",
        "\n",
        "gpus = mcxlab('gpuinfo')\n",
        "gpus.core"
      ],
      "metadata": {
        "colab": {
          "base_uri": "https://localhost:8080/",
          "height": 538
        },
        "id": "on8LAT8o4Dra",
        "outputId": "584e35b5-7f98-461c-f5bc-b12299d3b3ee"
      },
      "execution_count": 4,
      "outputs": [
        {
          "output_type": "display_data",
          "data": {
            "text/plain": [
              "=============================   GPU Information  ================================"
            ]
          },
          "metadata": {}
        },
        {
          "output_type": "display_data",
          "data": {
            "text/plain": [
              "Device 1 of 1:\t\tTesla T4"
            ]
          },
          "metadata": {}
        },
        {
          "output_type": "display_data",
          "data": {
            "text/plain": [
              "Compute Capability:\t7.5"
            ]
          },
          "metadata": {}
        },
        {
          "output_type": "display_data",
          "data": {
            "text/plain": [
              "Global Memory:\t\t15835660288 B"
            ]
          },
          "metadata": {}
        },
        {
          "output_type": "display_data",
          "data": {
            "text/plain": [
              "Constant Memory:\t65536 B"
            ]
          },
          "metadata": {}
        },
        {
          "output_type": "display_data",
          "data": {
            "text/plain": [
              "Shared Memory:\t\t49152 B"
            ]
          },
          "metadata": {}
        },
        {
          "output_type": "display_data",
          "data": {
            "text/plain": [
              "Registers:\t\t65536"
            ]
          },
          "metadata": {}
        },
        {
          "output_type": "display_data",
          "data": {
            "text/plain": [
              "Clock Speed:\t\t1.59 GHz"
            ]
          },
          "metadata": {}
        },
        {
          "output_type": "display_data",
          "data": {
            "text/plain": [
              "Number of SMs:\t\t40"
            ]
          },
          "metadata": {}
        },
        {
          "output_type": "display_data",
          "data": {
            "text/plain": [
              "Number of Cores:\t2560"
            ]
          },
          "metadata": {}
        },
        {
          "output_type": "display_data",
          "data": {
            "text/plain": [
              "Auto-thread:\t\t81920"
            ]
          },
          "metadata": {}
        },
        {
          "output_type": "display_data",
          "data": {
            "text/plain": [
              "Auto-block:\t\t64"
            ]
          },
          "metadata": {}
        },
        {
          "output_type": "display_data",
          "data": {
            "text/plain": [
              "gpus ="
            ]
          },
          "metadata": {}
        },
        {
          "output_type": "display_data",
          "data": {
            "text/plain": []
          },
          "metadata": {}
        },
        {
          "output_type": "display_data",
          "data": {
            "text/plain": [
              "  scalar structure containing the fields:"
            ]
          },
          "metadata": {}
        },
        {
          "output_type": "display_data",
          "data": {
            "text/plain": []
          },
          "metadata": {}
        },
        {
          "output_type": "display_data",
          "data": {
            "text/plain": [
              "    name = Tesla T4"
            ]
          },
          "metadata": {}
        },
        {
          "output_type": "display_data",
          "data": {
            "text/plain": [
              "    id = 1"
            ]
          },
          "metadata": {}
        },
        {
          "output_type": "display_data",
          "data": {
            "text/plain": [
              "    devcount = 1"
            ]
          },
          "metadata": {}
        },
        {
          "output_type": "display_data",
          "data": {
            "text/plain": [
              "    major = 7"
            ]
          },
          "metadata": {}
        },
        {
          "output_type": "display_data",
          "data": {
            "text/plain": [
              "    minor = 5"
            ]
          },
          "metadata": {}
        },
        {
          "output_type": "display_data",
          "data": {
            "text/plain": [
              "    globalmem = 1.5836e+10"
            ]
          },
          "metadata": {}
        },
        {
          "output_type": "display_data",
          "data": {
            "text/plain": [
              "    constmem = 65536"
            ]
          },
          "metadata": {}
        },
        {
          "output_type": "display_data",
          "data": {
            "text/plain": [
              "    sharedmem = 49152"
            ]
          },
          "metadata": {}
        },
        {
          "output_type": "display_data",
          "data": {
            "text/plain": [
              "    regcount = 65536"
            ]
          },
          "metadata": {}
        },
        {
          "output_type": "display_data",
          "data": {
            "text/plain": [
              "    clock = 1590000"
            ]
          },
          "metadata": {}
        },
        {
          "output_type": "display_data",
          "data": {
            "text/plain": [
              "    sm = 40"
            ]
          },
          "metadata": {}
        },
        {
          "output_type": "display_data",
          "data": {
            "text/plain": [
              "    core = 2560"
            ]
          },
          "metadata": {}
        },
        {
          "output_type": "display_data",
          "data": {
            "text/plain": [
              "    autoblock = 64"
            ]
          },
          "metadata": {}
        },
        {
          "output_type": "display_data",
          "data": {
            "text/plain": [
              "    autothread = 81920"
            ]
          },
          "metadata": {}
        },
        {
          "output_type": "display_data",
          "data": {
            "text/plain": [
              "    maxgate = 0"
            ]
          },
          "metadata": {}
        },
        {
          "output_type": "display_data",
          "data": {
            "text/plain": []
          },
          "metadata": {}
        },
        {
          "output_type": "display_data",
          "data": {
            "text/plain": [
              "ans = 2560"
            ]
          },
          "metadata": {}
        }
      ]
    },
    {
      "cell_type": "code",
      "source": [
        "%%octave\n",
        "clear cfg\n",
        "\n",
        "% make sure you terminate each statement by ';' so no excessive printing that could overwhelm the runtime\n",
        "\n",
        "%% the below fields are minimumally required to define an MCX simulation\n",
        "cfg.nphoton=1e7;                   % define how many photon packets to simulate\n",
        "\n",
        "%% define domain in the form of a labeled volume - each voxel is an integer denoting tissue type ID\n",
        "cfg.vol=uint8(zeros(60,60,60));     % define a label-based volume - each voxel has a integer defining the medium type\n",
        "cfg.vol(2:end-1,2:end-1,2:end-1)=1; % define a label-based volume - each voxel has a integer defining the medium type\n",
        "cfg.vol(20:40, 30:40, 20:30)=2;    % adding an inclusion by setting to a different label\n",
        "\n",
        "%% save diffuse reflectanct at z=0 plane - total light escaped from the bottom plane\n",
        "cfg.issaveref=1;                   % save diffuse reflectance - can only save to the 0-valued voxel next to a boundary\n",
        "\n",
        "%% the below two settings allow us to verify energy-conservation in MCX\n",
        "cfg.isnormalized=0;                % disable normalization\n",
        "cfg.outputtype='energy';           % save energy deposition\n",
        "cfg.isspecular=0;                  % save energy deposition\n",
        "\n",
        "%% the optical properties of the i-th tissue type must be defined in the (i+1)-th row of cfg.prop\n",
        "cfg.prop=[0 0 1 1;                 % cfg.prop defines the optical properties, one medium per row; first row is for medium label 0 (background)\n",
        "          0.005 0.2 0 1.37;          % cfg.prop has 4 columns, in the order [mua(1/mm), mus(1/mm), g(anisotropy), n(ref index)]; 2nd row for medium type 1\n",
        "          0.1, 2, 0.9, 1];        % third row is for medium type 2, and so on\n",
        "\n",
        "%% a simulation must have source defined, default type is a pencil beam (cfg.srctype='pencil')\n",
        "cfg.issrcfrom0=1;                  % if this is not defined, cfg.srcpos and cfg.detpos will subtract 1 in x/y/z\n",
        "cfg.srcpos=[30 30 1];              % source position in voxel-units\n",
        "cfg.srcdir=[0 0 1];                % source direction (a unitary vector)\n",
        "cfg.detpos=[30,27,1,1];            % a detector that is 3 mm away from source with a radius 1 mm\n",
        "\n",
        "%% other key parameters\n",
        "cfg.tstart=0;                      % define the start time of the simulation (in s)\n",
        "cfg.tend=5e-9;                     % define the maximum duration of the photon packet (in s)\n",
        "cfg.tstep=1e-10;                   % this defines 50 time gates, (tend-tstart)/tstep; when tstep=tend, it defines a single time window, producing a CW solution\n",
        "\n",
        "%% cfg.gpuid specifies which GPU to use, default is the first GPU\n",
        "cfg.gpuid=1;                       % use the first GPU (default), can use strings of '01' masks to use multiple GPU, such as '0110'\n",
        "\n",
        "% reduce photon number on runtimes without a GPU (i.e. CPU only)\n",
        "if(exist('USE_MCXCL', 'var') && USE_MCXCL==1)  % if no GPU is found, run less photon on the CPU\n",
        "    cfg.nphoton=1e5;               % define how many photon packets to simulate\n",
        "end"
      ],
      "metadata": {
        "id": "K-nfG2mOTeXl"
      },
      "execution_count": 44,
      "outputs": []
    },
    {
      "cell_type": "markdown",
      "source": [
        "##Step 4: Run mcxlab simulation\n",
        "\n",
        "---\n",
        "Running this section for the first time can be slightly slow as CUDA needs to initialize the GPU device. Running again should take less than a second."
      ],
      "metadata": {
        "id": "dAT-8UBA4t62"
      }
    },
    {
      "cell_type": "code",
      "source": [
        "%%octave\n",
        "% calculate the flux distribution with the given config\n",
        "flux=mcxlab(cfg);\n",
        "\n",
        "fieldnames(flux)\n",
        "\n",
        "% flux.stat records some basic simulation\n",
        "flux.stat\n",
        "size(flux.data)\n",
        "\n",
        "%% show (unnormalized) diffuse reflectance at z=0 plane\n",
        "size(flux.dref)\n",
        "dref=sum(flux.dref, 4); % sum the 4th dimension, whcih is time-gates, providing the CW solution\n",
        "contourf(log10(dref(:,:,1)),20)\n",
        "\n",
        "%% verify energy deposition\n",
        "total_absorbed=sum(flux.data(:))\n",
        "total_escaped=sum(flux.dref(:))\n",
        "total_launched=total_absorbed + total_escaped"
      ],
      "metadata": {
        "id": "4hZ1NoSITqlT",
        "colab": {
          "base_uri": "https://localhost:8080/",
          "height": 1000
        },
        "outputId": "3e99bd83-8706-4f13-a45f-33100a988498"
      },
      "execution_count": 45,
      "outputs": [
        {
          "output_type": "display_data",
          "data": {
            "text/plain": [
              "Launching MCXLAB - Monte Carlo eXtreme for MATLAB & GNU Octave ..."
            ]
          },
          "metadata": {}
        },
        {
          "output_type": "display_data",
          "data": {
            "text/plain": [
              "Running simulations for configuration #1 ..."
            ]
          },
          "metadata": {}
        },
        {
          "output_type": "display_data",
          "data": {
            "text/plain": [
              "mcx.nphoton=1e+07;"
            ]
          },
          "metadata": {}
        },
        {
          "output_type": "display_data",
          "data": {
            "text/plain": [
              "mcx.dim=[60 60 60];"
            ]
          },
          "metadata": {}
        },
        {
          "output_type": "display_data",
          "data": {
            "text/plain": [
              "mcx.mediabyte=1;"
            ]
          },
          "metadata": {}
        },
        {
          "output_type": "display_data",
          "data": {
            "text/plain": [
              "mcx.issaveref=1;"
            ]
          },
          "metadata": {}
        },
        {
          "output_type": "display_data",
          "data": {
            "text/plain": [
              "mcx.isnormalized=0;"
            ]
          },
          "metadata": {}
        },
        {
          "output_type": "display_data",
          "data": {
            "text/plain": [
              "mcx.outputtype='energy';"
            ]
          },
          "metadata": {}
        },
        {
          "output_type": "display_data",
          "data": {
            "text/plain": [
              "mcx.isspecular=0;"
            ]
          },
          "metadata": {}
        },
        {
          "output_type": "display_data",
          "data": {
            "text/plain": [
              "mcx.medianum=3;"
            ]
          },
          "metadata": {}
        },
        {
          "output_type": "display_data",
          "data": {
            "text/plain": [
              "mcx.issrcfrom0=1;"
            ]
          },
          "metadata": {}
        },
        {
          "output_type": "display_data",
          "data": {
            "text/plain": [
              "mcx.srcpos=[30 30 1 1];"
            ]
          },
          "metadata": {}
        },
        {
          "output_type": "display_data",
          "data": {
            "text/plain": [
              "mcx.srcdir=[0 0 1 0];"
            ]
          },
          "metadata": {}
        },
        {
          "output_type": "display_data",
          "data": {
            "text/plain": [
              "mcx.detnum=1;"
            ]
          },
          "metadata": {}
        },
        {
          "output_type": "display_data",
          "data": {
            "text/plain": [
              "mcx.tstart=0;"
            ]
          },
          "metadata": {}
        },
        {
          "output_type": "display_data",
          "data": {
            "text/plain": [
              "mcx.tend=5e-09;"
            ]
          },
          "metadata": {}
        },
        {
          "output_type": "display_data",
          "data": {
            "text/plain": [
              "mcx.tstep=1e-10;"
            ]
          },
          "metadata": {}
        },
        {
          "output_type": "display_data",
          "data": {
            "text/plain": [
              "mcx.gpuid=1;"
            ]
          },
          "metadata": {}
        },
        {
          "output_type": "display_data",
          "data": {
            "text/plain": [
              "###############################################################################"
            ]
          },
          "metadata": {}
        },
        {
          "output_type": "display_data",
          "data": {
            "text/plain": [
              "#                      Monte Carlo eXtreme (MCX) -- CUDA                      #"
            ]
          },
          "metadata": {}
        },
        {
          "output_type": "display_data",
          "data": {
            "text/plain": [
              "#          Copyright (c) 2009-2024 Qianqian Fang <q.fang at neu.edu>          #"
            ]
          },
          "metadata": {}
        },
        {
          "output_type": "display_data",
          "data": {
            "text/plain": [
              "#                https://mcx.space/  &  https://neurojson.io/                 #"
            ]
          },
          "metadata": {}
        },
        {
          "output_type": "display_data",
          "data": {
            "text/plain": [
              "#                                                                             #"
            ]
          },
          "metadata": {}
        },
        {
          "output_type": "display_data",
          "data": {
            "text/plain": [
              "# Computational Optics & Translational Imaging (COTI) Lab- http://fanglab.org #"
            ]
          },
          "metadata": {}
        },
        {
          "output_type": "display_data",
          "data": {
            "text/plain": [
              "#   Department of Bioengineering, Northeastern University, Boston, MA, USA    #"
            ]
          },
          "metadata": {}
        },
        {
          "output_type": "display_data",
          "data": {
            "text/plain": [
              "###############################################################################"
            ]
          },
          "metadata": {}
        },
        {
          "output_type": "display_data",
          "data": {
            "text/plain": [
              "#    The MCX Project is funded by the NIH/NIGMS under grant R01-GM114365      #"
            ]
          },
          "metadata": {}
        },
        {
          "output_type": "display_data",
          "data": {
            "text/plain": [
              "###############################################################################"
            ]
          },
          "metadata": {}
        },
        {
          "output_type": "display_data",
          "data": {
            "text/plain": [
              "#  Open-source codes and reusable scientific data are essential for research, #"
            ]
          },
          "metadata": {}
        },
        {
          "output_type": "display_data",
          "data": {
            "text/plain": [
              "# MCX proudly developed human-readable JSON-based data formats for easy reuse.#"
            ]
          },
          "metadata": {}
        },
        {
          "output_type": "display_data",
          "data": {
            "text/plain": [
              "#                                                                             #"
            ]
          },
          "metadata": {}
        },
        {
          "output_type": "display_data",
          "data": {
            "text/plain": [
              "#Please visit our free scientific data sharing portal at https://neurojson.io/#"
            ]
          },
          "metadata": {}
        },
        {
          "output_type": "display_data",
          "data": {
            "text/plain": [
              "# and consider sharing your public datasets in standardized JSON/JData format #"
            ]
          },
          "metadata": {}
        },
        {
          "output_type": "display_data",
          "data": {
            "text/plain": [
              "###############################################################################"
            ]
          },
          "metadata": {}
        },
        {
          "output_type": "display_data",
          "data": {
            "text/plain": [
              "$Rev::d66a0a$v2024.6 $Date::2024-06-11 18:30:04 -04$ by $Author::Qianqian Fang$"
            ]
          },
          "metadata": {}
        },
        {
          "output_type": "display_data",
          "data": {
            "text/plain": [
              "###############################################################################"
            ]
          },
          "metadata": {}
        },
        {
          "output_type": "display_data",
          "data": {
            "text/plain": [
              "- code name: [Jumbo Jolt] compiled by nvcc [9.0] for CUDA-arch [350] on [Jun 16 2024]"
            ]
          },
          "metadata": {}
        },
        {
          "output_type": "display_data",
          "data": {
            "text/plain": [
              "- compiled with: RNG [xorshift128+] with Seed Length [4]"
            ]
          },
          "metadata": {}
        },
        {
          "output_type": "display_data",
          "data": {
            "text/plain": []
          },
          "metadata": {}
        },
        {
          "output_type": "display_data",
          "data": {
            "text/plain": [
              "GPU=1 (Tesla T4) threadph=122 extra=5760 np=10000000 nthread=81920 maxgate=50 repetition=1"
            ]
          },
          "metadata": {}
        },
        {
          "output_type": "display_data",
          "data": {
            "text/plain": [
              "initializing streams ...\tinit complete : 0 ms"
            ]
          },
          "metadata": {}
        },
        {
          "output_type": "display_data",
          "data": {
            "text/plain": [
              "requesting 1280 bytes of shared memory"
            ]
          },
          "metadata": {}
        },
        {
          "output_type": "display_data",
          "data": {
            "text/plain": [
              "launching MCX simulation for time window [0.00e+00ns 5.00e+00ns] ..."
            ]
          },
          "metadata": {}
        },
        {
          "output_type": "display_data",
          "data": {
            "text/plain": [
              "simulation run# 1 ..."
            ]
          },
          "metadata": {}
        },
        {
          "output_type": "display_data",
          "data": {
            "text/plain": [
              "kernel complete:  \t895 ms"
            ]
          },
          "metadata": {}
        },
        {
          "output_type": "display_data",
          "data": {
            "text/plain": [
              "retrieving fields ... \ttransfer complete:\t962 ms"
            ]
          },
          "metadata": {}
        },
        {
          "output_type": "display_data",
          "data": {
            "text/plain": [
              "simulated 10000000 photons (10000000) with 81920 threads (repeat x1)"
            ]
          },
          "metadata": {}
        },
        {
          "output_type": "display_data",
          "data": {
            "text/plain": [
              "MCX simulation speed: 11481.06 photon/ms"
            ]
          },
          "metadata": {}
        },
        {
          "output_type": "display_data",
          "data": {
            "text/plain": [
              "total simulated energy: 10000000.00\tabsorbed: 38.84861%"
            ]
          },
          "metadata": {}
        },
        {
          "output_type": "display_data",
          "data": {
            "text/plain": [
              "(loss due to initial specular reflection is excluded in the total)"
            ]
          },
          "metadata": {}
        },
        {
          "output_type": "display_data",
          "data": {
            "text/plain": [
              "    ans ="
            ]
          },
          "metadata": {}
        },
        {
          "output_type": "display_data",
          "data": {
            "text/plain": [
              "    {"
            ]
          },
          "metadata": {}
        },
        {
          "output_type": "display_data",
          "data": {
            "text/plain": [
              "      [1,1] = data"
            ]
          },
          "metadata": {}
        },
        {
          "output_type": "display_data",
          "data": {
            "text/plain": [
              "      [2,1] = stat"
            ]
          },
          "metadata": {}
        },
        {
          "output_type": "display_data",
          "data": {
            "text/plain": [
              "      [3,1] = dref"
            ]
          },
          "metadata": {}
        },
        {
          "output_type": "display_data",
          "data": {
            "text/plain": [
              "      [4,1] = prop"
            ]
          },
          "metadata": {}
        },
        {
          "output_type": "display_data",
          "data": {
            "text/plain": [
              "    }"
            ]
          },
          "metadata": {}
        },
        {
          "output_type": "display_data",
          "data": {
            "text/plain": []
          },
          "metadata": {}
        },
        {
          "output_type": "display_data",
          "data": {
            "text/plain": [
              "    ans ="
            ]
          },
          "metadata": {}
        },
        {
          "output_type": "display_data",
          "data": {
            "text/plain": []
          },
          "metadata": {}
        },
        {
          "output_type": "display_data",
          "data": {
            "text/plain": [
              "      scalar structure containing the fields:"
            ]
          },
          "metadata": {}
        },
        {
          "output_type": "display_data",
          "data": {
            "text/plain": []
          },
          "metadata": {}
        },
        {
          "output_type": "display_data",
          "data": {
            "text/plain": [
              "        runtime = 871"
            ]
          },
          "metadata": {}
        },
        {
          "output_type": "display_data",
          "data": {
            "text/plain": [
              "        nphoton = 1.0000e+07"
            ]
          },
          "metadata": {}
        },
        {
          "output_type": "display_data",
          "data": {
            "text/plain": [
              "        energytot = 1.0000e+07"
            ]
          },
          "metadata": {}
        },
        {
          "output_type": "display_data",
          "data": {
            "text/plain": [
              "        energyabs = 3.8849e+06"
            ]
          },
          "metadata": {}
        },
        {
          "output_type": "display_data",
          "data": {
            "text/plain": [
              "        normalizer = -2.6470e+10"
            ]
          },
          "metadata": {}
        },
        {
          "output_type": "display_data",
          "data": {
            "text/plain": [
              "        unitinmm = 1"
            ]
          },
          "metadata": {}
        },
        {
          "output_type": "display_data",
          "data": {
            "text/plain": [
              "        workload = 2560"
            ]
          },
          "metadata": {}
        },
        {
          "output_type": "display_data",
          "data": {
            "text/plain": []
          },
          "metadata": {}
        },
        {
          "output_type": "display_data",
          "data": {
            "text/plain": [
              "    ans ="
            ]
          },
          "metadata": {}
        },
        {
          "output_type": "display_data",
          "data": {
            "text/plain": []
          },
          "metadata": {}
        },
        {
          "output_type": "display_data",
          "data": {
            "text/plain": [
              "       60   60   60   50"
            ]
          },
          "metadata": {}
        },
        {
          "output_type": "display_data",
          "data": {
            "text/plain": []
          },
          "metadata": {}
        },
        {
          "output_type": "display_data",
          "data": {
            "text/plain": [
              "    ans ="
            ]
          },
          "metadata": {}
        },
        {
          "output_type": "display_data",
          "data": {
            "text/plain": []
          },
          "metadata": {}
        },
        {
          "output_type": "display_data",
          "data": {
            "text/plain": [
              "       60   60   60   50"
            ]
          },
          "metadata": {}
        },
        {
          "output_type": "display_data",
          "data": {
            "text/plain": []
          },
          "metadata": {}
        },
        {
          "output_type": "display_data",
          "data": {
            "text/plain": [
              "    total_absorbed = 3.8247e+06"
            ]
          },
          "metadata": {}
        },
        {
          "output_type": "display_data",
          "data": {
            "text/plain": [
              "    total_escaped = 6.1065e+06"
            ]
          },
          "metadata": {}
        },
        {
          "output_type": "display_data",
          "data": {
            "text/plain": [
              "    total_launched = 9931238"
            ]
          },
          "metadata": {}
        },
        {
          "output_type": "display_data",
          "data": {
            "image/png": "[encoded data removed]",
            "text/plain": [
              "<IPython.core.display.Image object>"
            ]
          },
          "metadata": {}
        }
      ]
    },
    {
      "cell_type": "markdown",
      "source": [
        "## Step 5: Visualize results\n",
        "\n",
        "---"
      ],
      "metadata": {
        "id": "wTLCCLf3bUKt"
      }
    },
    {
      "cell_type": "code",
      "source": [
        "%%octave -f svg\n",
        "cwfluence=sum(flux.data, 4);\n",
        "contourf(log10(squeeze(cwfluence(30,:,:,1))), 30);\n",
        "axis equal\n",
        "colorbar\n",
        "colormap('jet')"
      ],
      "metadata": {
        "colab": {
          "base_uri": "https://localhost:8080/",
          "height": 441
        },
        "id": "fnSBwmUfTv1e",
        "outputId": "24325a99-3956-45a4-e5e8-408d47bd3fa1"
      },
      "execution_count": 46,
      "outputs": [
        {
          "output_type": "display_data",
          "data": {
            "text/plain": [
              "<IPython.core.display.SVG object>"
            ],
            "image/svg+xml": "<svg xmlns=\"http://www.w3.org/2000/svg\" xmlns:xlink=\"http://www.w3.org/1999/xlink\" width=\"560px\" height=\"420px\" viewBox=\"0 0 560 420\">\n\n<title>Gnuplot</title>\n<desc>Produced by GNUPLOT 5.4 patchlevel 2 </desc>\n\n<g id=\"gnuplot_canvas\">\n\n<rect x=\"0\" y=\"0\" width=\"560\" height=\"420\" fill=\"none\"/>\n<defs>\n\n\t<circle id=\"gpDot\" r=\"0.5\" stroke-width=\"0.5\" stroke=\"currentColor\"/>\n\t<path id=\"gpPt0\" stroke-width=\"0.222\" stroke=\"currentColor\" d=\"M-1,0 h2 M0,-1 v2\"/>\n\t<path id=\"gpPt1\" stroke-width=\"0.222\" stroke=\"currentColor\" d=\"M-1,-1 L1,1 M1,-1 L-1,1\"/>\n\t<path id=\"gpPt2\" stroke-width=\"0.222\" stroke=\"currentColor\" d=\"M-1,0 L1,0 M0,-1 L0,1 M-1,-1 L1,1 M-1,1 L1,-1\"/>\n\t<rect id=\"gpPt3\" stroke-width=\"0.222\" stroke=\"currentColor\" x=\"-1\" y=\"-1\" width=\"2\" height=\"2\"/>\n\t<rect id=\"gpPt4\" stroke-width=\"0.222\" stroke=\"currentColor\" fill=\"currentColor\" x=\"-1\" y=\"-1\" width=\"2\" height=\"2\"/>\n\t<circle id=\"gpPt5\" stroke-width=\"0.222\" stroke=\"currentColor\" cx=\"0\" cy=\"0\" r=\"1\"/>\n\t<use xlink:href=\"#gpPt5\" id=\"gpPt6\" fill=\"currentColor\" stroke=\"none\"/>\n\t<path id=\"gpPt7\" stroke-width=\"0.222\" stroke=\"currentColor\" d=\"M0,-1.33 L-1.33,0.67 L1.33,0.67 z\"/>\n\t<use xlink:href=\"#gpPt7\" id=\"gpPt8\" fill=\"currentColor\" stroke=\"none\"/>\n\t<use xlink:href=\"#gpPt7\" id=\"gpPt9\" stroke=\"currentColor\" transform=\"rotate(180)\"/>\n\t<use xlink:href=\"#gpPt9\" id=\"gpPt10\" fill=\"currentColor\" stroke=\"none\"/>\n\t<use xlink:href=\"#gpPt3\" id=\"gpPt11\" stroke=\"currentColor\" transform=\"rotate(45)\"/>\n\t<use xlink:href=\"#gpPt11\" id=\"gpPt12\" fill=\"currentColor\" stroke=\"none\"/>\n\t<path id=\"gpPt13\" stroke-width=\"0.222\" stroke=\"currentColor\" d=\"M0,1.330 L1.265,0.411 L0.782,-1.067 L-0.782,-1.076 L-1.265,0.411 z\"/>\n\t<use xlink:href=\"#gpPt13\" id=\"gpPt14\" fill=\"currentColor\" stroke=\"none\"/>\n\t<filter id=\"textbox\" filterUnits=\"objectBoundingBox\" x=\"0\" y=\"0\" height=\"1\" width=\"1\">\n\t  <feFlood flood-color=\"white\" flood-opacity=\"1\" result=\"bgnd\"/>\n\t  <feComposite in=\"SourceGraphic\" in2=\"bgnd\" operator=\"atop\"/>\n\t</filter>\n\t<filter id=\"greybox\" filterUnits=\"objectBoundingBox\" x=\"0\" y=\"0\" height=\"1\" width=\"1\">\n\t  <feFlood flood-color=\"lightgrey\" flood-opacity=\"1\" result=\"grey\"/>\n\t  <feComposite in=\"SourceGraphic\" in2=\"grey\" operator=\"atop\"/>\n\t</filter>\n</defs>\n<g fill=\"none\" color=\"white\" stroke=\"currentColor\" stroke-width=\"1.00\" stroke-linecap=\"butt\" stroke-linejoin=\"miter\">\n</g>\n<g fill=\"none\" color=\"black\" stroke=\"currentColor\" stroke-width=\"1.00\" stroke-linecap=\"butt\" stroke-linejoin=\"miter\">\n\t<g stroke=\"none\" shape-rendering=\"crispEdges\">\n\t\t<polygon fill=\"rgb(255, 255, 255)\" points=\"75.25,373.80 417.53,373.80 417.53,31.52 75.25,31.52 \"/>\n\t</g>\n</g>\n<g fill=\"none\" color=\"black\" stroke=\"currentColor\" stroke-width=\"1.00\" stroke-linecap=\"butt\" stroke-linejoin=\"miter\">\n</g>\n\t<g id=\"gnuplot_plot_1a\"><title>gnuplot_plot_1a</title>\n<g fill=\"none\" color=\"black\" stroke=\"currentColor\" stroke-width=\"1.00\" stroke-linecap=\"butt\" stroke-linejoin=\"miter\">\n\t<g stroke=\"none\" shape-rendering=\"crispEdges\">\n\t\t<polygon fill=\"rgb(  0,   0, 143)\" points=\"81.05,368.00 81.05,368.00 86.85,368.00 92.65,368.00 98.46,368.00 104.26,368.00 110.06,368.00 115.86,368.00 121.66,368.00 127.46,368.00 133.27,368.00 139.07,368.00 144.87,368.00 150.67,368.00 156.47,368.00 162.27,368.00 168.07,368.00 173.88,368.00 179.68,368.00 185.48,368.00 191.28,368.00 197.08,368.00 202.88,368.00 208.69,368.00 214.49,368.00 220.29,368.00 226.09,368.00 231.89,368.00 237.69,368.00 243.49,368.00 249.30,368.00 255.10,368.00 260.90,368.00 266.70,368.00 272.50,368.00 278.30,368.00 284.10,368.00 289.91,368.00 295.71,368.00 301.51,368.00 307.31,368.00 313.11,368.00 318.91,368.00 324.72,368.00 330.52,368.00 336.32,368.00 342.12,368.00 347.92,368.00 353.72,368.00 359.52,368.00 365.33,368.00 371.13,368.00 376.93,368.00 382.73,368.00 388.53,368.00 394.33,368.00 400.14,368.00 405.94,368.00 411.74,368.00 411.74,368.00 411.74,362.20 411.74,356.40 411.74,350.59 411.74,344.79 411.74,338.99 411.74,333.19 411.74,327.39 411.74,321.59 411.74,315.78 411.74,309.98 411.74,304.18 411.74,298.38 411.74,292.58 411.74,286.78 411.74,280.98 411.74,275.17 411.74,269.37 411.74,263.57 411.74,257.77 411.74,251.97 411.74,246.17 411.74,240.36 411.74,234.56 411.74,228.76 411.74,222.96 411.74,217.16 411.74,211.36 411.74,205.56 411.74,199.75 411.74,193.95 411.74,188.15 411.74,182.35 411.74,176.55 411.74,170.75 411.74,164.95 411.74,159.14 411.74,153.34 411.74,147.54 411.74,141.74 411.74,135.94 411.74,130.14 411.74,124.33 411.74,118.53 411.74,112.73 411.74,106.93 411.74,101.13 411.74,95.33 411.74,89.53 411.74,83.72 411.74,77.92 411.74,72.12 411.74,66.32 411.74,60.52 411.74,54.72 411.74,48.91 411.74,43.11 411.74,37.31 411.74,37.31 405.94,37.31 400.14,37.31 394.33,37.31 388.53,37.31 382.73,37.31 376.93,37.31 371.13,37.31 365.33,37.31 359.52,37.31 353.72,37.31 347.92,37.31 342.12,37.31 336.32,37.31 330.52,37.31 324.72,37.31 318.91,37.31 313.11,37.31 307.31,37.31 301.51,37.31 295.71,37.31 289.91,37.31 284.10,37.31 278.30,37.31 272.50,37.31 266.70,37.31 260.90,37.31 255.10,37.31 249.30,37.31 243.49,37.31 237.69,37.31 231.89,37.31 226.09,37.31 220.29,37.31 214.49,37.31 208.69,37.31 202.88,37.31 197.08,37.31 191.28,37.31 185.48,37.31 179.68,37.31 173.88,37.31 168.07,37.31 162.27,37.31 156.47,37.31 150.67,37.31 144.87,37.31 139.07,37.31 133.27,37.31 127.46,37.31 121.66,37.31 115.86,37.31 110.06,37.31 104.26,37.31 98.46,37.31 92.65,37.31 86.85,37.31 81.05,37.31 81.05,37.31 81.05,43.11 81.05,48.91 81.05,54.72 81.05,60.52 81.05,66.32 81.05,72.12 81.05,77.92 81.05,83.72 81.05,89.53 81.05,95.33 81.05,101.13 81.05,106.93 81.05,112.73 81.05,118.53 81.05,124.33 81.05,130.14 81.05,135.94 81.05,141.74 81.05,147.54 81.05,153.34 81.05,159.14 81.05,164.95 81.05,170.75 81.05,176.55 81.05,182.35 81.05,188.15 81.05,193.95 81.05,199.75 81.05,205.56 81.05,211.36 81.05,217.16 81.05,222.96 81.05,228.76 81.05,234.56 81.05,240.36 81.05,246.17 81.05,251.97 81.05,257.77 81.05,263.57 81.05,269.37 81.05,275.17 81.05,280.98 81.05,286.78 81.05,292.58 81.05,298.38 81.05,304.18 81.05,309.98 81.05,315.78 81.05,321.59 81.05,327.39 81.05,333.19 81.05,338.99 81.05,344.79 81.05,350.59 81.05,356.40 81.05,362.20 \"/>\n\t</g>\n\t<path stroke=\"rgb(  0,   0, 143)\" d=\"M81.05,368.00 L86.85,368.00 L92.65,368.00 L98.46,368.00 L104.26,368.00 L110.06,368.00 L115.86,368.00 L121.66,368.00   L127.46,368.00 L133.27,368.00 L139.07,368.00 L144.87,368.00 L150.67,368.00 L156.47,368.00 L162.27,368.00 L168.07,368.00   L173.88,368.00 L179.68,368.00 L185.48,368.00 L191.28,368.00 L197.08,368.00 L202.88,368.00 L208.69,368.00 L214.49,368.00   L220.29,368.00 L226.09,368.00 L231.89,368.00 L237.69,368.00 L243.49,368.00 L249.30,368.00 L255.10,368.00 L260.90,368.00   L266.70,368.00 L272.50,368.00 L278.30,368.00 L284.10,368.00 L289.91,368.00 L295.71,368.00 L301.51,368.00 L307.31,368.00   L313.11,368.00 L318.91,368.00 L324.72,368.00 L330.52,368.00 L336.32,368.00 L342.12,368.00 L347.92,368.00 L353.72,368.00   L359.52,368.00 L365.33,368.00 L371.13,368.00 L376.93,368.00 L382.73,368.00 L388.53,368.00 L394.33,368.00 L400.14,368.00   L405.94,368.00 L411.74,368.00 L411.74,362.20 L411.74,356.40 L411.74,350.59 L411.74,344.79 L411.74,338.99 L411.74,333.19   L411.74,327.39 L411.74,321.59 L411.74,315.78 L411.74,309.98 L411.74,304.18 L411.74,298.38 L411.74,292.58 L411.74,286.78   L411.74,280.98 L411.74,275.17 L411.74,269.37 L411.74,263.57 L411.74,257.77 L411.74,251.97 L411.74,246.17 L411.74,240.36   L411.74,234.56 L411.74,228.76 L411.74,222.96 L411.74,217.16 L411.74,211.36 L411.74,205.56 L411.74,199.75 L411.74,193.95   L411.74,188.15 L411.74,182.35 L411.74,176.55 L411.74,170.75 L411.74,164.95 L411.74,159.14 L411.74,153.34 L411.74,147.54   L411.74,141.74 L411.74,135.94 L411.74,130.14 L411.74,124.33 L411.74,118.53 L411.74,112.73 L411.74,106.93 L411.74,101.13   L411.74,95.33 L411.74,89.53 L411.74,83.72 L411.74,77.92 L411.74,72.12 L411.74,66.32 L411.74,60.52 L411.74,54.72   L411.74,48.91 L411.74,43.11 L411.74,37.31 L405.94,37.31 L400.14,37.31 L394.33,37.31 L388.53,37.31 L382.73,37.31   L376.93,37.31 L371.13,37.31 L365.33,37.31 L359.52,37.31 L353.72,37.31 L347.92,37.31 L342.12,37.31 L336.32,37.31   L330.52,37.31 L324.72,37.31 L318.91,37.31 L313.11,37.31 L307.31,37.31 L301.51,37.31 L295.71,37.31 L289.91,37.31   L284.10,37.31 L278.30,37.31 L272.50,37.31 L266.70,37.31 L260.90,37.31 L255.10,37.31 L249.30,37.31 L243.49,37.31   L237.69,37.31 L231.89,37.31 L226.09,37.31 L220.29,37.31 L214.49,37.31 L208.69,37.31 L202.88,37.31 L197.08,37.31   L191.28,37.31 L185.48,37.31 L179.68,37.31 L173.88,37.31 L168.07,37.31 L162.27,37.31 L156.47,37.31 L150.67,37.31   L144.87,37.31 L139.07,37.31 L133.27,37.31 L127.46,37.31 L121.66,37.31 L115.86,37.31 L110.06,37.31 L104.26,37.31   L98.46,37.31 L92.65,37.31 L86.85,37.31 L81.05,37.31 L81.05,43.11 L81.05,48.91 L81.05,54.72 L81.05,60.52   L81.05,66.32 L81.05,72.12 L81.05,77.92 L81.05,83.72 L81.05,89.53 L81.05,95.33 L81.05,101.13 L81.05,106.93   L81.05,112.73 L81.05,118.53 L81.05,124.33 L81.05,130.14 L81.05,135.94 L81.05,141.74 L81.05,147.54 L81.05,153.34   L81.05,159.14 L81.05,164.95 L81.05,170.75 L81.05,176.55 L81.05,182.35 L81.05,188.15 L81.05,193.95 L81.05,199.75   L81.05,205.56 L81.05,211.36 L81.05,217.16 L81.05,222.96 L81.05,228.76 L81.05,234.56 L81.05,240.36 L81.05,246.17   L81.05,251.97 L81.05,257.77 L81.05,263.57 L81.05,269.37 L81.05,275.17 L81.05,280.98 L81.05,286.78 L81.05,292.58   L81.05,298.38 L81.05,304.18 L81.05,309.98 L81.05,315.78 L81.05,321.59 L81.05,327.39 L81.05,333.19 L81.05,338.99   L81.05,344.79 L81.05,350.59 L81.05,356.40 L81.05,362.20  \"/></g>\n\t</g>\n\t<g id=\"gnuplot_plot_2a\"><title>gnuplot_plot_2a</title>\n<g fill=\"none\" color=\"white\" stroke=\"rgb(  0,   0, 143)\" stroke-width=\"0.50\" stroke-linecap=\"butt\" stroke-linejoin=\"miter\">\n</g>\n<g fill=\"none\" color=\"black\" stroke=\"currentColor\" stroke-width=\"0.50\" stroke-linecap=\"butt\" stroke-linejoin=\"miter\">\n\t<path stroke=\"rgb(  0,   0,   0)\" d=\"M81.05,368.00 L86.85,368.00 L92.65,368.00 L98.46,368.00 L104.26,368.00 L110.06,368.00 L115.86,368.00 L121.66,368.00   L127.46,368.00 L133.27,368.00 L139.07,368.00 L144.87,368.00 L150.67,368.00 L156.47,368.00 L162.27,368.00 L168.07,368.00   L173.88,368.00 L179.68,368.00 L185.48,368.00 L191.28,368.00 L197.08,368.00 L202.88,368.00 L208.69,368.00 L214.49,368.00   L220.29,368.00 L226.09,368.00 L231.89,368.00 L237.69,368.00 L243.49,368.00 L249.30,368.00 L255.10,368.00 L260.90,368.00   L266.70,368.00 L272.50,368.00 L278.30,368.00 L284.10,368.00 L289.91,368.00 L295.71,368.00 L301.51,368.00 L307.31,368.00   L313.11,368.00 L318.91,368.00 L324.72,368.00 L330.52,368.00 L336.32,368.00 L342.12,368.00 L347.92,368.00 L353.72,368.00   L359.52,368.00 L365.33,368.00 L371.13,368.00 L376.93,368.00 L382.73,368.00 L388.53,368.00 L394.33,368.00 L400.14,368.00   L405.94,368.00 L411.74,368.00 L411.74,362.20 L411.74,356.40 L411.74,350.59 L411.74,344.79 L411.74,338.99 L411.74,333.19   L411.74,327.39 L411.74,321.59 L411.74,315.78 L411.74,309.98 L411.74,304.18 L411.74,298.38 L411.74,292.58 L411.74,286.78   L411.74,280.98 L411.74,275.17 L411.74,269.37 L411.74,263.57 L411.74,257.77 L411.74,251.97 L411.74,246.17 L411.74,240.36   L411.74,234.56 L411.74,228.76 L411.74,222.96 L411.74,217.16 L411.74,211.36 L411.74,205.56 L411.74,199.75 L411.74,193.95   L411.74,188.15 L411.74,182.35 L411.74,176.55 L411.74,170.75 L411.74,164.95 L411.74,159.14 L411.74,153.34 L411.74,147.54   L411.74,141.74 L411.74,135.94 L411.74,130.14 L411.74,124.33 L411.74,118.53 L411.74,112.73 L411.74,106.93 L411.74,101.13   L411.74,95.33 L411.74,89.53 L411.74,83.72 L411.74,77.92 L411.74,72.12 L411.74,66.32 L411.74,60.52 L411.74,54.72   L411.74,48.91 L411.74,43.11 L411.74,37.31 L405.94,37.31 L400.14,37.31 L394.33,37.31 L388.53,37.31 L382.73,37.31   L376.93,37.31 L371.13,37.31 L365.33,37.31 L359.52,37.31 L353.72,37.31 L347.92,37.31 L342.12,37.31 L336.32,37.31   L330.52,37.31 L324.72,37.31 L318.91,37.31 L313.11,37.31 L307.31,37.31 L301.51,37.31 L295.71,37.31 L289.91,37.31   L284.10,37.31 L278.30,37.31 L272.50,37.31 L266.70,37.31 L260.90,37.31 L255.10,37.31 L249.30,37.31 L243.49,37.31   L237.69,37.31 L231.89,37.31 L226.09,37.31 L220.29,37.31 L214.49,37.31 L208.69,37.31 L202.88,37.31 L197.08,37.31   L191.28,37.31 L185.48,37.31 L179.68,37.31 L173.88,37.31 L168.07,37.31 L162.27,37.31 L156.47,37.31 L150.67,37.31   L144.87,37.31 L139.07,37.31 L133.27,37.31 L127.46,37.31 L121.66,37.31 L115.86,37.31 L110.06,37.31 L104.26,37.31   L98.46,37.31 L92.65,37.31 L86.85,37.31 L81.05,37.31 L81.05,43.11 L81.05,48.91 L81.05,54.72 L81.05,60.52   L81.05,66.32 L81.05,72.12 L81.05,77.92 L81.05,83.72 L81.05,89.53 L81.05,95.33 L81.05,101.13 L81.05,106.93   L81.05,112.73 L81.05,118.53 L81.05,124.33 L81.05,130.14 L81.05,135.94 L81.05,141.74 L81.05,147.54 L81.05,153.34   L81.05,159.14 L81.05,164.95 L81.05,170.75 L81.05,176.55 L81.05,182.35 L81.05,188.15 L81.05,193.95 L81.05,199.75   L81.05,205.56 L81.05,211.36 L81.05,217.16 L81.05,222.96 L81.05,228.76 L81.05,234.56 L81.05,240.36 L81.05,246.17   L81.05,251.97 L81.05,257.77 L81.05,263.57 L81.05,269.37 L81.05,275.17 L81.05,280.98 L81.05,286.78 L81.05,292.58   L81.05,298.38 L81.05,304.18 L81.05,309.98 L81.05,315.78 L81.05,321.59 L81.05,327.39 L81.05,333.19 L81.05,338.99   L81.05,344.79 L81.05,350.59 L81.05,356.40 L81.05,362.20 L81.05,368.00  \"/></g>\n\t</g>\n\t<g id=\"gnuplot_plot_3a\"><title>gnuplot_plot_3a</title>\n<g fill=\"none\" color=\"white\" stroke=\"rgb(  0,   0,   0)\" stroke-width=\"1.00\" stroke-linecap=\"butt\" stroke-linejoin=\"miter\">\n</g>\n<g fill=\"none\" color=\"black\" stroke=\"currentColor\" stroke-width=\"1.00\" stroke-linecap=\"butt\" stroke-linejoin=\"miter\">\n\t<g stroke=\"none\" shape-rendering=\"crispEdges\">\n\t\t<polygon fill=\"rgb(  0,   0, 175)\" points=\"81.05,368.00 81.05,368.00 86.85,368.00 92.65,368.00 98.46,368.00 104.26,368.00 110.06,368.00 115.86,368.00 121.66,368.00 127.46,368.00 133.27,368.00 139.07,368.00 144.87,368.00 150.67,368.00 156.47,368.00 162.27,368.00 168.07,368.00 173.88,368.00 179.68,368.00 185.48,368.00 191.28,368.00 197.08,368.00 202.88,368.00 208.69,368.00 214.49,368.00 220.29,368.00 226.09,368.00 231.89,368.00 237.69,368.00 243.49,368.00 249.30,368.00 255.10,368.00 260.90,368.00 266.70,368.00 272.50,368.00 278.30,368.00 284.10,368.00 289.91,368.00 295.71,368.00 301.51,368.00 307.31,368.00 313.11,368.00 318.91,368.00 324.72,368.00 330.52,368.00 336.32,368.00 342.12,368.00 347.92,368.00 353.72,368.00 359.52,368.00 365.33,368.00 371.13,368.00 376.93,368.00 382.73,368.00 388.53,368.00 394.33,368.00 400.14,368.00 402.49,368.00 405.94,366.35 411.74,364.65 411.74,362.20 411.74,356.40 411.74,350.59 411.74,344.79 411.74,338.99 411.74,333.19 411.74,327.39 411.74,321.59 411.74,315.78 411.74,309.98 411.74,304.18 411.74,298.38 411.74,292.58 411.74,286.78 411.74,280.98 411.74,275.17 411.74,269.37 411.74,263.57 411.74,257.77 411.74,251.97 411.74,246.17 411.74,240.36 411.74,234.56 411.74,228.76 411.74,222.96 411.74,217.16 411.74,211.36 411.74,205.56 411.74,199.75 411.74,193.95 411.74,188.15 411.74,182.35 411.74,176.55 411.74,170.75 411.74,164.95 411.74,159.14 411.74,153.34 411.74,147.54 411.74,141.74 411.74,135.94 411.74,130.14 411.74,124.33 411.74,118.53 411.74,112.73 411.74,106.93 411.74,101.13 411.74,95.33 411.74,89.53 411.74,83.72 411.74,77.92 411.74,72.12 411.74,68.18 409.86,66.32 411.74,65.31 411.74,60.52 411.74,56.78 405.94,57.74 403.97,54.72 401.33,48.91 400.14,47.42 394.33,45.01 392.55,43.11 390.16,37.31 388.53,37.31 382.73,37.31 376.93,37.31 371.13,37.31 365.33,37.31 359.52,37.31 353.72,37.31 347.92,37.31 342.12,37.31 336.32,37.31 330.52,37.31 324.72,37.31 318.91,37.31 313.11,37.31 307.31,37.31 301.51,37.31 295.71,37.31 289.91,37.31 284.10,37.31 278.30,37.31 272.50,37.31 266.70,37.31 260.90,37.31 255.10,37.31 249.30,37.31 243.49,37.31 237.69,37.31 231.89,37.31 226.09,37.31 220.29,37.31 214.49,37.31 208.69,37.31 202.88,37.31 197.08,37.31 191.28,37.31 185.48,37.31 179.68,37.31 173.88,37.31 168.07,37.31 162.27,37.31 156.47,37.31 150.67,37.31 144.87,37.31 139.07,37.31 133.27,37.31 127.46,37.31 121.66,37.31 115.86,37.31 110.06,37.31 104.26,37.31 98.46,37.31 92.65,37.31 86.85,37.31 81.05,37.31 81.05,37.31 81.05,43.11 81.05,48.91 81.05,54.72 81.05,60.52 81.05,66.32 81.05,72.12 81.05,77.92 81.05,83.72 81.05,89.53 81.05,95.33 81.05,101.13 81.05,106.93 81.05,112.73 81.05,118.53 81.05,124.33 81.05,130.14 81.05,135.94 81.05,141.74 81.05,147.54 81.05,153.34 81.05,159.14 81.05,164.95 81.05,170.75 81.05,176.55 81.05,182.35 81.05,188.15 81.05,193.95 81.05,199.75 81.05,205.56 81.05,211.36 81.05,217.16 81.05,222.96 81.05,228.76 81.05,234.56 81.05,240.36 81.05,246.17 81.05,251.97 81.05,257.77 81.05,263.57 81.05,269.37 81.05,275.17 81.05,280.98 81.05,286.78 81.05,292.58 81.05,298.38 81.05,304.18 81.05,309.98 81.05,315.78 81.05,321.59 81.05,327.39 81.05,333.19 81.05,338.99 81.05,344.79 81.05,350.59 81.05,356.40 81.05,362.20 \"/>\n\t</g>\n\t<path stroke=\"rgb(  0,   0, 175)\" d=\"M81.05,368.00 L86.85,368.00 L92.65,368.00 L98.46,368.00 L104.26,368.00 L110.06,368.00 L115.86,368.00 L121.66,368.00   L127.46,368.00 L133.27,368.00 L139.07,368.00 L144.87,368.00 L150.67,368.00 L156.47,368.00 L162.27,368.00 L168.07,368.00   L173.88,368.00 L179.68,368.00 L185.48,368.00 L191.28,368.00 L197.08,368.00 L202.88,368.00 L208.69,368.00 L214.49,368.00   L220.29,368.00 L226.09,368.00 L231.89,368.00 L237.69,368.00 L243.49,368.00 L249.30,368.00 L255.10,368.00 L260.90,368.00   L266.70,368.00 L272.50,368.00 L278.30,368.00 L284.10,368.00 L289.91,368.00 L295.71,368.00 L301.51,368.00 L307.31,368.00   L313.11,368.00 L318.91,368.00 L324.72,368.00 L330.52,368.00 L336.32,368.00 L342.12,368.00 L347.92,368.00 L353.72,368.00   L359.52,368.00 L365.33,368.00 L371.13,368.00 L376.93,368.00 L382.73,368.00 L388.53,368.00 L394.33,368.00 L400.14,368.00   L402.49,368.00 L405.94,366.35 L411.74,364.65 L411.74,362.20 L411.74,356.40 L411.74,350.59 L411.74,344.79 L411.74,338.99   L411.74,333.19 L411.74,327.39 L411.74,321.59 L411.74,315.78 L411.74,309.98 L411.74,304.18 L411.74,298.38 L411.74,292.58   L411.74,286.78 L411.74,280.98 L411.74,275.17 L411.74,269.37 L411.74,263.57 L411.74,257.77 L411.74,251.97 L411.74,246.17   L411.74,240.36 L411.74,234.56 L411.74,228.76 L411.74,222.96 L411.74,217.16 L411.74,211.36 L411.74,205.56 L411.74,199.75   L411.74,193.95 L411.74,188.15 L411.74,182.35 L411.74,176.55 L411.74,170.75 L411.74,164.95 L411.74,159.14 L411.74,153.34   L411.74,147.54 L411.74,141.74 L411.74,135.94 L411.74,130.14 L411.74,124.33 L411.74,118.53 L411.74,112.73 L411.74,106.93   L411.74,101.13 L411.74,95.33 L411.74,89.53 L411.74,83.72 L411.74,77.92 L411.74,72.12 L411.74,68.18 L409.86,66.32   L411.74,65.31 L411.74,60.52 L411.74,56.78 L405.94,57.74 L403.97,54.72 L401.33,48.91 L400.14,47.42 L394.33,45.01   L392.55,43.11 L390.16,37.31 L388.53,37.31 L382.73,37.31 L376.93,37.31 L371.13,37.31 L365.33,37.31 L359.52,37.31   L353.72,37.31 L347.92,37.31 L342.12,37.31 L336.32,37.31 L330.52,37.31 L324.72,37.31 L318.91,37.31 L313.11,37.31   L307.31,37.31 L301.51,37.31 L295.71,37.31 L289.91,37.31 L284.10,37.31 L278.30,37.31 L272.50,37.31 L266.70,37.31   L260.90,37.31 L255.10,37.31 L249.30,37.31 L243.49,37.31 L237.69,37.31 L231.89,37.31 L226.09,37.31 L220.29,37.31   L214.49,37.31 L208.69,37.31 L202.88,37.31 L197.08,37.31 L191.28,37.31 L185.48,37.31 L179.68,37.31 L173.88,37.31   L168.07,37.31 L162.27,37.31 L156.47,37.31 L150.67,37.31 L144.87,37.31 L139.07,37.31 L133.27,37.31 L127.46,37.31   L121.66,37.31 L115.86,37.31 L110.06,37.31 L104.26,37.31 L98.46,37.31 L92.65,37.31 L86.85,37.31 L81.05,37.31   L81.05,43.11 L81.05,48.91 L81.05,54.72 L81.05,60.52 L81.05,66.32 L81.05,72.12 L81.05,77.92 L81.05,83.72   L81.05,89.53 L81.05,95.33 L81.05,101.13 L81.05,106.93 L81.05,112.73 L81.05,118.53 L81.05,124.33 L81.05,130.14   L81.05,135.94 L81.05,141.74 L81.05,147.54 L81.05,153.34 L81.05,159.14 L81.05,164.95 L81.05,170.75 L81.05,176.55   L81.05,182.35 L81.05,188.15 L81.05,193.95 L81.05,199.75 L81.05,205.56 L81.05,211.36 L81.05,217.16 L81.05,222.96   L81.05,228.76 L81.05,234.56 L81.05,240.36 L81.05,246.17 L81.05,251.97 L81.05,257.77 L81.05,263.57 L81.05,269.37   L81.05,275.17 L81.05,280.98 L81.05,286.78 L81.05,292.58 L81.05,298.38 L81.05,304.18 L81.05,309.98 L81.05,315.78   L81.05,321.59 L81.05,327.39 L81.05,333.19 L81.05,338.99 L81.05,344.79 L81.05,350.59 L81.05,356.40 L81.05,362.20    \"/></g>\n\t</g>\n\t<g id=\"gnuplot_plot_4a\"><title>gnuplot_plot_4a</title>\n<g fill=\"none\" color=\"white\" stroke=\"rgb(  0,   0, 175)\" stroke-width=\"0.50\" stroke-linecap=\"butt\" stroke-linejoin=\"miter\">\n</g>\n<g fill=\"none\" color=\"black\" stroke=\"currentColor\" stroke-width=\"0.50\" stroke-linecap=\"butt\" stroke-linejoin=\"miter\">\n\t<path stroke=\"rgb(  0,   0,   0)\" d=\"M81.05,368.00 L86.85,368.00 L92.65,368.00 L98.46,368.00 L104.26,368.00 L110.06,368.00 L115.86,368.00 L121.66,368.00   L127.46,368.00 L133.27,368.00 L139.07,368.00 L144.87,368.00 L150.67,368.00 L156.47,368.00 L162.27,368.00 L168.07,368.00   L173.88,368.00 L179.68,368.00 L185.48,368.00 L191.28,368.00 L197.08,368.00 L202.88,368.00 L208.69,368.00 L214.49,368.00   L220.29,368.00 L226.09,368.00 L231.89,368.00 L237.69,368.00 L243.49,368.00 L249.30,368.00 L255.10,368.00 L260.90,368.00   L266.70,368.00 L272.50,368.00 L278.30,368.00 L284.10,368.00 L289.91,368.00 L295.71,368.00 L301.51,368.00 L307.31,368.00   L313.11,368.00 L318.91,368.00 L324.72,368.00 L330.52,368.00 L336.32,368.00 L342.12,368.00 L347.92,368.00 L353.72,368.00   L359.52,368.00 L365.33,368.00 L371.13,368.00 L376.93,368.00 L382.73,368.00 L388.53,368.00 L394.33,368.00 L400.14,368.00   L402.49,368.00 L405.94,366.35 L411.74,364.65 L411.74,362.20 L411.74,356.40 L411.74,350.59 L411.74,344.79 L411.74,338.99   L411.74,333.19 L411.74,327.39 L411.74,321.59 L411.74,315.78 L411.74,309.98 L411.74,304.18 L411.74,298.38 L411.74,292.58   L411.74,286.78 L411.74,280.98 L411.74,275.17 L411.74,269.37 L411.74,263.57 L411.74,257.77 L411.74,251.97 L411.74,246.17   L411.74,240.36 L411.74,234.56 L411.74,228.76 L411.74,222.96 L411.74,217.16 L411.74,211.36 L411.74,205.56 L411.74,199.75   L411.74,193.95 L411.74,188.15 L411.74,182.35 L411.74,176.55 L411.74,170.75 L411.74,164.95 L411.74,159.14 L411.74,153.34   L411.74,147.54 L411.74,141.74 L411.74,135.94 L411.74,130.14 L411.74,124.33 L411.74,118.53 L411.74,112.73 L411.74,106.93   L411.74,101.13 L411.74,95.33 L411.74,89.53 L411.74,83.72 L411.74,77.92 L411.74,72.12 L411.74,68.18 L409.86,66.32   L411.74,65.31 L411.74,60.52 L411.74,56.78 L405.94,57.74 L403.97,54.72 L401.33,48.91 L400.14,47.42 L394.33,45.01   L392.55,43.11 L390.16,37.31 L388.53,37.31 L382.73,37.31 L376.93,37.31 L371.13,37.31 L365.33,37.31 L359.52,37.31   L353.72,37.31 L347.92,37.31 L342.12,37.31 L336.32,37.31 L330.52,37.31 L324.72,37.31 L318.91,37.31 L313.11,37.31   L307.31,37.31 L301.51,37.31 L295.71,37.31 L289.91,37.31 L284.10,37.31 L278.30,37.31 L272.50,37.31 L266.70,37.31   L260.90,37.31 L255.10,37.31 L249.30,37.31 L243.49,37.31 L237.69,37.31 L231.89,37.31 L226.09,37.31 L220.29,37.31   L214.49,37.31 L208.69,37.31 L202.88,37.31 L197.08,37.31 L191.28,37.31 L185.48,37.31 L179.68,37.31 L173.88,37.31   L168.07,37.31 L162.27,37.31 L156.47,37.31 L150.67,37.31 L144.87,37.31 L139.07,37.31 L133.27,37.31 L127.46,37.31   L121.66,37.31 L115.86,37.31 L110.06,37.31 L104.26,37.31 L98.46,37.31 L92.65,37.31 L86.85,37.31 L81.05,37.31   L81.05,43.11 L81.05,48.91 L81.05,54.72 L81.05,60.52 L81.05,66.32 L81.05,72.12 L81.05,77.92 L81.05,83.72   L81.05,89.53 L81.05,95.33 L81.05,101.13 L81.05,106.93 L81.05,112.73 L81.05,118.53 L81.05,124.33 L81.05,130.14   L81.05,135.94 L81.05,141.74 L81.05,147.54 L81.05,153.34 L81.05,159.14 L81.05,164.95 L81.05,170.75 L81.05,176.55   L81.05,182.35 L81.05,188.15 L81.05,193.95 L81.05,199.75 L81.05,205.56 L81.05,211.36 L81.05,217.16 L81.05,222.96   L81.05,228.76 L81.05,234.56 L81.05,240.36 L81.05,246.17 L81.05,251.97 L81.05,257.77 L81.05,263.57 L81.05,269.37   L81.05,275.17 L81.05,280.98 L81.05,286.78 L81.05,292.58 L81.05,298.38 L81.05,304.18 L81.05,309.98 L81.05,315.78   L81.05,321.59 L81.05,327.39 L81.05,333.19 L81.05,338.99 L81.05,344.79 L81.05,350.59 L81.05,356.40 L81.05,362.20   L81.05,368.00  \"/></g>\n\t</g>\n\t<g id=\"gnuplot_plot_5a\"><title>gnuplot_plot_5a</title>\n<g fill=\"none\" color=\"white\" stroke=\"rgb(  0,   0,   0)\" stroke-width=\"1.00\" stroke-linecap=\"butt\" stroke-linejoin=\"miter\">\n</g>\n<g fill=\"none\" color=\"black\" stroke=\"currentColor\" stroke-width=\"1.00\" stroke-linecap=\"butt\" stroke-linejoin=\"miter\">\n\t<g stroke=\"none\" shape-rendering=\"crispEdges\">\n\t\t<polygon fill=\"rgb(  0,   0, 207)\" points=\"81.05,368.00 81.05,368.00 86.85,368.00 92.65,368.00 98.46,368.00 104.26,368.00 110.06,368.00 115.86,368.00 121.66,368.00 127.46,368.00 133.27,368.00 139.07,368.00 144.87,368.00 150.67,368.00 156.47,368.00 162.27,368.00 168.07,368.00 173.88,368.00 179.68,368.00 185.48,368.00 191.28,368.00 197.08,368.00 202.88,368.00 208.69,368.00 214.49,368.00 220.29,368.00 226.09,368.00 231.89,368.00 237.69,368.00 243.49,368.00 249.30,368.00 255.10,368.00 260.90,368.00 266.70,368.00 272.50,368.00 278.30,368.00 284.10,368.00 289.91,368.00 295.71,368.00 301.51,368.00 307.31,368.00 313.11,368.00 318.91,368.00 324.72,368.00 330.52,368.00 336.32,368.00 342.12,368.00 347.92,368.00 353.72,368.00 359.52,368.00 365.33,368.00 371.13,368.00 376.93,368.00 382.73,368.00 385.52,368.00 388.53,363.35 390.49,362.20 394.33,358.98 398.15,356.40 400.14,352.84 401.49,350.59 403.15,344.79 405.94,341.42 407.38,338.99 411.74,333.36 411.74,333.19 411.74,332.75 410.71,327.39 411.74,325.60 411.74,321.59 411.74,315.78 411.74,309.98 411.74,304.18 411.74,298.38 411.74,292.58 411.74,286.78 411.74,280.98 411.74,275.17 411.74,269.37 411.74,263.57 411.74,257.77 411.74,251.97 411.74,246.17 411.74,240.36 411.74,234.56 411.74,228.76 411.74,222.96 411.74,217.16 411.74,211.36 411.74,205.56 411.74,199.75 411.74,193.95 411.74,188.15 411.74,182.35 411.74,176.55 411.74,170.75 411.74,164.95 411.74,159.14 411.74,153.34 411.74,147.54 411.74,141.74 411.74,135.94 411.74,130.14 411.74,124.33 411.74,118.53 411.74,114.83 410.46,112.73 410.15,106.93 408.30,101.13 409.82,95.33 407.35,89.53 406.21,83.72 405.94,83.31 401.55,77.92 400.14,76.16 394.33,72.45 393.85,72.12 394.33,70.75 395.42,66.32 394.33,64.54 388.53,63.35 387.21,60.52 383.97,54.72 382.73,52.82 376.93,50.10 375.39,48.91 376.81,43.11 372.94,37.31 371.13,37.31 365.33,37.31 359.52,37.31 353.72,37.31 347.92,37.31 342.12,37.31 336.32,37.31 330.52,37.31 324.72,37.31 318.91,37.31 313.11,37.31 307.31,37.31 301.51,37.31 295.71,37.31 289.91,37.31 284.10,37.31 278.30,37.31 272.50,37.31 266.70,37.31 260.90,37.31 255.10,37.31 249.30,37.31 243.49,37.31 237.69,37.31 231.89,37.31 226.09,37.31 220.29,37.31 214.49,37.31 208.69,37.31 202.88,37.31 197.08,37.31 191.28,37.31 185.48,37.31 179.68,37.31 173.88,37.31 168.07,37.31 162.27,37.31 156.47,37.31 150.67,37.31 144.87,37.31 139.07,37.31 133.27,37.31 127.46,37.31 121.66,37.31 115.86,37.31 110.06,37.31 104.26,37.31 98.46,37.31 92.65,37.31 86.85,37.31 81.05,37.31 81.05,37.31 81.05,43.11 81.05,48.91 81.05,54.72 81.05,60.52 81.05,66.32 81.05,72.12 81.05,77.92 81.05,83.72 81.05,89.53 81.05,95.33 81.05,101.13 81.05,106.93 81.05,112.73 81.05,118.53 81.05,124.33 81.05,130.14 81.05,135.94 81.05,141.74 81.05,147.54 81.05,153.34 81.05,159.14 81.05,164.95 81.05,170.75 81.05,176.55 81.05,182.35 81.05,188.15 81.05,193.95 81.05,199.75 81.05,205.56 81.05,211.36 81.05,217.16 81.05,222.96 81.05,228.76 81.05,234.56 81.05,240.36 81.05,246.17 81.05,251.97 81.05,257.77 81.05,263.57 81.05,269.37 81.05,275.17 81.05,280.98 81.05,286.78 81.05,292.58 81.05,298.38 81.05,304.18 81.05,309.98 81.05,315.78 81.05,321.59 81.05,327.39 81.05,333.19 81.05,338.99 81.05,344.79 81.05,350.59 81.05,356.40 81.05,362.20 \"/>\n\t</g>\n\t<path stroke=\"rgb(  0,   0, 207)\" d=\"M81.05,368.00 L86.85,368.00 L92.65,368.00 L98.46,368.00 L104.26,368.00 L110.06,368.00 L115.86,368.00 L121.66,368.00   L127.46,368.00 L133.27,368.00 L139.07,368.00 L144.87,368.00 L150.67,368.00 L156.47,368.00 L162.27,368.00 L168.07,368.00   L173.88,368.00 L179.68,368.00 L185.48,368.00 L191.28,368.00 L197.08,368.00 L202.88,368.00 L208.69,368.00 L214.49,368.00   L220.29,368.00 L226.09,368.00 L231.89,368.00 L237.69,368.00 L243.49,368.00 L249.30,368.00 L255.10,368.00 L260.90,368.00   L266.70,368.00 L272.50,368.00 L278.30,368.00 L284.10,368.00 L289.91,368.00 L295.71,368.00 L301.51,368.00 L307.31,368.00   L313.11,368.00 L318.91,368.00 L324.72,368.00 L330.52,368.00 L336.32,368.00 L342.12,368.00 L347.92,368.00 L353.72,368.00   L359.52,368.00 L365.33,368.00 L371.13,368.00 L376.93,368.00 L382.73,368.00 L385.52,368.00 L388.53,363.35 L390.49,362.20   L394.33,358.98 L398.15,356.40 L400.14,352.84 L401.49,350.59 L403.15,344.79 L405.94,341.42 L407.38,338.99 L411.74,333.36   L411.74,333.19 L411.74,332.75 L410.71,327.39 L411.74,325.60 L411.74,321.59 L411.74,315.78 L411.74,309.98 L411.74,304.18   L411.74,298.38 L411.74,292.58 L411.74,286.78 L411.74,280.98 L411.74,275.17 L411.74,269.37 L411.74,263.57 L411.74,257.77   L411.74,251.97 L411.74,246.17 L411.74,240.36 L411.74,234.56 L411.74,228.76 L411.74,222.96 L411.74,217.16 L411.74,211.36   L411.74,205.56 L411.74,199.75 L411.74,193.95 L411.74,188.15 L411.74,182.35 L411.74,176.55 L411.74,170.75 L411.74,164.95   L411.74,159.14 L411.74,153.34 L411.74,147.54 L411.74,141.74 L411.74,135.94 L411.74,130.14 L411.74,124.33 L411.74,118.53   L411.74,114.83 L410.46,112.73 L410.15,106.93 L408.30,101.13 L409.82,95.33 L407.35,89.53 L406.21,83.72 L405.94,83.31   L401.55,77.92 L400.14,76.16 L394.33,72.45 L393.85,72.12 L394.33,70.75 L395.42,66.32 L394.33,64.54 L388.53,63.35   L387.21,60.52 L383.97,54.72 L382.73,52.82 L376.93,50.10 L375.39,48.91 L376.81,43.11 L372.94,37.31 L371.13,37.31   L365.33,37.31 L359.52,37.31 L353.72,37.31 L347.92,37.31 L342.12,37.31 L336.32,37.31 L330.52,37.31 L324.72,37.31   L318.91,37.31 L313.11,37.31 L307.31,37.31 L301.51,37.31 L295.71,37.31 L289.91,37.31 L284.10,37.31 L278.30,37.31   L272.50,37.31 L266.70,37.31 L260.90,37.31 L255.10,37.31 L249.30,37.31 L243.49,37.31 L237.69,37.31 L231.89,37.31   L226.09,37.31 L220.29,37.31 L214.49,37.31 L208.69,37.31 L202.88,37.31 L197.08,37.31 L191.28,37.31 L185.48,37.31   L179.68,37.31 L173.88,37.31 L168.07,37.31 L162.27,37.31 L156.47,37.31 L150.67,37.31 L144.87,37.31 L139.07,37.31   L133.27,37.31 L127.46,37.31 L121.66,37.31 L115.86,37.31 L110.06,37.31 L104.26,37.31 L98.46,37.31 L92.65,37.31   L86.85,37.31 L81.05,37.31 L81.05,43.11 L81.05,48.91 L81.05,54.72 L81.05,60.52 L81.05,66.32 L81.05,72.12   L81.05,77.92 L81.05,83.72 L81.05,89.53 L81.05,95.33 L81.05,101.13 L81.05,106.93 L81.05,112.73 L81.05,118.53   L81.05,124.33 L81.05,130.14 L81.05,135.94 L81.05,141.74 L81.05,147.54 L81.05,153.34 L81.05,159.14 L81.05,164.95   L81.05,170.75 L81.05,176.55 L81.05,182.35 L81.05,188.15 L81.05,193.95 L81.05,199.75 L81.05,205.56 L81.05,211.36   L81.05,217.16 L81.05,222.96 L81.05,228.76 L81.05,234.56 L81.05,240.36 L81.05,246.17 L81.05,251.97 L81.05,257.77   L81.05,263.57 L81.05,269.37 L81.05,275.17 L81.05,280.98 L81.05,286.78 L81.05,292.58 L81.05,298.38 L81.05,304.18   L81.05,309.98 L81.05,315.78 L81.05,321.59 L81.05,327.39 L81.05,333.19 L81.05,338.99 L81.05,344.79 L81.05,350.59   L81.05,356.40 L81.05,362.20  \"/></g>\n\t</g>\n\t<g id=\"gnuplot_plot_6a\"><title>gnuplot_plot_6a</title>\n<g fill=\"none\" color=\"white\" stroke=\"rgb(  0,   0, 207)\" stroke-width=\"0.50\" stroke-linecap=\"butt\" stroke-linejoin=\"miter\">\n</g>\n<g fill=\"none\" color=\"black\" stroke=\"currentColor\" stroke-width=\"0.50\" stroke-linecap=\"butt\" stroke-linejoin=\"miter\">\n\t<path stroke=\"rgb(  0,   0,   0)\" d=\"M81.05,368.00 L86.85,368.00 L92.65,368.00 L98.46,368.00 L104.26,368.00 L110.06,368.00 L115.86,368.00 L121.66,368.00   L127.46,368.00 L133.27,368.00 L139.07,368.00 L144.87,368.00 L150.67,368.00 L156.47,368.00 L162.27,368.00 L168.07,368.00   L173.88,368.00 L179.68,368.00 L185.48,368.00 L191.28,368.00 L197.08,368.00 L202.88,368.00 L208.69,368.00 L214.49,368.00   L220.29,368.00 L226.09,368.00 L231.89,368.00 L237.69,368.00 L243.49,368.00 L249.30,368.00 L255.10,368.00 L260.90,368.00   L266.70,368.00 L272.50,368.00 L278.30,368.00 L284.10,368.00 L289.91,368.00 L295.71,368.00 L301.51,368.00 L307.31,368.00   L313.11,368.00 L318.91,368.00 L324.72,368.00 L330.52,368.00 L336.32,368.00 L342.12,368.00 L347.92,368.00 L353.72,368.00   L359.52,368.00 L365.33,368.00 L371.13,368.00 L376.93,368.00 L382.73,368.00 L385.52,368.00 L388.53,363.35 L390.49,362.20   L394.33,358.98 L398.15,356.40 L400.14,352.84 L401.49,350.59 L403.15,344.79 L405.94,341.42 L407.38,338.99 L411.74,333.36   L411.74,333.19 L411.74,332.75 L410.71,327.39 L411.74,325.60 L411.74,321.59 L411.74,315.78 L411.74,309.98 L411.74,304.18   L411.74,298.38 L411.74,292.58 L411.74,286.78 L411.74,280.98 L411.74,275.17 L411.74,269.37 L411.74,263.57 L411.74,257.77   L411.74,251.97 L411.74,246.17 L411.74,240.36 L411.74,234.56 L411.74,228.76 L411.74,222.96 L411.74,217.16 L411.74,211.36   L411.74,205.56 L411.74,199.75 L411.74,193.95 L411.74,188.15 L411.74,182.35 L411.74,176.55 L411.74,170.75 L411.74,164.95   L411.74,159.14 L411.74,153.34 L411.74,147.54 L411.74,141.74 L411.74,135.94 L411.74,130.14 L411.74,124.33 L411.74,118.53   L411.74,114.83 L410.46,112.73 L410.15,106.93 L408.30,101.13 L409.82,95.33 L407.35,89.53 L406.21,83.72 L405.94,83.31   L401.55,77.92 L400.14,76.16 L394.33,72.45 L393.85,72.12 L394.33,70.75 L395.42,66.32 L394.33,64.54 L388.53,63.35   L387.21,60.52 L383.97,54.72 L382.73,52.82 L376.93,50.10 L375.39,48.91 L376.81,43.11 L372.94,37.31 L371.13,37.31   L365.33,37.31 L359.52,37.31 L353.72,37.31 L347.92,37.31 L342.12,37.31 L336.32,37.31 L330.52,37.31 L324.72,37.31   L318.91,37.31 L313.11,37.31 L307.31,37.31 L301.51,37.31 L295.71,37.31 L289.91,37.31 L284.10,37.31 L278.30,37.31   L272.50,37.31 L266.70,37.31 L260.90,37.31 L255.10,37.31 L249.30,37.31 L243.49,37.31 L237.69,37.31 L231.89,37.31   L226.09,37.31 L220.29,37.31 L214.49,37.31 L208.69,37.31 L202.88,37.31 L197.08,37.31 L191.28,37.31 L185.48,37.31   L179.68,37.31 L173.88,37.31 L168.07,37.31 L162.27,37.31 L156.47,37.31 L150.67,37.31 L144.87,37.31 L139.07,37.31   L133.27,37.31 L127.46,37.31 L121.66,37.31 L115.86,37.31 L110.06,37.31 L104.26,37.31 L98.46,37.31 L92.65,37.31   L86.85,37.31 L81.05,37.31 L81.05,43.11 L81.05,48.91 L81.05,54.72 L81.05,60.52 L81.05,66.32 L81.05,72.12   L81.05,77.92 L81.05,83.72 L81.05,89.53 L81.05,95.33 L81.05,101.13 L81.05,106.93 L81.05,112.73 L81.05,118.53   L81.05,124.33 L81.05,130.14 L81.05,135.94 L81.05,141.74 L81.05,147.54 L81.05,153.34 L81.05,159.14 L81.05,164.95   L81.05,170.75 L81.05,176.55 L81.05,182.35 L81.05,188.15 L81.05,193.95 L81.05,199.75 L81.05,205.56 L81.05,211.36   L81.05,217.16 L81.05,222.96 L81.05,228.76 L81.05,234.56 L81.05,240.36 L81.05,246.17 L81.05,251.97 L81.05,257.77   L81.05,263.57 L81.05,269.37 L81.05,275.17 L81.05,280.98 L81.05,286.78 L81.05,292.58 L81.05,298.38 L81.05,304.18   L81.05,309.98 L81.05,315.78 L81.05,321.59 L81.05,327.39 L81.05,333.19 L81.05,338.99 L81.05,344.79 L81.05,350.59   L81.05,356.40 L81.05,362.20 L81.05,368.00  \"/></g>\n\t</g>\n\t<g id=\"gnuplot_plot_7a\"><title>gnuplot_plot_7a</title>\n<g fill=\"none\" color=\"white\" stroke=\"rgb(  0,   0,   0)\" stroke-width=\"1.00\" stroke-linecap=\"butt\" stroke-linejoin=\"miter\">\n</g>\n<g fill=\"none\" color=\"black\" stroke=\"currentColor\" stroke-width=\"1.00\" stroke-linecap=\"butt\" stroke-linejoin=\"miter\">\n\t<g stroke=\"none\" shape-rendering=\"crispEdges\">\n\t\t<polygon fill=\"rgb(  0,   0, 239)\" points=\"81.05,368.00 81.05,368.00 86.85,368.00 92.65,368.00 98.46,368.00 104.26,368.00 110.06,368.00 115.86,368.00 121.66,368.00 127.46,368.00 133.27,368.00 139.07,368.00 144.87,368.00 150.67,368.00 156.47,368.00 162.27,368.00 168.07,368.00 173.88,368.00 179.68,368.00 185.48,368.00 191.28,368.00 197.08,368.00 202.88,368.00 208.69,368.00 214.49,368.00 220.29,368.00 226.09,368.00 231.89,368.00 237.69,368.00 243.49,368.00 249.30,368.00 255.10,368.00 260.90,368.00 266.70,368.00 272.50,368.00 278.30,368.00 284.10,368.00 289.91,368.00 295.71,368.00 301.51,368.00 307.31,368.00 313.11,368.00 318.91,368.00 324.72,368.00 330.52,368.00 336.32,368.00 342.12,368.00 347.92,368.00 353.72,368.00 359.52,368.00 365.33,368.00 371.13,368.00 373.28,368.00 376.93,363.28 377.58,362.20 381.17,356.40 382.73,352.20 384.90,350.59 384.44,344.79 387.63,338.99 388.53,337.46 393.71,333.19 392.21,327.39 393.64,321.59 394.33,320.72 400.14,316.10 400.40,315.78 400.14,315.14 398.71,309.98 400.14,308.45 405.59,304.18 405.94,303.23 409.05,298.38 407.65,292.58 411.74,290.20 411.74,286.78 411.74,280.98 411.74,275.17 411.74,269.37 411.74,263.57 411.74,257.77 411.74,251.97 411.74,246.17 411.74,240.36 411.74,234.56 411.74,228.76 411.74,222.96 411.74,217.16 411.74,211.36 411.74,205.56 411.74,199.75 411.74,193.95 411.74,188.15 411.74,182.35 411.74,176.55 411.74,170.75 411.74,167.76 410.59,164.95 407.63,159.14 407.43,153.34 406.21,147.54 405.94,147.49 401.93,141.74 404.04,135.94 403.74,130.14 400.14,126.97 397.63,124.33 400.14,118.77 400.23,118.53 400.14,118.35 394.33,116.41 393.72,112.73 393.09,106.93 389.80,101.13 388.55,95.33 388.53,95.30 383.68,89.53 382.93,83.72 382.73,83.57 377.86,77.92 376.93,76.40 372.55,72.12 374.59,66.32 371.13,64.25 367.19,60.52 365.98,54.72 365.33,53.69 359.52,49.20 359.28,48.91 353.72,43.70 353.23,43.11 349.88,37.31 347.92,37.31 342.12,37.31 336.32,37.31 330.52,37.31 324.72,37.31 318.91,37.31 313.11,37.31 307.31,37.31 301.51,37.31 295.71,37.31 289.91,37.31 284.10,37.31 278.30,37.31 272.50,37.31 266.70,37.31 260.90,37.31 255.10,37.31 249.30,37.31 243.49,37.31 237.69,37.31 231.89,37.31 226.09,37.31 220.29,37.31 214.49,37.31 208.69,37.31 202.88,37.31 197.08,37.31 191.28,37.31 185.48,37.31 179.68,37.31 173.88,37.31 168.07,37.31 162.27,37.31 156.47,37.31 150.67,37.31 144.87,37.31 139.07,37.31 133.27,37.31 127.46,37.31 121.66,37.31 115.86,37.31 110.06,37.31 104.26,37.31 98.46,37.31 92.65,37.31 86.85,37.31 81.05,37.31 81.05,37.31 81.05,43.11 81.05,48.91 81.05,54.72 81.05,60.52 81.05,66.32 81.05,72.12 81.05,77.92 81.05,83.72 81.05,89.53 81.05,95.33 81.05,101.13 81.05,106.93 81.05,112.73 81.05,118.53 81.05,124.33 81.05,130.14 81.05,135.94 81.05,141.74 81.05,147.54 81.05,153.34 81.05,159.14 81.05,164.95 81.05,170.75 81.05,176.55 81.05,182.35 81.05,188.15 81.05,193.95 81.05,199.75 81.05,205.56 81.05,211.36 81.05,217.16 81.05,222.96 81.05,228.76 81.05,234.56 81.05,240.36 81.05,246.17 81.05,251.97 81.05,257.77 81.05,263.57 81.05,269.37 81.05,275.17 81.05,280.98 81.05,286.78 81.05,292.58 81.05,298.38 81.05,304.18 81.05,309.98 81.05,315.78 81.05,321.59 81.05,327.39 81.05,333.19 81.05,338.99 81.05,344.79 81.05,350.59 81.05,356.40 81.05,362.20 \"/>\n\t</g>\n\t<path stroke=\"rgb(  0,   0, 239)\" d=\"M81.05,368.00 L86.85,368.00 L92.65,368.00 L98.46,368.00 L104.26,368.00 L110.06,368.00 L115.86,368.00 L121.66,368.00   L127.46,368.00 L133.27,368.00 L139.07,368.00 L144.87,368.00 L150.67,368.00 L156.47,368.00 L162.27,368.00 L168.07,368.00   L173.88,368.00 L179.68,368.00 L185.48,368.00 L191.28,368.00 L197.08,368.00 L202.88,368.00 L208.69,368.00 L214.49,368.00   L220.29,368.00 L226.09,368.00 L231.89,368.00 L237.69,368.00 L243.49,368.00 L249.30,368.00 L255.10,368.00 L260.90,368.00   L266.70,368.00 L272.50,368.00 L278.30,368.00 L284.10,368.00 L289.91,368.00 L295.71,368.00 L301.51,368.00 L307.31,368.00   L313.11,368.00 L318.91,368.00 L324.72,368.00 L330.52,368.00 L336.32,368.00 L342.12,368.00 L347.92,368.00 L353.72,368.00   L359.52,368.00 L365.33,368.00 L371.13,368.00 L373.28,368.00 L376.93,363.28 L377.58,362.20 L381.17,356.40 L382.73,352.20   L384.90,350.59 L384.44,344.79 L387.63,338.99 L388.53,337.46 L393.71,333.19 L392.21,327.39 L393.64,321.59 L394.33,320.72   L400.14,316.10 L400.40,315.78 L400.14,315.14 L398.71,309.98 L400.14,308.45 L405.59,304.18 L405.94,303.23 L409.05,298.38   L407.65,292.58 L411.74,290.20 L411.74,286.78 L411.74,280.98 L411.74,275.17 L411.74,269.37 L411.74,263.57 L411.74,257.77   L411.74,251.97 L411.74,246.17 L411.74,240.36 L411.74,234.56 L411.74,228.76 L411.74,222.96 L411.74,217.16 L411.74,211.36   L411.74,205.56 L411.74,199.75 L411.74,193.95 L411.74,188.15 L411.74,182.35 L411.74,176.55 L411.74,170.75 L411.74,167.76   L410.59,164.95 L407.63,159.14 L407.43,153.34 L406.21,147.54 L405.94,147.49 L401.93,141.74 L404.04,135.94 L403.74,130.14   L400.14,126.97 L397.63,124.33 L400.14,118.77 L400.23,118.53 L400.14,118.35 L394.33,116.41 L393.72,112.73 L393.09,106.93   L389.80,101.13 L388.55,95.33 L388.53,95.30 L383.68,89.53 L382.93,83.72 L382.73,83.57 L377.86,77.92 L376.93,76.40   L372.55,72.12 L374.59,66.32 L371.13,64.25 L367.19,60.52 L365.98,54.72 L365.33,53.69 L359.52,49.20 L359.28,48.91   L353.72,43.70 L353.23,43.11 L349.88,37.31 L347.92,37.31 L342.12,37.31 L336.32,37.31 L330.52,37.31 L324.72,37.31   L318.91,37.31 L313.11,37.31 L307.31,37.31 L301.51,37.31 L295.71,37.31 L289.91,37.31 L284.10,37.31 L278.30,37.31   L272.50,37.31 L266.70,37.31 L260.90,37.31 L255.10,37.31 L249.30,37.31 L243.49,37.31 L237.69,37.31 L231.89,37.31   L226.09,37.31 L220.29,37.31 L214.49,37.31 L208.69,37.31 L202.88,37.31 L197.08,37.31 L191.28,37.31 L185.48,37.31   L179.68,37.31 L173.88,37.31 L168.07,37.31 L162.27,37.31 L156.47,37.31 L150.67,37.31 L144.87,37.31 L139.07,37.31   L133.27,37.31 L127.46,37.31 L121.66,37.31 L115.86,37.31 L110.06,37.31 L104.26,37.31 L98.46,37.31 L92.65,37.31   L86.85,37.31 L81.05,37.31 L81.05,43.11 L81.05,48.91 L81.05,54.72 L81.05,60.52 L81.05,66.32 L81.05,72.12   L81.05,77.92 L81.05,83.72 L81.05,89.53 L81.05,95.33 L81.05,101.13 L81.05,106.93 L81.05,112.73 L81.05,118.53   L81.05,124.33 L81.05,130.14 L81.05,135.94 L81.05,141.74 L81.05,147.54 L81.05,153.34 L81.05,159.14 L81.05,164.95   L81.05,170.75 L81.05,176.55 L81.05,182.35 L81.05,188.15 L81.05,193.95 L81.05,199.75 L81.05,205.56 L81.05,211.36   L81.05,217.16 L81.05,222.96 L81.05,228.76 L81.05,234.56 L81.05,240.36 L81.05,246.17 L81.05,251.97 L81.05,257.77   L81.05,263.57 L81.05,269.37 L81.05,275.17 L81.05,280.98 L81.05,286.78 L81.05,292.58 L81.05,298.38 L81.05,304.18   L81.05,309.98 L81.05,315.78 L81.05,321.59 L81.05,327.39 L81.05,333.19 L81.05,338.99 L81.05,344.79 L81.05,350.59   L81.05,356.40 L81.05,362.20  \"/></g>\n\t</g>\n\t<g id=\"gnuplot_plot_8a\"><title>gnuplot_plot_8a</title>\n<g fill=\"none\" color=\"white\" stroke=\"rgb(  0,   0, 239)\" stroke-width=\"0.50\" stroke-linecap=\"butt\" stroke-linejoin=\"miter\">\n</g>\n<g fill=\"none\" color=\"black\" stroke=\"currentColor\" stroke-width=\"0.50\" stroke-linecap=\"butt\" stroke-linejoin=\"miter\">\n\t<path stroke=\"rgb(  0,   0,   0)\" d=\"M81.05,368.00 L86.85,368.00 L92.65,368.00 L98.46,368.00 L104.26,368.00 L110.06,368.00 L115.86,368.00 L121.66,368.00   L127.46,368.00 L133.27,368.00 L139.07,368.00 L144.87,368.00 L150.67,368.00 L156.47,368.00 L162.27,368.00 L168.07,368.00   L173.88,368.00 L179.68,368.00 L185.48,368.00 L191.28,368.00 L197.08,368.00 L202.88,368.00 L208.69,368.00 L214.49,368.00   L220.29,368.00 L226.09,368.00 L231.89,368.00 L237.69,368.00 L243.49,368.00 L249.30,368.00 L255.10,368.00 L260.90,368.00   L266.70,368.00 L272.50,368.00 L278.30,368.00 L284.10,368.00 L289.91,368.00 L295.71,368.00 L301.51,368.00 L307.31,368.00   L313.11,368.00 L318.91,368.00 L324.72,368.00 L330.52,368.00 L336.32,368.00 L342.12,368.00 L347.92,368.00 L353.72,368.00   L359.52,368.00 L365.33,368.00 L371.13,368.00 L373.28,368.00 L376.93,363.28 L377.58,362.20 L381.17,356.40 L382.73,352.20   L384.90,350.59 L384.44,344.79 L387.63,338.99 L388.53,337.46 L393.71,333.19 L392.21,327.39 L393.64,321.59 L394.33,320.72   L400.14,316.10 L400.40,315.78 L400.14,315.14 L398.71,309.98 L400.14,308.45 L405.59,304.18 L405.94,303.23 L409.05,298.38   L407.65,292.58 L411.74,290.20 L411.74,286.78 L411.74,280.98 L411.74,275.17 L411.74,269.37 L411.74,263.57 L411.74,257.77   L411.74,251.97 L411.74,246.17 L411.74,240.36 L411.74,234.56 L411.74,228.76 L411.74,222.96 L411.74,217.16 L411.74,211.36   L411.74,205.56 L411.74,199.75 L411.74,193.95 L411.74,188.15 L411.74,182.35 L411.74,176.55 L411.74,170.75 L411.74,167.76   L410.59,164.95 L407.63,159.14 L407.43,153.34 L406.21,147.54 L405.94,147.49 L401.93,141.74 L404.04,135.94 L403.74,130.14   L400.14,126.97 L397.63,124.33 L400.14,118.77 L400.23,118.53 L400.14,118.35 L394.33,116.41 L393.72,112.73 L393.09,106.93   L389.80,101.13 L388.55,95.33 L388.53,95.30 L383.68,89.53 L382.93,83.72 L382.73,83.57 L377.86,77.92 L376.93,76.40   L372.55,72.12 L374.59,66.32 L371.13,64.25 L367.19,60.52 L365.98,54.72 L365.33,53.69 L359.52,49.20 L359.28,48.91   L353.72,43.70 L353.23,43.11 L349.88,37.31 L347.92,37.31 L342.12,37.31 L336.32,37.31 L330.52,37.31 L324.72,37.31   L318.91,37.31 L313.11,37.31 L307.31,37.31 L301.51,37.31 L295.71,37.31 L289.91,37.31 L284.10,37.31 L278.30,37.31   L272.50,37.31 L266.70,37.31 L260.90,37.31 L255.10,37.31 L249.30,37.31 L243.49,37.31 L237.69,37.31 L231.89,37.31   L226.09,37.31 L220.29,37.31 L214.49,37.31 L208.69,37.31 L202.88,37.31 L197.08,37.31 L191.28,37.31 L185.48,37.31   L179.68,37.31 L173.88,37.31 L168.07,37.31 L162.27,37.31 L156.47,37.31 L150.67,37.31 L144.87,37.31 L139.07,37.31   L133.27,37.31 L127.46,37.31 L121.66,37.31 L115.86,37.31 L110.06,37.31 L104.26,37.31 L98.46,37.31 L92.65,37.31   L86.85,37.31 L81.05,37.31 L81.05,43.11 L81.05,48.91 L81.05,54.72 L81.05,60.52 L81.05,66.32 L81.05,72.12   L81.05,77.92 L81.05,83.72 L81.05,89.53 L81.05,95.33 L81.05,101.13 L81.05,106.93 L81.05,112.73 L81.05,118.53   L81.05,124.33 L81.05,130.14 L81.05,135.94 L81.05,141.74 L81.05,147.54 L81.05,153.34 L81.05,159.14 L81.05,164.95   L81.05,170.75 L81.05,176.55 L81.05,182.35 L81.05,188.15 L81.05,193.95 L81.05,199.75 L81.05,205.56 L81.05,211.36   L81.05,217.16 L81.05,222.96 L81.05,228.76 L81.05,234.56 L81.05,240.36 L81.05,246.17 L81.05,251.97 L81.05,257.77   L81.05,263.57 L81.05,269.37 L81.05,275.17 L81.05,280.98 L81.05,286.78 L81.05,292.58 L81.05,298.38 L81.05,304.18   L81.05,309.98 L81.05,315.78 L81.05,321.59 L81.05,327.39 L81.05,333.19 L81.05,338.99 L81.05,344.79 L81.05,350.59   L81.05,356.40 L81.05,362.20 L81.05,368.00  \"/></g>\n\t</g>\n\t<g id=\"gnuplot_plot_9a\"><title>gnuplot_plot_9a</title>\n<g fill=\"none\" color=\"white\" stroke=\"rgb(  0,   0,   0)\" stroke-width=\"1.00\" stroke-linecap=\"butt\" stroke-linejoin=\"miter\">\n</g>\n<g fill=\"none\" color=\"black\" stroke=\"currentColor\" stroke-width=\"1.00\" stroke-linecap=\"butt\" stroke-linejoin=\"miter\">\n\t<g stroke=\"none\" shape-rendering=\"crispEdges\">\n\t\t<polygon fill=\"rgb(  0,  16, 255)\" points=\"81.05,368.00 81.05,368.00 86.85,368.00 92.65,368.00 98.46,368.00 104.26,368.00 110.06,368.00 115.86,368.00 121.66,368.00 127.46,368.00 133.27,368.00 139.07,368.00 144.87,368.00 150.67,368.00 156.47,368.00 162.27,368.00 168.07,368.00 173.88,368.00 179.68,368.00 185.48,368.00 191.28,368.00 197.08,368.00 202.88,368.00 208.69,368.00 214.49,368.00 220.29,368.00 226.09,368.00 231.89,368.00 237.69,368.00 243.49,368.00 249.30,368.00 255.10,368.00 260.90,368.00 266.70,368.00 272.50,368.00 278.30,368.00 284.10,368.00 289.91,368.00 295.71,368.00 301.51,368.00 307.31,368.00 313.11,368.00 318.91,368.00 324.72,368.00 330.52,368.00 336.32,368.00 342.12,368.00 345.49,368.00 347.92,363.74 350.26,362.20 353.72,359.83 356.37,356.40 358.91,350.59 359.52,349.73 365.33,347.31 367.24,344.79 369.28,338.99 371.13,336.62 375.70,333.19 374.79,327.39 376.93,324.29 379.04,321.59 377.78,315.78 382.73,312.35 385.43,309.98 388.53,305.78 389.40,304.18 391.75,298.38 388.53,292.81 388.42,292.58 388.25,286.78 388.53,285.96 391.72,280.98 394.33,276.76 395.31,275.17 395.80,269.37 396.06,263.57 400.14,259.02 400.83,257.77 400.14,256.43 396.32,251.97 399.55,246.17 398.22,240.36 398.17,234.56 398.78,228.76 400.10,222.96 394.33,217.52 393.97,217.16 394.33,216.40 400.14,213.64 402.79,211.36 400.14,205.56 400.13,205.56 398.37,199.75 396.28,193.95 398.35,188.15 395.65,182.35 394.33,179.57 393.01,176.55 391.89,170.75 393.25,164.95 391.65,159.14 388.53,154.67 387.93,153.34 385.52,147.54 384.94,141.74 382.73,136.48 382.32,135.94 382.19,130.14 380.08,124.33 377.95,118.53 376.93,115.06 374.85,112.73 371.13,110.63 369.46,106.93 371.13,101.82 371.44,101.13 371.13,100.48 368.30,95.33 365.33,90.50 364.04,89.53 361.00,83.72 359.52,80.63 357.54,77.92 355.45,72.12 353.72,67.93 347.92,66.74 347.43,66.32 346.55,60.52 344.03,54.72 342.12,52.82 337.18,48.91 336.45,43.11 336.32,42.55 330.52,40.02 328.75,37.31 324.72,37.31 318.91,37.31 313.11,37.31 307.31,37.31 301.51,37.31 295.71,37.31 289.91,37.31 284.10,37.31 278.30,37.31 272.50,37.31 266.70,37.31 260.90,37.31 255.10,37.31 249.30,37.31 243.49,37.31 237.69,37.31 231.89,37.31 226.09,37.31 220.29,37.31 214.49,37.31 208.69,37.31 202.88,37.31 197.08,37.31 191.28,37.31 185.48,37.31 179.68,37.31 173.88,37.31 168.07,37.31 162.27,37.31 156.47,37.31 150.67,37.31 144.87,37.31 139.07,37.31 133.27,37.31 127.46,37.31 121.66,37.31 115.86,37.31 110.06,37.31 104.26,37.31 98.46,37.31 92.65,37.31 86.85,37.31 81.05,37.31 81.05,37.31 81.05,43.11 81.05,48.91 81.05,54.72 81.05,60.52 81.05,66.32 81.05,72.12 81.05,77.92 81.05,83.72 81.05,89.53 81.05,95.33 81.05,101.13 81.05,106.93 81.05,112.73 81.05,118.53 81.05,124.33 81.05,130.14 81.05,135.94 81.05,141.74 81.05,147.54 81.05,153.34 81.05,159.14 81.05,164.95 81.05,170.75 81.05,176.55 81.05,182.35 81.05,188.15 81.05,193.95 81.05,199.75 81.05,205.56 81.05,211.36 81.05,217.16 81.05,222.96 81.05,228.76 81.05,234.56 81.05,240.36 81.05,246.17 81.05,251.97 81.05,257.77 81.05,263.57 81.05,269.37 81.05,275.17 81.05,280.98 81.05,286.78 81.05,292.58 81.05,298.38 81.05,304.18 81.05,309.98 81.05,315.78 81.05,321.59 81.05,327.39 81.05,333.19 81.05,338.99 81.05,344.79 81.05,350.59 81.05,356.40 81.05,362.20 \"/>\n\t</g>\n\t<path stroke=\"rgb(  0,  16, 255)\" d=\"M81.05,368.00 L86.85,368.00 L92.65,368.00 L98.46,368.00 L104.26,368.00 L110.06,368.00 L115.86,368.00 L121.66,368.00   L127.46,368.00 L133.27,368.00 L139.07,368.00 L144.87,368.00 L150.67,368.00 L156.47,368.00 L162.27,368.00 L168.07,368.00   L173.88,368.00 L179.68,368.00 L185.48,368.00 L191.28,368.00 L197.08,368.00 L202.88,368.00 L208.69,368.00 L214.49,368.00   L220.29,368.00 L226.09,368.00 L231.89,368.00 L237.69,368.00 L243.49,368.00 L249.30,368.00 L255.10,368.00 L260.90,368.00   L266.70,368.00 L272.50,368.00 L278.30,368.00 L284.10,368.00 L289.91,368.00 L295.71,368.00 L301.51,368.00 L307.31,368.00   L313.11,368.00 L318.91,368.00 L324.72,368.00 L330.52,368.00 L336.32,368.00 L342.12,368.00 L345.49,368.00 L347.92,363.74   L350.26,362.20 L353.72,359.83 L356.37,356.40 L358.91,350.59 L359.52,349.73 L365.33,347.31 L367.24,344.79 L369.28,338.99   L371.13,336.62 L375.70,333.19 L374.79,327.39 L376.93,324.29 L379.04,321.59 L377.78,315.78 L382.73,312.35 L385.43,309.98   L388.53,305.78 L389.40,304.18 L391.75,298.38 L388.53,292.81 L388.42,292.58 L388.25,286.78 L388.53,285.96 L391.72,280.98   L394.33,276.76 L395.31,275.17 L395.80,269.37 L396.06,263.57 L400.14,259.02 L400.83,257.77 L400.14,256.43 L396.32,251.97   L399.55,246.17 L398.22,240.36 L398.17,234.56 L398.78,228.76 L400.10,222.96 L394.33,217.52 L393.97,217.16 L394.33,216.40   L400.14,213.64 L402.79,211.36 L400.14,205.56 L400.13,205.56 L398.37,199.75 L396.28,193.95 L398.35,188.15 L395.65,182.35   L394.33,179.57 L393.01,176.55 L391.89,170.75 L393.25,164.95 L391.65,159.14 L388.53,154.67 L387.93,153.34 L385.52,147.54   L384.94,141.74 L382.73,136.48 L382.32,135.94 L382.19,130.14 L380.08,124.33 L377.95,118.53 L376.93,115.06 L374.85,112.73   L371.13,110.63 L369.46,106.93 L371.13,101.82 L371.44,101.13 L371.13,100.48 L368.30,95.33 L365.33,90.50 L364.04,89.53   L361.00,83.72 L359.52,80.63 L357.54,77.92 L355.45,72.12 L353.72,67.93 L347.92,66.74 L347.43,66.32 L346.55,60.52   L344.03,54.72 L342.12,52.82 L337.18,48.91 L336.45,43.11 L336.32,42.55 L330.52,40.02 L328.75,37.31 L324.72,37.31   L318.91,37.31 L313.11,37.31 L307.31,37.31 L301.51,37.31 L295.71,37.31 L289.91,37.31 L284.10,37.31 L278.30,37.31   L272.50,37.31 L266.70,37.31 L260.90,37.31 L255.10,37.31 L249.30,37.31 L243.49,37.31 L237.69,37.31 L231.89,37.31   L226.09,37.31 L220.29,37.31 L214.49,37.31 L208.69,37.31 L202.88,37.31 L197.08,37.31 L191.28,37.31 L185.48,37.31   L179.68,37.31 L173.88,37.31 L168.07,37.31 L162.27,37.31 L156.47,37.31 L150.67,37.31 L144.87,37.31 L139.07,37.31   L133.27,37.31 L127.46,37.31 L121.66,37.31 L115.86,37.31 L110.06,37.31 L104.26,37.31 L98.46,37.31 L92.65,37.31   L86.85,37.31 L81.05,37.31 L81.05,43.11 L81.05,48.91 L81.05,54.72 L81.05,60.52 L81.05,66.32 L81.05,72.12   L81.05,77.92 L81.05,83.72 L81.05,89.53 L81.05,95.33 L81.05,101.13 L81.05,106.93 L81.05,112.73 L81.05,118.53   L81.05,124.33 L81.05,130.14 L81.05,135.94 L81.05,141.74 L81.05,147.54 L81.05,153.34 L81.05,159.14 L81.05,164.95   L81.05,170.75 L81.05,176.55 L81.05,182.35 L81.05,188.15 L81.05,193.95 L81.05,199.75 L81.05,205.56 L81.05,211.36   L81.05,217.16 L81.05,222.96 L81.05,228.76 L81.05,234.56 L81.05,240.36 L81.05,246.17 L81.05,251.97 L81.05,257.77   L81.05,263.57 L81.05,269.37 L81.05,275.17 L81.05,280.98 L81.05,286.78 L81.05,292.58 L81.05,298.38 L81.05,304.18   L81.05,309.98 L81.05,315.78 L81.05,321.59 L81.05,327.39 L81.05,333.19 L81.05,338.99 L81.05,344.79 L81.05,350.59   L81.05,356.40 L81.05,362.20  \"/></g>\n\t</g>\n\t<g id=\"gnuplot_plot_10a\"><title>gnuplot_plot_10a</title>\n<g fill=\"none\" color=\"white\" stroke=\"rgb(  0,  16, 255)\" stroke-width=\"0.50\" stroke-linecap=\"butt\" stroke-linejoin=\"miter\">\n</g>\n<g fill=\"none\" color=\"black\" stroke=\"currentColor\" stroke-width=\"0.50\" stroke-linecap=\"butt\" stroke-linejoin=\"miter\">\n\t<path stroke=\"rgb(  0,   0,   0)\" d=\"M81.05,368.00 L86.85,368.00 L92.65,368.00 L98.46,368.00 L104.26,368.00 L110.06,368.00 L115.86,368.00 L121.66,368.00   L127.46,368.00 L133.27,368.00 L139.07,368.00 L144.87,368.00 L150.67,368.00 L156.47,368.00 L162.27,368.00 L168.07,368.00   L173.88,368.00 L179.68,368.00 L185.48,368.00 L191.28,368.00 L197.08,368.00 L202.88,368.00 L208.69,368.00 L214.49,368.00   L220.29,368.00 L226.09,368.00 L231.89,368.00 L237.69,368.00 L243.49,368.00 L249.30,368.00 L255.10,368.00 L260.90,368.00   L266.70,368.00 L272.50,368.00 L278.30,368.00 L284.10,368.00 L289.91,368.00 L295.71,368.00 L301.51,368.00 L307.31,368.00   L313.11,368.00 L318.91,368.00 L324.72,368.00 L330.52,368.00 L336.32,368.00 L342.12,368.00 L345.49,368.00 L347.92,363.74   L350.26,362.20 L353.72,359.83 L356.37,356.40 L358.91,350.59 L359.52,349.73 L365.33,347.31 L367.24,344.79 L369.28,338.99   L371.13,336.62 L375.70,333.19 L374.79,327.39 L376.93,324.29 L379.04,321.59 L377.78,315.78 L382.73,312.35 L385.43,309.98   L388.53,305.78 L389.40,304.18 L391.75,298.38 L388.53,292.81 L388.42,292.58 L388.25,286.78 L388.53,285.96 L391.72,280.98   L394.33,276.76 L395.31,275.17 L395.80,269.37 L396.06,263.57 L400.14,259.02 L400.83,257.77 L400.14,256.43 L396.32,251.97   L399.55,246.17 L398.22,240.36 L398.17,234.56 L398.78,228.76 L400.10,222.96 L394.33,217.52 L393.97,217.16 L394.33,216.40   L400.14,213.64 L402.79,211.36 L400.14,205.56 L400.13,205.56 L398.37,199.75 L396.28,193.95 L398.35,188.15 L395.65,182.35   L394.33,179.57 L393.01,176.55 L391.89,170.75 L393.25,164.95 L391.65,159.14 L388.53,154.67 L387.93,153.34 L385.52,147.54   L384.94,141.74 L382.73,136.48 L382.32,135.94 L382.19,130.14 L380.08,124.33 L377.95,118.53 L376.93,115.06 L374.85,112.73   L371.13,110.63 L369.46,106.93 L371.13,101.82 L371.44,101.13 L371.13,100.48 L368.30,95.33 L365.33,90.50 L364.04,89.53   L361.00,83.72 L359.52,80.63 L357.54,77.92 L355.45,72.12 L353.72,67.93 L347.92,66.74 L347.43,66.32 L346.55,60.52   L344.03,54.72 L342.12,52.82 L337.18,48.91 L336.45,43.11 L336.32,42.55 L330.52,40.02 L328.75,37.31 L324.72,37.31   L318.91,37.31 L313.11,37.31 L307.31,37.31 L301.51,37.31 L295.71,37.31 L289.91,37.31 L284.10,37.31 L278.30,37.31   L272.50,37.31 L266.70,37.31 L260.90,37.31 L255.10,37.31 L249.30,37.31 L243.49,37.31 L237.69,37.31 L231.89,37.31   L226.09,37.31 L220.29,37.31 L214.49,37.31 L208.69,37.31 L202.88,37.31 L197.08,37.31 L191.28,37.31 L185.48,37.31   L179.68,37.31 L173.88,37.31 L168.07,37.31 L162.27,37.31 L156.47,37.31 L150.67,37.31 L144.87,37.31 L139.07,37.31   L133.27,37.31 L127.46,37.31 L121.66,37.31 L115.86,37.31 L110.06,37.31 L104.26,37.31 L98.46,37.31 L92.65,37.31   L86.85,37.31 L81.05,37.31 L81.05,43.11 L81.05,48.91 L81.05,54.72 L81.05,60.52 L81.05,66.32 L81.05,72.12   L81.05,77.92 L81.05,83.72 L81.05,89.53 L81.05,95.33 L81.05,101.13 L81.05,106.93 L81.05,112.73 L81.05,118.53   L81.05,124.33 L81.05,130.14 L81.05,135.94 L81.05,141.74 L81.05,147.54 L81.05,153.34 L81.05,159.14 L81.05,164.95   L81.05,170.75 L81.05,176.55 L81.05,182.35 L81.05,188.15 L81.05,193.95 L81.05,199.75 L81.05,205.56 L81.05,211.36   L81.05,217.16 L81.05,222.96 L81.05,228.76 L81.05,234.56 L81.05,240.36 L81.05,246.17 L81.05,251.97 L81.05,257.77   L81.05,263.57 L81.05,269.37 L81.05,275.17 L81.05,280.98 L81.05,286.78 L81.05,292.58 L81.05,298.38 L81.05,304.18   L81.05,309.98 L81.05,315.78 L81.05,321.59 L81.05,327.39 L81.05,333.19 L81.05,338.99 L81.05,344.79 L81.05,350.59   L81.05,356.40 L81.05,362.20 L81.05,368.00  \"/></g>\n\t</g>\n\t<g id=\"gnuplot_plot_11a\"><title>gnuplot_plot_11a</title>\n<g fill=\"none\" color=\"white\" stroke=\"rgb(  0,   0,   0)\" stroke-width=\"1.00\" stroke-linecap=\"butt\" stroke-linejoin=\"miter\">\n</g>\n<g fill=\"none\" color=\"black\" stroke=\"currentColor\" stroke-width=\"1.00\" stroke-linecap=\"butt\" stroke-linejoin=\"miter\">\n\t<g stroke=\"none\" shape-rendering=\"crispEdges\">\n\t\t<polygon fill=\"rgb(  0,  48, 255)\" points=\"81.05,368.00 81.05,368.00 86.85,368.00 92.65,368.00 98.46,368.00 104.26,368.00 110.06,368.00 115.86,368.00 121.66,368.00 127.46,368.00 133.27,368.00 139.07,368.00 144.87,368.00 150.67,368.00 156.47,368.00 162.27,368.00 168.07,368.00 173.88,368.00 179.68,368.00 185.48,368.00 191.28,368.00 197.08,368.00 202.88,368.00 208.69,368.00 214.49,368.00 220.29,368.00 226.09,368.00 231.89,368.00 237.69,368.00 243.49,368.00 249.30,368.00 255.10,368.00 260.90,368.00 266.70,368.00 272.50,368.00 278.30,368.00 284.10,368.00 289.91,368.00 295.71,368.00 301.51,368.00 307.31,368.00 313.11,368.00 318.91,368.00 324.72,368.00 327.85,368.00 329.76,362.20 330.52,361.85 335.34,356.40 336.32,354.02 340.05,350.59 342.12,345.76 342.46,344.79 345.97,338.99 347.92,336.22 352.05,333.19 353.72,330.93 354.72,327.39 356.78,321.59 359.52,318.37 362.02,315.78 365.33,310.89 365.72,309.98 367.63,304.18 371.04,298.38 370.30,292.58 371.13,291.12 375.59,286.78 376.93,283.84 377.60,280.98 376.93,278.22 376.26,275.17 376.93,273.42 379.49,269.37 379.45,263.57 380.49,257.77 380.20,251.97 380.60,246.17 379.04,240.36 379.68,234.56 381.95,228.76 379.14,222.96 380.23,217.16 382.73,211.43 382.77,211.36 382.73,211.07 381.85,205.56 379.01,199.75 376.93,197.47 375.69,193.95 376.93,190.45 378.99,188.15 376.93,185.81 375.08,182.35 374.35,176.55 374.77,170.75 371.44,164.95 371.13,162.33 370.85,159.14 368.07,153.34 367.26,147.54 366.71,141.74 365.33,138.36 363.44,135.94 361.57,130.14 361.43,124.33 360.68,118.53 359.75,112.73 359.52,112.54 353.72,111.48 350.65,106.93 347.92,103.09 346.81,101.13 345.01,95.33 343.96,89.53 342.33,83.72 342.12,83.25 336.32,80.02 334.67,77.92 330.52,72.68 329.71,72.12 329.73,66.32 327.51,60.52 324.72,56.26 323.70,54.72 318.91,50.46 317.60,48.91 314.72,43.11 313.11,40.54 307.52,37.31 307.31,37.31 301.51,37.31 295.71,37.31 289.91,37.31 284.10,37.31 278.30,37.31 272.50,37.31 266.70,37.31 260.90,37.31 255.10,37.31 249.30,37.31 243.49,37.31 237.69,37.31 231.89,37.31 226.09,37.31 220.29,37.31 214.49,37.31 208.69,37.31 202.88,37.31 197.08,37.31 191.28,37.31 185.48,37.31 179.68,37.31 173.88,37.31 168.07,37.31 162.27,37.31 156.47,37.31 150.67,37.31 144.87,37.31 139.07,37.31 133.27,37.31 127.46,37.31 121.66,37.31 115.86,37.31 110.06,37.31 104.26,37.31 98.46,37.31 92.65,37.31 86.85,37.31 81.05,37.31 81.05,37.31 81.05,43.11 81.05,48.91 81.05,54.72 81.05,60.52 81.05,66.32 81.05,72.12 81.05,77.92 81.05,83.72 81.05,89.53 81.05,95.33 81.05,101.13 81.05,106.93 81.05,112.73 81.05,118.53 81.05,124.33 81.05,130.14 81.05,135.94 81.05,141.74 81.05,147.54 81.05,153.34 81.05,159.14 81.05,164.95 81.05,170.75 81.05,176.55 81.05,182.35 81.05,188.15 81.05,193.95 81.05,199.75 81.05,205.56 81.05,211.36 81.05,217.16 81.05,222.96 81.05,228.76 81.05,234.56 81.05,240.36 81.05,246.17 81.05,251.97 81.05,257.77 81.05,263.57 81.05,269.37 81.05,275.17 81.05,280.98 81.05,286.78 81.05,292.58 81.05,298.38 81.05,304.18 81.05,309.98 81.05,315.78 81.05,321.59 81.05,327.39 81.05,333.19 81.05,338.99 81.05,344.79 81.05,350.59 81.05,356.40 81.05,362.20 \"/>\n\t</g>\n\t<path stroke=\"rgb(  0,  48, 255)\" d=\"M81.05,368.00 L86.85,368.00 L92.65,368.00 L98.46,368.00 L104.26,368.00 L110.06,368.00 L115.86,368.00 L121.66,368.00   L127.46,368.00 L133.27,368.00 L139.07,368.00 L144.87,368.00 L150.67,368.00 L156.47,368.00 L162.27,368.00 L168.07,368.00   L173.88,368.00 L179.68,368.00 L185.48,368.00 L191.28,368.00 L197.08,368.00 L202.88,368.00 L208.69,368.00 L214.49,368.00   L220.29,368.00 L226.09,368.00 L231.89,368.00 L237.69,368.00 L243.49,368.00 L249.30,368.00 L255.10,368.00 L260.90,368.00   L266.70,368.00 L272.50,368.00 L278.30,368.00 L284.10,368.00 L289.91,368.00 L295.71,368.00 L301.51,368.00 L307.31,368.00   L313.11,368.00 L318.91,368.00 L324.72,368.00 L327.85,368.00 L329.76,362.20 L330.52,361.85 L335.34,356.40 L336.32,354.02   L340.05,350.59 L342.12,345.76 L342.46,344.79 L345.97,338.99 L347.92,336.22 L352.05,333.19 L353.72,330.93 L354.72,327.39   L356.78,321.59 L359.52,318.37 L362.02,315.78 L365.33,310.89 L365.72,309.98 L367.63,304.18 L371.04,298.38 L370.30,292.58   L371.13,291.12 L375.59,286.78 L376.93,283.84 L377.60,280.98 L376.93,278.22 L376.26,275.17 L376.93,273.42 L379.49,269.37   L379.45,263.57 L380.49,257.77 L380.20,251.97 L380.60,246.17 L379.04,240.36 L379.68,234.56 L381.95,228.76 L379.14,222.96   L380.23,217.16 L382.73,211.43 L382.77,211.36 L382.73,211.07 L381.85,205.56 L379.01,199.75 L376.93,197.47 L375.69,193.95   L376.93,190.45 L378.99,188.15 L376.93,185.81 L375.08,182.35 L374.35,176.55 L374.77,170.75 L371.44,164.95 L371.13,162.33   L370.85,159.14 L368.07,153.34 L367.26,147.54 L366.71,141.74 L365.33,138.36 L363.44,135.94 L361.57,130.14 L361.43,124.33   L360.68,118.53 L359.75,112.73 L359.52,112.54 L353.72,111.48 L350.65,106.93 L347.92,103.09 L346.81,101.13 L345.01,95.33   L343.96,89.53 L342.33,83.72 L342.12,83.25 L336.32,80.02 L334.67,77.92 L330.52,72.68 L329.71,72.12 L329.73,66.32   L327.51,60.52 L324.72,56.26 L323.70,54.72 L318.91,50.46 L317.60,48.91 L314.72,43.11 L313.11,40.54 L307.52,37.31   L307.31,37.31 L301.51,37.31 L295.71,37.31 L289.91,37.31 L284.10,37.31 L278.30,37.31 L272.50,37.31 L266.70,37.31   L260.90,37.31 L255.10,37.31 L249.30,37.31 L243.49,37.31 L237.69,37.31 L231.89,37.31 L226.09,37.31 L220.29,37.31   L214.49,37.31 L208.69,37.31 L202.88,37.31 L197.08,37.31 L191.28,37.31 L185.48,37.31 L179.68,37.31 L173.88,37.31   L168.07,37.31 L162.27,37.31 L156.47,37.31 L150.67,37.31 L144.87,37.31 L139.07,37.31 L133.27,37.31 L127.46,37.31   L121.66,37.31 L115.86,37.31 L110.06,37.31 L104.26,37.31 L98.46,37.31 L92.65,37.31 L86.85,37.31 L81.05,37.31   L81.05,43.11 L81.05,48.91 L81.05,54.72 L81.05,60.52 L81.05,66.32 L81.05,72.12 L81.05,77.92 L81.05,83.72   L81.05,89.53 L81.05,95.33 L81.05,101.13 L81.05,106.93 L81.05,112.73 L81.05,118.53 L81.05,124.33 L81.05,130.14   L81.05,135.94 L81.05,141.74 L81.05,147.54 L81.05,153.34 L81.05,159.14 L81.05,164.95 L81.05,170.75 L81.05,176.55   L81.05,182.35 L81.05,188.15 L81.05,193.95 L81.05,199.75 L81.05,205.56 L81.05,211.36 L81.05,217.16 L81.05,222.96   L81.05,228.76 L81.05,234.56 L81.05,240.36 L81.05,246.17 L81.05,251.97 L81.05,257.77 L81.05,263.57 L81.05,269.37   L81.05,275.17 L81.05,280.98 L81.05,286.78 L81.05,292.58 L81.05,298.38 L81.05,304.18 L81.05,309.98 L81.05,315.78   L81.05,321.59 L81.05,327.39 L81.05,333.19 L81.05,338.99 L81.05,344.79 L81.05,350.59 L81.05,356.40 L81.05,362.20    \"/></g>\n\t</g>\n\t<g id=\"gnuplot_plot_12a\"><title>gnuplot_plot_12a</title>\n<g fill=\"none\" color=\"white\" stroke=\"rgb(  0,  48, 255)\" stroke-width=\"0.50\" stroke-linecap=\"butt\" stroke-linejoin=\"miter\">\n</g>\n<g fill=\"none\" color=\"black\" stroke=\"currentColor\" stroke-width=\"0.50\" stroke-linecap=\"butt\" stroke-linejoin=\"miter\">\n\t<path stroke=\"rgb(  0,   0,   0)\" d=\"M81.05,368.00 L86.85,368.00 L92.65,368.00 L98.46,368.00 L104.26,368.00 L110.06,368.00 L115.86,368.00 L121.66,368.00   L127.46,368.00 L133.27,368.00 L139.07,368.00 L144.87,368.00 L150.67,368.00 L156.47,368.00 L162.27,368.00 L168.07,368.00   L173.88,368.00 L179.68,368.00 L185.48,368.00 L191.28,368.00 L197.08,368.00 L202.88,368.00 L208.69,368.00 L214.49,368.00   L220.29,368.00 L226.09,368.00 L231.89,368.00 L237.69,368.00 L243.49,368.00 L249.30,368.00 L255.10,368.00 L260.90,368.00   L266.70,368.00 L272.50,368.00 L278.30,368.00 L284.10,368.00 L289.91,368.00 L295.71,368.00 L301.51,368.00 L307.31,368.00   L313.11,368.00 L318.91,368.00 L324.72,368.00 L327.85,368.00 L329.76,362.20 L330.52,361.85 L335.34,356.40 L336.32,354.02   L340.05,350.59 L342.12,345.76 L342.46,344.79 L345.97,338.99 L347.92,336.22 L352.05,333.19 L353.72,330.93 L354.72,327.39   L356.78,321.59 L359.52,318.37 L362.02,315.78 L365.33,310.89 L365.72,309.98 L367.63,304.18 L371.04,298.38 L370.30,292.58   L371.13,291.12 L375.59,286.78 L376.93,283.84 L377.60,280.98 L376.93,278.22 L376.26,275.17 L376.93,273.42 L379.49,269.37   L379.45,263.57 L380.49,257.77 L380.20,251.97 L380.60,246.17 L379.04,240.36 L379.68,234.56 L381.95,228.76 L379.14,222.96   L380.23,217.16 L382.73,211.43 L382.77,211.36 L382.73,211.07 L381.85,205.56 L379.01,199.75 L376.93,197.47 L375.69,193.95   L376.93,190.45 L378.99,188.15 L376.93,185.81 L375.08,182.35 L374.35,176.55 L374.77,170.75 L371.44,164.95 L371.13,162.33   L370.85,159.14 L368.07,153.34 L367.26,147.54 L366.71,141.74 L365.33,138.36 L363.44,135.94 L361.57,130.14 L361.43,124.33   L360.68,118.53 L359.75,112.73 L359.52,112.54 L353.72,111.48 L350.65,106.93 L347.92,103.09 L346.81,101.13 L345.01,95.33   L343.96,89.53 L342.33,83.72 L342.12,83.25 L336.32,80.02 L334.67,77.92 L330.52,72.68 L329.71,72.12 L329.73,66.32   L327.51,60.52 L324.72,56.26 L323.70,54.72 L318.91,50.46 L317.60,48.91 L314.72,43.11 L313.11,40.54 L307.52,37.31   L307.31,37.31 L301.51,37.31 L295.71,37.31 L289.91,37.31 L284.10,37.31 L278.30,37.31 L272.50,37.31 L266.70,37.31   L260.90,37.31 L255.10,37.31 L249.30,37.31 L243.49,37.31 L237.69,37.31 L231.89,37.31 L226.09,37.31 L220.29,37.31   L214.49,37.31 L208.69,37.31 L202.88,37.31 L197.08,37.31 L191.28,37.31 L185.48,37.31 L179.68,37.31 L173.88,37.31   L168.07,37.31 L162.27,37.31 L156.47,37.31 L150.67,37.31 L144.87,37.31 L139.07,37.31 L133.27,37.31 L127.46,37.31   L121.66,37.31 L115.86,37.31 L110.06,37.31 L104.26,37.31 L98.46,37.31 L92.65,37.31 L86.85,37.31 L81.05,37.31   L81.05,43.11 L81.05,48.91 L81.05,54.72 L81.05,60.52 L81.05,66.32 L81.05,72.12 L81.05,77.92 L81.05,83.72   L81.05,89.53 L81.05,95.33 L81.05,101.13 L81.05,106.93 L81.05,112.73 L81.05,118.53 L81.05,124.33 L81.05,130.14   L81.05,135.94 L81.05,141.74 L81.05,147.54 L81.05,153.34 L81.05,159.14 L81.05,164.95 L81.05,170.75 L81.05,176.55   L81.05,182.35 L81.05,188.15 L81.05,193.95 L81.05,199.75 L81.05,205.56 L81.05,211.36 L81.05,217.16 L81.05,222.96   L81.05,228.76 L81.05,234.56 L81.05,240.36 L81.05,246.17 L81.05,251.97 L81.05,257.77 L81.05,263.57 L81.05,269.37   L81.05,275.17 L81.05,280.98 L81.05,286.78 L81.05,292.58 L81.05,298.38 L81.05,304.18 L81.05,309.98 L81.05,315.78   L81.05,321.59 L81.05,327.39 L81.05,333.19 L81.05,338.99 L81.05,344.79 L81.05,350.59 L81.05,356.40 L81.05,362.20   L81.05,368.00  \"/></g>\n\t</g>\n\t<g id=\"gnuplot_plot_13a\"><title>gnuplot_plot_13a</title>\n<g fill=\"none\" color=\"white\" stroke=\"rgb(  0,   0,   0)\" stroke-width=\"1.00\" stroke-linecap=\"butt\" stroke-linejoin=\"miter\">\n</g>\n<g fill=\"none\" color=\"black\" stroke=\"currentColor\" stroke-width=\"1.00\" stroke-linecap=\"butt\" stroke-linejoin=\"miter\">\n\t<g stroke=\"none\" shape-rendering=\"crispEdges\">\n\t\t<polygon fill=\"rgb(  0,  80, 255)\" points=\"81.05,368.00 81.05,368.00 86.85,368.00 92.65,368.00 98.46,368.00 104.26,368.00 110.06,368.00 115.86,368.00 121.66,368.00 127.46,368.00 133.27,368.00 139.07,368.00 144.87,368.00 150.67,368.00 156.47,368.00 162.27,368.00 168.07,368.00 173.88,368.00 179.68,368.00 185.48,368.00 191.28,368.00 197.08,368.00 202.88,368.00 208.69,368.00 214.49,368.00 220.29,368.00 226.09,368.00 231.89,368.00 237.69,368.00 243.49,368.00 249.30,368.00 255.10,368.00 260.90,368.00 266.70,368.00 272.50,368.00 278.30,368.00 284.10,368.00 289.91,368.00 295.71,368.00 301.51,368.00 304.18,368.00 307.31,365.05 310.57,362.20 313.11,360.12 314.70,356.40 317.61,350.59 318.91,348.98 323.14,344.79 324.72,343.11 327.73,338.99 330.52,336.38 333.34,333.19 334.81,327.39 336.32,324.79 340.14,321.59 342.12,317.95 343.44,315.78 345.70,309.98 347.92,306.24 348.89,304.18 350.87,298.38 352.23,292.58 353.41,286.78 353.72,284.31 354.32,280.98 357.36,275.17 359.52,271.34 360.59,269.37 360.36,263.57 361.25,257.77 362.56,251.97 362.97,246.17 362.88,240.36 362.55,234.56 363.31,228.76 361.39,222.96 363.62,217.16 359.52,211.78 359.05,211.36 359.52,209.50 360.20,205.56 360.37,199.75 359.52,195.58 359.10,193.95 358.71,188.15 354.77,182.35 353.72,177.87 353.22,176.55 350.11,170.75 348.65,164.95 348.69,159.14 347.92,157.69 345.54,153.34 346.33,147.54 345.07,141.74 342.28,135.94 342.12,135.57 339.68,130.14 339.33,124.33 336.32,120.23 335.16,118.53 335.13,112.73 330.52,109.03 329.44,106.93 330.52,101.45 330.58,101.13 330.52,100.96 327.60,95.33 324.72,91.72 322.84,89.53 318.91,83.75 318.88,83.72 313.11,79.55 312.10,77.92 307.51,72.12 307.31,71.84 304.06,66.32 302.65,60.52 301.51,57.16 299.10,54.72 295.71,52.18 293.43,48.91 289.91,44.01 288.07,43.11 286.07,37.31 284.10,37.31 278.30,37.31 272.50,37.31 266.70,37.31 260.90,37.31 255.10,37.31 249.30,37.31 243.49,37.31 237.69,37.31 231.89,37.31 226.09,37.31 220.29,37.31 214.49,37.31 208.69,37.31 202.88,37.31 197.08,37.31 191.28,37.31 185.48,37.31 179.68,37.31 173.88,37.31 168.07,37.31 162.27,37.31 156.47,37.31 150.67,37.31 144.87,37.31 139.07,37.31 133.27,37.31 127.46,37.31 121.66,37.31 115.86,37.31 110.06,37.31 104.26,37.31 98.46,37.31 92.65,37.31 86.85,37.31 81.05,37.31 81.05,37.31 81.05,43.11 81.05,48.91 81.05,54.72 81.05,60.52 81.05,66.32 81.05,72.12 81.05,77.92 81.05,83.72 81.05,89.53 81.05,95.33 81.05,101.13 81.05,106.93 81.05,112.73 81.05,118.53 81.05,124.33 81.05,130.14 81.05,135.94 81.05,141.74 81.05,147.54 81.05,153.34 81.05,159.14 81.05,164.95 81.05,170.75 81.05,176.55 81.05,182.35 81.05,188.15 81.05,193.95 81.05,199.75 81.05,205.56 81.05,211.36 81.05,217.16 81.05,222.96 81.05,228.76 81.05,234.56 81.05,240.36 81.05,246.17 81.05,251.97 81.05,257.77 81.05,263.57 81.05,269.37 81.05,275.17 81.05,280.98 81.05,286.78 81.05,292.58 81.05,298.38 81.05,304.18 81.05,309.98 81.05,315.78 81.05,321.59 81.05,327.39 81.05,333.19 81.05,338.99 81.05,344.79 81.05,350.59 81.05,356.40 81.05,362.20 \"/>\n\t</g>\n\t<path stroke=\"rgb(  0,  80, 255)\" d=\"M81.05,368.00 L86.85,368.00 L92.65,368.00 L98.46,368.00 L104.26,368.00 L110.06,368.00 L115.86,368.00 L121.66,368.00   L127.46,368.00 L133.27,368.00 L139.07,368.00 L144.87,368.00 L150.67,368.00 L156.47,368.00 L162.27,368.00 L168.07,368.00   L173.88,368.00 L179.68,368.00 L185.48,368.00 L191.28,368.00 L197.08,368.00 L202.88,368.00 L208.69,368.00 L214.49,368.00   L220.29,368.00 L226.09,368.00 L231.89,368.00 L237.69,368.00 L243.49,368.00 L249.30,368.00 L255.10,368.00 L260.90,368.00   L266.70,368.00 L272.50,368.00 L278.30,368.00 L284.10,368.00 L289.91,368.00 L295.71,368.00 L301.51,368.00 L304.18,368.00   L307.31,365.05 L310.57,362.20 L313.11,360.12 L314.70,356.40 L317.61,350.59 L318.91,348.98 L323.14,344.79 L324.72,343.11   L327.73,338.99 L330.52,336.38 L333.34,333.19 L334.81,327.39 L336.32,324.79 L340.14,321.59 L342.12,317.95 L343.44,315.78   L345.70,309.98 L347.92,306.24 L348.89,304.18 L350.87,298.38 L352.23,292.58 L353.41,286.78 L353.72,284.31 L354.32,280.98   L357.36,275.17 L359.52,271.34 L360.59,269.37 L360.36,263.57 L361.25,257.77 L362.56,251.97 L362.97,246.17 L362.88,240.36   L362.55,234.56 L363.31,228.76 L361.39,222.96 L363.62,217.16 L359.52,211.78 L359.05,211.36 L359.52,209.50 L360.20,205.56   L360.37,199.75 L359.52,195.58 L359.10,193.95 L358.71,188.15 L354.77,182.35 L353.72,177.87 L353.22,176.55 L350.11,170.75   L348.65,164.95 L348.69,159.14 L347.92,157.69 L345.54,153.34 L346.33,147.54 L345.07,141.74 L342.28,135.94 L342.12,135.57   L339.68,130.14 L339.33,124.33 L336.32,120.23 L335.16,118.53 L335.13,112.73 L330.52,109.03 L329.44,106.93 L330.52,101.45   L330.58,101.13 L330.52,100.96 L327.60,95.33 L324.72,91.72 L322.84,89.53 L318.91,83.75 L318.88,83.72 L313.11,79.55   L312.10,77.92 L307.51,72.12 L307.31,71.84 L304.06,66.32 L302.65,60.52 L301.51,57.16 L299.10,54.72 L295.71,52.18   L293.43,48.91 L289.91,44.01 L288.07,43.11 L286.07,37.31 L284.10,37.31 L278.30,37.31 L272.50,37.31 L266.70,37.31   L260.90,37.31 L255.10,37.31 L249.30,37.31 L243.49,37.31 L237.69,37.31 L231.89,37.31 L226.09,37.31 L220.29,37.31   L214.49,37.31 L208.69,37.31 L202.88,37.31 L197.08,37.31 L191.28,37.31 L185.48,37.31 L179.68,37.31 L173.88,37.31   L168.07,37.31 L162.27,37.31 L156.47,37.31 L150.67,37.31 L144.87,37.31 L139.07,37.31 L133.27,37.31 L127.46,37.31   L121.66,37.31 L115.86,37.31 L110.06,37.31 L104.26,37.31 L98.46,37.31 L92.65,37.31 L86.85,37.31 L81.05,37.31   L81.05,43.11 L81.05,48.91 L81.05,54.72 L81.05,60.52 L81.05,66.32 L81.05,72.12 L81.05,77.92 L81.05,83.72   L81.05,89.53 L81.05,95.33 L81.05,101.13 L81.05,106.93 L81.05,112.73 L81.05,118.53 L81.05,124.33 L81.05,130.14   L81.05,135.94 L81.05,141.74 L81.05,147.54 L81.05,153.34 L81.05,159.14 L81.05,164.95 L81.05,170.75 L81.05,176.55   L81.05,182.35 L81.05,188.15 L81.05,193.95 L81.05,199.75 L81.05,205.56 L81.05,211.36 L81.05,217.16 L81.05,222.96   L81.05,228.76 L81.05,234.56 L81.05,240.36 L81.05,246.17 L81.05,251.97 L81.05,257.77 L81.05,263.57 L81.05,269.37   L81.05,275.17 L81.05,280.98 L81.05,286.78 L81.05,292.58 L81.05,298.38 L81.05,304.18 L81.05,309.98 L81.05,315.78   L81.05,321.59 L81.05,327.39 L81.05,333.19 L81.05,338.99 L81.05,344.79 L81.05,350.59 L81.05,356.40 L81.05,362.20    \"/></g>\n\t</g>\n\t<g id=\"gnuplot_plot_14a\"><title>gnuplot_plot_14a</title>\n<g fill=\"none\" color=\"white\" stroke=\"rgb(  0,  80, 255)\" stroke-width=\"0.50\" stroke-linecap=\"butt\" stroke-linejoin=\"miter\">\n</g>\n<g fill=\"none\" color=\"black\" stroke=\"currentColor\" stroke-width=\"0.50\" stroke-linecap=\"butt\" stroke-linejoin=\"miter\">\n\t<path stroke=\"rgb(  0,   0,   0)\" d=\"M81.05,368.00 L86.85,368.00 L92.65,368.00 L98.46,368.00 L104.26,368.00 L110.06,368.00 L115.86,368.00 L121.66,368.00   L127.46,368.00 L133.27,368.00 L139.07,368.00 L144.87,368.00 L150.67,368.00 L156.47,368.00 L162.27,368.00 L168.07,368.00   L173.88,368.00 L179.68,368.00 L185.48,368.00 L191.28,368.00 L197.08,368.00 L202.88,368.00 L208.69,368.00 L214.49,368.00   L220.29,368.00 L226.09,368.00 L231.89,368.00 L237.69,368.00 L243.49,368.00 L249.30,368.00 L255.10,368.00 L260.90,368.00   L266.70,368.00 L272.50,368.00 L278.30,368.00 L284.10,368.00 L289.91,368.00 L295.71,368.00 L301.51,368.00 L304.18,368.00   L307.31,365.05 L310.57,362.20 L313.11,360.12 L314.70,356.40 L317.61,350.59 L318.91,348.98 L323.14,344.79 L324.72,343.11   L327.73,338.99 L330.52,336.38 L333.34,333.19 L334.81,327.39 L336.32,324.79 L340.14,321.59 L342.12,317.95 L343.44,315.78   L345.70,309.98 L347.92,306.24 L348.89,304.18 L350.87,298.38 L352.23,292.58 L353.41,286.78 L353.72,284.31 L354.32,280.98   L357.36,275.17 L359.52,271.34 L360.59,269.37 L360.36,263.57 L361.25,257.77 L362.56,251.97 L362.97,246.17 L362.88,240.36   L362.55,234.56 L363.31,228.76 L361.39,222.96 L363.62,217.16 L359.52,211.78 L359.05,211.36 L359.52,209.50 L360.20,205.56   L360.37,199.75 L359.52,195.58 L359.10,193.95 L358.71,188.15 L354.77,182.35 L353.72,177.87 L353.22,176.55 L350.11,170.75   L348.65,164.95 L348.69,159.14 L347.92,157.69 L345.54,153.34 L346.33,147.54 L345.07,141.74 L342.28,135.94 L342.12,135.57   L339.68,130.14 L339.33,124.33 L336.32,120.23 L335.16,118.53 L335.13,112.73 L330.52,109.03 L329.44,106.93 L330.52,101.45   L330.58,101.13 L330.52,100.96 L327.60,95.33 L324.72,91.72 L322.84,89.53 L318.91,83.75 L318.88,83.72 L313.11,79.55   L312.10,77.92 L307.51,72.12 L307.31,71.84 L304.06,66.32 L302.65,60.52 L301.51,57.16 L299.10,54.72 L295.71,52.18   L293.43,48.91 L289.91,44.01 L288.07,43.11 L286.07,37.31 L284.10,37.31 L278.30,37.31 L272.50,37.31 L266.70,37.31   L260.90,37.31 L255.10,37.31 L249.30,37.31 L243.49,37.31 L237.69,37.31 L231.89,37.31 L226.09,37.31 L220.29,37.31   L214.49,37.31 L208.69,37.31 L202.88,37.31 L197.08,37.31 L191.28,37.31 L185.48,37.31 L179.68,37.31 L173.88,37.31   L168.07,37.31 L162.27,37.31 L156.47,37.31 L150.67,37.31 L144.87,37.31 L139.07,37.31 L133.27,37.31 L127.46,37.31   L121.66,37.31 L115.86,37.31 L110.06,37.31 L104.26,37.31 L98.46,37.31 L92.65,37.31 L86.85,37.31 L81.05,37.31   L81.05,43.11 L81.05,48.91 L81.05,54.72 L81.05,60.52 L81.05,66.32 L81.05,72.12 L81.05,77.92 L81.05,83.72   L81.05,89.53 L81.05,95.33 L81.05,101.13 L81.05,106.93 L81.05,112.73 L81.05,118.53 L81.05,124.33 L81.05,130.14   L81.05,135.94 L81.05,141.74 L81.05,147.54 L81.05,153.34 L81.05,159.14 L81.05,164.95 L81.05,170.75 L81.05,176.55   L81.05,182.35 L81.05,188.15 L81.05,193.95 L81.05,199.75 L81.05,205.56 L81.05,211.36 L81.05,217.16 L81.05,222.96   L81.05,228.76 L81.05,234.56 L81.05,240.36 L81.05,246.17 L81.05,251.97 L81.05,257.77 L81.05,263.57 L81.05,269.37   L81.05,275.17 L81.05,280.98 L81.05,286.78 L81.05,292.58 L81.05,298.38 L81.05,304.18 L81.05,309.98 L81.05,315.78   L81.05,321.59 L81.05,327.39 L81.05,333.19 L81.05,338.99 L81.05,344.79 L81.05,350.59 L81.05,356.40 L81.05,362.20   L81.05,368.00  \"/></g>\n\t</g>\n\t<g id=\"gnuplot_plot_15a\"><title>gnuplot_plot_15a</title>\n<g fill=\"none\" color=\"white\" stroke=\"rgb(  0,   0,   0)\" stroke-width=\"1.00\" stroke-linecap=\"butt\" stroke-linejoin=\"miter\">\n</g>\n<g fill=\"none\" color=\"black\" stroke=\"currentColor\" stroke-width=\"1.00\" stroke-linecap=\"butt\" stroke-linejoin=\"miter\">\n\t<g stroke=\"none\" shape-rendering=\"crispEdges\">\n\t\t<polygon fill=\"rgb(  0, 112, 255)\" points=\"81.05,368.00 81.05,368.00 86.85,368.00 92.65,368.00 98.46,368.00 104.26,368.00 110.06,368.00 115.86,368.00 121.66,368.00 127.46,368.00 133.27,368.00 139.07,368.00 144.87,368.00 150.67,368.00 156.47,368.00 162.27,368.00 168.07,368.00 173.88,368.00 179.68,368.00 185.48,368.00 191.28,368.00 197.08,368.00 202.88,368.00 208.69,368.00 214.49,368.00 220.29,368.00 226.09,368.00 231.89,368.00 237.69,368.00 243.49,368.00 249.30,368.00 255.10,368.00 260.90,368.00 266.70,368.00 272.50,368.00 278.30,368.00 278.46,368.00 282.88,362.20 284.10,360.62 287.36,356.40 289.91,354.44 295.32,350.59 295.71,350.10 298.88,344.79 301.51,341.83 306.16,338.99 307.31,338.07 312.72,333.19 313.11,332.37 314.84,327.39 318.91,322.51 319.76,321.59 324.15,315.78 324.72,314.31 327.77,309.98 328.61,304.18 330.52,301.16 331.63,298.38 333.69,292.58 334.58,286.78 336.32,282.02 337.18,280.98 337.40,275.17 341.56,269.37 340.79,263.57 341.69,257.77 340.99,251.97 342.12,248.60 342.98,246.17 343.04,240.36 342.12,234.99 342.05,234.56 342.07,228.76 342.06,222.96 340.81,217.16 340.20,211.36 338.91,205.56 337.54,199.75 336.32,194.62 336.17,193.95 334.12,188.15 333.04,182.35 330.52,179.35 328.77,176.55 329.81,170.75 327.14,164.95 328.29,159.14 324.72,156.92 322.49,153.34 323.73,147.54 318.91,142.38 318.62,141.74 318.91,137.25 319.02,135.94 318.91,135.80 315.88,130.14 314.05,124.33 313.11,122.71 310.67,118.53 309.93,112.73 307.31,110.01 305.32,106.93 305.16,101.13 301.51,97.25 299.48,95.33 300.49,89.53 298.34,83.72 295.71,81.25 292.61,77.92 289.91,74.10 288.16,72.12 284.10,68.76 282.16,66.32 279.70,60.52 278.30,57.86 276.60,54.72 272.50,51.20 268.49,48.91 266.70,44.64 264.14,43.11 260.90,40.38 259.58,37.31 255.10,37.31 249.30,37.31 243.49,37.31 237.69,37.31 231.89,37.31 226.09,37.31 220.29,37.31 214.49,37.31 208.69,37.31 202.88,37.31 197.08,37.31 191.28,37.31 185.48,37.31 179.68,37.31 173.88,37.31 168.07,37.31 162.27,37.31 156.47,37.31 150.67,37.31 144.87,37.31 139.07,37.31 133.27,37.31 127.46,37.31 121.66,37.31 115.86,37.31 110.06,37.31 104.26,37.31 98.46,37.31 92.65,37.31 86.85,37.31 81.05,37.31 81.05,37.31 81.05,43.11 81.05,48.91 81.05,54.72 81.05,60.52 81.05,66.32 81.05,72.12 81.05,77.92 81.05,83.72 81.05,89.53 81.05,95.33 81.05,101.13 81.05,106.93 81.05,112.73 81.05,118.53 81.05,124.33 81.05,130.14 81.05,135.94 81.05,141.74 81.05,147.54 81.05,153.34 81.05,159.14 81.05,164.95 81.05,170.75 81.05,176.55 81.05,182.35 81.05,188.15 81.05,193.95 81.05,199.75 81.05,205.56 81.05,211.36 81.05,217.16 81.05,222.96 81.05,228.76 81.05,234.56 81.05,240.36 81.05,246.17 81.05,251.97 81.05,257.77 81.05,263.57 81.05,269.37 81.05,275.17 81.05,280.98 81.05,286.78 81.05,292.58 81.05,298.38 81.05,304.18 81.05,309.98 81.05,315.78 81.05,321.59 81.05,327.39 81.05,333.19 81.05,338.99 81.05,344.79 81.05,350.59 81.05,356.40 81.05,362.20 \"/>\n\t</g>\n\t<path stroke=\"rgb(  0, 112, 255)\" d=\"M81.05,368.00 L86.85,368.00 L92.65,368.00 L98.46,368.00 L104.26,368.00 L110.06,368.00 L115.86,368.00 L121.66,368.00   L127.46,368.00 L133.27,368.00 L139.07,368.00 L144.87,368.00 L150.67,368.00 L156.47,368.00 L162.27,368.00 L168.07,368.00   L173.88,368.00 L179.68,368.00 L185.48,368.00 L191.28,368.00 L197.08,368.00 L202.88,368.00 L208.69,368.00 L214.49,368.00   L220.29,368.00 L226.09,368.00 L231.89,368.00 L237.69,368.00 L243.49,368.00 L249.30,368.00 L255.10,368.00 L260.90,368.00   L266.70,368.00 L272.50,368.00 L278.30,368.00 L278.46,368.00 L282.88,362.20 L284.10,360.62 L287.36,356.40 L289.91,354.44   L295.32,350.59 L295.71,350.10 L298.88,344.79 L301.51,341.83 L306.16,338.99 L307.31,338.07 L312.72,333.19 L313.11,332.37   L314.84,327.39 L318.91,322.51 L319.76,321.59 L324.15,315.78 L324.72,314.31 L327.77,309.98 L328.61,304.18 L330.52,301.16   L331.63,298.38 L333.69,292.58 L334.58,286.78 L336.32,282.02 L337.18,280.98 L337.40,275.17 L341.56,269.37 L340.79,263.57   L341.69,257.77 L340.99,251.97 L342.12,248.60 L342.98,246.17 L343.04,240.36 L342.12,234.99 L342.05,234.56 L342.07,228.76   L342.06,222.96 L340.81,217.16 L340.20,211.36 L338.91,205.56 L337.54,199.75 L336.32,194.62 L336.17,193.95 L334.12,188.15   L333.04,182.35 L330.52,179.35 L328.77,176.55 L329.81,170.75 L327.14,164.95 L328.29,159.14 L324.72,156.92 L322.49,153.34   L323.73,147.54 L318.91,142.38 L318.62,141.74 L318.91,137.25 L319.02,135.94 L318.91,135.80 L315.88,130.14 L314.05,124.33   L313.11,122.71 L310.67,118.53 L309.93,112.73 L307.31,110.01 L305.32,106.93 L305.16,101.13 L301.51,97.25 L299.48,95.33   L300.49,89.53 L298.34,83.72 L295.71,81.25 L292.61,77.92 L289.91,74.10 L288.16,72.12 L284.10,68.76 L282.16,66.32   L279.70,60.52 L278.30,57.86 L276.60,54.72 L272.50,51.20 L268.49,48.91 L266.70,44.64 L264.14,43.11 L260.90,40.38   L259.58,37.31 L255.10,37.31 L249.30,37.31 L243.49,37.31 L237.69,37.31 L231.89,37.31 L226.09,37.31 L220.29,37.31   L214.49,37.31 L208.69,37.31 L202.88,37.31 L197.08,37.31 L191.28,37.31 L185.48,37.31 L179.68,37.31 L173.88,37.31   L168.07,37.31 L162.27,37.31 L156.47,37.31 L150.67,37.31 L144.87,37.31 L139.07,37.31 L133.27,37.31 L127.46,37.31   L121.66,37.31 L115.86,37.31 L110.06,37.31 L104.26,37.31 L98.46,37.31 L92.65,37.31 L86.85,37.31 L81.05,37.31   L81.05,43.11 L81.05,48.91 L81.05,54.72 L81.05,60.52 L81.05,66.32 L81.05,72.12 L81.05,77.92 L81.05,83.72   L81.05,89.53 L81.05,95.33 L81.05,101.13 L81.05,106.93 L81.05,112.73 L81.05,118.53 L81.05,124.33 L81.05,130.14   L81.05,135.94 L81.05,141.74 L81.05,147.54 L81.05,153.34 L81.05,159.14 L81.05,164.95 L81.05,170.75 L81.05,176.55   L81.05,182.35 L81.05,188.15 L81.05,193.95 L81.05,199.75 L81.05,205.56 L81.05,211.36 L81.05,217.16 L81.05,222.96   L81.05,228.76 L81.05,234.56 L81.05,240.36 L81.05,246.17 L81.05,251.97 L81.05,257.77 L81.05,263.57 L81.05,269.37   L81.05,275.17 L81.05,280.98 L81.05,286.78 L81.05,292.58 L81.05,298.38 L81.05,304.18 L81.05,309.98 L81.05,315.78   L81.05,321.59 L81.05,327.39 L81.05,333.19 L81.05,338.99 L81.05,344.79 L81.05,350.59 L81.05,356.40 L81.05,362.20    \"/></g>\n\t</g>\n\t<g id=\"gnuplot_plot_16a\"><title>gnuplot_plot_16a</title>\n<g fill=\"none\" color=\"white\" stroke=\"rgb(  0, 112, 255)\" stroke-width=\"0.50\" stroke-linecap=\"butt\" stroke-linejoin=\"miter\">\n</g>\n<g fill=\"none\" color=\"black\" stroke=\"currentColor\" stroke-width=\"0.50\" stroke-linecap=\"butt\" stroke-linejoin=\"miter\">\n\t<path stroke=\"rgb(  0,   0,   0)\" d=\"M81.05,368.00 L86.85,368.00 L92.65,368.00 L98.46,368.00 L104.26,368.00 L110.06,368.00 L115.86,368.00 L121.66,368.00   L127.46,368.00 L133.27,368.00 L139.07,368.00 L144.87,368.00 L150.67,368.00 L156.47,368.00 L162.27,368.00 L168.07,368.00   L173.88,368.00 L179.68,368.00 L185.48,368.00 L191.28,368.00 L197.08,368.00 L202.88,368.00 L208.69,368.00 L214.49,368.00   L220.29,368.00 L226.09,368.00 L231.89,368.00 L237.69,368.00 L243.49,368.00 L249.30,368.00 L255.10,368.00 L260.90,368.00   L266.70,368.00 L272.50,368.00 L278.30,368.00 L278.46,368.00 L282.88,362.20 L284.10,360.62 L287.36,356.40 L289.91,354.44   L295.32,350.59 L295.71,350.10 L298.88,344.79 L301.51,341.83 L306.16,338.99 L307.31,338.07 L312.72,333.19 L313.11,332.37   L314.84,327.39 L318.91,322.51 L319.76,321.59 L324.15,315.78 L324.72,314.31 L327.77,309.98 L328.61,304.18 L330.52,301.16   L331.63,298.38 L333.69,292.58 L334.58,286.78 L336.32,282.02 L337.18,280.98 L337.40,275.17 L341.56,269.37 L340.79,263.57   L341.69,257.77 L340.99,251.97 L342.12,248.60 L342.98,246.17 L343.04,240.36 L342.12,234.99 L342.05,234.56 L342.07,228.76   L342.06,222.96 L340.81,217.16 L340.20,211.36 L338.91,205.56 L337.54,199.75 L336.32,194.62 L336.17,193.95 L334.12,188.15   L333.04,182.35 L330.52,179.35 L328.77,176.55 L329.81,170.75 L327.14,164.95 L328.29,159.14 L324.72,156.92 L322.49,153.34   L323.73,147.54 L318.91,142.38 L318.62,141.74 L318.91,137.25 L319.02,135.94 L318.91,135.80 L315.88,130.14 L314.05,124.33   L313.11,122.71 L310.67,118.53 L309.93,112.73 L307.31,110.01 L305.32,106.93 L305.16,101.13 L301.51,97.25 L299.48,95.33   L300.49,89.53 L298.34,83.72 L295.71,81.25 L292.61,77.92 L289.91,74.10 L288.16,72.12 L284.10,68.76 L282.16,66.32   L279.70,60.52 L278.30,57.86 L276.60,54.72 L272.50,51.20 L268.49,48.91 L266.70,44.64 L264.14,43.11 L260.90,40.38   L259.58,37.31 L255.10,37.31 L249.30,37.31 L243.49,37.31 L237.69,37.31 L231.89,37.31 L226.09,37.31 L220.29,37.31   L214.49,37.31 L208.69,37.31 L202.88,37.31 L197.08,37.31 L191.28,37.31 L185.48,37.31 L179.68,37.31 L173.88,37.31   L168.07,37.31 L162.27,37.31 L156.47,37.31 L150.67,37.31 L144.87,37.31 L139.07,37.31 L133.27,37.31 L127.46,37.31   L121.66,37.31 L115.86,37.31 L110.06,37.31 L104.26,37.31 L98.46,37.31 L92.65,37.31 L86.85,37.31 L81.05,37.31   L81.05,43.11 L81.05,48.91 L81.05,54.72 L81.05,60.52 L81.05,66.32 L81.05,72.12 L81.05,77.92 L81.05,83.72   L81.05,89.53 L81.05,95.33 L81.05,101.13 L81.05,106.93 L81.05,112.73 L81.05,118.53 L81.05,124.33 L81.05,130.14   L81.05,135.94 L81.05,141.74 L81.05,147.54 L81.05,153.34 L81.05,159.14 L81.05,164.95 L81.05,170.75 L81.05,176.55   L81.05,182.35 L81.05,188.15 L81.05,193.95 L81.05,199.75 L81.05,205.56 L81.05,211.36 L81.05,217.16 L81.05,222.96   L81.05,228.76 L81.05,234.56 L81.05,240.36 L81.05,246.17 L81.05,251.97 L81.05,257.77 L81.05,263.57 L81.05,269.37   L81.05,275.17 L81.05,280.98 L81.05,286.78 L81.05,292.58 L81.05,298.38 L81.05,304.18 L81.05,309.98 L81.05,315.78   L81.05,321.59 L81.05,327.39 L81.05,333.19 L81.05,338.99 L81.05,344.79 L81.05,350.59 L81.05,356.40 L81.05,362.20   L81.05,368.00  \"/></g>\n\t</g>\n\t<g id=\"gnuplot_plot_17a\"><title>gnuplot_plot_17a</title>\n<g fill=\"none\" color=\"white\" stroke=\"rgb(  0,   0,   0)\" stroke-width=\"1.00\" stroke-linecap=\"butt\" stroke-linejoin=\"miter\">\n</g>\n<g fill=\"none\" color=\"black\" stroke=\"currentColor\" stroke-width=\"1.00\" stroke-linecap=\"butt\" stroke-linejoin=\"miter\">\n\t<g stroke=\"none\" shape-rendering=\"crispEdges\">\n\t\t<polygon fill=\"rgb(  0, 159, 255)\" points=\"81.05,368.00 81.05,368.00 86.85,368.00 92.65,368.00 98.46,368.00 104.26,368.00 110.06,368.00 115.86,368.00 121.66,368.00 127.46,368.00 133.27,368.00 139.07,368.00 144.87,368.00 150.67,368.00 156.47,368.00 162.27,368.00 168.07,368.00 173.88,368.00 179.68,368.00 185.48,368.00 191.28,368.00 197.08,368.00 202.88,368.00 208.69,368.00 214.49,368.00 220.29,368.00 226.09,368.00 231.89,368.00 237.69,368.00 243.49,368.00 249.30,368.00 250.32,368.00 255.10,364.81 260.90,362.83 261.65,362.20 266.45,356.40 266.70,356.12 272.50,350.60 272.51,350.59 277.85,344.79 278.30,344.33 284.10,340.15 285.49,338.99 289.44,333.19 289.91,332.36 292.09,327.39 295.71,323.28 297.13,321.59 300.56,315.78 301.51,314.76 306.31,309.98 307.31,308.32 309.47,304.18 313.11,300.03 314.48,298.38 313.11,292.81 313.06,292.58 313.11,292.28 314.52,286.78 318.91,281.05 318.96,280.98 319.31,275.17 323.53,269.37 324.66,263.57 323.46,257.77 323.07,251.97 323.95,246.17 324.72,243.88 325.81,240.36 324.72,238.48 322.36,234.56 323.19,228.76 323.57,222.96 320.48,217.16 320.15,211.36 318.91,208.12 318.00,205.56 316.42,199.75 315.59,193.95 313.31,188.15 313.11,187.95 309.38,182.35 309.36,176.55 307.31,174.37 303.85,170.75 305.03,164.95 301.51,163.05 299.43,159.14 298.77,153.34 295.71,148.46 295.01,147.54 294.38,141.74 292.81,135.94 294.69,130.14 290.14,124.33 290.95,118.53 289.91,117.50 285.28,112.73 284.10,110.09 282.76,106.93 280.06,101.13 279.61,95.33 278.30,93.09 276.30,89.53 272.50,84.48 271.96,83.72 268.84,77.92 266.70,74.80 265.25,72.12 260.90,66.80 259.99,66.32 257.29,60.52 255.10,58.80 249.88,54.72 249.30,53.32 246.73,48.91 243.49,45.62 241.10,43.11 237.69,41.08 234.98,37.31 231.89,37.31 226.09,37.31 220.29,37.31 214.49,37.31 208.69,37.31 202.88,37.31 197.08,37.31 191.28,37.31 185.48,37.31 179.68,37.31 173.88,37.31 168.07,37.31 162.27,37.31 156.47,37.31 150.67,37.31 144.87,37.31 139.07,37.31 133.27,37.31 127.46,37.31 121.66,37.31 115.86,37.31 110.06,37.31 104.26,37.31 98.46,37.31 92.65,37.31 86.85,37.31 81.05,37.31 81.05,37.31 81.05,43.11 81.05,48.91 81.05,54.72 81.05,60.52 81.05,66.32 81.05,72.12 81.05,77.92 81.05,83.72 81.05,89.53 81.05,95.33 81.05,101.13 81.05,106.93 81.05,112.73 81.05,118.53 81.05,124.33 81.05,130.14 81.05,135.94 81.05,141.74 81.05,147.54 81.05,153.34 81.05,159.14 81.05,164.95 81.05,170.75 81.05,176.55 81.05,182.35 81.05,188.15 81.05,193.95 81.05,199.75 81.05,205.56 81.05,211.36 81.05,217.16 81.05,222.96 81.05,228.76 81.05,234.56 81.05,240.36 81.05,246.17 81.05,251.97 81.05,257.77 81.05,263.57 81.05,269.37 81.05,275.17 81.05,280.98 81.05,286.78 81.05,292.58 81.05,298.38 81.05,304.18 81.05,309.98 81.05,315.78 81.05,321.59 81.05,327.39 81.05,333.19 81.05,338.99 81.05,344.79 81.05,350.59 81.05,356.40 81.05,362.20 \"/>\n\t</g>\n\t<path stroke=\"rgb(  0, 159, 255)\" d=\"M81.05,368.00 L86.85,368.00 L92.65,368.00 L98.46,368.00 L104.26,368.00 L110.06,368.00 L115.86,368.00 L121.66,368.00   L127.46,368.00 L133.27,368.00 L139.07,368.00 L144.87,368.00 L150.67,368.00 L156.47,368.00 L162.27,368.00 L168.07,368.00   L173.88,368.00 L179.68,368.00 L185.48,368.00 L191.28,368.00 L197.08,368.00 L202.88,368.00 L208.69,368.00 L214.49,368.00   L220.29,368.00 L226.09,368.00 L231.89,368.00 L237.69,368.00 L243.49,368.00 L249.30,368.00 L250.32,368.00 L255.10,364.81   L260.90,362.83 L261.65,362.20 L266.45,356.40 L266.70,356.12 L272.50,350.60 L272.51,350.59 L277.85,344.79 L278.30,344.33   L284.10,340.15 L285.49,338.99 L289.44,333.19 L289.91,332.36 L292.09,327.39 L295.71,323.28 L297.13,321.59 L300.56,315.78   L301.51,314.76 L306.31,309.98 L307.31,308.32 L309.47,304.18 L313.11,300.03 L314.48,298.38 L313.11,292.81 L313.06,292.58   L313.11,292.28 L314.52,286.78 L318.91,281.05 L318.96,280.98 L319.31,275.17 L323.53,269.37 L324.66,263.57 L323.46,257.77   L323.07,251.97 L323.95,246.17 L324.72,243.88 L325.81,240.36 L324.72,238.48 L322.36,234.56 L323.19,228.76 L323.57,222.96   L320.48,217.16 L320.15,211.36 L318.91,208.12 L318.00,205.56 L316.42,199.75 L315.59,193.95 L313.31,188.15 L313.11,187.95   L309.38,182.35 L309.36,176.55 L307.31,174.37 L303.85,170.75 L305.03,164.95 L301.51,163.05 L299.43,159.14 L298.77,153.34   L295.71,148.46 L295.01,147.54 L294.38,141.74 L292.81,135.94 L294.69,130.14 L290.14,124.33 L290.95,118.53 L289.91,117.50   L285.28,112.73 L284.10,110.09 L282.76,106.93 L280.06,101.13 L279.61,95.33 L278.30,93.09 L276.30,89.53 L272.50,84.48   L271.96,83.72 L268.84,77.92 L266.70,74.80 L265.25,72.12 L260.90,66.80 L259.99,66.32 L257.29,60.52 L255.10,58.80   L249.88,54.72 L249.30,53.32 L246.73,48.91 L243.49,45.62 L241.10,43.11 L237.69,41.08 L234.98,37.31 L231.89,37.31   L226.09,37.31 L220.29,37.31 L214.49,37.31 L208.69,37.31 L202.88,37.31 L197.08,37.31 L191.28,37.31 L185.48,37.31   L179.68,37.31 L173.88,37.31 L168.07,37.31 L162.27,37.31 L156.47,37.31 L150.67,37.31 L144.87,37.31 L139.07,37.31   L133.27,37.31 L127.46,37.31 L121.66,37.31 L115.86,37.31 L110.06,37.31 L104.26,37.31 L98.46,37.31 L92.65,37.31   L86.85,37.31 L81.05,37.31 L81.05,43.11 L81.05,48.91 L81.05,54.72 L81.05,60.52 L81.05,66.32 L81.05,72.12   L81.05,77.92 L81.05,83.72 L81.05,89.53 L81.05,95.33 L81.05,101.13 L81.05,106.93 L81.05,112.73 L81.05,118.53   L81.05,124.33 L81.05,130.14 L81.05,135.94 L81.05,141.74 L81.05,147.54 L81.05,153.34 L81.05,159.14 L81.05,164.95   L81.05,170.75 L81.05,176.55 L81.05,182.35 L81.05,188.15 L81.05,193.95 L81.05,199.75 L81.05,205.56 L81.05,211.36   L81.05,217.16 L81.05,222.96 L81.05,228.76 L81.05,234.56 L81.05,240.36 L81.05,246.17 L81.05,251.97 L81.05,257.77   L81.05,263.57 L81.05,269.37 L81.05,275.17 L81.05,280.98 L81.05,286.78 L81.05,292.58 L81.05,298.38 L81.05,304.18   L81.05,309.98 L81.05,315.78 L81.05,321.59 L81.05,327.39 L81.05,333.19 L81.05,338.99 L81.05,344.79 L81.05,350.59   L81.05,356.40 L81.05,362.20  \"/></g>\n\t</g>\n\t<g id=\"gnuplot_plot_18a\"><title>gnuplot_plot_18a</title>\n<g fill=\"none\" color=\"white\" stroke=\"rgb(  0, 159, 255)\" stroke-width=\"0.50\" stroke-linecap=\"butt\" stroke-linejoin=\"miter\">\n</g>\n<g fill=\"none\" color=\"black\" stroke=\"currentColor\" stroke-width=\"0.50\" stroke-linecap=\"butt\" stroke-linejoin=\"miter\">\n\t<path stroke=\"rgb(  0,   0,   0)\" d=\"M81.05,368.00 L86.85,368.00 L92.65,368.00 L98.46,368.00 L104.26,368.00 L110.06,368.00 L115.86,368.00 L121.66,368.00   L127.46,368.00 L133.27,368.00 L139.07,368.00 L144.87,368.00 L150.67,368.00 L156.47,368.00 L162.27,368.00 L168.07,368.00   L173.88,368.00 L179.68,368.00 L185.48,368.00 L191.28,368.00 L197.08,368.00 L202.88,368.00 L208.69,368.00 L214.49,368.00   L220.29,368.00 L226.09,368.00 L231.89,368.00 L237.69,368.00 L243.49,368.00 L249.30,368.00 L250.32,368.00 L255.10,364.81   L260.90,362.83 L261.65,362.20 L266.45,356.40 L266.70,356.12 L272.50,350.60 L272.51,350.59 L277.85,344.79 L278.30,344.33   L284.10,340.15 L285.49,338.99 L289.44,333.19 L289.91,332.36 L292.09,327.39 L295.71,323.28 L297.13,321.59 L300.56,315.78   L301.51,314.76 L306.31,309.98 L307.31,308.32 L309.47,304.18 L313.11,300.03 L314.48,298.38 L313.11,292.81 L313.06,292.58   L313.11,292.28 L314.52,286.78 L318.91,281.05 L318.96,280.98 L319.31,275.17 L323.53,269.37 L324.66,263.57 L323.46,257.77   L323.07,251.97 L323.95,246.17 L324.72,243.88 L325.81,240.36 L324.72,238.48 L322.36,234.56 L323.19,228.76 L323.57,222.96   L320.48,217.16 L320.15,211.36 L318.91,208.12 L318.00,205.56 L316.42,199.75 L315.59,193.95 L313.31,188.15 L313.11,187.95   L309.38,182.35 L309.36,176.55 L307.31,174.37 L303.85,170.75 L305.03,164.95 L301.51,163.05 L299.43,159.14 L298.77,153.34   L295.71,148.46 L295.01,147.54 L294.38,141.74 L292.81,135.94 L294.69,130.14 L290.14,124.33 L290.95,118.53 L289.91,117.50   L285.28,112.73 L284.10,110.09 L282.76,106.93 L280.06,101.13 L279.61,95.33 L278.30,93.09 L276.30,89.53 L272.50,84.48   L271.96,83.72 L268.84,77.92 L266.70,74.80 L265.25,72.12 L260.90,66.80 L259.99,66.32 L257.29,60.52 L255.10,58.80   L249.88,54.72 L249.30,53.32 L246.73,48.91 L243.49,45.62 L241.10,43.11 L237.69,41.08 L234.98,37.31 L231.89,37.31   L226.09,37.31 L220.29,37.31 L214.49,37.31 L208.69,37.31 L202.88,37.31 L197.08,37.31 L191.28,37.31 L185.48,37.31   L179.68,37.31 L173.88,37.31 L168.07,37.31 L162.27,37.31 L156.47,37.31 L150.67,37.31 L144.87,37.31 L139.07,37.31   L133.27,37.31 L127.46,37.31 L121.66,37.31 L115.86,37.31 L110.06,37.31 L104.26,37.31 L98.46,37.31 L92.65,37.31   L86.85,37.31 L81.05,37.31 L81.05,43.11 L81.05,48.91 L81.05,54.72 L81.05,60.52 L81.05,66.32 L81.05,72.12   L81.05,77.92 L81.05,83.72 L81.05,89.53 L81.05,95.33 L81.05,101.13 L81.05,106.93 L81.05,112.73 L81.05,118.53   L81.05,124.33 L81.05,130.14 L81.05,135.94 L81.05,141.74 L81.05,147.54 L81.05,153.34 L81.05,159.14 L81.05,164.95   L81.05,170.75 L81.05,176.55 L81.05,182.35 L81.05,188.15 L81.05,193.95 L81.05,199.75 L81.05,205.56 L81.05,211.36   L81.05,217.16 L81.05,222.96 L81.05,228.76 L81.05,234.56 L81.05,240.36 L81.05,246.17 L81.05,251.97 L81.05,257.77   L81.05,263.57 L81.05,269.37 L81.05,275.17 L81.05,280.98 L81.05,286.78 L81.05,292.58 L81.05,298.38 L81.05,304.18   L81.05,309.98 L81.05,315.78 L81.05,321.59 L81.05,327.39 L81.05,333.19 L81.05,338.99 L81.05,344.79 L81.05,350.59   L81.05,356.40 L81.05,362.20 L81.05,368.00  \"/></g>\n\t</g>\n\t<g id=\"gnuplot_plot_19a\"><title>gnuplot_plot_19a</title>\n<g fill=\"none\" color=\"white\" stroke=\"rgb(  0,   0,   0)\" stroke-width=\"1.00\" stroke-linecap=\"butt\" stroke-linejoin=\"miter\">\n</g>\n<g fill=\"none\" color=\"black\" stroke=\"currentColor\" stroke-width=\"1.00\" stroke-linecap=\"butt\" stroke-linejoin=\"miter\">\n\t<g stroke=\"none\" shape-rendering=\"crispEdges\">\n\t\t<polygon fill=\"rgb(  0, 191, 255)\" points=\"81.05,368.00 81.05,368.00 86.85,368.00 92.65,368.00 98.46,368.00 104.26,368.00 110.06,368.00 115.86,368.00 121.66,368.00 127.46,368.00 133.27,368.00 139.07,368.00 144.87,368.00 150.67,368.00 156.47,368.00 162.27,368.00 168.07,368.00 173.88,368.00 179.68,368.00 185.48,368.00 191.28,368.00 197.08,368.00 202.88,368.00 208.69,368.00 214.49,368.00 220.29,368.00 220.68,368.00 226.09,364.92 229.70,362.20 231.89,360.65 236.14,356.40 237.69,354.76 243.49,351.16 244.68,350.59 249.30,348.75 252.46,344.79 255.10,341.95 258.89,338.99 260.90,337.25 265.50,333.19 266.70,331.81 270.78,327.39 272.50,325.41 275.56,321.59 278.30,318.40 280.49,315.78 284.10,312.04 285.92,309.98 288.86,304.18 289.91,301.80 291.84,298.38 294.49,292.58 295.71,289.30 296.65,286.78 298.61,280.98 299.72,275.17 301.51,271.40 302.51,269.37 303.00,263.57 305.40,257.77 305.19,251.97 304.24,246.17 304.55,240.36 304.95,234.56 303.09,228.76 303.07,222.96 301.51,219.48 300.58,217.16 300.52,211.36 298.07,205.56 296.46,199.75 295.71,198.57 293.16,193.95 289.91,190.28 288.36,188.15 285.03,182.35 284.10,179.28 282.81,176.55 280.67,170.75 278.30,168.94 272.50,165.98 271.56,164.95 269.98,159.14 266.70,155.10 265.70,153.34 266.70,150.64 268.46,147.54 268.79,141.74 268.66,135.94 266.98,130.14 266.70,127.64 266.33,124.33 266.70,122.08 267.31,118.53 266.70,116.54 264.74,112.73 264.37,106.93 262.62,101.13 260.90,95.33 260.90,95.32 258.05,89.53 255.10,86.20 252.45,83.72 249.30,78.21 249.10,77.92 244.24,72.12 243.49,70.00 241.00,66.32 237.69,64.10 234.90,60.52 231.89,57.34 227.97,54.72 226.09,50.50 221.33,48.91 220.29,48.67 214.89,43.11 214.49,42.85 208.69,39.88 205.48,37.31 202.88,37.31 197.08,37.31 191.28,37.31 185.48,37.31 179.68,37.31 173.88,37.31 168.07,37.31 162.27,37.31 156.47,37.31 150.67,37.31 144.87,37.31 139.07,37.31 133.27,37.31 127.46,37.31 121.66,37.31 115.86,37.31 110.06,37.31 104.26,37.31 98.46,37.31 92.65,37.31 86.85,37.31 81.05,37.31 81.05,37.31 81.05,43.11 81.05,48.91 81.05,54.72 81.05,60.52 81.05,66.32 81.05,72.12 81.05,77.92 81.05,83.72 81.05,89.53 81.05,95.33 81.05,101.13 81.05,106.93 81.05,112.73 81.05,118.53 81.05,124.33 81.05,130.14 81.05,135.94 81.05,141.74 81.05,147.54 81.05,153.34 81.05,159.14 81.05,164.95 81.05,170.75 81.05,176.55 81.05,182.35 81.05,188.15 81.05,193.95 81.05,199.75 81.05,205.56 81.05,211.36 81.05,217.16 81.05,222.96 81.05,228.76 81.05,234.56 81.05,240.36 81.05,246.17 81.05,251.97 81.05,257.77 81.05,263.57 81.05,269.37 81.05,275.17 81.05,280.98 81.05,286.78 81.05,292.58 81.05,298.38 81.05,304.18 81.05,309.98 81.05,315.78 81.05,321.59 81.05,327.39 81.05,333.19 81.05,338.99 81.05,344.79 81.05,350.59 81.05,356.40 81.05,362.20 \"/>\n\t</g>\n\t<path stroke=\"rgb(  0, 191, 255)\" d=\"M81.05,368.00 L86.85,368.00 L92.65,368.00 L98.46,368.00 L104.26,368.00 L110.06,368.00 L115.86,368.00 L121.66,368.00   L127.46,368.00 L133.27,368.00 L139.07,368.00 L144.87,368.00 L150.67,368.00 L156.47,368.00 L162.27,368.00 L168.07,368.00   L173.88,368.00 L179.68,368.00 L185.48,368.00 L191.28,368.00 L197.08,368.00 L202.88,368.00 L208.69,368.00 L214.49,368.00   L220.29,368.00 L220.68,368.00 L226.09,364.92 L229.70,362.20 L231.89,360.65 L236.14,356.40 L237.69,354.76 L243.49,351.16   L244.68,350.59 L249.30,348.75 L252.46,344.79 L255.10,341.95 L258.89,338.99 L260.90,337.25 L265.50,333.19 L266.70,331.81   L270.78,327.39 L272.50,325.41 L275.56,321.59 L278.30,318.40 L280.49,315.78 L284.10,312.04 L285.92,309.98 L288.86,304.18   L289.91,301.80 L291.84,298.38 L294.49,292.58 L295.71,289.30 L296.65,286.78 L298.61,280.98 L299.72,275.17 L301.51,271.40   L302.51,269.37 L303.00,263.57 L305.40,257.77 L305.19,251.97 L304.24,246.17 L304.55,240.36 L304.95,234.56 L303.09,228.76   L303.07,222.96 L301.51,219.48 L300.58,217.16 L300.52,211.36 L298.07,205.56 L296.46,199.75 L295.71,198.57 L293.16,193.95   L289.91,190.28 L288.36,188.15 L285.03,182.35 L284.10,179.28 L282.81,176.55 L280.67,170.75 L278.30,168.94 L272.50,165.98   L271.56,164.95 L269.98,159.14 L266.70,155.10 L265.70,153.34 L266.70,150.64 L268.46,147.54 L268.79,141.74 L268.66,135.94   L266.98,130.14 L266.70,127.64 L266.33,124.33 L266.70,122.08 L267.31,118.53 L266.70,116.54 L264.74,112.73 L264.37,106.93   L262.62,101.13 L260.90,95.33 L260.90,95.32 L258.05,89.53 L255.10,86.20 L252.45,83.72 L249.30,78.21 L249.10,77.92   L244.24,72.12 L243.49,70.00 L241.00,66.32 L237.69,64.10 L234.90,60.52 L231.89,57.34 L227.97,54.72 L226.09,50.50   L221.33,48.91 L220.29,48.67 L214.89,43.11 L214.49,42.85 L208.69,39.88 L205.48,37.31 L202.88,37.31 L197.08,37.31   L191.28,37.31 L185.48,37.31 L179.68,37.31 L173.88,37.31 L168.07,37.31 L162.27,37.31 L156.47,37.31 L150.67,37.31   L144.87,37.31 L139.07,37.31 L133.27,37.31 L127.46,37.31 L121.66,37.31 L115.86,37.31 L110.06,37.31 L104.26,37.31   L98.46,37.31 L92.65,37.31 L86.85,37.31 L81.05,37.31 L81.05,43.11 L81.05,48.91 L81.05,54.72 L81.05,60.52   L81.05,66.32 L81.05,72.12 L81.05,77.92 L81.05,83.72 L81.05,89.53 L81.05,95.33 L81.05,101.13 L81.05,106.93   L81.05,112.73 L81.05,118.53 L81.05,124.33 L81.05,130.14 L81.05,135.94 L81.05,141.74 L81.05,147.54 L81.05,153.34   L81.05,159.14 L81.05,164.95 L81.05,170.75 L81.05,176.55 L81.05,182.35 L81.05,188.15 L81.05,193.95 L81.05,199.75   L81.05,205.56 L81.05,211.36 L81.05,217.16 L81.05,222.96 L81.05,228.76 L81.05,234.56 L81.05,240.36 L81.05,246.17   L81.05,251.97 L81.05,257.77 L81.05,263.57 L81.05,269.37 L81.05,275.17 L81.05,280.98 L81.05,286.78 L81.05,292.58   L81.05,298.38 L81.05,304.18 L81.05,309.98 L81.05,315.78 L81.05,321.59 L81.05,327.39 L81.05,333.19 L81.05,338.99   L81.05,344.79 L81.05,350.59 L81.05,356.40 L81.05,362.20  \"/></g>\n\t</g>\n\t<g id=\"gnuplot_plot_20a\"><title>gnuplot_plot_20a</title>\n<g fill=\"none\" color=\"white\" stroke=\"rgb(  0, 191, 255)\" stroke-width=\"0.50\" stroke-linecap=\"butt\" stroke-linejoin=\"miter\">\n</g>\n<g fill=\"none\" color=\"black\" stroke=\"currentColor\" stroke-width=\"0.50\" stroke-linecap=\"butt\" stroke-linejoin=\"miter\">\n\t<path stroke=\"rgb(  0,   0,   0)\" d=\"M81.05,368.00 L86.85,368.00 L92.65,368.00 L98.46,368.00 L104.26,368.00 L110.06,368.00 L115.86,368.00 L121.66,368.00   L127.46,368.00 L133.27,368.00 L139.07,368.00 L144.87,368.00 L150.67,368.00 L156.47,368.00 L162.27,368.00 L168.07,368.00   L173.88,368.00 L179.68,368.00 L185.48,368.00 L191.28,368.00 L197.08,368.00 L202.88,368.00 L208.69,368.00 L214.49,368.00   L220.29,368.00 L220.68,368.00 L226.09,364.92 L229.70,362.20 L231.89,360.65 L236.14,356.40 L237.69,354.76 L243.49,351.16   L244.68,350.59 L249.30,348.75 L252.46,344.79 L255.10,341.95 L258.89,338.99 L260.90,337.25 L265.50,333.19 L266.70,331.81   L270.78,327.39 L272.50,325.41 L275.56,321.59 L278.30,318.40 L280.49,315.78 L284.10,312.04 L285.92,309.98 L288.86,304.18   L289.91,301.80 L291.84,298.38 L294.49,292.58 L295.71,289.30 L296.65,286.78 L298.61,280.98 L299.72,275.17 L301.51,271.40   L302.51,269.37 L303.00,263.57 L305.40,257.77 L305.19,251.97 L304.24,246.17 L304.55,240.36 L304.95,234.56 L303.09,228.76   L303.07,222.96 L301.51,219.48 L300.58,217.16 L300.52,211.36 L298.07,205.56 L296.46,199.75 L295.71,198.57 L293.16,193.95   L289.91,190.28 L288.36,188.15 L285.03,182.35 L284.10,179.28 L282.81,176.55 L280.67,170.75 L278.30,168.94 L272.50,165.98   L271.56,164.95 L269.98,159.14 L266.70,155.10 L265.70,153.34 L266.70,150.64 L268.46,147.54 L268.79,141.74 L268.66,135.94   L266.98,130.14 L266.70,127.64 L266.33,124.33 L266.70,122.08 L267.31,118.53 L266.70,116.54 L264.74,112.73 L264.37,106.93   L262.62,101.13 L260.90,95.33 L260.90,95.32 L258.05,89.53 L255.10,86.20 L252.45,83.72 L249.30,78.21 L249.10,77.92   L244.24,72.12 L243.49,70.00 L241.00,66.32 L237.69,64.10 L234.90,60.52 L231.89,57.34 L227.97,54.72 L226.09,50.50   L221.33,48.91 L220.29,48.67 L214.89,43.11 L214.49,42.85 L208.69,39.88 L205.48,37.31 L202.88,37.31 L197.08,37.31   L191.28,37.31 L185.48,37.31 L179.68,37.31 L173.88,37.31 L168.07,37.31 L162.27,37.31 L156.47,37.31 L150.67,37.31   L144.87,37.31 L139.07,37.31 L133.27,37.31 L127.46,37.31 L121.66,37.31 L115.86,37.31 L110.06,37.31 L104.26,37.31   L98.46,37.31 L92.65,37.31 L86.85,37.31 L81.05,37.31 L81.05,43.11 L81.05,48.91 L81.05,54.72 L81.05,60.52   L81.05,66.32 L81.05,72.12 L81.05,77.92 L81.05,83.72 L81.05,89.53 L81.05,95.33 L81.05,101.13 L81.05,106.93   L81.05,112.73 L81.05,118.53 L81.05,124.33 L81.05,130.14 L81.05,135.94 L81.05,141.74 L81.05,147.54 L81.05,153.34   L81.05,159.14 L81.05,164.95 L81.05,170.75 L81.05,176.55 L81.05,182.35 L81.05,188.15 L81.05,193.95 L81.05,199.75   L81.05,205.56 L81.05,211.36 L81.05,217.16 L81.05,222.96 L81.05,228.76 L81.05,234.56 L81.05,240.36 L81.05,246.17   L81.05,251.97 L81.05,257.77 L81.05,263.57 L81.05,269.37 L81.05,275.17 L81.05,280.98 L81.05,286.78 L81.05,292.58   L81.05,298.38 L81.05,304.18 L81.05,309.98 L81.05,315.78 L81.05,321.59 L81.05,327.39 L81.05,333.19 L81.05,338.99   L81.05,344.79 L81.05,350.59 L81.05,356.40 L81.05,362.20 L81.05,368.00  \"/></g>\n\t</g>\n\t<g id=\"gnuplot_plot_21a\"><title>gnuplot_plot_21a</title>\n<g fill=\"none\" color=\"white\" stroke=\"rgb(  0,   0,   0)\" stroke-width=\"1.00\" stroke-linecap=\"butt\" stroke-linejoin=\"miter\">\n</g>\n<g fill=\"none\" color=\"black\" stroke=\"currentColor\" stroke-width=\"1.00\" stroke-linecap=\"butt\" stroke-linejoin=\"miter\">\n\t<g stroke=\"none\" shape-rendering=\"crispEdges\">\n\t\t<polygon fill=\"rgb(  0, 223, 255)\" points=\"85.22,368.00 86.85,368.00 92.65,368.00 98.46,368.00 104.26,368.00 110.06,368.00 115.86,368.00 121.66,368.00 127.46,368.00 133.27,368.00 139.07,368.00 144.87,368.00 150.67,368.00 156.47,368.00 162.27,368.00 168.07,368.00 173.88,368.00 177.06,368.00 179.68,367.28 185.48,365.23 191.28,364.20 195.24,362.20 197.08,360.97 202.88,357.81 206.78,356.40 208.69,355.68 214.49,351.75 215.70,350.59 220.29,348.27 226.09,345.76 226.74,344.79 231.89,339.96 233.41,338.99 237.69,335.80 240.81,333.19 243.49,330.99 248.20,327.39 249.30,326.40 253.23,321.59 255.10,319.76 260.88,315.78 260.90,315.63 261.59,309.98 266.70,305.46 267.84,304.18 270.34,298.38 272.50,294.37 273.70,292.58 278.03,286.78 278.30,285.39 278.95,280.98 280.21,275.17 284.10,270.67 284.62,269.37 285.21,263.57 287.07,257.77 285.86,251.97 285.83,246.17 286.47,240.36 287.39,234.56 284.99,228.76 284.10,225.01 283.80,222.96 282.43,217.16 279.89,211.36 278.30,208.15 276.87,205.56 273.70,199.75 272.50,197.44 268.50,193.95 266.70,192.60 260.90,189.86 257.24,188.15 255.10,187.05 249.30,183.56 249.27,182.35 249.07,176.55 248.97,170.75 248.89,164.95 248.74,159.14 248.71,153.34 248.80,147.54 247.06,141.74 248.42,135.94 248.05,130.14 247.22,124.33 246.72,118.53 244.61,112.73 243.53,106.93 243.49,106.83 242.02,101.13 241.46,95.33 237.69,90.97 236.72,89.53 233.17,83.72 231.89,81.78 226.92,77.92 226.09,76.90 223.21,72.12 220.29,69.35 216.88,66.32 214.49,64.15 209.01,60.52 208.69,60.15 202.88,55.32 201.25,54.72 197.08,52.97 191.68,48.91 191.28,48.63 185.48,45.59 181.35,43.11 179.68,41.45 173.88,40.01 168.07,37.99 167.19,37.31 162.27,37.31 156.47,37.31 150.67,37.31 144.87,37.31 139.07,37.31 133.27,37.31 127.46,37.31 121.66,37.31 115.86,37.31 110.06,37.31 104.26,37.31 98.46,37.31 94.36,37.31 92.65,38.10 86.85,37.90 81.05,40.32 81.05,43.11 81.05,48.91 81.05,54.72 81.05,60.52 81.05,66.32 81.05,72.12 81.05,77.92 81.05,83.72 81.05,89.53 81.05,95.33 81.05,101.13 81.05,106.93 81.05,112.73 81.05,118.53 81.05,124.33 81.05,130.14 81.05,135.94 81.05,141.74 81.05,147.54 81.05,153.34 81.05,159.14 81.05,164.95 81.05,170.75 81.05,176.55 81.05,182.35 81.05,188.15 81.05,193.95 81.05,199.75 81.05,205.56 81.05,211.36 81.05,217.16 81.05,222.96 81.05,228.76 81.05,234.56 81.05,240.36 81.05,246.17 81.05,251.97 81.05,257.77 81.05,263.57 81.05,269.37 81.05,275.17 81.05,280.98 81.05,286.78 81.05,292.58 81.05,298.38 81.05,304.18 81.05,309.98 81.05,315.78 81.05,321.59 81.05,327.39 81.05,333.19 81.05,338.99 81.05,344.79 81.05,350.59 81.05,356.40 81.05,362.20 81.05,364.51 \"/>\n\t</g>\n\t<path stroke=\"rgb(  0, 223, 255)\" d=\"M85.22,368.00 L86.85,368.00 L92.65,368.00 L98.46,368.00 L104.26,368.00 L110.06,368.00 L115.86,368.00 L121.66,368.00   L127.46,368.00 L133.27,368.00 L139.07,368.00 L144.87,368.00 L150.67,368.00 L156.47,368.00 L162.27,368.00 L168.07,368.00   L173.88,368.00 L177.06,368.00 L179.68,367.28 L185.48,365.23 L191.28,364.20 L195.24,362.20 L197.08,360.97 L202.88,357.81   L206.78,356.40 L208.69,355.68 L214.49,351.75 L215.70,350.59 L220.29,348.27 L226.09,345.76 L226.74,344.79 L231.89,339.96   L233.41,338.99 L237.69,335.80 L240.81,333.19 L243.49,330.99 L248.20,327.39 L249.30,326.40 L253.23,321.59 L255.10,319.76   L260.88,315.78 L260.90,315.63 L261.59,309.98 L266.70,305.46 L267.84,304.18 L270.34,298.38 L272.50,294.37 L273.70,292.58   L278.03,286.78 L278.30,285.39 L278.95,280.98 L280.21,275.17 L284.10,270.67 L284.62,269.37 L285.21,263.57 L287.07,257.77   L285.86,251.97 L285.83,246.17 L286.47,240.36 L287.39,234.56 L284.99,228.76 L284.10,225.01 L283.80,222.96 L282.43,217.16   L279.89,211.36 L278.30,208.15 L276.87,205.56 L273.70,199.75 L272.50,197.44 L268.50,193.95 L266.70,192.60 L260.90,189.86   L257.24,188.15 L255.10,187.05 L249.30,183.56 L249.27,182.35 L249.07,176.55 L248.97,170.75 L248.89,164.95 L248.74,159.14   L248.71,153.34 L248.80,147.54 L247.06,141.74 L248.42,135.94 L248.05,130.14 L247.22,124.33 L246.72,118.53 L244.61,112.73   L243.53,106.93 L243.49,106.83 L242.02,101.13 L241.46,95.33 L237.69,90.97 L236.72,89.53 L233.17,83.72 L231.89,81.78   L226.92,77.92 L226.09,76.90 L223.21,72.12 L220.29,69.35 L216.88,66.32 L214.49,64.15 L209.01,60.52 L208.69,60.15   L202.88,55.32 L201.25,54.72 L197.08,52.97 L191.68,48.91 L191.28,48.63 L185.48,45.59 L181.35,43.11 L179.68,41.45   L173.88,40.01 L168.07,37.99 L167.19,37.31 L162.27,37.31 L156.47,37.31 L150.67,37.31 L144.87,37.31 L139.07,37.31   L133.27,37.31 L127.46,37.31 L121.66,37.31 L115.86,37.31 L110.06,37.31 L104.26,37.31 L98.46,37.31 L94.36,37.31   L92.65,38.10 L86.85,37.90 L81.05,40.32 L81.05,43.11 L81.05,48.91 L81.05,54.72 L81.05,60.52 L81.05,66.32   L81.05,72.12 L81.05,77.92 L81.05,83.72 L81.05,89.53 L81.05,95.33 L81.05,101.13 L81.05,106.93 L81.05,112.73   L81.05,118.53 L81.05,124.33 L81.05,130.14 L81.05,135.94 L81.05,141.74 L81.05,147.54 L81.05,153.34 L81.05,159.14   L81.05,164.95 L81.05,170.75 L81.05,176.55 L81.05,182.35 L81.05,188.15 L81.05,193.95 L81.05,199.75 L81.05,205.56   L81.05,211.36 L81.05,217.16 L81.05,222.96 L81.05,228.76 L81.05,234.56 L81.05,240.36 L81.05,246.17 L81.05,251.97   L81.05,257.77 L81.05,263.57 L81.05,269.37 L81.05,275.17 L81.05,280.98 L81.05,286.78 L81.05,292.58 L81.05,298.38   L81.05,304.18 L81.05,309.98 L81.05,315.78 L81.05,321.59 L81.05,327.39 L81.05,333.19 L81.05,338.99 L81.05,344.79   L81.05,350.59 L81.05,356.40 L81.05,362.20 L81.05,364.51  \"/></g>\n\t</g>\n\t<g id=\"gnuplot_plot_22a\"><title>gnuplot_plot_22a</title>\n<g fill=\"none\" color=\"white\" stroke=\"rgb(  0, 223, 255)\" stroke-width=\"0.50\" stroke-linecap=\"butt\" stroke-linejoin=\"miter\">\n</g>\n<g fill=\"none\" color=\"black\" stroke=\"currentColor\" stroke-width=\"0.50\" stroke-linecap=\"butt\" stroke-linejoin=\"miter\">\n\t<path stroke=\"rgb(  0,   0,   0)\" d=\"M85.22,368.00 L86.85,368.00 L92.65,368.00 L98.46,368.00 L104.26,368.00 L110.06,368.00 L115.86,368.00 L121.66,368.00   L127.46,368.00 L133.27,368.00 L139.07,368.00 L144.87,368.00 L150.67,368.00 L156.47,368.00 L162.27,368.00 L168.07,368.00   L173.88,368.00 L177.06,368.00 L179.68,367.28 L185.48,365.23 L191.28,364.20 L195.24,362.20 L197.08,360.97 L202.88,357.81   L206.78,356.40 L208.69,355.68 L214.49,351.75 L215.70,350.59 L220.29,348.27 L226.09,345.76 L226.74,344.79 L231.89,339.96   L233.41,338.99 L237.69,335.80 L240.81,333.19 L243.49,330.99 L248.20,327.39 L249.30,326.40 L253.23,321.59 L255.10,319.76   L260.88,315.78 L260.90,315.63 L261.59,309.98 L266.70,305.46 L267.84,304.18 L270.34,298.38 L272.50,294.37 L273.70,292.58   L278.03,286.78 L278.30,285.39 L278.95,280.98 L280.21,275.17 L284.10,270.67 L284.62,269.37 L285.21,263.57 L287.07,257.77   L285.86,251.97 L285.83,246.17 L286.47,240.36 L287.39,234.56 L284.99,228.76 L284.10,225.01 L283.80,222.96 L282.43,217.16   L279.89,211.36 L278.30,208.15 L276.87,205.56 L273.70,199.75 L272.50,197.44 L268.50,193.95 L266.70,192.60 L260.90,189.86   L257.24,188.15 L255.10,187.05 L249.30,183.56 L249.27,182.35 L249.07,176.55 L248.97,170.75 L248.89,164.95 L248.74,159.14   L248.71,153.34 L248.80,147.54 L247.06,141.74 L248.42,135.94 L248.05,130.14 L247.22,124.33 L246.72,118.53 L244.61,112.73   L243.53,106.93 L243.49,106.83 L242.02,101.13 L241.46,95.33 L237.69,90.97 L236.72,89.53 L233.17,83.72 L231.89,81.78   L226.92,77.92 L226.09,76.90 L223.21,72.12 L220.29,69.35 L216.88,66.32 L214.49,64.15 L209.01,60.52 L208.69,60.15   L202.88,55.32 L201.25,54.72 L197.08,52.97 L191.68,48.91 L191.28,48.63 L185.48,45.59 L181.35,43.11 L179.68,41.45   L173.88,40.01 L168.07,37.99 L167.19,37.31 L162.27,37.31 L156.47,37.31 L150.67,37.31 L144.87,37.31 L139.07,37.31   L133.27,37.31 L127.46,37.31 L121.66,37.31 L115.86,37.31 L110.06,37.31 L104.26,37.31 L98.46,37.31 L94.36,37.31   L92.65,38.10 L86.85,37.90 L81.05,40.32 L81.05,43.11 L81.05,48.91 L81.05,54.72 L81.05,60.52 L81.05,66.32   L81.05,72.12 L81.05,77.92 L81.05,83.72 L81.05,89.53 L81.05,95.33 L81.05,101.13 L81.05,106.93 L81.05,112.73   L81.05,118.53 L81.05,124.33 L81.05,130.14 L81.05,135.94 L81.05,141.74 L81.05,147.54 L81.05,153.34 L81.05,159.14   L81.05,164.95 L81.05,170.75 L81.05,176.55 L81.05,182.35 L81.05,188.15 L81.05,193.95 L81.05,199.75 L81.05,205.56   L81.05,211.36 L81.05,217.16 L81.05,222.96 L81.05,228.76 L81.05,234.56 L81.05,240.36 L81.05,246.17 L81.05,251.97   L81.05,257.77 L81.05,263.57 L81.05,269.37 L81.05,275.17 L81.05,280.98 L81.05,286.78 L81.05,292.58 L81.05,298.38   L81.05,304.18 L81.05,309.98 L81.05,315.78 L81.05,321.59 L81.05,327.39 L81.05,333.19 L81.05,338.99 L81.05,344.79   L81.05,350.59 L81.05,356.40 L81.05,362.20 L81.05,364.51 L85.22,368.00  \"/></g>\n\t</g>\n\t<g id=\"gnuplot_plot_23a\"><title>gnuplot_plot_23a</title>\n<g fill=\"none\" color=\"white\" stroke=\"rgb(  0,   0,   0)\" stroke-width=\"1.00\" stroke-linecap=\"butt\" stroke-linejoin=\"miter\">\n</g>\n<g fill=\"none\" color=\"black\" stroke=\"currentColor\" stroke-width=\"1.00\" stroke-linecap=\"butt\" stroke-linejoin=\"miter\">\n\t<g stroke=\"none\" shape-rendering=\"crispEdges\">\n\t\t<polygon fill=\"rgb(  0, 255, 255)\" points=\"101.51,356.40 104.26,357.15 110.06,358.41 115.86,359.10 121.66,358.51 127.46,359.29 133.27,359.27 139.07,358.88 144.87,358.77 150.67,357.40 153.97,356.40 156.47,355.80 162.27,354.33 168.07,353.92 173.88,351.40 176.27,350.59 179.68,349.53 185.48,346.70 191.28,345.28 192.49,344.79 197.08,342.13 202.88,340.35 204.66,338.99 208.69,335.29 211.75,333.19 214.49,331.78 220.29,327.45 220.41,327.39 226.09,322.97 227.78,321.59 231.89,318.06 234.57,315.78 237.69,312.93 239.61,309.98 243.49,305.41 244.98,304.18 249.30,298.58 249.45,298.38 253.15,292.58 255.10,289.71 256.71,286.78 258.99,280.98 260.90,276.90 261.98,275.17 266.50,269.37 266.70,268.23 267.50,263.57 268.35,257.77 270.13,251.97 270.03,246.17 270.06,240.36 270.54,234.56 270.05,228.76 269.06,222.96 266.70,219.38 265.36,217.16 263.58,211.36 260.90,208.48 257.06,205.56 255.10,204.15 249.30,203.53 249.10,199.75 248.91,193.95 248.67,188.15 248.53,182.35 248.34,176.55 248.21,170.75 248.12,164.95 247.97,159.14 247.95,153.34 248.04,147.54 243.49,142.40 237.69,142.23 231.89,141.85 229.98,141.74 230.21,135.94 230.60,130.14 229.91,124.33 229.38,118.53 227.44,112.73 227.26,106.93 226.09,104.51 223.92,101.13 220.29,96.04 219.69,95.33 216.00,89.53 214.49,87.82 210.65,83.72 208.69,81.43 206.51,77.92 202.88,74.57 199.54,72.12 197.08,70.55 191.28,66.96 189.46,66.32 185.48,64.70 179.68,61.99 176.95,60.52 173.88,58.02 168.07,55.27 166.45,54.72 162.27,53.64 156.47,51.97 150.67,50.46 145.55,48.91 144.87,48.75 139.07,47.74 133.27,48.55 127.46,46.97 121.66,47.04 115.86,48.36 110.06,48.56 104.26,48.41 103.42,48.91 98.46,51.78 92.65,52.34 86.85,53.97 84.12,54.72 81.05,55.59 81.05,60.52 81.05,66.32 81.05,72.12 81.05,77.92 81.05,83.72 81.05,89.53 81.05,95.33 81.05,101.13 81.05,106.93 81.05,112.73 81.05,118.53 81.05,124.33 81.05,130.14 81.05,135.94 81.05,141.74 81.05,147.54 81.05,153.34 81.05,159.14 81.05,164.95 81.05,170.75 81.05,176.55 81.05,182.35 81.05,188.15 81.05,193.95 81.05,199.75 81.05,205.56 81.05,211.36 81.05,217.16 81.05,222.96 81.05,228.76 81.05,234.56 81.05,240.36 81.05,246.17 81.05,251.97 81.05,257.77 81.05,263.57 81.05,269.37 81.05,275.17 81.05,280.98 81.05,286.78 81.05,292.58 81.05,298.38 81.05,304.18 81.05,309.98 81.05,315.78 81.05,321.59 81.05,327.39 81.05,333.19 81.05,338.99 81.05,344.79 81.05,350.03 82.46,350.59 86.85,351.84 92.65,353.34 98.46,355.30 \"/>\n\t</g>\n\t<path stroke=\"rgb(  0, 255, 255)\" d=\"M101.51,356.40 L104.26,357.15 L110.06,358.41 L115.86,359.10 L121.66,358.51 L127.46,359.29 L133.27,359.27 L139.07,358.88   L144.87,358.77 L150.67,357.40 L153.97,356.40 L156.47,355.80 L162.27,354.33 L168.07,353.92 L173.88,351.40 L176.27,350.59   L179.68,349.53 L185.48,346.70 L191.28,345.28 L192.49,344.79 L197.08,342.13 L202.88,340.35 L204.66,338.99 L208.69,335.29   L211.75,333.19 L214.49,331.78 L220.29,327.45 L220.41,327.39 L226.09,322.97 L227.78,321.59 L231.89,318.06 L234.57,315.78   L237.69,312.93 L239.61,309.98 L243.49,305.41 L244.98,304.18 L249.30,298.58 L249.45,298.38 L253.15,292.58 L255.10,289.71   L256.71,286.78 L258.99,280.98 L260.90,276.90 L261.98,275.17 L266.50,269.37 L266.70,268.23 L267.50,263.57 L268.35,257.77   L270.13,251.97 L270.03,246.17 L270.06,240.36 L270.54,234.56 L270.05,228.76 L269.06,222.96 L266.70,219.38 L265.36,217.16   L263.58,211.36 L260.90,208.48 L257.06,205.56 L255.10,204.15 L249.30,203.53 L249.10,199.75 L248.91,193.95 L248.67,188.15   L248.53,182.35 L248.34,176.55 L248.21,170.75 L248.12,164.95 L247.97,159.14 L247.95,153.34 L248.04,147.54 L243.49,142.40   L237.69,142.23 L231.89,141.85 L229.98,141.74 L230.21,135.94 L230.60,130.14 L229.91,124.33 L229.38,118.53 L227.44,112.73   L227.26,106.93 L226.09,104.51 L223.92,101.13 L220.29,96.04 L219.69,95.33 L216.00,89.53 L214.49,87.82 L210.65,83.72   L208.69,81.43 L206.51,77.92 L202.88,74.57 L199.54,72.12 L197.08,70.55 L191.28,66.96 L189.46,66.32 L185.48,64.70   L179.68,61.99 L176.95,60.52 L173.88,58.02 L168.07,55.27 L166.45,54.72 L162.27,53.64 L156.47,51.97 L150.67,50.46   L145.55,48.91 L144.87,48.75 L139.07,47.74 L133.27,48.55 L127.46,46.97 L121.66,47.04 L115.86,48.36 L110.06,48.56   L104.26,48.41 L103.42,48.91 L98.46,51.78 L92.65,52.34 L86.85,53.97 L84.12,54.72 L81.05,55.59 L81.05,60.52   L81.05,66.32 L81.05,72.12 L81.05,77.92 L81.05,83.72 L81.05,89.53 L81.05,95.33 L81.05,101.13 L81.05,106.93   L81.05,112.73 L81.05,118.53 L81.05,124.33 L81.05,130.14 L81.05,135.94 L81.05,141.74 L81.05,147.54 L81.05,153.34   L81.05,159.14 L81.05,164.95 L81.05,170.75 L81.05,176.55 L81.05,182.35 L81.05,188.15 L81.05,193.95 L81.05,199.75   L81.05,205.56 L81.05,211.36 L81.05,217.16 L81.05,222.96 L81.05,228.76 L81.05,234.56 L81.05,240.36 L81.05,246.17   L81.05,251.97 L81.05,257.77 L81.05,263.57 L81.05,269.37 L81.05,275.17 L81.05,280.98 L81.05,286.78 L81.05,292.58   L81.05,298.38 L81.05,304.18 L81.05,309.98 L81.05,315.78 L81.05,321.59 L81.05,327.39 L81.05,333.19 L81.05,338.99   L81.05,344.79 L81.05,350.03 L82.46,350.59 L86.85,351.84 L92.65,353.34 L98.46,355.30  \"/></g>\n\t</g>\n\t<g id=\"gnuplot_plot_24a\"><title>gnuplot_plot_24a</title>\n<g fill=\"none\" color=\"white\" stroke=\"rgb(  0, 255, 255)\" stroke-width=\"0.50\" stroke-linecap=\"butt\" stroke-linejoin=\"miter\">\n</g>\n<g fill=\"none\" color=\"black\" stroke=\"currentColor\" stroke-width=\"0.50\" stroke-linecap=\"butt\" stroke-linejoin=\"miter\">\n\t<path stroke=\"rgb(  0,   0,   0)\" d=\"M101.51,356.40 L104.26,357.15 L110.06,358.41 L115.86,359.10 L121.66,358.51 L127.46,359.29 L133.27,359.27 L139.07,358.88   L144.87,358.77 L150.67,357.40 L153.97,356.40 L156.47,355.80 L162.27,354.33 L168.07,353.92 L173.88,351.40 L176.27,350.59   L179.68,349.53 L185.48,346.70 L191.28,345.28 L192.49,344.79 L197.08,342.13 L202.88,340.35 L204.66,338.99 L208.69,335.29   L211.75,333.19 L214.49,331.78 L220.29,327.45 L220.41,327.39 L226.09,322.97 L227.78,321.59 L231.89,318.06 L234.57,315.78   L237.69,312.93 L239.61,309.98 L243.49,305.41 L244.98,304.18 L249.30,298.58 L249.45,298.38 L253.15,292.58 L255.10,289.71   L256.71,286.78 L258.99,280.98 L260.90,276.90 L261.98,275.17 L266.50,269.37 L266.70,268.23 L267.50,263.57 L268.35,257.77   L270.13,251.97 L270.03,246.17 L270.06,240.36 L270.54,234.56 L270.05,228.76 L269.06,222.96 L266.70,219.38 L265.36,217.16   L263.58,211.36 L260.90,208.48 L257.06,205.56 L255.10,204.15 L249.30,203.53 L249.10,199.75 L248.91,193.95 L248.67,188.15   L248.53,182.35 L248.34,176.55 L248.21,170.75 L248.12,164.95 L247.97,159.14 L247.95,153.34 L248.04,147.54 L243.49,142.40   L237.69,142.23 L231.89,141.85 L229.98,141.74 L230.21,135.94 L230.60,130.14 L229.91,124.33 L229.38,118.53 L227.44,112.73   L227.26,106.93 L226.09,104.51 L223.92,101.13 L220.29,96.04 L219.69,95.33 L216.00,89.53 L214.49,87.82 L210.65,83.72   L208.69,81.43 L206.51,77.92 L202.88,74.57 L199.54,72.12 L197.08,70.55 L191.28,66.96 L189.46,66.32 L185.48,64.70   L179.68,61.99 L176.95,60.52 L173.88,58.02 L168.07,55.27 L166.45,54.72 L162.27,53.64 L156.47,51.97 L150.67,50.46   L145.55,48.91 L144.87,48.75 L139.07,47.74 L133.27,48.55 L127.46,46.97 L121.66,47.04 L115.86,48.36 L110.06,48.56   L104.26,48.41 L103.42,48.91 L98.46,51.78 L92.65,52.34 L86.85,53.97 L84.12,54.72 L81.05,55.59 L81.05,60.52   L81.05,66.32 L81.05,72.12 L81.05,77.92 L81.05,83.72 L81.05,89.53 L81.05,95.33 L81.05,101.13 L81.05,106.93   L81.05,112.73 L81.05,118.53 L81.05,124.33 L81.05,130.14 L81.05,135.94 L81.05,141.74 L81.05,147.54 L81.05,153.34   L81.05,159.14 L81.05,164.95 L81.05,170.75 L81.05,176.55 L81.05,182.35 L81.05,188.15 L81.05,193.95 L81.05,199.75   L81.05,205.56 L81.05,211.36 L81.05,217.16 L81.05,222.96 L81.05,228.76 L81.05,234.56 L81.05,240.36 L81.05,246.17   L81.05,251.97 L81.05,257.77 L81.05,263.57 L81.05,269.37 L81.05,275.17 L81.05,280.98 L81.05,286.78 L81.05,292.58   L81.05,298.38 L81.05,304.18 L81.05,309.98 L81.05,315.78 L81.05,321.59 L81.05,327.39 L81.05,333.19 L81.05,338.99   L81.05,344.79 L81.05,350.03 L82.46,350.59 L86.85,351.84 L92.65,353.34 L98.46,355.30 L101.51,356.40  \"/></g>\n\t</g>\n\t<g id=\"gnuplot_plot_25a\"><title>gnuplot_plot_25a</title>\n<g fill=\"none\" color=\"white\" stroke=\"rgb(  0,   0,   0)\" stroke-width=\"1.00\" stroke-linecap=\"butt\" stroke-linejoin=\"miter\">\n</g>\n<g fill=\"none\" color=\"black\" stroke=\"currentColor\" stroke-width=\"1.00\" stroke-linecap=\"butt\" stroke-linejoin=\"miter\">\n\t<g stroke=\"none\" shape-rendering=\"crispEdges\">\n\t\t<polygon fill=\"rgb( 32, 255, 223)\" points=\"131.67,344.79 133.27,344.92 133.69,344.79 139.07,342.79 144.87,342.14 150.67,341.21 156.47,340.35 162.20,338.99 162.27,338.97 168.07,337.73 173.88,335.22 177.13,333.19 179.68,332.13 185.48,329.97 190.18,327.39 191.28,326.72 197.08,323.19 199.35,321.59 202.88,319.28 208.69,315.94 208.92,315.78 214.49,311.79 217.08,309.98 220.29,306.82 222.35,304.18 226.09,299.40 227.20,298.38 231.64,292.58 231.89,292.25 236.31,286.78 237.69,285.21 240.97,280.98 243.49,276.22 244.07,275.17 246.55,269.37 249.30,265.21 250.26,263.57 251.63,257.77 253.90,251.97 254.22,246.17 255.09,240.36 254.02,234.56 254.75,228.76 254.65,222.96 252.64,217.16 250.02,211.36 249.30,210.89 248.68,205.56 248.40,199.75 248.19,193.95 247.95,188.15 247.79,182.35 247.60,176.55 247.45,170.75 247.36,164.95 247.20,159.14 247.19,153.34 247.28,147.54 243.49,143.26 237.69,143.07 231.89,142.71 226.09,142.37 220.29,142.05 214.59,141.74 215.04,135.94 216.34,130.14 214.84,124.33 214.49,123.63 212.58,118.53 211.93,112.73 209.16,106.93 208.69,106.05 205.71,101.13 202.88,98.46 200.19,95.33 197.08,90.73 195.77,89.53 191.28,86.65 187.99,83.72 185.48,81.36 180.74,77.92 179.68,77.32 173.88,75.28 168.07,72.32 167.58,72.12 162.27,70.20 156.47,67.05 153.23,66.32 150.67,65.78 144.87,64.52 139.07,64.39 133.27,63.25 127.46,63.04 121.66,62.21 115.86,62.30 110.06,62.75 104.26,62.81 98.46,64.55 94.96,66.32 92.65,67.11 86.85,68.21 81.05,69.14 81.05,72.12 81.05,77.92 81.05,83.72 81.05,89.53 81.05,95.33 81.05,101.13 81.05,106.93 81.05,112.73 81.05,118.53 81.05,124.33 81.05,130.14 81.05,135.94 81.05,141.74 81.05,147.54 81.05,153.34 81.05,159.14 81.05,164.95 81.05,170.75 81.05,176.55 81.05,182.35 81.05,188.15 81.05,193.95 81.05,199.75 81.05,205.56 81.05,211.36 81.05,217.16 81.05,222.96 81.05,228.76 81.05,234.56 81.05,240.36 81.05,246.17 81.05,251.97 81.05,257.77 81.05,263.57 81.05,269.37 81.05,275.17 81.05,280.98 81.05,286.78 81.05,292.58 81.05,298.38 81.05,304.18 81.05,309.98 81.05,315.78 81.05,321.59 81.05,327.39 81.05,333.19 81.05,335.71 86.85,338.58 89.24,338.99 92.65,339.57 98.46,341.03 104.26,342.99 110.06,343.39 115.86,344.27 121.66,344.73 127.46,344.38 \"/>\n\t</g>\n\t<path stroke=\"rgb( 32, 255, 223)\" d=\"M131.67,344.79 L133.27,344.92 L133.69,344.79 L139.07,342.79 L144.87,342.14 L150.67,341.21 L156.47,340.35 L162.20,338.99   L162.27,338.97 L168.07,337.73 L173.88,335.22 L177.13,333.19 L179.68,332.13 L185.48,329.97 L190.18,327.39 L191.28,326.72   L197.08,323.19 L199.35,321.59 L202.88,319.28 L208.69,315.94 L208.92,315.78 L214.49,311.79 L217.08,309.98 L220.29,306.82   L222.35,304.18 L226.09,299.40 L227.20,298.38 L231.64,292.58 L231.89,292.25 L236.31,286.78 L237.69,285.21 L240.97,280.98   L243.49,276.22 L244.07,275.17 L246.55,269.37 L249.30,265.21 L250.26,263.57 L251.63,257.77 L253.90,251.97 L254.22,246.17   L255.09,240.36 L254.02,234.56 L254.75,228.76 L254.65,222.96 L252.64,217.16 L250.02,211.36 L249.30,210.89 L248.68,205.56   L248.40,199.75 L248.19,193.95 L247.95,188.15 L247.79,182.35 L247.60,176.55 L247.45,170.75 L247.36,164.95 L247.20,159.14   L247.19,153.34 L247.28,147.54 L243.49,143.26 L237.69,143.07 L231.89,142.71 L226.09,142.37 L220.29,142.05 L214.59,141.74   L215.04,135.94 L216.34,130.14 L214.84,124.33 L214.49,123.63 L212.58,118.53 L211.93,112.73 L209.16,106.93 L208.69,106.05   L205.71,101.13 L202.88,98.46 L200.19,95.33 L197.08,90.73 L195.77,89.53 L191.28,86.65 L187.99,83.72 L185.48,81.36   L180.74,77.92 L179.68,77.32 L173.88,75.28 L168.07,72.32 L167.58,72.12 L162.27,70.20 L156.47,67.05 L153.23,66.32   L150.67,65.78 L144.87,64.52 L139.07,64.39 L133.27,63.25 L127.46,63.04 L121.66,62.21 L115.86,62.30 L110.06,62.75   L104.26,62.81 L98.46,64.55 L94.96,66.32 L92.65,67.11 L86.85,68.21 L81.05,69.14 L81.05,72.12 L81.05,77.92   L81.05,83.72 L81.05,89.53 L81.05,95.33 L81.05,101.13 L81.05,106.93 L81.05,112.73 L81.05,118.53 L81.05,124.33   L81.05,130.14 L81.05,135.94 L81.05,141.74 L81.05,147.54 L81.05,153.34 L81.05,159.14 L81.05,164.95 L81.05,170.75   L81.05,176.55 L81.05,182.35 L81.05,188.15 L81.05,193.95 L81.05,199.75 L81.05,205.56 L81.05,211.36 L81.05,217.16   L81.05,222.96 L81.05,228.76 L81.05,234.56 L81.05,240.36 L81.05,246.17 L81.05,251.97 L81.05,257.77 L81.05,263.57   L81.05,269.37 L81.05,275.17 L81.05,280.98 L81.05,286.78 L81.05,292.58 L81.05,298.38 L81.05,304.18 L81.05,309.98   L81.05,315.78 L81.05,321.59 L81.05,327.39 L81.05,333.19 L81.05,335.71 L86.85,338.58 L89.24,338.99 L92.65,339.57   L98.46,341.03 L104.26,342.99 L110.06,343.39 L115.86,344.27 L121.66,344.73 L127.46,344.38  \"/></g>\n\t</g>\n\t<g id=\"gnuplot_plot_26a\"><title>gnuplot_plot_26a</title>\n<g fill=\"none\" color=\"white\" stroke=\"rgb( 32, 255, 223)\" stroke-width=\"0.50\" stroke-linecap=\"butt\" stroke-linejoin=\"miter\">\n</g>\n<g fill=\"none\" color=\"black\" stroke=\"currentColor\" stroke-width=\"0.50\" stroke-linecap=\"butt\" stroke-linejoin=\"miter\">\n\t<path stroke=\"rgb(  0,   0,   0)\" d=\"M131.67,344.79 L133.27,344.92 L133.69,344.79 L139.07,342.79 L144.87,342.14 L150.67,341.21 L156.47,340.35 L162.20,338.99   L162.27,338.97 L168.07,337.73 L173.88,335.22 L177.13,333.19 L179.68,332.13 L185.48,329.97 L190.18,327.39 L191.28,326.72   L197.08,323.19 L199.35,321.59 L202.88,319.28 L208.69,315.94 L208.92,315.78 L214.49,311.79 L217.08,309.98 L220.29,306.82   L222.35,304.18 L226.09,299.40 L227.20,298.38 L231.64,292.58 L231.89,292.25 L236.31,286.78 L237.69,285.21 L240.97,280.98   L243.49,276.22 L244.07,275.17 L246.55,269.37 L249.30,265.21 L250.26,263.57 L251.63,257.77 L253.90,251.97 L254.22,246.17   L255.09,240.36 L254.02,234.56 L254.75,228.76 L254.65,222.96 L252.64,217.16 L250.02,211.36 L249.30,210.89 L248.68,205.56   L248.40,199.75 L248.19,193.95 L247.95,188.15 L247.79,182.35 L247.60,176.55 L247.45,170.75 L247.36,164.95 L247.20,159.14   L247.19,153.34 L247.28,147.54 L243.49,143.26 L237.69,143.07 L231.89,142.71 L226.09,142.37 L220.29,142.05 L214.59,141.74   L215.04,135.94 L216.34,130.14 L214.84,124.33 L214.49,123.63 L212.58,118.53 L211.93,112.73 L209.16,106.93 L208.69,106.05   L205.71,101.13 L202.88,98.46 L200.19,95.33 L197.08,90.73 L195.77,89.53 L191.28,86.65 L187.99,83.72 L185.48,81.36   L180.74,77.92 L179.68,77.32 L173.88,75.28 L168.07,72.32 L167.58,72.12 L162.27,70.20 L156.47,67.05 L153.23,66.32   L150.67,65.78 L144.87,64.52 L139.07,64.39 L133.27,63.25 L127.46,63.04 L121.66,62.21 L115.86,62.30 L110.06,62.75   L104.26,62.81 L98.46,64.55 L94.96,66.32 L92.65,67.11 L86.85,68.21 L81.05,69.14 L81.05,72.12 L81.05,77.92   L81.05,83.72 L81.05,89.53 L81.05,95.33 L81.05,101.13 L81.05,106.93 L81.05,112.73 L81.05,118.53 L81.05,124.33   L81.05,130.14 L81.05,135.94 L81.05,141.74 L81.05,147.54 L81.05,153.34 L81.05,159.14 L81.05,164.95 L81.05,170.75   L81.05,176.55 L81.05,182.35 L81.05,188.15 L81.05,193.95 L81.05,199.75 L81.05,205.56 L81.05,211.36 L81.05,217.16   L81.05,222.96 L81.05,228.76 L81.05,234.56 L81.05,240.36 L81.05,246.17 L81.05,251.97 L81.05,257.77 L81.05,263.57   L81.05,269.37 L81.05,275.17 L81.05,280.98 L81.05,286.78 L81.05,292.58 L81.05,298.38 L81.05,304.18 L81.05,309.98   L81.05,315.78 L81.05,321.59 L81.05,327.39 L81.05,333.19 L81.05,335.71 L86.85,338.58 L89.24,338.99 L92.65,339.57   L98.46,341.03 L104.26,342.99 L110.06,343.39 L115.86,344.27 L121.66,344.73 L127.46,344.38 L131.67,344.79  \"/></g>\n\t</g>\n\t<g id=\"gnuplot_plot_27a\"><title>gnuplot_plot_27a</title>\n<g fill=\"none\" color=\"white\" stroke=\"rgb(  0,   0,   0)\" stroke-width=\"1.00\" stroke-linecap=\"butt\" stroke-linejoin=\"miter\">\n</g>\n<g fill=\"none\" color=\"black\" stroke=\"currentColor\" stroke-width=\"1.00\" stroke-linecap=\"butt\" stroke-linejoin=\"miter\">\n\t<g stroke=\"none\" shape-rendering=\"crispEdges\">\n\t\t<polygon fill=\"rgb( 64, 255, 191)\" points=\"97.79,327.39 98.46,327.47 104.26,328.41 110.06,328.86 115.86,329.69 121.66,330.52 127.46,329.74 133.27,328.99 138.68,327.39 139.07,327.28 144.87,327.33 150.67,326.34 156.47,324.43 162.27,322.67 164.77,321.59 168.07,320.00 173.88,318.65 178.05,315.78 179.68,314.45 185.48,311.58 189.39,309.98 191.28,308.54 194.86,304.18 197.08,302.77 202.88,298.43 202.95,298.38 208.69,293.97 210.24,292.58 214.49,288.54 216.69,286.78 220.29,282.56 221.42,280.98 225.14,275.17 226.09,274.04 229.20,269.37 231.89,263.95 232.16,263.57 236.07,257.77 237.69,253.95 238.50,251.97 240.71,246.17 240.74,240.36 241.34,234.56 241.02,228.76 241.27,222.96 239.68,217.16 239.94,211.36 243.49,211.09 247.96,205.56 247.69,199.75 247.48,193.95 247.24,188.15 247.06,182.35 246.86,176.55 246.69,170.75 246.59,164.95 246.43,159.14 246.42,153.34 246.52,147.54 243.49,144.12 237.69,143.92 231.89,143.58 226.09,143.22 220.29,142.89 214.49,142.55 208.69,142.16 202.88,141.77 202.43,141.74 202.88,140.18 204.04,135.94 202.88,131.24 202.59,130.14 201.89,124.33 198.92,118.53 197.08,114.88 195.89,112.73 191.28,107.70 190.49,106.93 185.77,101.13 185.48,100.77 179.68,95.84 178.99,95.33 173.88,91.57 169.98,89.53 168.07,88.59 162.27,85.70 156.47,83.98 155.86,83.72 150.67,81.00 144.87,79.46 140.46,77.92 139.07,77.48 133.27,76.59 127.46,76.09 121.66,76.15 115.86,76.41 110.06,76.70 104.31,77.92 104.26,77.93 98.46,78.96 92.65,79.27 86.85,81.20 81.05,83.09 81.05,83.72 81.05,89.53 81.05,95.33 81.05,101.13 81.05,106.93 81.05,112.73 81.05,118.53 81.05,124.33 81.05,130.14 81.05,135.94 81.05,141.74 81.05,147.54 81.05,153.34 81.05,159.14 81.05,164.95 81.05,170.75 81.05,176.55 81.05,182.35 81.05,188.15 81.05,193.95 81.05,199.75 81.05,205.56 81.05,211.36 81.05,217.16 81.05,222.96 81.05,228.76 81.05,234.56 81.05,240.36 81.05,246.17 81.05,251.97 81.05,257.77 81.05,263.57 81.05,269.37 81.05,275.17 81.05,280.98 81.05,286.78 81.05,292.58 81.05,298.38 81.05,304.18 81.05,309.98 81.05,315.78 81.05,321.59 81.05,322.98 86.85,323.64 92.65,326.66 \"/>\n\t</g>\n\t<path stroke=\"rgb( 64, 255, 191)\" d=\"M97.79,327.39 L98.46,327.47 L104.26,328.41 L110.06,328.86 L115.86,329.69 L121.66,330.52 L127.46,329.74 L133.27,328.99   L138.68,327.39 L139.07,327.28 L144.87,327.33 L150.67,326.34 L156.47,324.43 L162.27,322.67 L164.77,321.59 L168.07,320.00   L173.88,318.65 L178.05,315.78 L179.68,314.45 L185.48,311.58 L189.39,309.98 L191.28,308.54 L194.86,304.18 L197.08,302.77   L202.88,298.43 L202.95,298.38 L208.69,293.97 L210.24,292.58 L214.49,288.54 L216.69,286.78 L220.29,282.56 L221.42,280.98   L225.14,275.17 L226.09,274.04 L229.20,269.37 L231.89,263.95 L232.16,263.57 L236.07,257.77 L237.69,253.95 L238.50,251.97   L240.71,246.17 L240.74,240.36 L241.34,234.56 L241.02,228.76 L241.27,222.96 L239.68,217.16 L239.94,211.36 L243.49,211.09   L247.96,205.56 L247.69,199.75 L247.48,193.95 L247.24,188.15 L247.06,182.35 L246.86,176.55 L246.69,170.75 L246.59,164.95   L246.43,159.14 L246.42,153.34 L246.52,147.54 L243.49,144.12 L237.69,143.92 L231.89,143.58 L226.09,143.22 L220.29,142.89   L214.49,142.55 L208.69,142.16 L202.88,141.77 L202.43,141.74 L202.88,140.18 L204.04,135.94 L202.88,131.24 L202.59,130.14   L201.89,124.33 L198.92,118.53 L197.08,114.88 L195.89,112.73 L191.28,107.70 L190.49,106.93 L185.77,101.13 L185.48,100.77   L179.68,95.84 L178.99,95.33 L173.88,91.57 L169.98,89.53 L168.07,88.59 L162.27,85.70 L156.47,83.98 L155.86,83.72   L150.67,81.00 L144.87,79.46 L140.46,77.92 L139.07,77.48 L133.27,76.59 L127.46,76.09 L121.66,76.15 L115.86,76.41   L110.06,76.70 L104.31,77.92 L104.26,77.93 L98.46,78.96 L92.65,79.27 L86.85,81.20 L81.05,83.09 L81.05,83.72   L81.05,89.53 L81.05,95.33 L81.05,101.13 L81.05,106.93 L81.05,112.73 L81.05,118.53 L81.05,124.33 L81.05,130.14   L81.05,135.94 L81.05,141.74 L81.05,147.54 L81.05,153.34 L81.05,159.14 L81.05,164.95 L81.05,170.75 L81.05,176.55   L81.05,182.35 L81.05,188.15 L81.05,193.95 L81.05,199.75 L81.05,205.56 L81.05,211.36 L81.05,217.16 L81.05,222.96   L81.05,228.76 L81.05,234.56 L81.05,240.36 L81.05,246.17 L81.05,251.97 L81.05,257.77 L81.05,263.57 L81.05,269.37   L81.05,275.17 L81.05,280.98 L81.05,286.78 L81.05,292.58 L81.05,298.38 L81.05,304.18 L81.05,309.98 L81.05,315.78   L81.05,321.59 L81.05,322.98 L86.85,323.64 L92.65,326.66  \"/></g>\n\t</g>\n\t<g id=\"gnuplot_plot_28a\"><title>gnuplot_plot_28a</title>\n<g fill=\"none\" color=\"white\" stroke=\"rgb( 64, 255, 191)\" stroke-width=\"0.50\" stroke-linecap=\"butt\" stroke-linejoin=\"miter\">\n</g>\n<g fill=\"none\" color=\"black\" stroke=\"currentColor\" stroke-width=\"0.50\" stroke-linecap=\"butt\" stroke-linejoin=\"miter\">\n\t<path stroke=\"rgb(  0,   0,   0)\" d=\"M97.79,327.39 L98.46,327.47 L104.26,328.41 L110.06,328.86 L115.86,329.69 L121.66,330.52 L127.46,329.74 L133.27,328.99   L138.68,327.39 L139.07,327.28 L144.87,327.33 L150.67,326.34 L156.47,324.43 L162.27,322.67 L164.77,321.59 L168.07,320.00   L173.88,318.65 L178.05,315.78 L179.68,314.45 L185.48,311.58 L189.39,309.98 L191.28,308.54 L194.86,304.18 L197.08,302.77   L202.88,298.43 L202.95,298.38 L208.69,293.97 L210.24,292.58 L214.49,288.54 L216.69,286.78 L220.29,282.56 L221.42,280.98   L225.14,275.17 L226.09,274.04 L229.20,269.37 L231.89,263.95 L232.16,263.57 L236.07,257.77 L237.69,253.95 L238.50,251.97   L240.71,246.17 L240.74,240.36 L241.34,234.56 L241.02,228.76 L241.27,222.96 L239.68,217.16 L239.94,211.36 L243.49,211.09   L247.96,205.56 L247.69,199.75 L247.48,193.95 L247.24,188.15 L247.06,182.35 L246.86,176.55 L246.69,170.75 L246.59,164.95   L246.43,159.14 L246.42,153.34 L246.52,147.54 L243.49,144.12 L237.69,143.92 L231.89,143.58 L226.09,143.22 L220.29,142.89   L214.49,142.55 L208.69,142.16 L202.88,141.77 L202.43,141.74 L202.88,140.18 L204.04,135.94 L202.88,131.24 L202.59,130.14   L201.89,124.33 L198.92,118.53 L197.08,114.88 L195.89,112.73 L191.28,107.70 L190.49,106.93 L185.77,101.13 L185.48,100.77   L179.68,95.84 L178.99,95.33 L173.88,91.57 L169.98,89.53 L168.07,88.59 L162.27,85.70 L156.47,83.98 L155.86,83.72   L150.67,81.00 L144.87,79.46 L140.46,77.92 L139.07,77.48 L133.27,76.59 L127.46,76.09 L121.66,76.15 L115.86,76.41   L110.06,76.70 L104.31,77.92 L104.26,77.93 L98.46,78.96 L92.65,79.27 L86.85,81.20 L81.05,83.09 L81.05,83.72   L81.05,89.53 L81.05,95.33 L81.05,101.13 L81.05,106.93 L81.05,112.73 L81.05,118.53 L81.05,124.33 L81.05,130.14   L81.05,135.94 L81.05,141.74 L81.05,147.54 L81.05,153.34 L81.05,159.14 L81.05,164.95 L81.05,170.75 L81.05,176.55   L81.05,182.35 L81.05,188.15 L81.05,193.95 L81.05,199.75 L81.05,205.56 L81.05,211.36 L81.05,217.16 L81.05,222.96   L81.05,228.76 L81.05,234.56 L81.05,240.36 L81.05,246.17 L81.05,251.97 L81.05,257.77 L81.05,263.57 L81.05,269.37   L81.05,275.17 L81.05,280.98 L81.05,286.78 L81.05,292.58 L81.05,298.38 L81.05,304.18 L81.05,309.98 L81.05,315.78   L81.05,321.59 L81.05,322.98 L86.85,323.64 L92.65,326.66 L97.79,327.39  \"/></g>\n\t</g>\n\t<g id=\"gnuplot_plot_29a\"><title>gnuplot_plot_29a</title>\n<g fill=\"none\" color=\"white\" stroke=\"rgb(  0,   0,   0)\" stroke-width=\"1.00\" stroke-linecap=\"butt\" stroke-linejoin=\"miter\">\n</g>\n<g fill=\"none\" color=\"black\" stroke=\"currentColor\" stroke-width=\"1.00\" stroke-linecap=\"butt\" stroke-linejoin=\"miter\">\n\t<g stroke=\"none\" shape-rendering=\"crispEdges\">\n\t\t<polygon fill=\"rgb( 96, 255, 159)\" points=\"114.64,315.78 115.86,316.01 120.49,315.78 121.66,315.71 127.46,314.36 133.27,313.65 139.07,312.40 144.87,311.69 150.67,310.42 151.61,309.98 156.47,307.62 162.27,305.93 166.74,304.18 168.07,303.55 173.88,300.36 178.00,298.38 179.68,297.09 185.48,292.63 185.54,292.58 191.28,287.61 192.24,286.78 197.08,282.79 199.49,280.98 202.88,278.17 205.33,275.17 208.69,271.48 210.18,269.37 214.14,263.57 214.49,263.11 218.89,257.77 220.29,255.95 222.85,251.97 225.77,246.17 226.09,245.51 227.87,240.36 228.85,234.56 229.52,228.76 229.72,222.96 229.12,217.16 228.51,211.36 231.89,211.11 237.69,210.66 243.49,210.20 247.25,205.56 246.98,199.75 246.77,193.95 246.52,188.15 246.32,182.35 246.12,176.55 245.93,170.75 245.83,164.95 245.65,159.14 245.66,153.34 245.76,147.54 243.49,144.98 237.69,144.76 231.89,144.44 226.09,144.08 220.29,143.73 214.49,143.37 208.69,142.97 202.88,142.56 197.08,142.15 191.47,141.74 192.20,135.94 191.28,132.75 190.46,130.14 187.80,124.33 185.48,120.76 183.20,118.53 179.68,113.71 178.86,112.73 173.88,108.87 171.05,106.93 168.07,105.03 162.27,101.55 161.54,101.13 156.47,98.54 150.67,96.22 148.54,95.33 144.87,94.16 139.07,92.80 133.27,91.39 127.46,90.62 121.66,90.64 115.86,91.01 110.06,90.90 104.26,90.77 98.46,91.31 92.65,92.85 86.85,94.29 83.34,95.33 81.05,95.93 81.05,101.13 81.05,106.93 81.05,112.73 81.05,118.53 81.05,124.33 81.05,130.14 81.05,135.94 81.05,141.74 81.05,147.54 81.05,153.34 81.05,159.14 81.05,164.95 81.05,170.75 81.05,176.55 81.05,182.35 81.05,188.15 81.05,193.95 81.05,199.75 81.05,205.56 81.05,211.36 81.05,217.16 81.05,222.96 81.05,228.76 81.05,234.56 81.05,240.36 81.05,246.17 81.05,251.97 81.05,257.77 81.05,263.57 81.05,269.37 81.05,275.17 81.05,280.98 81.05,286.78 81.05,292.58 81.05,298.38 81.05,304.18 81.05,309.37 83.35,309.98 86.85,310.97 92.65,312.58 98.46,313.56 104.26,314.90 110.06,314.94 \"/>\n\t</g>\n\t<path stroke=\"rgb( 96, 255, 159)\" d=\"M114.64,315.78 L115.86,316.01 L120.49,315.78 L121.66,315.71 L127.46,314.36 L133.27,313.65 L139.07,312.40 L144.87,311.69   L150.67,310.42 L151.61,309.98 L156.47,307.62 L162.27,305.93 L166.74,304.18 L168.07,303.55 L173.88,300.36 L178.00,298.38   L179.68,297.09 L185.48,292.63 L185.54,292.58 L191.28,287.61 L192.24,286.78 L197.08,282.79 L199.49,280.98 L202.88,278.17   L205.33,275.17 L208.69,271.48 L210.18,269.37 L214.14,263.57 L214.49,263.11 L218.89,257.77 L220.29,255.95 L222.85,251.97   L225.77,246.17 L226.09,245.51 L227.87,240.36 L228.85,234.56 L229.52,228.76 L229.72,222.96 L229.12,217.16 L228.51,211.36   L231.89,211.11 L237.69,210.66 L243.49,210.20 L247.25,205.56 L246.98,199.75 L246.77,193.95 L246.52,188.15 L246.32,182.35   L246.12,176.55 L245.93,170.75 L245.83,164.95 L245.65,159.14 L245.66,153.34 L245.76,147.54 L243.49,144.98 L237.69,144.76   L231.89,144.44 L226.09,144.08 L220.29,143.73 L214.49,143.37 L208.69,142.97 L202.88,142.56 L197.08,142.15 L191.47,141.74   L192.20,135.94 L191.28,132.75 L190.46,130.14 L187.80,124.33 L185.48,120.76 L183.20,118.53 L179.68,113.71 L178.86,112.73   L173.88,108.87 L171.05,106.93 L168.07,105.03 L162.27,101.55 L161.54,101.13 L156.47,98.54 L150.67,96.22 L148.54,95.33   L144.87,94.16 L139.07,92.80 L133.27,91.39 L127.46,90.62 L121.66,90.64 L115.86,91.01 L110.06,90.90 L104.26,90.77   L98.46,91.31 L92.65,92.85 L86.85,94.29 L83.34,95.33 L81.05,95.93 L81.05,101.13 L81.05,106.93 L81.05,112.73   L81.05,118.53 L81.05,124.33 L81.05,130.14 L81.05,135.94 L81.05,141.74 L81.05,147.54 L81.05,153.34 L81.05,159.14   L81.05,164.95 L81.05,170.75 L81.05,176.55 L81.05,182.35 L81.05,188.15 L81.05,193.95 L81.05,199.75 L81.05,205.56   L81.05,211.36 L81.05,217.16 L81.05,222.96 L81.05,228.76 L81.05,234.56 L81.05,240.36 L81.05,246.17 L81.05,251.97   L81.05,257.77 L81.05,263.57 L81.05,269.37 L81.05,275.17 L81.05,280.98 L81.05,286.78 L81.05,292.58 L81.05,298.38   L81.05,304.18 L81.05,309.37 L83.35,309.98 L86.85,310.97 L92.65,312.58 L98.46,313.56 L104.26,314.90 L110.06,314.94    \"/></g>\n\t</g>\n\t<g id=\"gnuplot_plot_30a\"><title>gnuplot_plot_30a</title>\n<g fill=\"none\" color=\"white\" stroke=\"rgb( 96, 255, 159)\" stroke-width=\"0.50\" stroke-linecap=\"butt\" stroke-linejoin=\"miter\">\n</g>\n<g fill=\"none\" color=\"black\" stroke=\"currentColor\" stroke-width=\"0.50\" stroke-linecap=\"butt\" stroke-linejoin=\"miter\">\n\t<path stroke=\"rgb(  0,   0,   0)\" d=\"M114.64,315.78 L115.86,316.01 L120.49,315.78 L121.66,315.71 L127.46,314.36 L133.27,313.65 L139.07,312.40 L144.87,311.69   L150.67,310.42 L151.61,309.98 L156.47,307.62 L162.27,305.93 L166.74,304.18 L168.07,303.55 L173.88,300.36 L178.00,298.38   L179.68,297.09 L185.48,292.63 L185.54,292.58 L191.28,287.61 L192.24,286.78 L197.08,282.79 L199.49,280.98 L202.88,278.17   L205.33,275.17 L208.69,271.48 L210.18,269.37 L214.14,263.57 L214.49,263.11 L218.89,257.77 L220.29,255.95 L222.85,251.97   L225.77,246.17 L226.09,245.51 L227.87,240.36 L228.85,234.56 L229.52,228.76 L229.72,222.96 L229.12,217.16 L228.51,211.36   L231.89,211.11 L237.69,210.66 L243.49,210.20 L247.25,205.56 L246.98,199.75 L246.77,193.95 L246.52,188.15 L246.32,182.35   L246.12,176.55 L245.93,170.75 L245.83,164.95 L245.65,159.14 L245.66,153.34 L245.76,147.54 L243.49,144.98 L237.69,144.76   L231.89,144.44 L226.09,144.08 L220.29,143.73 L214.49,143.37 L208.69,142.97 L202.88,142.56 L197.08,142.15 L191.47,141.74   L192.20,135.94 L191.28,132.75 L190.46,130.14 L187.80,124.33 L185.48,120.76 L183.20,118.53 L179.68,113.71 L178.86,112.73   L173.88,108.87 L171.05,106.93 L168.07,105.03 L162.27,101.55 L161.54,101.13 L156.47,98.54 L150.67,96.22 L148.54,95.33   L144.87,94.16 L139.07,92.80 L133.27,91.39 L127.46,90.62 L121.66,90.64 L115.86,91.01 L110.06,90.90 L104.26,90.77   L98.46,91.31 L92.65,92.85 L86.85,94.29 L83.34,95.33 L81.05,95.93 L81.05,101.13 L81.05,106.93 L81.05,112.73   L81.05,118.53 L81.05,124.33 L81.05,130.14 L81.05,135.94 L81.05,141.74 L81.05,147.54 L81.05,153.34 L81.05,159.14   L81.05,164.95 L81.05,170.75 L81.05,176.55 L81.05,182.35 L81.05,188.15 L81.05,193.95 L81.05,199.75 L81.05,205.56   L81.05,211.36 L81.05,217.16 L81.05,222.96 L81.05,228.76 L81.05,234.56 L81.05,240.36 L81.05,246.17 L81.05,251.97   L81.05,257.77 L81.05,263.57 L81.05,269.37 L81.05,275.17 L81.05,280.98 L81.05,286.78 L81.05,292.58 L81.05,298.38   L81.05,304.18 L81.05,309.37 L83.35,309.98 L86.85,310.97 L92.65,312.58 L98.46,313.56 L104.26,314.90 L110.06,314.94   L114.64,315.78  \"/></g>\n\t</g>\n\t<g id=\"gnuplot_plot_31a\"><title>gnuplot_plot_31a</title>\n<g fill=\"none\" color=\"white\" stroke=\"rgb(  0,   0,   0)\" stroke-width=\"1.00\" stroke-linecap=\"butt\" stroke-linejoin=\"miter\">\n</g>\n<g fill=\"none\" color=\"black\" stroke=\"currentColor\" stroke-width=\"1.00\" stroke-linecap=\"butt\" stroke-linejoin=\"miter\">\n\t<g stroke=\"none\" shape-rendering=\"crispEdges\">\n\t\t<polygon fill=\"rgb(128, 255, 128)\" points=\"88.43,298.38 92.65,298.79 98.46,300.26 104.26,301.53 110.06,301.66 115.86,301.94 121.66,301.23 127.46,300.36 133.27,298.52 134.29,298.38 139.07,297.83 144.87,296.55 150.67,294.06 153.52,292.58 156.47,290.96 162.27,288.83 167.27,286.78 168.07,286.32 173.88,282.11 175.60,280.98 179.68,277.24 182.37,275.17 185.48,272.46 188.70,269.37 191.28,267.35 195.14,263.57 197.08,261.28 199.03,257.77 202.88,253.34 204.23,251.97 208.58,246.17 208.69,246.00 212.34,240.36 214.49,237.66 216.21,234.56 218.18,228.76 219.09,222.96 219.72,217.16 219.18,211.36 220.29,211.27 226.09,210.75 231.89,210.27 237.69,209.79 243.49,209.31 246.53,205.56 246.28,199.75 246.06,193.95 245.80,188.15 245.58,182.35 245.39,176.55 245.18,170.75 245.07,164.95 244.88,159.14 244.90,153.34 245.00,147.54 243.49,145.84 237.69,145.60 231.89,145.30 226.09,144.93 220.29,144.58 214.49,144.19 208.69,143.77 202.88,143.34 197.08,142.92 191.28,142.47 185.48,141.94 183.87,141.74 182.32,135.94 179.68,132.35 177.27,130.14 173.88,126.50 171.38,124.33 168.07,121.70 163.70,118.53 162.27,117.55 156.47,113.77 154.58,112.73 150.67,111.14 144.87,109.74 139.07,107.70 135.87,106.93 133.27,106.18 127.46,105.26 121.66,104.01 115.86,103.95 110.06,104.06 104.26,104.02 98.46,104.47 92.65,105.36 86.85,106.51 85.23,106.93 81.05,108.18 81.05,112.73 81.05,118.53 81.05,124.33 81.05,130.14 81.05,135.94 81.05,141.74 81.05,147.54 81.05,153.34 81.05,159.14 81.05,164.95 81.05,170.75 81.05,176.55 81.05,182.35 81.05,188.15 81.05,193.95 81.05,199.75 81.05,205.56 81.05,211.36 81.05,217.16 81.05,222.96 81.05,228.76 81.05,234.56 81.05,240.36 81.05,246.17 81.05,251.97 81.05,257.77 81.05,263.57 81.05,269.37 81.05,275.17 81.05,280.98 81.05,286.78 81.05,292.58 81.05,296.72 86.85,298.23 \"/>\n\t</g>\n\t<path stroke=\"rgb(128, 255, 128)\" d=\"M88.43,298.38 L92.65,298.79 L98.46,300.26 L104.26,301.53 L110.06,301.66 L115.86,301.94 L121.66,301.23 L127.46,300.36   L133.27,298.52 L134.29,298.38 L139.07,297.83 L144.87,296.55 L150.67,294.06 L153.52,292.58 L156.47,290.96 L162.27,288.83   L167.27,286.78 L168.07,286.32 L173.88,282.11 L175.60,280.98 L179.68,277.24 L182.37,275.17 L185.48,272.46 L188.70,269.37   L191.28,267.35 L195.14,263.57 L197.08,261.28 L199.03,257.77 L202.88,253.34 L204.23,251.97 L208.58,246.17 L208.69,246.00   L212.34,240.36 L214.49,237.66 L216.21,234.56 L218.18,228.76 L219.09,222.96 L219.72,217.16 L219.18,211.36 L220.29,211.27   L226.09,210.75 L231.89,210.27 L237.69,209.79 L243.49,209.31 L246.53,205.56 L246.28,199.75 L246.06,193.95 L245.80,188.15   L245.58,182.35 L245.39,176.55 L245.18,170.75 L245.07,164.95 L244.88,159.14 L244.90,153.34 L245.00,147.54 L243.49,145.84   L237.69,145.60 L231.89,145.30 L226.09,144.93 L220.29,144.58 L214.49,144.19 L208.69,143.77 L202.88,143.34 L197.08,142.92   L191.28,142.47 L185.48,141.94 L183.87,141.74 L182.32,135.94 L179.68,132.35 L177.27,130.14 L173.88,126.50 L171.38,124.33   L168.07,121.70 L163.70,118.53 L162.27,117.55 L156.47,113.77 L154.58,112.73 L150.67,111.14 L144.87,109.74 L139.07,107.70   L135.87,106.93 L133.27,106.18 L127.46,105.26 L121.66,104.01 L115.86,103.95 L110.06,104.06 L104.26,104.02 L98.46,104.47   L92.65,105.36 L86.85,106.51 L85.23,106.93 L81.05,108.18 L81.05,112.73 L81.05,118.53 L81.05,124.33 L81.05,130.14   L81.05,135.94 L81.05,141.74 L81.05,147.54 L81.05,153.34 L81.05,159.14 L81.05,164.95 L81.05,170.75 L81.05,176.55   L81.05,182.35 L81.05,188.15 L81.05,193.95 L81.05,199.75 L81.05,205.56 L81.05,211.36 L81.05,217.16 L81.05,222.96   L81.05,228.76 L81.05,234.56 L81.05,240.36 L81.05,246.17 L81.05,251.97 L81.05,257.77 L81.05,263.57 L81.05,269.37   L81.05,275.17 L81.05,280.98 L81.05,286.78 L81.05,292.58 L81.05,296.72 L86.85,298.23  \"/></g>\n\t</g>\n\t<g id=\"gnuplot_plot_32a\"><title>gnuplot_plot_32a</title>\n<g fill=\"none\" color=\"white\" stroke=\"rgb(128, 255, 128)\" stroke-width=\"0.50\" stroke-linecap=\"butt\" stroke-linejoin=\"miter\">\n</g>\n<g fill=\"none\" color=\"black\" stroke=\"currentColor\" stroke-width=\"0.50\" stroke-linecap=\"butt\" stroke-linejoin=\"miter\">\n\t<path stroke=\"rgb(  0,   0,   0)\" d=\"M88.43,298.38 L92.65,298.79 L98.46,300.26 L104.26,301.53 L110.06,301.66 L115.86,301.94 L121.66,301.23 L127.46,300.36   L133.27,298.52 L134.29,298.38 L139.07,297.83 L144.87,296.55 L150.67,294.06 L153.52,292.58 L156.47,290.96 L162.27,288.83   L167.27,286.78 L168.07,286.32 L173.88,282.11 L175.60,280.98 L179.68,277.24 L182.37,275.17 L185.48,272.46 L188.70,269.37   L191.28,267.35 L195.14,263.57 L197.08,261.28 L199.03,257.77 L202.88,253.34 L204.23,251.97 L208.58,246.17 L208.69,246.00   L212.34,240.36 L214.49,237.66 L216.21,234.56 L218.18,228.76 L219.09,222.96 L219.72,217.16 L219.18,211.36 L220.29,211.27   L226.09,210.75 L231.89,210.27 L237.69,209.79 L243.49,209.31 L246.53,205.56 L246.28,199.75 L246.06,193.95 L245.80,188.15   L245.58,182.35 L245.39,176.55 L245.18,170.75 L245.07,164.95 L244.88,159.14 L244.90,153.34 L245.00,147.54 L243.49,145.84   L237.69,145.60 L231.89,145.30 L226.09,144.93 L220.29,144.58 L214.49,144.19 L208.69,143.77 L202.88,143.34 L197.08,142.92   L191.28,142.47 L185.48,141.94 L183.87,141.74 L182.32,135.94 L179.68,132.35 L177.27,130.14 L173.88,126.50 L171.38,124.33   L168.07,121.70 L163.70,118.53 L162.27,117.55 L156.47,113.77 L154.58,112.73 L150.67,111.14 L144.87,109.74 L139.07,107.70   L135.87,106.93 L133.27,106.18 L127.46,105.26 L121.66,104.01 L115.86,103.95 L110.06,104.06 L104.26,104.02 L98.46,104.47   L92.65,105.36 L86.85,106.51 L85.23,106.93 L81.05,108.18 L81.05,112.73 L81.05,118.53 L81.05,124.33 L81.05,130.14   L81.05,135.94 L81.05,141.74 L81.05,147.54 L81.05,153.34 L81.05,159.14 L81.05,164.95 L81.05,170.75 L81.05,176.55   L81.05,182.35 L81.05,188.15 L81.05,193.95 L81.05,199.75 L81.05,205.56 L81.05,211.36 L81.05,217.16 L81.05,222.96   L81.05,228.76 L81.05,234.56 L81.05,240.36 L81.05,246.17 L81.05,251.97 L81.05,257.77 L81.05,263.57 L81.05,269.37   L81.05,275.17 L81.05,280.98 L81.05,286.78 L81.05,292.58 L81.05,296.72 L86.85,298.23 L88.43,298.38  \"/></g>\n\t</g>\n\t<g id=\"gnuplot_plot_33a\"><title>gnuplot_plot_33a</title>\n<g fill=\"none\" color=\"white\" stroke=\"rgb(  0,   0,   0)\" stroke-width=\"1.00\" stroke-linecap=\"butt\" stroke-linejoin=\"miter\">\n</g>\n<g fill=\"none\" color=\"black\" stroke=\"currentColor\" stroke-width=\"1.00\" stroke-linecap=\"butt\" stroke-linejoin=\"miter\">\n\t<g stroke=\"none\" shape-rendering=\"crispEdges\">\n\t\t<polygon fill=\"rgb(175, 255,  80)\" points=\"89.66,286.78 92.65,287.38 98.46,287.95 104.26,288.65 110.06,289.21 115.86,288.53 121.66,287.42 124.93,286.78 127.46,286.28 133.27,286.01 139.07,283.53 144.40,280.98 144.87,280.73 150.67,278.38 156.21,275.17 156.47,275.03 162.27,272.56 165.86,269.37 168.07,267.36 173.52,263.57 173.88,263.36 179.68,258.80 180.71,257.77 185.48,252.46 185.95,251.97 191.28,246.82 191.82,246.17 195.88,240.36 197.08,239.07 200.48,234.56 202.88,231.26 204.68,228.76 208.69,223.37 208.92,222.96 210.80,217.16 211.04,211.36 214.49,211.04 220.29,210.55 226.09,209.96 231.89,209.44 237.69,208.93 243.49,208.42 245.81,205.56 245.57,199.75 245.34,193.95 245.08,188.15 244.84,182.35 244.65,176.55 244.42,170.75 244.30,164.95 244.11,159.14 244.13,153.34 244.24,147.54 243.49,146.70 237.69,146.45 231.89,146.17 226.09,145.79 220.29,145.42 214.49,145.01 208.69,144.57 202.88,144.12 197.08,143.69 191.28,143.22 185.48,142.67 179.68,144.64 175.29,141.74 173.88,140.50 168.07,136.07 167.83,135.94 162.27,133.04 156.88,130.14 156.47,129.95 150.67,127.17 145.73,124.33 144.87,123.95 139.07,122.09 133.27,120.67 127.46,119.62 124.13,118.53 121.66,117.78 115.86,117.01 110.06,117.08 104.26,116.68 98.46,116.92 92.65,118.48 92.25,118.53 86.85,119.17 81.05,120.05 81.05,124.33 81.05,130.14 81.05,135.94 81.05,141.74 81.05,147.54 81.05,153.34 81.05,159.14 81.05,164.95 81.05,170.75 81.05,176.55 81.05,182.35 81.05,188.15 81.05,193.95 81.05,199.75 81.05,205.56 81.05,211.36 81.05,217.16 81.05,222.96 81.05,228.76 81.05,234.56 81.05,240.36 81.05,246.17 81.05,251.97 81.05,257.77 81.05,263.57 81.05,269.37 81.05,275.17 81.05,280.98 81.05,284.77 86.85,286.20 \"/>\n\t</g>\n\t<path stroke=\"rgb(175, 255,  80)\" d=\"M89.66,286.78 L92.65,287.38 L98.46,287.95 L104.26,288.65 L110.06,289.21 L115.86,288.53 L121.66,287.42 L124.93,286.78   L127.46,286.28 L133.27,286.01 L139.07,283.53 L144.40,280.98 L144.87,280.73 L150.67,278.38 L156.21,275.17 L156.47,275.03   L162.27,272.56 L165.86,269.37 L168.07,267.36 L173.52,263.57 L173.88,263.36 L179.68,258.80 L180.71,257.77 L185.48,252.46   L185.95,251.97 L191.28,246.82 L191.82,246.17 L195.88,240.36 L197.08,239.07 L200.48,234.56 L202.88,231.26 L204.68,228.76   L208.69,223.37 L208.92,222.96 L210.80,217.16 L211.04,211.36 L214.49,211.04 L220.29,210.55 L226.09,209.96 L231.89,209.44   L237.69,208.93 L243.49,208.42 L245.81,205.56 L245.57,199.75 L245.34,193.95 L245.08,188.15 L244.84,182.35 L244.65,176.55   L244.42,170.75 L244.30,164.95 L244.11,159.14 L244.13,153.34 L244.24,147.54 L243.49,146.70 L237.69,146.45 L231.89,146.17   L226.09,145.79 L220.29,145.42 L214.49,145.01 L208.69,144.57 L202.88,144.12 L197.08,143.69 L191.28,143.22 L185.48,142.67   L179.68,144.64 L175.29,141.74 L173.88,140.50 L168.07,136.07 L167.83,135.94 L162.27,133.04 L156.88,130.14 L156.47,129.95   L150.67,127.17 L145.73,124.33 L144.87,123.95 L139.07,122.09 L133.27,120.67 L127.46,119.62 L124.13,118.53 L121.66,117.78   L115.86,117.01 L110.06,117.08 L104.26,116.68 L98.46,116.92 L92.65,118.48 L92.25,118.53 L86.85,119.17 L81.05,120.05   L81.05,124.33 L81.05,130.14 L81.05,135.94 L81.05,141.74 L81.05,147.54 L81.05,153.34 L81.05,159.14 L81.05,164.95   L81.05,170.75 L81.05,176.55 L81.05,182.35 L81.05,188.15 L81.05,193.95 L81.05,199.75 L81.05,205.56 L81.05,211.36   L81.05,217.16 L81.05,222.96 L81.05,228.76 L81.05,234.56 L81.05,240.36 L81.05,246.17 L81.05,251.97 L81.05,257.77   L81.05,263.57 L81.05,269.37 L81.05,275.17 L81.05,280.98 L81.05,284.77 L86.85,286.20  \"/></g>\n\t</g>\n\t<g id=\"gnuplot_plot_34a\"><title>gnuplot_plot_34a</title>\n<g fill=\"none\" color=\"white\" stroke=\"rgb(175, 255,  80)\" stroke-width=\"0.50\" stroke-linecap=\"butt\" stroke-linejoin=\"miter\">\n</g>\n<g fill=\"none\" color=\"black\" stroke=\"currentColor\" stroke-width=\"0.50\" stroke-linecap=\"butt\" stroke-linejoin=\"miter\">\n\t<path stroke=\"rgb(  0,   0,   0)\" d=\"M89.66,286.78 L92.65,287.38 L98.46,287.95 L104.26,288.65 L110.06,289.21 L115.86,288.53 L121.66,287.42 L124.93,286.78   L127.46,286.28 L133.27,286.01 L139.07,283.53 L144.40,280.98 L144.87,280.73 L150.67,278.38 L156.21,275.17 L156.47,275.03   L162.27,272.56 L165.86,269.37 L168.07,267.36 L173.52,263.57 L173.88,263.36 L179.68,258.80 L180.71,257.77 L185.48,252.46   L185.95,251.97 L191.28,246.82 L191.82,246.17 L195.88,240.36 L197.08,239.07 L200.48,234.56 L202.88,231.26 L204.68,228.76   L208.69,223.37 L208.92,222.96 L210.80,217.16 L211.04,211.36 L214.49,211.04 L220.29,210.55 L226.09,209.96 L231.89,209.44   L237.69,208.93 L243.49,208.42 L245.81,205.56 L245.57,199.75 L245.34,193.95 L245.08,188.15 L244.84,182.35 L244.65,176.55   L244.42,170.75 L244.30,164.95 L244.11,159.14 L244.13,153.34 L244.24,147.54 L243.49,146.70 L237.69,146.45 L231.89,146.17   L226.09,145.79 L220.29,145.42 L214.49,145.01 L208.69,144.57 L202.88,144.12 L197.08,143.69 L191.28,143.22 L185.48,142.67   L179.68,144.64 L175.29,141.74 L173.88,140.50 L168.07,136.07 L167.83,135.94 L162.27,133.04 L156.88,130.14 L156.47,129.95   L150.67,127.17 L145.73,124.33 L144.87,123.95 L139.07,122.09 L133.27,120.67 L127.46,119.62 L124.13,118.53 L121.66,117.78   L115.86,117.01 L110.06,117.08 L104.26,116.68 L98.46,116.92 L92.65,118.48 L92.25,118.53 L86.85,119.17 L81.05,120.05   L81.05,124.33 L81.05,130.14 L81.05,135.94 L81.05,141.74 L81.05,147.54 L81.05,153.34 L81.05,159.14 L81.05,164.95   L81.05,170.75 L81.05,176.55 L81.05,182.35 L81.05,188.15 L81.05,193.95 L81.05,199.75 L81.05,205.56 L81.05,211.36   L81.05,217.16 L81.05,222.96 L81.05,228.76 L81.05,234.56 L81.05,240.36 L81.05,246.17 L81.05,251.97 L81.05,257.77   L81.05,263.57 L81.05,269.37 L81.05,275.17 L81.05,280.98 L81.05,284.77 L86.85,286.20 L89.66,286.78  \"/></g>\n\t</g>\n\t<g id=\"gnuplot_plot_35a\"><title>gnuplot_plot_35a</title>\n<g fill=\"none\" color=\"white\" stroke=\"rgb(  0,   0,   0)\" stroke-width=\"1.00\" stroke-linecap=\"butt\" stroke-linejoin=\"miter\">\n</g>\n<g fill=\"none\" color=\"black\" stroke=\"currentColor\" stroke-width=\"1.00\" stroke-linecap=\"butt\" stroke-linejoin=\"miter\">\n\t<g stroke=\"none\" shape-rendering=\"crispEdges\">\n\t\t<polygon fill=\"rgb(207, 255,  48)\" points=\"90.16,275.17 92.65,275.48 98.46,276.24 104.26,276.40 110.06,276.74 115.86,275.54 117.23,275.17 121.66,274.08 127.46,273.25 133.27,271.25 137.09,269.37 139.07,268.55 144.87,266.49 150.44,263.57 150.67,263.44 156.47,259.65 159.10,257.77 162.27,255.52 166.55,251.97 168.07,250.72 173.56,246.17 173.88,245.81 179.42,240.36 179.68,240.12 184.08,234.56 185.48,232.75 188.57,228.76 191.28,225.92 194.61,222.96 197.08,220.92 200.80,217.16 202.88,214.23 203.90,211.36 208.69,210.97 214.49,210.39 220.29,209.83 226.09,209.18 231.89,208.60 237.69,208.07 243.49,207.53 245.09,205.56 244.87,199.75 244.63,193.95 244.36,188.15 244.10,182.35 243.91,176.55 243.66,170.75 243.54,164.95 243.49,163.73 239.73,159.14 239.57,153.34 243.14,147.54 237.69,147.29 231.89,147.03 226.09,146.64 220.29,146.26 214.49,145.83 208.69,145.37 202.88,144.91 197.08,144.46 191.28,143.97 185.48,143.40 180.33,147.54 180.07,153.34 179.76,159.14 179.68,160.70 177.40,159.14 173.88,156.56 169.23,153.34 168.07,152.67 162.27,148.86 160.03,147.54 156.47,145.33 151.03,141.74 150.67,141.55 144.87,139.53 139.07,136.58 137.06,135.94 133.27,134.61 127.46,132.57 121.66,130.46 119.46,130.14 115.86,129.66 110.06,129.15 104.26,128.90 98.46,129.28 92.65,129.52 88.98,130.14 86.85,130.50 81.05,131.26 81.05,135.94 81.05,141.74 81.05,147.54 81.05,153.34 81.05,159.14 81.05,164.95 81.05,170.75 81.05,176.55 81.05,182.35 81.05,188.15 81.05,193.95 81.05,199.75 81.05,205.56 81.05,211.36 81.05,217.16 81.05,222.96 81.05,228.76 81.05,234.56 81.05,240.36 81.05,246.17 81.05,251.97 81.05,257.77 81.05,263.57 81.05,269.37 81.05,273.74 86.85,274.82 \"/>\n\t</g>\n\t<path stroke=\"rgb(207, 255,  48)\" d=\"M90.16,275.17 L92.65,275.48 L98.46,276.24 L104.26,276.40 L110.06,276.74 L115.86,275.54 L117.23,275.17 L121.66,274.08   L127.46,273.25 L133.27,271.25 L137.09,269.37 L139.07,268.55 L144.87,266.49 L150.44,263.57 L150.67,263.44 L156.47,259.65   L159.10,257.77 L162.27,255.52 L166.55,251.97 L168.07,250.72 L173.56,246.17 L173.88,245.81 L179.42,240.36 L179.68,240.12   L184.08,234.56 L185.48,232.75 L188.57,228.76 L191.28,225.92 L194.61,222.96 L197.08,220.92 L200.80,217.16 L202.88,214.23   L203.90,211.36 L208.69,210.97 L214.49,210.39 L220.29,209.83 L226.09,209.18 L231.89,208.60 L237.69,208.07 L243.49,207.53   L245.09,205.56 L244.87,199.75 L244.63,193.95 L244.36,188.15 L244.10,182.35 L243.91,176.55 L243.66,170.75 L243.54,164.95   L243.49,163.73 L239.73,159.14 L239.57,153.34 L243.14,147.54 L237.69,147.29 L231.89,147.03 L226.09,146.64 L220.29,146.26   L214.49,145.83 L208.69,145.37 L202.88,144.91 L197.08,144.46 L191.28,143.97 L185.48,143.40 L180.33,147.54 L180.07,153.34   L179.76,159.14 L179.68,160.70 L177.40,159.14 L173.88,156.56 L169.23,153.34 L168.07,152.67 L162.27,148.86 L160.03,147.54   L156.47,145.33 L151.03,141.74 L150.67,141.55 L144.87,139.53 L139.07,136.58 L137.06,135.94 L133.27,134.61 L127.46,132.57   L121.66,130.46 L119.46,130.14 L115.86,129.66 L110.06,129.15 L104.26,128.90 L98.46,129.28 L92.65,129.52 L88.98,130.14   L86.85,130.50 L81.05,131.26 L81.05,135.94 L81.05,141.74 L81.05,147.54 L81.05,153.34 L81.05,159.14 L81.05,164.95   L81.05,170.75 L81.05,176.55 L81.05,182.35 L81.05,188.15 L81.05,193.95 L81.05,199.75 L81.05,205.56 L81.05,211.36   L81.05,217.16 L81.05,222.96 L81.05,228.76 L81.05,234.56 L81.05,240.36 L81.05,246.17 L81.05,251.97 L81.05,257.77   L81.05,263.57 L81.05,269.37 L81.05,273.74 L86.85,274.82  \"/></g>\n\t</g>\n\t<g id=\"gnuplot_plot_36a\"><title>gnuplot_plot_36a</title>\n<g fill=\"none\" color=\"white\" stroke=\"rgb(207, 255,  48)\" stroke-width=\"0.50\" stroke-linecap=\"butt\" stroke-linejoin=\"miter\">\n</g>\n<g fill=\"none\" color=\"black\" stroke=\"currentColor\" stroke-width=\"0.50\" stroke-linecap=\"butt\" stroke-linejoin=\"miter\">\n\t<path stroke=\"rgb(  0,   0,   0)\" d=\"M90.16,275.17 L92.65,275.48 L98.46,276.24 L104.26,276.40 L110.06,276.74 L115.86,275.54 L117.23,275.17 L121.66,274.08   L127.46,273.25 L133.27,271.25 L137.09,269.37 L139.07,268.55 L144.87,266.49 L150.44,263.57 L150.67,263.44 L156.47,259.65   L159.10,257.77 L162.27,255.52 L166.55,251.97 L168.07,250.72 L173.56,246.17 L173.88,245.81 L179.42,240.36 L179.68,240.12   L184.08,234.56 L185.48,232.75 L188.57,228.76 L191.28,225.92 L194.61,222.96 L197.08,220.92 L200.80,217.16 L202.88,214.23   L203.90,211.36 L208.69,210.97 L214.49,210.39 L220.29,209.83 L226.09,209.18 L231.89,208.60 L237.69,208.07 L243.49,207.53   L245.09,205.56 L244.87,199.75 L244.63,193.95 L244.36,188.15 L244.10,182.35 L243.91,176.55 L243.66,170.75 L243.54,164.95   L243.49,163.73 L239.73,159.14 L239.57,153.34 L243.14,147.54 L237.69,147.29 L231.89,147.03 L226.09,146.64 L220.29,146.26   L214.49,145.83 L208.69,145.37 L202.88,144.91 L197.08,144.46 L191.28,143.97 L185.48,143.40 L180.33,147.54 L180.07,153.34   L179.76,159.14 L179.68,160.70 L177.40,159.14 L173.88,156.56 L169.23,153.34 L168.07,152.67 L162.27,148.86 L160.03,147.54   L156.47,145.33 L151.03,141.74 L150.67,141.55 L144.87,139.53 L139.07,136.58 L137.06,135.94 L133.27,134.61 L127.46,132.57   L121.66,130.46 L119.46,130.14 L115.86,129.66 L110.06,129.15 L104.26,128.90 L98.46,129.28 L92.65,129.52 L88.98,130.14   L86.85,130.50 L81.05,131.26 L81.05,135.94 L81.05,141.74 L81.05,147.54 L81.05,153.34 L81.05,159.14 L81.05,164.95   L81.05,170.75 L81.05,176.55 L81.05,182.35 L81.05,188.15 L81.05,193.95 L81.05,199.75 L81.05,205.56 L81.05,211.36   L81.05,217.16 L81.05,222.96 L81.05,228.76 L81.05,234.56 L81.05,240.36 L81.05,246.17 L81.05,251.97 L81.05,257.77   L81.05,263.57 L81.05,269.37 L81.05,273.74 L86.85,274.82 L90.16,275.17  \"/></g>\n\t</g>\n\t<g id=\"gnuplot_plot_37a\"><title>gnuplot_plot_37a</title>\n<g fill=\"none\" color=\"white\" stroke=\"rgb(  0,   0,   0)\" stroke-width=\"1.00\" stroke-linecap=\"butt\" stroke-linejoin=\"miter\">\n</g>\n<g fill=\"none\" color=\"black\" stroke=\"currentColor\" stroke-width=\"1.00\" stroke-linecap=\"butt\" stroke-linejoin=\"miter\">\n\t<g stroke=\"none\" shape-rendering=\"crispEdges\">\n\t\t<polygon fill=\"rgb(239, 255,  16)\" points=\"83.60,263.57 86.85,264.21 92.65,264.53 98.46,265.18 104.26,264.87 110.06,264.00 112.86,263.57 115.86,263.13 121.66,261.81 127.46,259.62 132.41,257.77 133.27,257.49 139.07,255.04 144.55,251.97 144.87,251.79 150.67,248.64 154.47,246.17 156.47,244.76 162.27,240.77 162.76,240.36 168.07,235.04 168.58,234.56 173.88,229.35 174.36,228.76 179.29,222.96 179.68,222.59 185.19,217.16 185.48,216.82 191.28,211.56 191.56,211.36 197.08,211.23 202.88,210.90 208.69,210.38 214.49,209.74 220.29,209.11 226.09,208.40 231.89,207.77 237.69,207.20 243.49,206.64 244.37,205.56 244.16,199.75 243.92,193.95 243.65,188.15 243.49,184.97 241.41,182.35 237.69,178.31 236.23,176.55 232.24,170.75 231.89,170.16 229.14,164.95 226.84,159.14 226.21,153.34 226.76,147.54 226.09,147.49 220.29,147.10 214.49,146.64 208.69,146.18 202.88,145.69 197.08,145.23 191.28,144.72 185.48,144.13 181.24,147.54 180.99,153.34 180.66,159.14 180.37,164.95 180.06,170.75 179.72,176.55 179.68,177.17 178.56,176.55 173.88,173.84 170.32,170.75 168.07,168.93 162.57,164.95 162.27,164.72 156.47,160.81 153.87,159.14 150.67,156.85 145.10,153.34 144.87,153.20 139.07,150.07 133.27,147.69 132.85,147.54 127.46,145.64 121.66,143.68 115.86,142.16 113.48,141.74 110.06,141.15 104.26,140.59 98.46,140.47 92.65,140.87 86.85,141.53 84.66,141.74 81.05,142.09 81.05,147.54 81.05,153.34 81.05,159.14 81.05,164.95 81.05,170.75 81.05,176.55 81.05,182.35 81.05,188.15 81.05,193.95 81.05,199.75 81.05,205.56 81.05,211.36 81.05,217.16 81.05,222.96 81.05,228.76 81.05,234.56 81.05,240.36 81.05,246.17 81.05,251.97 81.05,257.77 81.05,263.13 \"/>\n\t</g>\n\t<path stroke=\"rgb(239, 255,  16)\" d=\"M83.60,263.57 L86.85,264.21 L92.65,264.53 L98.46,265.18 L104.26,264.87 L110.06,264.00 L112.86,263.57 L115.86,263.13   L121.66,261.81 L127.46,259.62 L132.41,257.77 L133.27,257.49 L139.07,255.04 L144.55,251.97 L144.87,251.79 L150.67,248.64   L154.47,246.17 L156.47,244.76 L162.27,240.77 L162.76,240.36 L168.07,235.04 L168.58,234.56 L173.88,229.35 L174.36,228.76   L179.29,222.96 L179.68,222.59 L185.19,217.16 L185.48,216.82 L191.28,211.56 L191.56,211.36 L197.08,211.23 L202.88,210.90   L208.69,210.38 L214.49,209.74 L220.29,209.11 L226.09,208.40 L231.89,207.77 L237.69,207.20 L243.49,206.64 L244.37,205.56   L244.16,199.75 L243.92,193.95 L243.65,188.15 L243.49,184.97 L241.41,182.35 L237.69,178.31 L236.23,176.55 L232.24,170.75   L231.89,170.16 L229.14,164.95 L226.84,159.14 L226.21,153.34 L226.76,147.54 L226.09,147.49 L220.29,147.10 L214.49,146.64   L208.69,146.18 L202.88,145.69 L197.08,145.23 L191.28,144.72 L185.48,144.13 L181.24,147.54 L180.99,153.34 L180.66,159.14   L180.37,164.95 L180.06,170.75 L179.72,176.55 L179.68,177.17 L178.56,176.55 L173.88,173.84 L170.32,170.75 L168.07,168.93   L162.57,164.95 L162.27,164.72 L156.47,160.81 L153.87,159.14 L150.67,156.85 L145.10,153.34 L144.87,153.20 L139.07,150.07   L133.27,147.69 L132.85,147.54 L127.46,145.64 L121.66,143.68 L115.86,142.16 L113.48,141.74 L110.06,141.15 L104.26,140.59   L98.46,140.47 L92.65,140.87 L86.85,141.53 L84.66,141.74 L81.05,142.09 L81.05,147.54 L81.05,153.34 L81.05,159.14   L81.05,164.95 L81.05,170.75 L81.05,176.55 L81.05,182.35 L81.05,188.15 L81.05,193.95 L81.05,199.75 L81.05,205.56   L81.05,211.36 L81.05,217.16 L81.05,222.96 L81.05,228.76 L81.05,234.56 L81.05,240.36 L81.05,246.17 L81.05,251.97   L81.05,257.77 L81.05,263.13  \"/></g>\n\t</g>\n\t<g id=\"gnuplot_plot_38a\"><title>gnuplot_plot_38a</title>\n<g fill=\"none\" color=\"white\" stroke=\"rgb(239, 255,  16)\" stroke-width=\"0.50\" stroke-linecap=\"butt\" stroke-linejoin=\"miter\">\n</g>\n<g fill=\"none\" color=\"black\" stroke=\"currentColor\" stroke-width=\"0.50\" stroke-linecap=\"butt\" stroke-linejoin=\"miter\">\n\t<path stroke=\"rgb(  0,   0,   0)\" d=\"M83.60,263.57 L86.85,264.21 L92.65,264.53 L98.46,265.18 L104.26,264.87 L110.06,264.00 L112.86,263.57 L115.86,263.13   L121.66,261.81 L127.46,259.62 L132.41,257.77 L133.27,257.49 L139.07,255.04 L144.55,251.97 L144.87,251.79 L150.67,248.64   L154.47,246.17 L156.47,244.76 L162.27,240.77 L162.76,240.36 L168.07,235.04 L168.58,234.56 L173.88,229.35 L174.36,228.76   L179.29,222.96 L179.68,222.59 L185.19,217.16 L185.48,216.82 L191.28,211.56 L191.56,211.36 L197.08,211.23 L202.88,210.90   L208.69,210.38 L214.49,209.74 L220.29,209.11 L226.09,208.40 L231.89,207.77 L237.69,207.20 L243.49,206.64 L244.37,205.56   L244.16,199.75 L243.92,193.95 L243.65,188.15 L243.49,184.97 L241.41,182.35 L237.69,178.31 L236.23,176.55 L232.24,170.75   L231.89,170.16 L229.14,164.95 L226.84,159.14 L226.21,153.34 L226.76,147.54 L226.09,147.49 L220.29,147.10 L214.49,146.64   L208.69,146.18 L202.88,145.69 L197.08,145.23 L191.28,144.72 L185.48,144.13 L181.24,147.54 L180.99,153.34 L180.66,159.14   L180.37,164.95 L180.06,170.75 L179.72,176.55 L179.68,177.17 L178.56,176.55 L173.88,173.84 L170.32,170.75 L168.07,168.93   L162.57,164.95 L162.27,164.72 L156.47,160.81 L153.87,159.14 L150.67,156.85 L145.10,153.34 L144.87,153.20 L139.07,150.07   L133.27,147.69 L132.85,147.54 L127.46,145.64 L121.66,143.68 L115.86,142.16 L113.48,141.74 L110.06,141.15 L104.26,140.59   L98.46,140.47 L92.65,140.87 L86.85,141.53 L84.66,141.74 L81.05,142.09 L81.05,147.54 L81.05,153.34 L81.05,159.14   L81.05,164.95 L81.05,170.75 L81.05,176.55 L81.05,182.35 L81.05,188.15 L81.05,193.95 L81.05,199.75 L81.05,205.56   L81.05,211.36 L81.05,217.16 L81.05,222.96 L81.05,228.76 L81.05,234.56 L81.05,240.36 L81.05,246.17 L81.05,251.97   L81.05,257.77 L81.05,263.13 L83.60,263.57  \"/></g>\n\t</g>\n\t<g id=\"gnuplot_plot_39a\"><title>gnuplot_plot_39a</title>\n<g fill=\"none\" color=\"white\" stroke=\"rgb(  0,   0,   0)\" stroke-width=\"1.00\" stroke-linecap=\"butt\" stroke-linejoin=\"miter\">\n</g>\n<g fill=\"none\" color=\"black\" stroke=\"currentColor\" stroke-width=\"1.00\" stroke-linecap=\"butt\" stroke-linejoin=\"miter\">\n\t<g stroke=\"none\" shape-rendering=\"crispEdges\">\n\t\t<polygon fill=\"rgb(255, 239,   0)\" points=\"81.05,251.97 81.05,253.62 86.85,254.38 92.65,254.62 98.46,254.52 104.26,254.02 110.06,253.09 114.50,251.97 115.86,251.61 121.66,249.72 127.46,247.63 130.91,246.17 133.27,245.19 139.07,242.50 143.13,240.36 144.87,239.28 150.67,235.36 151.93,234.56 156.47,231.39 159.53,228.76 162.27,226.60 166.57,222.96 168.07,221.91 173.88,217.20 173.92,217.16 179.68,212.48 180.70,211.36 185.48,211.07 191.28,210.92 197.08,210.74 202.88,210.37 208.69,209.79 214.49,209.09 220.29,208.39 226.09,207.62 231.89,206.94 237.69,206.34 243.49,205.75 243.65,205.56 243.49,200.92 242.88,199.75 239.51,193.95 237.69,191.72 235.44,188.15 231.89,183.09 231.35,182.35 227.05,176.55 226.09,174.80 223.46,170.75 220.48,164.95 220.29,164.59 217.38,159.14 214.96,153.34 215.45,147.54 214.49,147.46 208.69,146.98 202.88,146.48 197.08,146.00 191.28,145.47 185.48,144.86 182.15,147.54 181.91,153.34 181.57,159.14 181.29,164.95 180.96,170.75 180.62,176.55 180.26,182.35 179.89,188.15 179.68,190.53 174.71,188.15 173.88,187.59 168.07,183.03 167.07,182.35 162.27,178.84 159.35,176.55 156.47,174.19 151.49,170.75 150.67,170.20 144.87,166.23 142.55,164.95 139.07,163.08 133.27,160.22 130.79,159.14 127.46,157.73 121.66,155.69 115.86,153.73 114.46,153.34 110.06,152.04 104.26,151.32 98.46,150.87 92.65,150.72 86.85,151.13 81.05,152.06 81.05,153.34 81.05,159.14 81.05,164.95 81.05,170.75 81.05,176.55 81.05,182.35 81.05,188.15 81.05,193.95 81.05,199.75 81.05,205.56 81.05,211.36 81.05,217.16 81.05,222.96 81.05,228.76 81.05,234.56 81.05,240.36 81.05,246.17 \"/>\n\t</g>\n\t<path stroke=\"rgb(255, 239,   0)\" d=\"M81.05,251.97 L81.05,253.62 L86.85,254.38 L92.65,254.62 L98.46,254.52 L104.26,254.02 L110.06,253.09 L114.50,251.97   L115.86,251.61 L121.66,249.72 L127.46,247.63 L130.91,246.17 L133.27,245.19 L139.07,242.50 L143.13,240.36 L144.87,239.28   L150.67,235.36 L151.93,234.56 L156.47,231.39 L159.53,228.76 L162.27,226.60 L166.57,222.96 L168.07,221.91 L173.88,217.20   L173.92,217.16 L179.68,212.48 L180.70,211.36 L185.48,211.07 L191.28,210.92 L197.08,210.74 L202.88,210.37 L208.69,209.79   L214.49,209.09 L220.29,208.39 L226.09,207.62 L231.89,206.94 L237.69,206.34 L243.49,205.75 L243.65,205.56 L243.49,200.92   L242.88,199.75 L239.51,193.95 L237.69,191.72 L235.44,188.15 L231.89,183.09 L231.35,182.35 L227.05,176.55 L226.09,174.80   L223.46,170.75 L220.48,164.95 L220.29,164.59 L217.38,159.14 L214.96,153.34 L215.45,147.54 L214.49,147.46 L208.69,146.98   L202.88,146.48 L197.08,146.00 L191.28,145.47 L185.48,144.86 L182.15,147.54 L181.91,153.34 L181.57,159.14 L181.29,164.95   L180.96,170.75 L180.62,176.55 L180.26,182.35 L179.89,188.15 L179.68,190.53 L174.71,188.15 L173.88,187.59 L168.07,183.03   L167.07,182.35 L162.27,178.84 L159.35,176.55 L156.47,174.19 L151.49,170.75 L150.67,170.20 L144.87,166.23 L142.55,164.95   L139.07,163.08 L133.27,160.22 L130.79,159.14 L127.46,157.73 L121.66,155.69 L115.86,153.73 L114.46,153.34 L110.06,152.04   L104.26,151.32 L98.46,150.87 L92.65,150.72 L86.85,151.13 L81.05,152.06 L81.05,153.34 L81.05,159.14 L81.05,164.95   L81.05,170.75 L81.05,176.55 L81.05,182.35 L81.05,188.15 L81.05,193.95 L81.05,199.75 L81.05,205.56 L81.05,211.36   L81.05,217.16 L81.05,222.96 L81.05,228.76 L81.05,234.56 L81.05,240.36 L81.05,246.17  \"/></g>\n\t</g>\n\t<g id=\"gnuplot_plot_40a\"><title>gnuplot_plot_40a</title>\n<g fill=\"none\" color=\"white\" stroke=\"rgb(255, 239,   0)\" stroke-width=\"0.50\" stroke-linecap=\"butt\" stroke-linejoin=\"miter\">\n</g>\n<g fill=\"none\" color=\"black\" stroke=\"currentColor\" stroke-width=\"0.50\" stroke-linecap=\"butt\" stroke-linejoin=\"miter\">\n\t<path stroke=\"rgb(  0,   0,   0)\" d=\"M81.05,251.97 L81.05,253.62 L86.85,254.38 L92.65,254.62 L98.46,254.52 L104.26,254.02 L110.06,253.09 L114.50,251.97   L115.86,251.61 L121.66,249.72 L127.46,247.63 L130.91,246.17 L133.27,245.19 L139.07,242.50 L143.13,240.36 L144.87,239.28   L150.67,235.36 L151.93,234.56 L156.47,231.39 L159.53,228.76 L162.27,226.60 L166.57,222.96 L168.07,221.91 L173.88,217.20   L173.92,217.16 L179.68,212.48 L180.70,211.36 L185.48,211.07 L191.28,210.92 L197.08,210.74 L202.88,210.37 L208.69,209.79   L214.49,209.09 L220.29,208.39 L226.09,207.62 L231.89,206.94 L237.69,206.34 L243.49,205.75 L243.65,205.56 L243.49,200.92   L242.88,199.75 L239.51,193.95 L237.69,191.72 L235.44,188.15 L231.89,183.09 L231.35,182.35 L227.05,176.55 L226.09,174.80   L223.46,170.75 L220.48,164.95 L220.29,164.59 L217.38,159.14 L214.96,153.34 L215.45,147.54 L214.49,147.46 L208.69,146.98   L202.88,146.48 L197.08,146.00 L191.28,145.47 L185.48,144.86 L182.15,147.54 L181.91,153.34 L181.57,159.14 L181.29,164.95   L180.96,170.75 L180.62,176.55 L180.26,182.35 L179.89,188.15 L179.68,190.53 L174.71,188.15 L173.88,187.59 L168.07,183.03   L167.07,182.35 L162.27,178.84 L159.35,176.55 L156.47,174.19 L151.49,170.75 L150.67,170.20 L144.87,166.23 L142.55,164.95   L139.07,163.08 L133.27,160.22 L130.79,159.14 L127.46,157.73 L121.66,155.69 L115.86,153.73 L114.46,153.34 L110.06,152.04   L104.26,151.32 L98.46,150.87 L92.65,150.72 L86.85,151.13 L81.05,152.06 L81.05,153.34 L81.05,159.14 L81.05,164.95   L81.05,170.75 L81.05,176.55 L81.05,182.35 L81.05,188.15 L81.05,193.95 L81.05,199.75 L81.05,205.56 L81.05,211.36   L81.05,217.16 L81.05,222.96 L81.05,228.76 L81.05,234.56 L81.05,240.36 L81.05,246.17 L81.05,251.97  \"/></g>\n\t</g>\n\t<g id=\"gnuplot_plot_41a\"><title>gnuplot_plot_41a</title>\n<g fill=\"none\" color=\"white\" stroke=\"rgb(  0,   0,   0)\" stroke-width=\"1.00\" stroke-linecap=\"butt\" stroke-linejoin=\"miter\">\n</g>\n<g fill=\"none\" color=\"black\" stroke=\"currentColor\" stroke-width=\"1.00\" stroke-linecap=\"butt\" stroke-linejoin=\"miter\">\n\t<g stroke=\"none\" shape-rendering=\"crispEdges\">\n\t\t<polygon fill=\"rgb(255, 207,   0)\" points=\"81.05,240.36 81.05,244.72 86.85,245.22 92.65,245.40 98.46,244.93 104.26,244.01 110.06,243.11 115.86,240.95 117.79,240.36 121.66,239.32 127.46,236.96 132.71,234.56 133.27,234.32 139.07,231.07 142.59,228.76 144.87,227.44 150.67,223.86 151.83,222.96 156.47,219.75 160.20,217.16 162.27,216.00 168.07,212.69 169.92,211.36 173.88,210.11 179.68,208.28 185.48,210.60 191.28,210.47 197.08,210.26 202.88,209.83 208.69,209.20 214.49,208.44 220.29,207.67 226.09,206.84 231.89,206.10 236.96,205.56 234.41,199.75 231.89,194.38 231.70,193.95 228.00,188.15 226.09,185.61 223.41,182.35 220.29,178.51 218.57,176.55 214.55,170.75 214.49,170.62 211.33,164.95 208.69,160.04 208.26,159.14 206.75,153.34 206.02,147.54 202.88,147.26 197.08,146.77 191.28,146.22 185.48,145.59 183.06,147.54 182.83,153.34 182.48,159.14 182.20,164.95 181.87,170.75 181.52,176.55 181.16,182.35 180.76,188.15 180.22,193.95 179.68,196.58 173.88,195.06 169.91,193.95 168.07,192.80 162.27,189.36 160.12,188.15 156.47,185.49 151.85,182.35 150.67,181.44 144.87,177.57 142.89,176.55 139.07,174.42 133.27,171.29 132.12,170.75 127.46,168.56 121.66,166.22 117.85,164.95 115.86,164.23 110.06,162.45 104.26,161.24 98.46,160.44 92.65,160.02 86.85,160.12 81.05,160.69 81.05,164.95 81.05,170.75 81.05,176.55 81.05,182.35 81.05,188.15 81.05,193.95 81.05,199.75 81.05,205.56 81.05,211.36 81.05,217.16 81.05,222.96 81.05,228.76 81.05,234.56 \"/>\n\t</g>\n\t<path stroke=\"rgb(255, 207,   0)\" d=\"M81.05,240.36 L81.05,244.72 L86.85,245.22 L92.65,245.40 L98.46,244.93 L104.26,244.01 L110.06,243.11 L115.86,240.95   L117.79,240.36 L121.66,239.32 L127.46,236.96 L132.71,234.56 L133.27,234.32 L139.07,231.07 L142.59,228.76 L144.87,227.44   L150.67,223.86 L151.83,222.96 L156.47,219.75 L160.20,217.16 L162.27,216.00 L168.07,212.69 L169.92,211.36 L173.88,210.11   L179.68,208.28 L185.48,210.60 L191.28,210.47 L197.08,210.26 L202.88,209.83 L208.69,209.20 L214.49,208.44 L220.29,207.67   L226.09,206.84 L231.89,206.10 L236.96,205.56 L234.41,199.75 L231.89,194.38 L231.70,193.95 L228.00,188.15 L226.09,185.61   L223.41,182.35 L220.29,178.51 L218.57,176.55 L214.55,170.75 L214.49,170.62 L211.33,164.95 L208.69,160.04 L208.26,159.14   L206.75,153.34 L206.02,147.54 L202.88,147.26 L197.08,146.77 L191.28,146.22 L185.48,145.59 L183.06,147.54 L182.83,153.34   L182.48,159.14 L182.20,164.95 L181.87,170.75 L181.52,176.55 L181.16,182.35 L180.76,188.15 L180.22,193.95 L179.68,196.58   L173.88,195.06 L169.91,193.95 L168.07,192.80 L162.27,189.36 L160.12,188.15 L156.47,185.49 L151.85,182.35 L150.67,181.44   L144.87,177.57 L142.89,176.55 L139.07,174.42 L133.27,171.29 L132.12,170.75 L127.46,168.56 L121.66,166.22 L117.85,164.95   L115.86,164.23 L110.06,162.45 L104.26,161.24 L98.46,160.44 L92.65,160.02 L86.85,160.12 L81.05,160.69 L81.05,164.95   L81.05,170.75 L81.05,176.55 L81.05,182.35 L81.05,188.15 L81.05,193.95 L81.05,199.75 L81.05,205.56 L81.05,211.36   L81.05,217.16 L81.05,222.96 L81.05,228.76 L81.05,234.56  \"/></g>\n\t</g>\n\t<g id=\"gnuplot_plot_42a\"><title>gnuplot_plot_42a</title>\n<g fill=\"none\" color=\"white\" stroke=\"rgb(255, 207,   0)\" stroke-width=\"0.50\" stroke-linecap=\"butt\" stroke-linejoin=\"miter\">\n</g>\n<g fill=\"none\" color=\"black\" stroke=\"currentColor\" stroke-width=\"0.50\" stroke-linecap=\"butt\" stroke-linejoin=\"miter\">\n\t<path stroke=\"rgb(  0,   0,   0)\" d=\"M81.05,240.36 L81.05,244.72 L86.85,245.22 L92.65,245.40 L98.46,244.93 L104.26,244.01 L110.06,243.11 L115.86,240.95   L117.79,240.36 L121.66,239.32 L127.46,236.96 L132.71,234.56 L133.27,234.32 L139.07,231.07 L142.59,228.76 L144.87,227.44   L150.67,223.86 L151.83,222.96 L156.47,219.75 L160.20,217.16 L162.27,216.00 L168.07,212.69 L169.92,211.36 L173.88,210.11   L179.68,208.28 L185.48,210.60 L191.28,210.47 L197.08,210.26 L202.88,209.83 L208.69,209.20 L214.49,208.44 L220.29,207.67   L226.09,206.84 L231.89,206.10 L236.96,205.56 L234.41,199.75 L231.89,194.38 L231.70,193.95 L228.00,188.15 L226.09,185.61   L223.41,182.35 L220.29,178.51 L218.57,176.55 L214.55,170.75 L214.49,170.62 L211.33,164.95 L208.69,160.04 L208.26,159.14   L206.75,153.34 L206.02,147.54 L202.88,147.26 L197.08,146.77 L191.28,146.22 L185.48,145.59 L183.06,147.54 L182.83,153.34   L182.48,159.14 L182.20,164.95 L181.87,170.75 L181.52,176.55 L181.16,182.35 L180.76,188.15 L180.22,193.95 L179.68,196.58   L173.88,195.06 L169.91,193.95 L168.07,192.80 L162.27,189.36 L160.12,188.15 L156.47,185.49 L151.85,182.35 L150.67,181.44   L144.87,177.57 L142.89,176.55 L139.07,174.42 L133.27,171.29 L132.12,170.75 L127.46,168.56 L121.66,166.22 L117.85,164.95   L115.86,164.23 L110.06,162.45 L104.26,161.24 L98.46,160.44 L92.65,160.02 L86.85,160.12 L81.05,160.69 L81.05,164.95   L81.05,170.75 L81.05,176.55 L81.05,182.35 L81.05,188.15 L81.05,193.95 L81.05,199.75 L81.05,205.56 L81.05,211.36   L81.05,217.16 L81.05,222.96 L81.05,228.76 L81.05,234.56 L81.05,240.36  \"/></g>\n\t</g>\n\t<g id=\"gnuplot_plot_43a\"><title>gnuplot_plot_43a</title>\n<g fill=\"none\" color=\"white\" stroke=\"rgb(  0,   0,   0)\" stroke-width=\"1.00\" stroke-linecap=\"butt\" stroke-linejoin=\"miter\">\n</g>\n<g fill=\"none\" color=\"black\" stroke=\"currentColor\" stroke-width=\"1.00\" stroke-linecap=\"butt\" stroke-linejoin=\"miter\">\n\t<g stroke=\"none\" shape-rendering=\"crispEdges\">\n\t\t<polygon fill=\"rgb(255, 175,   0)\" points=\"81.05,234.56 81.05,236.85 86.85,237.30 92.65,237.05 98.46,236.32 104.26,234.99 105.73,234.56 110.06,233.44 115.86,232.07 121.66,229.92 124.19,228.76 127.46,227.41 133.27,224.55 136.03,222.96 139.07,221.46 144.87,218.21 146.59,217.16 150.67,215.29 156.47,212.01 157.58,211.36 162.27,210.13 168.07,208.52 173.88,206.61 177.15,205.56 177.23,199.75 173.88,198.65 168.07,196.84 162.27,195.18 157.75,193.95 156.47,193.21 150.67,190.10 146.72,188.15 144.87,186.94 139.07,183.91 136.04,182.35 133.27,180.70 127.46,177.79 124.42,176.55 121.66,175.37 115.86,173.28 110.06,171.64 106.52,170.75 104.26,170.12 98.46,169.00 92.65,168.38 86.85,168.13 81.05,168.52 81.05,170.75 81.05,176.55 81.05,182.35 81.05,188.15 81.05,193.95 81.05,199.75 81.05,205.56 81.05,211.36 81.05,217.16 81.05,222.96 81.05,228.76 \"/>\n\t</g>\n\t<path stroke=\"rgb(255, 175,   0)\" d=\"M81.05,234.56 L81.05,236.85 L86.85,237.30 L92.65,237.05 L98.46,236.32 L104.26,234.99 L105.73,234.56 L110.06,233.44   L115.86,232.07 L121.66,229.92 L124.19,228.76 L127.46,227.41 L133.27,224.55 L136.03,222.96 L139.07,221.46 L144.87,218.21   L146.59,217.16 L150.67,215.29 L156.47,212.01 L157.58,211.36 L162.27,210.13 L168.07,208.52 L173.88,206.61 L177.15,205.56   L177.23,199.75 L173.88,198.65 L168.07,196.84 L162.27,195.18 L157.75,193.95 L156.47,193.21 L150.67,190.10 L146.72,188.15   L144.87,186.94 L139.07,183.91 L136.04,182.35 L133.27,180.70 L127.46,177.79 L124.42,176.55 L121.66,175.37 L115.86,173.28   L110.06,171.64 L106.52,170.75 L104.26,170.12 L98.46,169.00 L92.65,168.38 L86.85,168.13 L81.05,168.52 L81.05,170.75   L81.05,176.55 L81.05,182.35 L81.05,188.15 L81.05,193.95 L81.05,199.75 L81.05,205.56 L81.05,211.36 L81.05,217.16   L81.05,222.96 L81.05,228.76  \"/></g>\n\t</g>\n\t<g id=\"gnuplot_plot_44a\"><title>gnuplot_plot_44a</title>\n<g fill=\"none\" color=\"white\" stroke=\"rgb(255, 175,   0)\" stroke-width=\"0.50\" stroke-linecap=\"butt\" stroke-linejoin=\"miter\">\n</g>\n<g fill=\"none\" color=\"black\" stroke=\"currentColor\" stroke-width=\"0.50\" stroke-linecap=\"butt\" stroke-linejoin=\"miter\">\n\t<path stroke=\"rgb(  0,   0,   0)\" d=\"M81.05,234.56 L81.05,236.85 L86.85,237.30 L92.65,237.05 L98.46,236.32 L104.26,234.99 L105.73,234.56 L110.06,233.44   L115.86,232.07 L121.66,229.92 L124.19,228.76 L127.46,227.41 L133.27,224.55 L136.03,222.96 L139.07,221.46 L144.87,218.21   L146.59,217.16 L150.67,215.29 L156.47,212.01 L157.58,211.36 L162.27,210.13 L168.07,208.52 L173.88,206.61 L177.15,205.56   L177.23,199.75 L173.88,198.65 L168.07,196.84 L162.27,195.18 L157.75,193.95 L156.47,193.21 L150.67,190.10 L146.72,188.15   L144.87,186.94 L139.07,183.91 L136.04,182.35 L133.27,180.70 L127.46,177.79 L124.42,176.55 L121.66,175.37 L115.86,173.28   L110.06,171.64 L106.52,170.75 L104.26,170.12 L98.46,169.00 L92.65,168.38 L86.85,168.13 L81.05,168.52 L81.05,170.75   L81.05,176.55 L81.05,182.35 L81.05,188.15 L81.05,193.95 L81.05,199.75 L81.05,205.56 L81.05,211.36 L81.05,217.16   L81.05,222.96 L81.05,228.76 L81.05,234.56  \"/></g>\n\t</g>\n\t<g id=\"gnuplot_plot_45a\"><title>gnuplot_plot_45a</title>\n<g fill=\"none\" color=\"white\" stroke=\"rgb(  0,   0,   0)\" stroke-width=\"1.00\" stroke-linecap=\"butt\" stroke-linejoin=\"miter\">\n</g>\n<g fill=\"none\" color=\"black\" stroke=\"currentColor\" stroke-width=\"1.00\" stroke-linecap=\"butt\" stroke-linejoin=\"miter\">\n\t<g stroke=\"none\" shape-rendering=\"crispEdges\">\n\t\t<polygon fill=\"rgb(255, 143,   0)\" points=\"81.05,228.76 81.05,230.01 86.85,230.11 92.65,229.51 97.84,228.76 98.46,228.68 104.26,227.45 110.06,226.11 115.86,224.35 119.25,222.96 121.66,222.10 127.46,219.68 132.54,217.16 133.27,216.89 139.07,214.61 144.87,211.70 145.57,211.36 150.67,210.15 156.47,208.58 162.27,206.94 166.73,205.56 166.65,199.75 162.27,198.41 156.47,196.72 150.67,195.19 145.64,193.95 144.87,193.55 139.07,190.77 133.27,188.33 132.76,188.15 127.46,185.62 121.66,183.15 119.31,182.35 115.86,181.04 110.06,179.18 104.26,177.82 98.46,176.59 98.12,176.55 92.65,175.75 86.85,175.23 81.05,175.39 81.05,176.55 81.05,182.35 81.05,188.15 81.05,193.95 81.05,199.75 81.05,205.56 81.05,211.36 81.05,217.16 81.05,222.96 \"/>\n\t</g>\n\t<path stroke=\"rgb(255, 143,   0)\" d=\"M81.05,228.76 L81.05,230.01 L86.85,230.11 L92.65,229.51 L97.84,228.76 L98.46,228.68 L104.26,227.45 L110.06,226.11   L115.86,224.35 L119.25,222.96 L121.66,222.10 L127.46,219.68 L132.54,217.16 L133.27,216.89 L139.07,214.61 L144.87,211.70   L145.57,211.36 L150.67,210.15 L156.47,208.58 L162.27,206.94 L166.73,205.56 L166.65,199.75 L162.27,198.41 L156.47,196.72   L150.67,195.19 L145.64,193.95 L144.87,193.55 L139.07,190.77 L133.27,188.33 L132.76,188.15 L127.46,185.62 L121.66,183.15   L119.31,182.35 L115.86,181.04 L110.06,179.18 L104.26,177.82 L98.46,176.59 L98.12,176.55 L92.65,175.75 L86.85,175.23   L81.05,175.39 L81.05,176.55 L81.05,182.35 L81.05,188.15 L81.05,193.95 L81.05,199.75 L81.05,205.56 L81.05,211.36   L81.05,217.16 L81.05,222.96  \"/></g>\n\t</g>\n\t<g id=\"gnuplot_plot_46a\"><title>gnuplot_plot_46a</title>\n<g fill=\"none\" color=\"white\" stroke=\"rgb(255, 143,   0)\" stroke-width=\"0.50\" stroke-linecap=\"butt\" stroke-linejoin=\"miter\">\n</g>\n<g fill=\"none\" color=\"black\" stroke=\"currentColor\" stroke-width=\"0.50\" stroke-linecap=\"butt\" stroke-linejoin=\"miter\">\n\t<path stroke=\"rgb(  0,   0,   0)\" d=\"M81.05,228.76 L81.05,230.01 L86.85,230.11 L92.65,229.51 L97.84,228.76 L98.46,228.68 L104.26,227.45 L110.06,226.11   L115.86,224.35 L119.25,222.96 L121.66,222.10 L127.46,219.68 L132.54,217.16 L133.27,216.89 L139.07,214.61 L144.87,211.70   L145.57,211.36 L150.67,210.15 L156.47,208.58 L162.27,206.94 L166.73,205.56 L166.65,199.75 L162.27,198.41 L156.47,196.72   L150.67,195.19 L145.64,193.95 L144.87,193.55 L139.07,190.77 L133.27,188.33 L132.76,188.15 L127.46,185.62 L121.66,183.15   L119.31,182.35 L115.86,181.04 L110.06,179.18 L104.26,177.82 L98.46,176.59 L98.12,176.55 L92.65,175.75 L86.85,175.23   L81.05,175.39 L81.05,176.55 L81.05,182.35 L81.05,188.15 L81.05,193.95 L81.05,199.75 L81.05,205.56 L81.05,211.36   L81.05,217.16 L81.05,222.96 L81.05,228.76  \"/></g>\n\t</g>\n\t<g id=\"gnuplot_plot_47a\"><title>gnuplot_plot_47a</title>\n<g fill=\"none\" color=\"white\" stroke=\"rgb(  0,   0,   0)\" stroke-width=\"1.00\" stroke-linecap=\"butt\" stroke-linejoin=\"miter\">\n</g>\n<g fill=\"none\" color=\"black\" stroke=\"currentColor\" stroke-width=\"1.00\" stroke-linecap=\"butt\" stroke-linejoin=\"miter\">\n\t<g stroke=\"none\" shape-rendering=\"crispEdges\">\n\t\t<polygon fill=\"rgb(255,  96,   0)\" points=\"81.05,222.96 81.05,224.19 86.85,223.93 92.65,223.25 94.20,222.96 98.46,222.30 104.26,221.28 110.06,219.88 115.86,217.89 117.79,217.16 121.66,216.02 127.46,213.90 133.27,211.57 133.75,211.36 139.07,210.17 144.87,208.70 150.67,207.19 156.39,205.56 156.23,199.75 150.67,198.17 144.87,196.61 139.07,195.19 133.47,193.95 133.27,193.86 127.46,191.44 121.66,189.35 117.79,188.15 115.86,187.39 110.06,185.44 104.26,183.96 98.46,183.04 94.00,182.35 92.65,182.10 86.85,181.39 81.05,181.23 81.05,182.35 81.05,188.15 81.05,193.95 81.05,199.75 81.05,205.56 81.05,211.36 81.05,217.16 \"/>\n\t</g>\n\t<path stroke=\"rgb(255,  96,   0)\" d=\"M81.05,222.96 L81.05,224.19 L86.85,223.93 L92.65,223.25 L94.20,222.96 L98.46,222.30 L104.26,221.28 L110.06,219.88   L115.86,217.89 L117.79,217.16 L121.66,216.02 L127.46,213.90 L133.27,211.57 L133.75,211.36 L139.07,210.17 L144.87,208.70   L150.67,207.19 L156.39,205.56 L156.23,199.75 L150.67,198.17 L144.87,196.61 L139.07,195.19 L133.47,193.95 L133.27,193.86   L127.46,191.44 L121.66,189.35 L117.79,188.15 L115.86,187.39 L110.06,185.44 L104.26,183.96 L98.46,183.04 L94.00,182.35   L92.65,182.10 L86.85,181.39 L81.05,181.23 L81.05,182.35 L81.05,188.15 L81.05,193.95 L81.05,199.75 L81.05,205.56   L81.05,211.36 L81.05,217.16  \"/></g>\n\t</g>\n\t<g id=\"gnuplot_plot_48a\"><title>gnuplot_plot_48a</title>\n<g fill=\"none\" color=\"white\" stroke=\"rgb(255,  96,   0)\" stroke-width=\"0.50\" stroke-linecap=\"butt\" stroke-linejoin=\"miter\">\n</g>\n<g fill=\"none\" color=\"black\" stroke=\"currentColor\" stroke-width=\"0.50\" stroke-linecap=\"butt\" stroke-linejoin=\"miter\">\n\t<path stroke=\"rgb(  0,   0,   0)\" d=\"M81.05,222.96 L81.05,224.19 L86.85,223.93 L92.65,223.25 L94.20,222.96 L98.46,222.30 L104.26,221.28 L110.06,219.88   L115.86,217.89 L117.79,217.16 L121.66,216.02 L127.46,213.90 L133.27,211.57 L133.75,211.36 L139.07,210.17 L144.87,208.70   L150.67,207.19 L156.39,205.56 L156.23,199.75 L150.67,198.17 L144.87,196.61 L139.07,195.19 L133.47,193.95 L133.27,193.86   L127.46,191.44 L121.66,189.35 L117.79,188.15 L115.86,187.39 L110.06,185.44 L104.26,183.96 L98.46,183.04 L94.00,182.35   L92.65,182.10 L86.85,181.39 L81.05,181.23 L81.05,182.35 L81.05,188.15 L81.05,193.95 L81.05,199.75 L81.05,205.56   L81.05,211.36 L81.05,217.16 L81.05,222.96  \"/></g>\n\t</g>\n\t<g id=\"gnuplot_plot_49a\"><title>gnuplot_plot_49a</title>\n<g fill=\"none\" color=\"white\" stroke=\"rgb(  0,   0,   0)\" stroke-width=\"1.00\" stroke-linecap=\"butt\" stroke-linejoin=\"miter\">\n</g>\n<g fill=\"none\" color=\"black\" stroke=\"currentColor\" stroke-width=\"1.00\" stroke-linecap=\"butt\" stroke-linejoin=\"miter\">\n\t<g stroke=\"none\" shape-rendering=\"crispEdges\">\n\t\t<polygon fill=\"rgb(255, 175,   0)\" points=\"179.81,205.56 185.48,210.13 191.28,210.02 197.08,209.78 202.88,209.30 208.69,208.61 214.49,207.80 220.29,206.95 226.09,206.06 229.88,205.56 228.65,199.75 226.09,194.54 225.81,193.95 221.24,188.15 220.29,187.03 216.18,182.35 214.49,180.47 210.21,176.55 208.69,174.54 205.99,170.75 203.27,164.95 202.88,164.15 200.45,159.14 198.76,153.34 197.09,147.54 197.08,147.54 191.28,146.97 185.48,146.32 183.97,147.54 183.75,153.34 183.39,159.14 183.11,164.95 182.77,170.75 182.42,176.55 182.05,182.35 181.63,188.15 181.07,193.95 179.81,199.75 \"/>\n\t</g>\n\t<path stroke=\"rgb(255, 175,   0)\" d=\"M179.81,205.56 L185.48,210.13 L191.28,210.02 L197.08,209.78 L202.88,209.30 L208.69,208.61 L214.49,207.80 L220.29,206.95   L226.09,206.06 L229.88,205.56 L228.65,199.75 L226.09,194.54 L225.81,193.95 L221.24,188.15 L220.29,187.03 L216.18,182.35   L214.49,180.47 L210.21,176.55 L208.69,174.54 L205.99,170.75 L203.27,164.95 L202.88,164.15 L200.45,159.14 L198.76,153.34   L197.09,147.54 L197.08,147.54 L191.28,146.97 L185.48,146.32 L183.97,147.54 L183.75,153.34 L183.39,159.14 L183.11,164.95   L182.77,170.75 L182.42,176.55 L182.05,182.35 L181.63,188.15 L181.07,193.95 L179.81,199.75  \"/></g>\n\t</g>\n\t<g id=\"gnuplot_plot_50a\"><title>gnuplot_plot_50a</title>\n<g fill=\"none\" color=\"white\" stroke=\"rgb(255, 175,   0)\" stroke-width=\"0.50\" stroke-linecap=\"butt\" stroke-linejoin=\"miter\">\n</g>\n<g fill=\"none\" color=\"black\" stroke=\"currentColor\" stroke-width=\"0.50\" stroke-linecap=\"butt\" stroke-linejoin=\"miter\">\n\t<path stroke=\"rgb(  0,   0,   0)\" d=\"M179.81,205.56 L185.48,210.13 L191.28,210.02 L197.08,209.78 L202.88,209.30 L208.69,208.61 L214.49,207.80 L220.29,206.95   L226.09,206.06 L229.88,205.56 L228.65,199.75 L226.09,194.54 L225.81,193.95 L221.24,188.15 L220.29,187.03 L216.18,182.35   L214.49,180.47 L210.21,176.55 L208.69,174.54 L205.99,170.75 L203.27,164.95 L202.88,164.15 L200.45,159.14 L198.76,153.34   L197.09,147.54 L197.08,147.54 L191.28,146.97 L185.48,146.32 L183.97,147.54 L183.75,153.34 L183.39,159.14 L183.11,164.95   L182.77,170.75 L182.42,176.55 L182.05,182.35 L181.63,188.15 L181.07,193.95 L179.81,199.75 L179.81,205.56  \"/></g>\n\t</g>\n\t<g id=\"gnuplot_plot_51a\"><title>gnuplot_plot_51a</title>\n<g fill=\"none\" color=\"white\" stroke=\"rgb(  0,   0,   0)\" stroke-width=\"1.00\" stroke-linecap=\"butt\" stroke-linejoin=\"miter\">\n</g>\n<g fill=\"none\" color=\"black\" stroke=\"currentColor\" stroke-width=\"1.00\" stroke-linecap=\"butt\" stroke-linejoin=\"miter\">\n\t<g stroke=\"none\" shape-rendering=\"crispEdges\">\n\t\t<polygon fill=\"rgb(255, 143,   0)\" points=\"180.39,205.56 185.48,209.66 191.28,209.58 197.08,209.29 202.88,208.77 208.69,208.02 214.49,207.15 220.29,206.23 224.50,205.56 223.70,199.75 220.62,193.95 220.29,193.55 214.71,188.15 214.49,187.90 208.69,182.94 207.80,182.35 202.88,177.53 201.99,176.55 198.41,170.75 197.08,167.87 195.80,164.95 193.32,159.14 191.28,154.17 190.97,153.34 189.77,147.54 185.48,147.05 184.87,147.54 184.67,153.34 184.30,159.14 184.02,164.95 183.68,170.75 183.32,176.55 182.94,182.35 182.49,188.15 181.92,193.95 180.39,199.75 \"/>\n\t</g>\n\t<path stroke=\"rgb(255, 143,   0)\" d=\"M180.39,205.56 L185.48,209.66 L191.28,209.58 L197.08,209.29 L202.88,208.77 L208.69,208.02 L214.49,207.15 L220.29,206.23   L224.50,205.56 L223.70,199.75 L220.62,193.95 L220.29,193.55 L214.71,188.15 L214.49,187.90 L208.69,182.94 L207.80,182.35   L202.88,177.53 L201.99,176.55 L198.41,170.75 L197.08,167.87 L195.80,164.95 L193.32,159.14 L191.28,154.17 L190.97,153.34   L189.77,147.54 L185.48,147.05 L184.87,147.54 L184.67,153.34 L184.30,159.14 L184.02,164.95 L183.68,170.75 L183.32,176.55   L182.94,182.35 L182.49,188.15 L181.92,193.95 L180.39,199.75  \"/></g>\n\t</g>\n\t<g id=\"gnuplot_plot_52a\"><title>gnuplot_plot_52a</title>\n<g fill=\"none\" color=\"white\" stroke=\"rgb(255, 143,   0)\" stroke-width=\"0.50\" stroke-linecap=\"butt\" stroke-linejoin=\"miter\">\n</g>\n<g fill=\"none\" color=\"black\" stroke=\"currentColor\" stroke-width=\"0.50\" stroke-linecap=\"butt\" stroke-linejoin=\"miter\">\n\t<path stroke=\"rgb(  0,   0,   0)\" d=\"M180.39,205.56 L185.48,209.66 L191.28,209.58 L197.08,209.29 L202.88,208.77 L208.69,208.02 L214.49,207.15 L220.29,206.23   L224.50,205.56 L223.70,199.75 L220.62,193.95 L220.29,193.55 L214.71,188.15 L214.49,187.90 L208.69,182.94 L207.80,182.35   L202.88,177.53 L201.99,176.55 L198.41,170.75 L197.08,167.87 L195.80,164.95 L193.32,159.14 L191.28,154.17 L190.97,153.34   L189.77,147.54 L185.48,147.05 L184.87,147.54 L184.67,153.34 L184.30,159.14 L184.02,164.95 L183.68,170.75 L183.32,176.55   L182.94,182.35 L182.49,188.15 L181.92,193.95 L180.39,199.75 L180.39,205.56  \"/></g>\n\t</g>\n\t<g id=\"gnuplot_plot_53a\"><title>gnuplot_plot_53a</title>\n<g fill=\"none\" color=\"white\" stroke=\"rgb(  0,   0,   0)\" stroke-width=\"1.00\" stroke-linecap=\"butt\" stroke-linejoin=\"miter\">\n</g>\n<g fill=\"none\" color=\"black\" stroke=\"currentColor\" stroke-width=\"1.00\" stroke-linecap=\"butt\" stroke-linejoin=\"miter\">\n\t<g stroke=\"none\" shape-rendering=\"crispEdges\">\n\t\t<polygon fill=\"rgb(255,  64,   0)\" points=\"81.05,217.16 81.05,219.30 86.85,218.88 92.65,218.13 98.46,217.21 98.73,217.16 104.26,216.29 110.06,214.91 115.86,213.13 121.22,211.36 121.66,211.28 127.46,210.10 133.27,208.82 139.07,207.41 144.87,205.89 146.07,205.56 145.98,199.75 144.87,199.44 139.07,197.93 133.27,196.54 127.46,195.22 121.66,194.07 121.04,193.95 115.86,192.14 110.06,190.38 104.26,189.02 98.46,188.19 98.14,188.15 92.65,187.24 86.85,186.46 81.05,186.14 81.05,188.15 81.05,193.95 81.05,199.75 81.05,205.56 81.05,211.36 \"/>\n\t</g>\n\t<path stroke=\"rgb(255,  64,   0)\" d=\"M81.05,217.16 L81.05,219.30 L86.85,218.88 L92.65,218.13 L98.46,217.21 L98.73,217.16 L104.26,216.29 L110.06,214.91   L115.86,213.13 L121.22,211.36 L121.66,211.28 L127.46,210.10 L133.27,208.82 L139.07,207.41 L144.87,205.89 L146.07,205.56   L145.98,199.75 L144.87,199.44 L139.07,197.93 L133.27,196.54 L127.46,195.22 L121.66,194.07 L121.04,193.95 L115.86,192.14   L110.06,190.38 L104.26,189.02 L98.46,188.19 L98.14,188.15 L92.65,187.24 L86.85,186.46 L81.05,186.14 L81.05,188.15   L81.05,193.95 L81.05,199.75 L81.05,205.56 L81.05,211.36  \"/></g>\n\t</g>\n\t<g id=\"gnuplot_plot_54a\"><title>gnuplot_plot_54a</title>\n<g fill=\"none\" color=\"white\" stroke=\"rgb(255,  64,   0)\" stroke-width=\"0.50\" stroke-linecap=\"butt\" stroke-linejoin=\"miter\">\n</g>\n<g fill=\"none\" color=\"black\" stroke=\"currentColor\" stroke-width=\"0.50\" stroke-linecap=\"butt\" stroke-linejoin=\"miter\">\n\t<path stroke=\"rgb(  0,   0,   0)\" d=\"M81.05,217.16 L81.05,219.30 L86.85,218.88 L92.65,218.13 L98.46,217.21 L98.73,217.16 L104.26,216.29 L110.06,214.91   L115.86,213.13 L121.22,211.36 L121.66,211.28 L127.46,210.10 L133.27,208.82 L139.07,207.41 L144.87,205.89 L146.07,205.56   L145.98,199.75 L144.87,199.44 L139.07,197.93 L133.27,196.54 L127.46,195.22 L121.66,194.07 L121.04,193.95 L115.86,192.14   L110.06,190.38 L104.26,189.02 L98.46,188.19 L98.14,188.15 L92.65,187.24 L86.85,186.46 L81.05,186.14 L81.05,188.15   L81.05,193.95 L81.05,199.75 L81.05,205.56 L81.05,211.36 L81.05,217.16  \"/></g>\n\t</g>\n\t<g id=\"gnuplot_plot_55a\"><title>gnuplot_plot_55a</title>\n<g fill=\"none\" color=\"white\" stroke=\"rgb(  0,   0,   0)\" stroke-width=\"1.00\" stroke-linecap=\"butt\" stroke-linejoin=\"miter\">\n</g>\n<g fill=\"none\" color=\"black\" stroke=\"currentColor\" stroke-width=\"1.00\" stroke-linecap=\"butt\" stroke-linejoin=\"miter\">\n\t<g stroke=\"none\" shape-rendering=\"crispEdges\">\n\t\t<polygon fill=\"rgb(255,  96,   0)\" points=\"180.97,205.56 185.48,209.19 191.28,209.13 197.08,208.81 202.88,208.23 208.69,207.43 214.49,206.50 220.04,205.56 219.39,199.75 215.44,193.95 214.49,193.02 208.69,188.79 207.39,188.15 202.88,185.08 198.83,182.35 197.08,180.43 194.14,176.55 191.48,170.75 191.28,170.31 189.09,164.95 187.24,159.14 185.48,155.05 185.20,159.14 184.93,164.95 184.59,170.75 184.22,176.55 183.84,182.35 183.36,188.15 182.76,193.95 180.97,199.75 \"/>\n\t</g>\n\t<path stroke=\"rgb(255,  96,   0)\" d=\"M180.97,205.56 L185.48,209.19 L191.28,209.13 L197.08,208.81 L202.88,208.23 L208.69,207.43 L214.49,206.50 L220.04,205.56   L219.39,199.75 L215.44,193.95 L214.49,193.02 L208.69,188.79 L207.39,188.15 L202.88,185.08 L198.83,182.35 L197.08,180.43   L194.14,176.55 L191.48,170.75 L191.28,170.31 L189.09,164.95 L187.24,159.14 L185.48,155.05 L185.20,159.14 L184.93,164.95   L184.59,170.75 L184.22,176.55 L183.84,182.35 L183.36,188.15 L182.76,193.95 L180.97,199.75  \"/></g>\n\t</g>\n\t<g id=\"gnuplot_plot_56a\"><title>gnuplot_plot_56a</title>\n<g fill=\"none\" color=\"white\" stroke=\"rgb(255,  96,   0)\" stroke-width=\"0.50\" stroke-linecap=\"butt\" stroke-linejoin=\"miter\">\n</g>\n<g fill=\"none\" color=\"black\" stroke=\"currentColor\" stroke-width=\"0.50\" stroke-linecap=\"butt\" stroke-linejoin=\"miter\">\n\t<path stroke=\"rgb(  0,   0,   0)\" d=\"M180.97,205.56 L185.48,209.19 L191.28,209.13 L197.08,208.81 L202.88,208.23 L208.69,207.43 L214.49,206.50 L220.04,205.56   L219.39,199.75 L215.44,193.95 L214.49,193.02 L208.69,188.79 L207.39,188.15 L202.88,185.08 L198.83,182.35 L197.08,180.43   L194.14,176.55 L191.48,170.75 L191.28,170.31 L189.09,164.95 L187.24,159.14 L185.48,155.05 L185.20,159.14 L184.93,164.95   L184.59,170.75 L184.22,176.55 L183.84,182.35 L183.36,188.15 L182.76,193.95 L180.97,199.75 L180.97,205.56  \"/></g>\n\t</g>\n\t<g id=\"gnuplot_plot_57a\"><title>gnuplot_plot_57a</title>\n<g fill=\"none\" color=\"white\" stroke=\"rgb(  0,   0,   0)\" stroke-width=\"1.00\" stroke-linecap=\"butt\" stroke-linejoin=\"miter\">\n</g>\n<g fill=\"none\" color=\"black\" stroke=\"currentColor\" stroke-width=\"1.00\" stroke-linecap=\"butt\" stroke-linejoin=\"miter\">\n\t<g stroke=\"none\" shape-rendering=\"crispEdges\">\n\t\t<polygon fill=\"rgb(255,  32,   0)\" points=\"81.05,211.36 81.05,215.28 86.85,214.87 92.65,214.33 98.46,213.52 104.26,212.29 107.62,211.36 110.06,210.99 115.86,209.94 121.66,208.85 127.46,207.57 133.27,206.18 135.71,205.56 135.56,199.75 133.27,199.18 127.46,197.75 121.66,196.48 115.86,195.33 110.06,194.33 107.64,193.95 104.26,193.00 98.46,191.81 92.65,191.01 86.85,190.47 81.05,190.11 81.05,193.95 81.05,199.75 81.05,205.56 \"/>\n\t</g>\n\t<path stroke=\"rgb(255,  32,   0)\" d=\"M81.05,211.36 L81.05,215.28 L86.85,214.87 L92.65,214.33 L98.46,213.52 L104.26,212.29 L107.62,211.36 L110.06,210.99   L115.86,209.94 L121.66,208.85 L127.46,207.57 L133.27,206.18 L135.71,205.56 L135.56,199.75 L133.27,199.18 L127.46,197.75   L121.66,196.48 L115.86,195.33 L110.06,194.33 L107.64,193.95 L104.26,193.00 L98.46,191.81 L92.65,191.01 L86.85,190.47   L81.05,190.11 L81.05,193.95 L81.05,199.75 L81.05,205.56  \"/></g>\n\t</g>\n\t<g id=\"gnuplot_plot_58a\"><title>gnuplot_plot_58a</title>\n<g fill=\"none\" color=\"white\" stroke=\"rgb(255,  32,   0)\" stroke-width=\"0.50\" stroke-linecap=\"butt\" stroke-linejoin=\"miter\">\n</g>\n<g fill=\"none\" color=\"black\" stroke=\"currentColor\" stroke-width=\"0.50\" stroke-linecap=\"butt\" stroke-linejoin=\"miter\">\n\t<path stroke=\"rgb(  0,   0,   0)\" d=\"M81.05,211.36 L81.05,215.28 L86.85,214.87 L92.65,214.33 L98.46,213.52 L104.26,212.29 L107.62,211.36 L110.06,210.99   L115.86,209.94 L121.66,208.85 L127.46,207.57 L133.27,206.18 L135.71,205.56 L135.56,199.75 L133.27,199.18 L127.46,197.75   L121.66,196.48 L115.86,195.33 L110.06,194.33 L107.64,193.95 L104.26,193.00 L98.46,191.81 L92.65,191.01 L86.85,190.47   L81.05,190.11 L81.05,193.95 L81.05,199.75 L81.05,205.56 L81.05,211.36  \"/></g>\n\t</g>\n\t<g id=\"gnuplot_plot_59a\"><title>gnuplot_plot_59a</title>\n<g fill=\"none\" color=\"white\" stroke=\"rgb(  0,   0,   0)\" stroke-width=\"1.00\" stroke-linecap=\"butt\" stroke-linejoin=\"miter\">\n</g>\n<g fill=\"none\" color=\"black\" stroke=\"currentColor\" stroke-width=\"1.00\" stroke-linecap=\"butt\" stroke-linejoin=\"miter\">\n\t<g stroke=\"none\" shape-rendering=\"crispEdges\">\n\t\t<polygon fill=\"rgb(255,  64,   0)\" points=\"181.55,205.56 185.48,208.73 191.28,208.68 197.08,208.33 202.88,207.70 208.69,206.84 214.49,205.85 216.22,205.56 215.59,199.75 214.49,198.23 209.98,193.95 208.69,192.97 202.88,189.85 197.99,188.15 197.08,187.58 191.28,182.93 190.80,182.35 187.78,176.55 185.48,170.92 185.12,176.55 184.73,182.35 184.23,188.15 183.61,193.95 181.55,199.75 \"/>\n\t</g>\n\t<path stroke=\"rgb(255,  64,   0)\" d=\"M181.55,205.56 L185.48,208.73 L191.28,208.68 L197.08,208.33 L202.88,207.70 L208.69,206.84 L214.49,205.85 L216.22,205.56   L215.59,199.75 L214.49,198.23 L209.98,193.95 L208.69,192.97 L202.88,189.85 L197.99,188.15 L197.08,187.58 L191.28,182.93   L190.80,182.35 L187.78,176.55 L185.48,170.92 L185.12,176.55 L184.73,182.35 L184.23,188.15 L183.61,193.95 L181.55,199.75    \"/></g>\n\t</g>\n\t<g id=\"gnuplot_plot_60a\"><title>gnuplot_plot_60a</title>\n<g fill=\"none\" color=\"white\" stroke=\"rgb(255,  64,   0)\" stroke-width=\"0.50\" stroke-linecap=\"butt\" stroke-linejoin=\"miter\">\n</g>\n<g fill=\"none\" color=\"black\" stroke=\"currentColor\" stroke-width=\"0.50\" stroke-linecap=\"butt\" stroke-linejoin=\"miter\">\n\t<path stroke=\"rgb(  0,   0,   0)\" d=\"M181.55,205.56 L185.48,208.73 L191.28,208.68 L197.08,208.33 L202.88,207.70 L208.69,206.84 L214.49,205.85 L216.22,205.56   L215.59,199.75 L214.49,198.23 L209.98,193.95 L208.69,192.97 L202.88,189.85 L197.99,188.15 L197.08,187.58 L191.28,182.93   L190.80,182.35 L187.78,176.55 L185.48,170.92 L185.12,176.55 L184.73,182.35 L184.23,188.15 L183.61,193.95 L181.55,199.75   L181.55,205.56  \"/></g>\n\t</g>\n\t<g id=\"gnuplot_plot_61a\"><title>gnuplot_plot_61a</title>\n<g fill=\"none\" color=\"white\" stroke=\"rgb(  0,   0,   0)\" stroke-width=\"1.00\" stroke-linecap=\"butt\" stroke-linejoin=\"miter\">\n</g>\n<g fill=\"none\" color=\"black\" stroke=\"currentColor\" stroke-width=\"1.00\" stroke-linecap=\"butt\" stroke-linejoin=\"miter\">\n\t<g stroke=\"none\" shape-rendering=\"crispEdges\">\n\t\t<polygon fill=\"rgb(255,   0,   0)\" points=\"81.05,211.36 81.05,211.83 86.48,211.36 86.85,211.34 92.65,211.08 98.46,210.54 104.26,209.75 110.06,208.78 115.86,207.64 121.66,206.41 125.35,205.56 125.34,199.75 121.66,198.89 115.86,197.63 110.06,196.53 104.26,195.55 98.46,194.76 92.65,194.24 86.85,193.98 86.18,193.95 81.05,193.51 81.05,193.95 81.05,199.75 81.05,205.56 \"/>\n\t</g>\n\t<path stroke=\"rgb(255,   0,   0)\" d=\"M81.05,211.36 L81.05,211.83 L86.48,211.36 L86.85,211.34 L92.65,211.08 L98.46,210.54 L104.26,209.75 L110.06,208.78   L115.86,207.64 L121.66,206.41 L125.35,205.56 L125.34,199.75 L121.66,198.89 L115.86,197.63 L110.06,196.53 L104.26,195.55   L98.46,194.76 L92.65,194.24 L86.85,193.98 L86.18,193.95 L81.05,193.51 L81.05,193.95 L81.05,199.75 L81.05,205.56    \"/></g>\n\t</g>\n\t<g id=\"gnuplot_plot_62a\"><title>gnuplot_plot_62a</title>\n<g fill=\"none\" color=\"white\" stroke=\"rgb(255,   0,   0)\" stroke-width=\"0.50\" stroke-linecap=\"butt\" stroke-linejoin=\"miter\">\n</g>\n<g fill=\"none\" color=\"black\" stroke=\"currentColor\" stroke-width=\"0.50\" stroke-linecap=\"butt\" stroke-linejoin=\"miter\">\n\t<path stroke=\"rgb(  0,   0,   0)\" d=\"M81.05,211.36 L81.05,211.83 L86.48,211.36 L86.85,211.34 L92.65,211.08 L98.46,210.54 L104.26,209.75 L110.06,208.78   L115.86,207.64 L121.66,206.41 L125.35,205.56 L125.34,199.75 L121.66,198.89 L115.86,197.63 L110.06,196.53 L104.26,195.55   L98.46,194.76 L92.65,194.24 L86.85,193.98 L86.18,193.95 L81.05,193.51 L81.05,193.95 L81.05,199.75 L81.05,205.56   L81.05,211.36  \"/></g>\n\t</g>\n\t<g id=\"gnuplot_plot_63a\"><title>gnuplot_plot_63a</title>\n<g fill=\"none\" color=\"white\" stroke=\"rgb(  0,   0,   0)\" stroke-width=\"1.00\" stroke-linecap=\"butt\" stroke-linejoin=\"miter\">\n</g>\n<g fill=\"none\" color=\"black\" stroke=\"currentColor\" stroke-width=\"1.00\" stroke-linecap=\"butt\" stroke-linejoin=\"miter\">\n\t<g stroke=\"none\" shape-rendering=\"crispEdges\">\n\t\t<polygon fill=\"rgb(255,  32,   0)\" points=\"182.13,205.56 185.48,208.26 191.28,208.24 197.08,207.85 202.88,207.17 208.69,206.25 212.64,205.56 212.17,199.75 208.69,196.37 203.77,193.95 202.88,193.46 197.08,191.46 191.28,189.78 188.81,188.15 185.48,183.94 185.10,188.15 184.46,193.95 182.13,199.75 \"/>\n\t</g>\n\t<path stroke=\"rgb(255,  32,   0)\" d=\"M182.13,205.56 L185.48,208.26 L191.28,208.24 L197.08,207.85 L202.88,207.17 L208.69,206.25 L212.64,205.56 L212.17,199.75   L208.69,196.37 L203.77,193.95 L202.88,193.46 L197.08,191.46 L191.28,189.78 L188.81,188.15 L185.48,183.94 L185.10,188.15   L184.46,193.95 L182.13,199.75  \"/></g>\n\t</g>\n\t<g id=\"gnuplot_plot_64a\"><title>gnuplot_plot_64a</title>\n<g fill=\"none\" color=\"white\" stroke=\"rgb(255,  32,   0)\" stroke-width=\"0.50\" stroke-linecap=\"butt\" stroke-linejoin=\"miter\">\n</g>\n<g fill=\"none\" color=\"black\" stroke=\"currentColor\" stroke-width=\"0.50\" stroke-linecap=\"butt\" stroke-linejoin=\"miter\">\n\t<path stroke=\"rgb(  0,   0,   0)\" d=\"M182.13,205.56 L185.48,208.26 L191.28,208.24 L197.08,207.85 L202.88,207.17 L208.69,206.25 L212.64,205.56 L212.17,199.75   L208.69,196.37 L203.77,193.95 L202.88,193.46 L197.08,191.46 L191.28,189.78 L188.81,188.15 L185.48,183.94 L185.10,188.15   L184.46,193.95 L182.13,199.75 L182.13,205.56  \"/></g>\n\t</g>\n\t<g id=\"gnuplot_plot_65a\"><title>gnuplot_plot_65a</title>\n<g fill=\"none\" color=\"white\" stroke=\"rgb(  0,   0,   0)\" stroke-width=\"1.00\" stroke-linecap=\"butt\" stroke-linejoin=\"miter\">\n</g>\n<g fill=\"none\" color=\"black\" stroke=\"currentColor\" stroke-width=\"1.00\" stroke-linecap=\"butt\" stroke-linejoin=\"miter\">\n\t<g stroke=\"none\" shape-rendering=\"crispEdges\">\n\t\t<polygon fill=\"rgb(223,   0,   0)\" points=\"81.05,205.56 81.05,209.86 86.85,209.62 92.65,209.24 98.46,208.57 104.26,207.66 110.06,206.57 114.83,205.56 115.06,199.75 110.06,198.73 104.26,197.65 98.46,196.74 92.65,196.07 86.85,195.69 81.05,195.46 81.05,199.75 \"/>\n\t</g>\n\t<path stroke=\"rgb(223,   0,   0)\" d=\"M81.05,205.56 L81.05,209.86 L86.85,209.62 L92.65,209.24 L98.46,208.57 L104.26,207.66 L110.06,206.57 L114.83,205.56   L115.06,199.75 L110.06,198.73 L104.26,197.65 L98.46,196.74 L92.65,196.07 L86.85,195.69 L81.05,195.46 L81.05,199.75    \"/></g>\n\t</g>\n\t<g id=\"gnuplot_plot_66a\"><title>gnuplot_plot_66a</title>\n<g fill=\"none\" color=\"white\" stroke=\"rgb(223,   0,   0)\" stroke-width=\"0.50\" stroke-linecap=\"butt\" stroke-linejoin=\"miter\">\n</g>\n<g fill=\"none\" color=\"black\" stroke=\"currentColor\" stroke-width=\"0.50\" stroke-linecap=\"butt\" stroke-linejoin=\"miter\">\n\t<path stroke=\"rgb(  0,   0,   0)\" d=\"M81.05,205.56 L81.05,209.86 L86.85,209.62 L92.65,209.24 L98.46,208.57 L104.26,207.66 L110.06,206.57 L114.83,205.56   L115.06,199.75 L110.06,198.73 L104.26,197.65 L98.46,196.74 L92.65,196.07 L86.85,195.69 L81.05,195.46 L81.05,199.75   L81.05,205.56  \"/></g>\n\t</g>\n\t<g id=\"gnuplot_plot_67a\"><title>gnuplot_plot_67a</title>\n<g fill=\"none\" color=\"white\" stroke=\"rgb(  0,   0,   0)\" stroke-width=\"1.00\" stroke-linecap=\"butt\" stroke-linejoin=\"miter\">\n</g>\n<g fill=\"none\" color=\"black\" stroke=\"currentColor\" stroke-width=\"1.00\" stroke-linecap=\"butt\" stroke-linejoin=\"miter\">\n\t<g stroke=\"none\" shape-rendering=\"crispEdges\">\n\t\t<polygon fill=\"rgb(255,   0,   0)\" points=\"182.71,205.56 185.48,207.79 191.28,207.79 197.08,207.36 202.88,206.64 208.69,205.66 209.27,205.56 208.91,199.75 208.69,199.54 202.88,195.75 197.08,194.40 191.28,194.14 188.64,193.95 185.48,192.41 185.31,193.95 182.71,199.75 \"/>\n\t</g>\n\t<path stroke=\"rgb(255,   0,   0)\" d=\"M182.71,205.56 L185.48,207.79 L191.28,207.79 L197.08,207.36 L202.88,206.64 L208.69,205.66 L209.27,205.56 L208.91,199.75   L208.69,199.54 L202.88,195.75 L197.08,194.40 L191.28,194.14 L188.64,193.95 L185.48,192.41 L185.31,193.95 L182.71,199.75    \"/></g>\n\t</g>\n\t<g id=\"gnuplot_plot_68a\"><title>gnuplot_plot_68a</title>\n<g fill=\"none\" color=\"white\" stroke=\"rgb(255,   0,   0)\" stroke-width=\"0.50\" stroke-linecap=\"butt\" stroke-linejoin=\"miter\">\n</g>\n<g fill=\"none\" color=\"black\" stroke=\"currentColor\" stroke-width=\"0.50\" stroke-linecap=\"butt\" stroke-linejoin=\"miter\">\n\t<path stroke=\"rgb(  0,   0,   0)\" d=\"M182.71,205.56 L185.48,207.79 L191.28,207.79 L197.08,207.36 L202.88,206.64 L208.69,205.66 L209.27,205.56 L208.91,199.75   L208.69,199.54 L202.88,195.75 L197.08,194.40 L191.28,194.14 L188.64,193.95 L185.48,192.41 L185.31,193.95 L182.71,199.75   L182.71,205.56  \"/></g>\n\t</g>\n\t<g id=\"gnuplot_plot_69a\"><title>gnuplot_plot_69a</title>\n<g fill=\"none\" color=\"white\" stroke=\"rgb(  0,   0,   0)\" stroke-width=\"1.00\" stroke-linecap=\"butt\" stroke-linejoin=\"miter\">\n</g>\n<g fill=\"none\" color=\"black\" stroke=\"currentColor\" stroke-width=\"1.00\" stroke-linecap=\"butt\" stroke-linejoin=\"miter\">\n\t<g stroke=\"none\" shape-rendering=\"crispEdges\">\n\t\t<polygon fill=\"rgb(223,   0,   0)\" points=\"183.29,205.56 185.48,207.32 191.28,207.34 197.08,206.88 202.88,206.10 206.09,205.56 205.78,199.75 202.88,197.83 197.08,195.85 191.28,195.27 185.48,194.96 183.29,199.75 \"/>\n\t</g>\n\t<path stroke=\"rgb(223,   0,   0)\" d=\"M183.29,205.56 L185.48,207.32 L191.28,207.34 L197.08,206.88 L202.88,206.10 L206.09,205.56 L205.78,199.75 L202.88,197.83   L197.08,195.85 L191.28,195.27 L185.48,194.96 L183.29,199.75  \"/></g>\n\t</g>\n\t<g id=\"gnuplot_plot_70a\"><title>gnuplot_plot_70a</title>\n<g fill=\"none\" color=\"white\" stroke=\"rgb(223,   0,   0)\" stroke-width=\"0.50\" stroke-linecap=\"butt\" stroke-linejoin=\"miter\">\n</g>\n<g fill=\"none\" color=\"black\" stroke=\"currentColor\" stroke-width=\"0.50\" stroke-linecap=\"butt\" stroke-linejoin=\"miter\">\n\t<path stroke=\"rgb(  0,   0,   0)\" d=\"M183.29,205.56 L185.48,207.32 L191.28,207.34 L197.08,206.88 L202.88,206.10 L206.09,205.56 L205.78,199.75 L202.88,197.83   L197.08,195.85 L191.28,195.27 L185.48,194.96 L183.29,199.75 L183.29,205.56  \"/></g>\n\t</g>\n\t<g id=\"gnuplot_plot_71a\"><title>gnuplot_plot_71a</title>\n<g fill=\"none\" color=\"white\" stroke=\"rgb(  0,   0,   0)\" stroke-width=\"1.00\" stroke-linecap=\"butt\" stroke-linejoin=\"miter\">\n</g>\n<g fill=\"none\" color=\"black\" stroke=\"currentColor\" stroke-width=\"1.00\" stroke-linecap=\"butt\" stroke-linejoin=\"miter\">\n\t<g stroke=\"none\" shape-rendering=\"crispEdges\">\n\t\t<polygon fill=\"rgb(191,   0,   0)\" points=\"81.05,205.56 81.05,208.13 86.85,207.91 92.65,207.39 98.46,206.59 104.26,205.56 104.30,205.56 104.30,199.75 104.26,199.75 98.46,198.72 92.65,197.91 86.85,197.41 81.05,197.19 81.05,199.75 \"/>\n\t</g>\n\t<path stroke=\"rgb(191,   0,   0)\" d=\"M81.05,205.56 L81.05,208.13 L86.85,207.91 L92.65,207.39 L98.46,206.59 L104.26,205.56 L104.30,205.56 L104.30,199.75   L104.26,199.75 L98.46,198.72 L92.65,197.91 L86.85,197.41 L81.05,197.19 L81.05,199.75  \"/></g>\n\t</g>\n\t<g id=\"gnuplot_plot_72a\"><title>gnuplot_plot_72a</title>\n<g fill=\"none\" color=\"white\" stroke=\"rgb(191,   0,   0)\" stroke-width=\"0.50\" stroke-linecap=\"butt\" stroke-linejoin=\"miter\">\n</g>\n<g fill=\"none\" color=\"black\" stroke=\"currentColor\" stroke-width=\"0.50\" stroke-linecap=\"butt\" stroke-linejoin=\"miter\">\n\t<path stroke=\"rgb(  0,   0,   0)\" d=\"M81.05,205.56 L81.05,208.13 L86.85,207.91 L92.65,207.39 L98.46,206.59 L104.26,205.56 L104.30,205.56 L104.30,199.75   L104.26,199.75 L98.46,198.72 L92.65,197.91 L86.85,197.41 L81.05,197.19 L81.05,199.75 L81.05,205.56  \"/></g>\n\t</g>\n\t<g id=\"gnuplot_plot_73a\"><title>gnuplot_plot_73a</title>\n<g fill=\"none\" color=\"white\" stroke=\"rgb(  0,   0,   0)\" stroke-width=\"1.00\" stroke-linecap=\"butt\" stroke-linejoin=\"miter\">\n</g>\n<g fill=\"none\" color=\"black\" stroke=\"currentColor\" stroke-width=\"1.00\" stroke-linecap=\"butt\" stroke-linejoin=\"miter\">\n\t<g stroke=\"none\" shape-rendering=\"crispEdges\">\n\t\t<polygon fill=\"rgb(191,   0,   0)\" points=\"183.87,205.56 185.48,206.85 191.28,206.90 197.08,206.40 202.88,205.57 202.96,205.56 202.88,204.04 202.64,199.75 197.08,197.31 191.28,196.40 185.48,196.23 183.87,199.75 \"/>\n\t</g>\n\t<path stroke=\"rgb(191,   0,   0)\" d=\"M183.87,205.56 L185.48,206.85 L191.28,206.90 L197.08,206.40 L202.88,205.57 L202.96,205.56 L202.88,204.04 L202.64,199.75   L197.08,197.31 L191.28,196.40 L185.48,196.23 L183.87,199.75  \"/></g>\n\t</g>\n\t<g id=\"gnuplot_plot_74a\"><title>gnuplot_plot_74a</title>\n<g fill=\"none\" color=\"white\" stroke=\"rgb(191,   0,   0)\" stroke-width=\"0.50\" stroke-linecap=\"butt\" stroke-linejoin=\"miter\">\n</g>\n<g fill=\"none\" color=\"black\" stroke=\"currentColor\" stroke-width=\"0.50\" stroke-linecap=\"butt\" stroke-linejoin=\"miter\">\n\t<path stroke=\"rgb(  0,   0,   0)\" d=\"M183.87,205.56 L185.48,206.85 L191.28,206.90 L197.08,206.40 L202.88,205.57 L202.96,205.56 L202.88,204.04 L202.64,199.75   L197.08,197.31 L191.28,196.40 L185.48,196.23 L183.87,199.75 L183.87,205.56  \"/></g>\n\t</g>\n\t<g id=\"gnuplot_plot_75a\"><title>gnuplot_plot_75a</title>\n<g fill=\"none\" color=\"white\" stroke=\"rgb(  0,   0,   0)\" stroke-width=\"1.00\" stroke-linecap=\"butt\" stroke-linejoin=\"miter\">\n</g>\n<g fill=\"none\" color=\"black\" stroke=\"currentColor\" stroke-width=\"1.00\" stroke-linecap=\"butt\" stroke-linejoin=\"miter\">\n\t<g stroke=\"none\" shape-rendering=\"crispEdges\">\n\t\t<polygon fill=\"rgb(159,   0,   0)\" points=\"184.45,205.56 185.48,206.39 191.28,206.45 197.08,205.91 199.59,205.56 199.35,199.75 197.08,198.76 191.28,197.53 185.48,197.50 184.45,199.75 \"/>\n\t</g>\n\t<path stroke=\"rgb(159,   0,   0)\" d=\"M184.45,205.56 L185.48,206.39 L191.28,206.45 L197.08,205.91 L199.59,205.56 L199.35,199.75 L197.08,198.76 L191.28,197.53   L185.48,197.50 L184.45,199.75  \"/></g>\n\t</g>\n\t<g id=\"gnuplot_plot_76a\"><title>gnuplot_plot_76a</title>\n<g fill=\"none\" color=\"white\" stroke=\"rgb(159,   0,   0)\" stroke-width=\"0.50\" stroke-linecap=\"butt\" stroke-linejoin=\"miter\">\n</g>\n<g fill=\"none\" color=\"black\" stroke=\"currentColor\" stroke-width=\"0.50\" stroke-linecap=\"butt\" stroke-linejoin=\"miter\">\n\t<path stroke=\"rgb(  0,   0,   0)\" d=\"M184.45,205.56 L185.48,206.39 L191.28,206.45 L197.08,205.91 L199.59,205.56 L199.35,199.75 L197.08,198.76 L191.28,197.53   L185.48,197.50 L184.45,199.75 L184.45,205.56  \"/></g>\n\t</g>\n\t<g id=\"gnuplot_plot_77a\"><title>gnuplot_plot_77a</title>\n<g fill=\"none\" color=\"white\" stroke=\"rgb(  0,   0,   0)\" stroke-width=\"1.00\" stroke-linecap=\"butt\" stroke-linejoin=\"miter\">\n</g>\n<g fill=\"none\" color=\"black\" stroke=\"currentColor\" stroke-width=\"1.00\" stroke-linecap=\"butt\" stroke-linejoin=\"miter\">\n\t<g stroke=\"none\" shape-rendering=\"crispEdges\">\n\t\t<polygon fill=\"rgb(159,   0,   0)\" points=\"81.05,205.56 81.05,206.40 86.85,206.19 92.61,205.56 92.65,202.86 92.70,199.75 92.65,199.75 86.85,199.12 81.05,198.92 81.05,199.75 \"/>\n\t</g>\n\t<path stroke=\"rgb(159,   0,   0)\" d=\"M81.05,205.56 L81.05,206.40 L86.85,206.19 L92.61,205.56 L92.65,202.86 L92.70,199.75 L92.65,199.75 L86.85,199.12   L81.05,198.92 L81.05,199.75  \"/></g>\n\t</g>\n\t<g id=\"gnuplot_plot_78a\"><title>gnuplot_plot_78a</title>\n<g fill=\"none\" color=\"white\" stroke=\"rgb(159,   0,   0)\" stroke-width=\"0.50\" stroke-linecap=\"butt\" stroke-linejoin=\"miter\">\n</g>\n<g fill=\"none\" color=\"black\" stroke=\"currentColor\" stroke-width=\"0.50\" stroke-linecap=\"butt\" stroke-linejoin=\"miter\">\n\t<path stroke=\"rgb(  0,   0,   0)\" d=\"M81.05,205.56 L81.05,206.40 L86.85,206.19 L92.61,205.56 L92.65,202.86 L92.70,199.75 L92.65,199.75 L86.85,199.12   L81.05,198.92 L81.05,199.75 L81.05,205.56  \"/></g>\n\t</g>\n\t<g id=\"gnuplot_plot_79a\"><title>gnuplot_plot_79a</title>\n<g fill=\"none\" color=\"white\" stroke=\"rgb(  0,   0,   0)\" stroke-width=\"1.00\" stroke-linecap=\"butt\" stroke-linejoin=\"miter\">\n</g>\n<g fill=\"none\" color=\"black\" stroke=\"currentColor\" stroke-width=\"1.00\" stroke-linecap=\"butt\" stroke-linejoin=\"miter\">\n\t<g stroke=\"none\" shape-rendering=\"crispEdges\">\n\t\t<polygon fill=\"rgb(128,   0,   0)\" points=\"185.03,205.56 185.48,205.92 191.28,206.00 195.89,205.56 195.67,199.75 191.28,198.66 185.48,198.77 185.03,199.75 \"/>\n\t</g>\n\t<path stroke=\"rgb(128,   0,   0)\" d=\"M185.03,205.56 L185.48,205.92 L191.28,206.00 L195.89,205.56 L195.67,199.75 L191.28,198.66 L185.48,198.77 L185.03,199.75    \"/></g>\n\t</g>\n\t<g id=\"gnuplot_plot_80a\"><title>gnuplot_plot_80a</title>\n<g fill=\"none\" color=\"white\" stroke=\"rgb(128,   0,   0)\" stroke-width=\"0.50\" stroke-linecap=\"butt\" stroke-linejoin=\"miter\">\n</g>\n<g fill=\"none\" color=\"black\" stroke=\"currentColor\" stroke-width=\"0.50\" stroke-linecap=\"butt\" stroke-linejoin=\"miter\">\n\t<path stroke=\"rgb(  0,   0,   0)\" d=\"M185.03,205.56 L185.48,205.92 L191.28,206.00 L195.89,205.56 L195.67,199.75 L191.28,198.66 L185.48,198.77 L185.03,199.75   L185.03,205.56  \"/></g>\n\t</g>\n<g fill=\"none\" color=\"white\" stroke=\"rgb(  0,   0,   0)\" stroke-width=\"1.00\" stroke-linecap=\"butt\" stroke-linejoin=\"miter\">\n</g>\n<g fill=\"none\" color=\"black\" stroke=\"currentColor\" stroke-width=\"1.00\" stroke-linecap=\"butt\" stroke-linejoin=\"miter\">\n\t<path stroke=\"rgb(  0,   0,   0)\" d=\"M75.25,321.59 L87.85,321.59 M417.54,321.59 L404.94,321.59  \"/>\t<g transform=\"translate(66.86,324.84)\" stroke=\"none\" fill=\"rgb(38,38,38)\" font-family=\"Arial\" font-size=\"10.00\" text-anchor=\"end\">\n\t\t<text><tspan font-family=\"Arial\">10</tspan></text>\n\t</g>\n</g>\n<g fill=\"none\" color=\"black\" stroke=\"currentColor\" stroke-width=\"1.00\" stroke-linecap=\"butt\" stroke-linejoin=\"miter\">\n\t<path stroke=\"rgb(  0,   0,   0)\" d=\"M75.25,263.57 L87.85,263.57 M417.54,263.57 L404.94,263.57  \"/>\t<g transform=\"translate(66.86,266.82)\" stroke=\"none\" fill=\"rgb(38,38,38)\" font-family=\"Arial\" font-size=\"10.00\" text-anchor=\"end\">\n\t\t<text><tspan font-family=\"Arial\">20</tspan></text>\n\t</g>\n</g>\n<g fill=\"none\" color=\"black\" stroke=\"currentColor\" stroke-width=\"1.00\" stroke-linecap=\"butt\" stroke-linejoin=\"miter\">\n\t<path stroke=\"rgb(  0,   0,   0)\" d=\"M75.25,205.56 L87.85,205.56 M417.54,205.56 L404.94,205.56  \"/>\t<g transform=\"translate(66.86,208.81)\" stroke=\"none\" fill=\"rgb(38,38,38)\" font-family=\"Arial\" font-size=\"10.00\" text-anchor=\"end\">\n\t\t<text><tspan font-family=\"Arial\">30</tspan></text>\n\t</g>\n</g>\n<g fill=\"none\" color=\"black\" stroke=\"currentColor\" stroke-width=\"1.00\" stroke-linecap=\"butt\" stroke-linejoin=\"miter\">\n\t<path stroke=\"rgb(  0,   0,   0)\" d=\"M75.25,147.54 L87.85,147.54 M417.54,147.54 L404.94,147.54  \"/>\t<g transform=\"translate(66.86,150.79)\" stroke=\"none\" fill=\"rgb(38,38,38)\" font-family=\"Arial\" font-size=\"10.00\" text-anchor=\"end\">\n\t\t<text><tspan font-family=\"Arial\">40</tspan></text>\n\t</g>\n</g>\n<g fill=\"none\" color=\"black\" stroke=\"currentColor\" stroke-width=\"1.00\" stroke-linecap=\"butt\" stroke-linejoin=\"miter\">\n\t<path stroke=\"rgb(  0,   0,   0)\" d=\"M75.25,89.53 L87.85,89.53 M417.54,89.53 L404.94,89.53  \"/>\t<g transform=\"translate(66.86,92.78)\" stroke=\"none\" fill=\"rgb(38,38,38)\" font-family=\"Arial\" font-size=\"10.00\" text-anchor=\"end\">\n\t\t<text><tspan font-family=\"Arial\">50</tspan></text>\n\t</g>\n</g>\n<g fill=\"none\" color=\"black\" stroke=\"currentColor\" stroke-width=\"1.00\" stroke-linecap=\"butt\" stroke-linejoin=\"miter\">\n\t<path stroke=\"rgb(  0,   0,   0)\" d=\"M75.25,31.51 L87.85,31.51 M417.54,31.51 L404.94,31.51  \"/>\t<g transform=\"translate(66.86,34.76)\" stroke=\"none\" fill=\"rgb(38,38,38)\" font-family=\"Arial\" font-size=\"10.00\" text-anchor=\"end\">\n\t\t<text><tspan font-family=\"Arial\">60</tspan></text>\n\t</g>\n</g>\n<g fill=\"none\" color=\"black\" stroke=\"currentColor\" stroke-width=\"1.00\" stroke-linecap=\"butt\" stroke-linejoin=\"miter\">\n\t<path stroke=\"rgb(  0,   0,   0)\" d=\"M127.46,373.80 L127.46,361.20 M127.46,31.51 L127.46,44.11  \"/>\t<g transform=\"translate(127.46,395.05)\" stroke=\"none\" fill=\"rgb(38,38,38)\" font-family=\"Arial\" font-size=\"10.00\" text-anchor=\"middle\">\n\t\t<text><tspan font-family=\"Arial\">10</tspan></text>\n\t</g>\n</g>\n<g fill=\"none\" color=\"black\" stroke=\"currentColor\" stroke-width=\"1.00\" stroke-linecap=\"butt\" stroke-linejoin=\"miter\">\n\t<path stroke=\"rgb(  0,   0,   0)\" d=\"M185.48,373.80 L185.48,361.20 M185.48,31.51 L185.48,44.11  \"/>\t<g transform=\"translate(185.48,395.05)\" stroke=\"none\" fill=\"rgb(38,38,38)\" font-family=\"Arial\" font-size=\"10.00\" text-anchor=\"middle\">\n\t\t<text><tspan font-family=\"Arial\">20</tspan></text>\n\t</g>\n</g>\n<g fill=\"none\" color=\"black\" stroke=\"currentColor\" stroke-width=\"1.00\" stroke-linecap=\"butt\" stroke-linejoin=\"miter\">\n\t<path stroke=\"rgb(  0,   0,   0)\" d=\"M243.49,373.80 L243.49,361.20 M243.49,31.51 L243.49,44.11  \"/>\t<g transform=\"translate(243.49,395.05)\" stroke=\"none\" fill=\"rgb(38,38,38)\" font-family=\"Arial\" font-size=\"10.00\" text-anchor=\"middle\">\n\t\t<text><tspan font-family=\"Arial\">30</tspan></text>\n\t</g>\n</g>\n<g fill=\"none\" color=\"black\" stroke=\"currentColor\" stroke-width=\"1.00\" stroke-linecap=\"butt\" stroke-linejoin=\"miter\">\n\t<path stroke=\"rgb(  0,   0,   0)\" d=\"M301.51,373.80 L301.51,361.20 M301.51,31.51 L301.51,44.11  \"/>\t<g transform=\"translate(301.51,395.05)\" stroke=\"none\" fill=\"rgb(38,38,38)\" font-family=\"Arial\" font-size=\"10.00\" text-anchor=\"middle\">\n\t\t<text><tspan font-family=\"Arial\">40</tspan></text>\n\t</g>\n</g>\n<g fill=\"none\" color=\"black\" stroke=\"currentColor\" stroke-width=\"1.00\" stroke-linecap=\"butt\" stroke-linejoin=\"miter\">\n\t<path stroke=\"rgb(  0,   0,   0)\" d=\"M359.52,373.80 L359.52,361.20 M359.52,31.51 L359.52,44.11  \"/>\t<g transform=\"translate(359.52,395.05)\" stroke=\"none\" fill=\"rgb(38,38,38)\" font-family=\"Arial\" font-size=\"10.00\" text-anchor=\"middle\">\n\t\t<text><tspan font-family=\"Arial\">50</tspan></text>\n\t</g>\n</g>\n<g fill=\"none\" color=\"black\" stroke=\"currentColor\" stroke-width=\"1.00\" stroke-linecap=\"butt\" stroke-linejoin=\"miter\">\n\t<path stroke=\"rgb(  0,   0,   0)\" d=\"M417.54,373.80 L417.54,361.20 M417.54,31.51 L417.54,44.11  \"/>\t<g transform=\"translate(417.54,395.05)\" stroke=\"none\" fill=\"rgb(38,38,38)\" font-family=\"Arial\" font-size=\"10.00\" text-anchor=\"middle\">\n\t\t<text><tspan font-family=\"Arial\">60</tspan></text>\n\t</g>\n</g>\n<g fill=\"none\" color=\"black\" stroke=\"currentColor\" stroke-width=\"1.00\" stroke-linecap=\"butt\" stroke-linejoin=\"miter\">\n</g>\n<g fill=\"none\" color=\"black\" stroke=\"rgb(  0,   0,   0)\" stroke-width=\"2.00\" stroke-linecap=\"butt\" stroke-linejoin=\"miter\">\n</g>\n<g fill=\"none\" color=\"black\" stroke=\"currentColor\" stroke-width=\"2.00\" stroke-linecap=\"butt\" stroke-linejoin=\"miter\">\n</g>\n<g fill=\"none\" color=\"black\" stroke=\"black\" stroke-width=\"0.50\" stroke-linecap=\"butt\" stroke-linejoin=\"miter\">\n\t<path stroke=\"rgb( 38,  38,  38)\" d=\"M75.26,373.79 L417.55,373.79 M75.26,31.50 L417.55,31.50 M75.26,373.79 L75.26,31.50 M417.55,373.79 L417.55,31.50    \"/></g>\n<g fill=\"none\" color=\"black\" stroke=\"rgb( 38,  38,  38)\" stroke-width=\"1.00\" stroke-linecap=\"butt\" stroke-linejoin=\"miter\">\n</g>\n<g fill=\"none\" color=\"black\" stroke=\"currentColor\" stroke-width=\"1.00\" stroke-linecap=\"butt\" stroke-linejoin=\"miter\">\n</g>\n<g fill=\"none\" color=\"black\" stroke=\"currentColor\" stroke-width=\"1.00\" stroke-linecap=\"butt\" stroke-linejoin=\"miter\">\n</g>\n\t<g id=\"gnuplot_plot_1b\"><title>gnuplot_plot_1b</title>\n<g fill=\"none\" color=\"black\" stroke=\"currentColor\" stroke-width=\"1.00\" stroke-linecap=\"butt\" stroke-linejoin=\"miter\">\n<image x=\"460.95\" y=\"31.51\" width=\"26.03\" height=\"342.29\" preserveAspectRatio=\"none\" xlink:href=\"data:image/png;base64,iVBORw0KGgoAAAANSUhEUgAAAAIAAABACAIAAAC/RDEUAAAABmJLR0QA/wD/AP+gvaeTAAAAQklEQVQYlZ3NMQ7AIAwEwbFED0/Ok80LTIHSx6lGV6wuHjDmZX0l6i7rJ7MXRBWMtHrsd81WF6owpCa7GyQE90+2OJFoLGsTfKeSAAAAAElFTkSuQmCC\"/>\n</g>\n\t</g>\n<g fill=\"none\" color=\"black\" stroke=\"currentColor\" stroke-width=\"1.00\" stroke-linecap=\"butt\" stroke-linejoin=\"miter\">\n\t<path stroke=\"rgb(  0,   0,   0)\" d=\"M486.98,337.60 L474.38,337.60 M460.95,337.60 L473.55,337.60  \"/>\t<g transform=\"translate(495.37,340.85)\" stroke=\"none\" fill=\"rgb(38,38,38)\" font-family=\"Arial\" font-size=\"10.00\" text-anchor=\"start\">\n\t\t<text><tspan font-family=\"Arial\">0</tspan></text>\n\t</g>\n</g>\n<g fill=\"none\" color=\"black\" stroke=\"currentColor\" stroke-width=\"1.00\" stroke-linecap=\"butt\" stroke-linejoin=\"miter\">\n\t<path stroke=\"rgb(  0,   0,   0)\" d=\"M486.98,252.98 L474.38,252.98 M460.95,252.98 L473.55,252.98  \"/>\t<g transform=\"translate(495.37,256.23)\" stroke=\"none\" fill=\"rgb(38,38,38)\" font-family=\"Arial\" font-size=\"10.00\" text-anchor=\"start\">\n\t\t<text><tspan font-family=\"Arial\">1</tspan></text>\n\t</g>\n</g>\n<g fill=\"none\" color=\"black\" stroke=\"currentColor\" stroke-width=\"1.00\" stroke-linecap=\"butt\" stroke-linejoin=\"miter\">\n\t<path stroke=\"rgb(  0,   0,   0)\" d=\"M486.98,168.36 L474.38,168.36 M460.95,168.36 L473.55,168.36  \"/>\t<g transform=\"translate(495.37,171.61)\" stroke=\"none\" fill=\"rgb(38,38,38)\" font-family=\"Arial\" font-size=\"10.00\" text-anchor=\"start\">\n\t\t<text><tspan font-family=\"Arial\">2</tspan></text>\n\t</g>\n</g>\n<g fill=\"none\" color=\"black\" stroke=\"currentColor\" stroke-width=\"1.00\" stroke-linecap=\"butt\" stroke-linejoin=\"miter\">\n\t<path stroke=\"rgb(  0,   0,   0)\" d=\"M486.98,83.74 L474.38,83.74 M460.95,83.74 L473.55,83.74  \"/>\t<g transform=\"translate(495.37,86.99)\" stroke=\"none\" fill=\"rgb(38,38,38)\" font-family=\"Arial\" font-size=\"10.00\" text-anchor=\"start\">\n\t\t<text><tspan font-family=\"Arial\">3</tspan></text>\n\t</g>\n</g>\n<g fill=\"none\" color=\"black\" stroke=\"currentColor\" stroke-width=\"1.00\" stroke-linecap=\"butt\" stroke-linejoin=\"miter\">\n</g>\n<g fill=\"none\" color=\"black\" stroke=\"rgb(  0,   0,   0)\" stroke-width=\"2.00\" stroke-linecap=\"butt\" stroke-linejoin=\"miter\">\n</g>\n<g fill=\"none\" color=\"black\" stroke=\"currentColor\" stroke-width=\"2.00\" stroke-linecap=\"butt\" stroke-linejoin=\"miter\">\n</g>\n<g fill=\"none\" color=\"black\" stroke=\"black\" stroke-width=\"0.50\" stroke-linecap=\"butt\" stroke-linejoin=\"miter\">\n\t<path stroke=\"rgb( 38,  38,  38)\" d=\"M460.96,373.79 L486.99,373.79 M460.96,31.50 L486.99,31.50 M460.96,373.79 L460.96,31.50 M486.99,373.79 L486.99,31.50    \"/></g>\n<g fill=\"none\" color=\"black\" stroke=\"rgb( 38,  38,  38)\" stroke-width=\"1.00\" stroke-linecap=\"butt\" stroke-linejoin=\"miter\">\n</g>\n<g fill=\"none\" color=\"black\" stroke=\"currentColor\" stroke-width=\"1.00\" stroke-linecap=\"butt\" stroke-linejoin=\"miter\">\n</g>\n</g>\n</svg>"
          },
          "metadata": {}
        }
      ]
    }
  ]
}