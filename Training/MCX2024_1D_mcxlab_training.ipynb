{
  "nbformat": 4,
  "nbformat_minor": 0,
  "metadata": {
    "colab": {
      "provenance": [],
      "toc_visible": true,
      "gpuType": "T4",
      "authorship_tag": "ABX9TyMqZr/q73F2OwhFMQilEm+R",
      "include_colab_link": true
    },
    "kernelspec": {
      "name": "python3",
      "display_name": "Python 3"
    },
    "language_info": {
      "name": "python"
    },
    "accelerator": "GPU"
  },
  "cells": [
    {
      "cell_type": "markdown",
      "metadata": {
        "id": "view-in-github",
        "colab_type": "text"
      },
      "source": [
        "<a href=\"https://colab.research.google.com/github/COTILab/MCX24Workshop/blob/master/Training/MCX2024_1D_mcxlab_training.ipynb\" target=\"_parent\"><img src=\"https://colab.research.google.com/assets/colab-badge.svg\" alt=\"Open In Colab\"/></a>"
      ]
    },
    {
      "cell_type": "markdown",
      "source": [
        "![Workshop Logo](https://mcx.space/wiki/upload/mcx24_logo.png)\n",
        "# MCX Training Workshop 2024 - Day 1, Session 1D\n",
        "\n",
        "## Session 1D: MCXLAB Training\n"
      ],
      "metadata": {
        "id": "ptMYeU1cGzsE"
      }
    },
    {
      "cell_type": "markdown",
      "source": [
        "# <font color='orange'>Step 0: Setting up MCX and Octave environments within Google Colab</font>\n",
        "\n",
        "> **You must rerun all cells in Step 0 in appearance order when you start a new session, or after reconnect to a runtime**\n",
        "\n",
        "To run interactive Octave sessions inside a Google Colab Jupyter Notebook environment, we need to install the following dependencies\n",
        "- GNU Octave via `sudo apt-get install octave`\n",
        "- Oct2py Python module via `pip install oct2py`, and\n",
        "- enable Oct2py in Jupyter Notebook via \"magic command\" `%load_ext oct2py.ipython`\n",
        "\n",
        "<font color='green'>If you run this on Google Colab, please go to menu **Edit\\Notebook Settings\\Hardware accelerator**, and verify if it has already selected \"GPU\"; if not, please select the T4 GPU.</font>\n",
        "\n",
        "**Please note**: MCX/MCXLAB is GPU-accelerated. This notebook by default requests an NVIDIA GPU. Howevever, when you click on the run-button for the below section, your browser may fail to allocate a GPU runtime and ask you if you want to continue with a non-GPU runtime. If you choose to proceed without GPU support, you will have to run the [section immediately following the next section](#mcx_setup_opencl) to install OpenCL-based MCXLAB (called mcxlabcl) and utilize the CPU to run the rest of the tutorials. The OpenCL version of MCXLAB will work for all examples, but will be substentially slower to run (this tutorial also reduces the photon numbers accordingly to lower the runtime)."
      ],
      "metadata": {
        "id": "2S9sY9AlHwdm"
      }
    },
    {
      "cell_type": "code",
      "execution_count": null,
      "metadata": {
        "id": "8QsyOOBgAxfA"
      },
      "outputs": [],
      "source": [
        "#@title <font color='orange'>Init 1: Initial setup of environment for running MCXLAB (run the below section once)</font>\n",
        "\n",
        "# install octave and oct2py\n",
        "! apt-get update && apt-get install octave jq libpocl2 pocl-opencl-icd libnvidia-compute-535   # install octave (a free matlab clone), jq and OpenCL runtimes\n",
        "! python3 -m pip install oct2py jdata bjdata matplotlib   # install oct2py, jdata, bjdata and matplotlib Python modules\n",
        "\n",
        "# add octave support to colab notebook\n",
        "%load_ext oct2py.ipython\n",
        "\n",
        "# download and unzip MCXStudio\n",
        "! rm -rf MCXStudio*\n",
        "! curl https://mcx.space/nightly/release/MCX24/MCXStudio-linux-x86_64-nightlybuild.zip -O MCXStudio-linux-x86_64-nightlybuild.zip # download MCX suite\n",
        "! unzip -o MCXStudio-linux-x86_64-nightlybuild.zip && rm -rf MCXStudio-linux-x86_64-nightlybuild.zip # unzip MCX suite\n",
        "\n",
        "# add executable to the shell's paths\n",
        "! cp -a \"$PWD/MCXStudio/MCXSuite/mcx/bin/mcx*\" \"$PWD\"\n",
        "! cp -a \"$PWD/MCXStudio/MCXSuite/mcxcl/bin/mcxcl*\" \"$PWD\"\n",
        "! cp -a \"$PWD/MCXStudio/MCXSuite/mmc/bin/mmc*\" \"$PWD\"\n",
        "! cp -a \"$PWD/MCXStudio/MATLAB/zmat/octave/gnu-linux-x86_64/zipmat.mex\" \"$PWD/MCXStudio/MATLAB/zmat/\"\n",
        "\n",
        "# if a GPU runtime can not be allocated, run this section to setup OpenCL and MCXLAB-CL\n",
        "! [[ ! -f `which nvidia-smi` ]] && mv \"$PWD/mcxcl\" \"$PWD/mcx\"\n",
        "! mcx -L"
      ]
    },
    {
      "cell_type": "markdown",
      "source": [
        "### <font color='orange'>Init 2: Only need to run this once at the beginning</font>"
      ],
      "metadata": {
        "id": "3FuiSDH_w6Dh"
      }
    },
    {
      "cell_type": "code",
      "source": [
        "%%octave\n",
        "addpath([pwd filesep 'MCXStudio/MATLAB/mcxlab']);                 % add path to mcxlab\n",
        "addpath([pwd filesep 'MCXStudio/MCXSuite/mcx' filesep 'utils']);  % add path to mcx helper functions\n",
        "addpath([pwd filesep 'MCXStudio/MATLAB/mmclab']);                 % add path to mmclab\n",
        "addpath([pwd filesep 'MCXStudio/MCXSuite/mmc' filesep 'matlab']); % add path to mmc helper functions\n",
        "addpath([pwd filesep 'MCXStudio/MATLAB/iso2mesh']);               % add path to iso2mesh/jsonlab\n",
        "addpath([pwd filesep 'MCXStudio/MATLAB/brain2mesh']);             % add path to brain2mesh\n",
        "addpath([pwd filesep 'MCXStudio/MATLAB/zmat']);                   % add path to zmat for data compression\n",
        "addpath([pwd filesep 'MCXStudio/MATLAB/redbird-m/matlab']);              % add path to brain2mesh\n",
        "addpath([pwd filesep 'MCXStudio/MATLAB/hyperspectral_demo']);     % add path to hyperspectral_demo for exec 4\n",
        "\n",
        "struct_levels_to_print(0);\n",
        "print_struct_array_contents(0);\n",
        "\n",
        "if(system('which nvidia-smi'))                   % if this runtime does not have NVIDIA GPU support\n",
        "    addpath([pwd filesep 'MCXStudio/MATLAB/mcxlabcl']);    % add path to mcxlabcl\n",
        "    USE_MCXCL=1;                                 % set USE_MCXCL flag in the base workspace\n",
        "end"
      ],
      "metadata": {
        "id": "IWg8T2-5SwT4",
        "colab": {
          "base_uri": "https://localhost:8080/",
          "height": 35
        },
        "outputId": "b769df63-4345-4d0d-f37c-44282327ee72"
      },
      "execution_count": 18,
      "outputs": [
        {
          "output_type": "display_data",
          "data": {
            "text/plain": [
              "/opt/bin/nvidia-smi"
            ]
          },
          "metadata": {}
        }
      ]
    },
    {
      "cell_type": "markdown",
      "source": [
        "### <font color='orange'>Init 3: Verify your environments</font>\n",
        "\n",
        "---"
      ],
      "metadata": {
        "id": "oPiJ3kcF4MK2"
      }
    },
    {
      "cell_type": "code",
      "source": [
        "%%octave\n",
        "\n",
        "which mcx\n",
        "which s2m\n",
        "which zipmat\n",
        "\n",
        "mcxlab('gpuinfo')     % use this command to list supported CPU or GPU in octave\n",
        "unix('./mcx -L')        % use -L flag to list GPU in the command line"
      ],
      "metadata": {
        "id": "LnrnJOcJsQzW",
        "colab": {
          "base_uri": "https://localhost:8080/",
          "height": 641
        },
        "outputId": "9e8e8025-962e-42e3-de34-8e9b10c7a155"
      },
      "execution_count": 3,
      "outputs": [
        {
          "output_type": "display_data",
          "data": {
            "text/plain": [
              "'mcx' is a function from the file /content/MCXStudio/MATLAB/mcxlab/mcx.mex"
            ]
          },
          "metadata": {}
        },
        {
          "output_type": "display_data",
          "data": {
            "text/plain": [
              "'s2m' is a function from the file /content/MCXStudio/MATLAB/iso2mesh/s2m.m"
            ]
          },
          "metadata": {}
        },
        {
          "output_type": "display_data",
          "data": {
            "text/plain": [
              "'zipmat' is a function from the file /content/MCXStudio/MATLAB/zmat/zipmat.mex"
            ]
          },
          "metadata": {}
        },
        {
          "output_type": "display_data",
          "data": {
            "text/plain": [
              "=============================   GPU Information  ================================"
            ]
          },
          "metadata": {}
        },
        {
          "output_type": "display_data",
          "data": {
            "text/plain": [
              "Device 1 of 1:\t\tTesla T4"
            ]
          },
          "metadata": {}
        },
        {
          "output_type": "display_data",
          "data": {
            "text/plain": [
              "Compute Capability:\t7.5"
            ]
          },
          "metadata": {}
        },
        {
          "output_type": "display_data",
          "data": {
            "text/plain": [
              "Global Memory:\t\t15835660288 B"
            ]
          },
          "metadata": {}
        },
        {
          "output_type": "display_data",
          "data": {
            "text/plain": [
              "Constant Memory:\t65536 B"
            ]
          },
          "metadata": {}
        },
        {
          "output_type": "display_data",
          "data": {
            "text/plain": [
              "Shared Memory:\t\t49152 B"
            ]
          },
          "metadata": {}
        },
        {
          "output_type": "display_data",
          "data": {
            "text/plain": [
              "Registers:\t\t65536"
            ]
          },
          "metadata": {}
        },
        {
          "output_type": "display_data",
          "data": {
            "text/plain": [
              "Clock Speed:\t\t1.59 GHz"
            ]
          },
          "metadata": {}
        },
        {
          "output_type": "display_data",
          "data": {
            "text/plain": [
              "Number of SMs:\t\t40"
            ]
          },
          "metadata": {}
        },
        {
          "output_type": "display_data",
          "data": {
            "text/plain": [
              "Number of Cores:\t2560"
            ]
          },
          "metadata": {}
        },
        {
          "output_type": "display_data",
          "data": {
            "text/plain": [
              "Auto-thread:\t\t81920"
            ]
          },
          "metadata": {}
        },
        {
          "output_type": "display_data",
          "data": {
            "text/plain": [
              "Auto-block:\t\t64"
            ]
          },
          "metadata": {}
        },
        {
          "output_type": "display_data",
          "data": {
            "text/plain": [
              "ans ="
            ]
          },
          "metadata": {}
        },
        {
          "output_type": "display_data",
          "data": {
            "text/plain": []
          },
          "metadata": {}
        },
        {
          "output_type": "display_data",
          "data": {
            "text/plain": [
              "  scalar structure containing the fields:"
            ]
          },
          "metadata": {}
        },
        {
          "output_type": "display_data",
          "data": {
            "text/plain": []
          },
          "metadata": {}
        },
        {
          "output_type": "display_data",
          "data": {
            "text/plain": [
              "    name: 1x8 sq_string"
            ]
          },
          "metadata": {}
        },
        {
          "output_type": "display_data",
          "data": {
            "text/plain": [
              "    id: 1x1 scalar"
            ]
          },
          "metadata": {}
        },
        {
          "output_type": "display_data",
          "data": {
            "text/plain": [
              "    devcount: 1x1 scalar"
            ]
          },
          "metadata": {}
        },
        {
          "output_type": "display_data",
          "data": {
            "text/plain": [
              "    major: 1x1 scalar"
            ]
          },
          "metadata": {}
        },
        {
          "output_type": "display_data",
          "data": {
            "text/plain": [
              "    minor: 1x1 scalar"
            ]
          },
          "metadata": {}
        },
        {
          "output_type": "display_data",
          "data": {
            "text/plain": [
              "    globalmem: 1x1 scalar"
            ]
          },
          "metadata": {}
        },
        {
          "output_type": "display_data",
          "data": {
            "text/plain": [
              "    constmem: 1x1 scalar"
            ]
          },
          "metadata": {}
        },
        {
          "output_type": "display_data",
          "data": {
            "text/plain": [
              "    sharedmem: 1x1 scalar"
            ]
          },
          "metadata": {}
        },
        {
          "output_type": "display_data",
          "data": {
            "text/plain": [
              "    regcount: 1x1 scalar"
            ]
          },
          "metadata": {}
        },
        {
          "output_type": "display_data",
          "data": {
            "text/plain": [
              "    clock: 1x1 scalar"
            ]
          },
          "metadata": {}
        },
        {
          "output_type": "display_data",
          "data": {
            "text/plain": [
              "    sm: 1x1 scalar"
            ]
          },
          "metadata": {}
        },
        {
          "output_type": "display_data",
          "data": {
            "text/plain": [
              "    core: 1x1 scalar"
            ]
          },
          "metadata": {}
        },
        {
          "output_type": "display_data",
          "data": {
            "text/plain": [
              "    autoblock: 1x1 scalar"
            ]
          },
          "metadata": {}
        },
        {
          "output_type": "display_data",
          "data": {
            "text/plain": [
              "    autothread: 1x1 scalar"
            ]
          },
          "metadata": {}
        },
        {
          "output_type": "display_data",
          "data": {
            "text/plain": [
              "    maxgate: 1x1 scalar"
            ]
          },
          "metadata": {}
        },
        {
          "output_type": "display_data",
          "data": {
            "text/plain": []
          },
          "metadata": {}
        },
        {
          "output_type": "display_data",
          "data": {
            "text/plain": [
              "sh: 1: ./mcx: not found"
            ]
          },
          "metadata": {}
        },
        {
          "output_type": "display_data",
          "data": {
            "text/plain": []
          },
          "metadata": {}
        },
        {
          "output_type": "display_data",
          "data": {
            "text/plain": [
              "ans = 127"
            ]
          },
          "metadata": {}
        }
      ]
    },
    {
      "cell_type": "markdown",
      "source": [
        "# MCXLAB Primer\n",
        "\n",
        "MCXLAB is the **MATLAB/Octave wrapper/bindings** to the MCX GPU-based photon simulation codes.\n",
        "\n",
        "The mex file, `mcx.mex` (or `mcx.mexa64` etc) is basically a dynamic library similar to a .DLL file on Windows (or .so in Linux, or .dylib in MacOS), and is compiled using the identical CUDA/C-code as used to build the command line based MCX. As a result, the simulation is performed nearly identically. Aside from the MATLAB/Octave binding, we also provide the Python binding in the form of a binary Python module called `pmcx`. The idea is the same as MCXLAB, but an dynamic library interface that can be called in Python."
      ],
      "metadata": {
        "id": "fsD8lCZy6gUk"
      }
    },
    {
      "cell_type": "markdown",
      "source": [
        "The major difference between mcx executable, MCXLAB, and pmcx is the user input/output handling.\n",
        "\n",
        "- User inputs:\n",
        "  - MCX JSON input file -> MATLAB `cfg` struct\n",
        "  - input volume file -> `cfg.vol`\n",
        "  - command line options -> `cfg.issavedet`, `cfg.isreflect`, `cfg.isnormalized` ...\n",
        "- Data outputs: `[flux, detp, vol, seeds, traj]=mcxlab(cfg)`\n",
        "  - volumetric output (`session.jnii`) -> `flux.data`: first output of mcxlab\n",
        "  - detected photon output (`session_detp.jdat`) -> `detp.{detid, ppath, ...}`: second output of mcxlab\n",
        "  - trajectory output (`session_traj.jdat`) -> `traj.{id,p,w0}`: 5h output of mcxlab\n",
        "\n",
        "Below is a diagram showing the file-based input/output of MCX in the binary mode\n",
        "\n",
        "![MCX command line IO](https://mcx.space/wiki/upload/mcxlab-mcx_io.svg)\n",
        "\n",
        "\n",
        "In comparison, here is the diagram showing the input/output of MCXLAB (both input and outputs are in-memory variables)\n",
        "\n",
        "![MCXLAB IO](https://mcx.space/wiki/upload/mcxlab-io.svg)\n",
        "\n",
        "The below diagram showing more details of the input/output data fields of the `mcxlab` wrapper function\n",
        "\n",
        "![MCXLAB input/output](https://mcx.space/wiki/upload/mcxlab-cfg.svg)\n",
        "\n",
        "A mapping table between JSON-input-file fields, command line flags, and cfg data fields for MCX/MCXCL and MMC can be found below (click on the image to see enlarged image)\n",
        "\n",
        "<a href=\"http://mcx.space/wiki/upload/mcx_flags_list.png\"><img src=\"http://mcx.space/wiki/upload/mcx_flags_list.png\" width=\"1600\"></a>\n"
      ],
      "metadata": {
        "id": "5Z_X2Apk6kxV"
      }
    },
    {
      "cell_type": "markdown",
      "source": [
        "## A starter example\n",
        "\n",
        "---\n",
        "\n"
      ],
      "metadata": {
        "id": "SPu7A3Mm4gBh"
      }
    },
    {
      "cell_type": "markdown",
      "source": [
        "The first thing to do is to list the usable GPU on your system. You should use `mcxlab('gpuinfo')`. If there is one or more GPU, you should see GPU information printed in the below cell.\n",
        "\n",
        "`mcxlab('gpuinfo')` returns all available GPU's detailed information as a struct array, shown as variable `gpus` below."
      ],
      "metadata": {
        "id": "WkSGdx7tCNqX"
      }
    },
    {
      "cell_type": "code",
      "source": [
        "%%octave\n",
        "\n",
        "gpus = mcxlab('gpuinfo')\n",
        "gpus.core"
      ],
      "metadata": {
        "id": "on8LAT8o4Dra"
      },
      "execution_count": null,
      "outputs": []
    },
    {
      "cell_type": "markdown",
      "source": [
        "Now you can run a simple simulation below"
      ],
      "metadata": {
        "id": "Y6zuqEAuDEaR"
      }
    },
    {
      "cell_type": "code",
      "source": [
        "%%octave\n",
        "clear cfg\n",
        "\n",
        "% make sure you terminate each statement by ';' so no excessive printing that could overwhelm the runtime\n",
        "\n",
        "%% the below fields are minimumally required to define an MCX simulation\n",
        "cfg.nphoton=1e6;                   % define how many photon packets to simulate\n",
        "\n",
        "%% define domain in the form of a labeled volume - each voxel is an integer denoting tissue type ID\n",
        "cfg.vol=uint8(ones(60,60,60));     % define a label-based volume - each voxel has a integer defining the medium type\n",
        "cfg.vol(20:40, 30:40, 20:30)=2;    % adding an inclusion by setting to a different label\n",
        "\n",
        "%% the optical properties of the i-th tissue type must be defined in the (i+1)-th row of cfg.prop\n",
        "cfg.prop=[0 0 1 1;                 % cfg.prop defines the optical properties, one medium per row; first row is for medium label 0 (background)\n",
        "          0.005 0.2 0 1.37;        % cfg.prop has 4 columns, in the order [mua(1/mm), mus(1/mm), g(anisotropy), n(ref index)]; 2nd row for medium type 1\n",
        "          0.1, 2, 0.9, 1];         % third row is for medium type 2, and so on\n",
        "\n",
        "%% a simulation must have source defined, default type is a pencil beam (cfg.srctype='pencil')\n",
        "cfg.issrcfrom0=1;                  % if this is not defined, cfg.srcpos and cfg.detpos will subtract 1 in x/y/z\n",
        "cfg.srcpos=[30 30 1];              % source position in voxel-units\n",
        "cfg.srcdir=[0 0 1];                % source direction (a unitary vector)\n",
        "cfg.detpos=[30,27,1,1];            % a detector that is 3 mm away from source with a radius 1 mm\n",
        "\n",
        "%% other key parameters\n",
        "cfg.tstart=0;                      % define the start time of the simulation (in s)\n",
        "cfg.tend=5e-9;                     % define the maximum duration of the photon packet (in s)\n",
        "cfg.tstep=1e-10;                   % this defines 50 time gates, (tend-tstart)/tstep; when tstep=tend, it defines a single time window, producing a CW solution\n",
        "\n",
        "%% cfg.gpuid specifies which GPU to use, default is the first GPU\n",
        "cfg.gpuid=1;                       % use the first GPU (default), can use strings of '01' masks to use multiple GPU, such as '0110'\n",
        "\n",
        "% reduce photon number on runtimes without a GPU (i.e. CPU only)\n",
        "if(exist('USE_MCXCL', 'var') && USE_MCXCL==1)  % if no GPU is found, run less photon on the CPU\n",
        "    cfg.nphoton=1e5;               % define how many photon packets to simulate\n",
        "end"
      ],
      "metadata": {
        "id": "0d6dXt38CMax"
      },
      "execution_count": 7,
      "outputs": []
    },
    {
      "cell_type": "markdown",
      "source": [
        "Run the above simulation by calling `mcxlab()`\n",
        "\n",
        "Running this section for the first time can be slightly slow as CUDA needs to initialize the GPU device. Running again should take less than a second."
      ],
      "metadata": {
        "id": "UnGbmQ4GIAdQ"
      }
    },
    {
      "cell_type": "code",
      "source": [
        "%%octave\n",
        "\n",
        "fluencerate=mcxlab(cfg);\n",
        "fieldnames(fluencerate)\n",
        "\n",
        "size(fluencerate.data)\n",
        "\n",
        "cwfluence=sum(fluencerate.data,4);\n",
        "\n",
        "imagesc(log10(squeeze(cwfluence(:,30,:))))\n",
        "colorbar\n",
        "axis equal"
      ],
      "metadata": {
        "id": "66jqqK8CDQyS"
      },
      "execution_count": null,
      "outputs": []
    },
    {
      "cell_type": "markdown",
      "source": [
        "## A starter+ example\n",
        "\n",
        "Let's go over the below updated cfg struct. A few additions were made compared to the earlier example\n",
        "\n",
        "- we enable the saving of diffuse reflectance (`cfg.issaveref=1`) along all 6 bounding box faces - to do this, we must pad a layer of zero-voxels around the volume\n",
        "- we disabled normalization in order to inspect energy conservation\n",
        "- we output raw energy deposition instead of fluence-rate"
      ],
      "metadata": {
        "id": "pXoZ10R4DKdD"
      }
    },
    {
      "cell_type": "code",
      "source": [
        "%%octave\n",
        "clear cfg\n",
        "\n",
        "% make sure you terminate each statement by ';' so no excessive printing that could overwhelm the runtime\n",
        "\n",
        "%% the below fields are minimumally required to define an MCX simulation\n",
        "cfg.nphoton=1e7;                   % define how many photon packets to simulate\n",
        "\n",
        "%% define domain in the form of a labeled volume - each voxel is an integer denoting tissue type ID\n",
        "cfg.vol=uint8(zeros(60,60,60));     % define a label-based volume - each voxel has a integer defining the medium type\n",
        "cfg.vol(2:end-1,2:end-1,2:end-1)=1; % define a label-based volume - each voxel has a integer defining the medium type\n",
        "cfg.vol(20:40, 30:40, 20:30)=2;    % adding an inclusion by setting to a different label\n",
        "\n",
        "%% save diffuse reflectanct at z=0 plane - total light escaped from the bottom plane\n",
        "cfg.issaveref=1;                   % save diffuse reflectance - can only save to the 0-valued voxel next to a boundary\n",
        "\n",
        "%% the below two settings allow us to verify energy-conservation in MCX\n",
        "cfg.isnormalized=0;                % disable normalization\n",
        "cfg.outputtype='energy';           % save energy deposition\n",
        "cfg.isspecular=0;                  % save energy deposition\n",
        "\n",
        "%% the optical properties of the i-th tissue type must be defined in the (i+1)-th row of cfg.prop\n",
        "cfg.prop=[0 0 1 1;                 % cfg.prop defines the optical properties, one medium per row; first row is for medium label 0 (background)\n",
        "          0.005 0.2 0 1.37;          % cfg.prop has 4 columns, in the order [mua(1/mm), mus(1/mm), g(anisotropy), n(ref index)]; 2nd row for medium type 1\n",
        "          0.1, 2, 0.9, 1];        % third row is for medium type 2, and so on\n",
        "\n",
        "%% a simulation must have source defined, default type is a pencil beam (cfg.srctype='pencil')\n",
        "cfg.issrcfrom0=1;                  % if this is not defined, cfg.srcpos and cfg.detpos will subtract 1 in x/y/z\n",
        "cfg.srcpos=[30 30 1];              % source position in voxel-units\n",
        "cfg.srcdir=[0 0 1];                % source direction (a unitary vector)\n",
        "cfg.detpos=[30,27,1,1];            % a detector that is 3 mm away from source with a radius 1 mm\n",
        "\n",
        "%% other key parameters\n",
        "cfg.tstart=0;                      % define the start time of the simulation (in s)\n",
        "cfg.tend=5e-9;                     % define the maximum duration of the photon packet (in s)\n",
        "cfg.tstep=1e-10;                   % this defines 50 time gates, (tend-tstart)/tstep; when tstep=tend, it defines a single time window, producing a CW solution\n",
        "\n",
        "%% cfg.gpuid specifies which GPU to use, default is the first GPU\n",
        "cfg.gpuid=1;                       % use the first GPU (default), can use strings of '01' masks to use multiple GPU, such as '0110'\n",
        "\n",
        "% reduce photon number on runtimes without a GPU (i.e. CPU only)\n",
        "if(exist('USE_MCXCL', 'var') && USE_MCXCL==1)  % if no GPU is found, run less photon on the CPU\n",
        "    cfg.nphoton=1e5;               % define how many photon packets to simulate\n",
        "end"
      ],
      "metadata": {
        "id": "K-nfG2mOTeXl"
      },
      "execution_count": null,
      "outputs": []
    },
    {
      "cell_type": "markdown",
      "source": [
        "Run below cell"
      ],
      "metadata": {
        "id": "dAT-8UBA4t62"
      }
    },
    {
      "cell_type": "code",
      "source": [
        "%%octave\n",
        "% calculate the fluence-rate distribution with the given config\n",
        "fluencerate=mcxlab(cfg);\n",
        "\n",
        "fieldnames(fluencerate)\n",
        "\n",
        "% fluencerate.stat records some basic simulation\n",
        "fluencerate.stat\n",
        "size(fluencerate.data)\n",
        "\n",
        "cwfluence=sum(fluencerate.data, 4);\n",
        "contourf(log10(squeeze(cwfluence(30,:,:))), 30);\n",
        "axis equal\n",
        "colorbar\n",
        "colormap('jet')\n",
        "\n",
        "%% show (unnormalized) diffuse reflectance at z=0 plane\n",
        "size(fluencerate.dref)\n",
        "dref=sum(fluencerate.dref, 4); % sum the 4th dimension, whcih is time-gates, providing the CW solution\n",
        "figure;\n",
        "contourf(log10(dref(:,:,1)),20)\n",
        "\n",
        "%% verify energy deposition\n",
        "total_absorbed=sum(fluencerate.data(:))\n",
        "total_escaped=sum(fluencerate.dref(:))\n",
        "total_launched=total_absorbed + total_escaped"
      ],
      "metadata": {
        "id": "4hZ1NoSITqlT"
      },
      "execution_count": null,
      "outputs": []
    },
    {
      "cell_type": "markdown",
      "source": [
        "## Exec 1 - Using complex sources and source control\n",
        "\n",
        "In the below exercise, we show you various control flags related to light source, launch angle, and focal length control etc.\n",
        "\n",
        "- Specifically, the 4th element of `cfg.srcdir` controls the focal length for any \"focusable\" source - including area and line sources (\"gaussian\", \"planar\",\"fourier\", \"arcsine\", \"disk\", \"fourierx\", \"fourierx2d\", \"zgaussian\", \"line\", \"slit\", \"pencilarray\", \"hyperboloid\", \"ring\", \"pattern\", \"pattern3d\"), where\n",
        "   - if `focallength=cfg.srcdir(4)` is unset or set to 0, all photons are launched collimated along the direction defined by `cfg.srcdir(1:3)`\n",
        "   - when `focallength=cfg.srcdir(4)` > 0, it simulates a convergant beam focusing at point `C0 + cfg.srcdir(1:3)*focallength`, where C0 is the center of the area or line source\n",
        "   - when `cfg.srcdir(4)` < 0, it simulates a divergent beam, with the virtual focal point at `C0 + cfg.srcdir(1:3)*focallength` (note focallength is negative)\n",
        "   - when `cfg.srcdir(4) = nan`, mcx isotropically launch photon at every point on the source with equal probability\n",
        "   - when `cfg.srcdir(4) = -inf`, mcx launch photon using the Lambertian profile (cosine distribution) at every point on the source aperture\n",
        "- Also, the 4th element of `cfg.srcpos` controls the initial weight of each launched photon for sources that have a uniform weight (such as pencil, cone, disk, planar etc), but not sources whos weight are computed (such as \"fourier\", \"fourierx\", \"pattern\" or \"pattern3d\").\n",
        "   - the ability to simulate negative sources, despite it does not exist in physical world, allows one to conveniently analyze complex pattern sources such as Fourier or Hadamard which contains both positive and negative values\n",
        "- Finally, the photon launch angle control can be fully customized by defining the `cfg.angleinvcdf` 1D vector, which defines the discrete form of the \"**inverse of the cummulative density function**\" (CDF(\\theta) =$\\int $) of the launch angle (zenith-angle relative to cfg.srcdir(1:3)) distribution. [see example](https://github.com/fangq/mcx/blob/master/mcxlab/examples/demo_mcxlab_launchangle.m)\n",
        "  - when `cfg.angleinvcdf` is set, and focal-length `cfg.srcdir(4)` is set to 1, the angle distribution is treated as discrete distribution without interpolation\n",
        "  - when `cfg.angleinvcdf` is set, and focal-length `cfg.srcdir(4)` is set to 0, the angle distribution is linearly interpolated between neighboring values."
      ],
      "metadata": {
        "id": "_Ztn3lu1L6U-"
      }
    },
    {
      "cell_type": "code",
      "source": [
        "%%octave\n",
        "clear cfg\n",
        "\n",
        "% make sure you terminate each statement by ';' so no excessive printing that could overwhelm the runtime\n",
        "\n",
        "cfg.nphoton=500;\n",
        "cfg.tstart=0;\n",
        "cfg.tend=5e-9;\n",
        "cfg.tstep=5e-9;\n",
        "\n",
        "% define the domain using shapes descriptors\n",
        "\n",
        "cfg.shapes= '{\"Shapes\":[{\"Grid\":{\"Tag\":1,\"Size\":[60,60,60]}}]}';\n",
        "%cfg.shapes= '{\"Shapes\":[{\"Grid\":{\"Tag\":1,\"Size\":[60,60,60]}},{\"Sphere\":{\"Tag\":2,\"O\":[20,30,10],\"R\":10}}]}';\n",
        "cfg.prop=[0, 0, 1, 1; 0, 0, 1, 1.37; 0, 0.01, 0, 1.37];\n",
        "\n",
        "cfg.isreflect=0;\n",
        "cfg.issrcfrom0=1;\n",
        "cfg.isspecular=0;\n",
        "\n",
        "% below are the primary options for controlling source behaviors\n",
        "srctype='disk' # @param [\"pencil\", \"isotropic\", \"cone\", \"gaussian\", \"planar\",\"fourier\", \"arcsine\", \"disk\", \"fourierx\", \"fourierx2d\", \"zgaussian\", \"line\", \"slit\", \"pencilarray\", \"hyperboloid\", \"ring\"]\n",
        "focallength=10  # @param {type:\"raw\", note:\"nan for isotropic launch, -inf for Lambertian launch, positive for converting, negative for diverging\"}\n",
        "launchweight=1   # @param {type:'number'}\n",
        "srcpos=[30, 0, 30] # @param {type: \"raw\"}\n",
        "srcdir=[0, 1, 0]       # @param {type: \"raw\"}\n",
        "srcparam1=[4, 0, 0, 0] # @param {type: \"raw\"}\n",
        "srcparam2=[0, 0, 0, 0] # @param {type: \"raw\"}\n",
        "angleinvcdf = [ ]  # @param {type: \"raw\"} # you can try \"[0 0 1/10 1/10 1/8]\" and set focallength to 0 or 1\n",
        "\n",
        "cfg.srctype=srctype;\n",
        "cfg.srcpos=[srcpos,launchweight];\n",
        "cfg.srcdir=[srcdir,focallength];\n",
        "cfg.srcparam1=srcparam1;\n",
        "cfg.srcparam2=srcparam2;\n",
        "cfg.angleinvcdf=angleinvcdf;"
      ],
      "metadata": {
        "id": "REiQjjAuMDet"
      },
      "execution_count": null,
      "outputs": []
    },
    {
      "cell_type": "markdown",
      "source": [
        "`cfg.debugflag='T'` is a newly added (v2024.2) flag to only return the photon trajectory data (as the first output of mcxlab). It is designed for debugging and training purpose.\n",
        "\n",
        "In comparison, `cfg.debugflag='M'` also saves photon trajectory, but output it as the 5th output, while also returning other outputs - flux, detp, seed etc."
      ],
      "metadata": {
        "id": "POSTjorRGKHj"
      }
    },
    {
      "cell_type": "code",
      "source": [
        "%%octave\n",
        "\n",
        "cfg.debuglevel='T';\n",
        "traj=mcxlab(cfg);"
      ],
      "metadata": {
        "id": "GB7POiQWM21P"
      },
      "execution_count": null,
      "outputs": []
    },
    {
      "cell_type": "code",
      "source": [
        "%%octave -f svg\n",
        "\n",
        "sortedlines=mcxplotphotons(traj, 'marker','.', 'markersize', 3, 'markeredgecolor', 'r');\n",
        "axis equal\n",
        "set(gca, 'position', [0 0 1 1]);\n",
        "hold on;"
      ],
      "metadata": {
        "id": "SFPa0q_5Vsv7"
      },
      "execution_count": null,
      "outputs": []
    },
    {
      "cell_type": "markdown",
      "source": [
        "The above JSON string based shape construct can also be generated by converting a MATLAB/Octave struct object as JSON via JSONLab's `savejson(.., 'compact',1)` function - this makes it easier to edit and the output is always valid JSON"
      ],
      "metadata": {
        "id": "vSVm5WHhO9TV"
      }
    },
    {
      "cell_type": "code",
      "source": [
        "%%octave\n",
        "\n",
        "% shape JSON construct fieldname is case-sensitive\n",
        "\n",
        "Shapes={};  % Shapes is a cell array\n",
        "Shapes{end+1}=struct('Grid', struct('Tag', 1, 'Size', [60,60,60]));  % add Grid object with label 1\n",
        "Shapes{end+1}=struct('Sphere', struct('Tag', 2, 'O', [20,30,30], 'R', 10)); % add a sphere with label 2\n",
        "\n",
        "cfg.shapes=savejson('Shapes', Shapes, 'compact', 1);\n",
        "\n",
        "cfg.shapes"
      ],
      "metadata": {
        "id": "GN-kSziAO37z"
      },
      "execution_count": null,
      "outputs": []
    },
    {
      "cell_type": "markdown",
      "source": [
        "## Exec 2 - Photon detection and detected photon data processing\n",
        "\n",
        "----\n",
        "\n",
        "Another key aspect of MCX simulations is the ability to obtain physical quantities associated with each simulated **photon packet**, especially those arriving at the desired detectors.\n",
        "\n",
        "Here, the keyword **photon packet** is the key. <font color=orange>MCX **DOES NOT** simulate individual photon</font>. Instead, each simulated \"photon\" is a packet, made of billions of individual photons. By propagating such packet, some of the photons in the packet are absorbed/disappeared. What's left in the packet is characterized by a floating-point number, called weight. A packet is launched with a unitless weight of 1, and\n",
        "\n",
        "There are 3 machanisms to obtain detected photon information.\n",
        "\n",
        "- using disk-shaped detectors, defined via `cfg.detpos=[dx,dy,dz,R]`\n",
        "- using boundary condition flag `cfg.bc='______111111'` to capture photons escaping from the bounding box, or\n",
        "- using `cfg.issaveref=1` to enable diffuse reflectance on the selected surface\n",
        "\n"
      ],
      "metadata": {
        "id": "aTpyrP8NhYyZ"
      }
    },
    {
      "cell_type": "code",
      "source": [
        "%%octave\n",
        "clear cfg\n",
        "\n",
        "% make sure you terminate each statement by ';' so no excessive printing that could overwhelm the runtime\n",
        "\n",
        "cfg.nphoton=1e7;\n",
        "cfg.tstart=0;\n",
        "cfg.tend=5e-9;\n",
        "cfg.tstep=5e-9;\n",
        "\n",
        "% define the domain using shapes descriptors\n",
        "cfg.vol=zeros(60,60,60);\n",
        "cfg.shapes= '{\"Shapes\":[{\"Sphere\":{\"Tag\":1,\"O\":[30,30,30],\"R\":30}}]}';\n",
        "cfg.prop=[0, 0, 1, 1; 0.02, 1, 0, 1.37];\n",
        "\n",
        "%cfg.shapes= '{\"Shapes\":[{\"Grid\":{\"Tag\":1,\"Size\":[60,60,60]}},{\"Sphere\":{\"Tag\":2,\"O\":[30,30,30],\"R\":30}}]}';\n",
        "%cfg.prop=[0, 0, 1, 1; 0, 0, 1, 1; 0.02, 1, 0, 1.37];\n",
        "\n",
        "cfg.issrcfrom0=1;\n",
        "% below are the primary options for controlling source behaviors\n",
        "cfg.srctype='pencil';\n",
        "cfg.srcpos=[30,30,0];\n",
        "cfg.srcdir=[0,0,1];\n",
        "\n",
        "% mcx detectors captures photons at the \"intersecting surface\" between tissue-0-voxel boundary and a sphere of given radius\n",
        "% when multiple detectors have overlapping surface, the lower-index detector takes priority\n",
        "% this allows us to create ring-like detectors\n",
        "\n",
        "cfg.detpos=[30,30,60,5      % detector 1: centered on top of the sphere; radius 5\n",
        "            30,30,60,10     % detector 2: centered on top of the sphere; radius 10\n",
        "            30,30,60,15     % detector 3: centered on top of the sphere; radius 15\n",
        "            30,30,60,20];   % detector 4: centered on top of the sphere; radius 20\n",
        "cfg.bc='______000100';      % also save all photons escaping from x=x_max bounding box face\n",
        "\n",
        "cfg.savedetflag='dpxv';     % save d: det_id, p: ppath, x: exit position, v: exit direction"
      ],
      "metadata": {
        "id": "qkNWl6QIqvd9"
      },
      "execution_count": 58,
      "outputs": []
    },
    {
      "cell_type": "markdown",
      "source": [
        "Now run the simulation and plot the exiting positions of each captured packet, colored by the detector ID"
      ],
      "metadata": {
        "id": "sy0Kqc2N3O4B"
      }
    },
    {
      "cell_type": "code",
      "source": [
        "%%octave\n",
        "[flux, detp, vol]=mcxlab(cfg);\n",
        "\n",
        "fieldnames(detp)\n",
        "size(detp.data)\n",
        "\n",
        "close all\n",
        "\n",
        "[sx,sy,sz]=sphere;\n",
        "surf(sx*29+30, sy*29+30, sz*29+30, 'facecolor', 'none')\n",
        "\n",
        "hold on;\n",
        "\n",
        "% all detected photons are located on the spherical object surface\n",
        "% overlapping detectors are captured by det of the lowerest index\n",
        "\n",
        "plotmesh(detp.p(detp.detid==1,:), 'r.')  % plot the exiting positions captured by detector-1\n",
        "plotmesh(detp.p(detp.detid==2,:), 'g.')  % plot the exiting positions captured by detector-2, and so on\n",
        "plotmesh(detp.p(detp.detid==3,:), 'y.')\n",
        "plotmesh(detp.p(detp.detid==4,:), 'b.')\n",
        "plotmesh(detp.p(detp.detid==-1,:), 'm.')  % packets captured by boundary condition flag have ID of -1\n",
        "\n",
        "surf(sx*15+30, sy*15+30, sz*15+60, 'facecolor', 'none')\n",
        "\n",
        "set(gca, 'position', [0 0 1 1]);"
      ],
      "metadata": {
        "id": "JvQvu_2zsc2R"
      },
      "execution_count": null,
      "outputs": []
    },
    {
      "cell_type": "markdown",
      "source": [
        "Obtaining detected photon data have many applications in biophotonics data processing. For example, the partial pathlength can be used to compute detector measurement by summing the total detected weight."
      ],
      "metadata": {
        "id": "shCZtd-p3Yy8"
      }
    },
    {
      "cell_type": "code",
      "source": [
        "%%octave\n",
        "\n",
        "detw=mcxdetweight(detp);\n",
        "det1=sum(detw(detp.detid==1))   % detected total weight from detector-1\n",
        "det2=sum(detw(detp.detid==2))   % detected total weight from detector-2\n",
        "det3=sum(detw(detp.detid==3))\n",
        "det4=sum(detw(detp.detid==4))\n",
        "\n",
        "newprop=detp.prop;\n",
        "newprop(2,1)=0.03;  % changing medium-1 mua to 0.03/mm from 0.02\n",
        "\n",
        "detw=mcxdetweight(detp, newprop);\n",
        "det1=sum(detw(detp.detid==1))\n",
        "det2=sum(detw(detp.detid==2))\n",
        "det3=sum(detw(detp.detid==3))\n",
        "det4=sum(detw(detp.detid==4))\n",
        "\n",
        "system('ls MCXStudio/MCXSuite/mcx/utils/mcx*.m')\n",
        "help mcxmeanpath\n",
        "\n",
        "mcxmeanpath(struct('ppath', detp.ppath(detp.detid==1, :)), detp.prop)\n",
        "mcxmeanpath(struct('ppath', detp.ppath(detp.detid==3, :)), detp.prop)\n",
        "mcxmeanpath(struct('ppath', detp.ppath(detp.detid==-1, :)), detp.prop)"
      ],
      "metadata": {
        "id": "9H1PL5QvsiLP"
      },
      "execution_count": null,
      "outputs": []
    },
    {
      "cell_type": "markdown",
      "source": [
        "## Exec 3 - Improving boundary handling with split-voxel MC (SVMC) - understanding MCX's weaknesses\n",
        "\n",
        "MCX relies on voxel-based domain dicretization to model 3-D complex media. It has the benefits\n",
        "- computationally efficient\n",
        "- arbitrarily complex\n",
        "- matching medical imaging data structure\n",
        "\n",
        "However, the stair-case nature of the voxelated boundary shape creates challenges in certain applications\n",
        "- domain boundary is very coarse that deviates from a curved boundary\n",
        "- low-scattering media where smoothly varying curve boundary presents drastically different reflection/transmission behavior than stair-case boundary\n",
        "- tissue shape feature size is much smaller than voxel-size - skin over thick tissue, capilaries inside optically-thick tissues\n",
        "\n",
        "Such limitations have been significantly addressed with our mesh-based MC (MMC) and implicit MMC (iMMC) algorithms (will cover in another session) - at the cost of slightly more complex data structures (mesh vs voxels), and different ray-tracing computation costs (ray-voxel intersecting test is much simpler than ray-tetrahedron intersecting tests).\n",
        "\n",
        "Nonetheless, our group had developed an improved voxel-based MC simulation technique, published in the following paper\n",
        "\n",
        "> Shijie Yan and Qianqian Fang*, [\"A hybrid mesh and voxel based Monte Carlo algorithm for accurate and efficient photon transport modeling in complex bio-tissues,\"](https://www.osapublishing.org/boe/abstract.cfm?uri=boe-11-11-6262) Biomed. Opt. Express, 11(11) pp. 6262-6270 (2020).\n",
        "\n",
        "This new technique, named split-voxel MC (SVMC) is essentially a hybrid mesh/voxel based domain that is both memory efficient while is capable of storing oblique surfaces within voxel based data.\n",
        "\n",
        "![](http://mcx.space/wiki/upload/mcx_svmc_diagram.png)\n"
      ],
      "metadata": {
        "id": "vyqvS2Bv7GF-"
      }
    },
    {
      "cell_type": "markdown",
      "source": [
        "Here is a baseline simulation of a transparent (no scattering) sphere. Without using SVMC, the sphere boundary is simply a stair case of x/y/z oriented voxel planes, which has a drastically different"
      ],
      "metadata": {
        "id": "JOY18XKAN-7E"
      }
    },
    {
      "cell_type": "code",
      "source": [
        "%%octave\n",
        "clear cfg\n",
        "\n",
        "% make sure you terminate each statement by ';' so no excessive printing that could overwhelm the runtime\n",
        "\n",
        "cfg.nphoton=100;\n",
        "cfg.tstart=0;\n",
        "cfg.tend=5e-9;\n",
        "cfg.tstep=5e-9;\n",
        "\n",
        "% define the domain using shapes descriptors\n",
        "cfg.vol=zeros(60,60,60);\n",
        "cfg.shapes= '{\"Shapes\":[{\"Sphere\":{\"Tag\":1,\"O\":[30,30,30],\"R\":15}}]}';\n",
        "cfg.prop=[0, 0, 1, 1; 0.02, 0, 1, 5];\n",
        "\n",
        "cfg.issrcfrom0=1;\n",
        "% below are the primary options for controlling source behaviors\n",
        "cfg.srctype='disk';\n",
        "cfg.srcpos=[30,30,0];\n",
        "cfg.srcdir=[0.2,0,1]/sqrt(1+0.04);\n",
        "cfg.srcparam1=[1,0,0,0];"
      ],
      "metadata": {
        "id": "Z5F31wFH9Fo2"
      },
      "execution_count": null,
      "outputs": []
    },
    {
      "cell_type": "markdown",
      "source": [
        "Run the baseline simulation without SVMC and plot the ray paths"
      ],
      "metadata": {
        "id": "XDKXVpGuPkNb"
      }
    },
    {
      "cell_type": "code",
      "source": [
        "%%octave -f svg\n",
        "\n",
        "cfg.debuglevel='T';  % return trajectory only for illustration purposes\n",
        "\n",
        "traj=mcxlab(cfg);\n",
        "\n",
        "close all\n",
        "\n",
        "%% let's draw the ideal sphere\n",
        "\n",
        "shapes=loadjson(cfg.shapes);\n",
        "[sx,sy,sz]=sphere;\n",
        "\n",
        "R=shapes.Shapes.Sphere.R;\n",
        "C0=shapes.Shapes.Sphere.O;\n",
        "surf(sx*R+C0(1), sy*R+C0(2), sz*R+C0(3), 'facecolor', 'none')\n",
        "\n",
        "hold on;\n",
        "sortedlines=mcxplotphotons(traj, 'marker','.', 'markersize', 3, 'markeredgecolor', 'r');\n",
        "axis equal\n",
        "set(gca, 'position', [0 0 1 1]);"
      ],
      "metadata": {
        "id": "IM6Xy5Rv-TxR"
      },
      "execution_count": null,
      "outputs": []
    },
    {
      "cell_type": "markdown",
      "source": [
        "In the following example, we define a new cfg called `cfg_svmc`. In this new simulation, the volume is pre-processed by a function called `mcxsvmc()`. This function extracts the voxel boundary using the marching-cube algorithm, and then for each boundary voxel, it extracts and embeds the oblique marching triangle's information (position and normal direction) into the voxelated data structure (by extending the 1-byte voxel to a 8-byte per voxel).\n",
        "\n",
        "After this conversion, `cfg_svmc.vol` becomes a 4D uint8 matrix of 8\\*Nx\\*Ny\\*Nz in size.\n",
        "\n",
        "when mcxlab receives a 4D uint8 matrix as the vol input, it treats it as the SVMC volume and perform ray-tracing considering the triangle information embedded in this volume."
      ],
      "metadata": {
        "id": "2Ma9izCwOi_N"
      }
    },
    {
      "cell_type": "code",
      "source": [
        "%%octave -f svg\n",
        "\n",
        "dims=size(cfg.vol);\n",
        "[xi, yi, zi] = ndgrid(1:dims(1), 1:dims(2), 1:dims(3));\n",
        "dist = (xi - 30.5).^2 + (yi - 30.5).^2 + (zi - 30.5).^2;\n",
        "binvol = zeros(size(xi));\n",
        "binvol(dist < 15*15) = 1;\n",
        "\n",
        "cfg_svmc=cfg;\n",
        "\n",
        "cfg_svmc.vol=mcxsvmc(binvol, 'smoothing', 1); % 1: enable gaussian smoothing 0: otherwise\n",
        "cfg_svmc.vol=uint8(cfg_svmc.vol);\n",
        "\n",
        "size(cfg_svmc.vol)\n",
        "\n",
        "if(isfield(cfg_svmc, 'shapes'))\n",
        "    cfg_svmc=rmfield(cfg_svmc, 'shapes');\n",
        "end\n",
        "\n",
        "traj_svmc=mcxlab(cfg_svmc);\n",
        "\n",
        "close all\n",
        "\n",
        "shapes=loadjson(cfg.shapes);\n",
        "[sx,sy,sz]=sphere(10);\n",
        "\n",
        "R=shapes.Shapes.Sphere.R;\n",
        "C0=shapes.Shapes.Sphere.O;\n",
        "surf(sx*R+C0(1), sy*R+C0(2), sz*R+C0(3), 'facecolor', 'none');\n",
        "\n",
        "hold on;\n",
        "sortedlines=mcxplotphotons(traj_svmc, 'marker','.', 'markersize', 3, 'markeredgecolor', 'r');\n",
        "axis equal\n",
        "set(gca, 'position', [0 0 1 1]);"
      ],
      "metadata": {
        "id": "1SjXlSQC_bby"
      },
      "execution_count": null,
      "outputs": []
    },
    {
      "cell_type": "markdown",
      "source": [
        "## Exec 4 - Hyperspectral data simulation using `mcxlab` in a layered skin model\n",
        "\n",
        "#### Prepared and presented by Dr. Steve Jacques\n",
        "\n",
        "In this exercise, Dr. Steve Jacques will walk you through an example using MCXLAB to simulate a 4-layer skin tissue model with a sweep of optical properties over a range of wavelengths, producing the hyperspectral diffuse reflectance measurements.\n",
        "\n",
        "In this example, you will also learn\n",
        "- simulating infinite planar source illuminating an infinitely large layered medium using cyclic boundary conditions\n",
        "- estimating optical properties at different wavelengths using raw chromophore absorption data\n",
        "- simulating extended space using optical property scaling"
      ],
      "metadata": {
        "id": "KtP0gYF5AdeM"
      }
    },
    {
      "cell_type": "markdown",
      "source": [
        "Note: Below simulation will launch 71 simulations, sweeping between 300 nm and 1000 nm with a 10 nm step. Each simulation takes about 3 seconds to complete, so overall, you ned to wait for 2-3 minutes for the simulation to complete."
      ],
      "metadata": {
        "id": "yQ_RL2LoP7Lv"
      }
    },
    {
      "cell_type": "code",
      "source": [
        "%%octave\n",
        "\n",
        "% runMCXSpectrum_skin1Dreflectance.m\n",
        "%   Create total reflectance spectrum (300:10:1000nm)\n",
        "%   for total diffuse reflectance from infintely broad beam.\n",
        "%   Skin layers:\n",
        "%       epidermis\n",
        "%       papillary dermis\n",
        "%       vasular plexus\n",
        "%       reticular dermis (semi-infinite thickness)\n",
        "%   USES:\n",
        "%       SpectralLIBMUmm.mat\n",
        "%       makeTissueList_skin.m\n",
        "%       mcxlab_exec4_draw.m\n",
        "%\n",
        "%%% 17june2024.sljacques\n",
        "\n",
        "clear cfg label prop\n",
        "close all\n",
        "\n",
        "%% load Spectral Absorption Library: nmLIB(701,1), MUY(701,6), msg\n",
        "%   MU(:,[oxyB deoxyB Water Carotenoids Melanin Fat])\n",
        "%   oxyB, deoxyB = mu_a of whole blood (~45% hematocrit=150 g.HGb/liter, MW.HGb = 64500g/mole)\n",
        "%       https://omlc.org/spectra/hemoglobin/summary.html\n",
        "%   Water = mu_a of pure water\n",
        "%    \tG. M. Hale and M. R. Querry, \"Optical constants of water in the 200nm to\n",
        "%       200-um wavelength region,\" Appl. Opt., 12, 555--563, (1973).\n",
        "%   Carotenoids = ( exp(-((nmLIB-476)/45).^2) + 1.5*exp(-((nmLIB-440)/30).^2) )/2.0824\n",
        "%       such that max of mua_a.carotenoids = 1.0 [1/mm] @446nm.Then scale as needed.\n",
        "%   Melanin = mu_a of interior of cutaneous melanosome\n",
        "%       mu_a.melanosome = (67.92/mm)*(nmLIB/500nm).^(-3.33)\n",
        "%   Fat = mu_a of fat.  Data for pure lipid purified from pig fat.\n",
        "%     \tvan Veen R.L.P. , H.J.C.M. Sterenborg, A. Pifferi, A. Torricelli,\n",
        "%       R. Cubeddu: Determination of VIS- NIR absorption coefficients\n",
        "%       of mammalian fat, with time- and spatially resolved diffuse\n",
        "%       reflectance and transmission spectroscopy,\n",
        "%       OSA Annual BIOMED Topical Meeting, 2004.\n",
        "\n",
        "load SpectralLIBMUmm.mat\n",
        "msg\n",
        "whos nmLIB MU\n",
        "\n",
        "label(1).s='oxy whole blood';\n",
        "label(2).s='deoxy whole blood';\n",
        "label(3).s='water';\n",
        "label(4).s='carotenoids';\n",
        "label(5).s='melanosome';\n",
        "label(6).s='fat';\n",
        "\n",
        "figure;clf\n",
        "\n",
        "clr='rbcgkm';\n",
        "f=2;\n",
        "for i=1:6\n",
        "    semilogy(nmLIB,MU(:,i),'-','color',clr(i),'linewidth',2)\n",
        "    hold on\n",
        "    text(800,5e-4/f^i,label(i).s,'color',clr(i),'fontsize',12)\n",
        "end\n",
        "set(gca,'fontsize',14)\n",
        "xlabel('Wavelength [nm]')\n",
        "ylabel('\\mu_a [1/mm]')\n",
        "title('SpectralLIBMUmm.mat')\n",
        "axis([300 1000 1e-6 1e3])\n",
        "\n",
        "%%% Wavelength range for simulations\n",
        "nmm = [300:10:1000]';\n",
        "Nnm = length(nmm);\n",
        "MU2 = interp1(nmLIB,MU,nmm); % <--- interpolate properties\n",
        "\n",
        "%%% volume size and unitinmm\n",
        "Ny=100; Nx=100; Nz=500;\n",
        "dxyz = 0.010; % mm\n",
        "\n",
        "%% % create cfg files\n",
        "cfg.tstart = 0;\n",
        "cfg.tend   = 5e-9;\n",
        "cfg.tstep  = 5e-9;\n",
        "cfg.isreflect = 1; % enable total internal reflection at exterior boundary\n",
        "cfg.issaveref = 1; % enable saving escaping light as reflectance\n",
        "\n",
        "cfg.unitinmm = dxyz; % mm\n",
        "\n",
        "% a uniform planar source illuminating entire top surface of the volume\n",
        "% cyclic side boundaries mimic infinitely broad beam\n",
        "w=Nx;   % width [units]\n",
        "hw=w/2; % half-width\n",
        "cfg.srctype     = 'planar';\n",
        "cfg.srcdir      = [0 0 1]; % incident along z-axis\n",
        "cfg.srcpos      = [Nx/2-hw Ny/2-hw 0];\n",
        "cfg.srcparam1   = [w 0 0 0];\n",
        "cfg.srcparam2   = [0 w 0 0];\n",
        "cfg.bc='ccrccr'; % cyclic side boundaries\n",
        "\n",
        "cfg.nphoton     = 1e4; % <---- # of photons per wavelength\n",
        "%cfg.debuglevel  = 'P';\n",
        "\n",
        "%% thicknesses of each skin tissue layer\n",
        "%   epi = epidermis (60 um]\n",
        "%   pap = papillary dermis (200 um)\n",
        "%   plx = superficial vascular plexus (200 um)\n",
        "%   ret = reticular dermis (remaining volume)\n",
        "d123 = [0.060 0.200 0.200];     % epi pap plx\n",
        "d4 = (Nz-2)*dxyz - sum(d123);   % ret\n",
        "d  = [d123 d4];                 % epi pap plx ret [mm]\n",
        "nd = round(d/dxyz);             % nd(4,1) = dimensionless units of thickness\n",
        "csd = cumsum(d);\n",
        "\n",
        "%% Simulation for each wavelength\n",
        "tic\n",
        "for inm=1:Nnm\n",
        "    nm = nmm(inm); % wavelength\n",
        "    clc\n",
        "    fprintf('\\n\\nwavelength = %0.0f nm\\n\\n',nm)\n",
        "\n",
        "    % tissue layer properties : epi pap plx ret\n",
        "    PRINTON=0;\n",
        "    tissue = makeTissueList_skin(nm, MU2(inm,:), PRINTON);\n",
        "    prop(1,:)=[0 0 1 1]; % outer boundary [mua mus g n]\n",
        "    for i=1:4 % i--> epi pap plx ret\n",
        "        mua = tissue(i).mua;\n",
        "        mus = tissue(i).mus;\n",
        "        g   = tissue(i).g;\n",
        "        n   = tissue(i).n;\n",
        "        prop(i+1,:) = [mua mus g n];\n",
        "    end\n",
        "    prop(6,:) = [mua*1e3 mus*1e3 g n]; % mimic semi-infinite tissue\n",
        "    cfg.prop = prop;\n",
        "\n",
        "\t  % tissue volume\n",
        "    % define a 4 layer structure\n",
        "    % cfg.vol uses 0-->4 (C-code) to point to props(1-->5) (MATLAB)\n",
        "    cfg.vol = uint8(zeros(Nx,Ny,Nz));        % boundary    0 --> prop(1,:)\n",
        "    cfg.vol(:,:,1+[1:nd(1)])=1;              % epidermis,  1 --> prop(2,:)\n",
        "    cfg.vol(:,:,1+nd(1)+[1:nd(2)])=2;        % pap.dermis, 2 --> prop(3,:)\n",
        "    cfg.vol(:,:,1+sum(nd(1:2))+[1:nd(3)])=3; % plexis,     3 --> prop(4,:)\n",
        "    cfg.vol(:,:,1+sum(nd(1:3))+[1:nd(4)])=4; % ret.dermis, 4 --> prop(5,:)\n",
        "    cfg.vol(:,:,Nz-10:Nz-1) = 5; % mimic semi-infinite tissue 5 --> prop(6,:)\n",
        "    cfg.vol(:,:,Nz) = 1;                     % rear boundary  0 --> prop(1,:)\n",
        "\n",
        "    flux=mcxlab(cfg);                        % <---- MCX --- RUN SIMULATION\n",
        "\n",
        "    Rxy       = flux.dref(:,:,1) *cfg.tstep*cfg.unitinmm^2;\n",
        "    Txy       = flux.dref(:,:,Nz)*cfg.tstep*cfg.unitinmm^2;\n",
        "    R(inm,1)  = sum( Rxy(:));\n",
        "    T(inm,1)  = sum( Txy(:));\n",
        "\n",
        "end % inm\n",
        "toc\n",
        "\n",
        "\n",
        "%% show tissue parameters @ 500 nm\n",
        "inm=find(nmm==500);\n",
        "PRINTON=1;\n",
        "fprintf('\\nparameters and optical properties @ 500nm\\n')\n",
        "makeTissueList_skin(500,MU2(inm,:),PRINTON);"
      ],
      "metadata": {
        "id": "FNV-olxjB-jq"
      },
      "execution_count": null,
      "outputs": []
    },
    {
      "cell_type": "markdown",
      "source": [
        "Plotting the results"
      ],
      "metadata": {
        "id": "BzJX1YwpIfr0"
      }
    },
    {
      "cell_type": "code",
      "source": [
        "%%octave\n",
        "\n",
        "% plotting the results\n",
        "\n",
        "close all\n",
        "\n",
        "%% Show depth-profile of tissue layers\n",
        "figure;clf\n",
        "%sz0 = get(0,'screensize')/2;\n",
        "%pos = round([0.129 0.171 0.7 1.6].*sz0([3 4 3 4]));\n",
        "%set(figure(1),'position',pos)\n",
        "\n",
        "fz=12; % fontsize for labels\n",
        "\n",
        "subplot(211)\n",
        "plot([1:Nz]',squeeze(cfg.vol(Nx/2,Ny/2,:)),'ro-')\n",
        "hold on\n",
        "text(1,.15,'air boundary=0 @ iz=1','fontsize',fz)\n",
        "for i=1:3\n",
        "    if i==1 % epidermis\n",
        "        iz1=2;\n",
        "    else\n",
        "        iz1=2+sum(nd(1:i-1));\n",
        "    end\n",
        "    z1=dxyz*(iz1-1);\n",
        "    iz2=1+sum(nd(1:i));\n",
        "    z2=dxyz*(iz2-1);\n",
        "    s=sprintf('%s %d%s%d (%0.3f %s %0.3f mm)',...\n",
        "    tissue(i).name,iz1,'\\rightarrow',iz2,...\n",
        "    z1,'\\rightarrow',z2);\n",
        "    text((3+sum(nd(1:i))),i,s,'fontsize',fz)\n",
        "end\n",
        "i=4;\n",
        "iz1=i+sum(nd(1:i-1));\n",
        "z1=dxyz*(iz1-1);\n",
        "iz2=i-3+sum(nd(1:i));\n",
        "z2=dxyz*(iz2);\n",
        "s=sprintf('%s %d%s%d (%0.3f %s %0.3f mm)',...\n",
        "tissue(i).name,iz1,'\\rightarrow',iz2,...\n",
        "z1,'\\rightarrow',z2);\n",
        "text(35,i-.2,s,'fontsize',fz)\n",
        "\n",
        "xlabel('depth pointer, iz')\n",
        "ylabel('tissue type')\n",
        "set(gca,'fontsize',16)\n",
        "axis([0 100 0 5])\n",
        "\n",
        "%% Show side-view of tissue layers\n",
        "subplot(212)\n",
        "\n",
        "Vzx=squeeze(cfg.vol(:,Ny/2,:))';\n",
        "imagesc([1:Nx]*dxyz,[1:Nz]*dxyz,Vzx)\n",
        "hold on\n",
        "text(0.05,0.045,'epidermis','fontsize',14,'color','w')\n",
        "text(0.05,.15,'papillary dermis','fontsize',14)\n",
        "text(0.05,0.34,'vascular plexus','fontsize',14)\n",
        "text(0.05,0.6,'reticular dermis','fontsize',14)\n",
        "\n",
        "colorbar\n",
        "axis([dxyz 1 dxyz 1])\n",
        "\n",
        "%% Plot R,T spectra\n",
        "figure;clf\n",
        "%sz0 = get(0,'screensize')/2;\n",
        "%pos = round([0.918 0.171 0.700 1.6].*sz0([3 4 3 4]));\n",
        "%set(figure(2),'position',pos)\n",
        "\n",
        "subplot(211)\n",
        "\n",
        "imagesc(Rxy)\n",
        "axis equal\n",
        "xlabel('x [mm]')\n",
        "ylabel('y [mm]')\n",
        "title('R(y,x) [mm^{-2}]')\n",
        "colorbar\n",
        "\n",
        "subplot(212)\n",
        "plot(nmm,R,'ro-','linewidth',2)\n",
        "hold on\n",
        "plot(nmm,T,'bo-','linewidth',2)\n",
        "xlabel('Wavelength')\n",
        "ylabel('R_d, T_t')\n",
        "title('skin: epi,pap,plx,ret','fontweight','normal')\n",
        "set(gca,'fontsize',16)\n",
        "axis([300 1000 0 1])"
      ],
      "metadata": {
        "id": "ITASIqJM-vgr"
      },
      "execution_count": null,
      "outputs": []
    },
    {
      "cell_type": "markdown",
      "source": [
        "## Exec 5 - Solving inverse problems using MCX\n",
        "\n",
        "Here we show an advanced example of using MCX to perform DOT reconstructions.\n",
        "\n",
        "We will utilize the adjoint method for building the Jacobian matrix and apply Gauss-newton method for iteratively solve the inverse solution.\n",
        "\n",
        "\n",
        "In the below example, we show how to simulate multiple sources simultaneously (a new feature added in v2024.2)."
      ],
      "metadata": {
        "id": "KqVct1HfDbWm"
      }
    },
    {
      "cell_type": "markdown",
      "source": [
        "### Step 1: generating simulated measurements between a 6x6 source array and a 6x6 detector array"
      ],
      "metadata": {
        "id": "PKRnxPmVWtD0"
      }
    },
    {
      "cell_type": "code",
      "source": [
        "%%octave\n",
        "\n",
        "clear cfg0 reconcfg cfg\n",
        "\n",
        "cfg0.nphoton=8e8;\n",
        "\n",
        "cfg0.vol=ones(60,60,30);\n",
        "cfg0.vol(20:30, 35:45, 12:22)=2; % place a brick-shaped inclusion\n",
        "cfg0.prop=[0,0,1,1;\n",
        "           0.002,0.8,0.01,1.37;  % background optical properties\n",
        "           0.01,0.8,0.01,1.37];  % inclusion is 5x more absorbing\n",
        "\n",
        "cfg0.tstart=0;\n",
        "cfg0.tend=5e-9;\n",
        "cfg0.tstep=5e-9;\n",
        "\n",
        "cfg0.outputtype='fluence'; % simulate fluence instead of fluence rate\n",
        "\n",
        "% to simulate 6x6=36 sources and 6x6=36 detectors in a single mcx simulation\n",
        "% we simulate both the sources and detectors because we need to use the adjoint method to build Jacobians\n",
        "% must define cfg.srcpos/cfg.srcdir/cfg.srcparam1/cfg.srcparam2 as 2D array of Ns x 4 matrices, where Ns is the number source\n",
        "\n",
        "[xi,yi]=meshgrid(5:10:55,5:10:55);\n",
        "srcnum=size(xi(:), 1);\n",
        "\n",
        "cfg.issrcfrom0=1;\n",
        "cfg0.srcpos=[xi(:), yi(:)];\n",
        "cfg0.srcpos=[cfg0.srcpos; cfg0.srcpos];\n",
        "cfg0.srcpos(1:srcnum,3)=0;\n",
        "cfg0.srcpos(1+srcnum:end,3)=size(cfg0.vol,3);\n",
        "cfg0.srcpos(:,4)=1;\n",
        "\n",
        "cfg0.srcdir=repmat([0 0 1 0], size(cfg0.srcpos,1),1);\n",
        "cfg0.srcdir(1+srcnum:end,3)=-1; %      for all detectors, the launch direction is [0 0 -1]\n",
        "%cfg0.srcparam1=repmat([0 0 0 0], size(cfg0.srcpos,1),1);\n",
        "%cfg0.srcparam2=repmat([0 0 0 0], size(cfg0.srcpos,1),1);\n",
        "\n",
        "cfg0.detpos=[xi(:), yi(:)];          % while we define detectors here, in this example we will not use detected photon data or dref, but you can, with some conversion\n",
        "cfg0.detpos(:,3)=size(cfg0.vol,3);\n",
        "cfg0.detpos(:,4)=4;\n",
        "\n",
        "cfg0.debuglevel='P';\n",
        "\n",
        "cfg0.srcid = -1;   % setting srcid=-1 in a multi-source simulation asks mcx to simulate all sources - with even split of photons"
      ],
      "metadata": {
        "id": "p_srlRndF9va"
      },
      "execution_count": 54,
      "outputs": []
    },
    {
      "cell_type": "markdown",
      "source": [
        "Run the forward simulation for all 36 sources and all 36 detectors (i.e. 72 fluence solutions) - splitting the total 8e8 photons equally (each source/detector launches 8e8/72=1.1e7 photons).\n",
        "\n",
        "This simulation takes about 50 seconds to complete."
      ],
      "metadata": {
        "id": "F3PHWL9rSMQZ"
      }
    },
    {
      "cell_type": "code",
      "source": [
        "%%octave\n",
        "\n",
        "flux0=mcxlab(cfg0);\n",
        "\n",
        "% draw a cross-sectional image\n",
        "\n",
        "imagesc(squeeze(flux0.data(:,:,end,:,:,1)))\n",
        "colorbar\n",
        "\n",
        "\n",
        "% sum all time-gates to produce CW fluence map\n",
        "\n",
        "cwfluence=sum(flux0.data, 4);\n",
        "size(cwfluence)\n",
        "\n",
        "\n",
        "% extract measurement vector from all src/det pairs (36x36=1296)\n",
        "measurements=[];\n",
        "for i=1:srcnum  % loop each source\n",
        "   measurements=[measurements; cwfluence(sub2ind(size(cwfluence), round(cfg0.detpos(:,1)), round(cfg0.detpos(:,2)), round(cfg0.detpos(:,3)), ones(srcnum,1), ones(srcnum,1), i*ones(srcnum,1)))];\n",
        "end\n",
        "\n",
        "% total source/detector pairs is 36x36 = 1296\n",
        "\n",
        "size(measurements)\n",
        "plot(log10(measurements))"
      ],
      "metadata": {
        "id": "S1yTDK3eLk5N"
      },
      "execution_count": null,
      "outputs": []
    },
    {
      "cell_type": "markdown",
      "source": [
        "### Step 2: performing DOT reconstruction to fit the simulated measruements\n",
        "\n",
        "For the purpose of easy demonstration in this workshop, here we committed the \"inverse crime\" - a word commonly used to describe the model used for solving the inverse problem has the same or similar settings as the model used for creating the simulated data - such inverse crime will not reveal any systematic errors caused by the inaccuracies in the forward solver because both the simulated data and the reconstruction have the same systematic errors, thus they could cancel out."
      ],
      "metadata": {
        "id": "E2ycXAR9TMBn"
      }
    },
    {
      "cell_type": "code",
      "source": [
        "%%octave\n",
        "\n",
        "%% Start the reconstruction by creating a homogeneous domain as the initial guess\n",
        "\n",
        "reconcfg=cfg0;                     % copy settings from heterogeneous forward simulation\n",
        "reconcfg.nphoton=8e8;\n",
        "reconcfg.prop=cfg0.prop(1:2,:);    % only keep the background medium\n",
        "\n",
        "reconcfg.vol=permute(single(ones(size(cfg0.vol))*reconcfg.prop(2,1)), [4 1 2 3]);  % create homogeneous continuously varying mua_float medium, so we can update\n",
        "\n",
        "% reconcfg.vol stores the homogeneous initial guess of mua - just the background\n",
        "\n",
        "size(reconcfg.vol)"
      ],
      "metadata": {
        "colab": {
          "base_uri": "https://localhost:8080/",
          "height": 54
        },
        "id": "0H0jK9NGTcUv",
        "outputId": "f36d3107-4aa5-4008-feca-0c875591eb3a"
      },
      "execution_count": 64,
      "outputs": [
        {
          "output_type": "display_data",
          "data": {
            "text/plain": [
              "ans ="
            ]
          },
          "metadata": {}
        },
        {
          "output_type": "display_data",
          "data": {
            "text/plain": []
          },
          "metadata": {}
        },
        {
          "output_type": "display_data",
          "data": {
            "text/plain": [
              "    1   60   60   30"
            ]
          },
          "metadata": {}
        },
        {
          "output_type": "display_data",
          "data": {
            "text/plain": []
          },
          "metadata": {}
        }
      ]
    },
    {
      "cell_type": "markdown",
      "source": [
        "Run simulation for the initial guess"
      ],
      "metadata": {
        "id": "aWw9eU1nrrFZ"
      }
    },
    {
      "cell_type": "code",
      "source": [
        "%%octave\n",
        "\n",
        "fluence=mcxlab(reconcfg);\n",
        "\n",
        "cwfluence=sum(fluence.data, 4);\n",
        "size(cwfluence)"
      ],
      "metadata": {
        "id": "2wb6r8i2Z7WS"
      },
      "execution_count": null,
      "outputs": []
    },
    {
      "cell_type": "markdown",
      "source": [
        "Extract the model-predicted \"measurements\" at all src/det pairs and compare the predicted and original measurements"
      ],
      "metadata": {
        "id": "IsH8yBYbruC3"
      }
    },
    {
      "cell_type": "code",
      "source": [
        "%%octave\n",
        "\n",
        "close all\n",
        "\n",
        "modelpredict=[];\n",
        "srcnum=size(xi(:), 1);\n",
        "for i=1:srcnum  % loop each source\n",
        "   modelpredict=[modelpredict; cwfluence(sub2ind(size(cwfluence), round(reconcfg.detpos(:,1)), round(reconcfg.detpos(:,2)), round(reconcfg.detpos(:,3)), ones(srcnum,1), ones(srcnum,1), i*ones(srcnum,1)))];\n",
        "end\n",
        "\n",
        "plot(1:length(modelpredict), log10(modelpredict), 'r.-', 1:length(measurements), log10(measurements), 'b-')"
      ],
      "metadata": {
        "colab": {
          "base_uri": "https://localhost:8080/",
          "height": 437
        },
        "id": "DiMPsjT0e3zh",
        "outputId": "9771f31c-ed99-46f0-8dcf-9c49150df5c5"
      },
      "execution_count": 66,
      "outputs": [
        {
          "output_type": "display_data",
          "data": {
            "image/png": "[encoded data removed]",
            "text/plain": [
              "<IPython.core.display.Image object>"
            ]
          },
          "metadata": {}
        }
      ]
    },
    {
      "cell_type": "markdown",
      "source": [
        "Building the Jacobian matrix using the adjoint method"
      ],
      "metadata": {
        "id": "MWfWJwqKr7yg"
      }
    },
    {
      "cell_type": "code",
      "source": [
        "%%octave\n",
        "\n",
        "jacob=zeros([length(modelpredict) size(cfg0.vol)]);\n",
        "size(jacob)\n",
        "\n",
        "detnum=size(reconcfg.detpos,1);\n",
        "for i=1:srcnum\n",
        "    for j=1:detnum\n",
        "        jacob(i,:,:,:)=-cwfluence(:,:,:,1,1,i).*cwfluence(:,:,:,1,1,j+srcnum);\n",
        "    end\n",
        "end\n",
        "\n",
        "imagesc(squeeze(jacob(15, :, 30, :)))"
      ],
      "metadata": {
        "id": "JOtcSAk4Y-mq"
      },
      "execution_count": null,
      "outputs": []
    },
    {
      "cell_type": "code",
      "source": [
        "%%octave\n",
        "\n",
        "plot(log10(measurements) - log10(modelpredict))"
      ],
      "metadata": {
        "colab": {
          "base_uri": "https://localhost:8080/",
          "height": 437
        },
        "id": "v3oPwdoUtsBC",
        "outputId": "4540ad29-6a86-40a1-9b26-1ca607a51dfa"
      },
      "execution_count": 68,
      "outputs": [
        {
          "output_type": "display_data",
          "data": {
            "image/png": "[encoded data removed]",
            "text/plain": [
              "<IPython.core.display.Image object>"
            ]
          },
          "metadata": {}
        }
      ]
    },
    {
      "cell_type": "code",
      "source": [
        "%%octave\n",
        "\n",
        "size(jacob(:,:))\n",
        "size(measurements)\n",
        "size(modelpredict)\n",
        "\n",
        "dmua = rbreginv(jacob(:,:), measurements-modelpredict, 1e-10);\n",
        "\n",
        "\n",
        "dims = size(reconcfg.vol)\n",
        "dmua = reshape(dmua, dims(2:4));\n",
        "\n",
        "% groupd-truth mua\n",
        "mua_truth=reshape(squeeze(cfg0.prop(cfg0.vol+1,1)), dims(2:4));\n",
        "size(mua_truth)\n",
        "max(mua_truth(:))"
      ],
      "metadata": {
        "id": "w9qZp9HDfVgD"
      },
      "execution_count": null,
      "outputs": []
    },
    {
      "cell_type": "code",
      "source": [
        "%%octave\n",
        "\n",
        "zslice = 12 # @param {type:\"slider\", min:0, max:30, step:1}\n",
        "\n",
        "close all\n",
        "figure;\n",
        "subplot(211)\n",
        "imagesc(squeeze(dmua(:, :, zslice)))\n",
        "axis equal\n",
        "colorbar\n",
        "\n",
        "\n",
        "subplot(212)\n",
        "imagesc(squeeze(mua_truth(:, :, zslice)))\n",
        "axis equal\n",
        "colorbar"
      ],
      "metadata": {
        "colab": {
          "base_uri": "https://localhost:8080/",
          "height": 455
        },
        "id": "2427u0OWhBoL",
        "outputId": "837b71a0-ceb0-4eb4-9af8-179f1cb3f36d"
      },
      "execution_count": 88,
      "outputs": [
        {
          "output_type": "display_data",
          "data": {
            "text/plain": [
              "zslice = 12"
            ]
          },
          "metadata": {}
        },
        {
          "output_type": "display_data",
          "data": {
            "image/png": "[encoded data removed]",
            "text/plain": [
              "<IPython.core.display.Image object>"
            ]
          },
          "metadata": {}
        }
      ]
    }
  ]
}