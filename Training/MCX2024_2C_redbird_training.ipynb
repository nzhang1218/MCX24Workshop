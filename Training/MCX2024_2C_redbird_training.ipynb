{
  "nbformat": 4,
  "nbformat_minor": 0,
  "metadata": {
    "colab": {
      "provenance": [],
      "gpuType": "T4",
      "toc_visible": true,
      "include_colab_link": true
    },
    "kernelspec": {
      "name": "python3",
      "display_name": "Python 3"
    },
    "language_info": {
      "name": "python"
    },
    "accelerator": "GPU"
  },
  "cells": [
    {
      "cell_type": "markdown",
      "metadata": {
        "id": "view-in-github",
        "colab_type": "text"
      },
      "source": [
        "<a href=\"https://colab.research.google.com/github/COTILab/MCX24Workshop/blob/master/Training/MCX2024_2C_redbird_training.ipynb\" target=\"_parent\"><img src=\"https://colab.research.google.com/assets/colab-badge.svg\" alt=\"Open In Colab\"/></a>"
      ]
    },
    {
      "cell_type": "code",
      "execution_count": null,
      "metadata": {
        "collapsed": true,
        "id": "2SxYqGMhEwdI"
      },
      "outputs": [],
      "source": [
        "!#@title Init 1: Initial setup of environment for running MCXLAB (run the below section once)\n",
        "# install octave and oct2py\n",
        "! sudo apt-get update && sudo apt-get install octave jq libpocl2 pocl-opencl-icd    # install octave (a free matlab clone)\n",
        "! pip install oct2py jdata bjdata matplotlib   # install oct2py, jdata, bjdata and matplotlib Python modules\n",
        "#!apt-get install nvidia-opencl-icd-384        # optional: install nvidia OpenCL(+2min), needed for mmc/mmclab demos later\n",
        "# add octave support to colab notebook\n",
        "%load_ext oct2py.ipython\n",
        "# download and unzip mcxlab\n",
        "! rm -rf mcxlab*\n",
        "! wget https://mcx.space/nightly/release/MCX24/MCXStudio-linux-x86_64-nightlybuild.zip  # download MCX suite\n",
        "! unzip -o MCXStudio-linux-x86_64-nightlybuild.zip && rm -rf MCXStudio-linux-x86_64-nightlybuild.zip # unzip MCX suite\n",
        "\n",
        "# add executable to the shell's paths\n",
        "! sudo cp -a $PWD/MCXStudio/MCXSuite/mcx/bin/mcx /usr/local/bin\n",
        "! sudo cp -a $PWD/MCXStudio/MCXSuite/mcxcl/bin/mcxcl /usr/local/bin\n",
        "! sudo cp -a $PWD/MCXStudio/MCXSuite/mmc/bin/mmc /usr/local/bin\n",
        "# if a GPU runtime can not be allocated, run this section to setup OpenCL and MCXLAB-CL\n",
        "! [[ ! -f `which nvidia-smi` ]] && sudo mv /usr/local/bin/mcxcl /usr/local/bin/mcx\n",
        "! mcx -L"
      ]
    },
    {
      "cell_type": "code",
      "source": [
        "%%octave\n",
        "\n",
        "addpath([pwd filesep 'MCXStudio/MATLAB/redbird-m' filesep 'matlab']); % add path to redbird-m\n",
        "addpath([pwd filesep 'MCXStudio/MATLAB/mcxlab']);                     % add path to mcxlab\n",
        "addpath([pwd filesep 'MCXStudio/MCXSuite/mcx' filesep 'utils']);      % add path to mcx helper functions\n",
        "addpath([pwd filesep 'MCXStudio/MATLAB/mmclab']);                     % add path to mmclab\n",
        "addpath([pwd filesep 'MCXStudio/MCXSuite/mmc' filesep 'matlab']);     % add path to mmc helper functions\n",
        "addpath([pwd filesep 'MCXStudio/MATLAB/iso2mesh']);                   % add path to iso2mesh/jsonlab\n",
        "addpath([pwd filesep 'MCXStudio/MATLAB/brain2mesh']);                 % add path to brain2mesh\n",
        "addpath([pwd filesep 'MCXStudio/MATLAB/zmat']);                       % add path to zmat for data compression\n",
        "\n",
        "struct_levels_to_print(0);\n",
        "print_struct_array_contents(0);\n",
        "\n",
        "if(system('which nvidia-smi'))                   % if this runtime does not have NVIDIA GPU support\n",
        "    addpath([pwd filesep 'MCXStudio/MATLAB/mcxlabcl']);    % add path to mcxlabcl\n",
        "    USE_MCXCL=1;                                 % set USE_MCXCL flag in the base workspace\n",
        "end"
      ],
      "metadata": {
        "id": "VTHeNUdJF-ZE"
      },
      "execution_count": null,
      "outputs": []
    },
    {
      "cell_type": "markdown",
      "source": [
        "## **Take home messages:**\n",
        "\n",
        "In this session you will learn how to:\n",
        " run and visualize frequency domain (FD) or continuous wave (CW) forward\n",
        "\n",
        "1.   Setup the simulation environment in Redbird-m to perform forward simulations and reconstructions\n",
        "2.   Run and visualize frequency domain (FD) or continuous wave (CW) forward simulations in Redbird-m using point-source/detector arrays and wide-field source/detector patterns\n",
        "3.   Visualize the simulated data (amplitude and/or phase) and the sensitivity matrix\n"
      ],
      "metadata": {
        "id": "MxKxY9WRdK4g"
      }
    },
    {
      "cell_type": "markdown",
      "source": [
        "## Forward validation of Redbird-m\n",
        "\n",
        "In this section, we compare the forward solutions produced by Redbird-m and mcx to validate that both toolboxes produce similar results.\n",
        "\n",
        "We show you examples of the forward solutions produced on a homogeneous domain using a single point source or an array of wide-field patterns.\n",
        "\n",
        "In general, Redbird-m and mmclab (as well as mcxlab) share a similar data structure - i.e. the simulation settings are passed onto redbird functions in the form a MATLAB/Octave `struct` object, similar to the `cfg` struct we discussed in earlier sessions."
      ],
      "metadata": {
        "id": "9ed4fNORmZM3"
      }
    },
    {
      "cell_type": "markdown",
      "source": [
        "### Single point-source forward validation\n",
        "In the below example we prepare the general setting for running a forward simulation of a homogeneous domain using a single point source for both Redbird-m and MCX."
      ],
      "metadata": {
        "id": "WGhG-xvvnQHl"
      }
    },
    {
      "cell_type": "markdown",
      "source": [
        "#### Define general parameters for Redbird-m single point-source forward simulation"
      ],
      "metadata": {
        "id": "MSSdN-RtpMDE"
      }
    },
    {
      "cell_type": "code",
      "source": [
        "%%octave\n",
        "\n",
        "clear cfg0\n",
        "clc\n",
        "\n",
        "% Generate homogeneous domain\n",
        "domsz   = [50 50 40]; % Domain size\n",
        "resmesh = 2;\n",
        "[nobbx,elembbx] = meshgrid5(0:resmesh:domsz(1),0:resmesh:domsz(2),0:resmesh:domsz(3)); % Meshbox domain (in mm)\n",
        "fcbbx   = volface(elembbx);\n",
        "[cfg0.node, cfg0.elem] = s2m(nobbx,fcbbx(:,1:3),1,25,'tetgen1.5',[11 1 1]); % Generate measured/real heterogeneous domain\n",
        "cfg0.elem = cfg0.elem(:,1:4);\n",
        "clear nobbx elembbx fcbbx\n",
        "cfg0.seg = ones(size(cfg0.elem,1),1);\n",
        "\n",
        "% Visualize domain\n",
        "figure, plotmesh(cfg0.node, cfg0.elem,'y>25')\n",
        "\n",
        "% General settings for RB simulations\n",
        "cfg0.prop  = [0       0 1 1   ; ...\n",
        "              0.006 0.8 0 1.37];\n",
        "\n",
        "% Define RB point source simulation parameters\n",
        "cfg0.srcpos = [24.5 24.5 0];\n",
        "cfg0.srcdir = [0 0  1];\n",
        "cfg0.detpos = [34.5 24.5 domsz(3)];\n",
        "cfg0.detdir = [0 0 -1];\n",
        "\n",
        "cfg = cfg0;\n",
        "[cfg0,sd0] = rbmeshprep(cfg0);\n",
        "\n",
        "% Run RB forward simulation\n",
        "[detphi0,phi0] = rbrunforward(cfg0,'sd',sd0);\n"
      ],
      "metadata": {
        "id": "egy2dsq6GLKY"
      },
      "execution_count": null,
      "outputs": []
    },
    {
      "cell_type": "markdown",
      "source": [
        "#### Define general parameters for MCX single point-source forward simulation"
      ],
      "metadata": {
        "id": "UN0gqWFgpVvc"
      }
    },
    {
      "cell_type": "code",
      "source": [
        "%%octave\n",
        "\n",
        "clear xcfg\n",
        "clc\n",
        "\n",
        "xcfg.nphoton    = 1e8;\n",
        "xcfg.vol        = uint8(ones(domsz));\n",
        "xcfg.gpuid      = 1;\n",
        "xcfg.autopilot  = 1;\n",
        "xcfg.prop       = cfg0.prop;\n",
        "xcfg.tstart     = 0;\n",
        "xcfg.tend       = 5e-9;\n",
        "xcfg.tstep      = 5e-9;\n",
        "xcfg.seed       = 99999;\n",
        "xcfg.issrcfrom0 = 0;\n",
        "xcfg.isreflect  = 1;\n",
        "xcfg.unitinmm   = 1;\n",
        "\n",
        "% Define MCX point source forward simulation\n",
        "xcfg.srcpos     = [25 25 0];\n",
        "xcfg.srcdir     = [0 0 1];\n",
        "\n",
        "% Run MCX forward simulation\n",
        "flux = mcxlab(xcfg);\n",
        "fcw  = flux.data*xcfg.tstep;\n"
      ],
      "metadata": {
        "id": "IfEm7xcnHVZV"
      },
      "execution_count": null,
      "outputs": []
    },
    {
      "cell_type": "markdown",
      "source": [
        "#### Compare MCX & Redbird-m solutions for single point-source solutions"
      ],
      "metadata": {
        "id": "_Df7mckFpyCs"
      }
    },
    {
      "cell_type": "code",
      "source": [
        "%%octave\n",
        "\n",
        "clc\n",
        "\n",
        "clines = 0:-0.5:-8;\n",
        "[xi,yi] = meshgrid(0.5:domsz(1)-0.5,0.5:domsz(3)-0.5);\n",
        "\n",
        "if isfield(cfg0,'srcpos0')\n",
        "  zslice = cfg0.srcpos0(1)+1;\n",
        "else\n",
        "  zslice = cfg0.srcpos(1)+1;\n",
        "end\n",
        "clim = [-8 0];\n",
        "\n",
        "figure,\n",
        "subplot(2,2,1)\n",
        "contourf(xi,yi,rot90(log10(abs(squeeze(fcw(:,xcfg.srcpos(2),:)))),-1),clines,'r-','LineWidth',2)\n",
        "set(gca,'xlim',[0 domsz(1)],'ylim',[0 domsz(3)],'YDir','Normal','XDir','Reverse')\n",
        "axis equal\n",
        "axis tight\n",
        "colorbar\n",
        "caxis([clim(1) clim(2)])\n",
        "title('MCX solution');\n",
        "\n",
        "subplot(2,2,2)\n",
        "plotmesh([cfg0.node full(log10(phi0(:,1)))],cfg0.elem,char(strcat('x>',num2str(zslice))))\n",
        "view([-1 0 0]);\n",
        "shading interp;\n",
        "colorbar;\n",
        "caxis([clim(1) clim(2)])\n",
        "title('Redbird solution');\n",
        "\n",
        "\n",
        "subplot(2,2,3:4)\n",
        "clines = 0:-0.5:-8;\n",
        "[xi,yi] = meshgrid(0.5:domsz(1)-0.5,0.5:domsz(3)-0.5);\n",
        "[cutpos,cutvalue,facedata] = qmeshcut(cfg0.elem,cfg0.node,phi0(:,1),char(strcat('x=',num2str(zslice))));\n",
        "vphi = griddata(cutpos(:,2),cutpos(:,3),cutvalue,xi+0.5,yi+0.5);\n",
        "\n",
        "[c,h] = contour(xi,yi,log10(vphi),clines,'r-','LineWidth',2);\n",
        "cwf   = squeeze(fcw(xcfg.srcpos(1),:,:,1))';\n",
        "hold on,contour(xi,yi,log10(cwf),clines,'b-','LineWidth',2);\n",
        "legend('RedBird','MCX')\n"
      ],
      "metadata": {
        "id": "On-58-rMHvtf"
      },
      "execution_count": null,
      "outputs": []
    },
    {
      "cell_type": "markdown",
      "source": [
        "### Wide-field source forward validation\n",
        "In the below example we prepare the general setting for running a forward simulation of a homogeneous domain using a set of sliding-bar source patterns for both Redbird-m and MCX."
      ],
      "metadata": {
        "id": "QFu9EBpXrABo"
      }
    },
    {
      "cell_type": "markdown",
      "source": [
        "#### Define general parameters for Redbird-m wide-field source forward simulation\n",
        "\n",
        "In this section we first generate a 50x50x40 mm homogeneous mesh; then we create a set of 16 sliding-bar source patterns (8 in x-direction and 8 in y-direction) and run the forward simulation in Redbirm-m."
      ],
      "metadata": {
        "id": "8BWvR0GgrUVT"
      }
    },
    {
      "cell_type": "code",
      "source": [
        "%%octave\n",
        "\n",
        "clear cfg0\n",
        "clc\n",
        "\n",
        "% Generate homogeneous domain\n",
        "domsz   = [50 50 40]; % Domain size\n",
        "resmesh = 2;\n",
        "[nobbx,elembbx] = meshgrid5(0:resmesh:domsz(1),0:resmesh:domsz(2),0:resmesh:domsz(3)); % Meshbox domain (in mm)\n",
        "fcbbx   = volface(elembbx);\n",
        "[cfg0.node, cfg0.elem] = s2m(nobbx,fcbbx(:,1:3),1,25,'tetgen1.5',[11 1 1]); % Generate measured/real heterogeneous domain\n",
        "cfg0.elem = cfg0.elem(:,1:4);\n",
        "clear nobbx elembbx fcbbx\n",
        "cfg0.seg = ones(size(cfg0.elem,1),1);\n",
        "\n",
        "% Visualize domain\n",
        "figure, plotmesh(cfg0.node, cfg0.elem,'y>25')\n",
        "\n",
        "% General settings for RB simulations\n",
        "cfg0.prop  = [0       0 1 1   ; ...\n",
        "              0.006 0.8 0 1.37];\n",
        "\n",
        "% Define RB wide-field source simulation parameters\n",
        "nBarpats   = 4; % Number of bar patterns in every x/y directions\n",
        "srcpattern = diag(ones(1,nBarpats));\n",
        "srcpattern = permute(repmat(srcpattern,[1,1,size(srcpattern, 1)]),[2 3 1]);\n",
        "srcpattern = cat(3,srcpattern,permute(srcpattern,[2 1 3]));\n",
        "detpattern = srcpattern;\n",
        "cfg0.srctype    = 'pattern';\n",
        "cfg0.srcpattern = srcpattern;\n",
        "cfg0.srcpos     = [9.5 9.5 0];\n",
        "cfg0.srcparam1  = [ 30   0 0 0];\n",
        "cfg0.srcparam2  = [  0  30 0 0];\n",
        "cfg0.srcdir     = [  0   0 1];\n",
        "cfg0.srcweight  = ones(1,nBarpats);\n",
        "cfg0.dettype    = 'pattern';\n",
        "cfg0.detpattern = detpattern;\n",
        "cfg0.detpos     = [9.5 9.5 domsz(3)];\n",
        "cfg0.detparam1  = [ 30   0  0 0];\n",
        "cfg0.detparam2  = [  0  30  0 0];\n",
        "cfg0.detdir     = [  0   0 -1];\n",
        "cfg0.detweight  = ones(1,nBarpats);\n",
        "\n",
        "cfg = cfg0;\n",
        "[cfg0,sd0] = rbmeshprep(cfg0);\n",
        "\n",
        "% Run RB forward simulation\n",
        "[detphi0,phi0] = rbrunforward(cfg0,'sd',sd0);"
      ],
      "metadata": {
        "id": "dMzqCzddrX7-"
      },
      "execution_count": null,
      "outputs": []
    },
    {
      "cell_type": "markdown",
      "source": [
        "#### Define general parameters for MCX wide-field source forward simulation\n",
        "\n",
        "In this section we first generate a 50x50x40 mm homogeneous voxelized domain; then we create a set of 16 sliding-bar source patterns (8 in x-direction and 8 in y-direction) and rn=un the forward simulation in MCX."
      ],
      "metadata": {
        "id": "Q3303Ja0sizb"
      }
    },
    {
      "cell_type": "code",
      "source": [
        "%%octave\n",
        "\n",
        "clear xcfg\n",
        "clc\n",
        "\n",
        "xcfg.nphoton    = 1e8;\n",
        "xcfg.vol        = uint8(ones(domsz));\n",
        "xcfg.gpuid      = 1;\n",
        "xcfg.autopilot  = 1;\n",
        "xcfg.prop       = cfg0.prop;\n",
        "xcfg.tstart     = 0;\n",
        "xcfg.tend       = 5e-9;\n",
        "xcfg.tstep      = 5e-9;\n",
        "xcfg.seed       = 99999;\n",
        "xcfg.issrcfrom0 = 0;\n",
        "xcfg.isreflect  = 1;\n",
        "xcfg.unitinmm   = 1;\n",
        "\n",
        "% Define MCX wide-field source forward simulation\n",
        "xcfg.srctype    = 'pattern';\n",
        "xcfg.srcpattern = permute(srcpattern,[3 1 2]);\n",
        "xcfg.srcnum     = size(srcpattern,3);\n",
        "xcfg.srcdir     = [0 0 1];\n",
        "xcfg.srcpos     = [10 10 0];\n",
        "xcfg.srcparam1  = [30  0 0 size(srcpattern,1)];\n",
        "xcfg.srcparam2  = [ 0 30 0 size(srcpattern,2)];\n",
        "xcfg.outputtype = 'fluence';\n",
        "\n",
        "% Run MCX forward simulation\n",
        "flux = mcxlab(xcfg);\n",
        "fcw  = flux.data;"
      ],
      "metadata": {
        "id": "K35rMvRVsc9E"
      },
      "execution_count": null,
      "outputs": []
    },
    {
      "cell_type": "markdown",
      "source": [
        "#### Compare MCX & Redbird-m solutions for sliding-bar source pattern solutions\n",
        "\n"
      ],
      "metadata": {
        "id": "mBbVS5X1vAdo"
      }
    },
    {
      "cell_type": "code",
      "source": [
        "%%octave\n",
        "\n",
        "clc\n",
        "\n",
        "clines = 0:-0.5:-8;\n",
        "[xi,yi] = meshgrid(0.5:domsz(1)-0.5,0.5:domsz(3)-0.5);\n",
        "\n",
        "if isfield(cfg0,'srcpos0')\n",
        "  zslice = cfg0.srcpos0(1)+1;\n",
        "else\n",
        "  zslice = cfg0.srcpos(1)+1;\n",
        "end\n",
        "clim = [-8 0];\n",
        "\n",
        "\n",
        "figure,\n",
        "subplot(2,2,1);\n",
        "contourf(rot90(log10(abs(squeeze(fcw(xcfg.srcpos(1),:,:,1)))),-1),clines,'r-','LineWidth',2)\n",
        "set(gca,'xlim',[0 domsz(1)],'ylim',[0 domsz(3)],'YDir','Normal','XDir','Reverse')\n",
        "axis equal\n",
        "axis tight\n",
        "colorbar\n",
        "caxis([clim(1) clim(2)])\n",
        "title('MCX solution');\n",
        "\n",
        "subplot(2,2,2);\n",
        "plotmesh([cfg0.node full(log10(phi0(:,1)))],cfg0.elem,char(strcat('x>',num2str(zslice))))\n",
        "view([-1 0 0]);\n",
        "shading interp;\n",
        "colorbar;\n",
        "caxis([clim(1) clim(2)])\n",
        "title('Redbird solution');\n",
        "\n",
        "subplot(2,2,3:4)\n",
        "clines = 0:-0.5:-8;\n",
        "[xi,yi] = meshgrid(0.5:domsz(1)-0.5,0.5:domsz(3)-0.5);\n",
        "[cutpos,cutvalue,facedata] = qmeshcut(cfg0.elem,cfg0.node,phi0(:,1),char(strcat('x=',num2str(zslice))));\n",
        "vphi = griddata(cutpos(:,2),cutpos(:,3),cutvalue,xi+0.5,yi+0.5);\n",
        "\n",
        "[c,h] = contour(xi,yi,log10(vphi),clines,'r-','LineWidth',2);\n",
        "cwf   = squeeze(fcw(xcfg.srcpos(1),:,:,1))';\n",
        "hold on,contour(xi,yi,log10(cwf),clines,'b-','LineWidth',2);\n",
        "legend('RedBird','MCX')\n"
      ],
      "metadata": {
        "id": "17e-XK8KtdHV"
      },
      "execution_count": null,
      "outputs": []
    },
    {
      "cell_type": "markdown",
      "source": [
        "## Getting to know Redbird-m forward functionalities\n",
        "\n",
        "In the below sections we introduce some of the functionalities of Redbird-m. We show how to produce forward simulations of continuous (CW) and frequency-domain (FD) illuminations using either arrays of point-sources/detector or sets of wide-field source/detector patterns."
      ],
      "metadata": {
        "id": "OUPPfMZwvfU5"
      }
    },
    {
      "cell_type": "markdown",
      "source": [
        "### Forward simulations of CW/FD point-source arrays using Redbird-m\n",
        "\n",
        "In this example we generate a 50x50x40 homogeneous domain to run forward simulations of an array of 3x3 point-sources located at the bottom syrface of the mesh as well as an array of 3x3 point-detectors located at the top surface of the domain. We demonstrate the capability of Redbird-m to produce forward solution of CW or FD point illumination and detection."
      ],
      "metadata": {
        "id": "Q92m-FGDwUqY"
      }
    },
    {
      "cell_type": "code",
      "source": [
        "%%octave\n",
        "\n",
        "clear cfg0\n",
        "clc\n",
        "\n",
        "% Generate homogeneous domain\n",
        "domsz   = [50 50 40]; % Domain size\n",
        "resmesh = 2;\n",
        "[nobbx,elembbx] = meshgrid5(0:resmesh:domsz(1),0:resmesh:domsz(2),0:resmesh:domsz(3)); % Meshbox domain (in mm)\n",
        "fcbbx   = volface(elembbx);\n",
        "[cfg0.node, cfg0.elem] = s2m(nobbx,fcbbx(:,1:3),1,25,'tetgen1.5',[11 1 1]); % Generate measured/real heterogeneous domain\n",
        "cfg0.elem = cfg0.elem(:,1:4);\n",
        "clear nobbx elembbx fcbbx\n",
        "cfg0.seg = ones(size(cfg0.elem,1),1);\n",
        "\n",
        "% Visualize domain\n",
        "figure, plotmesh(cfg0.node, cfg0.elem,'y>25')\n",
        "\n",
        "% General settings for RB simulations\n",
        "cfg0.prop  = [0       0 1 1   ; ...\n",
        "              0.006 0.8 0 1.37];\n",
        "mfreq      = 0 # @param [0, 135] {type:\"raw\"}\n",
        "cfg0.omega = mfreq*1e6*2*pi;\n",
        "\n",
        "% Define parameters for RB point-source array simulation\n",
        "nsrc        = [3 3]; % Number of point src/det in xy axis\n",
        "[xi,yi]     = meshgrid(linspace(10,40,nsrc(1)),linspace(10,40,nsrc(2)));\n",
        "cfg0.srcpos = [xi(:),yi(:),zeros(numel(yi),1)];\n",
        "cfg0.detpos = [xi(:),yi(:),domsz(3)*ones(numel(yi),1)];\n",
        "cfg0.srcdir = [0 0  1];\n",
        "cfg0.detdir = [0 0 -1];\n",
        "\n",
        "cfg = cfg0;\n",
        "[cfg0,sd0] = rbmeshprep(cfg0);\n",
        "\n",
        "% Run RB forward simulation\n",
        "[detphi0,phi0] = rbrunforward(cfg0,'sd',sd0);\n"
      ],
      "metadata": {
        "id": "VO-BgE5ywj9f"
      },
      "execution_count": null,
      "outputs": []
    },
    {
      "cell_type": "markdown",
      "source": [
        "### Visualize Redbird-m point-source array forward simulations"
      ],
      "metadata": {
        "id": "-IyU7xpDz2iG"
      }
    },
    {
      "cell_type": "code",
      "source": [
        "%%octave\n",
        "\n",
        "clc\n",
        "\n",
        "% Select src/det optodes to visualize\n",
        "idxsrc = 8 # @param [1,2,3,4,5,6,7,8,9] {type:\"raw\"}\n",
        "detid  = 9 # @param [1,2,3,4,5,6,7,8,9] {type:\"raw\"}\n",
        "idxdet = detid + 9;\n",
        "\n",
        "if ~isreal(phi0) % If FD simulation\n",
        "  nplot = 2;\n",
        "else\n",
        "  nplot = 1;\n",
        "end\n",
        "\n",
        "figure,\n",
        "subplot(nplot,2,1),plotmesh([cfg0.node log(abs(phi0(:,idxsrc)))],cfg0.elem,char(strcat('y>25'))),shading interp,colorbar,title('Src Log Amplitude') % Visualize fluence amplitude from det#10\n",
        "subplot(nplot,2,2),plotmesh([cfg0.node log(abs(phi0(:,idxdet)))],cfg0.elem,char(strcat('y>25'))),shading interp,colorbar,title('Det Log Amplitude') % Visualize fluence amplitude from det#10\n",
        "if ~isreal(phi0)\n",
        "  subplot(nplot,2,3),plotmesh([cfg0.node   angle(phi0(:,idxsrc))],cfg0.elem,char(strcat('y>25'))),shading interp,colorbar,title('Src Phase') % Visualize fluence phase from det#10\n",
        "  subplot(nplot,2,4),plotmesh([cfg0.node   angle(phi0(:,idxdet))],cfg0.elem,char(strcat('y>25'))),shading interp,colorbar,title('Det Phase') % Visualize fluence phase from det#10\n",
        "end\n",
        "\n",
        "% Visualize sensitivity matrix\n",
        "figure,plotmesh([cfg0.node   log(abs(prod(phi0(:,[idxsrc idxdet]),2)))],cfg0.elem,'y>25') ,shading interp,colorbar,title('Amplitude Sensitivity Matrix') % Visualize sensitivity matrix src#1 & det#10\n",
        "if ~isreal(phi0)\n",
        "  figure,plotmesh([cfg0.node angle(prod(phi0(:,[idxsrc idxdet]),2))],cfg0.elem,'y>25') ,shading interp,colorbar,title('Phase Sensitivity Matrix') % Visualize sensitivity matrix src#1 & det#10\n",
        "end\n"
      ],
      "metadata": {
        "id": "0blc45-LVFu2"
      },
      "execution_count": null,
      "outputs": []
    },
    {
      "cell_type": "markdown",
      "source": [
        "### Forward simulations of CW/FD wide-field source/detector patterns using Redbird-m\n",
        "\n",
        "In this example we generate a 50x50x40 homogeneous domain to run forward simulations of a total of 8 wide-field source patterns (4 in x-direction, 4 in y-direction) located at the bottom surface of the mesh as well as similar set of 8 wide-field detector patterns (4 in x-direction, 4 in y-direction) located at the top surface of the domain. We demonstrate the capability of Redbird-m to produce forward solution of CW or FD wide-field illuminations/detections."
      ],
      "metadata": {
        "id": "XHG5NuZi2aUN"
      }
    },
    {
      "cell_type": "code",
      "source": [
        "%%octave\n",
        "\n",
        "clear cfg0\n",
        "clc\n",
        "\n",
        "% Generate homogeneous domain\n",
        "domsz   = [50 50 40]; % Domain size\n",
        "resmesh = 2;\n",
        "[nobbx,elembbx] = meshgrid5(0:resmesh:domsz(1),0:resmesh:domsz(2),0:resmesh:domsz(3)); % Meshbox domain (in mm)\n",
        "fcbbx   = volface(elembbx);\n",
        "[cfg0.node, cfg0.elem] = s2m(nobbx,fcbbx(:,1:3),1,25,'tetgen1.5',[11 1 1]); % Generate measured/real heterogeneous domain\n",
        "cfg0.elem = cfg0.elem(:,1:4);\n",
        "clear nobbx elembbx fcbbx\n",
        "cfg0.seg = ones(size(cfg0.elem,1),1);\n",
        "\n",
        "% Visualize domain\n",
        "figure, plotmesh(cfg0.node, cfg0.elem,'y>25')\n",
        "\n",
        "% General settings for RB simulations\n",
        "cfg0.prop  = [0       0 1 1   ; ...\n",
        "              0.006 0.8 0 1.37];\n",
        "mfreq      = 135 # @param [0, 135] {type:\"raw\"}\n",
        "cfg0.omega = mfreq*1e6*2*pi;\n",
        "\n",
        "% Define RB wide-field source simulation parameters\n",
        "nBarpats   = 4; % Number of bar patterns in x/y directions\n",
        "srcpattern = diag(ones(1,nBarpats));\n",
        "srcpattern = permute(repmat(srcpattern,[1,1,size(srcpattern, 1)]),[2 3 1]);\n",
        "srcpattern = cat(3,srcpattern,permute(srcpattern,[2 1 3]));\n",
        "detpattern = srcpattern;\n",
        "cfg0.srctype    = 'pattern';\n",
        "cfg0.srcpattern = srcpattern;\n",
        "cfg0.srcpos     = [10 10 0];\n",
        "cfg0.srcparam1  = [30  0 0 0];\n",
        "cfg0.srcparam2  = [ 0 30 0 0];\n",
        "cfg0.srcdir     = [ 0  0 1];\n",
        "cfg0.srcweight  = ones(1,nBarpats);\n",
        "cfg0.dettype    = 'pattern';\n",
        "cfg0.detpattern = detpattern;\n",
        "cfg0.detpos     = [10 10 domsz(3)];\n",
        "cfg0.detparam1  = [30  0  0 0];\n",
        "cfg0.detparam2  = [ 0 30  0 0];\n",
        "cfg0.detdir     = [ 0  0 -1];\n",
        "cfg0.detweight  = ones(1,nBarpats);\n",
        "\n",
        "cfg = cfg0;\n",
        "[cfg0,sd0] = rbmeshprep(cfg0);\n",
        "\n",
        "% Run RB forward simulation\n",
        "[detphi0,phi0] = rbrunforward(cfg0,'sd',sd0);"
      ],
      "metadata": {
        "id": "TSwKu4eP2_nY"
      },
      "execution_count": null,
      "outputs": []
    },
    {
      "cell_type": "markdown",
      "source": [
        "### Visualize Redbird-m wide-field source/detector pattern forward simulations"
      ],
      "metadata": {
        "id": "D5XqWuJ16ZBM"
      }
    },
    {
      "cell_type": "code",
      "source": [
        "%%octave\n",
        "\n",
        "clc\n",
        "\n",
        "% Select src/det optodes to visualize\n",
        "idxsrc = 2 # @param [1,2,3,4,5,6,7,8] {type:\"raw\"}\n",
        "detid  = 3 # @param [1,2,3,4,5,6,7,8] {type:\"raw\"}\n",
        "idxdet = detid + 8;\n",
        "\n",
        "if ~isreal(phi0) % If FD simulation\n",
        "  nplot = 2;\n",
        "else\n",
        "  nplot = 1;\n",
        "end\n",
        "\n",
        "figure,\n",
        "subplot(nplot,2,1),plotmesh([cfg0.node log(abs(phi0(:,idxsrc)))],cfg0.elem,char(strcat('y>25'))),shading interp,colorbar,title('Src Log Amplitude') % Visualize fluence amplitude from det#10\n",
        "subplot(nplot,2,2),plotmesh([cfg0.node log(abs(phi0(:,idxdet)))],cfg0.elem,char(strcat('y>25'))),shading interp,colorbar,title('Det Log Amplitude') % Visualize fluence amplitude from det#10\n",
        "if ~isreal(phi0)\n",
        "  subplot(nplot,2,3),plotmesh([cfg0.node   angle(phi0(:,idxsrc))],cfg0.elem,char(strcat('y>25'))),shading interp,colorbar,title('Src Phase') % Visualize fluence phase from det#10\n",
        "  subplot(nplot,2,4),plotmesh([cfg0.node   angle(phi0(:,idxdet))],cfg0.elem,char(strcat('y>25'))),shading interp,colorbar,title('Det Phase') % Visualize fluence phase from det#10\n",
        "end\n",
        "\n",
        "\n",
        "% Visualize sensitivity matrix\n",
        "figure,plotmesh([cfg0.node   log(abs(prod(phi0(:,[idxsrc idxdet]),2)))],cfg0.elem,'y>25') ,shading interp,colorbar,title('Log Amplitude Sensitivity Matrix') % Visualize sensitivity matrix src#1 & det#10\n",
        "if ~isreal(phi0)\n",
        "  figure,plotmesh([cfg0.node angle(prod(phi0(:,[idxsrc idxdet]),2))],cfg0.elem,'y>25') ,shading interp,colorbar,title('Phase Sensitivity Matrix') % Visualize sensitivity matrix src#1 & det#10\n",
        "end"
      ],
      "metadata": {
        "id": "6nrw6EiR4qZk"
      },
      "execution_count": null,
      "outputs": []
    },
    {
      "cell_type": "markdown",
      "source": [
        "## Single-spectra Redbird-m reconstruction using point-source arrays of CW/FD illumination\n",
        "\n",
        "In this section, we prepare a heterogenous mesh domain of 100x0100x40 mm with two inclusions with 2x absorption contrast located off-center in the z-axis (z = 15 mm).\n",
        "\n",
        "First, we define the general setting to create the heterogenous domain along with a 4x4 point-source/detector array in a transmission geometry. We run a forward simulation on the heterogeneous domain (cfg0) to create simulated data (detphi0). Then, we create a homogeneous forward mesh (cfg) over which the inverse problem solution will be projected. We also create a sparse reconstruction mesh (recon) to speed up the Jacobian inversion and project those solutions over the forward mesh."
      ],
      "metadata": {
        "id": "KjgGg8f4O8k1"
      }
    },
    {
      "cell_type": "markdown",
      "source": [
        "### General parameters for producing synthetic data\n",
        "\n",
        "In this section we define the general parameters for running Redbird-m forward simulation to create synthetic data of a dual-inclusion heterogeneous domain using a 4x4 point-source array at the bottom of the domain and a similar one at the top of the domain for detection. We then create the forward and reconstruction meshes.\n",
        "\n",
        "If generating synthetic data using FD point-source, we then perform a bulk optical properties fitting.\n",
        "\n",
        "Last, using the simulated data (detphi0) and the forward and recon meshes, we perform an iterative reconstruction."
      ],
      "metadata": {
        "id": "DmeKc_BYPBTz"
      }
    },
    {
      "cell_type": "code",
      "source": [
        "%%octave\n",
        "\n",
        "clear cfg0 cfg recon\n",
        "clc\n",
        "\n",
        "domsz = [100 100 40];     % Domain size\n",
        "s0    = [35, 65, 15 5;... % Central position xyz and radius of the inclusion (in mm)\n",
        "         60, 30, 15 5];\n",
        "\n",
        "% Bounding box w/ 2 inclusions\n",
        "resmesh = 5;\n",
        "[nobbx,elembbx] = meshgrid5(0:resmesh:domsz(1),0:resmesh:domsz(2),0:resmesh:domsz(3)); % Meshbox domain (in mm)\n",
        "fcbbx   = volface(elembbx);\n",
        "[nobbx,fcbbx] = removeisolatednode(nobbx,fcbbx);\n",
        "[nosp1,fcsp1] = meshasphere(s0(1,1:3),s0(1,4),1); % Sphare mesh location (s0, radious, maxvol)\n",
        "[nosp2,fcsp2] = meshasphere(s0(2,1:3),s0(2,4),1); % Sphare mesh location (s1, radious, maxvol)\n",
        "[no,fc]       = mergemesh(nobbx,fcbbx,nosp1,fcsp1,nosp2,fcsp2); % Merge meshbox and sphere meshes (FOR DUAL INCLUSION DOMAIN)\n",
        "[cfg0.node, cfg0.elem] = s2m(no,fc(:,1:3),1,25,'tetgen1.5',[11 1 1;s0(1,1:3);s0(2,1:3)]); % Generate measured/real heterogeneous domain\n",
        "clear nobbx elembbx fcbbx nosp1 fcsp1 nosp2 fcsp2 no fc\n",
        "\n",
        "% Visualize domain\n",
        "figure, plotmesh(cfg0.node, cfg0.elem,char(strcat('z<',num2str(s0(1,3)))))\n",
        "\n",
        "% General settings for RB simulations\n",
        "cfg0.prop = [     0  0 1 1   ; ...\n",
        "             0.006 0.8 0 1.37; ...\n",
        "             0.012 0.8 0 1.37; ...\n",
        "             0.012 0.8 0 1.37];\n",
        "mfreq      = 135 # @param [0, 135] {type:\"raw\"}\n",
        "cfg0.omega = mfreq*1e6*2*pi;\n",
        "\n",
        "% Define parameters for RB point-source array simulation\n",
        "nsrc        = [4 4]; % Number of point src/det in xy axis\n",
        "[xi,yi]     = meshgrid(linspace(20,80,nsrc(1)),linspace(20,80,nsrc(2)));\n",
        "cfg0.srcpos = [xi(:),yi(:),zeros(numel(yi),1)];\n",
        "cfg0.detpos = [xi(:),yi(:),domsz(3)*ones(numel(yi),1)];\n",
        "cfg0.srcdir = [0 0  1];\n",
        "cfg0.detdir = [0 0 -1];\n",
        "\n",
        "cfg = cfg0;\n",
        "[cfg0,sd0] = rbmeshprep(cfg0);\n",
        "\n",
        "% Run RB forward simulation\n",
        "[detphi0,phi0] = rbrunforward(cfg0,'sd',sd0);\n",
        "\n",
        "% Set fwd mesh to be homogeneous\n",
        "cfg = rbsetmesh(cfg,cfg.node,cfg.elem,cfg.prop,ones(size(cfg.node,1),1));\n",
        "\n",
        "% Prepare recon mesh\n",
        "resmesh    = 5;\n",
        "[no,elem]  = meshgrid5(0:resmesh:domsz(1),0:resmesh:domsz(2),0:resmesh:domsz(3)); % Meshbox domain (in mm)\n",
        "fc         = volface(elem);\n",
        "[no,fc]    = removeisolatednode(no,fc);\n",
        "[recon.node, recon.elem] = s2m(no,fc(:,1:3),1,50,'tetgen1.5');\n",
        "recon.elem = recon.elem(:,1:4);\n",
        "[recon.mapid,recon.mapweight] = tsearchn(recon.node,recon.elem(:,1:4),cfg.node);\n",
        "clear no elem fc\n",
        "\n",
        "% Visualize simulated data\n",
        "figure,plot(abs(detphi0(:))),title('Channel-wise amplitude')\n",
        "if ~isreal(phi0)\n",
        "  figure,plot(angle(detphi0(:))),title('Channel-wise phase')\n",
        "end\n"
      ],
      "metadata": {
        "id": "FFWDsNZVPFGe"
      },
      "execution_count": null,
      "outputs": []
    },
    {
      "cell_type": "markdown",
      "source": [
        "### Run bulk optical properties fitting\n",
        "\n",
        "If utilizing FD sources, we can then perform a bulk optical properties fitting to decouple absorption and reduce scatterring coefficients. Otherwise, set them to be the true background optical properties used to generate synthetic data.\n",
        "\n",
        "The bulk optical properties are then set as initial guess for launching the iterative reconstruction procedure."
      ],
      "metadata": {
        "id": "edR2ouTtPH5c"
      }
    },
    {
      "cell_type": "code",
      "source": [
        "%%octave\n",
        "\n",
        "if cfg0.omega > 0 % If simulating FD data, run bulk fitting\n",
        "\n",
        "  % Set initial guess\n",
        "  recon.prop = [0     0   1 1    ; ...\n",
        "                0.008 0.9 0 1.37];\n",
        "\n",
        "  sd = rbsdmap(cfg);\n",
        "  [newrecon,resid] = rbrun(cfg,recon,detphi0,sd,'mode','bulk','lambda',1e-5,'maxiter',5);\n",
        "\n",
        "else % If running CW data, assing bulk optical properties\n",
        "\n",
        "  % Bulk optical properties to be used\n",
        "  newrecon.prop = [0       0 1 1    ; ...\n",
        "                   0.006 0.8 0 1.37];\n",
        "\n",
        "end\n",
        "\n",
        "% Set nodal-based optical properties to the bulk fitted values\n",
        "recon.prop = newrecon.prop(ones(size(recon.node,1),1)+1,:);\n",
        "cfg.prop   = newrecon.prop(ones(size(cfg.node,1),1)+1,:);\n",
        "cfg        = rmfield(cfg,'seg');\n",
        "newrecon.prop"
      ],
      "metadata": {
        "id": "5H24tyAnPK-Z"
      },
      "execution_count": null,
      "outputs": []
    },
    {
      "cell_type": "markdown",
      "source": [
        "### Run iterative reconstruction"
      ],
      "metadata": {
        "id": "v1FnVIGZPP2K"
      }
    },
    {
      "cell_type": "code",
      "source": [
        "%%octave\n",
        "\n",
        "sd = rbsdmap(cfg);\n",
        "[reconMS,residMS,cfgMS] = rbrun(cfg,recon,detphi0,sd,'mode','image','lambda',1e-6,'maxiter',5);"
      ],
      "metadata": {
        "id": "66CAK6d5PSv3"
      },
      "execution_count": null,
      "outputs": []
    },
    {
      "cell_type": "markdown",
      "source": [
        "### Visualize reconstructed tomographic images"
      ],
      "metadata": {
        "id": "j9JDBWbQPV4Y"
      }
    },
    {
      "cell_type": "code",
      "source": [
        "%%octave\n",
        "\n",
        "% Generate a cross section slice of the domain\n",
        "[xi,yi]             = meshgrid(min(cfg.node(:,1),[],1):1:max(cfg.node(:,1),[],1),min(cfg.node(:,2),[],1):1:max(cfg.node(:,2),[],1));\n",
        "[cutpos,cutvalue,~] = qmeshcut(reconMS.elem,reconMS.node,(reconMS.prop(:,1)),char(strcat('z =',num2str(s0(1,3)))));\n",
        "clear vphi\n",
        "vphi(:,:,1)         = griddata(cutpos(:,1),cutpos(:,2),cutvalue,xi,yi);\n",
        "\n",
        "% Visualize results\n",
        "\n",
        "figure,\n",
        "subplot(1,2,1);\n",
        "axis equal\n",
        "hold on;\n",
        "imagesc(vphi);\n",
        "colorbar;\n",
        "axis tight;\n",
        "for mm = 1:size(s0,1)\n",
        "    hold on,plot(1:size(vphi,2),s0(mm,2).*ones(1,size(vphi,2)),'LineWidth',4,'LineStyle','-.')\n",
        "end\n",
        "subplot(1,2,2)\n",
        "for mm = 1:size(s0,1)\n",
        "    hold on,plot(vphi(s0(mm,2),:))\n",
        "end"
      ],
      "metadata": {
        "id": "iHct4WbNPYWg"
      },
      "execution_count": null,
      "outputs": []
    },
    {
      "cell_type": "markdown",
      "source": [
        "## Single-spectra Redbird-m reconstruction using wide-field source/detection of CW/FD illumination\n",
        "\n",
        "In this section, we prepare a heterogenous mesh domain of 100x0100x40 mm with two inclusions with 2x absorption contrast located off-center in the z-axis (z = 15 mm).\n",
        "\n",
        "First, we define the general setting to create the heterogenous domain along with a total of 32 wide-field source patterns in a transmission geometry. We run a forward simulation on the heterogeneous domain (cfg0) to create simulated data (detphi0). Then, we create a homogeneous forward mesh (cfg) over which the inverse problem solution will be projected. We also create a sparse reconstruction mesh (recon) to speed up the Jacobian inversion and project those solutions over the forward mesh."
      ],
      "metadata": {
        "id": "d2p0mWgYPdyS"
      }
    },
    {
      "cell_type": "markdown",
      "source": [
        "### General parameters for producing synthetic data\n",
        "\n",
        "In this section we define the general parameters for running Redbird-m forward simulation to create synthetic data of a dual-inclusion heterogeneous domain using a total of 32 wide-field source patterns (16 in the x-direction and 16 in the y-direction) located at the bottom of the domain and a similar one at the top of the domain for detection. We then create the forward and reconstruction meshes.\n",
        "\n",
        "If generating synthetic data using FD point-source, we then perform a bulk optical properties fitting.\n",
        "\n",
        "Last, using the simulated data (detphi0) and the forward and recon meshes, we perform an iterative reconstruction."
      ],
      "metadata": {
        "id": "90AAUtc2Pgfz"
      }
    },
    {
      "cell_type": "code",
      "source": [
        "%%octave\n",
        "\n",
        "clear cfg0 cfg recon\n",
        "clc\n",
        "\n",
        "domsz = [100 100 40];     % Domain size\n",
        "s0    = [35, 65, 15 5;... % Central position xyz and radius of the inclusion (in mm)\n",
        "         60, 30, 15 5];\n",
        "\n",
        "% Bounding box w/ 2 inclusions\n",
        "resmesh = 5;\n",
        "[nobbx,elembbx] = meshgrid5(0:resmesh:domsz(1),0:resmesh:domsz(2),0:resmesh:domsz(3)); % Meshbox domain (in mm)\n",
        "fcbbx   = volface(elembbx);\n",
        "[nobbx,fcbbx] = removeisolatednode(nobbx,fcbbx);\n",
        "[nosp1,fcsp1] = meshasphere(s0(1,1:3),s0(1,4),1); % Sphare mesh location (s0, radious, maxvol)\n",
        "[nosp2,fcsp2] = meshasphere(s0(2,1:3),s0(2,4),1); % Sphare mesh location (s1, radious, maxvol)\n",
        "[no,fc]       = mergemesh(nobbx,fcbbx,nosp1,fcsp1,nosp2,fcsp2); % Merge meshbox and sphere meshes (FOR DUAL INCLUSION DOMAIN)\n",
        "[cfg0.node, cfg0.elem] = s2m(no,fc(:,1:3),1,25,'tetgen1.5',[11 1 1;s0(1,1:3);s0(2,1:3)]); % Generate measured/real heterogeneous domain\n",
        "clear nobbx elembbx fcbbx nosp1 fcsp1 nosp2 fcsp2 no fc\n",
        "\n",
        "% Visualize domain\n",
        "figure, plotmesh(cfg0.node, cfg0.elem,char(strcat('z<',num2str(s0(1,3)))))\n",
        "\n",
        "% General settings for RB simulations\n",
        "cfg0.prop = [     0  0 1 1   ; ...\n",
        "             0.006 0.8 0 1.37; ...\n",
        "             0.012 0.8 0 1.37; ...\n",
        "             0.012 0.8 0 1.37];\n",
        "mfreq      = 135 # @param [0, 135] {type:\"raw\"}\n",
        "cfg0.omega = mfreq*1e6*2*pi;\n",
        "\n",
        "% Define parameter for RB widefield simulation\n",
        "nBarpats   = 16; % Number of bar patterns in x/y directions\n",
        "srcpattern = diag(ones(1,nBarpats));\n",
        "srcpattern = permute(repmat(srcpattern,[1,1,size(srcpattern, 1)]),[2 3 1]);\n",
        "srcpattern = cat(3,srcpattern,permute(srcpattern,[2 1 3]));\n",
        "detpattern = srcpattern;\n",
        "cfg0.srctype    = 'pattern';\n",
        "cfg0.srcpos     = [20 20  0];\n",
        "cfg0.srcdir     = [ 0  0  1];\n",
        "cfg0.srcparam1  = [60  0 0 0];\n",
        "cfg0.srcparam2  = [ 0 60 0 0];\n",
        "cfg0.srcpattern = srcpattern;\n",
        "cfg0.srcweight  = ones(1,nBarpats*2);\n",
        "cfg0.dettype    = 'pattern';\n",
        "cfg0.detpos     = [20 20 domsz(3)];\n",
        "cfg0.detdir     = [ 0  0 -1];\n",
        "cfg0.detparam1  = [60  0  0 0];\n",
        "cfg0.detparam2  = [ 0 60  0 0];\n",
        "cfg0.detpattern = srcpattern;\n",
        "cfg0.detweight  = ones(1,nBarpats*2);\n",
        "\n",
        "cfg = cfg0;\n",
        "[cfg0,sd0] = rbmeshprep(cfg0);\n",
        "\n",
        "% Run RB forward simulation\n",
        "[detphi0,phi0] = rbrunforward(cfg0,'sd',sd0);\n",
        "\n",
        "% Set fwd mesh to be homogeneous\n",
        "cfg = rbsetmesh(cfg,cfg.node,cfg.elem,cfg.prop,ones(size(cfg.node,1),1));\n",
        "\n",
        "% Prepare recon mesh\n",
        "resmesh    = 5;\n",
        "[no,elem]  = meshgrid5(0:resmesh:domsz(1),0:resmesh:domsz(2),0:resmesh:domsz(3)); % Meshbox domain (in mm)\n",
        "fc         = volface(elem);\n",
        "[no,fc]    = removeisolatednode(no,fc);\n",
        "[recon.node, recon.elem] = s2m(no,fc(:,1:3),1,50,'tetgen1.5');\n",
        "recon.elem = recon.elem(:,1:4);\n",
        "[recon.mapid,recon.mapweight] = tsearchn(recon.node,recon.elem(:,1:4),cfg.node);\n",
        "clear no elem fc\n",
        "\n",
        "% Visualize simulated data\n",
        "figure,plot(abs(detphi0(:))),title('Single=pixel amplitude')\n",
        "if ~isreal(phi0)\n",
        "  figure,plot(angle(detphi0(:))),title('Single-pixel phase')\n",
        "end\n"
      ],
      "metadata": {
        "id": "dXFS0lgNPj5l"
      },
      "execution_count": null,
      "outputs": []
    },
    {
      "cell_type": "markdown",
      "source": [
        "### Run bulk optical properties fitting\n",
        "\n",
        "If utilizing FD sources, we can then perform a bulk optical properties fitting to decouple absorption and reduce scatterring coefficients. Otherwise, set them to be the true background optical properties used to generate synthetic data.\n",
        "\n",
        "The bulk optical properties are then set as initial guess for launching the iterative reconstruction procedure."
      ],
      "metadata": {
        "id": "3kjP_ZG-Pn-T"
      }
    },
    {
      "cell_type": "code",
      "source": [
        "%%octave\n",
        "\n",
        "if cfg0.omega > 0 % If simulating FD data, run bulk fitting\n",
        "\n",
        "  % Set initial guess\n",
        "  recon.prop = [0     0   1 1    ; ...\n",
        "                0.008 0.9 0 1.37];\n",
        "\n",
        "  sd = rbsdmap(cfg);\n",
        "  [newrecon,resid] = rbrun(cfg,recon,detphi0,sd,'mode','bulk','lambda',1e-5,'maxiter',3);\n",
        "\n",
        "else % If running CW data, assing bulk optical properties\n",
        "\n",
        "  % Bulk optical properties to be used\n",
        "  newrecon.prop = [0       0 1 1    ; ...\n",
        "                   0.006 0.8 0 1.37];\n",
        "\n",
        "end\n",
        "\n",
        "% Set nodal-based optical properties to the bulk fitted values\n",
        "recon.prop = newrecon.prop(ones(size(recon.node,1),1)+1,:);\n",
        "cfg.prop   = newrecon.prop(ones(size(cfg.node,1),1)+1,:);\n",
        "cfg        = rmfield(cfg,'seg');\n",
        "newrecon.prop"
      ],
      "metadata": {
        "id": "8S2MF9pZPq2d"
      },
      "execution_count": null,
      "outputs": []
    },
    {
      "cell_type": "markdown",
      "source": [
        "### Run iterative reconstruction"
      ],
      "metadata": {
        "id": "pf_Wg-RMPtoh"
      }
    },
    {
      "cell_type": "code",
      "source": [
        "%%octave\n",
        "\n",
        "sd = rbsdmap(cfg);\n",
        "[reconMS,residMS,cfgMS] = rbrun(cfg,recon,detphi0,sd,'mode','image','lambda',1e-6,'maxiter',3);"
      ],
      "metadata": {
        "id": "HjTO4-jaPvuZ"
      },
      "execution_count": null,
      "outputs": []
    },
    {
      "cell_type": "markdown",
      "source": [
        "### Visualize reconstructed tomographic images"
      ],
      "metadata": {
        "id": "8IlB3cMnPyWY"
      }
    },
    {
      "cell_type": "code",
      "source": [
        "%%octave\n",
        "\n",
        "% Generate a cross section slice of the domain\n",
        "[xi,yi]             = meshgrid(min(cfg.node(:,1),[],1):1:max(cfg.node(:,1),[],1),min(cfg.node(:,2),[],1):1:max(cfg.node(:,2),[],1));\n",
        "[cutpos,cutvalue,~] = qmeshcut(reconMS.elem,reconMS.node,(reconMS.prop(:,1)),char(strcat('z =',num2str(s0(1,3)))));\n",
        "clear vphi\n",
        "vphi(:,:,1)         = griddata(cutpos(:,1),cutpos(:,2),cutvalue,xi,yi);\n",
        "\n",
        "% Visualize results\n",
        "figure,\n",
        "subplot(1,2,1);\n",
        "axis equal\n",
        "hold on;\n",
        "imagesc(vphi);\n",
        "colorbar;\n",
        "axis tight;\n",
        "for mm = 1:size(s0,1)\n",
        "    hold on,plot(1:size(vphi,2),s0(mm,2).*ones(1,size(vphi,2)),'LineWidth',4,'LineStyle','-.')\n",
        "end\n",
        "subplot(1,2,2)\n",
        "for mm = 1:size(s0,1)\n",
        "    hold on,plot(vphi(s0(mm,2),:))\n",
        "end"
      ],
      "metadata": {
        "id": "UMOfLorzP0Y5"
      },
      "execution_count": null,
      "outputs": []
    }
  ]
}