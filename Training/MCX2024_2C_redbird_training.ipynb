{
  "nbformat": 4,
  "nbformat_minor": 0,
  "metadata": {
    "colab": {
      "provenance": [],
      "gpuType": "T4",
      "toc_visible": true,
      "include_colab_link": true
    },
    "kernelspec": {
      "name": "python3",
      "display_name": "Python 3"
    },
    "language_info": {
      "name": "python"
    },
    "accelerator": "GPU"
  },
  "cells": [
    {
      "cell_type": "markdown",
      "metadata": {
        "id": "view-in-github",
        "colab_type": "text"
      },
      "source": [
        "<a href=\"https://colab.research.google.com/github/COTILab/MCX24Workshop/blob/master/Training/MCX2024_2C_redbird_training.ipynb\" target=\"_parent\"><img src=\"https://colab.research.google.com/assets/colab-badge.svg\" alt=\"Open In Colab\"/></a>"
      ]
    },
    {
      "cell_type": "code",
      "execution_count": 1,
      "metadata": {
        "colab": {
          "base_uri": "https://localhost:8080/"
        },
        "collapsed": true,
        "id": "2SxYqGMhEwdI",
        "outputId": "e005635e-04e5-428a-8e7c-84ed35c17b4d"
      },
      "outputs": [
        {
          "output_type": "stream",
          "name": "stdout",
          "text": [
            "\r0% [Working]\r            \rGet:1 https://cloud.r-project.org/bin/linux/ubuntu jammy-cran40/ InRelease [3,626 B]\n",
            "\r0% [Waiting for headers] [Connecting to security.ubuntu.com (185.125.190.81)] [\r0% [Waiting for headers] [Connecting to security.ubuntu.com (185.125.190.81)] [\r                                                                               \rHit:2 http://archive.ubuntu.com/ubuntu jammy InRelease\n",
            "\r0% [Waiting for headers] [Connecting to security.ubuntu.com (185.125.190.81)] [\r                                                                               \rHit:3 https://developer.download.nvidia.com/compute/cuda/repos/ubuntu2204/x86_64  InRelease\n",
            "Get:4 http://archive.ubuntu.com/ubuntu jammy-updates InRelease [128 kB]\n",
            "Get:5 http://security.ubuntu.com/ubuntu jammy-security InRelease [129 kB]\n",
            "Hit:6 http://archive.ubuntu.com/ubuntu jammy-backports InRelease\n",
            "Hit:7 https://ppa.launchpadcontent.net/c2d4u.team/c2d4u4.0+/ubuntu jammy InRelease\n",
            "Hit:8 https://ppa.launchpadcontent.net/deadsnakes/ppa/ubuntu jammy InRelease\n",
            "Hit:9 https://ppa.launchpadcontent.net/graphics-drivers/ppa/ubuntu jammy InRelease\n",
            "Get:10 http://archive.ubuntu.com/ubuntu jammy-updates/restricted amd64 Packages [2,632 kB]\n",
            "Hit:11 https://ppa.launchpadcontent.net/ubuntugis/ppa/ubuntu jammy InRelease\n",
            "Get:12 http://archive.ubuntu.com/ubuntu jammy-updates/universe amd64 Packages [1,394 kB]\n",
            "Get:13 http://archive.ubuntu.com/ubuntu jammy-updates/main amd64 Packages [2,233 kB]\n",
            "Get:14 http://security.ubuntu.com/ubuntu jammy-security/main amd64 Packages [1,925 kB]\n",
            "Get:15 http://security.ubuntu.com/ubuntu jammy-security/restricted amd64 Packages [2,482 kB]\n",
            "Get:16 http://security.ubuntu.com/ubuntu jammy-security/universe amd64 Packages [1,112 kB]\n",
            "Get:17 http://security.ubuntu.com/ubuntu jammy-security/multiverse amd64 Packages [44.7 kB]\n",
            "Fetched 12.1 MB in 5s (2,673 kB/s)\n",
            "Reading package lists... Done\n",
            "Reading package lists... Done\n",
            "Building dependency tree... Done\n",
            "Reading state information... Done\n",
            "The following additional packages will be installed:\n",
            "  aglfn binfmt-support clang-11 default-jre-headless epstool\n",
            "  fonts-droid-fallback fonts-freefont-otf fonts-noto-mono fonts-urw-base35\n",
            "  ghostscript gnuplot-data gnuplot-qt gsfonts imagemagick-6-common info\n",
            "  install-info libamd2 libauthen-sasl-perl libbtf1 libcamd2 libccolamd2\n",
            "  libcholmod3 libclang-common-11-dev libclang-cpp11 libclang1-11 libclone-perl\n",
            "  libcolamd2 libcombblas1.16.0 libcxsparse3 libdata-dump-perl libemf1\n",
            "  libencode-locale-perl libevdev2 libffi-dev libfftw3-double3 libfftw3-long3\n",
            "  libfftw3-mpi3 libfftw3-single3 libfile-listing-perl libfltk-gl1.3 libfltk1.3\n",
            "  libfont-afm-perl libglpk40 libglu1-mesa libgraphicsmagick++-q16-12\n",
            "  libgraphicsmagick-q16-3 libgs9 libgs9-common libgudev-1.0-0\n",
            "  libhdf5-openmpi-103-1 libhtml-form-perl libhtml-format-perl\n",
            "  libhtml-parser-perl libhtml-tagset-perl libhtml-tree-perl\n",
            "  libhttp-cookies-perl libhttp-daemon-perl libhttp-date-perl\n",
            "  libhttp-message-perl libhttp-negotiate-perl libhypre-2.22.1 libidn12\n",
            "  libijs-0.35 libinput-bin libinput10 libio-html-perl libio-socket-ssl-perl\n",
            "  libjbig2dec0 libjq1 libklu1 libllvm11 liblqr-1-0 liblua5.4-0\n",
            "  liblwp-mediatypes-perl liblwp-protocol-https-perl libmagick++-6.q16-8\n",
            "  libmagickcore-6.q16-6 libmagickwand-6.q16-6 libmailtools-perl libmd4c0\n",
            "  libmetis5 libmtdev1 libmumps-5.4 libnet-http-perl libnet-smtp-ssl-perl\n",
            "  libnet-ssleay-perl libnotify4 libonig5 libpetsc-real3.15 libpfm4 libplot2c2\n",
            "  libpocl2-common libportaudio2 libpstoedit0c2a libptscotch-6.1 libqrupdate1\n",
            "  libqscintilla2-qt5-15 libqscintilla2-qt5-l10n libqt5core5a libqt5dbus5\n",
            "  libqt5gui5 libqt5help5 libqt5network5 libqt5printsupport5 libqt5sql5\n",
            "  libqt5sql5-sqlite libqt5svg5 libqt5widgets5 libqt5xml5\n",
            "  libscalapack-openmpi2.1 libscotch-6.1 libsuitesparseconfig5 libsundials-ida4\n",
            "  libsundials-nvecparallel-petsc4 libsundials-nvecserial4\n",
            "  libsundials-sunlinsol2 libsundials-sunmatrix2 libsuperlu-dist7\n",
            "  libtext-unidecode-perl libtrilinos-amesos-13.2 libtrilinos-aztecoo-13.2\n",
            "  libtrilinos-epetra-13.2 libtrilinos-epetraext-13.2 libtrilinos-galeri-13.2\n",
            "  libtrilinos-ifpack-13.2 libtrilinos-kokkos-13.2 libtrilinos-ml-13.2\n",
            "  libtrilinos-teuchos-13.2 libtrilinos-trilinosss-13.2\n",
            "  libtrilinos-triutils-13.2 libtrilinos-zoltan-13.2 libtry-tiny-perl\n",
            "  libumfpack5 liburi-perl libwacom-bin libwacom-common libwacom9\n",
            "  libwmflite-0.2-7 libwww-perl libwww-robotrules-perl libwxbase3.0-0v5\n",
            "  libwxgtk3.0-gtk3-0v5 libxcb-icccm4 libxcb-image0 libxcb-keysyms1\n",
            "  libxcb-render-util0 libxcb-util1 libxcb-xinerama0 libxcb-xinput0 libxcb-xkb1\n",
            "  libxkbcommon-x11-0 libxml-libxml-perl libxml-namespacesupport-perl\n",
            "  libxml-parser-perl libxml-sax-base-perl libxml-sax-expat-perl\n",
            "  libxml-sax-perl libz3-4 libz3-dev libzip4 llvm-11 llvm-11-dev\n",
            "  llvm-11-linker-tools llvm-11-runtime llvm-11-tools netbase octave-common\n",
            "  octave-doc perl-openssl-defaults poppler-data pstoedit python3-pygments\n",
            "  python3-yaml qt5-gtk-platformtheme qttranslations5-l10n tex-common texinfo\n",
            "Suggested packages:\n",
            "  clang-11-doc default-jre fonts-noto fonts-texgyre ghostscript-x gnuplot-doc\n",
            "  libdigest-hmac-perl libgssapi-perl libfftw3-bin libfftw3-dev\n",
            "  libfftw3-mpi-dev libiodbc2-dev graphicsmagick-dbg libcrypt-ssleay-perl\n",
            "  libmagickcore-6.q16-6-extra gnome-shell | notification-daemon\n",
            "  libqscintilla2-doc qt5-image-formats-plugins qtwayland5 scalapack-doc\n",
            "  libsub-name-perl libbusiness-isbn-perl libauthen-ntlm-perl\n",
            "  libxml-sax-expatxs-perl llvm-11-doc octave-dev www-browser | pdf-viewer\n",
            "  poppler-utils fonts-japanese-mincho | fonts-ipafont-mincho\n",
            "  fonts-japanese-gothic | fonts-ipafont-gothic fonts-arphic-ukai\n",
            "  fonts-arphic-uming fonts-nanum xfig | ivtools-bin | tgif | transfig\n",
            "  python-pygments-doc ttf-bitstream-vera debhelper texlive-base\n",
            "  texlive-latex-base texlive-plain-generic texlive-fonts-recommended\n",
            "The following NEW packages will be installed:\n",
            "  aglfn binfmt-support clang-11 default-jre-headless epstool\n",
            "  fonts-droid-fallback fonts-freefont-otf fonts-noto-mono fonts-urw-base35\n",
            "  ghostscript gnuplot-data gnuplot-qt gsfonts imagemagick-6-common info\n",
            "  install-info jq libamd2 libauthen-sasl-perl libbtf1 libcamd2 libccolamd2\n",
            "  libcholmod3 libclang-common-11-dev libclang-cpp11 libclang1-11 libclone-perl\n",
            "  libcolamd2 libcombblas1.16.0 libcxsparse3 libdata-dump-perl libemf1\n",
            "  libencode-locale-perl libevdev2 libffi-dev libfftw3-double3 libfftw3-long3\n",
            "  libfftw3-mpi3 libfftw3-single3 libfile-listing-perl libfltk-gl1.3 libfltk1.3\n",
            "  libfont-afm-perl libglpk40 libglu1-mesa libgraphicsmagick++-q16-12\n",
            "  libgraphicsmagick-q16-3 libgs9 libgs9-common libgudev-1.0-0\n",
            "  libhdf5-openmpi-103-1 libhtml-form-perl libhtml-format-perl\n",
            "  libhtml-parser-perl libhtml-tagset-perl libhtml-tree-perl\n",
            "  libhttp-cookies-perl libhttp-daemon-perl libhttp-date-perl\n",
            "  libhttp-message-perl libhttp-negotiate-perl libhypre-2.22.1 libidn12\n",
            "  libijs-0.35 libinput-bin libinput10 libio-html-perl libio-socket-ssl-perl\n",
            "  libjbig2dec0 libjq1 libklu1 libllvm11 liblqr-1-0 liblua5.4-0\n",
            "  liblwp-mediatypes-perl liblwp-protocol-https-perl libmagick++-6.q16-8\n",
            "  libmagickcore-6.q16-6 libmagickwand-6.q16-6 libmailtools-perl libmd4c0\n",
            "  libmetis5 libmtdev1 libmumps-5.4 libnet-http-perl libnet-smtp-ssl-perl\n",
            "  libnet-ssleay-perl libnotify4 libonig5 libpetsc-real3.15 libpfm4 libplot2c2\n",
            "  libpocl2 libpocl2-common libportaudio2 libpstoedit0c2a libptscotch-6.1\n",
            "  libqrupdate1 libqscintilla2-qt5-15 libqscintilla2-qt5-l10n libqt5core5a\n",
            "  libqt5dbus5 libqt5gui5 libqt5help5 libqt5network5 libqt5printsupport5\n",
            "  libqt5sql5 libqt5sql5-sqlite libqt5svg5 libqt5widgets5 libqt5xml5\n",
            "  libscalapack-openmpi2.1 libscotch-6.1 libsuitesparseconfig5 libsundials-ida4\n",
            "  libsundials-nvecparallel-petsc4 libsundials-nvecserial4\n",
            "  libsundials-sunlinsol2 libsundials-sunmatrix2 libsuperlu-dist7\n",
            "  libtext-unidecode-perl libtrilinos-amesos-13.2 libtrilinos-aztecoo-13.2\n",
            "  libtrilinos-epetra-13.2 libtrilinos-epetraext-13.2 libtrilinos-galeri-13.2\n",
            "  libtrilinos-ifpack-13.2 libtrilinos-kokkos-13.2 libtrilinos-ml-13.2\n",
            "  libtrilinos-teuchos-13.2 libtrilinos-trilinosss-13.2\n",
            "  libtrilinos-triutils-13.2 libtrilinos-zoltan-13.2 libtry-tiny-perl\n",
            "  libumfpack5 liburi-perl libwacom-bin libwacom-common libwacom9\n",
            "  libwmflite-0.2-7 libwww-perl libwww-robotrules-perl libwxbase3.0-0v5\n",
            "  libwxgtk3.0-gtk3-0v5 libxcb-icccm4 libxcb-image0 libxcb-keysyms1\n",
            "  libxcb-render-util0 libxcb-util1 libxcb-xinerama0 libxcb-xinput0 libxcb-xkb1\n",
            "  libxkbcommon-x11-0 libxml-libxml-perl libxml-namespacesupport-perl\n",
            "  libxml-parser-perl libxml-sax-base-perl libxml-sax-expat-perl\n",
            "  libxml-sax-perl libz3-4 libz3-dev libzip4 llvm-11 llvm-11-dev\n",
            "  llvm-11-linker-tools llvm-11-runtime llvm-11-tools netbase octave\n",
            "  octave-common octave-doc perl-openssl-defaults pocl-opencl-icd poppler-data\n",
            "  pstoedit python3-pygments python3-yaml qt5-gtk-platformtheme\n",
            "  qttranslations5-l10n tex-common texinfo\n",
            "0 upgraded, 181 newly installed, 0 to remove and 47 not upgraded.\n",
            "Need to get 198 MB of archives.\n",
            "After this operation, 907 MB of additional disk space will be used.\n",
            "Get:1 http://archive.ubuntu.com/ubuntu jammy/main amd64 install-info amd64 6.8-4build1 [88.1 kB]\n",
            "Get:2 http://archive.ubuntu.com/ubuntu jammy/main amd64 fonts-droid-fallback all 1:6.0.1r16-1.1build1 [1,805 kB]\n",
            "Get:3 http://archive.ubuntu.com/ubuntu jammy/main amd64 libfftw3-double3 amd64 3.3.8-2ubuntu8 [770 kB]\n",
            "Get:4 http://archive.ubuntu.com/ubuntu jammy/universe amd64 liblqr-1-0 amd64 0.4.2-2.1 [27.7 kB]\n",
            "Get:5 http://archive.ubuntu.com/ubuntu jammy-updates/universe amd64 imagemagick-6-common all 8:6.9.11.60+dfsg-1.3ubuntu0.22.04.3 [63.6 kB]\n",
            "Get:6 http://archive.ubuntu.com/ubuntu jammy-updates/universe amd64 libmagickcore-6.q16-6 amd64 8:6.9.11.60+dfsg-1.3ubuntu0.22.04.3 [1,788 kB]\n",
            "Get:7 http://archive.ubuntu.com/ubuntu jammy-updates/universe amd64 libmagickwand-6.q16-6 amd64 8:6.9.11.60+dfsg-1.3ubuntu0.22.04.3 [328 kB]\n",
            "Get:8 http://archive.ubuntu.com/ubuntu jammy-updates/universe amd64 libqt5core5a amd64 5.15.3+dfsg-2ubuntu0.2 [2,006 kB]\n",
            "Get:9 http://archive.ubuntu.com/ubuntu jammy/main amd64 libevdev2 amd64 1.12.1+dfsg-1 [39.5 kB]\n",
            "Get:10 http://archive.ubuntu.com/ubuntu jammy/main amd64 libmtdev1 amd64 1.1.6-1build4 [14.5 kB]\n",
            "Get:11 http://archive.ubuntu.com/ubuntu jammy/main amd64 libgudev-1.0-0 amd64 1:237-2build1 [16.3 kB]\n",
            "Get:12 http://archive.ubuntu.com/ubuntu jammy/main amd64 libwacom-common all 2.2.0-1 [54.3 kB]\n",
            "Get:13 http://archive.ubuntu.com/ubuntu jammy/main amd64 libwacom9 amd64 2.2.0-1 [22.0 kB]\n",
            "Get:14 http://archive.ubuntu.com/ubuntu jammy-updates/main amd64 libinput-bin amd64 1.20.0-1ubuntu0.3 [19.9 kB]\n",
            "Get:15 http://archive.ubuntu.com/ubuntu jammy-updates/main amd64 libinput10 amd64 1.20.0-1ubuntu0.3 [131 kB]\n",
            "Get:16 http://archive.ubuntu.com/ubuntu jammy/universe amd64 libmd4c0 amd64 0.4.8-1 [42.0 kB]\n",
            "Get:17 http://archive.ubuntu.com/ubuntu jammy-updates/universe amd64 libqt5dbus5 amd64 5.15.3+dfsg-2ubuntu0.2 [222 kB]\n",
            "Get:18 http://archive.ubuntu.com/ubuntu jammy-updates/universe amd64 libqt5network5 amd64 5.15.3+dfsg-2ubuntu0.2 [731 kB]\n",
            "Get:19 http://archive.ubuntu.com/ubuntu jammy/main amd64 libxcb-icccm4 amd64 0.4.1-1.1build2 [11.5 kB]\n",
            "Get:20 http://archive.ubuntu.com/ubuntu jammy/main amd64 libxcb-util1 amd64 0.4.0-1build2 [11.4 kB]\n",
            "Get:21 http://archive.ubuntu.com/ubuntu jammy/main amd64 libxcb-image0 amd64 0.4.0-2 [11.5 kB]\n",
            "Get:22 http://archive.ubuntu.com/ubuntu jammy/main amd64 libxcb-keysyms1 amd64 0.4.0-1build3 [8,746 B]\n",
            "Get:23 http://archive.ubuntu.com/ubuntu jammy/main amd64 libxcb-render-util0 amd64 0.3.9-1build3 [10.3 kB]\n",
            "Get:24 http://archive.ubuntu.com/ubuntu jammy/main amd64 libxcb-xinerama0 amd64 1.14-3ubuntu3 [5,414 B]\n",
            "Get:25 http://archive.ubuntu.com/ubuntu jammy/main amd64 libxcb-xinput0 amd64 1.14-3ubuntu3 [34.3 kB]\n",
            "Get:26 http://archive.ubuntu.com/ubuntu jammy/main amd64 libxcb-xkb1 amd64 1.14-3ubuntu3 [32.8 kB]\n",
            "Get:27 http://archive.ubuntu.com/ubuntu jammy/main amd64 libxkbcommon-x11-0 amd64 1.4.0-1 [14.4 kB]\n",
            "Get:28 http://archive.ubuntu.com/ubuntu jammy-updates/universe amd64 libqt5gui5 amd64 5.15.3+dfsg-2ubuntu0.2 [3,722 kB]\n",
            "Get:29 http://archive.ubuntu.com/ubuntu jammy-updates/universe amd64 libqt5widgets5 amd64 5.15.3+dfsg-2ubuntu0.2 [2,561 kB]\n",
            "Get:30 http://archive.ubuntu.com/ubuntu jammy/universe amd64 libqt5svg5 amd64 5.15.3-1 [149 kB]\n",
            "Get:31 http://archive.ubuntu.com/ubuntu jammy/main amd64 poppler-data all 0.4.11-1 [2,171 kB]\n",
            "Get:32 http://archive.ubuntu.com/ubuntu jammy/universe amd64 tex-common all 6.17 [33.7 kB]\n",
            "Get:33 http://archive.ubuntu.com/ubuntu jammy/main amd64 netbase all 6.3 [12.9 kB]\n",
            "Get:34 http://archive.ubuntu.com/ubuntu jammy/main amd64 python3-yaml amd64 5.4.1-1ubuntu1 [129 kB]\n",
            "Get:35 http://archive.ubuntu.com/ubuntu jammy/main amd64 info amd64 6.8-4build1 [213 kB]\n",
            "Get:36 http://archive.ubuntu.com/ubuntu jammy/main amd64 binfmt-support amd64 2.2.1-2 [55.8 kB]\n",
            "Get:37 http://archive.ubuntu.com/ubuntu jammy/universe amd64 libllvm11 amd64 1:11.1.0-6 [19.6 MB]\n",
            "Get:38 http://archive.ubuntu.com/ubuntu jammy/universe amd64 libclang-cpp11 amd64 1:11.1.0-6 [10.5 MB]\n",
            "Get:39 http://archive.ubuntu.com/ubuntu jammy/universe amd64 libclang-common-11-dev amd64 1:11.1.0-6 [5,247 kB]\n",
            "Get:40 http://archive.ubuntu.com/ubuntu jammy/universe amd64 llvm-11-linker-tools amd64 1:11.1.0-6 [1,275 kB]\n",
            "Get:41 http://archive.ubuntu.com/ubuntu jammy/universe amd64 libclang1-11 amd64 1:11.1.0-6 [6,053 kB]\n",
            "Get:42 http://archive.ubuntu.com/ubuntu jammy/universe amd64 clang-11 amd64 1:11.1.0-6 [75.8 kB]\n",
            "Get:43 http://archive.ubuntu.com/ubuntu jammy/main amd64 default-jre-headless amd64 2:1.11-72build2 [3,042 B]\n",
            "Get:44 http://archive.ubuntu.com/ubuntu jammy/main amd64 fonts-urw-base35 all 20200910-1 [6,367 kB]\n",
            "Get:45 http://archive.ubuntu.com/ubuntu jammy-updates/main amd64 libgs9-common all 9.55.0~dfsg1-0ubuntu5.7 [752 kB]\n",
            "Get:46 http://archive.ubuntu.com/ubuntu jammy-updates/main amd64 libidn12 amd64 1.38-4ubuntu1 [60.0 kB]\n",
            "Get:47 http://archive.ubuntu.com/ubuntu jammy/main amd64 libijs-0.35 amd64 0.35-15build2 [16.5 kB]\n",
            "Get:48 http://archive.ubuntu.com/ubuntu jammy/main amd64 libjbig2dec0 amd64 0.19-3build2 [64.7 kB]\n",
            "Get:49 http://archive.ubuntu.com/ubuntu jammy-updates/main amd64 libgs9 amd64 9.55.0~dfsg1-0ubuntu5.7 [5,028 kB]\n",
            "Get:50 http://archive.ubuntu.com/ubuntu jammy-updates/main amd64 ghostscript amd64 9.55.0~dfsg1-0ubuntu5.7 [49.4 kB]\n",
            "Get:51 http://archive.ubuntu.com/ubuntu jammy/universe amd64 epstool amd64 3.09-3 [110 kB]\n",
            "Get:52 http://archive.ubuntu.com/ubuntu jammy/universe amd64 fonts-freefont-otf all 20120503-10build1 [3,054 kB]\n",
            "Get:53 http://archive.ubuntu.com/ubuntu jammy/main amd64 fonts-noto-mono all 20201225-1build1 [397 kB]\n",
            "Get:54 http://archive.ubuntu.com/ubuntu jammy/universe amd64 aglfn all 1.7+git20191031.4036a9c-2 [30.6 kB]\n",
            "Get:55 http://archive.ubuntu.com/ubuntu jammy/universe amd64 gnuplot-data all 5.4.2+dfsg2-2 [75.3 kB]\n",
            "Get:56 http://archive.ubuntu.com/ubuntu jammy/universe amd64 liblua5.4-0 amd64 5.4.4-1 [152 kB]\n",
            "Get:57 http://archive.ubuntu.com/ubuntu jammy-updates/universe amd64 libqt5printsupport5 amd64 5.15.3+dfsg-2ubuntu0.2 [214 kB]\n",
            "Get:58 http://archive.ubuntu.com/ubuntu jammy/universe amd64 libwxbase3.0-0v5 amd64 3.0.5.1+dfsg-4 [881 kB]\n",
            "Get:59 http://archive.ubuntu.com/ubuntu jammy-updates/main amd64 libnotify4 amd64 0.7.9-3ubuntu5.22.04.1 [20.3 kB]\n",
            "Get:60 http://archive.ubuntu.com/ubuntu jammy/universe amd64 libwxgtk3.0-gtk3-0v5 amd64 3.0.5.1+dfsg-4 [4,368 kB]\n",
            "Get:61 http://archive.ubuntu.com/ubuntu jammy/universe amd64 gnuplot-qt amd64 5.4.2+dfsg2-2 [1,156 kB]\n",
            "Get:62 http://archive.ubuntu.com/ubuntu jammy/universe amd64 gsfonts all 1:8.11+urwcyr1.0.7~pre44-4.5 [3,120 kB]\n",
            "Get:63 http://archive.ubuntu.com/ubuntu jammy/main amd64 libonig5 amd64 6.9.7.1-2build1 [172 kB]\n",
            "Get:64 http://archive.ubuntu.com/ubuntu jammy/main amd64 libjq1 amd64 1.6-2.1ubuntu3 [133 kB]\n",
            "Get:65 http://archive.ubuntu.com/ubuntu jammy/main amd64 jq amd64 1.6-2.1ubuntu3 [52.5 kB]\n",
            "Get:66 http://archive.ubuntu.com/ubuntu jammy/main amd64 libsuitesparseconfig5 amd64 1:5.10.1+dfsg-4build1 [10.4 kB]\n",
            "Get:67 http://archive.ubuntu.com/ubuntu jammy/universe amd64 libamd2 amd64 1:5.10.1+dfsg-4build1 [21.6 kB]\n",
            "Get:68 http://archive.ubuntu.com/ubuntu jammy/universe amd64 libbtf1 amd64 1:5.10.1+dfsg-4build1 [12.1 kB]\n",
            "Get:69 http://archive.ubuntu.com/ubuntu jammy/universe amd64 libcamd2 amd64 1:5.10.1+dfsg-4build1 [23.3 kB]\n",
            "Get:70 http://archive.ubuntu.com/ubuntu jammy/universe amd64 libccolamd2 amd64 1:5.10.1+dfsg-4build1 [25.2 kB]\n",
            "Get:71 http://archive.ubuntu.com/ubuntu jammy/main amd64 libcolamd2 amd64 1:5.10.1+dfsg-4build1 [18.0 kB]\n",
            "Get:72 http://archive.ubuntu.com/ubuntu jammy/universe amd64 libmetis5 amd64 5.1.0.dfsg-7build2 [181 kB]\n",
            "Get:73 http://archive.ubuntu.com/ubuntu jammy/universe amd64 libcholmod3 amd64 1:5.10.1+dfsg-4build1 [346 kB]\n",
            "Get:74 http://archive.ubuntu.com/ubuntu jammy/main amd64 libclone-perl amd64 0.45-1build3 [11.0 kB]\n",
            "Get:75 http://archive.ubuntu.com/ubuntu jammy/universe amd64 libcombblas1.16.0 amd64 1.6.2-8 [271 kB]\n",
            "Get:76 http://archive.ubuntu.com/ubuntu jammy/universe amd64 libcxsparse3 amd64 1:5.10.1+dfsg-4build1 [70.8 kB]\n",
            "Get:77 http://archive.ubuntu.com/ubuntu jammy/main amd64 libdata-dump-perl all 1.25-1 [25.9 kB]\n",
            "Get:78 http://archive.ubuntu.com/ubuntu jammy/universe amd64 libemf1 amd64 1.0.13-3 [62.2 kB]\n",
            "Get:79 http://archive.ubuntu.com/ubuntu jammy/main amd64 libencode-locale-perl all 1.05-1.1 [11.8 kB]\n",
            "Get:80 http://archive.ubuntu.com/ubuntu jammy/main amd64 libfftw3-long3 amd64 3.3.8-2ubuntu8 [335 kB]\n",
            "Get:81 http://archive.ubuntu.com/ubuntu jammy/main amd64 libfftw3-single3 amd64 3.3.8-2ubuntu8 [800 kB]\n",
            "Get:82 http://archive.ubuntu.com/ubuntu jammy/universe amd64 libfftw3-mpi3 amd64 3.3.8-2ubuntu8 [48.9 kB]\n",
            "Get:83 http://archive.ubuntu.com/ubuntu jammy/main amd64 libhttp-date-perl all 6.05-1 [9,920 B]\n",
            "Get:84 http://archive.ubuntu.com/ubuntu jammy/main amd64 libfile-listing-perl all 6.14-1 [11.2 kB]\n",
            "Get:85 http://archive.ubuntu.com/ubuntu jammy/universe amd64 libfltk1.3 amd64 1.3.8-4 [628 kB]\n",
            "Get:86 http://archive.ubuntu.com/ubuntu jammy/universe amd64 libfltk-gl1.3 amd64 1.3.8-4 [45.9 kB]\n",
            "Get:87 http://archive.ubuntu.com/ubuntu jammy/main amd64 libfont-afm-perl all 1.20-3 [13.6 kB]\n",
            "Get:88 http://archive.ubuntu.com/ubuntu jammy/universe amd64 libglpk40 amd64 5.0-1 [361 kB]\n",
            "Get:89 http://archive.ubuntu.com/ubuntu jammy/main amd64 libwmflite-0.2-7 amd64 0.2.12-5ubuntu1 [68.9 kB]\n",
            "Get:90 http://archive.ubuntu.com/ubuntu jammy-updates/universe amd64 libgraphicsmagick-q16-3 amd64 1.4+really1.3.38-1ubuntu0.1 [1,238 kB]\n",
            "Get:91 http://archive.ubuntu.com/ubuntu jammy-updates/universe amd64 libgraphicsmagick++-q16-12 amd64 1.4+really1.3.38-1ubuntu0.1 [122 kB]\n",
            "Get:92 http://archive.ubuntu.com/ubuntu jammy/universe amd64 libhdf5-openmpi-103-1 amd64 1.10.7+repack-4ubuntu2 [1,344 kB]\n",
            "Get:93 http://archive.ubuntu.com/ubuntu jammy/main amd64 libhtml-tagset-perl all 3.20-4 [12.5 kB]\n",
            "Get:94 http://archive.ubuntu.com/ubuntu jammy/main amd64 liburi-perl all 5.10-1 [78.8 kB]\n",
            "Get:95 http://archive.ubuntu.com/ubuntu jammy/main amd64 libhtml-parser-perl amd64 3.76-1build2 [88.4 kB]\n",
            "Get:96 http://archive.ubuntu.com/ubuntu jammy/main amd64 libio-html-perl all 1.004-2 [15.4 kB]\n",
            "Get:97 http://archive.ubuntu.com/ubuntu jammy/main amd64 liblwp-mediatypes-perl all 6.04-1 [19.5 kB]\n",
            "Get:98 http://archive.ubuntu.com/ubuntu jammy/main amd64 libhttp-message-perl all 6.36-1 [76.8 kB]\n",
            "Get:99 http://archive.ubuntu.com/ubuntu jammy/main amd64 libhtml-form-perl all 6.07-1 [22.2 kB]\n",
            "Get:100 http://archive.ubuntu.com/ubuntu jammy/main amd64 libhtml-tree-perl all 5.07-2 [200 kB]\n",
            "Get:101 http://archive.ubuntu.com/ubuntu jammy/main amd64 libhtml-format-perl all 2.12-1.1 [41.3 kB]\n",
            "Get:102 http://archive.ubuntu.com/ubuntu jammy/main amd64 libhttp-cookies-perl all 6.10-1 [18.4 kB]\n",
            "Get:103 http://archive.ubuntu.com/ubuntu jammy-updates/main amd64 libhttp-daemon-perl all 6.13-1ubuntu0.1 [22.9 kB]\n",
            "Get:104 http://archive.ubuntu.com/ubuntu jammy/main amd64 libhttp-negotiate-perl all 6.01-1 [12.5 kB]\n",
            "Get:105 http://archive.ubuntu.com/ubuntu jammy/universe amd64 libptscotch-6.1 amd64 6.1.3-1 [702 kB]\n",
            "Get:106 http://archive.ubuntu.com/ubuntu jammy/universe amd64 libsuperlu-dist7 amd64 7.2.0+dfsg1-2 [545 kB]\n",
            "Get:107 http://archive.ubuntu.com/ubuntu jammy/universe amd64 libhypre-2.22.1 amd64 2.22.1-7 [1,612 kB]\n",
            "Get:108 http://archive.ubuntu.com/ubuntu jammy/main amd64 perl-openssl-defaults amd64 5build2 [7,542 B]\n",
            "Get:109 http://archive.ubuntu.com/ubuntu jammy/main amd64 libnet-ssleay-perl amd64 1.92-1build2 [327 kB]\n",
            "Get:110 http://archive.ubuntu.com/ubuntu jammy/main amd64 libio-socket-ssl-perl all 2.074-2 [192 kB]\n",
            "Get:111 http://archive.ubuntu.com/ubuntu jammy/universe amd64 libklu1 amd64 1:5.10.1+dfsg-4build1 [77.6 kB]\n",
            "Get:112 http://archive.ubuntu.com/ubuntu jammy/main amd64 libnet-http-perl all 6.22-1 [23.2 kB]\n",
            "Get:113 http://archive.ubuntu.com/ubuntu jammy/main amd64 libtry-tiny-perl all 0.31-1 [21.8 kB]\n",
            "Get:114 http://archive.ubuntu.com/ubuntu jammy/main amd64 libwww-robotrules-perl all 6.02-1 [12.6 kB]\n",
            "Get:115 http://archive.ubuntu.com/ubuntu jammy/main amd64 libwww-perl all 6.61-1 [141 kB]\n",
            "Get:116 http://archive.ubuntu.com/ubuntu jammy/main amd64 liblwp-protocol-https-perl all 6.10-1 [10.9 kB]\n",
            "Get:117 http://archive.ubuntu.com/ubuntu jammy-updates/universe amd64 libmagick++-6.q16-8 amd64 8:6.9.11.60+dfsg-1.3ubuntu0.22.04.3 [157 kB]\n",
            "Get:118 http://archive.ubuntu.com/ubuntu jammy/main amd64 libnet-smtp-ssl-perl all 1.04-1 [5,948 B]\n",
            "Get:119 http://archive.ubuntu.com/ubuntu jammy/main amd64 libmailtools-perl all 2.21-1 [80.7 kB]\n",
            "Get:120 http://archive.ubuntu.com/ubuntu jammy/universe amd64 libscalapack-openmpi2.1 amd64 2.1.0-4 [1,534 kB]\n",
            "Get:121 http://archive.ubuntu.com/ubuntu jammy/universe amd64 libmumps-5.4 amd64 5.4.1-2 [1,826 kB]\n",
            "Get:122 http://archive.ubuntu.com/ubuntu jammy/universe amd64 libscotch-6.1 amd64 6.1.3-1 [422 kB]\n",
            "Get:123 http://archive.ubuntu.com/ubuntu jammy/universe amd64 libtrilinos-kokkos-13.2 amd64 13.2.0-1ubuntu1 [107 kB]\n",
            "Get:124 http://archive.ubuntu.com/ubuntu jammy/universe amd64 libtrilinos-teuchos-13.2 amd64 13.2.0-1ubuntu1 [1,193 kB]\n",
            "Get:125 http://archive.ubuntu.com/ubuntu jammy/universe amd64 libtrilinos-epetra-13.2 amd64 13.2.0-1ubuntu1 [458 kB]\n",
            "Get:126 http://archive.ubuntu.com/ubuntu jammy/universe amd64 libtrilinos-triutils-13.2 amd64 13.2.0-1ubuntu1 [130 kB]\n",
            "Get:127 http://archive.ubuntu.com/ubuntu jammy/universe amd64 libtrilinos-epetraext-13.2 amd64 13.2.0-1ubuntu1 [448 kB]\n",
            "Get:128 http://archive.ubuntu.com/ubuntu jammy/universe amd64 libtrilinos-trilinosss-13.2 amd64 13.2.0-1ubuntu1 [89.9 kB]\n",
            "Get:129 http://archive.ubuntu.com/ubuntu jammy/universe amd64 libtrilinos-amesos-13.2 amd64 13.2.0-1ubuntu1 [109 kB]\n",
            "Get:130 http://archive.ubuntu.com/ubuntu jammy/universe amd64 libtrilinos-aztecoo-13.2 amd64 13.2.0-1ubuntu1 [219 kB]\n",
            "Get:131 http://archive.ubuntu.com/ubuntu jammy/universe amd64 libtrilinos-galeri-13.2 amd64 13.2.0-1ubuntu1 [91.2 kB]\n",
            "Get:132 http://archive.ubuntu.com/ubuntu jammy/universe amd64 libtrilinos-ifpack-13.2 amd64 13.2.0-1ubuntu1 [443 kB]\n",
            "Get:133 http://archive.ubuntu.com/ubuntu jammy/universe amd64 libtrilinos-zoltan-13.2 amd64 13.2.0-1ubuntu1 [403 kB]\n",
            "Get:134 http://archive.ubuntu.com/ubuntu jammy/universe amd64 libtrilinos-ml-13.2 amd64 13.2.0-1ubuntu1 [992 kB]\n",
            "Get:135 http://archive.ubuntu.com/ubuntu jammy/universe amd64 libumfpack5 amd64 1:5.10.1+dfsg-4build1 [250 kB]\n",
            "Get:136 http://archive.ubuntu.com/ubuntu jammy/universe amd64 libpetsc-real3.15 amd64 3.15.5+dfsg1-1build2 [6,095 kB]\n",
            "Get:137 http://archive.ubuntu.com/ubuntu jammy/universe amd64 libplot2c2 amd64 2.6-11 [506 kB]\n",
            "Get:138 http://archive.ubuntu.com/ubuntu jammy/universe amd64 libpocl2-common all 1.8-3 [77.1 kB]\n",
            "Get:139 http://archive.ubuntu.com/ubuntu jammy/universe amd64 libpocl2 amd64 1.8-3 [9,405 kB]\n",
            "Get:140 http://archive.ubuntu.com/ubuntu jammy/universe amd64 libportaudio2 amd64 19.6.0-1.1 [65.3 kB]\n",
            "Get:141 http://archive.ubuntu.com/ubuntu jammy/universe amd64 libzip4 amd64 1.7.3-1ubuntu2 [55.0 kB]\n",
            "Get:142 http://archive.ubuntu.com/ubuntu jammy/universe amd64 libpstoedit0c2a amd64 3.78-1 [373 kB]\n",
            "Get:143 http://archive.ubuntu.com/ubuntu jammy/universe amd64 libqrupdate1 amd64 1.1.2-4 [36.8 kB]\n",
            "Get:144 http://archive.ubuntu.com/ubuntu jammy/universe amd64 libqscintilla2-qt5-l10n all 2.11.6+dfsg-4 [54.8 kB]\n",
            "Get:145 http://archive.ubuntu.com/ubuntu jammy/universe amd64 libqscintilla2-qt5-15 amd64 2.11.6+dfsg-4 [1,217 kB]\n",
            "Get:146 http://archive.ubuntu.com/ubuntu jammy-updates/universe amd64 libqt5sql5 amd64 5.15.3+dfsg-2ubuntu0.2 [123 kB]\n",
            "Get:147 http://archive.ubuntu.com/ubuntu jammy/universe amd64 libqt5help5 amd64 5.15.3-1 [162 kB]\n",
            "Get:148 http://archive.ubuntu.com/ubuntu jammy-updates/universe amd64 libqt5sql5-sqlite amd64 5.15.3+dfsg-2ubuntu0.2 [53.0 kB]\n",
            "Get:149 http://archive.ubuntu.com/ubuntu jammy-updates/universe amd64 libqt5xml5 amd64 5.15.3+dfsg-2ubuntu0.2 [124 kB]\n",
            "Get:150 http://archive.ubuntu.com/ubuntu jammy/universe amd64 libsundials-ida4 amd64 5.8.0+dfsg-1build1 [80.1 kB]\n",
            "Get:151 http://archive.ubuntu.com/ubuntu jammy/universe amd64 libsundials-nvecparallel-petsc4 amd64 5.8.0+dfsg-1build1 [31.1 kB]\n",
            "Get:152 http://archive.ubuntu.com/ubuntu jammy/universe amd64 libsundials-nvecserial4 amd64 5.8.0+dfsg-1build1 [40.9 kB]\n",
            "Get:153 http://archive.ubuntu.com/ubuntu jammy/universe amd64 libsundials-sunmatrix2 amd64 5.8.0+dfsg-1build1 [42.9 kB]\n",
            "Get:154 http://archive.ubuntu.com/ubuntu jammy/universe amd64 libsundials-sunlinsol2 amd64 5.8.0+dfsg-1build1 [93.7 kB]\n",
            "Get:155 http://archive.ubuntu.com/ubuntu jammy/universe amd64 libtext-unidecode-perl all 1.30-1 [99.0 kB]\n",
            "Get:156 http://archive.ubuntu.com/ubuntu jammy/main amd64 libwacom-bin amd64 2.2.0-1 [13.6 kB]\n",
            "Get:157 http://archive.ubuntu.com/ubuntu jammy/main amd64 libxml-namespacesupport-perl all 1.12-1.1 [13.2 kB]\n",
            "Get:158 http://archive.ubuntu.com/ubuntu jammy/main amd64 libxml-sax-base-perl all 1.09-1.1 [19.0 kB]\n",
            "Get:159 http://archive.ubuntu.com/ubuntu jammy/main amd64 libxml-sax-perl all 1.02+dfsg-3 [57.0 kB]\n",
            "Get:160 http://archive.ubuntu.com/ubuntu jammy/main amd64 libxml-libxml-perl amd64 2.0207+dfsg+really+2.0134-1 [325 kB]\n",
            "Get:161 http://archive.ubuntu.com/ubuntu jammy/main amd64 libxml-parser-perl amd64 2.46-3build1 [212 kB]\n",
            "Get:162 http://archive.ubuntu.com/ubuntu jammy/main amd64 libxml-sax-expat-perl all 0.51-1 [10.5 kB]\n",
            "Get:163 http://archive.ubuntu.com/ubuntu jammy/universe amd64 llvm-11-runtime amd64 1:11.1.0-6 [186 kB]\n",
            "Get:164 http://archive.ubuntu.com/ubuntu jammy-updates/main amd64 libpfm4 amd64 4.11.1+git32-gd0b85fb-1ubuntu0.1 [345 kB]\n",
            "Get:165 http://archive.ubuntu.com/ubuntu jammy/universe amd64 llvm-11 amd64 1:11.1.0-6 [9,118 kB]\n",
            "Get:166 http://archive.ubuntu.com/ubuntu jammy/main amd64 libffi-dev amd64 3.4.2-4 [63.7 kB]\n",
            "Get:167 http://archive.ubuntu.com/ubuntu jammy/main amd64 python3-pygments all 2.11.2+dfsg-2 [750 kB]\n",
            "Get:168 http://archive.ubuntu.com/ubuntu jammy/universe amd64 llvm-11-tools amd64 1:11.1.0-6 [359 kB]\n",
            "Get:169 http://archive.ubuntu.com/ubuntu jammy/universe amd64 libz3-4 amd64 4.8.12-1 [5,766 kB]\n",
            "Get:170 http://archive.ubuntu.com/ubuntu jammy/universe amd64 libz3-dev amd64 4.8.12-1 [72.2 kB]\n",
            "Get:171 http://archive.ubuntu.com/ubuntu jammy/universe amd64 llvm-11-dev amd64 1:11.1.0-6 [29.9 MB]\n",
            "Get:172 http://archive.ubuntu.com/ubuntu jammy/universe amd64 pstoedit amd64 3.78-1 [405 kB]\n",
            "Get:173 http://archive.ubuntu.com/ubuntu jammy-updates/universe amd64 qt5-gtk-platformtheme amd64 5.15.3+dfsg-2ubuntu0.2 [130 kB]\n",
            "Get:174 http://archive.ubuntu.com/ubuntu jammy/universe amd64 qttranslations5-l10n all 5.15.3-1 [1,983 kB]\n",
            "Get:175 http://archive.ubuntu.com/ubuntu jammy/universe amd64 texinfo amd64 6.8-4build1 [1,423 kB]\n",
            "Get:176 http://archive.ubuntu.com/ubuntu jammy/main amd64 libauthen-sasl-perl all 2.1600-1.1 [43.1 kB]\n",
            "Get:177 http://archive.ubuntu.com/ubuntu jammy/main amd64 libglu1-mesa amd64 9.0.2-1 [145 kB]\n",
            "Get:178 http://archive.ubuntu.com/ubuntu jammy/universe amd64 octave-common all 6.4.0-2 [5,457 kB]\n",
            "Get:179 http://archive.ubuntu.com/ubuntu jammy/universe amd64 octave amd64 6.4.0-2 [9,330 kB]\n",
            "Get:180 http://archive.ubuntu.com/ubuntu jammy/universe amd64 octave-doc all 6.4.0-2 [7,665 kB]\n",
            "Get:181 http://archive.ubuntu.com/ubuntu jammy/universe amd64 pocl-opencl-icd amd64 1.8-3 [4,508 B]\n",
            "Fetched 198 MB in 6s (30.6 MB/s)\n",
            "debconf: unable to initialize frontend: Dialog\n",
            "debconf: (No usable dialog-like program is installed, so the dialog based frontend cannot be used. at /usr/share/perl5/Debconf/FrontEnd/Dialog.pm line 78, <> line 181.)\n",
            "debconf: falling back to frontend: Readline\n",
            "debconf: unable to initialize frontend: Readline\n",
            "debconf: (This frontend requires a controlling tty.)\n",
            "debconf: falling back to frontend: Teletype\n",
            "dpkg-preconfigure: unable to re-open stdin: \n",
            "Selecting previously unselected package install-info.\n",
            "(Reading database ... 121925 files and directories currently installed.)\n",
            "Preparing to unpack .../install-info_6.8-4build1_amd64.deb ...\n",
            "Unpacking install-info (6.8-4build1) ...\n",
            "Setting up install-info (6.8-4build1) ...\n",
            "Selecting previously unselected package fonts-droid-fallback.\n",
            "(Reading database ... 121938 files and directories currently installed.)\n",
            "Preparing to unpack .../000-fonts-droid-fallback_1%3a6.0.1r16-1.1build1_all.deb ...\n",
            "Unpacking fonts-droid-fallback (1:6.0.1r16-1.1build1) ...\n",
            "Selecting previously unselected package libfftw3-double3:amd64.\n",
            "Preparing to unpack .../001-libfftw3-double3_3.3.8-2ubuntu8_amd64.deb ...\n",
            "Unpacking libfftw3-double3:amd64 (3.3.8-2ubuntu8) ...\n",
            "Selecting previously unselected package liblqr-1-0:amd64.\n",
            "Preparing to unpack .../002-liblqr-1-0_0.4.2-2.1_amd64.deb ...\n",
            "Unpacking liblqr-1-0:amd64 (0.4.2-2.1) ...\n",
            "Selecting previously unselected package imagemagick-6-common.\n",
            "Preparing to unpack .../003-imagemagick-6-common_8%3a6.9.11.60+dfsg-1.3ubuntu0.22.04.3_all.deb ...\n",
            "Unpacking imagemagick-6-common (8:6.9.11.60+dfsg-1.3ubuntu0.22.04.3) ...\n",
            "Selecting previously unselected package libmagickcore-6.q16-6:amd64.\n",
            "Preparing to unpack .../004-libmagickcore-6.q16-6_8%3a6.9.11.60+dfsg-1.3ubuntu0.22.04.3_amd64.deb ...\n",
            "Unpacking libmagickcore-6.q16-6:amd64 (8:6.9.11.60+dfsg-1.3ubuntu0.22.04.3) ...\n",
            "Selecting previously unselected package libmagickwand-6.q16-6:amd64.\n",
            "Preparing to unpack .../005-libmagickwand-6.q16-6_8%3a6.9.11.60+dfsg-1.3ubuntu0.22.04.3_amd64.deb ...\n",
            "Unpacking libmagickwand-6.q16-6:amd64 (8:6.9.11.60+dfsg-1.3ubuntu0.22.04.3) ...\n",
            "Selecting previously unselected package libqt5core5a:amd64.\n",
            "Preparing to unpack .../006-libqt5core5a_5.15.3+dfsg-2ubuntu0.2_amd64.deb ...\n",
            "Unpacking libqt5core5a:amd64 (5.15.3+dfsg-2ubuntu0.2) ...\n",
            "Selecting previously unselected package libevdev2:amd64.\n",
            "Preparing to unpack .../007-libevdev2_1.12.1+dfsg-1_amd64.deb ...\n",
            "Unpacking libevdev2:amd64 (1.12.1+dfsg-1) ...\n",
            "Selecting previously unselected package libmtdev1:amd64.\n",
            "Preparing to unpack .../008-libmtdev1_1.1.6-1build4_amd64.deb ...\n",
            "Unpacking libmtdev1:amd64 (1.1.6-1build4) ...\n",
            "Selecting previously unselected package libgudev-1.0-0:amd64.\n",
            "Preparing to unpack .../009-libgudev-1.0-0_1%3a237-2build1_amd64.deb ...\n",
            "Unpacking libgudev-1.0-0:amd64 (1:237-2build1) ...\n",
            "Selecting previously unselected package libwacom-common.\n",
            "Preparing to unpack .../010-libwacom-common_2.2.0-1_all.deb ...\n",
            "Unpacking libwacom-common (2.2.0-1) ...\n",
            "Selecting previously unselected package libwacom9:amd64.\n",
            "Preparing to unpack .../011-libwacom9_2.2.0-1_amd64.deb ...\n",
            "Unpacking libwacom9:amd64 (2.2.0-1) ...\n",
            "Selecting previously unselected package libinput-bin.\n",
            "Preparing to unpack .../012-libinput-bin_1.20.0-1ubuntu0.3_amd64.deb ...\n",
            "Unpacking libinput-bin (1.20.0-1ubuntu0.3) ...\n",
            "Selecting previously unselected package libinput10:amd64.\n",
            "Preparing to unpack .../013-libinput10_1.20.0-1ubuntu0.3_amd64.deb ...\n",
            "Unpacking libinput10:amd64 (1.20.0-1ubuntu0.3) ...\n",
            "Selecting previously unselected package libmd4c0:amd64.\n",
            "Preparing to unpack .../014-libmd4c0_0.4.8-1_amd64.deb ...\n",
            "Unpacking libmd4c0:amd64 (0.4.8-1) ...\n",
            "Selecting previously unselected package libqt5dbus5:amd64.\n",
            "Preparing to unpack .../015-libqt5dbus5_5.15.3+dfsg-2ubuntu0.2_amd64.deb ...\n",
            "Unpacking libqt5dbus5:amd64 (5.15.3+dfsg-2ubuntu0.2) ...\n",
            "Selecting previously unselected package libqt5network5:amd64.\n",
            "Preparing to unpack .../016-libqt5network5_5.15.3+dfsg-2ubuntu0.2_amd64.deb ...\n",
            "Unpacking libqt5network5:amd64 (5.15.3+dfsg-2ubuntu0.2) ...\n",
            "Selecting previously unselected package libxcb-icccm4:amd64.\n",
            "Preparing to unpack .../017-libxcb-icccm4_0.4.1-1.1build2_amd64.deb ...\n",
            "Unpacking libxcb-icccm4:amd64 (0.4.1-1.1build2) ...\n",
            "Selecting previously unselected package libxcb-util1:amd64.\n",
            "Preparing to unpack .../018-libxcb-util1_0.4.0-1build2_amd64.deb ...\n",
            "Unpacking libxcb-util1:amd64 (0.4.0-1build2) ...\n",
            "Selecting previously unselected package libxcb-image0:amd64.\n",
            "Preparing to unpack .../019-libxcb-image0_0.4.0-2_amd64.deb ...\n",
            "Unpacking libxcb-image0:amd64 (0.4.0-2) ...\n",
            "Selecting previously unselected package libxcb-keysyms1:amd64.\n",
            "Preparing to unpack .../020-libxcb-keysyms1_0.4.0-1build3_amd64.deb ...\n",
            "Unpacking libxcb-keysyms1:amd64 (0.4.0-1build3) ...\n",
            "Selecting previously unselected package libxcb-render-util0:amd64.\n",
            "Preparing to unpack .../021-libxcb-render-util0_0.3.9-1build3_amd64.deb ...\n",
            "Unpacking libxcb-render-util0:amd64 (0.3.9-1build3) ...\n",
            "Selecting previously unselected package libxcb-xinerama0:amd64.\n",
            "Preparing to unpack .../022-libxcb-xinerama0_1.14-3ubuntu3_amd64.deb ...\n",
            "Unpacking libxcb-xinerama0:amd64 (1.14-3ubuntu3) ...\n",
            "Selecting previously unselected package libxcb-xinput0:amd64.\n",
            "Preparing to unpack .../023-libxcb-xinput0_1.14-3ubuntu3_amd64.deb ...\n",
            "Unpacking libxcb-xinput0:amd64 (1.14-3ubuntu3) ...\n",
            "Selecting previously unselected package libxcb-xkb1:amd64.\n",
            "Preparing to unpack .../024-libxcb-xkb1_1.14-3ubuntu3_amd64.deb ...\n",
            "Unpacking libxcb-xkb1:amd64 (1.14-3ubuntu3) ...\n",
            "Selecting previously unselected package libxkbcommon-x11-0:amd64.\n",
            "Preparing to unpack .../025-libxkbcommon-x11-0_1.4.0-1_amd64.deb ...\n",
            "Unpacking libxkbcommon-x11-0:amd64 (1.4.0-1) ...\n",
            "Selecting previously unselected package libqt5gui5:amd64.\n",
            "Preparing to unpack .../026-libqt5gui5_5.15.3+dfsg-2ubuntu0.2_amd64.deb ...\n",
            "Unpacking libqt5gui5:amd64 (5.15.3+dfsg-2ubuntu0.2) ...\n",
            "Selecting previously unselected package libqt5widgets5:amd64.\n",
            "Preparing to unpack .../027-libqt5widgets5_5.15.3+dfsg-2ubuntu0.2_amd64.deb ...\n",
            "Unpacking libqt5widgets5:amd64 (5.15.3+dfsg-2ubuntu0.2) ...\n",
            "Selecting previously unselected package libqt5svg5:amd64.\n",
            "Preparing to unpack .../028-libqt5svg5_5.15.3-1_amd64.deb ...\n",
            "Unpacking libqt5svg5:amd64 (5.15.3-1) ...\n",
            "Selecting previously unselected package poppler-data.\n",
            "Preparing to unpack .../029-poppler-data_0.4.11-1_all.deb ...\n",
            "Unpacking poppler-data (0.4.11-1) ...\n",
            "Selecting previously unselected package tex-common.\n",
            "Preparing to unpack .../030-tex-common_6.17_all.deb ...\n",
            "Unpacking tex-common (6.17) ...\n",
            "Selecting previously unselected package netbase.\n",
            "Preparing to unpack .../031-netbase_6.3_all.deb ...\n",
            "Unpacking netbase (6.3) ...\n",
            "Selecting previously unselected package python3-yaml.\n",
            "Preparing to unpack .../032-python3-yaml_5.4.1-1ubuntu1_amd64.deb ...\n",
            "Unpacking python3-yaml (5.4.1-1ubuntu1) ...\n",
            "Selecting previously unselected package info.\n",
            "Preparing to unpack .../033-info_6.8-4build1_amd64.deb ...\n",
            "Unpacking info (6.8-4build1) ...\n",
            "Selecting previously unselected package binfmt-support.\n",
            "Preparing to unpack .../034-binfmt-support_2.2.1-2_amd64.deb ...\n",
            "Unpacking binfmt-support (2.2.1-2) ...\n",
            "Selecting previously unselected package libllvm11:amd64.\n",
            "Preparing to unpack .../035-libllvm11_1%3a11.1.0-6_amd64.deb ...\n",
            "Unpacking libllvm11:amd64 (1:11.1.0-6) ...\n",
            "Selecting previously unselected package libclang-cpp11.\n",
            "Preparing to unpack .../036-libclang-cpp11_1%3a11.1.0-6_amd64.deb ...\n",
            "Unpacking libclang-cpp11 (1:11.1.0-6) ...\n",
            "Selecting previously unselected package libclang-common-11-dev.\n",
            "Preparing to unpack .../037-libclang-common-11-dev_1%3a11.1.0-6_amd64.deb ...\n",
            "Unpacking libclang-common-11-dev (1:11.1.0-6) ...\n",
            "Selecting previously unselected package llvm-11-linker-tools.\n",
            "Preparing to unpack .../038-llvm-11-linker-tools_1%3a11.1.0-6_amd64.deb ...\n",
            "Unpacking llvm-11-linker-tools (1:11.1.0-6) ...\n",
            "Selecting previously unselected package libclang1-11.\n",
            "Preparing to unpack .../039-libclang1-11_1%3a11.1.0-6_amd64.deb ...\n",
            "Unpacking libclang1-11 (1:11.1.0-6) ...\n",
            "Selecting previously unselected package clang-11.\n",
            "Preparing to unpack .../040-clang-11_1%3a11.1.0-6_amd64.deb ...\n",
            "Unpacking clang-11 (1:11.1.0-6) ...\n",
            "Selecting previously unselected package default-jre-headless.\n",
            "Preparing to unpack .../041-default-jre-headless_2%3a1.11-72build2_amd64.deb ...\n",
            "Unpacking default-jre-headless (2:1.11-72build2) ...\n",
            "Selecting previously unselected package fonts-urw-base35.\n",
            "Preparing to unpack .../042-fonts-urw-base35_20200910-1_all.deb ...\n",
            "Unpacking fonts-urw-base35 (20200910-1) ...\n",
            "Selecting previously unselected package libgs9-common.\n",
            "Preparing to unpack .../043-libgs9-common_9.55.0~dfsg1-0ubuntu5.7_all.deb ...\n",
            "Unpacking libgs9-common (9.55.0~dfsg1-0ubuntu5.7) ...\n",
            "Selecting previously unselected package libidn12:amd64.\n",
            "Preparing to unpack .../044-libidn12_1.38-4ubuntu1_amd64.deb ...\n",
            "Unpacking libidn12:amd64 (1.38-4ubuntu1) ...\n",
            "Selecting previously unselected package libijs-0.35:amd64.\n",
            "Preparing to unpack .../045-libijs-0.35_0.35-15build2_amd64.deb ...\n",
            "Unpacking libijs-0.35:amd64 (0.35-15build2) ...\n",
            "Selecting previously unselected package libjbig2dec0:amd64.\n",
            "Preparing to unpack .../046-libjbig2dec0_0.19-3build2_amd64.deb ...\n",
            "Unpacking libjbig2dec0:amd64 (0.19-3build2) ...\n",
            "Selecting previously unselected package libgs9:amd64.\n",
            "Preparing to unpack .../047-libgs9_9.55.0~dfsg1-0ubuntu5.7_amd64.deb ...\n",
            "Unpacking libgs9:amd64 (9.55.0~dfsg1-0ubuntu5.7) ...\n",
            "Selecting previously unselected package ghostscript.\n",
            "Preparing to unpack .../048-ghostscript_9.55.0~dfsg1-0ubuntu5.7_amd64.deb ...\n",
            "Unpacking ghostscript (9.55.0~dfsg1-0ubuntu5.7) ...\n",
            "Selecting previously unselected package epstool.\n",
            "Preparing to unpack .../049-epstool_3.09-3_amd64.deb ...\n",
            "Unpacking epstool (3.09-3) ...\n",
            "Selecting previously unselected package fonts-freefont-otf.\n",
            "Preparing to unpack .../050-fonts-freefont-otf_20120503-10build1_all.deb ...\n",
            "Unpacking fonts-freefont-otf (20120503-10build1) ...\n",
            "Selecting previously unselected package fonts-noto-mono.\n",
            "Preparing to unpack .../051-fonts-noto-mono_20201225-1build1_all.deb ...\n",
            "Unpacking fonts-noto-mono (20201225-1build1) ...\n",
            "Selecting previously unselected package aglfn.\n",
            "Preparing to unpack .../052-aglfn_1.7+git20191031.4036a9c-2_all.deb ...\n",
            "Unpacking aglfn (1.7+git20191031.4036a9c-2) ...\n",
            "Selecting previously unselected package gnuplot-data.\n",
            "Preparing to unpack .../053-gnuplot-data_5.4.2+dfsg2-2_all.deb ...\n",
            "Unpacking gnuplot-data (5.4.2+dfsg2-2) ...\n",
            "Selecting previously unselected package liblua5.4-0:amd64.\n",
            "Preparing to unpack .../054-liblua5.4-0_5.4.4-1_amd64.deb ...\n",
            "Unpacking liblua5.4-0:amd64 (5.4.4-1) ...\n",
            "Selecting previously unselected package libqt5printsupport5:amd64.\n",
            "Preparing to unpack .../055-libqt5printsupport5_5.15.3+dfsg-2ubuntu0.2_amd64.deb ...\n",
            "Unpacking libqt5printsupport5:amd64 (5.15.3+dfsg-2ubuntu0.2) ...\n",
            "Selecting previously unselected package libwxbase3.0-0v5:amd64.\n",
            "Preparing to unpack .../056-libwxbase3.0-0v5_3.0.5.1+dfsg-4_amd64.deb ...\n",
            "Unpacking libwxbase3.0-0v5:amd64 (3.0.5.1+dfsg-4) ...\n",
            "Selecting previously unselected package libnotify4:amd64.\n",
            "Preparing to unpack .../057-libnotify4_0.7.9-3ubuntu5.22.04.1_amd64.deb ...\n",
            "Unpacking libnotify4:amd64 (0.7.9-3ubuntu5.22.04.1) ...\n",
            "Selecting previously unselected package libwxgtk3.0-gtk3-0v5:amd64.\n",
            "Preparing to unpack .../058-libwxgtk3.0-gtk3-0v5_3.0.5.1+dfsg-4_amd64.deb ...\n",
            "Unpacking libwxgtk3.0-gtk3-0v5:amd64 (3.0.5.1+dfsg-4) ...\n",
            "Selecting previously unselected package gnuplot-qt.\n",
            "Preparing to unpack .../059-gnuplot-qt_5.4.2+dfsg2-2_amd64.deb ...\n",
            "Unpacking gnuplot-qt (5.4.2+dfsg2-2) ...\n",
            "Selecting previously unselected package gsfonts.\n",
            "Preparing to unpack .../060-gsfonts_1%3a8.11+urwcyr1.0.7~pre44-4.5_all.deb ...\n",
            "Unpacking gsfonts (1:8.11+urwcyr1.0.7~pre44-4.5) ...\n",
            "Selecting previously unselected package libonig5:amd64.\n",
            "Preparing to unpack .../061-libonig5_6.9.7.1-2build1_amd64.deb ...\n",
            "Unpacking libonig5:amd64 (6.9.7.1-2build1) ...\n",
            "Selecting previously unselected package libjq1:amd64.\n",
            "Preparing to unpack .../062-libjq1_1.6-2.1ubuntu3_amd64.deb ...\n",
            "Unpacking libjq1:amd64 (1.6-2.1ubuntu3) ...\n",
            "Selecting previously unselected package jq.\n",
            "Preparing to unpack .../063-jq_1.6-2.1ubuntu3_amd64.deb ...\n",
            "Unpacking jq (1.6-2.1ubuntu3) ...\n",
            "Selecting previously unselected package libsuitesparseconfig5:amd64.\n",
            "Preparing to unpack .../064-libsuitesparseconfig5_1%3a5.10.1+dfsg-4build1_amd64.deb ...\n",
            "Unpacking libsuitesparseconfig5:amd64 (1:5.10.1+dfsg-4build1) ...\n",
            "Selecting previously unselected package libamd2:amd64.\n",
            "Preparing to unpack .../065-libamd2_1%3a5.10.1+dfsg-4build1_amd64.deb ...\n",
            "Unpacking libamd2:amd64 (1:5.10.1+dfsg-4build1) ...\n",
            "Selecting previously unselected package libbtf1:amd64.\n",
            "Preparing to unpack .../066-libbtf1_1%3a5.10.1+dfsg-4build1_amd64.deb ...\n",
            "Unpacking libbtf1:amd64 (1:5.10.1+dfsg-4build1) ...\n",
            "Selecting previously unselected package libcamd2:amd64.\n",
            "Preparing to unpack .../067-libcamd2_1%3a5.10.1+dfsg-4build1_amd64.deb ...\n",
            "Unpacking libcamd2:amd64 (1:5.10.1+dfsg-4build1) ...\n",
            "Selecting previously unselected package libccolamd2:amd64.\n",
            "Preparing to unpack .../068-libccolamd2_1%3a5.10.1+dfsg-4build1_amd64.deb ...\n",
            "Unpacking libccolamd2:amd64 (1:5.10.1+dfsg-4build1) ...\n",
            "Selecting previously unselected package libcolamd2:amd64.\n",
            "Preparing to unpack .../069-libcolamd2_1%3a5.10.1+dfsg-4build1_amd64.deb ...\n",
            "Unpacking libcolamd2:amd64 (1:5.10.1+dfsg-4build1) ...\n",
            "Selecting previously unselected package libmetis5:amd64.\n",
            "Preparing to unpack .../070-libmetis5_5.1.0.dfsg-7build2_amd64.deb ...\n",
            "Unpacking libmetis5:amd64 (5.1.0.dfsg-7build2) ...\n",
            "Selecting previously unselected package libcholmod3:amd64.\n",
            "Preparing to unpack .../071-libcholmod3_1%3a5.10.1+dfsg-4build1_amd64.deb ...\n",
            "Unpacking libcholmod3:amd64 (1:5.10.1+dfsg-4build1) ...\n",
            "Selecting previously unselected package libclone-perl.\n",
            "Preparing to unpack .../072-libclone-perl_0.45-1build3_amd64.deb ...\n",
            "Unpacking libclone-perl (0.45-1build3) ...\n",
            "Selecting previously unselected package libcombblas1.16.0:amd64.\n",
            "Preparing to unpack .../073-libcombblas1.16.0_1.6.2-8_amd64.deb ...\n",
            "Unpacking libcombblas1.16.0:amd64 (1.6.2-8) ...\n",
            "Selecting previously unselected package libcxsparse3:amd64.\n",
            "Preparing to unpack .../074-libcxsparse3_1%3a5.10.1+dfsg-4build1_amd64.deb ...\n",
            "Unpacking libcxsparse3:amd64 (1:5.10.1+dfsg-4build1) ...\n",
            "Selecting previously unselected package libdata-dump-perl.\n",
            "Preparing to unpack .../075-libdata-dump-perl_1.25-1_all.deb ...\n",
            "Unpacking libdata-dump-perl (1.25-1) ...\n",
            "Selecting previously unselected package libemf1:amd64.\n",
            "Preparing to unpack .../076-libemf1_1.0.13-3_amd64.deb ...\n",
            "Unpacking libemf1:amd64 (1.0.13-3) ...\n",
            "Selecting previously unselected package libencode-locale-perl.\n",
            "Preparing to unpack .../077-libencode-locale-perl_1.05-1.1_all.deb ...\n",
            "Unpacking libencode-locale-perl (1.05-1.1) ...\n",
            "Selecting previously unselected package libfftw3-long3:amd64.\n",
            "Preparing to unpack .../078-libfftw3-long3_3.3.8-2ubuntu8_amd64.deb ...\n",
            "Unpacking libfftw3-long3:amd64 (3.3.8-2ubuntu8) ...\n",
            "Selecting previously unselected package libfftw3-single3:amd64.\n",
            "Preparing to unpack .../079-libfftw3-single3_3.3.8-2ubuntu8_amd64.deb ...\n",
            "Unpacking libfftw3-single3:amd64 (3.3.8-2ubuntu8) ...\n",
            "Selecting previously unselected package libfftw3-mpi3:amd64.\n",
            "Preparing to unpack .../080-libfftw3-mpi3_3.3.8-2ubuntu8_amd64.deb ...\n",
            "Unpacking libfftw3-mpi3:amd64 (3.3.8-2ubuntu8) ...\n",
            "Selecting previously unselected package libhttp-date-perl.\n",
            "Preparing to unpack .../081-libhttp-date-perl_6.05-1_all.deb ...\n",
            "Unpacking libhttp-date-perl (6.05-1) ...\n",
            "Selecting previously unselected package libfile-listing-perl.\n",
            "Preparing to unpack .../082-libfile-listing-perl_6.14-1_all.deb ...\n",
            "Unpacking libfile-listing-perl (6.14-1) ...\n",
            "Selecting previously unselected package libfltk1.3:amd64.\n",
            "Preparing to unpack .../083-libfltk1.3_1.3.8-4_amd64.deb ...\n",
            "Unpacking libfltk1.3:amd64 (1.3.8-4) ...\n",
            "Selecting previously unselected package libfltk-gl1.3:amd64.\n",
            "Preparing to unpack .../084-libfltk-gl1.3_1.3.8-4_amd64.deb ...\n",
            "Unpacking libfltk-gl1.3:amd64 (1.3.8-4) ...\n",
            "Selecting previously unselected package libfont-afm-perl.\n",
            "Preparing to unpack .../085-libfont-afm-perl_1.20-3_all.deb ...\n",
            "Unpacking libfont-afm-perl (1.20-3) ...\n",
            "Selecting previously unselected package libglpk40:amd64.\n",
            "Preparing to unpack .../086-libglpk40_5.0-1_amd64.deb ...\n",
            "Unpacking libglpk40:amd64 (5.0-1) ...\n",
            "Selecting previously unselected package libwmflite-0.2-7:amd64.\n",
            "Preparing to unpack .../087-libwmflite-0.2-7_0.2.12-5ubuntu1_amd64.deb ...\n",
            "Unpacking libwmflite-0.2-7:amd64 (0.2.12-5ubuntu1) ...\n",
            "Selecting previously unselected package libgraphicsmagick-q16-3.\n",
            "Preparing to unpack .../088-libgraphicsmagick-q16-3_1.4+really1.3.38-1ubuntu0.1_amd64.deb ...\n",
            "Unpacking libgraphicsmagick-q16-3 (1.4+really1.3.38-1ubuntu0.1) ...\n",
            "Selecting previously unselected package libgraphicsmagick++-q16-12.\n",
            "Preparing to unpack .../089-libgraphicsmagick++-q16-12_1.4+really1.3.38-1ubuntu0.1_amd64.deb ...\n",
            "Unpacking libgraphicsmagick++-q16-12 (1.4+really1.3.38-1ubuntu0.1) ...\n",
            "Selecting previously unselected package libhdf5-openmpi-103-1:amd64.\n",
            "Preparing to unpack .../090-libhdf5-openmpi-103-1_1.10.7+repack-4ubuntu2_amd64.deb ...\n",
            "Unpacking libhdf5-openmpi-103-1:amd64 (1.10.7+repack-4ubuntu2) ...\n",
            "Selecting previously unselected package libhtml-tagset-perl.\n",
            "Preparing to unpack .../091-libhtml-tagset-perl_3.20-4_all.deb ...\n",
            "Unpacking libhtml-tagset-perl (3.20-4) ...\n",
            "Selecting previously unselected package liburi-perl.\n",
            "Preparing to unpack .../092-liburi-perl_5.10-1_all.deb ...\n",
            "Unpacking liburi-perl (5.10-1) ...\n",
            "Selecting previously unselected package libhtml-parser-perl:amd64.\n",
            "Preparing to unpack .../093-libhtml-parser-perl_3.76-1build2_amd64.deb ...\n",
            "Unpacking libhtml-parser-perl:amd64 (3.76-1build2) ...\n",
            "Selecting previously unselected package libio-html-perl.\n",
            "Preparing to unpack .../094-libio-html-perl_1.004-2_all.deb ...\n",
            "Unpacking libio-html-perl (1.004-2) ...\n",
            "Selecting previously unselected package liblwp-mediatypes-perl.\n",
            "Preparing to unpack .../095-liblwp-mediatypes-perl_6.04-1_all.deb ...\n",
            "Unpacking liblwp-mediatypes-perl (6.04-1) ...\n",
            "Selecting previously unselected package libhttp-message-perl.\n",
            "Preparing to unpack .../096-libhttp-message-perl_6.36-1_all.deb ...\n",
            "Unpacking libhttp-message-perl (6.36-1) ...\n",
            "Selecting previously unselected package libhtml-form-perl.\n",
            "Preparing to unpack .../097-libhtml-form-perl_6.07-1_all.deb ...\n",
            "Unpacking libhtml-form-perl (6.07-1) ...\n",
            "Selecting previously unselected package libhtml-tree-perl.\n",
            "Preparing to unpack .../098-libhtml-tree-perl_5.07-2_all.deb ...\n",
            "Unpacking libhtml-tree-perl (5.07-2) ...\n",
            "Selecting previously unselected package libhtml-format-perl.\n",
            "Preparing to unpack .../099-libhtml-format-perl_2.12-1.1_all.deb ...\n",
            "Unpacking libhtml-format-perl (2.12-1.1) ...\n",
            "Selecting previously unselected package libhttp-cookies-perl.\n",
            "Preparing to unpack .../100-libhttp-cookies-perl_6.10-1_all.deb ...\n",
            "Unpacking libhttp-cookies-perl (6.10-1) ...\n",
            "Selecting previously unselected package libhttp-daemon-perl.\n",
            "Preparing to unpack .../101-libhttp-daemon-perl_6.13-1ubuntu0.1_all.deb ...\n",
            "Unpacking libhttp-daemon-perl (6.13-1ubuntu0.1) ...\n",
            "Selecting previously unselected package libhttp-negotiate-perl.\n",
            "Preparing to unpack .../102-libhttp-negotiate-perl_6.01-1_all.deb ...\n",
            "Unpacking libhttp-negotiate-perl (6.01-1) ...\n",
            "Selecting previously unselected package libptscotch-6.1:amd64.\n",
            "Preparing to unpack .../103-libptscotch-6.1_6.1.3-1_amd64.deb ...\n",
            "Unpacking libptscotch-6.1:amd64 (6.1.3-1) ...\n",
            "Selecting previously unselected package libsuperlu-dist7:amd64.\n",
            "Preparing to unpack .../104-libsuperlu-dist7_7.2.0+dfsg1-2_amd64.deb ...\n",
            "Unpacking libsuperlu-dist7:amd64 (7.2.0+dfsg1-2) ...\n",
            "Selecting previously unselected package libhypre-2.22.1:amd64.\n",
            "Preparing to unpack .../105-libhypre-2.22.1_2.22.1-7_amd64.deb ...\n",
            "Unpacking libhypre-2.22.1:amd64 (2.22.1-7) ...\n",
            "Selecting previously unselected package perl-openssl-defaults:amd64.\n",
            "Preparing to unpack .../106-perl-openssl-defaults_5build2_amd64.deb ...\n",
            "Unpacking perl-openssl-defaults:amd64 (5build2) ...\n",
            "Selecting previously unselected package libnet-ssleay-perl:amd64.\n",
            "Preparing to unpack .../107-libnet-ssleay-perl_1.92-1build2_amd64.deb ...\n",
            "Unpacking libnet-ssleay-perl:amd64 (1.92-1build2) ...\n",
            "Selecting previously unselected package libio-socket-ssl-perl.\n",
            "Preparing to unpack .../108-libio-socket-ssl-perl_2.074-2_all.deb ...\n",
            "Unpacking libio-socket-ssl-perl (2.074-2) ...\n",
            "Selecting previously unselected package libklu1:amd64.\n",
            "Preparing to unpack .../109-libklu1_1%3a5.10.1+dfsg-4build1_amd64.deb ...\n",
            "Unpacking libklu1:amd64 (1:5.10.1+dfsg-4build1) ...\n",
            "Selecting previously unselected package libnet-http-perl.\n",
            "Preparing to unpack .../110-libnet-http-perl_6.22-1_all.deb ...\n",
            "Unpacking libnet-http-perl (6.22-1) ...\n",
            "Selecting previously unselected package libtry-tiny-perl.\n",
            "Preparing to unpack .../111-libtry-tiny-perl_0.31-1_all.deb ...\n",
            "Unpacking libtry-tiny-perl (0.31-1) ...\n",
            "Selecting previously unselected package libwww-robotrules-perl.\n",
            "Preparing to unpack .../112-libwww-robotrules-perl_6.02-1_all.deb ...\n",
            "Unpacking libwww-robotrules-perl (6.02-1) ...\n",
            "Selecting previously unselected package libwww-perl.\n",
            "Preparing to unpack .../113-libwww-perl_6.61-1_all.deb ...\n",
            "Unpacking libwww-perl (6.61-1) ...\n",
            "Selecting previously unselected package liblwp-protocol-https-perl.\n",
            "Preparing to unpack .../114-liblwp-protocol-https-perl_6.10-1_all.deb ...\n",
            "Unpacking liblwp-protocol-https-perl (6.10-1) ...\n",
            "Selecting previously unselected package libmagick++-6.q16-8:amd64.\n",
            "Preparing to unpack .../115-libmagick++-6.q16-8_8%3a6.9.11.60+dfsg-1.3ubuntu0.22.04.3_amd64.deb ...\n",
            "Unpacking libmagick++-6.q16-8:amd64 (8:6.9.11.60+dfsg-1.3ubuntu0.22.04.3) ...\n",
            "Selecting previously unselected package libnet-smtp-ssl-perl.\n",
            "Preparing to unpack .../116-libnet-smtp-ssl-perl_1.04-1_all.deb ...\n",
            "Unpacking libnet-smtp-ssl-perl (1.04-1) ...\n",
            "Selecting previously unselected package libmailtools-perl.\n",
            "Preparing to unpack .../117-libmailtools-perl_2.21-1_all.deb ...\n",
            "Unpacking libmailtools-perl (2.21-1) ...\n",
            "Selecting previously unselected package libscalapack-openmpi2.1:amd64.\n",
            "Preparing to unpack .../118-libscalapack-openmpi2.1_2.1.0-4_amd64.deb ...\n",
            "Unpacking libscalapack-openmpi2.1:amd64 (2.1.0-4) ...\n",
            "Selecting previously unselected package libmumps-5.4:amd64.\n",
            "Preparing to unpack .../119-libmumps-5.4_5.4.1-2_amd64.deb ...\n",
            "Unpacking libmumps-5.4:amd64 (5.4.1-2) ...\n",
            "Selecting previously unselected package libscotch-6.1:amd64.\n",
            "Preparing to unpack .../120-libscotch-6.1_6.1.3-1_amd64.deb ...\n",
            "Unpacking libscotch-6.1:amd64 (6.1.3-1) ...\n",
            "Selecting previously unselected package libtrilinos-kokkos-13.2:amd64.\n",
            "Preparing to unpack .../121-libtrilinos-kokkos-13.2_13.2.0-1ubuntu1_amd64.deb ...\n",
            "Unpacking libtrilinos-kokkos-13.2:amd64 (13.2.0-1ubuntu1) ...\n",
            "Selecting previously unselected package libtrilinos-teuchos-13.2:amd64.\n",
            "Preparing to unpack .../122-libtrilinos-teuchos-13.2_13.2.0-1ubuntu1_amd64.deb ...\n",
            "Unpacking libtrilinos-teuchos-13.2:amd64 (13.2.0-1ubuntu1) ...\n",
            "Selecting previously unselected package libtrilinos-epetra-13.2:amd64.\n",
            "Preparing to unpack .../123-libtrilinos-epetra-13.2_13.2.0-1ubuntu1_amd64.deb ...\n",
            "Unpacking libtrilinos-epetra-13.2:amd64 (13.2.0-1ubuntu1) ...\n",
            "Selecting previously unselected package libtrilinos-triutils-13.2:amd64.\n",
            "Preparing to unpack .../124-libtrilinos-triutils-13.2_13.2.0-1ubuntu1_amd64.deb ...\n",
            "Unpacking libtrilinos-triutils-13.2:amd64 (13.2.0-1ubuntu1) ...\n",
            "Selecting previously unselected package libtrilinos-epetraext-13.2:amd64.\n",
            "Preparing to unpack .../125-libtrilinos-epetraext-13.2_13.2.0-1ubuntu1_amd64.deb ...\n",
            "Unpacking libtrilinos-epetraext-13.2:amd64 (13.2.0-1ubuntu1) ...\n",
            "Selecting previously unselected package libtrilinos-trilinosss-13.2:amd64.\n",
            "Preparing to unpack .../126-libtrilinos-trilinosss-13.2_13.2.0-1ubuntu1_amd64.deb ...\n",
            "Unpacking libtrilinos-trilinosss-13.2:amd64 (13.2.0-1ubuntu1) ...\n",
            "Selecting previously unselected package libtrilinos-amesos-13.2:amd64.\n",
            "Preparing to unpack .../127-libtrilinos-amesos-13.2_13.2.0-1ubuntu1_amd64.deb ...\n",
            "Unpacking libtrilinos-amesos-13.2:amd64 (13.2.0-1ubuntu1) ...\n",
            "Selecting previously unselected package libtrilinos-aztecoo-13.2:amd64.\n",
            "Preparing to unpack .../128-libtrilinos-aztecoo-13.2_13.2.0-1ubuntu1_amd64.deb ...\n",
            "Unpacking libtrilinos-aztecoo-13.2:amd64 (13.2.0-1ubuntu1) ...\n",
            "Selecting previously unselected package libtrilinos-galeri-13.2:amd64.\n",
            "Preparing to unpack .../129-libtrilinos-galeri-13.2_13.2.0-1ubuntu1_amd64.deb ...\n",
            "Unpacking libtrilinos-galeri-13.2:amd64 (13.2.0-1ubuntu1) ...\n",
            "Selecting previously unselected package libtrilinos-ifpack-13.2:amd64.\n",
            "Preparing to unpack .../130-libtrilinos-ifpack-13.2_13.2.0-1ubuntu1_amd64.deb ...\n",
            "Unpacking libtrilinos-ifpack-13.2:amd64 (13.2.0-1ubuntu1) ...\n",
            "Selecting previously unselected package libtrilinos-zoltan-13.2:amd64.\n",
            "Preparing to unpack .../131-libtrilinos-zoltan-13.2_13.2.0-1ubuntu1_amd64.deb ...\n",
            "Unpacking libtrilinos-zoltan-13.2:amd64 (13.2.0-1ubuntu1) ...\n",
            "Selecting previously unselected package libtrilinos-ml-13.2:amd64.\n",
            "Preparing to unpack .../132-libtrilinos-ml-13.2_13.2.0-1ubuntu1_amd64.deb ...\n",
            "Unpacking libtrilinos-ml-13.2:amd64 (13.2.0-1ubuntu1) ...\n",
            "Selecting previously unselected package libumfpack5:amd64.\n",
            "Preparing to unpack .../133-libumfpack5_1%3a5.10.1+dfsg-4build1_amd64.deb ...\n",
            "Unpacking libumfpack5:amd64 (1:5.10.1+dfsg-4build1) ...\n",
            "Selecting previously unselected package libpetsc-real3.15:amd64.\n",
            "Preparing to unpack .../134-libpetsc-real3.15_3.15.5+dfsg1-1build2_amd64.deb ...\n",
            "Unpacking libpetsc-real3.15:amd64 (3.15.5+dfsg1-1build2) ...\n",
            "Selecting previously unselected package libplot2c2:amd64.\n",
            "Preparing to unpack .../135-libplot2c2_2.6-11_amd64.deb ...\n",
            "Unpacking libplot2c2:amd64 (2.6-11) ...\n",
            "Selecting previously unselected package libpocl2-common.\n",
            "Preparing to unpack .../136-libpocl2-common_1.8-3_all.deb ...\n",
            "Unpacking libpocl2-common (1.8-3) ...\n",
            "Selecting previously unselected package libpocl2:amd64.\n",
            "Preparing to unpack .../137-libpocl2_1.8-3_amd64.deb ...\n",
            "Unpacking libpocl2:amd64 (1.8-3) ...\n",
            "Selecting previously unselected package libportaudio2:amd64.\n",
            "Preparing to unpack .../138-libportaudio2_19.6.0-1.1_amd64.deb ...\n",
            "Unpacking libportaudio2:amd64 (19.6.0-1.1) ...\n",
            "Selecting previously unselected package libzip4:amd64.\n",
            "Preparing to unpack .../139-libzip4_1.7.3-1ubuntu2_amd64.deb ...\n",
            "Unpacking libzip4:amd64 (1.7.3-1ubuntu2) ...\n",
            "Selecting previously unselected package libpstoedit0c2a:amd64.\n",
            "Preparing to unpack .../140-libpstoedit0c2a_3.78-1_amd64.deb ...\n",
            "Unpacking libpstoedit0c2a:amd64 (3.78-1) ...\n",
            "Selecting previously unselected package libqrupdate1:amd64.\n",
            "Preparing to unpack .../141-libqrupdate1_1.1.2-4_amd64.deb ...\n",
            "Unpacking libqrupdate1:amd64 (1.1.2-4) ...\n",
            "Selecting previously unselected package libqscintilla2-qt5-l10n.\n",
            "Preparing to unpack .../142-libqscintilla2-qt5-l10n_2.11.6+dfsg-4_all.deb ...\n",
            "Unpacking libqscintilla2-qt5-l10n (2.11.6+dfsg-4) ...\n",
            "Selecting previously unselected package libqscintilla2-qt5-15.\n",
            "Preparing to unpack .../143-libqscintilla2-qt5-15_2.11.6+dfsg-4_amd64.deb ...\n",
            "Unpacking libqscintilla2-qt5-15 (2.11.6+dfsg-4) ...\n",
            "Selecting previously unselected package libqt5sql5:amd64.\n",
            "Preparing to unpack .../144-libqt5sql5_5.15.3+dfsg-2ubuntu0.2_amd64.deb ...\n",
            "Unpacking libqt5sql5:amd64 (5.15.3+dfsg-2ubuntu0.2) ...\n",
            "Selecting previously unselected package libqt5help5:amd64.\n",
            "Preparing to unpack .../145-libqt5help5_5.15.3-1_amd64.deb ...\n",
            "Unpacking libqt5help5:amd64 (5.15.3-1) ...\n",
            "Selecting previously unselected package libqt5sql5-sqlite:amd64.\n",
            "Preparing to unpack .../146-libqt5sql5-sqlite_5.15.3+dfsg-2ubuntu0.2_amd64.deb ...\n",
            "Unpacking libqt5sql5-sqlite:amd64 (5.15.3+dfsg-2ubuntu0.2) ...\n",
            "Selecting previously unselected package libqt5xml5:amd64.\n",
            "Preparing to unpack .../147-libqt5xml5_5.15.3+dfsg-2ubuntu0.2_amd64.deb ...\n",
            "Unpacking libqt5xml5:amd64 (5.15.3+dfsg-2ubuntu0.2) ...\n",
            "Selecting previously unselected package libsundials-ida4:amd64.\n",
            "Preparing to unpack .../148-libsundials-ida4_5.8.0+dfsg-1build1_amd64.deb ...\n",
            "Unpacking libsundials-ida4:amd64 (5.8.0+dfsg-1build1) ...\n",
            "Selecting previously unselected package libsundials-nvecparallel-petsc4:amd64.\n",
            "Preparing to unpack .../149-libsundials-nvecparallel-petsc4_5.8.0+dfsg-1build1_amd64.deb ...\n",
            "Unpacking libsundials-nvecparallel-petsc4:amd64 (5.8.0+dfsg-1build1) ...\n",
            "Selecting previously unselected package libsundials-nvecserial4:amd64.\n",
            "Preparing to unpack .../150-libsundials-nvecserial4_5.8.0+dfsg-1build1_amd64.deb ...\n",
            "Unpacking libsundials-nvecserial4:amd64 (5.8.0+dfsg-1build1) ...\n",
            "Selecting previously unselected package libsundials-sunmatrix2:amd64.\n",
            "Preparing to unpack .../151-libsundials-sunmatrix2_5.8.0+dfsg-1build1_amd64.deb ...\n",
            "Unpacking libsundials-sunmatrix2:amd64 (5.8.0+dfsg-1build1) ...\n",
            "Selecting previously unselected package libsundials-sunlinsol2:amd64.\n",
            "Preparing to unpack .../152-libsundials-sunlinsol2_5.8.0+dfsg-1build1_amd64.deb ...\n",
            "Unpacking libsundials-sunlinsol2:amd64 (5.8.0+dfsg-1build1) ...\n",
            "Selecting previously unselected package libtext-unidecode-perl.\n",
            "Preparing to unpack .../153-libtext-unidecode-perl_1.30-1_all.deb ...\n",
            "Unpacking libtext-unidecode-perl (1.30-1) ...\n",
            "Selecting previously unselected package libwacom-bin.\n",
            "Preparing to unpack .../154-libwacom-bin_2.2.0-1_amd64.deb ...\n",
            "Unpacking libwacom-bin (2.2.0-1) ...\n",
            "Selecting previously unselected package libxml-namespacesupport-perl.\n",
            "Preparing to unpack .../155-libxml-namespacesupport-perl_1.12-1.1_all.deb ...\n",
            "Unpacking libxml-namespacesupport-perl (1.12-1.1) ...\n",
            "Selecting previously unselected package libxml-sax-base-perl.\n",
            "Preparing to unpack .../156-libxml-sax-base-perl_1.09-1.1_all.deb ...\n",
            "Unpacking libxml-sax-base-perl (1.09-1.1) ...\n",
            "Selecting previously unselected package libxml-sax-perl.\n",
            "Preparing to unpack .../157-libxml-sax-perl_1.02+dfsg-3_all.deb ...\n",
            "Unpacking libxml-sax-perl (1.02+dfsg-3) ...\n",
            "Selecting previously unselected package libxml-libxml-perl.\n",
            "Preparing to unpack .../158-libxml-libxml-perl_2.0207+dfsg+really+2.0134-1_amd64.deb ...\n",
            "Unpacking libxml-libxml-perl (2.0207+dfsg+really+2.0134-1) ...\n",
            "Selecting previously unselected package libxml-parser-perl:amd64.\n",
            "Preparing to unpack .../159-libxml-parser-perl_2.46-3build1_amd64.deb ...\n",
            "Unpacking libxml-parser-perl:amd64 (2.46-3build1) ...\n",
            "Selecting previously unselected package libxml-sax-expat-perl.\n",
            "Preparing to unpack .../160-libxml-sax-expat-perl_0.51-1_all.deb ...\n",
            "Unpacking libxml-sax-expat-perl (0.51-1) ...\n",
            "Selecting previously unselected package llvm-11-runtime.\n",
            "Preparing to unpack .../161-llvm-11-runtime_1%3a11.1.0-6_amd64.deb ...\n",
            "Unpacking llvm-11-runtime (1:11.1.0-6) ...\n",
            "Selecting previously unselected package libpfm4:amd64.\n",
            "Preparing to unpack .../162-libpfm4_4.11.1+git32-gd0b85fb-1ubuntu0.1_amd64.deb ...\n",
            "Unpacking libpfm4:amd64 (4.11.1+git32-gd0b85fb-1ubuntu0.1) ...\n",
            "Selecting previously unselected package llvm-11.\n",
            "Preparing to unpack .../163-llvm-11_1%3a11.1.0-6_amd64.deb ...\n",
            "Unpacking llvm-11 (1:11.1.0-6) ...\n",
            "Selecting previously unselected package libffi-dev:amd64.\n",
            "Preparing to unpack .../164-libffi-dev_3.4.2-4_amd64.deb ...\n",
            "Unpacking libffi-dev:amd64 (3.4.2-4) ...\n",
            "Selecting previously unselected package python3-pygments.\n",
            "Preparing to unpack .../165-python3-pygments_2.11.2+dfsg-2_all.deb ...\n",
            "Unpacking python3-pygments (2.11.2+dfsg-2) ...\n",
            "Selecting previously unselected package llvm-11-tools.\n",
            "Preparing to unpack .../166-llvm-11-tools_1%3a11.1.0-6_amd64.deb ...\n",
            "Unpacking llvm-11-tools (1:11.1.0-6) ...\n",
            "Selecting previously unselected package libz3-4:amd64.\n",
            "Preparing to unpack .../167-libz3-4_4.8.12-1_amd64.deb ...\n",
            "Unpacking libz3-4:amd64 (4.8.12-1) ...\n",
            "Selecting previously unselected package libz3-dev:amd64.\n",
            "Preparing to unpack .../168-libz3-dev_4.8.12-1_amd64.deb ...\n",
            "Unpacking libz3-dev:amd64 (4.8.12-1) ...\n",
            "Selecting previously unselected package llvm-11-dev.\n",
            "Preparing to unpack .../169-llvm-11-dev_1%3a11.1.0-6_amd64.deb ...\n",
            "Unpacking llvm-11-dev (1:11.1.0-6) ...\n",
            "Selecting previously unselected package pstoedit.\n",
            "Preparing to unpack .../170-pstoedit_3.78-1_amd64.deb ...\n",
            "Unpacking pstoedit (3.78-1) ...\n",
            "Selecting previously unselected package qt5-gtk-platformtheme:amd64.\n",
            "Preparing to unpack .../171-qt5-gtk-platformtheme_5.15.3+dfsg-2ubuntu0.2_amd64.deb ...\n",
            "Unpacking qt5-gtk-platformtheme:amd64 (5.15.3+dfsg-2ubuntu0.2) ...\n",
            "Selecting previously unselected package qttranslations5-l10n.\n",
            "Preparing to unpack .../172-qttranslations5-l10n_5.15.3-1_all.deb ...\n",
            "Unpacking qttranslations5-l10n (5.15.3-1) ...\n",
            "Selecting previously unselected package texinfo.\n",
            "Preparing to unpack .../173-texinfo_6.8-4build1_amd64.deb ...\n",
            "Unpacking texinfo (6.8-4build1) ...\n",
            "Selecting previously unselected package libauthen-sasl-perl.\n",
            "Preparing to unpack .../174-libauthen-sasl-perl_2.1600-1.1_all.deb ...\n",
            "Unpacking libauthen-sasl-perl (2.1600-1.1) ...\n",
            "Selecting previously unselected package libglu1-mesa:amd64.\n",
            "Preparing to unpack .../175-libglu1-mesa_9.0.2-1_amd64.deb ...\n",
            "Unpacking libglu1-mesa:amd64 (9.0.2-1) ...\n",
            "Selecting previously unselected package octave-common.\n",
            "Preparing to unpack .../176-octave-common_6.4.0-2_all.deb ...\n",
            "Unpacking octave-common (6.4.0-2) ...\n",
            "Selecting previously unselected package octave.\n",
            "Preparing to unpack .../177-octave_6.4.0-2_amd64.deb ...\n",
            "Unpacking octave (6.4.0-2) ...\n",
            "Selecting previously unselected package octave-doc.\n",
            "Preparing to unpack .../178-octave-doc_6.4.0-2_all.deb ...\n",
            "Unpacking octave-doc (6.4.0-2) ...\n",
            "Selecting previously unselected package pocl-opencl-icd:amd64.\n",
            "Preparing to unpack .../179-pocl-opencl-icd_1.8-3_amd64.deb ...\n",
            "Unpacking pocl-opencl-icd:amd64 (1.8-3) ...\n",
            "Setting up libplot2c2:amd64 (2.6-11) ...\n",
            "Setting up libportaudio2:amd64 (19.6.0-1.1) ...\n",
            "Setting up libhttp-date-perl (6.05-1) ...\n",
            "Setting up imagemagick-6-common (8:6.9.11.60+dfsg-1.3ubuntu0.22.04.3) ...\n",
            "Setting up libfftw3-single3:amd64 (3.3.8-2ubuntu8) ...\n",
            "Setting up libcombblas1.16.0:amd64 (1.6.2-8) ...\n",
            "Setting up libfile-listing-perl (6.14-1) ...\n",
            "Setting up fonts-noto-mono (20201225-1build1) ...\n",
            "Setting up default-jre-headless (2:1.11-72build2) ...\n",
            "Setting up libwmflite-0.2-7:amd64 (0.2.12-5ubuntu1) ...\n",
            "Setting up libxcb-xinput0:amd64 (1.14-3ubuntu3) ...\n",
            "Setting up libfont-afm-perl (1.20-3) ...\n",
            "Setting up libscalapack-openmpi2.1:amd64 (2.1.0-4) ...\n",
            "Setting up libsundials-nvecserial4:amd64 (5.8.0+dfsg-1build1) ...\n",
            "Setting up libclone-perl (0.45-1build3) ...\n",
            "Setting up libhtml-tagset-perl (3.20-4) ...\n",
            "Setting up libqscintilla2-qt5-l10n (2.11.6+dfsg-4) ...\n",
            "Setting up libzip4:amd64 (1.7.3-1ubuntu2) ...\n",
            "Setting up libijs-0.35:amd64 (0.35-15build2) ...\n",
            "Setting up libauthen-sasl-perl (2.1600-1.1) ...\n",
            "Setting up libfltk1.3:amd64 (1.3.8-4) ...\n",
            "Setting up liblwp-mediatypes-perl (6.04-1) ...\n",
            "Setting up libfltk-gl1.3:amd64 (1.3.8-4) ...\n",
            "Setting up fonts-freefont-otf (20120503-10build1) ...\n",
            "Setting up libxcb-keysyms1:amd64 (0.4.0-1build3) ...\n",
            "Setting up libsundials-ida4:amd64 (5.8.0+dfsg-1build1) ...\n",
            "Setting up libtry-tiny-perl (0.31-1) ...\n",
            "Setting up libptscotch-6.1:amd64 (6.1.3-1) ...\n",
            "Setting up libmumps-5.4:amd64 (5.4.1-2) ...\n",
            "Setting up perl-openssl-defaults:amd64 (5build2) ...\n",
            "Setting up libxml-namespacesupport-perl (1.12-1.1) ...\n",
            "Setting up libfftw3-long3:amd64 (3.3.8-2ubuntu8) ...\n",
            "Setting up libxcb-render-util0:amd64 (0.3.9-1build3) ...\n",
            "Setting up python3-yaml (5.4.1-1ubuntu1) ...\n",
            "Setting up libencode-locale-perl (1.05-1.1) ...\n",
            "Setting up libtrilinos-kokkos-13.2:amd64 (13.2.0-1ubuntu1) ...\n",
            "Setting up libmetis5:amd64 (5.1.0.dfsg-7build2) ...\n",
            "Setting up libxcb-icccm4:amd64 (0.4.1-1.1build2) ...\n",
            "Setting up fonts-urw-base35 (20200910-1) ...\n",
            "Setting up libqrupdate1:amd64 (1.1.2-4) ...\n",
            "Setting up libffi-dev:amd64 (3.4.2-4) ...\n",
            "Setting up octave-common (6.4.0-2) ...\n",
            "Setting up libbtf1:amd64 (1:5.10.1+dfsg-4build1) ...\n",
            "Setting up libxcb-util1:amd64 (0.4.0-1build2) ...\n",
            "Setting up poppler-data (0.4.11-1) ...\n",
            "Setting up libxcb-xkb1:amd64 (1.14-3ubuntu3) ...\n",
            "Setting up libxcb-image0:amd64 (0.4.0-2) ...\n",
            "Setting up libtrilinos-trilinosss-13.2:amd64 (13.2.0-1ubuntu1) ...\n",
            "Setting up tex-common (6.17) ...\n",
            "debconf: unable to initialize frontend: Dialog\n",
            "debconf: (No usable dialog-like program is installed, so the dialog based frontend cannot be used. at /usr/share/perl5/Debconf/FrontEnd/Dialog.pm line 78.)\n",
            "debconf: falling back to frontend: Readline\n",
            "update-language: texlive-base not installed and configured, doing nothing!\n",
            "Setting up libxml-sax-base-perl (1.09-1.1) ...\n",
            "Setting up python3-pygments (2.11.2+dfsg-2) ...\n",
            "Setting up libz3-4:amd64 (4.8.12-1) ...\n",
            "Setting up libxcb-xinerama0:amd64 (1.14-3ubuntu3) ...\n",
            "Setting up libtrilinos-teuchos-13.2:amd64 (13.2.0-1ubuntu1) ...\n",
            "Setting up libpfm4:amd64 (4.11.1+git32-gd0b85fb-1ubuntu0.1) ...\n",
            "Setting up libllvm11:amd64 (1:11.1.0-6) ...\n",
            "Setting up qttranslations5-l10n (5.15.3-1) ...\n",
            "Setting up libdata-dump-perl (1.25-1) ...\n",
            "Setting up libjbig2dec0:amd64 (0.19-3build2) ...\n",
            "Setting up libnotify4:amd64 (0.7.9-3ubuntu5.22.04.1) ...\n",
            "Setting up aglfn (1.7+git20191031.4036a9c-2) ...\n",
            "Setting up gsfonts (1:8.11+urwcyr1.0.7~pre44-4.5) ...\n",
            "Setting up libtrilinos-epetra-13.2:amd64 (13.2.0-1ubuntu1) ...\n",
            "Setting up libpocl2-common (1.8-3) ...\n",
            "Setting up libxkbcommon-x11-0:amd64 (1.4.0-1) ...\n",
            "Setting up libidn12:amd64 (1.38-4ubuntu1) ...\n",
            "Setting up libio-html-perl (1.004-2) ...\n",
            "Setting up libclang1-11 (1:11.1.0-6) ...\n",
            "Setting up binfmt-support (2.2.1-2) ...\n",
            "invoke-rc.d: could not determine current runlevel\n",
            "invoke-rc.d: policy-rc.d denied execution of restart.\n",
            "Created symlink /etc/systemd/system/multi-user.target.wants/binfmt-support.service → /lib/systemd/system/binfmt-support.service.\n",
            "Setting up libgraphicsmagick-q16-3 (1.4+really1.3.38-1ubuntu0.1) ...\n",
            "Setting up libqt5core5a:amd64 (5.15.3+dfsg-2ubuntu0.2) ...\n",
            "Setting up libfftw3-double3:amd64 (3.3.8-2ubuntu8) ...\n",
            "Setting up libmtdev1:amd64 (1.1.6-1build4) ...\n",
            "Setting up llvm-11-linker-tools (1:11.1.0-6) ...\n",
            "Setting up liblqr-1-0:amd64 (0.4.2-2.1) ...\n",
            "Setting up libtrilinos-aztecoo-13.2:amd64 (13.2.0-1ubuntu1) ...\n",
            "Setting up libqt5dbus5:amd64 (5.15.3+dfsg-2ubuntu0.2) ...\n",
            "Setting up libsuperlu-dist7:amd64 (7.2.0+dfsg1-2) ...\n",
            "Setting up libclang-common-11-dev (1:11.1.0-6) ...\n",
            "Setting up libmd4c0:amd64 (0.4.8-1) ...\n",
            "Setting up liblua5.4-0:amd64 (5.4.4-1) ...\n",
            "Setting up netbase (6.3) ...\n",
            "Setting up libwxbase3.0-0v5:amd64 (3.0.5.1+dfsg-4) ...\n",
            "Setting up libgraphicsmagick++-q16-12 (1.4+really1.3.38-1ubuntu0.1) ...\n",
            "Setting up libcxsparse3:amd64 (1:5.10.1+dfsg-4build1) ...\n",
            "Setting up libglu1-mesa:amd64 (9.0.2-1) ...\n",
            "Setting up fonts-droid-fallback (1:6.0.1r16-1.1build1) ...\n",
            "Setting up libscotch-6.1:amd64 (6.1.3-1) ...\n",
            "Setting up libtext-unidecode-perl (1.30-1) ...\n",
            "Setting up libhypre-2.22.1:amd64 (2.22.1-7) ...\n",
            "Setting up libemf1:amd64 (1.0.13-3) ...\n",
            "Setting up libevdev2:amd64 (1.12.1+dfsg-1) ...\n",
            "Setting up libsuitesparseconfig5:amd64 (1:5.10.1+dfsg-4build1) ...\n",
            "Setting up liburi-perl (5.10-1) ...\n",
            "Setting up libonig5:amd64 (6.9.7.1-2build1) ...\n",
            "Setting up info (6.8-4build1) ...\n",
            "update-alternatives: using /usr/bin/info to provide /usr/bin/infobrowser (infobrowser) in auto mode\n",
            "Setting up libgudev-1.0-0:amd64 (1:237-2build1) ...\n",
            "Setting up libtrilinos-triutils-13.2:amd64 (13.2.0-1ubuntu1) ...\n",
            "Setting up libsundials-sunmatrix2:amd64 (5.8.0+dfsg-1build1) ...\n",
            "Setting up libhdf5-openmpi-103-1:amd64 (1.10.7+repack-4ubuntu2) ...\n",
            "Setting up libhttp-message-perl (6.36-1) ...\n",
            "Setting up libwacom-common (2.2.0-1) ...\n",
            "Setting up libnet-ssleay-perl:amd64 (1.92-1build2) ...\n",
            "Setting up libgs9-common (9.55.0~dfsg1-0ubuntu5.7) ...\n",
            "Setting up gnuplot-data (5.4.2+dfsg2-2) ...\n",
            "Setting up libamd2:amd64 (1:5.10.1+dfsg-4build1) ...\n",
            "Setting up libz3-dev:amd64 (4.8.12-1) ...\n",
            "Setting up libhttp-negotiate-perl (6.01-1) ...\n",
            "Setting up llvm-11-runtime (1:11.1.0-6) ...\n",
            "Setting up libcolamd2:amd64 (1:5.10.1+dfsg-4build1) ...\n",
            "Setting up libgs9:amd64 (9.55.0~dfsg1-0ubuntu5.7) ...\n",
            "Setting up libhttp-cookies-perl (6.10-1) ...\n",
            "Setting up libwacom9:amd64 (2.2.0-1) ...\n",
            "Setting up libjq1:amd64 (1.6-2.1ubuntu3) ...\n",
            "Setting up llvm-11-tools (1:11.1.0-6) ...\n",
            "Setting up libnet-http-perl (6.22-1) ...\n",
            "Setting up llvm-11 (1:11.1.0-6) ...\n",
            "Setting up libfftw3-mpi3:amd64 (3.3.8-2ubuntu8) ...\n",
            "Setting up ghostscript (9.55.0~dfsg1-0ubuntu5.7) ...\n",
            "Setting up libtrilinos-zoltan-13.2:amd64 (13.2.0-1ubuntu1) ...\n",
            "Setting up octave-doc (6.4.0-2) ...\n",
            "Setting up libxml-sax-perl (1.02+dfsg-3) ...\n",
            "update-perl-sax-parsers: Registering Perl SAX parser XML::SAX::PurePerl with priority 10...\n",
            "update-perl-sax-parsers: Updating overall Perl SAX parser modules info file...\n",
            "debconf: unable to initialize frontend: Dialog\n",
            "debconf: (No usable dialog-like program is installed, so the dialog based frontend cannot be used. at /usr/share/perl5/Debconf/FrontEnd/Dialog.pm line 78.)\n",
            "debconf: falling back to frontend: Readline\n",
            "\n",
            "Creating config file /etc/perl/XML/SAX/ParserDetails.ini with new version\n",
            "Setting up libwxgtk3.0-gtk3-0v5:amd64 (3.0.5.1+dfsg-4) ...\n",
            "Setting up libqt5network5:amd64 (5.15.3+dfsg-2ubuntu0.2) ...\n",
            "Setting up libinput-bin (1.20.0-1ubuntu0.3) ...\n",
            "Setting up libclang-cpp11 (1:11.1.0-6) ...\n",
            "Setting up libqt5sql5:amd64 (5.15.3+dfsg-2ubuntu0.2) ...\n",
            "Setting up libcamd2:amd64 (1:5.10.1+dfsg-4build1) ...\n",
            "Setting up libmagickcore-6.q16-6:amd64 (8:6.9.11.60+dfsg-1.3ubuntu0.22.04.3) ...\n",
            "Setting up libqt5xml5:amd64 (5.15.3+dfsg-2ubuntu0.2) ...\n",
            "Setting up epstool (3.09-3) ...\n",
            "Setting up libglpk40:amd64 (5.0-1) ...\n",
            "Setting up libtrilinos-epetraext-13.2:amd64 (13.2.0-1ubuntu1) ...\n",
            "Setting up libxml-libxml-perl (2.0207+dfsg+really+2.0134-1) ...\n",
            "update-perl-sax-parsers: Registering Perl SAX parser XML::LibXML::SAX::Parser with priority 50...\n",
            "update-perl-sax-parsers: Registering Perl SAX parser XML::LibXML::SAX with priority 50...\n",
            "update-perl-sax-parsers: Updating overall Perl SAX parser modules info file...\n",
            "debconf: unable to initialize frontend: Dialog\n",
            "debconf: (No usable dialog-like program is installed, so the dialog based frontend cannot be used. at /usr/share/perl5/Debconf/FrontEnd/Dialog.pm line 78.)\n",
            "debconf: falling back to frontend: Readline\n",
            "Replacing config file /etc/perl/XML/SAX/ParserDetails.ini with new version\n",
            "Setting up libwacom-bin (2.2.0-1) ...\n",
            "Setting up libwww-robotrules-perl (6.02-1) ...\n",
            "Setting up libtrilinos-galeri-13.2:amd64 (13.2.0-1ubuntu1) ...\n",
            "Setting up libhttp-daemon-perl (6.13-1ubuntu0.1) ...\n",
            "Setting up libklu1:amd64 (1:5.10.1+dfsg-4build1) ...\n",
            "Setting up libccolamd2:amd64 (1:5.10.1+dfsg-4build1) ...\n",
            "Setting up libhtml-parser-perl:amd64 (3.76-1build2) ...\n",
            "Setting up jq (1.6-2.1ubuntu3) ...\n",
            "Setting up libmagickwand-6.q16-6:amd64 (8:6.9.11.60+dfsg-1.3ubuntu0.22.04.3) ...\n",
            "Setting up libtrilinos-amesos-13.2:amd64 (13.2.0-1ubuntu1) ...\n",
            "Setting up libmagick++-6.q16-8:amd64 (8:6.9.11.60+dfsg-1.3ubuntu0.22.04.3) ...\n",
            "Setting up clang-11 (1:11.1.0-6) ...\n",
            "Setting up libcholmod3:amd64 (1:5.10.1+dfsg-4build1) ...\n",
            "Setting up libio-socket-ssl-perl (2.074-2) ...\n",
            "Setting up libhtml-form-perl (6.07-1) ...\n",
            "Setting up libinput10:amd64 (1.20.0-1ubuntu0.3) ...\n",
            "Setting up libqt5sql5-sqlite:amd64 (5.15.3+dfsg-2ubuntu0.2) ...\n",
            "Setting up libpstoedit0c2a:amd64 (3.78-1) ...\n",
            "Setting up llvm-11-dev (1:11.1.0-6) ...\n",
            "Setting up libhtml-tree-perl (5.07-2) ...\n",
            "Setting up libqt5gui5:amd64 (5.15.3+dfsg-2ubuntu0.2) ...\n",
            "Setting up libqt5widgets5:amd64 (5.15.3+dfsg-2ubuntu0.2) ...\n",
            "Setting up libhtml-format-perl (2.12-1.1) ...\n",
            "Setting up libqt5help5:amd64 (5.15.3-1) ...\n",
            "Setting up qt5-gtk-platformtheme:amd64 (5.15.3+dfsg-2ubuntu0.2) ...\n",
            "Setting up libqt5printsupport5:amd64 (5.15.3+dfsg-2ubuntu0.2) ...\n",
            "Setting up libumfpack5:amd64 (1:5.10.1+dfsg-4build1) ...\n",
            "Setting up libnet-smtp-ssl-perl (1.04-1) ...\n",
            "Setting up libmailtools-perl (2.21-1) ...\n",
            "Setting up libtrilinos-ifpack-13.2:amd64 (13.2.0-1ubuntu1) ...\n",
            "Setting up texinfo (6.8-4build1) ...\n",
            "Setting up libpocl2:amd64 (1.8-3) ...\n",
            "Setting up pstoedit (3.78-1) ...\n",
            "Setting up libtrilinos-ml-13.2:amd64 (13.2.0-1ubuntu1) ...\n",
            "Setting up libqt5svg5:amd64 (5.15.3-1) ...\n",
            "Setting up libpetsc-real3.15:amd64 (3.15.5+dfsg1-1build2) ...\n",
            "update-alternatives: using /usr/lib/x86_64-linux-gnu/libpetsc_real.so.3.15.5 to provide /usr/lib/x86_64-linux-gnu/libpetsc.so.3.15 (libpetsc.so.3.15) in auto mode\n",
            "Setting up libqscintilla2-qt5-15 (2.11.6+dfsg-4) ...\n",
            "Setting up gnuplot-qt (5.4.2+dfsg2-2) ...\n",
            "update-alternatives: using /usr/bin/gnuplot-qt to provide /usr/bin/gnuplot (gnuplot) in auto mode\n",
            "Setting up pocl-opencl-icd:amd64 (1.8-3) ...\n",
            "Setting up libsundials-nvecparallel-petsc4:amd64 (5.8.0+dfsg-1build1) ...\n",
            "Setting up libsundials-sunlinsol2:amd64 (5.8.0+dfsg-1build1) ...\n",
            "Setting up octave (6.4.0-2) ...\n",
            "Setting up liblwp-protocol-https-perl (6.10-1) ...\n",
            "Setting up libwww-perl (6.61-1) ...\n",
            "Setting up libxml-parser-perl:amd64 (2.46-3build1) ...\n",
            "Setting up libxml-sax-expat-perl (0.51-1) ...\n",
            "update-perl-sax-parsers: Registering Perl SAX parser XML::SAX::Expat with priority 50...\n",
            "update-perl-sax-parsers: Updating overall Perl SAX parser modules info file...\n",
            "debconf: unable to initialize frontend: Dialog\n",
            "debconf: (No usable dialog-like program is installed, so the dialog based frontend cannot be used. at /usr/share/perl5/Debconf/FrontEnd/Dialog.pm line 78.)\n",
            "debconf: falling back to frontend: Readline\n",
            "Replacing config file /etc/perl/XML/SAX/ParserDetails.ini with new version\n",
            "Processing triggers for install-info (6.8-4build1) ...\n",
            "Processing triggers for fontconfig (2.13.1-4.2ubuntu5) ...\n",
            "Processing triggers for hicolor-icon-theme (0.17-2) ...\n",
            "Processing triggers for libc-bin (2.35-0ubuntu3.4) ...\n",
            "/sbin/ldconfig.real: /usr/local/lib/libtbbbind.so.3 is not a symbolic link\n",
            "\n",
            "/sbin/ldconfig.real: /usr/local/lib/libtbbbind_2_0.so.3 is not a symbolic link\n",
            "\n",
            "/sbin/ldconfig.real: /usr/local/lib/libtbbbind_2_5.so.3 is not a symbolic link\n",
            "\n",
            "/sbin/ldconfig.real: /usr/local/lib/libtbbmalloc_proxy.so.2 is not a symbolic link\n",
            "\n",
            "/sbin/ldconfig.real: /usr/local/lib/libtbb.so.12 is not a symbolic link\n",
            "\n",
            "/sbin/ldconfig.real: /usr/local/lib/libtbbmalloc.so.2 is not a symbolic link\n",
            "\n",
            "Processing triggers for man-db (2.10.2-1) ...\n",
            "Collecting oct2py\n",
            "  Downloading oct2py-5.7.0-py3-none-any.whl (29 kB)\n",
            "Collecting jdata\n",
            "  Downloading jdata-0.6.0-py2.py3-none-any.whl (20 kB)\n",
            "Collecting bjdata\n",
            "  Downloading bjdata-0.4.1.tar.gz (65 kB)\n",
            "\u001b[2K     \u001b[90m━━━━━━━━━━━━━━━━━━━━━━━━━━━━━━━━━━━━━━━━\u001b[0m \u001b[32m65.0/65.0 kB\u001b[0m \u001b[31m4.6 MB/s\u001b[0m eta \u001b[36m0:00:00\u001b[0m\n",
            "\u001b[?25h  Installing build dependencies ... \u001b[?25l\u001b[?25hdone\n",
            "  Getting requirements to build wheel ... \u001b[?25l\u001b[?25hdone\n",
            "  Preparing metadata (pyproject.toml) ... \u001b[?25l\u001b[?25hdone\n",
            "Requirement already satisfied: matplotlib in /usr/local/lib/python3.10/dist-packages (3.7.1)\n",
            "Requirement already satisfied: numpy>=1.12 in /usr/local/lib/python3.10/dist-packages (from oct2py) (1.25.2)\n",
            "Collecting octave-kernel>=0.34.0 (from oct2py)\n",
            "  Downloading octave_kernel-0.36.0-py3-none-any.whl (35 kB)\n",
            "Requirement already satisfied: scipy>=0.17 in /usr/local/lib/python3.10/dist-packages (from oct2py) (1.11.4)\n",
            "Requirement already satisfied: contourpy>=1.0.1 in /usr/local/lib/python3.10/dist-packages (from matplotlib) (1.2.1)\n",
            "Requirement already satisfied: cycler>=0.10 in /usr/local/lib/python3.10/dist-packages (from matplotlib) (0.12.1)\n",
            "Requirement already satisfied: fonttools>=4.22.0 in /usr/local/lib/python3.10/dist-packages (from matplotlib) (4.53.0)\n",
            "Requirement already satisfied: kiwisolver>=1.0.1 in /usr/local/lib/python3.10/dist-packages (from matplotlib) (1.4.5)\n",
            "Requirement already satisfied: packaging>=20.0 in /usr/local/lib/python3.10/dist-packages (from matplotlib) (24.1)\n",
            "Requirement already satisfied: pillow>=6.2.0 in /usr/local/lib/python3.10/dist-packages (from matplotlib) (9.4.0)\n",
            "Requirement already satisfied: pyparsing>=2.3.1 in /usr/local/lib/python3.10/dist-packages (from matplotlib) (3.1.2)\n",
            "Requirement already satisfied: python-dateutil>=2.7 in /usr/local/lib/python3.10/dist-packages (from matplotlib) (2.8.2)\n",
            "Requirement already satisfied: ipykernel in /usr/local/lib/python3.10/dist-packages (from octave-kernel>=0.34.0->oct2py) (5.5.6)\n",
            "Requirement already satisfied: jupyter-client>=4.3.0 in /usr/local/lib/python3.10/dist-packages (from octave-kernel>=0.34.0->oct2py) (6.1.12)\n",
            "Collecting metakernel>=0.24.0 (from octave-kernel>=0.34.0->oct2py)\n",
            "  Downloading metakernel-0.30.2-py3-none-any.whl (217 kB)\n",
            "\u001b[2K     \u001b[90m━━━━━━━━━━━━━━━━━━━━━━━━━━━━━━━━━━━━━━━━\u001b[0m \u001b[32m217.8/217.8 kB\u001b[0m \u001b[31m7.8 MB/s\u001b[0m eta \u001b[36m0:00:00\u001b[0m\n",
            "\u001b[?25hRequirement already satisfied: six>=1.5 in /usr/local/lib/python3.10/dist-packages (from python-dateutil>=2.7->matplotlib) (1.16.0)\n",
            "Requirement already satisfied: traitlets in /usr/local/lib/python3.10/dist-packages (from jupyter-client>=4.3.0->octave-kernel>=0.34.0->oct2py) (5.7.1)\n",
            "Requirement already satisfied: jupyter-core>=4.6.0 in /usr/local/lib/python3.10/dist-packages (from jupyter-client>=4.3.0->octave-kernel>=0.34.0->oct2py) (5.7.2)\n",
            "Requirement already satisfied: pyzmq>=13 in /usr/local/lib/python3.10/dist-packages (from jupyter-client>=4.3.0->octave-kernel>=0.34.0->oct2py) (24.0.1)\n",
            "Requirement already satisfied: tornado>=4.1 in /usr/local/lib/python3.10/dist-packages (from jupyter-client>=4.3.0->octave-kernel>=0.34.0->oct2py) (6.3.3)\n",
            "Collecting jedi>=0.18 (from metakernel>=0.24.0->octave-kernel>=0.34.0->oct2py)\n",
            "  Downloading jedi-0.19.1-py2.py3-none-any.whl (1.6 MB)\n",
            "\u001b[2K     \u001b[90m━━━━━━━━━━━━━━━━━━━━━━━━━━━━━━━━━━━━━━━━\u001b[0m \u001b[32m1.6/1.6 MB\u001b[0m \u001b[31m5.3 MB/s\u001b[0m eta \u001b[36m0:00:00\u001b[0m\n",
            "\u001b[?25hRequirement already satisfied: pexpect>=4.8 in /usr/local/lib/python3.10/dist-packages (from metakernel>=0.24.0->octave-kernel>=0.34.0->oct2py) (4.9.0)\n",
            "Requirement already satisfied: ipython-genutils in /usr/local/lib/python3.10/dist-packages (from ipykernel->octave-kernel>=0.34.0->oct2py) (0.2.0)\n",
            "Requirement already satisfied: ipython>=5.0.0 in /usr/local/lib/python3.10/dist-packages (from ipykernel->octave-kernel>=0.34.0->oct2py) (7.34.0)\n",
            "Requirement already satisfied: setuptools>=18.5 in /usr/local/lib/python3.10/dist-packages (from ipython>=5.0.0->ipykernel->octave-kernel>=0.34.0->oct2py) (67.7.2)\n",
            "Requirement already satisfied: decorator in /usr/local/lib/python3.10/dist-packages (from ipython>=5.0.0->ipykernel->octave-kernel>=0.34.0->oct2py) (4.4.2)\n",
            "Requirement already satisfied: pickleshare in /usr/local/lib/python3.10/dist-packages (from ipython>=5.0.0->ipykernel->octave-kernel>=0.34.0->oct2py) (0.7.5)\n",
            "Requirement already satisfied: prompt-toolkit!=3.0.0,!=3.0.1,<3.1.0,>=2.0.0 in /usr/local/lib/python3.10/dist-packages (from ipython>=5.0.0->ipykernel->octave-kernel>=0.34.0->oct2py) (3.0.47)\n",
            "Requirement already satisfied: pygments in /usr/local/lib/python3.10/dist-packages (from ipython>=5.0.0->ipykernel->octave-kernel>=0.34.0->oct2py) (2.16.1)\n",
            "Requirement already satisfied: backcall in /usr/local/lib/python3.10/dist-packages (from ipython>=5.0.0->ipykernel->octave-kernel>=0.34.0->oct2py) (0.2.0)\n",
            "Requirement already satisfied: matplotlib-inline in /usr/local/lib/python3.10/dist-packages (from ipython>=5.0.0->ipykernel->octave-kernel>=0.34.0->oct2py) (0.1.7)\n",
            "Requirement already satisfied: parso<0.9.0,>=0.8.3 in /usr/local/lib/python3.10/dist-packages (from jedi>=0.18->metakernel>=0.24.0->octave-kernel>=0.34.0->oct2py) (0.8.4)\n",
            "Requirement already satisfied: platformdirs>=2.5 in /usr/local/lib/python3.10/dist-packages (from jupyter-core>=4.6.0->jupyter-client>=4.3.0->octave-kernel>=0.34.0->oct2py) (4.2.2)\n",
            "Requirement already satisfied: ptyprocess>=0.5 in /usr/local/lib/python3.10/dist-packages (from pexpect>=4.8->metakernel>=0.24.0->octave-kernel>=0.34.0->oct2py) (0.7.0)\n",
            "Requirement already satisfied: wcwidth in /usr/local/lib/python3.10/dist-packages (from prompt-toolkit!=3.0.0,!=3.0.1,<3.1.0,>=2.0.0->ipython>=5.0.0->ipykernel->octave-kernel>=0.34.0->oct2py) (0.2.13)\n",
            "Building wheels for collected packages: bjdata\n",
            "  Building wheel for bjdata (pyproject.toml) ... \u001b[?25l\u001b[?25hdone\n",
            "  Created wheel for bjdata: filename=bjdata-0.4.1-cp310-cp310-linux_x86_64.whl size=22072 sha256=54f77d9d8757d0e492123e265973ea74523616e07a909978a85f090546a088fd\n",
            "  Stored in directory: /root/.cache/pip/wheels/3d/27/80/c74baf85b8177e5fdd5c26bb0ce049d6d653330ebad60df6ce\n",
            "Successfully built bjdata\n",
            "Installing collected packages: jedi, jdata, bjdata, metakernel, octave-kernel, oct2py\n",
            "Successfully installed bjdata-0.4.1 jdata-0.6.0 jedi-0.19.1 metakernel-0.30.2 oct2py-5.7.0 octave-kernel-0.36.0\n",
            "--2024-06-26 19:59:41--  https://mcx.space/nightly/release/MCX24/MCXStudio-linux-x86_64-nightlybuild.zip\n",
            "Resolving mcx.space (mcx.space)... 74.208.236.196, 2607:f1c0:100f:f000::2ed\n",
            "Connecting to mcx.space (mcx.space)|74.208.236.196|:443... connected.\n",
            "HTTP request sent, awaiting response... 200 OK\n",
            "Length: 56662476 (54M) [application/zip]\n",
            "Saving to: ‘MCXStudio-linux-x86_64-nightlybuild.zip’\n",
            "\n",
            "MCXStudio-linux-x86 100%[===================>]  54.04M  47.8MB/s    in 1.1s    \n",
            "\n",
            "2024-06-26 19:59:42 (47.8 MB/s) - ‘MCXStudio-linux-x86_64-nightlybuild.zip’ saved [56662476/56662476]\n",
            "\n",
            "Archive:  MCXStudio-linux-x86_64-nightlybuild.zip\n",
            "   creating: MCXStudio/\n",
            "   creating: MCXStudio/MCXSuite/\n",
            "   creating: MCXStudio/MCXSuite/mcx/\n",
            "  inflating: MCXStudio/MCXSuite/mcx/TODO.txt  \n",
            "   creating: MCXStudio/MCXSuite/mcx/pmcx/\n",
            "   creating: MCXStudio/MCXSuite/mcx/pmcx/pmcx/\n",
            "  inflating: MCXStudio/MCXSuite/mcx/pmcx/pmcx/utils.py  \n",
            "  inflating: MCXStudio/MCXSuite/mcx/pmcx/pmcx/bench.py  \n",
            "  inflating: MCXStudio/MCXSuite/mcx/pmcx/pmcx/__init__.py  \n",
            "  inflating: MCXStudio/MCXSuite/mcx/pmcx/setup.py  \n",
            "   creating: MCXStudio/MCXSuite/mcx/pmcx/test/\n",
            "  inflating: MCXStudio/MCXSuite/mcx/pmcx/test/test.py  \n",
            "   creating: MCXStudio/MCXSuite/mcx/pmcx/tutorials/\n",
            "  inflating: MCXStudio/MCXSuite/mcx/pmcx/tutorials/pmcx_demo.py  \n",
            "  inflating: MCXStudio/MCXSuite/mcx/pmcx/tutorials/pmcx_getting_started.ipynb  \n",
            "  inflating: MCXStudio/MCXSuite/mcx/pmcx/Makefile  \n",
            "  inflating: MCXStudio/MCXSuite/mcx/pmcx/README.md  \n",
            "   creating: MCXStudio/MCXSuite/mcx/speedcontest/\n",
            "  inflating: MCXStudio/MCXSuite/mcx/speedcontest/mcxcontest  \n",
            "   creating: MCXStudio/MCXSuite/mcx/manpage/\n",
            "  inflating: MCXStudio/MCXSuite/mcx/manpage/mcx.1  \n",
            "  inflating: MCXStudio/MCXSuite/mcx/manpage/mcxstudio.1  \n",
            "  inflating: MCXStudio/MCXSuite/mcx/manpage/mcxshow.1  \n",
            "  inflating: MCXStudio/MCXSuite/mcx/manpage/mcxviewer.1  \n",
            "  inflating: MCXStudio/MCXSuite/mcx/manpage/photon.1  \n",
            "  inflating: MCXStudio/MCXSuite/mcx/manpage/mcxcontest.1  \n",
            "   creating: MCXStudio/MCXSuite/mcx/bin/\n",
            "  inflating: MCXStudio/MCXSuite/mcx/bin/mcx  \n",
            "  inflating: MCXStudio/MCXSuite/mcx/bin/mcxshow  \n",
            "  inflating: MCXStudio/MCXSuite/mcx/bin/mcxviewer  \n",
            "  inflating: MCXStudio/MCXSuite/mcx/.miss_hit  \n",
            "  inflating: MCXStudio/MCXSuite/mcx/LICENSE.txt  \n",
            "  inflating: MCXStudio/MCXSuite/mcx/AUTHORS.txt  \n",
            "   creating: MCXStudio/MCXSuite/mcx/script/\n",
            "  inflating: MCXStudio/MCXSuite/mcx/script/photon  \n",
            "  inflating: MCXStudio/MCXSuite/mcx/NOTICE.txt  \n",
            "   creating: MCXStudio/MCXSuite/mcx/example/\n",
            "   creating: MCXStudio/MCXSuite/mcx/example/rngcycle/\n",
            "  inflating: MCXStudio/MCXSuite/mcx/example/rngcycle/rngcycle.cu  \n",
            "  inflating: MCXStudio/MCXSuite/mcx/example/rngcycle/Makefile  \n",
            "  inflating: MCXStudio/MCXSuite/mcx/example/rngcycle/testcycle.sh  \n",
            "   creating: MCXStudio/MCXSuite/mcx/example/speedtest/\n",
            "  inflating: MCXStudio/MCXSuite/mcx/example/speedtest/genreport.sh  \n",
            "  inflating: MCXStudio/MCXSuite/mcx/example/speedtest/benchcpeed.inp  \n",
            "  inflating: MCXStudio/MCXSuite/mcx/example/speedtest/README.txt  \n",
            "  inflating: MCXStudio/MCXSuite/mcx/example/speedtest/runspeedbench.sh  \n",
            "  inflating: MCXStudio/MCXSuite/mcx/example/speedtest/cubic60.json  \n",
            "   creating: MCXStudio/MCXSuite/mcx/example/benchmark/\n",
            "  inflating: MCXStudio/MCXSuite/mcx/example/benchmark/run_benchmark1.sh  \n",
            "  inflating: MCXStudio/MCXSuite/mcx/example/benchmark/run_benchmark2.sh  \n",
            "  inflating: MCXStudio/MCXSuite/mcx/example/benchmark/benchmark1.json  \n",
            "  inflating: MCXStudio/MCXSuite/mcx/example/benchmark/run_benchmark3.sh  \n",
            "  inflating: MCXStudio/MCXSuite/mcx/example/benchmark/run_benchmark2.bat  \n",
            "  inflating: MCXStudio/MCXSuite/mcx/example/benchmark/run_benchmark3.bat  \n",
            " extracting: MCXStudio/MCXSuite/mcx/example/benchmark/run_benchmark1.bat  \n",
            "  inflating: MCXStudio/MCXSuite/mcx/example/benchmark/benchmark3.json  \n",
            "  inflating: MCXStudio/MCXSuite/mcx/example/benchmark/cubic60.json  \n",
            "   creating: MCXStudio/MCXSuite/mcx/example/multisrc/\n",
            " extracting: MCXStudio/MCXSuite/mcx/example/multisrc/run_multisrc.bat  \n",
            "  inflating: MCXStudio/MCXSuite/mcx/example/multisrc/run_eachsrc.bat  \n",
            "  inflating: MCXStudio/MCXSuite/mcx/example/multisrc/run_eachsrc.sh  \n",
            " extracting: MCXStudio/MCXSuite/mcx/example/multisrc/run_src9.bat  \n",
            "  inflating: MCXStudio/MCXSuite/mcx/example/multisrc/run_src9.sh  \n",
            "  inflating: MCXStudio/MCXSuite/mcx/example/multisrc/run_multisrc.sh  \n",
            "  inflating: MCXStudio/MCXSuite/mcx/example/multisrc/multisrc.json  \n",
            "   creating: MCXStudio/MCXSuite/mcx/example/shapetest/\n",
            "  inflating: MCXStudio/MCXSuite/mcx/example/shapetest/plotshapemask.m  \n",
            "  inflating: MCXStudio/MCXSuite/mcx/example/shapetest/jsonshape_allinone.json  \n",
            "  inflating: MCXStudio/MCXSuite/mcx/example/shapetest/run_shapetest.sh  \n",
            "  inflating: MCXStudio/MCXSuite/mcx/example/shapetest/Makefile  \n",
            "  inflating: MCXStudio/MCXSuite/mcx/example/shapetest/jsonshape.json  \n",
            "  inflating: MCXStudio/MCXSuite/mcx/example/shapetest/shapes.json  \n",
            "   creating: MCXStudio/MCXSuite/mcx/example/rfreplay/\n",
            "  inflating: MCXStudio/MCXSuite/mcx/example/rfreplay/baseline.json  \n",
            "  inflating: MCXStudio/MCXSuite/mcx/example/rfreplay/rfreplay.json  \n",
            "  inflating: MCXStudio/MCXSuite/mcx/example/rfreplay/run_rfreplay.sh  \n",
            "  inflating: MCXStudio/MCXSuite/mcx/example/mcx_demo.mcxp  \n",
            "   creating: MCXStudio/MCXSuite/mcx/example/muamus/\n",
            "  inflating: MCXStudio/MCXSuite/mcx/example/muamus/mua_mus_g_n.json  \n",
            "  inflating: MCXStudio/MCXSuite/mcx/example/muamus/run_muamus.sh  \n",
            "  inflating: MCXStudio/MCXSuite/mcx/example/muamus/run_muamusgn.sh  \n",
            "  inflating: MCXStudio/MCXSuite/mcx/example/muamus/test_muamus_float.json  \n",
            " extracting: MCXStudio/MCXSuite/mcx/example/muamus/run_muamusgn.bat  \n",
            " extracting: MCXStudio/MCXSuite/mcx/example/muamus/run_muamus.bat  \n",
            "   creating: MCXStudio/MCXSuite/mcx/example/polarized/\n",
            "  inflating: MCXStudio/MCXSuite/mcx/example/polarized/onelayer.json  \n",
            "  inflating: MCXStudio/MCXSuite/mcx/example/polarized/onelayer_plot_results.m  \n",
            "  inflating: MCXStudio/MCXSuite/mcx/example/polarized/run_onelayer.sh  \n",
            "   creating: MCXStudio/MCXSuite/mcx/example/usc19-5/\n",
            "  inflating: MCXStudio/MCXSuite/mcx/example/usc19-5/USC_19-5_atlas.json  \n",
            "  inflating: MCXStudio/MCXSuite/mcx/example/usc19-5/dump_volume.sh  \n",
            "  inflating: MCXStudio/MCXSuite/mcx/example/usc19-5/run_atlas.sh  \n",
            "  inflating: MCXStudio/MCXSuite/mcx/example/usc19-5/dump_volume.bat  \n",
            "  inflating: MCXStudio/MCXSuite/mcx/example/usc19-5/run_atlas.bat  \n",
            "  inflating: MCXStudio/MCXSuite/mcx/example/usc19-5/README.txt  \n",
            "   creating: MCXStudio/MCXSuite/mcx/example/quicktest/\n",
            "  inflating: MCXStudio/MCXSuite/mcx/example/quicktest/qtest.json  \n",
            "  inflating: MCXStudio/MCXSuite/mcx/example/quicktest/grid2x.inp  \n",
            "  inflating: MCXStudio/MCXSuite/mcx/example/quicktest/grid2x.json  \n",
            "  inflating: MCXStudio/MCXSuite/mcx/example/quicktest/run_grid2x.sh  \n",
            "  inflating: MCXStudio/MCXSuite/mcx/example/quicktest/grid3x.inp  \n",
            "  inflating: MCXStudio/MCXSuite/mcx/example/quicktest/qtest_widefield.inp  \n",
            "  inflating: MCXStudio/MCXSuite/mcx/example/quicktest/run_widefield.sh  \n",
            "  inflating: MCXStudio/MCXSuite/mcx/example/quicktest/run_qtest.bat  \n",
            "  inflating: MCXStudio/MCXSuite/mcx/example/quicktest/run_qtest.sh  \n",
            " extracting: MCXStudio/MCXSuite/mcx/example/quicktest/listgpu.bat  \n",
            "  inflating: MCXStudio/MCXSuite/mcx/example/quicktest/README.txt  \n",
            "  inflating: MCXStudio/MCXSuite/mcx/example/quicktest/listgpu.sh  \n",
            "  inflating: MCXStudio/MCXSuite/mcx/example/quicktest/cubic60.json  \n",
            "  inflating: MCXStudio/MCXSuite/mcx/example/quicktest/run_grid3x.sh  \n",
            "  inflating: MCXStudio/MCXSuite/mcx/example/quicktest/qtest.inp  \n",
            "  inflating: MCXStudio/MCXSuite/mcx/example/quicktest/grid3x.json  \n",
            "   creating: MCXStudio/MCXSuite/mcx/example/validation/\n",
            "  inflating: MCXStudio/MCXSuite/mcx/example/validation/plotsimudata.m  \n",
            "  inflating: MCXStudio/MCXSuite/mcx/example/validation/validation_dark_b.inp  \n",
            "  inflating: MCXStudio/MCXSuite/mcx/example/validation/run_validation.sh  \n",
            "  inflating: MCXStudio/MCXSuite/mcx/example/validation/run_validation_b.bat  \n",
            "  inflating: MCXStudio/MCXSuite/mcx/example/validation/validation_dark.inp  \n",
            "  inflating: MCXStudio/MCXSuite/mcx/example/validation/run_validation.bat  \n",
            "  inflating: MCXStudio/MCXSuite/mcx/example/validation/run_validation_b.sh  \n",
            "  inflating: MCXStudio/MCXSuite/mcx/example/validation/validation.inp  \n",
            "  inflating: MCXStudio/MCXSuite/mcx/example/validation/validation_b.inp  \n",
            "  inflating: MCXStudio/MCXSuite/mcx/example/validation/README.txt  \n",
            "  inflating: MCXStudio/MCXSuite/mcx/example/validation/cubic60.json  \n",
            "   creating: MCXStudio/MCXSuite/mcx/example/svmcsphshells/\n",
            "  inflating: MCXStudio/MCXSuite/mcx/example/svmcsphshells/svmc_sphshells.sh  \n",
            " extracting: MCXStudio/MCXSuite/mcx/example/svmcsphshells/svmc_sphshells.bat  \n",
            "  inflating: MCXStudio/MCXSuite/mcx/example/svmcsphshells/sphshells.json  \n",
            "   creating: MCXStudio/MCXSuite/mcx/example/multipattern/\n",
            "  inflating: MCXStudio/MCXSuite/mcx/example/multipattern/run_allinone_json.sh  \n",
            "  inflating: MCXStudio/MCXSuite/mcx/example/multipattern/plotresults.m  \n",
            "  inflating: MCXStudio/MCXSuite/mcx/example/multipattern/multipattern_pattern.bin  \n",
            "  inflating: MCXStudio/MCXSuite/mcx/example/multipattern/README.txt  \n",
            "  inflating: MCXStudio/MCXSuite/mcx/example/multipattern/run_multipattern.sh  \n",
            "  inflating: MCXStudio/MCXSuite/mcx/example/multipattern/multipattern.json  \n",
            "  inflating: MCXStudio/MCXSuite/mcx/example/multipattern/run_multipattern.bat  \n",
            "    linking: MCXStudio/MCXSuite/mcx/example/multipattern/cubic60.json  -> ../validation/cubic60.json \n",
            "   creating: MCXStudio/MCXSuite/mcx/example/digimouse/\n",
            "  inflating: MCXStudio/MCXSuite/mcx/example/digimouse/dump_volume.sh  \n",
            "  inflating: MCXStudio/MCXSuite/mcx/example/digimouse/run_atlas.sh  \n",
            "  inflating: MCXStudio/MCXSuite/mcx/example/digimouse/dump_volume.bat  \n",
            "  inflating: MCXStudio/MCXSuite/mcx/example/digimouse/run_atlas.bat  \n",
            "  inflating: MCXStudio/MCXSuite/mcx/example/digimouse/digimouse.json  \n",
            "  inflating: MCXStudio/MCXSuite/mcx/example/digimouse/README.txt  \n",
            "  inflating: MCXStudio/MCXSuite/mcx/example/README.txt  \n",
            "   creating: MCXStudio/MCXSuite/mcx/example/srctest/\n",
            "  inflating: MCXStudio/MCXSuite/mcx/example/srctest/8benchmark-disk.json  \n",
            "  inflating: MCXStudio/MCXSuite/mcx/example/srctest/run_11benchmark-zgaussian.sh  \n",
            "  inflating: MCXStudio/MCXSuite/mcx/example/srctest/run_8benchmark-disk.sh  \n",
            "  inflating: MCXStudio/MCXSuite/mcx/example/srctest/6benchmark-fourier.json  \n",
            "  inflating: MCXStudio/MCXSuite/mcx/example/srctest/13benchmark-slit.json  \n",
            "  inflating: MCXStudio/MCXSuite/mcx/example/srctest/3benchmark-gaussian.json  \n",
            "  inflating: MCXStudio/MCXSuite/mcx/example/srctest/10benchmark-fourierx2d.json  \n",
            "  inflating: MCXStudio/MCXSuite/mcx/example/srctest/run_7benchmark-arcsine.sh  \n",
            "  inflating: MCXStudio/MCXSuite/mcx/example/srctest/9benchmark-fourierx.json  \n",
            "  inflating: MCXStudio/MCXSuite/mcx/example/srctest/7benchmark-arcsine.json  \n",
            "  inflating: MCXStudio/MCXSuite/mcx/example/srctest/2benchmark-cone.json  \n",
            "  inflating: MCXStudio/MCXSuite/mcx/example/srctest/run_10benchmark-fourierx2d.sh  \n",
            "  inflating: MCXStudio/MCXSuite/mcx/example/srctest/run_1benchmark-isotropic.sh  \n",
            "  inflating: MCXStudio/MCXSuite/mcx/example/srctest/run_4benchmark-planar.sh  \n",
            "  inflating: MCXStudio/MCXSuite/mcx/example/srctest/run_6benchmark-fourier.sh  \n",
            "  inflating: MCXStudio/MCXSuite/mcx/example/srctest/run_13benchmark-slit.sh  \n",
            "  inflating: MCXStudio/MCXSuite/mcx/example/srctest/1benchmark-isotropic.json  \n",
            "  inflating: MCXStudio/MCXSuite/mcx/example/srctest/run_2benchmark-cone.sh  \n",
            "  inflating: MCXStudio/MCXSuite/mcx/example/srctest/run_0benchmark-pencil.sh  \n",
            "  inflating: MCXStudio/MCXSuite/mcx/example/srctest/run_9benchmark-fourierx.sh  \n",
            "  inflating: MCXStudio/MCXSuite/mcx/example/srctest/run_3benchmark-gaussian.sh  \n",
            "  inflating: MCXStudio/MCXSuite/mcx/example/srctest/11benchmark-zgaussian.json  \n",
            "    linking: MCXStudio/MCXSuite/mcx/example/srctest/4benchmark-planar.json  -> ../benchmark/benchmark3.json \n",
            "    linking: MCXStudio/MCXSuite/mcx/example/srctest/0benchmark-pencil.json  -> ../benchmark/benchmark1.json \n",
            "   creating: MCXStudio/MCXSuite/mcx/example/skinvessel/\n",
            "  inflating: MCXStudio/MCXSuite/mcx/example/skinvessel/run_mcxyz_bench.bat  \n",
            "  inflating: MCXStudio/MCXSuite/mcx/example/skinvessel/skinvessel.json  \n",
            "  inflating: MCXStudio/MCXSuite/mcx/example/skinvessel/run_mcxyz_bench.sh  \n",
            "  inflating: MCXStudio/MCXSuite/mcx/example/skinvessel/mcxyz_bench.json  \n",
            "  inflating: MCXStudio/MCXSuite/mcx/example/skinvessel/README.txt  \n",
            "   creating: MCXStudio/MCXSuite/mcx/example/colin27/\n",
            "  inflating: MCXStudio/MCXSuite/mcx/example/colin27/dump_json.sh  \n",
            "  inflating: MCXStudio/MCXSuite/mcx/example/colin27/dump_volume.sh  \n",
            "  inflating: MCXStudio/MCXSuite/mcx/example/colin27/run_atlas.sh  \n",
            " extracting: MCXStudio/MCXSuite/mcx/example/colin27/dump_volume.bat  \n",
            " extracting: MCXStudio/MCXSuite/mcx/example/colin27/run_atlas.bat  \n",
            "  inflating: MCXStudio/MCXSuite/mcx/example/colin27/README.txt  \n",
            "  inflating: MCXStudio/MCXSuite/mcx/example/colin27/dump_json.bat  \n",
            "   creating: MCXStudio/MCXSuite/mcx/example/masktest/\n",
            "  inflating: MCXStudio/MCXSuite/mcx/example/masktest/run_masktest.sh  \n",
            "  inflating: MCXStudio/MCXSuite/mcx/example/masktest/mtest.inp  \n",
            "  inflating: MCXStudio/MCXSuite/mcx/example/masktest/plotresults.m  \n",
            "  inflating: MCXStudio/MCXSuite/mcx/example/masktest/cubic8.json  \n",
            "   creating: MCXStudio/MCXSuite/mcx/example/sphbox/\n",
            "  inflating: MCXStudio/MCXSuite/mcx/example/sphbox/runspherebox.sh  \n",
            "  inflating: MCXStudio/MCXSuite/mcx/example/sphbox/spherebox.inp  \n",
            "  inflating: MCXStudio/MCXSuite/mcx/example/sphbox/plotresults.m  \n",
            "  inflating: MCXStudio/MCXSuite/mcx/example/sphbox/spherebox.json  \n",
            "  inflating: MCXStudio/MCXSuite/mcx/example/sphbox/show_json.sh  \n",
            "  inflating: MCXStudio/MCXSuite/mcx/example/sphbox/show_json.bat  \n",
            "  inflating: MCXStudio/MCXSuite/mcx/example/sphbox/README.txt  \n",
            "  inflating: MCXStudio/MCXSuite/mcx/example/sphbox/sphdiffsemiinf.mat  \n",
            "  inflating: MCXStudio/MCXSuite/mcx/example/sphbox/runspherebox.bat  \n",
            "   creating: MCXStudio/MCXSuite/mcx/test/\n",
            "  inflating: MCXStudio/MCXSuite/mcx/test/testmcx.sh  \n",
            "  inflating: MCXStudio/MCXSuite/mcx/test/reporttest.pl  \n",
            "   creating: MCXStudio/MCXSuite/mcx/mcxcloud/\n",
            "   creating: MCXStudio/MCXSuite/mcx/mcxcloud/frontend/\n",
            "  inflating: MCXStudio/MCXSuite/mcx/mcxcloud/frontend/index.html  \n",
            "   creating: MCXStudio/MCXSuite/mcx/mcxcloud/backend/\n",
            "  inflating: MCXStudio/MCXSuite/mcx/mcxcloud/backend/createdb.sql  \n",
            "  inflating: MCXStudio/MCXSuite/mcx/mcxcloud/backend/mcxcloudd  \n",
            "  inflating: MCXStudio/MCXSuite/mcx/mcxcloud/backend/mcxserver.cgi  \n",
            "   creating: MCXStudio/MCXSuite/mcx/doc/\n",
            "  inflating: MCXStudio/MCXSuite/mcx/doc/mcx_help.html  \n",
            "  inflating: MCXStudio/MCXSuite/mcx/doc/Setup_MCX.txt  \n",
            "   creating: MCXStudio/MCXSuite/mcx/doc/mcx_help_files/\n",
            "  inflating: MCXStudio/MCXSuite/mcx/doc/mcx_help_files/wikistyle_column.css  \n",
            "  inflating: MCXStudio/MCXSuite/mcx/doc/mcx_help_files/mcx_mmc_header.png  \n",
            "  inflating: MCXStudio/MCXSuite/mcx/doc/mcx_workflow.png  \n",
            "  inflating: MCXStudio/MCXSuite/mcx/doc/FAQ.txt  \n",
            "  inflating: MCXStudio/MCXSuite/mcx/doc/Get_Started.txt  \n",
            "  inflating: MCXStudio/MCXSuite/mcx/doc/Citation.txt  \n",
            "  inflating: MCXStudio/MCXSuite/mcx/doc/mcx_command_option_cheatsheet.xlsx  \n",
            "  inflating: MCXStudio/MCXSuite/mcx/doc/gendoc.sh  \n",
            "  inflating: MCXStudio/MCXSuite/mcx/doc/Download.txt  \n",
            "  inflating: MCXStudio/MCXSuite/mcx/ChangeLog.txt  \n",
            "  inflating: MCXStudio/MCXSuite/mcx/README.txt  \n",
            "  inflating: MCXStudio/MCXSuite/mcx/README.md  \n",
            "   creating: MCXStudio/MCXSuite/mcx/utils/\n",
            "  inflating: MCXStudio/MCXSuite/mcx/utils/mcxloadfile.m  \n",
            "  inflating: MCXStudio/MCXSuite/mcx/utils/normalizemcx.m  \n",
            "  inflating: MCXStudio/MCXSuite/mcx/utils/loadmch.m  \n",
            "  inflating: MCXStudio/MCXSuite/mcx/utils/cwdiffusion.m  \n",
            "  inflating: MCXStudio/MCXSuite/mcx/utils/mcxplotshapes.m  \n",
            "  inflating: MCXStudio/MCXSuite/mcx/utils/mcxrfreplay.m  \n",
            "  inflating: MCXStudio/MCXSuite/mcx/utils/tddiffusion.m  \n",
            "  inflating: MCXStudio/MCXSuite/mcx/utils/islicer.m  \n",
            "  inflating: MCXStudio/MCXSuite/mcx/utils/slice3i.m  \n",
            "  inflating: MCXStudio/MCXSuite/mcx/utils/getdistance.m  \n",
            "  inflating: MCXStudio/MCXSuite/mcx/utils/cwfluxdiffusion.m  \n",
            "  inflating: MCXStudio/MCXSuite/mcx/utils/mcxloadnii.m  \n",
            "  inflating: MCXStudio/MCXSuite/mcx/utils/loadmc2.m  \n",
            "  inflating: MCXStudio/MCXSuite/mcx/utils/DESCRIPTION  \n",
            "  inflating: MCXStudio/MCXSuite/mcx/utils/serialcorr.m  \n",
            "  inflating: MCXStudio/MCXSuite/mcx/utils/mcxcwdref.m  \n",
            "  inflating: MCXStudio/MCXSuite/mcx/utils/mcxdetphoton.m  \n",
            "  inflating: MCXStudio/MCXSuite/mcx/utils/mcxplotvol.m  \n",
            "  inflating: MCXStudio/MCXSuite/mcx/utils/json2mcx.m  \n",
            "  inflating: MCXStudio/MCXSuite/mcx/utils/INDEX  \n",
            "  inflating: MCXStudio/MCXSuite/mcx/utils/mcxcreate.m  \n",
            "  inflating: MCXStudio/MCXSuite/mcx/utils/mcx2json.m  \n",
            "  inflating: MCXStudio/MCXSuite/mcx/utils/mcxdcsg1.m  \n",
            "  inflating: MCXStudio/MCXSuite/mcx/utils/mcxdetweight.m  \n",
            "  inflating: MCXStudio/MCXSuite/mcx/utils/mcxdettime.m  \n",
            "  inflating: MCXStudio/MCXSuite/mcx/utils/NEWS  \n",
            "  inflating: MCXStudio/MCXSuite/mcx/utils/mcxsvmc.m  \n",
            "  inflating: MCXStudio/MCXSuite/mcx/utils/mcxpreview.m  \n",
            "  inflating: MCXStudio/MCXSuite/mcx/utils/image3i.m  \n",
            "  inflating: MCXStudio/MCXSuite/mcx/utils/mcxnuvoxel.m  \n",
            "  inflating: MCXStudio/MCXSuite/mcx/utils/mcxmeanscat.m  \n",
            "   creating: MCXStudio/MCXSuite/mcx/utils/python/\n",
            "  inflating: MCXStudio/MCXSuite/mcx/utils/python/__init__.py  \n",
            "  inflating: MCXStudio/MCXSuite/mcx/utils/rbgetreff.m  \n",
            "  inflating: MCXStudio/MCXSuite/mcx/utils/mcxmeanpath.m  \n",
            "  inflating: MCXStudio/MCXSuite/mcx/utils/mcxfluence2energy.m  \n",
            "  inflating: MCXStudio/MCXSuite/mcx/utils/mcxplotphotons.m  \n",
            "  inflating: MCXStudio/MCXSuite/mcx/utils/cwfluencediffusion.m  \n",
            "  inflating: MCXStudio/MCXSuite/mcx/utils/mcxdettpsf.m  \n",
            "   creating: MCXStudio/MCXSuite/mcx/schema/\n",
            "  inflating: MCXStudio/MCXSuite/mcx/schema/mcxinput.json  \n",
            "   creating: MCXStudio/MCXSuite/mmc/\n",
            "   creating: MCXStudio/MCXSuite/mmc/bin/\n",
            "  inflating: MCXStudio/MCXSuite/mmc/bin/mmc  \n",
            "  inflating: MCXStudio/MCXSuite/mmc/Reference.txt  \n",
            "  inflating: MCXStudio/MCXSuite/mmc/LICENSE.txt  \n",
            "  inflating: MCXStudio/MCXSuite/mmc/AUTHORS.txt  \n",
            "   creating: MCXStudio/MCXSuite/mmc/matlab/\n",
            "  inflating: MCXStudio/MCXSuite/mmc/matlab/loadmch.m  \n",
            "  inflating: MCXStudio/MCXSuite/mmc/matlab/sphdiffscatter.m  \n",
            "  inflating: MCXStudio/MCXSuite/mmc/matlab/besselyprime.m  \n",
            "  inflating: MCXStudio/MCXSuite/mmc/matlab/spbesselj.m  \n",
            "  inflating: MCXStudio/MCXSuite/mmc/matlab/mmcmeanpath.m  \n",
            "  inflating: MCXStudio/MCXSuite/mmc/matlab/readmmcelem.m  \n",
            "  inflating: MCXStudio/MCXSuite/mmc/matlab/mmcjmus.m  \n",
            "  inflating: MCXStudio/MCXSuite/mmc/matlab/mmcjacobian.m  \n",
            "  inflating: MCXStudio/MCXSuite/mmc/matlab/load_mc_prop.m  \n",
            "  inflating: MCXStudio/MCXSuite/mmc/matlab/mmcjmua.m  \n",
            "  inflating: MCXStudio/MCXSuite/mmc/matlab/sphdiffBcoeff.m  \n",
            "  inflating: MCXStudio/MCXSuite/mmc/matlab/sphdiffincident.m  \n",
            "  inflating: MCXStudio/MCXSuite/mmc/matlab/sphdiffusionscatteronly.m  \n",
            "  inflating: MCXStudio/MCXSuite/mmc/matlab/genT6mesh.m  \n",
            "  inflating: MCXStudio/MCXSuite/mmc/matlab/sphdiffinterior.m  \n",
            "  inflating: MCXStudio/MCXSuite/mmc/matlab/besseljprime.m  \n",
            "  inflating: MCXStudio/MCXSuite/mmc/matlab/sphdiffCcoeff.m  \n",
            "  inflating: MCXStudio/MCXSuite/mmc/matlab/mmcdettime.m  \n",
            "  inflating: MCXStudio/MCXSuite/mmc/matlab/README_spherediffusion.txt  \n",
            "  inflating: MCXStudio/MCXSuite/mmc/matlab/mmcdettpsf.m  \n",
            "  inflating: MCXStudio/MCXSuite/mmc/matlab/readmmcnode.m  \n",
            "  inflating: MCXStudio/MCXSuite/mmc/matlab/generate_g1.m  \n",
            "  inflating: MCXStudio/MCXSuite/mmc/matlab/sphdiffusionsemi.m  \n",
            "  inflating: MCXStudio/MCXSuite/mmc/matlab/savemmcmesh.m  \n",
            "  inflating: MCXStudio/MCXSuite/mmc/matlab/mmcsrcdomain.m  \n",
            "  inflating: MCXStudio/MCXSuite/mmc/matlab/mmcraytrace.m  \n",
            "  inflating: MCXStudio/MCXSuite/mmc/matlab/sphdiffexterior.m  \n",
            "  inflating: MCXStudio/MCXSuite/mmc/matlab/mmcadddet.m  \n",
            "  inflating: MCXStudio/MCXSuite/mmc/matlab/cart2sphorigin.m  \n",
            "  inflating: MCXStudio/MCXSuite/mmc/matlab/spbesselhprime.m  \n",
            "  inflating: MCXStudio/MCXSuite/mmc/matlab/spharmonic.m  \n",
            "  inflating: MCXStudio/MCXSuite/mmc/matlab/sphdiffusioninfinite.m  \n",
            "  inflating: MCXStudio/MCXSuite/mmc/matlab/sphdiffusionslab.m  \n",
            "  inflating: MCXStudio/MCXSuite/mmc/matlab/spbesselyprime.m  \n",
            "  inflating: MCXStudio/MCXSuite/mmc/matlab/spbesselh.m  \n",
            "  inflating: MCXStudio/MCXSuite/mmc/matlab/mmcmeanscat.m  \n",
            "  inflating: MCXStudio/MCXSuite/mmc/matlab/sphdiffAcoeff.m  \n",
            "  inflating: MCXStudio/MCXSuite/mmc/matlab/spbessely.m  \n",
            "  inflating: MCXStudio/MCXSuite/mmc/matlab/mmcdetweight.m  \n",
            "  inflating: MCXStudio/MCXSuite/mmc/matlab/mmcaddsrc.m  \n",
            "  inflating: MCXStudio/MCXSuite/mmc/matlab/readmmcface.m  \n",
            "  inflating: MCXStudio/MCXSuite/mmc/matlab/sphdiffusion.m  \n",
            "  inflating: MCXStudio/MCXSuite/mmc/matlab/readmmcmesh.m  \n",
            "  inflating: MCXStudio/MCXSuite/mmc/matlab/spbesseljprime.m  \n",
            "  inflating: MCXStudio/MCXSuite/mmc/matlab/besselhprime.m  \n",
            "  inflating: MCXStudio/MCXSuite/mmc/matlab/genT5mesh.m  \n",
            "  inflating: MCXStudio/MCXSuite/mmc/ChangeLog.txt  \n",
            "  inflating: MCXStudio/MCXSuite/mmc/README.txt  \n",
            "  inflating: MCXStudio/MCXSuite/mmc/README.md  \n",
            "   creating: MCXStudio/MCXSuite/mmc/examples/\n",
            "   creating: MCXStudio/MCXSuite/mmc/examples/sfdi2layer/\n",
            "  inflating: MCXStudio/MCXSuite/mmc/examples/sfdi2layer/prop_sfdi.dat  \n",
            "  inflating: MCXStudio/MCXSuite/mmc/examples/sfdi2layer/plot_result.m  \n",
            "  inflating: MCXStudio/MCXSuite/mmc/examples/sfdi2layer/sfdi.inp  \n",
            "  inflating: MCXStudio/MCXSuite/mmc/examples/sfdi2layer/run_test.sh  \n",
            "  inflating: MCXStudio/MCXSuite/mmc/examples/sfdi2layer/createmesh.m  \n",
            "  inflating: MCXStudio/MCXSuite/mmc/examples/sfdi2layer/README.txt  \n",
            "   creating: MCXStudio/MCXSuite/mmc/examples/mmclbench/\n",
            "  inflating: MCXStudio/MCXSuite/mmc/examples/mmclbench/run_bench.sh  \n",
            "   creating: MCXStudio/MCXSuite/mmc/examples/widedet/\n",
            "  inflating: MCXStudio/MCXSuite/mmc/examples/widedet/widedet.inp  \n",
            "  inflating: MCXStudio/MCXSuite/mmc/examples/widedet/run_test.sh  \n",
            "  inflating: MCXStudio/MCXSuite/mmc/examples/widedet/plot_results.m  \n",
            "  inflating: MCXStudio/MCXSuite/mmc/examples/widedet/createmesh.m  \n",
            "  inflating: MCXStudio/MCXSuite/mmc/examples/widedet/prop_widedet.dat  \n",
            "  inflating: MCXStudio/MCXSuite/mmc/examples/widedet/README.txt  \n",
            "   creating: MCXStudio/MCXSuite/mmc/examples/regression/\n",
            "   creating: MCXStudio/MCXSuite/mmc/examples/regression/exitangle/\n",
            "  inflating: MCXStudio/MCXSuite/mmc/examples/regression/exitangle/tank_planar.inp  \n",
            "  inflating: MCXStudio/MCXSuite/mmc/examples/regression/exitangle/testexitdir.m  \n",
            "  inflating: MCXStudio/MCXSuite/mmc/examples/regression/exitangle/phantom.m  \n",
            "  inflating: MCXStudio/MCXSuite/mmc/examples/regression/exitangle/run_test_planar.sh  \n",
            " extracting: MCXStudio/MCXSuite/mmc/examples/regression/exitangle/prop_tank.dat  \n",
            "   creating: MCXStudio/MCXSuite/mmc/examples/meshtest/\n",
            "  inflating: MCXStudio/MCXSuite/mmc/examples/meshtest/prop_mesh2.dat  \n",
            "  inflating: MCXStudio/MCXSuite/mmc/examples/meshtest/mesh2.json  \n",
            "  inflating: MCXStudio/MCXSuite/mmc/examples/meshtest/plotmmcsph.m  \n",
            "  inflating: MCXStudio/MCXSuite/mmc/examples/meshtest/run_test.sh  \n",
            "  inflating: MCXStudio/MCXSuite/mmc/examples/meshtest/prop_mesh0.dat  \n",
            "  inflating: MCXStudio/MCXSuite/mmc/examples/meshtest/mesh1.inp  \n",
            "  inflating: MCXStudio/MCXSuite/mmc/examples/meshtest/mesh2.inp  \n",
            "  inflating: MCXStudio/MCXSuite/mmc/examples/meshtest/prop_mesh1.dat  \n",
            "  inflating: MCXStudio/MCXSuite/mmc/examples/meshtest/mesh1.json  \n",
            "  inflating: MCXStudio/MCXSuite/mmc/examples/meshtest/createmesh.m  \n",
            "  inflating: MCXStudio/MCXSuite/mmc/examples/meshtest/README.txt  \n",
            "  inflating: MCXStudio/MCXSuite/mmc/examples/meshtest/sphdiffsemiinf.mat  \n",
            "  inflating: MCXStudio/MCXSuite/mmc/examples/meshtest/mesh0.json  \n",
            "  inflating: MCXStudio/MCXSuite/mmc/examples/meshtest/mesh0.inp  \n",
            "   creating: MCXStudio/MCXSuite/mmc/examples/sharing/\n",
            "  inflating: MCXStudio/MCXSuite/mmc/examples/sharing/run_test.sh  \n",
            "  inflating: MCXStudio/MCXSuite/mmc/examples/sharing/createpattern.m  \n",
            "  inflating: MCXStudio/MCXSuite/mmc/examples/sharing/prop_sharing.dat  \n",
            "  inflating: MCXStudio/MCXSuite/mmc/examples/sharing/plotresults.m  \n",
            "  inflating: MCXStudio/MCXSuite/mmc/examples/sharing/createmesh.m  \n",
            "  inflating: MCXStudio/MCXSuite/mmc/examples/sharing/sharing.inp  \n",
            "  inflating: MCXStudio/MCXSuite/mmc/examples/sharing/README.txt  \n",
            "   creating: MCXStudio/MCXSuite/mmc/examples/ssehmin/\n",
            "  inflating: MCXStudio/MCXSuite/mmc/examples/ssehmin/ssehmin_test.c  \n",
            "   creating: MCXStudio/MCXSuite/mmc/examples/rngtest/\n",
            "  inflating: MCXStudio/MCXSuite/mmc/examples/rngtest/rngtest.c  \n",
            "  inflating: MCXStudio/MCXSuite/mmc/examples/rngtest/makefile_logistic  \n",
            "  inflating: MCXStudio/MCXSuite/mmc/examples/rngtest/Makefile  \n",
            "  inflating: MCXStudio/MCXSuite/mmc/examples/rngtest/makefile_sfmt  \n",
            "   creating: MCXStudio/MCXSuite/mmc/examples/dcs/\n",
            "  inflating: MCXStudio/MCXSuite/mmc/examples/dcs/dcs_g1_Db.m  \n",
            "  inflating: MCXStudio/MCXSuite/mmc/examples/dcs/prop_dcs.dat  \n",
            "  inflating: MCXStudio/MCXSuite/mmc/examples/dcs/dcs_example.m  \n",
            "  inflating: MCXStudio/MCXSuite/mmc/examples/dcs/dcs.inp  \n",
            "  inflating: MCXStudio/MCXSuite/mmc/examples/dcs/dcs_g2_Db_fms.m  \n",
            "  inflating: MCXStudio/MCXSuite/mmc/examples/dcs/run_test.sh  \n",
            "  inflating: MCXStudio/MCXSuite/mmc/examples/dcs/dcs_g2_Db.m  \n",
            "  inflating: MCXStudio/MCXSuite/mmc/examples/dcs/dcs_g1_Db_fms.m  \n",
            "  inflating: MCXStudio/MCXSuite/mmc/examples/dcs/createmesh.m  \n",
            "  inflating: MCXStudio/MCXSuite/mmc/examples/dcs/README.txt  \n",
            "   creating: MCXStudio/MCXSuite/mmc/examples/reftest/\n",
            "  inflating: MCXStudio/MCXSuite/mmc/examples/reftest/velem_onecube.dat  \n",
            "  inflating: MCXStudio/MCXSuite/mmc/examples/reftest/plotmmcdebug.m  \n",
            "  inflating: MCXStudio/MCXSuite/mmc/examples/reftest/facenb_onecube.dat  \n",
            "  inflating: MCXStudio/MCXSuite/mmc/examples/reftest/run_test.sh  \n",
            "  inflating: MCXStudio/MCXSuite/mmc/examples/reftest/onecube.inp  \n",
            "  inflating: MCXStudio/MCXSuite/mmc/examples/reftest/prop_onecube.dat  \n",
            "  inflating: MCXStudio/MCXSuite/mmc/examples/reftest/createmesh.m  \n",
            "  inflating: MCXStudio/MCXSuite/mmc/examples/reftest/README.txt  \n",
            "  inflating: MCXStudio/MCXSuite/mmc/examples/reftest/elem_onecube.dat  \n",
            "  inflating: MCXStudio/MCXSuite/mmc/examples/reftest/node_onecube.dat  \n",
            "   creating: MCXStudio/MCXSuite/mmc/examples/mcxsph/\n",
            "  inflating: MCXStudio/MCXSuite/mmc/examples/mcxsph/box.inp  \n",
            "  inflating: MCXStudio/MCXSuite/mmc/examples/mcxsph/runspherebox.sh  \n",
            "  inflating: MCXStudio/MCXSuite/mmc/examples/mcxsph/benchbox.sh  \n",
            "  inflating: MCXStudio/MCXSuite/mmc/examples/mcxsph/spherebox.inp  \n",
            "  inflating: MCXStudio/MCXSuite/mmc/examples/mcxsph/createmcxbin.m  \n",
            "   creating: MCXStudio/MCXSuite/mmc/examples/sphshells/\n",
            "  inflating: MCXStudio/MCXSuite/mmc/examples/sphshells/elem_dmmc_sphshells.dat  \n",
            "  inflating: MCXStudio/MCXSuite/mmc/examples/sphshells/run_dmmc.sh  \n",
            "  inflating: MCXStudio/MCXSuite/mmc/examples/sphshells/dmmc_sphshells.json  \n",
            "  inflating: MCXStudio/MCXSuite/mmc/examples/sphshells/run_mmc.sh  \n",
            "  inflating: MCXStudio/MCXSuite/mmc/examples/sphshells/facenb_dmmc_sphshells.dat  \n",
            "  inflating: MCXStudio/MCXSuite/mmc/examples/sphshells/prop_dmmc_sphshells.dat  \n",
            "  inflating: MCXStudio/MCXSuite/mmc/examples/sphshells/createsession.m  \n",
            "  inflating: MCXStudio/MCXSuite/mmc/examples/sphshells/face_dmmc_sphshells.dat  \n",
            "  inflating: MCXStudio/MCXSuite/mmc/examples/sphshells/node_dmmc_sphshells.dat  \n",
            "  inflating: MCXStudio/MCXSuite/mmc/examples/sphshells/velem_dmmc_sphshells.dat  \n",
            "   creating: MCXStudio/MCXSuite/mmc/examples/validation/\n",
            "  inflating: MCXStudio/MCXSuite/mmc/examples/validation/prop_cube2.dat  \n",
            "  inflating: MCXStudio/MCXSuite/mmc/examples/validation/facenb_cube2.dat  \n",
            "  inflating: MCXStudio/MCXSuite/mmc/examples/validation/cube.inp  \n",
            "  inflating: MCXStudio/MCXSuite/mmc/examples/validation/cube2.inp  \n",
            "  inflating: MCXStudio/MCXSuite/mmc/examples/validation/plotcuberes.m  \n",
            "  inflating: MCXStudio/MCXSuite/mmc/examples/validation/elem_cube2.dat  \n",
            "  inflating: MCXStudio/MCXSuite/mmc/examples/validation/run_test.sh  \n",
            "  inflating: MCXStudio/MCXSuite/mmc/examples/validation/cube.json  \n",
            "  inflating: MCXStudio/MCXSuite/mmc/examples/validation/velem_cube2.dat  \n",
            "  inflating: MCXStudio/MCXSuite/mmc/examples/validation/run_tess.sh  \n",
            "  inflating: MCXStudio/MCXSuite/mmc/examples/validation/prop_cube.dat  \n",
            "  inflating: MCXStudio/MCXSuite/mmc/examples/validation/createmesh.m  \n",
            "  inflating: MCXStudio/MCXSuite/mmc/examples/validation/node_cube2.dat  \n",
            "  inflating: MCXStudio/MCXSuite/mmc/examples/validation/README.txt  \n",
            "  inflating: MCXStudio/MCXSuite/mmc/examples/validation/tessmesh.m  \n",
            "  inflating: MCXStudio/MCXSuite/mmc/examples/validation/benchspeed.sh  \n",
            "  inflating: MCXStudio/MCXSuite/mmc/examples/validation/cube2.json  \n",
            "   creating: MCXStudio/MCXSuite/mmc/examples/onecube/\n",
            "  inflating: MCXStudio/MCXSuite/mmc/examples/onecube/onecube_isotropic.json  \n",
            "  inflating: MCXStudio/MCXSuite/mmc/examples/onecube/velem_onecube.dat  \n",
            "  inflating: MCXStudio/MCXSuite/mmc/examples/onecube/plotmmcdebug.m  \n",
            "  inflating: MCXStudio/MCXSuite/mmc/examples/onecube/facenb_onecube.dat  \n",
            "  inflating: MCXStudio/MCXSuite/mmc/examples/onecube/run_test.sh  \n",
            "  inflating: MCXStudio/MCXSuite/mmc/examples/onecube/onecube.inp  \n",
            "  inflating: MCXStudio/MCXSuite/mmc/examples/onecube/prop_onecube.dat  \n",
            "  inflating: MCXStudio/MCXSuite/mmc/examples/onecube/vnode_onecube.dat  \n",
            "  inflating: MCXStudio/MCXSuite/mmc/examples/onecube/createmesh.m  \n",
            "  inflating: MCXStudio/MCXSuite/mmc/examples/onecube/onecube.json  \n",
            "  inflating: MCXStudio/MCXSuite/mmc/examples/onecube/README.txt  \n",
            "  inflating: MCXStudio/MCXSuite/mmc/examples/onecube/elem_onecube.dat  \n",
            "  inflating: MCXStudio/MCXSuite/mmc/examples/onecube/node_onecube.dat  \n",
            "  inflating: MCXStudio/MCXSuite/mmc/examples/README.txt  \n",
            "   creating: MCXStudio/MCXSuite/mmc/examples/sphere/\n",
            "  inflating: MCXStudio/MCXSuite/mmc/examples/sphere/addsource_sphere.m  \n",
            "  inflating: MCXStudio/MCXSuite/mmc/examples/sphere/run_test.sh  \n",
            "  inflating: MCXStudio/MCXSuite/mmc/examples/sphere/planar.inp  \n",
            "  inflating: MCXStudio/MCXSuite/mmc/examples/sphere/plotresults.m  \n",
            " extracting: MCXStudio/MCXSuite/mmc/examples/sphere/prop_sphere.dat  \n",
            "  inflating: MCXStudio/MCXSuite/mmc/examples/sphere/README.txt  \n",
            "   creating: MCXStudio/MCXSuite/mmc/examples/replaywide/\n",
            "  inflating: MCXStudio/MCXSuite/mmc/examples/replaywide/replay2.inp  \n",
            "  inflating: MCXStudio/MCXSuite/mmc/examples/replaywide/run_test.sh  \n",
            "  inflating: MCXStudio/MCXSuite/mmc/examples/replaywide/prop_replaywide.dat  \n",
            "  inflating: MCXStudio/MCXSuite/mmc/examples/replaywide/replay3.inp  \n",
            "  inflating: MCXStudio/MCXSuite/mmc/examples/replaywide/createpattern.m  \n",
            "  inflating: MCXStudio/MCXSuite/mmc/examples/replaywide/replay1.inp  \n",
            "  inflating: MCXStudio/MCXSuite/mmc/examples/replaywide/plotresults.m  \n",
            "  inflating: MCXStudio/MCXSuite/mmc/examples/replaywide/createmesh.m  \n",
            "  inflating: MCXStudio/MCXSuite/mmc/examples/replaywide/init_MC.inp  \n",
            "   creating: MCXStudio/MCXSuite/mmc/examples/skinvessel/\n",
            "  inflating: MCXStudio/MCXSuite/mmc/examples/skinvessel/dmmc_skinvessel.json  \n",
            "  inflating: MCXStudio/MCXSuite/mmc/examples/skinvessel/skinvessel.json  \n",
            "  inflating: MCXStudio/MCXSuite/mmc/examples/skinvessel/run_dmmc.sh  \n",
            "  inflating: MCXStudio/MCXSuite/mmc/examples/skinvessel/facenb_dmmc_skinvessel.dat  \n",
            "  inflating: MCXStudio/MCXSuite/mmc/examples/skinvessel/run_mmc.sh  \n",
            "  inflating: MCXStudio/MCXSuite/mmc/examples/skinvessel/node_dmmc_skinvessel.dat  \n",
            "  inflating: MCXStudio/MCXSuite/mmc/examples/skinvessel/createsession.m  \n",
            "  inflating: MCXStudio/MCXSuite/mmc/examples/skinvessel/elem_dmmc_skinvessel.dat  \n",
            "  inflating: MCXStudio/MCXSuite/mmc/examples/skinvessel/face_dmmc_skinvessel.dat  \n",
            "  inflating: MCXStudio/MCXSuite/mmc/examples/skinvessel/prop_dmmc_skinvessel.dat  \n",
            "  inflating: MCXStudio/MCXSuite/mmc/examples/skinvessel/velem_dmmc_skinvessel.dat  \n",
            "   creating: MCXStudio/MCXSuite/mmc/examples/planar/\n",
            "  inflating: MCXStudio/MCXSuite/mmc/examples/planar/plotresult.m  \n",
            " extracting: MCXStudio/MCXSuite/mmc/examples/planar/prop_digimouse.dat  \n",
            "  inflating: MCXStudio/MCXSuite/mmc/examples/planar/run_test.sh  \n",
            "  inflating: MCXStudio/MCXSuite/mmc/examples/planar/planar.inp  \n",
            "  inflating: MCXStudio/MCXSuite/mmc/examples/planar/pointsrc.inp  \n",
            "  inflating: MCXStudio/MCXSuite/mmc/examples/planar/addsource_digimouse.m  \n",
            "  inflating: MCXStudio/MCXSuite/mmc/examples/planar/README.txt  \n",
            "   creating: MCXStudio/MCXSuite/mmc/examples/colin27/\n",
            "  inflating: MCXStudio/MCXSuite/mmc/examples/colin27/prop_brain.dat  \n",
            "  inflating: MCXStudio/MCXSuite/mmc/examples/colin27/run_test.sh  \n",
            "  inflating: MCXStudio/MCXSuite/mmc/examples/colin27/createmesh.m  \n",
            "  inflating: MCXStudio/MCXSuite/mmc/examples/colin27/README.txt  \n",
            "  inflating: MCXStudio/MCXSuite/mmc/examples/colin27/brain.inp  \n",
            "   creating: MCXStudio/MCXSuite/mmc/examples/statnoise/\n",
            "  inflating: MCXStudio/MCXSuite/mmc/examples/statnoise/run_test.sh  \n",
            "  inflating: MCXStudio/MCXSuite/mmc/examples/statnoise/vartest.inp  \n",
            "  inflating: MCXStudio/MCXSuite/mmc/examples/statnoise/createmesh.m  \n",
            "  inflating: MCXStudio/MCXSuite/mmc/examples/statnoise/README.txt  \n",
            "  inflating: MCXStudio/MCXSuite/mmc/examples/statnoise/prop_cube20.dat  \n",
            "  inflating: MCXStudio/MCXSuite/mmc/examples/statnoise/vartest.json  \n",
            "   creating: MCXStudio/MCXSuite/mmc/examples/replay/\n",
            "  inflating: MCXStudio/MCXSuite/mmc/examples/replay/run_test.sh  \n",
            "  inflating: MCXStudio/MCXSuite/mmc/examples/replay/replaytest.inp  \n",
            "  inflating: MCXStudio/MCXSuite/mmc/examples/replay/plotjacobian.m  \n",
            "  inflating: MCXStudio/MCXSuite/mmc/examples/replay/createmesh.m  \n",
            "  inflating: MCXStudio/MCXSuite/mmc/examples/replay/prop_replaytest.dat  \n",
            "   creating: MCXStudio/MCXSuite/mmc/examples/misctest/\n",
            "  inflating: MCXStudio/MCXSuite/mmc/examples/misctest/bary_external.m  \n",
            "   creating: MCXStudio/MCXSuite/mcxcl/\n",
            "  inflating: MCXStudio/MCXSuite/mcxcl/TODO.txt  \n",
            "   creating: MCXStudio/MCXSuite/mcxcl/speedcontest/\n",
            "  inflating: MCXStudio/MCXSuite/mcxcl/speedcontest/mcxcontest  \n",
            "   creating: MCXStudio/MCXSuite/mcxcl/bin/\n",
            "  inflating: MCXStudio/MCXSuite/mcxcl/bin/mcxcl  \n",
            "   creating: MCXStudio/MCXSuite/mcxcl/setup/\n",
            "   creating: MCXStudio/MCXSuite/mcxcl/setup/win64/\n",
            "  inflating: MCXStudio/MCXSuite/mcxcl/setup/win64/apply_timeout_registry_fix.bat  \n",
            "  inflating: MCXStudio/MCXSuite/mcxcl/setup/win64/launch_timeout_registry_fix.reg  \n",
            "  inflating: MCXStudio/MCXSuite/mcxcl/LICENSE.txt  \n",
            "  inflating: MCXStudio/MCXSuite/mcxcl/AUTHORS.txt  \n",
            "   creating: MCXStudio/MCXSuite/mcxcl/example/\n",
            "   creating: MCXStudio/MCXSuite/mcxcl/example/benchmark/\n",
            "  inflating: MCXStudio/MCXSuite/mcxcl/example/benchmark/run_benchmark2a.sh  \n",
            "  inflating: MCXStudio/MCXSuite/mcxcl/example/benchmark/run_benchmark1.sh  \n",
            "  inflating: MCXStudio/MCXSuite/mcxcl/example/benchmark/run_benchmark2.sh  \n",
            "  inflating: MCXStudio/MCXSuite/mcxcl/example/benchmark/benchmark1.json  \n",
            "  inflating: MCXStudio/MCXSuite/mcxcl/example/benchmark/run_benchmark3.sh  \n",
            "  inflating: MCXStudio/MCXSuite/mcxcl/example/benchmark/run_benchmark2.bat  \n",
            "  inflating: MCXStudio/MCXSuite/mcxcl/example/benchmark/run_benchmark3.bat  \n",
            " extracting: MCXStudio/MCXSuite/mcxcl/example/benchmark/run_benchmark1.bat  \n",
            "  inflating: MCXStudio/MCXSuite/mcxcl/example/benchmark/benchmark3.json  \n",
            "  inflating: MCXStudio/MCXSuite/mcxcl/example/benchmark/cubic60.json  \n",
            "  inflating: MCXStudio/MCXSuite/mcxcl/example/mcxcl_demo.mcxp  \n",
            "   creating: MCXStudio/MCXSuite/mcxcl/example/usc19-5/\n",
            "  inflating: MCXStudio/MCXSuite/mcxcl/example/usc19-5/USC_19-5_atlas.json  \n",
            "  inflating: MCXStudio/MCXSuite/mcxcl/example/usc19-5/dump_volume.sh  \n",
            "  inflating: MCXStudio/MCXSuite/mcxcl/example/usc19-5/run_atlas.sh  \n",
            "  inflating: MCXStudio/MCXSuite/mcxcl/example/usc19-5/dump_volume.bat  \n",
            "  inflating: MCXStudio/MCXSuite/mcxcl/example/usc19-5/run_atlas.bat  \n",
            "  inflating: MCXStudio/MCXSuite/mcxcl/example/usc19-5/README.txt  \n",
            "   creating: MCXStudio/MCXSuite/mcxcl/example/quicktest/\n",
            "  inflating: MCXStudio/MCXSuite/mcxcl/example/quicktest/qtest.json  \n",
            "  inflating: MCXStudio/MCXSuite/mcxcl/example/quicktest/run_qtest_silent.sh  \n",
            "  inflating: MCXStudio/MCXSuite/mcxcl/example/quicktest/run_qtest.bat  \n",
            "  inflating: MCXStudio/MCXSuite/mcxcl/example/quicktest/run_qtest.sh  \n",
            " extracting: MCXStudio/MCXSuite/mcxcl/example/quicktest/listgpu.bat  \n",
            "  inflating: MCXStudio/MCXSuite/mcxcl/example/quicktest/README.txt  \n",
            "  inflating: MCXStudio/MCXSuite/mcxcl/example/quicktest/listgpu.sh  \n",
            "  inflating: MCXStudio/MCXSuite/mcxcl/example/quicktest/cubic60.json  \n",
            "  inflating: MCXStudio/MCXSuite/mcxcl/example/quicktest/qtest.inp  \n",
            "   creating: MCXStudio/MCXSuite/mcxcl/example/validation/\n",
            "  inflating: MCXStudio/MCXSuite/mcxcl/example/validation/plotsimudata.m  \n",
            "  inflating: MCXStudio/MCXSuite/mcxcl/example/validation/validation_dark_b.inp  \n",
            "  inflating: MCXStudio/MCXSuite/mcxcl/example/validation/run_validation.sh  \n",
            "  inflating: MCXStudio/MCXSuite/mcxcl/example/validation/run_validation_b.bat  \n",
            "  inflating: MCXStudio/MCXSuite/mcxcl/example/validation/validation_dark.inp  \n",
            "  inflating: MCXStudio/MCXSuite/mcxcl/example/validation/run_validation.bat  \n",
            "  inflating: MCXStudio/MCXSuite/mcxcl/example/validation/run_validation_b.sh  \n",
            "  inflating: MCXStudio/MCXSuite/mcxcl/example/validation/validation.inp  \n",
            "  inflating: MCXStudio/MCXSuite/mcxcl/example/validation/validation_b.inp  \n",
            "  inflating: MCXStudio/MCXSuite/mcxcl/example/validation/README.txt  \n",
            "  inflating: MCXStudio/MCXSuite/mcxcl/example/validation/cubic60.json  \n",
            "   creating: MCXStudio/MCXSuite/mcxcl/example/digimouse/\n",
            "  inflating: MCXStudio/MCXSuite/mcxcl/example/digimouse/dump_volume.sh  \n",
            "  inflating: MCXStudio/MCXSuite/mcxcl/example/digimouse/run_atlas.sh  \n",
            "  inflating: MCXStudio/MCXSuite/mcxcl/example/digimouse/dump_volume.bat  \n",
            "  inflating: MCXStudio/MCXSuite/mcxcl/example/digimouse/run_atlas.bat  \n",
            "  inflating: MCXStudio/MCXSuite/mcxcl/example/digimouse/digimouse.json  \n",
            "  inflating: MCXStudio/MCXSuite/mcxcl/example/digimouse/README.txt  \n",
            "  inflating: MCXStudio/MCXSuite/mcxcl/example/README.txt  \n",
            "   creating: MCXStudio/MCXSuite/mcxcl/example/skinvessel/\n",
            "  inflating: MCXStudio/MCXSuite/mcxcl/example/skinvessel/run_mcxyz_bench.bat  \n",
            "  inflating: MCXStudio/MCXSuite/mcxcl/example/skinvessel/enable_hyper.sh  \n",
            "  inflating: MCXStudio/MCXSuite/mcxcl/example/skinvessel/skinvessel.json  \n",
            "  inflating: MCXStudio/MCXSuite/mcxcl/example/skinvessel/run_mcxyz_bench.sh  \n",
            "  inflating: MCXStudio/MCXSuite/mcxcl/example/skinvessel/mcxyz_bench.json  \n",
            "  inflating: MCXStudio/MCXSuite/mcxcl/example/skinvessel/README.txt  \n",
            "  inflating: MCXStudio/MCXSuite/mcxcl/example/skinvessel/disable_hyper.sh  \n",
            "   creating: MCXStudio/MCXSuite/mcxcl/example/colin27/\n",
            "  inflating: MCXStudio/MCXSuite/mcxcl/example/colin27/dump_json.sh  \n",
            "  inflating: MCXStudio/MCXSuite/mcxcl/example/colin27/dump_volume.sh  \n",
            "  inflating: MCXStudio/MCXSuite/mcxcl/example/colin27/run_atlas.sh  \n",
            "  inflating: MCXStudio/MCXSuite/mcxcl/example/colin27/dump_volume.bat  \n",
            "  inflating: MCXStudio/MCXSuite/mcxcl/example/colin27/run_atlas.bat  \n",
            "  inflating: MCXStudio/MCXSuite/mcxcl/example/colin27/README.txt  \n",
            "  inflating: MCXStudio/MCXSuite/mcxcl/example/colin27/dump_json.bat  \n",
            "   creating: MCXStudio/MCXSuite/mcxcl/test/\n",
            "  inflating: MCXStudio/MCXSuite/mcxcl/test/testmcx.sh  \n",
            "   creating: MCXStudio/MCXSuite/mcxcl/pmcxcl/\n",
            "  inflating: MCXStudio/MCXSuite/mcxcl/pmcxcl/setup.py  \n",
            "   creating: MCXStudio/MCXSuite/mcxcl/pmcxcl/pmcxcl/\n",
            "  inflating: MCXStudio/MCXSuite/mcxcl/pmcxcl/pmcxcl/bench.py  \n",
            "  inflating: MCXStudio/MCXSuite/mcxcl/pmcxcl/pmcxcl/__init__.py  \n",
            "  inflating: MCXStudio/MCXSuite/mcxcl/pmcxcl/README.md  \n",
            "  inflating: MCXStudio/MCXSuite/mcxcl/gitlog.sh  \n",
            "   creating: MCXStudio/MCXSuite/mcxcl/doc/\n",
            "  inflating: MCXStudio/MCXSuite/mcxcl/doc/INSTALL.txt  \n",
            "  inflating: MCXStudio/MCXSuite/mcxcl/doc/mcxcl_benchmark.png  \n",
            "  inflating: MCXStudio/MCXSuite/mcxcl/doc/mcx_command_option_cheatsheet.xlsx  \n",
            "  inflating: MCXStudio/MCXSuite/mcxcl/doc/gendoc.sh  \n",
            "  inflating: MCXStudio/MCXSuite/mcxcl/doc/MCXCL_Workflow.pdf  \n",
            "  inflating: MCXStudio/MCXSuite/mcxcl/doc/Download.txt  \n",
            "  inflating: MCXStudio/MCXSuite/mcxcl/ChangeLog.txt  \n",
            "  inflating: MCXStudio/MCXSuite/mcxcl/README.txt  \n",
            "  inflating: MCXStudio/MCXSuite/mcxcl/README.md  \n",
            "   creating: MCXStudio/MCXSuite/mcxcl/utils/\n",
            "  inflating: MCXStudio/MCXSuite/mcxcl/utils/mcxloadfile.m  \n",
            "  inflating: MCXStudio/MCXSuite/mcxcl/utils/normalizemcx.m  \n",
            "  inflating: MCXStudio/MCXSuite/mcxcl/utils/loadmch.m  \n",
            "  inflating: MCXStudio/MCXSuite/mcxcl/utils/cwdiffusion.m  \n",
            "  inflating: MCXStudio/MCXSuite/mcxcl/utils/hobbysplines.m  \n",
            "  inflating: MCXStudio/MCXSuite/mcxcl/utils/tddiffusion.m  \n",
            "  inflating: MCXStudio/MCXSuite/mcxcl/utils/islicer.m  \n",
            "  inflating: MCXStudio/MCXSuite/mcxcl/utils/slice3i.m  \n",
            "  inflating: MCXStudio/MCXSuite/mcxcl/utils/getdistance.m  \n",
            "  inflating: MCXStudio/MCXSuite/mcxcl/utils/mcxloadnii.m  \n",
            "  inflating: MCXStudio/MCXSuite/mcxcl/utils/loadmc2.m  \n",
            "  inflating: MCXStudio/MCXSuite/mcxcl/utils/serialcorr.m  \n",
            "  inflating: MCXStudio/MCXSuite/mcxcl/utils/mcxdetphoton.m  \n",
            "  inflating: MCXStudio/MCXSuite/mcxcl/utils/mcxplotvol.m  \n",
            "  inflating: MCXStudio/MCXSuite/mcxcl/utils/json2mcx.m  \n",
            "  inflating: MCXStudio/MCXSuite/mcxcl/utils/mcx2json.m  \n",
            "  inflating: MCXStudio/MCXSuite/mcxcl/utils/mcxdcsg1.m  \n",
            "  inflating: MCXStudio/MCXSuite/mcxcl/utils/mcxdetweight.m  \n",
            "  inflating: MCXStudio/MCXSuite/mcxcl/utils/mcxdettime.m  \n",
            "  inflating: MCXStudio/MCXSuite/mcxcl/utils/stacked_bar3.m  \n",
            "  inflating: MCXStudio/MCXSuite/mcxcl/utils/image3i.m  \n",
            "  inflating: MCXStudio/MCXSuite/mcxcl/utils/mcxmeanscat.m  \n",
            "   creating: MCXStudio/MCXSuite/mcxcl/utils/python/\n",
            "  inflating: MCXStudio/MCXSuite/mcxcl/utils/python/__init__.py  \n",
            "  inflating: MCXStudio/MCXSuite/mcxcl/utils/mcxmeanpath.m  \n",
            "  inflating: MCXStudio/MCXSuite/mcxcl/utils/mcxfluence2energy.m  \n",
            "  inflating: MCXStudio/MCXSuite/mcxcl/utils/mcxplotphotons.m  \n",
            "  inflating: MCXStudio/MCXSuite/mcxcl/utils/mcxdettpsf.m  \n",
            "  inflating: MCXStudio/MCXSuite/mcxcl/.miss_hit  \n",
            "   creating: MCXStudio/MATLAB/\n",
            "   creating: MCXStudio/MATLAB/mcxlab/\n",
            "   creating: MCXStudio/MATLAB/mcxlab/examples/\n",
            "   creating: MCXStudio/MATLAB/mcxlab/tutorials/\n",
            "   creating: MCXStudio/MATLAB/mcxlab/filter/\n",
            "   creating: MCXStudio/MATLAB/mcxlab/filter/Wave3D/\n",
            "   creating: MCXStudio/MATLAB/mcxlab/filter/demos/\n",
            "  inflating: MCXStudio/MATLAB/mcxlab/mcx.mexa64  \n",
            "  inflating: MCXStudio/MATLAB/mcxlab/mcxfilter.mexa64  \n",
            "   creating: MCXStudio/MATLAB/mmclab/\n",
            "   creating: MCXStudio/MATLAB/mmclab/example/\n",
            "  inflating: MCXStudio/MATLAB/mmclab/mmc.mexa64  \n",
            "   creating: MCXStudio/MATLAB/mcxlabcl/\n",
            "  inflating: MCXStudio/MATLAB/mcxlabcl/mcxcl.mexa64  \n",
            "   creating: MCXStudio/MATLAB/mcxlabcl/examples/\n",
            "   creating: MCXStudio/MATLAB/iso2mesh/\n",
            "   creating: MCXStudio/MATLAB/iso2mesh/.git_filters/\n",
            "   creating: MCXStudio/MATLAB/iso2mesh/bin/\n",
            "  inflating: MCXStudio/MATLAB/iso2mesh/bin/PoissonRecon.mexa64  \n",
            "  inflating: MCXStudio/MATLAB/iso2mesh/bin/cgalmesh.mexa64  \n",
            "  inflating: MCXStudio/MATLAB/iso2mesh/bin/cgalpoly.mexa64  \n",
            "  inflating: MCXStudio/MATLAB/iso2mesh/bin/cgalsurf.mexa64  \n",
            "  inflating: MCXStudio/MATLAB/iso2mesh/bin/cork.mexa64  \n",
            "  inflating: MCXStudio/MATLAB/iso2mesh/bin/gtsset.mexa64  \n",
            "  inflating: MCXStudio/MATLAB/iso2mesh/bin/jmeshlib.mexa64  \n",
            "  inflating: MCXStudio/MATLAB/iso2mesh/bin/meshfix.mexa64  \n",
            "  inflating: MCXStudio/MATLAB/iso2mesh/bin/tetgen.mexa64  \n",
            "    linking: MCXStudio/MATLAB/iso2mesh/bin/tetgen.mexmaci64  -> tetgen1.5.mexmaci64 \n",
            "  inflating: MCXStudio/MATLAB/iso2mesh/bin/tetgen1.5.mexa64  \n",
            "   creating: MCXStudio/MATLAB/iso2mesh/doc/\n",
            "   creating: MCXStudio/MATLAB/iso2mesh/sample/\n",
            "   creating: MCXStudio/MATLAB/iso2mesh/tools/\n",
            "   creating: MCXStudio/MATLAB/iso2mesh/tools/PoissonRecon/\n",
            "   creating: MCXStudio/MATLAB/iso2mesh/tools/cgalmesh/\n",
            "   creating: MCXStudio/MATLAB/iso2mesh/tools/cgalsimp2/\n",
            "   creating: MCXStudio/MATLAB/iso2mesh/tools/cgalsurf/\n",
            "   creating: MCXStudio/MATLAB/iso2mesh/tools/commons/\n",
            "   creating: MCXStudio/MATLAB/iso2mesh/tools/cork/\n",
            "   creating: MCXStudio/MATLAB/iso2mesh/tools/manpage/\n",
            "   creating: MCXStudio/MATLAB/iso2mesh/tools/meshfix/\n",
            "   creating: MCXStudio/MATLAB/iso2mesh/tools/tetgen/\n",
            "   creating: MCXStudio/MATLAB/brain2mesh/\n",
            "   creating: MCXStudio/MATLAB/brain2mesh/examples/\n",
            "   creating: MCXStudio/MATLAB/redbird-m/\n",
            "   creating: MCXStudio/MATLAB/redbird-m/example/\n",
            "   creating: MCXStudio/MATLAB/redbird-m/matlab/\n",
            "  inflating: MCXStudio/MATLAB/redbird-m/matlab/rbfemmatrix.mexa64  \n",
            "   creating: MCXStudio/MATLAB/redbird-m/doc/\n",
            "   creating: MCXStudio/MATLAB/zmat/\n",
            "   creating: MCXStudio/MATLAB/zmat/.github/\n",
            "   creating: MCXStudio/MATLAB/zmat/.github/workflows/\n",
            "   creating: MCXStudio/MATLAB/zmat/example/\n",
            "   creating: MCXStudio/MATLAB/zmat/example/c/\n",
            "   creating: MCXStudio/MATLAB/zmat/example/f90/\n",
            "   creating: MCXStudio/MATLAB/zmat/fortran90/\n",
            "   creating: MCXStudio/MATLAB/zmat/images/\n",
            "   creating: MCXStudio/MATLAB/zmat/include/\n",
            "   creating: MCXStudio/MATLAB/zmat/private/\n",
            "  inflating: MCXStudio/MATLAB/zmat/private/zipmat.mexa64  \n",
            "   creating: MCXStudio/MATLAB/zmat/test/\n",
            "  inflating: MCXStudio/mcxstudio     \n",
            "  inflating: MCXStudio/mcxsuite_addpath.m  \n",
            "  inflating: MCXStudio/README.txt    \n",
            "   creating: MCXStudio/Output/\n",
            "  inflating: MCXStudio/MATLAB/mcxlab/INSTALL.txt  \n",
            "  inflating: MCXStudio/MATLAB/mcxlab/LICENSE.txt  \n",
            "  inflating: MCXStudio/MATLAB/mcxlab/mcxlab.m  \n",
            "  inflating: MCXStudio/MATLAB/mcxlab/DESCRIPTION  \n",
            "  inflating: MCXStudio/MATLAB/mcxlab/INDEX  \n",
            "  inflating: MCXStudio/MATLAB/mcxlab/NEWS  \n",
            "  inflating: MCXStudio/MATLAB/mcxlab/README.txt  \n",
            "  inflating: MCXStudio/MATLAB/mcxlab/examples/demo_4layer_head.m  \n",
            "  inflating: MCXStudio/MATLAB/mcxlab/examples/demo_label_continous_hybrid.m  \n",
            "  inflating: MCXStudio/MATLAB/mcxlab/examples/demo_qtest_subpixel.m  \n",
            "  inflating: MCXStudio/MATLAB/mcxlab/examples/demo_svmc_brain19_5.m  \n",
            "  inflating: MCXStudio/MATLAB/mcxlab/examples/demo_validation_heterogeneous.m  \n",
            "  inflating: MCXStudio/MATLAB/mcxlab/examples/demo_digimouse_sfdi.m  \n",
            "  inflating: MCXStudio/MATLAB/mcxlab/examples/mcxyz_skinvessel.mat  \n",
            "  inflating: MCXStudio/MATLAB/mcxlab/examples/demo_photon_sharing.m  \n",
            "  inflating: MCXStudio/MATLAB/mcxlab/examples/demo_mcxyz_skinvessel.m  \n",
            "  inflating: MCXStudio/MATLAB/mcxlab/examples/demo_validation_homogeneous.m  \n",
            "  inflating: MCXStudio/MATLAB/mcxlab/examples/mcx_gpu_contest.m  \n",
            "  inflating: MCXStudio/MATLAB/mcxlab/examples/demo_mcxlab_2d.m  \n",
            "  inflating: MCXStudio/MATLAB/mcxlab/examples/digimouse.mat  \n",
            "  inflating: MCXStudio/MATLAB/mcxlab/examples/demo_mcxlab_srctype.m  \n",
            "  inflating: MCXStudio/MATLAB/mcxlab/examples/demo_test_csf.m  \n",
            "  inflating: MCXStudio/MATLAB/mcxlab/examples/fullhead_atlas.mat  \n",
            "  inflating: MCXStudio/MATLAB/mcxlab/examples/demo_replay_vs_pmc_timedomain.m  \n",
            "  inflating: MCXStudio/MATLAB/mcxlab/examples/demo_fullhead_atlas.m  \n",
            "  inflating: MCXStudio/MATLAB/mcxlab/examples/demo_infinite_slab_cyclic_bc.m  \n",
            "  inflating: MCXStudio/MATLAB/mcxlab/examples/demo_lambertian_exit_angle.m  \n",
            "  inflating: MCXStudio/MATLAB/mcxlab/examples/demo_mcxlab_replay.m  \n",
            "  inflating: MCXStudio/MATLAB/mcxlab/examples/demo_svmc_sphshells.m  \n",
            "  inflating: MCXStudio/MATLAB/mcxlab/examples/demo_replay_timedomain.m  \n",
            "  inflating: MCXStudio/MATLAB/mcxlab/examples/demo_svmc_cubesph.m  \n",
            "  inflating: MCXStudio/MATLAB/mcxlab/examples/demo_bc_det.m  \n",
            "  inflating: MCXStudio/MATLAB/mcxlab/examples/bench_reseedlimit.m  \n",
            "  inflating: MCXStudio/MATLAB/mcxlab/examples/mcx_gpu_benchmarks.m  \n",
            "  inflating: MCXStudio/MATLAB/mcxlab/examples/demo_focus_mirror_bc.m  \n",
            "  inflating: MCXStudio/MATLAB/mcxlab/examples/demo_sphere_cube_subpixel.m  \n",
            "  inflating: MCXStudio/MATLAB/mcxlab/examples/demo_continuous_mua_mus.m  \n",
            "  inflating: MCXStudio/MATLAB/mcxlab/examples/colin27_v3.mat  \n",
            "  inflating: MCXStudio/MATLAB/mcxlab/examples/demo_colin27_atlas.m  \n",
            "  inflating: MCXStudio/MATLAB/mcxlab/examples/demo_mcxlab_basic.m  \n",
            "  inflating: MCXStudio/MATLAB/mcxlab/examples/demo_diffuse_reflectance_validation.m  \n",
            "  inflating: MCXStudio/MATLAB/mcxlab/examples/demo_mcxlab_phasefun.m  \n",
            "  inflating: MCXStudio/MATLAB/mcxlab/examples/demo_polarized_photon.m  \n",
            "  inflating: MCXStudio/MATLAB/mcxlab/examples/demo_replay_frequencydomain.m  \n",
            "  inflating: MCXStudio/MATLAB/mcxlab/examples/demo_speed_label_vs_continuous.m  \n",
            "  inflating: MCXStudio/MATLAB/mcxlab/examples/demo_mcxlab_launchangle.m  \n",
            "  inflating: MCXStudio/MATLAB/mcxlab/examples/demo_multisrc.m  \n",
            "  inflating: MCXStudio/MATLAB/mcxlab/examples/demo_area_source_conv.m  \n",
            "  inflating: MCXStudio/MATLAB/mcxlab/tutorials/mcxlab_getting_started.ipynb  \n",
            "  inflating: MCXStudio/MATLAB/mcxlab/PKG_ADD  \n",
            "  inflating: MCXStudio/MATLAB/mcxlab/filter/Wave3D/pm4.m  \n",
            "  inflating: MCXStudio/MATLAB/mcxlab/filter/Wave3D/idwt3D.m  \n",
            "  inflating: MCXStudio/MATLAB/mcxlab/filter/Wave3D/dwt3D.m  \n",
            "  inflating: MCXStudio/MATLAB/mcxlab/filter/Wave3D/FSfarras.m  \n",
            "  inflating: MCXStudio/MATLAB/mcxlab/filter/Wave3D/cshift3D.m  \n",
            "  inflating: MCXStudio/MATLAB/mcxlab/filter/Wave3D/sfb3D.m  \n",
            "  inflating: MCXStudio/MATLAB/mcxlab/filter/Wave3D/pm4inv.m  \n",
            "  inflating: MCXStudio/MATLAB/mcxlab/filter/Wave3D/farras.m  \n",
            "  inflating: MCXStudio/MATLAB/mcxlab/filter/Wave3D/afb3D.m  \n",
            "  inflating: MCXStudio/MATLAB/mcxlab/filter/Wave3D/dwt3D_plots.m  \n",
            "  inflating: MCXStudio/MATLAB/mcxlab/filter/Wave3D/mixingsubband.m  \n",
            "  inflating: MCXStudio/MATLAB/mcxlab/filter/demos/demo_MCdenoising.m  \n",
            "  inflating: MCXStudio/MATLAB/mcxlab/filter/demos/demo_mcx_anlm.m  \n",
            "  inflating: MCXStudio/MATLAB/mcxlab/filter/demos/data.mat  \n",
            "  inflating: MCXStudio/MATLAB/mcxlab/filter/demos/demo_basic.m  \n",
            "  inflating: MCXStudio/MATLAB/mcxlab/mcxfilter.m  \n",
            "  inflating: MCXStudio/MATLAB/mcxlab/mcx.mex  \n",
            "  inflating: MCXStudio/MATLAB/mmclab/PKG_ADD  \n",
            "  inflating: MCXStudio/MATLAB/mmclab/INSTALL.txt  \n",
            "  inflating: MCXStudio/MATLAB/mmclab/LICENSE.txt  \n",
            "  inflating: MCXStudio/MATLAB/mmclab/example/demo_mmclab_basic.m  \n",
            "  inflating: MCXStudio/MATLAB/mmclab/example/demo_example_onecube.m  \n",
            "  inflating: MCXStudio/MATLAB/mmclab/example/test_albedo.m  \n",
            "  inflating: MCXStudio/MATLAB/mmclab/example/demo_mmcl_b4.m  \n",
            "  inflating: MCXStudio/MATLAB/mmclab/example/demo_photon_sharing.m  \n",
            "  inflating: MCXStudio/MATLAB/mmclab/example/demo_mcxyz_skinvessel.m  \n",
            "  inflating: MCXStudio/MATLAB/mmclab/example/demo_dualmesh_output.m  \n",
            "  inflating: MCXStudio/MATLAB/mmclab/example/demo_sfdi_2layer.m  \n",
            "  inflating: MCXStudio/MATLAB/mmclab/example/demo_wide_det.m  \n",
            "  inflating: MCXStudio/MATLAB/mmclab/example/demo_example_replay.m  \n",
            "  inflating: MCXStudio/MATLAB/mmclab/example/demo_mmcl_b2_b2d.m  \n",
            "  inflating: MCXStudio/MATLAB/mmclab/example/demo_dmmc_sphshells.m  \n",
            "  inflating: MCXStudio/MATLAB/mmclab/example/mmclab_selftest_input.m  \n",
            "  inflating: MCXStudio/MATLAB/mmclab/example/demo_immc_basic.m  \n",
            "  inflating: MCXStudio/MATLAB/mmclab/example/demo_example_meshtest.m  \n",
            "  inflating: MCXStudio/MATLAB/mmclab/example/demo_example_validation.m  \n",
            "  inflating: MCXStudio/MATLAB/mmclab/example/demo_mmcl_b3.m  \n",
            "  inflating: MCXStudio/MATLAB/mmclab/example/head_atlas.mat  \n",
            "  inflating: MCXStudio/MATLAB/mmclab/example/demo_compare_mmc_mcx.m  \n",
            "  inflating: MCXStudio/MATLAB/mmclab/example/demo_mmcl_b1_b1d.m  \n",
            "  inflating: MCXStudio/MATLAB/mmclab/example/vessel.mat  \n",
            "  inflating: MCXStudio/MATLAB/mmclab/example/demo_mmclab_slit.m  \n",
            "  inflating: MCXStudio/MATLAB/mmclab/example/demo_immc_vessel.m  \n",
            "  inflating: MCXStudio/MATLAB/mmclab/example/demo_head_atlas.m  \n",
            "  inflating: MCXStudio/MATLAB/mmclab/mmc2json.m  \n",
            "  inflating: MCXStudio/MATLAB/mmclab/mmclab.m  \n",
            "  inflating: MCXStudio/MATLAB/mmclab/README.txt  \n",
            "  inflating: MCXStudio/MATLAB/mmclab/mmc.mex  \n",
            "  inflating: MCXStudio/MATLAB/mcxlabcl/PKG_ADD  \n",
            "  inflating: MCXStudio/MATLAB/mcxlabcl/INSTALL.txt  \n",
            "  inflating: MCXStudio/MATLAB/mcxlabcl/LICENSE.txt  \n",
            "  inflating: MCXStudio/MATLAB/mcxlabcl/mcxlabcl.m  \n",
            "  inflating: MCXStudio/MATLAB/mcxlabcl/DESCRIPTION  \n",
            "  inflating: MCXStudio/MATLAB/mcxlabcl/mcxcl.mex  \n",
            "  inflating: MCXStudio/MATLAB/mcxlabcl/INDEX  \n",
            "  inflating: MCXStudio/MATLAB/mcxlabcl/NEWS  \n",
            "  inflating: MCXStudio/MATLAB/mcxlabcl/README.txt  \n",
            "  inflating: MCXStudio/MATLAB/mcxlabcl/examples/demo_4layer_head.m  \n",
            "  inflating: MCXStudio/MATLAB/mcxlabcl/examples/demo_qtest_subpixel.m  \n",
            "  inflating: MCXStudio/MATLAB/mcxlabcl/examples/demo_validation_heterogeneous.m  \n",
            "  inflating: MCXStudio/MATLAB/mcxlabcl/examples/demo_digimouse_sfdi.m  \n",
            "  inflating: MCXStudio/MATLAB/mcxlabcl/examples/mcxyz_skinvessel.mat  \n",
            "  inflating: MCXStudio/MATLAB/mcxlabcl/examples/demo_photon_sharing.m  \n",
            "  inflating: MCXStudio/MATLAB/mcxlabcl/examples/demo_mcxyz_skinvessel.m  \n",
            "  inflating: MCXStudio/MATLAB/mcxlabcl/examples/demo_validation_homogeneous.m  \n",
            "  inflating: MCXStudio/MATLAB/mcxlabcl/examples/mcx_gpu_contest.m  \n",
            "  inflating: MCXStudio/MATLAB/mcxlabcl/examples/demo_mcxlab_2d.m  \n",
            "  inflating: MCXStudio/MATLAB/mcxlabcl/examples/digimouse.mat  \n",
            "  inflating: MCXStudio/MATLAB/mcxlabcl/examples/demo_mcxlab_srctype.m  \n",
            "  inflating: MCXStudio/MATLAB/mcxlabcl/examples/demo_test_csf.m  \n",
            "  inflating: MCXStudio/MATLAB/mcxlabcl/examples/fullhead_atlas.mat  \n",
            "  inflating: MCXStudio/MATLAB/mcxlabcl/examples/demo_replay_vs_pmc_timedomain.m  \n",
            "  inflating: MCXStudio/MATLAB/mcxlabcl/examples/demo_fullhead_atlas.m  \n",
            "  inflating: MCXStudio/MATLAB/mcxlabcl/examples/demo_infinite_slab_cyclic_bc.m  \n",
            "  inflating: MCXStudio/MATLAB/mcxlabcl/examples/demo_lambertian_exit_angle.m  \n",
            "  inflating: MCXStudio/MATLAB/mcxlabcl/examples/demo_mcxlab_replay.m  \n",
            "  inflating: MCXStudio/MATLAB/mcxlabcl/examples/demo_replay_timedomain.m  \n",
            "  inflating: MCXStudio/MATLAB/mcxlabcl/examples/demo_bc_det.m  \n",
            "  inflating: MCXStudio/MATLAB/mcxlabcl/examples/demo_mcxlabcl_basic.m  \n",
            "  inflating: MCXStudio/MATLAB/mcxlabcl/examples/mcx_gpu_benchmarks.m  \n",
            "  inflating: MCXStudio/MATLAB/mcxlabcl/examples/demo_focus_mirror_bc.m  \n",
            "  inflating: MCXStudio/MATLAB/mcxlabcl/examples/demo_sphere_cube_subpixel.m  \n",
            "  inflating: MCXStudio/MATLAB/mcxlabcl/examples/demo_continuous_mua_mus.m  \n",
            "  inflating: MCXStudio/MATLAB/mcxlabcl/examples/colin27_v3.mat  \n",
            "  inflating: MCXStudio/MATLAB/mcxlabcl/examples/demo_colin27_atlas.m  \n",
            "  inflating: MCXStudio/MATLAB/mcxlabcl/examples/demo_mcxlab_basic.m  \n",
            "  inflating: MCXStudio/MATLAB/mcxlabcl/examples/demo_mcxlab_launchangle.m  \n",
            "  inflating: MCXStudio/MATLAB/mcxlabcl/examples/demo_mcxlab_phasefun.m  \n",
            "  inflating: MCXStudio/MATLAB/iso2mesh/.gitattributes  \n",
            "  inflating: MCXStudio/MATLAB/iso2mesh/.gitmodules  \n",
            "  inflating: MCXStudio/MATLAB/iso2mesh/AUTHORS.txt  \n",
            "  inflating: MCXStudio/MATLAB/iso2mesh/COPYING.txt  \n",
            "  inflating: MCXStudio/MATLAB/iso2mesh/ChangeLog.txt  \n",
            "  inflating: MCXStudio/MATLAB/iso2mesh/Content.txt  \n",
            "  inflating: MCXStudio/MATLAB/iso2mesh/DESCRIPTION  \n",
            "  inflating: MCXStudio/MATLAB/iso2mesh/INDEX  \n",
            "  inflating: MCXStudio/MATLAB/iso2mesh/README.md  \n",
            "  inflating: MCXStudio/MATLAB/iso2mesh/README.txt  \n",
            "  inflating: MCXStudio/MATLAB/iso2mesh/TODO.txt  \n",
            "  inflating: MCXStudio/MATLAB/iso2mesh/advancefront.m  \n",
            "  inflating: MCXStudio/MATLAB/iso2mesh/affinemap.m  \n",
            "  inflating: MCXStudio/MATLAB/iso2mesh/aos2soa.m  \n",
            "  inflating: MCXStudio/MATLAB/iso2mesh/barydualmesh.m  \n",
            "  inflating: MCXStudio/MATLAB/iso2mesh/base64decode.m  \n",
            "  inflating: MCXStudio/MATLAB/iso2mesh/base64encode.m  \n",
            "  inflating: MCXStudio/MATLAB/iso2mesh/bbxflatsegment.m  \n",
            "  inflating: MCXStudio/MATLAB/iso2mesh/binsurface.m  \n",
            "  inflating: MCXStudio/MATLAB/iso2mesh/blosc2decode.m  \n",
            "  inflating: MCXStudio/MATLAB/iso2mesh/blosc2encode.m  \n",
            "  inflating: MCXStudio/MATLAB/iso2mesh/bwislands.m  \n",
            "  inflating: MCXStudio/MATLAB/iso2mesh/cgals2m.m  \n",
            "  inflating: MCXStudio/MATLAB/iso2mesh/cgalv2m.m  \n",
            "  inflating: MCXStudio/MATLAB/iso2mesh/closestnode.m  \n",
            "  inflating: MCXStudio/MATLAB/iso2mesh/decodevarname.m  \n",
            "  inflating: MCXStudio/MATLAB/iso2mesh/deislands2d.m  \n",
            "  inflating: MCXStudio/MATLAB/iso2mesh/deislands3d.m  \n",
            "  inflating: MCXStudio/MATLAB/iso2mesh/delendelem.m  \n",
            "  inflating: MCXStudio/MATLAB/iso2mesh/deletemeshfile.m  \n",
            "  inflating: MCXStudio/MATLAB/iso2mesh/dist2surf.m  \n",
            "  inflating: MCXStudio/MATLAB/iso2mesh/edgeneighbors.m  \n",
            "  inflating: MCXStudio/MATLAB/iso2mesh/elemfacecenter.m  \n",
            "  inflating: MCXStudio/MATLAB/iso2mesh/elemvolume.m  \n",
            "  inflating: MCXStudio/MATLAB/iso2mesh/encodevarname.m  \n",
            "  inflating: MCXStudio/MATLAB/iso2mesh/extractloops.m  \n",
            "  inflating: MCXStudio/MATLAB/iso2mesh/extrudecurve.m  \n",
            "  inflating: MCXStudio/MATLAB/iso2mesh/extrudesurf.m  \n",
            "  inflating: MCXStudio/MATLAB/iso2mesh/faceneighbors.m  \n",
            "  inflating: MCXStudio/MATLAB/iso2mesh/fallbackexeext.m  \n",
            "  inflating: MCXStudio/MATLAB/iso2mesh/fast_match_bracket.m  \n",
            "  inflating: MCXStudio/MATLAB/iso2mesh/fillholes3d.m  \n",
            "  inflating: MCXStudio/MATLAB/iso2mesh/fillsurf.m  \n",
            "  inflating: MCXStudio/MATLAB/iso2mesh/filterjsonmmap.m  \n",
            "  inflating: MCXStudio/MATLAB/iso2mesh/finddisconnsurf.m  \n",
            "  inflating: MCXStudio/MATLAB/iso2mesh/flatsegment.m  \n",
            "  inflating: MCXStudio/MATLAB/iso2mesh/gendocs.sh  \n",
            "  inflating: MCXStudio/MATLAB/iso2mesh/getexeext.m  \n",
            "  inflating: MCXStudio/MATLAB/iso2mesh/getfromjsonpath.m  \n",
            "  inflating: MCXStudio/MATLAB/iso2mesh/getintersecttri.m  \n",
            "  inflating: MCXStudio/MATLAB/iso2mesh/getoptkey.m  \n",
            "  inflating: MCXStudio/MATLAB/iso2mesh/getplanefrom3pt.m  \n",
            "  inflating: MCXStudio/MATLAB/iso2mesh/getvarfrom.m  \n",
            "  inflating: MCXStudio/MATLAB/iso2mesh/gridsurf.m  \n",
            "  inflating: MCXStudio/MATLAB/iso2mesh/gzipdecode.m  \n",
            "  inflating: MCXStudio/MATLAB/iso2mesh/gzipencode.m  \n",
            "  inflating: MCXStudio/MATLAB/iso2mesh/highordertet.m  \n",
            "  inflating: MCXStudio/MATLAB/iso2mesh/i2m.m  \n",
            "  inflating: MCXStudio/MATLAB/iso2mesh/i2m.png  \n",
            "  inflating: MCXStudio/MATLAB/iso2mesh/i2m.prj  \n",
            "  inflating: MCXStudio/MATLAB/iso2mesh/imedge3d.m  \n",
            "  inflating: MCXStudio/MATLAB/iso2mesh/img2mesh.fig  \n",
            "  inflating: MCXStudio/MATLAB/iso2mesh/img2mesh.m  \n",
            "  inflating: MCXStudio/MATLAB/iso2mesh/innersurf.m  \n",
            "  inflating: MCXStudio/MATLAB/iso2mesh/insurface.m  \n",
            "  inflating: MCXStudio/MATLAB/iso2mesh/internalpoint.m  \n",
            "  inflating: MCXStudio/MATLAB/iso2mesh/iso2meshver.m  \n",
            "  inflating: MCXStudio/MATLAB/iso2mesh/isoctavemesh.m  \n",
            "  inflating: MCXStudio/MATLAB/iso2mesh/jdatadecode.m  \n",
            "  inflating: MCXStudio/MATLAB/iso2mesh/jdataencode.m  \n",
            "  inflating: MCXStudio/MATLAB/iso2mesh/jdatahash.m  \n",
            "  inflating: MCXStudio/MATLAB/iso2mesh/jdlink.m  \n",
            "  inflating: MCXStudio/MATLAB/iso2mesh/jload.m  \n",
            "  inflating: MCXStudio/MATLAB/iso2mesh/jnifticreate.m  \n",
            "  inflating: MCXStudio/MATLAB/iso2mesh/jnii2nii.m  \n",
            "  inflating: MCXStudio/MATLAB/iso2mesh/jsave.m  \n",
            "  inflating: MCXStudio/MATLAB/iso2mesh/jsnirfcreate.m  \n",
            "  inflating: MCXStudio/MATLAB/iso2mesh/json2couch.m  \n",
            "  inflating: MCXStudio/MATLAB/iso2mesh/jsoncache.m  \n",
            "  inflating: MCXStudio/MATLAB/iso2mesh/jsonget.m  \n",
            "  inflating: MCXStudio/MATLAB/iso2mesh/jsonopt.m  \n",
            "  inflating: MCXStudio/MATLAB/iso2mesh/jsonpath.m  \n",
            "  inflating: MCXStudio/MATLAB/iso2mesh/jsonset.m  \n",
            "  inflating: MCXStudio/MATLAB/iso2mesh/latticegrid.m  \n",
            "  inflating: MCXStudio/MATLAB/iso2mesh/layersurf.m  \n",
            "  inflating: MCXStudio/MATLAB/iso2mesh/linextriangle.m  \n",
            "  inflating: MCXStudio/MATLAB/iso2mesh/loadbj.m  \n",
            "  inflating: MCXStudio/MATLAB/iso2mesh/loadh5.m  \n",
            "  inflating: MCXStudio/MATLAB/iso2mesh/loadjd.m  \n",
            "  inflating: MCXStudio/MATLAB/iso2mesh/loadjmesh.m  \n",
            "  inflating: MCXStudio/MATLAB/iso2mesh/loadjnifti.m  \n",
            "  inflating: MCXStudio/MATLAB/iso2mesh/loadjsnirf.m  \n",
            "  inflating: MCXStudio/MATLAB/iso2mesh/loadjson.m  \n",
            "  inflating: MCXStudio/MATLAB/iso2mesh/loadmsgpack.m  \n",
            "  inflating: MCXStudio/MATLAB/iso2mesh/loadnifti.m  \n",
            "  inflating: MCXStudio/MATLAB/iso2mesh/loadsnirf.m  \n",
            "  inflating: MCXStudio/MATLAB/iso2mesh/loadubjson.m  \n",
            "  inflating: MCXStudio/MATLAB/iso2mesh/lz4decode.m  \n",
            "  inflating: MCXStudio/MATLAB/iso2mesh/lz4encode.m  \n",
            "  inflating: MCXStudio/MATLAB/iso2mesh/lz4hcdecode.m  \n",
            "  inflating: MCXStudio/MATLAB/iso2mesh/lz4hcencode.m  \n",
            "  inflating: MCXStudio/MATLAB/iso2mesh/lzipdecode.m  \n",
            "  inflating: MCXStudio/MATLAB/iso2mesh/lzipencode.m  \n",
            "  inflating: MCXStudio/MATLAB/iso2mesh/lzmadecode.m  \n",
            "  inflating: MCXStudio/MATLAB/iso2mesh/lzmaencode.m  \n",
            "  inflating: MCXStudio/MATLAB/iso2mesh/m2v.m  \n",
            "  inflating: MCXStudio/MATLAB/iso2mesh/maskdist.m  \n",
            "  inflating: MCXStudio/MATLAB/iso2mesh/match_bracket.m  \n",
            "  inflating: MCXStudio/MATLAB/iso2mesh/maxsurf.m  \n",
            "  inflating: MCXStudio/MATLAB/iso2mesh/mcpath.m  \n",
            "  inflating: MCXStudio/MATLAB/iso2mesh/memmapstream.m  \n",
            "  inflating: MCXStudio/MATLAB/iso2mesh/mergemesh.m  \n",
            "  inflating: MCXStudio/MATLAB/iso2mesh/mergestruct.m  \n",
            "  inflating: MCXStudio/MATLAB/iso2mesh/mergesurf.m  \n",
            "  inflating: MCXStudio/MATLAB/iso2mesh/mesh2mask.m  \n",
            "  inflating: MCXStudio/MATLAB/iso2mesh/mesh2vol.m  \n",
            "  inflating: MCXStudio/MATLAB/iso2mesh/meshabox.m  \n",
            "  inflating: MCXStudio/MATLAB/iso2mesh/meshacylinder.m  \n",
            "  inflating: MCXStudio/MATLAB/iso2mesh/meshanellip.m  \n",
            "  inflating: MCXStudio/MATLAB/iso2mesh/meshasphere.m  \n",
            "  inflating: MCXStudio/MATLAB/iso2mesh/meshcentroid.m  \n",
            "  inflating: MCXStudio/MATLAB/iso2mesh/meshcheckrepair.m  \n",
            "  inflating: MCXStudio/MATLAB/iso2mesh/meshconn.m  \n",
            "  inflating: MCXStudio/MATLAB/iso2mesh/meshcylinders.m  \n",
            "  inflating: MCXStudio/MATLAB/iso2mesh/meshedge.m  \n",
            "  inflating: MCXStudio/MATLAB/iso2mesh/mesheuler.m  \n",
            "  inflating: MCXStudio/MATLAB/iso2mesh/meshface.m  \n",
            "  inflating: MCXStudio/MATLAB/iso2mesh/meshgrid5.m  \n",
            "  inflating: MCXStudio/MATLAB/iso2mesh/meshgrid6.m  \n",
            "  inflating: MCXStudio/MATLAB/iso2mesh/meshinterp.m  \n",
            "  inflating: MCXStudio/MATLAB/iso2mesh/meshquality.m  \n",
            "  inflating: MCXStudio/MATLAB/iso2mesh/meshrefine.m  \n",
            "  inflating: MCXStudio/MATLAB/iso2mesh/meshremap.m  \n",
            "  inflating: MCXStudio/MATLAB/iso2mesh/meshreorient.m  \n",
            "  inflating: MCXStudio/MATLAB/iso2mesh/meshresample.m  \n",
            "  inflating: MCXStudio/MATLAB/iso2mesh/meshunitsphere.m  \n",
            "  inflating: MCXStudio/MATLAB/iso2mesh/metchgui.fig  \n",
            "  inflating: MCXStudio/MATLAB/iso2mesh/metchgui.m  \n",
            "  inflating: MCXStudio/MATLAB/iso2mesh/metchgui_one.m  \n",
            "  inflating: MCXStudio/MATLAB/iso2mesh/mwpath.m  \n",
            "  inflating: MCXStudio/MATLAB/iso2mesh/ndgaussian.m  \n",
            "  inflating: MCXStudio/MATLAB/iso2mesh/ndimfilter.m  \n",
            "  inflating: MCXStudio/MATLAB/iso2mesh/neighborelem.m  \n",
            "  inflating: MCXStudio/MATLAB/iso2mesh/nestbracket2dim.m  \n",
            "  inflating: MCXStudio/MATLAB/iso2mesh/nifticreate.m  \n",
            "  inflating: MCXStudio/MATLAB/iso2mesh/nii2jnii.m  \n",
            "  inflating: MCXStudio/MATLAB/iso2mesh/niicodemap.m  \n",
            "  inflating: MCXStudio/MATLAB/iso2mesh/niiformat.m  \n",
            "  inflating: MCXStudio/MATLAB/iso2mesh/niiheader2jnii.m  \n",
            "  inflating: MCXStudio/MATLAB/iso2mesh/nodesurfnorm.m  \n",
            "  inflating: MCXStudio/MATLAB/iso2mesh/nodevolume.m  \n",
            "  inflating: MCXStudio/MATLAB/iso2mesh/octavezmat.m  \n",
            "  inflating: MCXStudio/MATLAB/iso2mesh/orderloopedge.m  \n",
            "  inflating: MCXStudio/MATLAB/iso2mesh/orthdisk.m  \n",
            "  inflating: MCXStudio/MATLAB/iso2mesh/outersurf.m  \n",
            "  inflating: MCXStudio/MATLAB/iso2mesh/plotedges.m  \n",
            "  inflating: MCXStudio/MATLAB/iso2mesh/plotmesh.m  \n",
            "  inflating: MCXStudio/MATLAB/iso2mesh/plotsurf.m  \n",
            "  inflating: MCXStudio/MATLAB/iso2mesh/plottetra.m  \n",
            "  inflating: MCXStudio/MATLAB/iso2mesh/polylineinterp.m  \n",
            "  inflating: MCXStudio/MATLAB/iso2mesh/polylinelen.m  \n",
            "  inflating: MCXStudio/MATLAB/iso2mesh/polylinesimplify.m  \n",
            "  inflating: MCXStudio/MATLAB/iso2mesh/proj2mesh.m  \n",
            "  inflating: MCXStudio/MATLAB/iso2mesh/qmeshcut.m  \n",
            "  inflating: MCXStudio/MATLAB/iso2mesh/ray2surf.m  \n",
            "  inflating: MCXStudio/MATLAB/iso2mesh/raysurf.m  \n",
            "  inflating: MCXStudio/MATLAB/iso2mesh/raytrace.m  \n",
            "  inflating: MCXStudio/MATLAB/iso2mesh/readasc.m  \n",
            "  inflating: MCXStudio/MATLAB/iso2mesh/readgts.m  \n",
            "  inflating: MCXStudio/MATLAB/iso2mesh/readinr.m  \n",
            "  inflating: MCXStudio/MATLAB/iso2mesh/readmedit.m  \n",
            "  inflating: MCXStudio/MATLAB/iso2mesh/readmptiff.m  \n",
            "  inflating: MCXStudio/MATLAB/iso2mesh/readnirfast.m  \n",
            "  inflating: MCXStudio/MATLAB/iso2mesh/readobjmesh.m  \n",
            "  inflating: MCXStudio/MATLAB/iso2mesh/readoff.m  \n",
            "  inflating: MCXStudio/MATLAB/iso2mesh/readsmf.m  \n",
            "  inflating: MCXStudio/MATLAB/iso2mesh/readtetgen.m  \n",
            "  inflating: MCXStudio/MATLAB/iso2mesh/regpt2surf.m  \n",
            "  inflating: MCXStudio/MATLAB/iso2mesh/regrouph5.m  \n",
            "  inflating: MCXStudio/MATLAB/iso2mesh/remeshsurf.m  \n",
            "  inflating: MCXStudio/MATLAB/iso2mesh/removedupelem.m  \n",
            "  inflating: MCXStudio/MATLAB/iso2mesh/removedupnodes.m  \n",
            "  inflating: MCXStudio/MATLAB/iso2mesh/removeisolatednode.m  \n",
            "  inflating: MCXStudio/MATLAB/iso2mesh/removeisolatedsurf.m  \n",
            "  inflating: MCXStudio/MATLAB/iso2mesh/rotatevec3d.m  \n",
            "  inflating: MCXStudio/MATLAB/iso2mesh/rotmat2vec.m  \n",
            "  inflating: MCXStudio/MATLAB/iso2mesh/s2m.m  \n",
            "  inflating: MCXStudio/MATLAB/iso2mesh/s2v.m  \n",
            "  inflating: MCXStudio/MATLAB/iso2mesh/saveabaqus.m  \n",
            "  inflating: MCXStudio/MATLAB/iso2mesh/saveasc.m  \n",
            "  inflating: MCXStudio/MATLAB/iso2mesh/savebinstl.m  \n",
            "  inflating: MCXStudio/MATLAB/iso2mesh/savebj.m  \n",
            "  inflating: MCXStudio/MATLAB/iso2mesh/savebnii.m  \n",
            "  inflating: MCXStudio/MATLAB/iso2mesh/savedxf.m  \n",
            "  inflating: MCXStudio/MATLAB/iso2mesh/savegts.m  \n",
            "  inflating: MCXStudio/MATLAB/iso2mesh/saveinr.m  \n",
            "  inflating: MCXStudio/MATLAB/iso2mesh/savejd.m  \n",
            "  inflating: MCXStudio/MATLAB/iso2mesh/savejmesh.m  \n",
            "  inflating: MCXStudio/MATLAB/iso2mesh/savejnifti.m  \n",
            "  inflating: MCXStudio/MATLAB/iso2mesh/savejnii.m  \n",
            "  inflating: MCXStudio/MATLAB/iso2mesh/savejsnirf.m  \n",
            "  inflating: MCXStudio/MATLAB/iso2mesh/savejson.m  \n",
            "  inflating: MCXStudio/MATLAB/iso2mesh/savemedit.m  \n",
            "  inflating: MCXStudio/MATLAB/iso2mesh/savemphtxt.m  \n",
            "  inflating: MCXStudio/MATLAB/iso2mesh/savemsgpack.m  \n",
            "  inflating: MCXStudio/MATLAB/iso2mesh/savemsh.m  \n",
            "  inflating: MCXStudio/MATLAB/iso2mesh/savenifti.m  \n",
            "  inflating: MCXStudio/MATLAB/iso2mesh/savenirfast.m  \n",
            "  inflating: MCXStudio/MATLAB/iso2mesh/saveoff.m  \n",
            "  inflating: MCXStudio/MATLAB/iso2mesh/savesmf.m  \n",
            "  inflating: MCXStudio/MATLAB/iso2mesh/savesnirf.m  \n",
            "  inflating: MCXStudio/MATLAB/iso2mesh/savestl.m  \n",
            "  inflating: MCXStudio/MATLAB/iso2mesh/savesurfpoly.m  \n",
            "  inflating: MCXStudio/MATLAB/iso2mesh/savetetgenele.m  \n",
            "  inflating: MCXStudio/MATLAB/iso2mesh/savetetgennode.m  \n",
            "  inflating: MCXStudio/MATLAB/iso2mesh/saveubjson.m  \n",
            "  inflating: MCXStudio/MATLAB/iso2mesh/savevrml.m  \n",
            "  inflating: MCXStudio/MATLAB/iso2mesh/setjson.m  \n",
            "  inflating: MCXStudio/MATLAB/iso2mesh/slicesurf.m  \n",
            "  inflating: MCXStudio/MATLAB/iso2mesh/slicesurf3.m  \n",
            "  inflating: MCXStudio/MATLAB/iso2mesh/smoothbinvol.m  \n",
            "  inflating: MCXStudio/MATLAB/iso2mesh/smoothsurf.m  \n",
            "  inflating: MCXStudio/MATLAB/iso2mesh/sms.m  \n",
            "  inflating: MCXStudio/MATLAB/iso2mesh/snirfcheck.m  \n",
            "  inflating: MCXStudio/MATLAB/iso2mesh/snirfcreate.m  \n",
            "  inflating: MCXStudio/MATLAB/iso2mesh/snirfdecode.m  \n",
            "  inflating: MCXStudio/MATLAB/iso2mesh/soa2aos.m  \n",
            "  inflating: MCXStudio/MATLAB/iso2mesh/sortmesh.m  \n",
            "  inflating: MCXStudio/MATLAB/iso2mesh/surf2mesh.m  \n",
            "  inflating: MCXStudio/MATLAB/iso2mesh/surf2vol.m  \n",
            "  inflating: MCXStudio/MATLAB/iso2mesh/surf2volz.m  \n",
            "  inflating: MCXStudio/MATLAB/iso2mesh/surfaceclean.m  \n",
            "  inflating: MCXStudio/MATLAB/iso2mesh/surfacenorm.m  \n",
            "  inflating: MCXStudio/MATLAB/iso2mesh/surfboolean.m  \n",
            "  inflating: MCXStudio/MATLAB/iso2mesh/surfdiffuse.m  \n",
            "  inflating: MCXStudio/MATLAB/iso2mesh/surfedge.m  \n",
            "  inflating: MCXStudio/MATLAB/iso2mesh/surfinterior.m  \n",
            "  inflating: MCXStudio/MATLAB/iso2mesh/surfpart.m  \n",
            "  inflating: MCXStudio/MATLAB/iso2mesh/surfplane.m  \n",
            "  inflating: MCXStudio/MATLAB/iso2mesh/surfreorient.m  \n",
            "  inflating: MCXStudio/MATLAB/iso2mesh/surfseeds.m  \n",
            "  inflating: MCXStudio/MATLAB/iso2mesh/surfvolume.m  \n",
            "  inflating: MCXStudio/MATLAB/iso2mesh/thickenbinvol.m  \n",
            "  inflating: MCXStudio/MATLAB/iso2mesh/thinbinvol.m  \n",
            "  inflating: MCXStudio/MATLAB/iso2mesh/uniqedges.m  \n",
            "  inflating: MCXStudio/MATLAB/iso2mesh/uniqfaces.m  \n",
            "  inflating: MCXStudio/MATLAB/iso2mesh/v2m.m  \n",
            "  inflating: MCXStudio/MATLAB/iso2mesh/v2s.m  \n",
            "  inflating: MCXStudio/MATLAB/iso2mesh/varargin2struct.m  \n",
            "  inflating: MCXStudio/MATLAB/iso2mesh/vol2mesh.m  \n",
            "  inflating: MCXStudio/MATLAB/iso2mesh/vol2restrictedtri.m  \n",
            "  inflating: MCXStudio/MATLAB/iso2mesh/vol2surf.m  \n",
            "  inflating: MCXStudio/MATLAB/iso2mesh/volface.m  \n",
            "  inflating: MCXStudio/MATLAB/iso2mesh/volmap2mesh.m  \n",
            "  inflating: MCXStudio/MATLAB/iso2mesh/zlibdecode.m  \n",
            "  inflating: MCXStudio/MATLAB/iso2mesh/zlibencode.m  \n",
            "  inflating: MCXStudio/MATLAB/iso2mesh/zstddecode.m  \n",
            "  inflating: MCXStudio/MATLAB/iso2mesh/zstdencode.m  \n",
            "  inflating: MCXStudio/MATLAB/iso2mesh/.git_filters/rcs-keywords.clean  \n",
            "  inflating: MCXStudio/MATLAB/iso2mesh/.git_filters/rcs-keywords.smudge  \n",
            "  inflating: MCXStudio/MATLAB/iso2mesh/doc/Advanced_Features.txt  \n",
            "  inflating: MCXStudio/MATLAB/iso2mesh/doc/Download_and_License.txt  \n",
            "  inflating: MCXStudio/MATLAB/iso2mesh/doc/FAQ.txt  \n",
            "  inflating: MCXStudio/MATLAB/iso2mesh/doc/Get_Started.txt  \n",
            "  inflating: MCXStudio/MATLAB/iso2mesh/doc/INSTALL.txt  \n",
            "  inflating: MCXStudio/MATLAB/iso2mesh/doc/gendoc.sh  \n",
            "  inflating: MCXStudio/MATLAB/iso2mesh/sample/brain.tif  \n",
            "  inflating: MCXStudio/MATLAB/iso2mesh/sample/brain_seg.tif  \n",
            "  inflating: MCXStudio/MATLAB/iso2mesh/sample/demo_cgalmesher.m  \n",
            "  inflating: MCXStudio/MATLAB/iso2mesh/sample/demo_directplc_ex1.m  \n",
            "  inflating: MCXStudio/MATLAB/iso2mesh/sample/demo_grayscale_ex1.m  \n",
            "  inflating: MCXStudio/MATLAB/iso2mesh/sample/demo_helloworld.m  \n",
            "  inflating: MCXStudio/MATLAB/iso2mesh/sample/demo_insert_nodes.m  \n",
            "  inflating: MCXStudio/MATLAB/iso2mesh/sample/demo_label_sizing.m  \n",
            "  inflating: MCXStudio/MATLAB/iso2mesh/sample/demo_merge_surfaces.m  \n",
            "  inflating: MCXStudio/MATLAB/iso2mesh/sample/demo_mesh_smoothing.m  \n",
            "  inflating: MCXStudio/MATLAB/iso2mesh/sample/demo_qmeshcut_ex1.m  \n",
            "  inflating: MCXStudio/MATLAB/iso2mesh/sample/demo_refine_spherebox_mesh.m  \n",
            "  inflating: MCXStudio/MATLAB/iso2mesh/sample/demo_registration_ex1.m  \n",
            "  inflating: MCXStudio/MATLAB/iso2mesh/sample/demo_registration_ex2.m  \n",
            "  inflating: MCXStudio/MATLAB/iso2mesh/sample/demo_remesh_surface.m  \n",
            "  inflating: MCXStudio/MATLAB/iso2mesh/sample/demo_shortcut_ex1.m  \n",
            "  inflating: MCXStudio/MATLAB/iso2mesh/sample/demo_surf2mesh_ex1.m  \n",
            "  inflating: MCXStudio/MATLAB/iso2mesh/sample/demo_surf2vol_ex1.m  \n",
            "  inflating: MCXStudio/MATLAB/iso2mesh/sample/demo_vol2mesh_ex1.m  \n",
            "  inflating: MCXStudio/MATLAB/iso2mesh/sample/demo_vol2mesh_ex1b.m  \n",
            "  inflating: MCXStudio/MATLAB/iso2mesh/sample/demo_vol2mesh_ex1c.m  \n",
            "  inflating: MCXStudio/MATLAB/iso2mesh/sample/demo_vol2mesh_ex2.m  \n",
            "  inflating: MCXStudio/MATLAB/iso2mesh/sample/demo_vol2mesh_ex3.m  \n",
            "  inflating: MCXStudio/MATLAB/iso2mesh/sample/head.tif  \n",
            " extracting: MCXStudio/MATLAB/iso2mesh/sample/helloworld.png  \n",
            "  inflating: MCXStudio/MATLAB/iso2mesh/sample/helloworld_gray.png  \n",
            "  inflating: MCXStudio/MATLAB/iso2mesh/sample/iso2mesh_bar.tif  \n",
            "  inflating: MCXStudio/MATLAB/iso2mesh/sample/rat_head.mat  \n",
            "  inflating: MCXStudio/MATLAB/iso2mesh/sample/sampledata.mat  \n",
            "  inflating: MCXStudio/MATLAB/iso2mesh/sample/tube_surface.mat  \n",
            "  inflating: MCXStudio/MATLAB/iso2mesh/tools/Makefile  \n",
            "  inflating: MCXStudio/MATLAB/iso2mesh/tools/cgalmesh/CMakeLists.txt  \n",
            "  inflating: MCXStudio/MATLAB/iso2mesh/tools/cgalmesh/mesh_3D_image.cpp  \n",
            "  inflating: MCXStudio/MATLAB/iso2mesh/tools/cgalmesh/mesh_polyhedral_domain.cpp  \n",
            "  inflating: MCXStudio/MATLAB/iso2mesh/tools/cgalsimp2/CMakeLists.txt  \n",
            "  inflating: MCXStudio/MATLAB/iso2mesh/tools/cgalsimp2/edge_collapse_enriched_polyhedron.cpp  \n",
            "  inflating: MCXStudio/MATLAB/iso2mesh/tools/cgalsurf/CMakeLists.txt  \n",
            "  inflating: MCXStudio/MATLAB/iso2mesh/tools/cgalsurf/mesh_a_3d_gray_image.cpp  \n",
            "  inflating: MCXStudio/MATLAB/iso2mesh/tools/commons/Makefile_common.mk  \n",
            "  inflating: MCXStudio/MATLAB/iso2mesh/tools/manpage/cgalmesh.1  \n",
            "  inflating: MCXStudio/MATLAB/iso2mesh/tools/manpage/cgalpoly.1  \n",
            "  inflating: MCXStudio/MATLAB/iso2mesh/tools/manpage/cgalsimp2.1  \n",
            "  inflating: MCXStudio/MATLAB/iso2mesh/tools/manpage/cgalsurf.1  \n",
            "  inflating: MCXStudio/MATLAB/iso2mesh/tools/manpage/cork.1  \n",
            "  inflating: MCXStudio/MATLAB/iso2mesh/tools/manpage/jmeshlib.1  \n",
            "  inflating: MCXStudio/MATLAB/iso2mesh/tools/manpage/meshfix.1  \n",
            "  inflating: MCXStudio/MATLAB/brain2mesh/AUTHORS.txt  \n",
            "  inflating: MCXStudio/MATLAB/brain2mesh/LICENSE.txt  \n",
            "  inflating: MCXStudio/MATLAB/brain2mesh/README.md  \n",
            "  inflating: MCXStudio/MATLAB/brain2mesh/brain1020.m  \n",
            "  inflating: MCXStudio/MATLAB/brain2mesh/brain2mesh.m  \n",
            "  inflating: MCXStudio/MATLAB/brain2mesh/closestnode.m  \n",
            "  inflating: MCXStudio/MATLAB/brain2mesh/intriangulation.m  \n",
            "  inflating: MCXStudio/MATLAB/brain2mesh/label2tpm.m  \n",
            "  inflating: MCXStudio/MATLAB/brain2mesh/layersurf.m  \n",
            "  inflating: MCXStudio/MATLAB/brain2mesh/polylineinterp.m  \n",
            "  inflating: MCXStudio/MATLAB/brain2mesh/polylinelen.m  \n",
            "  inflating: MCXStudio/MATLAB/brain2mesh/polylinesimplify.m  \n",
            "  inflating: MCXStudio/MATLAB/brain2mesh/ray2surf.m  \n",
            "  inflating: MCXStudio/MATLAB/brain2mesh/slicesurf.m  \n",
            "  inflating: MCXStudio/MATLAB/brain2mesh/slicesurf3.m  \n",
            "  inflating: MCXStudio/MATLAB/brain2mesh/tpm2label.m  \n",
            "  inflating: MCXStudio/MATLAB/brain2mesh/examples/SPM_example_brain.m  \n",
            "  inflating: MCXStudio/MATLAB/brain2mesh/examples/SPM_example_wholehead.m  \n",
            "  inflating: MCXStudio/MATLAB/brain2mesh/examples/check_brain2mesh_dependency.m  \n",
            "  inflating: MCXStudio/MATLAB/redbird-m/Redbird-m_manual.pdf  \n",
            "  inflating: MCXStudio/MATLAB/redbird-m/example/demo_redbird_validate_jacobian.m  \n",
            "  inflating: MCXStudio/MATLAB/redbird-m/example/demo_redbird_forward.m  \n",
            "  inflating: MCXStudio/MATLAB/redbird-m/example/demo_redbird_recon.m  \n",
            "  inflating: MCXStudio/MATLAB/redbird-m/example/demo_redbird_basic.m  \n",
            "  inflating: MCXStudio/MATLAB/redbird-m/example/demo_redbird_multispectral.m  \n",
            "  inflating: MCXStudio/MATLAB/redbird-m/matlab/Makefile  \n",
            "  inflating: MCXStudio/MATLAB/redbird-m/matlab/rbaddnoise.m  \n",
            "  inflating: MCXStudio/MATLAB/redbird-m/matlab/rbcreateinv.m  \n",
            "  inflating: MCXStudio/MATLAB/redbird-m/matlab/rbdeldotdel.m  \n",
            "  inflating: MCXStudio/MATLAB/redbird-m/matlab/rbelem2node.m  \n",
            "  inflating: MCXStudio/MATLAB/redbird-m/matlab/rbextinction.m  \n",
            "  inflating: MCXStudio/MATLAB/redbird-m/matlab/rbfemgetdet.m  \n",
            "  inflating: MCXStudio/MATLAB/redbird-m/matlab/rbfemlhs.m  \n",
            "  inflating: MCXStudio/MATLAB/redbird-m/matlab/rbfemmatrix.cpp  \n",
            "  inflating: MCXStudio/MATLAB/redbird-m/matlab/rbfemmatrix.h  \n",
            "  inflating: MCXStudio/MATLAB/redbird-m/matlab/rbfemmatrix.mex  \n",
            "  inflating: MCXStudio/MATLAB/redbird-m/matlab/rbfemmatrix.mexmaci64  \n",
            "  inflating: MCXStudio/MATLAB/redbird-m/matlab/rbfemmatrix.mexw64  \n",
            "  inflating: MCXStudio/MATLAB/redbird-m/matlab/rbfemnz.m  \n",
            "  inflating: MCXStudio/MATLAB/redbird-m/matlab/rbfemrhs.m  \n",
            "  inflating: MCXStudio/MATLAB/redbird-m/matlab/rbfemsolve.m  \n",
            "  inflating: MCXStudio/MATLAB/redbird-m/matlab/rbgetdistance.m  \n",
            "  inflating: MCXStudio/MATLAB/redbird-m/matlab/rbgetoptodes.m  \n",
            "  inflating: MCXStudio/MATLAB/redbird-m/matlab/rbgetreff.m  \n",
            "  inflating: MCXStudio/MATLAB/redbird-m/matlab/rbjac.m  \n",
            "  inflating: MCXStudio/MATLAB/redbird-m/matlab/rbjacchrome.m  \n",
            "  inflating: MCXStudio/MATLAB/redbird-m/matlab/rbjacmuafast.m  \n",
            "  inflating: MCXStudio/MATLAB/redbird-m/matlab/rbjacmus.m  \n",
            "  inflating: MCXStudio/MATLAB/redbird-m/matlab/rbjacnode.m  \n",
            "  inflating: MCXStudio/MATLAB/redbird-m/matlab/rbjacscatamp.m  \n",
            "  inflating: MCXStudio/MATLAB/redbird-m/matlab/rbjacscatpow.m  \n",
            "  inflating: MCXStudio/MATLAB/redbird-m/matlab/rbmatflat.m  \n",
            "  inflating: MCXStudio/MATLAB/redbird-m/matlab/rbmatreform.m  \n",
            "  inflating: MCXStudio/MATLAB/redbird-m/matlab/rbmeshprep.m  \n",
            "  inflating: MCXStudio/MATLAB/redbird-m/matlab/rbnormalizediag.m  \n",
            "  inflating: MCXStudio/MATLAB/redbird-m/matlab/rbplot.m  \n",
            "  inflating: MCXStudio/MATLAB/redbird-m/matlab/rbplotforward.m  \n",
            "  inflating: MCXStudio/MATLAB/redbird-m/matlab/rbplotjacobian.m  \n",
            "  inflating: MCXStudio/MATLAB/redbird-m/matlab/rbregemperical.m  \n",
            "  inflating: MCXStudio/MATLAB/redbird-m/matlab/rbreginv.m  \n",
            "  inflating: MCXStudio/MATLAB/redbird-m/matlab/rbreginvover.m  \n",
            "  inflating: MCXStudio/MATLAB/redbird-m/matlab/rbreginvunder.m  \n",
            "  inflating: MCXStudio/MATLAB/redbird-m/matlab/rbrunforward.m  \n",
            "  inflating: MCXStudio/MATLAB/redbird-m/matlab/rbsdmap.m  \n",
            "  inflating: MCXStudio/MATLAB/redbird-m/matlab/rbsetmesh.m  \n",
            "  inflating: MCXStudio/MATLAB/redbird-m/matlab/rbupdateprop.m  \n",
            "  inflating: MCXStudio/MATLAB/redbird-m/doc/redbird_manual.tex  \n",
            " extracting: MCXStudio/MATLAB/redbird-m/doc/Makefile  \n",
            " extracting: MCXStudio/MATLAB/zmat/.gitmodules  \n",
            "  inflating: MCXStudio/MATLAB/zmat/.miss_hit  \n",
            "  inflating: MCXStudio/MATLAB/zmat/.travis.yml  \n",
            "  inflating: MCXStudio/MATLAB/zmat/AUTHORS.txt  \n",
            "  inflating: MCXStudio/MATLAB/zmat/COPYING  \n",
            "  inflating: MCXStudio/MATLAB/zmat/ChangeLog.txt  \n",
            "  inflating: MCXStudio/MATLAB/zmat/DESCRIPTION  \n",
            " extracting: MCXStudio/MATLAB/zmat/INDEX  \n",
            "  inflating: MCXStudio/MATLAB/zmat/LICENSE.txt  \n",
            "  inflating: MCXStudio/MATLAB/zmat/Makefile  \n",
            "  inflating: MCXStudio/MATLAB/zmat/PKG_ADD  \n",
            "  inflating: MCXStudio/MATLAB/zmat/README.rst  \n",
            "  inflating: MCXStudio/MATLAB/zmat/zmat.m  \n",
            "  inflating: MCXStudio/MATLAB/zmat/zmat.prj  \n",
            "  inflating: MCXStudio/MATLAB/zmat/.github/workflows/run_test.yml  \n",
            "  inflating: MCXStudio/MATLAB/zmat/example/demo_zmat_basic.m  \n",
            "  inflating: MCXStudio/MATLAB/zmat/example/zmat_speedbench.m  \n",
            "  inflating: MCXStudio/MATLAB/zmat/example/c/Makefile  \n",
            "  inflating: MCXStudio/MATLAB/zmat/example/c/testzmat.c  \n",
            "  inflating: MCXStudio/MATLAB/zmat/example/f90/Makefile  \n",
            "  inflating: MCXStudio/MATLAB/zmat/example/f90/testzmat.f90  \n",
            "  inflating: MCXStudio/MATLAB/zmat/fortran90/zmatlib.f90  \n",
            "  inflating: MCXStudio/MATLAB/zmat/images/zmat_media.png  \n",
            " extracting: MCXStudio/MATLAB/zmat/images/zmat_logo.png  \n",
            "  inflating: MCXStudio/MATLAB/zmat/include/zmatlib.h  \n",
            "  inflating: MCXStudio/MATLAB/zmat/test/run_zmat_test.m  \n",
            "  inflating: MCXStudio/MATLAB/zmat/test/test_zmat.m  \n",
            "   creating: MCXStudio/locale/\n",
            "  inflating: MCXStudio/locale/mcxstudio.zh-cn.mo  \n",
            "   creating: MCXStudio/MATLAB/zmat/octave/\n",
            "   creating: MCXStudio/MATLAB/zmat/octave/gnu-linux-x86_64/\n",
            "  inflating: MCXStudio/MATLAB/zmat/octave/gnu-linux-x86_64/zipmat.mex  \n",
            "   creating: MCXStudio/MATLAB/hyperspectral_demo/\n",
            "  inflating: MCXStudio/MATLAB/hyperspectral_demo/SpectralLIBMUmm.mat  \n",
            "  inflating: MCXStudio/MATLAB/hyperspectral_demo/makeTissueList_skin.m  \n",
            "  inflating: MCXStudio/MATLAB/hyperspectral_demo/mcxlab_exec4_draw.m  \n",
            "  inflating: MCXStudio/MATLAB/redbird-m/example/demo_redbird_forward_expert.m  \n",
            "  inflating: MCXStudio/MATLAB/redbird-m/example/demo_redbird_node_vs_elem_prop.m  \n",
            "  inflating: MCXStudio/MATLAB/redbird-m/example/demo_redbird_recon_expert.m  \n",
            "  inflating: MCXStudio/MATLAB/redbird-m/example/demo_redbird_recon_singlemesh.m  \n",
            "  inflating: MCXStudio/MATLAB/redbird-m/example/demo_redbird_recon_widefield.m  \n",
            "  inflating: MCXStudio/MATLAB/redbird-m/example/demo_redbird_rf_recon.m  \n",
            "  inflating: MCXStudio/MATLAB/redbird-m/example/demo_redbird_vs_mcx.m  \n",
            "  inflating: MCXStudio/MATLAB/redbird-m/example/demo_redbird_vs_mcx_pencil.m  \n",
            "  inflating: MCXStudio/MATLAB/redbird-m/example/demo_redbird_widefield.m  \n",
            "  inflating: MCXStudio/MATLAB/redbird-m/matlab/rbfemmatrix.m  \n",
            "  inflating: MCXStudio/MATLAB/redbird-m/matlab/rbgetbulk.m  \n",
            "  inflating: MCXStudio/MATLAB/redbird-m/matlab/rbgetcfg.m  \n",
            "  inflating: MCXStudio/MATLAB/redbird-m/matlab/rbgetltr.m  \n",
            "  inflating: MCXStudio/MATLAB/redbird-m/matlab/rbjacscat.m  \n",
            "  inflating: MCXStudio/MATLAB/redbird-m/matlab/rbmasksum.m  \n",
            "  inflating: MCXStudio/MATLAB/redbird-m/matlab/rbmultispectral.m  \n",
            "  inflating: MCXStudio/MATLAB/redbird-m/matlab/rbmusp2sasp.m  \n",
            "  inflating: MCXStudio/MATLAB/redbird-m/matlab/rbprior.m  \n",
            "  inflating: MCXStudio/MATLAB/redbird-m/matlab/rbrun.m  \n",
            "  inflating: MCXStudio/MATLAB/redbird-m/matlab/rbrunrecon.m  \n",
            "  inflating: MCXStudio/MATLAB/redbird-m/matlab/rbsrc2bc.m  \n",
            "  inflating: MCXStudio/MATLAB/redbird-m/matlab/rbsyncprop.m  \n",
            "  inflating: MCXStudio/MATLAB/redbird-m/example/demo_redbird_prior.m  \n",
            "  inflating: MCXStudio/MATLAB/redbird-m/example/demo_redbird_recon_widefieldrf.m  \n",
            "  inflating: MCXStudio/MATLAB/redbird-m/example/demo_redbird_rfcw.m  \n",
            "  inflating: MCXStudio/MATLAB/redbird-m/matlab/rbmakeL.m  \n",
            "  inflating: MCXStudio/MATLAB/redbird-m/matlab/wfCOM.m  \n",
            "  inflating: MCXStudio/MATLAB/redbird-m/matlab/rbcomputewfcom.m  \n",
            "   creating: MCXStudio/MATLAB/brain2mesh/examples/jnii/\n",
            "  inflating: MCXStudio/MATLAB/brain2mesh/examples/jnii/c1ANTS19-5Years_head.jnii  \n",
            "  inflating: MCXStudio/MATLAB/brain2mesh/examples/jnii/c1ANTS40-44Years_head.jnii  \n",
            "  inflating: MCXStudio/MATLAB/brain2mesh/examples/jnii/c2ANTS19-5Years_head.jnii  \n",
            "  inflating: MCXStudio/MATLAB/brain2mesh/examples/jnii/c2ANTS40-44Years_head.jnii  \n",
            "  inflating: MCXStudio/MATLAB/brain2mesh/examples/jnii/c3ANTS19-5Years_head.jnii  \n",
            "  inflating: MCXStudio/MATLAB/brain2mesh/examples/jnii/c3ANTS40-44Years_head.jnii  \n",
            "  inflating: MCXStudio/MATLAB/brain2mesh/examples/jnii/c4ANTS19-5Years_head.jnii  \n",
            "  inflating: MCXStudio/MATLAB/brain2mesh/examples/jnii/c4ANTS40-44Years_head.jnii  \n",
            "  inflating: MCXStudio/MATLAB/brain2mesh/examples/jnii/c5ANTS19-5Years_head.jnii  \n",
            "  inflating: MCXStudio/MATLAB/brain2mesh/examples/jnii/c5ANTS40-44Years_head.jnii  \n",
            "  inflating: MCXStudio/MATLAB/brain2mesh/examples/jnii/c6ANTS19-5Years_head.jnii  \n",
            "  inflating: MCXStudio/MATLAB/brain2mesh/examples/jnii/c6ANTS40-44Years_head.jnii  \n",
            "   creating: MCXStudio/MCXWorkshop2024pyPlot/\n",
            "  inflating: MCXStudio/MCXWorkshop2024pyPlot/README.md  \n",
            "  inflating: MCXStudio/MCXWorkshop2024pyPlot/__init__.py  \n",
            "  inflating: MCXStudio/MCXWorkshop2024pyPlot/plotting.py  \n",
            "  inflating: MCXStudio/MCXWorkshop2024pyPlot/setup.py  \n",
            "   creating: MCXStudio/MCXWorkshop2024pyPlot/.git/\n",
            "  inflating: MCXStudio/MCXWorkshop2024pyPlot/.git/description  \n",
            "  inflating: MCXStudio/MCXWorkshop2024pyPlot/.git/packed-refs  \n",
            " extracting: MCXStudio/MCXWorkshop2024pyPlot/.git/HEAD  \n",
            "  inflating: MCXStudio/MCXWorkshop2024pyPlot/.git/index  \n",
            "  inflating: MCXStudio/MCXWorkshop2024pyPlot/.git/config  \n",
            "   creating: MCXStudio/MCXWorkshop2024pyPlot/.git/branches/\n",
            "   creating: MCXStudio/MCXWorkshop2024pyPlot/.git/hooks/\n",
            "  inflating: MCXStudio/MCXWorkshop2024pyPlot/.git/hooks/fsmonitor-watchman.sample  \n",
            "  inflating: MCXStudio/MCXWorkshop2024pyPlot/.git/hooks/commit-msg.sample  \n",
            "  inflating: MCXStudio/MCXWorkshop2024pyPlot/.git/hooks/update.sample  \n",
            "  inflating: MCXStudio/MCXWorkshop2024pyPlot/.git/hooks/prepare-commit-msg.sample  \n",
            "  inflating: MCXStudio/MCXWorkshop2024pyPlot/.git/hooks/pre-merge-commit.sample  \n",
            "  inflating: MCXStudio/MCXWorkshop2024pyPlot/.git/hooks/applypatch-msg.sample  \n",
            "  inflating: MCXStudio/MCXWorkshop2024pyPlot/.git/hooks/pre-receive.sample  \n",
            "  inflating: MCXStudio/MCXWorkshop2024pyPlot/.git/hooks/pre-applypatch.sample  \n",
            "  inflating: MCXStudio/MCXWorkshop2024pyPlot/.git/hooks/pre-commit.sample  \n",
            "  inflating: MCXStudio/MCXWorkshop2024pyPlot/.git/hooks/pre-rebase.sample  \n",
            "  inflating: MCXStudio/MCXWorkshop2024pyPlot/.git/hooks/push-to-checkout.sample  \n",
            "  inflating: MCXStudio/MCXWorkshop2024pyPlot/.git/hooks/post-update.sample  \n",
            "  inflating: MCXStudio/MCXWorkshop2024pyPlot/.git/hooks/pre-push.sample  \n",
            "   creating: MCXStudio/MCXWorkshop2024pyPlot/.git/info/\n",
            "  inflating: MCXStudio/MCXWorkshop2024pyPlot/.git/info/exclude  \n",
            "   creating: MCXStudio/MCXWorkshop2024pyPlot/.git/refs/\n",
            "   creating: MCXStudio/MCXWorkshop2024pyPlot/.git/refs/heads/\n",
            " extracting: MCXStudio/MCXWorkshop2024pyPlot/.git/refs/heads/main  \n",
            "   creating: MCXStudio/MCXWorkshop2024pyPlot/.git/refs/tags/\n",
            "   creating: MCXStudio/MCXWorkshop2024pyPlot/.git/refs/remotes/\n",
            "   creating: MCXStudio/MCXWorkshop2024pyPlot/.git/refs/remotes/origin/\n",
            " extracting: MCXStudio/MCXWorkshop2024pyPlot/.git/refs/remotes/origin/HEAD  \n",
            "   creating: MCXStudio/MCXWorkshop2024pyPlot/.git/objects/\n",
            "   creating: MCXStudio/MCXWorkshop2024pyPlot/.git/objects/pack/\n",
            "  inflating: MCXStudio/MCXWorkshop2024pyPlot/.git/objects/pack/pack-fe10d4dda3a1f99f2cdcc322d3398b54c0e808bd.pack  \n",
            "  inflating: MCXStudio/MCXWorkshop2024pyPlot/.git/objects/pack/pack-fe10d4dda3a1f99f2cdcc322d3398b54c0e808bd.idx  \n",
            "   creating: MCXStudio/MCXWorkshop2024pyPlot/.git/objects/info/\n",
            "   creating: MCXStudio/MCXWorkshop2024pyPlot/.git/logs/\n",
            "  inflating: MCXStudio/MCXWorkshop2024pyPlot/.git/logs/HEAD  \n",
            "   creating: MCXStudio/MCXWorkshop2024pyPlot/.git/logs/refs/\n",
            "   creating: MCXStudio/MCXWorkshop2024pyPlot/.git/logs/refs/remotes/\n",
            "   creating: MCXStudio/MCXWorkshop2024pyPlot/.git/logs/refs/remotes/origin/\n",
            "  inflating: MCXStudio/MCXWorkshop2024pyPlot/.git/logs/refs/remotes/origin/HEAD  \n",
            "   creating: MCXStudio/MCXWorkshop2024pyPlot/.git/logs/refs/heads/\n",
            "  inflating: MCXStudio/MCXWorkshop2024pyPlot/.git/logs/refs/heads/main  \n",
            "finishing deferred symbolic links:\n",
            "  MCXStudio/MCXSuite/mcx/example/multipattern/cubic60.json -> ../validation/cubic60.json\n",
            "  MCXStudio/MCXSuite/mcx/example/srctest/4benchmark-planar.json -> ../benchmark/benchmark3.json\n",
            "  MCXStudio/MCXSuite/mcx/example/srctest/0benchmark-pencil.json -> ../benchmark/benchmark1.json\n",
            "  MCXStudio/MATLAB/iso2mesh/bin/tetgen.mexmaci64 -> tetgen1.5.mexmaci64\n",
            "\u001b[34m=============================   GPU Information  ================================\n",
            "\u001b[0mDevice 1 of 1:\t\tTesla T4\n",
            "Compute Capability:\t7.5\n",
            "Global Memory:\t\t15835660288 B\n",
            "Constant Memory:\t65536 B\n",
            "Shared Memory:\t\t49152 B\n",
            "Registers:\t\t65536\n",
            "Clock Speed:\t\t1.59 GHz\n",
            "Number of SMs:\t\t40\n",
            "Number of Cores:\t2560\n",
            "Auto-thread:\t\t81920\n",
            "Auto-block:\t\t64\n"
          ]
        }
      ],
      "source": [
        "!#@title Init 1: Initial setup of environment for running MCXLAB (run the below section once)\n",
        "# install octave and oct2py\n",
        "! sudo apt-get update && sudo apt-get install octave jq libpocl2 pocl-opencl-icd    # install octave (a free matlab clone)\n",
        "! pip install oct2py jdata bjdata matplotlib   # install oct2py, jdata, bjdata and matplotlib Python modules\n",
        "#!apt-get install nvidia-opencl-icd-384        # optional: install nvidia OpenCL(+2min), needed for mmc/mmclab demos later\n",
        "# add octave support to colab notebook\n",
        "%load_ext oct2py.ipython\n",
        "# download and unzip mcxlab\n",
        "! rm -rf mcxlab*\n",
        "! wget https://mcx.space/nightly/release/MCX24/MCXStudio-linux-x86_64-nightlybuild.zip  # download MCX suite\n",
        "! unzip -o MCXStudio-linux-x86_64-nightlybuild.zip && rm -rf MCXStudio-linux-x86_64-nightlybuild.zip # unzip MCX suite\n",
        "\n",
        "# add executable to the shell's paths\n",
        "! sudo cp -a $PWD/MCXStudio/MCXSuite/mcx/bin/mcx /usr/local/bin\n",
        "! sudo cp -a $PWD/MCXStudio/MCXSuite/mcxcl/bin/mcxcl /usr/local/bin\n",
        "! sudo cp -a $PWD/MCXStudio/MCXSuite/mmc/bin/mmc /usr/local/bin\n",
        "# if a GPU runtime can not be allocated, run this section to setup OpenCL and MCXLAB-CL\n",
        "! [[ ! -f `which nvidia-smi` ]] && sudo mv /usr/local/bin/mcxcl /usr/local/bin/mcx\n",
        "! mcx -L"
      ]
    },
    {
      "cell_type": "code",
      "source": [
        "%%octave\n",
        "\n",
        "addpath([pwd filesep 'MCXStudio/MATLAB/redbird-m' filesep 'matlab']); % add path to redbird-m\n",
        "addpath([pwd filesep 'MCXStudio/MATLAB/mcxlab']);                     % add path to mcxlab\n",
        "addpath([pwd filesep 'MCXStudio/MCXSuite/mcx' filesep 'utils']);      % add path to mcx helper functions\n",
        "addpath([pwd filesep 'MCXStudio/MATLAB/mmclab']);                     % add path to mmclab\n",
        "addpath([pwd filesep 'MCXStudio/MCXSuite/mmc' filesep 'matlab']);     % add path to mmc helper functions\n",
        "addpath([pwd filesep 'MCXStudio/MATLAB/iso2mesh']);                   % add path to iso2mesh/jsonlab\n",
        "addpath([pwd filesep 'MCXStudio/MATLAB/brain2mesh']);                 % add path to brain2mesh\n",
        "addpath([pwd filesep 'MCXStudio/MATLAB/zmat']);                       % add path to zmat for data compression\n",
        "\n",
        "if(system('which nvidia-smi'))                   % if this runtime does not have NVIDIA GPU support\n",
        "    addpath([pwd filesep 'MCXStudio/MATLAB/mcxlabcl']);    % add path to mcxlabcl\n",
        "    USE_MCXCL=1;                                 % set USE_MCXCL flag in the base workspace\n",
        "end"
      ],
      "metadata": {
        "id": "VTHeNUdJF-ZE",
        "colab": {
          "base_uri": "https://localhost:8080/",
          "height": 34
        },
        "outputId": "cb639b69-a09b-4ed3-c4e9-682a782110f1"
      },
      "execution_count": 2,
      "outputs": [
        {
          "output_type": "display_data",
          "data": {
            "text/plain": [
              "/opt/bin/nvidia-smi"
            ]
          },
          "metadata": {}
        }
      ]
    },
    {
      "cell_type": "markdown",
      "source": [
        "## Forward validation of Redbird-m\n",
        "\n",
        "In this section, we compare the forward solutions produced by Redbird-m and mcx to validate that both toolboxes produce similar results.\n",
        "\n",
        "We show you examples of the forward solutions produced on a homogeneous domain using a single point source or an array of wide-field patterns.\n",
        "\n",
        "In general, Redbird-m and mmclab (as well as mcxlab) share a similar data structure - i.e. the simulation settings are passed onto redbird functions in the form a MATLAB/Octave `struct` object, similar to the `cfg` struct we discussed in earlier sessions."
      ],
      "metadata": {
        "id": "9ed4fNORmZM3"
      }
    },
    {
      "cell_type": "markdown",
      "source": [
        "### Single point-source forward validation\n",
        "In the below example we prepare the general setting for running a forward simulation of a homogeneous domain using a single point source for both Redbird-m and MCX."
      ],
      "metadata": {
        "id": "WGhG-xvvnQHl"
      }
    },
    {
      "cell_type": "markdown",
      "source": [
        "#### Define general parameters for Redbird-m single point-source forward simulation"
      ],
      "metadata": {
        "id": "MSSdN-RtpMDE"
      }
    },
    {
      "cell_type": "code",
      "source": [
        "%%octave\n",
        "\n",
        "clear cfg0\n",
        "clc\n",
        "\n",
        "% Generate homogeneous domain\n",
        "domsz   = [50 50 40]; % Domain size\n",
        "resmesh = 2;\n",
        "[nobbx,elembbx] = meshgrid5(0:resmesh:domsz(1),0:resmesh:domsz(2),0:resmesh:domsz(3)); % Meshbox domain (in mm)\n",
        "fcbbx   = volface(elembbx);\n",
        "[cfg0.node, cfg0.elem] = s2m(nobbx,fcbbx(:,1:3),1,25,'tetgen1.5',[11 1 1]); % Generate measured/real heterogeneous domain\n",
        "cfg0.elem = cfg0.elem(:,1:4);\n",
        "clear nobbx elembbx fcbbx\n",
        "cfg0.seg = ones(size(cfg0.elem,1),1);\n",
        "\n",
        "% Visualize domain\n",
        "figure, plotmesh(cfg0.node, cfg0.elem,'y>25')\n",
        "\n",
        "% General settings for RB simulations\n",
        "cfg0.prop  = [0       0 1 1   ; ...\n",
        "              0.006 0.8 0 1.37];\n",
        "\n",
        "% Define RB point source simulation parameters\n",
        "cfg0.srcpos = [24.5 24.5 0];\n",
        "cfg0.srcdir = [0 0  1];\n",
        "cfg0.detpos = [34.5 24.5 domsz(3)];\n",
        "cfg0.detdir = [0 0 -1];\n",
        "\n",
        "cfg = cfg0;\n",
        "[cfg0,sd0] = rbmeshprep(cfg0);\n",
        "\n",
        "% Run RB forward simulation\n",
        "[detphi0,phi0] = rbrunforward(cfg0,'sd',sd0);\n"
      ],
      "metadata": {
        "colab": {
          "base_uri": "https://localhost:8080/",
          "height": 489
        },
        "id": "egy2dsq6GLKY",
        "outputId": "bf21faa8-5a02-432a-a05b-36068f390764"
      },
      "execution_count": 3,
      "outputs": [
        {
          "output_type": "display_data",
          "data": {
            "text/plain": [
              "generating tetrahedral mesh from closed surfaces ..."
            ]
          },
          "metadata": {}
        },
        {
          "output_type": "display_data",
          "data": {
            "text/plain": [
              "creating volumetric mesh from a surface mesh ..."
            ]
          },
          "metadata": {}
        },
        {
          "output_type": "display_data",
          "data": {
            "text/plain": [
              "volume mesh generation is complete"
            ]
          },
          "metadata": {}
        },
        {
          "output_type": "display_data",
          "data": {
            "image/png": "[encoded data removed]",
            "text/plain": [
              "<IPython.core.display.Image object>"
            ]
          },
          "metadata": {}
        }
      ]
    },
    {
      "cell_type": "markdown",
      "source": [
        "#### Define general parameters for MCX single point-source forward simulation"
      ],
      "metadata": {
        "id": "UN0gqWFgpVvc"
      }
    },
    {
      "cell_type": "code",
      "source": [
        "%%octave\n",
        "\n",
        "clear xcfg\n",
        "clc\n",
        "\n",
        "xcfg.nphoton    = 1e8;\n",
        "xcfg.vol        = uint8(ones(domsz));\n",
        "xcfg.gpuid      = 1;\n",
        "xcfg.autopilot  = 1;\n",
        "xcfg.prop       = cfg0.prop;\n",
        "xcfg.tstart     = 0;\n",
        "xcfg.tend       = 5e-9;\n",
        "xcfg.tstep      = 5e-9;\n",
        "xcfg.seed       = 99999;\n",
        "xcfg.issrcfrom0 = 0;\n",
        "xcfg.isreflect  = 1;\n",
        "xcfg.unitinmm   = 1;\n",
        "\n",
        "% Define MCX point source forward simulation\n",
        "xcfg.srcpos     = [25 25 0];\n",
        "xcfg.srcdir     = [0 0 1];\n",
        "\n",
        "% Run MCX forward simulation\n",
        "flux = mcxlab(xcfg);\n",
        "fcw  = flux.data*xcfg.tstep;\n"
      ],
      "metadata": {
        "id": "IfEm7xcnHVZV",
        "colab": {
          "base_uri": "https://localhost:8080/",
          "height": 885
        },
        "outputId": "65de6104-6154-4ed4-a29e-1b31e6120caf"
      },
      "execution_count": 7,
      "outputs": [
        {
          "output_type": "display_data",
          "data": {
            "text/plain": [
              "Launching MCXLAB - Monte Carlo eXtreme for MATLAB & GNU Octave ..."
            ]
          },
          "metadata": {}
        },
        {
          "output_type": "display_data",
          "data": {
            "text/plain": [
              "Running simulations for configuration #1 ..."
            ]
          },
          "metadata": {}
        },
        {
          "output_type": "display_data",
          "data": {
            "text/plain": [
              "mcx.nphoton=1e+08;"
            ]
          },
          "metadata": {}
        },
        {
          "output_type": "display_data",
          "data": {
            "text/plain": [
              "mcx.dim=[50 50 40];"
            ]
          },
          "metadata": {}
        },
        {
          "output_type": "display_data",
          "data": {
            "text/plain": [
              "mcx.mediabyte=1;"
            ]
          },
          "metadata": {}
        },
        {
          "output_type": "display_data",
          "data": {
            "text/plain": [
              "mcx.gpuid=1;"
            ]
          },
          "metadata": {}
        },
        {
          "output_type": "display_data",
          "data": {
            "text/plain": [
              "mcx.autopilot=1;"
            ]
          },
          "metadata": {}
        },
        {
          "output_type": "display_data",
          "data": {
            "text/plain": [
              "mcx.medianum=2;"
            ]
          },
          "metadata": {}
        },
        {
          "output_type": "display_data",
          "data": {
            "text/plain": [
              "mcx.tstart=0;"
            ]
          },
          "metadata": {}
        },
        {
          "output_type": "display_data",
          "data": {
            "text/plain": [
              "mcx.tend=5e-09;"
            ]
          },
          "metadata": {}
        },
        {
          "output_type": "display_data",
          "data": {
            "text/plain": [
              "mcx.tstep=5e-09;"
            ]
          },
          "metadata": {}
        },
        {
          "output_type": "display_data",
          "data": {
            "text/plain": [
              "mcx.seed=99999;"
            ]
          },
          "metadata": {}
        },
        {
          "output_type": "display_data",
          "data": {
            "text/plain": [
              "mcx.issrcfrom0=0;"
            ]
          },
          "metadata": {}
        },
        {
          "output_type": "display_data",
          "data": {
            "text/plain": [
              "mcx.isreflect=1;"
            ]
          },
          "metadata": {}
        },
        {
          "output_type": "display_data",
          "data": {
            "text/plain": [
              "mcx.unitinmm=1;"
            ]
          },
          "metadata": {}
        },
        {
          "output_type": "display_data",
          "data": {
            "text/plain": [
              "mcx.srcpos=[25 25 0 1];"
            ]
          },
          "metadata": {}
        },
        {
          "output_type": "display_data",
          "data": {
            "text/plain": [
              "mcx.srcdir=[0 0 1 0];"
            ]
          },
          "metadata": {}
        },
        {
          "output_type": "display_data",
          "data": {
            "text/plain": [
              "###############################################################################"
            ]
          },
          "metadata": {}
        },
        {
          "output_type": "display_data",
          "data": {
            "text/plain": [
              "#                      Monte Carlo eXtreme (MCX) -- CUDA                      #"
            ]
          },
          "metadata": {}
        },
        {
          "output_type": "display_data",
          "data": {
            "text/plain": [
              "#          Copyright (c) 2009-2024 Qianqian Fang <q.fang at neu.edu>          #"
            ]
          },
          "metadata": {}
        },
        {
          "output_type": "display_data",
          "data": {
            "text/plain": [
              "#                https://mcx.space/  &  https://neurojson.io/                 #"
            ]
          },
          "metadata": {}
        },
        {
          "output_type": "display_data",
          "data": {
            "text/plain": [
              "#                                                                             #"
            ]
          },
          "metadata": {}
        },
        {
          "output_type": "display_data",
          "data": {
            "text/plain": [
              "# Computational Optics & Translational Imaging (COTI) Lab- http://fanglab.org #"
            ]
          },
          "metadata": {}
        },
        {
          "output_type": "display_data",
          "data": {
            "text/plain": [
              "#   Department of Bioengineering, Northeastern University, Boston, MA, USA    #"
            ]
          },
          "metadata": {}
        },
        {
          "output_type": "display_data",
          "data": {
            "text/plain": [
              "###############################################################################"
            ]
          },
          "metadata": {}
        },
        {
          "output_type": "display_data",
          "data": {
            "text/plain": [
              "#    The MCX Project is funded by the NIH/NIGMS under grant R01-GM114365      #"
            ]
          },
          "metadata": {}
        },
        {
          "output_type": "display_data",
          "data": {
            "text/plain": [
              "###############################################################################"
            ]
          },
          "metadata": {}
        },
        {
          "output_type": "display_data",
          "data": {
            "text/plain": [
              "#  Open-source codes and reusable scientific data are essential for research, #"
            ]
          },
          "metadata": {}
        },
        {
          "output_type": "display_data",
          "data": {
            "text/plain": [
              "# MCX proudly developed human-readable JSON-based data formats for easy reuse.#"
            ]
          },
          "metadata": {}
        },
        {
          "output_type": "display_data",
          "data": {
            "text/plain": [
              "#                                                                             #"
            ]
          },
          "metadata": {}
        },
        {
          "output_type": "display_data",
          "data": {
            "text/plain": [
              "#Please visit our free scientific data sharing portal at https://neurojson.io/#"
            ]
          },
          "metadata": {}
        },
        {
          "output_type": "display_data",
          "data": {
            "text/plain": [
              "# and consider sharing your public datasets in standardized JSON/JData format #"
            ]
          },
          "metadata": {}
        },
        {
          "output_type": "display_data",
          "data": {
            "text/plain": [
              "###############################################################################"
            ]
          },
          "metadata": {}
        },
        {
          "output_type": "display_data",
          "data": {
            "text/plain": [
              "$Rev::f959c7$v2024.6 $Date::2024-06-22 15:23:34 -04$ by $Author::Qianqian Fang$"
            ]
          },
          "metadata": {}
        },
        {
          "output_type": "display_data",
          "data": {
            "text/plain": [
              "###############################################################################"
            ]
          },
          "metadata": {}
        },
        {
          "output_type": "display_data",
          "data": {
            "text/plain": [
              "- code name: [Jumbo Jolt] compiled by nvcc [9.0] for CUDA-arch [350] on [Jun 26 2024]"
            ]
          },
          "metadata": {}
        },
        {
          "output_type": "display_data",
          "data": {
            "text/plain": [
              "- compiled with: RNG [xorshift128+] with Seed Length [4]"
            ]
          },
          "metadata": {}
        },
        {
          "output_type": "display_data",
          "data": {
            "text/plain": []
          },
          "metadata": {}
        },
        {
          "output_type": "display_data",
          "data": {
            "text/plain": [
              "GPU=1 (Tesla T4) threadph=1220 extra=57600 np=100000000 nthread=81920 maxgate=1 repetition=1"
            ]
          },
          "metadata": {}
        },
        {
          "output_type": "display_data",
          "data": {
            "text/plain": [
              "initializing streams ...\tinit complete : 0 ms"
            ]
          },
          "metadata": {}
        },
        {
          "output_type": "display_data",
          "data": {
            "text/plain": [
              "requesting 1280 bytes of shared memory"
            ]
          },
          "metadata": {}
        },
        {
          "output_type": "display_data",
          "data": {
            "text/plain": [
              "launching MCX simulation for time window [0.00e+00ns 5.00e+00ns] ..."
            ]
          },
          "metadata": {}
        },
        {
          "output_type": "display_data",
          "data": {
            "text/plain": [
              "simulation run# 1 ..."
            ]
          },
          "metadata": {}
        },
        {
          "output_type": "display_data",
          "data": {
            "text/plain": [
              "kernel complete:  \t3336 ms"
            ]
          },
          "metadata": {}
        },
        {
          "output_type": "display_data",
          "data": {
            "text/plain": [
              "retrieving fields ... \ttransfer complete:\t3338 ms"
            ]
          },
          "metadata": {}
        },
        {
          "output_type": "display_data",
          "data": {
            "text/plain": [
              "normalizing raw data ...\tsource 1, normalization factor alpha=2.000000"
            ]
          },
          "metadata": {}
        },
        {
          "output_type": "display_data",
          "data": {
            "text/plain": [
              "data normalization complete : 3342 ms"
            ]
          },
          "metadata": {}
        },
        {
          "output_type": "display_data",
          "data": {
            "text/plain": [
              "simulated 100000000 photons (100000000) with 81920 threads (repeat x1)"
            ]
          },
          "metadata": {}
        },
        {
          "output_type": "display_data",
          "data": {
            "text/plain": [
              "MCX simulation speed: 30385.90 photon/ms"
            ]
          },
          "metadata": {}
        },
        {
          "output_type": "display_data",
          "data": {
            "text/plain": [
              "total simulated energy: 100000000.00\tabsorbed: 30.53019%"
            ]
          },
          "metadata": {}
        },
        {
          "output_type": "display_data",
          "data": {
            "text/plain": [
              "(loss due to initial specular reflection is excluded in the total)"
            ]
          },
          "metadata": {}
        }
      ]
    },
    {
      "cell_type": "markdown",
      "source": [
        "#### Compare MCX & Redbird-m solutions for single point-source solutions"
      ],
      "metadata": {
        "id": "_Df7mckFpyCs"
      }
    },
    {
      "cell_type": "code",
      "source": [
        "%%octave\n",
        "\n",
        "clc\n",
        "\n",
        "if isfield(cfg0,'srcpos0')\n",
        "  zslice = cfg0.srcpos0(1)+1;\n",
        "else\n",
        "  zslice = cfg0.srcpos(1)+1;\n",
        "end\n",
        "clim = [-8 0];\n",
        "\n",
        "clc\n",
        "figure,\n",
        "subplot(2,2,1)\n",
        "contourf(xi,yi,rot90(log10(abs(squeeze(fcw(:,xcfg.srcpos(2),:)))),-1),clines,'r-','LineWidth',2)\n",
        "set(gca,'xlim',[0 domsz(1)],'ylim',[0 domsz(3)],'YDir','Normal','XDir','Reverse')\n",
        "axis equal\n",
        "axis tight\n",
        "colorbar\n",
        "caxis([clim(1) clim(2)])\n",
        "title('MCX solution');\n",
        "\n",
        "subplot(2,2,2)\n",
        "plotmesh([cfg0.node full(log10(phi0(:,1)))],cfg0.elem,char(strcat('x>',num2str(zslice))))\n",
        "view([-1 0 0]);\n",
        "shading interp;\n",
        "colorbar;\n",
        "caxis([clim(1) clim(2)])\n",
        "title('Redbird solution');\n",
        "\n",
        "\n",
        "subplot(2,2,3:4)\n",
        "clines = 0:-0.5:-8;\n",
        "[xi,yi] = meshgrid(0.5:domsz(1)-0.5,0.5:domsz(3)-0.5);\n",
        "[cutpos,cutvalue,facedata] = qmeshcut(cfg0.elem,cfg0.node,phi0(:,1),char(strcat('x=',num2str(zslice))));\n",
        "vphi = griddata(cutpos(:,2),cutpos(:,3),cutvalue,xi+0.5,yi+0.5);\n",
        "\n",
        "[c,h] = contour(xi,yi,log10(vphi),clines,'r-','LineWidth',2);\n",
        "cwf   = squeeze(fcw(xcfg.srcpos(1),:,:,1))';\n",
        "hold on,contour(xi,yi,log10(cwf),clines,'b-','LineWidth',2);\n",
        "legend('RedBird','MCX')\n"
      ],
      "metadata": {
        "colab": {
          "base_uri": "https://localhost:8080/",
          "height": 454
        },
        "id": "On-58-rMHvtf",
        "outputId": "2f4526ba-ed4c-4db9-b614-7204509988e1"
      },
      "execution_count": 8,
      "outputs": [
        {
          "output_type": "display_data",
          "data": {
            "text/plain": [
              "ans = -16.025"
            ]
          },
          "metadata": {}
        },
        {
          "output_type": "display_data",
          "data": {
            "image/png": "[encoded data removed]",
            "text/plain": [
              "<IPython.core.display.Image object>"
            ]
          },
          "metadata": {}
        }
      ]
    },
    {
      "cell_type": "markdown",
      "source": [
        "### Wide-field source forward validation\n",
        "In the below example we prepare the general setting for running a forward simulation of a homogeneous domain using a set of sliding-bar source patterns for both Redbird-m and MCX."
      ],
      "metadata": {
        "id": "QFu9EBpXrABo"
      }
    },
    {
      "cell_type": "markdown",
      "source": [
        "#### Define general parameters for Redbird-m wide-field source forward simulation\n",
        "\n",
        "In this section we first generate a 50x50x40 mm homogeneous mesh; then we create a set of 16 sliding-bar source patterns (8 in x-direction and 8 in y-direction) and run the forward simulation in Redbirm-m."
      ],
      "metadata": {
        "id": "8BWvR0GgrUVT"
      }
    },
    {
      "cell_type": "code",
      "source": [
        "%%octave\n",
        "\n",
        "clear cfg0\n",
        "clc\n",
        "\n",
        "% Generate homogeneous domain\n",
        "domsz   = [50 50 40]; % Domain size\n",
        "resmesh = 2;\n",
        "[nobbx,elembbx] = meshgrid5(0:resmesh:domsz(1),0:resmesh:domsz(2),0:resmesh:domsz(3)); % Meshbox domain (in mm)\n",
        "fcbbx   = volface(elembbx);\n",
        "[cfg0.node, cfg0.elem] = s2m(nobbx,fcbbx(:,1:3),1,25,'tetgen1.5',[11 1 1]); % Generate measured/real heterogeneous domain\n",
        "cfg0.elem = cfg0.elem(:,1:4);\n",
        "clear nobbx elembbx fcbbx\n",
        "cfg0.seg = ones(size(cfg0.elem,1),1);\n",
        "\n",
        "% Visualize domain\n",
        "figure, plotmesh(cfg0.node, cfg0.elem,'y>25')\n",
        "\n",
        "% General settings for RB simulations\n",
        "cfg0.prop  = [0       0 1 1   ; ...\n",
        "              0.006 0.8 0 1.37];\n",
        "\n",
        "% Define RB wide-field source simulation parameters\n",
        "nBarpats   = 4; % Number of bar patterns in x/y directions\n",
        "srcpattern = diag(ones(1,nBarpats));\n",
        "srcpattern = permute(repmat(srcpattern,[1,1,size(srcpattern, 1)]),[2 3 1]);\n",
        "srcpattern = cat(3,srcpattern,permute(srcpattern,[2 1 3]));\n",
        "detpattern = srcpattern;\n",
        "cfg0.srctype    = 'pattern';\n",
        "cfg0.srcpattern = srcpattern;\n",
        "cfg0.srcpos     = [9.5 9.5 0];\n",
        "cfg0.srcparam1  = [ 30   0 0 0];\n",
        "cfg0.srcparam2  = [  0  30 0 0];\n",
        "cfg0.srcdir     = [  0   0 1];\n",
        "cfg0.srcweight  = ones(1,nBarpats);\n",
        "cfg0.dettype    = 'pattern';\n",
        "cfg0.detpattern = detpattern;\n",
        "cfg0.detpos     = [9.5 9.5 domsz(3)];\n",
        "cfg0.detparam1  = [ 30   0  0 0];\n",
        "cfg0.detparam2  = [  0  30  0 0];\n",
        "cfg0.detdir     = [  0   0 -1];\n",
        "cfg0.detweight  = ones(1,nBarpats);\n",
        "\n",
        "cfg = cfg0;\n",
        "[cfg0,sd0] = rbmeshprep(cfg0);\n",
        "\n",
        "% Run RB forward simulation\n",
        "[detphi0,phi0] = rbrunforward(cfg0,'sd',sd0);"
      ],
      "metadata": {
        "colab": {
          "base_uri": "https://localhost:8080/",
          "height": 489
        },
        "id": "dMzqCzddrX7-",
        "outputId": "9e93993d-d6f4-44f5-be20-dad99ad62959"
      },
      "execution_count": 9,
      "outputs": [
        {
          "output_type": "display_data",
          "data": {
            "text/plain": [
              "generating tetrahedral mesh from closed surfaces ..."
            ]
          },
          "metadata": {}
        },
        {
          "output_type": "display_data",
          "data": {
            "text/plain": [
              "creating volumetric mesh from a surface mesh ..."
            ]
          },
          "metadata": {}
        },
        {
          "output_type": "display_data",
          "data": {
            "text/plain": [
              "volume mesh generation is complete"
            ]
          },
          "metadata": {}
        },
        {
          "output_type": "display_data",
          "data": {
            "image/png": "[encoded data removed]",
            "text/plain": [
              "<IPython.core.display.Image object>"
            ]
          },
          "metadata": {}
        }
      ]
    },
    {
      "cell_type": "markdown",
      "source": [
        "#### Define general parameters for MCX wide-field source forward simulation\n",
        "\n",
        "In this section we first generate a 50x50x40 mm homogeneous voxelized domain; then we create a set of 16 sliding-bar source patterns (8 in x-direction and 8 in y-direction) and rn=un the forward simulation in MCX."
      ],
      "metadata": {
        "id": "Q3303Ja0sizb"
      }
    },
    {
      "cell_type": "code",
      "source": [
        "%%octave\n",
        "\n",
        "clear xcfg\n",
        "clc\n",
        "\n",
        "xcfg.nphoton    = 1e8;\n",
        "xcfg.vol        = uint8(ones(domsz));\n",
        "xcfg.gpuid      = 1;\n",
        "xcfg.autopilot  = 1;\n",
        "xcfg.prop       = cfg0.prop;\n",
        "xcfg.tstart     = 0;\n",
        "xcfg.tend       = 5e-9;\n",
        "xcfg.tstep      = 5e-9;\n",
        "xcfg.seed       = 99999;\n",
        "xcfg.issrcfrom0 = 0;\n",
        "xcfg.isreflect  = 1;\n",
        "xcfg.unitinmm   = 1;\n",
        "\n",
        "% Define MCX wide-field source forward simulation\n",
        "xcfg.srctype    = 'pattern';\n",
        "xcfg.srcpattern = permute(srcpattern,[3 1 2]);\n",
        "xcfg.srcnum     = size(srcpattern,3);\n",
        "xcfg.srcdir     = [0 0 1];\n",
        "xcfg.srcpos     = [10 10 0];\n",
        "xcfg.srcparam1  = [30  0 0 size(srcpattern,1)];\n",
        "xcfg.srcparam2  = [ 0 30 0 size(srcpattern,2)];\n",
        "xcfg.outputtype = 'fluence';\n",
        "\n",
        "% Run MCX forward simulation\n",
        "flux = mcxlab(xcfg);\n",
        "fcw  = flux.data;"
      ],
      "metadata": {
        "colab": {
          "base_uri": "https://localhost:8080/",
          "height": 1000
        },
        "id": "K35rMvRVsc9E",
        "outputId": "1f6a0d9e-601a-45be-cee0-77137fb30bc3"
      },
      "execution_count": 11,
      "outputs": [
        {
          "output_type": "display_data",
          "data": {
            "text/plain": [
              "Launching MCXLAB - Monte Carlo eXtreme for MATLAB & GNU Octave ..."
            ]
          },
          "metadata": {}
        },
        {
          "output_type": "display_data",
          "data": {
            "text/plain": [
              "Running simulations for configuration #1 ..."
            ]
          },
          "metadata": {}
        },
        {
          "output_type": "display_data",
          "data": {
            "text/plain": [
              "mcx.nphoton=1e+08;"
            ]
          },
          "metadata": {}
        },
        {
          "output_type": "display_data",
          "data": {
            "text/plain": [
              "mcx.dim=[50 50 40];"
            ]
          },
          "metadata": {}
        },
        {
          "output_type": "display_data",
          "data": {
            "text/plain": [
              "mcx.mediabyte=1;"
            ]
          },
          "metadata": {}
        },
        {
          "output_type": "display_data",
          "data": {
            "text/plain": [
              "mcx.gpuid=1;"
            ]
          },
          "metadata": {}
        },
        {
          "output_type": "display_data",
          "data": {
            "text/plain": [
              "mcx.autopilot=1;"
            ]
          },
          "metadata": {}
        },
        {
          "output_type": "display_data",
          "data": {
            "text/plain": [
              "mcx.medianum=2;"
            ]
          },
          "metadata": {}
        },
        {
          "output_type": "display_data",
          "data": {
            "text/plain": [
              "mcx.tstart=0;"
            ]
          },
          "metadata": {}
        },
        {
          "output_type": "display_data",
          "data": {
            "text/plain": [
              "mcx.tend=5e-09;"
            ]
          },
          "metadata": {}
        },
        {
          "output_type": "display_data",
          "data": {
            "text/plain": [
              "mcx.tstep=5e-09;"
            ]
          },
          "metadata": {}
        },
        {
          "output_type": "display_data",
          "data": {
            "text/plain": [
              "mcx.seed=99999;"
            ]
          },
          "metadata": {}
        },
        {
          "output_type": "display_data",
          "data": {
            "text/plain": [
              "mcx.issrcfrom0=0;"
            ]
          },
          "metadata": {}
        },
        {
          "output_type": "display_data",
          "data": {
            "text/plain": [
              "mcx.isreflect=1;"
            ]
          },
          "metadata": {}
        },
        {
          "output_type": "display_data",
          "data": {
            "text/plain": [
              "mcx.unitinmm=1;"
            ]
          },
          "metadata": {}
        },
        {
          "output_type": "display_data",
          "data": {
            "text/plain": [
              "mcx.srctype='pattern';"
            ]
          },
          "metadata": {}
        },
        {
          "output_type": "display_data",
          "data": {
            "text/plain": [
              "mcx.srcpattern=[8 4 4];"
            ]
          },
          "metadata": {}
        },
        {
          "output_type": "display_data",
          "data": {
            "text/plain": [
              "mcx.srcnum=8;"
            ]
          },
          "metadata": {}
        },
        {
          "output_type": "display_data",
          "data": {
            "text/plain": [
              "mcx.srcdir=[0 0 1 0];"
            ]
          },
          "metadata": {}
        },
        {
          "output_type": "display_data",
          "data": {
            "text/plain": [
              "mcx.srcpos=[10 10 0 1];"
            ]
          },
          "metadata": {}
        },
        {
          "output_type": "display_data",
          "data": {
            "text/plain": [
              "mcx.srcparam1=[30 0 0 4];"
            ]
          },
          "metadata": {}
        },
        {
          "output_type": "display_data",
          "data": {
            "text/plain": [
              "mcx.srcparam2=[0 30 0 4];"
            ]
          },
          "metadata": {}
        },
        {
          "output_type": "display_data",
          "data": {
            "text/plain": [
              "mcx.outputtype='fluence';"
            ]
          },
          "metadata": {}
        },
        {
          "output_type": "display_data",
          "data": {
            "text/plain": [
              "###############################################################################"
            ]
          },
          "metadata": {}
        },
        {
          "output_type": "display_data",
          "data": {
            "text/plain": [
              "#                      Monte Carlo eXtreme (MCX) -- CUDA                      #"
            ]
          },
          "metadata": {}
        },
        {
          "output_type": "display_data",
          "data": {
            "text/plain": [
              "#          Copyright (c) 2009-2024 Qianqian Fang <q.fang at neu.edu>          #"
            ]
          },
          "metadata": {}
        },
        {
          "output_type": "display_data",
          "data": {
            "text/plain": [
              "#                https://mcx.space/  &  https://neurojson.io/                 #"
            ]
          },
          "metadata": {}
        },
        {
          "output_type": "display_data",
          "data": {
            "text/plain": [
              "#                                                                             #"
            ]
          },
          "metadata": {}
        },
        {
          "output_type": "display_data",
          "data": {
            "text/plain": [
              "# Computational Optics & Translational Imaging (COTI) Lab- http://fanglab.org #"
            ]
          },
          "metadata": {}
        },
        {
          "output_type": "display_data",
          "data": {
            "text/plain": [
              "#   Department of Bioengineering, Northeastern University, Boston, MA, USA    #"
            ]
          },
          "metadata": {}
        },
        {
          "output_type": "display_data",
          "data": {
            "text/plain": [
              "###############################################################################"
            ]
          },
          "metadata": {}
        },
        {
          "output_type": "display_data",
          "data": {
            "text/plain": [
              "#    The MCX Project is funded by the NIH/NIGMS under grant R01-GM114365      #"
            ]
          },
          "metadata": {}
        },
        {
          "output_type": "display_data",
          "data": {
            "text/plain": [
              "###############################################################################"
            ]
          },
          "metadata": {}
        },
        {
          "output_type": "display_data",
          "data": {
            "text/plain": [
              "#  Open-source codes and reusable scientific data are essential for research, #"
            ]
          },
          "metadata": {}
        },
        {
          "output_type": "display_data",
          "data": {
            "text/plain": [
              "# MCX proudly developed human-readable JSON-based data formats for easy reuse.#"
            ]
          },
          "metadata": {}
        },
        {
          "output_type": "display_data",
          "data": {
            "text/plain": [
              "#                                                                             #"
            ]
          },
          "metadata": {}
        },
        {
          "output_type": "display_data",
          "data": {
            "text/plain": [
              "#Please visit our free scientific data sharing portal at https://neurojson.io/#"
            ]
          },
          "metadata": {}
        },
        {
          "output_type": "display_data",
          "data": {
            "text/plain": [
              "# and consider sharing your public datasets in standardized JSON/JData format #"
            ]
          },
          "metadata": {}
        },
        {
          "output_type": "display_data",
          "data": {
            "text/plain": [
              "###############################################################################"
            ]
          },
          "metadata": {}
        },
        {
          "output_type": "display_data",
          "data": {
            "text/plain": [
              "$Rev::f959c7$v2024.6 $Date::2024-06-22 15:23:34 -04$ by $Author::Qianqian Fang$"
            ]
          },
          "metadata": {}
        },
        {
          "output_type": "display_data",
          "data": {
            "text/plain": [
              "###############################################################################"
            ]
          },
          "metadata": {}
        },
        {
          "output_type": "display_data",
          "data": {
            "text/plain": [
              "- code name: [Jumbo Jolt] compiled by nvcc [9.0] for CUDA-arch [350] on [Jun 26 2024]"
            ]
          },
          "metadata": {}
        },
        {
          "output_type": "display_data",
          "data": {
            "text/plain": [
              "- compiled with: RNG [xorshift128+] with Seed Length [4]"
            ]
          },
          "metadata": {}
        },
        {
          "output_type": "display_data",
          "data": {
            "text/plain": []
          },
          "metadata": {}
        },
        {
          "output_type": "display_data",
          "data": {
            "text/plain": [
              "GPU=1 (Tesla T4) threadph=1220 extra=57600 np=100000000 nthread=81920 maxgate=1 repetition=1"
            ]
          },
          "metadata": {}
        },
        {
          "output_type": "display_data",
          "data": {
            "text/plain": [
              "initializing streams ...\tinit complete : 0 ms"
            ]
          },
          "metadata": {}
        },
        {
          "output_type": "display_data",
          "data": {
            "text/plain": [
              "requesting 3072 bytes of shared memory"
            ]
          },
          "metadata": {}
        },
        {
          "output_type": "display_data",
          "data": {
            "text/plain": [
              "launching MCX simulation for time window [0.00e+00ns 5.00e+00ns] ..."
            ]
          },
          "metadata": {}
        },
        {
          "output_type": "display_data",
          "data": {
            "text/plain": [
              "simulation run# 1 ..."
            ]
          },
          "metadata": {}
        },
        {
          "output_type": "display_data",
          "data": {
            "text/plain": [
              "kernel complete:  \t6630 ms"
            ]
          },
          "metadata": {}
        },
        {
          "output_type": "display_data",
          "data": {
            "text/plain": [
              "retrieving fields ... \ttransfer complete:\t6632 ms"
            ]
          },
          "metadata": {}
        },
        {
          "output_type": "display_data",
          "data": {
            "text/plain": [
              "normalizing raw data ...\tsource 1, normalization factor alpha=0.000000"
            ]
          },
          "metadata": {}
        },
        {
          "output_type": "display_data",
          "data": {
            "text/plain": [
              "source 2, normalization factor alpha=0.000000"
            ]
          },
          "metadata": {}
        },
        {
          "output_type": "display_data",
          "data": {
            "text/plain": [
              "source 3, normalization factor alpha=0.000000"
            ]
          },
          "metadata": {}
        },
        {
          "output_type": "display_data",
          "data": {
            "text/plain": [
              "source 4, normalization factor alpha=0.000000"
            ]
          },
          "metadata": {}
        },
        {
          "output_type": "display_data",
          "data": {
            "text/plain": [
              "source 5, normalization factor alpha=0.000000"
            ]
          },
          "metadata": {}
        },
        {
          "output_type": "display_data",
          "data": {
            "text/plain": [
              "source 6, normalization factor alpha=0.000000"
            ]
          },
          "metadata": {}
        },
        {
          "output_type": "display_data",
          "data": {
            "text/plain": [
              "source 7, normalization factor alpha=0.000000"
            ]
          },
          "metadata": {}
        },
        {
          "output_type": "display_data",
          "data": {
            "text/plain": [
              "source 8, normalization factor alpha=0.000000"
            ]
          },
          "metadata": {}
        },
        {
          "output_type": "display_data",
          "data": {
            "text/plain": [
              "data normalization complete : 6663 ms"
            ]
          },
          "metadata": {}
        },
        {
          "output_type": "display_data",
          "data": {
            "text/plain": [
              "simulated 100000000 photons (100000000) with 81920 threads (repeat x1)"
            ]
          },
          "metadata": {}
        },
        {
          "output_type": "display_data",
          "data": {
            "text/plain": [
              "MCX simulation speed: 15135.46 photon/ms"
            ]
          },
          "metadata": {}
        },
        {
          "output_type": "display_data",
          "data": {
            "text/plain": [
              "source #1 total simulated energy: 25000000.00\tabsorbed: 27.56910%"
            ]
          },
          "metadata": {}
        },
        {
          "output_type": "display_data",
          "data": {
            "text/plain": [
              "(loss due to initial specular reflection is excluded in the total)"
            ]
          },
          "metadata": {}
        },
        {
          "output_type": "display_data",
          "data": {
            "text/plain": [
              "source #2 total simulated energy: 25000000.00\tabsorbed: 29.29320%"
            ]
          },
          "metadata": {}
        },
        {
          "output_type": "display_data",
          "data": {
            "text/plain": [
              "(loss due to initial specular reflection is excluded in the total)"
            ]
          },
          "metadata": {}
        },
        {
          "output_type": "display_data",
          "data": {
            "text/plain": [
              "source #3 total simulated energy: 25000000.00\tabsorbed: 29.45366%"
            ]
          },
          "metadata": {}
        },
        {
          "output_type": "display_data",
          "data": {
            "text/plain": [
              "(loss due to initial specular reflection is excluded in the total)"
            ]
          },
          "metadata": {}
        },
        {
          "output_type": "display_data",
          "data": {
            "text/plain": [
              "source #4 total simulated energy: 25000000.00\tabsorbed: 28.24256%"
            ]
          },
          "metadata": {}
        },
        {
          "output_type": "display_data",
          "data": {
            "text/plain": [
              "(loss due to initial specular reflection is excluded in the total)"
            ]
          },
          "metadata": {}
        },
        {
          "output_type": "display_data",
          "data": {
            "text/plain": [
              "source #5 total simulated energy: 25000000.00\tabsorbed: 27.55714%"
            ]
          },
          "metadata": {}
        },
        {
          "output_type": "display_data",
          "data": {
            "text/plain": [
              "(loss due to initial specular reflection is excluded in the total)"
            ]
          },
          "metadata": {}
        },
        {
          "output_type": "display_data",
          "data": {
            "text/plain": [
              "source #6 total simulated energy: 25000000.00\tabsorbed: 29.30216%"
            ]
          },
          "metadata": {}
        },
        {
          "output_type": "display_data",
          "data": {
            "text/plain": [
              "(loss due to initial specular reflection is excluded in the total)"
            ]
          },
          "metadata": {}
        },
        {
          "output_type": "display_data",
          "data": {
            "text/plain": [
              "source #7 total simulated energy: 25000000.00\tabsorbed: 29.45123%"
            ]
          },
          "metadata": {}
        },
        {
          "output_type": "display_data",
          "data": {
            "text/plain": [
              "(loss due to initial specular reflection is excluded in the total)"
            ]
          },
          "metadata": {}
        },
        {
          "output_type": "display_data",
          "data": {
            "text/plain": [
              "source #8 total simulated energy: 25000000.00\tabsorbed: 28.24799%"
            ]
          },
          "metadata": {}
        },
        {
          "output_type": "display_data",
          "data": {
            "text/plain": [
              "(loss due to initial specular reflection is excluded in the total)"
            ]
          },
          "metadata": {}
        }
      ]
    },
    {
      "cell_type": "markdown",
      "source": [
        "#### Compare MCX & Redbird-m solutions for sliding-bar source pattern solutions\n",
        "\n"
      ],
      "metadata": {
        "id": "mBbVS5X1vAdo"
      }
    },
    {
      "cell_type": "code",
      "source": [
        "%%octave\n",
        "\n",
        "clc\n",
        "\n",
        "if isfield(cfg0,'srcpos0')\n",
        "  zslice = cfg0.srcpos0(1)+1;\n",
        "else\n",
        "  zslice = cfg0.srcpos(1)+1;\n",
        "end\n",
        "clim = [-8 0];\n",
        "\n",
        "clc\n",
        "figure,\n",
        "subplot(2,2,1)\n",
        "imagesc(rot90(log10(abs(squeeze(fcw(xcfg.srcpos(1),:,:,1)))),-1))\n",
        "set(gca,'xlim',[0 domsz(1)],'ylim',[0 domsz(3)],'YDir','Normal','XDir','Reverse')\n",
        "axis equal\n",
        "axis tight\n",
        "colorbar\n",
        "caxis([clim(1) clim(2)])\n",
        "title('MCX solution');\n",
        "\n",
        "subplot(2,2,2)\n",
        "plotmesh([cfg0.node full(log10(phi0(:,1)))],cfg0.elem,char(strcat('x>',num2str(zslice))))\n",
        "view([-1 0 0]);\n",
        "shading interp;\n",
        "colorbar;\n",
        "caxis([clim(1) clim(2)])\n",
        "title('Redbird solution');\n",
        "\n",
        "subplot(2,2,3:4)\n",
        "clines = 0:-0.5:-8;\n",
        "[xi,yi] = meshgrid(0.5:domsz(1)-0.5,0.5:domsz(3)-0.5);\n",
        "[cutpos,cutvalue,facedata] = qmeshcut(cfg0.elem,cfg0.node,phi0(:,1),char(strcat('x=',num2str(zslice))));\n",
        "vphi = griddata(cutpos(:,2),cutpos(:,3),cutvalue,xi+0.5,yi+0.5);\n",
        "\n",
        "[c,h] = contour(xi,yi,log10(vphi),clines,'r-','LineWidth',2);\n",
        "cwf   = squeeze(fcw(xcfg.srcpos(1),:,:,1))';\n",
        "hold on,contour(xi,yi,log10(cwf),clines,'b-','LineWidth',2);\n",
        "legend('RedBird','MCX')\n"
      ],
      "metadata": {
        "colab": {
          "base_uri": "https://localhost:8080/",
          "height": 454
        },
        "id": "17e-XK8KtdHV",
        "outputId": "6df7272d-a120-4e34-b7cb-431d254b9b54"
      },
      "execution_count": 12,
      "outputs": [
        {
          "output_type": "display_data",
          "data": {
            "text/plain": [
              "ans = -33.246"
            ]
          },
          "metadata": {}
        },
        {
          "output_type": "display_data",
          "data": {
            "image/png": "[encoded data removed]",
            "text/plain": [
              "<IPython.core.display.Image object>"
            ]
          },
          "metadata": {}
        }
      ]
    },
    {
      "cell_type": "markdown",
      "source": [
        "## Getting to know Redbird-m forward functionalities\n",
        "\n",
        "In the below sections we introduce some of the functionalities of Redbird-m. We show how to produce forward simulations of continuous (CW) and frequency-domain (FD) illuminations using either arrays of point-sources/detector or sets of wide-field source/detector patterns."
      ],
      "metadata": {
        "id": "OUPPfMZwvfU5"
      }
    },
    {
      "cell_type": "markdown",
      "source": [
        "### Forward simulations of CW/FD point-source arrays using Redbird-m\n",
        "\n",
        "In this example we generate a 50x50x40 homogeneous domain to run forward simulations of an array of 3x3 point-sources located at the bottom syrface of the mesh as well as an array of 3x3 point-detectors located at the top surface of the domain. We demonstrate the capability of Redbird-m to produce forward solution of CW or FD point illumination and detection."
      ],
      "metadata": {
        "id": "Q92m-FGDwUqY"
      }
    },
    {
      "cell_type": "code",
      "source": [
        "%%octave\n",
        "\n",
        "clear cfg0\n",
        "clc\n",
        "\n",
        "% Generate homogeneous domain\n",
        "domsz   = [50 50 40]; % Domain size\n",
        "resmesh = 2;\n",
        "[nobbx,elembbx] = meshgrid5(0:resmesh:domsz(1),0:resmesh:domsz(2),0:resmesh:domsz(3)); % Meshbox domain (in mm)\n",
        "fcbbx   = volface(elembbx);\n",
        "[cfg0.node, cfg0.elem] = s2m(nobbx,fcbbx(:,1:3),1,25,'tetgen1.5',[11 1 1]); % Generate measured/real heterogeneous domain\n",
        "cfg0.elem = cfg0.elem(:,1:4);\n",
        "clear nobbx elembbx fcbbx\n",
        "cfg0.seg = ones(size(cfg0.elem,1),1);\n",
        "\n",
        "% Visualize domain\n",
        "figure, plotmesh(cfg0.node, cfg0.elem,'y>25')\n",
        "\n",
        "% General settings for RB simulations\n",
        "cfg0.prop  = [0       0 1 1   ; ...\n",
        "              0.006 0.8 0 1.37];\n",
        "mfreq      = 0 # @param [0, 135] {type:\"raw\"}\n",
        "cfg0.omega = mfreq*1e6*2*pi;\n",
        "\n",
        "% Define parameters for RB point-source array simulation\n",
        "nsrc        = [3 3]; % Number of point src/det in xy axis\n",
        "[xi,yi]     = meshgrid(linspace(10,40,nsrc(1)),linspace(10,40,nsrc(2)));\n",
        "cfg0.srcpos = [xi(:),yi(:),zeros(numel(yi),1)];\n",
        "cfg0.detpos = [xi(:),yi(:),domsz(3)*ones(numel(yi),1)];\n",
        "cfg0.srcdir = [0 0  1];\n",
        "cfg0.detdir = [0 0 -1];\n",
        "\n",
        "cfg = cfg0;\n",
        "[cfg0,sd0] = rbmeshprep(cfg0);\n",
        "\n",
        "% Run RB forward simulation\n",
        "[detphi0,phi0] = rbrunforward(cfg0,'sd',sd0);\n"
      ],
      "metadata": {
        "colab": {
          "base_uri": "https://localhost:8080/",
          "height": 506
        },
        "id": "VO-BgE5ywj9f",
        "outputId": "215e2857-a51c-421a-cde5-d0c35dc7d593"
      },
      "execution_count": 13,
      "outputs": [
        {
          "output_type": "display_data",
          "data": {
            "text/plain": [
              "generating tetrahedral mesh from closed surfaces ..."
            ]
          },
          "metadata": {}
        },
        {
          "output_type": "display_data",
          "data": {
            "text/plain": [
              "creating volumetric mesh from a surface mesh ..."
            ]
          },
          "metadata": {}
        },
        {
          "output_type": "display_data",
          "data": {
            "text/plain": [
              "volume mesh generation is complete"
            ]
          },
          "metadata": {}
        },
        {
          "output_type": "display_data",
          "data": {
            "text/plain": [
              "mfreq = 0"
            ]
          },
          "metadata": {}
        },
        {
          "output_type": "display_data",
          "data": {
            "image/png": "[encoded data removed]",
            "text/plain": [
              "<IPython.core.display.Image object>"
            ]
          },
          "metadata": {}
        }
      ]
    },
    {
      "cell_type": "markdown",
      "source": [
        "### Visualize Redbird-m point-source array forward simulations"
      ],
      "metadata": {
        "id": "-IyU7xpDz2iG"
      }
    },
    {
      "cell_type": "code",
      "source": [
        "%%octave\n",
        "\n",
        "clc\n",
        "\n",
        "% Select src/det optodes to visualize\n",
        "idxsrc = 8 # @param [1,2,3,4,5,6,7,8,9] {type:\"raw\"}\n",
        "detid  = 9 # @param [1,2,3,4,5,6,7,8,9] {type:\"raw\"}\n",
        "idxdet = detid + 9;\n",
        "\n",
        "if ~isreal(phi0) % If FD simulation\n",
        "  nplot = 2;\n",
        "else\n",
        "  nplot = 1;\n",
        "end\n",
        "\n",
        "figure,\n",
        "subplot(nplot,2,1),plotmesh([cfg0.node log(abs(phi0(:,idxsrc)))],cfg0.elem,char(strcat('y>25'))),shading interp,colorbar,title('Src Log Amplitude') % Visualize fluence amplitude from det#10\n",
        "subplot(nplot,2,2),plotmesh([cfg0.node log(abs(phi0(:,idxdet)))],cfg0.elem,char(strcat('y>25'))),shading interp,colorbar,title('Det Log Amplitude') % Visualize fluence amplitude from det#10\n",
        "if ~isreal(phi0)\n",
        "  subplot(nplot,2,3),plotmesh([cfg0.node   angle(phi0(:,idxsrc))],cfg0.elem,char(strcat('y>25'))),shading interp,colorbar,title('Src Phase') % Visualize fluence phase from det#10\n",
        "  subplot(nplot,2,4),plotmesh([cfg0.node   angle(phi0(:,idxdet))],cfg0.elem,char(strcat('y>25'))),shading interp,colorbar,title('Det Phase') % Visualize fluence phase from det#10\n",
        "end\n",
        "\n",
        "% Visualize sensitivity matrix\n",
        "figure,plotmesh([cfg0.node   log(abs(prod(phi0(:,[idxsrc idxdet]),2)))],cfg0.elem,'y>25') ,shading interp,colorbar,title('Amplitude Sensitivity Matrix') % Visualize sensitivity matrix src#1 & det#10\n",
        "if ~isreal(phi0)\n",
        "  figure,plotmesh([cfg0.node angle(prod(phi0(:,[idxsrc idxdet]),2))],cfg0.elem,'y>25') ,shading interp,colorbar,title('Phase Sensitivity Matrix') % Visualize sensitivity matrix src#1 & det#10\n",
        "end\n"
      ],
      "metadata": {
        "colab": {
          "base_uri": "https://localhost:8080/",
          "height": 892
        },
        "id": "0blc45-LVFu2",
        "outputId": "f254278c-50c9-4377-be9c-42ba42571e9d"
      },
      "execution_count": 15,
      "outputs": [
        {
          "output_type": "display_data",
          "data": {
            "text/plain": [
              "idxsrc = 8"
            ]
          },
          "metadata": {}
        },
        {
          "output_type": "display_data",
          "data": {
            "text/plain": [
              "detid = 9"
            ]
          },
          "metadata": {}
        },
        {
          "output_type": "display_data",
          "data": {
            "image/png": "[encoded data removed]",
            "text/plain": [
              "<IPython.core.display.Image object>"
            ]
          },
          "metadata": {}
        },
        {
          "output_type": "display_data",
          "data": {
            "image/png": "[encoded data removed]",
            "text/plain": [
              "<IPython.core.display.Image object>"
            ]
          },
          "metadata": {}
        }
      ]
    },
    {
      "cell_type": "markdown",
      "source": [
        "### Forward simulations of CW/FD wide-field source/detector patterns using Redbird-m\n",
        "\n",
        "In this example we generate a 50x50x40 homogeneous domain to run forward simulations of a total of 8 wide-field source patterns (4 in x-direction, 4 in y-direction) located at the bottom surface of the mesh as well as similar set of 8 wide-field detector patterns (4 in x-direction, 4 in y-direction) located at the top surface of the domain. We demonstrate the capability of Redbird-m to produce forward solution of CW or FD wide-field illuminations/detections."
      ],
      "metadata": {
        "id": "XHG5NuZi2aUN"
      }
    },
    {
      "cell_type": "code",
      "source": [
        "%%octave\n",
        "\n",
        "clear cfg0\n",
        "clc\n",
        "\n",
        "% Generate homogeneous domain\n",
        "domsz   = [50 50 40]; % Domain size\n",
        "resmesh = 2;\n",
        "[nobbx,elembbx] = meshgrid5(0:resmesh:domsz(1),0:resmesh:domsz(2),0:resmesh:domsz(3)); % Meshbox domain (in mm)\n",
        "fcbbx   = volface(elembbx);\n",
        "[cfg0.node, cfg0.elem] = s2m(nobbx,fcbbx(:,1:3),1,25,'tetgen1.5',[11 1 1]); % Generate measured/real heterogeneous domain\n",
        "cfg0.elem = cfg0.elem(:,1:4);\n",
        "clear nobbx elembbx fcbbx\n",
        "cfg0.seg = ones(size(cfg0.elem,1),1);\n",
        "\n",
        "% Visualize domain\n",
        "figure, plotmesh(cfg0.node, cfg0.elem,'y>25')\n",
        "\n",
        "% General settings for RB simulations\n",
        "cfg0.prop  = [0       0 1 1   ; ...\n",
        "              0.006 0.8 0 1.37];\n",
        "mfreq      = 135 # @param [0, 135] {type:\"raw\"}\n",
        "cfg0.omega = mfreq*1e6*2*pi;\n",
        "\n",
        "% Define RB wide-field source simulation parameters\n",
        "nBarpats   = 4; % Number of bar patterns in x/y directions\n",
        "srcpattern = diag(ones(1,nBarpats));\n",
        "srcpattern = permute(repmat(srcpattern,[1,1,size(srcpattern, 1)]),[2 3 1]);\n",
        "srcpattern = cat(3,srcpattern,permute(srcpattern,[2 1 3]));\n",
        "detpattern = srcpattern;\n",
        "cfg0.srctype    = 'pattern';\n",
        "cfg0.srcpattern = srcpattern;\n",
        "cfg0.srcpos     = [10 10 0];\n",
        "cfg0.srcparam1  = [30  0 0 0];\n",
        "cfg0.srcparam2  = [ 0 30 0 0];\n",
        "cfg0.srcdir     = [ 0  0 1];\n",
        "cfg0.srcweight  = ones(1,nBarpats);\n",
        "cfg0.dettype    = 'pattern';\n",
        "cfg0.detpattern = detpattern;\n",
        "cfg0.detpos     = [10 10 domsz(3)];\n",
        "cfg0.detparam1  = [30  0  0 0];\n",
        "cfg0.detparam2  = [ 0 30  0 0];\n",
        "cfg0.detdir     = [ 0  0 -1];\n",
        "cfg0.detweight  = ones(1,nBarpats);\n",
        "\n",
        "cfg = cfg0;\n",
        "[cfg0,sd0] = rbmeshprep(cfg0);\n",
        "\n",
        "% Run RB forward simulation\n",
        "[detphi0,phi0] = rbrunforward(cfg0,'sd',sd0);"
      ],
      "metadata": {
        "colab": {
          "base_uri": "https://localhost:8080/",
          "height": 506
        },
        "id": "TSwKu4eP2_nY",
        "outputId": "c3604a66-119e-4fce-9332-cfacbb3e7689"
      },
      "execution_count": 16,
      "outputs": [
        {
          "output_type": "display_data",
          "data": {
            "text/plain": [
              "generating tetrahedral mesh from closed surfaces ..."
            ]
          },
          "metadata": {}
        },
        {
          "output_type": "display_data",
          "data": {
            "text/plain": [
              "creating volumetric mesh from a surface mesh ..."
            ]
          },
          "metadata": {}
        },
        {
          "output_type": "display_data",
          "data": {
            "text/plain": [
              "volume mesh generation is complete"
            ]
          },
          "metadata": {}
        },
        {
          "output_type": "display_data",
          "data": {
            "text/plain": [
              "mfreq = 135"
            ]
          },
          "metadata": {}
        },
        {
          "output_type": "display_data",
          "data": {
            "image/png": "[encoded data removed]",
            "text/plain": [
              "<IPython.core.display.Image object>"
            ]
          },
          "metadata": {}
        }
      ]
    },
    {
      "cell_type": "markdown",
      "source": [
        "### Visualize Redbird-m wide-field source/detector pattern forward simulations"
      ],
      "metadata": {
        "id": "D5XqWuJ16ZBM"
      }
    },
    {
      "cell_type": "code",
      "source": [
        "%%octave\n",
        "\n",
        "clc\n",
        "\n",
        "% Select src/det optodes to visualize\n",
        "idxsrc = 2 # @param [1,2,3,4,5,6,7,8] {type:\"raw\"}\n",
        "detid  = 3 # @param [1,2,3,4,5,6,7,8] {type:\"raw\"}\n",
        "idxdet = detid + 8;\n",
        "\n",
        "if ~isreal(phi0) % If FD simulation\n",
        "  nplot = 2;\n",
        "else\n",
        "  nplot = 1;\n",
        "end\n",
        "\n",
        "figure,\n",
        "subplot(nplot,2,1),plotmesh([cfg0.node log(abs(phi0(:,idxsrc)))],cfg0.elem,char(strcat('y>25'))),shading interp,colorbar,title('Src Log Amplitude') % Visualize fluence amplitude from det#10\n",
        "subplot(nplot,2,2),plotmesh([cfg0.node log(abs(phi0(:,idxdet)))],cfg0.elem,char(strcat('y>25'))),shading interp,colorbar,title('Det Log Amplitude') % Visualize fluence amplitude from det#10\n",
        "if ~isreal(phi0)\n",
        "  subplot(nplot,2,3),plotmesh([cfg0.node   angle(phi0(:,idxsrc))],cfg0.elem,char(strcat('y>25'))),shading interp,colorbar,title('Src Phase') % Visualize fluence phase from det#10\n",
        "  subplot(nplot,2,4),plotmesh([cfg0.node   angle(phi0(:,idxdet))],cfg0.elem,char(strcat('y>25'))),shading interp,colorbar,title('Det Phase') % Visualize fluence phase from det#10\n",
        "end\n",
        "\n",
        "\n",
        "% Visualize sensitivity matrix\n",
        "figure,plotmesh([cfg0.node   log(abs(prod(phi0(:,[idxsrc idxdet]),2)))],cfg0.elem,'y>25') ,shading interp,colorbar,title('Log Amplitude Sensitivity Matrix') % Visualize sensitivity matrix src#1 & det#10\n",
        "if ~isreal(phi0)\n",
        "  figure,plotmesh([cfg0.node angle(prod(phi0(:,[idxsrc idxdet]),2))],cfg0.elem,'y>25') ,shading interp,colorbar,title('Phase Sensitivity Matrix') % Visualize sensitivity matrix src#1 & det#10\n",
        "end"
      ],
      "metadata": {
        "colab": {
          "base_uri": "https://localhost:8080/",
          "height": 1000
        },
        "id": "6nrw6EiR4qZk",
        "outputId": "624d8eea-ade4-4b02-88f9-929f0a53c0e4"
      },
      "execution_count": 17,
      "outputs": [
        {
          "output_type": "display_data",
          "data": {
            "text/plain": [
              "idxsrc = 2"
            ]
          },
          "metadata": {}
        },
        {
          "output_type": "display_data",
          "data": {
            "text/plain": [
              "detid = 3"
            ]
          },
          "metadata": {}
        },
        {
          "output_type": "display_data",
          "data": {
            "image/png": "[encoded data removed]",
            "text/plain": [
              "<IPython.core.display.Image object>"
            ]
          },
          "metadata": {}
        },
        {
          "output_type": "display_data",
          "data": {
            "image/png": "[encoded data removed]",
            "text/plain": [
              "<IPython.core.display.Image object>"
            ]
          },
          "metadata": {}
        },
        {
          "output_type": "display_data",
          "data": {
            "image/png": "[encoded data removed]",
            "text/plain": [
              "<IPython.core.display.Image object>"
            ]
          },
          "metadata": {}
        }
      ]
    },
    {
      "cell_type": "markdown",
      "source": [
        "## Single-spectra Redbird-m reconstruction using point-source arrays of CW/FD illumination\n",
        "\n",
        "In this section, we prepare a heterogenous mesh domain of 100x0100x40 mm with two inclusions with 2x absorption contrast located off-center in the z-axis (z = 15 mm).\n",
        "\n",
        "First, we define the general setting to create the heterogenous domain along with a 4x4 point-source/detector array in a transmission geometry. We run a forward simulation on the heterogeneous domain (cfg0) to create simulated data (detphi0). Then, we create a homogeneous forward mesh (cfg) over which the inverse problem solution will be projected. We also create a sparse reconstruction mesh (recon) to speed up the Jacobian inversion and project those solutions over the forward mesh."
      ],
      "metadata": {
        "id": "KjgGg8f4O8k1"
      }
    },
    {
      "cell_type": "markdown",
      "source": [
        "### General parameters for producing synthetic data\n",
        "\n",
        "In this section we define the general parameters for running Redbird-m forward simulation to create synthetic data of a dual-inclusion heterogeneous domain using a 4x4 point-source array at the bottom of the domain and a similar one at the top of the domain for detection. We then create the forward and reconstruction meshes.\n",
        "\n",
        "If generating synthetic data using FD point-source, we then perform a bulk optical properties fitting.\n",
        "\n",
        "Last, using the simulated data (detphi0) and the forward and recon meshes, we perform an iterative reconstruction."
      ],
      "metadata": {
        "id": "DmeKc_BYPBTz"
      }
    },
    {
      "cell_type": "code",
      "source": [
        "%%octave\n",
        "\n",
        "clear cfg0 cfg recon\n",
        "clc\n",
        "\n",
        "domsz = [100 100 40];     % Domain size\n",
        "s0    = [35, 65, 15 5;... % Central position xyz and radius of the inclusion (in mm)\n",
        "         60, 30, 15 5];\n",
        "\n",
        "% Bounding box w/ 2 inclusions\n",
        "resmesh = 5;\n",
        "[nobbx,elembbx] = meshgrid5(0:resmesh:domsz(1),0:resmesh:domsz(2),0:resmesh:domsz(3)); % Meshbox domain (in mm)\n",
        "fcbbx   = volface(elembbx);\n",
        "[nobbx,fcbbx] = removeisolatednode(nobbx,fcbbx);\n",
        "[nosp1,fcsp1] = meshasphere(s0(1,1:3),s0(1,4),1); % Sphare mesh location (s0, radious, maxvol)\n",
        "[nosp2,fcsp2] = meshasphere(s0(2,1:3),s0(2,4),1); % Sphare mesh location (s1, radious, maxvol)\n",
        "[no,fc]       = mergemesh(nobbx,fcbbx,nosp1,fcsp1,nosp2,fcsp2); % Merge meshbox and sphere meshes (FOR DUAL INCLUSION DOMAIN)\n",
        "[cfg0.node, cfg0.elem] = s2m(no,fc(:,1:3),1,25,'tetgen1.5',[11 1 1;s0(1,1:3);s0(2,1:3)]); % Generate measured/real heterogeneous domain\n",
        "clear nobbx elembbx fcbbx nosp1 fcsp1 nosp2 fcsp2 no fc\n",
        "\n",
        "% Visualize domain\n",
        "figure, plotmesh(cfg0.node, cfg0.elem,char(strcat('z<',num2str(s0(1,3)))))\n",
        "\n",
        "% General settings for RB simulations\n",
        "cfg0.prop = [     0  0 1 1   ; ...\n",
        "             0.006 0.8 0 1.37; ...\n",
        "             0.012 0.8 0 1.37; ...\n",
        "             0.012 0.8 0 1.37];\n",
        "mfreq      = 0 # @param [0, 135] {type:\"raw\"}\n",
        "cfg0.omega = mfreq*1e6*2*pi;\n",
        "\n",
        "% Define parameters for RB point-source array simulation\n",
        "nsrc        = [4 4]; % Number of point src/det in xy axis\n",
        "[xi,yi]     = meshgrid(linspace(20,80,nsrc(1)),linspace(20,80,nsrc(2)));\n",
        "cfg0.srcpos = [xi(:),yi(:),zeros(numel(yi),1)];\n",
        "cfg0.detpos = [xi(:),yi(:),domsz(3)*ones(numel(yi),1)];\n",
        "cfg0.srcdir = [0 0  1];\n",
        "cfg0.detdir = [0 0 -1];\n",
        "\n",
        "cfg = cfg0;\n",
        "[cfg0,sd0] = rbmeshprep(cfg0);\n",
        "\n",
        "% Run RB forward simulation\n",
        "[detphi0,phi0] = rbrunforward(cfg0,'sd',sd0);\n",
        "\n",
        "% Set fwd mesh to be homogeneous\n",
        "cfg = rbsetmesh(cfg,cfg.node,cfg.elem,cfg.prop,ones(size(cfg.node,1),1));\n",
        "\n",
        "% Prepare recon mesh\n",
        "resmesh    = 5;\n",
        "[no,elem]  = meshgrid5(0:resmesh:domsz(1),0:resmesh:domsz(2),0:resmesh:domsz(3)); % Meshbox domain (in mm)\n",
        "fc         = volface(elem);\n",
        "[no,fc]    = removeisolatednode(no,fc);\n",
        "[recon.node, recon.elem] = s2m(no,fc(:,1:3),1,50,'tetgen1.5');\n",
        "recon.elem = recon.elem(:,1:4);\n",
        "[recon.mapid,recon.mapweight] = tsearchn(recon.node,recon.elem(:,1:4),cfg.node);\n",
        "clear no elem fc"
      ],
      "metadata": {
        "id": "FFWDsNZVPFGe",
        "colab": {
          "base_uri": "https://localhost:8080/",
          "height": 871
        },
        "outputId": "f30712a6-b05a-45f9-8498-d002c29a7e69"
      },
      "execution_count": 18,
      "outputs": [
        {
          "output_type": "display_data",
          "data": {
            "text/plain": [
              "Surface Mesh Extraction Utility (Based on CGAL 3.8)"
            ]
          },
          "metadata": {}
        },
        {
          "output_type": "display_data",
          "data": {
            "text/plain": [
              "(modified for iso2mesh by Qianqian Fang)"
            ]
          },
          "metadata": {}
        },
        {
          "output_type": "display_data",
          "data": {
            "text/plain": [
              "http://iso2mesh.sf.net"
            ]
          },
          "metadata": {}
        },
        {
          "output_type": "display_data",
          "data": {
            "text/plain": []
          },
          "metadata": {}
        },
        {
          "output_type": "display_data",
          "data": {
            "text/plain": [
              "RNG seed 1648335518"
            ]
          },
          "metadata": {}
        },
        {
          "output_type": "display_data",
          "data": {
            "text/plain": [
              "set initial mesh size to 50"
            ]
          },
          "metadata": {}
        },
        {
          "output_type": "display_data",
          "data": {
            "text/plain": [
              "Refining... maximum node number is set to 40000"
            ]
          },
          "metadata": {}
        },
        {
          "output_type": "display_data",
          "data": {
            "text/plain": []
          },
          "metadata": {}
        },
        {
          "output_type": "display_data",
          "data": {
            "text/plain": [
              "done."
            ]
          },
          "metadata": {}
        },
        {
          "output_type": "display_data",
          "data": {
            "text/plain": [
              "Final number of points: 289"
            ]
          },
          "metadata": {}
        },
        {
          "output_type": "display_data",
          "data": {
            "text/plain": [
              "WARNING- Some triangles have been reversed to achieve orientation."
            ]
          },
          "metadata": {}
        },
        {
          "output_type": "display_data",
          "data": {
            "text/plain": [
              "Surface Mesh Extraction Utility (Based on CGAL 3.8)"
            ]
          },
          "metadata": {}
        },
        {
          "output_type": "display_data",
          "data": {
            "text/plain": [
              "(modified for iso2mesh by Qianqian Fang)"
            ]
          },
          "metadata": {}
        },
        {
          "output_type": "display_data",
          "data": {
            "text/plain": [
              "http://iso2mesh.sf.net"
            ]
          },
          "metadata": {}
        },
        {
          "output_type": "display_data",
          "data": {
            "text/plain": []
          },
          "metadata": {}
        },
        {
          "output_type": "display_data",
          "data": {
            "text/plain": [
              "RNG seed 1648335518"
            ]
          },
          "metadata": {}
        },
        {
          "output_type": "display_data",
          "data": {
            "text/plain": [
              "set initial mesh size to 50"
            ]
          },
          "metadata": {}
        },
        {
          "output_type": "display_data",
          "data": {
            "text/plain": [
              "Refining... maximum node number is set to 40000"
            ]
          },
          "metadata": {}
        },
        {
          "output_type": "display_data",
          "data": {
            "text/plain": []
          },
          "metadata": {}
        },
        {
          "output_type": "display_data",
          "data": {
            "text/plain": [
              "done."
            ]
          },
          "metadata": {}
        },
        {
          "output_type": "display_data",
          "data": {
            "text/plain": [
              "Final number of points: 289"
            ]
          },
          "metadata": {}
        },
        {
          "output_type": "display_data",
          "data": {
            "text/plain": [
              "WARNING- Some triangles have been reversed to achieve orientation."
            ]
          },
          "metadata": {}
        },
        {
          "output_type": "display_data",
          "data": {
            "text/plain": [
              "generating tetrahedral mesh from closed surfaces ..."
            ]
          },
          "metadata": {}
        },
        {
          "output_type": "display_data",
          "data": {
            "text/plain": [
              "creating volumetric mesh from a surface mesh ..."
            ]
          },
          "metadata": {}
        },
        {
          "output_type": "display_data",
          "data": {
            "text/plain": [
              "volume mesh generation is complete"
            ]
          },
          "metadata": {}
        },
        {
          "output_type": "display_data",
          "data": {
            "text/plain": [
              "mfreq = 0"
            ]
          },
          "metadata": {}
        },
        {
          "output_type": "display_data",
          "data": {
            "text/plain": [
              "generating tetrahedral mesh from closed surfaces ..."
            ]
          },
          "metadata": {}
        },
        {
          "output_type": "display_data",
          "data": {
            "text/plain": [
              "creating volumetric mesh from a surface mesh ..."
            ]
          },
          "metadata": {}
        },
        {
          "output_type": "display_data",
          "data": {
            "text/plain": [
              "volume mesh generation is complete"
            ]
          },
          "metadata": {}
        },
        {
          "output_type": "display_data",
          "data": {
            "image/png": "[encoded data removed]",
            "text/plain": [
              "<IPython.core.display.Image object>"
            ]
          },
          "metadata": {}
        }
      ]
    },
    {
      "cell_type": "markdown",
      "source": [
        "### Run bulk optical properties fitting\n",
        "\n",
        "If utilizing FD sources, we can then perform a bulk optical properties fitting to decouple absorption and reduce scatterring coefficients. Otherwise, set them to be the true background optical properties used to generate synthetic data.\n",
        "\n",
        "The bulk optical properties are then set as initial guess for launching the iterative reconstruction procedure."
      ],
      "metadata": {
        "id": "edR2ouTtPH5c"
      }
    },
    {
      "cell_type": "code",
      "source": [
        "%%octave\n",
        "\n",
        "if cfg0.omega > 0 % If simulating FD data, run bulk fitting\n",
        "\n",
        "  % Set initial guess\n",
        "  recon.prop = [0     0   1 1    ; ...\n",
        "                0.008 0.9 0 1.37];\n",
        "\n",
        "  sd = rbsdmap(cfg);\n",
        "  [newrecon,resid] = rbrun(cfg,recon,detphi0,sd,'mode','bulk','lambda',1e-5,'maxiter',5);\n",
        "\n",
        "else % If running CW data, assing bulk optical properties\n",
        "\n",
        "  % Bulk optical properties to be used\n",
        "  newrecon.prop = [0       0 1 1    ; ...\n",
        "                   0.006 0.8 0 1.37];\n",
        "\n",
        "end\n",
        "\n",
        "% Set nodal-based optical properties to the bulk fitted values\n",
        "recon.prop = newrecon.prop(ones(size(recon.node,1),1)+1,:);\n",
        "cfg.prop   = newrecon.prop(ones(size(cfg.node,1),1)+1,:);\n",
        "cfg        = rmfield(cfg,'seg');\n",
        "newrecon.prop"
      ],
      "metadata": {
        "id": "5H24tyAnPK-Z",
        "colab": {
          "base_uri": "https://localhost:8080/",
          "height": 69
        },
        "outputId": "08b6e106-eeac-4346-9f78-89efc9602a95"
      },
      "execution_count": 19,
      "outputs": [
        {
          "output_type": "display_data",
          "data": {
            "text/plain": [
              "ans ="
            ]
          },
          "metadata": {}
        },
        {
          "output_type": "display_data",
          "data": {
            "text/plain": []
          },
          "metadata": {}
        },
        {
          "output_type": "display_data",
          "data": {
            "text/plain": [
              "        0        0   1.0000   1.0000"
            ]
          },
          "metadata": {}
        },
        {
          "output_type": "display_data",
          "data": {
            "text/plain": [
              "   0.0060   0.8000        0   1.3700"
            ]
          },
          "metadata": {}
        },
        {
          "output_type": "display_data",
          "data": {
            "text/plain": []
          },
          "metadata": {}
        }
      ]
    },
    {
      "cell_type": "markdown",
      "source": [
        "### Run iterative reconstruction"
      ],
      "metadata": {
        "id": "v1FnVIGZPP2K"
      }
    },
    {
      "cell_type": "code",
      "source": [
        "%%octave\n",
        "\n",
        "sd = rbsdmap(cfg);\n",
        "[reconMS,residMS,cfgMS] = rbrun(cfg,recon,detphi0,sd,'mode','image','lambda',1e-6,'maxiter',5);"
      ],
      "metadata": {
        "id": "66CAK6d5PSv3",
        "colab": {
          "base_uri": "https://localhost:8080/",
          "height": 104
        },
        "outputId": "a72c9c53-a431-4cc6-d243-5a0e301bd499"
      },
      "execution_count": 20,
      "outputs": [
        {
          "output_type": "display_data",
          "data": {
            "text/plain": [
              "iter [   1]: residual=1.149662e-05, relres=1.000000e+00 lambda=1.000000e-06 (time=18.594989 s)"
            ]
          },
          "metadata": {}
        },
        {
          "output_type": "display_data",
          "data": {
            "text/plain": [
              "iter [   2]: residual=4.916640e-07, relres=4.276597e-02 lambda=1.000000e-06 (time=17.660016 s)"
            ]
          },
          "metadata": {}
        },
        {
          "output_type": "display_data",
          "data": {
            "text/plain": [
              "iter [   3]: residual=6.519463e-08, relres=5.670767e-03 lambda=1.000000e-06 (time=18.514666 s)"
            ]
          },
          "metadata": {}
        },
        {
          "output_type": "display_data",
          "data": {
            "text/plain": [
              "iter [   4]: residual=4.156574e-08, relres=3.615475e-03 lambda=1.000000e-06 (time=17.385928 s)"
            ]
          },
          "metadata": {}
        },
        {
          "output_type": "display_data",
          "data": {
            "text/plain": [
              "iter [   5]: residual=3.323065e-08, relres=2.890472e-03 lambda=1.000000e-06 (time=17.996706 s)"
            ]
          },
          "metadata": {}
        }
      ]
    },
    {
      "cell_type": "markdown",
      "source": [
        "### Visualize reconstructed tomographic images"
      ],
      "metadata": {
        "id": "j9JDBWbQPV4Y"
      }
    },
    {
      "cell_type": "code",
      "source": [
        "%%octave\n",
        "\n",
        "% Generate a cross section slice of the domain\n",
        "[xi,yi]             = meshgrid(min(cfg.node(:,1),[],1):1:max(cfg.node(:,1),[],1),min(cfg.node(:,2),[],1):1:max(cfg.node(:,2),[],1));\n",
        "[cutpos,cutvalue,~] = qmeshcut(reconMS.elem,reconMS.node,(reconMS.prop(:,1)),char(strcat('z =',num2str(s0(1,3)))));\n",
        "clear vphi\n",
        "vphi(:,:,1)         = griddata(cutpos(:,1),cutpos(:,2),cutvalue,xi,yi);\n",
        "\n",
        "% Visualize results\n",
        "figure,\n",
        "subplot(1,2,1),\n",
        "hold on,imagesc(vphi),colorbar,axis tight\n",
        "for mm = 1:size(s0,1)\n",
        "    hold on,plot(1:size(vphi,2),s0(mm,2).*ones(1,size(vphi,2)),'LineWidth',4,'LineStyle','-.')\n",
        "end\n",
        "subplot(1,2,2)\n",
        "for mm = 1:size(s0,1)\n",
        "    hold on,plot(vphi(s0(mm,2),:))\n",
        "end"
      ],
      "metadata": {
        "id": "iHct4WbNPYWg",
        "colab": {
          "base_uri": "https://localhost:8080/",
          "height": 437
        },
        "outputId": "6a5e4965-0b47-4409-fef9-9780e00c559d"
      },
      "execution_count": 36,
      "outputs": [
        {
          "output_type": "display_data",
          "data": {
            "image/png": "[encoded data removed]",
            "text/plain": [
              "<IPython.core.display.Image object>"
            ]
          },
          "metadata": {}
        }
      ]
    },
    {
      "cell_type": "markdown",
      "source": [
        "## Single-spectra Redbird-m reconstruction using wide-field source/detection of CW/FD illumination\n",
        "\n",
        "In this section, we prepare a heterogenous mesh domain of 100x0100x40 mm with two inclusions with 2x absorption contrast located off-center in the z-axis (z = 15 mm).\n",
        "\n",
        "First, we define the general setting to create the heterogenous domain along with a total of 32 wide-field source patterns in a transmission geometry. We run a forward simulation on the heterogeneous domain (cfg0) to create simulated data (detphi0). Then, we create a homogeneous forward mesh (cfg) over which the inverse problem solution will be projected. We also create a sparse reconstruction mesh (recon) to speed up the Jacobian inversion and project those solutions over the forward mesh."
      ],
      "metadata": {
        "id": "d2p0mWgYPdyS"
      }
    },
    {
      "cell_type": "markdown",
      "source": [
        "### General parameters for producing synthetic data\n",
        "\n",
        "In this section we define the general parameters for running Redbird-m forward simulation to create synthetic data of a dual-inclusion heterogeneous domain using a total of 32 wide-field source patterns (16 in the x-direction and 16 in the y-direction) located at the bottom of the domain and a similar one at the top of the domain for detection. We then create the forward and reconstruction meshes.\n",
        "\n",
        "If generating synthetic data using FD point-source, we then perform a bulk optical properties fitting.\n",
        "\n",
        "Last, using the simulated data (detphi0) and the forward and recon meshes, we perform an iterative reconstruction."
      ],
      "metadata": {
        "id": "90AAUtc2Pgfz"
      }
    },
    {
      "cell_type": "code",
      "source": [
        "%%octave\n",
        "\n",
        "clear cfg0 cfg recon\n",
        "clc\n",
        "\n",
        "domsz = [100 100 40];     % Domain size\n",
        "s0    = [35, 65, 15 5;... % Central position xyz and radius of the inclusion (in mm)\n",
        "         60, 30, 15 5];\n",
        "\n",
        "% Bounding box w/ 2 inclusions\n",
        "resmesh = 5;\n",
        "[nobbx,elembbx] = meshgrid5(0:resmesh:domsz(1),0:resmesh:domsz(2),0:resmesh:domsz(3)); % Meshbox domain (in mm)\n",
        "fcbbx   = volface(elembbx);\n",
        "[nobbx,fcbbx] = removeisolatednode(nobbx,fcbbx);\n",
        "[nosp1,fcsp1] = meshasphere(s0(1,1:3),s0(1,4),1); % Sphare mesh location (s0, radious, maxvol)\n",
        "[nosp2,fcsp2] = meshasphere(s0(2,1:3),s0(2,4),1); % Sphare mesh location (s1, radious, maxvol)\n",
        "[no,fc]       = mergemesh(nobbx,fcbbx,nosp1,fcsp1,nosp2,fcsp2); % Merge meshbox and sphere meshes (FOR DUAL INCLUSION DOMAIN)\n",
        "[cfg0.node, cfg0.elem] = s2m(no,fc(:,1:3),1,25,'tetgen1.5',[11 1 1;s0(1,1:3);s0(2,1:3)]); % Generate measured/real heterogeneous domain\n",
        "clear nobbx elembbx fcbbx nosp1 fcsp1 nosp2 fcsp2 no fc\n",
        "\n",
        "% Visualize domain\n",
        "figure, plotmesh(cfg0.node, cfg0.elem,char(strcat('z<',num2str(s0(1,3)))))\n",
        "\n",
        "% General settings for RB simulations\n",
        "cfg0.prop = [     0  0 1 1   ; ...\n",
        "             0.006 0.8 0 1.37; ...\n",
        "             0.012 0.8 0 1.37; ...\n",
        "             0.012 0.8 0 1.37];\n",
        "mfreq      = 0 # @param [0, 135] {type:\"raw\"}\n",
        "cfg0.omega = mfreq*1e6*2*pi;\n",
        "\n",
        "% Define parameter for RB widefield simulation\n",
        "nBarpats   = 16; % Number of bar patterns in x/y directions\n",
        "srcpattern = diag(ones(1,nBarpats));\n",
        "srcpattern = permute(repmat(srcpattern,[1,1,size(srcpattern, 1)]),[2 3 1]);\n",
        "srcpattern = cat(3,srcpattern,permute(srcpattern,[2 1 3]));\n",
        "detpattern = srcpattern;\n",
        "cfg0.srctype    = 'pattern';\n",
        "cfg0.srcpos     = [20 20  0];\n",
        "cfg0.srcdir     = [ 0  0  1];\n",
        "cfg0.srcparam1  = [60  0 0 0];\n",
        "cfg0.srcparam2  = [ 0 60 0 0];\n",
        "cfg0.srcpattern = srcpattern;\n",
        "cfg0.srcweight  = ones(1,nBarpats*2);\n",
        "cfg0.dettype    = 'pattern';\n",
        "cfg0.detpos     = [20 20 domsz(3)];\n",
        "cfg0.detdir     = [ 0  0 -1];\n",
        "cfg0.detparam1  = [60  0  0 0];\n",
        "cfg0.detparam2  = [ 0 60  0 0];\n",
        "cfg0.detpattern = srcpattern;\n",
        "cfg0.detweight  = ones(1,nBarpats*2);\n",
        "\n",
        "cfg = cfg0;\n",
        "[cfg0,sd0] = rbmeshprep(cfg0);\n",
        "\n",
        "% Run RB forward simulation\n",
        "[detphi0,phi0] = rbrunforward(cfg0,'sd',sd0);\n",
        "\n",
        "% Set fwd mesh to be homogeneous\n",
        "cfg = rbsetmesh(cfg,cfg.node,cfg.elem,cfg.prop,ones(size(cfg.node,1),1));\n",
        "\n",
        "% Prepare recon mesh\n",
        "resmesh    = 5;\n",
        "[no,elem]  = meshgrid5(0:resmesh:domsz(1),0:resmesh:domsz(2),0:resmesh:domsz(3)); % Meshbox domain (in mm)\n",
        "fc         = volface(elem);\n",
        "[no,fc]    = removeisolatednode(no,fc);\n",
        "[recon.node, recon.elem] = s2m(no,fc(:,1:3),1,50,'tetgen1.5');\n",
        "recon.elem = recon.elem(:,1:4);\n",
        "[recon.mapid,recon.mapweight] = tsearchn(recon.node,recon.elem(:,1:4),cfg.node);\n",
        "clear no elem fc\n"
      ],
      "metadata": {
        "id": "dXFS0lgNPj5l",
        "colab": {
          "base_uri": "https://localhost:8080/",
          "height": 871
        },
        "outputId": "f154256b-1d9d-446b-f38a-e560a9ecc9e1"
      },
      "execution_count": 23,
      "outputs": [
        {
          "output_type": "display_data",
          "data": {
            "text/plain": [
              "Surface Mesh Extraction Utility (Based on CGAL 3.8)"
            ]
          },
          "metadata": {}
        },
        {
          "output_type": "display_data",
          "data": {
            "text/plain": [
              "(modified for iso2mesh by Qianqian Fang)"
            ]
          },
          "metadata": {}
        },
        {
          "output_type": "display_data",
          "data": {
            "text/plain": [
              "http://iso2mesh.sf.net"
            ]
          },
          "metadata": {}
        },
        {
          "output_type": "display_data",
          "data": {
            "text/plain": []
          },
          "metadata": {}
        },
        {
          "output_type": "display_data",
          "data": {
            "text/plain": [
              "RNG seed 1648335518"
            ]
          },
          "metadata": {}
        },
        {
          "output_type": "display_data",
          "data": {
            "text/plain": [
              "set initial mesh size to 50"
            ]
          },
          "metadata": {}
        },
        {
          "output_type": "display_data",
          "data": {
            "text/plain": [
              "Refining... maximum node number is set to 40000"
            ]
          },
          "metadata": {}
        },
        {
          "output_type": "display_data",
          "data": {
            "text/plain": []
          },
          "metadata": {}
        },
        {
          "output_type": "display_data",
          "data": {
            "text/plain": [
              "done."
            ]
          },
          "metadata": {}
        },
        {
          "output_type": "display_data",
          "data": {
            "text/plain": [
              "Final number of points: 289"
            ]
          },
          "metadata": {}
        },
        {
          "output_type": "display_data",
          "data": {
            "text/plain": [
              "WARNING- Some triangles have been reversed to achieve orientation."
            ]
          },
          "metadata": {}
        },
        {
          "output_type": "display_data",
          "data": {
            "text/plain": [
              "Surface Mesh Extraction Utility (Based on CGAL 3.8)"
            ]
          },
          "metadata": {}
        },
        {
          "output_type": "display_data",
          "data": {
            "text/plain": [
              "(modified for iso2mesh by Qianqian Fang)"
            ]
          },
          "metadata": {}
        },
        {
          "output_type": "display_data",
          "data": {
            "text/plain": [
              "http://iso2mesh.sf.net"
            ]
          },
          "metadata": {}
        },
        {
          "output_type": "display_data",
          "data": {
            "text/plain": []
          },
          "metadata": {}
        },
        {
          "output_type": "display_data",
          "data": {
            "text/plain": [
              "RNG seed 1648335518"
            ]
          },
          "metadata": {}
        },
        {
          "output_type": "display_data",
          "data": {
            "text/plain": [
              "set initial mesh size to 50"
            ]
          },
          "metadata": {}
        },
        {
          "output_type": "display_data",
          "data": {
            "text/plain": [
              "Refining... maximum node number is set to 40000"
            ]
          },
          "metadata": {}
        },
        {
          "output_type": "display_data",
          "data": {
            "text/plain": []
          },
          "metadata": {}
        },
        {
          "output_type": "display_data",
          "data": {
            "text/plain": [
              "done."
            ]
          },
          "metadata": {}
        },
        {
          "output_type": "display_data",
          "data": {
            "text/plain": [
              "Final number of points: 289"
            ]
          },
          "metadata": {}
        },
        {
          "output_type": "display_data",
          "data": {
            "text/plain": [
              "WARNING- Some triangles have been reversed to achieve orientation."
            ]
          },
          "metadata": {}
        },
        {
          "output_type": "display_data",
          "data": {
            "text/plain": [
              "generating tetrahedral mesh from closed surfaces ..."
            ]
          },
          "metadata": {}
        },
        {
          "output_type": "display_data",
          "data": {
            "text/plain": [
              "creating volumetric mesh from a surface mesh ..."
            ]
          },
          "metadata": {}
        },
        {
          "output_type": "display_data",
          "data": {
            "text/plain": [
              "volume mesh generation is complete"
            ]
          },
          "metadata": {}
        },
        {
          "output_type": "display_data",
          "data": {
            "text/plain": [
              "mfreq = 0"
            ]
          },
          "metadata": {}
        },
        {
          "output_type": "display_data",
          "data": {
            "text/plain": [
              "generating tetrahedral mesh from closed surfaces ..."
            ]
          },
          "metadata": {}
        },
        {
          "output_type": "display_data",
          "data": {
            "text/plain": [
              "creating volumetric mesh from a surface mesh ..."
            ]
          },
          "metadata": {}
        },
        {
          "output_type": "display_data",
          "data": {
            "text/plain": [
              "volume mesh generation is complete"
            ]
          },
          "metadata": {}
        },
        {
          "output_type": "display_data",
          "data": {
            "image/png": "[encoded data removed]",
            "text/plain": [
              "<IPython.core.display.Image object>"
            ]
          },
          "metadata": {}
        }
      ]
    },
    {
      "cell_type": "markdown",
      "source": [
        "### Run bulk optical properties fitting\n",
        "\n",
        "If utilizing FD sources, we can then perform a bulk optical properties fitting to decouple absorption and reduce scatterring coefficients. Otherwise, set them to be the true background optical properties used to generate synthetic data.\n",
        "\n",
        "The bulk optical properties are then set as initial guess for launching the iterative reconstruction procedure."
      ],
      "metadata": {
        "id": "3kjP_ZG-Pn-T"
      }
    },
    {
      "cell_type": "code",
      "source": [
        "%%octave\n",
        "\n",
        "if cfg0.omega > 0 % If simulating FD data, run bulk fitting\n",
        "\n",
        "  % Set initial guess\n",
        "  recon.prop = [0     0   1 1    ; ...\n",
        "                0.008 0.9 0 1.37];\n",
        "\n",
        "  sd = rbsdmap(cfg);\n",
        "  [newrecon,resid] = rbrun(cfg,recon,detphi0,sd,'mode','bulk','lambda',1e-5,'maxiter',5);\n",
        "\n",
        "else % If running CW data, assing bulk optical properties\n",
        "\n",
        "  % Bulk optical properties to be used\n",
        "  newrecon.prop = [0       0 1 1    ; ...\n",
        "                   0.006 0.8 0 1.37];\n",
        "\n",
        "end\n",
        "\n",
        "% Set nodal-based optical properties to the bulk fitted values\n",
        "recon.prop = newrecon.prop(ones(size(recon.node,1),1)+1,:);\n",
        "cfg.prop   = newrecon.prop(ones(size(cfg.node,1),1)+1,:);\n",
        "cfg        = rmfield(cfg,'seg');\n",
        "newrecon.prop"
      ],
      "metadata": {
        "id": "8S2MF9pZPq2d",
        "colab": {
          "base_uri": "https://localhost:8080/",
          "height": 69
        },
        "outputId": "a3376b24-ed09-40d5-a6fd-e3ab4469ee48"
      },
      "execution_count": 24,
      "outputs": [
        {
          "output_type": "display_data",
          "data": {
            "text/plain": [
              "ans ="
            ]
          },
          "metadata": {}
        },
        {
          "output_type": "display_data",
          "data": {
            "text/plain": []
          },
          "metadata": {}
        },
        {
          "output_type": "display_data",
          "data": {
            "text/plain": [
              "        0        0   1.0000   1.0000"
            ]
          },
          "metadata": {}
        },
        {
          "output_type": "display_data",
          "data": {
            "text/plain": [
              "   0.0060   0.8000        0   1.3700"
            ]
          },
          "metadata": {}
        },
        {
          "output_type": "display_data",
          "data": {
            "text/plain": []
          },
          "metadata": {}
        }
      ]
    },
    {
      "cell_type": "markdown",
      "source": [
        "### Run iterative reconstruction"
      ],
      "metadata": {
        "id": "pf_Wg-RMPtoh"
      }
    },
    {
      "cell_type": "code",
      "source": [
        "%%octave\n",
        "\n",
        "sd = rbsdmap(cfg);\n",
        "[reconMS,residMS,cfgMS] = rbrun(cfg,recon,detphi0,sd,'mode','image','lambda',1e-6,'maxiter',5);"
      ],
      "metadata": {
        "id": "HjTO4-jaPvuZ",
        "colab": {
          "base_uri": "https://localhost:8080/",
          "height": 104
        },
        "outputId": "4972048e-dfbb-48ab-c451-da122d0b14d3"
      },
      "execution_count": 25,
      "outputs": [
        {
          "output_type": "display_data",
          "data": {
            "text/plain": [
              "iter [   1]: residual=1.010603e-04, relres=1.000000e+00 lambda=1.000000e-06 (time=14.076747 s)"
            ]
          },
          "metadata": {}
        },
        {
          "output_type": "display_data",
          "data": {
            "text/plain": [
              "iter [   2]: residual=2.685685e-06, relres=2.657508e-02 lambda=1.000000e-06 (time=13.950665 s)"
            ]
          },
          "metadata": {}
        },
        {
          "output_type": "display_data",
          "data": {
            "text/plain": [
              "iter [   3]: residual=2.009516e-07, relres=1.988433e-03 lambda=1.000000e-06 (time=14.060203 s)"
            ]
          },
          "metadata": {}
        },
        {
          "output_type": "display_data",
          "data": {
            "text/plain": [
              "iter [   4]: residual=1.666475e-07, relres=1.648992e-03 lambda=1.000000e-06 (time=13.953069 s)"
            ]
          },
          "metadata": {}
        },
        {
          "output_type": "display_data",
          "data": {
            "text/plain": [
              "iter [   5]: residual=1.453360e-07, relres=1.438112e-03 lambda=1.000000e-06 (time=13.927970 s)"
            ]
          },
          "metadata": {}
        }
      ]
    },
    {
      "cell_type": "markdown",
      "source": [
        "### Visualize reconstructed tomographic images"
      ],
      "metadata": {
        "id": "8IlB3cMnPyWY"
      }
    },
    {
      "cell_type": "code",
      "source": [
        "%%octave\n",
        "\n",
        "% Generate a cross section slice of the domain\n",
        "[xi,yi]             = meshgrid(min(cfg.node(:,1),[],1):1:max(cfg.node(:,1),[],1),min(cfg.node(:,2),[],1):1:max(cfg.node(:,2),[],1));\n",
        "[cutpos,cutvalue,~] = qmeshcut(reconMS.elem,reconMS.node,(reconMS.prop(:,1)),char(strcat('z =',num2str(s0(1,3)))));\n",
        "clear vphi\n",
        "vphi(:,:,1)         = griddata(cutpos(:,1),cutpos(:,2),cutvalue,xi,yi);\n",
        "\n",
        "% Visualize results\n",
        "figure,\n",
        "subplot(1,2,1);\n",
        "axis equal\n",
        "hold on;\n",
        "imagesc(vphi);\n",
        "colorbar;\n",
        "axis tight;\n",
        "for mm = 1:size(s0,1)\n",
        "    hold on,plot(1:size(vphi,2),s0(mm,2).*ones(1,size(vphi,2)),'LineWidth',4,'LineStyle','-.')\n",
        "end\n",
        "subplot(1,2,2)\n",
        "for mm = 1:size(s0,1)\n",
        "    hold on,plot(vphi(s0(mm,2),:))\n",
        "end"
      ],
      "metadata": {
        "id": "UMOfLorzP0Y5",
        "colab": {
          "base_uri": "https://localhost:8080/",
          "height": 437
        },
        "outputId": "d14eb6c4-12d9-404c-bef7-1613f4df1c42"
      },
      "execution_count": 41,
      "outputs": [
        {
          "output_type": "display_data",
          "data": {
            "image/png": "[encoded data removed]",
            "text/plain": [
              "<IPython.core.display.Image object>"
            ]
          },
          "metadata": {}
        }
      ]
    }
  ]
}