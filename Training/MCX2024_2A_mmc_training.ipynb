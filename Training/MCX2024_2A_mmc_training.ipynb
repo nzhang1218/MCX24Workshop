{
  "cells": [
    {
      "cell_type": "markdown",
      "metadata": {
        "id": "view-in-github",
        "colab_type": "text"
      },
      "source": [
        "<a href=\"https://colab.research.google.com/github/COTILab/MCX24Workshop/blob/master/Training/MCX2024_2A_mmc_training.ipynb\" target=\"_parent\"><img src=\"https://colab.research.google.com/assets/colab-badge.svg\" alt=\"Open In Colab\"/></a>"
      ]
    },
    {
      "cell_type": "code",
      "source": [
        "#@title <font color='orange'>Init 1: Initial setup of environment for running MCXLAB (run the below section once)</font>\n",
        "\n",
        "# hide logs since they take up lots of screen space during installation\n",
        "%%capture\n",
        "# install octave and oct2py\n",
        "! sudo apt-get update && sudo apt-get install octave jq libpocl2 pocl-opencl-icd    # install octave (a free matlab clone)\n",
        "! pip install oct2py jdata bjdata matplotlib   # install oct2py, jdata, bjdata and matplotlib Python modules\n",
        "\n",
        "!apt-get install nvidia-opencl-icd-384        # optional: install nvidia OpenCL(+2min), needed for mmc/mmclab demos\n",
        "!apt-get install liboctave-dev # liboctave needed to install mmclab octave\n",
        "\n",
        "# add octave support to colab notebook\n",
        "%load_ext oct2py.ipython\n",
        "\n",
        "# download and unzip mcxlab\n",
        "! rm -rf mcxlab*\n",
        "#! wget http://mcx.space/nightly/release/v2020/mmclab-linux-x86_64-v2020.zip  # download MCX suite\n",
        "#! unzip -o mmclab-linux-x86_64-v2020.zip && rm -rf mmclab-linux-x86_64-v2020.zip # unzip MCX suite\n",
        "\n",
        "# download and install MMC\n",
        "!git clone https://github.com/fangq/mmc.git\n",
        "\n",
        "# compile MMC for octave\n",
        "!make oct -C mmc/src\n",
        "\n",
        "# add executable to the shell's paths\n",
        "! sudo cp -a $PWD/MCXStudio/MCXSuite/mcx/bin/mcx /usr/local/bin\n",
        "! sudo cp -a $PWD/MCXStudio/MCXSuite/mcxcl/bin/mcxcl /usr/local/bin\n",
        "! sudo cp -a $PWD/MCXStudio/MCXSuite/mmc/bin/mmc /usr/local/bin\n",
        "! cp -a $PWD/MCXStudio/MATLAB/zmat/octave/gnu-linux-x86_64/zipmat.mex $PWD/MCXStudio/MATLAB/zmat/\n",
        "\n",
        "# if a GPU runtime can not be allocated, run this section to setup OpenCL and MCXLAB-CL\n",
        "! [[ ! -f `which nvidia-smi` ]] && sudo mv /usr/local/bin/mcxcl /usr/local/bin/mcx\n",
        "! mcx -L"
      ],
      "metadata": {
        "id": "FOSfRwsyzQgt",
        "cellView": "form",
        "collapsed": true
      },
      "execution_count": 39,
      "outputs": []
    },
    {
      "cell_type": "code",
      "execution_count": null,
      "metadata": {
        "collapsed": true,
        "id": "8QsyOOBgAxfA"
      },
      "outputs": [],
      "source": [
        "# @title Install iso2mesh for tetrahedral meshing in octave:\n",
        "\n",
        "# download and unzip iso2mesh\n",
        "!git clone https://github.com/fangq/iso2mesh.git\n"
      ]
    },
    {
      "cell_type": "code",
      "execution_count": null,
      "metadata": {
        "collapsed": true,
        "id": "IWg8T2-5SwT4"
      },
      "outputs": [],
      "source": [
        "# @title Add paths in octave (same as adding folders in matlab)\n",
        "%%octave\n",
        "\n",
        "addpath(genpath([pwd filesep 'mmc']));                 % add path to mmc\n",
        "\n",
        "addpath(genpath([pwd filesep 'mmclab']));\n",
        "addpath([pwd filesep 'iso2mesh']);                 % add path to iso2mesh"
      ]
    },
    {
      "cell_type": "code",
      "source": [
        "# @title Check installation of different packages in octave\n",
        "%%octave\n",
        "% check that mmclab is installed\n",
        "help mmclab\n",
        "% check that iso2mesh is installed\n",
        "help dist2surf\n",
        "\n",
        "%mmclab('gpuinfo')"
      ],
      "metadata": {
        "id": "bfvMmvOCOvdt",
        "collapsed": true,
        "cellView": "form"
      },
      "execution_count": null,
      "outputs": []
    },
    {
      "cell_type": "code",
      "source": [
        "# @title Prepare mesh for slab model of brain\n",
        "\n",
        "%%octave\n",
        "\n",
        "addpath(genpath([pwd filesep 'mmc']));                 % add path to mmc\n",
        "addpath([pwd filesep 'iso2mesh']);                 % add path to iso2mesh\n",
        "\n",
        "% thickness of each layer in mm\n",
        "TN=[7.25,4.00,2.73,3.29,4.23];\n",
        "\n",
        "% prepare simulation mesh (a five layered slab):\n",
        "\n",
        "% prepares a surface-only mesh:\n",
        "[nodes,faces]=latticegrid([0 200],[0 200],[0 TN(1,1) sum(TN(1,1:2)) sum(TN(1,1:3)) sum(TN(1,1:4)) 50]);\n",
        "\n",
        "% plot the surface mesh to verify it is correct\n",
        "%plotmesh(nodes, faces);\n",
        "\n",
        "% prepares interior tetrahedrons for that mesh:\n",
        "% max_volume is very important and determines our mesh density\n",
        "% dramatically impacts performance:\n",
        "max_volume = 100;\n",
        "\n",
        "[nodes,elems]=surf2mesh(nodes,faces,[],[],1,max_volume,[1 1 4;1 1 9;1 1 12;1 1 14.5;1 1 25]);\n",
        "\n",
        "% plot the tetrahedral mesh to verify it is correct:\n",
        "plotmesh(nodes, elems);\n",
        "\n",
        "% save the mesh values:\n",
        "save -mat7-binary layered_slab nodes elems;"
      ],
      "metadata": {
        "id": "XHNLNcW6oDbx",
        "collapsed": true,
        "colab": {
          "base_uri": "https://localhost:8080/",
          "height": 509
        },
        "outputId": "6e1584e3-9add-4916-df82-ebdfc16dd8e5"
      },
      "execution_count": 40,
      "outputs": [
        {
          "output_type": "display_data",
          "data": {
            "text/plain": [
              "generating tetrahedral mesh from closed surfaces ..."
            ]
          },
          "metadata": {}
        },
        {
          "output_type": "display_data",
          "data": {
            "text/plain": [
              "creating volumetric mesh from a surface mesh ..."
            ]
          },
          "metadata": {}
        },
        {
          "output_type": "display_data",
          "data": {
            "text/plain": [
              "volume mesh generation is complete"
            ]
          },
          "metadata": {}
        },
        {
          "output_type": "display_data",
          "data": {
            "image/png": "[encoded data removed]",
            "text/plain": [
              "<IPython.core.display.Image object>"
            ]
          },
          "metadata": {}
        }
      ]
    },
    {
      "cell_type": "code",
      "source": [
        "# @title Refine Tetrahedron sizes near the source\n",
        "# this may be necessary when you are plotting near the source or want higher spatial resolution for fluence near the source (or any other feature)\n",
        "# prevents performance issues from an otherwise large domain\n",
        "\n",
        "%%octave\n",
        "\n",
        "addpath(genpath([pwd filesep 'mmc']));                 % add path to mmc\n",
        "addpath([pwd filesep 'iso2mesh']);                 % add path to iso2mesh\n",
        "\n",
        "\n",
        "load('layered_slab');\n",
        "centroids = meshcentroid(nodes, elems(:,1:4));\n",
        "\n",
        "% set maxvols to a large value by default\n",
        "% to later set smaller values for specific elements\n",
        "maxvols = ones(size(elems,1),1)*10000;\n",
        "% refine the size of tetrahedrons near the source if desired (not necessary in DMMC):\n",
        "for i=1:size(elems,1)\n",
        "\n",
        "    % Get elem centroid distance from source\n",
        "    Dist = norm([centroids(i,:).-[100,100,0]], 2);\n",
        "    dist(i) = Dist;\n",
        "    % Refine elements based on distance to source\n",
        "    if Dist<38\n",
        "        maxvols(i)=4;\n",
        "    elseif Dist<20\n",
        "        maxvols(i)=2;\n",
        "    end\n",
        "end\n",
        "\n",
        "% this command selectively refines (splits into smaller tetrahedrons)\n",
        "% all the tetrahedrons based on the maxvols sizes.\n",
        "[new_nodes, new_elems] = meshrefine(nodes, elems, maxvols);\n",
        "\n",
        "plotmesh(new_nodes, new_elems);\n",
        "view(-45, -45);\n",
        "\n",
        "% save new mesh values:\n",
        "nodes = new_nodes;\n",
        "elems = new_elems;\n",
        "save -mat7-binary layered_slab nodes elems;"
      ],
      "metadata": {
        "id": "_JEY7N2z2Po_",
        "cellView": "form"
      },
      "execution_count": null,
      "outputs": []
    },
    {
      "cell_type": "code",
      "source": [
        "# @title Prepare MMC simulation config\n",
        "%%octave\n",
        "\n",
        "% load the mesh we prepared earlier\n",
        "load('layered_slab');\n",
        "\n",
        "% set the config values to the mesh variables\n",
        "cfg_mmc.node=nodes;\n",
        "cfg_mmc.elem=elems;\n",
        "\n",
        "% set the number of photons\n",
        "nphotons=1e4;\n",
        "cfg_mmc.nphoton=nphotons;\n",
        "\n",
        "% set the random seed\n",
        "cfg_mmc.seed=1234567;\n",
        "\n",
        "% set the source position and direction:\n",
        "cfg_mmc.srcpos=[99.5, 100, 0];\n",
        "cfg_mmc.srcdir=[0, 0, 1];\n",
        "\n",
        "% we can plot the source position and direction\n",
        "% to verify it is in the location on the mesh:\n",
        "figure;\n",
        "hold on;\n",
        "plotmesh(nodes, elems, 'x>50 & x<150 & y>50 & y<150');\n",
        "scatter3(cfg_mmc.srcpos(1), cfg_mmc.srcpos(2), cfg_mmc.srcpos(3), 1000, 'MarkerFaceColor', 'r');\n",
        "quiver3(cfg_mmc.srcpos(1), cfg_mmc.srcpos(2), cfg_mmc.srcpos(3),\n",
        "        cfg_mmc.srcdir(1), cfg_mmc.srcdir(2), cfg_mmc.srcdir(3), 'MaxHeadSize', 10, 'Color', 'r', 'MarkerFaceColor', 'r');\n",
        "\n",
        "% change view direction to view the mesh from the zero-side of the z-axis:\n",
        "view(-47, -45);\n",
        "cfg_mmc.srctype='pencil';\n",
        "\n",
        "% we set detector positions then plot them to verify positions:\n",
        "% the following coordinates set detectors at 20, 25, 30, and 35mm away from the source with a radius of 1.5mm\n",
        "cfg_mmc.detpos=[99.5, 120, 0, 1.5;\n",
        "                99.5, 125, 0, 1.5;\n",
        "                99.5, 130, 0, 1.5;\n",
        "                99.5, 135, 0, 1.5];\n",
        "scatter3(cfg_mmc.detpos(:,1), cfg_mmc.detpos(:,2), cfg_mmc.detpos(:,3), 500, 'MarkerEdgeColor', 'b', 'MarkerFaceColor', 'b');\n",
        "\n",
        "% set the time bounds of the simulation in seconds:\n",
        "cfg_mmc.tstart=0;\n",
        "cfg_mmc.tend=5e-9;\n",
        "cfg_mmc.tstep=5e-9;\n",
        "\n",
        "% set the medium properties:\n",
        "% labeling,1-air,2-scalp,3-skull,4-csf,5-gray matter,6-white matter\n",
        "cfg_mmc.prop=[0,0,1,1;\n",
        "              0.019, 7.8, 0.89, 1.37;\n",
        "              0.019, 7.8, 0.89, 1.37;\n",
        "              0.004, 0.009, 0.89, 1.37;\n",
        "              0.02, 9.0, 0.89, 1.37;\n",
        "              0.08, 40.9, 0.84, 1.37];\n",
        "\n",
        "% this sets up a progress bar and timer\n",
        "cfg_mmc.debuglevel='TP';\n",
        "\n",
        "% tells the simulation to calculate boundary reflections\n",
        "cfg_mmc.isreflect=1;\n",
        "\n",
        "% ray tracing method, elem is typical for mesh-based simulations,\n",
        "% but 'grid' option will allow faster dual-grid version, at the cost of\n",
        "% flexibility in discretization of results.\n",
        "cfg_mmc.method='elem';\n",
        "\n",
        "% can choose flux or fluence (flux*tstep) as outputs for time gates.\n",
        "% there is also energy for energy deposition, and several features for fast\n",
        "% jacobian calculation using our replay method (https://www.ncbi.nlm.nih.gov/pmc/articles/PMC6179418/)\n",
        "cfg_mmc.outputtype='fluence';\n",
        "cfg_mmc.isreoriented=0;\n",
        "\n",
        "% picks which gpu to run on, by setting ones or zeros.\n",
        "% if you had three GPUs and you wanted to use all three, you would do:\n",
        "% cfg_mmc.gpuid='111';\n",
        "% if you had three GPUs and wanted to use the last two, you would do:\n",
        "% cfg_mmc.gpuid='011';\n",
        "\n",
        "cfg_mmc.gpuid='1';\n",
        "\n",
        "% save the config file\n",
        "save -mat7-binary config cfg_mmc\n",
        "\n"
      ],
      "metadata": {
        "id": "EmMrhCiPjf82",
        "cellView": "form",
        "colab": {
          "base_uri": "https://localhost:8080/",
          "height": 457
        },
        "outputId": "406bd00c-5ffe-4da9-cb20-f08acbfa3a18"
      },
      "execution_count": 42,
      "outputs": [
        {
          "output_type": "display_data",
          "data": {
            "image/png": "[encoded data removed]",
            "text/plain": [
              "<IPython.core.display.Image object>"
            ]
          },
          "metadata": {}
        }
      ]
    },
    {
      "cell_type": "code",
      "source": [
        "#@title Run the MMC Slab-brain simulation\n",
        "%%octave\n",
        "\n",
        "load config\n",
        "\n",
        "%% run the simulation\n",
        "[fluence, detected_photons] = mmclab(cfg_mmc);\n",
        "\n",
        "%% save the resulting data:\n",
        "save -mat7-binary sim_data fluence cfg_mmc;\n"
      ],
      "metadata": {
        "colab": {
          "base_uri": "https://localhost:8080/",
          "height": 1000
        },
        "id": "3XO0Rem8ovde",
        "outputId": "71d7af22-50c0-4edc-88bd-47422d54aaf9"
      },
      "execution_count": 43,
      "outputs": [
        {
          "output_type": "display_data",
          "data": {
            "text/plain": [
              "warning: library /content/mmc/mmclab/mmc.mex not reloaded due to existing references"
            ]
          },
          "metadata": {}
        },
        {
          "output_type": "display_data",
          "data": {
            "text/plain": [
              "warning: called from"
            ]
          },
          "metadata": {}
        },
        {
          "output_type": "display_data",
          "data": {
            "text/plain": [
              "    mmclab at line 430 column 27"
            ]
          },
          "metadata": {}
        },
        {
          "output_type": "display_data",
          "data": {
            "text/plain": [
              "    _pyeval at line 48 column 11"
            ]
          },
          "metadata": {}
        },
        {
          "output_type": "display_data",
          "data": {
            "text/plain": []
          },
          "metadata": {}
        },
        {
          "output_type": "display_data",
          "data": {
            "text/plain": [
              "Launching MMCLAB - Mesh-based Monte Carlo for MATLAB & GNU Octave ..."
            ]
          },
          "metadata": {}
        },
        {
          "output_type": "display_data",
          "data": {
            "text/plain": [
              "Running simulations for configuration #1 ..."
            ]
          },
          "metadata": {}
        },
        {
          "output_type": "display_data",
          "data": {
            "text/plain": [
              "mmc.nn=18972;"
            ]
          },
          "metadata": {}
        },
        {
          "output_type": "display_data",
          "data": {
            "text/plain": [
              "mmc.elem=[109020,4];"
            ]
          },
          "metadata": {}
        },
        {
          "output_type": "display_data",
          "data": {
            "text/plain": [
              "mmc.nphoton=10000;"
            ]
          },
          "metadata": {}
        },
        {
          "output_type": "display_data",
          "data": {
            "text/plain": [
              "mmc.seed=1234567;"
            ]
          },
          "metadata": {}
        },
        {
          "output_type": "display_data",
          "data": {
            "text/plain": [
              "mmc.srcpos=[99.5 100 0];"
            ]
          },
          "metadata": {}
        },
        {
          "output_type": "display_data",
          "data": {
            "text/plain": [
              "mmc.srcdir=[0 0 1 0];"
            ]
          },
          "metadata": {}
        },
        {
          "output_type": "display_data",
          "data": {
            "text/plain": [
              "mmc.srctype='pencil';"
            ]
          },
          "metadata": {}
        },
        {
          "output_type": "display_data",
          "data": {
            "text/plain": [
              "mmc.detnum=4;"
            ]
          },
          "metadata": {}
        },
        {
          "output_type": "display_data",
          "data": {
            "text/plain": [
              "mmc.tstart=0;"
            ]
          },
          "metadata": {}
        },
        {
          "output_type": "display_data",
          "data": {
            "text/plain": [
              "mmc.tend=5e-09;"
            ]
          },
          "metadata": {}
        },
        {
          "output_type": "display_data",
          "data": {
            "text/plain": [
              "mmc.tstep=5e-09;"
            ]
          },
          "metadata": {}
        },
        {
          "output_type": "display_data",
          "data": {
            "text/plain": [
              "mmc.prop=5;"
            ]
          },
          "metadata": {}
        },
        {
          "output_type": "display_data",
          "data": {
            "text/plain": [
              "mmc.debuglevel='TP';"
            ]
          },
          "metadata": {}
        },
        {
          "output_type": "display_data",
          "data": {
            "text/plain": [
              "mmc.isreflect=1;"
            ]
          },
          "metadata": {}
        },
        {
          "output_type": "display_data",
          "data": {
            "text/plain": [
              "mmc.method='elem';"
            ]
          },
          "metadata": {}
        },
        {
          "output_type": "display_data",
          "data": {
            "text/plain": [
              "mmc.outputtype='fluence';"
            ]
          },
          "metadata": {}
        },
        {
          "output_type": "display_data",
          "data": {
            "text/plain": [
              "mmc.gpuid='1';"
            ]
          },
          "metadata": {}
        },
        {
          "output_type": "display_data",
          "data": {
            "text/plain": [
              "mmc.ne=109020;"
            ]
          },
          "metadata": {}
        },
        {
          "output_type": "display_data",
          "data": {
            "text/plain": [
              "mmc.facenb=[109020,4];"
            ]
          },
          "metadata": {}
        },
        {
          "output_type": "display_data",
          "data": {
            "text/plain": [
              "mmc.evol=109020;"
            ]
          },
          "metadata": {}
        },
        {
          "output_type": "display_data",
          "data": {
            "text/plain": [
              "mmc.e0=36412;"
            ]
          },
          "metadata": {}
        },
        {
          "output_type": "display_data",
          "data": {
            "text/plain": [
              "\tdone\t39"
            ]
          },
          "metadata": {}
        },
        {
          "output_type": "display_data",
          "data": {
            "text/plain": [
              "simulating ..."
            ]
          },
          "metadata": {}
        },
        {
          "output_type": "display_data",
          "data": {
            "text/plain": [
              "###############################################################################"
            ]
          },
          "metadata": {}
        },
        {
          "output_type": "display_data",
          "data": {
            "text/plain": [
              "#                     Mesh-based Monte Carlo (MMC) - OpenCL                   #"
            ]
          },
          "metadata": {}
        },
        {
          "output_type": "display_data",
          "data": {
            "text/plain": [
              "#          Copyright (c) 2010-2024 Qianqian Fang <q.fang at neu.edu>          #"
            ]
          },
          "metadata": {}
        },
        {
          "output_type": "display_data",
          "data": {
            "text/plain": [
              "#              https://mcx.space/#mmc  &  https://neurojson.io/               #"
            ]
          },
          "metadata": {}
        },
        {
          "output_type": "display_data",
          "data": {
            "text/plain": [
              "#                                                                             #"
            ]
          },
          "metadata": {}
        },
        {
          "output_type": "display_data",
          "data": {
            "text/plain": [
              "#Computational Optics & Translational Imaging (COTI) Lab  [http://fanglab.org]#"
            ]
          },
          "metadata": {}
        },
        {
          "output_type": "display_data",
          "data": {
            "text/plain": [
              "#   Department of Bioengineering, Northeastern University, Boston, MA, USA    #"
            ]
          },
          "metadata": {}
        },
        {
          "output_type": "display_data",
          "data": {
            "text/plain": [
              "###############################################################################"
            ]
          },
          "metadata": {}
        },
        {
          "output_type": "display_data",
          "data": {
            "text/plain": [
              "#    The MCX Project is funded by the NIH/NIGMS under grant R01-GM114365      #"
            ]
          },
          "metadata": {}
        },
        {
          "output_type": "display_data",
          "data": {
            "text/plain": [
              "###############################################################################"
            ]
          },
          "metadata": {}
        },
        {
          "output_type": "display_data",
          "data": {
            "text/plain": [
              "#  Open-source codes and reusable scientific data are essential for research, #"
            ]
          },
          "metadata": {}
        },
        {
          "output_type": "display_data",
          "data": {
            "text/plain": [
              "# MCX proudly developed human-readable JSON-based data formats for easy reuse.#"
            ]
          },
          "metadata": {}
        },
        {
          "output_type": "display_data",
          "data": {
            "text/plain": [
              "#                                                                             #"
            ]
          },
          "metadata": {}
        },
        {
          "output_type": "display_data",
          "data": {
            "text/plain": [
              "#Please visit our free scientific data sharing portal at https://neurojson.io/#"
            ]
          },
          "metadata": {}
        },
        {
          "output_type": "display_data",
          "data": {
            "text/plain": [
              "# and consider sharing your public datasets in standardized JSON/JData format #"
            ]
          },
          "metadata": {}
        },
        {
          "output_type": "display_data",
          "data": {
            "text/plain": [
              "###############################################################################"
            ]
          },
          "metadata": {}
        },
        {
          "output_type": "display_data",
          "data": {
            "text/plain": [
              "$Rev::      $v2024.2 $Date::                       $ by $Author::             $"
            ]
          },
          "metadata": {}
        },
        {
          "output_type": "display_data",
          "data": {
            "text/plain": [
              "###############################################################################"
            ]
          },
          "metadata": {}
        },
        {
          "output_type": "display_data",
          "data": {
            "text/plain": [
              "- variant name: [MMC-OpenCL] compiled with OpenCL version [1]"
            ]
          },
          "metadata": {}
        },
        {
          "output_type": "display_data",
          "data": {
            "text/plain": [
              "- compiled with: [RNG] xorshift128+ RNG [Seed Length] 4"
            ]
          },
          "metadata": {}
        },
        {
          "output_type": "display_data",
          "data": {
            "text/plain": [
              "initializing streams ...\tinit complete : 0 ms"
            ]
          },
          "metadata": {}
        },
        {
          "output_type": "display_data",
          "data": {
            "text/plain": [
              "Building kernel with option: -cl-mad-enable -DMCX_USE_NATIVE -DMCX_SIMPLIFY_BRANCH -DMCX_VECTOR_INDEX -DMCX_SRC_PENCIL   -DUSE_ATOMIC -DMCX_SAVE_DETECTORS -DMCX_DO_REFLECTION -DUSE_BLBADOUEL"
            ]
          },
          "metadata": {}
        },
        {
          "output_type": "display_data",
          "data": {
            "text/plain": [
              "build program complete : 225 ms"
            ]
          },
          "metadata": {}
        },
        {
          "output_type": "display_data",
          "data": {
            "text/plain": [
              "- [device 0(1): pthread-Intel(R) Xeon(R) CPU @ 2.20GHz] threadph=78 oddphotons=16 np=10000.0 nthread=128 nblock=64 repetition=1"
            ]
          },
          "metadata": {}
        },
        {
          "output_type": "display_data",
          "data": {
            "text/plain": [
              "set kernel arguments complete : 226 ms 3"
            ]
          },
          "metadata": {}
        },
        {
          "output_type": "display_data",
          "data": {
            "text/plain": [
              "lauching mcx_main_loop for time window [0.0ns 5.0ns] ..."
            ]
          },
          "metadata": {}
        },
        {
          "output_type": "display_data",
          "data": {
            "text/plain": [
              "simulation run# 1 ..."
            ]
          },
          "metadata": {}
        },
        {
          "output_type": "display_data",
          "data": {
            "text/plain": [
              "Progress: [>                                                             ]   0%\b\b\b\b\b\b\b\b\b\b\b\b\b\b\b\b\b\b\b\b\b\b\b\b\b\b\b\b\b\b\b\b\b\b\b\b\b\b\b\b\b\b\b\b\b\b\b\b\b\b\b\b\b\b\b\b\b\b\b\b\b\b\b\b\b\b\b\b\b\b\b\b\b\b\b\b\b\b\bProgress: [=>                                                            ]   2%\b\b\b\b\b\b\b\b\b\b\b\b\b\b\b\b\b\b\b\b\b\b\b\b\b\b\b\b\b\b\b\b\b\b\b\b\b\b\b\b\b\b\b\b\b\b\b\b\b\b\b\b\b\b\b\b\b\b\b\b\b\b\b\b\b\b\b\b\b\b\b\b\b\b\b\b\b\b\bProgress: [==>                                                           ]   3%\b\b\b\b\b\b\b\b\b\b\b\b\b\b\b\b\b\b\b\b\b\b\b\b\b\b\b\b\b\b\b\b\b\b\b\b\b\b\b\b\b\b\b\b\b\b\b\b\b\b\b\b\b\b\b\b\b\b\b\b\b\b\b\b\b\b\b\b\b\b\b\b\b\b\b\b\b\b\bProgress: [===>                                                          ]   5%\b\b\b\b\b\b\b\b\b\b\b\b\b\b\b\b\b\b\b\b\b\b\b\b\b\b\b\b\b\b\b\b\b\b\b\b\b\b\b\b\b\b\b\b\b\b\b\b\b\b\b\b\b\b\b\b\b\b\b\b\b\b\b\b\b\b\b\b\b\b\b\b\b\b\b\b\b\b\bProgress: [====>                                                         ]   7%\b\b\b\b\b\b\b\b\b\b\b\b\b\b\b\b\b\b\b\b\b\b\b\b\b\b\b\b\b\b\b\b\b\b\b\b\b\b\b\b\b\b\b\b\b\b\b\b\b\b\b\b\b\b\b\b\b\b\b\b\b\b\b\b\b\b\b\b\b\b\b\b\b\b\b\b\b\b\bProgress: [=====>                                                        ]   8%\b\b\b\b\b\b\b\b\b\b\b\b\b\b\b\b\b\b\b\b\b\b\b\b\b\b\b\b\b\b\b\b\b\b\b\b\b\b\b\b\b\b\b\b\b\b\b\b\b\b\b\b\b\b\b\b\b\b\b\b\b\b\b\b\b\b\b\b\b\b\b\b\b\b\b\b\b\b\bProgress: [=======>                                                      ]  11%\b\b\b\b\b\b\b\b\b\b\b\b\b\b\b\b\b\b\b\b\b\b\b\b\b\b\b\b\b\b\b\b\b\b\b\b\b\b\b\b\b\b\b\b\b\b\b\b\b\b\b\b\b\b\b\b\b\b\b\b\b\b\b\b\b\b\b\b\b\b\b\b\b\b\b\b\b\b\bProgress: [========>                                                     ]  14%\b\b\b\b\b\b\b\b\b\b\b\b\b\b\b\b\b\b\b\b\b\b\b\b\b\b\b\b\b\b\b\b\b\b\b\b\b\b\b\b\b\b\b\b\b\b\b\b\b\b\b\b\b\b\b\b\b\b\b\b\b\b\b\b\b\b\b\b\b\b\b\b\b\b\b\b\b\b\bProgress: [=========>                                                    ]  15%\b\b\b\b\b\b\b\b\b\b\b\b\b\b\b\b\b\b\b\b\b\b\b\b\b\b\b\b\b\b\b\b\b\b\b\b\b\b\b\b\b\b\b\b\b\b\b\b\b\b\b\b\b\b\b\b\b\b\b\b\b\b\b\b\b\b\b\b\b\b\b\b\b\b\b\b\b\b\bProgress: [==========>                                                   ]  17%\b\b\b\b\b\b\b\b\b\b\b\b\b\b\b\b\b\b\b\b\b\b\b\b\b\b\b\b\b\b\b\b\b\b\b\b\b\b\b\b\b\b\b\b\b\b\b\b\b\b\b\b\b\b\b\b\b\b\b\b\b\b\b\b\b\b\b\b\b\b\b\b\b\b\b\b\b\b\bProgress: [===========>                                                  ]  18%\b\b\b\b\b\b\b\b\b\b\b\b\b\b\b\b\b\b\b\b\b\b\b\b\b\b\b\b\b\b\b\b\b\b\b\b\b\b\b\b\b\b\b\b\b\b\b\b\b\b\b\b\b\b\b\b\b\b\b\b\b\b\b\b\b\b\b\b\b\b\b\b\b\b\b\b\b\b\bProgress: [============>                                                 ]  21%\b\b\b\b\b\b\b\b\b\b\b\b\b\b\b\b\b\b\b\b\b\b\b\b\b\b\b\b\b\b\b\b\b\b\b\b\b\b\b\b\b\b\b\b\b\b\b\b\b\b\b\b\b\b\b\b\b\b\b\b\b\b\b\b\b\b\b\b\b\b\b\b\b\b\b\b\b\b\bProgress: [=============>                                                ]  22%\b\b\b\b\b\b\b\b\b\b\b\b\b\b\b\b\b\b\b\b\b\b\b\b\b\b\b\b\b\b\b\b\b\b\b\b\b\b\b\b\b\b\b\b\b\b\b\b\b\b\b\b\b\b\b\b\b\b\b\b\b\b\b\b\b\b\b\b\b\b\b\b\b\b\b\b\b\b\bProgress: [===============>                                              ]  25%\b\b\b\b\b\b\b\b\b\b\b\b\b\b\b\b\b\b\b\b\b\b\b\b\b\b\b\b\b\b\b\b\b\b\b\b\b\b\b\b\b\b\b\b\b\b\b\b\b\b\b\b\b\b\b\b\b\b\b\b\b\b\b\b\b\b\b\b\b\b\b\b\b\b\b\b\b\b\bProgress: [=================>                                            ]  28%\b\b\b\b\b\b\b\b\b\b\b\b\b\b\b\b\b\b\b\b\b\b\b\b\b\b\b\b\b\b\b\b\b\b\b\b\b\b\b\b\b\b\b\b\b\b\b\b\b\b\b\b\b\b\b\b\b\b\b\b\b\b\b\b\b\b\b\b\b\b\b\b\b\b\b\b\b\b\bProgress: [==================>                                           ]  29%\b\b\b\b\b\b\b\b\b\b\b\b\b\b\b\b\b\b\b\b\b\b\b\b\b\b\b\b\b\b\b\b\b\b\b\b\b\b\b\b\b\b\b\b\b\b\b\b\b\b\b\b\b\b\b\b\b\b\b\b\b\b\b\b\b\b\b\b\b\b\b\b\b\b\b\b\b\b\bProgress: [====================>                                         ]  32%\b\b\b\b\b\b\b\b\b\b\b\b\b\b\b\b\b\b\b\b\b\b\b\b\b\b\b\b\b\b\b\b\b\b\b\b\b\b\b\b\b\b\b\b\b\b\b\b\b\b\b\b\b\b\b\b\b\b\b\b\b\b\b\b\b\b\b\b\b\b\b\b\b\b\b\b\b\b\bProgress: [=====================>                                        ]  35%\b\b\b\b\b\b\b\b\b\b\b\b\b\b\b\b\b\b\b\b\b\b\b\b\b\b\b\b\b\b\b\b\b\b\b\b\b\b\b\b\b\b\b\b\b\b\b\b\b\b\b\b\b\b\b\b\b\b\b\b\b\b\b\b\b\b\b\b\b\b\b\b\b\b\b\b\b\b\bProgress: [======================>                                       ]  37%\b\b\b\b\b\b\b\b\b\b\b\b\b\b\b\b\b\b\b\b\b\b\b\b\b\b\b\b\b\b\b\b\b\b\b\b\b\b\b\b\b\b\b\b\b\b\b\b\b\b\b\b\b\b\b\b\b\b\b\b\b\b\b\b\b\b\b\b\b\b\b\b\b\b\b\b\b\b\bProgress: [=======================>                                      ]  39%\b\b\b\b\b\b\b\b\b\b\b\b\b\b\b\b\b\b\b\b\b\b\b\b\b\b\b\b\b\b\b\b\b\b\b\b\b\b\b\b\b\b\b\b\b\b\b\b\b\b\b\b\b\b\b\b\b\b\b\b\b\b\b\b\b\b\b\b\b\b\b\b\b\b\b\b\b\b\bProgress: [========================>                                     ]  39%\b\b\b\b\b\b\b\b\b\b\b\b\b\b\b\b\b\b\b\b\b\b\b\b\b\b\b\b\b\b\b\b\b\b\b\b\b\b\b\b\b\b\b\b\b\b\b\b\b\b\b\b\b\b\b\b\b\b\b\b\b\b\b\b\b\b\b\b\b\b\b\b\b\b\b\b\b\b\bProgress: [=========================>                                    ]  42%\b\b\b\b\b\b\b\b\b\b\b\b\b\b\b\b\b\b\b\b\b\b\b\b\b\b\b\b\b\b\b\b\b\b\b\b\b\b\b\b\b\b\b\b\b\b\b\b\b\b\b\b\b\b\b\b\b\b\b\b\b\b\b\b\b\b\b\b\b\b\b\b\b\b\b\b\b\b\bProgress: [===========================>                                  ]  44%\b\b\b\b\b\b\b\b\b\b\b\b\b\b\b\b\b\b\b\b\b\b\b\b\b\b\b\b\b\b\b\b\b\b\b\b\b\b\b\b\b\b\b\b\b\b\b\b\b\b\b\b\b\b\b\b\b\b\b\b\b\b\b\b\b\b\b\b\b\b\b\b\b\b\b\b\b\b\bProgress: [============================>                                 ]  46%\b\b\b\b\b\b\b\b\b\b\b\b\b\b\b\b\b\b\b\b\b\b\b\b\b\b\b\b\b\b\b\b\b\b\b\b\b\b\b\b\b\b\b\b\b\b\b\b\b\b\b\b\b\b\b\b\b\b\b\b\b\b\b\b\b\b\b\b\b\b\b\b\b\b\b\b\b\b\bProgress: [=============================>                                ]  47%\b\b\b\b\b\b\b\b\b\b\b\b\b\b\b\b\b\b\b\b\b\b\b\b\b\b\b\b\b\b\b\b\b\b\b\b\b\b\b\b\b\b\b\b\b\b\b\b\b\b\b\b\b\b\b\b\b\b\b\b\b\b\b\b\b\b\b\b\b\b\b\b\b\b\b\b\b\b\bProgress: [==============================>                               ]  49%\b\b\b\b\b\b\b\b\b\b\b\b\b\b\b\b\b\b\b\b\b\b\b\b\b\b\b\b\b\b\b\b\b\b\b\b\b\b\b\b\b\b\b\b\b\b\b\b\b\b\b\b\b\b\b\b\b\b\b\b\b\b\b\b\b\b\b\b\b\b\b\b\b\b\b\b\b\b\bProgress: [================================>                             ]  53%\b\b\b\b\b\b\b\b\b\b\b\b\b\b\b\b\b\b\b\b\b\b\b\b\b\b\b\b\b\b\b\b\b\b\b\b\b\b\b\b\b\b\b\b\b\b\b\b\b\b\b\b\b\b\b\b\b\b\b\b\b\b\b\b\b\b\b\b\b\b\b\b\b\b\b\b\b\b\bProgress: [==================================>                           ]  56%\b\b\b\b\b\b\b\b\b\b\b\b\b\b\b\b\b\b\b\b\b\b\b\b\b\b\b\b\b\b\b\b\b\b\b\b\b\b\b\b\b\b\b\b\b\b\b\b\b\b\b\b\b\b\b\b\b\b\b\b\b\b\b\b\b\b\b\b\b\b\b\b\b\b\b\b\b\b\bProgress: [====================================>                         ]  59%\b\b\b\b\b\b\b\b\b\b\b\b\b\b\b\b\b\b\b\b\b\b\b\b\b\b\b\b\b\b\b\b\b\b\b\b\b\b\b\b\b\b\b\b\b\b\b\b\b\b\b\b\b\b\b\b\b\b\b\b\b\b\b\b\b\b\b\b\b\b\b\b\b\b\b\b\b\b\bProgress: [=====================================>                        ]  60%\b\b\b\b\b\b\b\b\b\b\b\b\b\b\b\b\b\b\b\b\b\b\b\b\b\b\b\b\b\b\b\b\b\b\b\b\b\b\b\b\b\b\b\b\b\b\b\b\b\b\b\b\b\b\b\b\b\b\b\b\b\b\b\b\b\b\b\b\b\b\b\b\b\b\b\b\b\b\bProgress: [======================================>                       ]  63%\b\b\b\b\b\b\b\b\b\b\b\b\b\b\b\b\b\b\b\b\b\b\b\b\b\b\b\b\b\b\b\b\b\b\b\b\b\b\b\b\b\b\b\b\b\b\b\b\b\b\b\b\b\b\b\b\b\b\b\b\b\b\b\b\b\b\b\b\b\b\b\b\b\b\b\b\b\b\bProgress: [========================================>                     ]  67%\b\b\b\b\b\b\b\b\b\b\b\b\b\b\b\b\b\b\b\b\b\b\b\b\b\b\b\b\b\b\b\b\b\b\b\b\b\b\b\b\b\b\b\b\b\b\b\b\b\b\b\b\b\b\b\b\b\b\b\b\b\b\b\b\b\b\b\b\b\b\b\b\b\b\b\b\b\b\bProgress: [==========================================>                   ]  70%\b\b\b\b\b\b\b\b\b\b\b\b\b\b\b\b\b\b\b\b\b\b\b\b\b\b\b\b\b\b\b\b\b\b\b\b\b\b\b\b\b\b\b\b\b\b\b\b\b\b\b\b\b\b\b\b\b\b\b\b\b\b\b\b\b\b\b\b\b\b\b\b\b\b\b\b\b\b\bProgress: [============================================>                 ]  72%\b\b\b\b\b\b\b\b\b\b\b\b\b\b\b\b\b\b\b\b\b\b\b\b\b\b\b\b\b\b\b\b\b\b\b\b\b\b\b\b\b\b\b\b\b\b\b\b\b\b\b\b\b\b\b\b\b\b\b\b\b\b\b\b\b\b\b\b\b\b\b\b\b\b\b\b\b\b\bProgress: [==============================================>               ]  75%\b\b\b\b\b\b\b\b\b\b\b\b\b\b\b\b\b\b\b\b\b\b\b\b\b\b\b\b\b\b\b\b\b\b\b\b\b\b\b\b\b\b\b\b\b\b\b\b\b\b\b\b\b\b\b\b\b\b\b\b\b\b\b\b\b\b\b\b\b\b\b\b\b\b\b\b\b\b\bProgress: [===============================================>              ]  78%\b\b\b\b\b\b\b\b\b\b\b\b\b\b\b\b\b\b\b\b\b\b\b\b\b\b\b\b\b\b\b\b\b\b\b\b\b\b\b\b\b\b\b\b\b\b\b\b\b\b\b\b\b\b\b\b\b\b\b\b\b\b\b\b\b\b\b\b\b\b\b\b\b\b\b\b\b\b\bProgress: [=================================================>            ]  80%\b\b\b\b\b\b\b\b\b\b\b\b\b\b\b\b\b\b\b\b\b\b\b\b\b\b\b\b\b\b\b\b\b\b\b\b\b\b\b\b\b\b\b\b\b\b\b\b\b\b\b\b\b\b\b\b\b\b\b\b\b\b\b\b\b\b\b\b\b\b\b\b\b\b\b\b\b\b\bProgress: [==================================================>           ]  82%\b\b\b\b\b\b\b\b\b\b\b\b\b\b\b\b\b\b\b\b\b\b\b\b\b\b\b\b\b\b\b\b\b\b\b\b\b\b\b\b\b\b\b\b\b\b\b\b\b\b\b\b\b\b\b\b\b\b\b\b\b\b\b\b\b\b\b\b\b\b\b\b\b\b\b\b\b\b\bProgress: [====================================================>         ]  86%\b\b\b\b\b\b\b\b\b\b\b\b\b\b\b\b\b\b\b\b\b\b\b\b\b\b\b\b\b\b\b\b\b\b\b\b\b\b\b\b\b\b\b\b\b\b\b\b\b\b\b\b\b\b\b\b\b\b\b\b\b\b\b\b\b\b\b\b\b\b\b\b\b\b\b\b\b\b\bProgress: [=====================================================>        ]  88%\b\b\b\b\b\b\b\b\b\b\b\b\b\b\b\b\b\b\b\b\b\b\b\b\b\b\b\b\b\b\b\b\b\b\b\b\b\b\b\b\b\b\b\b\b\b\b\b\b\b\b\b\b\b\b\b\b\b\b\b\b\b\b\b\b\b\b\b\b\b\b\b\b\b\b\b\b\b\bProgress: [========================================================>     ]  92%\b\b\b\b\b\b\b\b\b\b\b\b\b\b\b\b\b\b\b\b\b\b\b\b\b\b\b\b\b\b\b\b\b\b\b\b\b\b\b\b\b\b\b\b\b\b\b\b\b\b\b\b\b\b\b\b\b\b\b\b\b\b\b\b\b\b\b\b\b\b\b\b\b\b\b\b\b\b\bProgress: [==========================================================>   ]  95%\b\b\b\b\b\b\b\b\b\b\b\b\b\b\b\b\b\b\b\b\b\b\b\b\b\b\b\b\b\b\b\b\b\b\b\b\b\b\b\b\b\b\b\b\b\b\b\b\b\b\b\b\b\b\b\b\b\b\b\b\b\b\b\b\b\b\b\b\b\b\b\b\b\b\b\b\b\b\bProgress: [===========================================================>  ]  97%\b\b\b\b\b\b\b\b\b\b\b\b\b\b\b\b\b\b\b\b\b\b\b\b\b\b\b\b\b\b\b\b\b\b\b\b\b\b\b\b\b\b\b\b\b\b\b\b\b\b\b\b\b\b\b\b\b\b\b\b\b\b\b\b\b\b\b\b\b\b\b\b\b\b\b\b\b\b\bProgress: [============================================================> ]  99%\b\b\b\b\b\b\b\b\b\b\b\b\b\b\b\b\b\b\b\b\b\b\b\b\b\b\b\b\b\b\b\b\b\b\b\b\b\b\b\b\b\b\b\b\b\b\b\b\b\b\b\b\b\b\b\b\b\b\b\b\b\b\b\b\b\b\b\b\b\b\b\b\b\b\b\b\b\b\bProgress: [==============================================================] 100%"
            ]
          },
          "metadata": {}
        },
        {
          "output_type": "display_data",
          "data": {
            "text/plain": [
              "kernel complete:  \t5838 ms"
            ]
          },
          "metadata": {}
        },
        {
          "output_type": "display_data",
          "data": {
            "text/plain": [
              "retrieving flux ... \tdetected 13 photons, total: 13\ttransfer complete:        5970 ms"
            ]
          },
          "metadata": {}
        },
        {
          "output_type": "display_data",
          "data": {
            "text/plain": [
              "normalizing raw data ...\tsimulated 10000 photons (10000) with 1 devices (ray-tet 25839700)"
            ]
          },
          "metadata": {}
        },
        {
          "output_type": "display_data",
          "data": {
            "text/plain": [
              "MCX simulation speed: 1.78 photon/ms"
            ]
          },
          "metadata": {}
        },
        {
          "output_type": "display_data",
          "data": {
            "text/plain": [
              "total simulated energy: 10000.00\tabsorbed: 47.72444%"
            ]
          },
          "metadata": {}
        },
        {
          "output_type": "display_data",
          "data": {
            "text/plain": [
              "(loss due to initial specular reflection is excluded in the total)"
            ]
          },
          "metadata": {}
        },
        {
          "output_type": "display_data",
          "data": {
            "text/plain": [
              "\tdone\t6193"
            ]
          },
          "metadata": {}
        }
      ]
    },
    {
      "cell_type": "code",
      "source": [
        "#@title Interpolate nodal fluence values to a crosssection of the slab\n",
        "%%octave\n",
        "\n",
        "load sim_data\n",
        "load layered_slab\n",
        "\n",
        "% distance along the x-axis for the plane containing\n",
        "% source and detectors\n",
        "cross_section_srcdist = 99.5;\n",
        "\n",
        "% define a plane using cross section srcplane:\n",
        "cutting_plane = [cross_section_srcdist 0 0;cross_section_srcdist 1 0;cross_section_srcdist 0 1];\n",
        "\n",
        "% vector of y-coorinates for the cross section\n",
        "% note that our slab is 200mm wide\n",
        "% if we want to plot fluence values at the center of each 1mm cube,\n",
        "% we would start at 0.5 and go to 199.5 with 200 steps\n",
        "cubesize = 1; % cube of 1mm x 1mm x 1mm\n",
        "\n",
        "y_vals = linspace(0+cubesize/2, 200-cubesize/2, 200);\n",
        "\n",
        "% vector of z-coordinates for the cross section\n",
        "% same as y-coordinates but the height of the slab is 50mm\n",
        "z_vals = linspace(0+cubesize/2, 50-cubesize/2, 50);\n",
        "\n",
        "% make a grid of coordinates for all fluence values in the cross section\n",
        "[yy,zz]=meshgrid(y_vals,z_vals);\n",
        "\n",
        "% qmeshcut gets the intersections of all mesh edges and a plane\n",
        "% as a set of coordinate points and a set of interpolated values\n",
        "[cutpos,cutvalue,~]=qmeshcut(cfg_mmc.elem(:,1:4),cfg_mmc.node,fluence.data,cutting_plane);\n",
        "\n",
        "plottable_fluence_data=griddata(cutpos(:,2),cutpos(:,3),cutvalue,yy,zz);\n",
        "\n",
        "% we take the absolute value because arbitrarily small fluence\n",
        "% may be recorded as negative values\n",
        "imagesc(abs(plottable_fluence_data));\n",
        "[yy_plot,zz_plot]=meshgrid(1:(200),1:(50));\n",
        "contour(yy_plot,zz_plot,log10(abs(plottable_fluence_data)),'linewidth',5,'linestyle','--','DisplayName','Diffusion');\n",
        "axis equal;\n",
        "\n",
        "\n"
      ],
      "metadata": {
        "id": "-MXVrkCv87B-",
        "colab": {
          "base_uri": "https://localhost:8080/",
          "height": 457
        },
        "outputId": "20007946-6e19-42a0-e916-34d22b584cab"
      },
      "execution_count": 44,
      "outputs": [
        {
          "output_type": "display_data",
          "data": {
            "image/png": "[encoded data removed]",
            "text/plain": [
              "<IPython.core.display.Image object>"
            ]
          },
          "metadata": {}
        }
      ]
    },
    {
      "cell_type": "code",
      "source": [
        "#@title Run another MMC Slab-brain simulation with detector as source to form jacobian\n",
        "%%octave\n",
        "\n",
        "load config\n",
        "\n",
        "%% set srcpos to fourth detector position (note we have to specify indices 1 to 3 because the 4th column refers to detector width)\n",
        "cfg_mmc.srcpos=cfg_mmc.detpos(4,1:3);\n",
        "\n",
        "% trim off the 4th detector from the list of detectors\n",
        "cfg_mmc.detpos=cfg_mmc.detpos(1:3,:);\n",
        "\n",
        "%% run the simulation\n",
        "[fluence_adj] = mmclab(cfg_mmc);\n",
        "\n",
        "%% save the resulting data:\n",
        "save -mat7-binary adjoint_sim fluence_adj;"
      ],
      "metadata": {
        "cellView": "form",
        "id": "z4_fVhEkmUhR"
      },
      "execution_count": null,
      "outputs": []
    },
    {
      "cell_type": "code",
      "source": [
        "#@title Produce crosssection of jacobian in the slab\n",
        "%%octave\n",
        "\n",
        "load sim_data\n",
        "load layered_slab\n",
        "load adjoint_sim\n",
        "\n",
        "% distance along the x-axis for the plane containing\n",
        "% source and detectors\n",
        "cross_section_srcdist = 99.5;\n",
        "\n",
        "% define a plane using cross section srcplane:\n",
        "cutting_plane = [cross_section_srcdist 0 0;cross_section_srcdist 1 0;cross_section_srcdist 0 1];\n",
        "\n",
        "% vector of y-coorinates for the cross section\n",
        "% note that our slab is 200mm wide\n",
        "% if we want to plot fluence values at the center of each 1mm cube,\n",
        "% we would start at 0.5 and go to 199.5 with 200 steps\n",
        "cubesize = 1; % cube of 1mm x 1mm x 1mm\n",
        "\n",
        "y_vals = linspace(0+cubesize/2, 200-cubesize/2, 200);\n",
        "\n",
        "% vector of z-coordinates for the cross section\n",
        "% same as y-coordinates but the height of the slab is 50mm\n",
        "z_vals = linspace(0+cubesize/2, 50-cubesize/2, 50);\n",
        "\n",
        "% make a grid of coordinates for all fluence values in the cross section\n",
        "[yy,zz]=meshgrid(y_vals,z_vals);\n",
        "\n",
        "% qmeshcut gets the intersections of all mesh edges and a plane\n",
        "% as a set of coordinate points and a set of interpolated values\n",
        "[cutpos,cutvalue,~]=qmeshcut(cfg_mmc.elem(:,1:4),cfg_mmc.node,fluence.data.*fluence_adj.data,cutting_plane);\n",
        "\n",
        "plottable_fluence_data=griddata(cutpos(:,2),cutpos(:,3),cutvalue,yy,zz);\n",
        "\n",
        "% we take the absolute value because arbitrarily small fluence\n",
        "% may be recorded as negative values\n",
        "[yy_plot,zz_plot]=meshgrid(1:(200),1:(50));\n",
        "figure;\n",
        "clines = [-20:1:0];\n",
        "contour(yy_plot,zz_plot,log10(abs(plottable_fluence_data)),clines, 'linewidth',5,'linestyle','--','DisplayName','Diffusion');\n",
        "axis equal;\n",
        "\n",
        "%% we can also re-plot with jacobian values unbiased by node volumes:\n",
        "\n",
        "%get node volumes\n",
        "node_volumes = nodevolume(cfg_mmc.node, cfg_mmc.elem);\n",
        "\n",
        "% qmeshcut gets the intersections of all mesh edges and a plane\n",
        "% as a set of coordinate points and a set of interpolated values\n",
        "[cutpos,cutvalue,~]=qmeshcut(cfg_mmc.elem(:,1:4),cfg_mmc.node,fluence.data.*fluence_adj.data./node_volumes,cutting_plane);\n",
        "\n",
        "plottable_fluence_data=griddata(cutpos(:,2),cutpos(:,3),cutvalue,yy,zz);\n",
        "\n",
        "% we take the absolute value because arbitrarily small fluence\n",
        "% may be recorded as negative values\n",
        "[yy_plot,zz_plot]=meshgrid(1:(200),1:(50));\n",
        "figure;\n",
        "clines = [-20:1:0];\n",
        "contour(yy_plot,zz_plot,log10(abs(plottable_fluence_data)),clines, 'linewidth',5,'linestyle','--','DisplayName','Diffusion');\n",
        "axis equal;\n",
        "\n",
        "\n"
      ],
      "metadata": {
        "colab": {
          "base_uri": "https://localhost:8080/",
          "height": 877
        },
        "cellView": "form",
        "id": "LfW4V-Zynkkl",
        "outputId": "e16ca2be-0eb2-4d5b-f0d2-bd47f9e7043b"
      },
      "execution_count": null,
      "outputs": [
        {
          "output_type": "display_data",
          "data": {
            "image/png": "[encoded data removed]",
            "text/plain": [
              "<IPython.core.display.Image object>"
            ]
          },
          "metadata": {}
        },
        {
          "output_type": "display_data",
          "data": {
            "image/png": "[encoded data removed]",
            "text/plain": [
              "<IPython.core.display.Image object>"
            ]
          },
          "metadata": {}
        }
      ]
    }
  ],
  "metadata": {
    "colab": {
      "provenance": [],
      "include_colab_link": true
    },
    "kernelspec": {
      "display_name": "Python 3",
      "name": "python3"
    },
    "language_info": {
      "name": "python"
    }
  },
  "nbformat": 4,
  "nbformat_minor": 0
}