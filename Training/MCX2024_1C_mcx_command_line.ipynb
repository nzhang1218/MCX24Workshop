{
  "nbformat": 4,
  "nbformat_minor": 0,
  "metadata": {
    "colab": {
      "provenance": [],
      "collapsed_sections": [
        "K8vDHlhqFAPk",
        "7uCmGQauFURF",
        "dPFwHkIjIRoF",
        "VUIY5odvC8vI",
        "-clzAlOJO27u",
        "5Za6rNUITCwn",
        "JXabl344Y4Wa",
        "NfMeRA2t5rIx",
        "4QgPXynl82my",
        "6Tns6xMr82m0",
        "mBxgYBMuGLa0",
        "UginUswzIIZv",
        "vWUUhEYGL3by",
        "PFPEcp3vU-YO",
        "0u3Ykh__mH5p",
        "t0Jai86h-xGI",
        "CnANG-_tNRGR",
        "5aTNfnyIb-Oc",
        "ZBGOeHXU1psB",
        "Hjhe8m7mNTby",
        "0amJSYmc10lb",
        "6PTN9v-Kw3kz",
        "CTOQ6ZmZdMzb",
        "K4XTRTZ26dbO"
      ],
      "toc_visible": true,
      "gpuType": "T4",
      "include_colab_link": true
    },
    "kernelspec": {
      "name": "python3",
      "display_name": "Python 3"
    },
    "language_info": {
      "name": "python"
    },
    "accelerator": "GPU"
  },
  "cells": [
    {
      "cell_type": "markdown",
      "metadata": {
        "id": "view-in-github",
        "colab_type": "text"
      },
      "source": [
        "<a href=\"https://colab.research.google.com/github/COTILab/MCX24Workshop/blob/master/Training/MCX2024_1C_mcx_command_line.ipynb\" target=\"_parent\"><img src=\"https://colab.research.google.com/assets/colab-badge.svg\" alt=\"Open In Colab\"/></a>"
      ]
    },
    {
      "cell_type": "markdown",
      "source": [
        "![Workshop Logo](https://mcx.space/wiki/upload/mcx24_logo.png)\n",
        "# MCX Training Workshop 2024 - Day 1, Session 1C\n",
        "\n",
        "## Session 1C: A Tutorial on Running MCX in Command-line Mode\n",
        "\n"
      ],
      "metadata": {
        "id": "ptMYeU1cGzsE"
      }
    },
    {
      "cell_type": "markdown",
      "source": [
        "## <font color='orange'>Step 0: Setting up MCX and Octave environments within Google Colab</font>\n",
        "\n",
        "> **You must rerun all cells in Step 0 in appearance order when you start a new session, or after reconnect to a runtime**\n",
        "\n",
        "To run interactive Octave sessions inside a Google Colab Jupyter Notebook environment, we need to install the following dependencies\n",
        "- GNU Octave via `sudo apt-get install octave`\n",
        "- Oct2py Python module via `pip install oct2py`, and\n",
        "- enable Oct2py in Jupyter Notebook via \"magic command\" `%load_ext oct2py.ipython`\n",
        "\n",
        "<font color='green'>If you run this on Google Colab, please go to menu **Edit\\Notebook Settings\\Hardware accelerator**, and verify if it has already selected \"GPU\"; if not, please select the T4 GPU.</font>\n",
        "\n",
        "**Please note**: MCX/MCXLAB is GPU-accelerated. This notebook by default requests an NVIDIA GPU. Howevever, when you click on the run-button for the below section, your browser may fail to allocate a GPU runtime and ask you if you want to continue with a non-GPU runtime. If you choose to proceed without GPU support, you will have to run the [section immediately following the next section](#mcx_setup_opencl) to install OpenCL-based MCXLAB (called mcxlabcl) and utilize the CPU to run the rest of the tutorials. The OpenCL version of MCXLAB will work for all examples, but will be substentially slower to run (this tutorial also reduces the photon numbers accordingly to lower the runtime)."
      ],
      "metadata": {
        "id": "2S9sY9AlHwdm"
      }
    },
    {
      "cell_type": "code",
      "execution_count": null,
      "metadata": {
        "id": "8QsyOOBgAxfA"
      },
      "outputs": [],
      "source": [
        "#@title Init 1: Initial setup of environment for running MCXLAB (run the below section once)\n",
        "\n",
        "# install octave and oct2py\n",
        "! apt-get update && apt-get install octave jq libpocl2 pocl-opencl-icd libnvidia-compute-535   # install octave (a free matlab clone), jq and OpenCL runtimes\n",
        "! python3 -m pip install oct2py jdata bjdata matplotlib   # install oct2py, jdata, bjdata and matplotlib Python modules\n",
        "\n",
        "# add octave support to colab notebook\n",
        "%load_ext oct2py.ipython\n",
        "\n",
        "# download and unzip MCXStudio\n",
        "! rm -rf MCXStudio*\n",
        "! curl https://mcx.space/nightly/release/MCX24/MCXStudio-linux-x86_64-nightlybuild.zip -O MCXStudio-linux-x86_64-nightlybuild.zip # download MCX suite\n",
        "! unzip -o MCXStudio-linux-x86_64-nightlybuild.zip && rm -rf MCXStudio-linux-x86_64-nightlybuild.zip # unzip MCX suite\n",
        "\n",
        "# add executable to the shell's paths\n",
        "! cp -a \"$PWD/MCXStudio/MCXSuite/mcx/bin/mcx\" \"/usr/local/bin\"\n",
        "! cp -a \"$PWD/MCXStudio/MCXSuite/mcxcl/bin/mcxcl\" \"/usr/local/bin\"\n",
        "! cp -a \"$PWD/MCXStudio/MCXSuite/mmc/bin/mmc\" \"/usr/local/bin\"\n",
        "! cp -a \"$PWD/MCXStudio/MATLAB/zmat/octave/gnu-linux-x86_64/zipmat.mex\" \"$PWD/MCXStudio/MATLAB/zmat/\"\n",
        "\n",
        "# if a GPU runtime can not be allocated, run this section to setup OpenCL and MCXLAB-CL\n",
        "! [[ ! -f `which nvidia-smi` ]] && mv \"/usr/local/bin/mcxcl\" \"/usr/local/bin/mcx\"\n",
        "! mcx -L"
      ]
    },
    {
      "cell_type": "markdown",
      "source": [
        "### <font color='orange'>Init 2: Only need to run this once at the beginning</font>"
      ],
      "metadata": {
        "id": "3FuiSDH_w6Dh"
      }
    },
    {
      "cell_type": "code",
      "source": [
        "%%octave\n",
        "addpath([pwd filesep 'MCXStudio/MATLAB/mcxlab']);                 % add path to mcxlab\n",
        "addpath([pwd filesep 'MCXStudio/MCXSuite/mcx' filesep 'utils']);  % add path to mcx helper functions\n",
        "addpath([pwd filesep 'MCXStudio/MATLAB/mmclab']);                 % add path to mmclab\n",
        "addpath([pwd filesep 'MCXStudio/MCXSuite/mmc' filesep 'matlab']); % add path to mmc helper functions\n",
        "addpath([pwd filesep 'MCXStudio/MATLAB/iso2mesh']);               % add path to iso2mesh/jsonlab\n",
        "addpath([pwd filesep 'MCXStudio/MATLAB/brain2mesh']);             % add path to brain2mesh\n",
        "addpath([pwd filesep 'MCXStudio/MATLAB/redbird-m/matlab']);       % add path to redbird-m\n",
        "addpath([pwd filesep 'MCXStudio/MATLAB/zmat']);                   % add path to zmat for data compression\n",
        "\n",
        "if(system('which nvidia-smi'))                   % if this runtime does not have NVIDIA GPU support\n",
        "    addpath([pwd filesep 'MCXStudio/MATLAB/mcxlabcl']);    % add path to mcxlabcl\n",
        "    USE_MCXCL=1;                                 % set USE_MCXCL flag in the base workspace\n",
        "end"
      ],
      "metadata": {
        "id": "IWg8T2-5SwT4"
      },
      "execution_count": null,
      "outputs": []
    },
    {
      "cell_type": "markdown",
      "source": [
        "### <font color='orange'>Init 3: Verify your environments</font>\n",
        "\n",
        "---"
      ],
      "metadata": {
        "id": "oPiJ3kcF4MK2"
      }
    },
    {
      "cell_type": "code",
      "source": [
        "%%octave\n",
        "which mcx\n",
        "which s2m\n",
        "which zipmat\n",
        "\n",
        "mcxlab('gpuinfo')     % use this command to list supported CPU or GPU in octave\n",
        "unix('mcx -L')        % use -L flag to list GPU in the command line"
      ],
      "metadata": {
        "id": "LnrnJOcJsQzW"
      },
      "execution_count": null,
      "outputs": []
    },
    {
      "cell_type": "markdown",
      "source": [
        "# MCX Command Line Primer\n",
        "\n",
        "## Why you want to run mcx in the command line\n",
        "\n",
        "- **self-contained**: get the work done without needing other software\n",
        "- **batch mode**: automated simulations for many jobs\n",
        "- **large-scale simulations**: utilizing advanced hardware, such as GPU clusters\n",
        "- **run from anywhere**: just need a terminal, no graphics needed"
      ],
      "metadata": {
        "id": "prVEqE2dC7FL"
      }
    },
    {
      "cell_type": "markdown",
      "source": [
        "## Listing help info"
      ],
      "metadata": {
        "id": "i6UeH25hEUsT"
      }
    },
    {
      "cell_type": "code",
      "source": [
        "!mcx"
      ],
      "metadata": {
        "id": "r1zYk3OOEhrE"
      },
      "execution_count": null,
      "outputs": []
    },
    {
      "cell_type": "markdown",
      "source": [
        "## Listing CUDA-compatible GPU"
      ],
      "metadata": {
        "id": "XnqSfiXwcnzQ"
      }
    },
    {
      "cell_type": "code",
      "source": [
        "!mcx -L"
      ],
      "metadata": {
        "id": "uZNmMM90ctyB"
      },
      "execution_count": null,
      "outputs": []
    },
    {
      "cell_type": "markdown",
      "source": [
        "## Listing and running a built-in benchmarks\n",
        "\n",
        "---"
      ],
      "metadata": {
        "id": "K8vDHlhqFAPk"
      }
    },
    {
      "cell_type": "markdown",
      "source": [
        "`mcx` contains a list of built-in benchmarks serving as easy-to-start examples. You can use the `--bench` flag to list all built-in benchmarks"
      ],
      "metadata": {
        "id": "rkXIyhvHFJ2X"
      }
    },
    {
      "cell_type": "code",
      "source": [
        "!mcx --bench"
      ],
      "metadata": {
        "id": "CslNsWI7FPa-"
      },
      "execution_count": null,
      "outputs": []
    },
    {
      "cell_type": "markdown",
      "source": [
        "## Understanding mcx simulation log\n",
        "\n",
        "\n",
        "---\n"
      ],
      "metadata": {
        "id": "7uCmGQauFURF"
      }
    },
    {
      "cell_type": "markdown",
      "source": [
        "When you provide a benchmark name following the `--bench` flag, mcx runs the benchmark for you. Let's take a look at the output and try to understand the simulation log."
      ],
      "metadata": {
        "id": "Veke5thrFW2W"
      }
    },
    {
      "cell_type": "code",
      "source": [
        "# running mcx or mcxlab for the first time will be slow (~10s), running again will become fast (~0.2s)\n",
        "!mcx --bench cube60"
      ],
      "metadata": {
        "colab": {
          "base_uri": "https://localhost:8080/"
        },
        "id": "pPMw-ttzFZVf",
        "outputId": "a30e4281-3d1a-4f75-9d0d-0f40df35df94"
      },
      "execution_count": 8,
      "outputs": [
        {
          "output_type": "stream",
          "name": "stdout",
          "text": [
            "\u001b[35m###############################################################################\n",
            "#                      Monte Carlo eXtreme (MCX) -- CUDA                      #\n",
            "#          Copyright (c) 2009-2024 Qianqian Fang <q.fang at neu.edu>          #\n",
            "#\u001b[34m                https://mcx.space/  &  https://neurojson.io/                 \u001b[35m#\n",
            "#                                                                             #\n",
            "# Computational Optics & Translational Imaging (COTI) Lab- \u001b[34mhttp://fanglab.org \u001b[35m#\n",
            "#   Department of Bioengineering, Northeastern University, Boston, MA, USA    #\n",
            "###############################################################################\n",
            "#    The MCX Project is funded by the NIH/NIGMS under grant R01-GM114365      #\n",
            "###############################################################################\n",
            "#  Open-source codes and reusable scientific data are essential for research, #\n",
            "# MCX proudly developed human-readable JSON-based data formats for easy reuse.#\n",
            "#                                                                             #\n",
            "#Please visit our free scientific data sharing portal at \u001b[34mhttps://neurojson.io/\u001b[35m#\n",
            "# and consider sharing your public datasets in standardized JSON/JData format #\n",
            "###############################################################################\n",
            "$Rev::f959c7$\u001b[32mv2024.6\u001b[35m $Date::2024-06-22 15:23:34 -04$ by $Author::Qianqian Fang$\n",
            "###############################################################################\n",
            "\u001b[0m- code name: [Jumbo Jolt] compiled by nvcc [9.0] for CUDA-arch [350] on [Jun 26 2024]\n",
            "- compiled with: RNG [xorshift128+] with Seed Length [4]\n",
            "\n",
            "GPU=1 (Tesla T4) threadph=12 extra=16960 np=1000000 nthread=81920 maxgate=1 repetition=1\n",
            "initializing streams ...\tinit complete : 0 ms\n",
            "requesting 1792 bytes of shared memory\n",
            "\u001b[36mlaunching MCX simulation for time window [0.00e+00ns 5.00e+00ns] ...\n",
            "\u001b[0msimulation run# 1 ... \n",
            "kernel complete:  \t129 ms\n",
            "retrieving fields ... \tdetected \u001b[1m\u001b[34m2997 photons\u001b[0m, total: \u001b[1m\u001b[34m2997\u001b[0m\ttransfer complete:\t139 ms\n",
            "normalizing raw data ...\tsource 1, normalization factor alpha=200.000000\n",
            "data normalization complete : 145 ms\n",
            "saving data to file ...\tcompressing data [zlib] ...compression ratio: 91.0%\tafter encoding: 121.3%\n",
            "saving data complete : 185 ms\n",
            "\n",
            "compressing data [zlib] ...compression ratio: 11.1%\tafter encoding: 14.8%\n",
            "compressing data [zlib] ...compression ratio: 52.1%\tafter encoding: 69.5%\n",
            "simulated 1000000 photons (1000000) with 81920 threads (repeat x1)\n",
            "MCX simulation speed: \u001b[1m\u001b[34m9174.31 photon/ms\n",
            "\u001b[0mtotal simulated energy: 1000000.00\tabsorbed: \u001b[1m\u001b[34m17.69161%\u001b[0m\n",
            "(loss due to initial specular reflection is excluded in the total)\n"
          ]
        }
      ]
    },
    {
      "cell_type": "markdown",
      "source": [
        "For every executed simulation, mcx prints a text-based log as shown above. You can see various information in this log.\n",
        "\n",
        "The header of the log provides some basic information and links, including an acknowledgement to our NIH funding source that had supported the development of this software.\n",
        "\n",
        "Near the end of the log header, you can see a line like\n",
        "```shell\n",
        "$Rev::d66a0a$v2024.6 $Date::2024-06-11 18:30:04 -04$ by $Author::Qianqian Fang$\n",
        "```\n",
        "\n",
        "This line is automatically generated by our software compilation script to indciate the version of the binary you are using. The `$Rev::d66a0a` shows the github commit hash that is used to build this binary. This is followed by an official release name `v2024.6`; the source code date string `$Date::2024-06-11 18:30:04 -04$` provides the time when the github commit `d66a0a` was made. Finally, the author of the commit is listed at the end.\n",
        "\n",
        "Below the header, the two following lines indicate the CUDA toolkit version (nvcc [7.5]), the lowest supported CUDA Compute Capability (CC=[350] means CUDA devices with CC 3.5 - Kepler - or above can run this binary), the date when the binary was compiled ([Jun 15 2024] - this may be different from the commit date above). `mcx` supports multiple GPU random-number-generators (RNGs). The RNG compiled here is `[xorshift128+]` which is the default RNG. The `Seed Length [4]` field suggests that this RNG needs a 4x 32bit WORD = 128 bit seed.\n",
        "\n",
        "`mcx` executable is **forward comaptible to future generations of NVIDIA GPUs**. This is because the MCX CUDA code is compiled into an intermediate-level \"assembly code\", [called PTX](https://en.wikipedia.org/wiki/Parallel_Thread_Execution), that will be dynamically recompiled on whatever new GPU architecture that runs MCX to create the low-level GPU assembly code for execution. This means a single MCX executable can run across nearly all generations of CUDA GPU devices, even the future generations.\n",
        "\n",
        "In the following section\n",
        "```shell\n",
        "GPU=1 (Tesla T4) threadph=12 extra=16960 np=1000000 nthread=81920 maxgate=1 repetition=1\n",
        "```\n",
        "the used GPU (Tesla T4) is printed. The total simulated photon number `np` is 1e6, simulated by a total number (`nthread`) of 81920 of GPU threads, with each thread running 12 photons (`threadph=12`), and 16960 out of the 81920 threads needs to run one extra photon to complete the total desired photon number (`threadph*nthread+extra=np`).\n",
        "\n",
        "the next line\n",
        "```shell\n",
        "requesting 1792 bytes of shared memory\n",
        "```\n",
        "suggests that this mcx simulation requires 1792 bytes of shared memory - fast memory that can be accessed within a thread-block - used by mcx to store detected photon data. For modern NVIDIA GPUs, the total amount of shared memory is limited to 48KB to 227KB [depending on the GPU architecture](https://en.wikipedia.org/wiki/CUDA#Technical_Specification).\n",
        "\n",
        "Next, you can see the simulation log\n",
        "```shell\n",
        "launching MCX simulation for time window [0.00e+00ns 5.00e+00ns] ...\n",
        "simulation run# 1 ...\n",
        "kernel complete:  \t125 ms\n",
        "retrieving fields ... \tdetected 2997 photons, total: 2997\ttransfer complete:\t144 ms\n",
        "```\n",
        "the first line prints the start/end simulation time window (0-5 ns). The rationales for setting the maximum simulated timegate can be found below.\n",
        "\n",
        "The timing data printed above are elapsed time from the initialization of the CUDA device. You can see that the simulation of 1e6 photons on this Tesla T4 GPU takes only about 1/8 of a second (125 ms), which is fairly fast.\n",
        "\n",
        "The last line report the data-copy time from the GPU memory to the host (CPU) - it takes roughly 10 ms = 134 - 125 ms to complete. Because the benchmark defines detectors, the retrieved data also include detected photon data - with a total count of 2997 photon packets reaching the detector.\n",
        "\n",
        "```shell\n",
        "normalizing raw data ...\tsource 1, normalization factor alpha=200.000000\n",
        "```\n",
        "\n",
        "By default, mcx normalizes the output fluence map so that the total simulated photon packet weight, regardless of the photon numbers used, is always 1 joule or Watt. This allows us to directly compare mcx's fluence output to the analytical expressions, i.e. the Green's function, of the diffusion or RTE models. When normalization is used, mcx log reports the normalization factor, `alpha` which is used as a multiplier to the raw data to complete the normalization - you can undo this by dividing alpha from the output\n",
        "\n",
        "```shell\n",
        "saving data to file ...\tcompressing data [zlib] ...compression ratio: 91.0%\tafter encoding: 121.3%\n",
        "saving data complete : 182 ms\n",
        "\n",
        "compressing data [zlib] ...compression ratio: 10.9%\tafter encoding: 14.6%\n",
        "compressing data [zlib] ...compression ratio: 52.1%\tafter encoding: 69.5%\n",
        "```\n",
        "Starting in MCX v2023, mcx stores the output volumetric data using open-standard defined by the NeuroJSON project in the form of human-readable JSON/JNIfTI format. This allows the output data to be easily shared between programming environments such as MATLAB/Python. It automatically applies data compression to the output, so that the data file is compact in size. The above log shows the data compression ratio - the first line shows the storage of the fluence data in a JNIfTI file (`.jnii`), and the last two lines shows the compression of detected photon data as a `.jdat` file.\n",
        "\n",
        "The final section of the log is very important.\n",
        "```shell\n",
        "simulated 1000000 photons (1000000) with 81920 threads (repeat x1)\n",
        "MCX simulation speed: 9174.31 photon/ms\n",
        "total simulated energy: 1000000.00\tabsorbed: 17.69161%\n",
        "```\n",
        "We especially highlight two numbers - the **simulation speed** in the unit of photon-per-millisecond (`9174.38 photon/ms`) and **total absorption fraction** `absorbed: 17.69161%`. The first number of a crucial indicator to the computational performance of MCX and your GPU hardware. Of course, the more efficient the mcx simulation code, the more powerful your GPU is, the higher this number is. Before the use of GPU based MC simulations, the single-threaded CPU simulation speed is typically below a few dozen photon/ms. This has been dramatically improved by using mcx/GPU for MC simulation.\n",
        "\n",
        "The second metric, **total absorption fraction**, is a coarse-grained quality metric that we have frequently used in the past to validate and compare simulations. The absorption fraction is simply the ratio of total absorbed energy in the medium divided by the total simulated/launched energy. When running increasing number of photons, we expect this number to asymptotically converge to a charastistic value (may not be unique) that is associated with this particular simulation. Becaus of this, we have been using this number as a tool to test the validity/stability of mcx simulation in our built-in [unit-testing script](https://github.com/fangq/mcx/blob/master/test/testmcx.sh). Please be aware that this number may not be stable due to random noise when the simulated photon number is small. Developers of other MC or optical simulation tools can also use this metric to compare their outputs with those of MCX.\n",
        "\n",
        "The last line in the log\n",
        "```\n",
        "(loss due to initial specular reflection is excluded in the total)\n",
        "```\n",
        "suggests that when the light source is launched from the background medium (air with `n=1`) to a non-air medium (`n>1`), unless the `-V` or `--isspecular` command line flag is set to 1 (by default, it is set to 0), `mcx` ignores the specular reflection of the initial incident beam and considers 100% of the launched energy entering the non-air medium. This means the total absorption fraction printed above does not include the initial energy loss due to specular reflection.\n",
        "\n",
        "When `--isspecular 1` use used, mcx subtracts the energy-loss due to specular reflection to the photon's initial packet weight when transmitting the photon from air to non-air voxels. To other MC developers: when you compare your solvers with mcx, please take the above convention into your comparison."
      ],
      "metadata": {
        "id": "P5QKjC3AF2CB"
      }
    },
    {
      "cell_type": "markdown",
      "source": [
        "## Understanding mcx's input file\n",
        "\n",
        "---\n",
        "MCX is a rigirous physics solver for the radiative transfer equation (RTE) that is the generalized model describing light propagation inside complex random media, including human tissues, transparent/translucent medium or extremely absorbing materials.\n",
        "\n",
        "For every simulation, mcx asks users to provide a JSON based input file to completely define the simulated physical problem, including details such as\n",
        "- **what is the size of the domain?** - mcx uses a voxelated 3D array to represent a 3D simulation volume, the size of the domain is decided by giving the dimension of the 3D array and voxel size\n",
        "- what are the **media/tissue types** present in the domain?\n",
        "- what are the physics-based **optical properties** of each medium/tissue?\n",
        "   - absorption coefficient `mua` (1/mm)\n",
        "   - scattering coefficient `mus` (1/mm)\n",
        "   - anisotropy `g` (unitless)\n",
        "   - refractive index `n` (unitless)\n",
        "- what is the **light source position** and **photon launch direction** as well as the **type of the illumination**?\n",
        "- what is the **time window and time-gate** that you want to simulate light propagation?\n",
        "- if you have detectors, what are the **detector locations and radii** (detectors are assumed to be spherical/disk shaped)?\n",
        "- what **type of output** do you want mcx to generate? light fluence? fluence rate? energy-deposition?\n",
        "- other information such as session name, which GPU to use (if multiple GPUs are available), number of threads, thread-block size, etc.\n",
        "\n",
        "For any simulation, you can use `mcx --dumpjson` to export all simulation settings into a single JSON based human-readable input file so that you can share or edit it to create new simulations.\n",
        "\n",
        "For example, for the built-in benchmark `cube60` we ran previously, you can dump the JSON representation of the entire simulation settings using the below command"
      ],
      "metadata": {
        "id": "dPFwHkIjIRoF"
      }
    },
    {
      "cell_type": "code",
      "source": [
        "!mcx --bench cube60 --dumpjson > cube60_input.json  # we export the simulation settings print it to a text file named cube60_input.json\n",
        "!cat cube60_input.json"
      ],
      "metadata": {
        "id": "sVyQ3vE9IWDZ"
      },
      "execution_count": null,
      "outputs": []
    },
    {
      "cell_type": "markdown",
      "source": [
        "Let's first understand the overall structure of the MCX input file.\n",
        "\n",
        "MCX input file is a human-readable JSON file that can be directly edited using a text editor - such as vi, nano, emacs, VSCode, gedit, notepad, notepad++, pspad, among many others. However, for the purpose of this tutorial, in the below sections, we use a commandline tool, called [jq](https://jqlang.github.io/jq/), to conveniently print and manipulate JSON keys and values, so we can automate our demonstration. The command `jq` is widely available among Linux/Windows and Mac, but you don't have to use it. Again, you can use a text-editor to open the .json file and edit it manually."
      ],
      "metadata": {
        "id": "Kpb6w8wAIcIb"
      }
    },
    {
      "cell_type": "markdown",
      "source": [
        "First, let's understand the top-level elements of the MCX JSON input file.\n",
        "\n",
        "There are 5 (strictly-speaking, 4) required root-level objects in the JSON input file, see below. The MCX JSON input file can contain more than these 5 required fields, but mcx does not interpret or parse those additional data fields. For example, one can add a root-level object\n",
        "```javascript\n",
        "{\n",
        "  \"Help\":{\n",
        "    \"[en]\":{...}\n",
        "  },\n",
        "  ...\n",
        "}\n",
        "```\n",
        "to include self-descriptive help information in English language, as we used in our [README file](https://github.com/fangq/mcx/blob/v2023/README.md#using-json-formatted-input-files)."
      ],
      "metadata": {
        "id": "HcqflFlMIj5E"
      }
    },
    {
      "cell_type": "code",
      "source": [
        "!jq 'keys' cube60_input.json"
      ],
      "metadata": {
        "colab": {
          "base_uri": "https://localhost:8080/"
        },
        "id": "KitHjzi7IlMd",
        "outputId": "f0ef8199-512a-49b0-a7ec-ee94a2ec7968"
      },
      "execution_count": null,
      "outputs": [
        {
          "output_type": "stream",
          "name": "stdout",
          "text": [
            "\u001b[1;39m[\n",
            "  \u001b[0;32m\"Domain\"\u001b[0m\u001b[1;39m,\n",
            "  \u001b[0;32m\"Forward\"\u001b[0m\u001b[1;39m,\n",
            "  \u001b[0;32m\"Optode\"\u001b[0m\u001b[1;39m,\n",
            "  \u001b[0;32m\"Session\"\u001b[0m\u001b[1;39m,\n",
            "  \u001b[0;32m\"Shapes\"\u001b[0m\u001b[1;39m\n",
            "\u001b[1;39m]\u001b[0m\n"
          ]
        }
      ]
    },
    {
      "cell_type": "markdown",
      "source": [
        "### \"Domain\""
      ],
      "metadata": {
        "id": "VUIY5odvC8vI"
      }
    },
    {
      "cell_type": "markdown",
      "source": [
        "Let's take a look at the first object, `\"Domain\"`. **Domain** defines the simulation physical domain and their optical properties. The content of the Domain field is printed below."
      ],
      "metadata": {
        "id": "63UokxKi6KhK"
      }
    },
    {
      "cell_type": "code",
      "source": [
        "!jq '.Domain' cube60_input.json"
      ],
      "metadata": {
        "id": "qMVs8lL34TQv"
      },
      "execution_count": null,
      "outputs": []
    },
    {
      "cell_type": "markdown",
      "source": [
        "Let's look at `\"Dim\": [nx, ny, nz]` and `\"LengthUnit\": 1` first. The integer vector `\"Dim\"` defines a voxelated grid space with nx * ny * nz voxels. The scalar `LengthUnit` field defines the voxel-edge-length in mm. In this case, our simulatin domain is a (60x1mm)x(60x1mm)x(60x1mm) cubic space. mcx uses the voxels to accumulate the output fluence data.\n",
        "\n",
        "As one can see, for the same 6x6x6cm^3 homogeneous physical space, one has multiple choices of setting `Dim` and `LengthUnit` to achieve the same physical domain, for example, one can use `\"Dim\": [20, 20, 20]` with `\"LengthUnit\": 3`, or `\"Dim\": [600, 600, 600]` with `\"LengthUnit\": 0.1`."
      ],
      "metadata": {
        "id": "fzXXnaUj-BbJ"
      }
    },
    {
      "cell_type": "markdown",
      "source": [
        "#### 🗣 *Best Practics Guide - domain size*\n",
        "\n",
        ">A **common mistake** that we have often see from an mcx benginer is to build their initial simulation around a high-resolution voxelated space, with a misconception that this will give a \"better\" result.\n",
        ">\n",
        ">It is correct that `mcx` is capable of handling large/high-resolution domains as long as your global memory is large enough to fit the simulation data. However, it CAN handle it does not mean it SHOULD be used without the understanding on the benefits and risks.\n",
        ">\n",
        ">An MCX user should always keep in mind that mcx is a Monte Carlo simulator, that means it depends on the [\"Law of large-numbers\"](https://en.wikipedia.org/wiki/Law_of_large_numbers) to obtain relible simulations for each output data point - for any output data stored in a voxel, mcx relies the fact that the output value will only converge to a stable \"expectation\" or mean value when there are sufficiently large number of photons passing by that voxel. Imagine that you reduce your voxel-edge-length by a factor of 2, i.e. changing from `\"LengthUnit\":1` to `\"LengthUnit\":0.5`, while keeping the domain physical size the same. This changes the voxel count from 60x60x60 to 120x120x120, resulting an 8x increase. If we simulate the same number of photons, one can imagine that the photon packets that pass by each voxel becomes roughly 8x less in the 120^3 domain vs the 60^3 domain. The less photon count that contributes to each voxel makes the stored data noisier (thus unreliable). To make each voxel data in the 120^3 domain to have the same signal-to-noise ratio (SNR), one must simulate 8x more photons.\n",
        ">\n",
        ">Not just that one needs to simulat more photons, propagating the same photon path in a dense 120^3 grid requires 8x more ray-voxel intersection calculations due to the more frequent intersections with the voxel walls. This translates to a roughly 8x slow-down of the computation. Combining both factors, achiving the same \"quality\" of the simulated data, the 120^3 grid requires 8x8=64x longer simulation time compared to the 60^3 grid. **Running simulation in refined voxel grid imposes one of the most signficiant overhead**, which grows rapidly, over growing voxel sizes.\n",
        ">\n",
        ">For beginners, you must first ask yourself, do you really have to use a high-resolution voxelated grid? what is minimum of voxel size that can reasonably represent the geometry feature of the object you are trying to simulate? It is the recommended practics to start your simulation with a coarse/low resolution grid (ideally, below 100 in each dimension, the smaller the better), and refine it once to see if your results changes or not, and stop at the voxel size that a refinement of the voxel does not alter your result."
      ],
      "metadata": {
        "id": "-clzAlOJO27u"
      }
    },
    {
      "cell_type": "markdown",
      "source": [
        "Next, the `\"Media\"` subfield of the `\"Domain\"` object defines the optical properties.\n",
        "\n",
        "MCX supports 7-8 different media formats, but the most commonly used media format is \"label\" based media. In this format, each voxel stores a single non-negative integer to represent the \"medium type\" of the voxel.\n",
        "\n",
        "Label 0 has a special meaning in mcx - it represents the \"background\" medium. The space outside of the voxelated domain bounding-box is considered to be filled with the background medium, so are the voxels carrying a 0 value as the type.\n",
        "\n",
        "`\"Media\"` is an array with NL+1 elements, where NL is the maximum label value (or tissue types) in the domain, and the extra 1 denotes the 0-valued label as the background medium. For each element of `\"Medium\"`, it must contain 4 keys, `mua`, `mus`, `g` and `n` to specify the absorption coefficient `mua`, scattering coefficient `mus`, anisotropy `g` and refractive index `n` of the corresponding tissue label, staring the first one with label-0.\n",
        "\n",
        "Please be aware that **`mua` and `mus` values must be specified in the 1/mm unit**, regardless of the voxel size (`\"LengthUnit\"`) of the domain."
      ],
      "metadata": {
        "id": "flX9dwfUQptp"
      }
    },
    {
      "cell_type": "markdown",
      "source": [
        "#### 🗣 *Best Practics Guide - background medium*\n",
        "\n",
        ">One must be careful because `mcx` treats 0-valued voxels differently compared to other non-zero labels.\n",
        ">\n",
        "> When a photon escapes from a non-zero label to a 0-voxel, mcx assumes the photon will never return back to any non-zero voxels, thus starts photon detection calculations and then terminate the photon. This may have signficance in the case of a cavity or void inside a domain. If one sets the voxels inside a cavity as 0-label, this terminates all photons that reaches the cavity surface, and prevents them from passing through the cavity and continuing propagating in other part of the medium, resulting in incorrect simulations.\n",
        ">\n",
        ">The correct way to handle a cavity is to define it as a non-zero label, and set the corresponding optical properties to those of air, i.e. `mua=0/mm, mus=0/mm, g=1, n=1`. This allows photons to pass through the void and continues its path."
      ],
      "metadata": {
        "id": "5Za6rNUITCwn"
      }
    },
    {
      "cell_type": "markdown",
      "source": [
        "Lastly, let's understand `OriginType`. Due to historical reasons, mcx uses MATLAB-styled voxel index (starting from 1) to specify source/detector positions among other parameters. This is equivallently saying that the bottom-lower-corner of the first voxel of the grid has a coordinate of `[1,1,1]`. Under this convention, the source position `[31,31,1]` is located exactly at the center of the bottom face of this 60x60x60 grid. In some simulations, this convention has caused some confusions.\n",
        "\n",
        "To avoid such confusion, we have added the command line flag `--srcfrom0 1`, as well as the `\"OriginType\":1` to allow a more natural convention, where the lower-bottom-corner of the first voxel has a coordinate of `[0,0,0]` instead of `[1,1,1]`. Under this convention, the source that is located exactly at the center of the bottom face of a 60x60x60 domain should be `[30,30,0]` when `\"OriginType\"` is set to 1.\n",
        "\n",
        "It is highly recommended to set this flag to 1 whenever possible. In the future, we may make this as the default setting. Unfortunately, one must explicitly set this flag to use the new origin convention (i.e. `[0,0,0]` as the origin)."
      ],
      "metadata": {
        "id": "JOuzND4lW8wK"
      }
    },
    {
      "cell_type": "markdown",
      "source": [
        "### \"Forward\""
      ],
      "metadata": {
        "id": "JXabl344Y4Wa"
      }
    },
    {
      "cell_type": "markdown",
      "source": [
        "The \"Forward\" root-level object is relatively simple, it only contains 3 useful parameters specifying the time-gate settings of mcx simulation"
      ],
      "metadata": {
        "id": "CKCBe_2jY8Da"
      }
    },
    {
      "cell_type": "code",
      "source": [
        "!jq '.Forward' cube60_input.json"
      ],
      "metadata": {
        "colab": {
          "base_uri": "https://localhost:8080/"
        },
        "id": "8fit3q2-ZNj6",
        "outputId": "24e466d6-50b4-4d8f-97e0-bdb51f2a7eb6"
      },
      "execution_count": null,
      "outputs": [
        {
          "output_type": "stream",
          "name": "stdout",
          "text": [
            "\u001b[1;39m{\n",
            "  \u001b[0m\u001b[34;1m\"T0\"\u001b[0m\u001b[1;39m: \u001b[0m\u001b[0;39m0\u001b[0m\u001b[1;39m,\n",
            "  \u001b[0m\u001b[34;1m\"T1\"\u001b[0m\u001b[1;39m: \u001b[0m\u001b[0;39m4.99999996961265e-09\u001b[0m\u001b[1;39m,\n",
            "  \u001b[0m\u001b[34;1m\"Dt\"\u001b[0m\u001b[1;39m: \u001b[0m\u001b[0;39m4.99999996961265e-09\u001b[0m\u001b[1;39m\n",
            "\u001b[1;39m}\u001b[0m\n"
          ]
        }
      ]
    },
    {
      "cell_type": "markdown",
      "source": [
        "The \"T0\", \"T1\" and \"Dt\" scalar fields defines the start, end and interval of simulation time in the unit of second (s), respectively. In this case, we ask mcx to simulate photons between 0 and 5 ns, and accumulate the results in a single time-bin convering the entire 5 ns time window. If the \"Dt\" value is set to 1e-9 s, the output fluence will contain a 4D array, with Nx*Ny*Nz*Nt where Nt is the number of time-gate, which in this case is (T1-T0/Dt)=5."
      ],
      "metadata": {
        "id": "Wp2Gdpc3ZSH9"
      }
    },
    {
      "cell_type": "markdown",
      "source": [
        "#### <font>🗣 *Best Practics Guide - maximum time window*\n",
        "\n",
        ">The T1 value should be decided based on the domain physical size, the scattering coefficient of the medium and the lossiness (absorption) of the medium. It is not necessarily setting the large the T1 value will bring more accurate steady-state photon distribution.\n",
        ">\n",
        ">We often use a maximum simulation time window of 5 ns in our examples - in water (n=1.33) or tissue-like medium (n=1.37), this allows light to travel ~1.1 meter total path length. In tissue-like medium, due to extremely high scattering, this time should allow light to diffuse and fill a ~10 cm^3 volume and obtain a steady-state solution. One can adjust the time-window length according to the medium domain and scattering setting you have - but more than 5-10 ns may not bring much benefit in absorbing medium because photon packet weight drops exponentially along the path. Letting a low-weight photon to continue propagation results in little change to the light fluence profile while consuming computational time."
      ],
      "metadata": {
        "id": "NfMeRA2t5rIx"
      }
    },
    {
      "cell_type": "markdown",
      "source": [
        "### \"Optode\""
      ],
      "metadata": {
        "id": "4QgPXynl82my"
      }
    },
    {
      "cell_type": "markdown",
      "source": [
        "The word \"Optode\" refers to an optical source or detector. Therefore, as the anme suggests, the \"Optode\" object specifies the light source and detector settings.\n",
        "\n",
        "\"Optode\" has two child objects, \"Source\" which is required, and \"Detector\", which is optional."
      ],
      "metadata": {
        "id": "x7u3b8Le82mz"
      }
    },
    {
      "cell_type": "code",
      "source": [
        "!jq '.Optode' cube60_input.json"
      ],
      "metadata": {
        "id": "2FmTfQcF82mz"
      },
      "execution_count": null,
      "outputs": []
    },
    {
      "cell_type": "markdown",
      "source": [
        "`mcx` supports over a dozen source types, specified by the string value of the `\"Type\"` key. The default source type, if not specified, is the `\"pencil\"` beam - defining a point-source with location specified by a 1x3 `\"Pos\"` vector, and a launch direction specified by a 1x3 `\"Dir\"` unit vector.\n",
        "\n",
        "The `pencil` beam source is completely defined with the `Pos` and `Dir` settings. However, for some other advanced source types, such as `fourier`, `planar`, `disk`, `cone` or others, one must use the additional source parameter fields, `\"Param1\":[v1,v2,v3,v4]` and `\"Param1\":[u1,u2,u3,u4]`, to pass on source-type-specific parameters.\n",
        "\n",
        "For example, if the source typ eis set to to `\"cone\"`, an half-angle in rad unit must be specified by the first value of the `\"Param1\"` vector."
      ],
      "metadata": {
        "id": "B6L2u_OW82m0"
      }
    },
    {
      "cell_type": "markdown",
      "source": [
        "MCX supports two ways of capturing detected photons (can be used together) - a disk-shaped detector specified by the `\"Detector\"` section inside `\"Optode\"`, or a boundary bounding-box facet based detector specified by the `--bc` parameter of the \"BCFlags\" fields under the \"Session\" section (see below).\n",
        "\n",
        "Here, we want to describe the first type of detector. MCX's detector is optional - if detector is not specified, mcx does not return the detected photon data. However, if one wants to set disk-shaped detectors, one must define each detector by two fields: a 1x3 \"Pos\" vector specifying the center position of the detector, and a scalar \"R\" specifying the radius of the detector. **Both the \"Pos\" and \"R\" values are in voxel unit**, not in physical length unit. This means it must be scaled by the voxel size (\"LengthUnit\") to match their physical values.\n",
        "\n",
        "One can imagine a detector as a spherical bubble centered at `\"Pos\"` with a radius of `\"R\"`. This spherical bubble **must have an intersecting cross-section** with the tissue-background boundaries - which includes\n",
        "- **the voxelated domain bounding box surfaces**, if the entire domain is filled with non-zero labeled medium\n",
        "- **or the voxel surface boundary interfacing between 0-valued and non-zero valued voxels**\n"
      ],
      "metadata": {
        "id": "0usQ9a50AJWb"
      }
    },
    {
      "cell_type": "markdown",
      "source": [
        "#### 🗣 *Best Practics Guide - detector placement*\n",
        "\n",
        ">**Why the detector bubble must intersect with the tissue bounary?** this is because photon detection calculations are only triggered before a photon is being terminated - which is done after a photon moving from a non-zero voxel to a 0-voxel or outside of the domain bounding box. Photon detection implies the termination of the photon because it does not make physical sense that a detected photon can continue propagation. Therefore, a valid detector must be placed along the tissue-background boundary in order to capture any detected photon.\n",
        ">\n",
        ">If the distance between the center (\"Pos\") of a detector to the nearest tissue-background boundary is more than \"R\", this detector will never detect any photon.\n",
        ">\n",
        ">One should double check with the \"OriginType\" setting mentioned above to make sure a detector is placed properly along the tissue boundary. A undesired offset of 1 voxel may deactivate some of the detectors (mcx will give a warning if this happens).\n",
        ">\n",
        ">**What happens if multiple detectors have overlapping areas?** mcx sequentially tests the distance of a photon exiting position to decide which detector encloses it. If a photon exiting from an overlapping area between multiple detectors, the detector that has the lowest index captures the photon.\n",
        ">\n",
        ">Using the above principle, one can define a series of annulus/ring shaped detector by placing concentric detectors with overlapping \"Pos\" but increasing \"R\" values."
      ],
      "metadata": {
        "id": "6Tns6xMr82m0"
      }
    },
    {
      "cell_type": "markdown",
      "source": [
        "### \"Session\""
      ],
      "metadata": {
        "id": "mBxgYBMuGLa0"
      }
    },
    {
      "cell_type": "markdown",
      "source": [
        "The `\"Session\"` root-level object stores a collection of flags that can impact the photon handling of the simulation or user file input/output settings. These flags are considered **non-intrinsic** to the physical problem, rather run-time options that can be varied or adjusted to create different simulation modes.\n",
        "\n",
        "For example, the `\"ID\"` field defines a string that is used to label the output file names. For example, setting `\"ID\":\t\"cube60\"` results in the output volumetric data stored as `cube60.jnii`, the detected photon data file as `cube60_detp.jdat` etc.\n",
        "\n",
        "The `\"Photons\"` field specifies how many photon packets to simulate. MCX simulatino runtime is linearly proportional to the photon numbers, therefore, the larger the nphoton number, the"
      ],
      "metadata": {
        "id": "ANTYEMZKGLa1"
      }
    },
    {
      "cell_type": "code",
      "source": [
        "!jq '.Session' cube60_input.json"
      ],
      "metadata": {
        "colab": {
          "base_uri": "https://localhost:8080/"
        },
        "outputId": "14ec8547-229a-4ec7-aa8c-d1f191303af9",
        "id": "frccvi0qGLa1"
      },
      "execution_count": null,
      "outputs": [
        {
          "output_type": "stream",
          "name": "stdout",
          "text": [
            "\u001b[1;39m{\n",
            "  \u001b[0m\u001b[34;1m\"ID\"\u001b[0m\u001b[1;39m: \u001b[0m\u001b[0;32m\"cube60\"\u001b[0m\u001b[1;39m,\n",
            "  \u001b[0m\u001b[34;1m\"Photons\"\u001b[0m\u001b[1;39m: \u001b[0m\u001b[0;39m1000000\u001b[0m\u001b[1;39m,\n",
            "  \u001b[0m\u001b[34;1m\"RNGSeed\"\u001b[0m\u001b[1;39m: \u001b[0m\u001b[0;39m1648335518\u001b[0m\u001b[1;39m,\n",
            "  \u001b[0m\u001b[34;1m\"DoMismatch\"\u001b[0m\u001b[1;39m: \u001b[0m\u001b[0;39mfalse\u001b[0m\u001b[1;39m,\n",
            "  \u001b[0m\u001b[34;1m\"DoSaveVolume\"\u001b[0m\u001b[1;39m: \u001b[0m\u001b[0;39mtrue\u001b[0m\u001b[1;39m,\n",
            "  \u001b[0m\u001b[34;1m\"DoNormalize\"\u001b[0m\u001b[1;39m: \u001b[0m\u001b[0;39mtrue\u001b[0m\u001b[1;39m,\n",
            "  \u001b[0m\u001b[34;1m\"DoPartialPath\"\u001b[0m\u001b[1;39m: \u001b[0m\u001b[0;39mtrue\u001b[0m\u001b[1;39m,\n",
            "  \u001b[0m\u001b[34;1m\"DoSaveRef\"\u001b[0m\u001b[1;39m: \u001b[0m\u001b[0;39mfalse\u001b[0m\u001b[1;39m,\n",
            "  \u001b[0m\u001b[34;1m\"DoSaveExit\"\u001b[0m\u001b[1;39m: \u001b[0m\u001b[0;39mfalse\u001b[0m\u001b[1;39m,\n",
            "  \u001b[0m\u001b[34;1m\"DoSaveSeed\"\u001b[0m\u001b[1;39m: \u001b[0m\u001b[0;39mfalse\u001b[0m\u001b[1;39m,\n",
            "  \u001b[0m\u001b[34;1m\"DoAutoThread\"\u001b[0m\u001b[1;39m: \u001b[0m\u001b[0;39mtrue\u001b[0m\u001b[1;39m,\n",
            "  \u001b[0m\u001b[34;1m\"DoDCS\"\u001b[0m\u001b[1;39m: \u001b[0m\u001b[0;39mfalse\u001b[0m\u001b[1;39m,\n",
            "  \u001b[0m\u001b[34;1m\"DoSpecular\"\u001b[0m\u001b[1;39m: \u001b[0m\u001b[0;39mfalse\u001b[0m\u001b[1;39m,\n",
            "  \u001b[0m\u001b[34;1m\"DebugFlag\"\u001b[0m\u001b[1;39m: \u001b[0m\u001b[0;39m0\u001b[0m\u001b[1;39m,\n",
            "  \u001b[0m\u001b[34;1m\"SaveDataMask\"\u001b[0m\u001b[1;39m: \u001b[0m\u001b[0;39m5\u001b[0m\u001b[1;39m,\n",
            "  \u001b[0m\u001b[34;1m\"OutputFormat\"\u001b[0m\u001b[1;39m: \u001b[0m\u001b[0;32m\"jnii\"\u001b[0m\u001b[1;39m,\n",
            "  \u001b[0m\u001b[34;1m\"OutputType\"\u001b[0m\u001b[1;39m: \u001b[0m\u001b[0;32m\"x\"\u001b[0m\u001b[1;39m\n",
            "\u001b[1;39m}\u001b[0m\n"
          ]
        }
      ]
    },
    {
      "cell_type": "markdown",
      "source": [
        "#### 🗣 *Best Practics Guide - setting photon number*\n",
        "\n",
        ">A common beginner's mistake is to start testing an MCX simulation with a large photon number without having the idea how long such simulation may take.\n",
        ">\n",
        ">The MC simulation is extremely computationally expensive. Even though it has been accelerated by thousands fold using GPU computing in MCX, it is still considered relatively slow for general purpose use (despite it provides the most accurate result). Because of this, one must be conscious on the time necessary to complete a desired simulation.\n",
        ">\n",
        ">Extended simulation time can be caused by\n",
        "- 1) setting \"Session.Photon\" to a unrealistically large value without a justification,\n",
        "- 2) modeling highly scattering medium,\n",
        "- 3) modeling a large-sized physical domain relatively to the mean-free-path of photon,\n",
        "- 4) use of mirror boundary conditions that extend the propagation path lengths,\n",
        "- 5) use of very large and dense voxeled grid (see [earlier section](https://colab.research.google.com/drive/1MX4rC1my2znSYXCj8HgKmPEZzNxhZii3#scrollTo=_Best_Practics_Guide_domain_size)), and\n",
        "- 6) use of low-end low-core-count non-dedicated GPUs\n",
        ">\n",
        ">It is highly recommended to start prototyping your simulation settings with a coarse voxelated grid with low photon numbers. Once you get some initial results and understand the noise level and convergence of the solutions, you can increase photon count when necessary. Do not start from the opposite direction."
      ],
      "metadata": {
        "id": "UginUswzIIZv"
      }
    },
    {
      "cell_type": "markdown",
      "source": [
        "### \"Shapes\""
      ],
      "metadata": {
        "id": "vWUUhEYGL3by"
      }
    },
    {
      "cell_type": "markdown",
      "source": [
        "The `\"Shapes\"` object defines the media inside the simulation domain. It supports two types of definitions"
      ],
      "metadata": {
        "id": "EPzo32nHL5Kz"
      }
    },
    {
      "cell_type": "markdown",
      "source": [
        "#### Shape-descriptors\n",
        "\"**Shape descriptors**\" allow a user to construct a complex domain using combinations of simple geometries - spheres, boxes, slabs, cylinders etc.\n",
        "\n",
        "Shape descriptors must be provided as a **JSON array** in the form of `\"Shapes\":[...]`\n",
        "```javascript\n",
        "  \"Shapes\": [\n",
        "     {\"Name\":     \"Test\"},    // optional note, no affect to domain\n",
        "     {\"Origin\":   [0,0,0]},   // set origin for all subsequent shapes\n",
        "     {\"Grid\":     {\"Tag\":1, \"Size\":[40,60,50]}},  // initialize a 40x60x50 grid with label 1\n",
        "     {\"Sphere\":   {\"Tag\":2, \"O\":[30,30,30],\"R\":20}}, //sphere centered at \"O\" with radius \"R\"\n",
        "     {\"Box\":      {\"Tag\":0, \"O\":[10,10,10],\"Size\":[10,10,10]}}, // box with lower-bottom corner at \"O\" and x/y/z dimensions as \"Size\"\n",
        "     {\"Cylinder\": {\"Tag\":2, \"C0\": [0.0,0.0,0.0], \"C1\": [15.0,8.0,10.0], \"R\": 4.0}},  // cylinder with axis between points C0 and C1, and radius \"R\"\n",
        "     {\"Subgrid\":  {\"Tag\":1, \"O\":[13,13,13],\"Size\":[5,5,5]}}, // same as Box, inclusive of both ends\n",
        "     {\"UpperSpace\":{\"Tag\":3,\"Coef\":[1,-1,0,0],\"Equ\":\"A*x+B*y+C*z>D\"}}, // half-space defined by the equation, \"Equ\" is a string note\n",
        "     {\"XSlabs\":   {\"Tag\":4, \"Bound\":[[5,15],[35,40]]}}, // defines two x-slabs between x=5:15 and x=35:40, both with label=4\n",
        "     {\"ZLayers\":  [[1,10,1],[11,30,2],[31,50,3]]} // defines 3 z-slabs, z=1:10 with label=1, z=11:30 with label=2, and z=31:50 with label=3\n",
        "  ]\n",
        "```\n",
        "\n",
        "Each element in the Shape array is an object representing a single geometric primitive. The supported primitives include 3 types:\n",
        "- Shape constructs: `Grid`, `Sphere`, `Cylinder`, `Box`, `XSlabs/YSlabs/ZSlabs`, `XLayers/YLayers/ZLayers`, `Subgrid`, `UpperSpace`;\n",
        "- Coordinate system: `Origin` and\n",
        "- Optional annotation: `Name`\n",
        "\n",
        "For all shape constructs, they all have a property `\"Tag\"`, defining the medium label enclosed in the shape; Other properties defines the shape parameters.\n",
        "\n",
        "When shapes cover overlapping space, shapes defined later in the list overwrites the shapes defined earlier.\n",
        "\n",
        "The `\"Grid\"` object is special - it resets the entire domain and makes all preceeding shapes ineffective. As a result, typically you should define `\"Grid\"` as the first in the list.\n",
        "\n",
        "Media definition priorities\n",
        "- `--json '{\"Shapes\":[...]}'` > `\"Shapes\":[]` input > `Domain::VolumeFile` input\n",
        "- when both `Domain::VolumeFile` and `\"Shapes\"` are defined, VolumeFile will be loaded first, and then modified by `\"Shapes\"`\n",
        "- when both `\"Shapes\"` and command line flag `--json '{\"Shapes\":[...]}'` are provided, the `--json` setting are further parsed to overwrite the `\"Shape\"` input file settings\n"
      ],
      "metadata": {
        "id": "PFPEcp3vU-YO"
      }
    },
    {
      "cell_type": "markdown",
      "source": [
        "#### JSON/JData-based 3-D volume\n",
        "\n",
        "The Shape construct can store a 3-D volume in the form of a JData/JSON based object (Note that this is JSON object `{}`, not a JSON array `[]`)\n",
        "\n",
        "```javascript\n",
        "  \"Shapes\": {\n",
        "     \"_ArrayType_\": \"uint8\",\n",
        "     \"_ArraySize_\": [40,50,60],\n",
        "     \"_ArrayZipType_\": \"zlib\",\n",
        "     \"_ArrayZipSize_\": 120000,\n",
        "     \"_ArrayZipData_\": \"...base64-encoded-binary-data...\"\n",
        "  }\n",
        "\n",
        "```"
      ],
      "metadata": {
        "id": "0u3Ykh__mH5p"
      }
    },
    {
      "cell_type": "markdown",
      "source": [
        "Here is an example how to create such JSON-encoded volume in MATLAB/Octave"
      ],
      "metadata": {
        "id": "3m6UqPSGu-Rz"
      }
    },
    {
      "cell_type": "code",
      "source": [
        "%%octave\n",
        "\n",
        "% a 40x50x30 all-one volume\n",
        "vol = uint8(ones(40,50,30));\n",
        "savejson('Shapes', vol, 'compression', 'zlib')\n",
        "\n",
        "% a volume with two media types: 1 and 2\n",
        "vol(20:40, 20:30, 10:15) = 2;\n",
        "savejson('Shapes', vol, 'compression', 'zlib')"
      ],
      "metadata": {
        "id": "I20Si5tVqY-w"
      },
      "execution_count": null,
      "outputs": []
    },
    {
      "cell_type": "markdown",
      "source": [
        "Here is an example how to create JSON-encoded volume in Python with `numpy`"
      ],
      "metadata": {
        "id": "Zpg0w1h47m7g"
      }
    },
    {
      "cell_type": "code",
      "source": [
        "import numpy as np\n",
        "import jdata as jd\n",
        "\n",
        "vol = np.ones([40,50,30], dtype='uint8');\n",
        "jd.show(vol, {'compression':'zlib'})\n",
        "\n",
        "vol[19:40, 19:30, 9:15] = 2;\n",
        "jd.show(vol, {'compression':'zlib'})"
      ],
      "metadata": {
        "id": "JcIeFvbh7uw4"
      },
      "execution_count": null,
      "outputs": []
    },
    {
      "cell_type": "code",
      "source": [
        "%%shell\n",
        "\n",
        "# @title Browse built-in benchmark JSON inputs\n",
        "benchname=\"sphshells\" # @param [\"cube60\", \"cube60b\", \"cube60planar\", \"cubesph60b\", \"skinvessel\", \"sphshells\", \"spherebox\", \"colin27\"]\n",
        "inputname=\"Domain\"  # @param [\"Domain\", \"Forward\", \"Optode\", \"Session\", \"Shapes\", \".\"]\n",
        "\n",
        "mcx --bench $benchname --dumpjson | jq \".$inputname\""
      ],
      "metadata": {
        "id": "EKSF5gcXxGBN"
      },
      "execution_count": null,
      "outputs": []
    },
    {
      "cell_type": "markdown",
      "source": [
        "## Command line parameters\n",
        "\n",
        "MCX's command line parameters overwrites the settings in the input file.\n",
        "\n",
        "MCX supports a few dozens of command line flags. They allow you to configure pretty much every aspect of the simulation at the time of the execution. The design philosophy of MCX's command flags follows one of the well-recognized \"Unix Philosophy\" -- \"**Do one thing and do it well**\".\n",
        "\n",
        "To list all supported mcx command line options, you type `mcx` without any parameter, or `mcx --help`"
      ],
      "metadata": {
        "id": "t0Jai86h-xGI"
      }
    },
    {
      "cell_type": "code",
      "source": [
        "!mcx --help | grep '^.*\\(\\s-\\|==\\)'  # list all parameters in a compact format"
      ],
      "metadata": {
        "id": "M3LWbksP6K9g"
      },
      "execution_count": null,
      "outputs": []
    },
    {
      "cell_type": "markdown",
      "source": [
        "Most parameters have both a short (`-` followed by a single letter) and a long (`--` followed by a word) form. You can use either form interchangably.\n",
        "\n",
        "For example, you can use `-G 1` to specify GPU selection, or `--gpu 1` to do the same.\n",
        "\n"
      ],
      "metadata": {
        "id": "pBXD5AZN6Khu"
      }
    },
    {
      "cell_type": "code",
      "source": [
        "%%shell\n",
        "\n",
        "# @title Try various input flags\n",
        "\n",
        "benchname=\"cube60b\" # @param [\"cube60\", \"cube60b\", \"cube60planar\", \"cubesph60b\", \"skinvessel\", \"sphshells\", \"spherebox\", \"colin27\"]\n",
        "photonnum=\"1e5\" # @param [\"1000\", \"10000\", \"1e5\", \"1.0e6\"] {note: \"-n or --photon\"}\n",
        "doreflection=1 # @param [1, 0] {note: \"-b or --doreflect, 1 is default\"}\n",
        "# boundary condition -B/--bc only applies to 6 bounding box facets x=0/y=0/z=0/x=max/y=max/z=max\n",
        "boundcond=\"_____m\" # @param [\"aaaaaa\", \"rrrrrr\", \"______\", \"rrarra\", \"_____m\"] {note: \"a/r/m/_ for x=0/y=0/z=0/x=max/y=max/z=max planes; _ fallback to -b flag\"}\n",
        "outputformat=\"jnii\" # @param [\"jnii\", \"nii\", \"mc2\"]\n",
        "outputtype=\"X\" # @param [\"X\", \"F\", \"E\"] {note: \"X- fluence rate, F- fluence, E- energy deposition\"}\n",
        "\n",
        "# display the full command line\n",
        "echo mcx --bench $benchname -n $photonnum -b $doreflection -B $boundcond -O $outputtype -F $outputformat\n",
        "\n",
        "mcx --bench $benchname -n $photonnum -b $doreflection -B $boundcond -O $outputtype -F $outputformat"
      ],
      "metadata": {
        "id": "X0hWNgAZBS69"
      },
      "execution_count": null,
      "outputs": []
    },
    {
      "cell_type": "markdown",
      "source": [
        "### GPU related flags\n",
        "\n",
        "- `-G n`: use the n-th (n: positive integer) GPU\n",
        "- `-G 1011`: a 0-1 mask, use the GPU that has a 1-mask, `1011` to use 1st/3rd/4th GPU\n",
        "- `-W 10,20,10`: a list of numbers, denoting the relative workload between active GPUs, the total photos are split in 1:2:1 among 3 active GPUs specified by `-G`\n",
        "- `-A 1`: autopilot, let MCX select how many threads to use based on GPU cores\n",
        "- `-t threadnum`: when `-A 0` is used, `-t` manually specifies the total thread number, automatically rounding to multiples of 32; a large number is needed to **saturate** the hardware and fully utilize all cores.\n",
        "- `-T blocksize`: when `-A 0` is used, `-T` manually specifies the thread block size - default is 64, must be multiples of 32;\n",
        "- `-L`: list available CUDA GPUs\n",
        "- `--atomic 1`: use atomic operations by defaut, do not change. Atomic operations prevents racing between multiple threads\n",
        "\n",
        "what happens if one submit multitple jobs to a single GPU?\n",
        "\n",
        "CUDA serializes the simulation and allow one simulation to run at a time; others must wait.\n",
        "\n"
      ],
      "metadata": {
        "id": "CnANG-_tNRGR"
      }
    },
    {
      "cell_type": "code",
      "source": [
        "%%shell\n",
        "\n",
        "# @title Try various GPU thread/block settings, watch speed change (photon/ms)\n",
        "\n",
        "benchname=\"cube60b\" # @param [\"cube60\", \"cube60b\", \"cube60planar\", \"cubesph60b\", \"skinvessel\", \"sphshells\", \"spherebox\", \"colin27\"]\n",
        "threadnum=\"81920\" # @param [1024, 10240, 20480, 81920] {note: \"only used after -A 0\"}\n",
        "blocksize=\"64\" # @param [32, 64, 128, 16] {note: \"only used after -A 0, should be multiples of 32\"}\n",
        "\n",
        "# display the full command line\n",
        "echo mcx --bench $benchname -A 0 -t $threadnum -T $blocksize\n",
        "\n",
        "mcx --bench $benchname -A 0 -t $threadnum -T $blocksize"
      ],
      "metadata": {
        "id": "0mkd4_MAO6rR"
      },
      "execution_count": null,
      "outputs": []
    },
    {
      "cell_type": "markdown",
      "source": [
        "### User input priorities\n",
        "\n"
      ],
      "metadata": {
        "id": "5aTNfnyIb-Oc"
      }
    },
    {
      "cell_type": "markdown",
      "source": [
        "## Understanding mcx's outputs\n",
        "-----"
      ],
      "metadata": {
        "id": "ZBGOeHXU1psB"
      }
    },
    {
      "cell_type": "markdown",
      "source": [
        "### Simulation volumetric output\n",
        "\n",
        "- Fluence rate ($1/(mm^2s)$ or $joule/(mm^2s)$): default (`-O X`)\n",
        "- Fluence ($1/mm^2$ or $joule/mm^2$): (`-O F`)\n",
        "- Energy deposition (unitless or joule): (`-O E`)\n",
        "\n",
        "mcx solutions are Green's functions by default via normalization (can be disabled with `-U 0`). What does this mean?\n",
        "\n",
        "A Green's function is the unique solution of a PDE when the source is a Dirac-delta function i.e. $PDE(\\Phi(r))=\\delta(t=t_0, r=r_s)$. The Green's function can also be called impose response function (IRF) or temporal point spread function (TPSF) when the PDE is time-dependent. The formula for MCX normalization (for fluence-rate) is\n",
        "\n",
        "$\\Phi_{raw} = \\Phi_{raw} \\times \\frac{L}{E_{total}\\times L^3\\times \\delta_t}$\n",
        "\n",
        "where $L$ is voxel size (in mm), $L^3$ is the voxel volume, $\\delta_t$ (in s) is the time-gate width (`Forward::Dt`).\n",
        "\n",
        "A property of the delta-function is that its integration (total energy) over space and time is 1, i.e. $\\int\\delta(r)dr=1$. The source term's total energy is 1 does not mean the solution at the source ($\\Phi(r=r_s)$) is 1, especially MCX solutions are made of discrete values integrated over each voxel space.\n",
        "\n",
        "How do we verify MCX is producing a correct \"Green's function\". One way is to compare with diffusion equation's analytical solution in the diffusive regime of simple domains. For example, for a semi-infinite domain with $\\mu_a$ and $\\mu'_s$, the analytical solution of the diffision equation\n",
        "\n",
        "$\\nabla\\cdot D\\nabla \\Phi(r) + \\mu_a\\Phi(r) = \\delta(r)$\n",
        "\n",
        "can be expressed as\n",
        "\n",
        "$G(\\vec{r})=\\frac{1}{4\\pi D} \\left[ \\exp(-\\sqrt(3\\mu_a\\mu'_s)\\times|\\vec{r}-(\\vec{r}_s-z_0\\vec{n})|) - \\exp(-\\sqrt(3\\mu_a\\mu'_s)\\times|\\vec{r}-(\\vec{r}_s+(z_0 - 2z_b)\\vec{n})|)\\right]$\n",
        "\n",
        "In our MCX/MMC papers, we primarily use this approach to make sure the output are matching in both scales and distributions."
      ],
      "metadata": {
        "id": "Hjhe8m7mNTby"
      }
    },
    {
      "cell_type": "code",
      "source": [
        "# see matlab code for computing the semi-infinite analytical solution\n",
        "!echo '%%%% matlab code for CW analytical solution for semi-infinite space'\n",
        "!cat MCXStudio/MCXSuite/mcx/utils/cwdiffusion.m\n",
        "\n",
        "!echo '%%%% matlab code for time-domain analytical solution for semi-infinite space'\n",
        "!cat MCXStudio/MCXSuite/mcx/utils/tddiffusion.m"
      ],
      "metadata": {
        "id": "VjQfN2MToOTh"
      },
      "execution_count": null,
      "outputs": []
    },
    {
      "cell_type": "markdown",
      "source": [
        "### Simulation volumetric output data file format\n",
        "\n",
        "`-F` and `--outputformat` specifies the output data format. For volumetric output, we use JSON-based JNIfTI format as the default output since v2023.\n",
        "\n",
        "what is JNIfTI?\n",
        "\n",
        "JNIfTI is a JSON wrapper of the widely used NIfTI (.nii) format. It contains two JSON keys [`NIFTIHeader`](https://github.com/NeuroJSON/jnifti/blob/master/JNIfTI_specification.md#niftiheader) and [`NIFTIData`](https://github.com/NeuroJSON/jnifti/blob/master/JNIfTI_specification.md#niftidata)\n",
        "\n",
        "```javascript\n",
        "{\n",
        "  \"NIFTIHeader\": {\n",
        "    \"DataType\": \"single\",\n",
        "    \"Dim\": [...],\n",
        "    \"VoxelSize\": [...]\n",
        "    ...\n",
        "  },\n",
        "  \"NIFTIData\": {\n",
        "     \"_ArrayType_\": \"single\",\n",
        "     \"_ArraySize_\": [...],\n",
        "     \"_ArrayZipType_\": \"zlib\",\n",
        "     \"_ArrayZipSize_\": [...],\n",
        "     \"_ArrayZipData_\": \"...base64 encoded compressed binary data...\"\n",
        "  }\n",
        "}\n",
        "```\n",
        "\n",
        "where `NIFTIHeader` stores the standard NIfTI header metadata, and `NIFTIData` stores an N-D array, simular to the `\"Shapes\"` volumetric format discused above.\n",
        "\n",
        "Using [JData annotations](https://github.com/NeuroJSON/jdata/blob/master/JData_specification.md#n-dimensional-array-storage-keywords), `NIFTIData` container supports data compression, complex and sparse arrays and more.\n",
        "\n"
      ],
      "metadata": {
        "id": "0amJSYmc10lb"
      }
    },
    {
      "cell_type": "code",
      "source": [
        "%%shell\n",
        "\n",
        "# let's first generate the output file\n",
        "mcx --bench cube60 -s cube60 -F jnii\n",
        "\n",
        "# show NIFTIHeader keys\n",
        "echo '==================='\n",
        "jq '.NIFTIHeader' cube60.jnii\n",
        "# show NIFTIData keys\n",
        "echo '==================='\n",
        "jq '.NIFTIData | keys' cube60.jnii\n",
        "# query specific field value\n",
        "echo '==================='\n",
        "jq '.NIFTIData._ArraySize_' cube60.jnii\n",
        "# JData allows to add additional metadata under `_DataInfo_` to make the file self-explanatory\n",
        "echo '==================='\n",
        "jq '._DataInfo_' cube60.jnii"
      ],
      "metadata": {
        "id": "YmDTJkV3I0xy"
      },
      "execution_count": null,
      "outputs": []
    },
    {
      "cell_type": "code",
      "source": [
        "%%octave\n",
        "# @title How to load and display volume data in MATLAB/Octave\n",
        "\n",
        "which loadjson loadjnifti\n",
        "\n",
        "vol = loadjson('cube60.jnii');  % load JSON/JNIFTI file using loadjson or loadjnifti\n",
        "vol.NIFTIHeader\n",
        "\n",
        "size(vol.NIFTIData)\n",
        "class(vol.NIFTIData)\n",
        "\n",
        "contourf(log10(squeeze(vol.NIFTIData(30,:,:))),30)\n",
        "axis equal"
      ],
      "metadata": {
        "id": "fN0Q0tx-VvQk"
      },
      "execution_count": null,
      "outputs": []
    },
    {
      "cell_type": "code",
      "source": [
        "# @title How to load and display mcx volumetric output in Python\n",
        "import jdata as jd\n",
        "import numpy as np\n",
        "from matplotlib import pyplot as plt\n",
        "\n",
        "vol = jd.load('cube60.jnii')   # load JSON/JNIFTI file using jdata.load() function\n",
        "vol['NIFTIHeader']\n",
        "\n",
        "vol['NIFTIData'].shape\n",
        "vol['NIFTIData'].dtype\n",
        "\n",
        "plt.contourf(np.log10(np.squeeze(vol['NIFTIData'][29,:, :])), 30)\n",
        "plt.axis('equal')\n",
        "plt.show()"
      ],
      "metadata": {
        "id": "wtCtLRGoiEto"
      },
      "execution_count": null,
      "outputs": []
    },
    {
      "cell_type": "markdown",
      "source": [
        "### Detected photon data\n",
        "\n",
        "In addition to volumetric outputs, MCX also produces photon-specific data associated with each detected photon.\n",
        "\n",
        "The supported data types include\n",
        "- detector ID (`d`, `detp.detid`) - which detector captures the photon\n",
        "- partial pathlengths (`p`, `detp.ppath`) - accumulative pathlengths in each medium type\n",
        "- partial scattering count (`n`,`detp.nscat`) - total scattering count in each medium\n",
        "- momentum transfer (`m`,`detp.mom`) - sum of cos(theta) of scattering angle in each medium\n",
        "- exiting position (`x`,`detp.p`) - x/y/z of the exiting position\n",
        "- exiting direction vector (`v`,`detp.v`) - vx/vy/vz of the exiting direction\n",
        "- initial launched weight (`w`, `detp.w0`) - initial weight, may be less than 1 for patterns\n",
        "- polarization state at exit (`i`, `detp.iquv`) - IQUV vector at detection"
      ],
      "metadata": {
        "id": "6PTN9v-Kw3kz"
      }
    },
    {
      "cell_type": "markdown",
      "source": [
        "To tell MCX which detected photon data to export, one should use `-w` or `--savedetflag` flag. The input is a string made of combinations of letters from `dpnmxvwi`. By default, the savedetflag is `dp`, where letter `d` asks mcx to save `detid`, and `p` requests `ppath` outputs.\n",
        "\n",
        "- `--savedetflag` is only considered when saving detected photon is enabled `--savedet 1` (which is default)\n",
        "- `--savedet` flag will be set to 0/disable when no detector is defined (i.e. `Optode::Detector` in the input is not defined)"
      ],
      "metadata": {
        "id": "P6vHhNCFA5Hj"
      }
    },
    {
      "cell_type": "markdown",
      "source": [
        "### Detected photon output JSON data structure\n",
        "\n",
        "Aside from the volumetric output, MCX stores data outputs, including detected photon data (`-d 1`) and photon seeds (`-q 1`, for replay) in a separate JSON file, usually named as `session_name_detp.jdat`.\n",
        "\n",
        "The overall structure of the `*_detp.jdat` file is shown below\n",
        "\n",
        "````\n",
        "{\n",
        "   \"MCXData\":{\n",
        "       \"Info\":{\n",
        "           \"Version\":\n",
        "           \"MediaNum\":\n",
        "           \"DetNum\":\n",
        "           ...\n",
        "           \"Media\":{\n",
        "               ...\n",
        "           }\n",
        "       },\n",
        "       \"PhotonData\":{\n",
        "           \"detid\":\n",
        "           \"nscat\":\n",
        "           \"ppath\":\n",
        "           \"mom\":\n",
        "           \"p\":\n",
        "           \"v\":\n",
        "           \"w0\":\n",
        "       },\n",
        "       \"Seed\":[\n",
        "           ...\n",
        "       ]\n",
        "   }\n",
        "}\n",
        "````"
      ],
      "metadata": {
        "id": "CTOQ6ZmZdMzb"
      }
    },
    {
      "cell_type": "code",
      "source": [
        "%%shell\n",
        "# @title Detected photon output data format\n",
        "\n",
        "benchname=\"colin27\" # @param [\"cube60\", \"cube60b\", \"cube60planar\", \"cubesph60b\", \"colin27\"]\n",
        "savedetflag=\"dpvx\" # @param {type: \"string\"}\n",
        "\n",
        "# print detector if defined\n",
        "mcx --bench $benchname --dumpjson | jq \".Optode.Detector\"\n",
        "\n",
        "# run simulation with the specified flags\n",
        "mcx --bench $benchname --savedetflag $savedetflag\n",
        "\n",
        "# output JSON/JData file contains `MCXData.PhotonData`\n",
        "cat ${benchname}_detp.jdat | jq '.MCXData.Info'\n",
        "cat ${benchname}_detp.jdat | jq '.MCXData.PhotonData | keys'\n"
      ],
      "metadata": {
        "id": "MJ4wUW7lA3jD"
      },
      "execution_count": null,
      "outputs": []
    },
    {
      "cell_type": "code",
      "source": [
        "%%octave\n",
        "# @title Detected photon output data format\n",
        "\n",
        "detp = loadjson('colin27_detp.jdat');\n",
        "fieldnames(detp.MCXData)\n",
        "\n",
        "detp.MCXData.Info\n",
        "\n",
        "detid=detp.MCXData.PhotonData.detid;\n",
        "ppath=detp.MCXData.PhotonData.ppath;\n",
        "prop = squeeze(cell2mat(struct2cell(detp.MCXData.Info.Media)))';\n",
        "\n",
        "hist(ppath(detid==1,1),30)\n",
        "\n",
        "\n",
        "mcxmeanpath(detp.MCXData.PhotonData, prop)"
      ],
      "metadata": {
        "colab": {
          "base_uri": "https://localhost:8080/",
          "height": 969
        },
        "id": "Vnz4FUBkeTSY",
        "outputId": "b15ccfc0-239c-4571-a2fb-980160b145d0"
      },
      "execution_count": null,
      "outputs": [
        {
          "output_type": "display_data",
          "data": {
            "text/plain": [
              "ans ="
            ]
          },
          "metadata": {}
        },
        {
          "output_type": "display_data",
          "data": {
            "text/plain": [
              "{"
            ]
          },
          "metadata": {}
        },
        {
          "output_type": "display_data",
          "data": {
            "text/plain": [
              "  [1,1] = Info"
            ]
          },
          "metadata": {}
        },
        {
          "output_type": "display_data",
          "data": {
            "text/plain": [
              "  [2,1] = PhotonData"
            ]
          },
          "metadata": {}
        },
        {
          "output_type": "display_data",
          "data": {
            "text/plain": [
              "}"
            ]
          },
          "metadata": {}
        },
        {
          "output_type": "display_data",
          "data": {
            "text/plain": []
          },
          "metadata": {}
        },
        {
          "output_type": "display_data",
          "data": {
            "text/plain": [
              "ans ="
            ]
          },
          "metadata": {}
        },
        {
          "output_type": "display_data",
          "data": {
            "text/plain": []
          },
          "metadata": {}
        },
        {
          "output_type": "display_data",
          "data": {
            "text/plain": [
              "  scalar structure containing the fields:"
            ]
          },
          "metadata": {}
        },
        {
          "output_type": "display_data",
          "data": {
            "text/plain": []
          },
          "metadata": {}
        },
        {
          "output_type": "display_data",
          "data": {
            "text/plain": [
              "    Version = 1"
            ]
          },
          "metadata": {}
        },
        {
          "output_type": "display_data",
          "data": {
            "text/plain": [
              "    MediaNum = 6"
            ]
          },
          "metadata": {}
        },
        {
          "output_type": "display_data",
          "data": {
            "text/plain": [
              "    DetNum = 4"
            ]
          },
          "metadata": {}
        },
        {
          "output_type": "display_data",
          "data": {
            "text/plain": [
              "    ColumnNum = 13"
            ]
          },
          "metadata": {}
        },
        {
          "output_type": "display_data",
          "data": {
            "text/plain": [
              "    TotalPhoton = 1000000"
            ]
          },
          "metadata": {}
        },
        {
          "output_type": "display_data",
          "data": {
            "text/plain": [
              "    DetectedPhoton = 657"
            ]
          },
          "metadata": {}
        },
        {
          "output_type": "display_data",
          "data": {
            "text/plain": [
              "    SavedPhoton = 657"
            ]
          },
          "metadata": {}
        },
        {
          "output_type": "display_data",
          "data": {
            "text/plain": [
              "    LengthUnit = 1"
            ]
          },
          "metadata": {}
        },
        {
          "output_type": "display_data",
          "data": {
            "text/plain": [
              "    SeedByte = 0"
            ]
          },
          "metadata": {}
        },
        {
          "output_type": "display_data",
          "data": {
            "text/plain": [
              "    Normalizer = 200"
            ]
          },
          "metadata": {}
        },
        {
          "output_type": "display_data",
          "data": {
            "text/plain": [
              "    Repeat = 1"
            ]
          },
          "metadata": {}
        },
        {
          "output_type": "display_data",
          "data": {
            "text/plain": [
              "    SrcNum = 1"
            ]
          },
          "metadata": {}
        },
        {
          "output_type": "display_data",
          "data": {
            "text/plain": [
              "    SaveDetFlag = 53"
            ]
          },
          "metadata": {}
        },
        {
          "output_type": "display_data",
          "data": {
            "text/plain": [
              "    TotalSource = 1"
            ]
          },
          "metadata": {}
        },
        {
          "output_type": "display_data",
          "data": {
            "text/plain": [
              "    Media ="
            ]
          },
          "metadata": {}
        },
        {
          "output_type": "display_data",
          "data": {
            "text/plain": []
          },
          "metadata": {}
        },
        {
          "output_type": "display_data",
          "data": {
            "text/plain": [
              "      1x7 struct array containing the fields:"
            ]
          },
          "metadata": {}
        },
        {
          "output_type": "display_data",
          "data": {
            "text/plain": []
          },
          "metadata": {}
        },
        {
          "output_type": "display_data",
          "data": {
            "text/plain": [
              "        mua"
            ]
          },
          "metadata": {}
        },
        {
          "output_type": "display_data",
          "data": {
            "text/plain": [
              "        mus"
            ]
          },
          "metadata": {}
        },
        {
          "output_type": "display_data",
          "data": {
            "text/plain": [
              "        g"
            ]
          },
          "metadata": {}
        },
        {
          "output_type": "display_data",
          "data": {
            "text/plain": [
              "        n"
            ]
          },
          "metadata": {}
        },
        {
          "output_type": "display_data",
          "data": {
            "text/plain": []
          },
          "metadata": {}
        },
        {
          "output_type": "display_data",
          "data": {
            "text/plain": []
          },
          "metadata": {}
        },
        {
          "output_type": "display_data",
          "data": {
            "text/plain": [
              "ans ="
            ]
          },
          "metadata": {}
        },
        {
          "output_type": "display_data",
          "data": {
            "text/plain": []
          },
          "metadata": {}
        },
        {
          "output_type": "display_data",
          "data": {
            "text/plain": [
              "   46.8666    0.7695    0.0396    0.0136    0.0014         0"
            ]
          },
          "metadata": {}
        },
        {
          "output_type": "display_data",
          "data": {
            "text/plain": []
          },
          "metadata": {}
        },
        {
          "output_type": "display_data",
          "data": {
            "image/png": "[encoded data removed]",
            "text/plain": [
              "<IPython.core.display.Image object>"
            ]
          },
          "metadata": {}
        }
      ]
    },
    {
      "cell_type": "code",
      "source": [
        "# @title Detected photon output data format\n",
        "import jdata as jd\n",
        "import numpy as np\n",
        "from matplotlib import pyplot as plt\n",
        "\n",
        "detp = jd.load('colin27_detp.jdat')   # load JSON/JNIFTI file using jdata.load() function\n",
        "print(detp['MCXData']['Info'])\n",
        "\n",
        "detid=detp['MCXData']['PhotonData']['detid']\n",
        "ppath=detp['MCXData']['PhotonData']['ppath']\n",
        "\n",
        "plt.hist(ppath[:, 0])\n",
        "plt.show()"
      ],
      "metadata": {
        "colab": {
          "base_uri": "https://localhost:8080/",
          "height": 468
        },
        "id": "khSWgILWgRKn",
        "outputId": "3bd3abba-298f-499d-b55a-15460429da24"
      },
      "execution_count": null,
      "outputs": [
        {
          "output_type": "stream",
          "name": "stdout",
          "text": [
            "{'Version': 1, 'MediaNum': 6, 'DetNum': 4, 'ColumnNum': 13, 'TotalPhoton': 1000000, 'DetectedPhoton': 657, 'SavedPhoton': 657, 'LengthUnit': 1, 'SeedByte': 0, 'Normalizer': 200, 'Repeat': 1, 'SrcNum': 1, 'SaveDetFlag': 53, 'TotalSource': 1, 'Media': [{'mua': 0, 'mus': 1.19209289550781e-07, 'g': 1, 'n': 1}, {'mua': 0.0189999993890524, 'mus': 7.81820011138916, 'g': 0.8899999856948853, 'n': 1.3700000047683716}, {'mua': 0.0189999993890524, 'mus': 7.81820011138916, 'g': 0.8899999856948853, 'n': 1.3700000047683716}, {'mua': 0.00400000018998981, 'mus': 0.00899999961256981, 'g': 0.8899999856948853, 'n': 1.3700000047683716}, {'mua': 0.0199999995529652, 'mus': 9, 'g': 0.8899999856948853, 'n': 1.3700000047683716}, {'mua': 0.0799999982118607, 'mus': 40.900001525878906, 'g': 0.8399999737739563, 'n': 1.3700000047683716}, {'mua': 0, 'mus': 1.19209289550781e-07, 'g': 1, 'n': 1}]}\n"
          ]
        },
        {
          "output_type": "display_data",
          "data": {
            "text/plain": [
              "<Figure size 640x480 with 1 Axes>"
            ],
            "image/png": "[encoded data removed]"
          },
          "metadata": {}
        }
      ]
    },
    {
      "cell_type": "markdown",
      "source": [
        "### Saving photon trajectories"
      ],
      "metadata": {
        "id": "K4XTRTZ26dbO"
      }
    },
    {
      "cell_type": "markdown",
      "source": [
        "MCX has the capability to save the trajectories of all simulated photon packets. A photon's trajectory is intuitive to visualize. However, before one starts using this feature, **one must reconginize the following limitations:**\n",
        "\n",
        "- saving photon trajectories requires a lot of GPU memory, CPU memory and disk space; savig the full trajectory data for 1e6 photo packets can easily fill out the entire GPU memory\n",
        "- because of high memory access (which is the slowest part of GPU computing), the simulation speed can be an order of magnitude slower\n",
        "- a common mistake among users is to treat each photo packet trajectory equivallent to another, as if they are from binary/quantum photons. One must recognize that each simulated photon packet in MCX has different weights and such weight varies along its trajectory. To compute any physically meaningful quantity, one must carefully consider the weighted nature of each trajectory segment. To rigirously process large amount of weight-varying trajectory data can be very time consuming and prone to error.\n",
        "- a saved photon trajectory is merely a random sample from a continuous distribution of photon distributions; one can not treat such trajectory without considering its stochastic nature - for example, one can not use it to determine the maximum penetration of photon because when you simulate another set of photons, such trajectory will change\n",
        "- please consider using the volumetric output (fluence-rate, fluence, energy deposition, Jacobian etc) instead of post-processing trajectory data manually. Effectively, the volumetric outputs were derived from such trajectories internally by MCX using GPU parallel threads; they were physically meaningful, unbiased and computed efficiently.\n",
        "\n",
        "Nonetheless, we do recognize the benefit of exporting photon trajectories for the purpose of debugging photon propagations (such as reflection/transmission). You should consider using only a small amount of photon when saving trajectories and do not over-interpret the results.\n",
        "\n",
        "To save photon trajectories, one should add letter `M` following the debug flag `-D` or `--debug`. The output data are saved in a JSON encoded data file `session_name_traj.jdat`. For example"
      ],
      "metadata": {
        "id": "_a5KxRgU6g-m"
      }
    },
    {
      "cell_type": "code",
      "source": [
        "!mcx --bench cube60 -n 100  -D M  -S 0  -d 0 # to speed up this demo, we use -S/--save2pt 0 to disable volumetric output and -d/--savedet 0 to disable detected photon data\n",
        "!jq '.MCXData.Trajectory | keys' cube60_traj.jdat"
      ],
      "metadata": {
        "colab": {
          "base_uri": "https://localhost:8080/"
        },
        "id": "GHPHtHmFAhF2",
        "outputId": "1a7b1267-d0f9-47c5-de69-fca2eda86815"
      },
      "execution_count": null,
      "outputs": [
        {
          "output_type": "stream",
          "name": "stdout",
          "text": [
            "\u001b[35m###############################################################################\n",
            "#                      Monte Carlo eXtreme (MCX) -- CUDA                      #\n",
            "#          Copyright (c) 2009-2024 Qianqian Fang <q.fang at neu.edu>          #\n",
            "#\u001b[34m                https://mcx.space/  &  https://neurojson.io/                 \u001b[35m#\n",
            "#                                                                             #\n",
            "# Computational Optics & Translational Imaging (COTI) Lab- \u001b[34mhttp://fanglab.org \u001b[35m#\n",
            "#   Department of Bioengineering, Northeastern University, Boston, MA, USA    #\n",
            "###############################################################################\n",
            "#    The MCX Project is funded by the NIH/NIGMS under grant R01-GM114365      #\n",
            "###############################################################################\n",
            "#  Open-source codes and reusable scientific data are essential for research, #\n",
            "# MCX proudly developed human-readable JSON-based data formats for easy reuse.#\n",
            "#                                                                             #\n",
            "#Please visit our free scientific data sharing portal at \u001b[34mhttps://neurojson.io/\u001b[35m#\n",
            "# and consider sharing your public datasets in standardized JSON/JData format #\n",
            "###############################################################################\n",
            "$Rev::d66a0a$\u001b[32mv2024.6\u001b[35m $Date::2024-06-11 18:30:04 -04$ by $Author::Qianqian Fang$\n",
            "###############################################################################\n",
            "\u001b[0m- code name: [Jumbo Jolt] compiled by nvcc [9.0] for CUDA-arch [350] on [Jun 16 2024]\n",
            "- compiled with: RNG [xorshift128+] with Seed Length [4]\n",
            "\n",
            "GPU=1 (Tesla T4) threadph=0 extra=100 np=100 nthread=81920 maxgate=1 repetition=1\n",
            "initializing streams ...\tinit complete : 0 ms\n",
            "requesting 1280 bytes of shared memory\n",
            "\u001b[36mlaunching MCX simulation for time window [0.00e+00ns 5.00e+00ns] ...\n",
            "\u001b[0msimulation run# 1 ... \n",
            "kernel complete:  \t28 ms\n",
            "retrieving fields ... \tsaved 8127 trajectory positions, total: 8127\tcompressing data [zlib] ...compression ratio: 16.1%\tafter encoding: 21.4%\n",
            "compressing data [zlib] ...compression ratio: 87.8%\tafter encoding: 117.1%\n",
            "compressing data [zlib] ...compression ratio: 89.3%\tafter encoding: 119.1%\n",
            "compressing data [zlib] ...compression ratio: 0.2%\tafter encoding: 0.2%\n",
            "simulated 100 photons (100) with 81920 threads (repeat x1)\n",
            "MCX simulation speed: \u001b[1m\u001b[34m14.29 photon/ms\n",
            "\u001b[0mtotal simulated energy: 100.00\tabsorbed: \u001b[1m\u001b[34m17.45269%\u001b[0m\n",
            "(loss due to initial specular reflection is excluded in the total)\n",
            "\u001b[1;39m[\n",
            "  \u001b[0;32m\"p\"\u001b[0m\u001b[1;39m,\n",
            "  \u001b[0;32m\"photonid\"\u001b[0m\u001b[1;39m,\n",
            "  \u001b[0;32m\"srcid\"\u001b[0m\u001b[1;39m,\n",
            "  \u001b[0;32m\"w0\"\u001b[0m\u001b[1;39m\n",
            "\u001b[1;39m]\u001b[0m\n"
          ]
        }
      ]
    },
    {
      "cell_type": "code",
      "source": [
        "%%octave\n",
        "# @title Loading photon trajectory data in MATLAB/Octave\n",
        "\n",
        "trajdata=loadjson('cube60_traj.jdat');\n",
        "trajdata=trajdata.MCXData.Trajectory;\n",
        "traj=struct('id', trajdata.photonid, 'pos', trajdata.p, 'data', [trajdata.photonid, trajdata.p, trajdata.w0]');\n",
        "\n",
        "mcxplotphotons(traj)"
      ],
      "metadata": {
        "id": "QtGLM6yNBQZK",
        "colab": {
          "base_uri": "https://localhost:8080/",
          "height": 437
        },
        "outputId": "96fd1a63-c775-4186-e42b-f97c07a2d6c4"
      },
      "execution_count": null,
      "outputs": [
        {
          "output_type": "display_data",
          "data": {
            "image/png": "[encoded data removed]",
            "text/plain": [
              "<IPython.core.display.Image object>"
            ]
          },
          "metadata": {}
        }
      ]
    },
    {
      "cell_type": "code",
      "source": [
        "# @title Loading photon trajectory data in Python\n",
        "\n",
        "import jdata as jd\n",
        "import numpy as np\n",
        "from matplotlib import pyplot as plt\n",
        "\n",
        "traj=jd.load('cube60_traj.jdat')\n",
        "traj=traj['MCXData']['Trajectory']\n",
        "\n",
        "print(traj['p'].shape)\n",
        "print(traj.keys())"
      ],
      "metadata": {
        "colab": {
          "base_uri": "https://localhost:8080/"
        },
        "id": "1mXIUFVrDlvz",
        "outputId": "02697717-c3a5-4acc-fcb0-818862b5e857"
      },
      "execution_count": null,
      "outputs": [
        {
          "output_type": "stream",
          "name": "stdout",
          "text": [
            "(8127, 3)\n",
            "dict_keys(['photonid', 'p', 'w0', 'srcid'])\n"
          ]
        }
      ]
    },
    {
      "cell_type": "markdown",
      "source": [
        "A side note - another commonly used debug flag is `-D P` to print simulation progress bar."
      ],
      "metadata": {
        "id": "dwQzljFiENX5"
      }
    },
    {
      "cell_type": "code",
      "source": [
        "!mcx --bench colin27 -n 1e6 -D P"
      ],
      "metadata": {
        "id": "9WrziqOGELtv"
      },
      "execution_count": null,
      "outputs": []
    },
    {
      "cell_type": "markdown",
      "source": [
        "## Command line \"modify-all\" flag `-j/--json`\n",
        "\n",
        "MCX reads user's input primarily from the input JSON file (when `--bench` is used, the built-in JSON input file is loaded instead). However, one can modify nearly every aspect of the simulation settings in the command line using the `-j` or `--json` flag.\n",
        "\n",
        "Here is an example how it works: let's change the source type from a `pencil` beam to an `isotropic` source for the `cube60` benchmark, and also move the source position from [29,29,0] to [29,10,0]"
      ],
      "metadata": {
        "id": "n_RwcjB_Eslf"
      }
    },
    {
      "cell_type": "code",
      "source": [
        "%%shell\n",
        "\n",
        "# modify the simulation settings using -j and dump the combined JSON input\n",
        "mcx --bench cube60 -j '{\"Optode\":{\"Source\":{\"Type\":\"isotropic\",\"Pos\":[29,10,0]}}}' --dumpjson\n",
        "# run the simulation after modification - notice the total absorption fraction drops from 17.7% to 5%\n",
        "mcx --bench cube60 -j '{\"Optode\":{\"Source\":{\"Type\":\"isotropic\",\"Pos\":[29,10,0]}}}'"
      ],
      "metadata": {
        "id": "9cxtmFjoFtTB"
      },
      "execution_count": null,
      "outputs": []
    },
    {
      "cell_type": "markdown",
      "source": [
        "Here is another example that you can build sophisticated domains at simulation run-time via the `-j` flag."
      ],
      "metadata": {
        "id": "jnYTyUktHn0h"
      }
    },
    {
      "cell_type": "code",
      "source": [
        "%%shell\n",
        "\n",
        "# modify media optical properties and add shapes at run-time\n",
        "# notice that Domain.Media JSON field also accept array-of-1x4-vector input\n",
        "\n",
        "newsetting='{\"Domain\":{\"Media\":[[0,0,1,1],[0.02,1,0,1],[0.02,1,0.7,1.3],[0.4,1,0,1.4]]},\"Shapes\":[{\"ZLayers\":[[2,10,2]]},{\"Sphere\":{\"Tag\":3,\"O\":[20,20,20],\"R\":10}}]}'\n",
        "echo $newsetting | jq '.'\n",
        "\n",
        "mcx --bench cube60b -j $newsetting --dumpjson\n",
        "mcx --bench cube60b -j $newsetting"
      ],
      "metadata": {
        "id": "PAbCPMC_H3AD"
      },
      "execution_count": null,
      "outputs": []
    },
    {
      "cell_type": "markdown",
      "source": [
        "Using a combination of the built-in benchmarks and the `-j` flag, we have dynamically created various simulation settings in our MCX built-in unit-testing script to validate many of the simulation features provided by the software. Please take a look at our [testmcx.sh shell script](https://github.com/fangq/mcx/blob/master/test/testmcx.sh) to see extended use of this flag."
      ],
      "metadata": {
        "id": "thJ_-s5uME0z"
      }
    },
    {
      "cell_type": "code",
      "source": [
        "# @title Run built-in unit tests in the command line mode\n",
        "# if all tests have passed, you should see \"passed all tests!\" printed at the end\n",
        "\n",
        "!MCXStudio/MCXSuite/mcx/test/testmcx.sh"
      ],
      "metadata": {
        "id": "fpwqyY-2Mylm"
      },
      "execution_count": null,
      "outputs": []
    },
    {
      "cell_type": "markdown",
      "source": [
        "## Command line user input parsing order\n",
        "\n",
        "<font color='red'>later command line flags</font> > <font color='orange'>earlier command line flags</font> > <font color='green'>`-j`/`--json` modifier</font> > <font color='blue'>JSON input file</font> > <font color='navy'>MCX default settings</a>"
      ],
      "metadata": {
        "id": "LYn9gAQGNlY9"
      }
    },
    {
      "cell_type": "code",
      "source": [
        "# print the simulated photon number for built-in benchmark spherebox\n",
        "! mcx --bench spherebox --dumpjson | jq '.Session.Photons'\n",
        "\n",
        "# specify the photon number via -n flag to overwrite the input file\n",
        "! mcx --bench spherebox -n 1e4 --dumpjson | jq '.Session.Photons'\n",
        "\n",
        "# specify the photon number via -j flag to overwrite the input file\n",
        "! mcx --bench spherebox -j '{\"Session\":{\"Photons\":2e3}}' --dumpjson | jq '.Session.Photons'\n",
        "\n",
        "# when both -n and -j are both provided, -n takes priority; when multiple -n are given, later flag takes priority\n",
        "! mcx --bench spherebox -n 1e4 -j '{\"Session\":{\"Photons\":2e3}}' -n 1e3 -j '{\"Session\":{\"Photons\":1e5}}'  --dumpjson | jq '.Session.Photons'"
      ],
      "metadata": {
        "id": "SOUC29cJOFGr"
      },
      "execution_count": null,
      "outputs": []
    },
    {
      "cell_type": "markdown",
      "source": [
        "# MCX JSON input file playground\n",
        "\n",
        "To wrap up this training unit, here is a full JSON input file that user can adjust various settings"
      ],
      "metadata": {
        "id": "sQpTFBOBP58u"
      }
    },
    {
      "cell_type": "code",
      "source": [
        "%%shell\n",
        "# @title MCX input file playground\n",
        "# you can simply edit any setting, as long as it matches the desired format in the below JSON file\n",
        "# you can also use the form on the right to togle b\n",
        "\n",
        "session=\"mytest\" # @param {type:\"string\"}\n",
        "outputtype=\"x\" # @param [\"x\",\"f\",\"e\"]\n",
        "outputformat=\"jnii\" # @param [\"jnii\",\"nii\",\"mc2\",\"bnii\"]\n",
        "srctype=\"pencil\" # @param [\"pencil\", \"isotropic\", \"cone\", \"gaussian\", \"planar\",\"fourier\", \"arcsine\", \"disk\", \"fourierx\", \"fourierx2d\", \"zgaussian\", \"line\", \"slit\", \"pencilarray\", \"hyperboloid\", \"ring\"]\n",
        "srcpos=\"29.5, 29.5, 0\" # @param {type: \"raw\"}\n",
        "srcdir=\"0, 0, 1\"       # @param {type: \"raw\"}\n",
        "srcparam1=\"0, 0, 0, 0\" # @param {type: \"raw\"}\n",
        "srcparam2=\"0, 0, 0, 0\" # @param {type: \"raw\"}\n",
        "\n",
        "cat << EOF > mytest_input.json\n",
        "{\n",
        "  \"Session\":  {\n",
        "    \"ID\":  \"$session\",\n",
        "    \"Photons\":  1000000,\n",
        "    \"RNGSeed\":  1648335518,\n",
        "    \"DoMismatch\":  false,\n",
        "    \"OutputType\":  \"$outputtype\",\n",
        "    \"OutputFormat\":  \"$outputformat\"\n",
        "  },\n",
        "  \"Forward\":  {\n",
        "    \"T0\":  0,\n",
        "    \"T1\":  5e-9,\n",
        "    \"Dt\":  1e-10\n",
        "  },\n",
        "  \"Domain\":  {\n",
        "    \"Media\":  [\n",
        "      {\"mua\":  0, \"mus\":  0, \"g\":  1, \"n\":  1  },\n",
        "      {\"mua\":  0.002, \"mus\":  1.0, \"g\":  0.001, \"n\":  1.37},\n",
        "      {\"mua\":  0.05, \"mus\":  5, \"g\":  0.9, \"n\":  1.37}\n",
        "    ],\n",
        "    \"Dim\":  [60, 60, 60],\n",
        "    \"OriginType\":  1\n",
        "  },\n",
        "  \"Optode\":  {\n",
        "    \"Source\":  {\n",
        "      \"Type\":  \"$srctype\",\n",
        "      \"Pos\":  [$srcpos],\n",
        "      \"Dir\":  [$srcdir],\n",
        "      \"Param1\":  [$srcparam1],\n",
        "      \"Param2\":  [$srcparam2]\n",
        "    },\n",
        "    \"Detector\":  [{\n",
        "        \"Pos\":  [29, 25, 0], \"R\":  1\n",
        "      }]\n",
        "  },\n",
        "  \"Shapes\": [\n",
        "    {\"Grid\": {\"Tag\": 1, \"Size\":  [60, 60, 60]}},\n",
        "    {\"Sphere\": {\"Tag\":  2, \"O\":  [30, 30, 30],\"R\":  10}}\n",
        "  ]\n",
        "}\n",
        "EOF\n",
        "\n",
        "mcx -f mytest_input.json\n",
        "\n",
        "ls $session*"
      ],
      "metadata": {
        "id": "6KePtrKvP9Fb"
      },
      "execution_count": null,
      "outputs": []
    }
  ]
}